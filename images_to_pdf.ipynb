{
 "cells": [
  {
   "cell_type": "code",
   "execution_count": 14,
   "id": "05ff7145-7e44-42d2-b83a-0cfafa36acf1",
   "metadata": {},
   "outputs": [],
   "source": [
    "import os\n",
    "import img2pdf\n",
    "import glob\n",
    "import fitz"
   ]
  },
  {
   "cell_type": "code",
   "execution_count": 15,
   "id": "86ed94a8-6df1-4803-bc9e-eb8cd61c68bb",
   "metadata": {},
   "outputs": [],
   "source": [
    "main_folder_path = r\"G:\\MCA\\Semester 1\\Foundation of Computer Systems\\week 1_2_3_4_5\"\n",
    "path_to_pdf = main_folder_path + \"\\\\quiz_week_8.pdf\""
   ]
  },
  {
   "cell_type": "code",
   "execution_count": 10,
   "id": "722ce993-4e48-4b46-9029-162ff77bdabe",
   "metadata": {},
   "outputs": [],
   "source": [
    "list_png_paths = sorted(glob.glob(main_folder_path+\"\\*.png\"), key=os.path.getmtime)"
   ]
  },
  {
   "cell_type": "code",
   "execution_count": 11,
   "id": "0e5f0bbf-4865-4b6d-a066-11cd8f04fd65",
   "metadata": {},
   "outputs": [
    {
     "name": "stderr",
     "output_type": "stream",
     "text": [
      "Image contains an alpha channel which will be stored as a separate soft mask (/SMask) image in PDF.\n",
      "Image contains an alpha channel which will be stored as a separate soft mask (/SMask) image in PDF.\n",
      "Image contains an alpha channel which will be stored as a separate soft mask (/SMask) image in PDF.\n"
     ]
    }
   ],
   "source": [
    "with open(path_to_pdf, \"wb\") as f:\n",
    "    f.write(img2pdf.convert(list_png_paths))"
   ]
  },
  {
   "cell_type": "code",
   "execution_count": 16,
   "id": "8e426097-695c-498e-9fa4-94fb189a3b84",
   "metadata": {},
   "outputs": [],
   "source": [
    "#pdf_merge\n",
    "final_pdf = fitz.open()\n",
    "list_pdf_paths = sorted(glob.glob(main_folder_path+\"\\week_*.pdf\"), key=os.path.getmtime)"
   ]
  },
  {
   "cell_type": "code",
   "execution_count": 17,
   "id": "2ce86158-7e43-41e3-b502-83031d497bc1",
   "metadata": {},
   "outputs": [
    {
     "data": {
      "text/plain": [
       "['G:\\\\MCA\\\\Semester 1\\\\Foundation of Computer Systems\\\\week 1_2_3_4_5\\\\week_1.pdf',\n",
       " 'G:\\\\MCA\\\\Semester 1\\\\Foundation of Computer Systems\\\\week 1_2_3_4_5\\\\week_2_2.pdf',\n",
       " 'G:\\\\MCA\\\\Semester 1\\\\Foundation of Computer Systems\\\\week 1_2_3_4_5\\\\week_2.pdf',\n",
       " 'G:\\\\MCA\\\\Semester 1\\\\Foundation of Computer Systems\\\\week 1_2_3_4_5\\\\week_3.pdf']"
      ]
     },
     "execution_count": 17,
     "metadata": {},
     "output_type": "execute_result"
    }
   ],
   "source": [
    "list_pdf_paths"
   ]
  },
  {
   "cell_type": "code",
   "execution_count": 18,
   "id": "c7c9360d-8987-4e0c-ad0b-630c67cb4a23",
   "metadata": {},
   "outputs": [],
   "source": [
    "for pdf_file in list_pdf_paths:\n",
    "    file_handle_book = fitz.open(pdf_file)\n",
    "    final_pdf.insert_pdf(file_handle_book)\n",
    "    file_handle_book.close()\n",
    "\n",
    "final_pdf.save(main_folder_path+\"\\\\Week_2_3.pdf\")\n",
    "final_pdf.close()"
   ]
  },
  {
   "cell_type": "code",
   "execution_count": null,
   "id": "b6816b5d-3f66-447c-81c6-d38ca060dbcd",
   "metadata": {},
   "outputs": [],
   "source": []
  }
 ],
 "metadata": {
  "kernelspec": {
   "display_name": "Python 3",
   "language": "python",
   "name": "python3"
  },
  "language_info": {
   "codemirror_mode": {
    "name": "ipython",
    "version": 3
   },
   "file_extension": ".py",
   "mimetype": "text/x-python",
   "name": "python",
   "nbconvert_exporter": "python",
   "pygments_lexer": "ipython3",
   "version": "3.8.3"
  }
 },
 "nbformat": 4,
 "nbformat_minor": 5
}
