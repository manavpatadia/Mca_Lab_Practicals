{
 "cells": [
  {
   "cell_type": "markdown",
   "id": "9e2698fa",
   "metadata": {},
   "source": [
    "# <font color='orange'> <center> LAB 4 <br> Logistic Regression for Classification"
   ]
  },
  {
   "cell_type": "markdown",
   "id": "a8b21d36",
   "metadata": {},
   "source": [
    "## <font color='orange'> PART A: Prerequisite for Linear Regression implementation"
   ]
  },
  {
   "cell_type": "markdown",
   "id": "31bcd121",
   "metadata": {},
   "source": [
    "### <font color='orange'> 1. Plot the attached dataset data1.csv using scatter plot. There is a target feature with discrete values 0,1. If the target feature is 1, the samples should be shown as red circle. If the target feature is 0, the samples should be shown as green x."
   ]
  },
  {
   "cell_type": "markdown",
   "id": "df264c24",
   "metadata": {},
   "source": [
    "### <font color='orange'> 2. Plot a line y=(2x+3)"
   ]
  },
  {
   "cell_type": "markdown",
   "id": "eac8a3f3",
   "metadata": {},
   "source": [
    "### <font color='orange'> 3. Define a function sigmoid(z) that takes one parameter z and computes 1/(1+e^-z). Create a vector V with 10 values randomly in the range [-1000,1000]. Transform V to V' that consists of respective sigmoid values using the defined function. Observe the range of output values in V'."
   ]
  },
  {
   "cell_type": "markdown",
   "id": "2ce35bf2",
   "metadata": {},
   "source": [
    "### <font color='orange'> 4. Define a function hypothesis(theta, X) that takes two vectors as parameters, theta and X. If sigmoid(theta.X) >= 0.5, output 0 else output 1."
   ]
  },
  {
   "cell_type": "markdown",
   "id": "d7fd8db2",
   "metadata": {},
   "source": [
    "### <font color='orange'> 5. Define a function cost(theta,X,y) to compute the error <br> Error = 1/m*Σ-yilog(hθ(xi)) - (1-yi)log(1-hθ (xi)) <br> Where xi is the ith sample and yi is the ith label, hθ(xi) is the hypothesis(theta,xi)"
   ]
  },
  {
   "cell_type": "markdown",
   "id": "051818d0",
   "metadata": {},
   "source": [
    "## <font color='orange'> PART B : Implementation of logistic regression"
   ]
  },
  {
   "cell_type": "markdown",
   "id": "a4137591",
   "metadata": {},
   "source": [
    "### <font color='orange'>  6. Implement gradient descent algorithm for logistic regression in data set loan_data.csv. <br> - read training dataset <br> - convert dataset to a feature matrix X <br> - normalizing feature matrix X <br> - stack columns with all ones in feature matrix <br> - target feature to be taken in a separate vector <br> - initial theta values <br> - gradient descent updation <br> - Display estimated theta values and number of iterations to converge <br> - Predict for test data"
   ]
  },
  {
   "cell_type": "markdown",
   "id": "32a9ce12",
   "metadata": {},
   "source": [
    "### <font color='orange'> 7. Use sklearn built in function to find the model"
   ]
  },
  {
   "cell_type": "markdown",
   "id": "4d4d4263",
   "metadata": {},
   "source": [
    "## <font color='orange'> PART C: Performance Evaluation of the classifier"
   ]
  },
  {
   "cell_type": "markdown",
   "id": "5ea28f16",
   "metadata": {},
   "source": [
    "### <font color='orange'> 8. Compute confusion matrix."
   ]
  },
  {
   "cell_type": "markdown",
   "id": "00c4a572",
   "metadata": {},
   "source": [
    "### <font color='orange'> 9. Compute the accuracy score."
   ]
  },
  {
   "cell_type": "markdown",
   "id": "99b90ad7",
   "metadata": {},
   "source": [
    "### <font color='orange'> 10. Print a classification report using the following sklearn function"
   ]
  },
  {
   "cell_type": "markdown",
   "id": "04b39db9",
   "metadata": {},
   "source": [
    "### <font color='orange'> 11. Plot ROC curve for loan status"
   ]
  },
  {
   "cell_type": "markdown",
   "id": "cf8e9282",
   "metadata": {},
   "source": [
    "### <font color='orange'> 12. Compare the performance of classifiers obtained in 6 and 7"
   ]
  },
  {
   "cell_type": "markdown",
   "id": "5271614b",
   "metadata": {},
   "source": [
    "## <font color='orange'> PART D: Extra credit"
   ]
  },
  {
   "cell_type": "markdown",
   "id": "61343bac",
   "metadata": {},
   "source": [
    "### <font color='orange'> 13. Extend the logistic regression algorithm for three class data set."
   ]
  }
 ],
 "metadata": {
  "kernelspec": {
   "display_name": "Python 3",
   "language": "python",
   "name": "python3"
  },
  "language_info": {
   "codemirror_mode": {
    "name": "ipython",
    "version": 3
   },
   "file_extension": ".py",
   "mimetype": "text/x-python",
   "name": "python",
   "nbconvert_exporter": "python",
   "pygments_lexer": "ipython3",
   "version": "3.8.3"
  }
 },
 "nbformat": 4,
 "nbformat_minor": 5
}
