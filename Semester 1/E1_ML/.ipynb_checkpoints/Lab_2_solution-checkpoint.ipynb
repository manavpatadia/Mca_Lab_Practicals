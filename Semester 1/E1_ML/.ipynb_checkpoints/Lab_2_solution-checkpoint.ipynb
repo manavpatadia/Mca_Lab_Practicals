{
 "cells": [
  {
   "cell_type": "markdown",
   "id": "4bc69a20",
   "metadata": {},
   "source": [
    "# <font color='gold'> <center> LAB 2"
   ]
  },
  {
   "cell_type": "markdown",
   "id": "3b10d0a7",
   "metadata": {},
   "source": [
    "## <font color='gold'> PART A : Prerequisite for kNN implementation.(Q1. – Q.12 may help you to implement kNN on your own ) </font>"
   ]
  },
  {
   "cell_type": "markdown",
   "id": "6ecf9af3",
   "metadata": {},
   "source": [
    "### <font color='gold'>1. Create two vectors using numpy and check how many values are equal in the two vectors.</font>"
   ]
  },
  {
   "cell_type": "code",
   "execution_count": 1,
   "id": "63565e13",
   "metadata": {},
   "outputs": [],
   "source": [
    "import numpy as np\n",
    "import pandas as pd\n",
    "import matplotlib.pyplot as plt\n",
    "plt.style.use(\"Solarize_Light2\")\n",
    "np.random.seed(9)\n",
    "np.set_printoptions(suppress=True)"
   ]
  },
  {
   "cell_type": "code",
   "execution_count": 2,
   "id": "92c83579",
   "metadata": {},
   "outputs": [],
   "source": [
    "V1 = np.array([1, 6, 7, 9])\n",
    "V2 = np.array([1, 0, 6, 9])"
   ]
  },
  {
   "cell_type": "code",
   "execution_count": 3,
   "id": "7fcef761",
   "metadata": {},
   "outputs": [
    {
     "data": {
      "text/plain": [
       "array([ True, False, False,  True])"
      ]
     },
     "execution_count": 3,
     "metadata": {},
     "output_type": "execute_result"
    }
   ],
   "source": [
    "V1==V2"
   ]
  },
  {
   "cell_type": "code",
   "execution_count": 4,
   "id": "b7dd8023",
   "metadata": {},
   "outputs": [
    {
     "name": "stdout",
     "output_type": "stream",
     "text": [
      "Number of values common in V1 & V2:  2\n"
     ]
    }
   ],
   "source": [
    "print(\"Number of values common in V1 & V2: \", np.sum(V1==V2))"
   ]
  },
  {
   "cell_type": "markdown",
   "id": "0ea37923",
   "metadata": {},
   "source": [
    "### <font color='gold'>2. Matrix creation using numpy</font>"
   ]
  },
  {
   "cell_type": "markdown",
   "id": "134a35bb",
   "metadata": {},
   "source": [
    "#### <font color='gold'>a. Create a matrix M with 10 rows and 3 columns and populate with random values. </font>"
   ]
  },
  {
   "cell_type": "code",
   "execution_count": 5,
   "id": "28c8d41f",
   "metadata": {},
   "outputs": [],
   "source": [
    "rng = np.random.default_rng() "
   ]
  },
  {
   "cell_type": "code",
   "execution_count": 6,
   "id": "b82dca36",
   "metadata": {},
   "outputs": [
    {
     "data": {
      "text/plain": [
       "array([[602, 149, 524],\n",
       "       [172, 740, 680],\n",
       "       [784, 744, 770],\n",
       "       [757,  62, 462],\n",
       "       [689, 114, 711],\n",
       "       [359, 406, 665],\n",
       "       [722, 428, 773],\n",
       "       [389, 131, 682],\n",
       "       [277, 423,  62],\n",
       "       [680, 436, 119]], dtype=int64)"
      ]
     },
     "execution_count": 6,
     "metadata": {},
     "output_type": "execute_result"
    }
   ],
   "source": [
    "M = rng.integers(1000, size=(10, 3))\n",
    "M"
   ]
  },
  {
   "cell_type": "markdown",
   "id": "bf406c97",
   "metadata": {},
   "source": [
    "#### <font color='gold'>b. Print size of M.</font>"
   ]
  },
  {
   "cell_type": "code",
   "execution_count": 7,
   "id": "706ce570",
   "metadata": {},
   "outputs": [
    {
     "name": "stdout",
     "output_type": "stream",
     "text": [
      "Size of M:  (10, 3)\n"
     ]
    }
   ],
   "source": [
    "print(\"Size of M: \", M.shape)"
   ]
  },
  {
   "cell_type": "markdown",
   "id": "720485ae",
   "metadata": {},
   "source": [
    "#### <font color='gold'>c. Print only number of rows of M</font>"
   ]
  },
  {
   "cell_type": "code",
   "execution_count": 8,
   "id": "55d2509d",
   "metadata": {},
   "outputs": [
    {
     "name": "stdout",
     "output_type": "stream",
     "text": [
      "Number of rows of M:  10\n"
     ]
    }
   ],
   "source": [
    "print(\"Number of rows of M: \", M.shape[0])"
   ]
  },
  {
   "cell_type": "markdown",
   "id": "d0d8fcce",
   "metadata": {},
   "source": [
    "#### <font color='gold'>d. Print only number of columns of M</font>"
   ]
  },
  {
   "cell_type": "code",
   "execution_count": 9,
   "id": "52fdab99",
   "metadata": {},
   "outputs": [
    {
     "name": "stdout",
     "output_type": "stream",
     "text": [
      "Number of columns of M:  3\n"
     ]
    }
   ],
   "source": [
    "print(\"Number of columns of M: \", M.shape[1])"
   ]
  },
  {
   "cell_type": "markdown",
   "id": "38a7959b",
   "metadata": {},
   "source": [
    "#### <font color='gold'>e. Write a simple loop to modify third column as follows: If sum of first two columns is divisible by 4, Y should be 1 else 0.</font>"
   ]
  },
  {
   "cell_type": "code",
   "execution_count": 10,
   "id": "a3ffbe27",
   "metadata": {},
   "outputs": [],
   "source": [
    "for i in range(len(M)):\n",
    "    s = M[i][0] + M[i][1]\n",
    "    if( (s % 4) == 0):\n",
    "        M[i][2] = 1\n",
    "    else:\n",
    "        M[i][2] = 0"
   ]
  },
  {
   "cell_type": "code",
   "execution_count": 11,
   "id": "dc7ab7c5",
   "metadata": {},
   "outputs": [
    {
     "data": {
      "text/plain": [
       "array([[602, 149,   0],\n",
       "       [172, 740,   1],\n",
       "       [784, 744,   1],\n",
       "       [757,  62,   0],\n",
       "       [689, 114,   0],\n",
       "       [359, 406,   0],\n",
       "       [722, 428,   0],\n",
       "       [389, 131,   1],\n",
       "       [277, 423,   1],\n",
       "       [680, 436,   1]], dtype=int64)"
      ]
     },
     "execution_count": 11,
     "metadata": {},
     "output_type": "execute_result"
    }
   ],
   "source": [
    "M"
   ]
  },
  {
   "cell_type": "markdown",
   "id": "151df9c1",
   "metadata": {},
   "source": [
    "### <font color='gold'>3. Create a pandas dataframe ‘df’ from the created matrix M and name the columns as X1,X2, and Y.</font>"
   ]
  },
  {
   "cell_type": "code",
   "execution_count": 12,
   "id": "3c443ad9",
   "metadata": {},
   "outputs": [
    {
     "data": {
      "text/html": [
       "<div>\n",
       "<style scoped>\n",
       "    .dataframe tbody tr th:only-of-type {\n",
       "        vertical-align: middle;\n",
       "    }\n",
       "\n",
       "    .dataframe tbody tr th {\n",
       "        vertical-align: top;\n",
       "    }\n",
       "\n",
       "    .dataframe thead th {\n",
       "        text-align: right;\n",
       "    }\n",
       "</style>\n",
       "<table border=\"1\" class=\"dataframe\">\n",
       "  <thead>\n",
       "    <tr style=\"text-align: right;\">\n",
       "      <th></th>\n",
       "      <th>X1</th>\n",
       "      <th>X2</th>\n",
       "      <th>Y</th>\n",
       "    </tr>\n",
       "  </thead>\n",
       "  <tbody>\n",
       "    <tr>\n",
       "      <th>0</th>\n",
       "      <td>602</td>\n",
       "      <td>149</td>\n",
       "      <td>0</td>\n",
       "    </tr>\n",
       "    <tr>\n",
       "      <th>1</th>\n",
       "      <td>172</td>\n",
       "      <td>740</td>\n",
       "      <td>1</td>\n",
       "    </tr>\n",
       "    <tr>\n",
       "      <th>2</th>\n",
       "      <td>784</td>\n",
       "      <td>744</td>\n",
       "      <td>1</td>\n",
       "    </tr>\n",
       "    <tr>\n",
       "      <th>3</th>\n",
       "      <td>757</td>\n",
       "      <td>62</td>\n",
       "      <td>0</td>\n",
       "    </tr>\n",
       "    <tr>\n",
       "      <th>4</th>\n",
       "      <td>689</td>\n",
       "      <td>114</td>\n",
       "      <td>0</td>\n",
       "    </tr>\n",
       "    <tr>\n",
       "      <th>5</th>\n",
       "      <td>359</td>\n",
       "      <td>406</td>\n",
       "      <td>0</td>\n",
       "    </tr>\n",
       "    <tr>\n",
       "      <th>6</th>\n",
       "      <td>722</td>\n",
       "      <td>428</td>\n",
       "      <td>0</td>\n",
       "    </tr>\n",
       "    <tr>\n",
       "      <th>7</th>\n",
       "      <td>389</td>\n",
       "      <td>131</td>\n",
       "      <td>1</td>\n",
       "    </tr>\n",
       "    <tr>\n",
       "      <th>8</th>\n",
       "      <td>277</td>\n",
       "      <td>423</td>\n",
       "      <td>1</td>\n",
       "    </tr>\n",
       "    <tr>\n",
       "      <th>9</th>\n",
       "      <td>680</td>\n",
       "      <td>436</td>\n",
       "      <td>1</td>\n",
       "    </tr>\n",
       "  </tbody>\n",
       "</table>\n",
       "</div>"
      ],
      "text/plain": [
       "    X1   X2  Y\n",
       "0  602  149  0\n",
       "1  172  740  1\n",
       "2  784  744  1\n",
       "3  757   62  0\n",
       "4  689  114  0\n",
       "5  359  406  0\n",
       "6  722  428  0\n",
       "7  389  131  1\n",
       "8  277  423  1\n",
       "9  680  436  1"
      ]
     },
     "execution_count": 12,
     "metadata": {},
     "output_type": "execute_result"
    }
   ],
   "source": [
    "df = pd.DataFrame(M, columns = ['X1', 'X2', 'Y'])\n",
    "df"
   ]
  },
  {
   "cell_type": "markdown",
   "id": "4c8cd1d4",
   "metadata": {},
   "source": [
    "### <font color='gold'> 4. Plot X1 and X2 using scatter plot. Color (X1,X2) red if corresponding Y is 1 else blue. </font>"
   ]
  },
  {
   "cell_type": "code",
   "execution_count": 13,
   "id": "925e47ba",
   "metadata": {},
   "outputs": [
    {
     "data": {
      "image/png": "[encoded data removed]",
      "text/plain": [
       "<Figure size 432x288 with 1 Axes>"
      ]
     },
     "metadata": {},
     "output_type": "display_data"
    }
   ],
   "source": [
    "'''y = M[:,2]\n",
    "col = np.where(y==1,'r','b')\n",
    "plt.scatter(M[:,0], M[:,1], c=col)\n",
    "plt.show()'''\n",
    "col = df.Y.map({0:'b', 1:'r'})\n",
    "df.plot.scatter(x='X1', y='X2', c=col)\n",
    "plt.show()"
   ]
  },
  {
   "cell_type": "markdown",
   "id": "c60d2677",
   "metadata": {},
   "source": [
    "### <font color='gold'>5. a. For two columns X1, X2, find squared error : (x1 – x2)^2 </font>"
   ]
  },
  {
   "cell_type": "code",
   "execution_count": 14,
   "id": "f5e4047a",
   "metadata": {},
   "outputs": [
    {
     "name": "stdout",
     "output_type": "stream",
     "text": [
      "squared error : (x1 – x2)^2 = \n",
      " [205209 322624   1600 483025 330625   2209  86436  66564  21316  59536]\n"
     ]
    }
   ],
   "source": [
    "Z = np.square((M[:,0]-M[:,1]))\n",
    "print(\"squared error : (x1 – x2)^2 = \\n\", Z)"
   ]
  },
  {
   "cell_type": "markdown",
   "id": "a33a430d",
   "metadata": {},
   "source": [
    "#### <font color='gold'>b. Find sum of the squared error</font>"
   ]
  },
  {
   "cell_type": "code",
   "execution_count": 15,
   "id": "f8de0386",
   "metadata": {},
   "outputs": [
    {
     "name": "stdout",
     "output_type": "stream",
     "text": [
      "Sum of [squared error : (x1 – x2)^2] =  1579144\n"
     ]
    }
   ],
   "source": [
    "Zsum = np.sum(Z)\n",
    "print(\"Sum of [squared error : (x1 – x2)^2] = \", Zsum)"
   ]
  },
  {
   "cell_type": "markdown",
   "id": "e7e06bc3",
   "metadata": {},
   "source": [
    "### 6. Find euclidean distance between first two rows of matrix M. \n",
    "### Compare result with inbuilt function numpy.linalg.norm(a-b) where a is first row and b is second row."
   ]
  },
  {
   "cell_type": "code",
   "execution_count": 16,
   "id": "5246a704",
   "metadata": {},
   "outputs": [
    {
     "name": "stdout",
     "output_type": "stream",
     "text": [
      "Euclidean Distance =  1256.6399643493755\n"
     ]
    }
   ],
   "source": [
    "ed = np.sqrt(np.sum(np.square(M[:,0] - M[:,1])))\n",
    "print(\"Euclidean Distance = \", ed)"
   ]
  },
  {
   "cell_type": "code",
   "execution_count": 17,
   "id": "29999e37",
   "metadata": {},
   "outputs": [
    {
     "name": "stdout",
     "output_type": "stream",
     "text": [
      "Euclidean Distance =  1256.6399643493755\n"
     ]
    }
   ],
   "source": [
    "print(\"Euclidean Distance = \", np.linalg.norm(M[:,0]-M[:,1]))"
   ]
  },
  {
   "cell_type": "markdown",
   "id": "fc384b51",
   "metadata": {},
   "source": [
    "### <font color='gold'> 7. Create a vector V with two random values. <br> Find the Euclidean distance between each row of M with V. <br> Store the distance in a vector and print </font>"
   ]
  },
  {
   "cell_type": "code",
   "execution_count": 18,
   "id": "047c9755",
   "metadata": {},
   "outputs": [
    {
     "data": {
      "text/plain": [
       "array([586,   6], dtype=int64)"
      ]
     },
     "execution_count": 18,
     "metadata": {},
     "output_type": "execute_result"
    }
   ],
   "source": [
    "V = rng.integers(1000, size=(2))\n",
    "V"
   ]
  },
  {
   "cell_type": "code",
   "execution_count": 19,
   "id": "5b70952e",
   "metadata": {},
   "outputs": [],
   "source": [
    "eu_dist = np.linalg.norm(M[:, 0:2] - V, axis=1)"
   ]
  },
  {
   "cell_type": "code",
   "execution_count": 20,
   "id": "75066984",
   "metadata": {},
   "outputs": [
    {
     "name": "stdout",
     "output_type": "stream",
     "text": [
      "Euclidean Distance between single point and matrix M:\n",
      " [143.89232085 842.7051679  764.09946996 179.93609977 149.24141516\n",
      " 459.92281961 443.37343177 233.31095131 519.00867045 440.15451832]\n"
     ]
    }
   ],
   "source": [
    "print(\"Euclidean Distance between single point and matrix M:\\n\", eu_dist)"
   ]
  },
  {
   "cell_type": "markdown",
   "id": "c7357b41",
   "metadata": {},
   "source": [
    "### <font color='gold'>8. Manipulate matrix <br> Create a matrix A with 10 rows and 2 columns. <br> Add a new column to a matrix. (Use np.column_stack) <br> Add a new row to a matrix(Use np.vstack)"
   ]
  },
  {
   "cell_type": "code",
   "execution_count": 21,
   "id": "e52ad6a0",
   "metadata": {},
   "outputs": [
    {
     "name": "stdout",
     "output_type": "stream",
     "text": [
      "[[641 836]\n",
      " [729 893]\n",
      " [877 423]\n",
      " [361 435]\n",
      " [910 911]\n",
      " [305 230]\n",
      " [293 816]\n",
      " [153 214]\n",
      " [134  37]\n",
      " [975 655]]\n"
     ]
    }
   ],
   "source": [
    "A = rng.integers(1000, size=(10, 2))\n",
    "print(A)"
   ]
  },
  {
   "cell_type": "code",
   "execution_count": 22,
   "id": "ec5c87bc",
   "metadata": {},
   "outputs": [
    {
     "name": "stdout",
     "output_type": "stream",
     "text": [
      "[983 307 593 956 789 392 102 133 837 286]\n"
     ]
    }
   ],
   "source": [
    "C = rng.integers(1000, size=10)\n",
    "print(C)"
   ]
  },
  {
   "cell_type": "code",
   "execution_count": 23,
   "id": "99e21b4b",
   "metadata": {},
   "outputs": [
    {
     "name": "stdout",
     "output_type": "stream",
     "text": [
      "[[641 836 983]\n",
      " [729 893 307]\n",
      " [877 423 593]\n",
      " [361 435 956]\n",
      " [910 911 789]\n",
      " [305 230 392]\n",
      " [293 816 102]\n",
      " [153 214 133]\n",
      " [134  37 837]\n",
      " [975 655 286]]\n"
     ]
    }
   ],
   "source": [
    "A = np.column_stack((A, C))\n",
    "print(A)"
   ]
  },
  {
   "cell_type": "code",
   "execution_count": 24,
   "id": "903f3073",
   "metadata": {},
   "outputs": [
    {
     "name": "stdout",
     "output_type": "stream",
     "text": [
      "[692 265 115]\n"
     ]
    }
   ],
   "source": [
    "R = rng.integers(1000, size=3)\n",
    "print(R)"
   ]
  },
  {
   "cell_type": "code",
   "execution_count": 25,
   "id": "8c9b478b",
   "metadata": {},
   "outputs": [
    {
     "name": "stdout",
     "output_type": "stream",
     "text": [
      "[[641 836 983]\n",
      " [729 893 307]\n",
      " [877 423 593]\n",
      " [361 435 956]\n",
      " [910 911 789]\n",
      " [305 230 392]\n",
      " [293 816 102]\n",
      " [153 214 133]\n",
      " [134  37 837]\n",
      " [975 655 286]\n",
      " [692 265 115]]\n"
     ]
    }
   ],
   "source": [
    "A = np.vstack((A, R))\n",
    "print(A)"
   ]
  },
  {
   "cell_type": "markdown",
   "id": "8f1eb6d0",
   "metadata": {},
   "source": [
    "### <font color='gold'>9. Create a matrix M’ with two columns X1’, X2’ and populate with random values. <br> Find the Euclidean distance between each row of M’ with each row of M(excluding the last column Y) created in Q.2 <br> Store the distance in a matrix Dist with 3 columns. First column is the row id of M, second column is the row id of M’, and the third column is distance value\n",
    "Compare result with following code <font>"
   ]
  },
  {
   "cell_type": "code",
   "execution_count": 26,
   "id": "efacd10d",
   "metadata": {},
   "outputs": [],
   "source": [
    "from sklearn.metrics.pairwise import euclidean_distances"
   ]
  },
  {
   "cell_type": "code",
   "execution_count": 27,
   "id": "7e3b760b",
   "metadata": {},
   "outputs": [
    {
     "data": {
      "text/plain": [
       "array([[439, 556],\n",
       "       [143, 333],\n",
       "       [101, 875],\n",
       "       [993, 531],\n",
       "       [499, 887],\n",
       "       [346,  76],\n",
       "       [425, 453],\n",
       "       [403, 809],\n",
       "       [665, 363],\n",
       "       [656, 916]], dtype=int64)"
      ]
     },
     "execution_count": 27,
     "metadata": {},
     "output_type": "execute_result"
    }
   ],
   "source": [
    "M_ = rng.integers(1000, size=(10, 2))\n",
    "M_"
   ]
  },
  {
   "cell_type": "code",
   "execution_count": 28,
   "id": "f6ec53f6",
   "metadata": {},
   "outputs": [
    {
     "data": {
      "text/plain": [
       "array([438.42673276, 408.0318615 , 695.44949493, 525.03047531,\n",
       "       796.00816579, 330.25596134, 298.05033132, 678.14452737,\n",
       "       392.61176753, 480.59962547])"
      ]
     },
     "execution_count": 28,
     "metadata": {},
     "output_type": "execute_result"
    }
   ],
   "source": [
    "Dist = np.linalg.norm(M[:,0:2] - M_, axis=1)\n",
    "Dist"
   ]
  },
  {
   "cell_type": "code",
   "execution_count": 29,
   "id": "e4701c41",
   "metadata": {},
   "outputs": [],
   "source": [
    "def ed(v1, v2):\n",
    "    return np.linalg.norm(v1-v2)"
   ]
  },
  {
   "cell_type": "code",
   "execution_count": 30,
   "id": "96a040e9",
   "metadata": {},
   "outputs": [],
   "source": [
    "M2 = M[:,0:2]\n",
    "Dist = np.empty((0, 3))\n",
    "for i in range(len(M_)):\n",
    "    for j in range(len(M2)):\n",
    "        d = ed(M_[i], M2[j])\n",
    "        Dist = np.vstack((Dist,np.array([j, i, d])))\n",
    "\n",
    "\n",
    "Dist = np.round(Dist, 4)"
   ]
  },
  {
   "cell_type": "markdown",
   "id": "b112bed4",
   "metadata": {},
   "source": [
    "### <font color='gold'>10. Sort Dist matrix based on last column.</font>"
   ]
  },
  {
   "cell_type": "code",
   "execution_count": 31,
   "id": "2aec05c7",
   "metadata": {},
   "outputs": [],
   "source": [
    "Dist = Dist[Dist[:,2].argsort()]"
   ]
  },
  {
   "cell_type": "code",
   "execution_count": 32,
   "id": "de330ca3",
   "metadata": {},
   "outputs": [
    {
     "name": "stdout",
     "output_type": "stream",
     "text": [
      "[[   7.        5.       69.814 ]\n",
      " [   9.        8.       74.5252]\n",
      " [   5.        6.       81.0247]\n",
      " [   6.        8.       86.4523]\n",
      " [   8.        6.      151.0099]\n",
      " [   1.        2.      152.532 ]\n",
      " [   8.        1.      161.4187]\n",
      " [   5.        0.      170.    ]\n",
      " [   8.        0.      209.602 ]\n",
      " [   2.        9.      214.4015]\n",
      " [   0.        8.      223.0807]\n",
      " [   5.        1.      228.0022]\n",
      " [   1.        7.      241.085 ]\n",
      " [   4.        8.      250.154 ]\n",
      " [   9.        6.      255.566 ]\n",
      " [   0.        5.      266.2048]\n",
      " [   9.        0.      269.223 ]\n",
      " [   6.        3.      289.9138]\n",
      " [   6.        6.      298.0503]\n",
      " [   2.        3.      298.4125]\n",
      " [   5.        8.      309.0065]\n",
      " [   6.        0.      310.601 ]\n",
      " [   3.        8.      314.7459]\n",
      " [   7.        1.      318.308 ]\n",
      " [   2.        4.      318.8636]\n",
      " [   7.        6.      324.0062]\n",
      " [   1.        0.      324.2607]\n",
      " [   9.        3.      327.0994]\n",
      " [   5.        5.      330.256 ]\n",
      " [   4.        5.      345.0985]\n",
      " [   0.        6.      351.7741]\n",
      " [   8.        5.      353.7937]\n",
      " [   1.        4.      358.522 ]\n",
      " [   7.        8.      360.5551]\n",
      " [   1.        6.      382.5938]\n",
      " [   2.        7.      386.5049]\n",
      " [   8.        8.      392.6118]\n",
      " [   2.        0.      392.8982]\n",
      " [   2.        8.      399.1516]\n",
      " [   5.        7.      405.3949]\n",
      " [   8.        7.      406.0443]\n",
      " [   1.        1.      408.0319]\n",
      " [   3.        5.      411.2384]\n",
      " [   7.        0.      427.9311]\n",
      " [   4.        6.      429.6708]\n",
      " [   0.        0.      438.4267]\n",
      " [   2.        6.      462.1277]\n",
      " [   9.        7.      464.6052]\n",
      " [   9.        9.      480.5996]\n",
      " [   8.        2.      485.0567]\n",
      " [   9.        4.      485.965 ]\n",
      " [   9.        5.      491.0764]\n",
      " [   6.        9.      492.4429]\n",
      " [   0.        1.      494.5068]\n",
      " [   6.        7.      496.9125]\n",
      " [   5.        4.      500.9601]\n",
      " [   4.        0.      507.8031]\n",
      " [   6.        4.      510.3038]\n",
      " [   3.        6.      512.9376]\n",
      " [   8.        4.      514.3734]\n",
      " [   1.        9.      515.0068]\n",
      " [   6.        5.      515.0534]\n",
      " [   4.        3.      516.0475]\n",
      " [   3.        3.      525.0305]\n",
      " [   5.        2.      535.2803]\n",
      " [   0.        3.      546.6306]\n",
      " [   9.        1.      546.7888]\n",
      " [   6.        1.      586.7419]\n",
      " [   3.        0.      587.5032]\n",
      " [   4.        1.      588.2831]\n",
      " [   5.        9.      590.1771]\n",
      " [   1.        8.      620.6271]\n",
      " [   8.        9.      621.844 ]\n",
      " [   5.        3.      646.2051]\n",
      " [   3.        1.      671.146 ]\n",
      " [   7.        7.      678.1445]\n",
      " [   1.        5.      686.4197]\n",
      " [   0.        7.      689.3482]\n",
      " [   2.        2.      695.4495]\n",
      " [   8.        3.      724.0994]\n",
      " [   7.        3.      724.4419]\n",
      " [   9.        2.      726.6099]\n",
      " [   0.        4.      745.153 ]\n",
      " [   4.        7.      751.5457]\n",
      " [   2.        1.      761.4473]\n",
      " [   7.        4.      763.9607]\n",
      " [   6.        2.      765.147 ]\n",
      " [   0.        9.      768.8986]\n",
      " [   4.        4.      796.0082]\n",
      " [   7.        2.      797.797 ]\n",
      " [   2.        5.      798.7916]\n",
      " [   4.        9.      802.6786]\n",
      " [   3.        7.      826.6347]\n",
      " [   7.        9.      829.1646]\n",
      " [   1.        3.      847.1847]\n",
      " [   3.        9.      859.9517]\n",
      " [   3.        4.      864.4009]\n",
      " [   0.        2.      882.0867]\n",
      " [   4.        2.      961.699 ]\n",
      " [   3.        2.     1044.6554]]\n"
     ]
    }
   ],
   "source": [
    "print(Dist)"
   ]
  },
  {
   "cell_type": "markdown",
   "id": "2e7bada8",
   "metadata": {},
   "source": [
    "### <font color='gold'>11. a. Get initial k rows from sorted matrix</font>"
   ]
  },
  {
   "cell_type": "code",
   "execution_count": 33,
   "id": "afd3c0e8",
   "metadata": {},
   "outputs": [
    {
     "name": "stdout",
     "output_type": "stream",
     "text": [
      "[[  7.       5.      69.814 ]\n",
      " [  9.       8.      74.5252]\n",
      " [  5.       6.      81.0247]\n",
      " [  6.       8.      86.4523]\n",
      " [  8.       6.     151.0099]\n",
      " [  1.       2.     152.532 ]\n",
      " [  8.       1.     161.4187]\n",
      " [  5.       0.     170.    ]\n",
      " [  8.       0.     209.602 ]\n",
      " [  2.       9.     214.4015]]\n"
     ]
    }
   ],
   "source": [
    "k = 10\n",
    "M3 = Dist[:k]\n",
    "print(M3)"
   ]
  },
  {
   "cell_type": "markdown",
   "id": "97d68792",
   "metadata": {},
   "source": [
    "#### <font color='gold'> b. Get the rows corresponding to these k rows from M. </font>"
   ]
  },
  {
   "cell_type": "code",
   "execution_count": 34,
   "id": "2f562b56",
   "metadata": {},
   "outputs": [],
   "source": [
    "M4 = np.empty((0, 3))\n",
    "for rw in M3:\n",
    "    M4 = np.vstack((M4,M[int(rw[0])]))"
   ]
  },
  {
   "cell_type": "code",
   "execution_count": 35,
   "id": "2133c07a",
   "metadata": {},
   "outputs": [
    {
     "data": {
      "text/plain": [
       "array([[389., 131.,   1.],\n",
       "       [680., 436.,   1.],\n",
       "       [359., 406.,   0.],\n",
       "       [722., 428.,   0.],\n",
       "       [277., 423.,   1.],\n",
       "       [172., 740.,   1.],\n",
       "       [277., 423.,   1.],\n",
       "       [359., 406.,   0.],\n",
       "       [277., 423.,   1.],\n",
       "       [784., 744.,   1.]])"
      ]
     },
     "execution_count": 35,
     "metadata": {},
     "output_type": "execute_result"
    }
   ],
   "source": [
    "M4"
   ]
  },
  {
   "cell_type": "markdown",
   "id": "49533f82",
   "metadata": {},
   "source": [
    "### <font color='gold'> 12. Find the number of 1s and number of 0s in the rows of M matrix, corresponding to the k rows found in Q. 11. Print 1 if the number of 1s are more else print 0. </font>"
   ]
  },
  {
   "cell_type": "code",
   "execution_count": 36,
   "id": "6b0a80f4",
   "metadata": {},
   "outputs": [
    {
     "name": "stdout",
     "output_type": "stream",
     "text": [
      "1\n"
     ]
    }
   ],
   "source": [
    "if(list(M4[:,2]).count(1.0) > list(M4[:,2]).count(0.0)):\n",
    "    print(\"1\")\n",
    "else:\n",
    "    print(\"0\")"
   ]
  },
  {
   "cell_type": "markdown",
   "id": "527004a1",
   "metadata": {},
   "source": [
    "## <font color='gold'> PART B: kNN implementation </font>"
   ]
  },
  {
   "cell_type": "markdown",
   "id": "d77dc899",
   "metadata": {},
   "source": [
    "### <font color='gold'> a. Load diabetes dataset as done in Lab 1. </font>"
   ]
  },
  {
   "cell_type": "code",
   "execution_count": 37,
   "id": "8d36b687",
   "metadata": {},
   "outputs": [],
   "source": [
    "path='diabetes.csv'\n",
    "data=pd.read_csv(path)"
   ]
  },
  {
   "cell_type": "markdown",
   "id": "913635b5",
   "metadata": {},
   "source": [
    "### <font color='gold'> b. Peek at few rows as done in Lab 1 </font>"
   ]
  },
  {
   "cell_type": "code",
   "execution_count": 38,
   "id": "f68998c7",
   "metadata": {},
   "outputs": [
    {
     "data": {
      "text/html": [
       "<div>\n",
       "<style scoped>\n",
       "    .dataframe tbody tr th:only-of-type {\n",
       "        vertical-align: middle;\n",
       "    }\n",
       "\n",
       "    .dataframe tbody tr th {\n",
       "        vertical-align: top;\n",
       "    }\n",
       "\n",
       "    .dataframe thead th {\n",
       "        text-align: right;\n",
       "    }\n",
       "</style>\n",
       "<table border=\"1\" class=\"dataframe\">\n",
       "  <thead>\n",
       "    <tr style=\"text-align: right;\">\n",
       "      <th></th>\n",
       "      <th>Pregnancies</th>\n",
       "      <th>Glucose</th>\n",
       "      <th>BloodPressure</th>\n",
       "      <th>SkinThickness</th>\n",
       "      <th>Insulin</th>\n",
       "      <th>BMI</th>\n",
       "      <th>DiabetesPedigreeFunction</th>\n",
       "      <th>Age</th>\n",
       "      <th>Outcome</th>\n",
       "    </tr>\n",
       "  </thead>\n",
       "  <tbody>\n",
       "    <tr>\n",
       "      <th>0</th>\n",
       "      <td>6</td>\n",
       "      <td>148</td>\n",
       "      <td>72</td>\n",
       "      <td>35</td>\n",
       "      <td>0</td>\n",
       "      <td>33.6</td>\n",
       "      <td>0.627</td>\n",
       "      <td>50</td>\n",
       "      <td>1</td>\n",
       "    </tr>\n",
       "    <tr>\n",
       "      <th>1</th>\n",
       "      <td>1</td>\n",
       "      <td>85</td>\n",
       "      <td>66</td>\n",
       "      <td>29</td>\n",
       "      <td>0</td>\n",
       "      <td>26.6</td>\n",
       "      <td>0.351</td>\n",
       "      <td>31</td>\n",
       "      <td>0</td>\n",
       "    </tr>\n",
       "    <tr>\n",
       "      <th>2</th>\n",
       "      <td>8</td>\n",
       "      <td>183</td>\n",
       "      <td>64</td>\n",
       "      <td>0</td>\n",
       "      <td>0</td>\n",
       "      <td>23.3</td>\n",
       "      <td>0.672</td>\n",
       "      <td>32</td>\n",
       "      <td>1</td>\n",
       "    </tr>\n",
       "    <tr>\n",
       "      <th>3</th>\n",
       "      <td>1</td>\n",
       "      <td>89</td>\n",
       "      <td>66</td>\n",
       "      <td>23</td>\n",
       "      <td>94</td>\n",
       "      <td>28.1</td>\n",
       "      <td>0.167</td>\n",
       "      <td>21</td>\n",
       "      <td>0</td>\n",
       "    </tr>\n",
       "    <tr>\n",
       "      <th>4</th>\n",
       "      <td>0</td>\n",
       "      <td>137</td>\n",
       "      <td>40</td>\n",
       "      <td>35</td>\n",
       "      <td>168</td>\n",
       "      <td>43.1</td>\n",
       "      <td>2.288</td>\n",
       "      <td>33</td>\n",
       "      <td>1</td>\n",
       "    </tr>\n",
       "    <tr>\n",
       "      <th>...</th>\n",
       "      <td>...</td>\n",
       "      <td>...</td>\n",
       "      <td>...</td>\n",
       "      <td>...</td>\n",
       "      <td>...</td>\n",
       "      <td>...</td>\n",
       "      <td>...</td>\n",
       "      <td>...</td>\n",
       "      <td>...</td>\n",
       "    </tr>\n",
       "    <tr>\n",
       "      <th>763</th>\n",
       "      <td>10</td>\n",
       "      <td>101</td>\n",
       "      <td>76</td>\n",
       "      <td>48</td>\n",
       "      <td>180</td>\n",
       "      <td>32.9</td>\n",
       "      <td>0.171</td>\n",
       "      <td>63</td>\n",
       "      <td>0</td>\n",
       "    </tr>\n",
       "    <tr>\n",
       "      <th>764</th>\n",
       "      <td>2</td>\n",
       "      <td>122</td>\n",
       "      <td>70</td>\n",
       "      <td>27</td>\n",
       "      <td>0</td>\n",
       "      <td>36.8</td>\n",
       "      <td>0.340</td>\n",
       "      <td>27</td>\n",
       "      <td>0</td>\n",
       "    </tr>\n",
       "    <tr>\n",
       "      <th>765</th>\n",
       "      <td>5</td>\n",
       "      <td>121</td>\n",
       "      <td>72</td>\n",
       "      <td>23</td>\n",
       "      <td>112</td>\n",
       "      <td>26.2</td>\n",
       "      <td>0.245</td>\n",
       "      <td>30</td>\n",
       "      <td>0</td>\n",
       "    </tr>\n",
       "    <tr>\n",
       "      <th>766</th>\n",
       "      <td>1</td>\n",
       "      <td>126</td>\n",
       "      <td>60</td>\n",
       "      <td>0</td>\n",
       "      <td>0</td>\n",
       "      <td>30.1</td>\n",
       "      <td>0.349</td>\n",
       "      <td>47</td>\n",
       "      <td>1</td>\n",
       "    </tr>\n",
       "    <tr>\n",
       "      <th>767</th>\n",
       "      <td>1</td>\n",
       "      <td>93</td>\n",
       "      <td>70</td>\n",
       "      <td>31</td>\n",
       "      <td>0</td>\n",
       "      <td>30.4</td>\n",
       "      <td>0.315</td>\n",
       "      <td>23</td>\n",
       "      <td>0</td>\n",
       "    </tr>\n",
       "  </tbody>\n",
       "</table>\n",
       "<p>768 rows × 9 columns</p>\n",
       "</div>"
      ],
      "text/plain": [
       "     Pregnancies  Glucose  BloodPressure  SkinThickness  Insulin   BMI  \\\n",
       "0              6      148             72             35        0  33.6   \n",
       "1              1       85             66             29        0  26.6   \n",
       "2              8      183             64              0        0  23.3   \n",
       "3              1       89             66             23       94  28.1   \n",
       "4              0      137             40             35      168  43.1   \n",
       "..           ...      ...            ...            ...      ...   ...   \n",
       "763           10      101             76             48      180  32.9   \n",
       "764            2      122             70             27        0  36.8   \n",
       "765            5      121             72             23      112  26.2   \n",
       "766            1      126             60              0        0  30.1   \n",
       "767            1       93             70             31        0  30.4   \n",
       "\n",
       "     DiabetesPedigreeFunction  Age  Outcome  \n",
       "0                       0.627   50        1  \n",
       "1                       0.351   31        0  \n",
       "2                       0.672   32        1  \n",
       "3                       0.167   21        0  \n",
       "4                       2.288   33        1  \n",
       "..                        ...  ...      ...  \n",
       "763                     0.171   63        0  \n",
       "764                     0.340   27        0  \n",
       "765                     0.245   30        0  \n",
       "766                     0.349   47        1  \n",
       "767                     0.315   23        0  \n",
       "\n",
       "[768 rows x 9 columns]"
      ]
     },
     "execution_count": 38,
     "metadata": {},
     "output_type": "execute_result"
    }
   ],
   "source": [
    "data"
   ]
  },
  {
   "cell_type": "markdown",
   "id": "f66a0ed6",
   "metadata": {},
   "source": [
    "### <font color='gold'> c. Split the dataset into 80% training and 20% testing using numpy slicing. </font>"
   ]
  },
  {
   "cell_type": "code",
   "execution_count": 39,
   "id": "1cb384cf",
   "metadata": {},
   "outputs": [],
   "source": [
    "X = data.iloc[:,:8]\n",
    "y = data.iloc[:,-1:]"
   ]
  },
  {
   "cell_type": "code",
   "execution_count": 40,
   "id": "82c0365a",
   "metadata": {},
   "outputs": [],
   "source": [
    "idx_80 = int(len(data) * 0.80)\n",
    "X_train_1, X_test_1, y_train_1, y_test_1 = X[:idx_80], X[idx_80:], y[:idx_80], y[idx_80:]"
   ]
  },
  {
   "cell_type": "code",
   "execution_count": 41,
   "id": "47802794",
   "metadata": {},
   "outputs": [
    {
     "data": {
      "text/html": [
       "<div>\n",
       "<style scoped>\n",
       "    .dataframe tbody tr th:only-of-type {\n",
       "        vertical-align: middle;\n",
       "    }\n",
       "\n",
       "    .dataframe tbody tr th {\n",
       "        vertical-align: top;\n",
       "    }\n",
       "\n",
       "    .dataframe thead th {\n",
       "        text-align: right;\n",
       "    }\n",
       "</style>\n",
       "<table border=\"1\" class=\"dataframe\">\n",
       "  <thead>\n",
       "    <tr style=\"text-align: right;\">\n",
       "      <th></th>\n",
       "      <th>Pregnancies</th>\n",
       "      <th>Glucose</th>\n",
       "      <th>BloodPressure</th>\n",
       "      <th>SkinThickness</th>\n",
       "      <th>Insulin</th>\n",
       "      <th>BMI</th>\n",
       "      <th>DiabetesPedigreeFunction</th>\n",
       "      <th>Age</th>\n",
       "    </tr>\n",
       "  </thead>\n",
       "  <tbody>\n",
       "    <tr>\n",
       "      <th>0</th>\n",
       "      <td>6</td>\n",
       "      <td>148</td>\n",
       "      <td>72</td>\n",
       "      <td>35</td>\n",
       "      <td>0</td>\n",
       "      <td>33.6</td>\n",
       "      <td>0.627</td>\n",
       "      <td>50</td>\n",
       "    </tr>\n",
       "    <tr>\n",
       "      <th>1</th>\n",
       "      <td>1</td>\n",
       "      <td>85</td>\n",
       "      <td>66</td>\n",
       "      <td>29</td>\n",
       "      <td>0</td>\n",
       "      <td>26.6</td>\n",
       "      <td>0.351</td>\n",
       "      <td>31</td>\n",
       "    </tr>\n",
       "    <tr>\n",
       "      <th>2</th>\n",
       "      <td>8</td>\n",
       "      <td>183</td>\n",
       "      <td>64</td>\n",
       "      <td>0</td>\n",
       "      <td>0</td>\n",
       "      <td>23.3</td>\n",
       "      <td>0.672</td>\n",
       "      <td>32</td>\n",
       "    </tr>\n",
       "    <tr>\n",
       "      <th>3</th>\n",
       "      <td>1</td>\n",
       "      <td>89</td>\n",
       "      <td>66</td>\n",
       "      <td>23</td>\n",
       "      <td>94</td>\n",
       "      <td>28.1</td>\n",
       "      <td>0.167</td>\n",
       "      <td>21</td>\n",
       "    </tr>\n",
       "    <tr>\n",
       "      <th>4</th>\n",
       "      <td>0</td>\n",
       "      <td>137</td>\n",
       "      <td>40</td>\n",
       "      <td>35</td>\n",
       "      <td>168</td>\n",
       "      <td>43.1</td>\n",
       "      <td>2.288</td>\n",
       "      <td>33</td>\n",
       "    </tr>\n",
       "    <tr>\n",
       "      <th>...</th>\n",
       "      <td>...</td>\n",
       "      <td>...</td>\n",
       "      <td>...</td>\n",
       "      <td>...</td>\n",
       "      <td>...</td>\n",
       "      <td>...</td>\n",
       "      <td>...</td>\n",
       "      <td>...</td>\n",
       "    </tr>\n",
       "    <tr>\n",
       "      <th>609</th>\n",
       "      <td>1</td>\n",
       "      <td>111</td>\n",
       "      <td>62</td>\n",
       "      <td>13</td>\n",
       "      <td>182</td>\n",
       "      <td>24.0</td>\n",
       "      <td>0.138</td>\n",
       "      <td>23</td>\n",
       "    </tr>\n",
       "    <tr>\n",
       "      <th>610</th>\n",
       "      <td>3</td>\n",
       "      <td>106</td>\n",
       "      <td>54</td>\n",
       "      <td>21</td>\n",
       "      <td>158</td>\n",
       "      <td>30.9</td>\n",
       "      <td>0.292</td>\n",
       "      <td>24</td>\n",
       "    </tr>\n",
       "    <tr>\n",
       "      <th>611</th>\n",
       "      <td>3</td>\n",
       "      <td>174</td>\n",
       "      <td>58</td>\n",
       "      <td>22</td>\n",
       "      <td>194</td>\n",
       "      <td>32.9</td>\n",
       "      <td>0.593</td>\n",
       "      <td>36</td>\n",
       "    </tr>\n",
       "    <tr>\n",
       "      <th>612</th>\n",
       "      <td>7</td>\n",
       "      <td>168</td>\n",
       "      <td>88</td>\n",
       "      <td>42</td>\n",
       "      <td>321</td>\n",
       "      <td>38.2</td>\n",
       "      <td>0.787</td>\n",
       "      <td>40</td>\n",
       "    </tr>\n",
       "    <tr>\n",
       "      <th>613</th>\n",
       "      <td>6</td>\n",
       "      <td>105</td>\n",
       "      <td>80</td>\n",
       "      <td>28</td>\n",
       "      <td>0</td>\n",
       "      <td>32.5</td>\n",
       "      <td>0.878</td>\n",
       "      <td>26</td>\n",
       "    </tr>\n",
       "  </tbody>\n",
       "</table>\n",
       "<p>614 rows × 8 columns</p>\n",
       "</div>"
      ],
      "text/plain": [
       "     Pregnancies  Glucose  BloodPressure  SkinThickness  Insulin   BMI  \\\n",
       "0              6      148             72             35        0  33.6   \n",
       "1              1       85             66             29        0  26.6   \n",
       "2              8      183             64              0        0  23.3   \n",
       "3              1       89             66             23       94  28.1   \n",
       "4              0      137             40             35      168  43.1   \n",
       "..           ...      ...            ...            ...      ...   ...   \n",
       "609            1      111             62             13      182  24.0   \n",
       "610            3      106             54             21      158  30.9   \n",
       "611            3      174             58             22      194  32.9   \n",
       "612            7      168             88             42      321  38.2   \n",
       "613            6      105             80             28        0  32.5   \n",
       "\n",
       "     DiabetesPedigreeFunction  Age  \n",
       "0                       0.627   50  \n",
       "1                       0.351   31  \n",
       "2                       0.672   32  \n",
       "3                       0.167   21  \n",
       "4                       2.288   33  \n",
       "..                        ...  ...  \n",
       "609                     0.138   23  \n",
       "610                     0.292   24  \n",
       "611                     0.593   36  \n",
       "612                     0.787   40  \n",
       "613                     0.878   26  \n",
       "\n",
       "[614 rows x 8 columns]"
      ]
     },
     "execution_count": 41,
     "metadata": {},
     "output_type": "execute_result"
    }
   ],
   "source": [
    "X_train_1"
   ]
  },
  {
   "cell_type": "markdown",
   "id": "4ce28ea3",
   "metadata": {},
   "source": [
    "### <font color='gold'> d. Use inbuilt function to do splitting and interpret results </font>"
   ]
  },
  {
   "cell_type": "code",
   "execution_count": 42,
   "id": "d20c85bb",
   "metadata": {},
   "outputs": [],
   "source": [
    "from sklearn.model_selection import train_test_split\n",
    "X_train, X_test, y_train, y_test = train_test_split(X, y, test_size=0.20, shuffle=False)"
   ]
  },
  {
   "cell_type": "code",
   "execution_count": 43,
   "id": "1be9e662",
   "metadata": {},
   "outputs": [
    {
     "data": {
      "text/html": [
       "<div>\n",
       "<style scoped>\n",
       "    .dataframe tbody tr th:only-of-type {\n",
       "        vertical-align: middle;\n",
       "    }\n",
       "\n",
       "    .dataframe tbody tr th {\n",
       "        vertical-align: top;\n",
       "    }\n",
       "\n",
       "    .dataframe thead th {\n",
       "        text-align: right;\n",
       "    }\n",
       "</style>\n",
       "<table border=\"1\" class=\"dataframe\">\n",
       "  <thead>\n",
       "    <tr style=\"text-align: right;\">\n",
       "      <th></th>\n",
       "      <th>Pregnancies</th>\n",
       "      <th>Glucose</th>\n",
       "      <th>BloodPressure</th>\n",
       "      <th>SkinThickness</th>\n",
       "      <th>Insulin</th>\n",
       "      <th>BMI</th>\n",
       "      <th>DiabetesPedigreeFunction</th>\n",
       "      <th>Age</th>\n",
       "    </tr>\n",
       "  </thead>\n",
       "  <tbody>\n",
       "    <tr>\n",
       "      <th>0</th>\n",
       "      <td>6</td>\n",
       "      <td>148</td>\n",
       "      <td>72</td>\n",
       "      <td>35</td>\n",
       "      <td>0</td>\n",
       "      <td>33.6</td>\n",
       "      <td>0.627</td>\n",
       "      <td>50</td>\n",
       "    </tr>\n",
       "    <tr>\n",
       "      <th>1</th>\n",
       "      <td>1</td>\n",
       "      <td>85</td>\n",
       "      <td>66</td>\n",
       "      <td>29</td>\n",
       "      <td>0</td>\n",
       "      <td>26.6</td>\n",
       "      <td>0.351</td>\n",
       "      <td>31</td>\n",
       "    </tr>\n",
       "    <tr>\n",
       "      <th>2</th>\n",
       "      <td>8</td>\n",
       "      <td>183</td>\n",
       "      <td>64</td>\n",
       "      <td>0</td>\n",
       "      <td>0</td>\n",
       "      <td>23.3</td>\n",
       "      <td>0.672</td>\n",
       "      <td>32</td>\n",
       "    </tr>\n",
       "    <tr>\n",
       "      <th>3</th>\n",
       "      <td>1</td>\n",
       "      <td>89</td>\n",
       "      <td>66</td>\n",
       "      <td>23</td>\n",
       "      <td>94</td>\n",
       "      <td>28.1</td>\n",
       "      <td>0.167</td>\n",
       "      <td>21</td>\n",
       "    </tr>\n",
       "    <tr>\n",
       "      <th>4</th>\n",
       "      <td>0</td>\n",
       "      <td>137</td>\n",
       "      <td>40</td>\n",
       "      <td>35</td>\n",
       "      <td>168</td>\n",
       "      <td>43.1</td>\n",
       "      <td>2.288</td>\n",
       "      <td>33</td>\n",
       "    </tr>\n",
       "    <tr>\n",
       "      <th>...</th>\n",
       "      <td>...</td>\n",
       "      <td>...</td>\n",
       "      <td>...</td>\n",
       "      <td>...</td>\n",
       "      <td>...</td>\n",
       "      <td>...</td>\n",
       "      <td>...</td>\n",
       "      <td>...</td>\n",
       "    </tr>\n",
       "    <tr>\n",
       "      <th>609</th>\n",
       "      <td>1</td>\n",
       "      <td>111</td>\n",
       "      <td>62</td>\n",
       "      <td>13</td>\n",
       "      <td>182</td>\n",
       "      <td>24.0</td>\n",
       "      <td>0.138</td>\n",
       "      <td>23</td>\n",
       "    </tr>\n",
       "    <tr>\n",
       "      <th>610</th>\n",
       "      <td>3</td>\n",
       "      <td>106</td>\n",
       "      <td>54</td>\n",
       "      <td>21</td>\n",
       "      <td>158</td>\n",
       "      <td>30.9</td>\n",
       "      <td>0.292</td>\n",
       "      <td>24</td>\n",
       "    </tr>\n",
       "    <tr>\n",
       "      <th>611</th>\n",
       "      <td>3</td>\n",
       "      <td>174</td>\n",
       "      <td>58</td>\n",
       "      <td>22</td>\n",
       "      <td>194</td>\n",
       "      <td>32.9</td>\n",
       "      <td>0.593</td>\n",
       "      <td>36</td>\n",
       "    </tr>\n",
       "    <tr>\n",
       "      <th>612</th>\n",
       "      <td>7</td>\n",
       "      <td>168</td>\n",
       "      <td>88</td>\n",
       "      <td>42</td>\n",
       "      <td>321</td>\n",
       "      <td>38.2</td>\n",
       "      <td>0.787</td>\n",
       "      <td>40</td>\n",
       "    </tr>\n",
       "    <tr>\n",
       "      <th>613</th>\n",
       "      <td>6</td>\n",
       "      <td>105</td>\n",
       "      <td>80</td>\n",
       "      <td>28</td>\n",
       "      <td>0</td>\n",
       "      <td>32.5</td>\n",
       "      <td>0.878</td>\n",
       "      <td>26</td>\n",
       "    </tr>\n",
       "  </tbody>\n",
       "</table>\n",
       "<p>614 rows × 8 columns</p>\n",
       "</div>"
      ],
      "text/plain": [
       "     Pregnancies  Glucose  BloodPressure  SkinThickness  Insulin   BMI  \\\n",
       "0              6      148             72             35        0  33.6   \n",
       "1              1       85             66             29        0  26.6   \n",
       "2              8      183             64              0        0  23.3   \n",
       "3              1       89             66             23       94  28.1   \n",
       "4              0      137             40             35      168  43.1   \n",
       "..           ...      ...            ...            ...      ...   ...   \n",
       "609            1      111             62             13      182  24.0   \n",
       "610            3      106             54             21      158  30.9   \n",
       "611            3      174             58             22      194  32.9   \n",
       "612            7      168             88             42      321  38.2   \n",
       "613            6      105             80             28        0  32.5   \n",
       "\n",
       "     DiabetesPedigreeFunction  Age  \n",
       "0                       0.627   50  \n",
       "1                       0.351   31  \n",
       "2                       0.672   32  \n",
       "3                       0.167   21  \n",
       "4                       2.288   33  \n",
       "..                        ...  ...  \n",
       "609                     0.138   23  \n",
       "610                     0.292   24  \n",
       "611                     0.593   36  \n",
       "612                     0.787   40  \n",
       "613                     0.878   26  \n",
       "\n",
       "[614 rows x 8 columns]"
      ]
     },
     "execution_count": 43,
     "metadata": {},
     "output_type": "execute_result"
    }
   ],
   "source": [
    "X_train"
   ]
  },
  {
   "cell_type": "markdown",
   "id": "f7424f2b",
   "metadata": {},
   "source": [
    "#### <font color='green'> Interpretation: Both normal array slicing and train_test_split produced <br> same results because of shuffle=False property used in train_test_split function </font>"
   ]
  },
  {
   "cell_type": "markdown",
   "id": "15fc3ce6",
   "metadata": {},
   "source": [
    "### <font color='gold'> e. Normalize the training dataset using StandardScaler as done in Lab 1. <br> Is it required to Normalize the testing dataset (X_test) too? </font>"
   ]
  },
  {
   "cell_type": "code",
   "execution_count": 44,
   "id": "4d4def6b",
   "metadata": {},
   "outputs": [],
   "source": [
    "from sklearn.preprocessing import StandardScaler\n",
    "from sklearn import preprocessing\n",
    "\n",
    "mnormalizer = preprocessing.Normalizer().fit(X_train)\n",
    "X_train_norm = mnormalizer.transform(X_train) \n",
    "X_test_norm = mnormalizer.transform(X_test)\n",
    "\n",
    "std_scale = preprocessing.StandardScaler().fit(X_train)\n",
    "X_train_std = std_scale.transform(X_train)\n",
    "X_test_std  = std_scale.transform(X_test)"
   ]
  },
  {
   "cell_type": "code",
   "execution_count": 54,
   "id": "97f37db5",
   "metadata": {},
   "outputs": [
    {
     "data": {
      "text/plain": [
       "array([[0.03355237, 0.82762513, 0.40262844, ..., 0.18789327, 0.00350622,\n",
       "        0.27960308],\n",
       "       [0.008424  , 0.71604034, 0.55598426, ..., 0.22407851, 0.00295683,\n",
       "        0.26114412],\n",
       "       [0.04039768, 0.92409698, 0.32318146, ..., 0.11765825, 0.00339341,\n",
       "        0.16159073],\n",
       "       ...,\n",
       "       [0.01101723, 0.63899907, 0.21299969, ..., 0.12082224, 0.00217774,\n",
       "        0.1322067 ],\n",
       "       [0.01845419, 0.44290059, 0.23199555, ..., 0.10070716, 0.00207478,\n",
       "        0.10545252],\n",
       "       [0.04244974, 0.74287042, 0.56599651, ..., 0.22993608, 0.00621181,\n",
       "        0.18394887]])"
      ]
     },
     "execution_count": 54,
     "metadata": {},
     "output_type": "execute_result"
    }
   ],
   "source": [
    "X_train_norm"
   ]
  },
  {
   "cell_type": "code",
   "execution_count": 55,
   "id": "144b5745",
   "metadata": {},
   "outputs": [
    {
     "data": {
      "text/plain": [
       "array([[ 0.65761025,  0.84315964,  0.17747999, ...,  0.2145386 ,\n",
       "         0.43322822,  1.42843026],\n",
       "       [-0.83784417, -1.08478865, -0.12876651, ..., -0.66389037,\n",
       "        -0.38675734, -0.18677449],\n",
       "       [ 1.25579201,  1.91424203, -0.23084868, ..., -1.07800688,\n",
       "         0.56692152, -0.10176371],\n",
       "       ...,\n",
       "       [-0.2396624 ,  1.63882084, -0.53709519, ...,  0.1266957 ,\n",
       "         0.33221551,  0.23827939],\n",
       "       [ 0.95670113,  1.45520672,  0.99413734, ...,  0.79179192,\n",
       "         0.90858217,  0.5783225 ],\n",
       "       [ 0.65761025, -0.47274157,  0.58580866, ...,  0.07649976,\n",
       "         1.17893973, -0.61182837]])"
      ]
     },
     "execution_count": 55,
     "metadata": {},
     "output_type": "execute_result"
    }
   ],
   "source": [
    "X_train_std"
   ]
  },
  {
   "cell_type": "markdown",
   "id": "8780dec6",
   "metadata": {},
   "source": [
    "### <font color='gold'> f. Invoke inbuilt kNN function. <br> Interpret the output obtained. </font>"
   ]
  },
  {
   "cell_type": "code",
   "execution_count": 45,
   "id": "5db69c28",
   "metadata": {},
   "outputs": [],
   "source": [
    "from sklearn.neighbors import KNeighborsClassifier\n",
    "classifier = KNeighborsClassifier(n_neighbors=5)\n",
    "classifier.fit(X_train, y_train.values.ravel())\n",
    "y_pred = classifier.predict(X_test)"
   ]
  },
  {
   "cell_type": "code",
   "execution_count": 46,
   "id": "475c9195",
   "metadata": {},
   "outputs": [
    {
     "data": {
      "text/plain": [
       "array([1, 0, 0, 0, 0, 1, 0, 0, 1, 0, 0, 0, 0, 0, 1, 0, 0, 0, 0, 0, 0, 1,\n",
       "       1, 0, 0, 0, 0, 0, 0, 0, 0, 1, 1, 1, 0, 0, 0, 0, 0, 0, 0, 1, 0, 1,\n",
       "       0, 0, 1, 1, 1, 0, 0, 0, 0, 0, 0, 1, 1, 0, 0, 1, 0, 1, 1, 0, 0, 0,\n",
       "       0, 1, 0, 0, 0, 0, 1, 0, 0, 1, 1, 1, 0, 0, 0, 1, 1, 0, 0, 0, 0, 0,\n",
       "       1, 1, 0, 0, 0, 1, 1, 0, 0, 0, 0, 0, 1, 0, 1, 0, 0, 1, 0, 1, 0, 0,\n",
       "       0, 1, 1, 0, 1, 0, 0, 0, 1, 1, 0, 0, 0, 0, 0, 1, 1, 0, 0, 0, 1, 0,\n",
       "       1, 0, 1, 0, 0, 0, 0, 1, 1, 0, 0, 1, 0, 1, 0, 1, 0, 1, 0, 0, 1, 0],\n",
       "      dtype=int64)"
      ]
     },
     "execution_count": 46,
     "metadata": {},
     "output_type": "execute_result"
    }
   ],
   "source": [
    "y_pred"
   ]
  },
  {
   "cell_type": "markdown",
   "id": "2b1e70fa",
   "metadata": {},
   "source": [
    "#### <font color='green'> Interpretation: y_pred contains predictions derived from X_test on basis of model KNeighborsClassifier trained with train dataset X_train </font>"
   ]
  },
  {
   "cell_type": "markdown",
   "id": "a4b63941",
   "metadata": {},
   "source": [
    "### <font color='gold'> g. Evaluate kNN. <br> Explain the output obtained. </font>"
   ]
  },
  {
   "cell_type": "code",
   "execution_count": 47,
   "id": "eeabcb0c",
   "metadata": {},
   "outputs": [
    {
     "name": "stdout",
     "output_type": "stream",
     "text": [
      "[[78 21]\n",
      " [25 30]]\n",
      "              precision    recall  f1-score   support\n",
      "\n",
      "           0       0.76      0.79      0.77        99\n",
      "           1       0.59      0.55      0.57        55\n",
      "\n",
      "    accuracy                           0.70       154\n",
      "   macro avg       0.67      0.67      0.67       154\n",
      "weighted avg       0.70      0.70      0.70       154\n",
      "\n"
     ]
    }
   ],
   "source": [
    "from sklearn.metrics import classification_report, confusion_matrix\n",
    "print(confusion_matrix(y_test, y_pred))\n",
    "print(classification_report(y_test, y_pred))"
   ]
  },
  {
   "cell_type": "markdown",
   "id": "298e336e",
   "metadata": {},
   "source": [
    "#### <font color='green'> Interpretation: accuracy of the KNeighborsClassifier model for this dataset is 70%. Precision, recall and f1-score of predicting 0 is 0.76, 0.79 and 0.77 respectively. Precision, recall and f1-score of predicting 1 is 0.59, 0.55 and 0.57 respectively."
   ]
  },
  {
   "cell_type": "markdown",
   "id": "7ba3b622",
   "metadata": {},
   "source": [
    "### <font color='gold'> h. Find the total number of correct predictions, Type 1 error(FP) and Type 2 error(FN) </font>"
   ]
  },
  {
   "cell_type": "code",
   "execution_count": 48,
   "id": "d51e6f59",
   "metadata": {},
   "outputs": [
    {
     "data": {
      "text/plain": [
       "<AxesSubplot:>"
      ]
     },
     "execution_count": 48,
     "metadata": {},
     "output_type": "execute_result"
    },
    {
     "data": {
      "image/png": "[encoded data removed]",
      "text/plain": [
       "<Figure size 432x288 with 2 Axes>"
      ]
     },
     "metadata": {},
     "output_type": "display_data"
    }
   ],
   "source": [
    "from sklearn import metrics\n",
    "cf_matrix = metrics.confusion_matrix(y_test, y_pred)\n",
    "group_names = ['True Neg(TN)', 'False Pos(FP TYPE 1 Error)', 'False Neg(FN Type 2 Error)', 'True Pos(TP)']\n",
    "group_counts = [\"{0:0.0f}\".format(value) for value in cf_matrix.flatten()]\n",
    "group_percentages = [\"{0:.2%}\".format(value) for value in cf_matrix.flatten()/np.sum(cf_matrix)]\n",
    "labels = [f\"{v1}\\n{v2}\\n{v3}\" for v1, v2, v3 in zip(group_names,group_counts,group_percentages)]\n",
    "labels = np.asarray(labels).reshape(2,2)\n",
    "import seaborn as sns\n",
    "sns.heatmap(cf_matrix, annot=labels, fmt='')"
   ]
  },
  {
   "cell_type": "markdown",
   "id": "a9f3ff36",
   "metadata": {},
   "source": [
    "### <font color='gold'> i. Plot the Type 1 and Type 2 error for different values of ‘k’ values.  <br> (X-axis : k value and Y-axis : Type 1 error as well as Type 2 error).</font>"
   ]
  },
  {
   "cell_type": "code",
   "execution_count": 49,
   "id": "8ede2e03",
   "metadata": {},
   "outputs": [],
   "source": [
    "def KNN(k, X_train, y_train):\n",
    "    classifier = KNeighborsClassifier(n_neighbors=k)\n",
    "    classifier.fit(X_train, y_train.values.ravel())\n",
    "    y_pred = classifier.predict(X_test)\n",
    "    return y_pred"
   ]
  },
  {
   "cell_type": "code",
   "execution_count": 50,
   "id": "39dae799",
   "metadata": {},
   "outputs": [],
   "source": [
    "y_pred_list = []\n",
    "num_of_k = 30\n",
    "for k in range(1, num_of_k):\n",
    "    y_pred_list.append(KNN(k, X_train, y_train))"
   ]
  },
  {
   "cell_type": "code",
   "execution_count": 51,
   "id": "c5d90d25",
   "metadata": {},
   "outputs": [
    {
     "data": {
      "text/plain": [
       "(21, 25)"
      ]
     },
     "execution_count": 51,
     "metadata": {},
     "output_type": "execute_result"
    }
   ],
   "source": [
    "cf_matrix[0][1], cf_matrix[1][0]"
   ]
  },
  {
   "cell_type": "code",
   "execution_count": 52,
   "id": "8e3676ff",
   "metadata": {},
   "outputs": [
    {
     "data": {
      "text/plain": [
       "29"
      ]
     },
     "execution_count": 52,
     "metadata": {},
     "output_type": "execute_result"
    }
   ],
   "source": [
    "len(y_pred_list)"
   ]
  },
  {
   "cell_type": "code",
   "execution_count": 53,
   "id": "97d2730f",
   "metadata": {},
   "outputs": [
    {
     "data": {
      "image/png": "[encoded data removed]",
      "text/plain": [
       "<Figure size 432x288 with 2 Axes>"
      ]
     },
     "metadata": {},
     "output_type": "display_data"
    }
   ],
   "source": [
    "fig, ax1 = plt.subplots()\n",
    "x = list(range(1, num_of_k))\n",
    "y1 = []\n",
    "y2 = []\n",
    "for k in range(0, num_of_k-1):\n",
    "    cf_matrix = metrics.confusion_matrix(y_test, y_pred_list[k])\n",
    "    y1.append(cf_matrix[0][1])\n",
    "    y2.append(cf_matrix[1][0])\n",
    "ax2 = ax1.twinx()\n",
    "ax1.plot(x, y1, 'g-')\n",
    "ax2.plot(x, y2, 'b-')\n",
    "\n",
    "ax1.set_xlabel('X data')\n",
    "ax1.set_ylabel('Y1 Type1 Error', color='g')\n",
    "ax2.set_ylabel('Y2 Type2 Error', color='b')\n",
    "\n",
    "plt.show()"
   ]
  }
 ],
 "metadata": {
  "kernelspec": {
   "display_name": "Python 3",
   "language": "python",
   "name": "python3"
  },
  "language_info": {
   "codemirror_mode": {
    "name": "ipython",
    "version": 3
   },
   "file_extension": ".py",
   "mimetype": "text/x-python",
   "name": "python",
   "nbconvert_exporter": "python",
   "pygments_lexer": "ipython3",
   "version": "3.8.3"
  }
 },
 "nbformat": 4,
 "nbformat_minor": 5
}
