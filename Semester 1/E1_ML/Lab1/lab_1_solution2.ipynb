{
 "cells": [
  {
   "cell_type": "markdown",
   "id": "f4267d5f",
   "metadata": {},
   "source": [
    "# Lab 1: Data Loading, Summary, and Visualization"
   ]
  },
  {
   "cell_type": "markdown",
   "id": "6bf8557a",
   "metadata": {},
   "source": [
    "### 1. Create Dataframe"
   ]
  },
  {
   "cell_type": "code",
   "execution_count": 1,
   "id": "58adab73",
   "metadata": {},
   "outputs": [
    {
     "name": "stdout",
     "output_type": "stream",
     "text": [
      "   f1  f2  f3\n",
      "a   1   2   3\n",
      "b   4   5   6\n"
     ]
    }
   ],
   "source": [
    "import numpy\n",
    "import pandas\n",
    "myarray = numpy.array([[1,2,3],[4,5,6]])\n",
    "rownames = ['a','b']\n",
    "colnames=['f1','f2','f3']\n",
    "mydataframe = pandas.DataFrame(myarray, index = rownames, columns=colnames)\n",
    "print(mydataframe)"
   ]
  },
  {
   "cell_type": "markdown",
   "id": "953d10fc",
   "metadata": {},
   "source": [
    "### Change the type of data"
   ]
  },
  {
   "cell_type": "code",
   "execution_count": 2,
   "id": "efbadb52",
   "metadata": {},
   "outputs": [
    {
     "name": "stdout",
     "output_type": "stream",
     "text": [
      "   f1       f2   f3\n",
      "r1  a  sandhya  9.6\n",
      "r2  4   shreya  6.5\n"
     ]
    }
   ],
   "source": [
    "import numpy\n",
    "import pandas\n",
    "myarray = numpy.array([['a','sandhya',9.6],[4,'shreya',6.5]])\n",
    "rownames = ['r1','r2']\n",
    "colnames=['f1','f2','f3']\n",
    "mydataframe = pandas.DataFrame(myarray, index = rownames, columns=colnames)\n",
    "print(mydataframe)"
   ]
  },
  {
   "cell_type": "markdown",
   "id": "d1589950",
   "metadata": {},
   "source": [
    "### 2. Load csv file using pandas from a specific path or url \n",
    "### Copy dataset given in https://www.kaggle.com/sudalairajkumar/novel-corona-virus-2019-dataset?select=covid_19_data.csv to your local folder."
   ]
  },
  {
   "cell_type": "code",
   "execution_count": 3,
   "id": "661e5425",
   "metadata": {},
   "outputs": [
    {
     "name": "stdout",
     "output_type": "stream",
     "text": [
      "(306429, 8)\n"
     ]
    }
   ],
   "source": [
    "from pandas import read_csv\n",
    "path='covid_19_data.csv'\n",
    "data=read_csv(path)\n",
    "print (data.shape) #to know size of the data"
   ]
  },
  {
   "cell_type": "code",
   "execution_count": 4,
   "id": "cd1de164",
   "metadata": {},
   "outputs": [
    {
     "data": {
      "text/html": [
       "<div>\n",
       "<style scoped>\n",
       "    .dataframe tbody tr th:only-of-type {\n",
       "        vertical-align: middle;\n",
       "    }\n",
       "\n",
       "    .dataframe tbody tr th {\n",
       "        vertical-align: top;\n",
       "    }\n",
       "\n",
       "    .dataframe thead th {\n",
       "        text-align: right;\n",
       "    }\n",
       "</style>\n",
       "<table border=\"1\" class=\"dataframe\">\n",
       "  <thead>\n",
       "    <tr style=\"text-align: right;\">\n",
       "      <th></th>\n",
       "      <th>SNo</th>\n",
       "      <th>ObservationDate</th>\n",
       "      <th>Province/State</th>\n",
       "      <th>Country/Region</th>\n",
       "      <th>Last Update</th>\n",
       "      <th>Confirmed</th>\n",
       "      <th>Deaths</th>\n",
       "      <th>Recovered</th>\n",
       "    </tr>\n",
       "  </thead>\n",
       "  <tbody>\n",
       "    <tr>\n",
       "      <th>0</th>\n",
       "      <td>1</td>\n",
       "      <td>01/22/2020</td>\n",
       "      <td>Anhui</td>\n",
       "      <td>Mainland China</td>\n",
       "      <td>1/22/2020 17:00</td>\n",
       "      <td>1.0</td>\n",
       "      <td>0.0</td>\n",
       "      <td>0.0</td>\n",
       "    </tr>\n",
       "    <tr>\n",
       "      <th>1</th>\n",
       "      <td>2</td>\n",
       "      <td>01/22/2020</td>\n",
       "      <td>Beijing</td>\n",
       "      <td>Mainland China</td>\n",
       "      <td>1/22/2020 17:00</td>\n",
       "      <td>14.0</td>\n",
       "      <td>0.0</td>\n",
       "      <td>0.0</td>\n",
       "    </tr>\n",
       "    <tr>\n",
       "      <th>2</th>\n",
       "      <td>3</td>\n",
       "      <td>01/22/2020</td>\n",
       "      <td>Chongqing</td>\n",
       "      <td>Mainland China</td>\n",
       "      <td>1/22/2020 17:00</td>\n",
       "      <td>6.0</td>\n",
       "      <td>0.0</td>\n",
       "      <td>0.0</td>\n",
       "    </tr>\n",
       "    <tr>\n",
       "      <th>3</th>\n",
       "      <td>4</td>\n",
       "      <td>01/22/2020</td>\n",
       "      <td>Fujian</td>\n",
       "      <td>Mainland China</td>\n",
       "      <td>1/22/2020 17:00</td>\n",
       "      <td>1.0</td>\n",
       "      <td>0.0</td>\n",
       "      <td>0.0</td>\n",
       "    </tr>\n",
       "    <tr>\n",
       "      <th>4</th>\n",
       "      <td>5</td>\n",
       "      <td>01/22/2020</td>\n",
       "      <td>Gansu</td>\n",
       "      <td>Mainland China</td>\n",
       "      <td>1/22/2020 17:00</td>\n",
       "      <td>0.0</td>\n",
       "      <td>0.0</td>\n",
       "      <td>0.0</td>\n",
       "    </tr>\n",
       "    <tr>\n",
       "      <th>...</th>\n",
       "      <td>...</td>\n",
       "      <td>...</td>\n",
       "      <td>...</td>\n",
       "      <td>...</td>\n",
       "      <td>...</td>\n",
       "      <td>...</td>\n",
       "      <td>...</td>\n",
       "      <td>...</td>\n",
       "    </tr>\n",
       "    <tr>\n",
       "      <th>306424</th>\n",
       "      <td>306425</td>\n",
       "      <td>05/29/2021</td>\n",
       "      <td>Zaporizhia Oblast</td>\n",
       "      <td>Ukraine</td>\n",
       "      <td>2021-05-30 04:20:55</td>\n",
       "      <td>102641.0</td>\n",
       "      <td>2335.0</td>\n",
       "      <td>95289.0</td>\n",
       "    </tr>\n",
       "    <tr>\n",
       "      <th>306425</th>\n",
       "      <td>306426</td>\n",
       "      <td>05/29/2021</td>\n",
       "      <td>Zeeland</td>\n",
       "      <td>Netherlands</td>\n",
       "      <td>2021-05-30 04:20:55</td>\n",
       "      <td>29147.0</td>\n",
       "      <td>245.0</td>\n",
       "      <td>0.0</td>\n",
       "    </tr>\n",
       "    <tr>\n",
       "      <th>306426</th>\n",
       "      <td>306427</td>\n",
       "      <td>05/29/2021</td>\n",
       "      <td>Zhejiang</td>\n",
       "      <td>Mainland China</td>\n",
       "      <td>2021-05-30 04:20:55</td>\n",
       "      <td>1364.0</td>\n",
       "      <td>1.0</td>\n",
       "      <td>1324.0</td>\n",
       "    </tr>\n",
       "    <tr>\n",
       "      <th>306427</th>\n",
       "      <td>306428</td>\n",
       "      <td>05/29/2021</td>\n",
       "      <td>Zhytomyr Oblast</td>\n",
       "      <td>Ukraine</td>\n",
       "      <td>2021-05-30 04:20:55</td>\n",
       "      <td>87550.0</td>\n",
       "      <td>1738.0</td>\n",
       "      <td>83790.0</td>\n",
       "    </tr>\n",
       "    <tr>\n",
       "      <th>306428</th>\n",
       "      <td>306429</td>\n",
       "      <td>05/29/2021</td>\n",
       "      <td>Zuid-Holland</td>\n",
       "      <td>Netherlands</td>\n",
       "      <td>2021-05-30 04:20:55</td>\n",
       "      <td>391559.0</td>\n",
       "      <td>4252.0</td>\n",
       "      <td>0.0</td>\n",
       "    </tr>\n",
       "  </tbody>\n",
       "</table>\n",
       "<p>306429 rows × 8 columns</p>\n",
       "</div>"
      ],
      "text/plain": [
       "           SNo ObservationDate     Province/State  Country/Region  \\\n",
       "0            1      01/22/2020              Anhui  Mainland China   \n",
       "1            2      01/22/2020            Beijing  Mainland China   \n",
       "2            3      01/22/2020          Chongqing  Mainland China   \n",
       "3            4      01/22/2020             Fujian  Mainland China   \n",
       "4            5      01/22/2020              Gansu  Mainland China   \n",
       "...        ...             ...                ...             ...   \n",
       "306424  306425      05/29/2021  Zaporizhia Oblast         Ukraine   \n",
       "306425  306426      05/29/2021            Zeeland     Netherlands   \n",
       "306426  306427      05/29/2021           Zhejiang  Mainland China   \n",
       "306427  306428      05/29/2021    Zhytomyr Oblast         Ukraine   \n",
       "306428  306429      05/29/2021       Zuid-Holland     Netherlands   \n",
       "\n",
       "                Last Update  Confirmed  Deaths  Recovered  \n",
       "0           1/22/2020 17:00        1.0     0.0        0.0  \n",
       "1           1/22/2020 17:00       14.0     0.0        0.0  \n",
       "2           1/22/2020 17:00        6.0     0.0        0.0  \n",
       "3           1/22/2020 17:00        1.0     0.0        0.0  \n",
       "4           1/22/2020 17:00        0.0     0.0        0.0  \n",
       "...                     ...        ...     ...        ...  \n",
       "306424  2021-05-30 04:20:55   102641.0  2335.0    95289.0  \n",
       "306425  2021-05-30 04:20:55    29147.0   245.0        0.0  \n",
       "306426  2021-05-30 04:20:55     1364.0     1.0     1324.0  \n",
       "306427  2021-05-30 04:20:55    87550.0  1738.0    83790.0  \n",
       "306428  2021-05-30 04:20:55   391559.0  4252.0        0.0  \n",
       "\n",
       "[306429 rows x 8 columns]"
      ]
     },
     "execution_count": 4,
     "metadata": {},
     "output_type": "execute_result"
    }
   ],
   "source": [
    "from pandas import read_csv\n",
    "url='https://gist.githubusercontent.com/manavpatadia/72b462bc1fdd16fa9aa4aac2bd5ebfb6/raw/ed3b18bda80f53f071b5d3b681f6c04a4fb62128/covid_19_data.csv'\n",
    "data=read_csv(url)\n",
    "colnames=['SNo', 'ObservationDate', 'Province/State', 'Country/Region', 'Last Update', 'Confirmed', 'Deaths', 'Recovered']\n",
    "data"
   ]
  },
  {
   "cell_type": "markdown",
   "id": "34412252",
   "metadata": {},
   "source": [
    "### 3. To get statistical summary of the data"
   ]
  },
  {
   "cell_type": "markdown",
   "id": "786c4fae",
   "metadata": {},
   "source": [
    "#### a. Get the data statistics"
   ]
  },
  {
   "cell_type": "code",
   "execution_count": 5,
   "id": "e5aa12e2",
   "metadata": {},
   "outputs": [
    {
     "name": "stdout",
     "output_type": "stream",
     "text": [
      "                 SNo     Confirmed         Deaths     Recovered\n",
      "count  306429.000000  3.064290e+05  306429.000000  3.064290e+05\n",
      "mean   153215.000000  8.567091e+04    2036.403268  5.042029e+04\n",
      "std     88458.577156  2.775516e+05    6410.938048  2.015124e+05\n",
      "min         1.000000 -3.028440e+05    -178.000000 -8.544050e+05\n",
      "25%     76608.000000  1.042000e+03      13.000000  1.100000e+01\n",
      "50%    153215.000000  1.037500e+04     192.000000  1.751000e+03\n",
      "75%    229822.000000  5.075200e+04    1322.000000  2.027000e+04\n",
      "max    306429.000000  5.863138e+06  112385.000000  6.399531e+06\n"
     ]
    }
   ],
   "source": [
    "description = data.describe()\n",
    "print(description)"
   ]
  },
  {
   "cell_type": "markdown",
   "id": "89c6f622",
   "metadata": {},
   "source": [
    "### Here 25%, 50%, gives % of data that falls below a given corresponding value in each column."
   ]
  },
  {
   "cell_type": "markdown",
   "id": "f2aafa3b",
   "metadata": {},
   "source": [
    "#### b. Size of matrix"
   ]
  },
  {
   "cell_type": "code",
   "execution_count": 6,
   "id": "22cb56b8",
   "metadata": {},
   "outputs": [
    {
     "name": "stdout",
     "output_type": "stream",
     "text": [
      "(306429, 8)\n"
     ]
    }
   ],
   "source": [
    "print(data.shape)"
   ]
  },
  {
   "cell_type": "markdown",
   "id": "b1ce7378",
   "metadata": {},
   "source": [
    "#### c. Peek at data/ used to get the first n rows"
   ]
  },
  {
   "cell_type": "code",
   "execution_count": 7,
   "id": "43715c10",
   "metadata": {},
   "outputs": [
    {
     "name": "stdout",
     "output_type": "stream",
     "text": [
      "   SNo ObservationDate Province/State  Country/Region      Last Update  \\\n",
      "0    1      01/22/2020          Anhui  Mainland China  1/22/2020 17:00   \n",
      "1    2      01/22/2020        Beijing  Mainland China  1/22/2020 17:00   \n",
      "2    3      01/22/2020      Chongqing  Mainland China  1/22/2020 17:00   \n",
      "3    4      01/22/2020         Fujian  Mainland China  1/22/2020 17:00   \n",
      "\n",
      "   Confirmed  Deaths  Recovered  \n",
      "0        1.0     0.0        0.0  \n",
      "1       14.0     0.0        0.0  \n",
      "2        6.0     0.0        0.0  \n",
      "3        1.0     0.0        0.0  \n"
     ]
    }
   ],
   "source": [
    "print(data.head(4))"
   ]
  },
  {
   "cell_type": "markdown",
   "id": "97ed6edb",
   "metadata": {},
   "source": [
    "#### d. Group on the basis of a particular attribute"
   ]
  },
  {
   "cell_type": "code",
   "execution_count": 8,
   "id": "8d980470",
   "metadata": {},
   "outputs": [
    {
     "name": "stdout",
     "output_type": "stream",
     "text": [
      "Country/Region\n",
      " Azerbaijan                         1\n",
      "('St. Martin',)                     1\n",
      "Afghanistan                       461\n",
      "Albania                           447\n",
      "Algeria                           460\n",
      "                                 ... \n",
      "West Bank and Gaza                430\n",
      "Yemen                             415\n",
      "Zambia                            438\n",
      "Zimbabwe                          436\n",
      "occupied Palestinian territory      7\n",
      "Length: 229, dtype: int64\n"
     ]
    }
   ],
   "source": [
    "print(data.groupby('Country/Region').size())"
   ]
  },
  {
   "cell_type": "markdown",
   "id": "b9b6d77d",
   "metadata": {},
   "source": [
    "### 4. Data visualization\n",
    "#### For plotting pairs of attributes as scattered plot, specify the attributes to be plotted explicitly"
   ]
  },
  {
   "cell_type": "code",
   "execution_count": 9,
   "id": "8efe1725",
   "metadata": {},
   "outputs": [
    {
     "data": {
      "image/png": "[encoded data removed]",
      "text/plain": [
       "<Figure size 432x288 with 4 Axes>"
      ]
     },
     "metadata": {
      "needs_background": "light"
     },
     "output_type": "display_data"
    }
   ],
   "source": [
    "import matplotlib.pyplot as plt\n",
    "import pandas\n",
    "from pandas.plotting import scatter_matrix\n",
    "scatter_matrix(data[['Deaths','Recovered']])\n",
    "plt.show()"
   ]
  },
  {
   "cell_type": "markdown",
   "id": "99c83141",
   "metadata": {},
   "source": [
    "#### For plotting all pairs of attributes in data"
   ]
  },
  {
   "cell_type": "code",
   "execution_count": 10,
   "id": "359df51f",
   "metadata": {},
   "outputs": [
    {
     "data": {
      "image/png": "[encoded data removed]",
      "text/plain": [
       "<Figure size 432x288 with 16 Axes>"
      ]
     },
     "metadata": {
      "needs_background": "light"
     },
     "output_type": "display_data"
    },
    {
     "data": {
      "image/png": "[encoded data removed]",
      "text/plain": [
       "<Figure size 432x288 with 4 Axes>"
      ]
     },
     "metadata": {
      "needs_background": "light"
     },
     "output_type": "display_data"
    }
   ],
   "source": [
    "import matplotlib.pyplot as plt\n",
    "import pandas\n",
    "from pandas.plotting import scatter_matrix\n",
    "scatter_matrix(data) #scatter plot\n",
    "plt.show()\n",
    "data.hist() #histogram\n",
    "plt.show()"
   ]
  },
  {
   "cell_type": "markdown",
   "id": "6fa0c1c3",
   "metadata": {},
   "source": [
    "### 5. Standardization of dataset"
   ]
  },
  {
   "cell_type": "code",
   "execution_count": 11,
   "id": "884b63bd",
   "metadata": {},
   "outputs": [
    {
     "name": "stdout",
     "output_type": "stream",
     "text": [
      "[[-0.309 -0.318]\n",
      " [-0.309 -0.318]]\n",
      "[[1.0 0.0]\n",
      " [14.0 0.0]]\n"
     ]
    }
   ],
   "source": [
    "from sklearn.preprocessing import StandardScaler\n",
    "import pandas\n",
    "import numpy\n",
    "arr=data.values #convert data frame to array\n",
    "X=arr[:,5:7] #split columns\n",
    "Y=arr[:,7]\n",
    "scaler=StandardScaler().fit(X) #fit data for standardization\n",
    "rescaledX=scaler.transform(X) #convert the data as per (x-μ)/σ\n",
    "numpy.set_printoptions(precision=3)\n",
    "print(rescaledX[0:2,:])\n",
    "print(X[0:2,:])"
   ]
  },
  {
   "cell_type": "markdown",
   "id": "2892e5c7",
   "metadata": {},
   "source": [
    "### 6. Normalizing a column in pandas\n",
    "#### Create the dataframe"
   ]
  },
  {
   "cell_type": "markdown",
   "id": "7eb48566",
   "metadata": {},
   "source": [
    "#### Plot normalized data"
   ]
  },
  {
   "cell_type": "code",
   "execution_count": 14,
   "id": "3f446ca1",
   "metadata": {},
   "outputs": [
    {
     "name": "stdout",
     "output_type": "stream",
     "text": [
      "               0         1\n",
      "0       0.049115  0.001581\n",
      "1       0.049118  0.001581\n",
      "2       0.049116  0.001581\n",
      "3       0.049115  0.001581\n",
      "4       0.049115  0.001581\n",
      "...          ...       ...\n",
      "306424  0.065762  0.022325\n",
      "306425  0.053842  0.003758\n",
      "306426  0.049337  0.001590\n",
      "306427  0.063314  0.017022\n",
      "306428  0.112618  0.039356\n",
      "\n",
      "[306429 rows x 2 columns]\n"
     ]
    }
   ],
   "source": [
    "from sklearn import preprocessing\n",
    "fl_x=X\n",
    "#fl_x=mydataframe[['f1']].values.astype(float) #If specific feature name is to be converted\n",
    "min_max_scaler=preprocessing.MinMaxScaler()\n",
    "X_scaled=min_max_scaler.fit_transform(fl_x)\n",
    "df_normalized=pandas.DataFrame(X_scaled)\n",
    "print(df_normalized)"
   ]
  },
  {
   "cell_type": "code",
   "execution_count": 17,
   "id": "16ae3fe4",
   "metadata": {},
   "outputs": [
    {
     "data": {
      "image/png": "[encoded data removed]",
      "text/plain": [
       "<Figure size 432x288 with 1 Axes>"
      ]
     },
     "metadata": {
      "needs_background": "light"
     },
     "output_type": "display_data"
    }
   ],
   "source": [
    "df_normalized[0:20].plot(kind='bar')\n",
    "plt.show()"
   ]
  },
  {
   "cell_type": "markdown",
   "id": "936c4ba3",
   "metadata": {},
   "source": [
    "### Identify the difference in the standardization and normalization of data."
   ]
  },
  {
   "cell_type": "markdown",
   "id": "b97a314a",
   "metadata": {},
   "source": [
    "______________________________________________________________________________________________________________________________________\n",
    "\n",
    "##### ***Normalization*** is a scaling technique in which values are shifted and rescaled so that they end up ranging between 0 and 1. It is also known as Min-Max scaling.\n",
    "##### ***Standardization*** is another scaling technique where the values are centered around the mean with a unit standard deviation. This means that the mean of the attribute becomes zero and the resultant distribution has a unit standard deviation.\n",
    "______________________________________________________________________________________________________________________________________\n",
    "\n",
    "##### ***Formula for Normalization*** = (X-Xmin) / (Xmax-Xmin)\n",
    "##### Xmax and Xmin are the maximum and the minimum values of the feature respectively.\n",
    "##### ***Formula for Standardization*** = (X-μ) / (σ)\n",
    "##### μ is the mean of the feature values and σ is the standard deviation of the feature values\n",
    "______________________________________________________________________________________________________________________________________\n",
    "##### ***Normalization*** is good to use when you know that the distribution of your data does not follow a Gaussian distribution. This can be useful in algorithms that do not assume any distribution of the data like K-Nearest Neighbors and Neural Networks.\n",
    "##### ***Standardization***, on the other hand, can be helpful in cases where the data follows a Gaussian distribution. However, this does not have to be necessarily true. Also, unlike normalization, standardization does not have a bounding range. So, even if you have outliers in your data, they will not be affected by standardization.\n",
    "______________________________________________________________________________________________________________________________________"
   ]
  }
 ],
 "metadata": {
  "kernelspec": {
   "display_name": "Python 3",
   "language": "python",
   "name": "python3"
  },
  "language_info": {
   "codemirror_mode": {
    "name": "ipython",
    "version": 3
   },
   "file_extension": ".py",
   "mimetype": "text/x-python",
   "name": "python",
   "nbconvert_exporter": "python",
   "pygments_lexer": "ipython3",
   "version": "3.8.3"
  }
 },
 "nbformat": 4,
 "nbformat_minor": 5
}
