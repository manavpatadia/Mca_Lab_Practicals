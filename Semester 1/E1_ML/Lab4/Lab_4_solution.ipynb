{
 "cells": [
  {
   "cell_type": "markdown",
   "id": "ea65a6ef",
   "metadata": {},
   "source": [
    "# <font color='orange'> <center> LAB 4 <br> Logistic Regression for Classification"
   ]
  },
  {
   "cell_type": "markdown",
   "id": "62e5ccd8",
   "metadata": {},
   "source": [
    "## <font color='orange'> PART A: Prerequisite for Linear Regression implementation"
   ]
  },
  {
   "cell_type": "markdown",
   "id": "96f07aaf",
   "metadata": {},
   "source": [
    "### <font color='orange'> 1. Plot the attached dataset data1.csv using scatter plot. There is a target feature with discrete values 0,1. If the target feature is 1, the samples should be shown as red circle. If the target feature is 0, the samples should be shown as green x."
   ]
  },
  {
   "cell_type": "code",
   "execution_count": 1,
   "id": "fda1d5e7",
   "metadata": {},
   "outputs": [],
   "source": [
    "import numpy as np\n",
    "import pandas as pd\n",
    "import seaborn as sns\n",
    "import matplotlib.pyplot as plt\n",
    "from sklearn.metrics import mean_squared_error\n",
    "from sklearn.linear_model import LinearRegression\n",
    "from sklearn.model_selection import train_test_split\n",
    "from scipy.optimize import fmin_tnc\n",
    "import scipy.optimize as op\n",
    "\n",
    "from sklearn import metrics\n",
    "from sklearn.linear_model import LogisticRegression \n",
    "from sklearn.metrics import confusion_matrix, accuracy_score, classification_report, roc_auc_score, roc_curve\n",
    "plt.style.use(\"Solarize_Light2\")\n",
    "import random\n",
    "np.random.seed(9)\n",
    "np.set_printoptions(suppress=True)\n",
    "import math\n",
    "import warnings\n",
    "warnings.filterwarnings('ignore')"
   ]
  },
  {
   "cell_type": "code",
   "execution_count": 2,
   "id": "a36efb79",
   "metadata": {},
   "outputs": [
    {
     "data": {
      "text/html": [
       "<div>\n",
       "<style scoped>\n",
       "    .dataframe tbody tr th:only-of-type {\n",
       "        vertical-align: middle;\n",
       "    }\n",
       "\n",
       "    .dataframe tbody tr th {\n",
       "        vertical-align: top;\n",
       "    }\n",
       "\n",
       "    .dataframe thead th {\n",
       "        text-align: right;\n",
       "    }\n",
       "</style>\n",
       "<table border=\"1\" class=\"dataframe\">\n",
       "  <thead>\n",
       "    <tr style=\"text-align: right;\">\n",
       "      <th></th>\n",
       "      <th>x1</th>\n",
       "      <th>x2</th>\n",
       "      <th>y</th>\n",
       "    </tr>\n",
       "  </thead>\n",
       "  <tbody>\n",
       "    <tr>\n",
       "      <th>0</th>\n",
       "      <td>4.5192</td>\n",
       "      <td>2.6487</td>\n",
       "      <td>1</td>\n",
       "    </tr>\n",
       "    <tr>\n",
       "      <th>1</th>\n",
       "      <td>2.4443</td>\n",
       "      <td>1.5438</td>\n",
       "      <td>1</td>\n",
       "    </tr>\n",
       "    <tr>\n",
       "      <th>2</th>\n",
       "      <td>4.2409</td>\n",
       "      <td>1.8990</td>\n",
       "      <td>1</td>\n",
       "    </tr>\n",
       "    <tr>\n",
       "      <th>3</th>\n",
       "      <td>5.8097</td>\n",
       "      <td>2.4711</td>\n",
       "      <td>1</td>\n",
       "    </tr>\n",
       "    <tr>\n",
       "      <th>4</th>\n",
       "      <td>6.4423</td>\n",
       "      <td>3.3590</td>\n",
       "      <td>1</td>\n",
       "    </tr>\n",
       "    <tr>\n",
       "      <th>...</th>\n",
       "      <td>...</td>\n",
       "      <td>...</td>\n",
       "      <td>...</td>\n",
       "    </tr>\n",
       "    <tr>\n",
       "      <th>95</th>\n",
       "      <td>5.9868</td>\n",
       "      <td>7.3641</td>\n",
       "      <td>0</td>\n",
       "    </tr>\n",
       "    <tr>\n",
       "      <th>96</th>\n",
       "      <td>4.6711</td>\n",
       "      <td>6.2592</td>\n",
       "      <td>0</td>\n",
       "    </tr>\n",
       "    <tr>\n",
       "      <th>97</th>\n",
       "      <td>7.5810</td>\n",
       "      <td>8.3703</td>\n",
       "      <td>0</td>\n",
       "    </tr>\n",
       "    <tr>\n",
       "      <th>98</th>\n",
       "      <td>4.6457</td>\n",
       "      <td>8.5676</td>\n",
       "      <td>0</td>\n",
       "    </tr>\n",
       "    <tr>\n",
       "      <th>99</th>\n",
       "      <td>4.6457</td>\n",
       "      <td>8.1676</td>\n",
       "      <td>0</td>\n",
       "    </tr>\n",
       "  </tbody>\n",
       "</table>\n",
       "<p>100 rows × 3 columns</p>\n",
       "</div>"
      ],
      "text/plain": [
       "        x1      x2  y\n",
       "0   4.5192  2.6487  1\n",
       "1   2.4443  1.5438  1\n",
       "2   4.2409  1.8990  1\n",
       "3   5.8097  2.4711  1\n",
       "4   6.4423  3.3590  1\n",
       "..     ...     ... ..\n",
       "95  5.9868  7.3641  0\n",
       "96  4.6711  6.2592  0\n",
       "97  7.5810  8.3703  0\n",
       "98  4.6457  8.5676  0\n",
       "99  4.6457  8.1676  0\n",
       "\n",
       "[100 rows x 3 columns]"
      ]
     },
     "execution_count": 2,
     "metadata": {},
     "output_type": "execute_result"
    }
   ],
   "source": [
    "df_data1 = pd.read_csv(\"data1.csv\")\n",
    "df_data1"
   ]
  },
  {
   "cell_type": "code",
   "execution_count": 3,
   "id": "92548039",
   "metadata": {},
   "outputs": [],
   "source": [
    "x1 = df_data1['x1']\n",
    "x2 = df_data1['x2']\n",
    "y = df_data1[['y']]\n",
    "col = np.where(y == 1,'r','b')\n",
    "col = [i[0] for i in col]"
   ]
  },
  {
   "cell_type": "code",
   "execution_count": 4,
   "id": "ea21cd1f",
   "metadata": {},
   "outputs": [
    {
     "data": {
      "image/png": "[encoded data removed]",
      "text/plain": [
       "<Figure size 432x288 with 1 Axes>"
      ]
     },
     "metadata": {},
     "output_type": "display_data"
    }
   ],
   "source": [
    "plt.scatter(x1, x2, c=col, s=10, linewidth=3)\n",
    "plt.xlabel(\"x1\")\n",
    "plt.ylabel(\"x2\")\n",
    "plt.show()"
   ]
  },
  {
   "cell_type": "markdown",
   "id": "9322eedd",
   "metadata": {},
   "source": [
    "### <font color='orange'> 2. Plot a line y=(2x+3)"
   ]
  },
  {
   "cell_type": "code",
   "execution_count": 5,
   "id": "82906ad5",
   "metadata": {},
   "outputs": [
    {
     "data": {
      "text/plain": [
       "<matplotlib.legend.Legend at 0x18bd8f598e0>"
      ]
     },
     "execution_count": 5,
     "metadata": {},
     "output_type": "execute_result"
    },
    {
     "data": {
      "image/png": "[encoded data removed]",
      "text/plain": [
       "<Figure size 1440x360 with 2 Axes>"
      ]
     },
     "metadata": {},
     "output_type": "display_data"
    }
   ],
   "source": [
    "y1 = [(2*i+3) for i in list(x1)]\n",
    "y2 = [(2*i+3) for i in list(x2)]\n",
    "fig = plt.figure()\n",
    "fig.set_figheight(5)\n",
    "fig.set_figwidth(20)\n",
    "plt.subplot(1, 2, 1)\n",
    "plt.plot(x1, y1, color='green', label = \"line y1 = 2(x1)+3\", marker='o', markerfacecolor='black', markersize=3)\n",
    "plt.xlabel('x - axis')\n",
    "plt.ylabel('y - axis')\n",
    "plt.title('line y = 2(x1)+3')\n",
    "plt.legend()\n",
    "\n",
    "plt.subplot(1, 2, 2)\n",
    "plt.plot(x2, y2, color='blue', label = \"line y2 = 2(x2)+3\", marker='o', markerfacecolor='black', markersize=3)\n",
    "plt.xlabel('x - axis')\n",
    "plt.ylabel('y - axis')\n",
    "plt.title('line y = 2(x2)+3')\n",
    "plt.legend()"
   ]
  },
  {
   "cell_type": "markdown",
   "id": "4c92319a",
   "metadata": {},
   "source": [
    "### <font color='orange'> 3. Define a function sigmoid(z) that takes one parameter z and computes 1/(1+e^-z). Create a vector V with 10 values randomly in the range [-1000,1000]. Transform V to V' that consists of respective sigmoid values using the defined function. Observe the range of output values in V'."
   ]
  },
  {
   "cell_type": "code",
   "execution_count": 6,
   "id": "a8ccf161",
   "metadata": {},
   "outputs": [],
   "source": [
    "def sigmoid(z): # Activation function used to map any real value between 0 and 1\n",
    "    return (1 / (1 + np.exp(-z)))"
   ]
  },
  {
   "cell_type": "code",
   "execution_count": 7,
   "id": "1a205b53",
   "metadata": {},
   "outputs": [
    {
     "name": "stdout",
     "output_type": "stream",
     "text": [
      "[-372, -751, -676, -667, -84, -543, 68, -411, 667, 415]\n",
      "[2.769827558563886e-162, 0.0, 2.6117417612840555e-294, 2.1163162688838258e-290, 3.305700626760734e-37, 1.5069412687587628e-236, 1.0, 3.198658956689277e-179, 1.0, 1.0]\n"
     ]
    }
   ],
   "source": [
    "v = [round(random.uniform(-1000, 1000)) for i in range(10)]\n",
    "v_ = [sigmoid(z) for z in v]\n",
    "print(v)\n",
    "print(v_)"
   ]
  },
  {
   "cell_type": "markdown",
   "id": "45b0cb58",
   "metadata": {},
   "source": [
    "### <font color='orange'> 4. Define a function hypothesis(theta, X) that takes two vectors as parameters, theta and X. If sigmoid(theta.X) >= 0.5, output 0 else output 1."
   ]
  },
  {
   "cell_type": "code",
   "execution_count": 8,
   "id": "a15e1621",
   "metadata": {},
   "outputs": [],
   "source": [
    "def hypothesis(theta, x): #probability\n",
    "    s = sigmoid(np.dot(x, theta)) # Computes sigmoid of the weighted sum of inputs\n",
    "    return 0 if(s >= 0.5) else 1"
   ]
  },
  {
   "cell_type": "markdown",
   "id": "4ccf4d46",
   "metadata": {},
   "source": [
    "### <font color='orange'> 5. Define a function cost(theta,X,y) to compute the error <br> Error = 1/m*Σ-yilog(hθ(xi)) - (1-yi)log(1-hθ (xi)) <br> Where xi is the ith sample and yi is the ith label, hθ(xi) is the hypothesis(theta,xi)"
   ]
  },
  {
   "cell_type": "code",
   "execution_count": 9,
   "id": "bbcc4467",
   "metadata": {},
   "outputs": [],
   "source": [
    "def cost_function(theta, x, y): # Computes the cost function\n",
    "    m = x.shape[0]\n",
    "    h = hypothesis(theta, x)\n",
    "    sum = np.sum(y * np.log(h) + (1 - y) * np.log(1 - h))\n",
    "    total_cost = -(1 / m) * sum\n",
    "    return total_cost\n",
    "\n",
    "def gradient(theta, x, y): # Computes the gradient of the cost function at the point theta\n",
    "    m = x.shape[0]\n",
    "    return (1 / m) * np.dot(x.T, sigmoid(np.dot(theta,x)) - y)"
   ]
  },
  {
   "cell_type": "markdown",
   "id": "e598913b",
   "metadata": {},
   "source": [
    "## <font color='orange'> PART B : Implementation of logistic regression"
   ]
  },
  {
   "cell_type": "markdown",
   "id": "8d4b012d",
   "metadata": {},
   "source": [
    "### <font color='orange'>  6. Implement gradient descent algorithm for logistic regression in data set loan_data.csv. <br> - read training dataset <br> - convert dataset to a feature matrix X <br> - normalizing feature matrix X <br> - stack columns with all ones in feature matrix <br> - target feature to be taken in a separate vector <br> - initial theta values <br> - gradient descent updation <br> - Display estimated theta values and number of iterations to converge <br> - Predict for test data"
   ]
  },
  {
   "cell_type": "markdown",
   "id": "d9d6c49e",
   "metadata": {},
   "source": [
    "#### <font color='orange'> read training dataset"
   ]
  },
  {
   "cell_type": "code",
   "execution_count": 10,
   "id": "bfe26d65",
   "metadata": {},
   "outputs": [
    {
     "data": {
      "text/html": [
       "<div>\n",
       "<style scoped>\n",
       "    .dataframe tbody tr th:only-of-type {\n",
       "        vertical-align: middle;\n",
       "    }\n",
       "\n",
       "    .dataframe tbody tr th {\n",
       "        vertical-align: top;\n",
       "    }\n",
       "\n",
       "    .dataframe thead th {\n",
       "        text-align: right;\n",
       "    }\n",
       "</style>\n",
       "<table border=\"1\" class=\"dataframe\">\n",
       "  <thead>\n",
       "    <tr style=\"text-align: right;\">\n",
       "      <th></th>\n",
       "      <th>Loan_ID</th>\n",
       "      <th>Gender</th>\n",
       "      <th>Married</th>\n",
       "      <th>Dependents</th>\n",
       "      <th>Education</th>\n",
       "      <th>Self_Employed</th>\n",
       "      <th>ApplicantIncome</th>\n",
       "      <th>CoapplicantIncome</th>\n",
       "      <th>LoanAmount</th>\n",
       "      <th>Loan_Amount_Term</th>\n",
       "      <th>Credit_History</th>\n",
       "      <th>Property_Area</th>\n",
       "      <th>Loan_Status</th>\n",
       "    </tr>\n",
       "  </thead>\n",
       "  <tbody>\n",
       "    <tr>\n",
       "      <th>0</th>\n",
       "      <td>LP001002</td>\n",
       "      <td>Male</td>\n",
       "      <td>No</td>\n",
       "      <td>0</td>\n",
       "      <td>Graduate</td>\n",
       "      <td>No</td>\n",
       "      <td>5849</td>\n",
       "      <td>0.0</td>\n",
       "      <td>NaN</td>\n",
       "      <td>360.0</td>\n",
       "      <td>1.0</td>\n",
       "      <td>Urban</td>\n",
       "      <td>Y</td>\n",
       "    </tr>\n",
       "    <tr>\n",
       "      <th>1</th>\n",
       "      <td>LP001003</td>\n",
       "      <td>Male</td>\n",
       "      <td>Yes</td>\n",
       "      <td>1</td>\n",
       "      <td>Graduate</td>\n",
       "      <td>No</td>\n",
       "      <td>4583</td>\n",
       "      <td>1508.0</td>\n",
       "      <td>128.0</td>\n",
       "      <td>360.0</td>\n",
       "      <td>1.0</td>\n",
       "      <td>Rural</td>\n",
       "      <td>N</td>\n",
       "    </tr>\n",
       "    <tr>\n",
       "      <th>2</th>\n",
       "      <td>LP001005</td>\n",
       "      <td>Male</td>\n",
       "      <td>Yes</td>\n",
       "      <td>0</td>\n",
       "      <td>Graduate</td>\n",
       "      <td>Yes</td>\n",
       "      <td>3000</td>\n",
       "      <td>0.0</td>\n",
       "      <td>66.0</td>\n",
       "      <td>360.0</td>\n",
       "      <td>1.0</td>\n",
       "      <td>Urban</td>\n",
       "      <td>Y</td>\n",
       "    </tr>\n",
       "    <tr>\n",
       "      <th>3</th>\n",
       "      <td>LP001006</td>\n",
       "      <td>Male</td>\n",
       "      <td>Yes</td>\n",
       "      <td>0</td>\n",
       "      <td>Not Graduate</td>\n",
       "      <td>No</td>\n",
       "      <td>2583</td>\n",
       "      <td>2358.0</td>\n",
       "      <td>120.0</td>\n",
       "      <td>360.0</td>\n",
       "      <td>1.0</td>\n",
       "      <td>Urban</td>\n",
       "      <td>Y</td>\n",
       "    </tr>\n",
       "    <tr>\n",
       "      <th>4</th>\n",
       "      <td>LP001008</td>\n",
       "      <td>Male</td>\n",
       "      <td>No</td>\n",
       "      <td>0</td>\n",
       "      <td>Graduate</td>\n",
       "      <td>No</td>\n",
       "      <td>6000</td>\n",
       "      <td>0.0</td>\n",
       "      <td>141.0</td>\n",
       "      <td>360.0</td>\n",
       "      <td>1.0</td>\n",
       "      <td>Urban</td>\n",
       "      <td>Y</td>\n",
       "    </tr>\n",
       "    <tr>\n",
       "      <th>...</th>\n",
       "      <td>...</td>\n",
       "      <td>...</td>\n",
       "      <td>...</td>\n",
       "      <td>...</td>\n",
       "      <td>...</td>\n",
       "      <td>...</td>\n",
       "      <td>...</td>\n",
       "      <td>...</td>\n",
       "      <td>...</td>\n",
       "      <td>...</td>\n",
       "      <td>...</td>\n",
       "      <td>...</td>\n",
       "      <td>...</td>\n",
       "    </tr>\n",
       "    <tr>\n",
       "      <th>609</th>\n",
       "      <td>LP002978</td>\n",
       "      <td>Female</td>\n",
       "      <td>No</td>\n",
       "      <td>0</td>\n",
       "      <td>Graduate</td>\n",
       "      <td>No</td>\n",
       "      <td>2900</td>\n",
       "      <td>0.0</td>\n",
       "      <td>71.0</td>\n",
       "      <td>360.0</td>\n",
       "      <td>1.0</td>\n",
       "      <td>Rural</td>\n",
       "      <td>Y</td>\n",
       "    </tr>\n",
       "    <tr>\n",
       "      <th>610</th>\n",
       "      <td>LP002979</td>\n",
       "      <td>Male</td>\n",
       "      <td>Yes</td>\n",
       "      <td>3+</td>\n",
       "      <td>Graduate</td>\n",
       "      <td>No</td>\n",
       "      <td>4106</td>\n",
       "      <td>0.0</td>\n",
       "      <td>40.0</td>\n",
       "      <td>180.0</td>\n",
       "      <td>1.0</td>\n",
       "      <td>Rural</td>\n",
       "      <td>Y</td>\n",
       "    </tr>\n",
       "    <tr>\n",
       "      <th>611</th>\n",
       "      <td>LP002983</td>\n",
       "      <td>Male</td>\n",
       "      <td>Yes</td>\n",
       "      <td>1</td>\n",
       "      <td>Graduate</td>\n",
       "      <td>No</td>\n",
       "      <td>8072</td>\n",
       "      <td>240.0</td>\n",
       "      <td>253.0</td>\n",
       "      <td>360.0</td>\n",
       "      <td>1.0</td>\n",
       "      <td>Urban</td>\n",
       "      <td>Y</td>\n",
       "    </tr>\n",
       "    <tr>\n",
       "      <th>612</th>\n",
       "      <td>LP002984</td>\n",
       "      <td>Male</td>\n",
       "      <td>Yes</td>\n",
       "      <td>2</td>\n",
       "      <td>Graduate</td>\n",
       "      <td>No</td>\n",
       "      <td>7583</td>\n",
       "      <td>0.0</td>\n",
       "      <td>187.0</td>\n",
       "      <td>360.0</td>\n",
       "      <td>1.0</td>\n",
       "      <td>Urban</td>\n",
       "      <td>Y</td>\n",
       "    </tr>\n",
       "    <tr>\n",
       "      <th>613</th>\n",
       "      <td>LP002990</td>\n",
       "      <td>Female</td>\n",
       "      <td>No</td>\n",
       "      <td>0</td>\n",
       "      <td>Graduate</td>\n",
       "      <td>Yes</td>\n",
       "      <td>4583</td>\n",
       "      <td>0.0</td>\n",
       "      <td>133.0</td>\n",
       "      <td>360.0</td>\n",
       "      <td>0.0</td>\n",
       "      <td>Semiurban</td>\n",
       "      <td>N</td>\n",
       "    </tr>\n",
       "  </tbody>\n",
       "</table>\n",
       "<p>614 rows × 13 columns</p>\n",
       "</div>"
      ],
      "text/plain": [
       "      Loan_ID  Gender Married Dependents     Education Self_Employed  \\\n",
       "0    LP001002    Male      No          0      Graduate            No   \n",
       "1    LP001003    Male     Yes          1      Graduate            No   \n",
       "2    LP001005    Male     Yes          0      Graduate           Yes   \n",
       "3    LP001006    Male     Yes          0  Not Graduate            No   \n",
       "4    LP001008    Male      No          0      Graduate            No   \n",
       "..        ...     ...     ...        ...           ...           ...   \n",
       "609  LP002978  Female      No          0      Graduate            No   \n",
       "610  LP002979    Male     Yes         3+      Graduate            No   \n",
       "611  LP002983    Male     Yes          1      Graduate            No   \n",
       "612  LP002984    Male     Yes          2      Graduate            No   \n",
       "613  LP002990  Female      No          0      Graduate           Yes   \n",
       "\n",
       "     ApplicantIncome  CoapplicantIncome  LoanAmount  Loan_Amount_Term  \\\n",
       "0               5849                0.0         NaN             360.0   \n",
       "1               4583             1508.0       128.0             360.0   \n",
       "2               3000                0.0        66.0             360.0   \n",
       "3               2583             2358.0       120.0             360.0   \n",
       "4               6000                0.0       141.0             360.0   \n",
       "..               ...                ...         ...               ...   \n",
       "609             2900                0.0        71.0             360.0   \n",
       "610             4106                0.0        40.0             180.0   \n",
       "611             8072              240.0       253.0             360.0   \n",
       "612             7583                0.0       187.0             360.0   \n",
       "613             4583                0.0       133.0             360.0   \n",
       "\n",
       "     Credit_History Property_Area Loan_Status  \n",
       "0               1.0         Urban           Y  \n",
       "1               1.0         Rural           N  \n",
       "2               1.0         Urban           Y  \n",
       "3               1.0         Urban           Y  \n",
       "4               1.0         Urban           Y  \n",
       "..              ...           ...         ...  \n",
       "609             1.0         Rural           Y  \n",
       "610             1.0         Rural           Y  \n",
       "611             1.0         Urban           Y  \n",
       "612             1.0         Urban           Y  \n",
       "613             0.0     Semiurban           N  \n",
       "\n",
       "[614 rows x 13 columns]"
      ]
     },
     "execution_count": 10,
     "metadata": {},
     "output_type": "execute_result"
    }
   ],
   "source": [
    "loan_data = pd.read_csv(\"loan_data.csv\")\n",
    "loan_data"
   ]
  },
  {
   "cell_type": "code",
   "execution_count": 11,
   "id": "542b11ed",
   "metadata": {},
   "outputs": [
    {
     "name": "stdout",
     "output_type": "stream",
     "text": [
      "<class 'pandas.core.frame.DataFrame'>\n",
      "RangeIndex: 614 entries, 0 to 613\n",
      "Data columns (total 13 columns):\n",
      " #   Column             Non-Null Count  Dtype  \n",
      "---  ------             --------------  -----  \n",
      " 0   Loan_ID            614 non-null    object \n",
      " 1   Gender             601 non-null    object \n",
      " 2   Married            611 non-null    object \n",
      " 3   Dependents         599 non-null    object \n",
      " 4   Education          614 non-null    object \n",
      " 5   Self_Employed      582 non-null    object \n",
      " 6   ApplicantIncome    614 non-null    int64  \n",
      " 7   CoapplicantIncome  614 non-null    float64\n",
      " 8   LoanAmount         592 non-null    float64\n",
      " 9   Loan_Amount_Term   600 non-null    float64\n",
      " 10  Credit_History     564 non-null    float64\n",
      " 11  Property_Area      614 non-null    object \n",
      " 12  Loan_Status        614 non-null    object \n",
      "dtypes: float64(4), int64(1), object(8)\n",
      "memory usage: 62.5+ KB\n"
     ]
    }
   ],
   "source": [
    "loan_data.info()"
   ]
  },
  {
   "cell_type": "code",
   "execution_count": 12,
   "id": "ce2ce8c0",
   "metadata": {},
   "outputs": [
    {
     "name": "stdout",
     "output_type": "stream",
     "text": [
      "Column Name\tNull values\n",
      "Loan_ID               0\n",
      "Gender               13\n",
      "Married               3\n",
      "Dependents           15\n",
      "Education             0\n",
      "Self_Employed        32\n",
      "ApplicantIncome       0\n",
      "CoapplicantIncome     0\n",
      "LoanAmount           22\n",
      "Loan_Amount_Term     14\n",
      "Credit_History       50\n",
      "Property_Area         0\n",
      "Loan_Status           0\n",
      "dtype: int64\n"
     ]
    }
   ],
   "source": [
    "print(\"Column Name\\tNull values\")\n",
    "print(loan_data.isnull().sum())"
   ]
  },
  {
   "cell_type": "markdown",
   "id": "42385d8f",
   "metadata": {},
   "source": [
    "#### <font color='orange'> Filling up null values"
   ]
  },
  {
   "cell_type": "code",
   "execution_count": 13,
   "id": "efe37c18",
   "metadata": {},
   "outputs": [
    {
     "data": {
      "text/plain": [
       "<AxesSubplot:>"
      ]
     },
     "execution_count": 13,
     "metadata": {},
     "output_type": "execute_result"
    },
    {
     "data": {
      "image/png": "[encoded data removed]",
      "text/plain": [
       "<Figure size 432x288 with 1 Axes>"
      ]
     },
     "metadata": {},
     "output_type": "display_data"
    }
   ],
   "source": [
    "loan_data[\"LoanAmount\"].plot(kind = 'box') #as LoanAmount is skewed, we will fill it with median"
   ]
  },
  {
   "cell_type": "code",
   "execution_count": 14,
   "id": "3e773a2b",
   "metadata": {},
   "outputs": [
    {
     "data": {
      "text/plain": [
       "<AxesSubplot:>"
      ]
     },
     "execution_count": 14,
     "metadata": {},
     "output_type": "execute_result"
    },
    {
     "data": {
      "image/png": "[encoded data removed]",
      "text/plain": [
       "<Figure size 432x288 with 1 Axes>"
      ]
     },
     "metadata": {},
     "output_type": "display_data"
    }
   ],
   "source": [
    "loan_data[\"Loan_Amount_Term\"].plot(kind = 'box') #as Loan_Amount_Term is skewed, we will fill it with median"
   ]
  },
  {
   "cell_type": "code",
   "execution_count": 15,
   "id": "67265957",
   "metadata": {},
   "outputs": [
    {
     "data": {
      "text/plain": [
       "<AxesSubplot:>"
      ]
     },
     "execution_count": 15,
     "metadata": {},
     "output_type": "execute_result"
    },
    {
     "data": {
      "image/png": "[encoded data removed]",
      "text/plain": [
       "<Figure size 432x288 with 1 Axes>"
      ]
     },
     "metadata": {},
     "output_type": "display_data"
    }
   ],
   "source": [
    "loan_data[\"Dependents\"].replace(\"3+\",\"3\" , inplace = True)\n",
    "loan_data[\"Dependents\"] = pd.to_numeric(loan_data[\"Dependents\"], errors='coerce')\n",
    "loan_data[\"Dependents\"].plot(kind = 'box') #as Dependents is skewed, we will fill it with median"
   ]
  },
  {
   "cell_type": "code",
   "execution_count": 16,
   "id": "29391ba4",
   "metadata": {},
   "outputs": [
    {
     "data": {
      "text/plain": [
       "array([ 0.,  1.,  2.,  3., nan])"
      ]
     },
     "execution_count": 16,
     "metadata": {},
     "output_type": "execute_result"
    }
   ],
   "source": [
    "loan_data[\"Dependents\"].unique()"
   ]
  },
  {
   "cell_type": "code",
   "execution_count": 17,
   "id": "920a1d34",
   "metadata": {},
   "outputs": [],
   "source": [
    "loan_data[\"LoanAmount\"].fillna(loan_data['LoanAmount'].median(), inplace = True)\n",
    "loan_data[\"Loan_Amount_Term\"].fillna(loan_data['LoanAmount'].median(), inplace = True)\n",
    "loan_data[\"Dependents\"].fillna(loan_data['Dependents'].median(), inplace = True)\n",
    "loan_data[\"Dependents\"] = loan_data[\"Dependents\"].astype('Int64')"
   ]
  },
  {
   "cell_type": "code",
   "execution_count": 18,
   "id": "8bf793c2",
   "metadata": {},
   "outputs": [],
   "source": [
    "#Other columns are categorical data, so we will fill up null values with mode\n",
    "loan_data[\"Gender\"].fillna(\"No Gender\", inplace = True)\n",
    "loan_data[\"Married\"].fillna(loan_data['Married'].mode()[0], inplace = True)\n",
    "loan_data[\"Dependents\"].fillna(loan_data['Dependents'].mode()[0], inplace = True)\n",
    "loan_data[\"Self_Employed\"].fillna(loan_data['Self_Employed'].mode()[0], inplace = True)\n",
    "loan_data[\"Credit_History\"].fillna(loan_data['Credit_History'].mode()[0], inplace = True)"
   ]
  },
  {
   "cell_type": "code",
   "execution_count": 19,
   "id": "e0ccb838",
   "metadata": {},
   "outputs": [
    {
     "name": "stdout",
     "output_type": "stream",
     "text": [
      "Column Name\tNull values\n",
      "Loan_ID              0\n",
      "Gender               0\n",
      "Married              0\n",
      "Dependents           0\n",
      "Education            0\n",
      "Self_Employed        0\n",
      "ApplicantIncome      0\n",
      "CoapplicantIncome    0\n",
      "LoanAmount           0\n",
      "Loan_Amount_Term     0\n",
      "Credit_History       0\n",
      "Property_Area        0\n",
      "Loan_Status          0\n",
      "dtype: int64\n"
     ]
    }
   ],
   "source": [
    "print(\"Column Name\\tNull values\")\n",
    "print(loan_data.isnull().sum())"
   ]
  },
  {
   "cell_type": "code",
   "execution_count": 20,
   "id": "0e1ec0c6",
   "metadata": {},
   "outputs": [
    {
     "name": "stdout",
     "output_type": "stream",
     "text": [
      "Gender \t\t ['Male', 'Female', 'No Gender']\n",
      "Married \t\t ['No', 'Yes']\n",
      "Education \t\t ['Graduate', 'Not Graduate']\n",
      "Self_Employed \t\t ['No', 'Yes']\n",
      "Credit_History \t\t [1.0, 0.0]\n",
      "Property_Area \t\t ['Urban', 'Rural', 'Semiurban']\n"
     ]
    }
   ],
   "source": [
    "categorical_columns = [\"Gender\", \"Married\", \"Education\", \"Self_Employed\", \"Credit_History\", \"Property_Area\"]\n",
    "y_categorical_columns = [\"Loan_Status\"]\n",
    "numerical_columns = [\"Dependents\", \"LoanAmount\", \"Loan_Amount_Term\", \"ApplicantIncome\", \"CoapplicantIncome\"]\n",
    "for col in categorical_columns:\n",
    "    print(col, \"\\t\\t\", list(loan_data[col].unique()))"
   ]
  },
  {
   "cell_type": "code",
   "execution_count": 21,
   "id": "91c3c71a",
   "metadata": {},
   "outputs": [
    {
     "name": "stdout",
     "output_type": "stream",
     "text": [
      "<class 'pandas.core.frame.DataFrame'>\n",
      "RangeIndex: 614 entries, 0 to 613\n",
      "Data columns (total 13 columns):\n",
      " #   Column             Non-Null Count  Dtype  \n",
      "---  ------             --------------  -----  \n",
      " 0   Loan_ID            614 non-null    object \n",
      " 1   Gender             614 non-null    object \n",
      " 2   Married            614 non-null    object \n",
      " 3   Dependents         614 non-null    Int64  \n",
      " 4   Education          614 non-null    object \n",
      " 5   Self_Employed      614 non-null    object \n",
      " 6   ApplicantIncome    614 non-null    int64  \n",
      " 7   CoapplicantIncome  614 non-null    float64\n",
      " 8   LoanAmount         614 non-null    float64\n",
      " 9   Loan_Amount_Term   614 non-null    Int64  \n",
      " 10  Credit_History     614 non-null    object \n",
      " 11  Property_Area      614 non-null    object \n",
      " 12  Loan_Status        614 non-null    Int64  \n",
      "dtypes: Int64(3), float64(2), int64(1), object(7)\n",
      "memory usage: 64.3+ KB\n"
     ]
    }
   ],
   "source": [
    "loan_data[\"Loan_Amount_Term\"] = loan_data[\"Loan_Amount_Term\"].astype('Int64')\n",
    "loan_data[\"Credit_History\"] = loan_data[\"Credit_History\"].astype('str')\n",
    "loan_data[\"Loan_Status\"]= loan_data[\"Loan_Status\"].astype('category')\n",
    "loan_data[\"Loan_Status\"] = loan_data[\"Loan_Status\"].cat.codes\n",
    "loan_data[\"Loan_Status\"] = loan_data[\"Loan_Status\"].astype('Int64')\n",
    "loan_data.info()"
   ]
  },
  {
   "cell_type": "code",
   "execution_count": 22,
   "id": "4afdf7c2",
   "metadata": {},
   "outputs": [
    {
     "data": {
      "text/html": [
       "<div>\n",
       "<style scoped>\n",
       "    .dataframe tbody tr th:only-of-type {\n",
       "        vertical-align: middle;\n",
       "    }\n",
       "\n",
       "    .dataframe tbody tr th {\n",
       "        vertical-align: top;\n",
       "    }\n",
       "\n",
       "    .dataframe thead th {\n",
       "        text-align: right;\n",
       "    }\n",
       "</style>\n",
       "<table border=\"1\" class=\"dataframe\">\n",
       "  <thead>\n",
       "    <tr style=\"text-align: right;\">\n",
       "      <th></th>\n",
       "      <th>Gender_Female</th>\n",
       "      <th>Gender_Male</th>\n",
       "      <th>Gender_No Gender</th>\n",
       "      <th>Married_No</th>\n",
       "      <th>Married_Yes</th>\n",
       "      <th>Education_Graduate</th>\n",
       "      <th>Education_Not Graduate</th>\n",
       "      <th>Self_Employed_No</th>\n",
       "      <th>Self_Employed_Yes</th>\n",
       "      <th>Credit_History_0.0</th>\n",
       "      <th>Credit_History_1.0</th>\n",
       "      <th>Property_Area_Rural</th>\n",
       "      <th>Property_Area_Semiurban</th>\n",
       "      <th>Property_Area_Urban</th>\n",
       "      <th>Dependents</th>\n",
       "      <th>LoanAmount</th>\n",
       "      <th>Loan_Amount_Term</th>\n",
       "      <th>ApplicantIncome</th>\n",
       "      <th>CoapplicantIncome</th>\n",
       "      <th>Loan_Status</th>\n",
       "    </tr>\n",
       "  </thead>\n",
       "  <tbody>\n",
       "    <tr>\n",
       "      <th>0</th>\n",
       "      <td>0</td>\n",
       "      <td>1</td>\n",
       "      <td>0</td>\n",
       "      <td>1</td>\n",
       "      <td>0</td>\n",
       "      <td>1</td>\n",
       "      <td>0</td>\n",
       "      <td>1</td>\n",
       "      <td>0</td>\n",
       "      <td>0</td>\n",
       "      <td>1</td>\n",
       "      <td>0</td>\n",
       "      <td>0</td>\n",
       "      <td>1</td>\n",
       "      <td>0</td>\n",
       "      <td>128.0</td>\n",
       "      <td>360</td>\n",
       "      <td>5849</td>\n",
       "      <td>0.0</td>\n",
       "      <td>1</td>\n",
       "    </tr>\n",
       "    <tr>\n",
       "      <th>1</th>\n",
       "      <td>0</td>\n",
       "      <td>1</td>\n",
       "      <td>0</td>\n",
       "      <td>0</td>\n",
       "      <td>1</td>\n",
       "      <td>1</td>\n",
       "      <td>0</td>\n",
       "      <td>1</td>\n",
       "      <td>0</td>\n",
       "      <td>0</td>\n",
       "      <td>1</td>\n",
       "      <td>1</td>\n",
       "      <td>0</td>\n",
       "      <td>0</td>\n",
       "      <td>1</td>\n",
       "      <td>128.0</td>\n",
       "      <td>360</td>\n",
       "      <td>4583</td>\n",
       "      <td>1508.0</td>\n",
       "      <td>0</td>\n",
       "    </tr>\n",
       "    <tr>\n",
       "      <th>2</th>\n",
       "      <td>0</td>\n",
       "      <td>1</td>\n",
       "      <td>0</td>\n",
       "      <td>0</td>\n",
       "      <td>1</td>\n",
       "      <td>1</td>\n",
       "      <td>0</td>\n",
       "      <td>0</td>\n",
       "      <td>1</td>\n",
       "      <td>0</td>\n",
       "      <td>1</td>\n",
       "      <td>0</td>\n",
       "      <td>0</td>\n",
       "      <td>1</td>\n",
       "      <td>0</td>\n",
       "      <td>66.0</td>\n",
       "      <td>360</td>\n",
       "      <td>3000</td>\n",
       "      <td>0.0</td>\n",
       "      <td>1</td>\n",
       "    </tr>\n",
       "    <tr>\n",
       "      <th>3</th>\n",
       "      <td>0</td>\n",
       "      <td>1</td>\n",
       "      <td>0</td>\n",
       "      <td>0</td>\n",
       "      <td>1</td>\n",
       "      <td>0</td>\n",
       "      <td>1</td>\n",
       "      <td>1</td>\n",
       "      <td>0</td>\n",
       "      <td>0</td>\n",
       "      <td>1</td>\n",
       "      <td>0</td>\n",
       "      <td>0</td>\n",
       "      <td>1</td>\n",
       "      <td>0</td>\n",
       "      <td>120.0</td>\n",
       "      <td>360</td>\n",
       "      <td>2583</td>\n",
       "      <td>2358.0</td>\n",
       "      <td>1</td>\n",
       "    </tr>\n",
       "    <tr>\n",
       "      <th>4</th>\n",
       "      <td>0</td>\n",
       "      <td>1</td>\n",
       "      <td>0</td>\n",
       "      <td>1</td>\n",
       "      <td>0</td>\n",
       "      <td>1</td>\n",
       "      <td>0</td>\n",
       "      <td>1</td>\n",
       "      <td>0</td>\n",
       "      <td>0</td>\n",
       "      <td>1</td>\n",
       "      <td>0</td>\n",
       "      <td>0</td>\n",
       "      <td>1</td>\n",
       "      <td>0</td>\n",
       "      <td>141.0</td>\n",
       "      <td>360</td>\n",
       "      <td>6000</td>\n",
       "      <td>0.0</td>\n",
       "      <td>1</td>\n",
       "    </tr>\n",
       "    <tr>\n",
       "      <th>...</th>\n",
       "      <td>...</td>\n",
       "      <td>...</td>\n",
       "      <td>...</td>\n",
       "      <td>...</td>\n",
       "      <td>...</td>\n",
       "      <td>...</td>\n",
       "      <td>...</td>\n",
       "      <td>...</td>\n",
       "      <td>...</td>\n",
       "      <td>...</td>\n",
       "      <td>...</td>\n",
       "      <td>...</td>\n",
       "      <td>...</td>\n",
       "      <td>...</td>\n",
       "      <td>...</td>\n",
       "      <td>...</td>\n",
       "      <td>...</td>\n",
       "      <td>...</td>\n",
       "      <td>...</td>\n",
       "      <td>...</td>\n",
       "    </tr>\n",
       "    <tr>\n",
       "      <th>609</th>\n",
       "      <td>1</td>\n",
       "      <td>0</td>\n",
       "      <td>0</td>\n",
       "      <td>1</td>\n",
       "      <td>0</td>\n",
       "      <td>1</td>\n",
       "      <td>0</td>\n",
       "      <td>1</td>\n",
       "      <td>0</td>\n",
       "      <td>0</td>\n",
       "      <td>1</td>\n",
       "      <td>1</td>\n",
       "      <td>0</td>\n",
       "      <td>0</td>\n",
       "      <td>0</td>\n",
       "      <td>71.0</td>\n",
       "      <td>360</td>\n",
       "      <td>2900</td>\n",
       "      <td>0.0</td>\n",
       "      <td>1</td>\n",
       "    </tr>\n",
       "    <tr>\n",
       "      <th>610</th>\n",
       "      <td>0</td>\n",
       "      <td>1</td>\n",
       "      <td>0</td>\n",
       "      <td>0</td>\n",
       "      <td>1</td>\n",
       "      <td>1</td>\n",
       "      <td>0</td>\n",
       "      <td>1</td>\n",
       "      <td>0</td>\n",
       "      <td>0</td>\n",
       "      <td>1</td>\n",
       "      <td>1</td>\n",
       "      <td>0</td>\n",
       "      <td>0</td>\n",
       "      <td>3</td>\n",
       "      <td>40.0</td>\n",
       "      <td>180</td>\n",
       "      <td>4106</td>\n",
       "      <td>0.0</td>\n",
       "      <td>1</td>\n",
       "    </tr>\n",
       "    <tr>\n",
       "      <th>611</th>\n",
       "      <td>0</td>\n",
       "      <td>1</td>\n",
       "      <td>0</td>\n",
       "      <td>0</td>\n",
       "      <td>1</td>\n",
       "      <td>1</td>\n",
       "      <td>0</td>\n",
       "      <td>1</td>\n",
       "      <td>0</td>\n",
       "      <td>0</td>\n",
       "      <td>1</td>\n",
       "      <td>0</td>\n",
       "      <td>0</td>\n",
       "      <td>1</td>\n",
       "      <td>1</td>\n",
       "      <td>253.0</td>\n",
       "      <td>360</td>\n",
       "      <td>8072</td>\n",
       "      <td>240.0</td>\n",
       "      <td>1</td>\n",
       "    </tr>\n",
       "    <tr>\n",
       "      <th>612</th>\n",
       "      <td>0</td>\n",
       "      <td>1</td>\n",
       "      <td>0</td>\n",
       "      <td>0</td>\n",
       "      <td>1</td>\n",
       "      <td>1</td>\n",
       "      <td>0</td>\n",
       "      <td>1</td>\n",
       "      <td>0</td>\n",
       "      <td>0</td>\n",
       "      <td>1</td>\n",
       "      <td>0</td>\n",
       "      <td>0</td>\n",
       "      <td>1</td>\n",
       "      <td>2</td>\n",
       "      <td>187.0</td>\n",
       "      <td>360</td>\n",
       "      <td>7583</td>\n",
       "      <td>0.0</td>\n",
       "      <td>1</td>\n",
       "    </tr>\n",
       "    <tr>\n",
       "      <th>613</th>\n",
       "      <td>1</td>\n",
       "      <td>0</td>\n",
       "      <td>0</td>\n",
       "      <td>1</td>\n",
       "      <td>0</td>\n",
       "      <td>1</td>\n",
       "      <td>0</td>\n",
       "      <td>0</td>\n",
       "      <td>1</td>\n",
       "      <td>1</td>\n",
       "      <td>0</td>\n",
       "      <td>0</td>\n",
       "      <td>1</td>\n",
       "      <td>0</td>\n",
       "      <td>0</td>\n",
       "      <td>133.0</td>\n",
       "      <td>360</td>\n",
       "      <td>4583</td>\n",
       "      <td>0.0</td>\n",
       "      <td>0</td>\n",
       "    </tr>\n",
       "  </tbody>\n",
       "</table>\n",
       "<p>614 rows × 20 columns</p>\n",
       "</div>"
      ],
      "text/plain": [
       "     Gender_Female  Gender_Male  Gender_No Gender  Married_No  Married_Yes  \\\n",
       "0                0            1                 0           1            0   \n",
       "1                0            1                 0           0            1   \n",
       "2                0            1                 0           0            1   \n",
       "3                0            1                 0           0            1   \n",
       "4                0            1                 0           1            0   \n",
       "..             ...          ...               ...         ...          ...   \n",
       "609              1            0                 0           1            0   \n",
       "610              0            1                 0           0            1   \n",
       "611              0            1                 0           0            1   \n",
       "612              0            1                 0           0            1   \n",
       "613              1            0                 0           1            0   \n",
       "\n",
       "     Education_Graduate  Education_Not Graduate  Self_Employed_No  \\\n",
       "0                     1                       0                 1   \n",
       "1                     1                       0                 1   \n",
       "2                     1                       0                 0   \n",
       "3                     0                       1                 1   \n",
       "4                     1                       0                 1   \n",
       "..                  ...                     ...               ...   \n",
       "609                   1                       0                 1   \n",
       "610                   1                       0                 1   \n",
       "611                   1                       0                 1   \n",
       "612                   1                       0                 1   \n",
       "613                   1                       0                 0   \n",
       "\n",
       "     Self_Employed_Yes  Credit_History_0.0  Credit_History_1.0  \\\n",
       "0                    0                   0                   1   \n",
       "1                    0                   0                   1   \n",
       "2                    1                   0                   1   \n",
       "3                    0                   0                   1   \n",
       "4                    0                   0                   1   \n",
       "..                 ...                 ...                 ...   \n",
       "609                  0                   0                   1   \n",
       "610                  0                   0                   1   \n",
       "611                  0                   0                   1   \n",
       "612                  0                   0                   1   \n",
       "613                  1                   1                   0   \n",
       "\n",
       "     Property_Area_Rural  Property_Area_Semiurban  Property_Area_Urban  \\\n",
       "0                      0                        0                    1   \n",
       "1                      1                        0                    0   \n",
       "2                      0                        0                    1   \n",
       "3                      0                        0                    1   \n",
       "4                      0                        0                    1   \n",
       "..                   ...                      ...                  ...   \n",
       "609                    1                        0                    0   \n",
       "610                    1                        0                    0   \n",
       "611                    0                        0                    1   \n",
       "612                    0                        0                    1   \n",
       "613                    0                        1                    0   \n",
       "\n",
       "     Dependents  LoanAmount  Loan_Amount_Term  ApplicantIncome  \\\n",
       "0             0       128.0               360             5849   \n",
       "1             1       128.0               360             4583   \n",
       "2             0        66.0               360             3000   \n",
       "3             0       120.0               360             2583   \n",
       "4             0       141.0               360             6000   \n",
       "..          ...         ...               ...              ...   \n",
       "609           0        71.0               360             2900   \n",
       "610           3        40.0               180             4106   \n",
       "611           1       253.0               360             8072   \n",
       "612           2       187.0               360             7583   \n",
       "613           0       133.0               360             4583   \n",
       "\n",
       "     CoapplicantIncome  Loan_Status  \n",
       "0                  0.0            1  \n",
       "1               1508.0            0  \n",
       "2                  0.0            1  \n",
       "3               2358.0            1  \n",
       "4                  0.0            1  \n",
       "..                 ...          ...  \n",
       "609                0.0            1  \n",
       "610                0.0            1  \n",
       "611              240.0            1  \n",
       "612                0.0            1  \n",
       "613                0.0            0  \n",
       "\n",
       "[614 rows x 20 columns]"
      ]
     },
     "execution_count": 22,
     "metadata": {},
     "output_type": "execute_result"
    }
   ],
   "source": [
    "loan_data_new = pd.concat([pd.get_dummies(loan_data[categorical_columns]), loan_data[numerical_columns], loan_data[\"Loan_Status\"]], axis=1)\n",
    "for col_name in loan_data_new.columns:\n",
    "    if(loan_data_new[col_name].dtype == 'object'):\n",
    "        loan_data_new[col_name] = loan_data_new[col_name].astype('Int64')\n",
    "loan_data_new"
   ]
  },
  {
   "cell_type": "code",
   "execution_count": 23,
   "id": "cac8a614-464c-4e7d-9a02-9991a69ff445",
   "metadata": {},
   "outputs": [],
   "source": [
    "loan_data_new.to_csv(\"loan_data_new.csv\")"
   ]
  },
  {
   "cell_type": "code",
   "execution_count": 24,
   "id": "1d25e309",
   "metadata": {},
   "outputs": [
    {
     "name": "stdout",
     "output_type": "stream",
     "text": [
      "<class 'pandas.core.frame.DataFrame'>\n",
      "RangeIndex: 614 entries, 0 to 613\n",
      "Data columns (total 20 columns):\n",
      " #   Column                   Non-Null Count  Dtype  \n",
      "---  ------                   --------------  -----  \n",
      " 0   Gender_Female            614 non-null    uint8  \n",
      " 1   Gender_Male              614 non-null    uint8  \n",
      " 2   Gender_No Gender         614 non-null    uint8  \n",
      " 3   Married_No               614 non-null    uint8  \n",
      " 4   Married_Yes              614 non-null    uint8  \n",
      " 5   Education_Graduate       614 non-null    uint8  \n",
      " 6   Education_Not Graduate   614 non-null    uint8  \n",
      " 7   Self_Employed_No         614 non-null    uint8  \n",
      " 8   Self_Employed_Yes        614 non-null    uint8  \n",
      " 9   Credit_History_0.0       614 non-null    uint8  \n",
      " 10  Credit_History_1.0       614 non-null    uint8  \n",
      " 11  Property_Area_Rural      614 non-null    uint8  \n",
      " 12  Property_Area_Semiurban  614 non-null    uint8  \n",
      " 13  Property_Area_Urban      614 non-null    uint8  \n",
      " 14  Dependents               614 non-null    Int64  \n",
      " 15  LoanAmount               614 non-null    float64\n",
      " 16  Loan_Amount_Term         614 non-null    Int64  \n",
      " 17  ApplicantIncome          614 non-null    int64  \n",
      " 18  CoapplicantIncome        614 non-null    float64\n",
      " 19  Loan_Status              614 non-null    Int64  \n",
      "dtypes: Int64(3), float64(2), int64(1), uint8(14)\n",
      "memory usage: 39.1 KB\n"
     ]
    }
   ],
   "source": [
    "loan_data_new.info()"
   ]
  },
  {
   "cell_type": "markdown",
   "id": "4cbc1462",
   "metadata": {},
   "source": [
    "#### <font color='orange'> convert dataset to a feature matrix X"
   ]
  },
  {
   "cell_type": "code",
   "execution_count": 25,
   "id": "d728d936",
   "metadata": {},
   "outputs": [
    {
     "data": {
      "text/plain": [
       "Index(['Gender_Female', 'Gender_Male', 'Gender_No Gender', 'Married_No',\n",
       "       'Married_Yes', 'Education_Graduate', 'Education_Not Graduate',\n",
       "       'Self_Employed_No', 'Self_Employed_Yes', 'Credit_History_0.0',\n",
       "       'Credit_History_1.0', 'Property_Area_Rural', 'Property_Area_Semiurban',\n",
       "       'Property_Area_Urban', 'Dependents', 'LoanAmount', 'Loan_Amount_Term',\n",
       "       'ApplicantIncome', 'CoapplicantIncome'],\n",
       "      dtype='object')"
      ]
     },
     "execution_count": 25,
     "metadata": {},
     "output_type": "execute_result"
    }
   ],
   "source": [
    "X = loan_data_new.drop(\"Loan_Status\", 1)\n",
    "X.columns"
   ]
  },
  {
   "cell_type": "code",
   "execution_count": 26,
   "id": "034d9442",
   "metadata": {},
   "outputs": [],
   "source": [
    "y = loan_data_new.iloc[:, -1].to_numpy()"
   ]
  },
  {
   "cell_type": "markdown",
   "id": "531319fe",
   "metadata": {},
   "source": [
    "#### <font color='orange'> normalizing feature matrix X"
   ]
  },
  {
   "cell_type": "code",
   "execution_count": 27,
   "id": "9d17fdea",
   "metadata": {},
   "outputs": [],
   "source": [
    "def normalize(X):\n",
    "    max_value = X.max()\n",
    "    min_value = X.min()\n",
    "    sub_value = max_value - min_value\n",
    "    if(sub_value == 0):\n",
    "        return 0\n",
    "    return np.divide(np.subtract(X,min_value),sub_value)"
   ]
  },
  {
   "cell_type": "code",
   "execution_count": 28,
   "id": "d0d18ef2",
   "metadata": {},
   "outputs": [
    {
     "name": "stdout",
     "output_type": "stream",
     "text": [
      "['Credit_History_0.0', 'Married_Yes', 'Property_Area_Urban', 'Self_Employed_No', 'Property_Area_Rural', 'Property_Area_Semiurban', 'Credit_History_1.0', 'Gender_Male', 'Gender_No Gender', 'Married_No', 'Education_Not Graduate', 'Gender_Female', 'Self_Employed_Yes', 'Education_Graduate']\n"
     ]
    }
   ],
   "source": [
    "categorical_columns = list(set(loan_data_new.columns) - set(numerical_columns) - set([\"Loan_Status\"]))\n",
    "print(categorical_columns)"
   ]
  },
  {
   "cell_type": "code",
   "execution_count": 29,
   "id": "b2bb6add",
   "metadata": {},
   "outputs": [],
   "source": [
    "for col in numerical_columns:\n",
    "    X[col] = normalize(X[col])"
   ]
  },
  {
   "cell_type": "code",
   "execution_count": 30,
   "id": "d19e1eb2",
   "metadata": {},
   "outputs": [
    {
     "data": {
      "text/html": [
       "<div>\n",
       "<style scoped>\n",
       "    .dataframe tbody tr th:only-of-type {\n",
       "        vertical-align: middle;\n",
       "    }\n",
       "\n",
       "    .dataframe tbody tr th {\n",
       "        vertical-align: top;\n",
       "    }\n",
       "\n",
       "    .dataframe thead th {\n",
       "        text-align: right;\n",
       "    }\n",
       "</style>\n",
       "<table border=\"1\" class=\"dataframe\">\n",
       "  <thead>\n",
       "    <tr style=\"text-align: right;\">\n",
       "      <th></th>\n",
       "      <th>Gender_Female</th>\n",
       "      <th>Gender_Male</th>\n",
       "      <th>Gender_No Gender</th>\n",
       "      <th>Married_No</th>\n",
       "      <th>Married_Yes</th>\n",
       "      <th>Education_Graduate</th>\n",
       "      <th>Education_Not Graduate</th>\n",
       "      <th>Self_Employed_No</th>\n",
       "      <th>Self_Employed_Yes</th>\n",
       "      <th>Credit_History_0.0</th>\n",
       "      <th>Credit_History_1.0</th>\n",
       "      <th>Property_Area_Rural</th>\n",
       "      <th>Property_Area_Semiurban</th>\n",
       "      <th>Property_Area_Urban</th>\n",
       "      <th>Dependents</th>\n",
       "      <th>LoanAmount</th>\n",
       "      <th>Loan_Amount_Term</th>\n",
       "      <th>ApplicantIncome</th>\n",
       "      <th>CoapplicantIncome</th>\n",
       "    </tr>\n",
       "  </thead>\n",
       "  <tbody>\n",
       "    <tr>\n",
       "      <th>0</th>\n",
       "      <td>0</td>\n",
       "      <td>1</td>\n",
       "      <td>0</td>\n",
       "      <td>1</td>\n",
       "      <td>0</td>\n",
       "      <td>1</td>\n",
       "      <td>0</td>\n",
       "      <td>1</td>\n",
       "      <td>0</td>\n",
       "      <td>0</td>\n",
       "      <td>1</td>\n",
       "      <td>0</td>\n",
       "      <td>0</td>\n",
       "      <td>1</td>\n",
       "      <td>0.0</td>\n",
       "      <td>0.172214</td>\n",
       "      <td>0.74359</td>\n",
       "      <td>0.070489</td>\n",
       "      <td>0.000000</td>\n",
       "    </tr>\n",
       "    <tr>\n",
       "      <th>1</th>\n",
       "      <td>0</td>\n",
       "      <td>1</td>\n",
       "      <td>0</td>\n",
       "      <td>0</td>\n",
       "      <td>1</td>\n",
       "      <td>1</td>\n",
       "      <td>0</td>\n",
       "      <td>1</td>\n",
       "      <td>0</td>\n",
       "      <td>0</td>\n",
       "      <td>1</td>\n",
       "      <td>1</td>\n",
       "      <td>0</td>\n",
       "      <td>0</td>\n",
       "      <td>0.333333</td>\n",
       "      <td>0.172214</td>\n",
       "      <td>0.74359</td>\n",
       "      <td>0.054830</td>\n",
       "      <td>0.036192</td>\n",
       "    </tr>\n",
       "    <tr>\n",
       "      <th>2</th>\n",
       "      <td>0</td>\n",
       "      <td>1</td>\n",
       "      <td>0</td>\n",
       "      <td>0</td>\n",
       "      <td>1</td>\n",
       "      <td>1</td>\n",
       "      <td>0</td>\n",
       "      <td>0</td>\n",
       "      <td>1</td>\n",
       "      <td>0</td>\n",
       "      <td>1</td>\n",
       "      <td>0</td>\n",
       "      <td>0</td>\n",
       "      <td>1</td>\n",
       "      <td>0.0</td>\n",
       "      <td>0.082489</td>\n",
       "      <td>0.74359</td>\n",
       "      <td>0.035250</td>\n",
       "      <td>0.000000</td>\n",
       "    </tr>\n",
       "    <tr>\n",
       "      <th>3</th>\n",
       "      <td>0</td>\n",
       "      <td>1</td>\n",
       "      <td>0</td>\n",
       "      <td>0</td>\n",
       "      <td>1</td>\n",
       "      <td>0</td>\n",
       "      <td>1</td>\n",
       "      <td>1</td>\n",
       "      <td>0</td>\n",
       "      <td>0</td>\n",
       "      <td>1</td>\n",
       "      <td>0</td>\n",
       "      <td>0</td>\n",
       "      <td>1</td>\n",
       "      <td>0.0</td>\n",
       "      <td>0.160637</td>\n",
       "      <td>0.74359</td>\n",
       "      <td>0.030093</td>\n",
       "      <td>0.056592</td>\n",
       "    </tr>\n",
       "    <tr>\n",
       "      <th>4</th>\n",
       "      <td>0</td>\n",
       "      <td>1</td>\n",
       "      <td>0</td>\n",
       "      <td>1</td>\n",
       "      <td>0</td>\n",
       "      <td>1</td>\n",
       "      <td>0</td>\n",
       "      <td>1</td>\n",
       "      <td>0</td>\n",
       "      <td>0</td>\n",
       "      <td>1</td>\n",
       "      <td>0</td>\n",
       "      <td>0</td>\n",
       "      <td>1</td>\n",
       "      <td>0.0</td>\n",
       "      <td>0.191027</td>\n",
       "      <td>0.74359</td>\n",
       "      <td>0.072356</td>\n",
       "      <td>0.000000</td>\n",
       "    </tr>\n",
       "    <tr>\n",
       "      <th>...</th>\n",
       "      <td>...</td>\n",
       "      <td>...</td>\n",
       "      <td>...</td>\n",
       "      <td>...</td>\n",
       "      <td>...</td>\n",
       "      <td>...</td>\n",
       "      <td>...</td>\n",
       "      <td>...</td>\n",
       "      <td>...</td>\n",
       "      <td>...</td>\n",
       "      <td>...</td>\n",
       "      <td>...</td>\n",
       "      <td>...</td>\n",
       "      <td>...</td>\n",
       "      <td>...</td>\n",
       "      <td>...</td>\n",
       "      <td>...</td>\n",
       "      <td>...</td>\n",
       "      <td>...</td>\n",
       "    </tr>\n",
       "    <tr>\n",
       "      <th>609</th>\n",
       "      <td>1</td>\n",
       "      <td>0</td>\n",
       "      <td>0</td>\n",
       "      <td>1</td>\n",
       "      <td>0</td>\n",
       "      <td>1</td>\n",
       "      <td>0</td>\n",
       "      <td>1</td>\n",
       "      <td>0</td>\n",
       "      <td>0</td>\n",
       "      <td>1</td>\n",
       "      <td>1</td>\n",
       "      <td>0</td>\n",
       "      <td>0</td>\n",
       "      <td>0.0</td>\n",
       "      <td>0.089725</td>\n",
       "      <td>0.74359</td>\n",
       "      <td>0.034014</td>\n",
       "      <td>0.000000</td>\n",
       "    </tr>\n",
       "    <tr>\n",
       "      <th>610</th>\n",
       "      <td>0</td>\n",
       "      <td>1</td>\n",
       "      <td>0</td>\n",
       "      <td>0</td>\n",
       "      <td>1</td>\n",
       "      <td>1</td>\n",
       "      <td>0</td>\n",
       "      <td>1</td>\n",
       "      <td>0</td>\n",
       "      <td>0</td>\n",
       "      <td>1</td>\n",
       "      <td>1</td>\n",
       "      <td>0</td>\n",
       "      <td>0</td>\n",
       "      <td>1.0</td>\n",
       "      <td>0.044863</td>\n",
       "      <td>0.358974</td>\n",
       "      <td>0.048930</td>\n",
       "      <td>0.000000</td>\n",
       "    </tr>\n",
       "    <tr>\n",
       "      <th>611</th>\n",
       "      <td>0</td>\n",
       "      <td>1</td>\n",
       "      <td>0</td>\n",
       "      <td>0</td>\n",
       "      <td>1</td>\n",
       "      <td>1</td>\n",
       "      <td>0</td>\n",
       "      <td>1</td>\n",
       "      <td>0</td>\n",
       "      <td>0</td>\n",
       "      <td>1</td>\n",
       "      <td>0</td>\n",
       "      <td>0</td>\n",
       "      <td>1</td>\n",
       "      <td>0.333333</td>\n",
       "      <td>0.353111</td>\n",
       "      <td>0.74359</td>\n",
       "      <td>0.097984</td>\n",
       "      <td>0.005760</td>\n",
       "    </tr>\n",
       "    <tr>\n",
       "      <th>612</th>\n",
       "      <td>0</td>\n",
       "      <td>1</td>\n",
       "      <td>0</td>\n",
       "      <td>0</td>\n",
       "      <td>1</td>\n",
       "      <td>1</td>\n",
       "      <td>0</td>\n",
       "      <td>1</td>\n",
       "      <td>0</td>\n",
       "      <td>0</td>\n",
       "      <td>1</td>\n",
       "      <td>0</td>\n",
       "      <td>0</td>\n",
       "      <td>1</td>\n",
       "      <td>0.666667</td>\n",
       "      <td>0.257598</td>\n",
       "      <td>0.74359</td>\n",
       "      <td>0.091936</td>\n",
       "      <td>0.000000</td>\n",
       "    </tr>\n",
       "    <tr>\n",
       "      <th>613</th>\n",
       "      <td>1</td>\n",
       "      <td>0</td>\n",
       "      <td>0</td>\n",
       "      <td>1</td>\n",
       "      <td>0</td>\n",
       "      <td>1</td>\n",
       "      <td>0</td>\n",
       "      <td>0</td>\n",
       "      <td>1</td>\n",
       "      <td>1</td>\n",
       "      <td>0</td>\n",
       "      <td>0</td>\n",
       "      <td>1</td>\n",
       "      <td>0</td>\n",
       "      <td>0.0</td>\n",
       "      <td>0.179450</td>\n",
       "      <td>0.74359</td>\n",
       "      <td>0.054830</td>\n",
       "      <td>0.000000</td>\n",
       "    </tr>\n",
       "  </tbody>\n",
       "</table>\n",
       "<p>614 rows × 19 columns</p>\n",
       "</div>"
      ],
      "text/plain": [
       "     Gender_Female  Gender_Male  Gender_No Gender  Married_No  Married_Yes  \\\n",
       "0                0            1                 0           1            0   \n",
       "1                0            1                 0           0            1   \n",
       "2                0            1                 0           0            1   \n",
       "3                0            1                 0           0            1   \n",
       "4                0            1                 0           1            0   \n",
       "..             ...          ...               ...         ...          ...   \n",
       "609              1            0                 0           1            0   \n",
       "610              0            1                 0           0            1   \n",
       "611              0            1                 0           0            1   \n",
       "612              0            1                 0           0            1   \n",
       "613              1            0                 0           1            0   \n",
       "\n",
       "     Education_Graduate  Education_Not Graduate  Self_Employed_No  \\\n",
       "0                     1                       0                 1   \n",
       "1                     1                       0                 1   \n",
       "2                     1                       0                 0   \n",
       "3                     0                       1                 1   \n",
       "4                     1                       0                 1   \n",
       "..                  ...                     ...               ...   \n",
       "609                   1                       0                 1   \n",
       "610                   1                       0                 1   \n",
       "611                   1                       0                 1   \n",
       "612                   1                       0                 1   \n",
       "613                   1                       0                 0   \n",
       "\n",
       "     Self_Employed_Yes  Credit_History_0.0  Credit_History_1.0  \\\n",
       "0                    0                   0                   1   \n",
       "1                    0                   0                   1   \n",
       "2                    1                   0                   1   \n",
       "3                    0                   0                   1   \n",
       "4                    0                   0                   1   \n",
       "..                 ...                 ...                 ...   \n",
       "609                  0                   0                   1   \n",
       "610                  0                   0                   1   \n",
       "611                  0                   0                   1   \n",
       "612                  0                   0                   1   \n",
       "613                  1                   1                   0   \n",
       "\n",
       "     Property_Area_Rural  Property_Area_Semiurban  Property_Area_Urban  \\\n",
       "0                      0                        0                    1   \n",
       "1                      1                        0                    0   \n",
       "2                      0                        0                    1   \n",
       "3                      0                        0                    1   \n",
       "4                      0                        0                    1   \n",
       "..                   ...                      ...                  ...   \n",
       "609                    1                        0                    0   \n",
       "610                    1                        0                    0   \n",
       "611                    0                        0                    1   \n",
       "612                    0                        0                    1   \n",
       "613                    0                        1                    0   \n",
       "\n",
       "     Dependents  LoanAmount  Loan_Amount_Term  ApplicantIncome  \\\n",
       "0           0.0    0.172214           0.74359         0.070489   \n",
       "1      0.333333    0.172214           0.74359         0.054830   \n",
       "2           0.0    0.082489           0.74359         0.035250   \n",
       "3           0.0    0.160637           0.74359         0.030093   \n",
       "4           0.0    0.191027           0.74359         0.072356   \n",
       "..          ...         ...               ...              ...   \n",
       "609         0.0    0.089725           0.74359         0.034014   \n",
       "610         1.0    0.044863          0.358974         0.048930   \n",
       "611    0.333333    0.353111           0.74359         0.097984   \n",
       "612    0.666667    0.257598           0.74359         0.091936   \n",
       "613         0.0    0.179450           0.74359         0.054830   \n",
       "\n",
       "     CoapplicantIncome  \n",
       "0             0.000000  \n",
       "1             0.036192  \n",
       "2             0.000000  \n",
       "3             0.056592  \n",
       "4             0.000000  \n",
       "..                 ...  \n",
       "609           0.000000  \n",
       "610           0.000000  \n",
       "611           0.005760  \n",
       "612           0.000000  \n",
       "613           0.000000  \n",
       "\n",
       "[614 rows x 19 columns]"
      ]
     },
     "execution_count": 30,
     "metadata": {},
     "output_type": "execute_result"
    }
   ],
   "source": [
    "X"
   ]
  },
  {
   "cell_type": "code",
   "execution_count": 31,
   "id": "2e0e475f",
   "metadata": {},
   "outputs": [
    {
     "name": "stdout",
     "output_type": "stream",
     "text": [
      "<class 'pandas.core.frame.DataFrame'>\n",
      "RangeIndex: 614 entries, 0 to 613\n",
      "Data columns (total 19 columns):\n",
      " #   Column                   Non-Null Count  Dtype  \n",
      "---  ------                   --------------  -----  \n",
      " 0   Gender_Female            614 non-null    uint8  \n",
      " 1   Gender_Male              614 non-null    uint8  \n",
      " 2   Gender_No Gender         614 non-null    uint8  \n",
      " 3   Married_No               614 non-null    uint8  \n",
      " 4   Married_Yes              614 non-null    uint8  \n",
      " 5   Education_Graduate       614 non-null    uint8  \n",
      " 6   Education_Not Graduate   614 non-null    uint8  \n",
      " 7   Self_Employed_No         614 non-null    uint8  \n",
      " 8   Self_Employed_Yes        614 non-null    uint8  \n",
      " 9   Credit_History_0.0       614 non-null    uint8  \n",
      " 10  Credit_History_1.0       614 non-null    uint8  \n",
      " 11  Property_Area_Rural      614 non-null    uint8  \n",
      " 12  Property_Area_Semiurban  614 non-null    uint8  \n",
      " 13  Property_Area_Urban      614 non-null    uint8  \n",
      " 14  Dependents               614 non-null    Float64\n",
      " 15  LoanAmount               614 non-null    float64\n",
      " 16  Loan_Amount_Term         614 non-null    Float64\n",
      " 17  ApplicantIncome          614 non-null    float64\n",
      " 18  CoapplicantIncome        614 non-null    float64\n",
      "dtypes: Float64(2), float64(3), uint8(14)\n",
      "memory usage: 33.7 KB\n"
     ]
    }
   ],
   "source": [
    "X.info()"
   ]
  },
  {
   "cell_type": "markdown",
   "id": "9dd0e47e",
   "metadata": {},
   "source": [
    "#### <font color='orange'> initial theta values"
   ]
  },
  {
   "cell_type": "code",
   "execution_count": 32,
   "id": "90a5435f",
   "metadata": {},
   "outputs": [],
   "source": [
    "def transform_x_y(xx, yy):\n",
    "    xx = np.c_[np.ones((xx.shape[0], 1)), xx]\n",
    "    yy = yy[:, np.newaxis]\n",
    "    m,n = np.shape(xx)\n",
    "    one_vec = np.ones((m,1))\n",
    "    xx = np.hstack((one_vec,xx))\n",
    "    theta = np.zeros((n+1,1))\n",
    "    return xx, yy, theta"
   ]
  },
  {
   "cell_type": "code",
   "execution_count": 33,
   "id": "0b7d0014",
   "metadata": {},
   "outputs": [],
   "source": [
    "old_X = X\n",
    "old_Y = y\n",
    "X, y, theta = transform_x_y(X, y)"
   ]
  },
  {
   "cell_type": "markdown",
   "id": "9ed6ea38",
   "metadata": {},
   "source": [
    "#### <font color='orange'> gradient descent updation"
   ]
  },
  {
   "cell_type": "code",
   "execution_count": 34,
   "id": "663f24a3",
   "metadata": {},
   "outputs": [],
   "source": [
    "def sigmoid(z): # Activation function used to map any real value between 0 and 1\n",
    "    z = z.astype(float)\n",
    "    return (1 / (1 + np.exp(-z)))\n",
    "\n",
    "def net_input(theta, x): # Computes the weighted sum of inputs\n",
    "    return np.dot(x, theta)\n",
    "\n",
    "def probability(theta, x): # Returns the probability after passing through sigmoid\n",
    "    return sigmoid(net_input(theta, x))\n",
    "\n",
    "def cost_function(theta, x, y): # Computes the cost function for all the training samples\n",
    "    m = x.shape[0]\n",
    "    total_cost = -(1 / m) * np.sum(y * np.log(probability(theta, x)) + (1 - y) * np.log(1 - probability(theta, x)))\n",
    "    return total_cost\n",
    "\n",
    "def gradient(theta, x, y): # Computes the gradient of the cost function at the point theta\n",
    "    m = x.shape[0]\n",
    "    return (1 / m) * np.dot(x.T, sigmoid(net_input(theta,   x)) - y)\n",
    "\n",
    "def gd_fit(x, y, theta):\n",
    "    opt_weights = fmin_tnc(func=cost_function, x0=theta, fprime=gradient, approx_grad=True, args=(x, y.flatten()))\n",
    "    return opt_weights[0]"
   ]
  },
  {
   "cell_type": "code",
   "execution_count": 35,
   "id": "029c2dbc",
   "metadata": {},
   "outputs": [
    {
     "data": {
      "text/plain": [
       "array([ 0.34100623,  0.34100623,  0.04513421,  0.02795371, -0.19653694,\n",
       "       -0.36982231,  0.13315994, -0.09021046, -0.44293368,  0.17794204,\n",
       "        0.10799482, -2.73525094,  1.22465379, -0.87600508,  0.02020988,\n",
       "       -0.68273099,  0.31420137, -0.41142908,  0.03601239,  0.02465119,\n",
       "       -1.31709396])"
      ]
     },
     "execution_count": 35,
     "metadata": {},
     "output_type": "execute_result"
    }
   ],
   "source": [
    "parameters = gd_fit(X, y, theta)\n",
    "parameters"
   ]
  },
  {
   "cell_type": "code",
   "execution_count": 36,
   "id": "fe63dd92",
   "metadata": {},
   "outputs": [],
   "source": [
    "def predict_gd(x, parameters):\n",
    "    theta = parameters[:, np.newaxis]\n",
    "    return probability(theta, x)\n",
    "def accuracy_gd(x, actual_classes, parameters, probab_threshold=0.5):\n",
    "    predicted_classes = (predict_gd(x, parameters) >= probab_threshold).astype(int)\n",
    "    predicted_classes = predicted_classes.flatten()\n",
    "    accuracy = np.mean(predicted_classes == actual_classes)\n",
    "    return accuracy * 100, predicted_classes"
   ]
  },
  {
   "cell_type": "code",
   "execution_count": 37,
   "id": "18d0943b",
   "metadata": {},
   "outputs": [
    {
     "name": "stdout",
     "output_type": "stream",
     "text": [
      "Accuracy using Gradient Descent =  81.27035830618892 %\n"
     ]
    }
   ],
   "source": [
    "gradient_descent_accuracy, y_pred = accuracy_gd(X, y.flatten(), parameters)\n",
    "print(\"Accuracy using Gradient Descent = \", gradient_descent_accuracy, \"%\")"
   ]
  },
  {
   "cell_type": "code",
   "execution_count": 38,
   "id": "d9dbaa80",
   "metadata": {},
   "outputs": [
    {
     "name": "stdout",
     "output_type": "stream",
     "text": [
      "[ 0.46326678  0.46326678  0.1614313   0.24713049 -0.00123595 -0.1618432\n",
      "  0.21285939  0.21346804 -0.34375405  0.31391866  0.3488988  -3.01717933\n",
      "  0.79627855 -0.50348196  0.25558749 -0.3055587   0.2327919  -1.60039451\n",
      " -1.05512565  0.65278647 -0.73130014]\n",
      "Accuracy using Gradient Descent after spliting dataset=  83.11688311688312 %\n"
     ]
    }
   ],
   "source": [
    "## Training model using only train dataset and then predicting test dataset\n",
    "gd_x_train, gd_x_test, gd_y_train, gd_y_test = train_test_split(old_X, old_Y, test_size=0.25, random_state=0)\n",
    "gd_x_train,  gd_y_train, theta = transform_x_y(gd_x_train, gd_y_train)\n",
    "gd_parameters = gd_fit(gd_x_train, gd_y_train, theta)\n",
    "print(gd_parameters)\n",
    "gd_x_test,  gd_y_test, theta = transform_x_y(gd_x_test, gd_y_test)\n",
    "gradient_descent_accuracy_2, gd_y_pred = accuracy_gd(gd_x_test, gd_y_test.flatten(), gd_parameters)\n",
    "print(\"Accuracy using Gradient Descent after spliting dataset= \", gradient_descent_accuracy_2, \"%\")"
   ]
  },
  {
   "cell_type": "code",
   "execution_count": 39,
   "id": "baabd248",
   "metadata": {},
   "outputs": [
    {
     "name": "stdout",
     "output_type": "stream",
     "text": [
      "              precision    recall  f1-score   support\n",
      "\n",
      "           0       0.90      0.44      0.59        43\n",
      "           1       0.82      0.98      0.89       111\n",
      "\n",
      "    accuracy                           0.83       154\n",
      "   macro avg       0.86      0.71      0.74       154\n",
      "weighted avg       0.84      0.83      0.81       154\n",
      "\n"
     ]
    },
    {
     "data": {
      "text/plain": [
       "<AxesSubplot:>"
      ]
     },
     "execution_count": 39,
     "metadata": {},
     "output_type": "execute_result"
    },
    {
     "data": {
      "image/png": "[encoded data removed]",
      "text/plain": [
       "<Figure size 432x288 with 2 Axes>"
      ]
     },
     "metadata": {},
     "output_type": "display_data"
    }
   ],
   "source": [
    "gd_y_test = list(gd_y_test.flatten())\n",
    "gd_y_pred = list(gd_y_pred)\n",
    "print(classification_report(gd_y_test,gd_y_pred))\n",
    "gd_cf_matrix = metrics.confusion_matrix(gd_y_test, gd_y_pred)\n",
    "group_names = ['True Neg(TN)', 'False Pos(FP TYPE 1 Error)', 'False Neg(FN Type 2 Error)', 'True Pos(TP)']\n",
    "group_counts = [\"{0:0.0f}\".format(value) for value in gd_cf_matrix.flatten()]\n",
    "group_percentages = [\"{0:.2%}\".format(value) for value in gd_cf_matrix.flatten()/np.sum(gd_cf_matrix)]\n",
    "labels = [f\"{v1}\\n{v2}\\n{v3}\" for v1, v2, v3 in zip(group_names,group_counts,group_percentages)]\n",
    "labels = np.asarray(labels).reshape(2,2)\n",
    "import seaborn as sns\n",
    "sns.heatmap(gd_cf_matrix, annot=labels, fmt='')"
   ]
  },
  {
   "cell_type": "markdown",
   "id": "db20c9a0",
   "metadata": {},
   "source": [
    "### <font color='orange'> 7. Use sklearn built in function to find the model"
   ]
  },
  {
   "cell_type": "code",
   "execution_count": 40,
   "id": "7a89b97b",
   "metadata": {},
   "outputs": [],
   "source": [
    "X = old_X\n",
    "y = loan_data_new.iloc[:, -1]\n",
    "y=y.astype('int')\n",
    "x_train, x_test, y_train, y_test = train_test_split(X, y, test_size=0.25, random_state=0)"
   ]
  },
  {
   "cell_type": "code",
   "execution_count": 41,
   "id": "227b9ba5",
   "metadata": {},
   "outputs": [],
   "source": [
    "logreg = LogisticRegression(max_iter = 10000,random_state=0)\n",
    "logreg.fit(x_train, y_train)\n",
    "y_pred = logreg.predict(x_test)"
   ]
  },
  {
   "cell_type": "markdown",
   "id": "6556a439",
   "metadata": {},
   "source": [
    "## <font color='orange'> PART C: Performance Evaluation of the classifier"
   ]
  },
  {
   "cell_type": "code",
   "execution_count": 42,
   "id": "570b8cf4",
   "metadata": {},
   "outputs": [
    {
     "name": "stdout",
     "output_type": "stream",
     "text": [
      "[[ 0.05805059  0.11849528 -0.17657126 -0.11954451  0.11951912  0.2417897\n",
      "  -0.24181508  0.01133601 -0.0113614  -1.74853687  1.74851148 -0.31793508\n",
      "   0.4163814  -0.09847171  0.26373488 -0.45327155 -0.34102166  0.24611225\n",
      "  -0.87090286]]\n"
     ]
    }
   ],
   "source": [
    "parameters = logreg.coef_\n",
    "print(parameters)"
   ]
  },
  {
   "cell_type": "markdown",
   "id": "ae17494d",
   "metadata": {},
   "source": [
    "### <font color='orange'> 8. Compute confusion matrix."
   ]
  },
  {
   "cell_type": "code",
   "execution_count": 43,
   "id": "c6188145",
   "metadata": {},
   "outputs": [
    {
     "data": {
      "text/plain": [
       "<AxesSubplot:>"
      ]
     },
     "execution_count": 43,
     "metadata": {},
     "output_type": "execute_result"
    },
    {
     "data": {
      "image/png": "[encoded data removed]",
      "text/plain": [
       "<Figure size 432x288 with 2 Axes>"
      ]
     },
     "metadata": {},
     "output_type": "display_data"
    }
   ],
   "source": [
    "cf_matrix = metrics.confusion_matrix(y_test, y_pred)\n",
    "group_names = ['True Neg(TN)', 'False Pos(FP TYPE 1 Error)', 'False Neg(FN Type 2 Error)', 'True Pos(TP)']\n",
    "group_counts = [\"{0:0.0f}\".format(value) for value in cf_matrix.flatten()]\n",
    "group_percentages = [\"{0:.2%}\".format(value) for value in cf_matrix.flatten()/np.sum(cf_matrix)]\n",
    "labels = [f\"{v1}\\n{v2}\\n{v3}\" for v1, v2, v3 in zip(group_names,group_counts,group_percentages)]\n",
    "labels = np.asarray(labels).reshape(2,2)\n",
    "import seaborn as sns\n",
    "sns.heatmap(cf_matrix, annot=labels, fmt='')"
   ]
  },
  {
   "cell_type": "markdown",
   "id": "a4d07619",
   "metadata": {},
   "source": [
    "### <font color='orange'> 9. Compute the accuracy score."
   ]
  },
  {
   "cell_type": "code",
   "execution_count": 44,
   "id": "510d6358",
   "metadata": {},
   "outputs": [
    {
     "name": "stdout",
     "output_type": "stream",
     "text": [
      "Accuracy using sklearn LogisticRegression()=  83.11688311688312 %\n"
     ]
    }
   ],
   "source": [
    "print(\"Accuracy using sklearn LogisticRegression()= \", logreg.score(x_test, y_test)*100, \"%\")"
   ]
  },
  {
   "cell_type": "markdown",
   "id": "9f03c620",
   "metadata": {},
   "source": [
    "### <font color='orange'> 10. Print a classification report using the following sklearn function"
   ]
  },
  {
   "cell_type": "code",
   "execution_count": 45,
   "id": "3f72e6ef",
   "metadata": {},
   "outputs": [
    {
     "name": "stdout",
     "output_type": "stream",
     "text": [
      "              precision    recall  f1-score   support\n",
      "\n",
      "           0       0.90      0.44      0.59        43\n",
      "           1       0.82      0.98      0.89       111\n",
      "\n",
      "    accuracy                           0.83       154\n",
      "   macro avg       0.86      0.71      0.74       154\n",
      "weighted avg       0.84      0.83      0.81       154\n",
      "\n"
     ]
    }
   ],
   "source": [
    "print(classification_report(y_test, y_pred))"
   ]
  },
  {
   "cell_type": "markdown",
   "id": "2ba64e95",
   "metadata": {},
   "source": [
    "### <font color='orange'> 11. Plot ROC curve for loan status"
   ]
  },
  {
   "cell_type": "code",
   "execution_count": 46,
   "id": "c1f867d4",
   "metadata": {},
   "outputs": [
    {
     "data": {
      "image/png": "[encoded data removed]",
      "text/plain": [
       "<Figure size 432x288 with 1 Axes>"
      ]
     },
     "metadata": {},
     "output_type": "display_data"
    }
   ],
   "source": [
    "logit_roc_auc = roc_auc_score(y_test, y_pred)\n",
    "fpr, tpr, thresholds = roc_curve(y_test, logreg.predict_proba(x_test)[:,1])\n",
    "plt.figure()\n",
    "plt.plot(fpr, tpr, label='Logistic Regression (area = %0.2f)' % logit_roc_auc)\n",
    "plt.plot([0, 1], [0, 1],'r--')\n",
    "plt.xlim([0.0, 1.0])\n",
    "plt.ylim([0.0, 1.05])\n",
    "plt.xlabel('False Positive Rate')\n",
    "plt.ylabel('True Positive Rate')\n",
    "plt.title('Receiver operating characteristic')\n",
    "plt.legend(loc=\"lower right\")\n",
    "plt.savefig('Log_ROC')\n",
    "plt.show()"
   ]
  },
  {
   "cell_type": "markdown",
   "id": "c944e104",
   "metadata": {},
   "source": [
    "### <font color='orange'> 12. Compare the performance of classifiers obtained in 6 and 7"
   ]
  },
  {
   "cell_type": "code",
   "execution_count": 47,
   "id": "34c7c1c6",
   "metadata": {},
   "outputs": [
    {
     "name": "stdout",
     "output_type": "stream",
     "text": [
      "Accuracy using Gradient Descent =  83.11688311688312 %\n",
      "Accuracy using sklearn LogisticRegression()=  83.11688311688312 %\n"
     ]
    }
   ],
   "source": [
    "print(\"Accuracy using Gradient Descent = \", gradient_descent_accuracy_2, \"%\")\n",
    "print(\"Accuracy using sklearn LogisticRegression()= \", logreg.score(x_test, y_test)*100, \"%\")"
   ]
  },
  {
   "cell_type": "markdown",
   "id": "f5cb9d8b",
   "metadata": {},
   "source": [
    "### <font color='orange'> Accuracy of Gradient Descent Logistic Regression is slightly better than sklearn LogisticRegression() <br> Even precision, recall and f1-score are better in Gradient Descent Logistic Regression than sklearn LogisticRegression()"
   ]
  }
 ],
 "metadata": {
  "kernelspec": {
   "display_name": "Python 3 (ipykernel)",
   "language": "python",
   "name": "python3"
  },
  "language_info": {
   "codemirror_mode": {
    "name": "ipython",
    "version": 3
   },
   "file_extension": ".py",
   "mimetype": "text/x-python",
   "name": "python",
   "nbconvert_exporter": "python",
   "pygments_lexer": "ipython3",
   "version": "3.8.3"
  }
 },
 "nbformat": 4,
 "nbformat_minor": 5
}
