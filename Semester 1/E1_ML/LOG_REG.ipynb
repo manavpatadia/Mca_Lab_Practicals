{
 "cells": [
  {
   "cell_type": "markdown",
   "metadata": {},
   "source": [
    "#Plot the attached dataset data1.csv using scatter plot. There is a target feature with discrete \n",
    "values 0,1. If the target feature is 1, the samples should be shown as red circle. If the target \n",
    "feature is 0, the samples should be shown as green x"
   ]
  },
  {
   "cell_type": "code",
   "execution_count": 2,
   "metadata": {},
   "outputs": [],
   "source": [
    "import numpy as np\n",
    "import pandas as pd\n",
    "from pandas import read_csv\n",
    "import matplotlib.pyplot as plt"
   ]
  },
  {
   "cell_type": "code",
   "execution_count": 10,
   "metadata": {},
   "outputs": [
    {
     "name": "stdout",
     "output_type": "stream",
     "text": [
      "(100, 3)\n",
      "Index(['x1', 'x2', 'y'], dtype='object')\n"
     ]
    }
   ],
   "source": [
    "data=read_csv ('C:/Users/User/Downloads/data1.csv')\n",
    "print(data.shape)\n",
    "print(data.columns)"
   ]
  },
  {
   "cell_type": "code",
   "execution_count": 14,
   "metadata": {},
   "outputs": [],
   "source": [
    "#set dependant and independat values\n",
    "datasets = data.values\n",
    "X = datasets[:, :2]\n",
    "Y = datasets[:,2]\n"
   ]
  },
  {
   "cell_type": "code",
   "execution_count": 16,
   "metadata": {},
   "outputs": [
    {
     "data": {
      "text/plain": [
       "<matplotlib.collections.PathCollection at 0x1f051fadf10>"
      ]
     },
     "execution_count": 16,
     "metadata": {},
     "output_type": "execute_result"
    },
    {
     "data": {
      "image/png": "[encoded data removed]",
      "text/plain": [
       "<Figure size 432x288 with 1 Axes>"
      ]
     },
     "metadata": {
      "needs_background": "light"
     },
     "output_type": "display_data"
    }
   ],
   "source": [
    "#finding positive and negative classes and plottin the data\n",
    "pos , neg = (Y==1).reshape(100,1) , (Y==0).reshape(100,1)\n",
    "plt.scatter(X[pos[:,0],0],X[pos[:,0],1], c= \"g\", marker=\"x\", s=100)\n",
    "plt.scatter(X[neg[:,0],0],X[neg[:,0],1], c = \"r\", marker=\"o\",s=100)\n"
   ]
  },
  {
   "cell_type": "code",
   "execution_count": null,
   "metadata": {},
   "outputs": [],
   "source": [
    "#2. Plot a line y=2x+3\n"
   ]
  },
  {
   "cell_type": "code",
   "execution_count": 17,
   "metadata": {},
   "outputs": [
    {
     "data": {
      "image/png": "[encoded data removed]",
      "text/plain": [
       "<Figure size 432x288 with 1 Axes>"
      ]
     },
     "metadata": {
      "needs_background": "light"
     },
     "output_type": "display_data"
    }
   ],
   "source": [
    "x = np.linspace(-10, 10, 100)\n",
    "y = 2 * x + 3\n",
    "plt.plot(x,y, '-b', label = ' y= 2x + 3')\n",
    "plt.title('Graph of y = 2x + 3')\n",
    "plt.show()"
   ]
  },
  {
   "cell_type": "code",
   "execution_count": null,
   "metadata": {},
   "outputs": [],
   "source": [
    "#3.Define a function sigmoid(z) that takes one parameter z and computes 1/(1+e^-z)."
   ]
  },
  {
   "cell_type": "code",
   "execution_count": 21,
   "metadata": {},
   "outputs": [],
   "source": [
    "def sigmoid(z):\n",
    "  if z < 0:\n",
    "    return np.exp(z)/(1 + np.exp(z))\n",
    "  else:\n",
    "    return 1 / (1 + np.exp(-z))\n",
    "\n",
    "# when passing vector as argument\n",
    "\n",
    "def sigmoid_V(z):\n",
    "  if z.all() < 0:\n",
    "    return np.exp(z)/(1 + np.exp(z))\n",
    "  else:\n",
    "    return 1 / (1 + np.exp(-z))\n"
   ]
  },
  {
   "cell_type": "code",
   "execution_count": null,
   "metadata": {},
   "outputs": [],
   "source": [
    "#Create a vector V with 10 values randomly in the range [-1000,1000]. Transform V to V' that consists of respective sigmoid values using the defined function. Observe the range of output values in V'."
   ]
  },
  {
   "cell_type": "code",
   "execution_count": 22,
   "metadata": {},
   "outputs": [
    {
     "name": "stdout",
     "output_type": "stream",
     "text": [
      "[ 835 -143 -402   -4  911  540  612 -118 -319 -515]\n",
      "[1.0, 7.868448159078602e-63, 2.5919001981743924e-175, 0.01798620996209156, 1.0, 1.0, 1.0, 5.66566817635894e-52, 2.88443178658586e-139, 2.179424455414719e-224]\n"
     ]
    }
   ],
   "source": [
    "V = np.random.randint(-1000, 1000, 10)\n",
    "V1 = []\n",
    "for x in V:\n",
    "  V1. append(sigmoid_V(x))\n",
    "\n",
    "print(V)\n",
    "print(V1)"
   ]
  },
  {
   "cell_type": "code",
   "execution_count": null,
   "metadata": {},
   "outputs": [],
   "source": [
    " #4.Define a function hypothesis(theta, X) that takes two vectors as parameters, theta and X. If sigmoid(theta.X) >= 0.5, output 1 else output 0."
   ]
  },
  {
   "cell_type": "code",
   "execution_count": 23,
   "metadata": {},
   "outputs": [],
   "source": [
    "def hypothesis(X, theta):\n",
    "  if sigmoid_V(np.dot(X, theta)) > 0.5:\n",
    "    return 0\n",
    "  else:\n",
    "    return 1"
   ]
  },
  {
   "cell_type": "code",
   "execution_count": null,
   "metadata": {},
   "outputs": [],
   "source": [
    "#5. Define a function cost(theta,X,y) to compute the error  Error = 1/m*Σ-yilog(hθ(xi)) - (1-yi)log(1-hθ (xi))Where xi is the ith sample and yi is the ith label, hθ(xi) is the hypothesis(theta,xi)"
   ]
  },
  {
   "cell_type": "code",
   "execution_count": 24,
   "metadata": {},
   "outputs": [],
   "source": [
    "def cost(X, theta, y):\n",
    "  return np.sum((-y * np.log(hypothesis(X, theta)) - (1 - y) * np.log(hypothesis(theta, X)))).mean()"
   ]
  },
  {
   "cell_type": "code",
   "execution_count": null,
   "metadata": {},
   "outputs": [],
   "source": []
  }
 ],
 "metadata": {
  "kernelspec": {
   "display_name": "Python 3",
   "language": "python",
   "name": "python3"
  },
  "language_info": {
   "codemirror_mode": {
    "name": "ipython",
    "version": 3
   },
   "file_extension": ".py",
   "mimetype": "text/x-python",
   "name": "python",
   "nbconvert_exporter": "python",
   "pygments_lexer": "ipython3",
   "version": "3.8.3"
  }
 },
 "nbformat": 4,
 "nbformat_minor": 4
}
