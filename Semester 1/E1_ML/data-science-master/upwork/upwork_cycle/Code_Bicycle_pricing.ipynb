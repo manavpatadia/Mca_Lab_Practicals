{
 "cells": [
  {
   "cell_type": "markdown",
   "metadata": {},
   "source": [
    "### Plan\n",
    "1. Read Data into Dataframe\n",
    "2. Process String columns - lower case and remove spaces\n",
    "3. Label Encode String columns in Train Data\n",
    "4. Train on Training Data\n",
    "5. Export Test Data from xlsx to csv\n",
    "6. Read Test csvs into Dataframe\n",
    "7. String Processing and Label Encoding for string Data\n",
    "8. Predict and measure metrics for Test Data\n",
    "9. Write test predictions to csvs (r1.csv,r2.csv,r3.csv,r4.csv)\n"
   ]
  },
  {
   "cell_type": "code",
   "execution_count": 2,
   "metadata": {
    "ExecuteTime": {
     "end_time": "2018-08-15T18:02:31.116598Z",
     "start_time": "2018-08-15T18:02:31.009250Z"
    }
   },
   "outputs": [],
   "source": [
    "import numpy as np # linear algebra\n",
    "import pandas as pd # pandas for dataframe based data processing and CSV file I/O\n",
    "import matplotlib.pyplot as plt\n",
    "import seaborn as sns\n",
    "\n",
    "from sklearn.model_selection import train_test_split\n",
    "from sklearn.metrics import mean_squared_error\n",
    "from IPython.core.interactiveshell import InteractiveShell\n",
    "from sklearn.ensemble import RandomForestRegressor\n",
    "from sklearn.metrics import explained_variance_score\n",
    "from sklearn.preprocessing import LabelEncoder\n",
    "from sklearn.metrics import confusion_matrix\n",
    "from sklearn.model_selection import GridSearchCV\n",
    "import matplotlib.dates as mdates\n",
    "%matplotlib inline\n",
    "import seaborn as sns\n",
    "import math\n",
    "import gc\n",
    "import ipaddress\n",
    "from urllib.parse import urlparse\n",
    "from sklearn.metrics import confusion_matrix\n",
    "from sklearn.preprocessing import StandardScaler\n",
    "from sklearn.neural_network import MLPClassifier\n",
    "\n",
    "from data_science_utils import dataframe as df_utils\n",
    "from data_science_utils import models as model_utils\n",
    "from data_science_utils import plots as plot_utils\n",
    "from data_science_utils.dataframe import column as column_utils\n",
    "\n",
    "from IPython.display import display, HTML\n",
    "\n",
    "\n",
    "from xgboost import XGBClassifier\n",
    "from sklearn.model_selection import train_test_split\n",
    "from sklearn.metrics import accuracy_score\n",
    "from sklearn.metrics import confusion_matrix,classification_report\n",
    "\n",
    "\n",
    "sns.set_style('whitegrid')\n",
    "%matplotlib inline\n",
    "from IPython.core.interactiveshell import InteractiveShell\n",
    "InteractiveShell.ast_node_interactivity = \"all\"\n",
    "\n",
    "np.set_printoptions(threshold=np.nan)\n",
    "\n",
    "\n",
    "\n",
    "\n",
    "plt.rcParams[\"figure.figsize\"] = (24,4)\n",
    "\n",
    "pd.set_option('display.max_seq_items', None)\n",
    "pd.set_option('display.max_rows', 500)\n",
    "pd.set_option('display.max_columns', 500)\n",
    "pd.set_option('display.width', 1000)\n",
    "from xgboost import XGBRegressor\n",
    "from sklearn.neural_network import MLPRegressor\n",
    "from sklearn.preprocessing import RobustScaler\n",
    "import warnings\n",
    "warnings.filterwarnings('ignore')\n"
   ]
  },
  {
   "cell_type": "code",
   "execution_count": 69,
   "metadata": {
    "ExecuteTime": {
     "end_time": "2018-08-15T19:27:50.087395Z",
     "start_time": "2018-08-15T19:27:50.081431Z"
    },
    "collapsed": true
   },
   "outputs": [],
   "source": [
    "def string_column_processor(string):\n",
    "    if string is None:\n",
    "        return string\n",
    "    string = string.strip().lower()\n",
    "    return ' '.join(string.split())"
   ]
  },
  {
   "cell_type": "code",
   "execution_count": 70,
   "metadata": {
    "ExecuteTime": {
     "end_time": "2018-08-15T19:27:50.474681Z",
     "start_time": "2018-08-15T19:27:50.458593Z"
    },
    "collapsed": true
   },
   "outputs": [],
   "source": [
    "df = pd.read_csv(\"Inventorys_Sold_BBB.csv\")\n",
    "df = df[:3163]"
   ]
  },
  {
   "cell_type": "code",
   "execution_count": 71,
   "metadata": {
    "ExecuteTime": {
     "end_time": "2018-08-15T19:27:51.725626Z",
     "start_time": "2018-08-15T19:27:51.517677Z"
    }
   },
   "outputs": [
    {
     "data": {
      "text/html": [
       "<div>\n",
       "<style scoped>\n",
       "    .dataframe tbody tr th:only-of-type {\n",
       "        vertical-align: middle;\n",
       "    }\n",
       "\n",
       "    .dataframe tbody tr th {\n",
       "        vertical-align: top;\n",
       "    }\n",
       "\n",
       "    .dataframe thead th {\n",
       "        text-align: right;\n",
       "    }\n",
       "</style>\n",
       "<table border=\"1\" class=\"dataframe\">\n",
       "  <thead>\n",
       "    <tr style=\"text-align: right;\">\n",
       "      <th></th>\n",
       "      <th>brand</th>\n",
       "      <th>model</th>\n",
       "      <th>year</th>\n",
       "      <th>type</th>\n",
       "      <th>sold_marketplace</th>\n",
       "      <th>date</th>\n",
       "      <th>price</th>\n",
       "    </tr>\n",
       "  </thead>\n",
       "  <tbody>\n",
       "    <tr>\n",
       "      <th>0</th>\n",
       "      <td>Redline</td>\n",
       "      <td>Conquest Pro</td>\n",
       "      <td>2015.0</td>\n",
       "      <td>Road</td>\n",
       "      <td>eBay</td>\n",
       "      <td>9/21/17</td>\n",
       "      <td>800.0</td>\n",
       "    </tr>\n",
       "    <tr>\n",
       "      <th>1</th>\n",
       "      <td>Schwinn</td>\n",
       "      <td>Impact (B897)</td>\n",
       "      <td>2005.0</td>\n",
       "      <td>Mountain</td>\n",
       "      <td>eBay</td>\n",
       "      <td>9/27/17</td>\n",
       "      <td>65.0</td>\n",
       "    </tr>\n",
       "    <tr>\n",
       "      <th>2</th>\n",
       "      <td>Fuji</td>\n",
       "      <td>SLM 2.0 BK MTB 21\" (B2197)</td>\n",
       "      <td>2009.0</td>\n",
       "      <td>Mountain</td>\n",
       "      <td>eBay</td>\n",
       "      <td>12/18/17</td>\n",
       "      <td>400.0</td>\n",
       "    </tr>\n",
       "    <tr>\n",
       "      <th>3</th>\n",
       "      <td>Raleigh</td>\n",
       "      <td>Detour iE</td>\n",
       "      <td>2015.0</td>\n",
       "      <td>Hybrid</td>\n",
       "      <td>eBay</td>\n",
       "      <td>9/21/17</td>\n",
       "      <td>700.0</td>\n",
       "    </tr>\n",
       "    <tr>\n",
       "      <th>4</th>\n",
       "      <td>Giant</td>\n",
       "      <td>Defy Advanced Pro 0</td>\n",
       "      <td>2015.0</td>\n",
       "      <td>Road</td>\n",
       "      <td>eBay</td>\n",
       "      <td>7/27/18</td>\n",
       "      <td>1750.0</td>\n",
       "    </tr>\n",
       "  </tbody>\n",
       "</table>\n",
       "</div>"
      ],
      "text/plain": [
       "     brand                       model    year      type sold_marketplace      date   price\n",
       "0  Redline                Conquest Pro  2015.0      Road             eBay   9/21/17   800.0\n",
       "1  Schwinn               Impact (B897)  2005.0  Mountain             eBay   9/27/17    65.0\n",
       "2     Fuji  SLM 2.0 BK MTB 21\" (B2197)  2009.0  Mountain             eBay  12/18/17   400.0\n",
       "3  Raleigh                   Detour iE  2015.0    Hybrid             eBay   9/21/17   700.0\n",
       "4    Giant         Defy Advanced Pro 0  2015.0      Road             eBay   7/27/18  1750.0"
      ]
     },
     "execution_count": 71,
     "metadata": {},
     "output_type": "execute_result"
    },
    {
     "data": {
      "text/plain": [
       "(3163, 7)"
      ]
     },
     "execution_count": 71,
     "metadata": {},
     "output_type": "execute_result"
    }
   ],
   "source": [
    "df.columns = ['id','brand','model','year','type','sold_marketplace','date','price']\n",
    "df_utils.drop_columns_safely(df,[\"id\"],inplace=True)\n",
    "df.head()\n",
    "df.shape"
   ]
  },
  {
   "cell_type": "code",
   "execution_count": 62,
   "metadata": {
    "ExecuteTime": {
     "end_time": "2018-08-15T19:23:20.227174Z",
     "start_time": "2018-08-15T19:23:20.207737Z"
    }
   },
   "outputs": [
    {
     "name": "stdout",
     "output_type": "stream",
     "text": [
      "# Unique values in brand = 167\n",
      "# Unique values in model = 2040\n",
      "# Unique values in year = 25\n",
      "# Unique values in type = 16\n",
      "# Unique values in sold_marketplace = 2\n",
      "# Unique values in date = 375\n",
      "# Unique values in price = 954\n"
     ]
    },
    {
     "data": {
      "text/html": [
       "<div>\n",
       "<style scoped>\n",
       "    .dataframe tbody tr th:only-of-type {\n",
       "        vertical-align: middle;\n",
       "    }\n",
       "\n",
       "    .dataframe tbody tr th {\n",
       "        vertical-align: top;\n",
       "    }\n",
       "\n",
       "    .dataframe thead th {\n",
       "        text-align: right;\n",
       "    }\n",
       "</style>\n",
       "<table border=\"1\" class=\"dataframe\">\n",
       "  <thead>\n",
       "    <tr style=\"text-align: right;\">\n",
       "      <th></th>\n",
       "      <th>count</th>\n",
       "    </tr>\n",
       "    <tr>\n",
       "      <th>Column</th>\n",
       "      <th></th>\n",
       "    </tr>\n",
       "  </thead>\n",
       "  <tbody>\n",
       "    <tr>\n",
       "      <th>type</th>\n",
       "      <td>2</td>\n",
       "    </tr>\n",
       "    <tr>\n",
       "      <th>date</th>\n",
       "      <td>1</td>\n",
       "    </tr>\n",
       "    <tr>\n",
       "      <th>brand</th>\n",
       "      <td>0</td>\n",
       "    </tr>\n",
       "    <tr>\n",
       "      <th>model</th>\n",
       "      <td>0</td>\n",
       "    </tr>\n",
       "    <tr>\n",
       "      <th>year</th>\n",
       "      <td>0</td>\n",
       "    </tr>\n",
       "    <tr>\n",
       "      <th>sold_marketplace</th>\n",
       "      <td>0</td>\n",
       "    </tr>\n",
       "    <tr>\n",
       "      <th>price</th>\n",
       "      <td>0</td>\n",
       "    </tr>\n",
       "  </tbody>\n",
       "</table>\n",
       "</div>"
      ],
      "text/plain": [
       "                  count\n",
       "Column                 \n",
       "type                  2\n",
       "date                  1\n",
       "brand                 0\n",
       "model                 0\n",
       "year                  0\n",
       "sold_marketplace      0\n",
       "price                 0"
      ]
     },
     "execution_count": 62,
     "metadata": {},
     "output_type": "execute_result"
    }
   ],
   "source": [
    "for column in df.columns:\n",
    "    print(\"# Unique values in %s = %s\"%(column,df[column].nunique()))\n",
    "    \n",
    "df_utils.count_nulls(df)"
   ]
  },
  {
   "cell_type": "code",
   "execution_count": 72,
   "metadata": {
    "ExecuteTime": {
     "end_time": "2018-08-15T19:27:57.824871Z",
     "start_time": "2018-08-15T19:27:57.409461Z"
    },
    "collapsed": true
   },
   "outputs": [],
   "source": [
    "df['date'] = pd.to_datetime(df['date'],infer_datetime_format=True)\n",
    "df['years_bought'] = df[\"date\"].dt.year - df['year']\n",
    "\n",
    "df['days_bought'] = (df[\"date\"].dt.date - pd.to_datetime(df['year'].astype(int),format=\"%Y\").dt.date).dt.days\n"
   ]
  },
  {
   "cell_type": "markdown",
   "metadata": {},
   "source": [
    "### Features"
   ]
  },
  {
   "cell_type": "code",
   "execution_count": 73,
   "metadata": {
    "ExecuteTime": {
     "end_time": "2018-08-15T19:28:05.169717Z",
     "start_time": "2018-08-15T19:28:05.060931Z"
    }
   },
   "outputs": [
    {
     "data": {
      "text/plain": [
       "LabelEncoder()"
      ]
     },
     "execution_count": 73,
     "metadata": {},
     "output_type": "execute_result"
    },
    {
     "data": {
      "text/plain": [
       "LabelEncoder()"
      ]
     },
     "execution_count": 73,
     "metadata": {},
     "output_type": "execute_result"
    },
    {
     "data": {
      "text/plain": [
       "LabelEncoder()"
      ]
     },
     "execution_count": 73,
     "metadata": {},
     "output_type": "execute_result"
    },
    {
     "data": {
      "text/plain": [
       "LabelEncoder()"
      ]
     },
     "execution_count": 73,
     "metadata": {},
     "output_type": "execute_result"
    }
   ],
   "source": [
    "known_values = {}\n",
    "encoders = {}\n",
    "for column in ['brand','model','type','sold_marketplace',]:\n",
    "    df[column] = df[column].astype(str)\n",
    "    df[column] = df[column].apply(string_column_processor)\n",
    "    known_values[column] = set(df[column].unique())\n",
    "    le = LabelEncoder()\n",
    "    le.fit(list(df[column].unique())+[\"unknown\"])\n",
    "    df[column] = le.transform(df[column])\n",
    "    df[column] = df[column].astype(int)\n",
    "    encoders[column] = le"
   ]
  },
  {
   "cell_type": "code",
   "execution_count": 74,
   "metadata": {
    "ExecuteTime": {
     "end_time": "2018-08-15T19:28:18.092899Z",
     "start_time": "2018-08-15T19:28:18.087585Z"
    },
    "collapsed": true
   },
   "outputs": [],
   "source": [
    "features = [\"brand\",\"model\",\"year\",\"sold_marketplace\"]\n",
    "target = \"price\""
   ]
  },
  {
   "cell_type": "code",
   "execution_count": 147,
   "metadata": {
    "ExecuteTime": {
     "end_time": "2018-08-15T20:15:35.455537Z",
     "start_time": "2018-08-15T20:15:31.949765Z"
    }
   },
   "outputs": [
    {
     "data": {
      "text/plain": [
       "XGBRegressor(base_score=0.5, booster='gbtree', colsample_bylevel=1,\n",
       "       colsample_bytree=1, gamma=2, learning_rate=0.6, max_delta_step=0,\n",
       "       max_depth=12, min_child_weight=1, missing=None, n_estimators=100,\n",
       "       n_jobs=48, nthread=None, objective='reg:linear', random_state=0,\n",
       "       reg_alpha=0, reg_lambda=1, scale_pos_weight=1, seed=None,\n",
       "       silent=True, subsample=1)"
      ]
     },
     "execution_count": 147,
     "metadata": {},
     "output_type": "execute_result"
    }
   ],
   "source": [
    "xgr=XGBRegressor(n_estimators=100, learning_rate=0.6, gamma=2,max_depth=12,n_jobs=48,missing=np.nan)\n",
    "xgr.fit(df[features],df[target])"
   ]
  },
  {
   "cell_type": "markdown",
   "metadata": {},
   "source": [
    "### Testing"
   ]
  },
  {
   "cell_type": "code",
   "execution_count": 116,
   "metadata": {
    "ExecuteTime": {
     "end_time": "2018-08-15T20:01:17.077474Z",
     "start_time": "2018-08-15T20:01:17.049696Z"
    }
   },
   "outputs": [],
   "source": [
    "cols = [\"brand\",\"model\",\"year\",\"price\",\"sold_marketplace\"]\n",
    "df_test1 = pd.read_csv(\"s1.csv\")\n",
    "df_test2 = pd.read_csv(\"s2.csv\")\n",
    "df_test3 = pd.read_csv(\"s3.csv\")\n",
    "df_test4 = pd.read_csv(\"s4.csv\")\n",
    "df_test1.columns = cols\n",
    "df_test2.columns = cols\n",
    "df_test3.columns = cols\n",
    "df_test4.columns = cols\n",
    "\n",
    "df_test1[\"year\"] = pd.to_numeric(df_test1[\"year\"], errors='coerce')\n",
    "df_test2[\"year\"] = pd.to_numeric(df_test2[\"year\"], errors='coerce')\n",
    "df_test3[\"year\"] = pd.to_numeric(df_test3[\"year\"], errors='coerce')\n",
    "df_test4[\"year\"] = pd.to_numeric(df_test4[\"year\"], errors='coerce')\n"
   ]
  },
  {
   "cell_type": "code",
   "execution_count": null,
   "metadata": {
    "collapsed": true
   },
   "outputs": [],
   "source": []
  },
  {
   "cell_type": "code",
   "execution_count": 117,
   "metadata": {
    "ExecuteTime": {
     "end_time": "2018-08-15T20:01:18.202167Z",
     "start_time": "2018-08-15T20:01:18.191223Z"
    }
   },
   "outputs": [],
   "source": [
    "def label_encode_test(df):\n",
    "    for column in ['brand','model','sold_marketplace']:\n",
    "        df[column] = df[column].astype(str)\n",
    "        df[column] = df[column].apply(string_column_processor)\n",
    "        df.loc[~df[column].isin(known_values[column]),column] = \"unknown\"\n",
    "        le = encoders[column]\n",
    "        df[column] = le.transform(df[column])\n",
    "        df[column] = df[column].astype(int)\n",
    "    return df"
   ]
  },
  {
   "cell_type": "code",
   "execution_count": 118,
   "metadata": {
    "ExecuteTime": {
     "end_time": "2018-08-15T20:01:19.795035Z",
     "start_time": "2018-08-15T20:01:19.605942Z"
    }
   },
   "outputs": [],
   "source": [
    "label_encode_test(df_test1);\n",
    "label_encode_test(df_test2);\n",
    "label_encode_test(df_test3);\n",
    "label_encode_test(df_test4);"
   ]
  },
  {
   "cell_type": "code",
   "execution_count": 122,
   "metadata": {
    "ExecuteTime": {
     "end_time": "2018-08-15T20:05:54.637381Z",
     "start_time": "2018-08-15T20:05:54.623078Z"
    },
    "collapsed": true
   },
   "outputs": [],
   "source": [
    "def mean_absolute_percentage_error(y_true, y_pred):\n",
    "    diff = np.abs((y_true - y_pred) / np.clip(np.abs(y_true),1,1e8))\n",
    "    return 100. * np.mean(diff)\n",
    "def predict_and_check_error(df):\n",
    "    preds = np.round(xgr.predict(df[features]))\n",
    "    y_true = df[target]\n",
    "    y_pred = preds\n",
    "    rmse = model_utils.rmse(y_true,y_pred)\n",
    "    diff = 100.* np.abs((y_true - y_pred) / np.clip(np.abs(y_true),1,1e8))\n",
    "    count_ten_percent = np.sum(diff<10)\n",
    "    percent_cols = 100*count_ten_percent/len(y_true)\n",
    "    mape = mean_absolute_percentage_error(df[target],preds)\n",
    "    return {\"preds\":preds,\"rmse\":rmse,\"mape\":mape,\"ten_percent\":count_ten_percent,\"ten_in_ten\":percent_cols}"
   ]
  },
  {
   "cell_type": "code",
   "execution_count": 148,
   "metadata": {
    "ExecuteTime": {
     "end_time": "2018-08-15T20:15:37.313748Z",
     "start_time": "2018-08-15T20:15:37.267666Z"
    }
   },
   "outputs": [],
   "source": [
    "r1 = predict_and_check_error(df_test1)\n",
    "r2 = predict_and_check_error(df_test2)\n",
    "r3 = predict_and_check_error(df_test3)\n",
    "r4 = predict_and_check_error(df_test4)"
   ]
  },
  {
   "cell_type": "code",
   "execution_count": 149,
   "metadata": {
    "ExecuteTime": {
     "end_time": "2018-08-15T20:15:38.321937Z",
     "start_time": "2018-08-15T20:15:38.304453Z"
    }
   },
   "outputs": [
    {
     "data": {
      "text/html": [
       "<div>\n",
       "<style scoped>\n",
       "    .dataframe tbody tr th:only-of-type {\n",
       "        vertical-align: middle;\n",
       "    }\n",
       "\n",
       "    .dataframe tbody tr th {\n",
       "        vertical-align: top;\n",
       "    }\n",
       "\n",
       "    .dataframe thead th {\n",
       "        text-align: right;\n",
       "    }\n",
       "</style>\n",
       "<table border=\"1\" class=\"dataframe\">\n",
       "  <thead>\n",
       "    <tr style=\"text-align: right;\">\n",
       "      <th></th>\n",
       "      <th>mape</th>\n",
       "      <th>rmse</th>\n",
       "      <th>ten</th>\n",
       "      <th>ten_in_ten</th>\n",
       "    </tr>\n",
       "  </thead>\n",
       "  <tbody>\n",
       "    <tr>\n",
       "      <th>0</th>\n",
       "      <td>25.295923</td>\n",
       "      <td>386.637927</td>\n",
       "      <td>2828</td>\n",
       "      <td>68.574200</td>\n",
       "    </tr>\n",
       "    <tr>\n",
       "      <th>1</th>\n",
       "      <td>96.077302</td>\n",
       "      <td>881.416350</td>\n",
       "      <td>122</td>\n",
       "      <td>20.538721</td>\n",
       "    </tr>\n",
       "    <tr>\n",
       "      <th>2</th>\n",
       "      <td>96.077302</td>\n",
       "      <td>881.416350</td>\n",
       "      <td>122</td>\n",
       "      <td>20.538721</td>\n",
       "    </tr>\n",
       "    <tr>\n",
       "      <th>3</th>\n",
       "      <td>96.077302</td>\n",
       "      <td>881.416350</td>\n",
       "      <td>122</td>\n",
       "      <td>20.538721</td>\n",
       "    </tr>\n",
       "  </tbody>\n",
       "</table>\n",
       "</div>"
      ],
      "text/plain": [
       "        mape        rmse   ten  ten_in_ten\n",
       "0  25.295923  386.637927  2828   68.574200\n",
       "1  96.077302  881.416350   122   20.538721\n",
       "2  96.077302  881.416350   122   20.538721\n",
       "3  96.077302  881.416350   122   20.538721"
      ]
     },
     "execution_count": 149,
     "metadata": {},
     "output_type": "execute_result"
    }
   ],
   "source": [
    "pd.DataFrame({\n",
    "            \"rmse\":list(map(lambda r:r[\"rmse\"],[r1,r2,r3,r4])),\n",
    "             \"mape\":list(map(lambda r:r[\"mape\"],[r1,r2,r3,r4])),\n",
    "             \"ten\":list(map(lambda r:r[\"ten_percent\"],[r1,r2,r3,r4])),\n",
    "\"ten_in_ten\":list(map(lambda r:r[\"ten_in_ten\"],[r1,r2,r3,r4]))})"
   ]
  },
  {
   "cell_type": "code",
   "execution_count": 151,
   "metadata": {
    "ExecuteTime": {
     "end_time": "2018-08-15T20:17:49.780336Z",
     "start_time": "2018-08-15T20:17:49.761611Z"
    }
   },
   "outputs": [],
   "source": [
    "pd.DataFrame({\"preds\":r1[\"preds\"]}).to_csv(\"r1.csv\",index=False)\n",
    "pd.DataFrame({\"preds\":r2[\"preds\"]}).to_csv(\"r2.csv\",index=False)\n",
    "pd.DataFrame({\"preds\":r3[\"preds\"]}).to_csv(\"r3.csv\",index=False)\n",
    "pd.DataFrame({\"preds\":r4[\"preds\"]}).to_csv(\"r4.csv\",index=False)"
   ]
  },
  {
   "cell_type": "markdown",
   "metadata": {},
   "source": [
    "### EDA Concepts"
   ]
  },
  {
   "cell_type": "markdown",
   "metadata": {},
   "source": [
    "- Price depends on how many years after it is sold\n",
    "- Price deprecation per year per brand"
   ]
  },
  {
   "cell_type": "code",
   "execution_count": null,
   "metadata": {
    "collapsed": true
   },
   "outputs": [],
   "source": []
  },
  {
   "cell_type": "markdown",
   "metadata": {},
   "source": [
    "- Label encode brand,model,type,sold_marketplace\n",
    "- type average, brand average\n"
   ]
  }
 ],
 "metadata": {
  "kernelspec": {
   "display_name": "Python 3",
   "language": "python",
   "name": "python3"
  },
  "language_info": {
   "codemirror_mode": {
    "name": "ipython",
    "version": 3
   },
   "file_extension": ".py",
   "mimetype": "text/x-python",
   "name": "python",
   "nbconvert_exporter": "python",
   "pygments_lexer": "ipython3",
   "version": "3.6.2"
  },
  "toc": {
   "nav_menu": {},
   "number_sections": true,
   "sideBar": true,
   "skip_h1_title": false,
   "toc_cell": false,
   "toc_position": {},
   "toc_section_display": "block",
   "toc_window_display": false
  }
 },
 "nbformat": 4,
 "nbformat_minor": 2
}
