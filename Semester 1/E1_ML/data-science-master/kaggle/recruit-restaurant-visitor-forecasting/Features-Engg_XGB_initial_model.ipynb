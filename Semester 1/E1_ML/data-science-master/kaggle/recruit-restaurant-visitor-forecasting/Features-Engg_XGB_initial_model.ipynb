{
 "cells": [
  {
   "cell_type": "code",
   "execution_count": 1,
   "metadata": {
    "ExecuteTime": {
     "end_time": "2018-01-12T17:50:05.982899Z",
     "start_time": "2018-01-12T17:50:04.759163Z"
    }
   },
   "outputs": [],
   "source": [
    "import numpy as np # linear algebra\n",
    "import pandas as pd # data processing, CSV file I/O (e.g. pd.read_csv)\n",
    "import matplotlib as mplt\n",
    "import matplotlib.pyplot as plt\n",
    "from sklearn.model_selection import train_test_split\n",
    "from sklearn.metrics import mean_squared_error\n",
    "from IPython.core.interactiveshell import InteractiveShell\n",
    "from sklearn.ensemble import RandomForestRegressor\n",
    "from sklearn.metrics import explained_variance_score\n",
    "from sklearn.preprocessing import LabelEncoder\n",
    "from sklearn.metrics import confusion_matrix\n",
    "from sklearn.model_selection import GridSearchCV\n",
    "%matplotlib inline\n",
    "import seaborn as sns\n",
    "import math\n",
    "import gc\n",
    "import ipaddress\n",
    "from urllib.parse import urlparse\n",
    "from tldextract import extract\n",
    "from sklearn.metrics import confusion_matrix\n",
    "from sklearn.neural_network import MLPRegressor\n",
    "from collections import Counter\n",
    "\n",
    "import sys\n",
    "from pathlib import Path\n",
    "d = Path().resolve().parent.parent\n",
    "sys.path.insert(0, str(d))\n",
    "import util.utils as utils\n",
    "import util.plot_utils as plot_utils\n",
    "\n",
    "from xgboost import XGBClassifier\n",
    "from sklearn.model_selection import train_test_split\n",
    "from sklearn.metrics import accuracy_score\n",
    "\n",
    "np.set_printoptions(threshold=np.nan)\n",
    "\n",
    "from sklearn.linear_model import LinearRegression\n",
    "\n",
    "\n",
    "\n",
    "plt.rcParams[\"figure.figsize\"] = (12,4)\n",
    "\n",
    "from xgboost import XGBClassifier\n",
    "import xgboost as xgb\n",
    "from sklearn.metrics import accuracy_score\n",
    "from datetime import datetime\n",
    "\n",
    "\n",
    "InteractiveShell.ast_node_interactivity = \"all\""
   ]
  },
  {
   "cell_type": "markdown",
   "metadata": {
    "ExecuteTime": {
     "end_time": "2017-12-18T20:42:22.549055Z",
     "start_time": "2017-12-18T20:42:20.942842Z"
    },
    "collapsed": true
   },
   "source": [
    "### Features\n",
    "- dates\n",
    "    - dayofyear\n",
    "    - weekofyear\n",
    "    - dayofweek\n",
    "    - dayofmonth (salary credit effect)\n",
    "    - Holidays from date_info.csv\n",
    "- Visitors and reserve visitors\n",
    "- Take all hotels for model, even ones not in submmission file\n",
    "- Area by lat long\n",
    "- reserve visitors can be used by per restaurant per day to gain some kind of intuition\n",
    "- LabelEncode Store info"
   ]
  },
  {
   "cell_type": "code",
   "execution_count": 2,
   "metadata": {
    "ExecuteTime": {
     "end_time": "2018-01-12T17:50:11.169012Z",
     "start_time": "2018-01-12T17:50:10.766699Z"
    }
   },
   "outputs": [
    {
     "data": {
      "text/plain": [
       "LabelEncoder()"
      ]
     },
     "execution_count": 2,
     "metadata": {},
     "output_type": "execute_result"
    },
    {
     "data": {
      "text/plain": [
       "LabelEncoder()"
      ]
     },
     "execution_count": 2,
     "metadata": {},
     "output_type": "execute_result"
    },
    {
     "data": {
      "text/plain": [
       "LabelEncoder()"
      ]
     },
     "execution_count": 2,
     "metadata": {},
     "output_type": "execute_result"
    },
    {
     "data": {
      "text/plain": [
       "LabelEncoder()"
      ]
     },
     "execution_count": 2,
     "metadata": {},
     "output_type": "execute_result"
    }
   ],
   "source": [
    "\n",
    "def label_encode_field(df,field):\n",
    "    df[field] = df[field].fillna('-1')\n",
    "    encoded_df = df[field]\n",
    "    label_encoder = LabelEncoder()\n",
    "    encoder = label_encoder.fit(encoded_df.values)\n",
    "    \n",
    "    encoded_df=encoder.transform(df[field].fillna(\"-1\").values)\n",
    "    df[field+\"_encoded\"] = encoded_df\n",
    "    return encoder\n",
    "\n",
    "df_air_store_info = pd.read_csv(\"data/air_store_info.csv\")\n",
    "label_encode_field(df_air_store_info,\"air_genre_name\")\n",
    "label_encode_field(df_air_store_info,\"air_store_id\")\n",
    "label_encode_field(df_air_store_info,\"air_area_name\")\n",
    "df_air_store_info[\"air_lat_long\"]=df_air_store_info[\"latitude\"].astype(str)+\"_\"+df_air_store_info[\"longitude\"].astype(str)\n",
    "label_encode_field(df_air_store_info,\"air_lat_long\")\n",
    "\n",
    "df_hpg_store_info = pd.read_csv(\"data/hpg_store_info.csv\")\n",
    "df_store_id_relation = pd.read_csv(\"data/store_id_relation.csv\")\n",
    "df_air_visit_data = pd.read_csv(\"data/air_visit_data.csv\")\n",
    "\n",
    "df_date_info = pd.read_csv(\"data/date_info.csv\")\n",
    "df_date_info.drop(['day_of_week'], axis = 1, inplace = True)\n",
    "df_date_info[\"visit_date\"]=df_date_info[\"calendar_date\"]\n",
    "df_date_info.drop(['calendar_date'], axis = 1, inplace = True)"
   ]
  },
  {
   "cell_type": "code",
   "execution_count": 3,
   "metadata": {
    "ExecuteTime": {
     "end_time": "2018-01-12T17:52:03.446417Z",
     "start_time": "2018-01-12T17:50:15.146364Z"
    }
   },
   "outputs": [],
   "source": [
    "def add_dates(df,date_col,date_format=None):\n",
    "    timeseries = None\n",
    "    if(date_format is None):\n",
    "        timeseries = pd.to_datetime(df[date_col])\n",
    "    else:\n",
    "        timeseries = pd.to_datetime(df[date_col],format=date_format)\n",
    "    df[\"dayofyear\"] = timeseries.map(lambda x:x.dayofyear)\n",
    "    df[\"dayofweek\"] = timeseries.map(lambda x:x.dayofweek)\n",
    "    df[\"weekofyear\"] = timeseries.map(lambda x:x.weekofyear)\n",
    "    df.loc[df[\"weekofyear\"]==53,\"weekofyear\"] = 1\n",
    "    df[\"dayofmonth\"] = timeseries.map(lambda x:x.date().day)\n",
    "    df[\"visit_date\"] = timeseries.map(lambda x:str(x.date()))\n",
    "    df[\"month\"] = timeseries.map(lambda x:x.month)\n",
    "    df = pd.merge(df,df_date_info,on=\"visit_date\", how='left')\n",
    "    #df.join(df_date_info,on='visit_date',how='left')\n",
    "    return df\n",
    "    \n",
    "    \n",
    "\n",
    "df_hpg_reserve = pd.read_csv(\"data/hpg_reserve.csv\")\n",
    "\n",
    "df_air_reserve = pd.read_csv(\"data/air_reserve.csv\")\n",
    "\n",
    "df_air_reserve = pd.merge(df_air_reserve,df_air_store_info,on='air_store_id', how='left')\n",
    "df_air_reserve.drop(['reserve_datetime'], axis = 1, inplace = True)\n",
    "df_hpg_reserve = pd.merge(df_hpg_reserve,df_hpg_store_info,on='hpg_store_id', how='left')\n",
    "df_hpg_reserve.drop(['reserve_datetime'], axis = 1, inplace = True)\n",
    "\n",
    "df_air_reserve=add_dates(df_air_reserve,\"visit_datetime\")\n",
    "df_hpg_reserve=add_dates(df_hpg_reserve,\"visit_datetime\")\n",
    "\n"
   ]
  },
  {
   "cell_type": "code",
   "execution_count": 4,
   "metadata": {
    "ExecuteTime": {
     "end_time": "2018-01-12T17:52:36.216908Z",
     "start_time": "2018-01-12T17:52:23.400667Z"
    }
   },
   "outputs": [],
   "source": [
    "df_air_visit_data = pd.merge(df_air_visit_data,df_air_store_info,on='air_store_id', how='left')\n",
    "df_air_visit_data = add_dates(df_air_visit_data,\"visit_date\")"
   ]
  },
  {
   "cell_type": "code",
   "execution_count": 5,
   "metadata": {
    "ExecuteTime": {
     "end_time": "2018-01-12T17:52:40.150497Z",
     "start_time": "2018-01-12T17:52:38.425795Z"
    }
   },
   "outputs": [
    {
     "data": {
      "text/plain": [
       "32019"
      ]
     },
     "execution_count": 5,
     "metadata": {},
     "output_type": "execute_result"
    },
    {
     "data": {
      "text/plain": [
       "32019"
      ]
     },
     "execution_count": 5,
     "metadata": {},
     "output_type": "execute_result"
    },
    {
     "data": {
      "text/html": [
       "<div>\n",
       "<style scoped>\n",
       "    .dataframe tbody tr th:only-of-type {\n",
       "        vertical-align: middle;\n",
       "    }\n",
       "\n",
       "    .dataframe tbody tr th {\n",
       "        vertical-align: top;\n",
       "    }\n",
       "\n",
       "    .dataframe thead th {\n",
       "        text-align: right;\n",
       "    }\n",
       "</style>\n",
       "<table border=\"1\" class=\"dataframe\">\n",
       "  <thead>\n",
       "    <tr style=\"text-align: right;\">\n",
       "      <th></th>\n",
       "      <th>id</th>\n",
       "      <th>visitors</th>\n",
       "      <th>air_store_id</th>\n",
       "      <th>visit_date</th>\n",
       "      <th>dayofyear</th>\n",
       "      <th>dayofweek</th>\n",
       "      <th>weekofyear</th>\n",
       "      <th>dayofmonth</th>\n",
       "      <th>month</th>\n",
       "      <th>holiday_flg</th>\n",
       "      <th>air_genre_name</th>\n",
       "      <th>air_area_name</th>\n",
       "      <th>latitude</th>\n",
       "      <th>longitude</th>\n",
       "      <th>air_genre_name_encoded</th>\n",
       "      <th>air_store_id_encoded</th>\n",
       "      <th>air_area_name_encoded</th>\n",
       "      <th>air_lat_long</th>\n",
       "      <th>air_lat_long_encoded</th>\n",
       "    </tr>\n",
       "  </thead>\n",
       "  <tbody>\n",
       "    <tr>\n",
       "      <th>0</th>\n",
       "      <td>air_00a91d42b08b08d9_2017-04-23</td>\n",
       "      <td>0</td>\n",
       "      <td>air_00a91d42b08b08d9</td>\n",
       "      <td>2017-04-23</td>\n",
       "      <td>113</td>\n",
       "      <td>6</td>\n",
       "      <td>16</td>\n",
       "      <td>23</td>\n",
       "      <td>4</td>\n",
       "      <td>0</td>\n",
       "      <td>Italian/French</td>\n",
       "      <td>Tōkyō-to Chiyoda-ku Kudanminami</td>\n",
       "      <td>35.694003</td>\n",
       "      <td>139.753595</td>\n",
       "      <td>6</td>\n",
       "      <td>0</td>\n",
       "      <td>44</td>\n",
       "      <td>35.6940027_139.75359509999998</td>\n",
       "      <td>68</td>\n",
       "    </tr>\n",
       "    <tr>\n",
       "      <th>1</th>\n",
       "      <td>air_00a91d42b08b08d9_2017-04-24</td>\n",
       "      <td>0</td>\n",
       "      <td>air_00a91d42b08b08d9</td>\n",
       "      <td>2017-04-24</td>\n",
       "      <td>114</td>\n",
       "      <td>0</td>\n",
       "      <td>17</td>\n",
       "      <td>24</td>\n",
       "      <td>4</td>\n",
       "      <td>0</td>\n",
       "      <td>Italian/French</td>\n",
       "      <td>Tōkyō-to Chiyoda-ku Kudanminami</td>\n",
       "      <td>35.694003</td>\n",
       "      <td>139.753595</td>\n",
       "      <td>6</td>\n",
       "      <td>0</td>\n",
       "      <td>44</td>\n",
       "      <td>35.6940027_139.75359509999998</td>\n",
       "      <td>68</td>\n",
       "    </tr>\n",
       "    <tr>\n",
       "      <th>2</th>\n",
       "      <td>air_00a91d42b08b08d9_2017-04-25</td>\n",
       "      <td>0</td>\n",
       "      <td>air_00a91d42b08b08d9</td>\n",
       "      <td>2017-04-25</td>\n",
       "      <td>115</td>\n",
       "      <td>1</td>\n",
       "      <td>17</td>\n",
       "      <td>25</td>\n",
       "      <td>4</td>\n",
       "      <td>0</td>\n",
       "      <td>Italian/French</td>\n",
       "      <td>Tōkyō-to Chiyoda-ku Kudanminami</td>\n",
       "      <td>35.694003</td>\n",
       "      <td>139.753595</td>\n",
       "      <td>6</td>\n",
       "      <td>0</td>\n",
       "      <td>44</td>\n",
       "      <td>35.6940027_139.75359509999998</td>\n",
       "      <td>68</td>\n",
       "    </tr>\n",
       "    <tr>\n",
       "      <th>3</th>\n",
       "      <td>air_00a91d42b08b08d9_2017-04-26</td>\n",
       "      <td>0</td>\n",
       "      <td>air_00a91d42b08b08d9</td>\n",
       "      <td>2017-04-26</td>\n",
       "      <td>116</td>\n",
       "      <td>2</td>\n",
       "      <td>17</td>\n",
       "      <td>26</td>\n",
       "      <td>4</td>\n",
       "      <td>0</td>\n",
       "      <td>Italian/French</td>\n",
       "      <td>Tōkyō-to Chiyoda-ku Kudanminami</td>\n",
       "      <td>35.694003</td>\n",
       "      <td>139.753595</td>\n",
       "      <td>6</td>\n",
       "      <td>0</td>\n",
       "      <td>44</td>\n",
       "      <td>35.6940027_139.75359509999998</td>\n",
       "      <td>68</td>\n",
       "    </tr>\n",
       "    <tr>\n",
       "      <th>4</th>\n",
       "      <td>air_00a91d42b08b08d9_2017-04-27</td>\n",
       "      <td>0</td>\n",
       "      <td>air_00a91d42b08b08d9</td>\n",
       "      <td>2017-04-27</td>\n",
       "      <td>117</td>\n",
       "      <td>3</td>\n",
       "      <td>17</td>\n",
       "      <td>27</td>\n",
       "      <td>4</td>\n",
       "      <td>0</td>\n",
       "      <td>Italian/French</td>\n",
       "      <td>Tōkyō-to Chiyoda-ku Kudanminami</td>\n",
       "      <td>35.694003</td>\n",
       "      <td>139.753595</td>\n",
       "      <td>6</td>\n",
       "      <td>0</td>\n",
       "      <td>44</td>\n",
       "      <td>35.6940027_139.75359509999998</td>\n",
       "      <td>68</td>\n",
       "    </tr>\n",
       "  </tbody>\n",
       "</table>\n",
       "</div>"
      ],
      "text/plain": [
       "                                id  visitors          air_store_id  \\\n",
       "0  air_00a91d42b08b08d9_2017-04-23         0  air_00a91d42b08b08d9   \n",
       "1  air_00a91d42b08b08d9_2017-04-24         0  air_00a91d42b08b08d9   \n",
       "2  air_00a91d42b08b08d9_2017-04-25         0  air_00a91d42b08b08d9   \n",
       "3  air_00a91d42b08b08d9_2017-04-26         0  air_00a91d42b08b08d9   \n",
       "4  air_00a91d42b08b08d9_2017-04-27         0  air_00a91d42b08b08d9   \n",
       "\n",
       "   visit_date  dayofyear  dayofweek  weekofyear  dayofmonth  month  \\\n",
       "0  2017-04-23        113          6          16          23      4   \n",
       "1  2017-04-24        114          0          17          24      4   \n",
       "2  2017-04-25        115          1          17          25      4   \n",
       "3  2017-04-26        116          2          17          26      4   \n",
       "4  2017-04-27        117          3          17          27      4   \n",
       "\n",
       "   holiday_flg  air_genre_name                    air_area_name   latitude  \\\n",
       "0            0  Italian/French  Tōkyō-to Chiyoda-ku Kudanminami  35.694003   \n",
       "1            0  Italian/French  Tōkyō-to Chiyoda-ku Kudanminami  35.694003   \n",
       "2            0  Italian/French  Tōkyō-to Chiyoda-ku Kudanminami  35.694003   \n",
       "3            0  Italian/French  Tōkyō-to Chiyoda-ku Kudanminami  35.694003   \n",
       "4            0  Italian/French  Tōkyō-to Chiyoda-ku Kudanminami  35.694003   \n",
       "\n",
       "    longitude  air_genre_name_encoded  air_store_id_encoded  \\\n",
       "0  139.753595                       6                     0   \n",
       "1  139.753595                       6                     0   \n",
       "2  139.753595                       6                     0   \n",
       "3  139.753595                       6                     0   \n",
       "4  139.753595                       6                     0   \n",
       "\n",
       "   air_area_name_encoded                   air_lat_long  air_lat_long_encoded  \n",
       "0                     44  35.6940027_139.75359509999998                    68  \n",
       "1                     44  35.6940027_139.75359509999998                    68  \n",
       "2                     44  35.6940027_139.75359509999998                    68  \n",
       "3                     44  35.6940027_139.75359509999998                    68  \n",
       "4                     44  35.6940027_139.75359509999998                    68  "
      ]
     },
     "execution_count": 5,
     "metadata": {},
     "output_type": "execute_result"
    }
   ],
   "source": [
    "sample_sub = pd.read_csv(\"data/sample_submission.csv\")\n",
    "len(sample_sub)\n",
    "\n",
    "pred_ids = sample_sub.id.map(lambda x:x[:-11])\n",
    "sample_sub[\"air_store_id\"] = pred_ids\n",
    "pred_dates = sample_sub.id.map(lambda x:x[-10:])\n",
    "sample_sub[\"visit_date\"] = pred_dates\n",
    "sample_sub = add_dates(sample_sub,\"visit_date\")\n",
    "sample_sub = pd.merge(sample_sub,df_air_store_info,on='air_store_id', how='left')\n",
    "len(sample_sub)\n",
    "sample_sub.head()\n"
   ]
  },
  {
   "cell_type": "code",
   "execution_count": 6,
   "metadata": {
    "ExecuteTime": {
     "end_time": "2017-12-20T12:20:13.349099Z",
     "start_time": "2017-12-20T12:20:13.346167Z"
    },
    "collapsed": true
   },
   "outputs": [],
   "source": [
    "# df_hpg_reserve.to_csv(\"data/stage-2/hpg_reserve.csv\")\n",
    "\n",
    "# df_air_reserve.to_csv(\"data/stage-2/air_reserve.csv\")\n",
    "\n",
    "# df_air_store_info.to_csv(\"data/stage-2/air_store_info.csv\")\n",
    "\n",
    "# df_date_info.to_csv(\"data/stage-2/date_info.csv\")\n",
    "\n",
    "# df_air_visit_data.to_csv(\"data/stage-2/air_visit_data.csv\")\n",
    "# sample_sub.to_csv(\"data/stage-2/sample_submission.csv\")"
   ]
  },
  {
   "cell_type": "code",
   "execution_count": null,
   "metadata": {
    "collapsed": true
   },
   "outputs": [],
   "source": []
  },
  {
   "cell_type": "code",
   "execution_count": 6,
   "metadata": {
    "ExecuteTime": {
     "end_time": "2018-01-12T17:52:45.866920Z",
     "start_time": "2018-01-12T17:52:45.814805Z"
    }
   },
   "outputs": [
    {
     "data": {
      "text/plain": [
       "Index(['air_store_id', 'visit_date', 'visitors', 'air_genre_name',\n",
       "       'air_area_name', 'latitude', 'longitude', 'air_genre_name_encoded',\n",
       "       'air_store_id_encoded', 'air_area_name_encoded', 'air_lat_long',\n",
       "       'air_lat_long_encoded', 'dayofyear', 'dayofweek', 'weekofyear',\n",
       "       'dayofmonth', 'month', 'holiday_flg'],\n",
       "      dtype='object')"
      ]
     },
     "execution_count": 6,
     "metadata": {},
     "output_type": "execute_result"
    },
    {
     "data": {
      "text/plain": [
       "air_genre_name_encoded    int64\n",
       "air_store_id_encoded      int64\n",
       "air_area_name_encoded     int64\n",
       "air_lat_long_encoded      int64\n",
       "dayofyear                 int64\n",
       "dayofweek                 int64\n",
       "weekofyear                int64\n",
       "dayofmonth                int64\n",
       "holiday_flg               int64\n",
       "month                     int64\n",
       "dtype: object"
      ]
     },
     "execution_count": 6,
     "metadata": {},
     "output_type": "execute_result"
    }
   ],
   "source": [
    "df_air_visit_data.columns\n",
    "output_column=[\"visitors\"]\n",
    "features = [\"air_genre_name_encoded\",\"air_store_id_encoded\", 'air_area_name_encoded','air_lat_long_encoded', 'dayofyear', 'dayofweek', 'weekofyear',\n",
    "       'dayofmonth', 'holiday_flg','month']\n",
    "df_air_visit_data[features].dtypes"
   ]
  },
  {
   "cell_type": "code",
   "execution_count": 7,
   "metadata": {
    "ExecuteTime": {
     "end_time": "2018-01-12T17:52:48.756002Z",
     "start_time": "2018-01-12T17:52:48.677168Z"
    }
   },
   "outputs": [],
   "source": [
    "X = df_air_visit_data[features].values\n",
    "y = df_air_visit_data[output_column]\n",
    "X_train, X_test, y_train, y_test = train_test_split(X, y, test_size=0.25, random_state=17)\n",
    "X_pred = sample_sub[features].values"
   ]
  },
  {
   "cell_type": "code",
   "execution_count": 8,
   "metadata": {
    "ExecuteTime": {
     "end_time": "2018-01-12T17:53:01.362737Z",
     "start_time": "2018-01-12T17:53:01.340676Z"
    }
   },
   "outputs": [],
   "source": [
    "def loss(Y,A):\n",
    "    y_1 = Y+1\n",
    "    a_1 = A+1\n",
    "    length = len(Y)\n",
    "    return np.sqrt(np.sum(np.square(np.log(y_1) - np.log(a_1)))/length)\n",
    "\n",
    "def objective(Y, A):\n",
    "    Y=np.asarray(Y)\n",
    "    A=np.asarray(A)\n",
    "    y_1 = Y+1\n",
    "    a_1 = A+1\n",
    "    a_1_log = np.log(a_1)\n",
    "    y_1_log = np.log(y_1)\n",
    "    diff = y_1_log - a_1_log\n",
    "    grad = -2 * diff/a_1\n",
    "    hess = (-2*a_1_log+2*y_1_log+2)/np.square(a_1)\n",
    "    return (grad,hess)"
   ]
  },
  {
   "cell_type": "code",
   "execution_count": 9,
   "metadata": {
    "ExecuteTime": {
     "end_time": "2018-01-12T17:54:55.363330Z",
     "start_time": "2018-01-12T17:53:16.570854Z"
    }
   },
   "outputs": [
    {
     "data": {
      "text/plain": [
       "259"
      ]
     },
     "execution_count": 9,
     "metadata": {},
     "output_type": "execute_result"
    },
    {
     "data": {
      "text/plain": [
       "XGBRegressor(base_score=0.5, booster='gbtree', colsample_bylevel=1,\n",
       "       colsample_bytree=1, gamma=0, learning_rate=0.2, max_delta_step=0,\n",
       "       max_depth=8, min_child_weight=1, missing=None, n_estimators=1000,\n",
       "       n_jobs=36, nthread=None,\n",
       "       objective=<function objective at 0x7f6f697f0510>, random_state=0,\n",
       "       reg_alpha=0, reg_lambda=1, scale_pos_weight=1, seed=None,\n",
       "       silent=True, subsample=1)"
      ]
     },
     "execution_count": 9,
     "metadata": {},
     "output_type": "execute_result"
    }
   ],
   "source": [
    "\n",
    "    \n",
    "\n",
    "gc.collect()\n",
    "xgr=xgb.XGBRegressor(n_estimators=1000, learning_rate=0.2, gamma=0,max_depth=8,n_jobs=36,objective=objective)\n",
    "xgr.fit(X,y)\n",
    "\n",
    "def xgr_predict(X):\n",
    "    pred=xgr.predict(X)\n",
    "    pred[pred<=0]=1\n",
    "    return pred"
   ]
  },
  {
   "cell_type": "markdown",
   "metadata": {},
   "source": [
    "### NN Solution with sklearn"
   ]
  },
  {
   "cell_type": "code",
   "execution_count": 181,
   "metadata": {
    "ExecuteTime": {
     "end_time": "2017-12-21T13:38:59.193559Z",
     "start_time": "2017-12-21T13:34:58.799289Z"
    }
   },
   "outputs": [
    {
     "name": "stderr",
     "output_type": "stream",
     "text": [
      "/home/ahemf/anaconda3/lib/python3.6/site-packages/sklearn/neural_network/multilayer_perceptron.py:1306: DataConversionWarning: A column-vector y was passed when a 1d array was expected. Please change the shape of y to (n_samples, ), for example using ravel().\n",
      "  y = column_or_1d(y, warn=True)\n"
     ]
    },
    {
     "data": {
      "text/plain": [
       "MLPRegressor(activation='relu', alpha=0.0001, batch_size=2000, beta_1=0.9,\n",
       "       beta_2=0.999, early_stopping=False, epsilon=1e-08,\n",
       "       hidden_layer_sizes=(1000, 100, 10), learning_rate='constant',\n",
       "       learning_rate_init=0.001, max_iter=100, momentum=0.9,\n",
       "       nesterovs_momentum=True, power_t=0.5, random_state=None,\n",
       "       shuffle=True, solver='adam', tol=0.0001, validation_fraction=0.1,\n",
       "       verbose=False, warm_start=True)"
      ]
     },
     "execution_count": 181,
     "metadata": {},
     "output_type": "execute_result"
    }
   ],
   "source": [
    "# model = MLPRegressor(hidden_layer_sizes=(500, 250,128,64,32,16,8,), activation='relu',batch_size=2000,learning_rate_init=0.001,max_iter=100,warm_start=True)\n",
    "model = MLPRegressor(hidden_layer_sizes=(100,100,10,), activation='relu',batch_size=5000,learning_rate_init=0.01,max_iter=1000,warm_start=True)\n",
    "model.fit(X_train,y_train)\n",
    "\n"
   ]
  },
  {
   "cell_type": "code",
   "execution_count": null,
   "metadata": {
    "collapsed": true
   },
   "outputs": [],
   "source": []
  },
  {
   "cell_type": "code",
   "execution_count": 182,
   "metadata": {
    "ExecuteTime": {
     "end_time": "2017-12-21T13:38:59.199661Z",
     "start_time": "2017-12-21T13:38:59.195371Z"
    },
    "collapsed": true
   },
   "outputs": [],
   "source": [
    "def mlp_predict(X):\n",
    "    pred=model.predict(X)\n",
    "    pred[pred<=0]=1\n",
    "    return pred"
   ]
  },
  {
   "cell_type": "code",
   "execution_count": 10,
   "metadata": {
    "ExecuteTime": {
     "end_time": "2018-01-12T18:20:55.859205Z",
     "start_time": "2018-01-12T18:20:47.985022Z"
    }
   },
   "outputs": [
    {
     "name": "stdout",
     "output_type": "stream",
     "text": [
      "mean loss:      0.06721788681357908\n",
      "All loss:       0.5312531643248601\n",
      "Test loss:      0.5340859392198855\n"
     ]
    }
   ],
   "source": [
    "df_air_mean_visits = df_air_visit_data.groupby([\"air_store_id\"],as_index=False).mean()\n",
    "\n",
    "y_preds = xgr_predict(X_pred)\n",
    "\n",
    "print(\"mean loss:      %s\" %loss(df_air_visit_data[\"visitors\"],df_air_mean_visits[\"visitors\"]))\n",
    "print(\"All loss:       %s\" %loss(y[\"visitors\"],xgr_predict(X)))\n",
    "print(\"Test loss:      %s\" %loss(y_test[\"visitors\"],xgr_predict(X_test)))\n",
    "# print(\"\\nMLP Test loss:  %s\" %loss(y_test[\"visitors\"],mlp_predict(X_test)))\n",
    "# print(\"MLP All loss:  %s\" %loss(y[\"visitors\"],mlp_predict(X)))\n",
    "# print(\"Train loss:     %s\" %loss(y_train[\"visitors\"],xgr_predict(X_train)))\n"
   ]
  },
  {
   "cell_type": "code",
   "execution_count": 11,
   "metadata": {
    "ExecuteTime": {
     "end_time": "2018-01-12T18:21:11.003960Z",
     "start_time": "2018-01-12T18:21:10.998220Z"
    }
   },
   "outputs": [
    {
     "data": {
      "text/plain": [
       "32019"
      ]
     },
     "execution_count": 11,
     "metadata": {},
     "output_type": "execute_result"
    }
   ],
   "source": [
    "len(y_preds)\n"
   ]
  },
  {
   "cell_type": "code",
   "execution_count": 12,
   "metadata": {
    "ExecuteTime": {
     "end_time": "2018-01-12T18:21:26.302631Z",
     "start_time": "2018-01-12T18:21:26.297859Z"
    }
   },
   "outputs": [],
   "source": [
    "sample_sub[\"visitors\"] = y_preds"
   ]
  },
  {
   "cell_type": "code",
   "execution_count": 13,
   "metadata": {
    "ExecuteTime": {
     "end_time": "2018-01-12T18:21:41.976928Z",
     "start_time": "2018-01-12T18:21:41.836071Z"
    }
   },
   "outputs": [],
   "source": [
    "sample_sub.to_csv(\"results/Features-Engg_XGB_initial_model_1.csv\",index=False,columns=[\"id\",\"visitors\"])"
   ]
  },
  {
   "cell_type": "code",
   "execution_count": 14,
   "metadata": {
    "ExecuteTime": {
     "end_time": "2018-01-12T18:21:58.673088Z",
     "start_time": "2018-01-12T18:21:57.387000Z"
    }
   },
   "outputs": [
    {
     "data": {
      "image/png": "[encoded data removed]",
      "text/plain": [
       "<matplotlib.figure.Figure at 0x7f6f6755bf60>"
      ]
     },
     "metadata": {},
     "output_type": "display_data"
    },
    {
     "data": {
      "text/html": [
       "<div>\n",
       "<style scoped>\n",
       "    .dataframe tbody tr th:only-of-type {\n",
       "        vertical-align: middle;\n",
       "    }\n",
       "\n",
       "    .dataframe tbody tr th {\n",
       "        vertical-align: top;\n",
       "    }\n",
       "\n",
       "    .dataframe thead th {\n",
       "        text-align: right;\n",
       "    }\n",
       "</style>\n",
       "<table border=\"1\" class=\"dataframe\">\n",
       "  <thead>\n",
       "    <tr style=\"text-align: right;\">\n",
       "      <th></th>\n",
       "      <th>feature</th>\n",
       "      <th>importance</th>\n",
       "    </tr>\n",
       "  </thead>\n",
       "  <tbody>\n",
       "    <tr>\n",
       "      <th>1</th>\n",
       "      <td>air_store_id_encoded</td>\n",
       "      <td>29.362434</td>\n",
       "    </tr>\n",
       "    <tr>\n",
       "      <th>4</th>\n",
       "      <td>dayofyear</td>\n",
       "      <td>21.403751</td>\n",
       "    </tr>\n",
       "    <tr>\n",
       "      <th>5</th>\n",
       "      <td>dayofweek</td>\n",
       "      <td>10.731322</td>\n",
       "    </tr>\n",
       "    <tr>\n",
       "      <th>2</th>\n",
       "      <td>air_area_name_encoded</td>\n",
       "      <td>9.863253</td>\n",
       "    </tr>\n",
       "    <tr>\n",
       "      <th>7</th>\n",
       "      <td>dayofmonth</td>\n",
       "      <td>9.439229</td>\n",
       "    </tr>\n",
       "    <tr>\n",
       "      <th>3</th>\n",
       "      <td>air_lat_long_encoded</td>\n",
       "      <td>9.184815</td>\n",
       "    </tr>\n",
       "    <tr>\n",
       "      <th>0</th>\n",
       "      <td>air_genre_name_encoded</td>\n",
       "      <td>8.036419</td>\n",
       "    </tr>\n",
       "    <tr>\n",
       "      <th>6</th>\n",
       "      <td>weekofyear</td>\n",
       "      <td>1.308583</td>\n",
       "    </tr>\n",
       "    <tr>\n",
       "      <th>8</th>\n",
       "      <td>holiday_flg</td>\n",
       "      <td>0.647813</td>\n",
       "    </tr>\n",
       "    <tr>\n",
       "      <th>9</th>\n",
       "      <td>month</td>\n",
       "      <td>0.022379</td>\n",
       "    </tr>\n",
       "  </tbody>\n",
       "</table>\n",
       "</div>"
      ],
      "text/plain": [
       "                  feature  importance\n",
       "1    air_store_id_encoded   29.362434\n",
       "4               dayofyear   21.403751\n",
       "5               dayofweek   10.731322\n",
       "2   air_area_name_encoded    9.863253\n",
       "7              dayofmonth    9.439229\n",
       "3    air_lat_long_encoded    9.184815\n",
       "0  air_genre_name_encoded    8.036419\n",
       "6              weekofyear    1.308583\n",
       "8             holiday_flg    0.647813\n",
       "9                   month    0.022379"
      ]
     },
     "execution_count": 14,
     "metadata": {},
     "output_type": "execute_result"
    }
   ],
   "source": [
    "def plot_importance(model,df,features):\n",
    "    from xgboost import plot_importance\n",
    "    plot_importance(model)\n",
    "    plt.show()\n",
    "    fi=model.feature_importances_\n",
    "\n",
    "    fn=df[features].columns.values\n",
    "\n",
    "    df_i=pd.DataFrame({\"feature\":fn,\"importance\":fi})\n",
    "    df_i[\"importance\"] = df_i[\"importance\"]*100\n",
    "    return df_i.sort_values(\"importance\",ascending=False)\n",
    "\n",
    "plot_importance(xgr,df_air_visit_data,features)"
   ]
  },
  {
   "cell_type": "code",
   "execution_count": null,
   "metadata": {
    "collapsed": true
   },
   "outputs": [],
   "source": []
  },
  {
   "cell_type": "code",
   "execution_count": null,
   "metadata": {
    "collapsed": true
   },
   "outputs": [],
   "source": []
  }
 ],
 "metadata": {
  "hide_input": false,
  "kernelspec": {
   "display_name": "Python 3",
   "language": "python",
   "name": "python3"
  },
  "language_info": {
   "codemirror_mode": {
    "name": "ipython",
    "version": 3
   },
   "file_extension": ".py",
   "mimetype": "text/x-python",
   "name": "python",
   "nbconvert_exporter": "python",
   "pygments_lexer": "ipython3",
   "version": "3.6.4"
  },
  "toc": {
   "nav_menu": {},
   "number_sections": true,
   "sideBar": true,
   "skip_h1_title": false,
   "title_cell": "Table of Contents",
   "title_sidebar": "Contents",
   "toc_cell": false,
   "toc_position": {},
   "toc_section_display": "block",
   "toc_window_display": false
  },
  "varInspector": {
   "cols": {
    "lenName": 16,
    "lenType": 16,
    "lenVar": 40
   },
   "kernels_config": {
    "python": {
     "delete_cmd_postfix": "",
     "delete_cmd_prefix": "del ",
     "library": "var_list.py",
     "varRefreshCmd": "print(var_dic_list())"
    },
    "r": {
     "delete_cmd_postfix": ") ",
     "delete_cmd_prefix": "rm(",
     "library": "var_list.r",
     "varRefreshCmd": "cat(var_dic_list()) "
    }
   },
   "types_to_exclude": [
    "module",
    "function",
    "builtin_function_or_method",
    "instance",
    "_Feature"
   ],
   "window_display": false
  }
 },
 "nbformat": 4,
 "nbformat_minor": 2
}
