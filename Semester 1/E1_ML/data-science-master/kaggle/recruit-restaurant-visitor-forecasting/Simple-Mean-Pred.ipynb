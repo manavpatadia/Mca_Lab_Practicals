{
 "cells": [
  {
   "cell_type": "code",
   "execution_count": 1,
   "metadata": {
    "ExecuteTime": {
     "end_time": "2018-01-07T15:40:49.694544Z",
     "start_time": "2018-01-07T15:40:48.824176Z"
    },
    "collapsed": true
   },
   "outputs": [],
   "source": [
    "import numpy as np # linear algebra\n",
    "import pandas as pd # data processing, CSV file I/O (e.g. pd.read_csv)\n",
    "import matplotlib as mplt\n",
    "import matplotlib.pyplot as plt\n",
    "from sklearn.model_selection import train_test_split\n",
    "from sklearn.metrics import mean_squared_error\n",
    "from IPython.core.interactiveshell import InteractiveShell\n",
    "from sklearn.ensemble import RandomForestRegressor\n",
    "from sklearn.metrics import explained_variance_score\n",
    "from sklearn.preprocessing import LabelEncoder\n",
    "from sklearn.metrics import confusion_matrix\n",
    "from sklearn.model_selection import GridSearchCV\n",
    "%matplotlib inline\n",
    "import seaborn as sns\n",
    "import math\n",
    "import gc\n",
    "import ipaddress\n",
    "from urllib.parse import urlparse\n",
    "from tldextract import extract\n",
    "from sklearn.metrics import confusion_matrix\n",
    "\n",
    "import sys\n",
    "from pathlib import Path\n",
    "d = Path().resolve().parent.parent\n",
    "sys.path.insert(0, str(d))\n",
    "import util.utils as utils\n",
    "import util.plot_utils as plot_utils\n",
    "\n",
    "from xgboost import XGBClassifier\n",
    "from sklearn.model_selection import train_test_split\n",
    "from sklearn.metrics import accuracy_score\n",
    "import lightgbm as lgb\n",
    "\n",
    "np.set_printoptions(threshold=np.nan)\n",
    "\n",
    "\n",
    "\n",
    "plt.rcParams[\"figure.figsize\"] = (12,4)\n",
    "\n",
    "from xgboost import XGBClassifier\n",
    "import xgboost as xgb\n",
    "from sklearn.metrics import accuracy_score\n",
    "\n",
    "\n",
    "InteractiveShell.ast_node_interactivity = \"all\""
   ]
  },
  {
   "cell_type": "code",
   "execution_count": 2,
   "metadata": {
    "ExecuteTime": {
     "end_time": "2018-01-07T15:40:51.244351Z",
     "start_time": "2018-01-07T15:40:49.696201Z"
    },
    "collapsed": true
   },
   "outputs": [],
   "source": [
    "df_hpg_reserve = pd.read_csv(\"data/hpg_reserve.csv\")\n",
    "df_air_reserve = pd.read_csv(\"data/air_reserve.csv\")"
   ]
  },
  {
   "cell_type": "code",
   "execution_count": 3,
   "metadata": {
    "ExecuteTime": {
     "end_time": "2018-01-07T15:40:51.376509Z",
     "start_time": "2018-01-07T15:40:51.245873Z"
    },
    "collapsed": true
   },
   "outputs": [],
   "source": [
    "df_air_store_info = pd.read_csv(\"data/air_store_info.csv\")\n",
    "df_hpg_store_info = pd.read_csv(\"data/hpg_store_info.csv\")\n",
    "df_store_id_relation = pd.read_csv(\"data/store_id_relation.csv\")\n",
    "df_air_visit_data = pd.read_csv(\"data/air_visit_data.csv\")\n",
    "df_date_info = pd.read_csv(\"data/date_info.csv\")"
   ]
  },
  {
   "cell_type": "markdown",
   "metadata": {},
   "source": [
    "#### Are All Air Ids to predict present in \n",
    "- air visit data - Yes\n",
    "- air store info - Yes\n",
    "- air reserve - No\n",
    "\n",
    "#### Are All Air visit data in air store info: Yes\n",
    "- Is vice versa true - Yes\n"
   ]
  },
  {
   "cell_type": "code",
   "execution_count": 4,
   "metadata": {
    "ExecuteTime": {
     "end_time": "2018-01-07T15:40:53.008411Z",
     "start_time": "2018-01-07T15:40:51.442744Z"
    }
   },
   "outputs": [
    {
     "data": {
      "text/plain": [
       "Series([], Name: id, dtype: object)"
      ]
     },
     "execution_count": 4,
     "metadata": {},
     "output_type": "execute_result"
    },
    {
     "data": {
      "text/plain": [
       "Series([], Name: id, dtype: object)"
      ]
     },
     "execution_count": 4,
     "metadata": {},
     "output_type": "execute_result"
    },
    {
     "data": {
      "text/plain": [
       "507"
      ]
     },
     "execution_count": 4,
     "metadata": {},
     "output_type": "execute_result"
    },
    {
     "data": {
      "text/plain": [
       "Series([], Name: air_store_id, dtype: object)"
      ]
     },
     "execution_count": 4,
     "metadata": {},
     "output_type": "execute_result"
    },
    {
     "data": {
      "text/plain": [
       "Series([], Name: air_store_id, dtype: object)"
      ]
     },
     "execution_count": 4,
     "metadata": {},
     "output_type": "execute_result"
    }
   ],
   "source": [
    "sample_sub = pd.read_csv(\"data/sample_submission.csv\")\n",
    "\n",
    "pred_ids = sample_sub.id.map(lambda x:x[:-11])\n",
    "pred_ids[~pred_ids.isin(df_air_visit_data[\"air_store_id\"])]\n",
    "pred_ids[~pred_ids.isin(df_air_store_info[\"air_store_id\"])]\n",
    "pred_ids[~pred_ids.isin(df_air_reserve[\"air_store_id\"])].nunique()\n",
    "\n",
    "air_visit_ids = df_air_visit_data[\"air_store_id\"]\n",
    "air_visit_ids[~air_visit_ids.isin(df_air_store_info[\"air_store_id\"])]\n",
    "\n",
    "df_air_store_info[\"air_store_id\"][~df_air_store_info[\"air_store_id\"].isin(df_air_visit_data[\"air_store_id\"])]\n"
   ]
  },
  {
   "cell_type": "code",
   "execution_count": 5,
   "metadata": {
    "ExecuteTime": {
     "end_time": "2018-01-07T15:40:53.023701Z",
     "start_time": "2018-01-07T15:40:53.009832Z"
    }
   },
   "outputs": [
    {
     "data": {
      "text/plain": [
       "829"
      ]
     },
     "execution_count": 5,
     "metadata": {},
     "output_type": "execute_result"
    }
   ],
   "source": [
    "df_air_visit_data[\"air_store_id\"].nunique()"
   ]
  },
  {
   "cell_type": "code",
   "execution_count": 9,
   "metadata": {
    "ExecuteTime": {
     "end_time": "2018-01-07T15:42:31.330467Z",
     "start_time": "2018-01-07T15:42:31.326368Z"
    }
   },
   "outputs": [],
   "source": [
    "def loss(Y,A):\n",
    "    length = len(Y)\n",
    "    return np.sqrt(np.sum(np.square(np.log1p(Y) - np.log1p(A)))/length)\n",
    "\n"
   ]
  },
  {
   "cell_type": "code",
   "execution_count": 10,
   "metadata": {
    "ExecuteTime": {
     "end_time": "2018-01-07T15:42:31.760218Z",
     "start_time": "2018-01-07T15:42:31.727488Z"
    }
   },
   "outputs": [
    {
     "data": {
      "text/plain": [
       "0.067217886813579056"
      ]
     },
     "execution_count": 10,
     "metadata": {},
     "output_type": "execute_result"
    }
   ],
   "source": [
    "df_air_mean_visits = df_air_visit_data.groupby([\"air_store_id\"],as_index=False).mean()\n",
    "loss(df_air_visit_data[\"visitors\"],df_air_mean_visits[\"visitors\"])"
   ]
  },
  {
   "cell_type": "code",
   "execution_count": 49,
   "metadata": {
    "ExecuteTime": {
     "end_time": "2017-12-18T17:29:33.905955Z",
     "start_time": "2017-12-18T17:29:33.886277Z"
    }
   },
   "outputs": [
    {
     "data": {
      "text/html": [
       "<div>\n",
       "<style scoped>\n",
       "    .dataframe tbody tr th:only-of-type {\n",
       "        vertical-align: middle;\n",
       "    }\n",
       "\n",
       "    .dataframe tbody tr th {\n",
       "        vertical-align: top;\n",
       "    }\n",
       "\n",
       "    .dataframe thead th {\n",
       "        text-align: right;\n",
       "    }\n",
       "</style>\n",
       "<table border=\"1\" class=\"dataframe\">\n",
       "  <thead>\n",
       "    <tr style=\"text-align: right;\">\n",
       "      <th></th>\n",
       "      <th>air_store_id</th>\n",
       "      <th>visitors</th>\n",
       "    </tr>\n",
       "  </thead>\n",
       "  <tbody>\n",
       "    <tr>\n",
       "      <th>0</th>\n",
       "      <td>air_00a91d42b08b08d9</td>\n",
       "      <td>26.081897</td>\n",
       "    </tr>\n",
       "    <tr>\n",
       "      <th>1</th>\n",
       "      <td>air_0164b9927d20bcc3</td>\n",
       "      <td>9.248322</td>\n",
       "    </tr>\n",
       "    <tr>\n",
       "      <th>2</th>\n",
       "      <td>air_0241aa3964b7f861</td>\n",
       "      <td>9.896465</td>\n",
       "    </tr>\n",
       "    <tr>\n",
       "      <th>3</th>\n",
       "      <td>air_0328696196e46f18</td>\n",
       "      <td>7.939655</td>\n",
       "    </tr>\n",
       "    <tr>\n",
       "      <th>4</th>\n",
       "      <td>air_034a3d5b40d5b1b1</td>\n",
       "      <td>14.828685</td>\n",
       "    </tr>\n",
       "  </tbody>\n",
       "</table>\n",
       "</div>"
      ],
      "text/plain": [
       "           air_store_id   visitors\n",
       "0  air_00a91d42b08b08d9  26.081897\n",
       "1  air_0164b9927d20bcc3   9.248322\n",
       "2  air_0241aa3964b7f861   9.896465\n",
       "3  air_0328696196e46f18   7.939655\n",
       "4  air_034a3d5b40d5b1b1  14.828685"
      ]
     },
     "execution_count": 49,
     "metadata": {},
     "output_type": "execute_result"
    },
    {
     "data": {
      "text/plain": [
       "air_store_id    829\n",
       "visitors        828\n",
       "dtype: int64"
      ]
     },
     "execution_count": 49,
     "metadata": {},
     "output_type": "execute_result"
    }
   ],
   "source": [
    "df_air_mean_visits.head()\n",
    "df_air_mean_visits.nunique()"
   ]
  },
  {
   "cell_type": "code",
   "execution_count": 65,
   "metadata": {
    "ExecuteTime": {
     "end_time": "2017-12-18T17:35:12.575634Z",
     "start_time": "2017-12-18T17:34:57.527388Z"
    },
    "collapsed": true
   },
   "outputs": [],
   "source": [
    "preds = pred_ids.map(lambda store:df_air_mean_visits[df_air_mean_visits[\"air_store_id\"]==store][\"visitors\"].values[0])"
   ]
  },
  {
   "cell_type": "code",
   "execution_count": 67,
   "metadata": {
    "ExecuteTime": {
     "end_time": "2017-12-18T17:36:01.942811Z",
     "start_time": "2017-12-18T17:36:01.939152Z"
    },
    "collapsed": true
   },
   "outputs": [],
   "source": [
    "sample_sub[\"visitors\"] = preds"
   ]
  },
  {
   "cell_type": "code",
   "execution_count": 69,
   "metadata": {
    "ExecuteTime": {
     "end_time": "2017-12-18T18:14:36.890117Z",
     "start_time": "2017-12-18T18:14:36.790035Z"
    },
    "collapsed": true
   },
   "outputs": [],
   "source": [
    "sample_sub.to_csv(\"results/simple-mean-pred_1.csv\",index=False,columns=[\"id\",\"visitors\"])"
   ]
  },
  {
   "cell_type": "code",
   "execution_count": null,
   "metadata": {
    "collapsed": true
   },
   "outputs": [],
   "source": []
  }
 ],
 "metadata": {
  "kernelspec": {
   "display_name": "Python 3",
   "language": "python",
   "name": "python3"
  },
  "language_info": {
   "codemirror_mode": {
    "name": "ipython",
    "version": 3
   },
   "file_extension": ".py",
   "mimetype": "text/x-python",
   "name": "python",
   "nbconvert_exporter": "python",
   "pygments_lexer": "ipython3",
   "version": "3.6.3"
  },
  "toc": {
   "nav_menu": {},
   "number_sections": true,
   "sideBar": true,
   "skip_h1_title": false,
   "toc_cell": false,
   "toc_position": {},
   "toc_section_display": "block",
   "toc_window_display": false
  }
 },
 "nbformat": 4,
 "nbformat_minor": 2
}
