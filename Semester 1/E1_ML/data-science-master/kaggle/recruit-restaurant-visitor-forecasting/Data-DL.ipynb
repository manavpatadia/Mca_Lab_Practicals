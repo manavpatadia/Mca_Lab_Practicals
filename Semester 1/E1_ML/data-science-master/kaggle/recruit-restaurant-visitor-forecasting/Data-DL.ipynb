{
 "cells": [
  {
   "cell_type": "code",
   "execution_count": 1,
   "metadata": {
    "ExecuteTime": {
     "end_time": "2018-01-12T15:11:09.886408Z",
     "start_time": "2018-01-12T15:10:53.052877Z"
    }
   },
   "outputs": [
    {
     "name": "stderr",
     "output_type": "stream",
     "text": [
      "\r",
      "                                                                               \r",
      "\r",
      "date_info.csv.zip N/A% |                             | ETA:  --:--:--   0.0 s/B"
     ]
    },
    {
     "name": "stdout",
     "output_type": "stream",
     "text": [
      "downloading https://www.kaggle.com/c/recruit-restaurant-visitor-forecasting/download/date_info.csv.zip to data/date_info.csv.zip\n",
      "\n"
     ]
    },
    {
     "name": "stderr",
     "output_type": "stream",
     "text": [
      "date_info.csv.zip 100% |############################| Time: 0:00:00   2.2 KiB/s\n",
      "hpg_store_info.csv.zip N/A% |                        | ETA:  --:--:--   0.0 s/B"
     ]
    },
    {
     "name": "stdout",
     "output_type": "stream",
     "text": [
      "downloading https://www.kaggle.com/c/recruit-restaurant-visitor-forecasting/download/hpg_store_info.csv.zip to data/hpg_store_info.csv.zip\n",
      "\n"
     ]
    },
    {
     "name": "stderr",
     "output_type": "stream",
     "text": [
      "hpg_store_info.csv.zip 100% |#######################| Time: 0:00:00 101.6 KiB/s\n",
      "air_store_info.csv.zip N/A% |                        | ETA:  --:--:--   0.0 s/B"
     ]
    },
    {
     "name": "stdout",
     "output_type": "stream",
     "text": [
      "downloading https://www.kaggle.com/c/recruit-restaurant-visitor-forecasting/download/air_store_info.csv.zip to data/air_store_info.csv.zip\n",
      "\n"
     ]
    },
    {
     "name": "stderr",
     "output_type": "stream",
     "text": [
      "air_store_info.csv.zip 100% |#######################| Time: 0:00:00  26.0 KiB/s\n",
      "air_visit_data.csv.zip N/A% |                        | ETA:  --:--:--   0.0 s/B"
     ]
    },
    {
     "name": "stdout",
     "output_type": "stream",
     "text": [
      "downloading https://www.kaggle.com/c/recruit-restaurant-visitor-forecasting/download/air_visit_data.csv.zip to data/air_visit_data.csv.zip\n",
      "\n"
     ]
    },
    {
     "name": "stderr",
     "output_type": "stream",
     "text": [
      "air_visit_data.csv.zip 100% |#######################| Time: 0:00:00   1.3 MiB/s\n",
      "store_id_relation.csv.zip N/A% |                     | ETA:  --:--:--   0.0 s/B"
     ]
    },
    {
     "name": "stdout",
     "output_type": "stream",
     "text": [
      "downloading https://www.kaggle.com/c/recruit-restaurant-visitor-forecasting/download/store_id_relation.csv.zip to data/store_id_relation.csv.zip\n",
      "\n"
     ]
    },
    {
     "name": "stderr",
     "output_type": "stream",
     "text": [
      "store_id_relation.csv.zip 100% |####################| Time: 0:00:00   6.5 KiB/s\n",
      "air_reserve.csv.zip N/A% |                           | ETA:  --:--:--   0.0 s/B"
     ]
    },
    {
     "name": "stdout",
     "output_type": "stream",
     "text": [
      "downloading https://www.kaggle.com/c/recruit-restaurant-visitor-forecasting/download/air_reserve.csv.zip to data/air_reserve.csv.zip\n",
      "\n"
     ]
    },
    {
     "name": "stderr",
     "output_type": "stream",
     "text": [
      "air_reserve.csv.zip 100% |##########################| Time: 0:00:00   1.1 MiB/s\n",
      "sample_submission.csv.zip N/A% |                     | ETA:  --:--:--   0.0 s/B"
     ]
    },
    {
     "name": "stdout",
     "output_type": "stream",
     "text": [
      "downloading https://www.kaggle.com/c/recruit-restaurant-visitor-forecasting/download/sample_submission.csv.zip to data/sample_submission.csv.zip\n",
      "\n"
     ]
    },
    {
     "name": "stderr",
     "output_type": "stream",
     "text": [
      "sample_submission.csv.zip 100% |####################| Time: 0:00:00 103.0 KiB/s\n",
      "hpg_reserve.csv.zip N/A% |                           | ETA:  --:--:--   0.0 s/B"
     ]
    },
    {
     "name": "stdout",
     "output_type": "stream",
     "text": [
      "downloading https://www.kaggle.com/c/recruit-restaurant-visitor-forecasting/download/hpg_reserve.csv.zip to data/hpg_reserve.csv.zip\n",
      "\n"
     ]
    },
    {
     "name": "stderr",
     "output_type": "stream",
     "text": [
      "hpg_reserve.csv.zip 100% |##########################| Time: 0:00:01  14.2 MiB/s\n"
     ]
    },
    {
     "name": "stdout",
     "output_type": "stream",
     "text": [
      "Extracting data/date_info.csv.zip to data/ ...\n",
      "Extraction finished\n",
      "Extracting data/hpg_store_info.csv.zip to data/ ...\n",
      "Extraction finished\n",
      "Extracting data/air_store_info.csv.zip to data/ ...\n",
      "Extraction finished\n",
      "Extracting data/air_visit_data.csv.zip to data/ ...\n",
      "Extraction finished\n",
      "Extracting data/store_id_relation.csv.zip to data/ ...\n",
      "Extraction finished\n",
      "Extracting data/air_reserve.csv.zip to data/ ...\n",
      "Extraction finished\n",
      "Extracting data/sample_submission.csv.zip to data/ ...\n",
      "Extraction finished\n",
      "Extracting data/hpg_reserve.csv.zip to data/ ...\n",
      "Extraction finished\n"
     ]
    }
   ],
   "source": [
    "destination_path = \"data/\"\n",
    "import kaggle_data.download_all as dl\n",
    "dl.download_dataset(\"recruit-restaurant-visitor-forecasting\")\n",
    "\n",
    "\n",
    "\n",
    "\n",
    "\n"
   ]
  },
  {
   "cell_type": "code",
   "execution_count": null,
   "metadata": {
    "collapsed": true
   },
   "outputs": [],
   "source": []
  }
 ],
 "metadata": {
  "hide_input": false,
  "kernelspec": {
   "display_name": "Python 3",
   "language": "python",
   "name": "python3"
  },
  "language_info": {
   "codemirror_mode": {
    "name": "ipython",
    "version": 3
   },
   "file_extension": ".py",
   "mimetype": "text/x-python",
   "name": "python",
   "nbconvert_exporter": "python",
   "pygments_lexer": "ipython3",
   "version": "3.6.2"
  },
  "toc": {
   "nav_menu": {},
   "number_sections": true,
   "sideBar": true,
   "skip_h1_title": true,
   "toc_cell": false,
   "toc_position": {},
   "toc_section_display": true,
   "toc_window_display": false
  },
  "varInspector": {
   "cols": {
    "lenName": 16,
    "lenType": 16,
    "lenVar": 40
   },
   "kernels_config": {
    "python": {
     "delete_cmd_postfix": "",
     "delete_cmd_prefix": "del ",
     "library": "var_list.py",
     "varRefreshCmd": "print(var_dic_list())"
    },
    "r": {
     "delete_cmd_postfix": ") ",
     "delete_cmd_prefix": "rm(",
     "library": "var_list.r",
     "varRefreshCmd": "cat(var_dic_list()) "
    }
   },
   "types_to_exclude": [
    "module",
    "function",
    "builtin_function_or_method",
    "instance",
    "_Feature"
   ],
   "window_display": false
  }
 },
 "nbformat": 4,
 "nbformat_minor": 2
}
