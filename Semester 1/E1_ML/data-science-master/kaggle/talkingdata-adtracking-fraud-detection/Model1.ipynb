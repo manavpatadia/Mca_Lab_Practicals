{
 "cells": [
  {
   "cell_type": "code",
   "execution_count": 1,
   "metadata": {
    "ExecuteTime": {
     "end_time": "2018-04-24T14:19:42.498868Z",
     "start_time": "2018-04-24T14:19:39.831723Z"
    }
   },
   "outputs": [],
   "source": [
    "import numpy as np # linear algebra\n",
    "import pandas as pd # data processing, CSV file I/O (e.g. pd.read_csv)\n",
    "import matplotlib as mplt\n",
    "import matplotlib.pyplot as plt\n",
    "from sklearn.model_selection import train_test_split\n",
    "from sklearn.metrics import mean_squared_error\n",
    "from IPython.core.interactiveshell import InteractiveShell\n",
    "from sklearn.ensemble import RandomForestRegressor\n",
    "from sklearn.metrics import explained_variance_score\n",
    "from sklearn.preprocessing import LabelEncoder\n",
    "from sklearn.metrics import confusion_matrix\n",
    "from sklearn.model_selection import GridSearchCV\n",
    "import matplotlib.dates as mdates\n",
    "%matplotlib inline\n",
    "import seaborn as sns\n",
    "import math\n",
    "import gc\n",
    "import ipaddress\n",
    "from urllib.parse import urlparse\n",
    "from tldextract import extract\n",
    "from sklearn.metrics import confusion_matrix\n",
    "from sklearn.preprocessing import StandardScaler\n",
    "from sklearn.neural_network import MLPClassifier\n",
    "\n",
    "from data_science_utils import dataframe as df_utils\n",
    "from data_science_utils import models as model_utils\n",
    "from data_science_utils.dataframe import column as column_utils\n",
    "\n",
    "\n",
    "from xgboost import XGBClassifier\n",
    "from sklearn.model_selection import train_test_split\n",
    "from sklearn.metrics import accuracy_score\n",
    "from sklearn.metrics import confusion_matrix,classification_report\n",
    "\n",
    "import lightgbm as lgb\n",
    "\n",
    "np.set_printoptions(threshold=np.nan)\n",
    "import pickle\n",
    "\n",
    "\n",
    "\n",
    "plt.rcParams[\"figure.figsize\"] = (24,4)\n",
    "\n",
    "from xgboost import XGBClassifier\n",
    "import xgboost as xgb\n",
    "from sklearn.metrics import accuracy_score\n",
    "import missingno as msno\n",
    "from sklearn.metrics import f1_score\n",
    "from sklearn.metrics import precision_score\n",
    "from sklearn.metrics import recall_score\n",
    "from sklearn.preprocessing import StandardScaler\n",
    "import matplotlib.pyplot as plt\n",
    "from mpl_toolkits.mplot3d import Axes3D\n",
    "from sklearn import datasets\n",
    "from sklearn.decomposition import PCA\n",
    "import datetime\n",
    "from scipy import signal\n",
    "import matplotlib.pyplot as plt\n",
    "from datetime import timedelta\n",
    "from sklearn import linear_model\n",
    "from sklearn.metrics import roc_auc_score\n",
    "\n",
    "\n",
    "\n",
    "InteractiveShell.ast_node_interactivity = \"all\"\n",
    "pd.set_option('display.max_seq_items', None)\n",
    "pd.set_option('display.height', 1000)\n",
    "pd.set_option('display.max_rows', 500)\n",
    "pd.set_option('display.max_columns', 500)\n",
    "pd.set_option('display.width', 1000)\n",
    "from IPython.display import display, HTML\n",
    "import warnings\n",
    "warnings.filterwarnings('ignore')\n",
    "import dask.dataframe as dd"
   ]
  },
  {
   "cell_type": "code",
   "execution_count": 3,
   "metadata": {
    "ExecuteTime": {
     "end_time": "2018-04-24T14:23:03.524953Z",
     "start_time": "2018-04-24T14:23:03.324799Z"
    }
   },
   "outputs": [],
   "source": [
    "def read_cv():\n",
    "    return pd.read_hdf(\"data/cv2_2.h5\",\"table\")\n",
    "\n",
    "def read_train():\n",
    "    df_train = pd.read_hdf(\"data/cv1_2.h5\",\"table\")\n",
    "#     df_pos = df_train[df_train['is_attributed']==1]\n",
    "#     df_negs = df_train[df_train['is_attributed']==0]\n",
    "#     df_negs = df_negs.sample(frac=0.1)\n",
    "#     df_train = pd.concat([df_pos,df_negs],ignore_index=True)\n",
    "    return df_train\n",
    "\n",
    "def save_model(model,filename):\n",
    "    pickle.dump(model, open(filename, \"wb\"))\n",
    "    \n",
    "def load_model(filename):\n",
    "    return pickle.load(open(\"xgc.pickle.dat\", \"rb\"))\n",
    "\n",
    "def train_xgc_incrementally(xgc,training_data_getter,cv_getter,features=None,feature_getter=None,target='target',splits=[0.25,0.25,0.25,0.25]):\n",
    "    from sklearn.metrics import log_loss\n",
    "    gc.collect()\n",
    "    if(abs(np.sum(splits)-1)>1e-9):\n",
    "        raise ValueError(\"sum of splits should be 1\")\n",
    "    df = training_data_getter()\n",
    "    if(features is None):\n",
    "        features = feature_getter(df.head())\n",
    "    \n",
    "    length = df.shape[0]\n",
    "    gc.collect()\n",
    "    # df = None\n",
    "    # del df\n",
    "    probs = np.random.rand(length)\n",
    "    \n",
    "    lower = 0\n",
    "    upper = 0\n",
    "    old_X = None\n",
    "    old_y = None\n",
    "    results = None\n",
    "    df_cv = cv_getter()\n",
    "    X_cv = df_cv[features]\n",
    "    y_cv = df_cv[target]\n",
    "    df_cv = None\n",
    "    del df_cv\n",
    "    for i in splits:\n",
    "        \n",
    "        upper = lower+i\n",
    "        # print(\"Training Split, Lower: %s, Upper: %s\"%(lower,upper))\n",
    "        gc.collect()\n",
    "        # df = training_data_getter()\n",
    "        \n",
    "        \n",
    "        mask = (probs>=lower) & (probs < upper)\n",
    "        df_new = df[mask]\n",
    "        # df = None\n",
    "        # del df\n",
    "        \n",
    "        X = df_new[features]\n",
    "        y = df_new[target]\n",
    "        \n",
    "        xgc.fit(X,y)\n",
    "        if(old_X is None and old_y is None):\n",
    "            old_X = X\n",
    "            old_y = y\n",
    "\n",
    "        gc.collect()\n",
    "        y_scores = xgc.predict_proba(old_X)[:,1]\n",
    "        auc = roc_auc_score(old_y, y_scores)\n",
    "        log_l = log_loss(old_y, y_scores)\n",
    "        y_scores = xgc.predict(old_X)\n",
    "        # cm = model_utils.confusion_matrix_frame(old_y,y_scores)\n",
    "        # print(\"Auc = %s, Log Loss = %s, Confusion Matrix = \"%(auc,log_l))\n",
    "        # display(cm)\n",
    "        \n",
    "        y_scores_cv = xgc.predict_proba(X_cv)[:,1]\n",
    "        auc_cv = roc_auc_score(y_cv, y_scores_cv)\n",
    "        log_l_cv = log_loss(y_cv, y_scores_cv)\n",
    "        \n",
    "        print(\"Auc Train = %.5f, Log Loss Train = %.5f, Auc test= %.5f, Log Loss Test= %.5f\"%(auc,log_l,auc_cv,log_l_cv))\n",
    "        \n",
    "        res = np.array([[auc,log_l,auc_cv,log_l_cv]])\n",
    "        if(results is None):\n",
    "            results = res\n",
    "        else:\n",
    "            results = np.append(results,res,axis=0)\n",
    "        \n",
    "        \n",
    "            \n",
    "        \n",
    "        df_new = None\n",
    "        del df_new\n",
    "        \n",
    "        old_X = X\n",
    "        old_y = y\n",
    "        X = None\n",
    "        y = None\n",
    "        del X\n",
    "        del y\n",
    "        \n",
    "        \n",
    "        lower = upper\n",
    "    gc.collect()\n",
    "    results = pd.DataFrame(results,columns=[\"auc_train\",\"Log loss train\",\"auc_test\",\"Log loss test\"])\n",
    "    display(results)\n",
    "    return xgc,features,df.head()"
   ]
  },
  {
   "cell_type": "code",
   "execution_count": 4,
   "metadata": {
    "ExecuteTime": {
     "end_time": "2018-04-24T14:23:17.090646Z",
     "start_time": "2018-04-24T14:23:17.087746Z"
    }
   },
   "outputs": [],
   "source": [
    "\n",
    "def feature_getter(df):\n",
    "    return list(set(df.columns) - set(['attributed_time','click_time','is_attributed']))\n",
    "xgc = XGBClassifier(max_depth=8, learning_rate=0.6,n_estimators=100,n_jobs=46,missing=np.nan,scale_pos_weight=200,gamma=2,eval_metric=\"auc\")"
   ]
  },
  {
   "cell_type": "code",
   "execution_count": 5,
   "metadata": {
    "ExecuteTime": {
     "end_time": "2018-04-24T15:09:37.776845Z",
     "start_time": "2018-04-24T14:23:18.345926Z"
    }
   },
   "outputs": [
    {
     "name": "stdout",
     "output_type": "stream",
     "text": [
      "Auc Train = 0.99714, Log Loss Train = nan, Auc test= 0.96536, Log Loss Test= nan\n",
      "Auc Train = 0.96599, Log Loss Train = nan, Auc test= 0.96556, Log Loss Test= nan\n",
      "Auc Train = 0.96523, Log Loss Train = nan, Auc test= 0.96553, Log Loss Test= nan\n",
      "Auc Train = 0.96662, Log Loss Train = nan, Auc test= 0.96642, Log Loss Test= nan\n"
     ]
    },
    {
     "data": {
      "text/html": [
       "<div>\n",
       "<style scoped>\n",
       "    .dataframe tbody tr th:only-of-type {\n",
       "        vertical-align: middle;\n",
       "    }\n",
       "\n",
       "    .dataframe tbody tr th {\n",
       "        vertical-align: top;\n",
       "    }\n",
       "\n",
       "    .dataframe thead th {\n",
       "        text-align: right;\n",
       "    }\n",
       "</style>\n",
       "<table border=\"1\" class=\"dataframe\">\n",
       "  <thead>\n",
       "    <tr style=\"text-align: right;\">\n",
       "      <th></th>\n",
       "      <th>auc_train</th>\n",
       "      <th>Log loss train</th>\n",
       "      <th>auc_test</th>\n",
       "      <th>Log loss test</th>\n",
       "    </tr>\n",
       "  </thead>\n",
       "  <tbody>\n",
       "    <tr>\n",
       "      <th>0</th>\n",
       "      <td>0.997141</td>\n",
       "      <td>NaN</td>\n",
       "      <td>0.965363</td>\n",
       "      <td>NaN</td>\n",
       "    </tr>\n",
       "    <tr>\n",
       "      <th>1</th>\n",
       "      <td>0.965992</td>\n",
       "      <td>NaN</td>\n",
       "      <td>0.965558</td>\n",
       "      <td>NaN</td>\n",
       "    </tr>\n",
       "    <tr>\n",
       "      <th>2</th>\n",
       "      <td>0.965227</td>\n",
       "      <td>NaN</td>\n",
       "      <td>0.965530</td>\n",
       "      <td>NaN</td>\n",
       "    </tr>\n",
       "    <tr>\n",
       "      <th>3</th>\n",
       "      <td>0.966621</td>\n",
       "      <td>NaN</td>\n",
       "      <td>0.966417</td>\n",
       "      <td>NaN</td>\n",
       "    </tr>\n",
       "  </tbody>\n",
       "</table>\n",
       "</div>"
      ],
      "text/plain": [
       "   auc_train  Log loss train  auc_test  Log loss test\n",
       "0   0.997141             NaN  0.965363            NaN\n",
       "1   0.965992             NaN  0.965558            NaN\n",
       "2   0.965227             NaN  0.965530            NaN\n",
       "3   0.966621             NaN  0.966417            NaN"
      ]
     },
     "metadata": {},
     "output_type": "display_data"
    }
   ],
   "source": [
    "xgc,features,sample_df = train_xgc_incrementally(xgc,\n",
    "                              read_train,\n",
    "                              cv_getter=read_cv,\n",
    "                              feature_getter=feature_getter,\n",
    "                              target='is_attributed',\n",
    "                              splits=[0.25,0.25,0.25,0.25])"
   ]
  },
  {
   "cell_type": "code",
   "execution_count": 4,
   "metadata": {
    "ExecuteTime": {
     "end_time": "2018-04-24T08:30:24.584943Z",
     "start_time": "2018-04-24T07:34:29.077906Z"
    }
   },
   "outputs": [
    {
     "name": "stdout",
     "output_type": "stream",
     "text": [
      "Auc Train = 0.97445, Log Loss Train = 0.06369, Auc test= 0.97975, Log Loss Test= 0.00902\n",
      "Auc Train = 0.97361, Log Loss Train = 0.06465, Auc test= 0.97993, Log Loss Test= 0.00896\n",
      "Auc Train = 0.97371, Log Loss Train = 0.06471, Auc test= 0.98201, Log Loss Test= 0.00898\n",
      "Auc Train = 0.97269, Log Loss Train = 0.06475, Auc test= 0.97709, Log Loss Test= 0.00921\n",
      "Auc Train = 0.97399, Log Loss Train = 0.06371, Auc test= 0.98240, Log Loss Test= 0.00899\n"
     ]
    },
    {
     "data": {
      "text/html": [
       "<div>\n",
       "<style scoped>\n",
       "    .dataframe tbody tr th:only-of-type {\n",
       "        vertical-align: middle;\n",
       "    }\n",
       "\n",
       "    .dataframe tbody tr th {\n",
       "        vertical-align: top;\n",
       "    }\n",
       "\n",
       "    .dataframe thead th {\n",
       "        text-align: right;\n",
       "    }\n",
       "</style>\n",
       "<table border=\"1\" class=\"dataframe\">\n",
       "  <thead>\n",
       "    <tr style=\"text-align: right;\">\n",
       "      <th></th>\n",
       "      <th>auc_train</th>\n",
       "      <th>Log loss train</th>\n",
       "      <th>auc_test</th>\n",
       "      <th>Log loss test</th>\n",
       "    </tr>\n",
       "  </thead>\n",
       "  <tbody>\n",
       "    <tr>\n",
       "      <th>0</th>\n",
       "      <td>0.974453</td>\n",
       "      <td>0.063688</td>\n",
       "      <td>0.979750</td>\n",
       "      <td>0.009019</td>\n",
       "    </tr>\n",
       "    <tr>\n",
       "      <th>1</th>\n",
       "      <td>0.973606</td>\n",
       "      <td>0.064652</td>\n",
       "      <td>0.979927</td>\n",
       "      <td>0.008963</td>\n",
       "    </tr>\n",
       "    <tr>\n",
       "      <th>2</th>\n",
       "      <td>0.973706</td>\n",
       "      <td>0.064714</td>\n",
       "      <td>0.982013</td>\n",
       "      <td>0.008983</td>\n",
       "    </tr>\n",
       "    <tr>\n",
       "      <th>3</th>\n",
       "      <td>0.972687</td>\n",
       "      <td>0.064750</td>\n",
       "      <td>0.977086</td>\n",
       "      <td>0.009213</td>\n",
       "    </tr>\n",
       "    <tr>\n",
       "      <th>4</th>\n",
       "      <td>0.973993</td>\n",
       "      <td>0.063707</td>\n",
       "      <td>0.982396</td>\n",
       "      <td>0.008991</td>\n",
       "    </tr>\n",
       "  </tbody>\n",
       "</table>\n",
       "</div>"
      ],
      "text/plain": [
       "   auc_train  Log loss train  auc_test  Log loss test\n",
       "0   0.974453        0.063688  0.979750       0.009019\n",
       "1   0.973606        0.064652  0.979927       0.008963\n",
       "2   0.973706        0.064714  0.982013       0.008983\n",
       "3   0.972687        0.064750  0.977086       0.009213\n",
       "4   0.973993        0.063707  0.982396       0.008991"
      ]
     },
     "metadata": {},
     "output_type": "display_data"
    }
   ],
   "source": [
    "xgc,features,sample_df = train_xgc_incrementally(xgc,\n",
    "                              read_train,\n",
    "                              cv_getter=read_cv,\n",
    "                              feature_getter=feature_getter,\n",
    "                              target='is_attributed',\n",
    "                              splits=[0.2,0.2,0.2,0.2,0.2])"
   ]
  },
  {
   "cell_type": "code",
   "execution_count": 4,
   "metadata": {
    "ExecuteTime": {
     "end_time": "2018-04-24T07:02:54.100459Z",
     "start_time": "2018-04-24T06:19:16.279146Z"
    }
   },
   "outputs": [
    {
     "name": "stdout",
     "output_type": "stream",
     "text": [
      "Auc Train = 0.97340, Log Loss Train = 0.06436, Auc test= 0.97703, Log Loss Test= 0.00906\n",
      "Auc Train = 0.97285, Log Loss Train = 0.06398, Auc test= 0.97867, Log Loss Test= 0.00899\n",
      "Auc Train = 0.97127, Log Loss Train = 0.06749, Auc test= 0.97632, Log Loss Test= 0.00892\n",
      "Auc Train = 0.97176, Log Loss Train = 0.06499, Auc test= 0.98297, Log Loss Test= 0.00866\n",
      "Auc Train = 0.97153, Log Loss Train = 0.06627, Auc test= 0.97867, Log Loss Test= 0.00889\n",
      "Auc Train = 0.97299, Log Loss Train = 0.06668, Auc test= 0.97677, Log Loss Test= 0.00910\n",
      "Auc Train = 0.97342, Log Loss Train = 0.06498, Auc test= 0.97806, Log Loss Test= 0.00891\n",
      "Auc Train = 0.97315, Log Loss Train = 0.06465, Auc test= 0.97925, Log Loss Test= 0.00907\n",
      "Auc Train = 0.97253, Log Loss Train = 0.06598, Auc test= 0.97888, Log Loss Test= 0.00897\n",
      "Auc Train = 0.97316, Log Loss Train = 0.06416, Auc test= 0.97985, Log Loss Test= 0.00885\n"
     ]
    },
    {
     "data": {
      "text/html": [
       "<div>\n",
       "<style scoped>\n",
       "    .dataframe tbody tr th:only-of-type {\n",
       "        vertical-align: middle;\n",
       "    }\n",
       "\n",
       "    .dataframe tbody tr th {\n",
       "        vertical-align: top;\n",
       "    }\n",
       "\n",
       "    .dataframe thead th {\n",
       "        text-align: right;\n",
       "    }\n",
       "</style>\n",
       "<table border=\"1\" class=\"dataframe\">\n",
       "  <thead>\n",
       "    <tr style=\"text-align: right;\">\n",
       "      <th></th>\n",
       "      <th>auc_train</th>\n",
       "      <th>Log loss train</th>\n",
       "      <th>auc_test</th>\n",
       "      <th>Log loss test</th>\n",
       "    </tr>\n",
       "  </thead>\n",
       "  <tbody>\n",
       "    <tr>\n",
       "      <th>0</th>\n",
       "      <td>0.973396</td>\n",
       "      <td>0.064355</td>\n",
       "      <td>0.977028</td>\n",
       "      <td>0.009065</td>\n",
       "    </tr>\n",
       "    <tr>\n",
       "      <th>1</th>\n",
       "      <td>0.972853</td>\n",
       "      <td>0.063978</td>\n",
       "      <td>0.978673</td>\n",
       "      <td>0.008993</td>\n",
       "    </tr>\n",
       "    <tr>\n",
       "      <th>2</th>\n",
       "      <td>0.971267</td>\n",
       "      <td>0.067487</td>\n",
       "      <td>0.976322</td>\n",
       "      <td>0.008918</td>\n",
       "    </tr>\n",
       "    <tr>\n",
       "      <th>3</th>\n",
       "      <td>0.971762</td>\n",
       "      <td>0.064991</td>\n",
       "      <td>0.982969</td>\n",
       "      <td>0.008662</td>\n",
       "    </tr>\n",
       "    <tr>\n",
       "      <th>4</th>\n",
       "      <td>0.971528</td>\n",
       "      <td>0.066272</td>\n",
       "      <td>0.978670</td>\n",
       "      <td>0.008892</td>\n",
       "    </tr>\n",
       "    <tr>\n",
       "      <th>5</th>\n",
       "      <td>0.972991</td>\n",
       "      <td>0.066677</td>\n",
       "      <td>0.976765</td>\n",
       "      <td>0.009103</td>\n",
       "    </tr>\n",
       "    <tr>\n",
       "      <th>6</th>\n",
       "      <td>0.973415</td>\n",
       "      <td>0.064979</td>\n",
       "      <td>0.978057</td>\n",
       "      <td>0.008914</td>\n",
       "    </tr>\n",
       "    <tr>\n",
       "      <th>7</th>\n",
       "      <td>0.973148</td>\n",
       "      <td>0.064655</td>\n",
       "      <td>0.979250</td>\n",
       "      <td>0.009068</td>\n",
       "    </tr>\n",
       "    <tr>\n",
       "      <th>8</th>\n",
       "      <td>0.972526</td>\n",
       "      <td>0.065976</td>\n",
       "      <td>0.978878</td>\n",
       "      <td>0.008966</td>\n",
       "    </tr>\n",
       "    <tr>\n",
       "      <th>9</th>\n",
       "      <td>0.973162</td>\n",
       "      <td>0.064160</td>\n",
       "      <td>0.979850</td>\n",
       "      <td>0.008845</td>\n",
       "    </tr>\n",
       "  </tbody>\n",
       "</table>\n",
       "</div>"
      ],
      "text/plain": [
       "   auc_train  Log loss train  auc_test  Log loss test\n",
       "0   0.973396        0.064355  0.977028       0.009065\n",
       "1   0.972853        0.063978  0.978673       0.008993\n",
       "2   0.971267        0.067487  0.976322       0.008918\n",
       "3   0.971762        0.064991  0.982969       0.008662\n",
       "4   0.971528        0.066272  0.978670       0.008892\n",
       "5   0.972991        0.066677  0.976765       0.009103\n",
       "6   0.973415        0.064979  0.978057       0.008914\n",
       "7   0.973148        0.064655  0.979250       0.009068\n",
       "8   0.972526        0.065976  0.978878       0.008966\n",
       "9   0.973162        0.064160  0.979850       0.008845"
      ]
     },
     "metadata": {},
     "output_type": "display_data"
    }
   ],
   "source": [
    "xgc,features,sample_df = train_xgc_incrementally(xgc,\n",
    "                              read_train,\n",
    "                              cv_getter=read_cv,\n",
    "                              feature_getter=feature_getter,\n",
    "                              target='is_attributed',\n",
    "                              splits=[0.2,0.2,0.2,0.2,0.2])"
   ]
  },
  {
   "cell_type": "code",
   "execution_count": null,
   "metadata": {
    "ExecuteTime": {
     "start_time": "2018-04-23T10:43:49.391Z"
    }
   },
   "outputs": [],
   "source": [
    "\n",
    "\n",
    "# df_train = read_cv()\n",
    "df_train = read_train()\n",
    "# df_cv2 = pd.read_hdf(\"data/cv2_2.h5\",\"table\")\n",
    "\n",
    "gc.collect()\n",
    "\n",
    "\n"
   ]
  },
  {
   "cell_type": "code",
   "execution_count": null,
   "metadata": {
    "ExecuteTime": {
     "start_time": "2018-04-23T10:43:50.773Z"
    }
   },
   "outputs": [],
   "source": [
    "df_utils.get_column_names(df_train)"
   ]
  },
  {
   "cell_type": "code",
   "execution_count": null,
   "metadata": {
    "ExecuteTime": {
     "end_time": "2018-04-23T06:13:12.884392Z",
     "start_time": "2018-04-23T06:12:05.807318Z"
    },
    "scrolled": false
   },
   "outputs": [],
   "source": [
    "def check_feature_usefulness(df,feature):\n",
    "    means = df_cv1.groupby(['is_attributed'])[[feature]].mean()\n",
    "    print(\"Mean values =\")\n",
    "    display(means)\n",
    "    \n",
    "    d0 = df_cv1[df_cv1[\"is_attributed\"]==0][[feature]].describe()\n",
    "    d1 = df_cv1[df_cv1[\"is_attributed\"]==1][[feature]].describe()\n",
    "    print(\"Describe 0 =\")\n",
    "    display(d0)\n",
    "    print(\"Describe 1 =\")\n",
    "    display(d1)\n",
    "    \n",
    "    max_0 = df_cv1[df_cv1[\"is_attributed\"]==0][feature].max()\n",
    "    max_1 = df_cv1[df_cv1[\"is_attributed\"]==1][feature].max()\n",
    "    print(\"Max for 0= %s, Max for 1= %s\" %(max_0,max_1))\n",
    "    \n",
    "    max_0_samples = df[df[feature]>(max_0-1e-6)].sample(10)\n",
    "    max_1_samples = df[df[feature]>(max_1-1e-6)].sample(10)\n",
    "    \n",
    "    print(\"Samples from is_attributed=0 and is_attributed=1 with max values\")\n",
    "    display(max_0_samples)\n",
    "    display(max_1_samples)\n",
    "    df = df.sample(frac=0.01)\n",
    "    sns.stripplot(x=\"is_attributed\", y=feature, data=df,jitter=True);\n",
    "    plt.show()\n",
    "    sns.violinplot(x=\"is_attributed\", y=feature, data=df);\n",
    "    plt.show()\n",
    "\n",
    "check_feature_usefulness(df_train,'os_hour_count_channel')"
   ]
  },
  {
   "cell_type": "code",
   "execution_count": 4,
   "metadata": {
    "ExecuteTime": {
     "end_time": "2018-04-22T10:08:05.919256Z",
     "start_time": "2018-04-22T10:07:11.183785Z"
    }
   },
   "outputs": [
    {
     "data": {
      "text/plain": [
       "0"
      ]
     },
     "execution_count": 4,
     "metadata": {},
     "output_type": "execute_result"
    }
   ],
   "source": [
    "df_pos = df_train[df_train['is_attributed']==1]\n",
    "df_negs = df_train[df_train['is_attributed']==0]\n",
    "df_negs = df_negs.sample(frac=0.7)\n",
    "df_train = pd.concat([df_pos,df_negs],ignore_index=True)\n",
    "df_pos = None\n",
    "df_negs = None\n",
    "gc.collect()"
   ]
  },
  {
   "cell_type": "code",
   "execution_count": null,
   "metadata": {
    "ExecuteTime": {
     "start_time": "2018-04-23T10:44:10.809Z"
    }
   },
   "outputs": [],
   "source": [
    "features = list(set(df_train.columns) - set(['attributed_time','click_time','is_attributed']))\n",
    "output_column = 'is_attributed'\n",
    "\n",
    "# features = ['os','ip','app','channel','hour','device']\n",
    "# features.extend(['attributed_time','click_time','is_attributed'])\n",
    "# features = list(set(df_train.columns) - set(features))"
   ]
  },
  {
   "cell_type": "code",
   "execution_count": 6,
   "metadata": {
    "ExecuteTime": {
     "end_time": "2018-04-23T10:48:36.757257Z",
     "start_time": "2018-04-23T10:47:47.900092Z"
    }
   },
   "outputs": [],
   "source": [
    "df_train = df_train.sample(frac=0.8)\n",
    "\n",
    "gc.collect()\n",
    "X = df_train[features]\n",
    "y = df_train[output_column]\n",
    "gc.collect()\n",
    "df_train = None\n",
    "del df_train\n",
    "gc.collect()\n",
    "# X_train, X_test, y_train, y_test = train_test_split(X, y, test_size=0.25, random_state=17)\n"
   ]
  },
  {
   "cell_type": "code",
   "execution_count": 7,
   "metadata": {
    "ExecuteTime": {
     "end_time": "2018-04-23T11:43:44.261185Z",
     "start_time": "2018-04-23T10:48:36.758361Z"
    }
   },
   "outputs": [
    {
     "data": {
      "text/plain": [
       "XGBClassifier(base_score=0.5, booster='gbtree', colsample_bylevel=1,\n",
       "       colsample_bytree=1, eval_metric='auc', gamma=4, learning_rate=0.7,\n",
       "       max_delta_step=0, max_depth=8, min_child_weight=1, missing=None,\n",
       "       n_estimators=200, n_jobs=46, nthread=None,\n",
       "       objective='binary:logistic', random_state=0, reg_alpha=0,\n",
       "       reg_lambda=1, scale_pos_weight=0.07, seed=None, silent=True,\n",
       "       subsample=1)"
      ]
     },
     "execution_count": 7,
     "metadata": {},
     "output_type": "execute_result"
    }
   ],
   "source": [
    "gc.collect()\n",
    "xgc = XGBClassifier(max_depth=8, learning_rate=0.7,n_estimators=200,n_jobs=46,missing=np.nan,scale_pos_weight=0.07,gamma=4,eval_metric=\"auc\")\n",
    "xgc.fit(X, y)"
   ]
  },
  {
   "cell_type": "code",
   "execution_count": 17,
   "metadata": {
    "ExecuteTime": {
     "end_time": "2018-04-24T16:10:07.671201Z",
     "start_time": "2018-04-24T16:10:07.547119Z"
    },
    "scrolled": false
   },
   "outputs": [
    {
     "data": {
      "text/plain": [
       "['ip_app_os_var_hour',\n",
       " 'ip_channel_var_hour',\n",
       " 'ip_app_os_count_is_attributed',\n",
       " 'ip',\n",
       " 'ip_var_hour',\n",
       " 'ip_app_channel_mean_hour',\n",
       " 'ip_mean_hour',\n",
       " 'ip_app_channel_var_hour',\n",
       " 'ip_device_os_nunique_app',\n",
       " 'ip_app_hour_count_is_attributed',\n",
       " 'ip_device_mean_is_attributed',\n",
       " 'ip_mean_is_attributed',\n",
       " 'ip_app_channel_count_is_attributed',\n",
       " 'app_channel_os_mean_is_attributed',\n",
       " 'os_hour_mean_is_attributed',\n",
       " 'app_os_hour_mean_is_attributed',\n",
       " 'app_channel_hour_mean_is_attributed',\n",
       " 'ip_app_count_is_attributed',\n",
       " 'ip_app_nunique_os',\n",
       " 'ip_device_hour_count_is_attributed',\n",
       " 'os_channel_mean_is_attributed',\n",
       " 'os_channel_hour_mean_is_attributed',\n",
       " 'ip_nunique_app',\n",
       " 'app_device_os_mean_is_attributed',\n",
       " 'os_hour_count_is_attributed',\n",
       " 'ip_hour_count_is_attributed',\n",
       " 'app_hour_mean_is_attributed',\n",
       " 'ip_count_is_attributed',\n",
       " 'app_channel_mean_is_attributed',\n",
       " 'channel_app_device_hour_nunique_ip',\n",
       " 'ip_nunique_channel',\n",
       " 'device_os_mean_hour',\n",
       " 'ip_nunique_device',\n",
       " 'device_channel_hour_mean_is_attributed',\n",
       " 'channel',\n",
       " 'os_mean_is_attributed',\n",
       " 'device_hour_mean_is_attributed',\n",
       " 'app_device_os_nunique_ip',\n",
       " 'app_os_mean_is_attributed',\n",
       " 'ip_hour_mean_is_attributed',\n",
       " 'ip_app_device_mean_is_attributed',\n",
       " 'os',\n",
       " 'app_channel_mean_hour',\n",
       " 'channel_app_hour_nunique_ip',\n",
       " 'ip_app_mean_is_attributed',\n",
       " 'ip_device_hour_mean_is_attributed',\n",
       " 'hour_mean_is_attributed',\n",
       " 'channel_mean_is_attributed',\n",
       " 'ip_os_hour_mean_is_attributed',\n",
       " 'device_app_hour_nunique_ip',\n",
       " 'hour_nunique_device',\n",
       " 'channel_hour_mean_is_attributed',\n",
       " 'device_os_var_hour',\n",
       " 'app_hour_count_is_attributed',\n",
       " 'device_channel_mean_is_attributed',\n",
       " 'channel_nunique_os',\n",
       " 'hour',\n",
       " 'os_nunique_app',\n",
       " 'hour_nunique_ip',\n",
       " 'hour_nunique_os',\n",
       " 'app_device_mean_is_attributed',\n",
       " 'device_hour_count_is_attributed',\n",
       " 'ip_channel_mean_is_attributed',\n",
       " 'app_mean_is_attributed',\n",
       " 'channel_app_device_nunique_ip',\n",
       " 'os_app_nunique_ip',\n",
       " 'channel_count_is_attributed',\n",
       " 'app_hour_nunique_ip',\n",
       " 'app_device_var_hour',\n",
       " 'channel_app_nunique_ip',\n",
       " 'channel_nunique_ip',\n",
       " 'ip_os_channel_mean_is_attributed',\n",
       " 'app',\n",
       " 'hour_nunique_app',\n",
       " 'channel_nunique_app',\n",
       " 'device_app_mean_hour',\n",
       " 'ip_app_hour_mean_is_attributed',\n",
       " 'ip_app_channel_mean_is_attributed',\n",
       " 'ip_app_hour_nunique_device',\n",
       " 'hour_nunique_channel',\n",
       " 'os_count_is_attributed',\n",
       " 'hour_count_is_attributed',\n",
       " 'app_nunique_os',\n",
       " 'ip_channel_hour_mean_is_attributed',\n",
       " 'app_AvgViewPerDistinct_ip',\n",
       " 'device_app_nunique_ip',\n",
       " 'app_nunique_channel',\n",
       " 'device_mean_is_attributed',\n",
       " 'app_nunique_device',\n",
       " 'os_app_nunique_device',\n",
       " 'app_count_is_attributed',\n",
       " 'device_nunique_os',\n",
       " 'app_nunique_ip',\n",
       " 'device',\n",
       " 'device_nunique_ip',\n",
       " 'device_nunique_hour',\n",
       " 'device_var_hour',\n",
       " 'device_nunique_app',\n",
       " 'device_count_is_attributed',\n",
       " 'device_nunique_channel']"
      ]
     },
     "execution_count": 17,
     "metadata": {},
     "output_type": "execute_result"
    },
    {
     "data": {
      "text/plain": [
       "['ip_app_os_var_hour',\n",
       " 'ip_channel_var_hour',\n",
       " 'ip_app_os_count_is_attributed',\n",
       " 'ip',\n",
       " 'ip_var_hour',\n",
       " 'ip_app_channel_mean_hour',\n",
       " 'ip_mean_hour',\n",
       " 'ip_app_channel_var_hour',\n",
       " 'ip_device_os_nunique_app',\n",
       " 'ip_app_hour_count_is_attributed',\n",
       " 'ip_device_mean_is_attributed',\n",
       " 'ip_mean_is_attributed',\n",
       " 'ip_app_channel_count_is_attributed',\n",
       " 'app_channel_os_mean_is_attributed',\n",
       " 'os_hour_mean_is_attributed',\n",
       " 'app_os_hour_mean_is_attributed',\n",
       " 'app_channel_hour_mean_is_attributed',\n",
       " 'ip_app_count_is_attributed',\n",
       " 'ip_app_nunique_os',\n",
       " 'ip_device_hour_count_is_attributed',\n",
       " 'os_channel_mean_is_attributed',\n",
       " 'os_channel_hour_mean_is_attributed',\n",
       " 'ip_nunique_app',\n",
       " 'app_device_os_mean_is_attributed',\n",
       " 'os_hour_count_is_attributed',\n",
       " 'ip_hour_count_is_attributed',\n",
       " 'app_hour_mean_is_attributed',\n",
       " 'ip_count_is_attributed',\n",
       " 'app_channel_mean_is_attributed',\n",
       " 'channel_app_device_hour_nunique_ip',\n",
       " 'ip_nunique_channel',\n",
       " 'device_os_mean_hour',\n",
       " 'ip_nunique_device',\n",
       " 'device_channel_hour_mean_is_attributed',\n",
       " 'channel',\n",
       " 'os_mean_is_attributed',\n",
       " 'device_hour_mean_is_attributed',\n",
       " 'app_device_os_nunique_ip',\n",
       " 'app_os_mean_is_attributed',\n",
       " 'ip_hour_mean_is_attributed',\n",
       " 'ip_app_device_mean_is_attributed',\n",
       " 'os',\n",
       " 'app_channel_mean_hour',\n",
       " 'channel_app_hour_nunique_ip',\n",
       " 'ip_app_mean_is_attributed',\n",
       " 'ip_device_hour_mean_is_attributed',\n",
       " 'hour_mean_is_attributed',\n",
       " 'channel_mean_is_attributed',\n",
       " 'ip_os_hour_mean_is_attributed',\n",
       " 'device_app_hour_nunique_ip']"
      ]
     },
     "execution_count": 17,
     "metadata": {},
     "output_type": "execute_result"
    }
   ],
   "source": [
    "df_i = model_utils.feature_importance(xgc,sample_df.head(10),features)\n",
    "list(df_i['feature'].values)\n",
    "list(df_i.head(50)['feature'].values)"
   ]
  },
  {
   "cell_type": "code",
   "execution_count": 9,
   "metadata": {
    "ExecuteTime": {
     "end_time": "2018-04-23T11:43:44.416651Z",
     "start_time": "2018-04-23T11:43:44.288216Z"
    }
   },
   "outputs": [
    {
     "ename": "NameError",
     "evalue": "name 'df_train' is not defined",
     "output_type": "error",
     "traceback": [
      "\u001b[0;31m---------------------------------------------------------------------------\u001b[0m",
      "\u001b[0;31mNameError\u001b[0m                                 Traceback (most recent call last)",
      "\u001b[0;32m<ipython-input-9-e51f95a27291>\u001b[0m in \u001b[0;36m<module>\u001b[0;34m()\u001b[0m\n\u001b[0;32m----> 1\u001b[0;31m \u001b[0mdf_train\u001b[0m \u001b[0;34m=\u001b[0m \u001b[0mdf_train\u001b[0m\u001b[0;34m.\u001b[0m\u001b[0msample\u001b[0m\u001b[0;34m(\u001b[0m\u001b[0mfrac\u001b[0m\u001b[0;34m=\u001b[0m\u001b[0;36m0.4\u001b[0m\u001b[0;34m)\u001b[0m\u001b[0;34m\u001b[0m\u001b[0m\n\u001b[0m\u001b[1;32m      2\u001b[0m \u001b[0mX\u001b[0m \u001b[0;34m=\u001b[0m \u001b[0mdf_train\u001b[0m\u001b[0;34m[\u001b[0m\u001b[0mfeatures\u001b[0m\u001b[0;34m]\u001b[0m\u001b[0;34m\u001b[0m\u001b[0m\n\u001b[1;32m      3\u001b[0m \u001b[0my\u001b[0m \u001b[0;34m=\u001b[0m \u001b[0mdf_train\u001b[0m\u001b[0;34m[\u001b[0m\u001b[0moutput_column\u001b[0m\u001b[0;34m]\u001b[0m\u001b[0;34m\u001b[0m\u001b[0m\n\u001b[1;32m      4\u001b[0m \u001b[0;34m\u001b[0m\u001b[0m\n\u001b[1;32m      5\u001b[0m \u001b[0mdf_train\u001b[0m \u001b[0;34m=\u001b[0m \u001b[0;32mNone\u001b[0m\u001b[0;34m\u001b[0m\u001b[0m\n",
      "\u001b[0;31mNameError\u001b[0m: name 'df_train' is not defined"
     ]
    }
   ],
   "source": [
    "df_train = df_train.sample(frac=0.4)\n",
    "X = df_train[features]\n",
    "y = df_train[output_column]\n",
    "\n",
    "df_train = None\n",
    "del df_train\n",
    "df_cv1=None\n",
    "del df_cv1\n",
    "X.head();\n",
    "gc.collect()\n",
    "\n",
    "df_train = None\n",
    "del df_train\n",
    "df_cv1=None\n",
    "del df_cv1\n",
    "X.head();\n",
    "gc.collect()"
   ]
  },
  {
   "cell_type": "code",
   "execution_count": 13,
   "metadata": {
    "ExecuteTime": {
     "end_time": "2018-04-23T12:12:50.204559Z",
     "start_time": "2018-04-23T12:12:50.153514Z"
    }
   },
   "outputs": [
    {
     "data": {
      "text/plain": [
       "232"
      ]
     },
     "execution_count": 13,
     "metadata": {},
     "output_type": "execute_result"
    }
   ],
   "source": [
    "def check_auc(X,y):\n",
    "    y_scores = xgc.predict_proba(X)[:,1]\n",
    "    return roc_auc_score(y, y_scores)\n",
    "\n",
    "\n",
    "\n",
    "\n",
    "gc.collect()\n",
    "\n",
    "\n",
    "def conf_mat(X,y):\n",
    "    y_scores = xgc.predict(X)\n",
    "    return model_utils.confusion_matrix_frame(y,y_scores)"
   ]
  },
  {
   "cell_type": "code",
   "execution_count": null,
   "metadata": {
    "ExecuteTime": {
     "end_time": "2018-04-23T11:43:44.417143Z",
     "start_time": "2018-04-23T10:45:15.440Z"
    }
   },
   "outputs": [],
   "source": [
    "df_train = None\n",
    "del df_train\n",
    "df_cv1=None\n",
    "del df_cv1\n",
    "\n",
    "gc.collect()\n",
    "\n",
    "\n",
    "\n",
    "print(\"Train Metrics\\n\")\n",
    "check_auc(X,y)\n",
    "conf_mat(X,y)\n",
    "\n",
    "X=None\n",
    "y=None\n",
    "del X\n",
    "del y\n",
    "gc.collect()"
   ]
  },
  {
   "cell_type": "code",
   "execution_count": 25,
   "metadata": {
    "ExecuteTime": {
     "end_time": "2018-04-23T13:41:37.426787Z",
     "start_time": "2018-04-23T13:41:07.346869Z"
    }
   },
   "outputs": [
    {
     "data": {
      "text/plain": [
       "0"
      ]
     },
     "execution_count": 25,
     "metadata": {},
     "output_type": "execute_result"
    },
    {
     "data": {
      "text/plain": [
       "22"
      ]
     },
     "execution_count": 25,
     "metadata": {},
     "output_type": "execute_result"
    }
   ],
   "source": [
    "gc.collect()\n",
    "df_cv1 = read_cv()\n",
    "df_cv1 = df_cv1.sample(frac=0.4)\n",
    "X_test = df_cv1[features]\n",
    "y_test = df_cv1[output_column]\n",
    "df_cv1 = None\n",
    "del df_cv1\n",
    "gc.collect()"
   ]
  },
  {
   "cell_type": "code",
   "execution_count": 26,
   "metadata": {
    "ExecuteTime": {
     "end_time": "2018-04-23T13:41:37.524142Z",
     "start_time": "2018-04-23T13:41:37.427919Z"
    }
   },
   "outputs": [
    {
     "data": {
      "text/html": [
       "<div>\n",
       "<style scoped>\n",
       "    .dataframe tbody tr th:only-of-type {\n",
       "        vertical-align: middle;\n",
       "    }\n",
       "\n",
       "    .dataframe tbody tr th {\n",
       "        vertical-align: top;\n",
       "    }\n",
       "\n",
       "    .dataframe thead th {\n",
       "        text-align: right;\n",
       "    }\n",
       "</style>\n",
       "<table border=\"1\" class=\"dataframe\">\n",
       "  <thead>\n",
       "    <tr style=\"text-align: right;\">\n",
       "      <th></th>\n",
       "      <th>app_os_hour_mean_is_attributed</th>\n",
       "      <th>device_hour_count_channel</th>\n",
       "      <th>ip_mean_is_attributed</th>\n",
       "      <th>hour_nunique_app</th>\n",
       "      <th>hour</th>\n",
       "      <th>app_mean_is_attributed</th>\n",
       "      <th>app_device_var_hour</th>\n",
       "      <th>device_nunique_os</th>\n",
       "      <th>app_hour_mean_is_attributed</th>\n",
       "      <th>device_channel_mean_is_attributed</th>\n",
       "      <th>channel_nunique_ip</th>\n",
       "      <th>hour_nunique_device</th>\n",
       "      <th>app_os_mean_is_attributed</th>\n",
       "      <th>ip_app_mean_is_attributed</th>\n",
       "      <th>app_nunique_os</th>\n",
       "      <th>app_AvgViewPerDistinct_ip</th>\n",
       "      <th>ip_device_mean_is_attributed</th>\n",
       "      <th>os_count_app</th>\n",
       "      <th>ip_channel_mean_is_attributed</th>\n",
       "      <th>os_app_nunique_device</th>\n",
       "      <th>ip_channel_hour_mean_is_attributed</th>\n",
       "      <th>ip_mean_hour</th>\n",
       "      <th>os_channel_mean_is_attributed</th>\n",
       "      <th>device_nunique_hour</th>\n",
       "      <th>os_channel_hour_mean_is_attributed</th>\n",
       "      <th>app_hour_count_channel</th>\n",
       "      <th>app_channel_hour_mean_is_attributed</th>\n",
       "      <th>ip_os_hour_mean_is_attributed</th>\n",
       "      <th>device</th>\n",
       "      <th>app_nunique_device</th>\n",
       "      <th>os_hour_count_channel</th>\n",
       "      <th>ip_app_os_var_hour</th>\n",
       "      <th>ip_channel_var_hour</th>\n",
       "      <th>ip_app_channel_mean_hour</th>\n",
       "      <th>device_mean_is_attributed</th>\n",
       "      <th>ip_hour_count_channel</th>\n",
       "      <th>os_nunique_app</th>\n",
       "      <th>app_nunique_ip</th>\n",
       "      <th>ip_app_hour_count_channel</th>\n",
       "      <th>app_device_os_mean_is_attributed</th>\n",
       "      <th>hour_nunique_ip</th>\n",
       "      <th>ip_app_count_channel</th>\n",
       "      <th>app_device_mean_is_attributed</th>\n",
       "      <th>ip_app_hour_mean_is_attributed</th>\n",
       "      <th>channel_nunique_os</th>\n",
       "      <th>app_count_channel</th>\n",
       "      <th>app_device_os_nunique_ip</th>\n",
       "      <th>app</th>\n",
       "      <th>hour_nunique_channel</th>\n",
       "      <th>app_channel_os_mean_is_attributed</th>\n",
       "      <th>channel</th>\n",
       "      <th>channel_hour_mean_is_attributed</th>\n",
       "      <th>ip_hour_mean_is_attributed</th>\n",
       "      <th>ip_app_os_count_channel</th>\n",
       "      <th>device_nunique_channel</th>\n",
       "      <th>os_hour_mean_is_attributed</th>\n",
       "      <th>ip_nunique_device</th>\n",
       "      <th>ip_var_hour</th>\n",
       "      <th>os</th>\n",
       "      <th>ip_os_channel_mean_is_attributed</th>\n",
       "      <th>device_channel_hour_mean_is_attributed</th>\n",
       "      <th>hour_mean_is_attributed</th>\n",
       "      <th>app_count_os</th>\n",
       "      <th>ip_app_device_mean_is_attributed</th>\n",
       "      <th>device_var_hour</th>\n",
       "      <th>device_count_os</th>\n",
       "      <th>channel_count_app</th>\n",
       "      <th>os_app_nunique_ip</th>\n",
       "      <th>app_channel_mean_hour</th>\n",
       "      <th>channel_nunique_app</th>\n",
       "      <th>ip_nunique_channel</th>\n",
       "      <th>ip_nunique_app</th>\n",
       "      <th>ip_count_channel</th>\n",
       "      <th>os_mean_is_attributed</th>\n",
       "      <th>device_os_mean_hour</th>\n",
       "      <th>ip_app_channel_mean_is_attributed</th>\n",
       "      <th>app_nunique_channel</th>\n",
       "      <th>ip</th>\n",
       "      <th>hour_nunique_os</th>\n",
       "      <th>channel_mean_is_attributed</th>\n",
       "      <th>device_hour_mean_is_attributed</th>\n",
       "      <th>device_count_app</th>\n",
       "      <th>app_channel_mean_is_attributed</th>\n",
       "      <th>ip_device_hour_mean_is_attributed</th>\n",
       "      <th>device_os_var_hour</th>\n",
       "      <th>device_nunique_app</th>\n",
       "      <th>ip_app_nunique_os</th>\n",
       "      <th>ip_device_os_nunique_app</th>\n",
       "      <th>device_nunique_ip</th>\n",
       "      <th>device_count_channel</th>\n",
       "      <th>device_app_mean_hour</th>\n",
       "    </tr>\n",
       "  </thead>\n",
       "  <tbody>\n",
       "    <tr>\n",
       "      <th>129421594</th>\n",
       "      <td>0.000394</td>\n",
       "      <td>3556828</td>\n",
       "      <td>0.002621</td>\n",
       "      <td>322</td>\n",
       "      <td>9</td>\n",
       "      <td>0.000519</td>\n",
       "      <td>42.080893</td>\n",
       "      <td>537</td>\n",
       "      <td>0.000460</td>\n",
       "      <td>0.001118</td>\n",
       "      <td>8602</td>\n",
       "      <td>869</td>\n",
       "      <td>0.000746</td>\n",
       "      <td>0.000718</td>\n",
       "      <td>191</td>\n",
       "      <td>56.885484</td>\n",
       "      <td>0.003743</td>\n",
       "      <td>1221627</td>\n",
       "      <td>0.001041</td>\n",
       "      <td>3</td>\n",
       "      <td>0.0</td>\n",
       "      <td>10.772033</td>\n",
       "      <td>0.000248</td>\n",
       "      <td>24</td>\n",
       "      <td>0.000000</td>\n",
       "      <td>271539</td>\n",
       "      <td>0.000453</td>\n",
       "      <td>NaN</td>\n",
       "      <td>1</td>\n",
       "      <td>6</td>\n",
       "      <td>58966</td>\n",
       "      <td>29.562500</td>\n",
       "      <td>32.807492</td>\n",
       "      <td>11.655136</td>\n",
       "      <td>0.004935</td>\n",
       "      <td>254</td>\n",
       "      <td>135</td>\n",
       "      <td>117870</td>\n",
       "      <td>37</td>\n",
       "      <td>0.001169</td>\n",
       "      <td>91964</td>\n",
       "      <td>1470</td>\n",
       "      <td>0.000719</td>\n",
       "      <td>0.0</td>\n",
       "      <td>167</td>\n",
       "      <td>6705092</td>\n",
       "      <td>27699</td>\n",
       "      <td>15</td>\n",
       "      <td>174</td>\n",
       "      <td>0.000000</td>\n",
       "      <td>3</td>\n",
       "      <td>0.000904</td>\n",
       "      <td>0.003158</td>\n",
       "      <td>16</td>\n",
       "      <td>189</td>\n",
       "      <td>0.006499</td>\n",
       "      <td>13</td>\n",
       "      <td>36.305864</td>\n",
       "      <td>37</td>\n",
       "      <td>0.0</td>\n",
       "      <td>0.001097</td>\n",
       "      <td>0.006438</td>\n",
       "      <td>6705092</td>\n",
       "      <td>0.001392</td>\n",
       "      <td>38.255844</td>\n",
       "      <td>73278711</td>\n",
       "      <td>368423</td>\n",
       "      <td>28104</td>\n",
       "      <td>11.225221</td>\n",
       "      <td>10</td>\n",
       "      <td>114</td>\n",
       "      <td>53</td>\n",
       "      <td>7795</td>\n",
       "      <td>0.006171</td>\n",
       "      <td>9.405262</td>\n",
       "      <td>0.001562</td>\n",
       "      <td>31</td>\n",
       "      <td>102174</td>\n",
       "      <td>244</td>\n",
       "      <td>0.000831</td>\n",
       "      <td>0.005813</td>\n",
       "      <td>73278711</td>\n",
       "      <td>0.000156</td>\n",
       "      <td>0.006243</td>\n",
       "      <td>38.135178</td>\n",
       "      <td>350</td>\n",
       "      <td>58</td>\n",
       "      <td>15</td>\n",
       "      <td>217490</td>\n",
       "      <td>73278711</td>\n",
       "      <td>9.893285</td>\n",
       "    </tr>\n",
       "    <tr>\n",
       "      <th>86185379</th>\n",
       "      <td>0.000531</td>\n",
       "      <td>4525846</td>\n",
       "      <td>0.002005</td>\n",
       "      <td>328</td>\n",
       "      <td>4</td>\n",
       "      <td>0.001235</td>\n",
       "      <td>36.918485</td>\n",
       "      <td>537</td>\n",
       "      <td>0.001390</td>\n",
       "      <td>0.001285</td>\n",
       "      <td>87015</td>\n",
       "      <td>817</td>\n",
       "      <td>0.001021</td>\n",
       "      <td>0.000000</td>\n",
       "      <td>186</td>\n",
       "      <td>55.802444</td>\n",
       "      <td>0.001855</td>\n",
       "      <td>2211621</td>\n",
       "      <td>0.000000</td>\n",
       "      <td>3</td>\n",
       "      <td>0.0</td>\n",
       "      <td>8.145105</td>\n",
       "      <td>0.000737</td>\n",
       "      <td>24</td>\n",
       "      <td>0.001261</td>\n",
       "      <td>381538</td>\n",
       "      <td>0.001689</td>\n",
       "      <td>NaN</td>\n",
       "      <td>1</td>\n",
       "      <td>6</td>\n",
       "      <td>136193</td>\n",
       "      <td>63.000000</td>\n",
       "      <td>43.335714</td>\n",
       "      <td>7.407407</td>\n",
       "      <td>0.004935</td>\n",
       "      <td>86</td>\n",
       "      <td>169</td>\n",
       "      <td>118640</td>\n",
       "      <td>4</td>\n",
       "      <td>0.001532</td>\n",
       "      <td>96201</td>\n",
       "      <td>114</td>\n",
       "      <td>0.001711</td>\n",
       "      <td>NaN</td>\n",
       "      <td>143</td>\n",
       "      <td>6620402</td>\n",
       "      <td>39201</td>\n",
       "      <td>18</td>\n",
       "      <td>179</td>\n",
       "      <td>0.001272</td>\n",
       "      <td>121</td>\n",
       "      <td>0.001154</td>\n",
       "      <td>0.000000</td>\n",
       "      <td>3</td>\n",
       "      <td>189</td>\n",
       "      <td>0.003380</td>\n",
       "      <td>9</td>\n",
       "      <td>38.895812</td>\n",
       "      <td>10</td>\n",
       "      <td>NaN</td>\n",
       "      <td>0.001703</td>\n",
       "      <td>0.006209</td>\n",
       "      <td>6620402</td>\n",
       "      <td>0.000000</td>\n",
       "      <td>38.255844</td>\n",
       "      <td>73278711</td>\n",
       "      <td>1971482</td>\n",
       "      <td>39355</td>\n",
       "      <td>10.765039</td>\n",
       "      <td>2</td>\n",
       "      <td>96</td>\n",
       "      <td>37</td>\n",
       "      <td>1144</td>\n",
       "      <td>0.002722</td>\n",
       "      <td>9.147356</td>\n",
       "      <td>0.000000</td>\n",
       "      <td>18</td>\n",
       "      <td>812</td>\n",
       "      <td>231</td>\n",
       "      <td>0.000967</td>\n",
       "      <td>0.006272</td>\n",
       "      <td>73278711</td>\n",
       "      <td>0.001322</td>\n",
       "      <td>0.000000</td>\n",
       "      <td>37.683192</td>\n",
       "      <td>350</td>\n",
       "      <td>22</td>\n",
       "      <td>11</td>\n",
       "      <td>217490</td>\n",
       "      <td>73278711</td>\n",
       "      <td>9.422918</td>\n",
       "    </tr>\n",
       "    <tr>\n",
       "      <th>27889723</th>\n",
       "      <td>0.000292</td>\n",
       "      <td>3885804</td>\n",
       "      <td>0.000000</td>\n",
       "      <td>352</td>\n",
       "      <td>10</td>\n",
       "      <td>0.000603</td>\n",
       "      <td>39.977041</td>\n",
       "      <td>537</td>\n",
       "      <td>0.000416</td>\n",
       "      <td>0.001310</td>\n",
       "      <td>75381</td>\n",
       "      <td>912</td>\n",
       "      <td>0.000715</td>\n",
       "      <td>0.000000</td>\n",
       "      <td>224</td>\n",
       "      <td>37.811832</td>\n",
       "      <td>0.000000</td>\n",
       "      <td>16720972</td>\n",
       "      <td>0.000000</td>\n",
       "      <td>3</td>\n",
       "      <td>NaN</td>\n",
       "      <td>10.305060</td>\n",
       "      <td>0.001283</td>\n",
       "      <td>24</td>\n",
       "      <td>0.001489</td>\n",
       "      <td>222671</td>\n",
       "      <td>0.000595</td>\n",
       "      <td>0.0</td>\n",
       "      <td>1</td>\n",
       "      <td>6</td>\n",
       "      <td>890245</td>\n",
       "      <td>12.622222</td>\n",
       "      <td>28.000000</td>\n",
       "      <td>15.000000</td>\n",
       "      <td>0.004935</td>\n",
       "      <td>48</td>\n",
       "      <td>235</td>\n",
       "      <td>111411</td>\n",
       "      <td>4</td>\n",
       "      <td>0.001082</td>\n",
       "      <td>93595</td>\n",
       "      <td>40</td>\n",
       "      <td>0.000817</td>\n",
       "      <td>NaN</td>\n",
       "      <td>135</td>\n",
       "      <td>4212654</td>\n",
       "      <td>69809</td>\n",
       "      <td>14</td>\n",
       "      <td>175</td>\n",
       "      <td>0.000723</td>\n",
       "      <td>439</td>\n",
       "      <td>0.001097</td>\n",
       "      <td>0.000000</td>\n",
       "      <td>10</td>\n",
       "      <td>189</td>\n",
       "      <td>0.003954</td>\n",
       "      <td>6</td>\n",
       "      <td>32.850168</td>\n",
       "      <td>13</td>\n",
       "      <td>NaN</td>\n",
       "      <td>0.001654</td>\n",
       "      <td>0.005765</td>\n",
       "      <td>4212654</td>\n",
       "      <td>0.000000</td>\n",
       "      <td>38.255844</td>\n",
       "      <td>73278711</td>\n",
       "      <td>1219469</td>\n",
       "      <td>70347</td>\n",
       "      <td>9.150168</td>\n",
       "      <td>3</td>\n",
       "      <td>87</td>\n",
       "      <td>33</td>\n",
       "      <td>672</td>\n",
       "      <td>0.003984</td>\n",
       "      <td>9.253499</td>\n",
       "      <td>NaN</td>\n",
       "      <td>39</td>\n",
       "      <td>100759</td>\n",
       "      <td>253</td>\n",
       "      <td>0.000984</td>\n",
       "      <td>0.005109</td>\n",
       "      <td>73278711</td>\n",
       "      <td>0.000633</td>\n",
       "      <td>0.000000</td>\n",
       "      <td>38.623718</td>\n",
       "      <td>350</td>\n",
       "      <td>11</td>\n",
       "      <td>20</td>\n",
       "      <td>217490</td>\n",
       "      <td>73278711</td>\n",
       "      <td>9.047957</td>\n",
       "    </tr>\n",
       "    <tr>\n",
       "      <th>125239289</th>\n",
       "      <td>0.009573</td>\n",
       "      <td>3943909</td>\n",
       "      <td>0.001813</td>\n",
       "      <td>330</td>\n",
       "      <td>3</td>\n",
       "      <td>0.002824</td>\n",
       "      <td>38.732324</td>\n",
       "      <td>537</td>\n",
       "      <td>0.003937</td>\n",
       "      <td>0.002210</td>\n",
       "      <td>73103</td>\n",
       "      <td>757</td>\n",
       "      <td>0.006149</td>\n",
       "      <td>0.001255</td>\n",
       "      <td>216</td>\n",
       "      <td>56.334671</td>\n",
       "      <td>0.001582</td>\n",
       "      <td>3115835</td>\n",
       "      <td>0.000000</td>\n",
       "      <td>3</td>\n",
       "      <td>0.0</td>\n",
       "      <td>10.389709</td>\n",
       "      <td>0.003842</td>\n",
       "      <td>24</td>\n",
       "      <td>0.006751</td>\n",
       "      <td>304095</td>\n",
       "      <td>0.004725</td>\n",
       "      <td>0.0</td>\n",
       "      <td>1</td>\n",
       "      <td>6</td>\n",
       "      <td>170825</td>\n",
       "      <td>36.294435</td>\n",
       "      <td>30.025034</td>\n",
       "      <td>10.826152</td>\n",
       "      <td>0.004935</td>\n",
       "      <td>4335</td>\n",
       "      <td>163</td>\n",
       "      <td>122819</td>\n",
       "      <td>318</td>\n",
       "      <td>0.009562</td>\n",
       "      <td>92697</td>\n",
       "      <td>9507</td>\n",
       "      <td>0.004021</td>\n",
       "      <td>0.0</td>\n",
       "      <td>133</td>\n",
       "      <td>6918968</td>\n",
       "      <td>44382</td>\n",
       "      <td>9</td>\n",
       "      <td>172</td>\n",
       "      <td>0.009080</td>\n",
       "      <td>232</td>\n",
       "      <td>0.002384</td>\n",
       "      <td>0.002237</td>\n",
       "      <td>254</td>\n",
       "      <td>189</td>\n",
       "      <td>0.005534</td>\n",
       "      <td>114</td>\n",
       "      <td>37.259549</td>\n",
       "      <td>22</td>\n",
       "      <td>0.0</td>\n",
       "      <td>0.003691</td>\n",
       "      <td>0.006940</td>\n",
       "      <td>6918968</td>\n",
       "      <td>0.002267</td>\n",
       "      <td>38.255844</td>\n",
       "      <td>73278711</td>\n",
       "      <td>957402</td>\n",
       "      <td>45069</td>\n",
       "      <td>9.628387</td>\n",
       "      <td>2</td>\n",
       "      <td>144</td>\n",
       "      <td>161</td>\n",
       "      <td>109805</td>\n",
       "      <td>0.004191</td>\n",
       "      <td>9.101527</td>\n",
       "      <td>0.000000</td>\n",
       "      <td>45</td>\n",
       "      <td>43793</td>\n",
       "      <td>224</td>\n",
       "      <td>0.001565</td>\n",
       "      <td>0.007240</td>\n",
       "      <td>73278711</td>\n",
       "      <td>0.003434</td>\n",
       "      <td>0.003264</td>\n",
       "      <td>38.534594</td>\n",
       "      <td>350</td>\n",
       "      <td>73</td>\n",
       "      <td>35</td>\n",
       "      <td>217490</td>\n",
       "      <td>73278711</td>\n",
       "      <td>9.768847</td>\n",
       "    </tr>\n",
       "    <tr>\n",
       "      <th>56291138</th>\n",
       "      <td>0.000285</td>\n",
       "      <td>3963770</td>\n",
       "      <td>0.000728</td>\n",
       "      <td>360</td>\n",
       "      <td>13</td>\n",
       "      <td>0.000519</td>\n",
       "      <td>42.080893</td>\n",
       "      <td>537</td>\n",
       "      <td>0.000165</td>\n",
       "      <td>0.000306</td>\n",
       "      <td>87498</td>\n",
       "      <td>967</td>\n",
       "      <td>0.000581</td>\n",
       "      <td>0.000000</td>\n",
       "      <td>191</td>\n",
       "      <td>56.885484</td>\n",
       "      <td>0.000000</td>\n",
       "      <td>18571489</td>\n",
       "      <td>0.000000</td>\n",
       "      <td>3</td>\n",
       "      <td>NaN</td>\n",
       "      <td>9.161353</td>\n",
       "      <td>0.000386</td>\n",
       "      <td>24</td>\n",
       "      <td>0.000162</td>\n",
       "      <td>358112</td>\n",
       "      <td>0.000089</td>\n",
       "      <td>NaN</td>\n",
       "      <td>1</td>\n",
       "      <td>6</td>\n",
       "      <td>988795</td>\n",
       "      <td>46.384615</td>\n",
       "      <td>42.550612</td>\n",
       "      <td>9.942857</td>\n",
       "      <td>0.004935</td>\n",
       "      <td>36</td>\n",
       "      <td>226</td>\n",
       "      <td>117870</td>\n",
       "      <td>6</td>\n",
       "      <td>0.000889</td>\n",
       "      <td>96988</td>\n",
       "      <td>95</td>\n",
       "      <td>0.000719</td>\n",
       "      <td>0.0</td>\n",
       "      <td>128</td>\n",
       "      <td>6705092</td>\n",
       "      <td>79597</td>\n",
       "      <td>15</td>\n",
       "      <td>177</td>\n",
       "      <td>0.000636</td>\n",
       "      <td>245</td>\n",
       "      <td>0.000049</td>\n",
       "      <td>0.000000</td>\n",
       "      <td>27</td>\n",
       "      <td>189</td>\n",
       "      <td>0.004553</td>\n",
       "      <td>2</td>\n",
       "      <td>39.375294</td>\n",
       "      <td>19</td>\n",
       "      <td>0.0</td>\n",
       "      <td>0.000079</td>\n",
       "      <td>0.005897</td>\n",
       "      <td>6705092</td>\n",
       "      <td>0.000000</td>\n",
       "      <td>38.255844</td>\n",
       "      <td>73278711</td>\n",
       "      <td>3724152</td>\n",
       "      <td>80202</td>\n",
       "      <td>10.633288</td>\n",
       "      <td>2</td>\n",
       "      <td>89</td>\n",
       "      <td>33</td>\n",
       "      <td>1035</td>\n",
       "      <td>0.004681</td>\n",
       "      <td>9.144013</td>\n",
       "      <td>0.000000</td>\n",
       "      <td>31</td>\n",
       "      <td>165979</td>\n",
       "      <td>241</td>\n",
       "      <td>0.000219</td>\n",
       "      <td>0.004786</td>\n",
       "      <td>73278711</td>\n",
       "      <td>0.000343</td>\n",
       "      <td>0.000000</td>\n",
       "      <td>38.795927</td>\n",
       "      <td>350</td>\n",
       "      <td>22</td>\n",
       "      <td>23</td>\n",
       "      <td>217490</td>\n",
       "      <td>73278711</td>\n",
       "      <td>9.893285</td>\n",
       "    </tr>\n",
       "  </tbody>\n",
       "</table>\n",
       "</div>"
      ],
      "text/plain": [
       "           app_os_hour_mean_is_attributed  device_hour_count_channel  ip_mean_is_attributed  hour_nunique_app  hour  app_mean_is_attributed  app_device_var_hour  device_nunique_os  app_hour_mean_is_attributed  device_channel_mean_is_attributed  channel_nunique_ip  hour_nunique_device  app_os_mean_is_attributed  ip_app_mean_is_attributed  app_nunique_os  app_AvgViewPerDistinct_ip  ip_device_mean_is_attributed  os_count_app  ip_channel_mean_is_attributed  os_app_nunique_device  ip_channel_hour_mean_is_attributed  ip_mean_hour  os_channel_mean_is_attributed  device_nunique_hour  os_channel_hour_mean_is_attributed  app_hour_count_channel  app_channel_hour_mean_is_attributed  ip_os_hour_mean_is_attributed  device  app_nunique_device  os_hour_count_channel  ip_app_os_var_hour  ip_channel_var_hour  ip_app_channel_mean_hour  device_mean_is_attributed  ip_hour_count_channel  os_nunique_app  app_nunique_ip  ip_app_hour_count_channel  app_device_os_mean_is_attributed  hour_nunique_ip  \\\n",
       "129421594                        0.000394                    3556828               0.002621               322     9                0.000519            42.080893                537                     0.000460                           0.001118                8602                  869                   0.000746                   0.000718             191                  56.885484                      0.003743       1221627                       0.001041                      3                                 0.0     10.772033                       0.000248                   24                            0.000000                  271539                             0.000453                            NaN       1                   6                  58966           29.562500            32.807492                 11.655136                   0.004935                    254             135          117870                         37                          0.001169            91964   \n",
       "86185379                         0.000531                    4525846               0.002005               328     4                0.001235            36.918485                537                     0.001390                           0.001285               87015                  817                   0.001021                   0.000000             186                  55.802444                      0.001855       2211621                       0.000000                      3                                 0.0      8.145105                       0.000737                   24                            0.001261                  381538                             0.001689                            NaN       1                   6                 136193           63.000000            43.335714                  7.407407                   0.004935                     86             169          118640                          4                          0.001532            96201   \n",
       "27889723                         0.000292                    3885804               0.000000               352    10                0.000603            39.977041                537                     0.000416                           0.001310               75381                  912                   0.000715                   0.000000             224                  37.811832                      0.000000      16720972                       0.000000                      3                                 NaN     10.305060                       0.001283                   24                            0.001489                  222671                             0.000595                            0.0       1                   6                 890245           12.622222            28.000000                 15.000000                   0.004935                     48             235          111411                          4                          0.001082            93595   \n",
       "125239289                        0.009573                    3943909               0.001813               330     3                0.002824            38.732324                537                     0.003937                           0.002210               73103                  757                   0.006149                   0.001255             216                  56.334671                      0.001582       3115835                       0.000000                      3                                 0.0     10.389709                       0.003842                   24                            0.006751                  304095                             0.004725                            0.0       1                   6                 170825           36.294435            30.025034                 10.826152                   0.004935                   4335             163          122819                        318                          0.009562            92697   \n",
       "56291138                         0.000285                    3963770               0.000728               360    13                0.000519            42.080893                537                     0.000165                           0.000306               87498                  967                   0.000581                   0.000000             191                  56.885484                      0.000000      18571489                       0.000000                      3                                 NaN      9.161353                       0.000386                   24                            0.000162                  358112                             0.000089                            NaN       1                   6                 988795           46.384615            42.550612                  9.942857                   0.004935                     36             226          117870                          6                          0.000889            96988   \n",
       "\n",
       "           ip_app_count_channel  app_device_mean_is_attributed  ip_app_hour_mean_is_attributed  channel_nunique_os  app_count_channel  app_device_os_nunique_ip  app  hour_nunique_channel  app_channel_os_mean_is_attributed  channel  channel_hour_mean_is_attributed  ip_hour_mean_is_attributed  ip_app_os_count_channel  device_nunique_channel  os_hour_mean_is_attributed  ip_nunique_device  ip_var_hour  os  ip_os_channel_mean_is_attributed  device_channel_hour_mean_is_attributed  hour_mean_is_attributed  app_count_os  ip_app_device_mean_is_attributed  device_var_hour  device_count_os  channel_count_app  os_app_nunique_ip  app_channel_mean_hour  channel_nunique_app  ip_nunique_channel  ip_nunique_app  ip_count_channel  os_mean_is_attributed  device_os_mean_hour  ip_app_channel_mean_is_attributed  app_nunique_channel      ip  hour_nunique_os  channel_mean_is_attributed  device_hour_mean_is_attributed  device_count_app  app_channel_mean_is_attributed  ip_device_hour_mean_is_attributed  \\\n",
       "129421594                  1470                       0.000719                             0.0                 167            6705092                     27699   15                   174                           0.000000        3                         0.000904                    0.003158                       16                     189                    0.006499                 13    36.305864  37                               0.0                                0.001097                 0.006438       6705092                          0.001392        38.255844         73278711             368423              28104              11.225221                   10                 114              53              7795               0.006171             9.405262                           0.001562                   31  102174              244                    0.000831                        0.005813          73278711                        0.000156                           0.006243   \n",
       "86185379                    114                       0.001711                             NaN                 143            6620402                     39201   18                   179                           0.001272      121                         0.001154                    0.000000                        3                     189                    0.003380                  9    38.895812  10                               NaN                                0.001703                 0.006209       6620402                          0.000000        38.255844         73278711            1971482              39355              10.765039                    2                  96              37              1144               0.002722             9.147356                           0.000000                   18     812              231                    0.000967                        0.006272          73278711                        0.001322                           0.000000   \n",
       "27889723                     40                       0.000817                             NaN                 135            4212654                     69809   14                   175                           0.000723      439                         0.001097                    0.000000                       10                     189                    0.003954                  6    32.850168  13                               NaN                                0.001654                 0.005765       4212654                          0.000000        38.255844         73278711            1219469              70347               9.150168                    3                  87              33               672               0.003984             9.253499                                NaN                   39  100759              253                    0.000984                        0.005109          73278711                        0.000633                           0.000000   \n",
       "125239289                  9507                       0.004021                             0.0                 133            6918968                     44382    9                   172                           0.009080      232                         0.002384                    0.002237                      254                     189                    0.005534                114    37.259549  22                               0.0                                0.003691                 0.006940       6918968                          0.002267        38.255844         73278711             957402              45069               9.628387                    2                 144             161            109805               0.004191             9.101527                           0.000000                   45   43793              224                    0.001565                        0.007240          73278711                        0.003434                           0.003264   \n",
       "56291138                     95                       0.000719                             0.0                 128            6705092                     79597   15                   177                           0.000636      245                         0.000049                    0.000000                       27                     189                    0.004553                  2    39.375294  19                               0.0                                0.000079                 0.005897       6705092                          0.000000        38.255844         73278711            3724152              80202              10.633288                    2                  89              33              1035               0.004681             9.144013                           0.000000                   31  165979              241                    0.000219                        0.004786          73278711                        0.000343                           0.000000   \n",
       "\n",
       "           device_os_var_hour  device_nunique_app  ip_app_nunique_os  ip_device_os_nunique_app  device_nunique_ip  device_count_channel  device_app_mean_hour  \n",
       "129421594           38.135178                 350                 58                        15             217490              73278711              9.893285  \n",
       "86185379            37.683192                 350                 22                        11             217490              73278711              9.422918  \n",
       "27889723            38.623718                 350                 11                        20             217490              73278711              9.047957  \n",
       "125239289           38.534594                 350                 73                        35             217490              73278711              9.768847  \n",
       "56291138            38.795927                 350                 22                        23             217490              73278711              9.893285  "
      ]
     },
     "execution_count": 26,
     "metadata": {},
     "output_type": "execute_result"
    },
    {
     "data": {
      "text/plain": [
       "0"
      ]
     },
     "execution_count": 26,
     "metadata": {},
     "output_type": "execute_result"
    }
   ],
   "source": [
    "X_test.head();\n",
    "gc.collect()"
   ]
  },
  {
   "cell_type": "code",
   "execution_count": 27,
   "metadata": {
    "ExecuteTime": {
     "end_time": "2018-04-23T13:43:09.705499Z",
     "start_time": "2018-04-23T13:41:37.525204Z"
    }
   },
   "outputs": [
    {
     "data": {
      "text/plain": [
       "0"
      ]
     },
     "execution_count": 27,
     "metadata": {},
     "output_type": "execute_result"
    },
    {
     "data": {
      "text/plain": [
       "0"
      ]
     },
     "execution_count": 27,
     "metadata": {},
     "output_type": "execute_result"
    },
    {
     "name": "stdout",
     "output_type": "stream",
     "text": [
      "Test Metrics\n",
      "\n"
     ]
    },
    {
     "data": {
      "text/plain": [
       "0.9831393785549921"
      ]
     },
     "execution_count": 27,
     "metadata": {},
     "output_type": "execute_result"
    },
    {
     "data": {
      "text/html": [
       "<div>\n",
       "<style scoped>\n",
       "    .dataframe tbody tr th:only-of-type {\n",
       "        vertical-align: middle;\n",
       "    }\n",
       "\n",
       "    .dataframe tbody tr th {\n",
       "        vertical-align: top;\n",
       "    }\n",
       "\n",
       "    .dataframe thead th {\n",
       "        text-align: right;\n",
       "    }\n",
       "</style>\n",
       "<table border=\"1\" class=\"dataframe\">\n",
       "  <thead>\n",
       "    <tr style=\"text-align: right;\">\n",
       "      <th>Predicted</th>\n",
       "      <th>0</th>\n",
       "      <th>1</th>\n",
       "      <th>Actual Counts</th>\n",
       "      <th>Recall %</th>\n",
       "    </tr>\n",
       "    <tr>\n",
       "      <th>Actual</th>\n",
       "      <th></th>\n",
       "      <th></th>\n",
       "      <th></th>\n",
       "      <th></th>\n",
       "    </tr>\n",
       "  </thead>\n",
       "  <tbody>\n",
       "    <tr>\n",
       "      <th>0</th>\n",
       "      <td>12395757</td>\n",
       "      <td>125</td>\n",
       "      <td>12395882.0</td>\n",
       "      <td>99.0</td>\n",
       "    </tr>\n",
       "    <tr>\n",
       "      <th>1</th>\n",
       "      <td>37992</td>\n",
       "      <td>5540</td>\n",
       "      <td>43532.0</td>\n",
       "      <td>12.0</td>\n",
       "    </tr>\n",
       "    <tr>\n",
       "      <th>Predicted Counts</th>\n",
       "      <td>12433749</td>\n",
       "      <td>5665</td>\n",
       "      <td>12439414.0</td>\n",
       "      <td>NaN</td>\n",
       "    </tr>\n",
       "    <tr>\n",
       "      <th>Precision %</th>\n",
       "      <td>99</td>\n",
       "      <td>97</td>\n",
       "      <td>NaN</td>\n",
       "      <td>NaN</td>\n",
       "    </tr>\n",
       "  </tbody>\n",
       "</table>\n",
       "</div>"
      ],
      "text/plain": [
       "Predicted                0     1  Actual Counts  Recall %\n",
       "Actual                                                   \n",
       "0                 12395757   125     12395882.0      99.0\n",
       "1                    37992  5540        43532.0      12.0\n",
       "Predicted Counts  12433749  5665     12439414.0       NaN\n",
       "Precision %             99    97            NaN       NaN"
      ]
     },
     "execution_count": 27,
     "metadata": {},
     "output_type": "execute_result"
    }
   ],
   "source": [
    "\n",
    "\n",
    "\n",
    "\n",
    "\n",
    "\n",
    "gc.collect()\n",
    "\n",
    "gc.collect()\n",
    "\n",
    "print(\"Test Metrics\\n\")\n",
    "check_auc(X_test,y_test)\n",
    "conf_mat(X_test,y_test)"
   ]
  },
  {
   "cell_type": "code",
   "execution_count": 15,
   "metadata": {
    "ExecuteTime": {
     "end_time": "2018-04-23T12:14:29.148255Z",
     "start_time": "2018-04-23T12:14:28.474048Z"
    }
   },
   "outputs": [
    {
     "data": {
      "text/plain": [
       "0"
      ]
     },
     "execution_count": 15,
     "metadata": {},
     "output_type": "execute_result"
    },
    {
     "data": {
      "text/plain": [
       "26"
      ]
     },
     "execution_count": 15,
     "metadata": {},
     "output_type": "execute_result"
    }
   ],
   "source": [
    "gc.collect()\n",
    "y_test = None\n",
    "X_test = None\n",
    "del X_test\n",
    "del y_test\n",
    "gc.collect()"
   ]
  },
  {
   "cell_type": "code",
   "execution_count": 6,
   "metadata": {
    "ExecuteTime": {
     "end_time": "2018-04-24T15:44:20.347682Z",
     "start_time": "2018-04-24T15:42:49.129875Z"
    }
   },
   "outputs": [
    {
     "data": {
      "text/plain": [
       "41"
      ]
     },
     "execution_count": 6,
     "metadata": {},
     "output_type": "execute_result"
    },
    {
     "data": {
      "text/plain": [
       "0"
      ]
     },
     "execution_count": 6,
     "metadata": {},
     "output_type": "execute_result"
    }
   ],
   "source": [
    "gc.collect()\n",
    "df_cv1 = None\n",
    "del df_cv1\n",
    "\n",
    "\n",
    "gc.collect()\n",
    "df_test = pd.read_hdf(\"data/test_2.h5\",\"table\")"
   ]
  },
  {
   "cell_type": "code",
   "execution_count": 7,
   "metadata": {
    "ExecuteTime": {
     "end_time": "2018-04-24T15:45:37.326344Z",
     "start_time": "2018-04-24T15:44:20.348878Z"
    }
   },
   "outputs": [
    {
     "data": {
      "text/plain": [
       "0"
      ]
     },
     "execution_count": 7,
     "metadata": {},
     "output_type": "execute_result"
    },
    {
     "data": {
      "text/plain": [
       "21"
      ]
     },
     "execution_count": 7,
     "metadata": {},
     "output_type": "execute_result"
    }
   ],
   "source": [
    "gc.collect()\n",
    "results = df_test[[\"click_id\"]]\n",
    "df_test = df_test[features]\n",
    "gc.collect()\n",
    "results['is_attributed'] = xgc.predict_proba(df_test)[:,1]"
   ]
  },
  {
   "cell_type": "code",
   "execution_count": 8,
   "metadata": {
    "ExecuteTime": {
     "end_time": "2018-04-24T15:45:37.898002Z",
     "start_time": "2018-04-24T15:45:37.327544Z"
    }
   },
   "outputs": [
    {
     "data": {
      "text/plain": [
       "0"
      ]
     },
     "execution_count": 8,
     "metadata": {},
     "output_type": "execute_result"
    },
    {
     "data": {
      "text/plain": [
       "0"
      ]
     },
     "execution_count": 8,
     "metadata": {},
     "output_type": "execute_result"
    },
    {
     "data": {
      "text/plain": [
       "0"
      ]
     },
     "execution_count": 8,
     "metadata": {},
     "output_type": "execute_result"
    },
    {
     "data": {
      "text/plain": [
       "0"
      ]
     },
     "execution_count": 8,
     "metadata": {},
     "output_type": "execute_result"
    }
   ],
   "source": [
    "gc.collect()\n",
    "df_test = None\n",
    "del df_test\n",
    "gc.collect()\n",
    "\n",
    "gc.collect()\n",
    "gc.collect()"
   ]
  },
  {
   "cell_type": "code",
   "execution_count": 9,
   "metadata": {
    "ExecuteTime": {
     "end_time": "2018-04-24T15:46:23.405437Z",
     "start_time": "2018-04-24T15:45:37.899062Z"
    }
   },
   "outputs": [],
   "source": [
    "results.to_csv(\"results/results-8.csv\",index=False,columns=results.columns)"
   ]
  },
  {
   "cell_type": "code",
   "execution_count": 10,
   "metadata": {
    "ExecuteTime": {
     "end_time": "2018-04-24T15:48:55.871377Z",
     "start_time": "2018-04-24T15:46:23.406804Z"
    }
   },
   "outputs": [
    {
     "name": "stdout",
     "output_type": "stream",
     "text": [
      "/home/ahemf/data-science/kaggle/talkingdata-adtracking-fraud-detection/results\n",
      "Warning: Your Kaggle API key is readable by other users on this system! To fix this, you can run 'chmod 600 /home/ahemf/.kaggle/kaggle.json'\n",
      "Successfully submitted to TalkingData AdTracking Fraud Detection Challenge/home/ahemf/data-science/kaggle/talkingdata-adtracking-fraud-detection\n"
     ]
    }
   ],
   "source": [
    "\n",
    "%cd results\n",
    "\n",
    "!kaggle competitions submit -c talkingdata-adtracking-fraud-detection -f results-8.csv -m \"Xgb with extra features\"\n",
    "%cd .."
   ]
  },
  {
   "cell_type": "code",
   "execution_count": 21,
   "metadata": {
    "ExecuteTime": {
     "end_time": "2018-04-23T13:39:08.906238Z",
     "start_time": "2018-04-23T13:39:08.896728Z"
    }
   },
   "outputs": [],
   "source": [
    "import pickle\n",
    "pickle.dump(xgc, open(\"xgc.pickle.dat\", \"wb\"))"
   ]
  },
  {
   "cell_type": "code",
   "execution_count": 23,
   "metadata": {
    "ExecuteTime": {
     "end_time": "2018-04-23T13:40:15.278679Z",
     "start_time": "2018-04-23T13:40:15.273459Z"
    }
   },
   "outputs": [],
   "source": [
    "xgc = pickle.load(open(\"xgc.pickle.dat\", \"rb\"))"
   ]
  },
  {
   "cell_type": "code",
   "execution_count": 28,
   "metadata": {
    "ExecuteTime": {
     "end_time": "2018-04-23T13:59:29.094675Z",
     "start_time": "2018-04-23T13:59:29.037545Z"
    }
   },
   "outputs": [
    {
     "data": {
      "text/plain": [
       "7886"
      ]
     },
     "execution_count": 28,
     "metadata": {},
     "output_type": "execute_result"
    }
   ],
   "source": [
    "gc.collect()"
   ]
  },
  {
   "cell_type": "code",
   "execution_count": 30,
   "metadata": {
    "ExecuteTime": {
     "end_time": "2018-04-23T14:00:05.166111Z",
     "start_time": "2018-04-23T14:00:05.164363Z"
    }
   },
   "outputs": [],
   "source": [
    "booster = xgc.get_booster()"
   ]
  },
  {
   "cell_type": "code",
   "execution_count": 31,
   "metadata": {
    "ExecuteTime": {
     "end_time": "2018-04-23T14:01:26.815088Z",
     "start_time": "2018-04-23T14:01:26.811851Z"
    }
   },
   "outputs": [],
   "source": [
    "booster.save_model(\"xgc.model\")"
   ]
  },
  {
   "cell_type": "code",
   "execution_count": 32,
   "metadata": {
    "ExecuteTime": {
     "end_time": "2018-04-23T14:01:41.748684Z",
     "start_time": "2018-04-23T14:01:41.745745Z"
    }
   },
   "outputs": [],
   "source": [
    "booster.load_model(\"xgc.model\")"
   ]
  },
  {
   "cell_type": "code",
   "execution_count": null,
   "metadata": {},
   "outputs": [],
   "source": []
  }
 ],
 "metadata": {
  "hide_input": false,
  "kernelspec": {
   "display_name": "Python 3",
   "language": "python",
   "name": "python3"
  },
  "language_info": {
   "codemirror_mode": {
    "name": "ipython",
    "version": 3
   },
   "file_extension": ".py",
   "mimetype": "text/x-python",
   "name": "python",
   "nbconvert_exporter": "python",
   "pygments_lexer": "ipython3",
   "version": "3.6.4"
  },
  "toc": {
   "base_numbering": 1,
   "nav_menu": {},
   "number_sections": true,
   "sideBar": true,
   "skip_h1_title": false,
   "title_cell": "Table of Contents",
   "title_sidebar": "Contents",
   "toc_cell": false,
   "toc_position": {},
   "toc_section_display": true,
   "toc_window_display": false
  }
 },
 "nbformat": 4,
 "nbformat_minor": 2
}
