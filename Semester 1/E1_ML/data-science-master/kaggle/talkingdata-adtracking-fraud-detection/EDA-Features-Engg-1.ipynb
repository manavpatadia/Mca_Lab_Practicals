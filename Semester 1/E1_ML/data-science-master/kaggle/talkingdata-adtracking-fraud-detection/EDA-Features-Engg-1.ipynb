{
 "cells": [
  {
   "cell_type": "code",
   "execution_count": 1,
   "metadata": {
    "ExecuteTime": {
     "end_time": "2018-04-26T04:17:35.389525Z",
     "start_time": "2018-04-26T04:17:34.016125Z"
    },
    "collapsed": true
   },
   "outputs": [],
   "source": [
    "import numpy as np # linear algebra\n",
    "import pandas as pd # data processing, CSV file I/O (e.g. pd.read_csv)\n",
    "import matplotlib as mplt\n",
    "import matplotlib.pyplot as plt\n",
    "from sklearn.model_selection import train_test_split\n",
    "from sklearn.metrics import mean_squared_error\n",
    "from IPython.core.interactiveshell import InteractiveShell\n",
    "from sklearn.ensemble import RandomForestRegressor\n",
    "from sklearn.metrics import explained_variance_score\n",
    "from sklearn.preprocessing import LabelEncoder\n",
    "from sklearn.metrics import confusion_matrix\n",
    "from sklearn.model_selection import GridSearchCV\n",
    "import matplotlib.dates as mdates\n",
    "%matplotlib inline\n",
    "import seaborn as sns\n",
    "import math\n",
    "import gc\n",
    "import ipaddress\n",
    "from urllib.parse import urlparse\n",
    "from tldextract import extract\n",
    "from sklearn.metrics import confusion_matrix\n",
    "from sklearn.preprocessing import StandardScaler\n",
    "from sklearn.neural_network import MLPClassifier\n",
    "\n",
    "from data_science_utils import dataframe as df_utils\n",
    "from data_science_utils import models as model_utils\n",
    "from data_science_utils.dataframe import column as column_utils\n",
    "\n",
    "\n",
    "from xgboost import XGBClassifier\n",
    "from sklearn.model_selection import train_test_split\n",
    "from sklearn.metrics import accuracy_score\n",
    "from sklearn.metrics import confusion_matrix,classification_report\n",
    "\n",
    "import lightgbm as lgb\n",
    "\n",
    "np.set_printoptions(threshold=np.nan)\n",
    "\n",
    "\n",
    "\n",
    "plt.rcParams[\"figure.figsize\"] = (24,4)\n",
    "\n",
    "from xgboost import XGBClassifier\n",
    "import xgboost as xgb\n",
    "from sklearn.metrics import accuracy_score\n",
    "import missingno as msno\n",
    "from sklearn.metrics import f1_score\n",
    "from sklearn.metrics import precision_score\n",
    "from sklearn.metrics import recall_score\n",
    "from sklearn.preprocessing import StandardScaler\n",
    "import matplotlib.pyplot as plt\n",
    "from mpl_toolkits.mplot3d import Axes3D\n",
    "from sklearn import datasets\n",
    "from sklearn.decomposition import PCA\n",
    "import datetime\n",
    "from scipy import signal\n",
    "import matplotlib.pyplot as plt\n",
    "from datetime import timedelta\n",
    "from sklearn import linear_model\n",
    "\n",
    "\n",
    "\n",
    "InteractiveShell.ast_node_interactivity = \"all\"\n",
    "pd.set_option('display.max_seq_items', None)\n",
    "pd.set_option('display.height', 1000)\n",
    "pd.set_option('display.max_rows', 500)\n",
    "pd.set_option('display.max_columns', 500)\n",
    "pd.set_option('display.width', 1000)\n",
    "import warnings\n",
    "warnings.filterwarnings('ignore')\n",
    "import dask.dataframe as dd"
   ]
  },
  {
   "cell_type": "code",
   "execution_count": 2,
   "metadata": {
    "ExecuteTime": {
     "end_time": "2018-04-26T04:20:12.921994Z",
     "start_time": "2018-04-26T04:17:41.129543Z"
    },
    "collapsed": true
   },
   "outputs": [],
   "source": [
    "df_train = pd.read_csv(\"data/train.csv\")\n",
    "df_test = pd.read_csv(\"data/test.csv\")"
   ]
  },
  {
   "cell_type": "code",
   "execution_count": 2,
   "metadata": {
    "ExecuteTime": {
     "end_time": "2018-04-25T09:54:51.070922Z",
     "start_time": "2018-04-25T09:54:50.838448Z"
    },
    "collapsed": true
   },
   "outputs": [],
   "source": [
    "\n",
    "df_train = dd.read_csv(\"data/train.csv\")\n",
    "df_test = dd.read_csv(\"data/test.csv\")"
   ]
  },
  {
   "cell_type": "code",
   "execution_count": 15,
   "metadata": {
    "ExecuteTime": {
     "end_time": "2018-04-25T10:22:33.105276Z",
     "start_time": "2018-04-25T10:22:33.096815Z"
    }
   },
   "outputs": [
    {
     "data": {
      "text/plain": [
       "Dask Series Structure:\n",
       "npartitions=118\n",
       "    datetime64[ns]\n",
       "               ...\n",
       "         ...      \n",
       "               ...\n",
       "               ...\n",
       "Name: click_time, dtype: datetime64[ns]\n",
       "Dask Name: to_datetime, 590 tasks"
      ]
     },
     "execution_count": 15,
     "metadata": {},
     "output_type": "execute_result"
    },
    {
     "data": {
      "text/plain": [
       "Dask Series Structure:\n",
       "npartitions=14\n",
       "    datetime64[ns]\n",
       "               ...\n",
       "         ...      \n",
       "               ...\n",
       "               ...\n",
       "Name: click_time, dtype: datetime64[ns]\n",
       "Dask Name: to_datetime, 70 tasks"
      ]
     },
     "execution_count": 15,
     "metadata": {},
     "output_type": "execute_result"
    }
   ],
   "source": [
    "# dask version\n",
    "meta = ('click_time', 'datetime64[ns]')\n",
    "df_train.click_time.map_partitions(pd.to_datetime, meta=meta)\n",
    "df_test.click_time.map_partitions(pd.to_datetime, meta=meta)"
   ]
  },
  {
   "cell_type": "code",
   "execution_count": 3,
   "metadata": {
    "ExecuteTime": {
     "end_time": "2018-04-25T10:55:24.040461Z",
     "start_time": "2018-04-25T10:54:51.558301Z"
    },
    "collapsed": true
   },
   "outputs": [],
   "source": [
    "# pandas version\n",
    "df_train['click_time'] = pd.to_datetime(df_train['click_time'])\n",
    "#df_train['attributed_time'] = pd.to_datetime(df_train['attributed_time'])\n",
    "df_test['click_time'] = pd.to_datetime(df_test['click_time'])"
   ]
  },
  {
   "cell_type": "code",
   "execution_count": 4,
   "metadata": {
    "ExecuteTime": {
     "end_time": "2018-04-25T10:57:26.797989Z",
     "start_time": "2018-04-25T10:57:20.126042Z"
    }
   },
   "outputs": [
    {
     "data": {
      "text/plain": [
       "25"
      ]
     },
     "execution_count": 4,
     "metadata": {},
     "output_type": "execute_result"
    }
   ],
   "source": [
    "# pandas version\n",
    "df_train['hour'] = df_train['click_time'].dt.hour\n",
    "df_test['hour'] = df_test['click_time'].dt.hour\n",
    "gc.collect()"
   ]
  },
  {
   "cell_type": "code",
   "execution_count": 6,
   "metadata": {
    "ExecuteTime": {
     "end_time": "2018-04-25T10:59:21.578021Z",
     "start_time": "2018-04-25T10:59:01.429357Z"
    },
    "collapsed": true
   },
   "outputs": [],
   "source": [
    "df_train.drop(axis=1,columns=['attributed_time'],inplace=True)"
   ]
  },
  {
   "cell_type": "code",
   "execution_count": 14,
   "metadata": {
    "ExecuteTime": {
     "end_time": "2018-04-25T11:02:35.588070Z",
     "start_time": "2018-04-25T11:02:32.254779Z"
    },
    "collapsed": true
   },
   "outputs": [],
   "source": [
    "df_train.click_time = df_train.click_time.astype(np.int64)//10**9\n",
    "df_test.click_time = df_test.click_time.astype(np.int64)//10**9"
   ]
  },
  {
   "cell_type": "code",
   "execution_count": 16,
   "metadata": {
    "ExecuteTime": {
     "end_time": "2018-04-25T10:23:28.518848Z",
     "start_time": "2018-04-25T10:22:38.262648Z"
    },
    "collapsed": true
   },
   "outputs": [],
   "source": [
    "# dask version\n",
    "df_train.compute();\n",
    "df_test.compute();"
   ]
  },
  {
   "cell_type": "code",
   "execution_count": null,
   "metadata": {
    "ExecuteTime": {
     "end_time": "2018-04-25T10:52:10.466258Z",
     "start_time": "2018-04-25T10:50:34.575535Z"
    },
    "collapsed": true
   },
   "outputs": [],
   "source": [
    "# dask version\n",
    "\n",
    "dt_col = dd.from_pandas(pd.to_datetime(df_train['click_time'].compute()).dt.hour,npartitions=df_train.npartitions)\n",
    "df_train.assign(hour=dt_col)\n",
    "dt_col = dd.from_pandas(pd.to_datetime(df_test['click_time'].compute()).dt.hour,npartitions=df_test.npartitions)\n",
    "df_test.assign(hour=dt_col)\n",
    "gc.collect()"
   ]
  },
  {
   "cell_type": "code",
   "execution_count": null,
   "metadata": {
    "ExecuteTime": {
     "end_time": "2018-04-25T10:31:03.706286Z",
     "start_time": "2018-04-25T10:29:33.835Z"
    },
    "collapsed": true
   },
   "outputs": [],
   "source": []
  },
  {
   "cell_type": "code",
   "execution_count": 18,
   "metadata": {
    "ExecuteTime": {
     "end_time": "2018-04-25T11:07:52.188889Z",
     "start_time": "2018-04-25T11:05:50.252476Z"
    },
    "collapsed": true
   },
   "outputs": [],
   "source": [
    "df_train.to_hdf('data/train_1.h5',\"table\",mode='w',format='table')\n",
    "df_test.to_hdf('data/test_1.h5',\"table\",mode='w',format='table')"
   ]
  },
  {
   "cell_type": "code",
   "execution_count": null,
   "metadata": {
    "collapsed": true
   },
   "outputs": [],
   "source": []
  }
 ],
 "metadata": {
  "hide_input": false,
  "kernelspec": {
   "display_name": "Python 3",
   "language": "python",
   "name": "python3"
  },
  "language_info": {
   "codemirror_mode": {
    "name": "ipython",
    "version": 3
   },
   "file_extension": ".py",
   "mimetype": "text/x-python",
   "name": "python",
   "nbconvert_exporter": "python",
   "pygments_lexer": "ipython3",
   "version": "3.6.2"
  },
  "toc": {
   "nav_menu": {},
   "number_sections": true,
   "sideBar": true,
   "skip_h1_title": false,
   "toc_cell": false,
   "toc_position": {},
   "toc_section_display": true,
   "toc_window_display": false
  }
 },
 "nbformat": 4,
 "nbformat_minor": 2
}
