{
 "cells": [
  {
   "cell_type": "code",
   "execution_count": 1,
   "metadata": {
    "ExecuteTime": {
     "end_time": "2018-04-26T04:34:31.110204Z",
     "start_time": "2018-04-26T04:34:29.779664Z"
    }
   },
   "outputs": [],
   "source": [
    "import numpy as np # linear algebra\n",
    "import pandas as pd # data processing, CSV file I/O (e.g. pd.read_csv)\n",
    "import matplotlib as mplt\n",
    "import matplotlib.pyplot as plt\n",
    "from sklearn.model_selection import train_test_split\n",
    "from sklearn.metrics import mean_squared_error\n",
    "from IPython.core.interactiveshell import InteractiveShell\n",
    "from sklearn.ensemble import RandomForestRegressor\n",
    "from sklearn.metrics import explained_variance_score\n",
    "from sklearn.preprocessing import LabelEncoder\n",
    "from sklearn.metrics import confusion_matrix\n",
    "from sklearn.model_selection import GridSearchCV\n",
    "import matplotlib.dates as mdates\n",
    "%matplotlib inline\n",
    "import seaborn as sns\n",
    "import math\n",
    "import gc\n",
    "import ipaddress\n",
    "from urllib.parse import urlparse\n",
    "from tldextract import extract\n",
    "from sklearn.metrics import confusion_matrix\n",
    "from sklearn.preprocessing import StandardScaler\n",
    "from sklearn.neural_network import MLPClassifier\n",
    "\n",
    "from data_science_utils import dataframe as df_utils\n",
    "from data_science_utils import models as model_utils\n",
    "from data_science_utils.dataframe import column as column_utils\n",
    "\n",
    "\n",
    "from xgboost import XGBClassifier\n",
    "from sklearn.model_selection import train_test_split\n",
    "from sklearn.metrics import accuracy_score\n",
    "from sklearn.metrics import confusion_matrix,classification_report\n",
    "\n",
    "import lightgbm as lgb\n",
    "\n",
    "np.set_printoptions(threshold=np.nan)\n",
    "\n",
    "\n",
    "\n",
    "plt.rcParams[\"figure.figsize\"] = (24,4)\n",
    "\n",
    "from xgboost import XGBClassifier\n",
    "import xgboost as xgb\n",
    "from sklearn.metrics import accuracy_score\n",
    "import missingno as msno\n",
    "from sklearn.metrics import f1_score\n",
    "from sklearn.metrics import precision_score\n",
    "from sklearn.metrics import recall_score\n",
    "from sklearn.preprocessing import StandardScaler\n",
    "import matplotlib.pyplot as plt\n",
    "from mpl_toolkits.mplot3d import Axes3D\n",
    "from sklearn import datasets\n",
    "from sklearn.decomposition import PCA\n",
    "import datetime\n",
    "from scipy import signal\n",
    "import matplotlib.pyplot as plt\n",
    "from datetime import timedelta\n",
    "from sklearn import linear_model\n",
    "\n",
    "\n",
    "\n",
    "InteractiveShell.ast_node_interactivity = \"all\"\n",
    "pd.set_option('display.max_seq_items', None)\n",
    "pd.set_option('display.height', 1000)\n",
    "pd.set_option('display.max_rows', 500)\n",
    "pd.set_option('display.max_columns', 500)\n",
    "pd.set_option('display.width', 1000)\n",
    "import warnings\n",
    "warnings.filterwarnings('ignore')\n",
    "import dask.dataframe as dd"
   ]
  },
  {
   "cell_type": "code",
   "execution_count": 2,
   "metadata": {
    "ExecuteTime": {
     "end_time": "2018-04-26T04:17:52.158571Z",
     "start_time": "2018-04-26T04:16:04.104955Z"
    }
   },
   "outputs": [
    {
     "data": {
      "text/plain": [
       "217"
      ]
     },
     "execution_count": 2,
     "metadata": {},
     "output_type": "execute_result"
    }
   ],
   "source": [
    "df_train = dd.read_hdf(\"data/train_1.h5\",\"table\")\n",
    "df_train = dd.from_pandas(df_train.compute(),npartitions=64)\n",
    "gc.collect()\n"
   ]
  },
  {
   "cell_type": "code",
   "execution_count": 2,
   "metadata": {
    "ExecuteTime": {
     "end_time": "2018-04-26T04:34:43.224985Z",
     "start_time": "2018-04-26T04:34:34.234264Z"
    }
   },
   "outputs": [
    {
     "data": {
      "text/plain": [
       "51"
      ]
     },
     "execution_count": 2,
     "metadata": {},
     "output_type": "execute_result"
    }
   ],
   "source": [
    "df_train = pd.read_hdf(\"data/train_1.h5\",\"table\")\n",
    "gc.collect()"
   ]
  },
  {
   "cell_type": "code",
   "execution_count": 3,
   "metadata": {
    "ExecuteTime": {
     "end_time": "2018-04-26T04:35:22.712793Z",
     "start_time": "2018-04-26T04:35:13.389253Z"
    }
   },
   "outputs": [
    {
     "data": {
      "text/plain": [
       "0"
      ]
     },
     "execution_count": 3,
     "metadata": {},
     "output_type": "execute_result"
    },
    {
     "data": {
      "text/plain": [
       "184903889"
      ]
     },
     "execution_count": 3,
     "metadata": {},
     "output_type": "execute_result"
    },
    {
     "data": {
      "text/plain": [
       "{0: 0,\n",
       " 20: 36980777,\n",
       " 25: 46225972,\n",
       " 30: 55471166,\n",
       " 45: 83206750,\n",
       " 50: 92451944,\n",
       " 55: 101697138,\n",
       " 70: 129432722,\n",
       " 75: 138677916,\n",
       " 80: 147923111,\n",
       " 100: 184903889}"
      ]
     },
     "execution_count": 3,
     "metadata": {},
     "output_type": "execute_result"
    }
   ],
   "source": [
    "\n",
    "df_train.index.min()\n",
    "df_train.index.max()\n",
    "keys = [0,20,25,30,45,50,55,70,75,80,100]\n",
    "values = np.percentile(df_train.index,keys).astype(int)\n",
    "pcs = dict(zip(keys, values))\n",
    "pcs"
   ]
  },
  {
   "cell_type": "code",
   "execution_count": 7,
   "metadata": {
    "ExecuteTime": {
     "end_time": "2018-04-26T04:38:45.943413Z",
     "start_time": "2018-04-26T04:38:42.569416Z"
    }
   },
   "outputs": [
    {
     "ename": "AttributeError",
     "evalue": "'numpy.int64' object has no attribute 'compute'",
     "output_type": "error",
     "traceback": [
      "\u001b[0;31m---------------------------------------------------------------------------\u001b[0m",
      "\u001b[0;31mAttributeError\u001b[0m                            Traceback (most recent call last)",
      "\u001b[0;32m<ipython-input-7-e536c2786d86>\u001b[0m in \u001b[0;36m<module>\u001b[0;34m()\u001b[0m\n\u001b[1;32m      1\u001b[0m \u001b[0;31m# dask version\u001b[0m\u001b[0;34m\u001b[0m\u001b[0;34m\u001b[0m\u001b[0m\n\u001b[0;32m----> 2\u001b[0;31m \u001b[0mdf_train\u001b[0m\u001b[0;34m.\u001b[0m\u001b[0mindex\u001b[0m\u001b[0;34m.\u001b[0m\u001b[0mmin\u001b[0m\u001b[0;34m(\u001b[0m\u001b[0;34m)\u001b[0m\u001b[0;34m.\u001b[0m\u001b[0mcompute\u001b[0m\u001b[0;34m(\u001b[0m\u001b[0;34m)\u001b[0m\u001b[0;34m\u001b[0m\u001b[0m\n\u001b[0m\u001b[1;32m      3\u001b[0m \u001b[0mdf_train\u001b[0m\u001b[0;34m.\u001b[0m\u001b[0mindex\u001b[0m\u001b[0;34m.\u001b[0m\u001b[0mmax\u001b[0m\u001b[0;34m(\u001b[0m\u001b[0;34m)\u001b[0m\u001b[0;34m.\u001b[0m\u001b[0mcompute\u001b[0m\u001b[0;34m(\u001b[0m\u001b[0;34m)\u001b[0m\u001b[0;34m\u001b[0m\u001b[0m\n\u001b[1;32m      4\u001b[0m \u001b[0mkeys\u001b[0m \u001b[0;34m=\u001b[0m \u001b[0;34m[\u001b[0m\u001b[0;36m0\u001b[0m\u001b[0;34m,\u001b[0m\u001b[0;36m20\u001b[0m\u001b[0;34m,\u001b[0m\u001b[0;36m25\u001b[0m\u001b[0;34m,\u001b[0m\u001b[0;36m30\u001b[0m\u001b[0;34m,\u001b[0m\u001b[0;36m45\u001b[0m\u001b[0;34m,\u001b[0m\u001b[0;36m50\u001b[0m\u001b[0;34m,\u001b[0m\u001b[0;36m55\u001b[0m\u001b[0;34m,\u001b[0m\u001b[0;36m70\u001b[0m\u001b[0;34m,\u001b[0m\u001b[0;36m75\u001b[0m\u001b[0;34m,\u001b[0m\u001b[0;36m80\u001b[0m\u001b[0;34m,\u001b[0m\u001b[0;36m100\u001b[0m\u001b[0;34m]\u001b[0m\u001b[0;34m\u001b[0m\u001b[0m\n\u001b[1;32m      5\u001b[0m \u001b[0mvalues\u001b[0m \u001b[0;34m=\u001b[0m \u001b[0mnp\u001b[0m\u001b[0;34m.\u001b[0m\u001b[0mpercentile\u001b[0m\u001b[0;34m(\u001b[0m\u001b[0mdf_train\u001b[0m\u001b[0;34m.\u001b[0m\u001b[0mindex\u001b[0m\u001b[0;34m,\u001b[0m\u001b[0mkeys\u001b[0m\u001b[0;34m)\u001b[0m\u001b[0;34m.\u001b[0m\u001b[0mastype\u001b[0m\u001b[0;34m(\u001b[0m\u001b[0mint\u001b[0m\u001b[0;34m)\u001b[0m\u001b[0;34m\u001b[0m\u001b[0m\n",
      "\u001b[0;31mAttributeError\u001b[0m: 'numpy.int64' object has no attribute 'compute'"
     ]
    }
   ],
   "source": [
    "# dask version\n",
    "df_train.index.min().compute()\n",
    "df_train.index.max().compute()\n",
    "keys = [0,20,25,30,45,50,55,70,75,80,100]\n",
    "values = np.percentile(df_train.index,keys).astype(int)\n",
    "pcs = dict(zip(keys, values))\n",
    "pcs"
   ]
  },
  {
   "cell_type": "code",
   "execution_count": 8,
   "metadata": {
    "ExecuteTime": {
     "end_time": "2018-04-26T04:44:34.768852Z",
     "start_time": "2018-04-26T04:43:34.389051Z"
    }
   },
   "outputs": [
    {
     "data": {
      "text/plain": [
       "5770"
      ]
     },
     "execution_count": 8,
     "metadata": {},
     "output_type": "execute_result"
    },
    {
     "data": {
      "text/plain": [
       "55471165"
      ]
     },
     "execution_count": 8,
     "metadata": {},
     "output_type": "execute_result"
    },
    {
     "data": {
      "text/plain": [
       "101697137"
      ]
     },
     "execution_count": 8,
     "metadata": {},
     "output_type": "execute_result"
    },
    {
     "data": {
      "text/plain": [
       "147923110"
      ]
     },
     "execution_count": 8,
     "metadata": {},
     "output_type": "execute_result"
    },
    {
     "data": {
      "text/plain": [
       "184903889"
      ]
     },
     "execution_count": 8,
     "metadata": {},
     "output_type": "execute_result"
    },
    {
     "data": {
      "text/plain": [
       "12"
      ]
     },
     "execution_count": 8,
     "metadata": {},
     "output_type": "execute_result"
    },
    {
     "data": {
      "text/plain": [
       "63"
      ]
     },
     "execution_count": 8,
     "metadata": {},
     "output_type": "execute_result"
    }
   ],
   "source": [
    "gc.collect()\n",
    "p1 = df_train[df_train.index<pcs[30]]\n",
    "p1.index.max()\n",
    "p2 = df_train[(df_train.index>pcs[20])&(df_train.index<pcs[55])]\n",
    "p2.index.max()\n",
    "p3 = df_train[(df_train.index>pcs[45])&(df_train.index<pcs[80])]\n",
    "p3.index.max()\n",
    "p4 = df_train[df_train.index>pcs[70]]\n",
    "p4.index.max()\n",
    "\n",
    "df_train = None\n",
    "gc.collect()\n",
    "\n",
    "p1 = dd.from_pandas(p1,npartitions=64)\n",
    "p2 = dd.from_pandas(p2,npartitions=64)\n",
    "p3 = dd.from_pandas(p3,npartitions=64)\n",
    "p4 = dd.from_pandas(p4,npartitions=64)\n",
    "gc.collect()"
   ]
  },
  {
   "cell_type": "code",
   "execution_count": 11,
   "metadata": {
    "ExecuteTime": {
     "end_time": "2018-04-26T04:46:00.040546Z",
     "start_time": "2018-04-26T04:46:00.018229Z"
    }
   },
   "outputs": [],
   "source": [
    "GROUP_BY_NEXT_CLICKS_v0 = [\n",
    "    \n",
    "    # V1\n",
    "    {'groupby': ['ip']}\n",
    "]\n",
    "\n",
    "GROUP_BY_NEXT_CLICKS_v1 = [\n",
    "    \n",
    "    # V1\n",
    "    {'groupby': ['ip']},\n",
    "    {'groupby': ['app']},\n",
    "    {'groupby': ['device']},\n",
    "    {'groupby': ['ip', 'app']},\n",
    "    {'groupby': ['ip', 'channel']},\n",
    "    {'groupby': ['ip', 'os']},\n",
    "    # V3\n",
    "    {'groupby': ['ip', 'app', 'device', 'os', 'channel']},\n",
    "    {'groupby': ['ip', 'os', 'device']},\n",
    "    {'groupby': ['ip', 'os', 'device', 'app']}\n",
    "]\n",
    "\n",
    "GROUP_BY_NEXT_CLICKS_v2 = [\n",
    "    \n",
    "    {'groupby': ['ip','hour']},\n",
    "    {'groupby': ['ip', 'app', 'device', 'os', 'channel','hour']},\n",
    "    {'groupby': ['ip', 'os', 'device','hour']},\n",
    "    {'groupby': ['ip', 'os', 'device', 'app','hour']},\n",
    "    {'groupby': ['ip', 'app','hour']},\n",
    "    {'groupby': ['ip', 'channel','hour']},\n",
    "    {'groupby': ['ip', 'os','hour']},\n",
    "    {'groupby': ['app', 'device', 'os', 'channel']},\n",
    "    {'groupby': ['app', 'device', 'os']},\n",
    "    {'groupby': ['app', 'device', 'os','hour']}\n",
    "]\n",
    "\n",
    "ALL_NEXT_CLICKS = [\n",
    "    \n",
    "    {'groupby': ['ip']},\n",
    "    {'groupby': ['app']},\n",
    "    {'groupby': ['device']},\n",
    "    {'groupby': ['ip', 'app']},\n",
    "    {'groupby': ['ip', 'channel']},\n",
    "    {'groupby': ['ip', 'os']},\n",
    "    # V3\n",
    "    {'groupby': ['ip', 'app', 'device', 'os', 'channel']},\n",
    "    {'groupby': ['ip', 'os', 'device']},\n",
    "    {'groupby': ['ip', 'os', 'device', 'app']},\n",
    "    \n",
    "    {'groupby': ['ip','hour']},\n",
    "    {'groupby': ['ip', 'app', 'device', 'os', 'channel','hour']},\n",
    "    {'groupby': ['ip', 'os', 'device','hour']},\n",
    "    {'groupby': ['ip', 'os', 'device', 'app','hour']},\n",
    "    {'groupby': ['ip', 'app','hour']},\n",
    "    {'groupby': ['ip', 'channel','hour']},\n",
    "    {'groupby': ['ip', 'os','hour']},\n",
    "    {'groupby': ['app', 'device', 'os', 'channel']},\n",
    "    {'groupby': ['app', 'device', 'os']},\n",
    "    {'groupby': ['app', 'device', 'os','hour']}\n",
    "]"
   ]
  },
  {
   "cell_type": "code",
   "execution_count": 12,
   "metadata": {
    "ExecuteTime": {
     "end_time": "2018-04-26T04:46:01.390923Z",
     "start_time": "2018-04-26T04:46:01.040387Z"
    }
   },
   "outputs": [
    {
     "data": {
      "text/html": [
       "<div>\n",
       "<style scoped>\n",
       "    .dataframe tbody tr th:only-of-type {\n",
       "        vertical-align: middle;\n",
       "    }\n",
       "\n",
       "    .dataframe tbody tr th {\n",
       "        vertical-align: top;\n",
       "    }\n",
       "\n",
       "    .dataframe thead th {\n",
       "        text-align: right;\n",
       "    }\n",
       "</style>\n",
       "<table border=\"1\" class=\"dataframe\">\n",
       "  <thead>\n",
       "    <tr style=\"text-align: right;\">\n",
       "      <th></th>\n",
       "      <th>A</th>\n",
       "      <th>B</th>\n",
       "      <th>la</th>\n",
       "      <th>lb</th>\n",
       "    </tr>\n",
       "  </thead>\n",
       "  <tbody>\n",
       "    <tr>\n",
       "      <th>0</th>\n",
       "      <td>1</td>\n",
       "      <td>1</td>\n",
       "      <td>NaN</td>\n",
       "      <td>4.0</td>\n",
       "    </tr>\n",
       "    <tr>\n",
       "      <th>1</th>\n",
       "      <td>1</td>\n",
       "      <td>5</td>\n",
       "      <td>4.0</td>\n",
       "      <td>3.0</td>\n",
       "    </tr>\n",
       "    <tr>\n",
       "      <th>2</th>\n",
       "      <td>1</td>\n",
       "      <td>7</td>\n",
       "      <td>2.0</td>\n",
       "      <td>2.0</td>\n",
       "    </tr>\n",
       "    <tr>\n",
       "      <th>3</th>\n",
       "      <td>2</td>\n",
       "      <td>12</td>\n",
       "      <td>NaN</td>\n",
       "      <td>7.0</td>\n",
       "    </tr>\n",
       "    <tr>\n",
       "      <th>4</th>\n",
       "      <td>2</td>\n",
       "      <td>19</td>\n",
       "      <td>7.0</td>\n",
       "      <td>4.0</td>\n",
       "    </tr>\n",
       "    <tr>\n",
       "      <th>5</th>\n",
       "      <td>2</td>\n",
       "      <td>20</td>\n",
       "      <td>1.0</td>\n",
       "      <td>1.0</td>\n",
       "    </tr>\n",
       "  </tbody>\n",
       "</table>\n",
       "</div>"
      ],
      "text/plain": [
       "   A   B   la   lb\n",
       "0  1   1  NaN  4.0\n",
       "1  1   5  4.0  3.0\n",
       "2  1   7  2.0  2.0\n",
       "3  2  12  NaN  7.0\n",
       "4  2  19  7.0  4.0\n",
       "5  2  20  1.0  1.0"
      ]
     },
     "execution_count": 12,
     "metadata": {},
     "output_type": "execute_result"
    }
   ],
   "source": [
    "# dask test example\n",
    "pdf = pd.DataFrame({\"A\":[1,1,1,2,2,2],\"B\":[1,5,7,12,19,20]})\n",
    "ddf = dd.from_pandas(pdf,npartitions=1)\n",
    "\n",
    "def differ(x):\n",
    "    return x.diff()\n",
    "\n",
    "def grad(x):\n",
    "    if(x.size<=1):\n",
    "        return pd.Series(0,index=x.index)\n",
    "    return pd.Series(np.gradient(x,axis=0),index=x.index)\n",
    "gp = ddf.groupby([\"A\"]).B\n",
    "a=gp.apply(differ).compute()\n",
    "b=gp.apply(grad).compute()\n",
    "\n",
    "\n",
    "\n",
    "ddf['la'] = a\n",
    "ddf['lb'] = b\n",
    "\n",
    "# ddf.assign(la=a).compute()\n",
    "ddf.head(10)"
   ]
  },
  {
   "cell_type": "code",
   "execution_count": 13,
   "metadata": {
    "ExecuteTime": {
     "end_time": "2018-04-26T04:46:04.807276Z",
     "start_time": "2018-04-26T04:46:04.775006Z"
    }
   },
   "outputs": [],
   "source": [
    "\n",
    "\n",
    "def add_time_to_next_click(GROUP_BY_NEXT_CLICKS,df):\n",
    "    gc.collect()\n",
    "    for spec in GROUP_BY_NEXT_CLICKS:\n",
    "        next_click = 'nc_{}'.format('_'.join(spec['groupby']))\n",
    "        grad_click = 'gc_{}'.format('_'.join(spec['groupby']))\n",
    "        all_features = spec['groupby'] + ['click_time']\n",
    "\n",
    "        print(f\"Grouping by {spec['groupby']}, and saving time to next click in: {next_click}\")\n",
    "        # group = df[all_features].groupby(spec['groupby']).click_time  \n",
    "        # gp = group.transform(lambda x: x.diff().shift(-1))\n",
    "        def differ(x):\n",
    "            return x.diff().shift(-1)\n",
    "        \n",
    "        def grad(x):\n",
    "            if(x.size<=1):\n",
    "                return pd.Series(np.nan,index=x.index)\n",
    "            return pd.Series(np.gradient(x,axis=0),index=x.index)\n",
    "        group = df.groupby(spec['groupby']).click_time\n",
    "        gp1 = group.apply(differ).compute()\n",
    "        gp2 = group.apply(grad).compute()\n",
    "        \n",
    "        df[next_click] = gp1\n",
    "        df[grad_click] = gp2\n",
    "        \n",
    "        gp=None\n",
    "        del gp\n",
    "        group = None\n",
    "        del group\n",
    "        gc.collect()\n",
    "    \n"
   ]
  },
  {
   "cell_type": "code",
   "execution_count": null,
   "metadata": {
    "ExecuteTime": {
     "start_time": "2018-04-26T04:47:12.681Z"
    }
   },
   "outputs": [
    {
     "name": "stdout",
     "output_type": "stream",
     "text": [
      "Grouping by ['ip'], and saving time to next click in: nc_ip\n",
      "Grouping by ['app'], and saving time to next click in: nc_app\n",
      "Grouping by ['device'], and saving time to next click in: nc_device\n",
      "Grouping by ['ip', 'app'], and saving time to next click in: nc_ip_app\n",
      "Grouping by ['ip', 'channel'], and saving time to next click in: nc_ip_channel\n",
      "Grouping by ['ip', 'os'], and saving time to next click in: nc_ip_os\n",
      "Grouping by ['ip', 'app', 'device', 'os', 'channel'], and saving time to next click in: nc_ip_app_device_os_channel\n"
     ]
    }
   ],
   "source": [
    "add_time_to_next_click(ALL_NEXT_CLICKS,p1)\n",
    "gc.collect()"
   ]
  },
  {
   "cell_type": "code",
   "execution_count": null,
   "metadata": {
    "ExecuteTime": {
     "start_time": "2018-04-26T04:47:15.498Z"
    }
   },
   "outputs": [],
   "source": [
    "add_time_to_next_click(ALL_NEXT_CLICKS,p2)\n",
    "gc.collect()"
   ]
  },
  {
   "cell_type": "code",
   "execution_count": null,
   "metadata": {
    "ExecuteTime": {
     "start_time": "2018-04-26T04:47:16.000Z"
    }
   },
   "outputs": [],
   "source": [
    "add_time_to_next_click(ALL_NEXT_CLICKS,p3)\n",
    "gc.collect()"
   ]
  },
  {
   "cell_type": "code",
   "execution_count": null,
   "metadata": {
    "ExecuteTime": {
     "start_time": "2018-04-26T04:47:18.340Z"
    }
   },
   "outputs": [],
   "source": [
    "add_time_to_next_click(ALL_NEXT_CLICKS,p4)\n",
    "gc.collect()"
   ]
  },
  {
   "cell_type": "code",
   "execution_count": null,
   "metadata": {},
   "outputs": [],
   "source": []
  },
  {
   "cell_type": "code",
   "execution_count": null,
   "metadata": {},
   "outputs": [],
   "source": []
  },
  {
   "cell_type": "code",
   "execution_count": null,
   "metadata": {
    "ExecuteTime": {
     "start_time": "2018-04-25T13:52:31.215Z"
    }
   },
   "outputs": [],
   "source": [
    "test_df = dd.from_pandas(df_train[df_train.ip==83230].compute(),npartitions=4)\n",
    "test_df.head(20)"
   ]
  },
  {
   "cell_type": "code",
   "execution_count": null,
   "metadata": {
    "ExecuteTime": {
     "start_time": "2018-04-25T13:52:33.938Z"
    }
   },
   "outputs": [],
   "source": [
    "gc.collect()\n",
    "df_train.to_hdf('data/train_2.h5',\"table\",mode='w',format='table')\n",
    "gc.collect()\n",
    "print(\"Train_2.h5 done\")\n",
    "df_utils.count_nulls(df_train)"
   ]
  },
  {
   "cell_type": "code",
   "execution_count": null,
   "metadata": {
    "ExecuteTime": {
     "start_time": "2018-04-25T13:52:34.449Z"
    }
   },
   "outputs": [],
   "source": [
    "df_train.head()\n",
    "df_train = None\n",
    "gc.collect()\n",
    "del df_train\n",
    "test_df = None\n",
    "del test_df\n",
    "gc.collect()"
   ]
  },
  {
   "cell_type": "code",
   "execution_count": null,
   "metadata": {
    "ExecuteTime": {
     "start_time": "2018-04-25T13:52:35.203Z"
    }
   },
   "outputs": [],
   "source": [
    "df_test = pd.read_hdf(\"data/test_1.h5\",\"table\")\n",
    "df_test = dd.from_pandas(df_test.compute(),npartitions=64)\n",
    "gc.collect()"
   ]
  },
  {
   "cell_type": "code",
   "execution_count": null,
   "metadata": {
    "ExecuteTime": {
     "start_time": "2018-04-25T13:52:51.300Z"
    }
   },
   "outputs": [],
   "source": [
    "add_time_to_next_click(GROUP_BY_NEXT_CLICKS_v1,df_test)\n",
    "gc.collect()"
   ]
  },
  {
   "cell_type": "code",
   "execution_count": null,
   "metadata": {
    "ExecuteTime": {
     "start_time": "2018-04-25T13:52:51.818Z"
    }
   },
   "outputs": [],
   "source": [
    "add_time_to_next_click(GROUP_BY_NEXT_CLICKS_v2,df_test)\n",
    "gc.collect()"
   ]
  },
  {
   "cell_type": "code",
   "execution_count": null,
   "metadata": {
    "ExecuteTime": {
     "start_time": "2018-04-25T13:52:53.774Z"
    }
   },
   "outputs": [],
   "source": [
    "gc.collect()\n",
    "df_test.to_hdf('data/test_2.h5',\"table\",mode='w',format='table')\n",
    "gc.collect()\n",
    "print(\"Test_2.h5 done\")"
   ]
  },
  {
   "cell_type": "code",
   "execution_count": null,
   "metadata": {
    "ExecuteTime": {
     "end_time": "2018-04-25T13:35:31.038679Z",
     "start_time": "2018-04-25T13:32:55.760Z"
    }
   },
   "outputs": [],
   "source": [
    "\n",
    "df_test = None\n",
    "gc.collect()\n",
    "del df_test\n",
    "gc.collect()\n"
   ]
  },
  {
   "cell_type": "code",
   "execution_count": 3,
   "metadata": {
    "ExecuteTime": {
     "end_time": "2018-04-25T17:51:45.204857Z",
     "start_time": "2018-04-25T17:50:13.936517Z"
    }
   },
   "outputs": [],
   "source": [
    "df_test = pd.read_hdf(\"data/test_2.h5\",\"table\")"
   ]
  },
  {
   "cell_type": "code",
   "execution_count": 4,
   "metadata": {
    "ExecuteTime": {
     "end_time": "2018-04-25T17:53:30.052568Z",
     "start_time": "2018-04-25T17:53:29.984873Z"
    }
   },
   "outputs": [
    {
     "data": {
      "text/html": [
       "<div>\n",
       "<style scoped>\n",
       "    .dataframe tbody tr th:only-of-type {\n",
       "        vertical-align: middle;\n",
       "    }\n",
       "\n",
       "    .dataframe tbody tr th {\n",
       "        vertical-align: top;\n",
       "    }\n",
       "\n",
       "    .dataframe thead th {\n",
       "        text-align: right;\n",
       "    }\n",
       "</style>\n",
       "<table border=\"1\" class=\"dataframe\">\n",
       "  <thead>\n",
       "    <tr style=\"text-align: right;\">\n",
       "      <th></th>\n",
       "      <th>click_id</th>\n",
       "      <th>ip</th>\n",
       "      <th>app</th>\n",
       "      <th>device</th>\n",
       "      <th>os</th>\n",
       "      <th>channel</th>\n",
       "      <th>click_time</th>\n",
       "      <th>hour</th>\n",
       "      <th>ip_mean_is_attributed</th>\n",
       "      <th>app_mean_is_attributed</th>\n",
       "      <th>device_mean_is_attributed</th>\n",
       "      <th>os_mean_is_attributed</th>\n",
       "      <th>channel_mean_is_attributed</th>\n",
       "      <th>hour_mean_is_attributed</th>\n",
       "      <th>ip_app_mean_is_attributed</th>\n",
       "      <th>ip_hour_mean_is_attributed</th>\n",
       "      <th>ip_device_mean_is_attributed</th>\n",
       "      <th>ip_channel_mean_is_attributed</th>\n",
       "      <th>app_device_mean_is_attributed</th>\n",
       "      <th>app_hour_mean_is_attributed</th>\n",
       "      <th>app_os_mean_is_attributed</th>\n",
       "      <th>app_channel_mean_is_attributed</th>\n",
       "      <th>os_channel_mean_is_attributed</th>\n",
       "      <th>os_hour_mean_is_attributed</th>\n",
       "      <th>device_channel_mean_is_attributed</th>\n",
       "      <th>channel_hour_mean_is_attributed</th>\n",
       "      <th>device_hour_mean_is_attributed</th>\n",
       "      <th>ip_app_device_mean_is_attributed</th>\n",
       "      <th>ip_app_channel_mean_is_attributed</th>\n",
       "      <th>app_device_os_mean_is_attributed</th>\n",
       "      <th>app_channel_os_mean_is_attributed</th>\n",
       "      <th>ip_os_channel_mean_is_attributed</th>\n",
       "      <th>ip_os_hour_mean_is_attributed</th>\n",
       "      <th>ip_app_hour_mean_is_attributed</th>\n",
       "      <th>app_os_hour_mean_is_attributed</th>\n",
       "      <th>ip_device_hour_mean_is_attributed</th>\n",
       "      <th>ip_channel_hour_mean_is_attributed</th>\n",
       "      <th>device_channel_hour_mean_is_attributed</th>\n",
       "      <th>app_channel_hour_mean_is_attributed</th>\n",
       "      <th>os_channel_hour_mean_is_attributed</th>\n",
       "      <th>ip_app_os_var_hour</th>\n",
       "      <th>ip_channel_var_hour</th>\n",
       "      <th>app_device_var_hour</th>\n",
       "      <th>device_os_var_hour</th>\n",
       "      <th>device_var_hour</th>\n",
       "      <th>ip_var_hour</th>\n",
       "      <th>ip_hour_count_is_attributed</th>\n",
       "      <th>ip_app_count_is_attributed</th>\n",
       "      <th>ip_app_os_count_is_attributed</th>\n",
       "      <th>ip_app_hour_count_is_attributed</th>\n",
       "      <th>app_hour_count_is_attributed</th>\n",
       "      <th>ip_device_hour_count_is_attributed</th>\n",
       "      <th>device_hour_count_is_attributed</th>\n",
       "      <th>device_count_is_attributed</th>\n",
       "      <th>os_hour_count_is_attributed</th>\n",
       "      <th>ip_app_channel_mean_hour</th>\n",
       "      <th>ip_app_channel_var_hour</th>\n",
       "      <th>ip_app_channel_count_is_attributed</th>\n",
       "      <th>app_channel_mean_hour</th>\n",
       "      <th>ip_mean_hour</th>\n",
       "      <th>device_app_mean_hour</th>\n",
       "      <th>device_os_mean_hour</th>\n",
       "      <th>app_AvgViewPerDistinct_ip</th>\n",
       "      <th>app_count_is_attributed</th>\n",
       "      <th>channel_count_is_attributed</th>\n",
       "      <th>ip_count_is_attributed</th>\n",
       "      <th>os_count_is_attributed</th>\n",
       "      <th>hour_count_is_attributed</th>\n",
       "      <th>ip_nunique_channel</th>\n",
       "      <th>ip_nunique_app</th>\n",
       "      <th>ip_app_nunique_os</th>\n",
       "      <th>ip_nunique_device</th>\n",
       "      <th>app_nunique_channel</th>\n",
       "      <th>ip_device_os_nunique_app</th>\n",
       "      <th>channel_nunique_ip</th>\n",
       "      <th>app_nunique_ip</th>\n",
       "      <th>hour_nunique_ip</th>\n",
       "      <th>os_app_nunique_ip</th>\n",
       "      <th>device_nunique_ip</th>\n",
       "      <th>channel_nunique_app</th>\n",
       "      <th>app_device_os_nunique_ip</th>\n",
       "      <th>channel_nunique_os</th>\n",
       "      <th>app_nunique_device</th>\n",
       "      <th>hour_nunique_device</th>\n",
       "      <th>os_app_nunique_device</th>\n",
       "      <th>device_nunique_channel</th>\n",
       "      <th>device_nunique_app</th>\n",
       "      <th>device_nunique_os</th>\n",
       "      <th>device_nunique_hour</th>\n",
       "      <th>os_nunique_app</th>\n",
       "      <th>app_nunique_os</th>\n",
       "      <th>app_hour_nunique_ip</th>\n",
       "      <th>device_app_hour_nunique_ip</th>\n",
       "      <th>channel_app_hour_nunique_ip</th>\n",
       "      <th>channel_app_device_hour_nunique_ip</th>\n",
       "      <th>channel_app_device_nunique_ip</th>\n",
       "      <th>channel_app_nunique_ip</th>\n",
       "      <th>device_app_nunique_ip</th>\n",
       "      <th>ip_app_hour_nunique_device</th>\n",
       "      <th>hour_nunique_os</th>\n",
       "      <th>hour_nunique_channel</th>\n",
       "      <th>hour_nunique_app</th>\n",
       "    </tr>\n",
       "  </thead>\n",
       "  <tbody>\n",
       "    <tr>\n",
       "      <th>0</th>\n",
       "      <td>0</td>\n",
       "      <td>5744</td>\n",
       "      <td>9</td>\n",
       "      <td>1</td>\n",
       "      <td>3</td>\n",
       "      <td>107</td>\n",
       "      <td>2017-11-10 04:00:00</td>\n",
       "      <td>4</td>\n",
       "      <td>0.002083</td>\n",
       "      <td>0.003201</td>\n",
       "      <td>0.005663</td>\n",
       "      <td>0.002118</td>\n",
       "      <td>0.001352</td>\n",
       "      <td>0.007074</td>\n",
       "      <td>0.0000</td>\n",
       "      <td>0.000000</td>\n",
       "      <td>0.000000</td>\n",
       "      <td>0.0</td>\n",
       "      <td>0.004558</td>\n",
       "      <td>0.003991</td>\n",
       "      <td>0.001325</td>\n",
       "      <td>0.003346</td>\n",
       "      <td>0.000710</td>\n",
       "      <td>0.002893</td>\n",
       "      <td>0.001955</td>\n",
       "      <td>0.001535</td>\n",
       "      <td>0.007119</td>\n",
       "      <td>0.000000</td>\n",
       "      <td>NaN</td>\n",
       "      <td>0.002076</td>\n",
       "      <td>0.001347</td>\n",
       "      <td>NaN</td>\n",
       "      <td>NaN</td>\n",
       "      <td>NaN</td>\n",
       "      <td>0.003274</td>\n",
       "      <td>0.000000</td>\n",
       "      <td>NaN</td>\n",
       "      <td>0.002505</td>\n",
       "      <td>0.005940</td>\n",
       "      <td>0.001595</td>\n",
       "      <td>NaN</td>\n",
       "      <td>22.900000</td>\n",
       "      <td>38.714799</td>\n",
       "      <td>37.549919</td>\n",
       "      <td>38.257517</td>\n",
       "      <td>20.080148</td>\n",
       "      <td>14.0</td>\n",
       "      <td>23.0</td>\n",
       "      <td>1.0</td>\n",
       "      <td>NaN</td>\n",
       "      <td>247266.0</td>\n",
       "      <td>14.0</td>\n",
       "      <td>3235102.0</td>\n",
       "      <td>52367430.0</td>\n",
       "      <td>52782.0</td>\n",
       "      <td>9.600000</td>\n",
       "      <td>15.300000</td>\n",
       "      <td>5.0</td>\n",
       "      <td>10.802095</td>\n",
       "      <td>6.912458</td>\n",
       "      <td>9.765840</td>\n",
       "      <td>9.180364</td>\n",
       "      <td>43.252015</td>\n",
       "      <td>4941759.0</td>\n",
       "      <td>2540702.0</td>\n",
       "      <td>297.0</td>\n",
       "      <td>871730.0</td>\n",
       "      <td>3374376</td>\n",
       "      <td>67.0</td>\n",
       "      <td>28.0</td>\n",
       "      <td>10.0</td>\n",
       "      <td>4.0</td>\n",
       "      <td>44.0</td>\n",
       "      <td>1.0</td>\n",
       "      <td>92065.0</td>\n",
       "      <td>114255.0</td>\n",
       "      <td>91613</td>\n",
       "      <td>22886.0</td>\n",
       "      <td>208362.0</td>\n",
       "      <td>4.0</td>\n",
       "      <td>22501.0</td>\n",
       "      <td>175.0</td>\n",
       "      <td>6.0</td>\n",
       "      <td>724</td>\n",
       "      <td>3.0</td>\n",
       "      <td>183.0</td>\n",
       "      <td>335.0</td>\n",
       "      <td>479.0</td>\n",
       "      <td>24.0</td>\n",
       "      <td>138.0</td>\n",
       "      <td>211.0</td>\n",
       "      <td>47139.0</td>\n",
       "      <td>46088.0</td>\n",
       "      <td>5447.0</td>\n",
       "      <td>5435.0</td>\n",
       "      <td>38643.0</td>\n",
       "      <td>39341.0</td>\n",
       "      <td>110621.0</td>\n",
       "      <td>NaN</td>\n",
       "      <td>228</td>\n",
       "      <td>178</td>\n",
       "      <td>323</td>\n",
       "    </tr>\n",
       "    <tr>\n",
       "      <th>1</th>\n",
       "      <td>1</td>\n",
       "      <td>119901</td>\n",
       "      <td>9</td>\n",
       "      <td>1</td>\n",
       "      <td>3</td>\n",
       "      <td>466</td>\n",
       "      <td>2017-11-10 04:00:00</td>\n",
       "      <td>4</td>\n",
       "      <td>0.003876</td>\n",
       "      <td>0.003201</td>\n",
       "      <td>0.005663</td>\n",
       "      <td>0.002118</td>\n",
       "      <td>0.002660</td>\n",
       "      <td>0.007074</td>\n",
       "      <td>0.0015</td>\n",
       "      <td>0.000000</td>\n",
       "      <td>0.003996</td>\n",
       "      <td>0.0</td>\n",
       "      <td>0.004558</td>\n",
       "      <td>0.003991</td>\n",
       "      <td>0.001325</td>\n",
       "      <td>0.004041</td>\n",
       "      <td>0.001153</td>\n",
       "      <td>0.002893</td>\n",
       "      <td>0.003753</td>\n",
       "      <td>0.003309</td>\n",
       "      <td>0.007119</td>\n",
       "      <td>0.002256</td>\n",
       "      <td>0.0</td>\n",
       "      <td>0.002076</td>\n",
       "      <td>0.002010</td>\n",
       "      <td>NaN</td>\n",
       "      <td>0.000000</td>\n",
       "      <td>0.0</td>\n",
       "      <td>0.003274</td>\n",
       "      <td>0.000000</td>\n",
       "      <td>NaN</td>\n",
       "      <td>0.005202</td>\n",
       "      <td>0.005779</td>\n",
       "      <td>0.001842</td>\n",
       "      <td>64.857143</td>\n",
       "      <td>30.146331</td>\n",
       "      <td>38.714799</td>\n",
       "      <td>37.549919</td>\n",
       "      <td>38.257517</td>\n",
       "      <td>39.239447</td>\n",
       "      <td>365.0</td>\n",
       "      <td>621.0</td>\n",
       "      <td>8.0</td>\n",
       "      <td>26.0</td>\n",
       "      <td>247266.0</td>\n",
       "      <td>360.0</td>\n",
       "      <td>3235102.0</td>\n",
       "      <td>52367430.0</td>\n",
       "      <td>52782.0</td>\n",
       "      <td>9.438202</td>\n",
       "      <td>28.726251</td>\n",
       "      <td>89.0</td>\n",
       "      <td>9.743601</td>\n",
       "      <td>9.323147</td>\n",
       "      <td>9.765840</td>\n",
       "      <td>9.180364</td>\n",
       "      <td>43.252015</td>\n",
       "      <td>4941759.0</td>\n",
       "      <td>797080.0</td>\n",
       "      <td>6381.0</td>\n",
       "      <td>871730.0</td>\n",
       "      <td>3374376</td>\n",
       "      <td>112.0</td>\n",
       "      <td>56.0</td>\n",
       "      <td>35.0</td>\n",
       "      <td>15.0</td>\n",
       "      <td>44.0</td>\n",
       "      <td>16.0</td>\n",
       "      <td>70962.0</td>\n",
       "      <td>114255.0</td>\n",
       "      <td>91613</td>\n",
       "      <td>22886.0</td>\n",
       "      <td>208362.0</td>\n",
       "      <td>2.0</td>\n",
       "      <td>22501.0</td>\n",
       "      <td>141.0</td>\n",
       "      <td>6.0</td>\n",
       "      <td>724</td>\n",
       "      <td>3.0</td>\n",
       "      <td>183.0</td>\n",
       "      <td>335.0</td>\n",
       "      <td>479.0</td>\n",
       "      <td>24.0</td>\n",
       "      <td>138.0</td>\n",
       "      <td>211.0</td>\n",
       "      <td>47139.0</td>\n",
       "      <td>46088.0</td>\n",
       "      <td>19910.0</td>\n",
       "      <td>19439.0</td>\n",
       "      <td>65566.0</td>\n",
       "      <td>67065.0</td>\n",
       "      <td>110621.0</td>\n",
       "      <td>2.0</td>\n",
       "      <td>228</td>\n",
       "      <td>178</td>\n",
       "      <td>323</td>\n",
       "    </tr>\n",
       "    <tr>\n",
       "      <th>2</th>\n",
       "      <td>2</td>\n",
       "      <td>72287</td>\n",
       "      <td>21</td>\n",
       "      <td>1</td>\n",
       "      <td>19</td>\n",
       "      <td>128</td>\n",
       "      <td>2017-11-10 04:00:00</td>\n",
       "      <td>4</td>\n",
       "      <td>0.003146</td>\n",
       "      <td>0.000313</td>\n",
       "      <td>0.005663</td>\n",
       "      <td>0.005348</td>\n",
       "      <td>0.000470</td>\n",
       "      <td>0.007074</td>\n",
       "      <td>0.0000</td>\n",
       "      <td>0.000000</td>\n",
       "      <td>0.003645</td>\n",
       "      <td>0.0</td>\n",
       "      <td>0.000432</td>\n",
       "      <td>0.000449</td>\n",
       "      <td>0.000281</td>\n",
       "      <td>0.000268</td>\n",
       "      <td>0.000272</td>\n",
       "      <td>0.006425</td>\n",
       "      <td>0.000671</td>\n",
       "      <td>0.001187</td>\n",
       "      <td>0.007119</td>\n",
       "      <td>0.000000</td>\n",
       "      <td>0.0</td>\n",
       "      <td>0.000406</td>\n",
       "      <td>0.000410</td>\n",
       "      <td>0.0</td>\n",
       "      <td>0.000000</td>\n",
       "      <td>0.0</td>\n",
       "      <td>0.000406</td>\n",
       "      <td>0.000000</td>\n",
       "      <td>0.0</td>\n",
       "      <td>0.001855</td>\n",
       "      <td>0.000385</td>\n",
       "      <td>0.000300</td>\n",
       "      <td>60.852853</td>\n",
       "      <td>42.438906</td>\n",
       "      <td>42.264865</td>\n",
       "      <td>38.801223</td>\n",
       "      <td>38.257517</td>\n",
       "      <td>36.797805</td>\n",
       "      <td>316.0</td>\n",
       "      <td>136.0</td>\n",
       "      <td>37.0</td>\n",
       "      <td>7.0</td>\n",
       "      <td>56380.0</td>\n",
       "      <td>314.0</td>\n",
       "      <td>3235102.0</td>\n",
       "      <td>52367430.0</td>\n",
       "      <td>826410.0</td>\n",
       "      <td>8.203883</td>\n",
       "      <td>42.359985</td>\n",
       "      <td>103.0</td>\n",
       "      <td>9.596160</td>\n",
       "      <td>8.534048</td>\n",
       "      <td>9.852313</td>\n",
       "      <td>9.144542</td>\n",
       "      <td>14.286081</td>\n",
       "      <td>1084985.0</td>\n",
       "      <td>810818.0</td>\n",
       "      <td>4009.0</td>\n",
       "      <td>13270664.0</td>\n",
       "      <td>3374376</td>\n",
       "      <td>112.0</td>\n",
       "      <td>49.0</td>\n",
       "      <td>24.0</td>\n",
       "      <td>8.0</td>\n",
       "      <td>7.0</td>\n",
       "      <td>33.0</td>\n",
       "      <td>69328.0</td>\n",
       "      <td>75947.0</td>\n",
       "      <td>91613</td>\n",
       "      <td>47824.0</td>\n",
       "      <td>208362.0</td>\n",
       "      <td>7.0</td>\n",
       "      <td>46488.0</td>\n",
       "      <td>119.0</td>\n",
       "      <td>6.0</td>\n",
       "      <td>724</td>\n",
       "      <td>3.0</td>\n",
       "      <td>183.0</td>\n",
       "      <td>335.0</td>\n",
       "      <td>479.0</td>\n",
       "      <td>24.0</td>\n",
       "      <td>219.0</td>\n",
       "      <td>149.0</td>\n",
       "      <td>23496.0</td>\n",
       "      <td>22568.0</td>\n",
       "      <td>21469.0</td>\n",
       "      <td>20653.0</td>\n",
       "      <td>64421.0</td>\n",
       "      <td>67953.0</td>\n",
       "      <td>71798.0</td>\n",
       "      <td>1.0</td>\n",
       "      <td>228</td>\n",
       "      <td>178</td>\n",
       "      <td>323</td>\n",
       "    </tr>\n",
       "    <tr>\n",
       "      <th>3</th>\n",
       "      <td>3</td>\n",
       "      <td>78477</td>\n",
       "      <td>15</td>\n",
       "      <td>1</td>\n",
       "      <td>13</td>\n",
       "      <td>111</td>\n",
       "      <td>2017-11-10 04:00:00</td>\n",
       "      <td>4</td>\n",
       "      <td>0.004594</td>\n",
       "      <td>0.000602</td>\n",
       "      <td>0.005663</td>\n",
       "      <td>0.004585</td>\n",
       "      <td>0.000506</td>\n",
       "      <td>0.007074</td>\n",
       "      <td>0.0000</td>\n",
       "      <td>0.003733</td>\n",
       "      <td>0.005798</td>\n",
       "      <td>NaN</td>\n",
       "      <td>0.000833</td>\n",
       "      <td>0.000951</td>\n",
       "      <td>0.000665</td>\n",
       "      <td>0.000675</td>\n",
       "      <td>0.000802</td>\n",
       "      <td>0.005428</td>\n",
       "      <td>0.000678</td>\n",
       "      <td>0.000787</td>\n",
       "      <td>0.007119</td>\n",
       "      <td>0.000000</td>\n",
       "      <td>NaN</td>\n",
       "      <td>0.001026</td>\n",
       "      <td>0.001203</td>\n",
       "      <td>NaN</td>\n",
       "      <td>0.017606</td>\n",
       "      <td>0.0</td>\n",
       "      <td>0.001705</td>\n",
       "      <td>0.005599</td>\n",
       "      <td>NaN</td>\n",
       "      <td>0.001184</td>\n",
       "      <td>0.001180</td>\n",
       "      <td>0.000648</td>\n",
       "      <td>35.399825</td>\n",
       "      <td>NaN</td>\n",
       "      <td>42.092160</td>\n",
       "      <td>38.606550</td>\n",
       "      <td>38.257517</td>\n",
       "      <td>34.172758</td>\n",
       "      <td>207.0</td>\n",
       "      <td>249.0</td>\n",
       "      <td>76.0</td>\n",
       "      <td>10.0</td>\n",
       "      <td>276557.0</td>\n",
       "      <td>207.0</td>\n",
       "      <td>3235102.0</td>\n",
       "      <td>52367430.0</td>\n",
       "      <td>728356.0</td>\n",
       "      <td>4.000000</td>\n",
       "      <td>NaN</td>\n",
       "      <td>1.0</td>\n",
       "      <td>9.161697</td>\n",
       "      <td>8.162918</td>\n",
       "      <td>9.895726</td>\n",
       "      <td>9.251221</td>\n",
       "      <td>43.537119</td>\n",
       "      <td>4788996.0</td>\n",
       "      <td>176237.0</td>\n",
       "      <td>3468.0</td>\n",
       "      <td>11953130.0</td>\n",
       "      <td>3374376</td>\n",
       "      <td>115.0</td>\n",
       "      <td>41.0</td>\n",
       "      <td>30.0</td>\n",
       "      <td>8.0</td>\n",
       "      <td>30.0</td>\n",
       "      <td>32.0</td>\n",
       "      <td>42879.0</td>\n",
       "      <td>109998.0</td>\n",
       "      <td>91613</td>\n",
       "      <td>71221.0</td>\n",
       "      <td>208362.0</td>\n",
       "      <td>1.0</td>\n",
       "      <td>70512.0</td>\n",
       "      <td>117.0</td>\n",
       "      <td>6.0</td>\n",
       "      <td>724</td>\n",
       "      <td>3.0</td>\n",
       "      <td>183.0</td>\n",
       "      <td>335.0</td>\n",
       "      <td>479.0</td>\n",
       "      <td>24.0</td>\n",
       "      <td>226.0</td>\n",
       "      <td>185.0</td>\n",
       "      <td>50179.0</td>\n",
       "      <td>49672.0</td>\n",
       "      <td>9010.0</td>\n",
       "      <td>8985.0</td>\n",
       "      <td>42795.0</td>\n",
       "      <td>42879.0</td>\n",
       "      <td>108352.0</td>\n",
       "      <td>1.0</td>\n",
       "      <td>228</td>\n",
       "      <td>178</td>\n",
       "      <td>323</td>\n",
       "    </tr>\n",
       "    <tr>\n",
       "      <th>4</th>\n",
       "      <td>4</td>\n",
       "      <td>123080</td>\n",
       "      <td>12</td>\n",
       "      <td>1</td>\n",
       "      <td>13</td>\n",
       "      <td>328</td>\n",
       "      <td>2017-11-10 04:00:00</td>\n",
       "      <td>4</td>\n",
       "      <td>0.000000</td>\n",
       "      <td>0.000311</td>\n",
       "      <td>0.005663</td>\n",
       "      <td>0.004585</td>\n",
       "      <td>0.000235</td>\n",
       "      <td>0.007074</td>\n",
       "      <td>0.0000</td>\n",
       "      <td>0.000000</td>\n",
       "      <td>0.000000</td>\n",
       "      <td>NaN</td>\n",
       "      <td>0.000437</td>\n",
       "      <td>0.000441</td>\n",
       "      <td>0.000379</td>\n",
       "      <td>0.000314</td>\n",
       "      <td>0.000217</td>\n",
       "      <td>0.005428</td>\n",
       "      <td>0.000316</td>\n",
       "      <td>0.000351</td>\n",
       "      <td>0.007119</td>\n",
       "      <td>0.000000</td>\n",
       "      <td>NaN</td>\n",
       "      <td>0.000596</td>\n",
       "      <td>0.000326</td>\n",
       "      <td>NaN</td>\n",
       "      <td>NaN</td>\n",
       "      <td>NaN</td>\n",
       "      <td>0.000657</td>\n",
       "      <td>0.000000</td>\n",
       "      <td>NaN</td>\n",
       "      <td>0.000530</td>\n",
       "      <td>0.000527</td>\n",
       "      <td>0.000251</td>\n",
       "      <td>26.027473</td>\n",
       "      <td>3.000000</td>\n",
       "      <td>38.086116</td>\n",
       "      <td>38.606550</td>\n",
       "      <td>38.257517</td>\n",
       "      <td>42.151322</td>\n",
       "      <td>22.0</td>\n",
       "      <td>58.0</td>\n",
       "      <td>14.0</td>\n",
       "      <td>3.0</td>\n",
       "      <td>402053.0</td>\n",
       "      <td>22.0</td>\n",
       "      <td>3235102.0</td>\n",
       "      <td>52367430.0</td>\n",
       "      <td>728356.0</td>\n",
       "      <td>7.000000</td>\n",
       "      <td>3.000000</td>\n",
       "      <td>3.0</td>\n",
       "      <td>9.428733</td>\n",
       "      <td>9.901554</td>\n",
       "      <td>9.440189</td>\n",
       "      <td>9.251221</td>\n",
       "      <td>57.670296</td>\n",
       "      <td>7257057.0</td>\n",
       "      <td>549025.0</td>\n",
       "      <td>386.0</td>\n",
       "      <td>11953130.0</td>\n",
       "      <td>3374376</td>\n",
       "      <td>70.0</td>\n",
       "      <td>25.0</td>\n",
       "      <td>16.0</td>\n",
       "      <td>1.0</td>\n",
       "      <td>32.0</td>\n",
       "      <td>14.0</td>\n",
       "      <td>55419.0</td>\n",
       "      <td>125837.0</td>\n",
       "      <td>91613</td>\n",
       "      <td>80045.0</td>\n",
       "      <td>208362.0</td>\n",
       "      <td>1.0</td>\n",
       "      <td>78492.0</td>\n",
       "      <td>119.0</td>\n",
       "      <td>6.0</td>\n",
       "      <td>724</td>\n",
       "      <td>3.0</td>\n",
       "      <td>183.0</td>\n",
       "      <td>335.0</td>\n",
       "      <td>479.0</td>\n",
       "      <td>24.0</td>\n",
       "      <td>226.0</td>\n",
       "      <td>250.0</td>\n",
       "      <td>57012.0</td>\n",
       "      <td>56130.0</td>\n",
       "      <td>15523.0</td>\n",
       "      <td>15473.0</td>\n",
       "      <td>55263.0</td>\n",
       "      <td>55419.0</td>\n",
       "      <td>123036.0</td>\n",
       "      <td>1.0</td>\n",
       "      <td>228</td>\n",
       "      <td>178</td>\n",
       "      <td>323</td>\n",
       "    </tr>\n",
       "  </tbody>\n",
       "</table>\n",
       "</div>"
      ],
      "text/plain": [
       "   click_id      ip  app  device  os  channel          click_time  hour  ip_mean_is_attributed  app_mean_is_attributed  device_mean_is_attributed  os_mean_is_attributed  channel_mean_is_attributed  hour_mean_is_attributed  ip_app_mean_is_attributed  ip_hour_mean_is_attributed  ip_device_mean_is_attributed  ip_channel_mean_is_attributed  app_device_mean_is_attributed  app_hour_mean_is_attributed  app_os_mean_is_attributed  app_channel_mean_is_attributed  os_channel_mean_is_attributed  os_hour_mean_is_attributed  device_channel_mean_is_attributed  channel_hour_mean_is_attributed  device_hour_mean_is_attributed  ip_app_device_mean_is_attributed  ip_app_channel_mean_is_attributed  app_device_os_mean_is_attributed  app_channel_os_mean_is_attributed  ip_os_channel_mean_is_attributed  ip_os_hour_mean_is_attributed  ip_app_hour_mean_is_attributed  app_os_hour_mean_is_attributed  ip_device_hour_mean_is_attributed  ip_channel_hour_mean_is_attributed  device_channel_hour_mean_is_attributed  \\\n",
       "0         0    5744    9       1   3      107 2017-11-10 04:00:00     4               0.002083                0.003201                   0.005663               0.002118                    0.001352                 0.007074                     0.0000                    0.000000                      0.000000                            0.0                       0.004558                     0.003991                   0.001325                        0.003346                       0.000710                    0.002893                           0.001955                         0.001535                        0.007119                          0.000000                                NaN                          0.002076                           0.001347                               NaN                            NaN                             NaN                        0.003274                           0.000000                                 NaN                                0.002505   \n",
       "1         1  119901    9       1   3      466 2017-11-10 04:00:00     4               0.003876                0.003201                   0.005663               0.002118                    0.002660                 0.007074                     0.0015                    0.000000                      0.003996                            0.0                       0.004558                     0.003991                   0.001325                        0.004041                       0.001153                    0.002893                           0.003753                         0.003309                        0.007119                          0.002256                                0.0                          0.002076                           0.002010                               NaN                       0.000000                             0.0                        0.003274                           0.000000                                 NaN                                0.005202   \n",
       "2         2   72287   21       1  19      128 2017-11-10 04:00:00     4               0.003146                0.000313                   0.005663               0.005348                    0.000470                 0.007074                     0.0000                    0.000000                      0.003645                            0.0                       0.000432                     0.000449                   0.000281                        0.000268                       0.000272                    0.006425                           0.000671                         0.001187                        0.007119                          0.000000                                0.0                          0.000406                           0.000410                               0.0                       0.000000                             0.0                        0.000406                           0.000000                                 0.0                                0.001855   \n",
       "3         3   78477   15       1  13      111 2017-11-10 04:00:00     4               0.004594                0.000602                   0.005663               0.004585                    0.000506                 0.007074                     0.0000                    0.003733                      0.005798                            NaN                       0.000833                     0.000951                   0.000665                        0.000675                       0.000802                    0.005428                           0.000678                         0.000787                        0.007119                          0.000000                                NaN                          0.001026                           0.001203                               NaN                       0.017606                             0.0                        0.001705                           0.005599                                 NaN                                0.001184   \n",
       "4         4  123080   12       1  13      328 2017-11-10 04:00:00     4               0.000000                0.000311                   0.005663               0.004585                    0.000235                 0.007074                     0.0000                    0.000000                      0.000000                            NaN                       0.000437                     0.000441                   0.000379                        0.000314                       0.000217                    0.005428                           0.000316                         0.000351                        0.007119                          0.000000                                NaN                          0.000596                           0.000326                               NaN                            NaN                             NaN                        0.000657                           0.000000                                 NaN                                0.000530   \n",
       "\n",
       "   app_channel_hour_mean_is_attributed  os_channel_hour_mean_is_attributed  ip_app_os_var_hour  ip_channel_var_hour  app_device_var_hour  device_os_var_hour  device_var_hour  ip_var_hour  ip_hour_count_is_attributed  ip_app_count_is_attributed  ip_app_os_count_is_attributed  ip_app_hour_count_is_attributed  app_hour_count_is_attributed  ip_device_hour_count_is_attributed  device_hour_count_is_attributed  device_count_is_attributed  os_hour_count_is_attributed  ip_app_channel_mean_hour  ip_app_channel_var_hour  ip_app_channel_count_is_attributed  app_channel_mean_hour  ip_mean_hour  device_app_mean_hour  device_os_mean_hour  app_AvgViewPerDistinct_ip  app_count_is_attributed  channel_count_is_attributed  ip_count_is_attributed  os_count_is_attributed  hour_count_is_attributed  ip_nunique_channel  ip_nunique_app  ip_app_nunique_os  ip_nunique_device  app_nunique_channel  ip_device_os_nunique_app  channel_nunique_ip  app_nunique_ip  hour_nunique_ip  os_app_nunique_ip  device_nunique_ip  \\\n",
       "0                             0.005940                            0.001595                 NaN            22.900000            38.714799           37.549919        38.257517    20.080148                         14.0                        23.0                            1.0                              NaN                      247266.0                                14.0                        3235102.0                  52367430.0                      52782.0                  9.600000                15.300000                                 5.0              10.802095      6.912458              9.765840             9.180364                  43.252015                4941759.0                    2540702.0                   297.0                871730.0                   3374376                67.0            28.0               10.0                4.0                 44.0                       1.0             92065.0        114255.0            91613            22886.0           208362.0   \n",
       "1                             0.005779                            0.001842           64.857143            30.146331            38.714799           37.549919        38.257517    39.239447                        365.0                       621.0                            8.0                             26.0                      247266.0                               360.0                        3235102.0                  52367430.0                      52782.0                  9.438202                28.726251                                89.0               9.743601      9.323147              9.765840             9.180364                  43.252015                4941759.0                     797080.0                  6381.0                871730.0                   3374376               112.0            56.0               35.0               15.0                 44.0                      16.0             70962.0        114255.0            91613            22886.0           208362.0   \n",
       "2                             0.000385                            0.000300           60.852853            42.438906            42.264865           38.801223        38.257517    36.797805                        316.0                       136.0                           37.0                              7.0                       56380.0                               314.0                        3235102.0                  52367430.0                     826410.0                  8.203883                42.359985                               103.0               9.596160      8.534048              9.852313             9.144542                  14.286081                1084985.0                     810818.0                  4009.0              13270664.0                   3374376               112.0            49.0               24.0                8.0                  7.0                      33.0             69328.0         75947.0            91613            47824.0           208362.0   \n",
       "3                             0.001180                            0.000648           35.399825                  NaN            42.092160           38.606550        38.257517    34.172758                        207.0                       249.0                           76.0                             10.0                      276557.0                               207.0                        3235102.0                  52367430.0                     728356.0                  4.000000                      NaN                                 1.0               9.161697      8.162918              9.895726             9.251221                  43.537119                4788996.0                     176237.0                  3468.0              11953130.0                   3374376               115.0            41.0               30.0                8.0                 30.0                      32.0             42879.0        109998.0            91613            71221.0           208362.0   \n",
       "4                             0.000527                            0.000251           26.027473             3.000000            38.086116           38.606550        38.257517    42.151322                         22.0                        58.0                           14.0                              3.0                      402053.0                                22.0                        3235102.0                  52367430.0                     728356.0                  7.000000                 3.000000                                 3.0               9.428733      9.901554              9.440189             9.251221                  57.670296                7257057.0                     549025.0                   386.0              11953130.0                   3374376                70.0            25.0               16.0                1.0                 32.0                      14.0             55419.0        125837.0            91613            80045.0           208362.0   \n",
       "\n",
       "   channel_nunique_app  app_device_os_nunique_ip  channel_nunique_os  app_nunique_device  hour_nunique_device  os_app_nunique_device  device_nunique_channel  device_nunique_app  device_nunique_os  device_nunique_hour  os_nunique_app  app_nunique_os  app_hour_nunique_ip  device_app_hour_nunique_ip  channel_app_hour_nunique_ip  channel_app_device_hour_nunique_ip  channel_app_device_nunique_ip  channel_app_nunique_ip  device_app_nunique_ip  ip_app_hour_nunique_device  hour_nunique_os  hour_nunique_channel  hour_nunique_app  \n",
       "0                  4.0                   22501.0               175.0                 6.0                  724                    3.0                   183.0               335.0              479.0                 24.0           138.0           211.0              47139.0                     46088.0                       5447.0                              5435.0                        38643.0                 39341.0               110621.0                         NaN              228                   178               323  \n",
       "1                  2.0                   22501.0               141.0                 6.0                  724                    3.0                   183.0               335.0              479.0                 24.0           138.0           211.0              47139.0                     46088.0                      19910.0                             19439.0                        65566.0                 67065.0               110621.0                         2.0              228                   178               323  \n",
       "2                  7.0                   46488.0               119.0                 6.0                  724                    3.0                   183.0               335.0              479.0                 24.0           219.0           149.0              23496.0                     22568.0                      21469.0                             20653.0                        64421.0                 67953.0                71798.0                         1.0              228                   178               323  \n",
       "3                  1.0                   70512.0               117.0                 6.0                  724                    3.0                   183.0               335.0              479.0                 24.0           226.0           185.0              50179.0                     49672.0                       9010.0                              8985.0                        42795.0                 42879.0               108352.0                         1.0              228                   178               323  \n",
       "4                  1.0                   78492.0               119.0                 6.0                  724                    3.0                   183.0               335.0              479.0                 24.0           226.0           250.0              57012.0                     56130.0                      15523.0                             15473.0                        55263.0                 55419.0               123036.0                         1.0              228                   178               323  "
      ]
     },
     "execution_count": 4,
     "metadata": {},
     "output_type": "execute_result"
    }
   ],
   "source": [
    "df_test.head()"
   ]
  },
  {
   "cell_type": "code",
   "execution_count": null,
   "metadata": {},
   "outputs": [],
   "source": []
  }
 ],
 "metadata": {
  "hide_input": false,
  "kernelspec": {
   "display_name": "Python 3",
   "language": "python",
   "name": "python3"
  },
  "language_info": {
   "codemirror_mode": {
    "name": "ipython",
    "version": 3
   },
   "file_extension": ".py",
   "mimetype": "text/x-python",
   "name": "python",
   "nbconvert_exporter": "python",
   "pygments_lexer": "ipython3",
   "version": "3.6.4"
  },
  "toc": {
   "base_numbering": 1,
   "nav_menu": {},
   "number_sections": true,
   "sideBar": true,
   "skip_h1_title": false,
   "title_cell": "Table of Contents",
   "title_sidebar": "Contents",
   "toc_cell": false,
   "toc_position": {},
   "toc_section_display": true,
   "toc_window_display": false
  }
 },
 "nbformat": 4,
 "nbformat_minor": 2
}
