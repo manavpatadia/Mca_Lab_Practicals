{
 "cells": [
  {
   "cell_type": "code",
   "execution_count": 4,
   "metadata": {
    "ExecuteTime": {
     "end_time": "2017-05-21T21:59:27.728273Z",
     "start_time": "2017-05-21T21:59:27.481619Z"
    },
    "collapsed": true
   },
   "outputs": [
    {
     "name": "stdout",
     "output_type": "stream",
     "text": [
      "/\n",
      "/Users/z002pck\n"
     ]
    },
    {
     "ename": "ModuleNotFoundError",
     "evalue": "No module named 'util'",
     "output_type": "error",
     "traceback": [
      "\u001b[0;31m---------------------------------------------------------------------------\u001b[0m",
      "\u001b[0;31mModuleNotFoundError\u001b[0m                       Traceback (most recent call last)",
      "\u001b[0;32m<ipython-input-4-db32f2406dc2>\u001b[0m in \u001b[0;36m<module>\u001b[0;34m()\u001b[0m\n\u001b[1;32m     16\u001b[0m \u001b[0msys\u001b[0m\u001b[0;34m.\u001b[0m\u001b[0mpath\u001b[0m\u001b[0;34m.\u001b[0m\u001b[0minsert\u001b[0m\u001b[0;34m(\u001b[0m\u001b[0;36m0\u001b[0m\u001b[0;34m,\u001b[0m \u001b[0mstr\u001b[0m\u001b[0;34m(\u001b[0m\u001b[0md\u001b[0m\u001b[0;34m)\u001b[0m\u001b[0;34m)\u001b[0m\u001b[0;34m\u001b[0m\u001b[0m\n\u001b[1;32m     17\u001b[0m \u001b[0;34m\u001b[0m\u001b[0m\n\u001b[0;32m---> 18\u001b[0;31m \u001b[0;32mimport\u001b[0m \u001b[0mutil\u001b[0m\u001b[0;34m.\u001b[0m\u001b[0mutils\u001b[0m \u001b[0;32mas\u001b[0m \u001b[0mutils\u001b[0m\u001b[0;34m\u001b[0m\u001b[0m\n\u001b[0m\u001b[1;32m     19\u001b[0m \u001b[0;34m\u001b[0m\u001b[0m\n\u001b[1;32m     20\u001b[0m \u001b[0;32mfrom\u001b[0m \u001b[0msklearn\u001b[0m\u001b[0;34m.\u001b[0m\u001b[0mlinear_model\u001b[0m \u001b[0;32mimport\u001b[0m \u001b[0mLogisticRegression\u001b[0m\u001b[0;34m\u001b[0m\u001b[0m\n",
      "\u001b[0;31mModuleNotFoundError\u001b[0m: No module named 'util'"
     ]
    }
   ],
   "source": [
    "import numpy as np # linear algebra\n",
    "import pandas as pd # data processing, CSV file I/O (e.g. pd.read_csv)\n",
    "import matplotlib as mplt\n",
    "import matplotlib.pyplot as plt\n",
    "from sklearn.metrics import roc_auc_score\n",
    "from sklearn.model_selection import train_test_split\n",
    "from sklearn import linear_model\n",
    "from sklearn.metrics import mean_squared_error\n",
    "from scipy import stats\n",
    "\n",
    "import sys\n",
    "from pathlib import Path\n",
    "d = Path().resolve().parent.parent\n",
    "print(d)\n",
    "print(Path().resolve())\n",
    "sys.path.insert(0, str(d))\n",
    "\n",
    "import util.utils as utils\n",
    "\n",
    "from sklearn.linear_model import LogisticRegression\n",
    "from IPython.core.interactiveshell import InteractiveShell\n",
    "InteractiveShell.ast_node_interactivity = \"all\""
   ]
  },
  {
   "cell_type": "code",
   "execution_count": 224,
   "metadata": {
    "ExecuteTime": {
     "end_time": "2017-05-21T21:59:39.829562Z",
     "start_time": "2017-05-21T21:59:29.761386Z"
    }
   },
   "outputs": [
    {
     "data": {
      "text/plain": [
       "(30471, 292)"
      ]
     },
     "execution_count": 224,
     "metadata": {},
     "output_type": "execute_result"
    }
   ],
   "source": [
    "df = pd.read_csv(\"../data/sherbank-housing/train.csv\")\n",
    "df.shape"
   ]
  },
  {
   "cell_type": "code",
   "execution_count": 229,
   "metadata": {
    "ExecuteTime": {
     "end_time": "2017-05-21T22:07:19.697125Z",
     "start_time": "2017-05-21T22:07:19.677067Z"
    },
    "collapsed": true
   },
   "outputs": [],
   "source": [
    "cols = [\"id\",\"life_sq\",\"full_sq\",\"build_year\",\"num_room\",\"timestamp\",\"price_doc\"]\n",
    "nearby_features = [\"office\"]\n",
    "prediction_cols = [\"life_sq\",\"build_year\",\"num_room\",\"transaction_year\",\"log_life_sq\"]"
   ]
  },
  {
   "cell_type": "markdown",
   "metadata": {},
   "source": [
    "## Improving Features\n"
   ]
  },
  {
   "cell_type": "markdown",
   "metadata": {},
   "source": [
    "### Drop Bad Rows From Training Set"
   ]
  },
  {
   "cell_type": "code",
   "execution_count": 230,
   "metadata": {
    "ExecuteTime": {
     "end_time": "2017-05-21T22:07:24.568358Z",
     "start_time": "2017-05-21T22:07:24.206399Z"
    }
   },
   "outputs": [
    {
     "data": {
      "text/html": [
       "<div>\n",
       "<table border=\"1\" class=\"dataframe\">\n",
       "  <thead>\n",
       "    <tr style=\"text-align: right;\">\n",
       "      <th></th>\n",
       "      <th>id</th>\n",
       "      <th>timestamp</th>\n",
       "      <th>full_sq</th>\n",
       "      <th>life_sq</th>\n",
       "      <th>floor</th>\n",
       "      <th>max_floor</th>\n",
       "      <th>material</th>\n",
       "      <th>build_year</th>\n",
       "      <th>num_room</th>\n",
       "      <th>kitch_sq</th>\n",
       "      <th>...</th>\n",
       "      <th>cafe_count_5000_price_2500</th>\n",
       "      <th>cafe_count_5000_price_4000</th>\n",
       "      <th>cafe_count_5000_price_high</th>\n",
       "      <th>big_church_count_5000</th>\n",
       "      <th>church_count_5000</th>\n",
       "      <th>mosque_count_5000</th>\n",
       "      <th>leisure_count_5000</th>\n",
       "      <th>sport_count_5000</th>\n",
       "      <th>market_count_5000</th>\n",
       "      <th>price_doc</th>\n",
       "    </tr>\n",
       "  </thead>\n",
       "  <tbody>\n",
       "    <tr>\n",
       "      <th>17932</th>\n",
       "      <td>17935</td>\n",
       "      <td>2014-04-28</td>\n",
       "      <td>0</td>\n",
       "      <td>0.0</td>\n",
       "      <td>0.0</td>\n",
       "      <td>0.0</td>\n",
       "      <td>1.0</td>\n",
       "      <td>0.0</td>\n",
       "      <td>0.0</td>\n",
       "      <td>0.0</td>\n",
       "      <td>...</td>\n",
       "      <td>0</td>\n",
       "      <td>0</td>\n",
       "      <td>0</td>\n",
       "      <td>1</td>\n",
       "      <td>7</td>\n",
       "      <td>1</td>\n",
       "      <td>0</td>\n",
       "      <td>12</td>\n",
       "      <td>1</td>\n",
       "      <td>4425000</td>\n",
       "    </tr>\n",
       "  </tbody>\n",
       "</table>\n",
       "<p>1 rows × 292 columns</p>\n",
       "</div>"
      ],
      "text/plain": [
       "          id   timestamp  full_sq  life_sq  floor  max_floor  material  \\\n",
       "17932  17935  2014-04-28        0      0.0    0.0        0.0       1.0   \n",
       "\n",
       "       build_year  num_room  kitch_sq    ...      cafe_count_5000_price_2500  \\\n",
       "17932         0.0       0.0       0.0    ...                               0   \n",
       "\n",
       "      cafe_count_5000_price_4000 cafe_count_5000_price_high  \\\n",
       "17932                          0                          0   \n",
       "\n",
       "       big_church_count_5000  church_count_5000  mosque_count_5000  \\\n",
       "17932                      1                  7                  1   \n",
       "\n",
       "       leisure_count_5000  sport_count_5000  market_count_5000  price_doc  \n",
       "17932                   0                12                  1    4425000  \n",
       "\n",
       "[1 rows x 292 columns]"
      ]
     },
     "execution_count": 230,
     "metadata": {},
     "output_type": "execute_result"
    },
    {
     "data": {
      "text/html": [
       "<div>\n",
       "<table border=\"1\" class=\"dataframe\">\n",
       "  <thead>\n",
       "    <tr style=\"text-align: right;\">\n",
       "      <th></th>\n",
       "      <th>id</th>\n",
       "      <th>timestamp</th>\n",
       "      <th>full_sq</th>\n",
       "      <th>life_sq</th>\n",
       "      <th>floor</th>\n",
       "      <th>max_floor</th>\n",
       "      <th>material</th>\n",
       "      <th>build_year</th>\n",
       "      <th>num_room</th>\n",
       "      <th>kitch_sq</th>\n",
       "      <th>...</th>\n",
       "      <th>cafe_count_5000_price_2500</th>\n",
       "      <th>cafe_count_5000_price_4000</th>\n",
       "      <th>cafe_count_5000_price_high</th>\n",
       "      <th>big_church_count_5000</th>\n",
       "      <th>church_count_5000</th>\n",
       "      <th>mosque_count_5000</th>\n",
       "      <th>leisure_count_5000</th>\n",
       "      <th>sport_count_5000</th>\n",
       "      <th>market_count_5000</th>\n",
       "      <th>price_doc</th>\n",
       "    </tr>\n",
       "  </thead>\n",
       "  <tbody>\n",
       "    <tr>\n",
       "      <th>6112</th>\n",
       "      <td>6115</td>\n",
       "      <td>2013-02-22</td>\n",
       "      <td>6</td>\n",
       "      <td>NaN</td>\n",
       "      <td>3.0</td>\n",
       "      <td>NaN</td>\n",
       "      <td>NaN</td>\n",
       "      <td>NaN</td>\n",
       "      <td>NaN</td>\n",
       "      <td>NaN</td>\n",
       "      <td>...</td>\n",
       "      <td>0</td>\n",
       "      <td>0</td>\n",
       "      <td>0</td>\n",
       "      <td>1</td>\n",
       "      <td>7</td>\n",
       "      <td>1</td>\n",
       "      <td>0</td>\n",
       "      <td>12</td>\n",
       "      <td>1</td>\n",
       "      <td>5177040</td>\n",
       "    </tr>\n",
       "  </tbody>\n",
       "</table>\n",
       "<p>1 rows × 292 columns</p>\n",
       "</div>"
      ],
      "text/plain": [
       "        id   timestamp  full_sq  life_sq  floor  max_floor  material  \\\n",
       "6112  6115  2013-02-22        6      NaN    3.0        NaN       NaN   \n",
       "\n",
       "      build_year  num_room  kitch_sq    ...      cafe_count_5000_price_2500  \\\n",
       "6112         NaN       NaN       NaN    ...                               0   \n",
       "\n",
       "     cafe_count_5000_price_4000 cafe_count_5000_price_high  \\\n",
       "6112                          0                          0   \n",
       "\n",
       "      big_church_count_5000  church_count_5000  mosque_count_5000  \\\n",
       "6112                      1                  7                  1   \n",
       "\n",
       "      leisure_count_5000  sport_count_5000  market_count_5000  price_doc  \n",
       "6112                   0                12                  1    5177040  \n",
       "\n",
       "[1 rows x 292 columns]"
      ]
     },
     "execution_count": 230,
     "metadata": {},
     "output_type": "execute_result"
    }
   ],
   "source": [
    "#df[(pd.isnull(df[\"life_sq\"]) | df[\"life_sq\"]==0) & (pd.isnull(df[\"full_sq\"]) | df[\"full_sq\"]==0)].head(100)\n",
    "df[df[\"id\"]==17935]\n",
    "df[df[\"id\"]==6115]"
   ]
  },
  {
   "cell_type": "code",
   "execution_count": 231,
   "metadata": {
    "ExecuteTime": {
     "end_time": "2017-05-21T22:07:27.536100Z",
     "start_time": "2017-05-21T22:07:27.076575Z"
    }
   },
   "outputs": [],
   "source": [
    "df.drop(df.index[[6115,17932]], inplace=True)\n",
    "# df.dropna(thresh=5)\n",
    "# df[df[\"life_sq\"]==0].head()\n",
    "# df[df[\"life_sq\"]==0].head()"
   ]
  },
  {
   "cell_type": "markdown",
   "metadata": {},
   "source": [
    "\n",
    "### Process missing Values - Impute\n",
    "- [Pandas link](http://pandas.pydata.org/pandas-docs/stable/missing_data.html)\n",
    "- [Sklearn Imputer with pipeline](http://scikit-learn.org/stable/auto_examples/missing_values.html)\n",
    "- [Checking nans SO](http://stackoverflow.com/questions/34779961/scikit-learn-error-in-fitting-model-input-contains-nan-infinity-or-a-value)\n",
    "- [Replacing missing values fillna pandas](http://stackoverflow.com/questions/29177498/python-pandas-replace-nan-in-one-column-with-value-from-corresponding-row-of-sec)"
   ]
  },
  {
   "cell_type": "code",
   "execution_count": 232,
   "metadata": {
    "ExecuteTime": {
     "end_time": "2017-05-21T22:09:02.729056Z",
     "start_time": "2017-05-21T22:08:39.978157Z"
    },
    "code_folding": []
   },
   "outputs": [],
   "source": [
    "def lowValueReplacer(df_features):\n",
    "    df_features.loc[df_features.life_sq <= 10, 'life_sq'] = df_features.num_room * 10\n",
    "    df_features.loc[df_features.life_sq <= 10, 'life_sq'] = df_features.full_sq.shift(0)\n",
    "    return df_features\n",
    "    \n",
    "def zeroReplacerWithNan(df_features):\n",
    "    df_features[\"life_sq\"].replace(0,np.nan,inplace=True)\n",
    "    return df_features\n",
    "\n",
    "def imputer(df_features):\n",
    "    df_features = zeroReplacerWithNan(df_features)\n",
    "    df_features[\"life_sq\"].fillna(df_features[\"full_sq\"]-0.4*df_features[\"full_sq\"],inplace=True)\n",
    "    df_features = lowValueReplacer(df_features)\n",
    "    df_features[\"num_room\"].fillna(df_features[\"life_sq\"]/14,inplace=True)\n",
    "    df_features = df_features.fillna(df_features.median())\n",
    "    return df_features\n",
    "\n",
    "df = imputer(df)\n",
    "\n",
    "\n",
    "\n",
    "\n",
    "\n",
    "\n",
    "# df_features.mean()"
   ]
  },
  {
   "cell_type": "markdown",
   "metadata": {},
   "source": [
    "### Outlier Removal\n",
    "\n",
    "- [Quantile based removal - SO](http://stackoverflow.com/questions/35827863/remove-outliers-in-pandas-dataframe-using-percentiles)\n",
    "- [Remove all rows based on STD](http://stackoverflow.com/questions/23199796/detect-and-exclude-outliers-in-pandas-dataframe)"
   ]
  },
  {
   "cell_type": "code",
   "execution_count": 242,
   "metadata": {
    "ExecuteTime": {
     "end_time": "2017-05-21T22:18:33.638475Z",
     "start_time": "2017-05-21T22:18:32.941253Z"
    },
    "collapsed": true
   },
   "outputs": [],
   "source": [
    "def oulierRemover(df_features):\n",
    "    df_features[np.abs(df_features.life_sq-df_features.life_sq.mean())<=1000]\n",
    "    return df_features\n",
    "\n",
    "## Below outlier remover only works on training set as it removes extreme values of the predicted variable\n",
    "def oulierRemover_train(df_features):\n",
    "    return utils.filter_dataframe_percentile(df,{\"price_doc\":[0.001,0.99]})\n",
    "\n",
    "df = oulierRemover(df)\n",
    "df = oulierRemover_train(df)\n",
    "# df_features[np.abs(df_features.life_sq-df_features.life_sq.mean())<=(6*df_features.life_sq.std())]\n",
    "\n",
    "# df_features[np.abs(df_features.price_doc-df_features.price_doc.mean())<=(5*df_features.price_doc.std())]\n",
    "\n",
    "# Removing all columns with outliers using z scores\n",
    "# df[(np.abs(stats.zscore(df)) < 3).all(axis=1)]"
   ]
  },
  {
   "cell_type": "markdown",
   "metadata": {},
   "source": [
    "### Adding new Features"
   ]
  },
  {
   "cell_type": "code",
   "execution_count": 243,
   "metadata": {
    "ExecuteTime": {
     "end_time": "2017-05-21T22:20:03.674152Z",
     "start_time": "2017-05-21T22:20:02.382958Z"
    }
   },
   "outputs": [],
   "source": [
    "def featureAdder(df_features):\n",
    "    df_features['date_column'] = pd.to_datetime(df_features['timestamp'])\n",
    "    df_features[\"transaction_year\"] = df_features['date_column'].map(lambda x: x.year)\n",
    "    df_features[\"log_life_sq\"] = np.log(df_features[\"life_sq\"])\n",
    "    df_features[\"square_life_sq\"] = df_features[\"life_sq\"]**2\n",
    "    df_features[\"square_root_life_sq\"] = df_features[\"life_sq\"]**0.5\n",
    "    return df_features\n",
    "\n",
    "df = featureAdder(df)"
   ]
  },
  {
   "cell_type": "markdown",
   "metadata": {},
   "source": [
    "### Feature Transformations\n",
    "- for polynomial regression see [Polynomial Regression SO](http://stackoverflow.com/questions/32660231/how-to-fit-a-polynomial-curve-to-data-using-scikit-learn)"
   ]
  },
  {
   "cell_type": "code",
   "execution_count": 185,
   "metadata": {
    "ExecuteTime": {
     "end_time": "2017-05-20T17:43:42.443746Z",
     "start_time": "2017-05-20T17:43:41.341428Z"
    }
   },
   "outputs": [
    {
     "name": "stderr",
     "output_type": "stream",
     "text": [
      "C:\\ProgramData\\Anaconda3\\lib\\site-packages\\ipykernel\\__main__.py:8: RuntimeWarning: invalid value encountered in log\n"
     ]
    }
   ],
   "source": [
    "# df_features[\"life_sq\"] = np.log(df_features[\"life_sq\"])\n",
    "# predicted_col_name = price_doc here\n",
    "\n",
    "def add_polynomial_and_log_feature(f_name,df):\n",
    "    cnames=[f_name]\n",
    "    log_col = \"log_%s\"%f_name\n",
    "    df[f_name] = df[f_name]+1\n",
    "    df[log_col] = np.log(df[f_name]+1)\n",
    "    square_root_col = \"square_root_%s\"%f_name\n",
    "    df[square_root_col] = df[f_name]**0.5\n",
    "    square_col = \"square_%s\"%f_name\n",
    "    df[square_col] = df[f_name]**2\n",
    "    cube_col = \"cube_%s\"%f_name\n",
    "    df[cube_col] = df[f_name]**3\n",
    "    cnames += [log_col,square_col,cube_col,square_root_col]\n",
    "    return cnames\n",
    "\n",
    "def add_polynomial_log_features_prefix(f_name,df):\n",
    "    colnames = df.columns[pd.Series(df.columns).str.startswith(f_name)]\n",
    "    cnames = colnames.values.tolist()\n",
    "    #cnames=[]\n",
    "    for colname in colnames:\n",
    "        cnames += add_polynomial_and_log_feature(colname,df)\n",
    "    return cnames\n",
    "\n",
    "def fit_nearby_feature(f_name,predicted_col_name,df):\n",
    "    cnames = add_polynomial_log_features_prefix(f_name,df)\n",
    "    regr = linear_model.LinearRegression(copy_X=True,n_jobs=2,normalize=True)\n",
    "    X = df[cnames].values\n",
    "    y = df[predicted_col_name].values\n",
    "    regr.fit(X, y)\n",
    "    return {\"model\":regr,\"cols\":cnames}\n",
    "\n",
    "def add_nearby_feature(f_name,df,model,cnames):\n",
    "    X = df[cnames].values\n",
    "    df[f_name] = model.predict(X)\n",
    "    df[f_name] = (df[f_name]-df[f_name].mean())/df[f_name].std()\n",
    "\n",
    "nearby_models = {}\n",
    "\n",
    "def train_transform(df):\n",
    "    for f_name in nearby_features:\n",
    "        f = fit_nearby_feature(f_name,\"price_doc\",df)\n",
    "        nearby_models[f_name]= f\n",
    "        add_nearby_feature(f_name,df,f[\"model\"],f[\"cols\"])\n",
    "        return df\n",
    "        \n",
    "df = train_transform(df)\n",
    "    \n",
    "def test_transform(df_test):\n",
    "    for f_name in nearby_features:\n",
    "        cnames = add_polynomial_log_features_prefix(f_name,df_test)\n",
    "        add_nearby_feature(f_name,df_test,nearby_models[f_name][\"model\"],nearby_models[f_name][\"cols\"])\n",
    "    return df_test\n",
    "\n",
    "for f_name in nearby_features:\n",
    "    prediction_cols = list(set(prediction_cols + add_polynomial_log_features_prefix(f_name,df)))\n",
    "prediction_cols.remove(\"log_office\")\n",
    "prediction_cols.remove(\"square_root_office\")\n",
    "prediction_cols.remove(\"square_office\")\n",
    "prediction_cols.remove(\"cube_office\")"
   ]
  },
  {
   "cell_type": "code",
   "execution_count": 186,
   "metadata": {
    "ExecuteTime": {
     "end_time": "2017-05-20T17:43:43.219891Z",
     "start_time": "2017-05-20T17:43:43.034397Z"
    }
   },
   "outputs": [
    {
     "data": {
      "text/html": [
       "<div>\n",
       "<table border=\"1\" class=\"dataframe\">\n",
       "  <thead>\n",
       "    <tr style=\"text-align: right;\">\n",
       "      <th></th>\n",
       "      <th>office_count_500</th>\n",
       "      <th>cube_office_sqm_1500</th>\n",
       "      <th>office_km</th>\n",
       "      <th>cube_office_sqm_2000</th>\n",
       "      <th>office_sqm_1500</th>\n",
       "      <th>square_office_km</th>\n",
       "      <th>square_office_sqm_2000</th>\n",
       "      <th>square_root_office_sqm_5000</th>\n",
       "      <th>office_sqm_500</th>\n",
       "      <th>office_count_1500</th>\n",
       "      <th>...</th>\n",
       "      <th>log_office_count_1000</th>\n",
       "      <th>office_sqm_2000</th>\n",
       "      <th>square_office_count_3000</th>\n",
       "      <th>cube_office_count_3000</th>\n",
       "      <th>square_office_raion</th>\n",
       "      <th>log_office_sqm_1500</th>\n",
       "      <th>cube_office_km</th>\n",
       "      <th>square_office_sqm_5000</th>\n",
       "      <th>office_count_2000</th>\n",
       "      <th>price_doc</th>\n",
       "    </tr>\n",
       "  </thead>\n",
       "  <tbody>\n",
       "    <tr>\n",
       "      <th>0</th>\n",
       "      <td>2</td>\n",
       "      <td>61892368791616</td>\n",
       "      <td>2.637189</td>\n",
       "      <td>6735849282326016</td>\n",
       "      <td>39556</td>\n",
       "      <td>6.954765</td>\n",
       "      <td>35666588736</td>\n",
       "      <td>898.547161</td>\n",
       "      <td>2</td>\n",
       "      <td>5</td>\n",
       "      <td>...</td>\n",
       "      <td>1.386294</td>\n",
       "      <td>188856</td>\n",
       "      <td>196</td>\n",
       "      <td>2744</td>\n",
       "      <td>9</td>\n",
       "      <td>10.585498</td>\n",
       "      <td>18.341028</td>\n",
       "      <td>651873767769</td>\n",
       "      <td>11</td>\n",
       "      <td>5850000</td>\n",
       "    </tr>\n",
       "    <tr>\n",
       "      <th>1</th>\n",
       "      <td>2</td>\n",
       "      <td>1089928616214528</td>\n",
       "      <td>2.688796</td>\n",
       "      <td>4534072495497728</td>\n",
       "      <td>102912</td>\n",
       "      <td>7.229626</td>\n",
       "      <td>27394222144</td>\n",
       "      <td>1640.264308</td>\n",
       "      <td>2</td>\n",
       "      <td>5</td>\n",
       "      <td>...</td>\n",
       "      <td>1.609438</td>\n",
       "      <td>165512</td>\n",
       "      <td>196</td>\n",
       "      <td>2744</td>\n",
       "      <td>4</td>\n",
       "      <td>11.541639</td>\n",
       "      <td>19.438991</td>\n",
       "      <td>7238612678089</td>\n",
       "      <td>6</td>\n",
       "      <td>6000000</td>\n",
       "    </tr>\n",
       "    <tr>\n",
       "      <th>2</th>\n",
       "      <td>2</td>\n",
       "      <td>8</td>\n",
       "      <td>3.543049</td>\n",
       "      <td>1006072249442408</td>\n",
       "      <td>2</td>\n",
       "      <td>12.553195</td>\n",
       "      <td>10040440804</td>\n",
       "      <td>1215.796858</td>\n",
       "      <td>2</td>\n",
       "      <td>2</td>\n",
       "      <td>...</td>\n",
       "      <td>1.098612</td>\n",
       "      <td>100202</td>\n",
       "      <td>100</td>\n",
       "      <td>1000</td>\n",
       "      <td>9</td>\n",
       "      <td>1.098612</td>\n",
       "      <td>44.476583</td>\n",
       "      <td>2184962898244</td>\n",
       "      <td>6</td>\n",
       "      <td>5700000</td>\n",
       "    </tr>\n",
       "    <tr>\n",
       "      <th>3</th>\n",
       "      <td>2</td>\n",
       "      <td>1331726132008</td>\n",
       "      <td>2.934273</td>\n",
       "      <td>1331726132008</td>\n",
       "      <td>11002</td>\n",
       "      <td>8.609961</td>\n",
       "      <td>121044004</td>\n",
       "      <td>494.133585</td>\n",
       "      <td>2</td>\n",
       "      <td>4</td>\n",
       "      <td>...</td>\n",
       "      <td>1.386294</td>\n",
       "      <td>11002</td>\n",
       "      <td>36</td>\n",
       "      <td>216</td>\n",
       "      <td>36</td>\n",
       "      <td>9.305923</td>\n",
       "      <td>25.263980</td>\n",
       "      <td>59618012224</td>\n",
       "      <td>4</td>\n",
       "      <td>13100000</td>\n",
       "    </tr>\n",
       "    <tr>\n",
       "      <th>4</th>\n",
       "      <td>17</td>\n",
       "      <td>1709649185936180480</td>\n",
       "      <td>2.077901</td>\n",
       "      <td>4292061397444299776</td>\n",
       "      <td>1195737</td>\n",
       "      <td>4.317672</td>\n",
       "      <td>2641054017424</td>\n",
       "      <td>2899.073300</td>\n",
       "      <td>293701</td>\n",
       "      <td>95</td>\n",
       "      <td>...</td>\n",
       "      <td>3.891820</td>\n",
       "      <td>1625132</td>\n",
       "      <td>94249</td>\n",
       "      <td>28934443</td>\n",
       "      <td>9025</td>\n",
       "      <td>13.994274</td>\n",
       "      <td>8.971696</td>\n",
       "      <td>70637738199876</td>\n",
       "      <td>151</td>\n",
       "      <td>16331452</td>\n",
       "    </tr>\n",
       "  </tbody>\n",
       "</table>\n",
       "<p>5 rows × 77 columns</p>\n",
       "</div>"
      ],
      "text/plain": [
       "   office_count_500  cube_office_sqm_1500  office_km  cube_office_sqm_2000  \\\n",
       "0                 2        61892368791616   2.637189      6735849282326016   \n",
       "1                 2      1089928616214528   2.688796      4534072495497728   \n",
       "2                 2                     8   3.543049      1006072249442408   \n",
       "3                 2         1331726132008   2.934273         1331726132008   \n",
       "4                17   1709649185936180480   2.077901   4292061397444299776   \n",
       "\n",
       "   office_sqm_1500  square_office_km  square_office_sqm_2000  \\\n",
       "0            39556          6.954765             35666588736   \n",
       "1           102912          7.229626             27394222144   \n",
       "2                2         12.553195             10040440804   \n",
       "3            11002          8.609961               121044004   \n",
       "4          1195737          4.317672           2641054017424   \n",
       "\n",
       "   square_root_office_sqm_5000  office_sqm_500  office_count_1500    ...      \\\n",
       "0                   898.547161               2                  5    ...       \n",
       "1                  1640.264308               2                  5    ...       \n",
       "2                  1215.796858               2                  2    ...       \n",
       "3                   494.133585               2                  4    ...       \n",
       "4                  2899.073300          293701                 95    ...       \n",
       "\n",
       "   log_office_count_1000  office_sqm_2000  square_office_count_3000  \\\n",
       "0               1.386294           188856                       196   \n",
       "1               1.609438           165512                       196   \n",
       "2               1.098612           100202                       100   \n",
       "3               1.386294            11002                        36   \n",
       "4               3.891820          1625132                     94249   \n",
       "\n",
       "   cube_office_count_3000  square_office_raion  log_office_sqm_1500  \\\n",
       "0                    2744                    9            10.585498   \n",
       "1                    2744                    4            11.541639   \n",
       "2                    1000                    9             1.098612   \n",
       "3                     216                   36             9.305923   \n",
       "4                28934443                 9025            13.994274   \n",
       "\n",
       "   cube_office_km  square_office_sqm_5000  office_count_2000  price_doc  \n",
       "0       18.341028            651873767769                 11    5850000  \n",
       "1       19.438991           7238612678089                  6    6000000  \n",
       "2       44.476583           2184962898244                  6    5700000  \n",
       "3       25.263980             59618012224                  4   13100000  \n",
       "4        8.971696          70637738199876                151   16331452  \n",
       "\n",
       "[5 rows x 77 columns]"
      ]
     },
     "execution_count": 186,
     "metadata": {},
     "output_type": "execute_result"
    }
   ],
   "source": [
    "df[prediction_cols+['price_doc']].head()"
   ]
  },
  {
   "cell_type": "code",
   "execution_count": 187,
   "metadata": {
    "ExecuteTime": {
     "end_time": "2017-05-20T17:43:45.623055Z",
     "start_time": "2017-05-20T17:43:44.120136Z"
    }
   },
   "outputs": [
    {
     "data": {
      "image/png": "[encoded data removed]",
      "text/plain": [
       "<matplotlib.figure.Figure at 0x15f360071d0>"
      ]
     },
     "metadata": {},
     "output_type": "display_data"
    }
   ],
   "source": [
    "df.plot.scatter(x=\"office\",y=\"price_doc\")\n",
    "plt.show();"
   ]
  },
  {
   "cell_type": "markdown",
   "metadata": {},
   "source": [
    "## Model Build and Test\n",
    "\n",
    "### Split train test"
   ]
  },
  {
   "cell_type": "code",
   "execution_count": 188,
   "metadata": {
    "ExecuteTime": {
     "end_time": "2017-05-20T17:43:47.683823Z",
     "start_time": "2017-05-20T17:43:47.502347Z"
    }
   },
   "outputs": [
    {
     "data": {
      "text/plain": [
       "False"
      ]
     },
     "execution_count": 188,
     "metadata": {},
     "output_type": "execute_result"
    }
   ],
   "source": [
    "X = df[prediction_cols].values\n",
    "y = df[\"price_doc\"].values\n",
    "\n",
    "\n",
    "X_train, X_test, y_train, y_test = train_test_split(X, y, test_size=0.1)\n",
    "\n",
    "np.isnan(X).any()"
   ]
  },
  {
   "cell_type": "code",
   "execution_count": 189,
   "metadata": {
    "ExecuteTime": {
     "end_time": "2017-05-20T17:43:48.649860Z",
     "start_time": "2017-05-20T17:43:48.386475Z"
    }
   },
   "outputs": [
    {
     "data": {
      "text/html": [
       "<div>\n",
       "<table border=\"1\" class=\"dataframe\">\n",
       "  <thead>\n",
       "    <tr style=\"text-align: right;\">\n",
       "      <th></th>\n",
       "      <th>office_count_500</th>\n",
       "      <th>cube_office_sqm_1500</th>\n",
       "      <th>office_km</th>\n",
       "      <th>cube_office_sqm_2000</th>\n",
       "      <th>office_sqm_1500</th>\n",
       "      <th>square_office_km</th>\n",
       "      <th>square_office_sqm_2000</th>\n",
       "      <th>square_root_office_sqm_5000</th>\n",
       "      <th>office_sqm_500</th>\n",
       "      <th>office_count_1500</th>\n",
       "      <th>...</th>\n",
       "      <th>square_office_count_2000</th>\n",
       "      <th>log_office_count_1000</th>\n",
       "      <th>office_sqm_2000</th>\n",
       "      <th>square_office_count_3000</th>\n",
       "      <th>cube_office_count_3000</th>\n",
       "      <th>square_office_raion</th>\n",
       "      <th>log_office_sqm_1500</th>\n",
       "      <th>cube_office_km</th>\n",
       "      <th>square_office_sqm_5000</th>\n",
       "      <th>office_count_2000</th>\n",
       "    </tr>\n",
       "  </thead>\n",
       "  <tbody>\n",
       "    <tr>\n",
       "      <th>5085</th>\n",
       "      <td>2</td>\n",
       "      <td>8</td>\n",
       "      <td>19.112701</td>\n",
       "      <td>8</td>\n",
       "      <td>2</td>\n",
       "      <td>365.295357</td>\n",
       "      <td>4</td>\n",
       "      <td>1.414214</td>\n",
       "      <td>2</td>\n",
       "      <td>2</td>\n",
       "      <td>...</td>\n",
       "      <td>4</td>\n",
       "      <td>1.098612</td>\n",
       "      <td>2</td>\n",
       "      <td>4</td>\n",
       "      <td>8</td>\n",
       "      <td>4</td>\n",
       "      <td>1.098612</td>\n",
       "      <td>6981.781105</td>\n",
       "      <td>4</td>\n",
       "      <td>2</td>\n",
       "    </tr>\n",
       "    <tr>\n",
       "      <th>5333</th>\n",
       "      <td>2</td>\n",
       "      <td>8</td>\n",
       "      <td>19.182098</td>\n",
       "      <td>8</td>\n",
       "      <td>2</td>\n",
       "      <td>367.952871</td>\n",
       "      <td>4</td>\n",
       "      <td>1.414214</td>\n",
       "      <td>2</td>\n",
       "      <td>2</td>\n",
       "      <td>...</td>\n",
       "      <td>4</td>\n",
       "      <td>1.098612</td>\n",
       "      <td>2</td>\n",
       "      <td>4</td>\n",
       "      <td>8</td>\n",
       "      <td>4</td>\n",
       "      <td>1.098612</td>\n",
       "      <td>7058.107899</td>\n",
       "      <td>4</td>\n",
       "      <td>2</td>\n",
       "    </tr>\n",
       "    <tr>\n",
       "      <th>5675</th>\n",
       "      <td>2</td>\n",
       "      <td>8</td>\n",
       "      <td>19.112701</td>\n",
       "      <td>8</td>\n",
       "      <td>2</td>\n",
       "      <td>365.295357</td>\n",
       "      <td>4</td>\n",
       "      <td>1.414214</td>\n",
       "      <td>2</td>\n",
       "      <td>2</td>\n",
       "      <td>...</td>\n",
       "      <td>4</td>\n",
       "      <td>1.098612</td>\n",
       "      <td>2</td>\n",
       "      <td>4</td>\n",
       "      <td>8</td>\n",
       "      <td>4</td>\n",
       "      <td>1.098612</td>\n",
       "      <td>6981.781105</td>\n",
       "      <td>4</td>\n",
       "      <td>2</td>\n",
       "    </tr>\n",
       "    <tr>\n",
       "      <th>6152</th>\n",
       "      <td>2</td>\n",
       "      <td>8</td>\n",
       "      <td>18.721592</td>\n",
       "      <td>8</td>\n",
       "      <td>2</td>\n",
       "      <td>350.497990</td>\n",
       "      <td>4</td>\n",
       "      <td>1.414214</td>\n",
       "      <td>2</td>\n",
       "      <td>2</td>\n",
       "      <td>...</td>\n",
       "      <td>4</td>\n",
       "      <td>1.098612</td>\n",
       "      <td>2</td>\n",
       "      <td>4</td>\n",
       "      <td>8</td>\n",
       "      <td>4</td>\n",
       "      <td>1.098612</td>\n",
       "      <td>6561.880200</td>\n",
       "      <td>4</td>\n",
       "      <td>2</td>\n",
       "    </tr>\n",
       "    <tr>\n",
       "      <th>9528</th>\n",
       "      <td>2</td>\n",
       "      <td>8</td>\n",
       "      <td>19.185457</td>\n",
       "      <td>8</td>\n",
       "      <td>2</td>\n",
       "      <td>368.081779</td>\n",
       "      <td>4</td>\n",
       "      <td>1.414214</td>\n",
       "      <td>2</td>\n",
       "      <td>2</td>\n",
       "      <td>...</td>\n",
       "      <td>4</td>\n",
       "      <td>1.098612</td>\n",
       "      <td>2</td>\n",
       "      <td>4</td>\n",
       "      <td>8</td>\n",
       "      <td>4</td>\n",
       "      <td>1.098612</td>\n",
       "      <td>7061.817326</td>\n",
       "      <td>4</td>\n",
       "      <td>2</td>\n",
       "    </tr>\n",
       "  </tbody>\n",
       "</table>\n",
       "<p>5 rows × 76 columns</p>\n",
       "</div>"
      ],
      "text/plain": [
       "      office_count_500  cube_office_sqm_1500  office_km  cube_office_sqm_2000  \\\n",
       "5085                 2                     8  19.112701                     8   \n",
       "5333                 2                     8  19.182098                     8   \n",
       "5675                 2                     8  19.112701                     8   \n",
       "6152                 2                     8  18.721592                     8   \n",
       "9528                 2                     8  19.185457                     8   \n",
       "\n",
       "      office_sqm_1500  square_office_km  square_office_sqm_2000  \\\n",
       "5085                2        365.295357                       4   \n",
       "5333                2        367.952871                       4   \n",
       "5675                2        365.295357                       4   \n",
       "6152                2        350.497990                       4   \n",
       "9528                2        368.081779                       4   \n",
       "\n",
       "      square_root_office_sqm_5000  office_sqm_500  office_count_1500  \\\n",
       "5085                     1.414214               2                  2   \n",
       "5333                     1.414214               2                  2   \n",
       "5675                     1.414214               2                  2   \n",
       "6152                     1.414214               2                  2   \n",
       "9528                     1.414214               2                  2   \n",
       "\n",
       "            ...          square_office_count_2000  log_office_count_1000  \\\n",
       "5085        ...                                 4               1.098612   \n",
       "5333        ...                                 4               1.098612   \n",
       "5675        ...                                 4               1.098612   \n",
       "6152        ...                                 4               1.098612   \n",
       "9528        ...                                 4               1.098612   \n",
       "\n",
       "      office_sqm_2000  square_office_count_3000  cube_office_count_3000  \\\n",
       "5085                2                         4                       8   \n",
       "5333                2                         4                       8   \n",
       "5675                2                         4                       8   \n",
       "6152                2                         4                       8   \n",
       "9528                2                         4                       8   \n",
       "\n",
       "      square_office_raion  log_office_sqm_1500  cube_office_km  \\\n",
       "5085                    4             1.098612     6981.781105   \n",
       "5333                    4             1.098612     7058.107899   \n",
       "5675                    4             1.098612     6981.781105   \n",
       "6152                    4             1.098612     6561.880200   \n",
       "9528                    4             1.098612     7061.817326   \n",
       "\n",
       "      square_office_sqm_5000  office_count_2000  \n",
       "5085                       4                  2  \n",
       "5333                       4                  2  \n",
       "5675                       4                  2  \n",
       "6152                       4                  2  \n",
       "9528                       4                  2  \n",
       "\n",
       "[5 rows x 76 columns]"
      ]
     },
     "execution_count": 189,
     "metadata": {},
     "output_type": "execute_result"
    },
    {
     "data": {
      "text/plain": [
       "0"
      ]
     },
     "execution_count": 189,
     "metadata": {},
     "output_type": "execute_result"
    }
   ],
   "source": [
    "def detect_nan_columns(df):\n",
    "    columns = df.columns.values.tolist()\n",
    "    for colname in columns:\n",
    "        if(np.sum(np.isnan(df[colname]))>0):\n",
    "            print(colname)\n",
    "        \n",
    "   \n",
    "df[np.isnan(df[\"log_office\"])][prediction_cols].head()\n",
    "np.sum(np.isnan(df[\"life_sq\"]))\n",
    "detect_nan_columns(df[prediction_cols])"
   ]
  },
  {
   "cell_type": "markdown",
   "metadata": {},
   "source": [
    "### Build model and generate predictions on split test "
   ]
  },
  {
   "cell_type": "code",
   "execution_count": 190,
   "metadata": {
    "ExecuteTime": {
     "end_time": "2017-05-20T17:43:50.654854Z",
     "start_time": "2017-05-20T17:43:50.422931Z"
    }
   },
   "outputs": [
    {
     "data": {
      "text/plain": [
       "LinearRegression(copy_X=True, fit_intercept=True, n_jobs=2, normalize=True)"
      ]
     },
     "execution_count": 190,
     "metadata": {},
     "output_type": "execute_result"
    }
   ],
   "source": [
    "# Create linear regression object\n",
    "regr = linear_model.LinearRegression(copy_X=True,n_jobs=2,normalize=True)\n",
    "\n",
    "# Train the model using the training sets\n",
    "regr.fit(X_train, y_train)\n",
    "\n",
    "def predict(X):\n",
    "    y_pred = regr.predict(X)\n",
    "    y_pred[y_pred < 10] = np.mean(y_pred)\n",
    "    return y_pred\n",
    "\n",
    "y_pred = predict(X_test)"
   ]
  },
  {
   "cell_type": "code",
   "execution_count": 191,
   "metadata": {
    "ExecuteTime": {
     "end_time": "2017-05-20T17:43:51.193108Z",
     "start_time": "2017-05-20T17:43:51.164032Z"
    }
   },
   "outputs": [
    {
     "data": {
      "text/plain": [
       "False"
      ]
     },
     "execution_count": 191,
     "metadata": {},
     "output_type": "execute_result"
    },
    {
     "data": {
      "text/plain": [
       "False"
      ]
     },
     "execution_count": 191,
     "metadata": {},
     "output_type": "execute_result"
    },
    {
     "data": {
      "text/plain": [
       "array([ 15.35022492,  16.15731636,  15.90737462, ...,  13.81551056,\n",
       "        16.14606047,  15.77560534])"
      ]
     },
     "execution_count": 191,
     "metadata": {},
     "output_type": "execute_result"
    }
   ],
   "source": [
    "eps = 1e-7\n",
    "np.isnan(y_test).any()\n",
    "np.any(np.absolute(y_pred) < eps)\n",
    "np.log(y_test)"
   ]
  },
  {
   "cell_type": "markdown",
   "metadata": {},
   "source": [
    "### Errors RMSE and RMSLE for train data"
   ]
  },
  {
   "cell_type": "code",
   "execution_count": 192,
   "metadata": {
    "ExecuteTime": {
     "end_time": "2017-05-20T17:43:52.829171Z",
     "start_time": "2017-05-20T17:43:52.815099Z"
    }
   },
   "outputs": [
    {
     "name": "stdout",
     "output_type": "stream",
     "text": [
      "RMSLE: 0.319\n",
      "RMSE: 3407704.769\n"
     ]
    }
   ],
   "source": [
    "def findRMSLE(y_true,y_pred):\n",
    "    return mean_squared_error(np.log(y_true), np.log(y_pred))\n",
    "\n",
    "print('RMSLE: %.3f' % (findRMSLE(y_test, y_pred)))\n",
    "print(\"RMSE: %.3f\" % mean_squared_error(y_test, y_pred)**0.5)"
   ]
  },
  {
   "cell_type": "markdown",
   "metadata": {},
   "source": [
    "## Using Model on Test Set to generate prediction csv"
   ]
  },
  {
   "cell_type": "code",
   "execution_count": 200,
   "metadata": {
    "ExecuteTime": {
     "end_time": "2017-05-21T16:41:57.286803Z",
     "start_time": "2017-05-21T16:41:55.761568Z"
    }
   },
   "outputs": [
    {
     "data": {
      "text/plain": [
       "(7662, 291)"
      ]
     },
     "execution_count": 200,
     "metadata": {},
     "output_type": "execute_result"
    }
   ],
   "source": [
    "df_test = pd.read_csv(\"../data/sherbank-housing/test.csv\")\n",
    "df_test.shape"
   ]
  },
  {
   "cell_type": "markdown",
   "metadata": {},
   "source": [
    "### Extracting features and applying same transformations that were done on training data"
   ]
  },
  {
   "cell_type": "code",
   "execution_count": 194,
   "metadata": {
    "ExecuteTime": {
     "end_time": "2017-05-20T17:43:58.231095Z",
     "start_time": "2017-05-20T17:43:55.875102Z"
    }
   },
   "outputs": [],
   "source": [
    "df_test = imputer(df_test)\n",
    "df_test = oulierRemover(df_test)\n",
    "df_test = featureAdder(df_test)\n",
    "df_test = test_transform(df_test)"
   ]
  },
  {
   "cell_type": "code",
   "execution_count": 195,
   "metadata": {
    "ExecuteTime": {
     "end_time": "2017-05-20T17:43:58.888512Z",
     "start_time": "2017-05-20T17:43:58.770763Z"
    }
   },
   "outputs": [
    {
     "data": {
      "text/html": [
       "<div>\n",
       "<table border=\"1\" class=\"dataframe\">\n",
       "  <thead>\n",
       "    <tr style=\"text-align: right;\">\n",
       "      <th></th>\n",
       "      <th>office_count_500</th>\n",
       "      <th>cube_office_sqm_1500</th>\n",
       "      <th>office_km</th>\n",
       "      <th>cube_office_sqm_2000</th>\n",
       "      <th>office_sqm_1500</th>\n",
       "      <th>square_office_km</th>\n",
       "      <th>square_office_sqm_2000</th>\n",
       "      <th>square_root_office_sqm_5000</th>\n",
       "      <th>office_sqm_500</th>\n",
       "      <th>office_count_1500</th>\n",
       "      <th>...</th>\n",
       "      <th>square_office_count_2000</th>\n",
       "      <th>log_office_count_1000</th>\n",
       "      <th>office_sqm_2000</th>\n",
       "      <th>square_office_count_3000</th>\n",
       "      <th>cube_office_count_3000</th>\n",
       "      <th>square_office_raion</th>\n",
       "      <th>log_office_sqm_1500</th>\n",
       "      <th>cube_office_km</th>\n",
       "      <th>square_office_sqm_5000</th>\n",
       "      <th>office_count_2000</th>\n",
       "    </tr>\n",
       "  </thead>\n",
       "  <tbody>\n",
       "    <tr>\n",
       "      <th>0</th>\n",
       "      <td>1</td>\n",
       "      <td>1</td>\n",
       "      <td>5.923614</td>\n",
       "      <td>1</td>\n",
       "      <td>1</td>\n",
       "      <td>35.089204</td>\n",
       "      <td>1</td>\n",
       "      <td>193.780804</td>\n",
       "      <td>1</td>\n",
       "      <td>1</td>\n",
       "      <td>...</td>\n",
       "      <td>1</td>\n",
       "      <td>0.693147</td>\n",
       "      <td>1</td>\n",
       "      <td>1</td>\n",
       "      <td>1</td>\n",
       "      <td>25</td>\n",
       "      <td>0.693147</td>\n",
       "      <td>207.854904</td>\n",
       "      <td>1410077601</td>\n",
       "      <td>1</td>\n",
       "    </tr>\n",
       "    <tr>\n",
       "      <th>1</th>\n",
       "      <td>1</td>\n",
       "      <td>1</td>\n",
       "      <td>4.764819</td>\n",
       "      <td>1</td>\n",
       "      <td>1</td>\n",
       "      <td>22.703498</td>\n",
       "      <td>1</td>\n",
       "      <td>421.071253</td>\n",
       "      <td>1</td>\n",
       "      <td>1</td>\n",
       "      <td>...</td>\n",
       "      <td>1</td>\n",
       "      <td>0.693147</td>\n",
       "      <td>1</td>\n",
       "      <td>1</td>\n",
       "      <td>1</td>\n",
       "      <td>1</td>\n",
       "      <td>0.693147</td>\n",
       "      <td>108.178050</td>\n",
       "      <td>31435644601</td>\n",
       "      <td>1</td>\n",
       "    </tr>\n",
       "    <tr>\n",
       "      <th>2</th>\n",
       "      <td>1</td>\n",
       "      <td>39655309532301</td>\n",
       "      <td>2.223804</td>\n",
       "      <td>516583208041272</td>\n",
       "      <td>34101</td>\n",
       "      <td>4.945302</td>\n",
       "      <td>6438136644</td>\n",
       "      <td>654.133014</td>\n",
       "      <td>1</td>\n",
       "      <td>3</td>\n",
       "      <td>...</td>\n",
       "      <td>49</td>\n",
       "      <td>0.693147</td>\n",
       "      <td>80238</td>\n",
       "      <td>81</td>\n",
       "      <td>729</td>\n",
       "      <td>64</td>\n",
       "      <td>10.437111</td>\n",
       "      <td>10.997381</td>\n",
       "      <td>183089852100</td>\n",
       "      <td>7</td>\n",
       "    </tr>\n",
       "    <tr>\n",
       "      <th>3</th>\n",
       "      <td>1</td>\n",
       "      <td>1</td>\n",
       "      <td>9.102094</td>\n",
       "      <td>1</td>\n",
       "      <td>1</td>\n",
       "      <td>82.848112</td>\n",
       "      <td>1</td>\n",
       "      <td>1.000000</td>\n",
       "      <td>1</td>\n",
       "      <td>1</td>\n",
       "      <td>...</td>\n",
       "      <td>1</td>\n",
       "      <td>0.693147</td>\n",
       "      <td>1</td>\n",
       "      <td>1</td>\n",
       "      <td>1</td>\n",
       "      <td>1</td>\n",
       "      <td>0.693147</td>\n",
       "      <td>754.091283</td>\n",
       "      <td>1</td>\n",
       "      <td>1</td>\n",
       "    </tr>\n",
       "    <tr>\n",
       "      <th>4</th>\n",
       "      <td>1</td>\n",
       "      <td>1</td>\n",
       "      <td>5.338453</td>\n",
       "      <td>1</td>\n",
       "      <td>1</td>\n",
       "      <td>28.499083</td>\n",
       "      <td>1</td>\n",
       "      <td>342.492336</td>\n",
       "      <td>1</td>\n",
       "      <td>1</td>\n",
       "      <td>...</td>\n",
       "      <td>1</td>\n",
       "      <td>0.693147</td>\n",
       "      <td>1</td>\n",
       "      <td>1</td>\n",
       "      <td>1</td>\n",
       "      <td>1</td>\n",
       "      <td>0.693147</td>\n",
       "      <td>152.141024</td>\n",
       "      <td>13759524601</td>\n",
       "      <td>1</td>\n",
       "    </tr>\n",
       "  </tbody>\n",
       "</table>\n",
       "<p>5 rows × 76 columns</p>\n",
       "</div>"
      ],
      "text/plain": [
       "   office_count_500  cube_office_sqm_1500  office_km  cube_office_sqm_2000  \\\n",
       "0                 1                     1   5.923614                     1   \n",
       "1                 1                     1   4.764819                     1   \n",
       "2                 1        39655309532301   2.223804       516583208041272   \n",
       "3                 1                     1   9.102094                     1   \n",
       "4                 1                     1   5.338453                     1   \n",
       "\n",
       "   office_sqm_1500  square_office_km  square_office_sqm_2000  \\\n",
       "0                1         35.089204                       1   \n",
       "1                1         22.703498                       1   \n",
       "2            34101          4.945302              6438136644   \n",
       "3                1         82.848112                       1   \n",
       "4                1         28.499083                       1   \n",
       "\n",
       "   square_root_office_sqm_5000  office_sqm_500  office_count_1500  \\\n",
       "0                   193.780804               1                  1   \n",
       "1                   421.071253               1                  1   \n",
       "2                   654.133014               1                  3   \n",
       "3                     1.000000               1                  1   \n",
       "4                   342.492336               1                  1   \n",
       "\n",
       "         ...          square_office_count_2000  log_office_count_1000  \\\n",
       "0        ...                                 1               0.693147   \n",
       "1        ...                                 1               0.693147   \n",
       "2        ...                                49               0.693147   \n",
       "3        ...                                 1               0.693147   \n",
       "4        ...                                 1               0.693147   \n",
       "\n",
       "   office_sqm_2000  square_office_count_3000  cube_office_count_3000  \\\n",
       "0                1                         1                       1   \n",
       "1                1                         1                       1   \n",
       "2            80238                        81                     729   \n",
       "3                1                         1                       1   \n",
       "4                1                         1                       1   \n",
       "\n",
       "   square_office_raion  log_office_sqm_1500  cube_office_km  \\\n",
       "0                   25             0.693147      207.854904   \n",
       "1                    1             0.693147      108.178050   \n",
       "2                   64            10.437111       10.997381   \n",
       "3                    1             0.693147      754.091283   \n",
       "4                    1             0.693147      152.141024   \n",
       "\n",
       "   square_office_sqm_5000  office_count_2000  \n",
       "0              1410077601                  1  \n",
       "1             31435644601                  1  \n",
       "2            183089852100                  7  \n",
       "3                       1                  1  \n",
       "4             13759524601                  1  \n",
       "\n",
       "[5 rows x 76 columns]"
      ]
     },
     "execution_count": 195,
     "metadata": {},
     "output_type": "execute_result"
    }
   ],
   "source": [
    "df_test[prediction_cols].head()"
   ]
  },
  {
   "cell_type": "code",
   "execution_count": 196,
   "metadata": {
    "ExecuteTime": {
     "end_time": "2017-05-20T17:43:59.472896Z",
     "start_time": "2017-05-20T17:43:59.437802Z"
    },
    "collapsed": true
   },
   "outputs": [],
   "source": [
    "X_t = df_test[prediction_cols].values\n",
    "y_t = predict(X_t)"
   ]
  },
  {
   "cell_type": "markdown",
   "metadata": {},
   "source": [
    "### Generate Predictions"
   ]
  },
  {
   "cell_type": "code",
   "execution_count": 197,
   "metadata": {
    "ExecuteTime": {
     "end_time": "2017-05-20T17:44:00.211754Z",
     "start_time": "2017-05-20T17:44:00.196715Z"
    }
   },
   "outputs": [
    {
     "name": "stdout",
     "output_type": "stream",
     "text": [
      "(7662, 1)\n"
     ]
    }
   ],
   "source": [
    "ids =np.array(df_test[\"id\"]).astype(int)\n",
    "my_solution = pd.DataFrame(y_t, ids, columns = [\"price_doc\"])\n",
    "print(my_solution.shape)"
   ]
  },
  {
   "cell_type": "markdown",
   "metadata": {},
   "source": [
    "### Save to CSV"
   ]
  },
  {
   "cell_type": "code",
   "execution_count": 198,
   "metadata": {
    "ExecuteTime": {
     "end_time": "2017-05-20T17:44:03.446348Z",
     "start_time": "2017-05-20T17:44:03.270561Z"
    },
    "collapsed": true
   },
   "outputs": [],
   "source": [
    "my_solution.to_csv(\"../data/sherbank-housing/results/my_solution_one.csv\", index_label = [\"id\"])"
   ]
  },
  {
   "cell_type": "code",
   "execution_count": null,
   "metadata": {
    "collapsed": true
   },
   "outputs": [],
   "source": []
  }
 ],
 "metadata": {
  "hide_input": false,
  "kernelspec": {
   "display_name": "Python 3",
   "language": "python",
   "name": "python3"
  },
  "language_info": {
   "codemirror_mode": {
    "name": "ipython",
    "version": 3
   },
   "file_extension": ".py",
   "mimetype": "text/x-python",
   "name": "python",
   "nbconvert_exporter": "python",
   "pygments_lexer": "ipython3",
   "version": "3.6.1"
  },
  "toc": {
   "colors": {
    "hover_highlight": "#DAA520",
    "navigate_num": "#000000",
    "navigate_text": "#333333",
    "running_highlight": "#FF0000",
    "selected_highlight": "#FFD700",
    "sidebar_border": "#EEEEEE",
    "wrapper_background": "#FFFFFF"
   },
   "moveMenuLeft": true,
   "nav_menu": {
    "height": "292px",
    "width": "252px"
   },
   "navigate_menu": true,
   "number_sections": true,
   "sideBar": true,
   "threshold": 4,
   "toc_cell": false,
   "toc_section_display": "block",
   "toc_window_display": true,
   "widenNotebook": false
  },
  "varInspector": {
   "cols": {
    "lenName": 16,
    "lenType": 16,
    "lenVar": 40
   },
   "kernels_config": {
    "python": {
     "delete_cmd_postfix": "",
     "delete_cmd_prefix": "del ",
     "library": "var_list.py",
     "varRefreshCmd": "print(var_dic_list())"
    },
    "r": {
     "delete_cmd_postfix": ") ",
     "delete_cmd_prefix": "rm(",
     "library": "var_list.r",
     "varRefreshCmd": "cat(var_dic_list()) "
    }
   },
   "types_to_exclude": [
    "module",
    "function",
    "builtin_function_or_method",
    "instance",
    "_Feature"
   ],
   "window_display": false
  }
 },
 "nbformat": 4,
 "nbformat_minor": 1
}
