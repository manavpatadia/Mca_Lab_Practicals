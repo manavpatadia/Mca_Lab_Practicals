{
 "cells": [
  {
   "cell_type": "code",
   "execution_count": 1,
   "metadata": {
    "ExecuteTime": {
     "end_time": "2017-10-26T08:29:06.137914Z",
     "start_time": "2017-10-26T08:29:04.628132Z"
    },
    "collapsed": true
   },
   "outputs": [],
   "source": [
    "import numpy as np # linear algebra\n",
    "import pandas as pd # data processing, CSV file I/O (e.g. pd.read_csv)\n",
    "import matplotlib as mplt\n",
    "import matplotlib.pyplot as plt\n",
    "from sklearn.model_selection import train_test_split\n",
    "from sklearn.metrics import mean_squared_error\n",
    "from IPython.core.interactiveshell import InteractiveShell\n",
    "from sklearn.ensemble import RandomForestRegressor\n",
    "from sklearn.metrics import explained_variance_score\n",
    "from sklearn.preprocessing import LabelEncoder\n",
    "from sklearn.metrics import confusion_matrix\n",
    "from sklearn.model_selection import GridSearchCV\n",
    "%matplotlib inline\n",
    "import seaborn as sns\n",
    "import math\n",
    "import gc\n",
    "import ipaddress\n",
    "from urllib.parse import urlparse\n",
    "from tldextract import extract\n",
    "from sklearn.metrics import confusion_matrix\n",
    "\n",
    "import sys\n",
    "from pathlib import Path\n",
    "d = Path().resolve().parent.parent\n",
    "sys.path.insert(0, str(d))\n",
    "import util.utils as utils\n",
    "import util.plot_utils as plot_utils\n",
    "\n",
    "from xgboost import XGBClassifier\n",
    "from sklearn.model_selection import train_test_split\n",
    "from sklearn.metrics import accuracy_score\n",
    "import lightgbm as lgb\n",
    "\n",
    "np.set_printoptions(threshold=np.nan)\n",
    "\n",
    "\n",
    "\n",
    "plt.rcParams[\"figure.figsize\"] = (12,4)\n",
    "\n",
    "from xgboost import XGBClassifier\n",
    "import xgboost as xgb\n",
    "from sklearn.metrics import accuracy_score\n",
    "\n",
    "\n",
    "InteractiveShell.ast_node_interactivity = \"all\"\n",
    "np.set_printoptions(precision=2)"
   ]
  },
  {
   "cell_type": "code",
   "execution_count": 2,
   "metadata": {
    "ExecuteTime": {
     "end_time": "2017-10-26T08:29:06.878064Z",
     "start_time": "2017-10-26T08:29:06.873889Z"
    },
    "collapsed": true
   },
   "outputs": [],
   "source": [
    "project_name=\"cross-sell\"\n",
    "def get_file_location(filename):\n",
    "    return \"../data/%s/%s\" % (project_name,filename)"
   ]
  },
  {
   "cell_type": "code",
   "execution_count": 3,
   "metadata": {
    "ExecuteTime": {
     "end_time": "2017-10-26T08:29:08.024055Z",
     "start_time": "2017-10-26T08:29:07.544242Z"
    },
    "collapsed": true
   },
   "outputs": [],
   "source": [
    "all_features = ['ACT_TYPE',\n",
    " 'AGE',\n",
    " 'AGL_TAG',\n",
    " 'AGRI_TAG',\n",
    " 'AL_CLOSED',\n",
    " 'AL_CNC_TAG',\n",
    " 'AL_SCRUB_CLOSED',\n",
    " 'AL_SCRUB_LIVE',\n",
    " 'AL_TAG',\n",
    " 'AMB_MON_01',\n",
    " 'AMB_MON_02',\n",
    " 'AMB_MON_03',\n",
    " 'AMB_MON_04',\n",
    " 'BBG_CLOSED',\n",
    " 'BBG_TAG',\n",
    " 'BL_CLOSED',\n",
    " 'BL_SCRUB_CLOSED',\n",
    " 'BL_SCRUB_LIVE',\n",
    " 'BL_TAG',\n",
    " 'BTE_ACTIVE_MON_01',\n",
    " 'BTE_CLOSED_MON_01',\n",
    " 'CARD_AUTOMOBILE_MON_01',\n",
    " 'CARD_ENTMNT_MON_01',\n",
    " 'CARD_HOBBY_MON_01',\n",
    " 'CARD_HOME_DECOR_MON_01',\n",
    " 'CARD_HOTEL_MON_01',\n",
    " 'CARD_JEWELLERY_MON_01',\n",
    " 'CARD_MEDICAL_MON_01',\n",
    " 'CARD_PRSNL_CARE_MON_01',\n",
    " 'CARD_RESTAURANT_MON_01',\n",
    " 'CARD_TRAVEL_MON_01',\n",
    " 'CAR_MON_01',\n",
    " 'CAR_MON_02',\n",
    " 'CAR_MON_03',\n",
    " 'CC_ACTIVE',\n",
    " 'CC_ACTIVE_MON_01',\n",
    " 'CC_ACTIVE_MON_02',\n",
    " 'CC_ACTIVE_MON_03',\n",
    " 'CC_HOLD',\n",
    " 'CC_HOLD_MON_01',\n",
    " 'CC_HOLD_MON_02',\n",
    " 'CC_HOLD_MON_03',\n",
    " 'CC_SPEND_MON_01',\n",
    " 'CC_SPEND_MON_01_ATM',\n",
    " 'CC_SPEND_MON_01_CARE',\n",
    " 'CC_SPEND_MON_01_ENT',\n",
    " 'CC_SPEND_MON_01_HBY',\n",
    " 'CC_SPEND_MON_01_HMD',\n",
    " 'CC_SPEND_MON_01_HTL',\n",
    " 'CC_SPEND_MON_01_JER',\n",
    " 'CC_SPEND_MON_01_MED',\n",
    " 'CC_SPEND_MON_01_RST',\n",
    " 'CC_SPEND_MON_01_TRL',\n",
    " 'CC_SPEND_MON_02',\n",
    " 'CC_SPEND_MON_02_ATM',\n",
    " 'CC_SPEND_MON_02_CARE',\n",
    " 'CC_SPEND_MON_02_ENT',\n",
    " 'CC_SPEND_MON_02_HBY',\n",
    " 'CC_SPEND_MON_02_HMD',\n",
    " 'CC_SPEND_MON_02_HTL',\n",
    " 'CC_SPEND_MON_02_JER',\n",
    " 'CC_SPEND_MON_02_MED',\n",
    " 'CC_SPEND_MON_02_RST',\n",
    " 'CC_SPEND_MON_02_TRL',\n",
    " 'CC_SPEND_MON_03',\n",
    " 'CC_SPEND_MON_03_ATM',\n",
    " 'CC_SPEND_MON_03_CARE',\n",
    " 'CC_SPEND_MON_03_ENT',\n",
    " 'CC_SPEND_MON_03_HBY',\n",
    " 'CC_SPEND_MON_03_HMD',\n",
    " 'CC_SPEND_MON_03_HTL',\n",
    " 'CC_SPEND_MON_03_JER',\n",
    " 'CC_SPEND_MON_03_MED',\n",
    " 'CC_SPEND_MON_03_RST',\n",
    " 'CC_SPEND_MON_03_TRL',\n",
    " 'CC_SPEND_MON_04',\n",
    " 'CC_SPEND_MON_04_ATM',\n",
    " 'CC_SPEND_MON_04_CARE',\n",
    " 'CC_SPEND_MON_04_ENT',\n",
    " 'CC_SPEND_MON_04_HBY',\n",
    " 'CC_SPEND_MON_04_HMD',\n",
    " 'CC_SPEND_MON_04_HTL',\n",
    " 'CC_SPEND_MON_04_JER',\n",
    " 'CC_SPEND_MON_04_MED',\n",
    " 'CC_SPEND_MON_04_RST',\n",
    " 'CC_SPEND_MON_04_TRL',\n",
    " 'CC_SPEND_MON_05',\n",
    " 'CC_SPEND_MON_06',\n",
    " 'CC_TXN_MON_01',\n",
    " 'CC_TXN_MON_02',\n",
    " 'CC_TXN_MON_03',\n",
    " 'CC_TXN_MON_04',\n",
    " 'CC_TXN_MON_05',\n",
    " 'CC_TXN_MON_06',\n",
    " 'CDL_MON_01',\n",
    " 'CDL_MON_02',\n",
    " 'CDL_MON_03',\n",
    " 'CDMAT_MON_01',\n",
    " 'CDMAT_MON_04',\n",
    " 'CEL_SCRUB_CLOSED',\n",
    " 'CEL_SCRUB_LIVE',\n",
    " 'CEL_TAG',\n",
    " 'CE_TAG',\n",
    " 'CHANNEL_CLICK_DISP',\n",
    " 'CLOSED_DATE',\n",
    " 'COC_ACTIVE_MON_01',\n",
    " 'COC_CLOSED_MON_01',\n",
    " 'COC_ELIGIBLE',\n",
    " 'CREDIT_ACT',\n",
    " 'CRED_NEED_SCORE',\n",
    " 'CR_LIMIT',\n",
    " 'CVL_TAG',\n",
    " 'CV_CLOSED',\n",
    " 'CV_TAG',\n",
    " 'C_AMT_L3_MON_01',\n",
    " 'C_AMT_L3_MON_02',\n",
    " 'C_AMT_L3_MON_03',\n",
    " 'C_AMT_L3_MON_04',\n",
    " 'C_AMT_L3_MON_05',\n",
    " 'C_AMT_L3_MON_06',\n",
    " 'C_COUNT_L3_MON_01',\n",
    " 'C_COUNT_L3_MON_02',\n",
    " 'C_COUNT_L3_MON_03',\n",
    " 'C_COUNT_L3_MON_04',\n",
    " 'C_COUNT_L3_MON_05',\n",
    " 'C_COUNT_L3_MON_06',\n",
    " 'DC_ACTIVE',\n",
    " 'DC_ACTIVE_MON_01',\n",
    " 'DC_ACTIVE_MON_02',\n",
    " 'DC_ACTIVE_MON_03',\n",
    " 'DC_HOLD',\n",
    " 'DC_SPEND_MON_01',\n",
    " 'DC_SPEND_MON_01_ATM',\n",
    " 'DC_SPEND_MON_01_CARE',\n",
    " 'DC_SPEND_MON_01_ENT',\n",
    " 'DC_SPEND_MON_01_HBY',\n",
    " 'DC_SPEND_MON_01_HMD',\n",
    " 'DC_SPEND_MON_01_HTL',\n",
    " 'DC_SPEND_MON_01_JER',\n",
    " 'DC_SPEND_MON_01_MED',\n",
    " 'DC_SPEND_MON_01_RST',\n",
    " 'DC_SPEND_MON_01_TRL',\n",
    " 'DC_SPEND_MON_02',\n",
    " 'DC_SPEND_MON_02_ATM',\n",
    " 'DC_SPEND_MON_02_CARE',\n",
    " 'DC_SPEND_MON_02_ENT',\n",
    " 'DC_SPEND_MON_02_HBY',\n",
    " 'DC_SPEND_MON_02_HMD',\n",
    " 'DC_SPEND_MON_02_HTL',\n",
    " 'DC_SPEND_MON_02_JER',\n",
    " 'DC_SPEND_MON_02_MED',\n",
    " 'DC_SPEND_MON_02_RST',\n",
    " 'DC_SPEND_MON_02_TRL',\n",
    " 'DC_SPEND_MON_03',\n",
    " 'DC_SPEND_MON_03_ATM',\n",
    " 'DC_SPEND_MON_03_CARE',\n",
    " 'DC_SPEND_MON_03_ENT',\n",
    " 'DC_SPEND_MON_03_HBY',\n",
    " 'DC_SPEND_MON_03_HMD',\n",
    " 'DC_SPEND_MON_03_HTL',\n",
    " 'DC_SPEND_MON_03_JER',\n",
    " 'DC_SPEND_MON_03_MED',\n",
    " 'DC_SPEND_MON_03_RST',\n",
    " 'DC_SPEND_MON_03_TRL',\n",
    " 'DC_SPEND_MON_04',\n",
    " 'DC_SPEND_MON_04_ATM',\n",
    " 'DC_SPEND_MON_04_CARE',\n",
    " 'DC_SPEND_MON_04_ENT',\n",
    " 'DC_SPEND_MON_04_GRC',\n",
    " 'DC_SPEND_MON_04_HBY',\n",
    " 'DC_SPEND_MON_04_HMD',\n",
    " 'DC_SPEND_MON_04_HTL',\n",
    " 'DC_SPEND_MON_04_JER',\n",
    " 'DC_SPEND_MON_04_MED',\n",
    " 'DC_SPEND_MON_04_RST',\n",
    " 'DC_SPEND_MON_04_TRL',\n",
    " 'DC_SPEND_MON_05',\n",
    " 'DC_SPEND_MON_05_ATM',\n",
    " 'DC_SPEND_MON_05_CARE',\n",
    " 'DC_SPEND_MON_05_ENT',\n",
    " 'DC_SPEND_MON_05_HBY',\n",
    " 'DC_SPEND_MON_05_HMD',\n",
    " 'DC_SPEND_MON_05_HTL',\n",
    " 'DC_SPEND_MON_05_JER',\n",
    " 'DC_SPEND_MON_05_MED',\n",
    " 'DC_SPEND_MON_05_RST',\n",
    " 'DC_SPEND_MON_05_TRL',\n",
    " 'DC_SPEND_MON_06',\n",
    " 'DC_TXN_MON_01',\n",
    " 'DC_TXN_MON_02',\n",
    " 'DC_TXN_MON_03',\n",
    " 'DC_TXN_MON_04',\n",
    " 'DC_TXN_MON_05',\n",
    " 'DC_TXN_MON_06',\n",
    " 'DEBIT_ACT',\n",
    " 'DESIGNATION_FINAL',\n",
    " 'D_AMT_L3_MON_01',\n",
    " 'D_AMT_L3_MON_02',\n",
    " 'D_AMT_L3_MON_03',\n",
    " 'D_AMT_L3_MON_04',\n",
    " 'D_AMT_L3_MON_05',\n",
    " 'D_AMT_L3_MON_06',\n",
    " 'D_COUNT_L3_MON_01',\n",
    " 'D_COUNT_L3_MON_02',\n",
    " 'D_COUNT_L3_MON_03',\n",
    " 'D_COUNT_L3_MON_04',\n",
    " 'D_COUNT_L3_MON_05',\n",
    " 'D_COUNT_L3_MON_06',\n",
    " 'EDU_TAG',\n",
    " 'EEG_CLOSED',\n",
    " 'EEG_TAG',\n",
    " 'EL_TAG',\n",
    " 'EOP_BAL_MON_01',\n",
    " 'EOP_MON_02',\n",
    " 'EOP_MON_03',\n",
    " 'FD_MON_01',\n",
    " 'FD_MON_04',\n",
    " 'FINANCE_MON_01',\n",
    " 'GENDER',\n",
    " 'GI_MON_01',\n",
    " 'GI_MON_04',\n",
    " 'GL_CLOSED',\n",
    " 'GL_MON_01',\n",
    " 'GL_MON_02',\n",
    " 'GL_MON_03',\n",
    " 'GL_SCRUB_CLOSED',\n",
    " 'GL_SCRUB_LIVE',\n",
    " 'GL_TAG',\n",
    " 'HL_EMI',\n",
    " 'HL_TAG',\n",
    " 'IMPS_CC_AMOUNT_MON_01',\n",
    " 'IMPS_CC_CATEGORY_MON_01',\n",
    " 'IMPS_CC_TXN_MON_01',\n",
    " 'INMON_01KET_MON_01',\n",
    " 'JOBS_MON_01',\n",
    " 'LAA_MON_01',\n",
    " 'LAA_MON_02',\n",
    " 'LAA_MON_03',\n",
    " 'LAP_CLOSED',\n",
    " 'LAP_SCRUB_CLOSED',\n",
    " 'LAP_SCRUB_LIVE',\n",
    " 'LAP_TAG',\n",
    " 'LAST_3MTHS_INQ',\n",
    " 'LAS_CLOSED',\n",
    " 'LAS_SCRUB_CLOSED',\n",
    " 'LAS_SCRUB_LIVE',\n",
    " 'LAS_TAG',\n",
    " 'LEGAL_ENTITY',\n",
    " 'LFP_MON_01',\n",
    " 'LFP_MON_02',\n",
    " 'LFP_MON_03',\n",
    " 'LIFESTYLE_MON_01',\n",
    " 'LI_MON_01',\n",
    " 'LI_MON_04',\n",
    " 'MATURITY_GL',\n",
    " 'MATURITY_LAP',\n",
    " 'MATURITY_LAS',\n",
    " 'MAX_C_AMT_L3_MON_01',\n",
    " 'MAX_C_AMT_L3_MON_02',\n",
    " 'MAX_C_AMT_L3_MON_03',\n",
    " 'MAX_C_AMT_L3_MON_04',\n",
    " 'MAX_C_AMT_L3_MON_05',\n",
    " 'MAX_C_AMT_L3_MON_06',\n",
    " 'MER_EMI_ACTIVE_MON_01',\n",
    " 'MER_EMI_CLOSED_MON_01',\n",
    " 'MF_MON_01',\n",
    " 'MF_MON_04',\n",
    " 'NB_MON_01_CNT',\n",
    " 'NB_MON_02_CNT',\n",
    " 'NB_MON_03_CNT',\n",
    " 'NEFT_CC_AMOUNT',\n",
    " 'NEFT_CC_CATEGORY',\n",
    " 'NEFT_CC_TXN',\n",
    " 'NEFT_DC_AMOUNT',\n",
    " 'NEFT_DC_CATEGORY',\n",
    " 'NEFT_DC_TXN',\n",
    " 'N_CASA_MAX_BALANCE_MTD',\n",
    " 'N_CASA_MIN_BALANCE_MTD',\n",
    " 'OCCUP_ALL_NEW',\n",
    " 'OTHER_LOANS_TAG',\n",
    " 'PA_PQ_TAG',\n",
    " 'PL2CC_ACTIVE_MON_01',\n",
    " 'PL2CC_CLOSED_MON_01',\n",
    " 'PL2CC_ELIGIBLE',\n",
    " 'PL_CLOSED',\n",
    " 'PL_MON_01',\n",
    " 'PL_MON_02',\n",
    " 'PL_MON_03',\n",
    " 'PL_SCRUB_CLOSED',\n",
    " 'PL_SCRUB_LIVE',\n",
    " 'PL_TAG',\n",
    " 'PM_FD_MON_01',\n",
    " 'PM_FD_MON_02',\n",
    " 'PM_FD_MON_04',\n",
    " 'PREV_3MTHS_INQ',\n",
    " 'RD_MON_01',\n",
    " 'RD_MON_04',\n",
    " 'SAL_MON_01',\n",
    " 'SAL_MON_02',\n",
    " 'SAL_MON_03',\n",
    " 'SCRUB_EMI',\n",
    " 'STMT_CON_DAE_ACTIVE_MON_01',\n",
    " 'STMT_CON_DAE_CLOSED_MON_01',\n",
    " 'STMT_MON_01',\n",
    " 'STMT_MON_02',\n",
    " 'STMT_MON_03',\n",
    " 'TL_SCRUB_CLOSED',\n",
    " 'TL_SCRUB_LIVE',\n",
    " 'TL_TAG',\n",
    " 'TOP14_CITY',\n",
    " 'TOP9_CITY',\n",
    " 'TOP_100_CORP',\n",
    " 'TOP_800_CORP',\n",
    " 'TOP_CORP_TAG',\n",
    " 'TPT_CC_AMOUNT_MON_01',\n",
    " 'TPT_CC_CATEGORY_MON_01',\n",
    " 'TPT_CC_TXN_MON_01',\n",
    " 'TPT_DC_AMOUNT_MON_01',\n",
    " 'TPT_DC_CATEGORY_MON_01',\n",
    " 'TPT_DC_TXN_MON_01',\n",
    " 'TRAVEL_MON_01',\n",
    " 'TRN_CON_DAE_ACTIVE_MON_01',\n",
    " 'TRN_CON_DAE_CLOSED_MON_01',\n",
    " 'TWL_CLOSED',\n",
    " 'TWL_MON_01',\n",
    " 'TWL_MON_02',\n",
    " 'TWL_MON_03',\n",
    " 'TWL_SCRUB_CLOSED',\n",
    " 'TWL_SCRUB_LIVE',\n",
    " 'TWL_TAG',\n",
    " 'ZIP_CODE_FINAL']\n",
    "\n",
    "date_columns = [\"CLOSED_DATE\",\"MATURITY_GL\",\"MATURITY_LAP\",\"MATURITY_LAS\"]\n",
    "\n",
    "\n",
    "output_column = \"RESPONDERS\""
   ]
  },
  {
   "cell_type": "code",
   "execution_count": 65,
   "metadata": {
    "ExecuteTime": {
     "end_time": "2017-10-26T09:10:36.721234Z",
     "start_time": "2017-10-26T09:10:06.652299Z"
    }
   },
   "outputs": [
    {
     "data": {
      "text/plain": [
       "10791"
      ]
     },
     "execution_count": 65,
     "metadata": {},
     "output_type": "execute_result"
    }
   ],
   "source": [
    "df = pd.read_csv(\"../data/%s/%s\" % (project_name,\"train.csv\"),low_memory=False)\n",
    "df_test = pd.read_csv(\"../data/%s/%s\" % (project_name,\"test.csv\"),low_memory=False)\n",
    "gc.collect()"
   ]
  },
  {
   "cell_type": "code",
   "execution_count": 66,
   "metadata": {
    "ExecuteTime": {
     "end_time": "2017-10-26T09:10:37.549885Z",
     "start_time": "2017-10-26T09:10:36.723635Z"
    },
    "collapsed": true
   },
   "outputs": [],
   "source": [
    "def process_zip_codes():\n",
    "    df[\"ZIP_CODE_FINAL\"] = df[\"ZIP_CODE_FINAL\"].astype(str)\n",
    "    df_test[\"ZIP_CODE_FINAL\"] = df_test[\"ZIP_CODE_FINAL\"].astype(str)\n",
    "\n",
    "    df[\"ZIP_CODE_FINAL\"] = df[\"ZIP_CODE_FINAL\"].map(lambda x: x.replace(\" \", \"\").replace(\"-\",\"\"))\n",
    "    df_test[\"ZIP_CODE_FINAL\"] = df_test[\"ZIP_CODE_FINAL\"].map(lambda x: x.replace(\" \", \"\").replace(\"-\",\"\"))\n",
    "\n",
    "    df.loc[df[\"ZIP_CODE_FINAL\"].isin([\"X\",\".\",\"ZZZZZ\",\"ZZ\",\"E\"]),\"ZIP_CODE_FINAL\"] = np.nan\n",
    "    df_test.loc[df_test[\"ZIP_CODE_FINAL\"].isin([\"X\",\".\",\"ZZZZZ\",\"ZZ\",\"E\"]),\"ZIP_CODE_FINAL\"] = np.nan\n",
    "\n",
    "    indian = [\"APO\",\"56APO\",\"56 APO\",\"99APO\",\"INDIA\"]\n",
    "    df.loc[df[\"ZIP_CODE_FINAL\"].isin(indian),\"ZIP_CODE_FINAL\"] = 21510057\n",
    "    df_test.loc[df_test[\"ZIP_CODE_FINAL\"].isin(indian),\"ZIP_CODE_FINAL\"] = 21510057\n",
    "\n",
    "    foreign = [\"HA86TE\",\"L6X4E5\",\"F92A07D\",\"TN38024\",\"M5R1S8\",\"T2A6P1\",\"TW119QT\",\"R3Y1V6\",\"NR46PQ\"]\n",
    "    df.loc[df[\"ZIP_CODE_FINAL\"].isin(foreign),\"ZIP_CODE_FINAL\"] = 47173021\n",
    "    df_test.loc[df_test[\"ZIP_CODE_FINAL\"].isin(foreign),\"ZIP_CODE_FINAL\"] = 47173021\n",
    "\n",
    "\n",
    "    df[\"ZIP_CODE_FINAL\"] = df[\"ZIP_CODE_FINAL\"].astype(float)\n",
    "    df_test[\"ZIP_CODE_FINAL\"] = df_test[\"ZIP_CODE_FINAL\"].astype(float)\n",
    "\n",
    "#     df[\"ZIP_CODE_FINAL\"] = df[\"ZIP_CODE_FINAL\"].map(lambda x: x if x == np.nan else int(round(x)))\n",
    "#     df_test[\"ZIP_CODE_FINAL\"] = df_test[\"ZIP_CODE_FINAL\"].map(lambda x: x if x == np.nan else int(round(x)))\n",
    "\n",
    "#     df[\"ZIP_CODE_FINAL\"] = df[\"ZIP_CODE_FINAL\"].astype(int)\n",
    "#     df_test[\"ZIP_CODE_FINAL\"] = df[\"ZIP_CODE_FINAL\"].astype(int)\n",
    "\n",
    "\n",
    "process_zip_codes()"
   ]
  },
  {
   "cell_type": "code",
   "execution_count": 67,
   "metadata": {
    "ExecuteTime": {
     "end_time": "2017-10-26T09:10:59.347910Z",
     "start_time": "2017-10-26T09:10:37.551785Z"
    },
    "collapsed": true
   },
   "outputs": [],
   "source": [
    "# pd.to_datetime(df[\"MATURITY_GL\"],format=\"%d%b%Y\")\n",
    "\n",
    "def parse_date(df,column):\n",
    "    df[column] = pd.to_datetime(df[column],format=\"%d%b%Y\")\n",
    "    df[column+'_month']= df[column].map(lambda x: x.month)\n",
    "    df[column+'_year']= df[column].map(lambda x: x.year)\n",
    "    df[column+'_week'] = df[column].map(lambda x: x.week)\n",
    "    df.drop([column], axis = 1, inplace = True)\n",
    "    \n",
    "    \n",
    "for column in date_columns:\n",
    "    parse_date(df,column)\n",
    "    parse_date(df_test,column)\n",
    "    all_features.append(column+'_month')\n",
    "    all_features.append(column+'_year')\n",
    "    all_features.append(column+'_week')\n",
    "    \n",
    "\n",
    "    \n"
   ]
  },
  {
   "cell_type": "code",
   "execution_count": 68,
   "metadata": {
    "ExecuteTime": {
     "end_time": "2017-10-26T09:11:00.442933Z",
     "start_time": "2017-10-26T09:10:59.350326Z"
    },
    "collapsed": true
   },
   "outputs": [],
   "source": [
    "df.drop([\"OCCUP_ALL_NEW\"], axis = 1, inplace = True)\n",
    "df_test.drop([\"OCCUP_ALL_NEW\"], axis = 1, inplace = True)\n",
    "all_features = list(set(all_features) - set(date_columns+[\"OCCUP_ALL_NEW\"]))"
   ]
  },
  {
   "cell_type": "code",
   "execution_count": 69,
   "metadata": {
    "ExecuteTime": {
     "end_time": "2017-10-26T09:11:03.209720Z",
     "start_time": "2017-10-26T09:11:00.446185Z"
    }
   },
   "outputs": [
    {
     "data": {
      "text/plain": [
       "72"
      ]
     },
     "execution_count": 69,
     "metadata": {},
     "output_type": "execute_result"
    },
    {
     "data": {
      "text/plain": [
       "['GL_TAG',\n",
       " 'CREDIT_ACT',\n",
       " 'CV_CLOSED',\n",
       " 'TWL_TAG',\n",
       " 'BL_CLOSED',\n",
       " 'DC_ACTIVE_MON_03',\n",
       " 'AGRI_TAG',\n",
       " 'LAS_CLOSED',\n",
       " 'TOP_800_CORP',\n",
       " 'GL_CLOSED',\n",
       " 'CARD_ENTMNT_MON_01',\n",
       " 'OTHER_LOANS_TAG',\n",
       " 'CARD_PRSNL_CARE_MON_01',\n",
       " 'CVL_TAG',\n",
       " 'PL2CC_ACTIVE_MON_01',\n",
       " 'JOBS_MON_01',\n",
       " 'CC_ACTIVE',\n",
       " 'DC_ACTIVE_MON_01',\n",
       " 'CARD_AUTOMOBILE_MON_01',\n",
       " 'CC_ACTIVE_MON_02',\n",
       " 'MER_EMI_ACTIVE_MON_01',\n",
       " 'LAP_TAG',\n",
       " 'LAS_TAG',\n",
       " 'CC_HOLD_MON_02',\n",
       " 'AL_CNC_TAG',\n",
       " 'CE_TAG',\n",
       " 'PL_TAG',\n",
       " 'TWL_CLOSED',\n",
       " 'CC_ACTIVE_MON_03',\n",
       " 'CARD_HOTEL_MON_01',\n",
       " 'COC_ACTIVE_MON_01',\n",
       " 'AGL_TAG',\n",
       " 'CC_HOLD',\n",
       " 'EL_TAG',\n",
       " 'CC_HOLD_MON_03',\n",
       " 'DC_ACTIVE_MON_02',\n",
       " 'CARD_HOBBY_MON_01',\n",
       " 'AL_TAG',\n",
       " 'INMON_01KET_MON_01',\n",
       " 'BTE_ACTIVE_MON_01',\n",
       " 'CARD_HOME_DECOR_MON_01',\n",
       " 'CARD_RESTAURANT_MON_01',\n",
       " 'CARD_MEDICAL_MON_01',\n",
       " 'PL2CC_CLOSED_MON_01',\n",
       " 'CC_HOLD_MON_01',\n",
       " 'TOP_100_CORP',\n",
       " 'DC_HOLD',\n",
       " 'LIFESTYLE_MON_01',\n",
       " 'BTE_CLOSED_MON_01',\n",
       " 'LAP_CLOSED',\n",
       " 'EDU_TAG',\n",
       " 'HL_TAG',\n",
       " 'COC_CLOSED_MON_01',\n",
       " 'CARD_TRAVEL_MON_01',\n",
       " 'TRN_CON_DAE_CLOSED_MON_01',\n",
       " 'DEBIT_ACT',\n",
       " 'CEL_TAG',\n",
       " 'CC_ACTIVE_MON_01',\n",
       " 'DC_ACTIVE',\n",
       " 'CARD_JEWELLERY_MON_01',\n",
       " 'TL_TAG',\n",
       " 'PREV_3MTHS_INQ',\n",
       " 'TRN_CON_DAE_ACTIVE_MON_01',\n",
       " 'PL_CLOSED',\n",
       " 'AL_CLOSED',\n",
       " 'TRAVEL_MON_01',\n",
       " 'BL_TAG',\n",
       " 'TOP14_CITY',\n",
       " 'CV_TAG',\n",
       " 'FINANCE_MON_01',\n",
       " 'LAST_3MTHS_INQ',\n",
       " 'TOP9_CITY']"
      ]
     },
     "execution_count": 69,
     "metadata": {},
     "output_type": "execute_result"
    }
   ],
   "source": [
    "two_value_columns = []\n",
    "for column in all_features:\n",
    "    train_unique = df[column].unique()\n",
    "    test_unique = df_test[column].unique()\n",
    "    if(len(train_unique)<=2 and \n",
    "       len(test_unique)<=2 and \n",
    "       set(train_unique)==set(test_unique) and \n",
    "       (set(train_unique)==set([\"Y\",np.nan]) or set(train_unique)==set([\"Y\",\"N\"]))):\n",
    "        two_value_columns.append(column)\n",
    "        \n",
    "\n",
    "len(two_value_columns)\n",
    "two_value_columns\n",
    "        "
   ]
  },
  {
   "cell_type": "code",
   "execution_count": 70,
   "metadata": {
    "ExecuteTime": {
     "end_time": "2017-10-26T09:11:37.406873Z",
     "start_time": "2017-10-26T09:11:03.213117Z"
    },
    "collapsed": true
   },
   "outputs": [],
   "source": [
    "for column in two_value_columns:\n",
    "    df.loc[df[column]==\"Y\",column] = 1\n",
    "#     df[(df[column]==\"N\") | pd.isnull(df[column])] = 0\n",
    "    df.loc[pd.isnull(df[column]),column] = -1\n",
    "    df.loc[(df[column]==\"N\"),column] = 0\n",
    "    df_test.loc[df_test[column]==\"Y\",column] = 1\n",
    "    df_test.loc[(df_test[column]==\"N\"),column] = 0\n",
    "    df_test.loc[pd.isnull(df_test[column]),column] = -1\n",
    "    df[column] = df[column].astype(int)\n",
    "    df_test[column] = df_test[column].astype(int)"
   ]
  },
  {
   "cell_type": "code",
   "execution_count": 74,
   "metadata": {
    "ExecuteTime": {
     "end_time": "2017-10-26T09:18:06.704353Z",
     "start_time": "2017-10-26T09:18:05.880922Z"
    },
    "collapsed": true
   },
   "outputs": [],
   "source": [
    "df.drop([\"BBG_CLOSED\",\"BBG_TAG\"], axis = 1, inplace = True)\n",
    "df_test.drop([\"BBG_CLOSED\",\"BBG_TAG\"], axis = 1, inplace = True)\n",
    "all_features = list(set(all_features) - set([\"BBG_CLOSED\",\"BBG_TAG\"]))"
   ]
  },
  {
   "cell_type": "code",
   "execution_count": 75,
   "metadata": {
    "ExecuteTime": {
     "end_time": "2017-10-26T09:18:11.093752Z",
     "start_time": "2017-10-26T09:18:09.389684Z"
    },
    "scrolled": false
   },
   "outputs": [
    {
     "data": {
      "text/plain": [
       "324"
      ]
     },
     "execution_count": 75,
     "metadata": {},
     "output_type": "execute_result"
    },
    {
     "data": {
      "text/plain": [
       "75"
      ]
     },
     "execution_count": 75,
     "metadata": {},
     "output_type": "execute_result"
    },
    {
     "data": {
      "text/plain": [
       "12"
      ]
     },
     "execution_count": 75,
     "metadata": {},
     "output_type": "execute_result"
    }
   ],
   "source": [
    "\n",
    "\n",
    "\n",
    "test_dt = df_test[all_features].dtypes\n",
    "numeric_features = []\n",
    "for k,v in df[all_features].dtypes.items():\n",
    "    if(v in ['int64','float64'] and test_dt[k] in ['int64','float64']):\n",
    "        numeric_features.append(k)\n",
    "\n",
    "\n",
    "\n",
    "int_features = []\n",
    "for k,v in df[all_features].dtypes.items():\n",
    "    if(v in ['int64'] and test_dt[k] in ['int64']):\n",
    "        int_features.append(k)\n",
    "        \n",
    "\n",
    "\n",
    "obj_features = []\n",
    "for k,v in df[all_features].dtypes.items():\n",
    "    if(v in ['object','str'] or test_dt[k] in ['object','str']):\n",
    "        obj_features.append(k)\n",
    "        \n",
    "len(numeric_features)\n",
    "len(int_features)\n",
    "len(obj_features)\n",
    "\n",
    "features = int_features + obj_features"
   ]
  },
  {
   "cell_type": "code",
   "execution_count": 105,
   "metadata": {
    "ExecuteTime": {
     "end_time": "2017-10-26T07:31:49.603990Z",
     "start_time": "2017-10-26T07:31:31.130075Z"
    },
    "collapsed": true
   },
   "outputs": [],
   "source": []
  },
  {
   "cell_type": "code",
   "execution_count": 78,
   "metadata": {
    "ExecuteTime": {
     "end_time": "2017-10-26T09:20:31.583722Z",
     "start_time": "2017-10-26T09:20:19.701552Z"
    },
    "scrolled": false
   },
   "outputs": [
    {
     "name": "stdout",
     "output_type": "stream",
     "text": [
      "CHANNEL_CLICK_DISP\n",
      "['NONE' 'DISP' 'CLICK']\n",
      "['NONE' 'DISP' 'CLICK']\n",
      "===========xxx==========\n",
      "\n",
      "GENDER\n",
      "['M' 'F' nan]\n",
      "['M' 'F' nan]\n",
      "===========xxx==========\n",
      "\n",
      "PA_PQ_TAG\n",
      "[nan 'PQ_WITH_INCOME_20K' 'Green Channel' 'PQ_WITH_INCOME_25K' 'STP'\n",
      " 'PQ_WITH_INCOME_31K' 'PQ with Ref dedupe' 'PQ_WITH_INCOME_15K'\n",
      " 'PQ_WITH_INCOME_19K' 'PQ with Dedupe' 'PQ_WITH_INCOME_16K'\n",
      " 'PQ_WITH_INCOME_30K' 'PQ_WITH_INCOME_95K' 'PQ_WITH_INCOME_53K'\n",
      " 'PQ_WITH_INCOME_22K' 'PQ_WITH_INCOME_39K' 'PQ_WITH_INCOME_40K'\n",
      " 'PQ_WITH_INCOME_122K' 'PQ_WITH_INCOME_38K' 'PQ_WITH_INCOME_17K'\n",
      " 'PQ_WITH_INCOME_32K' 'PQ_WITH_INCOME_21K' 'PQ with Coapp' 'PQ with KYC'\n",
      " 'PQ_WITH_INCOME_29K' 'PQ with Neg dedupe' 'PQ_WITH_INCOME_42K'\n",
      " 'PQ_WITH_INCOME_37K' 'PQ_WITH_INCOME_44K' 'PQ_WITH_INCOME_33K'\n",
      " 'PQ_WITH_INCOME_35K' 'PQ_WITH_INCOME_67K' 'PQ_WITH_INCOME_83K'\n",
      " 'PQ with Account' 'PQ_WITH_INCOME_43K' 'PQ_WITH_INCOME_50K'\n",
      " 'PQ_WITH_INCOME_24K' 'PQ_WITH_INCOME_74K' 'PQ_WITH_INCOME_48K'\n",
      " 'PQ_WITH_INCOME_27K' 'PQ_WITH_INCOME_34K' 'PQ_WITH_INCOME_89K'\n",
      " 'PQ_WITH_INCOME_100K' 'PQ_WITH_INCOME_58K' 'PQ_WITH_INCOME_75K'\n",
      " 'PQ_WITH_INCOME_99K' 'PQ_WITH_INCOME_36K' 'PQ_WITH_INCOME_125K'\n",
      " 'PQ_WITH_INCOME_23K' 'PQ_WITH_INCOME_26K' 'PQ_WITH_INCOME_62K'\n",
      " 'PQ_WITH_INCOME_76K' 'PQ_WITH_INCOME_96K' 'PQ_WITH_INCOME_60K'\n",
      " 'PQ_WITH_INCOME_150K' 'PQ_WITH_INCOME_49K' 'PQ_WITH_INCOME_66K'\n",
      " 'PQ_WITH_INCOME_79K' 'PQ_WITH_INCOME_18K' 'PQ_WITH_INCOME_28K'\n",
      " 'PQ_WITH_INCOME_85K' 'PQ_WITH_INCOME_54K' 'PQ_WITH_INCOME_45K'\n",
      " 'PQ_WITH_INCOME_64K' 'PQ_WITH_INCOME_69K' 'PQ_WITH_INCOME_46K'\n",
      " 'PQ_WITH_INCOME_71K' 'PQ_WITH_INCOME_88K' 'PQ_WITH_INCOME_142K'\n",
      " 'PQ_WITH_INCOME_47K' 'PQ_WITH_INCOME_51K' 'PQ_WITH_INCOME_208K'\n",
      " 'PQ_WITH_INCOME_65K' 'PQ_WITH_INCOME_63K' 'PQ_WITH_INCOME_56K'\n",
      " 'PQ_WITH_INCOME_59K' 'PQ_WITH_INCOME_167K' 'PQ_WITH_INCOME_93K'\n",
      " 'PQ_WITH_INCOME_70K' 'PQ_WITH_INCOME_200K' 'PQ_WITH_INCOME_52K'\n",
      " 'PQ_WITH_INCOME_87K' 'PQ_WITH_INCOME_55K' 'PQ_WITH_INCOME_72K'\n",
      " 'PQ_WITH_INCOME_77K' 'PQ_WITH_INCOME_41K' 'PQ_WITH_INCOME_417K'\n",
      " 'PQ_WITH_INCOME_183K' 'PQ_WITH_INCOME_57K' 'PQ_WITH_INCOME_78K'\n",
      " 'PQ_WITH_INCOME_82K' 'PQ_WITH_INCOME_117K' 'PQ_WITH_INCOME_80K'\n",
      " 'PQ_WITH_INCOME_375K' 'PQ_WITH_INCOME_91K' 'PQ_WITH_INCOME_68K'\n",
      " 'PQ_WITH_INCOME_73K' 'PQ_WITH_INCOME_115K' 'PQ_WITH_INCOME_667K'\n",
      " 'PQ_WITH_INCOME_104K' 'PQ_WITH_INCOME_98K' 'PQ_WITH_INCOME_300K'\n",
      " 'PQ_WITH_INCOME_625K' 'PQ_WITH_INCOME_107K' 'PQ_WITH_INCOME_250K'\n",
      " 'PQ_WITH_INCOME_700K' 'PQ_WITH_INCOME_333K' 'PQ_WITH_INCOME_86K'\n",
      " 'PQ_WITH_INCOME_583K' 'PQ_WITH_INCOME_61K' 'PQ_WITH_INCOME_500K'\n",
      " 'PQ_WITH_INCOME_133K' 'PQ_WITH_INCOME_92K' 'PQ_WITH_INCOME_94K'\n",
      " 'PQ_WITH_INCOME_103K' 'PQ_WITH_INCOME_192K' 'PQ_WITH_INCOME_112K'\n",
      " 'PQ_WITH_INCOME_97K' 'PQ_WITH_INCOME_108K' 'PQ_WITH_INCOME_90K'\n",
      " 'PQ_WITH_INCOME_109K' 'PQ_WITH_INCOME_400K' 'PQ_WITH_INCOME_233K'\n",
      " 'PQ_WITH_INCOME_81K' 'PQ_WITH_INCOME_129K' 'PQ_WITH_INCOME_1000K'\n",
      " 'PQ_WITH_INCOME_113K' 'PQ_WITH_INCOME_833K' 'PQ_WITH_INCOME_120K'\n",
      " 'PQ_WITH_INCOME_121K' 'PQ_WITH_INCOME_292K' 'PQ_WITH_INCOME_182K'\n",
      " 'PQ_WITH_INCOME_134K' 'PQ_WITH_INCOME_1250K' 'PQ_WITH_INCOME_205K'\n",
      " 'PQ_WITH_INCOME_2000K' 'PQ_WITH_INCOME_258K' 'PQ_WITH_INCOME_246K'\n",
      " 'PQ_WITH_INCOME_476K' 'PQ_WITH_INCOME_247K' 'PQ_WITH_INCOME_241K']\n",
      "[nan 'Green Channel' 'PQ_WITH_INCOME_71K' 'STP' 'PQ_WITH_INCOME_15K'\n",
      " 'PQ_WITH_INCOME_25K' 'PQ_WITH_INCOME_36K' 'PQ with Ref dedupe'\n",
      " 'PQ_WITH_INCOME_28K' 'PQ_WITH_INCOME_26K' 'PQ with Account'\n",
      " 'PQ_WITH_INCOME_63K' 'PQ with Neg dedupe' 'PQ_WITH_INCOME_32K'\n",
      " 'PQ_WITH_INCOME_29K' 'PQ_WITH_INCOME_64K' 'PQ_WITH_INCOME_16K'\n",
      " 'PQ with KYC' 'PQ_WITH_INCOME_18K' 'PQ_WITH_INCOME_24K' 'PQ with Coapp'\n",
      " 'PQ_WITH_INCOME_48K' 'PQ with Dedupe' 'PQ_WITH_INCOME_50K'\n",
      " 'PQ_WITH_INCOME_19K' 'PQ_WITH_INCOME_44K' 'PQ_WITH_INCOME_108K'\n",
      " 'PQ_WITH_INCOME_35K' 'PQ_WITH_INCOME_23K' 'PQ_WITH_INCOME_21K'\n",
      " 'PQ_WITH_INCOME_20K' 'PQ_WITH_INCOME_41K' 'PQ_WITH_INCOME_17K'\n",
      " 'PQ_WITH_INCOME_92K' 'PQ_WITH_INCOME_22K' 'PQ_WITH_INCOME_42K'\n",
      " 'PQ_WITH_INCOME_27K' 'PQ_WITH_INCOME_47K' 'PQ_WITH_INCOME_143K'\n",
      " 'PQ_WITH_INCOME_37K' 'PQ_WITH_INCOME_60K' 'PQ_WITH_INCOME_33K'\n",
      " 'PQ_WITH_INCOME_43K' 'PQ_WITH_INCOME_118K' 'PQ_WITH_INCOME_74K'\n",
      " 'PQ_WITH_INCOME_167K' 'PQ_WITH_INCOME_75K' 'PQ_WITH_INCOME_59K'\n",
      " 'PQ_WITH_INCOME_51K' 'PQ_WITH_INCOME_58K' 'PQ_WITH_INCOME_77K'\n",
      " 'PQ_WITH_INCOME_34K' 'PQ_WITH_INCOME_125K' 'PQ_WITH_INCOME_46K'\n",
      " 'PQ_WITH_INCOME_40K' 'PQ_WITH_INCOME_38K' 'PQ_WITH_INCOME_31K'\n",
      " 'PQ_WITH_INCOME_49K' 'PQ_WITH_INCOME_65K' 'PQ_WITH_INCOME_100K'\n",
      " 'PQ_WITH_INCOME_30K' 'PQ_WITH_INCOME_96K' 'PQ_WITH_INCOME_260K'\n",
      " 'PQ_WITH_INCOME_67K' 'PQ_WITH_INCOME_39K' 'PQ_WITH_INCOME_45K'\n",
      " 'PQ_WITH_INCOME_61K' 'PQ_WITH_INCOME_82K' 'PQ_WITH_INCOME_72K'\n",
      " 'PQ_WITH_INCOME_69K' 'PQ_WITH_INCOME_83K' 'PQ_WITH_INCOME_1000K'\n",
      " 'PQ_WITH_INCOME_120K' 'PQ_WITH_INCOME_52K' 'PQ_WITH_INCOME_56K'\n",
      " 'PQ_WITH_INCOME_57K' 'PQ_WITH_INCOME_54K' 'PQ_WITH_INCOME_79K'\n",
      " 'PQ_WITH_INCOME_62K' 'PQ_WITH_INCOME_68K' 'PQ_WITH_INCOME_136K'\n",
      " 'PQ_WITH_INCOME_600K' 'PQ_WITH_INCOME_73K' 'PQ_WITH_INCOME_150K'\n",
      " 'PQ_WITH_INCOME_53K' 'PQ_WITH_INCOME_625K' 'PQ_WITH_INCOME_417K'\n",
      " 'PQ_WITH_INCOME_55K' 'PQ_WITH_INCOME_87K' 'PQ_WITH_INCOME_78K'\n",
      " 'PQ_WITH_INCOME_90K' 'PQ_WITH_INCOME_104K' 'PQ_WITH_INCOME_80K'\n",
      " 'PQ_WITH_INCOME_124K' 'PQ_WITH_INCOME_109K' 'PQ_WITH_INCOME_93K'\n",
      " 'PQ_WITH_INCOME_99K' 'PQ_WITH_INCOME_70K' 'PQ_WITH_INCOME_113K'\n",
      " 'PQ_WITH_INCOME_158K' 'PQ_WITH_INCOME_89K' 'PQ_WITH_INCOME_91K'\n",
      " 'PQ_WITH_INCOME_66K' 'PQ_WITH_INCOME_142K' 'PQ_WITH_INCOME_88K'\n",
      " 'PQ_WITH_INCOME_130K' 'PQ_WITH_INCOME_375K' 'PQ_WITH_INCOME_500K'\n",
      " 'PQ_WITH_INCOME_4167K' 'PQ_WITH_INCOME_81K' 'PQ_WITH_INCOME_76K'\n",
      " 'PQ_WITH_INCOME_85K' 'PQ_WITH_INCOME_407K' 'PQ_WITH_INCOME_317K'\n",
      " 'PQ_WITH_INCOME_250K' 'PQ_WITH_INCOME_95K' 'PQ_WITH_INCOME_200K'\n",
      " 'PQ_WITH_INCOME_3333K' 'PQ_WITH_INCOME_144K' 'PQ_WITH_INCOME_196K'\n",
      " 'PQ_WITH_INCOME_185K' 'PQ_WITH_INCOME_86K' 'PQ_WITH_INCOME_300K'\n",
      " 'PQ_WITH_INCOME_208K' 'PQ_WITH_INCOME_117K' 'PQ_WITH_INCOME_188K'\n",
      " 'PQ_WITH_INCOME_133K']\n",
      "===========xxx==========\n",
      "\n",
      "LEGAL_ENTITY\n",
      "['INDIVIDUAL' 'OTHERS' 'NON_GOVERNMENTAL_ORG' 'ASSOCIATION' 'FIRM']\n",
      "['INDIVIDUAL' 'OTHERS' 'NON_GOVERNMENTAL_ORG' 'PROPRIETERSHIP'\n",
      " 'ASSOCIATION' 'TRUSTS']\n",
      "===========xxx==========\n",
      "\n",
      "TPT_DC_CATEGORY_MON_01\n",
      "['NO_TPT_TXN' 'NOT_RELEVANT' 'MEDICAL' 'LOAN' 'TRANSFER' 'TRAVEL'\n",
      " 'PERSONAL' 'RENT' 'CC_PAYMENT' 'RETURN' 'EMI' 'EDUCATION' 'BUILDER'\n",
      " 'CHILD_BIR' 'HELP' 'ADVANCE' 'WEDDING' 'GAS' 'ELECTRICI' 'OPERATION'\n",
      " 'JEWELLERY']\n",
      "['NO_TPT_TXN' 'NOT_RELEVANT' 'LOAN' 'TRANSFER' 'RETURN' 'RENT' 'EDUCATION'\n",
      " 'TRAVEL' 'PERSONAL' 'CC_PAYMENT' 'HELP' 'MEDICAL' 'EMI' 'WEDDING'\n",
      " 'ADVANCE' 'ELECTRICI' 'BUILDER' 'JEWELLERY' 'CHILD_BIR' 'GAS']\n",
      "===========xxx==========\n",
      "\n",
      "ACT_TYPE\n",
      "['CSA' 'SA']\n",
      "['CSA' 'SA']\n",
      "===========xxx==========\n",
      "\n",
      "IMPS_CC_CATEGORY_MON_01\n",
      "['NO_IMPS_TXN' 'NOT_RELEVANT' 'TRANSFER' 'RENT' 'LOAN' 'RETURN' 'EMI'\n",
      " 'CC_PAYMENT' 'PERSONAL' 'EDUCATION' 'TRAVEL' 'ADVANCE' 'CHILD_BIR'\n",
      " 'MEDICAL' 'GAS' 'BUILDER' 'HELP' 'JEWELLERY' 'WEDDING' 'ELECTRICI'\n",
      " 'OPERATION']\n",
      "['NO_IMPS_TXN' 'NOT_RELEVANT' 'TRAVEL' 'CC_PAYMENT' 'RETURN' 'LOAN'\n",
      " 'TRANSFER' 'EMI' 'PERSONAL' 'RENT' 'EDUCATION' 'ADVANCE' 'MEDICAL' 'HELP'\n",
      " 'OPERATION' 'WEDDING' 'BUILDER' 'ELECTRICI' 'CHILD_BIR' 'GAS']\n",
      "===========xxx==========\n",
      "\n",
      "NEFT_CC_CATEGORY\n",
      "['NO_NEFT_TXN' 'NOT_RELEVANT' 'LOAN' 'RETURN' 'TRANSFER' 'RENT' 'TRAVEL'\n",
      " 'EDUCATION' 'EMI' 'PERSONAL' 'MEDICAL' 'BUILDER' 'JEWELLERY' 'ELECTRICI'\n",
      " 'GAS' 'WEDDING' 'OPERATION' 'ADVANCE' 'CHILD_BIR' 'HELP']\n",
      "['NO_NEFT_TXN' 'NOT_RELEVANT' 'LOAN' 'EMI' 'TRANSFER' 'MEDICAL' 'ELECTRICI'\n",
      " 'EDUCATION' 'BUILDER' 'RETURN' 'RENT' 'TRAVEL' 'JEWELLERY' 'OPERATION'\n",
      " 'PERSONAL' 'GAS' 'ADVANCE' 'HELP' 'CC_PAYMENT' 'CHILD_BIR']\n",
      "===========xxx==========\n",
      "\n",
      "DESIGNATION_FINAL\n",
      "['MISSING' 'ENGINEER' 'MANAGER' 'EXECUTIVE' 'SUP/TECH/OPR' 'OFFICER'\n",
      " 'OTHERS' 'DEVEP/PROG/ANALYST/ASSO' 'REMAING' 'TOP_MANAG/DOC'\n",
      " 'TEACH/PROF/CONSULT']\n",
      "['MISSING' 'OTHERS' 'TEACH/PROF/CONSULT' 'OFFICER' 'EXECUTIVE' 'MANAGER'\n",
      " 'REMAING' 'TOP_MANAG/DOC' 'ENGINEER' 'DEVEP/PROG/ANALYST/ASSO'\n",
      " 'SUP/TECH/OPR']\n",
      "===========xxx==========\n",
      "\n",
      "TPT_CC_CATEGORY_MON_01\n",
      "['NO_TPT_TXN' 'NOT_RELEVANT' 'TRANSFER' 'LOAN' 'PERSONAL' 'RETURN' 'RENT'\n",
      " 'TRAVEL' 'CC_PAYMENT' 'EMI' 'CHILD_BIR' 'EDUCATION' 'GAS' 'ADVANCE'\n",
      " 'MEDICAL' 'HELP' 'ELECTRICI' 'WEDDING' 'BUILDER' 'OPERATION' 'JEWELLERY']\n",
      "['NO_TPT_TXN' 'NOT_RELEVANT' 'LOAN' 'TRANSFER' 'EMI' 'RETURN' 'RENT'\n",
      " 'TRAVEL' 'PERSONAL' 'CC_PAYMENT' 'MEDICAL' 'ADVANCE' 'EDUCATION' 'HELP'\n",
      " 'ELECTRICI' 'BUILDER' 'WEDDING' 'GAS' 'CHILD_BIR' 'OPERATION' 'JEWELLERY']\n",
      "===========xxx==========\n",
      "\n",
      "NEFT_DC_CATEGORY\n",
      "['NO_NEFT_TXN' 'NOT_RELEVANT' 'LOAN' 'RENT' 'JEWELLERY' 'EDUCATION'\n",
      " 'MEDICAL' 'TRAVEL' 'PERSONAL' 'CC_PAYMENT' 'BUILDER' 'GAS' 'ELECTRICI'\n",
      " 'EMI' 'CHILD_BIR' 'TRANSFER' 'HELP' 'WEDDING' 'OPERATION' 'RETURN']\n",
      "['NO_NEFT_TXN' 'NOT_RELEVANT' 'LOAN' 'BUILDER' 'GAS' 'RENT' 'ELECTRICI'\n",
      " 'EDUCATION' 'TRAVEL' 'CC_PAYMENT' 'EMI' 'MEDICAL' 'JEWELLERY' 'PERSONAL'\n",
      " 'WEDDING' 'CHILD_BIR' 'ADVANCE' 'TRANSFER' 'HELP' 'OPERATION']\n",
      "===========xxx==========\n",
      "\n",
      "TOP_CORP_TAG\n",
      "['NONE' 'TOP_100' 'TOP_800']\n",
      "['NONE' 'TOP_800' 'TOP_100']\n",
      "===========xxx==========\n",
      "\n"
     ]
    },
    {
     "data": {
      "text/html": [
       "<div>\n",
       "<style>\n",
       "    .dataframe thead tr:only-child th {\n",
       "        text-align: right;\n",
       "    }\n",
       "\n",
       "    .dataframe thead th {\n",
       "        text-align: left;\n",
       "    }\n",
       "\n",
       "    .dataframe tbody tr th {\n",
       "        vertical-align: top;\n",
       "    }\n",
       "</style>\n",
       "<table border=\"1\" class=\"dataframe\">\n",
       "  <thead>\n",
       "    <tr style=\"text-align: right;\">\n",
       "      <th></th>\n",
       "      <th>CHANNEL_CLICK_DISP</th>\n",
       "    </tr>\n",
       "  </thead>\n",
       "  <tbody>\n",
       "    <tr>\n",
       "      <th>0</th>\n",
       "      <td>NONE</td>\n",
       "    </tr>\n",
       "    <tr>\n",
       "      <th>1</th>\n",
       "      <td>NONE</td>\n",
       "    </tr>\n",
       "    <tr>\n",
       "      <th>2</th>\n",
       "      <td>NONE</td>\n",
       "    </tr>\n",
       "    <tr>\n",
       "      <th>3</th>\n",
       "      <td>NONE</td>\n",
       "    </tr>\n",
       "  </tbody>\n",
       "</table>\n",
       "</div>"
      ],
      "text/plain": [
       "  CHANNEL_CLICK_DISP\n",
       "0               NONE\n",
       "1               NONE\n",
       "2               NONE\n",
       "3               NONE"
      ]
     },
     "execution_count": 78,
     "metadata": {},
     "output_type": "execute_result"
    },
    {
     "data": {
      "text/html": [
       "<div>\n",
       "<style>\n",
       "    .dataframe thead tr:only-child th {\n",
       "        text-align: right;\n",
       "    }\n",
       "\n",
       "    .dataframe thead th {\n",
       "        text-align: left;\n",
       "    }\n",
       "\n",
       "    .dataframe tbody tr th {\n",
       "        vertical-align: top;\n",
       "    }\n",
       "</style>\n",
       "<table border=\"1\" class=\"dataframe\">\n",
       "  <thead>\n",
       "    <tr style=\"text-align: right;\">\n",
       "      <th></th>\n",
       "      <th>CHANNEL_CLICK_DISP</th>\n",
       "    </tr>\n",
       "  </thead>\n",
       "  <tbody>\n",
       "    <tr>\n",
       "      <th>0</th>\n",
       "      <td>NONE</td>\n",
       "    </tr>\n",
       "    <tr>\n",
       "      <th>1</th>\n",
       "      <td>NONE</td>\n",
       "    </tr>\n",
       "    <tr>\n",
       "      <th>2</th>\n",
       "      <td>NONE</td>\n",
       "    </tr>\n",
       "    <tr>\n",
       "      <th>3</th>\n",
       "      <td>NONE</td>\n",
       "    </tr>\n",
       "  </tbody>\n",
       "</table>\n",
       "</div>"
      ],
      "text/plain": [
       "  CHANNEL_CLICK_DISP\n",
       "0               NONE\n",
       "1               NONE\n",
       "2               NONE\n",
       "3               NONE"
      ]
     },
     "execution_count": 78,
     "metadata": {},
     "output_type": "execute_result"
    },
    {
     "data": {
      "text/html": [
       "<div>\n",
       "<style>\n",
       "    .dataframe thead tr:only-child th {\n",
       "        text-align: right;\n",
       "    }\n",
       "\n",
       "    .dataframe thead th {\n",
       "        text-align: left;\n",
       "    }\n",
       "\n",
       "    .dataframe tbody tr th {\n",
       "        vertical-align: top;\n",
       "    }\n",
       "</style>\n",
       "<table border=\"1\" class=\"dataframe\">\n",
       "  <thead>\n",
       "    <tr style=\"text-align: right;\">\n",
       "      <th></th>\n",
       "      <th>GENDER</th>\n",
       "    </tr>\n",
       "  </thead>\n",
       "  <tbody>\n",
       "    <tr>\n",
       "      <th>0</th>\n",
       "      <td>M</td>\n",
       "    </tr>\n",
       "    <tr>\n",
       "      <th>1</th>\n",
       "      <td>M</td>\n",
       "    </tr>\n",
       "    <tr>\n",
       "      <th>2</th>\n",
       "      <td>F</td>\n",
       "    </tr>\n",
       "    <tr>\n",
       "      <th>3</th>\n",
       "      <td>F</td>\n",
       "    </tr>\n",
       "  </tbody>\n",
       "</table>\n",
       "</div>"
      ],
      "text/plain": [
       "  GENDER\n",
       "0      M\n",
       "1      M\n",
       "2      F\n",
       "3      F"
      ]
     },
     "execution_count": 78,
     "metadata": {},
     "output_type": "execute_result"
    },
    {
     "data": {
      "text/html": [
       "<div>\n",
       "<style>\n",
       "    .dataframe thead tr:only-child th {\n",
       "        text-align: right;\n",
       "    }\n",
       "\n",
       "    .dataframe thead th {\n",
       "        text-align: left;\n",
       "    }\n",
       "\n",
       "    .dataframe tbody tr th {\n",
       "        vertical-align: top;\n",
       "    }\n",
       "</style>\n",
       "<table border=\"1\" class=\"dataframe\">\n",
       "  <thead>\n",
       "    <tr style=\"text-align: right;\">\n",
       "      <th></th>\n",
       "      <th>GENDER</th>\n",
       "    </tr>\n",
       "  </thead>\n",
       "  <tbody>\n",
       "    <tr>\n",
       "      <th>0</th>\n",
       "      <td>M</td>\n",
       "    </tr>\n",
       "    <tr>\n",
       "      <th>1</th>\n",
       "      <td>M</td>\n",
       "    </tr>\n",
       "    <tr>\n",
       "      <th>2</th>\n",
       "      <td>M</td>\n",
       "    </tr>\n",
       "    <tr>\n",
       "      <th>3</th>\n",
       "      <td>M</td>\n",
       "    </tr>\n",
       "  </tbody>\n",
       "</table>\n",
       "</div>"
      ],
      "text/plain": [
       "  GENDER\n",
       "0      M\n",
       "1      M\n",
       "2      M\n",
       "3      M"
      ]
     },
     "execution_count": 78,
     "metadata": {},
     "output_type": "execute_result"
    },
    {
     "data": {
      "text/html": [
       "<div>\n",
       "<style>\n",
       "    .dataframe thead tr:only-child th {\n",
       "        text-align: right;\n",
       "    }\n",
       "\n",
       "    .dataframe thead th {\n",
       "        text-align: left;\n",
       "    }\n",
       "\n",
       "    .dataframe tbody tr th {\n",
       "        vertical-align: top;\n",
       "    }\n",
       "</style>\n",
       "<table border=\"1\" class=\"dataframe\">\n",
       "  <thead>\n",
       "    <tr style=\"text-align: right;\">\n",
       "      <th></th>\n",
       "      <th>PA_PQ_TAG</th>\n",
       "    </tr>\n",
       "  </thead>\n",
       "  <tbody>\n",
       "    <tr>\n",
       "      <th>3</th>\n",
       "      <td>Green Channel</td>\n",
       "    </tr>\n",
       "    <tr>\n",
       "      <th>4</th>\n",
       "      <td>PQ_WITH_INCOME_71K</td>\n",
       "    </tr>\n",
       "    <tr>\n",
       "      <th>6</th>\n",
       "      <td>STP</td>\n",
       "    </tr>\n",
       "    <tr>\n",
       "      <th>9</th>\n",
       "      <td>STP</td>\n",
       "    </tr>\n",
       "  </tbody>\n",
       "</table>\n",
       "</div>"
      ],
      "text/plain": [
       "            PA_PQ_TAG\n",
       "3       Green Channel\n",
       "4  PQ_WITH_INCOME_71K\n",
       "6                 STP\n",
       "9                 STP"
      ]
     },
     "execution_count": 78,
     "metadata": {},
     "output_type": "execute_result"
    },
    {
     "data": {
      "text/html": [
       "<div>\n",
       "<style>\n",
       "    .dataframe thead tr:only-child th {\n",
       "        text-align: right;\n",
       "    }\n",
       "\n",
       "    .dataframe thead th {\n",
       "        text-align: left;\n",
       "    }\n",
       "\n",
       "    .dataframe tbody tr th {\n",
       "        vertical-align: top;\n",
       "    }\n",
       "</style>\n",
       "<table border=\"1\" class=\"dataframe\">\n",
       "  <thead>\n",
       "    <tr style=\"text-align: right;\">\n",
       "      <th></th>\n",
       "      <th>PA_PQ_TAG</th>\n",
       "    </tr>\n",
       "  </thead>\n",
       "  <tbody>\n",
       "    <tr>\n",
       "      <th>4</th>\n",
       "      <td>PQ_WITH_INCOME_20K</td>\n",
       "    </tr>\n",
       "    <tr>\n",
       "      <th>5</th>\n",
       "      <td>Green Channel</td>\n",
       "    </tr>\n",
       "    <tr>\n",
       "      <th>8</th>\n",
       "      <td>PQ_WITH_INCOME_25K</td>\n",
       "    </tr>\n",
       "    <tr>\n",
       "      <th>12</th>\n",
       "      <td>STP</td>\n",
       "    </tr>\n",
       "  </tbody>\n",
       "</table>\n",
       "</div>"
      ],
      "text/plain": [
       "             PA_PQ_TAG\n",
       "4   PQ_WITH_INCOME_20K\n",
       "5        Green Channel\n",
       "8   PQ_WITH_INCOME_25K\n",
       "12                 STP"
      ]
     },
     "execution_count": 78,
     "metadata": {},
     "output_type": "execute_result"
    },
    {
     "data": {
      "text/html": [
       "<div>\n",
       "<style>\n",
       "    .dataframe thead tr:only-child th {\n",
       "        text-align: right;\n",
       "    }\n",
       "\n",
       "    .dataframe thead th {\n",
       "        text-align: left;\n",
       "    }\n",
       "\n",
       "    .dataframe tbody tr th {\n",
       "        vertical-align: top;\n",
       "    }\n",
       "</style>\n",
       "<table border=\"1\" class=\"dataframe\">\n",
       "  <thead>\n",
       "    <tr style=\"text-align: right;\">\n",
       "      <th></th>\n",
       "      <th>LEGAL_ENTITY</th>\n",
       "    </tr>\n",
       "  </thead>\n",
       "  <tbody>\n",
       "    <tr>\n",
       "      <th>0</th>\n",
       "      <td>INDIVIDUAL</td>\n",
       "    </tr>\n",
       "    <tr>\n",
       "      <th>1</th>\n",
       "      <td>INDIVIDUAL</td>\n",
       "    </tr>\n",
       "    <tr>\n",
       "      <th>2</th>\n",
       "      <td>INDIVIDUAL</td>\n",
       "    </tr>\n",
       "    <tr>\n",
       "      <th>3</th>\n",
       "      <td>INDIVIDUAL</td>\n",
       "    </tr>\n",
       "  </tbody>\n",
       "</table>\n",
       "</div>"
      ],
      "text/plain": [
       "  LEGAL_ENTITY\n",
       "0   INDIVIDUAL\n",
       "1   INDIVIDUAL\n",
       "2   INDIVIDUAL\n",
       "3   INDIVIDUAL"
      ]
     },
     "execution_count": 78,
     "metadata": {},
     "output_type": "execute_result"
    },
    {
     "data": {
      "text/html": [
       "<div>\n",
       "<style>\n",
       "    .dataframe thead tr:only-child th {\n",
       "        text-align: right;\n",
       "    }\n",
       "\n",
       "    .dataframe thead th {\n",
       "        text-align: left;\n",
       "    }\n",
       "\n",
       "    .dataframe tbody tr th {\n",
       "        vertical-align: top;\n",
       "    }\n",
       "</style>\n",
       "<table border=\"1\" class=\"dataframe\">\n",
       "  <thead>\n",
       "    <tr style=\"text-align: right;\">\n",
       "      <th></th>\n",
       "      <th>LEGAL_ENTITY</th>\n",
       "    </tr>\n",
       "  </thead>\n",
       "  <tbody>\n",
       "    <tr>\n",
       "      <th>0</th>\n",
       "      <td>INDIVIDUAL</td>\n",
       "    </tr>\n",
       "    <tr>\n",
       "      <th>1</th>\n",
       "      <td>INDIVIDUAL</td>\n",
       "    </tr>\n",
       "    <tr>\n",
       "      <th>2</th>\n",
       "      <td>INDIVIDUAL</td>\n",
       "    </tr>\n",
       "    <tr>\n",
       "      <th>3</th>\n",
       "      <td>INDIVIDUAL</td>\n",
       "    </tr>\n",
       "  </tbody>\n",
       "</table>\n",
       "</div>"
      ],
      "text/plain": [
       "  LEGAL_ENTITY\n",
       "0   INDIVIDUAL\n",
       "1   INDIVIDUAL\n",
       "2   INDIVIDUAL\n",
       "3   INDIVIDUAL"
      ]
     },
     "execution_count": 78,
     "metadata": {},
     "output_type": "execute_result"
    },
    {
     "data": {
      "text/html": [
       "<div>\n",
       "<style>\n",
       "    .dataframe thead tr:only-child th {\n",
       "        text-align: right;\n",
       "    }\n",
       "\n",
       "    .dataframe thead th {\n",
       "        text-align: left;\n",
       "    }\n",
       "\n",
       "    .dataframe tbody tr th {\n",
       "        vertical-align: top;\n",
       "    }\n",
       "</style>\n",
       "<table border=\"1\" class=\"dataframe\">\n",
       "  <thead>\n",
       "    <tr style=\"text-align: right;\">\n",
       "      <th></th>\n",
       "      <th>TPT_DC_CATEGORY_MON_01</th>\n",
       "    </tr>\n",
       "  </thead>\n",
       "  <tbody>\n",
       "    <tr>\n",
       "      <th>0</th>\n",
       "      <td>NO_TPT_TXN</td>\n",
       "    </tr>\n",
       "    <tr>\n",
       "      <th>1</th>\n",
       "      <td>NO_TPT_TXN</td>\n",
       "    </tr>\n",
       "    <tr>\n",
       "      <th>2</th>\n",
       "      <td>NO_TPT_TXN</td>\n",
       "    </tr>\n",
       "    <tr>\n",
       "      <th>3</th>\n",
       "      <td>NO_TPT_TXN</td>\n",
       "    </tr>\n",
       "  </tbody>\n",
       "</table>\n",
       "</div>"
      ],
      "text/plain": [
       "  TPT_DC_CATEGORY_MON_01\n",
       "0             NO_TPT_TXN\n",
       "1             NO_TPT_TXN\n",
       "2             NO_TPT_TXN\n",
       "3             NO_TPT_TXN"
      ]
     },
     "execution_count": 78,
     "metadata": {},
     "output_type": "execute_result"
    },
    {
     "data": {
      "text/html": [
       "<div>\n",
       "<style>\n",
       "    .dataframe thead tr:only-child th {\n",
       "        text-align: right;\n",
       "    }\n",
       "\n",
       "    .dataframe thead th {\n",
       "        text-align: left;\n",
       "    }\n",
       "\n",
       "    .dataframe tbody tr th {\n",
       "        vertical-align: top;\n",
       "    }\n",
       "</style>\n",
       "<table border=\"1\" class=\"dataframe\">\n",
       "  <thead>\n",
       "    <tr style=\"text-align: right;\">\n",
       "      <th></th>\n",
       "      <th>TPT_DC_CATEGORY_MON_01</th>\n",
       "    </tr>\n",
       "  </thead>\n",
       "  <tbody>\n",
       "    <tr>\n",
       "      <th>0</th>\n",
       "      <td>NO_TPT_TXN</td>\n",
       "    </tr>\n",
       "    <tr>\n",
       "      <th>1</th>\n",
       "      <td>NO_TPT_TXN</td>\n",
       "    </tr>\n",
       "    <tr>\n",
       "      <th>2</th>\n",
       "      <td>NO_TPT_TXN</td>\n",
       "    </tr>\n",
       "    <tr>\n",
       "      <th>3</th>\n",
       "      <td>NO_TPT_TXN</td>\n",
       "    </tr>\n",
       "  </tbody>\n",
       "</table>\n",
       "</div>"
      ],
      "text/plain": [
       "  TPT_DC_CATEGORY_MON_01\n",
       "0             NO_TPT_TXN\n",
       "1             NO_TPT_TXN\n",
       "2             NO_TPT_TXN\n",
       "3             NO_TPT_TXN"
      ]
     },
     "execution_count": 78,
     "metadata": {},
     "output_type": "execute_result"
    },
    {
     "data": {
      "text/html": [
       "<div>\n",
       "<style>\n",
       "    .dataframe thead tr:only-child th {\n",
       "        text-align: right;\n",
       "    }\n",
       "\n",
       "    .dataframe thead th {\n",
       "        text-align: left;\n",
       "    }\n",
       "\n",
       "    .dataframe tbody tr th {\n",
       "        vertical-align: top;\n",
       "    }\n",
       "</style>\n",
       "<table border=\"1\" class=\"dataframe\">\n",
       "  <thead>\n",
       "    <tr style=\"text-align: right;\">\n",
       "      <th></th>\n",
       "      <th>ACT_TYPE</th>\n",
       "    </tr>\n",
       "  </thead>\n",
       "  <tbody>\n",
       "    <tr>\n",
       "      <th>0</th>\n",
       "      <td>CSA</td>\n",
       "    </tr>\n",
       "    <tr>\n",
       "      <th>1</th>\n",
       "      <td>CSA</td>\n",
       "    </tr>\n",
       "    <tr>\n",
       "      <th>2</th>\n",
       "      <td>SA</td>\n",
       "    </tr>\n",
       "    <tr>\n",
       "      <th>3</th>\n",
       "      <td>CSA</td>\n",
       "    </tr>\n",
       "  </tbody>\n",
       "</table>\n",
       "</div>"
      ],
      "text/plain": [
       "  ACT_TYPE\n",
       "0      CSA\n",
       "1      CSA\n",
       "2       SA\n",
       "3      CSA"
      ]
     },
     "execution_count": 78,
     "metadata": {},
     "output_type": "execute_result"
    },
    {
     "data": {
      "text/html": [
       "<div>\n",
       "<style>\n",
       "    .dataframe thead tr:only-child th {\n",
       "        text-align: right;\n",
       "    }\n",
       "\n",
       "    .dataframe thead th {\n",
       "        text-align: left;\n",
       "    }\n",
       "\n",
       "    .dataframe tbody tr th {\n",
       "        vertical-align: top;\n",
       "    }\n",
       "</style>\n",
       "<table border=\"1\" class=\"dataframe\">\n",
       "  <thead>\n",
       "    <tr style=\"text-align: right;\">\n",
       "      <th></th>\n",
       "      <th>ACT_TYPE</th>\n",
       "    </tr>\n",
       "  </thead>\n",
       "  <tbody>\n",
       "    <tr>\n",
       "      <th>0</th>\n",
       "      <td>CSA</td>\n",
       "    </tr>\n",
       "    <tr>\n",
       "      <th>1</th>\n",
       "      <td>CSA</td>\n",
       "    </tr>\n",
       "    <tr>\n",
       "      <th>2</th>\n",
       "      <td>CSA</td>\n",
       "    </tr>\n",
       "    <tr>\n",
       "      <th>3</th>\n",
       "      <td>CSA</td>\n",
       "    </tr>\n",
       "  </tbody>\n",
       "</table>\n",
       "</div>"
      ],
      "text/plain": [
       "  ACT_TYPE\n",
       "0      CSA\n",
       "1      CSA\n",
       "2      CSA\n",
       "3      CSA"
      ]
     },
     "execution_count": 78,
     "metadata": {},
     "output_type": "execute_result"
    },
    {
     "data": {
      "text/html": [
       "<div>\n",
       "<style>\n",
       "    .dataframe thead tr:only-child th {\n",
       "        text-align: right;\n",
       "    }\n",
       "\n",
       "    .dataframe thead th {\n",
       "        text-align: left;\n",
       "    }\n",
       "\n",
       "    .dataframe tbody tr th {\n",
       "        vertical-align: top;\n",
       "    }\n",
       "</style>\n",
       "<table border=\"1\" class=\"dataframe\">\n",
       "  <thead>\n",
       "    <tr style=\"text-align: right;\">\n",
       "      <th></th>\n",
       "      <th>IMPS_CC_CATEGORY_MON_01</th>\n",
       "    </tr>\n",
       "  </thead>\n",
       "  <tbody>\n",
       "    <tr>\n",
       "      <th>0</th>\n",
       "      <td>NO_IMPS_TXN</td>\n",
       "    </tr>\n",
       "    <tr>\n",
       "      <th>1</th>\n",
       "      <td>NO_IMPS_TXN</td>\n",
       "    </tr>\n",
       "    <tr>\n",
       "      <th>2</th>\n",
       "      <td>NO_IMPS_TXN</td>\n",
       "    </tr>\n",
       "    <tr>\n",
       "      <th>3</th>\n",
       "      <td>NO_IMPS_TXN</td>\n",
       "    </tr>\n",
       "  </tbody>\n",
       "</table>\n",
       "</div>"
      ],
      "text/plain": [
       "  IMPS_CC_CATEGORY_MON_01\n",
       "0             NO_IMPS_TXN\n",
       "1             NO_IMPS_TXN\n",
       "2             NO_IMPS_TXN\n",
       "3             NO_IMPS_TXN"
      ]
     },
     "execution_count": 78,
     "metadata": {},
     "output_type": "execute_result"
    },
    {
     "data": {
      "text/html": [
       "<div>\n",
       "<style>\n",
       "    .dataframe thead tr:only-child th {\n",
       "        text-align: right;\n",
       "    }\n",
       "\n",
       "    .dataframe thead th {\n",
       "        text-align: left;\n",
       "    }\n",
       "\n",
       "    .dataframe tbody tr th {\n",
       "        vertical-align: top;\n",
       "    }\n",
       "</style>\n",
       "<table border=\"1\" class=\"dataframe\">\n",
       "  <thead>\n",
       "    <tr style=\"text-align: right;\">\n",
       "      <th></th>\n",
       "      <th>IMPS_CC_CATEGORY_MON_01</th>\n",
       "    </tr>\n",
       "  </thead>\n",
       "  <tbody>\n",
       "    <tr>\n",
       "      <th>0</th>\n",
       "      <td>NO_IMPS_TXN</td>\n",
       "    </tr>\n",
       "    <tr>\n",
       "      <th>1</th>\n",
       "      <td>NO_IMPS_TXN</td>\n",
       "    </tr>\n",
       "    <tr>\n",
       "      <th>2</th>\n",
       "      <td>NO_IMPS_TXN</td>\n",
       "    </tr>\n",
       "    <tr>\n",
       "      <th>3</th>\n",
       "      <td>NO_IMPS_TXN</td>\n",
       "    </tr>\n",
       "  </tbody>\n",
       "</table>\n",
       "</div>"
      ],
      "text/plain": [
       "  IMPS_CC_CATEGORY_MON_01\n",
       "0             NO_IMPS_TXN\n",
       "1             NO_IMPS_TXN\n",
       "2             NO_IMPS_TXN\n",
       "3             NO_IMPS_TXN"
      ]
     },
     "execution_count": 78,
     "metadata": {},
     "output_type": "execute_result"
    },
    {
     "data": {
      "text/html": [
       "<div>\n",
       "<style>\n",
       "    .dataframe thead tr:only-child th {\n",
       "        text-align: right;\n",
       "    }\n",
       "\n",
       "    .dataframe thead th {\n",
       "        text-align: left;\n",
       "    }\n",
       "\n",
       "    .dataframe tbody tr th {\n",
       "        vertical-align: top;\n",
       "    }\n",
       "</style>\n",
       "<table border=\"1\" class=\"dataframe\">\n",
       "  <thead>\n",
       "    <tr style=\"text-align: right;\">\n",
       "      <th></th>\n",
       "      <th>NEFT_CC_CATEGORY</th>\n",
       "    </tr>\n",
       "  </thead>\n",
       "  <tbody>\n",
       "    <tr>\n",
       "      <th>0</th>\n",
       "      <td>NO_NEFT_TXN</td>\n",
       "    </tr>\n",
       "    <tr>\n",
       "      <th>1</th>\n",
       "      <td>NO_NEFT_TXN</td>\n",
       "    </tr>\n",
       "    <tr>\n",
       "      <th>2</th>\n",
       "      <td>NO_NEFT_TXN</td>\n",
       "    </tr>\n",
       "    <tr>\n",
       "      <th>3</th>\n",
       "      <td>NO_NEFT_TXN</td>\n",
       "    </tr>\n",
       "  </tbody>\n",
       "</table>\n",
       "</div>"
      ],
      "text/plain": [
       "  NEFT_CC_CATEGORY\n",
       "0      NO_NEFT_TXN\n",
       "1      NO_NEFT_TXN\n",
       "2      NO_NEFT_TXN\n",
       "3      NO_NEFT_TXN"
      ]
     },
     "execution_count": 78,
     "metadata": {},
     "output_type": "execute_result"
    },
    {
     "data": {
      "text/html": [
       "<div>\n",
       "<style>\n",
       "    .dataframe thead tr:only-child th {\n",
       "        text-align: right;\n",
       "    }\n",
       "\n",
       "    .dataframe thead th {\n",
       "        text-align: left;\n",
       "    }\n",
       "\n",
       "    .dataframe tbody tr th {\n",
       "        vertical-align: top;\n",
       "    }\n",
       "</style>\n",
       "<table border=\"1\" class=\"dataframe\">\n",
       "  <thead>\n",
       "    <tr style=\"text-align: right;\">\n",
       "      <th></th>\n",
       "      <th>NEFT_CC_CATEGORY</th>\n",
       "    </tr>\n",
       "  </thead>\n",
       "  <tbody>\n",
       "    <tr>\n",
       "      <th>0</th>\n",
       "      <td>NO_NEFT_TXN</td>\n",
       "    </tr>\n",
       "    <tr>\n",
       "      <th>1</th>\n",
       "      <td>NO_NEFT_TXN</td>\n",
       "    </tr>\n",
       "    <tr>\n",
       "      <th>2</th>\n",
       "      <td>NO_NEFT_TXN</td>\n",
       "    </tr>\n",
       "    <tr>\n",
       "      <th>3</th>\n",
       "      <td>NO_NEFT_TXN</td>\n",
       "    </tr>\n",
       "  </tbody>\n",
       "</table>\n",
       "</div>"
      ],
      "text/plain": [
       "  NEFT_CC_CATEGORY\n",
       "0      NO_NEFT_TXN\n",
       "1      NO_NEFT_TXN\n",
       "2      NO_NEFT_TXN\n",
       "3      NO_NEFT_TXN"
      ]
     },
     "execution_count": 78,
     "metadata": {},
     "output_type": "execute_result"
    },
    {
     "data": {
      "text/html": [
       "<div>\n",
       "<style>\n",
       "    .dataframe thead tr:only-child th {\n",
       "        text-align: right;\n",
       "    }\n",
       "\n",
       "    .dataframe thead th {\n",
       "        text-align: left;\n",
       "    }\n",
       "\n",
       "    .dataframe tbody tr th {\n",
       "        vertical-align: top;\n",
       "    }\n",
       "</style>\n",
       "<table border=\"1\" class=\"dataframe\">\n",
       "  <thead>\n",
       "    <tr style=\"text-align: right;\">\n",
       "      <th></th>\n",
       "      <th>DESIGNATION_FINAL</th>\n",
       "    </tr>\n",
       "  </thead>\n",
       "  <tbody>\n",
       "    <tr>\n",
       "      <th>0</th>\n",
       "      <td>MISSING</td>\n",
       "    </tr>\n",
       "    <tr>\n",
       "      <th>1</th>\n",
       "      <td>MISSING</td>\n",
       "    </tr>\n",
       "    <tr>\n",
       "      <th>2</th>\n",
       "      <td>MISSING</td>\n",
       "    </tr>\n",
       "    <tr>\n",
       "      <th>3</th>\n",
       "      <td>MISSING</td>\n",
       "    </tr>\n",
       "  </tbody>\n",
       "</table>\n",
       "</div>"
      ],
      "text/plain": [
       "  DESIGNATION_FINAL\n",
       "0           MISSING\n",
       "1           MISSING\n",
       "2           MISSING\n",
       "3           MISSING"
      ]
     },
     "execution_count": 78,
     "metadata": {},
     "output_type": "execute_result"
    },
    {
     "data": {
      "text/html": [
       "<div>\n",
       "<style>\n",
       "    .dataframe thead tr:only-child th {\n",
       "        text-align: right;\n",
       "    }\n",
       "\n",
       "    .dataframe thead th {\n",
       "        text-align: left;\n",
       "    }\n",
       "\n",
       "    .dataframe tbody tr th {\n",
       "        vertical-align: top;\n",
       "    }\n",
       "</style>\n",
       "<table border=\"1\" class=\"dataframe\">\n",
       "  <thead>\n",
       "    <tr style=\"text-align: right;\">\n",
       "      <th></th>\n",
       "      <th>DESIGNATION_FINAL</th>\n",
       "    </tr>\n",
       "  </thead>\n",
       "  <tbody>\n",
       "    <tr>\n",
       "      <th>0</th>\n",
       "      <td>MISSING</td>\n",
       "    </tr>\n",
       "    <tr>\n",
       "      <th>1</th>\n",
       "      <td>MISSING</td>\n",
       "    </tr>\n",
       "    <tr>\n",
       "      <th>2</th>\n",
       "      <td>MISSING</td>\n",
       "    </tr>\n",
       "    <tr>\n",
       "      <th>3</th>\n",
       "      <td>MISSING</td>\n",
       "    </tr>\n",
       "  </tbody>\n",
       "</table>\n",
       "</div>"
      ],
      "text/plain": [
       "  DESIGNATION_FINAL\n",
       "0           MISSING\n",
       "1           MISSING\n",
       "2           MISSING\n",
       "3           MISSING"
      ]
     },
     "execution_count": 78,
     "metadata": {},
     "output_type": "execute_result"
    },
    {
     "data": {
      "text/html": [
       "<div>\n",
       "<style>\n",
       "    .dataframe thead tr:only-child th {\n",
       "        text-align: right;\n",
       "    }\n",
       "\n",
       "    .dataframe thead th {\n",
       "        text-align: left;\n",
       "    }\n",
       "\n",
       "    .dataframe tbody tr th {\n",
       "        vertical-align: top;\n",
       "    }\n",
       "</style>\n",
       "<table border=\"1\" class=\"dataframe\">\n",
       "  <thead>\n",
       "    <tr style=\"text-align: right;\">\n",
       "      <th></th>\n",
       "      <th>TPT_CC_CATEGORY_MON_01</th>\n",
       "    </tr>\n",
       "  </thead>\n",
       "  <tbody>\n",
       "    <tr>\n",
       "      <th>0</th>\n",
       "      <td>NO_TPT_TXN</td>\n",
       "    </tr>\n",
       "    <tr>\n",
       "      <th>1</th>\n",
       "      <td>NO_TPT_TXN</td>\n",
       "    </tr>\n",
       "    <tr>\n",
       "      <th>2</th>\n",
       "      <td>NO_TPT_TXN</td>\n",
       "    </tr>\n",
       "    <tr>\n",
       "      <th>3</th>\n",
       "      <td>NO_TPT_TXN</td>\n",
       "    </tr>\n",
       "  </tbody>\n",
       "</table>\n",
       "</div>"
      ],
      "text/plain": [
       "  TPT_CC_CATEGORY_MON_01\n",
       "0             NO_TPT_TXN\n",
       "1             NO_TPT_TXN\n",
       "2             NO_TPT_TXN\n",
       "3             NO_TPT_TXN"
      ]
     },
     "execution_count": 78,
     "metadata": {},
     "output_type": "execute_result"
    },
    {
     "data": {
      "text/html": [
       "<div>\n",
       "<style>\n",
       "    .dataframe thead tr:only-child th {\n",
       "        text-align: right;\n",
       "    }\n",
       "\n",
       "    .dataframe thead th {\n",
       "        text-align: left;\n",
       "    }\n",
       "\n",
       "    .dataframe tbody tr th {\n",
       "        vertical-align: top;\n",
       "    }\n",
       "</style>\n",
       "<table border=\"1\" class=\"dataframe\">\n",
       "  <thead>\n",
       "    <tr style=\"text-align: right;\">\n",
       "      <th></th>\n",
       "      <th>TPT_CC_CATEGORY_MON_01</th>\n",
       "    </tr>\n",
       "  </thead>\n",
       "  <tbody>\n",
       "    <tr>\n",
       "      <th>0</th>\n",
       "      <td>NO_TPT_TXN</td>\n",
       "    </tr>\n",
       "    <tr>\n",
       "      <th>1</th>\n",
       "      <td>NO_TPT_TXN</td>\n",
       "    </tr>\n",
       "    <tr>\n",
       "      <th>2</th>\n",
       "      <td>NO_TPT_TXN</td>\n",
       "    </tr>\n",
       "    <tr>\n",
       "      <th>3</th>\n",
       "      <td>NO_TPT_TXN</td>\n",
       "    </tr>\n",
       "  </tbody>\n",
       "</table>\n",
       "</div>"
      ],
      "text/plain": [
       "  TPT_CC_CATEGORY_MON_01\n",
       "0             NO_TPT_TXN\n",
       "1             NO_TPT_TXN\n",
       "2             NO_TPT_TXN\n",
       "3             NO_TPT_TXN"
      ]
     },
     "execution_count": 78,
     "metadata": {},
     "output_type": "execute_result"
    },
    {
     "data": {
      "text/html": [
       "<div>\n",
       "<style>\n",
       "    .dataframe thead tr:only-child th {\n",
       "        text-align: right;\n",
       "    }\n",
       "\n",
       "    .dataframe thead th {\n",
       "        text-align: left;\n",
       "    }\n",
       "\n",
       "    .dataframe tbody tr th {\n",
       "        vertical-align: top;\n",
       "    }\n",
       "</style>\n",
       "<table border=\"1\" class=\"dataframe\">\n",
       "  <thead>\n",
       "    <tr style=\"text-align: right;\">\n",
       "      <th></th>\n",
       "      <th>NEFT_DC_CATEGORY</th>\n",
       "    </tr>\n",
       "  </thead>\n",
       "  <tbody>\n",
       "    <tr>\n",
       "      <th>0</th>\n",
       "      <td>NO_NEFT_TXN</td>\n",
       "    </tr>\n",
       "    <tr>\n",
       "      <th>1</th>\n",
       "      <td>NO_NEFT_TXN</td>\n",
       "    </tr>\n",
       "    <tr>\n",
       "      <th>2</th>\n",
       "      <td>NO_NEFT_TXN</td>\n",
       "    </tr>\n",
       "    <tr>\n",
       "      <th>3</th>\n",
       "      <td>NO_NEFT_TXN</td>\n",
       "    </tr>\n",
       "  </tbody>\n",
       "</table>\n",
       "</div>"
      ],
      "text/plain": [
       "  NEFT_DC_CATEGORY\n",
       "0      NO_NEFT_TXN\n",
       "1      NO_NEFT_TXN\n",
       "2      NO_NEFT_TXN\n",
       "3      NO_NEFT_TXN"
      ]
     },
     "execution_count": 78,
     "metadata": {},
     "output_type": "execute_result"
    },
    {
     "data": {
      "text/html": [
       "<div>\n",
       "<style>\n",
       "    .dataframe thead tr:only-child th {\n",
       "        text-align: right;\n",
       "    }\n",
       "\n",
       "    .dataframe thead th {\n",
       "        text-align: left;\n",
       "    }\n",
       "\n",
       "    .dataframe tbody tr th {\n",
       "        vertical-align: top;\n",
       "    }\n",
       "</style>\n",
       "<table border=\"1\" class=\"dataframe\">\n",
       "  <thead>\n",
       "    <tr style=\"text-align: right;\">\n",
       "      <th></th>\n",
       "      <th>NEFT_DC_CATEGORY</th>\n",
       "    </tr>\n",
       "  </thead>\n",
       "  <tbody>\n",
       "    <tr>\n",
       "      <th>0</th>\n",
       "      <td>NO_NEFT_TXN</td>\n",
       "    </tr>\n",
       "    <tr>\n",
       "      <th>1</th>\n",
       "      <td>NO_NEFT_TXN</td>\n",
       "    </tr>\n",
       "    <tr>\n",
       "      <th>2</th>\n",
       "      <td>NOT_RELEVANT</td>\n",
       "    </tr>\n",
       "    <tr>\n",
       "      <th>3</th>\n",
       "      <td>NO_NEFT_TXN</td>\n",
       "    </tr>\n",
       "  </tbody>\n",
       "</table>\n",
       "</div>"
      ],
      "text/plain": [
       "  NEFT_DC_CATEGORY\n",
       "0      NO_NEFT_TXN\n",
       "1      NO_NEFT_TXN\n",
       "2     NOT_RELEVANT\n",
       "3      NO_NEFT_TXN"
      ]
     },
     "execution_count": 78,
     "metadata": {},
     "output_type": "execute_result"
    },
    {
     "data": {
      "text/html": [
       "<div>\n",
       "<style>\n",
       "    .dataframe thead tr:only-child th {\n",
       "        text-align: right;\n",
       "    }\n",
       "\n",
       "    .dataframe thead th {\n",
       "        text-align: left;\n",
       "    }\n",
       "\n",
       "    .dataframe tbody tr th {\n",
       "        vertical-align: top;\n",
       "    }\n",
       "</style>\n",
       "<table border=\"1\" class=\"dataframe\">\n",
       "  <thead>\n",
       "    <tr style=\"text-align: right;\">\n",
       "      <th></th>\n",
       "      <th>TOP_CORP_TAG</th>\n",
       "    </tr>\n",
       "  </thead>\n",
       "  <tbody>\n",
       "    <tr>\n",
       "      <th>0</th>\n",
       "      <td>NONE</td>\n",
       "    </tr>\n",
       "    <tr>\n",
       "      <th>1</th>\n",
       "      <td>TOP_800</td>\n",
       "    </tr>\n",
       "    <tr>\n",
       "      <th>2</th>\n",
       "      <td>NONE</td>\n",
       "    </tr>\n",
       "    <tr>\n",
       "      <th>3</th>\n",
       "      <td>NONE</td>\n",
       "    </tr>\n",
       "  </tbody>\n",
       "</table>\n",
       "</div>"
      ],
      "text/plain": [
       "  TOP_CORP_TAG\n",
       "0         NONE\n",
       "1      TOP_800\n",
       "2         NONE\n",
       "3         NONE"
      ]
     },
     "execution_count": 78,
     "metadata": {},
     "output_type": "execute_result"
    },
    {
     "data": {
      "text/html": [
       "<div>\n",
       "<style>\n",
       "    .dataframe thead tr:only-child th {\n",
       "        text-align: right;\n",
       "    }\n",
       "\n",
       "    .dataframe thead th {\n",
       "        text-align: left;\n",
       "    }\n",
       "\n",
       "    .dataframe tbody tr th {\n",
       "        vertical-align: top;\n",
       "    }\n",
       "</style>\n",
       "<table border=\"1\" class=\"dataframe\">\n",
       "  <thead>\n",
       "    <tr style=\"text-align: right;\">\n",
       "      <th></th>\n",
       "      <th>TOP_CORP_TAG</th>\n",
       "    </tr>\n",
       "  </thead>\n",
       "  <tbody>\n",
       "    <tr>\n",
       "      <th>0</th>\n",
       "      <td>NONE</td>\n",
       "    </tr>\n",
       "    <tr>\n",
       "      <th>1</th>\n",
       "      <td>NONE</td>\n",
       "    </tr>\n",
       "    <tr>\n",
       "      <th>2</th>\n",
       "      <td>NONE</td>\n",
       "    </tr>\n",
       "    <tr>\n",
       "      <th>3</th>\n",
       "      <td>NONE</td>\n",
       "    </tr>\n",
       "  </tbody>\n",
       "</table>\n",
       "</div>"
      ],
      "text/plain": [
       "  TOP_CORP_TAG\n",
       "0         NONE\n",
       "1         NONE\n",
       "2         NONE\n",
       "3         NONE"
      ]
     },
     "execution_count": 78,
     "metadata": {},
     "output_type": "execute_result"
    }
   ],
   "source": [
    "for column in obj_features:\n",
    "    if(df[column].dtypes!=df_test[column].dtypes):\n",
    "        print(column)\n",
    "        print(df[column].dtypes)\n",
    "        print(df_test[column].dtypes)\n",
    "\n",
    "for column in obj_features:\n",
    "    print(column)\n",
    "    print(df[column].unique())\n",
    "    print(df_test[column].unique())\n",
    "    print(\"===========xxx==========\\n\")\n",
    "\n",
    "for column in obj_features:\n",
    "    df_test[df_test[column].notnull()][[column]].head(4)\n",
    "    df[df[column].notnull()][[column]].head(4)\n",
    "    \n"
   ]
  },
  {
   "cell_type": "code",
   "execution_count": 82,
   "metadata": {
    "ExecuteTime": {
     "end_time": "2017-10-26T09:25:52.313587Z",
     "start_time": "2017-10-26T09:25:51.935477Z"
    }
   },
   "outputs": [
    {
     "name": "stdout",
     "output_type": "stream",
     "text": [
      "CHANNEL_CLICK_DISP\n"
     ]
    },
    {
     "data": {
      "text/plain": [
       "3"
      ]
     },
     "execution_count": 82,
     "metadata": {},
     "output_type": "execute_result"
    },
    {
     "data": {
      "text/plain": [
       "array(['NONE', 'DISP', 'CLICK'], dtype=object)"
      ]
     },
     "execution_count": 82,
     "metadata": {},
     "output_type": "execute_result"
    },
    {
     "data": {
      "text/plain": [
       "array(['NONE', 'DISP', 'CLICK'], dtype=object)"
      ]
     },
     "execution_count": 82,
     "metadata": {},
     "output_type": "execute_result"
    },
    {
     "name": "stdout",
     "output_type": "stream",
     "text": [
      "=============xxx============\n",
      "GENDER\n"
     ]
    },
    {
     "data": {
      "text/plain": [
       "3"
      ]
     },
     "execution_count": 82,
     "metadata": {},
     "output_type": "execute_result"
    },
    {
     "data": {
      "text/plain": [
       "array(['M', 'F', nan], dtype=object)"
      ]
     },
     "execution_count": 82,
     "metadata": {},
     "output_type": "execute_result"
    },
    {
     "data": {
      "text/plain": [
       "array(['M', 'F', nan], dtype=object)"
      ]
     },
     "execution_count": 82,
     "metadata": {},
     "output_type": "execute_result"
    },
    {
     "name": "stdout",
     "output_type": "stream",
     "text": [
      "=============xxx============\n",
      "PA_PQ_TAG\n"
     ]
    },
    {
     "data": {
      "text/plain": [
       "141"
      ]
     },
     "execution_count": 82,
     "metadata": {},
     "output_type": "execute_result"
    },
    {
     "data": {
      "text/plain": [
       "array([nan, 'PQ_WITH_INCOME_20K', 'Green Channel', 'PQ_WITH_INCOME_25K',\n",
       "       'STP', 'PQ_WITH_INCOME_31K', 'PQ with Ref dedupe',\n",
       "       'PQ_WITH_INCOME_15K', 'PQ_WITH_INCOME_19K', 'PQ with Dedupe',\n",
       "       'PQ_WITH_INCOME_16K', 'PQ_WITH_INCOME_30K', 'PQ_WITH_INCOME_95K',\n",
       "       'PQ_WITH_INCOME_53K', 'PQ_WITH_INCOME_22K', 'PQ_WITH_INCOME_39K',\n",
       "       'PQ_WITH_INCOME_40K', 'PQ_WITH_INCOME_122K', 'PQ_WITH_INCOME_38K',\n",
       "       'PQ_WITH_INCOME_17K', 'PQ_WITH_INCOME_32K', 'PQ_WITH_INCOME_21K',\n",
       "       'PQ with Coapp', 'PQ with KYC', 'PQ_WITH_INCOME_29K',\n",
       "       'PQ with Neg dedupe', 'PQ_WITH_INCOME_42K', 'PQ_WITH_INCOME_37K',\n",
       "       'PQ_WITH_INCOME_44K', 'PQ_WITH_INCOME_33K', 'PQ_WITH_INCOME_35K',\n",
       "       'PQ_WITH_INCOME_67K', 'PQ_WITH_INCOME_83K', 'PQ with Account',\n",
       "       'PQ_WITH_INCOME_43K', 'PQ_WITH_INCOME_50K', 'PQ_WITH_INCOME_24K',\n",
       "       'PQ_WITH_INCOME_74K', 'PQ_WITH_INCOME_48K', 'PQ_WITH_INCOME_27K',\n",
       "       'PQ_WITH_INCOME_34K', 'PQ_WITH_INCOME_89K', 'PQ_WITH_INCOME_100K',\n",
       "       'PQ_WITH_INCOME_58K', 'PQ_WITH_INCOME_75K', 'PQ_WITH_INCOME_99K',\n",
       "       'PQ_WITH_INCOME_36K', 'PQ_WITH_INCOME_125K', 'PQ_WITH_INCOME_23K',\n",
       "       'PQ_WITH_INCOME_26K', 'PQ_WITH_INCOME_62K', 'PQ_WITH_INCOME_76K',\n",
       "       'PQ_WITH_INCOME_96K', 'PQ_WITH_INCOME_60K', 'PQ_WITH_INCOME_150K',\n",
       "       'PQ_WITH_INCOME_49K', 'PQ_WITH_INCOME_66K', 'PQ_WITH_INCOME_79K',\n",
       "       'PQ_WITH_INCOME_18K', 'PQ_WITH_INCOME_28K', 'PQ_WITH_INCOME_85K',\n",
       "       'PQ_WITH_INCOME_54K', 'PQ_WITH_INCOME_45K', 'PQ_WITH_INCOME_64K',\n",
       "       'PQ_WITH_INCOME_69K', 'PQ_WITH_INCOME_46K', 'PQ_WITH_INCOME_71K',\n",
       "       'PQ_WITH_INCOME_88K', 'PQ_WITH_INCOME_142K', 'PQ_WITH_INCOME_47K',\n",
       "       'PQ_WITH_INCOME_51K', 'PQ_WITH_INCOME_208K', 'PQ_WITH_INCOME_65K',\n",
       "       'PQ_WITH_INCOME_63K', 'PQ_WITH_INCOME_56K', 'PQ_WITH_INCOME_59K',\n",
       "       'PQ_WITH_INCOME_167K', 'PQ_WITH_INCOME_93K', 'PQ_WITH_INCOME_70K',\n",
       "       'PQ_WITH_INCOME_200K', 'PQ_WITH_INCOME_52K', 'PQ_WITH_INCOME_87K',\n",
       "       'PQ_WITH_INCOME_55K', 'PQ_WITH_INCOME_72K', 'PQ_WITH_INCOME_77K',\n",
       "       'PQ_WITH_INCOME_41K', 'PQ_WITH_INCOME_417K', 'PQ_WITH_INCOME_183K',\n",
       "       'PQ_WITH_INCOME_57K', 'PQ_WITH_INCOME_78K', 'PQ_WITH_INCOME_82K',\n",
       "       'PQ_WITH_INCOME_117K', 'PQ_WITH_INCOME_80K', 'PQ_WITH_INCOME_375K',\n",
       "       'PQ_WITH_INCOME_91K', 'PQ_WITH_INCOME_68K', 'PQ_WITH_INCOME_73K',\n",
       "       'PQ_WITH_INCOME_115K', 'PQ_WITH_INCOME_667K', 'PQ_WITH_INCOME_104K',\n",
       "       'PQ_WITH_INCOME_98K', 'PQ_WITH_INCOME_300K', 'PQ_WITH_INCOME_625K',\n",
       "       'PQ_WITH_INCOME_107K', 'PQ_WITH_INCOME_250K', 'PQ_WITH_INCOME_700K',\n",
       "       'PQ_WITH_INCOME_333K', 'PQ_WITH_INCOME_86K', 'PQ_WITH_INCOME_583K',\n",
       "       'PQ_WITH_INCOME_61K', 'PQ_WITH_INCOME_500K', 'PQ_WITH_INCOME_133K',\n",
       "       'PQ_WITH_INCOME_92K', 'PQ_WITH_INCOME_94K', 'PQ_WITH_INCOME_103K',\n",
       "       'PQ_WITH_INCOME_192K', 'PQ_WITH_INCOME_112K', 'PQ_WITH_INCOME_97K',\n",
       "       'PQ_WITH_INCOME_108K', 'PQ_WITH_INCOME_90K', 'PQ_WITH_INCOME_109K',\n",
       "       'PQ_WITH_INCOME_400K', 'PQ_WITH_INCOME_233K', 'PQ_WITH_INCOME_81K',\n",
       "       'PQ_WITH_INCOME_129K', 'PQ_WITH_INCOME_1000K',\n",
       "       'PQ_WITH_INCOME_113K', 'PQ_WITH_INCOME_833K', 'PQ_WITH_INCOME_120K',\n",
       "       'PQ_WITH_INCOME_121K', 'PQ_WITH_INCOME_292K', 'PQ_WITH_INCOME_182K',\n",
       "       'PQ_WITH_INCOME_134K', 'PQ_WITH_INCOME_1250K',\n",
       "       'PQ_WITH_INCOME_205K', 'PQ_WITH_INCOME_2000K',\n",
       "       'PQ_WITH_INCOME_258K', 'PQ_WITH_INCOME_246K', 'PQ_WITH_INCOME_476K',\n",
       "       'PQ_WITH_INCOME_247K', 'PQ_WITH_INCOME_241K'], dtype=object)"
      ]
     },
     "execution_count": 82,
     "metadata": {},
     "output_type": "execute_result"
    },
    {
     "data": {
      "text/plain": [
       "array([nan, 'Green Channel', 'PQ_WITH_INCOME_71K', 'STP',\n",
       "       'PQ_WITH_INCOME_15K', 'PQ_WITH_INCOME_25K', 'PQ_WITH_INCOME_36K',\n",
       "       'PQ with Ref dedupe', 'PQ_WITH_INCOME_28K', 'PQ_WITH_INCOME_26K',\n",
       "       'PQ with Account', 'PQ_WITH_INCOME_63K', 'PQ with Neg dedupe',\n",
       "       'PQ_WITH_INCOME_32K', 'PQ_WITH_INCOME_29K', 'PQ_WITH_INCOME_64K',\n",
       "       'PQ_WITH_INCOME_16K', 'PQ with KYC', 'PQ_WITH_INCOME_18K',\n",
       "       'PQ_WITH_INCOME_24K', 'PQ with Coapp', 'PQ_WITH_INCOME_48K',\n",
       "       'PQ with Dedupe', 'PQ_WITH_INCOME_50K', 'PQ_WITH_INCOME_19K',\n",
       "       'PQ_WITH_INCOME_44K', 'PQ_WITH_INCOME_108K', 'PQ_WITH_INCOME_35K',\n",
       "       'PQ_WITH_INCOME_23K', 'PQ_WITH_INCOME_21K', 'PQ_WITH_INCOME_20K',\n",
       "       'PQ_WITH_INCOME_41K', 'PQ_WITH_INCOME_17K', 'PQ_WITH_INCOME_92K',\n",
       "       'PQ_WITH_INCOME_22K', 'PQ_WITH_INCOME_42K', 'PQ_WITH_INCOME_27K',\n",
       "       'PQ_WITH_INCOME_47K', 'PQ_WITH_INCOME_143K', 'PQ_WITH_INCOME_37K',\n",
       "       'PQ_WITH_INCOME_60K', 'PQ_WITH_INCOME_33K', 'PQ_WITH_INCOME_43K',\n",
       "       'PQ_WITH_INCOME_118K', 'PQ_WITH_INCOME_74K', 'PQ_WITH_INCOME_167K',\n",
       "       'PQ_WITH_INCOME_75K', 'PQ_WITH_INCOME_59K', 'PQ_WITH_INCOME_51K',\n",
       "       'PQ_WITH_INCOME_58K', 'PQ_WITH_INCOME_77K', 'PQ_WITH_INCOME_34K',\n",
       "       'PQ_WITH_INCOME_125K', 'PQ_WITH_INCOME_46K', 'PQ_WITH_INCOME_40K',\n",
       "       'PQ_WITH_INCOME_38K', 'PQ_WITH_INCOME_31K', 'PQ_WITH_INCOME_49K',\n",
       "       'PQ_WITH_INCOME_65K', 'PQ_WITH_INCOME_100K', 'PQ_WITH_INCOME_30K',\n",
       "       'PQ_WITH_INCOME_96K', 'PQ_WITH_INCOME_260K', 'PQ_WITH_INCOME_67K',\n",
       "       'PQ_WITH_INCOME_39K', 'PQ_WITH_INCOME_45K', 'PQ_WITH_INCOME_61K',\n",
       "       'PQ_WITH_INCOME_82K', 'PQ_WITH_INCOME_72K', 'PQ_WITH_INCOME_69K',\n",
       "       'PQ_WITH_INCOME_83K', 'PQ_WITH_INCOME_1000K', 'PQ_WITH_INCOME_120K',\n",
       "       'PQ_WITH_INCOME_52K', 'PQ_WITH_INCOME_56K', 'PQ_WITH_INCOME_57K',\n",
       "       'PQ_WITH_INCOME_54K', 'PQ_WITH_INCOME_79K', 'PQ_WITH_INCOME_62K',\n",
       "       'PQ_WITH_INCOME_68K', 'PQ_WITH_INCOME_136K', 'PQ_WITH_INCOME_600K',\n",
       "       'PQ_WITH_INCOME_73K', 'PQ_WITH_INCOME_150K', 'PQ_WITH_INCOME_53K',\n",
       "       'PQ_WITH_INCOME_625K', 'PQ_WITH_INCOME_417K', 'PQ_WITH_INCOME_55K',\n",
       "       'PQ_WITH_INCOME_87K', 'PQ_WITH_INCOME_78K', 'PQ_WITH_INCOME_90K',\n",
       "       'PQ_WITH_INCOME_104K', 'PQ_WITH_INCOME_80K', 'PQ_WITH_INCOME_124K',\n",
       "       'PQ_WITH_INCOME_109K', 'PQ_WITH_INCOME_93K', 'PQ_WITH_INCOME_99K',\n",
       "       'PQ_WITH_INCOME_70K', 'PQ_WITH_INCOME_113K', 'PQ_WITH_INCOME_158K',\n",
       "       'PQ_WITH_INCOME_89K', 'PQ_WITH_INCOME_91K', 'PQ_WITH_INCOME_66K',\n",
       "       'PQ_WITH_INCOME_142K', 'PQ_WITH_INCOME_88K', 'PQ_WITH_INCOME_130K',\n",
       "       'PQ_WITH_INCOME_375K', 'PQ_WITH_INCOME_500K',\n",
       "       'PQ_WITH_INCOME_4167K', 'PQ_WITH_INCOME_81K', 'PQ_WITH_INCOME_76K',\n",
       "       'PQ_WITH_INCOME_85K', 'PQ_WITH_INCOME_407K', 'PQ_WITH_INCOME_317K',\n",
       "       'PQ_WITH_INCOME_250K', 'PQ_WITH_INCOME_95K', 'PQ_WITH_INCOME_200K',\n",
       "       'PQ_WITH_INCOME_3333K', 'PQ_WITH_INCOME_144K',\n",
       "       'PQ_WITH_INCOME_196K', 'PQ_WITH_INCOME_185K', 'PQ_WITH_INCOME_86K',\n",
       "       'PQ_WITH_INCOME_300K', 'PQ_WITH_INCOME_208K', 'PQ_WITH_INCOME_117K',\n",
       "       'PQ_WITH_INCOME_188K', 'PQ_WITH_INCOME_133K'], dtype=object)"
      ]
     },
     "execution_count": 82,
     "metadata": {},
     "output_type": "execute_result"
    },
    {
     "name": "stdout",
     "output_type": "stream",
     "text": [
      "=============xxx============\n",
      "LEGAL_ENTITY\n"
     ]
    },
    {
     "data": {
      "text/plain": [
       "5"
      ]
     },
     "execution_count": 82,
     "metadata": {},
     "output_type": "execute_result"
    },
    {
     "data": {
      "text/plain": [
       "array(['INDIVIDUAL', 'OTHERS', 'NON_GOVERNMENTAL_ORG', 'ASSOCIATION',\n",
       "       'FIRM'], dtype=object)"
      ]
     },
     "execution_count": 82,
     "metadata": {},
     "output_type": "execute_result"
    },
    {
     "data": {
      "text/plain": [
       "array(['INDIVIDUAL', 'OTHERS', 'NON_GOVERNMENTAL_ORG', 'PROPRIETERSHIP',\n",
       "       'ASSOCIATION', 'TRUSTS'], dtype=object)"
      ]
     },
     "execution_count": 82,
     "metadata": {},
     "output_type": "execute_result"
    },
    {
     "name": "stdout",
     "output_type": "stream",
     "text": [
      "=============xxx============\n",
      "TPT_DC_CATEGORY_MON_01\n"
     ]
    },
    {
     "data": {
      "text/plain": [
       "21"
      ]
     },
     "execution_count": 82,
     "metadata": {},
     "output_type": "execute_result"
    },
    {
     "data": {
      "text/plain": [
       "array(['NO_TPT_TXN', 'NOT_RELEVANT', 'MEDICAL', 'LOAN', 'TRANSFER',\n",
       "       'TRAVEL', 'PERSONAL', 'RENT', 'CC_PAYMENT', 'RETURN', 'EMI',\n",
       "       'EDUCATION', 'BUILDER', 'CHILD_BIR', 'HELP', 'ADVANCE', 'WEDDING',\n",
       "       'GAS', 'ELECTRICI', 'OPERATION', 'JEWELLERY'], dtype=object)"
      ]
     },
     "execution_count": 82,
     "metadata": {},
     "output_type": "execute_result"
    },
    {
     "data": {
      "text/plain": [
       "array(['NO_TPT_TXN', 'NOT_RELEVANT', 'LOAN', 'TRANSFER', 'RETURN', 'RENT',\n",
       "       'EDUCATION', 'TRAVEL', 'PERSONAL', 'CC_PAYMENT', 'HELP', 'MEDICAL',\n",
       "       'EMI', 'WEDDING', 'ADVANCE', 'ELECTRICI', 'BUILDER', 'JEWELLERY',\n",
       "       'CHILD_BIR', 'GAS'], dtype=object)"
      ]
     },
     "execution_count": 82,
     "metadata": {},
     "output_type": "execute_result"
    },
    {
     "name": "stdout",
     "output_type": "stream",
     "text": [
      "=============xxx============\n",
      "ACT_TYPE\n"
     ]
    },
    {
     "data": {
      "text/plain": [
       "2"
      ]
     },
     "execution_count": 82,
     "metadata": {},
     "output_type": "execute_result"
    },
    {
     "data": {
      "text/plain": [
       "array(['CSA', 'SA'], dtype=object)"
      ]
     },
     "execution_count": 82,
     "metadata": {},
     "output_type": "execute_result"
    },
    {
     "data": {
      "text/plain": [
       "array(['CSA', 'SA'], dtype=object)"
      ]
     },
     "execution_count": 82,
     "metadata": {},
     "output_type": "execute_result"
    },
    {
     "name": "stdout",
     "output_type": "stream",
     "text": [
      "=============xxx============\n",
      "IMPS_CC_CATEGORY_MON_01\n"
     ]
    },
    {
     "data": {
      "text/plain": [
       "21"
      ]
     },
     "execution_count": 82,
     "metadata": {},
     "output_type": "execute_result"
    },
    {
     "data": {
      "text/plain": [
       "array(['NO_IMPS_TXN', 'NOT_RELEVANT', 'TRANSFER', 'RENT', 'LOAN', 'RETURN',\n",
       "       'EMI', 'CC_PAYMENT', 'PERSONAL', 'EDUCATION', 'TRAVEL', 'ADVANCE',\n",
       "       'CHILD_BIR', 'MEDICAL', 'GAS', 'BUILDER', 'HELP', 'JEWELLERY',\n",
       "       'WEDDING', 'ELECTRICI', 'OPERATION'], dtype=object)"
      ]
     },
     "execution_count": 82,
     "metadata": {},
     "output_type": "execute_result"
    },
    {
     "data": {
      "text/plain": [
       "array(['NO_IMPS_TXN', 'NOT_RELEVANT', 'TRAVEL', 'CC_PAYMENT', 'RETURN',\n",
       "       'LOAN', 'TRANSFER', 'EMI', 'PERSONAL', 'RENT', 'EDUCATION',\n",
       "       'ADVANCE', 'MEDICAL', 'HELP', 'OPERATION', 'WEDDING', 'BUILDER',\n",
       "       'ELECTRICI', 'CHILD_BIR', 'GAS'], dtype=object)"
      ]
     },
     "execution_count": 82,
     "metadata": {},
     "output_type": "execute_result"
    },
    {
     "name": "stdout",
     "output_type": "stream",
     "text": [
      "=============xxx============\n",
      "NEFT_CC_CATEGORY\n"
     ]
    },
    {
     "data": {
      "text/plain": [
       "20"
      ]
     },
     "execution_count": 82,
     "metadata": {},
     "output_type": "execute_result"
    },
    {
     "data": {
      "text/plain": [
       "array(['NO_NEFT_TXN', 'NOT_RELEVANT', 'LOAN', 'RETURN', 'TRANSFER', 'RENT',\n",
       "       'TRAVEL', 'EDUCATION', 'EMI', 'PERSONAL', 'MEDICAL', 'BUILDER',\n",
       "       'JEWELLERY', 'ELECTRICI', 'GAS', 'WEDDING', 'OPERATION', 'ADVANCE',\n",
       "       'CHILD_BIR', 'HELP'], dtype=object)"
      ]
     },
     "execution_count": 82,
     "metadata": {},
     "output_type": "execute_result"
    },
    {
     "data": {
      "text/plain": [
       "array(['NO_NEFT_TXN', 'NOT_RELEVANT', 'LOAN', 'EMI', 'TRANSFER', 'MEDICAL',\n",
       "       'ELECTRICI', 'EDUCATION', 'BUILDER', 'RETURN', 'RENT', 'TRAVEL',\n",
       "       'JEWELLERY', 'OPERATION', 'PERSONAL', 'GAS', 'ADVANCE', 'HELP',\n",
       "       'CC_PAYMENT', 'CHILD_BIR'], dtype=object)"
      ]
     },
     "execution_count": 82,
     "metadata": {},
     "output_type": "execute_result"
    },
    {
     "name": "stdout",
     "output_type": "stream",
     "text": [
      "=============xxx============\n",
      "DESIGNATION_FINAL\n"
     ]
    },
    {
     "data": {
      "text/plain": [
       "11"
      ]
     },
     "execution_count": 82,
     "metadata": {},
     "output_type": "execute_result"
    },
    {
     "data": {
      "text/plain": [
       "array(['MISSING', 'ENGINEER', 'MANAGER', 'EXECUTIVE', 'SUP/TECH/OPR',\n",
       "       'OFFICER', 'OTHERS', 'DEVEP/PROG/ANALYST/ASSO', 'REMAING',\n",
       "       'TOP_MANAG/DOC', 'TEACH/PROF/CONSULT'], dtype=object)"
      ]
     },
     "execution_count": 82,
     "metadata": {},
     "output_type": "execute_result"
    },
    {
     "data": {
      "text/plain": [
       "array(['MISSING', 'OTHERS', 'TEACH/PROF/CONSULT', 'OFFICER', 'EXECUTIVE',\n",
       "       'MANAGER', 'REMAING', 'TOP_MANAG/DOC', 'ENGINEER',\n",
       "       'DEVEP/PROG/ANALYST/ASSO', 'SUP/TECH/OPR'], dtype=object)"
      ]
     },
     "execution_count": 82,
     "metadata": {},
     "output_type": "execute_result"
    },
    {
     "name": "stdout",
     "output_type": "stream",
     "text": [
      "=============xxx============\n",
      "TPT_CC_CATEGORY_MON_01\n"
     ]
    },
    {
     "data": {
      "text/plain": [
       "21"
      ]
     },
     "execution_count": 82,
     "metadata": {},
     "output_type": "execute_result"
    },
    {
     "data": {
      "text/plain": [
       "array(['NO_TPT_TXN', 'NOT_RELEVANT', 'TRANSFER', 'LOAN', 'PERSONAL',\n",
       "       'RETURN', 'RENT', 'TRAVEL', 'CC_PAYMENT', 'EMI', 'CHILD_BIR',\n",
       "       'EDUCATION', 'GAS', 'ADVANCE', 'MEDICAL', 'HELP', 'ELECTRICI',\n",
       "       'WEDDING', 'BUILDER', 'OPERATION', 'JEWELLERY'], dtype=object)"
      ]
     },
     "execution_count": 82,
     "metadata": {},
     "output_type": "execute_result"
    },
    {
     "data": {
      "text/plain": [
       "array(['NO_TPT_TXN', 'NOT_RELEVANT', 'LOAN', 'TRANSFER', 'EMI', 'RETURN',\n",
       "       'RENT', 'TRAVEL', 'PERSONAL', 'CC_PAYMENT', 'MEDICAL', 'ADVANCE',\n",
       "       'EDUCATION', 'HELP', 'ELECTRICI', 'BUILDER', 'WEDDING', 'GAS',\n",
       "       'CHILD_BIR', 'OPERATION', 'JEWELLERY'], dtype=object)"
      ]
     },
     "execution_count": 82,
     "metadata": {},
     "output_type": "execute_result"
    },
    {
     "name": "stdout",
     "output_type": "stream",
     "text": [
      "=============xxx============\n",
      "NEFT_DC_CATEGORY\n"
     ]
    },
    {
     "data": {
      "text/plain": [
       "20"
      ]
     },
     "execution_count": 82,
     "metadata": {},
     "output_type": "execute_result"
    },
    {
     "data": {
      "text/plain": [
       "array(['NO_NEFT_TXN', 'NOT_RELEVANT', 'LOAN', 'RENT', 'JEWELLERY',\n",
       "       'EDUCATION', 'MEDICAL', 'TRAVEL', 'PERSONAL', 'CC_PAYMENT',\n",
       "       'BUILDER', 'GAS', 'ELECTRICI', 'EMI', 'CHILD_BIR', 'TRANSFER',\n",
       "       'HELP', 'WEDDING', 'OPERATION', 'RETURN'], dtype=object)"
      ]
     },
     "execution_count": 82,
     "metadata": {},
     "output_type": "execute_result"
    },
    {
     "data": {
      "text/plain": [
       "array(['NO_NEFT_TXN', 'NOT_RELEVANT', 'LOAN', 'BUILDER', 'GAS', 'RENT',\n",
       "       'ELECTRICI', 'EDUCATION', 'TRAVEL', 'CC_PAYMENT', 'EMI', 'MEDICAL',\n",
       "       'JEWELLERY', 'PERSONAL', 'WEDDING', 'CHILD_BIR', 'ADVANCE',\n",
       "       'TRANSFER', 'HELP', 'OPERATION'], dtype=object)"
      ]
     },
     "execution_count": 82,
     "metadata": {},
     "output_type": "execute_result"
    },
    {
     "name": "stdout",
     "output_type": "stream",
     "text": [
      "=============xxx============\n",
      "TOP_CORP_TAG\n"
     ]
    },
    {
     "data": {
      "text/plain": [
       "3"
      ]
     },
     "execution_count": 82,
     "metadata": {},
     "output_type": "execute_result"
    },
    {
     "data": {
      "text/plain": [
       "array(['NONE', 'TOP_100', 'TOP_800'], dtype=object)"
      ]
     },
     "execution_count": 82,
     "metadata": {},
     "output_type": "execute_result"
    },
    {
     "data": {
      "text/plain": [
       "array(['NONE', 'TOP_800', 'TOP_100'], dtype=object)"
      ]
     },
     "execution_count": 82,
     "metadata": {},
     "output_type": "execute_result"
    },
    {
     "name": "stdout",
     "output_type": "stream",
     "text": [
      "=============xxx============\n"
     ]
    }
   ],
   "source": [
    "\n",
    "for column in obj_features:\n",
    "    print(column)\n",
    "    len(df[column].unique())\n",
    "    df[column].unique()\n",
    "    df_test[column].unique()\n",
    "    print(\"=============xxx============\")"
   ]
  },
  {
   "cell_type": "code",
   "execution_count": null,
   "metadata": {
    "collapsed": true
   },
   "outputs": [],
   "source": [
    "\n",
    "    "
   ]
  },
  {
   "cell_type": "code",
   "execution_count": 86,
   "metadata": {
    "ExecuteTime": {
     "end_time": "2017-10-26T09:38:56.723999Z",
     "start_time": "2017-10-26T09:38:55.418424Z"
    }
   },
   "outputs": [
    {
     "name": "stderr",
     "output_type": "stream",
     "text": [
      "/Users/ahemf/anaconda3/lib/python3.6/site-packages/pandas/core/generic.py:1299: PerformanceWarning: \n",
      "your performance may suffer as PyTables will pickle object types that it cannot\n",
      "map directly to c-types [inferred_type->mixed,key->block1_values] [items->['ACT_TYPE', 'GENDER', 'LEGAL_ENTITY', 'CHANNEL_CLICK_DISP', 'DESIGNATION_FINAL', 'PA_PQ_TAG', 'NEFT_CC_CATEGORY', 'NEFT_DC_CATEGORY', 'TPT_DC_CATEGORY_MON_01', 'TPT_CC_CATEGORY_MON_01', 'IMPS_CC_CATEGORY_MON_01', 'TOP_CORP_TAG', 'RESPONDERS']]\n",
      "\n",
      "  return pytables.to_hdf(path_or_buf, key, self, **kwargs)\n",
      "/Users/ahemf/anaconda3/lib/python3.6/site-packages/pandas/core/generic.py:1299: PerformanceWarning: \n",
      "your performance may suffer as PyTables will pickle object types that it cannot\n",
      "map directly to c-types [inferred_type->mixed,key->block1_values] [items->['ACT_TYPE', 'GENDER', 'LEGAL_ENTITY', 'CHANNEL_CLICK_DISP', 'DESIGNATION_FINAL', 'PA_PQ_TAG', 'NEFT_CC_CATEGORY', 'NEFT_DC_CATEGORY', 'TPT_DC_CATEGORY_MON_01', 'TPT_CC_CATEGORY_MON_01', 'IMPS_CC_CATEGORY_MON_01', 'TOP_CORP_TAG']]\n",
      "\n",
      "  return pytables.to_hdf(path_or_buf, key, self, **kwargs)\n"
     ]
    }
   ],
   "source": [
    "df.to_hdf(get_file_location(\"train.h5\"),\"table\",mode='w')\n",
    "df_test.to_hdf(get_file_location(\"test.h5\"),\"table\",mode='w')"
   ]
  },
  {
   "cell_type": "code",
   "execution_count": 87,
   "metadata": {
    "ExecuteTime": {
     "end_time": "2017-10-26T09:38:59.036744Z",
     "start_time": "2017-10-26T09:38:57.843952Z"
    },
    "collapsed": true
   },
   "outputs": [],
   "source": [
    "df = pd.read_hdf(get_file_location(\"train.h5\"),\"table\")\n",
    "df_test = pd.read_hdf(get_file_location(\"test.h5\"),\"table\")"
   ]
  },
  {
   "cell_type": "code",
   "execution_count": 25,
   "metadata": {
    "ExecuteTime": {
     "end_time": "2017-10-26T06:00:53.516404Z",
     "start_time": "2017-10-26T06:00:51.364757Z"
    },
    "collapsed": true
   },
   "outputs": [],
   "source": [
    "\n",
    "\n",
    "    "
   ]
  },
  {
   "cell_type": "code",
   "execution_count": 16,
   "metadata": {
    "ExecuteTime": {
     "end_time": "2017-10-26T05:51:42.445336Z",
     "start_time": "2017-10-26T05:50:48.847225Z"
    },
    "collapsed": true
   },
   "outputs": [
    {
     "name": "stdout",
     "output_type": "stream",
     "text": [
      "(2, 1)\n",
      "(2, 1)\n",
      "(2, 1)\n",
      "(2, 1)\n",
      "(2, 1)\n",
      "(2, 1)\n",
      "(2, 1)\n",
      "(2, 1)\n",
      "(2, 1)\n",
      "(2, 1)\n",
      "(2, 1)\n",
      "(2, 1)\n",
      "(2, 1)\n",
      "(2, 1)\n",
      "(2, 1)\n",
      "(2, 1)\n",
      "(2, 1)\n",
      "(2, 1)\n",
      "(2, 1)\n",
      "(2, 1)\n",
      "(2, 1)\n",
      "(2, 1)\n",
      "(2, 1)\n",
      "(2, 1)\n",
      "(2, 1)\n",
      "(2, 1)\n",
      "(2, 1)\n",
      "(2, 1)\n",
      "(2, 1)\n",
      "(2, 1)\n",
      "(3, 1)\n",
      "(475, 1)\n",
      "(2, 1)\n",
      "(2, 1)\n",
      "(2, 1)\n",
      "(2, 1)\n",
      "(2, 1)\n",
      "(2, 1)\n",
      "(2, 1)\n",
      "(2, 1)\n",
      "(2, 1)\n",
      "(2, 1)\n",
      "(2, 1)\n",
      "(2, 1)\n",
      "(11, 1)\n",
      "(2, 1)\n",
      "(2, 1)\n",
      "(2, 1)\n",
      "(3, 1)\n",
      "(2, 1)\n",
      "(2, 1)\n",
      "(2, 1)\n",
      "(21, 1)\n",
      "(2, 1)\n",
      "(2, 1)\n",
      "(2, 1)\n",
      "(2, 1)\n",
      "(2, 1)\n",
      "(2, 1)\n",
      "(2, 1)\n",
      "(7, 1)\n",
      "(2, 1)\n",
      "(581, 1)\n",
      "(72, 1)\n",
      "(42, 1)\n",
      "(2, 1)\n",
      "(21, 1)\n",
      "(21, 1)\n",
      "(1, 1)\n",
      "(2, 1)\n",
      "(157, 1)\n",
      "(2, 1)\n",
      "(2, 1)\n",
      "(2, 1)\n",
      "(2, 1)\n",
      "(2, 1)\n",
      "(2, 1)\n",
      "(2, 1)\n",
      "(2, 1)\n",
      "(2, 1)\n",
      "(2, 1)\n",
      "(3, 1)\n",
      "(21, 1)\n",
      "(21, 1)\n",
      "(2, 1)\n",
      "(2, 1)\n",
      "(2, 1)\n",
      "(2, 1)\n",
      "(2, 1)\n",
      "(33168, 1)\n"
     ]
    }
   ],
   "source": [
    "\n",
    "\n"
   ]
  },
  {
   "cell_type": "code",
   "execution_count": null,
   "metadata": {
    "collapsed": true
   },
   "outputs": [],
   "source": []
  }
 ],
 "metadata": {
  "kernelspec": {
   "display_name": "Python 3",
   "language": "python",
   "name": "python3"
  },
  "language_info": {
   "codemirror_mode": {
    "name": "ipython",
    "version": 3
   },
   "file_extension": ".py",
   "mimetype": "text/x-python",
   "name": "python",
   "nbconvert_exporter": "python",
   "pygments_lexer": "ipython3",
   "version": "3.6.2"
  },
  "toc": {
   "nav_menu": {},
   "number_sections": true,
   "sideBar": true,
   "skip_h1_title": false,
   "toc_cell": false,
   "toc_position": {},
   "toc_section_display": "block",
   "toc_window_display": false
  }
 },
 "nbformat": 4,
 "nbformat_minor": 2
}
