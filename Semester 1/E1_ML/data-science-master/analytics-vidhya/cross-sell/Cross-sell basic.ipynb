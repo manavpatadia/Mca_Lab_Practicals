{
 "cells": [
  {
   "cell_type": "code",
   "execution_count": 1,
   "metadata": {
    "ExecuteTime": {
     "end_time": "2017-10-25T16:04:11.037422Z",
     "start_time": "2017-10-25T16:04:09.402018Z"
    },
    "collapsed": true
   },
   "outputs": [],
   "source": [
    "import numpy as np # linear algebra\n",
    "import pandas as pd # data processing, CSV file I/O (e.g. pd.read_csv)\n",
    "import matplotlib as mplt\n",
    "import matplotlib.pyplot as plt\n",
    "from sklearn.model_selection import train_test_split\n",
    "from sklearn.metrics import mean_squared_error\n",
    "from IPython.core.interactiveshell import InteractiveShell\n",
    "from sklearn.ensemble import RandomForestRegressor\n",
    "from sklearn.metrics import explained_variance_score\n",
    "from sklearn.preprocessing import LabelEncoder\n",
    "from sklearn.metrics import confusion_matrix\n",
    "from sklearn.model_selection import GridSearchCV\n",
    "%matplotlib inline\n",
    "import seaborn as sns\n",
    "import math\n",
    "import gc\n",
    "import ipaddress\n",
    "from urllib.parse import urlparse\n",
    "from tldextract import extract\n",
    "from sklearn.metrics import confusion_matrix\n",
    "\n",
    "import sys\n",
    "from pathlib import Path\n",
    "d = Path().resolve().parent.parent\n",
    "sys.path.insert(0, str(d))\n",
    "import util.utils as utils\n",
    "import util.plot_utils as plot_utils\n",
    "\n",
    "from xgboost import XGBClassifier\n",
    "from sklearn.model_selection import train_test_split\n",
    "from sklearn.metrics import accuracy_score\n",
    "import lightgbm as lgb\n",
    "\n",
    "np.set_printoptions(threshold=np.nan)\n",
    "\n",
    "\n",
    "\n",
    "plt.rcParams[\"figure.figsize\"] = (12,4)\n",
    "\n",
    "from xgboost import XGBClassifier\n",
    "import xgboost as xgb\n",
    "from sklearn.metrics import accuracy_score\n",
    "\n",
    "\n",
    "InteractiveShell.ast_node_interactivity = \"all\"\n",
    "np.set_printoptions(precision=2)"
   ]
  },
  {
   "cell_type": "code",
   "execution_count": 2,
   "metadata": {
    "ExecuteTime": {
     "end_time": "2017-10-25T16:04:15.310962Z",
     "start_time": "2017-10-25T16:04:15.307248Z"
    },
    "collapsed": true
   },
   "outputs": [],
   "source": [
    "project_name=\"cross-sell\""
   ]
  },
  {
   "cell_type": "code",
   "execution_count": 189,
   "metadata": {
    "ExecuteTime": {
     "end_time": "2017-10-26T05:32:34.403076Z",
     "start_time": "2017-10-26T05:32:06.528999Z"
    },
    "collapsed": true
   },
   "outputs": [],
   "source": [
    "df = pd.read_csv(\"../data/%s/%s\" % (project_name,\"train.csv\"),low_memory=False)\n",
    "df_test = pd.read_csv(\"../data/%s/%s\" % (project_name,\"test.csv\"),low_memory=False)\n"
   ]
  },
  {
   "cell_type": "code",
   "execution_count": 190,
   "metadata": {
    "ExecuteTime": {
     "end_time": "2017-10-26T05:32:34.865892Z",
     "start_time": "2017-10-26T05:32:34.405196Z"
    },
    "collapsed": true
   },
   "outputs": [],
   "source": [
    "all_features = ['ACT_TYPE',\n",
    " 'AGE',\n",
    " 'AGL_TAG',\n",
    " 'AGRI_TAG',\n",
    " 'AL_CLOSED',\n",
    " 'AL_CNC_TAG',\n",
    " 'AL_SCRUB_CLOSED',\n",
    " 'AL_SCRUB_LIVE',\n",
    " 'AL_TAG',\n",
    " 'AMB_MON_01',\n",
    " 'AMB_MON_02',\n",
    " 'AMB_MON_03',\n",
    " 'AMB_MON_04',\n",
    " 'BBG_CLOSED',\n",
    " 'BBG_TAG',\n",
    " 'BL_CLOSED',\n",
    " 'BL_SCRUB_CLOSED',\n",
    " 'BL_SCRUB_LIVE',\n",
    " 'BL_TAG',\n",
    " 'BTE_ACTIVE_MON_01',\n",
    " 'BTE_CLOSED_MON_01',\n",
    " 'CARD_AUTOMOBILE_MON_01',\n",
    " 'CARD_ENTMNT_MON_01',\n",
    " 'CARD_HOBBY_MON_01',\n",
    " 'CARD_HOME_DECOR_MON_01',\n",
    " 'CARD_HOTEL_MON_01',\n",
    " 'CARD_JEWELLERY_MON_01',\n",
    " 'CARD_MEDICAL_MON_01',\n",
    " 'CARD_PRSNL_CARE_MON_01',\n",
    " 'CARD_RESTAURANT_MON_01',\n",
    " 'CARD_TRAVEL_MON_01',\n",
    " 'CAR_MON_01',\n",
    " 'CAR_MON_02',\n",
    " 'CAR_MON_03',\n",
    " 'CC_ACTIVE',\n",
    " 'CC_ACTIVE_MON_01',\n",
    " 'CC_ACTIVE_MON_02',\n",
    " 'CC_ACTIVE_MON_03',\n",
    " 'CC_HOLD',\n",
    " 'CC_HOLD_MON_01',\n",
    " 'CC_HOLD_MON_02',\n",
    " 'CC_HOLD_MON_03',\n",
    " 'CC_SPEND_MON_01',\n",
    " 'CC_SPEND_MON_01_ATM',\n",
    " 'CC_SPEND_MON_01_CARE',\n",
    " 'CC_SPEND_MON_01_ENT',\n",
    " 'CC_SPEND_MON_01_HBY',\n",
    " 'CC_SPEND_MON_01_HMD',\n",
    " 'CC_SPEND_MON_01_HTL',\n",
    " 'CC_SPEND_MON_01_JER',\n",
    " 'CC_SPEND_MON_01_MED',\n",
    " 'CC_SPEND_MON_01_RST',\n",
    " 'CC_SPEND_MON_01_TRL',\n",
    " 'CC_SPEND_MON_02',\n",
    " 'CC_SPEND_MON_02_ATM',\n",
    " 'CC_SPEND_MON_02_CARE',\n",
    " 'CC_SPEND_MON_02_ENT',\n",
    " 'CC_SPEND_MON_02_HBY',\n",
    " 'CC_SPEND_MON_02_HMD',\n",
    " 'CC_SPEND_MON_02_HTL',\n",
    " 'CC_SPEND_MON_02_JER',\n",
    " 'CC_SPEND_MON_02_MED',\n",
    " 'CC_SPEND_MON_02_RST',\n",
    " 'CC_SPEND_MON_02_TRL',\n",
    " 'CC_SPEND_MON_03',\n",
    " 'CC_SPEND_MON_03_ATM',\n",
    " 'CC_SPEND_MON_03_CARE',\n",
    " 'CC_SPEND_MON_03_ENT',\n",
    " 'CC_SPEND_MON_03_HBY',\n",
    " 'CC_SPEND_MON_03_HMD',\n",
    " 'CC_SPEND_MON_03_HTL',\n",
    " 'CC_SPEND_MON_03_JER',\n",
    " 'CC_SPEND_MON_03_MED',\n",
    " 'CC_SPEND_MON_03_RST',\n",
    " 'CC_SPEND_MON_03_TRL',\n",
    " 'CC_SPEND_MON_04',\n",
    " 'CC_SPEND_MON_04_ATM',\n",
    " 'CC_SPEND_MON_04_CARE',\n",
    " 'CC_SPEND_MON_04_ENT',\n",
    " 'CC_SPEND_MON_04_HBY',\n",
    " 'CC_SPEND_MON_04_HMD',\n",
    " 'CC_SPEND_MON_04_HTL',\n",
    " 'CC_SPEND_MON_04_JER',\n",
    " 'CC_SPEND_MON_04_MED',\n",
    " 'CC_SPEND_MON_04_RST',\n",
    " 'CC_SPEND_MON_04_TRL',\n",
    " 'CC_SPEND_MON_05',\n",
    " 'CC_SPEND_MON_06',\n",
    " 'CC_TXN_MON_01',\n",
    " 'CC_TXN_MON_02',\n",
    " 'CC_TXN_MON_03',\n",
    " 'CC_TXN_MON_04',\n",
    " 'CC_TXN_MON_05',\n",
    " 'CC_TXN_MON_06',\n",
    " 'CDL_MON_01',\n",
    " 'CDL_MON_02',\n",
    " 'CDL_MON_03',\n",
    " 'CDMAT_MON_01',\n",
    " 'CDMAT_MON_04',\n",
    " 'CEL_SCRUB_CLOSED',\n",
    " 'CEL_SCRUB_LIVE',\n",
    " 'CEL_TAG',\n",
    " 'CE_TAG',\n",
    " 'CHANNEL_CLICK_DISP',\n",
    " 'CLOSED_DATE',\n",
    " 'COC_ACTIVE_MON_01',\n",
    " 'COC_CLOSED_MON_01',\n",
    " 'COC_ELIGIBLE',\n",
    " 'CREDIT_ACT',\n",
    " 'CRED_NEED_SCORE',\n",
    " 'CR_LIMIT',\n",
    " 'CVL_TAG',\n",
    " 'CV_CLOSED',\n",
    " 'CV_TAG',\n",
    " 'C_AMT_L3_MON_01',\n",
    " 'C_AMT_L3_MON_02',\n",
    " 'C_AMT_L3_MON_03',\n",
    " 'C_AMT_L3_MON_04',\n",
    " 'C_AMT_L3_MON_05',\n",
    " 'C_AMT_L3_MON_06',\n",
    " 'C_COUNT_L3_MON_01',\n",
    " 'C_COUNT_L3_MON_02',\n",
    " 'C_COUNT_L3_MON_03',\n",
    " 'C_COUNT_L3_MON_04',\n",
    " 'C_COUNT_L3_MON_05',\n",
    " 'C_COUNT_L3_MON_06',\n",
    " 'DC_ACTIVE',\n",
    " 'DC_ACTIVE_MON_01',\n",
    " 'DC_ACTIVE_MON_02',\n",
    " 'DC_ACTIVE_MON_03',\n",
    " 'DC_HOLD',\n",
    " 'DC_SPEND_MON_01',\n",
    " 'DC_SPEND_MON_01_ATM',\n",
    " 'DC_SPEND_MON_01_CARE',\n",
    " 'DC_SPEND_MON_01_ENT',\n",
    " 'DC_SPEND_MON_01_HBY',\n",
    " 'DC_SPEND_MON_01_HMD',\n",
    " 'DC_SPEND_MON_01_HTL',\n",
    " 'DC_SPEND_MON_01_JER',\n",
    " 'DC_SPEND_MON_01_MED',\n",
    " 'DC_SPEND_MON_01_RST',\n",
    " 'DC_SPEND_MON_01_TRL',\n",
    " 'DC_SPEND_MON_02',\n",
    " 'DC_SPEND_MON_02_ATM',\n",
    " 'DC_SPEND_MON_02_CARE',\n",
    " 'DC_SPEND_MON_02_ENT',\n",
    " 'DC_SPEND_MON_02_HBY',\n",
    " 'DC_SPEND_MON_02_HMD',\n",
    " 'DC_SPEND_MON_02_HTL',\n",
    " 'DC_SPEND_MON_02_JER',\n",
    " 'DC_SPEND_MON_02_MED',\n",
    " 'DC_SPEND_MON_02_RST',\n",
    " 'DC_SPEND_MON_02_TRL',\n",
    " 'DC_SPEND_MON_03',\n",
    " 'DC_SPEND_MON_03_ATM',\n",
    " 'DC_SPEND_MON_03_CARE',\n",
    " 'DC_SPEND_MON_03_ENT',\n",
    " 'DC_SPEND_MON_03_HBY',\n",
    " 'DC_SPEND_MON_03_HMD',\n",
    " 'DC_SPEND_MON_03_HTL',\n",
    " 'DC_SPEND_MON_03_JER',\n",
    " 'DC_SPEND_MON_03_MED',\n",
    " 'DC_SPEND_MON_03_RST',\n",
    " 'DC_SPEND_MON_03_TRL',\n",
    " 'DC_SPEND_MON_04',\n",
    " 'DC_SPEND_MON_04_ATM',\n",
    " 'DC_SPEND_MON_04_CARE',\n",
    " 'DC_SPEND_MON_04_ENT',\n",
    " 'DC_SPEND_MON_04_GRC',\n",
    " 'DC_SPEND_MON_04_HBY',\n",
    " 'DC_SPEND_MON_04_HMD',\n",
    " 'DC_SPEND_MON_04_HTL',\n",
    " 'DC_SPEND_MON_04_JER',\n",
    " 'DC_SPEND_MON_04_MED',\n",
    " 'DC_SPEND_MON_04_RST',\n",
    " 'DC_SPEND_MON_04_TRL',\n",
    " 'DC_SPEND_MON_05',\n",
    " 'DC_SPEND_MON_05_ATM',\n",
    " 'DC_SPEND_MON_05_CARE',\n",
    " 'DC_SPEND_MON_05_ENT',\n",
    " 'DC_SPEND_MON_05_HBY',\n",
    " 'DC_SPEND_MON_05_HMD',\n",
    " 'DC_SPEND_MON_05_HTL',\n",
    " 'DC_SPEND_MON_05_JER',\n",
    " 'DC_SPEND_MON_05_MED',\n",
    " 'DC_SPEND_MON_05_RST',\n",
    " 'DC_SPEND_MON_05_TRL',\n",
    " 'DC_SPEND_MON_06',\n",
    " 'DC_TXN_MON_01',\n",
    " 'DC_TXN_MON_02',\n",
    " 'DC_TXN_MON_03',\n",
    " 'DC_TXN_MON_04',\n",
    " 'DC_TXN_MON_05',\n",
    " 'DC_TXN_MON_06',\n",
    " 'DEBIT_ACT',\n",
    " 'DESIGNATION_FINAL',\n",
    " 'D_AMT_L3_MON_01',\n",
    " 'D_AMT_L3_MON_02',\n",
    " 'D_AMT_L3_MON_03',\n",
    " 'D_AMT_L3_MON_04',\n",
    " 'D_AMT_L3_MON_05',\n",
    " 'D_AMT_L3_MON_06',\n",
    " 'D_COUNT_L3_MON_01',\n",
    " 'D_COUNT_L3_MON_02',\n",
    " 'D_COUNT_L3_MON_03',\n",
    " 'D_COUNT_L3_MON_04',\n",
    " 'D_COUNT_L3_MON_05',\n",
    " 'D_COUNT_L3_MON_06',\n",
    " 'EDU_TAG',\n",
    " 'EEG_CLOSED',\n",
    " 'EEG_TAG',\n",
    " 'EL_TAG',\n",
    " 'EOP_BAL_MON_01',\n",
    " 'EOP_MON_02',\n",
    " 'EOP_MON_03',\n",
    " 'FD_MON_01',\n",
    " 'FD_MON_04',\n",
    " 'FINANCE_MON_01',\n",
    " 'GENDER',\n",
    " 'GI_MON_01',\n",
    " 'GI_MON_04',\n",
    " 'GL_CLOSED',\n",
    " 'GL_MON_01',\n",
    " 'GL_MON_02',\n",
    " 'GL_MON_03',\n",
    " 'GL_SCRUB_CLOSED',\n",
    " 'GL_SCRUB_LIVE',\n",
    " 'GL_TAG',\n",
    " 'HL_EMI',\n",
    " 'HL_TAG',\n",
    " 'IMPS_CC_AMOUNT_MON_01',\n",
    " 'IMPS_CC_CATEGORY_MON_01',\n",
    " 'IMPS_CC_TXN_MON_01',\n",
    " 'INMON_01KET_MON_01',\n",
    " 'JOBS_MON_01',\n",
    " 'LAA_MON_01',\n",
    " 'LAA_MON_02',\n",
    " 'LAA_MON_03',\n",
    " 'LAP_CLOSED',\n",
    " 'LAP_SCRUB_CLOSED',\n",
    " 'LAP_SCRUB_LIVE',\n",
    " 'LAP_TAG',\n",
    " 'LAST_3MTHS_INQ',\n",
    " 'LAS_CLOSED',\n",
    " 'LAS_SCRUB_CLOSED',\n",
    " 'LAS_SCRUB_LIVE',\n",
    " 'LAS_TAG',\n",
    " 'LEGAL_ENTITY',\n",
    " 'LFP_MON_01',\n",
    " 'LFP_MON_02',\n",
    " 'LFP_MON_03',\n",
    " 'LIFESTYLE_MON_01',\n",
    " 'LI_MON_01',\n",
    " 'LI_MON_04',\n",
    " 'MATURITY_GL',\n",
    " 'MATURITY_LAP',\n",
    " 'MATURITY_LAS',\n",
    " 'MAX_C_AMT_L3_MON_01',\n",
    " 'MAX_C_AMT_L3_MON_02',\n",
    " 'MAX_C_AMT_L3_MON_03',\n",
    " 'MAX_C_AMT_L3_MON_04',\n",
    " 'MAX_C_AMT_L3_MON_05',\n",
    " 'MAX_C_AMT_L3_MON_06',\n",
    " 'MER_EMI_ACTIVE_MON_01',\n",
    " 'MER_EMI_CLOSED_MON_01',\n",
    " 'MF_MON_01',\n",
    " 'MF_MON_04',\n",
    " 'NB_MON_01_CNT',\n",
    " 'NB_MON_02_CNT',\n",
    " 'NB_MON_03_CNT',\n",
    " 'NEFT_CC_AMOUNT',\n",
    " 'NEFT_CC_CATEGORY',\n",
    " 'NEFT_CC_TXN',\n",
    " 'NEFT_DC_AMOUNT',\n",
    " 'NEFT_DC_CATEGORY',\n",
    " 'NEFT_DC_TXN',\n",
    " 'N_CASA_MAX_BALANCE_MTD',\n",
    " 'N_CASA_MIN_BALANCE_MTD',\n",
    " 'OCCUP_ALL_NEW',\n",
    " 'OTHER_LOANS_TAG',\n",
    " 'PA_PQ_TAG',\n",
    " 'PL2CC_ACTIVE_MON_01',\n",
    " 'PL2CC_CLOSED_MON_01',\n",
    " 'PL2CC_ELIGIBLE',\n",
    " 'PL_CLOSED',\n",
    " 'PL_MON_01',\n",
    " 'PL_MON_02',\n",
    " 'PL_MON_03',\n",
    " 'PL_SCRUB_CLOSED',\n",
    " 'PL_SCRUB_LIVE',\n",
    " 'PL_TAG',\n",
    " 'PM_FD_MON_01',\n",
    " 'PM_FD_MON_02',\n",
    " 'PM_FD_MON_04',\n",
    " 'PREV_3MTHS_INQ',\n",
    " 'RD_MON_01',\n",
    " 'RD_MON_04',\n",
    " 'SAL_MON_01',\n",
    " 'SAL_MON_02',\n",
    " 'SAL_MON_03',\n",
    " 'SCRUB_EMI',\n",
    " 'STMT_CON_DAE_ACTIVE_MON_01',\n",
    " 'STMT_CON_DAE_CLOSED_MON_01',\n",
    " 'STMT_MON_01',\n",
    " 'STMT_MON_02',\n",
    " 'STMT_MON_03',\n",
    " 'TL_SCRUB_CLOSED',\n",
    " 'TL_SCRUB_LIVE',\n",
    " 'TL_TAG',\n",
    " 'TOP14_CITY',\n",
    " 'TOP9_CITY',\n",
    " 'TOP_100_CORP',\n",
    " 'TOP_800_CORP',\n",
    " 'TOP_CORP_TAG',\n",
    " 'TPT_CC_AMOUNT_MON_01',\n",
    " 'TPT_CC_CATEGORY_MON_01',\n",
    " 'TPT_CC_TXN_MON_01',\n",
    " 'TPT_DC_AMOUNT_MON_01',\n",
    " 'TPT_DC_CATEGORY_MON_01',\n",
    " 'TPT_DC_TXN_MON_01',\n",
    " 'TRAVEL_MON_01',\n",
    " 'TRN_CON_DAE_ACTIVE_MON_01',\n",
    " 'TRN_CON_DAE_CLOSED_MON_01',\n",
    " 'TWL_CLOSED',\n",
    " 'TWL_MON_01',\n",
    " 'TWL_MON_02',\n",
    " 'TWL_MON_03',\n",
    " 'TWL_SCRUB_CLOSED',\n",
    " 'TWL_SCRUB_LIVE',\n",
    " 'TWL_TAG',\n",
    " 'ZIP_CODE_FINAL']\n",
    "\n",
    "\n",
    "\n",
    "\n",
    "output_column = \"RESPONDERS\""
   ]
  },
  {
   "cell_type": "code",
   "execution_count": 204,
   "metadata": {
    "ExecuteTime": {
     "end_time": "2017-10-26T05:50:44.822354Z",
     "start_time": "2017-10-26T05:50:41.780899Z"
    }
   },
   "outputs": [
    {
     "data": {
      "text/plain": [
       "241"
      ]
     },
     "execution_count": 204,
     "metadata": {},
     "output_type": "execute_result"
    },
    {
     "data": {
      "text/plain": [
       "3"
      ]
     },
     "execution_count": 204,
     "metadata": {},
     "output_type": "execute_result"
    },
    {
     "data": {
      "text/plain": [
       "0"
      ]
     },
     "execution_count": 204,
     "metadata": {},
     "output_type": "execute_result"
    }
   ],
   "source": [
    "test_dt = df_test[all_features].dtypes\n",
    "numeric_features = []\n",
    "for k,v in df[all_features].dtypes.items():\n",
    "    if(v in ['int64','float64'] and test_dt[k] in ['int64','float64']):\n",
    "        numeric_features.append(k)\n",
    "\n",
    "\n",
    "\n",
    "int_features = []\n",
    "for k,v in df[all_features].dtypes.items():\n",
    "    if(v in ['int64'] and test_dt[k] in ['int64']):\n",
    "        int_features.append(k)\n",
    "        \n",
    "\n",
    "\n",
    "obj_features = []\n",
    "for k,v in df[all_features].dtypes.items():\n",
    "    if(v in ['object','str'] and test_dt[k] in ['object','str']):\n",
    "        obj_features.append(k)\n",
    "        \n",
    "len(numeric_features)\n",
    "len(int_features)\n",
    "len(obj_features)\n",
    "\n",
    "features = int_features + obj_features"
   ]
  },
  {
   "cell_type": "code",
   "execution_count": 160,
   "metadata": {
    "ExecuteTime": {
     "end_time": "2017-10-25T18:03:37.856262Z",
     "start_time": "2017-10-25T18:03:37.850140Z"
    },
    "collapsed": true
   },
   "outputs": [],
   "source": [
    "def randomized(X):\n",
    "    size = len(X)\n",
    "    return np.random.rand(size)\n",
    "    "
   ]
  },
  {
   "cell_type": "code",
   "execution_count": 193,
   "metadata": {
    "ExecuteTime": {
     "end_time": "2017-10-26T05:34:40.779184Z",
     "start_time": "2017-10-26T05:34:39.420405Z"
    },
    "collapsed": true
   },
   "outputs": [],
   "source": [
    "df[df[\"RESPONDERS\"]=='Y'] = 1\n",
    "df[df[\"RESPONDERS\"]=='N'] = 0"
   ]
  },
  {
   "cell_type": "code",
   "execution_count": 194,
   "metadata": {
    "ExecuteTime": {
     "end_time": "2017-10-26T05:36:46.941806Z",
     "start_time": "2017-10-26T05:36:31.077706Z"
    }
   },
   "outputs": [
    {
     "name": "stderr",
     "output_type": "stream",
     "text": [
      "Exception ignored in: <bound method DMatrix.__del__ of <xgboost.core.DMatrix object at 0x1a145a4860>>\n",
      "Traceback (most recent call last):\n",
      "  File \"/Users/ahemf/ext-git/xgboost/python-package/xgboost/core.py\", line 366, in __del__\n",
      "    if self.handle is not None:\n",
      "AttributeError: 'DMatrix' object has no attribute 'handle'\n"
     ]
    }
   ],
   "source": [
    "def fillna(df,column):\n",
    "    if(df[column].dtypes=='int64'):\n",
    "        df[column].fillna(-997,inplace=True)\n",
    "    if(df[column].dtypes=='float64'):\n",
    "        df[column].fillna(-997.0,inplace=True)\n",
    "    if(df[column].dtypes=='object'):\n",
    "        df[column].fillna('-997.0',inplace=True)\n",
    "        \n",
    "for column in all_features:\n",
    "    fillna(df,column)\n",
    "    fillna(df_test,column)"
   ]
  },
  {
   "cell_type": "code",
   "execution_count": 198,
   "metadata": {
    "ExecuteTime": {
     "end_time": "2017-10-26T05:39:00.988133Z",
     "start_time": "2017-10-26T05:39:00.818618Z"
    },
    "collapsed": true
   },
   "outputs": [],
   "source": [
    "X = df[features].values\n",
    "# y = np.log10(df_train[output_column].values + 1)\n",
    "y = df[output_column].values\n"
   ]
  },
  {
   "cell_type": "code",
   "execution_count": 132,
   "metadata": {
    "ExecuteTime": {
     "end_time": "2017-10-25T17:28:10.241519Z",
     "start_time": "2017-10-25T17:28:10.228050Z"
    },
    "collapsed": true
   },
   "outputs": [],
   "source": [
    "train_data=lgb.Dataset(X,label=y.flatten())\n",
    "param = {'num_leaves':1600, 'objective':'binary','max_depth':8,\n",
    "         'learning_rate':.8,'max_bin':512,'tree_learner':'data',\n",
    "         'num_threads':4,'min_data_in_leaf':4,'boosting_type':'dart'}\n",
    "\n",
    "# param['metric'] = ['binary_logloss']\n",
    "# param['metric'] = ['auc']\n",
    "param['metric'] = ['binary_error']\n",
    "# num_round=850 'scale_pos_weight':0.4,\n",
    "# num_round=950\n",
    "num_round=200"
   ]
  },
  {
   "cell_type": "code",
   "execution_count": 133,
   "metadata": {
    "ExecuteTime": {
     "end_time": "2017-10-25T17:28:13.864804Z",
     "start_time": "2017-10-25T17:28:10.243651Z"
    },
    "collapsed": true
   },
   "outputs": [],
   "source": [
    "lgbm=lgb.train(param,train_data,num_round)\n",
    "\n"
   ]
  },
  {
   "cell_type": "code",
   "execution_count": 134,
   "metadata": {
    "ExecuteTime": {
     "end_time": "2017-10-25T17:28:19.312025Z",
     "start_time": "2017-10-25T17:28:13.866983Z"
    }
   },
   "outputs": [
    {
     "data": {
      "text/plain": [
       "199999.975925757"
      ]
     },
     "execution_count": 134,
     "metadata": {},
     "output_type": "execute_result"
    },
    {
     "data": {
      "text/plain": [
       "0.035556212430797783"
      ]
     },
     "execution_count": 134,
     "metadata": {},
     "output_type": "execute_result"
    },
    {
     "data": {
      "text/plain": [
       "4611.9994448479556"
      ]
     },
     "execution_count": 134,
     "metadata": {},
     "output_type": "execute_result"
    },
    {
     "data": {
      "text/plain": [
       "(4612, 333)"
      ]
     },
     "execution_count": 134,
     "metadata": {},
     "output_type": "execute_result"
    }
   ],
   "source": [
    "np.sum(lgbm.predict(df_test[features]))\n",
    "\n",
    "np.sum(lgbm.predict(df[df[\"RESPONDERS\"]==0][features]))\n",
    "np.sum(lgbm.predict(df[df[\"RESPONDERS\"]==1][features]))\n",
    "df[df[\"RESPONDERS\"]==1].shape"
   ]
  },
  {
   "cell_type": "code",
   "execution_count": 164,
   "metadata": {
    "ExecuteTime": {
     "end_time": "2017-10-25T18:03:53.506083Z",
     "start_time": "2017-10-25T18:03:53.500297Z"
    }
   },
   "outputs": [
    {
     "data": {
      "text/plain": [
       "3"
      ]
     },
     "execution_count": 164,
     "metadata": {},
     "output_type": "execute_result"
    }
   ],
   "source": [
    "len(features)"
   ]
  },
  {
   "cell_type": "code",
   "execution_count": 200,
   "metadata": {
    "ExecuteTime": {
     "end_time": "2017-10-26T05:40:32.896280Z",
     "start_time": "2017-10-26T05:39:45.854586Z"
    }
   },
   "outputs": [
    {
     "name": "stdout",
     "output_type": "stream",
     "text": [
      "Borders for float features generated\n",
      "0:\tlearn 0.0001852940727\ttotal: 6.46s\tremaining: 25.8s\n",
      "1:\tlearn 7.740209513e-06\ttotal: 11.3s\tremaining: 17s\n",
      "2:\tlearn 3.147240131e-06\ttotal: 16.8s\tremaining: 11.2s\n",
      "3:\tlearn 1.973857591e-06\ttotal: 21.9s\tremaining: 5.48s\n",
      "4:\tlearn 1.436239139e-06\ttotal: 26.6s\tremaining: 0us\n"
     ]
    },
    {
     "data": {
      "text/plain": [
       "<catboost.core.CatBoostClassifier at 0x1113786d8>"
      ]
     },
     "execution_count": 200,
     "metadata": {},
     "output_type": "execute_result"
    }
   ],
   "source": [
    "from catboost import CatBoostClassifier\n",
    "model = CatBoostClassifier(iterations=5, depth=10, learning_rate=0.8, loss_function='Logloss', verbose=False)\n",
    "model.fit(X, y, cat_features=np.arange(0,92), verbose=True)\n"
   ]
  },
  {
   "cell_type": "code",
   "execution_count": 201,
   "metadata": {
    "ExecuteTime": {
     "end_time": "2017-10-26T05:40:46.878869Z",
     "start_time": "2017-10-26T05:40:46.874333Z"
    },
    "collapsed": true
   },
   "outputs": [],
   "source": [
    "def cat_pred(X):\n",
    "    return model.predict_proba(X)[:,1:2].flatten()"
   ]
  },
  {
   "cell_type": "code",
   "execution_count": 177,
   "metadata": {
    "ExecuteTime": {
     "end_time": "2017-10-25T18:30:02.700594Z",
     "start_time": "2017-10-25T18:24:31.221972Z"
    }
   },
   "outputs": [
    {
     "data": {
      "text/plain": [
       "XGBClassifier(base_score=0.5, booster='gbtree', colsample_bylevel=1,\n",
       "       colsample_bytree=1, gamma=0, learning_rate=0.5, max_delta_step=0,\n",
       "       max_depth=4, min_child_weight=1, missing=-1, n_estimators=1000,\n",
       "       n_jobs=3, nthread=None, objective='binary:logistic', random_state=0,\n",
       "       reg_alpha=0, reg_lambda=1, scale_pos_weight=1, seed=None,\n",
       "       silent=True, subsample=1)"
      ]
     },
     "execution_count": 177,
     "metadata": {},
     "output_type": "execute_result"
    },
    {
     "data": {
      "text/plain": [
       "7"
      ]
     },
     "execution_count": 177,
     "metadata": {},
     "output_type": "execute_result"
    }
   ],
   "source": [
    "xgc = XGBClassifier(max_depth=4, learning_rate=0.5,n_estimators=1000,n_jobs=3,missing=-1)\n",
    "xgc.fit(X, y.ravel())\n",
    "gc.collect()"
   ]
  },
  {
   "cell_type": "code",
   "execution_count": 173,
   "metadata": {
    "ExecuteTime": {
     "end_time": "2017-10-25T18:06:33.364802Z",
     "start_time": "2017-10-25T18:06:33.360345Z"
    },
    "collapsed": true
   },
   "outputs": [],
   "source": [
    "def xgc_pred(X):\n",
    "    return xgc.predict_proba(X)[:,1:2].flatten()"
   ]
  },
  {
   "cell_type": "code",
   "execution_count": null,
   "metadata": {
    "collapsed": true
   },
   "outputs": [],
   "source": []
  },
  {
   "cell_type": "code",
   "execution_count": null,
   "metadata": {
    "collapsed": true
   },
   "outputs": [],
   "source": []
  },
  {
   "cell_type": "code",
   "execution_count": 203,
   "metadata": {
    "ExecuteTime": {
     "end_time": "2017-10-26T05:41:26.866394Z",
     "start_time": "2017-10-26T05:41:26.358011Z"
    }
   },
   "outputs": [
    {
     "data": {
      "text/plain": [
       "116"
      ]
     },
     "execution_count": 203,
     "metadata": {},
     "output_type": "execute_result"
    },
    {
     "ename": "ValueError",
     "evalue": "could not convert string to float: '.'",
     "output_type": "error",
     "traceback": [
      "\u001b[0;31m---------------------------------------------------------------------------\u001b[0m",
      "\u001b[0;31mValueError\u001b[0m                                Traceback (most recent call last)",
      "\u001b[0;32m<ipython-input-203-6bf824079a59>\u001b[0m in \u001b[0;36m<module>\u001b[0;34m()\u001b[0m\n\u001b[1;32m     11\u001b[0m     \u001b[0mmy_solution\u001b[0m\u001b[0;34m.\u001b[0m\u001b[0mto_csv\u001b[0m\u001b[0;34m(\u001b[0m\u001b[0mfilename\u001b[0m\u001b[0;34m,\u001b[0m\u001b[0mindex\u001b[0m\u001b[0;34m=\u001b[0m\u001b[0;32mFalse\u001b[0m\u001b[0;34m,\u001b[0m\u001b[0mcolumns\u001b[0m\u001b[0;34m=\u001b[0m\u001b[0;34m[\u001b[0m\u001b[0;34m\"CUSTOMER_ID\"\u001b[0m\u001b[0;34m,\u001b[0m\u001b[0;34m\"RESPONDERS\"\u001b[0m\u001b[0;34m]\u001b[0m\u001b[0;34m)\u001b[0m\u001b[0;34m\u001b[0m\u001b[0m\n\u001b[1;32m     12\u001b[0m \u001b[0;34m\u001b[0m\u001b[0m\n\u001b[0;32m---> 13\u001b[0;31m \u001b[0mpredict_and_store\u001b[0m\u001b[0;34m(\u001b[0m\u001b[0mcat_pred\u001b[0m\u001b[0;34m,\u001b[0m\u001b[0;34m\"results.csv\"\u001b[0m\u001b[0;34m)\u001b[0m\u001b[0;34m\u001b[0m\u001b[0m\n\u001b[0m\u001b[1;32m     14\u001b[0m \u001b[0;34m\u001b[0m\u001b[0m\n",
      "\u001b[0;32m<ipython-input-203-6bf824079a59>\u001b[0m in \u001b[0;36mpredict_and_store\u001b[0;34m(model, filename)\u001b[0m\n\u001b[1;32m      2\u001b[0m \u001b[0;32mdef\u001b[0m \u001b[0mpredict_and_store\u001b[0m\u001b[0;34m(\u001b[0m\u001b[0mmodel\u001b[0m\u001b[0;34m,\u001b[0m\u001b[0mfilename\u001b[0m\u001b[0;34m)\u001b[0m\u001b[0;34m:\u001b[0m\u001b[0;34m\u001b[0m\u001b[0m\n\u001b[1;32m      3\u001b[0m     \u001b[0mX_t\u001b[0m \u001b[0;34m=\u001b[0m \u001b[0mdf_test\u001b[0m\u001b[0;34m[\u001b[0m\u001b[0mfeatures\u001b[0m\u001b[0;34m]\u001b[0m\u001b[0;34m.\u001b[0m\u001b[0mvalues\u001b[0m\u001b[0;34m\u001b[0m\u001b[0m\n\u001b[0;32m----> 4\u001b[0;31m     \u001b[0my_t\u001b[0m \u001b[0;34m=\u001b[0m \u001b[0mmodel\u001b[0m\u001b[0;34m(\u001b[0m\u001b[0mX_t\u001b[0m\u001b[0;34m)\u001b[0m\u001b[0;34m\u001b[0m\u001b[0m\n\u001b[0m\u001b[1;32m      5\u001b[0m \u001b[0;31m#     my_solution = pd.DataFrame(y_t, ids, columns = [output_column])\u001b[0m\u001b[0;34m\u001b[0m\u001b[0;34m\u001b[0m\u001b[0m\n\u001b[1;32m      6\u001b[0m     \u001b[0mmy_solution\u001b[0m \u001b[0;34m=\u001b[0m \u001b[0mpd\u001b[0m\u001b[0;34m.\u001b[0m\u001b[0mDataFrame\u001b[0m\u001b[0;34m(\u001b[0m\u001b[0;34m{\u001b[0m\u001b[0;34m\"CUSTOMER_ID\"\u001b[0m\u001b[0;34m:\u001b[0m\u001b[0mdf_test\u001b[0m\u001b[0;34m[\u001b[0m\u001b[0;34m\"CUSTOMER_ID\"\u001b[0m\u001b[0;34m]\u001b[0m\u001b[0;34m,\u001b[0m\u001b[0;34m\"RESPONDERS\"\u001b[0m\u001b[0;34m:\u001b[0m\u001b[0my_t\u001b[0m\u001b[0;34m}\u001b[0m\u001b[0;34m)\u001b[0m\u001b[0;34m\u001b[0m\u001b[0m\n",
      "\u001b[0;32m<ipython-input-201-ad87f2beca5a>\u001b[0m in \u001b[0;36mcat_pred\u001b[0;34m(X)\u001b[0m\n\u001b[1;32m      1\u001b[0m \u001b[0;32mdef\u001b[0m \u001b[0mcat_pred\u001b[0m\u001b[0;34m(\u001b[0m\u001b[0mX\u001b[0m\u001b[0;34m)\u001b[0m\u001b[0;34m:\u001b[0m\u001b[0;34m\u001b[0m\u001b[0m\n\u001b[0;32m----> 2\u001b[0;31m     \u001b[0;32mreturn\u001b[0m \u001b[0mmodel\u001b[0m\u001b[0;34m.\u001b[0m\u001b[0mpredict_proba\u001b[0m\u001b[0;34m(\u001b[0m\u001b[0mX\u001b[0m\u001b[0;34m)\u001b[0m\u001b[0;34m[\u001b[0m\u001b[0;34m:\u001b[0m\u001b[0;34m,\u001b[0m\u001b[0;36m1\u001b[0m\u001b[0;34m:\u001b[0m\u001b[0;36m2\u001b[0m\u001b[0;34m]\u001b[0m\u001b[0;34m.\u001b[0m\u001b[0mflatten\u001b[0m\u001b[0;34m(\u001b[0m\u001b[0;34m)\u001b[0m\u001b[0;34m\u001b[0m\u001b[0m\n\u001b[0m",
      "\u001b[0;32m~/anaconda3/lib/python3.6/site-packages/catboost/core.py\u001b[0m in \u001b[0;36mpredict_proba\u001b[0;34m(self, data, weight, ntree_start, ntree_end, thread_count, verbose)\u001b[0m\n\u001b[1;32m   1157\u001b[0m         \u001b[0mprediction\u001b[0m \u001b[0;34m:\u001b[0m \u001b[0mnumpy\u001b[0m\u001b[0;34m.\u001b[0m\u001b[0marray\u001b[0m\u001b[0;34m\u001b[0m\u001b[0m\n\u001b[1;32m   1158\u001b[0m         \"\"\"\n\u001b[0;32m-> 1159\u001b[0;31m         \u001b[0;32mreturn\u001b[0m \u001b[0mself\u001b[0m\u001b[0;34m.\u001b[0m\u001b[0m_predict\u001b[0m\u001b[0;34m(\u001b[0m\u001b[0mdata\u001b[0m\u001b[0;34m,\u001b[0m \u001b[0mweight\u001b[0m\u001b[0;34m,\u001b[0m \u001b[0;34m'Probability'\u001b[0m\u001b[0;34m,\u001b[0m \u001b[0mntree_start\u001b[0m\u001b[0;34m,\u001b[0m \u001b[0mntree_end\u001b[0m\u001b[0;34m,\u001b[0m \u001b[0mthread_count\u001b[0m\u001b[0;34m,\u001b[0m \u001b[0mverbose\u001b[0m\u001b[0;34m)\u001b[0m\u001b[0;34m\u001b[0m\u001b[0m\n\u001b[0m\u001b[1;32m   1160\u001b[0m \u001b[0;34m\u001b[0m\u001b[0m\n\u001b[1;32m   1161\u001b[0m     \u001b[0;32mdef\u001b[0m \u001b[0mstaged_predict\u001b[0m\u001b[0;34m(\u001b[0m\u001b[0mself\u001b[0m\u001b[0;34m,\u001b[0m \u001b[0mdata\u001b[0m\u001b[0;34m,\u001b[0m \u001b[0mweight\u001b[0m\u001b[0;34m=\u001b[0m\u001b[0;32mNone\u001b[0m\u001b[0;34m,\u001b[0m \u001b[0mprediction_type\u001b[0m\u001b[0;34m=\u001b[0m\u001b[0;34m'Class'\u001b[0m\u001b[0;34m,\u001b[0m \u001b[0mntree_start\u001b[0m\u001b[0;34m=\u001b[0m\u001b[0;36m0\u001b[0m\u001b[0;34m,\u001b[0m \u001b[0mntree_end\u001b[0m\u001b[0;34m=\u001b[0m\u001b[0;36m0\u001b[0m\u001b[0;34m,\u001b[0m \u001b[0meval_period\u001b[0m\u001b[0;34m=\u001b[0m\u001b[0;36m1\u001b[0m\u001b[0;34m,\u001b[0m \u001b[0mthread_count\u001b[0m\u001b[0;34m=\u001b[0m\u001b[0;36m1\u001b[0m\u001b[0;34m,\u001b[0m \u001b[0mverbose\u001b[0m\u001b[0;34m=\u001b[0m\u001b[0;32mNone\u001b[0m\u001b[0;34m)\u001b[0m\u001b[0;34m:\u001b[0m\u001b[0;34m\u001b[0m\u001b[0m\n",
      "\u001b[0;32m~/anaconda3/lib/python3.6/site-packages/catboost/core.py\u001b[0m in \u001b[0;36m_predict\u001b[0;34m(self, data, weight, prediction_type, ntree_start, ntree_end, thread_count, verbose)\u001b[0m\n\u001b[1;32m    498\u001b[0m             \u001b[0;32mraise\u001b[0m \u001b[0mCatboostError\u001b[0m\u001b[0;34m(\u001b[0m\u001b[0;34m\"There is no trained model to use predict(). Use fit() to train model. Then use predict().\"\u001b[0m\u001b[0;34m)\u001b[0m\u001b[0;34m\u001b[0m\u001b[0m\n\u001b[1;32m    499\u001b[0m         \u001b[0;32mif\u001b[0m \u001b[0;32mnot\u001b[0m \u001b[0misinstance\u001b[0m\u001b[0;34m(\u001b[0m\u001b[0mdata\u001b[0m\u001b[0;34m,\u001b[0m \u001b[0mPool\u001b[0m\u001b[0;34m)\u001b[0m\u001b[0;34m:\u001b[0m\u001b[0;34m\u001b[0m\u001b[0m\n\u001b[0;32m--> 500\u001b[0;31m             \u001b[0mdata\u001b[0m \u001b[0;34m=\u001b[0m \u001b[0mPool\u001b[0m\u001b[0;34m(\u001b[0m\u001b[0mdata\u001b[0m\u001b[0;34m=\u001b[0m\u001b[0mdata\u001b[0m\u001b[0;34m,\u001b[0m \u001b[0mweight\u001b[0m\u001b[0;34m=\u001b[0m\u001b[0mweight\u001b[0m\u001b[0;34m,\u001b[0m \u001b[0mcat_features\u001b[0m\u001b[0;34m=\u001b[0m\u001b[0mself\u001b[0m\u001b[0;34m.\u001b[0m\u001b[0m_get_cat_feature_indices\u001b[0m\u001b[0;34m(\u001b[0m\u001b[0;34m)\u001b[0m\u001b[0;34m)\u001b[0m\u001b[0;34m\u001b[0m\u001b[0m\n\u001b[0m\u001b[1;32m    501\u001b[0m         \u001b[0;32melif\u001b[0m \u001b[0;32mnot\u001b[0m \u001b[0mnp\u001b[0m\u001b[0;34m.\u001b[0m\u001b[0mall\u001b[0m\u001b[0;34m(\u001b[0m\u001b[0msorted\u001b[0m\u001b[0;34m(\u001b[0m\u001b[0mdata\u001b[0m\u001b[0;34m.\u001b[0m\u001b[0mget_cat_feature_indices\u001b[0m\u001b[0;34m(\u001b[0m\u001b[0;34m)\u001b[0m\u001b[0;34m)\u001b[0m \u001b[0;34m==\u001b[0m \u001b[0msorted\u001b[0m\u001b[0;34m(\u001b[0m\u001b[0mself\u001b[0m\u001b[0;34m.\u001b[0m\u001b[0m_get_cat_feature_indices\u001b[0m\u001b[0;34m(\u001b[0m\u001b[0;34m)\u001b[0m\u001b[0;34m)\u001b[0m\u001b[0;34m)\u001b[0m\u001b[0;34m:\u001b[0m\u001b[0;34m\u001b[0m\u001b[0m\n\u001b[1;32m    502\u001b[0m             \u001b[0;32mraise\u001b[0m \u001b[0mCatboostError\u001b[0m\u001b[0;34m(\u001b[0m\u001b[0;34m\"Data cat_features in predict()={} are not equal data cat_features in fit()={}.\"\u001b[0m\u001b[0;34m.\u001b[0m\u001b[0mformat\u001b[0m\u001b[0;34m(\u001b[0m\u001b[0mdata\u001b[0m\u001b[0;34m.\u001b[0m\u001b[0mget_cat_feature_indices\u001b[0m\u001b[0;34m(\u001b[0m\u001b[0;34m)\u001b[0m\u001b[0;34m,\u001b[0m \u001b[0mself\u001b[0m\u001b[0;34m.\u001b[0m\u001b[0m_get_cat_feature_indices\u001b[0m\u001b[0;34m(\u001b[0m\u001b[0;34m)\u001b[0m\u001b[0;34m)\u001b[0m\u001b[0;34m)\u001b[0m\u001b[0;34m\u001b[0m\u001b[0m\n",
      "\u001b[0;32m~/anaconda3/lib/python3.6/site-packages/catboost/core.py\u001b[0m in \u001b[0;36m__init__\u001b[0;34m(self, data, label, cat_features, column_description, delimiter, has_header, weight, baseline, feature_names, thread_count)\u001b[0m\n\u001b[1;32m    120\u001b[0m                 \u001b[0mself\u001b[0m\u001b[0;34m.\u001b[0m\u001b[0m_read\u001b[0m\u001b[0;34m(\u001b[0m\u001b[0mdata\u001b[0m\u001b[0;34m,\u001b[0m \u001b[0mcolumn_description\u001b[0m\u001b[0;34m,\u001b[0m \u001b[0mdelimiter\u001b[0m\u001b[0;34m,\u001b[0m \u001b[0mhas_header\u001b[0m\u001b[0;34m,\u001b[0m \u001b[0mthread_count\u001b[0m\u001b[0;34m)\u001b[0m\u001b[0;34m\u001b[0m\u001b[0m\n\u001b[1;32m    121\u001b[0m             \u001b[0;32melse\u001b[0m\u001b[0;34m:\u001b[0m\u001b[0;34m\u001b[0m\u001b[0m\n\u001b[0;32m--> 122\u001b[0;31m                 \u001b[0mself\u001b[0m\u001b[0;34m.\u001b[0m\u001b[0m_init\u001b[0m\u001b[0;34m(\u001b[0m\u001b[0mdata\u001b[0m\u001b[0;34m,\u001b[0m \u001b[0mlabel\u001b[0m\u001b[0;34m,\u001b[0m \u001b[0mcat_features\u001b[0m\u001b[0;34m,\u001b[0m \u001b[0mweight\u001b[0m\u001b[0;34m,\u001b[0m \u001b[0mbaseline\u001b[0m\u001b[0;34m,\u001b[0m \u001b[0mfeature_names\u001b[0m\u001b[0;34m)\u001b[0m\u001b[0;34m\u001b[0m\u001b[0m\n\u001b[0m\u001b[1;32m    123\u001b[0m         \u001b[0msuper\u001b[0m\u001b[0;34m(\u001b[0m\u001b[0mPool\u001b[0m\u001b[0;34m,\u001b[0m \u001b[0mself\u001b[0m\u001b[0;34m)\u001b[0m\u001b[0;34m.\u001b[0m\u001b[0m__init__\u001b[0m\u001b[0;34m(\u001b[0m\u001b[0;34m)\u001b[0m\u001b[0;34m\u001b[0m\u001b[0m\n\u001b[1;32m    124\u001b[0m \u001b[0;34m\u001b[0m\u001b[0m\n",
      "\u001b[0;32m~/anaconda3/lib/python3.6/site-packages/catboost/core.py\u001b[0m in \u001b[0;36m_init\u001b[0;34m(self, data_matrix, label, cat_features, weight, baseline, feature_names)\u001b[0m\n\u001b[1;32m    329\u001b[0m         \u001b[0;32mif\u001b[0m \u001b[0mfeature_names\u001b[0m \u001b[0;32mis\u001b[0m \u001b[0;32mnot\u001b[0m \u001b[0;32mNone\u001b[0m\u001b[0;34m:\u001b[0m\u001b[0;34m\u001b[0m\u001b[0m\n\u001b[1;32m    330\u001b[0m             \u001b[0mself\u001b[0m\u001b[0;34m.\u001b[0m\u001b[0m_check_feature_names\u001b[0m\u001b[0;34m(\u001b[0m\u001b[0mfeature_names\u001b[0m\u001b[0;34m,\u001b[0m \u001b[0mdata_shape\u001b[0m\u001b[0;34m[\u001b[0m\u001b[0;36m1\u001b[0m\u001b[0;34m]\u001b[0m\u001b[0;34m)\u001b[0m\u001b[0;34m\u001b[0m\u001b[0m\n\u001b[0;32m--> 331\u001b[0;31m         \u001b[0mself\u001b[0m\u001b[0;34m.\u001b[0m\u001b[0m_init_pool\u001b[0m\u001b[0;34m(\u001b[0m\u001b[0mdata_matrix\u001b[0m\u001b[0;34m,\u001b[0m \u001b[0mlabel\u001b[0m\u001b[0;34m,\u001b[0m \u001b[0mweight\u001b[0m\u001b[0;34m,\u001b[0m \u001b[0mbaseline\u001b[0m\u001b[0;34m,\u001b[0m \u001b[0mfeature_names\u001b[0m\u001b[0;34m)\u001b[0m\u001b[0;34m\u001b[0m\u001b[0m\n\u001b[0m\u001b[1;32m    332\u001b[0m \u001b[0;34m\u001b[0m\u001b[0m\n\u001b[1;32m    333\u001b[0m \u001b[0;34m\u001b[0m\u001b[0m\n",
      "\u001b[0;32m_catboost.pyx\u001b[0m in \u001b[0;36m_catboost._PoolBase._init_pool (/Users/donskov/.ya/build/build_root/fwdd/00034f/catboost/python-package/catboost/_catboost.pyx.cpp:6511)\u001b[0;34m()\u001b[0m\n",
      "\u001b[0;32m_catboost.pyx\u001b[0m in \u001b[0;36m_catboost._PoolBase._init_pool (/Users/donskov/.ya/build/build_root/fwdd/00034f/catboost/python-package/catboost/_catboost.pyx.cpp:6236)\u001b[0;34m()\u001b[0m\n",
      "\u001b[0;32m_catboost.pyx\u001b[0m in \u001b[0;36m_catboost._PoolBase._set_data (/Users/donskov/.ya/build/build_root/fwdd/00034f/catboost/python-package/catboost/_catboost.pyx.cpp:7060)\u001b[0;34m()\u001b[0m\n",
      "\u001b[0;31mValueError\u001b[0m: could not convert string to float: '.'"
     ]
    }
   ],
   "source": [
    "gc.collect()\n",
    "def predict_and_store(model,filename):\n",
    "    X_t = df_test[features].values\n",
    "    y_t = model(X_t)\n",
    "#     my_solution = pd.DataFrame(y_t, ids, columns = [output_column])\n",
    "    my_solution = pd.DataFrame({\"CUSTOMER_ID\":df_test[\"CUSTOMER_ID\"],\"RESPONDERS\":y_t})\n",
    "#     my_solution[output_column] = my_solution[output_column].round(3)\n",
    "\n",
    "    print(my_solution.shape)\n",
    "#     my_solution.to_csv(filename, index_label = [\"ID\"])\n",
    "    my_solution.to_csv(filename,index=False,columns=[\"CUSTOMER_ID\",\"RESPONDERS\"])\n",
    "    \n",
    "predict_and_store(cat_pred,\"results.csv\")\n",
    "    \n"
   ]
  },
  {
   "cell_type": "code",
   "execution_count": null,
   "metadata": {
    "collapsed": true
   },
   "outputs": [],
   "source": []
  }
 ],
 "metadata": {
  "kernelspec": {
   "display_name": "Python 3",
   "language": "python",
   "name": "python3"
  },
  "language_info": {
   "codemirror_mode": {
    "name": "ipython",
    "version": 3
   },
   "file_extension": ".py",
   "mimetype": "text/x-python",
   "name": "python",
   "nbconvert_exporter": "python",
   "pygments_lexer": "ipython3",
   "version": "3.6.2"
  },
  "toc": {
   "nav_menu": {},
   "number_sections": true,
   "sideBar": true,
   "skip_h1_title": false,
   "toc_cell": false,
   "toc_position": {},
   "toc_section_display": "block",
   "toc_window_display": false
  }
 },
 "nbformat": 4,
 "nbformat_minor": 2
}
