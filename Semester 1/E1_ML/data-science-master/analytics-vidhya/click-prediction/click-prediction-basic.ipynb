{
 "cells": [
  {
   "cell_type": "markdown",
   "metadata": {
    "collapsed": true
   },
   "source": [
    "### Requirements\n",
    "#### Folder heirarchy for running these codes\n",
    "- analytics-vidhya (top level folder)\n",
    "    - data\n",
    "        - click-prediction\n",
    "            - data files in csv here, all outputs of different stages are also mv into here\n",
    "    - click-prediction\n",
    "        - Ipython notebook files here\n",
    "\n",
    "#### Software requirements\n",
    "- Anaconda Ipython distribution\n",
    "- MySQL for geocode data analysis\n",
    "- XGBoost compiled for respective platform\n",
    "- Any other libs will be mentioned on the go\n"
   ]
  },
  {
   "cell_type": "code",
   "execution_count": 1,
   "metadata": {
    "ExecuteTime": {
     "end_time": "2017-09-20T20:08:03.995154Z",
     "start_time": "2017-09-20T20:08:02.719305Z"
    },
    "collapsed": true
   },
   "outputs": [],
   "source": [
    "import numpy as np # linear algebra\n",
    "import pandas as pd # data processing, CSV file I/O (e.g. pd.read_csv)\n",
    "import matplotlib as mplt\n",
    "import matplotlib.pyplot as plt\n",
    "from sklearn.model_selection import train_test_split\n",
    "from sklearn.metrics import mean_squared_error\n",
    "from IPython.core.interactiveshell import InteractiveShell\n",
    "from sklearn.ensemble import RandomForestRegressor\n",
    "from sklearn.metrics import explained_variance_score\n",
    "from sklearn.preprocessing import LabelEncoder\n",
    "from sklearn.metrics import confusion_matrix\n",
    "from sklearn.model_selection import GridSearchCV\n",
    "%matplotlib inline\n",
    "import seaborn as sns\n",
    "import math\n",
    "import gc\n",
    "import ipaddress\n",
    "\n",
    "import sys\n",
    "from pathlib import Path\n",
    "d = Path().resolve().parent.parent\n",
    "sys.path.insert(0, str(d))\n",
    "import util.utils as utils\n",
    "import util.plot_utils as plot_utils\n",
    "\n",
    "\n",
    "\n",
    "plt.rcParams[\"figure.figsize\"] = (12,4)\n",
    "\n",
    "from xgboost import XGBClassifier\n",
    "import xgboost as xgb\n",
    "from sklearn.metrics import accuracy_score\n",
    "\n",
    "\n",
    "\n",
    "InteractiveShell.ast_node_interactivity = \"all\"\n",
    "np.set_printoptions(precision=2)"
   ]
  },
  {
   "cell_type": "code",
   "execution_count": 2,
   "metadata": {
    "ExecuteTime": {
     "end_time": "2017-09-20T20:08:04.549051Z",
     "start_time": "2017-09-20T20:08:04.545854Z"
    },
    "collapsed": true
   },
   "outputs": [],
   "source": [
    "project_name=\"click-prediction\"\n",
    "def get_file_location(filename):\n",
    "    return \"../data/%s/%s\" % (project_name,filename)"
   ]
  },
  {
   "cell_type": "code",
   "execution_count": 3,
   "metadata": {
    "ExecuteTime": {
     "end_time": "2017-09-20T20:08:05.367549Z",
     "start_time": "2017-09-20T20:08:05.357235Z"
    },
    "collapsed": true
   },
   "outputs": [],
   "source": [
    "\n",
    "dtypes_train = {\"ID\":\"int64\",\n",
    "\"Country\":\"object\",\n",
    "\"Carrier\":\"float64\",\n",
    "\"TrafficType\":\"object\",\n",
    "\"ClickDate\":\"object\",\n",
    "\"Device\":\"object\",\n",
    "\"Browser\":\"object\",\n",
    "\"OS\":\"object\",\n",
    "\"RefererUrl\":\"object\",\n",
    "\"UserIp\":\"object\",\n",
    "\"ConversionStatus\":\"bool\",\n",
    "\"ConversionDate\":\"object\",\n",
    "\"ConversionPayOut\":\"float64\",\n",
    "\"publisherId\":\"object\",\n",
    "\"subPublisherId\":\"object\",\n",
    "\"advertiserCampaignId\":\"float64\",\n",
    "\"Fraud\":\"float64\"}\n",
    "\n",
    "dtypes_test = {\"ID\":\"int64\",\n",
    "\"Country\":\"object\",\n",
    "\"Carrier\":\"float64\",\n",
    "\"TrafficType\":\"object\",\n",
    "\"ClickDate\":\"object\",\n",
    "\"Device\":\"object\",\n",
    "\"Browser\":\"object\",\n",
    "\"OS\":\"object\",\n",
    "\"RefererUrl\":\"object\",\n",
    "\"UserIp\":\"object\",\n",
    "\"publisherId\":\"object\",\n",
    "\"subPublisherId\":\"object\",\n",
    "\"advertiserCampaignId\":\"float64\",\n",
    "\"Fraud\":\"float64\"}\n",
    "# test size = 25,548,872\n",
    "# train size = 63,367,217"
   ]
  },
  {
   "cell_type": "code",
   "execution_count": 5,
   "metadata": {
    "ExecuteTime": {
     "end_time": "2017-09-20T20:08:23.845098Z",
     "start_time": "2017-09-20T20:08:23.836770Z"
    },
    "collapsed": true
   },
   "outputs": [],
   "source": [
    "\n",
    "\n",
    "def fast_read_and_append(file_path,chunksize,fullsize,dtypes):\n",
    "    # in chunk reading be careful as pandas might infer a columns dtype as different for diff chunk\n",
    "    # As such specifying a dtype while reading by giving params to read_csv maybe better\n",
    "    # Label encoding will fail if half the rows for same column is int and rest are str\n",
    "    # In case of that already happened then df_test[\"publisherId\"] = df_test[\"publisherId\"].apply(str)\n",
    "    df = pd.DataFrame()\n",
    "    iterations = 0\n",
    "    total_needed_iters = math.ceil(fullsize/chunksize)\n",
    "    for x in pd.read_csv(file_path, chunksize=chunksize,low_memory=False,dtype=dtypes):\n",
    "        print(\"iterations= %s out of %s\" %  (iterations,total_needed_iters))\n",
    "        df = pd.concat([df, x], ignore_index=True)\n",
    "        iterations += 1\n",
    "    return df\n",
    "    "
   ]
  },
  {
   "cell_type": "code",
   "execution_count": 6,
   "metadata": {
    "ExecuteTime": {
     "end_time": "2017-09-20T20:27:37.780731Z",
     "start_time": "2017-09-20T20:08:25.934959Z"
    }
   },
   "outputs": [
    {
     "name": "stdout",
     "output_type": "stream",
     "text": [
      "iterations= 0 out of 64\n",
      "iterations= 1 out of 64\n",
      "iterations= 2 out of 64\n",
      "iterations= 3 out of 64\n",
      "iterations= 4 out of 64\n",
      "iterations= 5 out of 64\n",
      "iterations= 6 out of 64\n",
      "iterations= 7 out of 64\n",
      "iterations= 8 out of 64\n",
      "iterations= 9 out of 64\n",
      "iterations= 10 out of 64\n",
      "iterations= 11 out of 64\n",
      "iterations= 12 out of 64\n",
      "iterations= 13 out of 64\n",
      "iterations= 14 out of 64\n",
      "iterations= 15 out of 64\n",
      "iterations= 16 out of 64\n",
      "iterations= 17 out of 64\n",
      "iterations= 18 out of 64\n",
      "iterations= 19 out of 64\n",
      "iterations= 20 out of 64\n",
      "iterations= 21 out of 64\n",
      "iterations= 22 out of 64\n",
      "iterations= 23 out of 64\n",
      "iterations= 24 out of 64\n",
      "iterations= 25 out of 64\n",
      "iterations= 26 out of 64\n",
      "iterations= 27 out of 64\n",
      "iterations= 28 out of 64\n",
      "iterations= 29 out of 64\n",
      "iterations= 30 out of 64\n",
      "iterations= 31 out of 64\n",
      "iterations= 32 out of 64\n",
      "iterations= 33 out of 64\n",
      "iterations= 34 out of 64\n",
      "iterations= 35 out of 64\n",
      "iterations= 36 out of 64\n",
      "iterations= 37 out of 64\n",
      "iterations= 38 out of 64\n",
      "iterations= 39 out of 64\n",
      "iterations= 40 out of 64\n",
      "iterations= 41 out of 64\n",
      "iterations= 42 out of 64\n",
      "iterations= 43 out of 64\n",
      "iterations= 44 out of 64\n",
      "iterations= 45 out of 64\n",
      "iterations= 46 out of 64\n",
      "iterations= 47 out of 64\n",
      "iterations= 48 out of 64\n",
      "iterations= 49 out of 64\n",
      "iterations= 50 out of 64\n",
      "iterations= 51 out of 64\n",
      "iterations= 52 out of 64\n",
      "iterations= 53 out of 64\n",
      "iterations= 54 out of 64\n",
      "iterations= 55 out of 64\n",
      "iterations= 56 out of 64\n",
      "iterations= 57 out of 64\n",
      "iterations= 58 out of 64\n",
      "iterations= 59 out of 64\n",
      "iterations= 60 out of 64\n",
      "iterations= 61 out of 64\n",
      "iterations= 62 out of 64\n",
      "iterations= 63 out of 64\n"
     ]
    }
   ],
   "source": [
    "\n",
    "df=fast_read_and_append(\"../data/%s/train.csv\" % project_name,1000000,63367217,dtypes_train)\n",
    "\n"
   ]
  },
  {
   "cell_type": "code",
   "execution_count": 7,
   "metadata": {
    "ExecuteTime": {
     "end_time": "2017-09-20T20:58:03.514940Z",
     "start_time": "2017-09-20T20:58:03.505220Z"
    }
   },
   "outputs": [
    {
     "data": {
      "text/plain": [
       "(63367217, 17)"
      ]
     },
     "execution_count": 7,
     "metadata": {},
     "output_type": "execute_result"
    },
    {
     "data": {
      "text/plain": [
       "ID                        int64\n",
       "Country                  object\n",
       "Carrier                 float64\n",
       "TrafficType              object\n",
       "ClickDate                object\n",
       "Device                   object\n",
       "Browser                  object\n",
       "OS                       object\n",
       "RefererUrl               object\n",
       "UserIp                   object\n",
       "ConversionStatus           bool\n",
       "ConversionDate           object\n",
       "ConversionPayOut        float64\n",
       "publisherId              object\n",
       "subPublisherId           object\n",
       "advertiserCampaignId    float64\n",
       "Fraud                   float64\n",
       "dtype: object"
      ]
     },
     "execution_count": 7,
     "metadata": {},
     "output_type": "execute_result"
    }
   ],
   "source": [
    "df.shape\n",
    "df.dtypes"
   ]
  },
  {
   "cell_type": "code",
   "execution_count": 9,
   "metadata": {
    "ExecuteTime": {
     "end_time": "2017-09-20T21:04:29.435527Z",
     "start_time": "2017-09-20T20:59:01.945581Z"
    }
   },
   "outputs": [
    {
     "name": "stdout",
     "output_type": "stream",
     "text": [
      "iterations= 0 out of 50\n",
      "iterations= 1 out of 50\n",
      "iterations= 2 out of 50\n",
      "iterations= 3 out of 50\n",
      "iterations= 4 out of 50\n",
      "iterations= 5 out of 50\n",
      "iterations= 6 out of 50\n",
      "iterations= 7 out of 50\n",
      "iterations= 8 out of 50\n",
      "iterations= 9 out of 50\n",
      "iterations= 10 out of 50\n",
      "iterations= 11 out of 50\n",
      "iterations= 12 out of 50\n",
      "iterations= 13 out of 50\n",
      "iterations= 14 out of 50\n",
      "iterations= 15 out of 50\n",
      "iterations= 16 out of 50\n",
      "iterations= 17 out of 50\n",
      "iterations= 18 out of 50\n",
      "iterations= 19 out of 50\n",
      "iterations= 20 out of 50\n",
      "iterations= 21 out of 50\n",
      "iterations= 22 out of 50\n",
      "iterations= 23 out of 50\n",
      "iterations= 24 out of 50\n",
      "iterations= 25 out of 50\n",
      "iterations= 26 out of 50\n",
      "iterations= 27 out of 50\n",
      "iterations= 28 out of 50\n",
      "iterations= 29 out of 50\n",
      "iterations= 30 out of 50\n",
      "iterations= 31 out of 50\n",
      "iterations= 32 out of 50\n",
      "iterations= 33 out of 50\n",
      "iterations= 34 out of 50\n",
      "iterations= 35 out of 50\n",
      "iterations= 36 out of 50\n",
      "iterations= 37 out of 50\n",
      "iterations= 38 out of 50\n",
      "iterations= 39 out of 50\n",
      "iterations= 40 out of 50\n",
      "iterations= 41 out of 50\n",
      "iterations= 42 out of 50\n",
      "iterations= 43 out of 50\n",
      "iterations= 44 out of 50\n",
      "iterations= 45 out of 50\n",
      "iterations= 46 out of 50\n",
      "iterations= 47 out of 50\n",
      "iterations= 48 out of 50\n",
      "iterations= 49 out of 50\n",
      "iterations= 50 out of 50\n",
      "iterations= 51 out of 50\n"
     ]
    }
   ],
   "source": [
    "df_test=fast_read_and_append(\"../data/%s/test.csv\" % project_name,500000,24510750,dtypes_test)"
   ]
  },
  {
   "cell_type": "code",
   "execution_count": 10,
   "metadata": {
    "ExecuteTime": {
     "end_time": "2017-09-20T21:22:05.146241Z",
     "start_time": "2017-09-20T21:22:05.141682Z"
    }
   },
   "outputs": [
    {
     "data": {
      "text/plain": [
       "(25548873, 14)"
      ]
     },
     "execution_count": 10,
     "metadata": {},
     "output_type": "execute_result"
    }
   ],
   "source": [
    "df_test.shape"
   ]
  },
  {
   "cell_type": "code",
   "execution_count": 11,
   "metadata": {
    "ExecuteTime": {
     "end_time": "2017-09-20T21:22:14.950537Z",
     "start_time": "2017-09-20T21:22:10.065382Z"
    },
    "collapsed": true
   },
   "outputs": [],
   "source": [
    "# transforms for space efficiency\n",
    "def transform_1(df):\n",
    "    df[\"Carrier\"] = df[\"Carrier\"].astype(int)\n",
    "    \n",
    "\n",
    "transform_1(df)\n",
    "transform_1(df_test)\n",
    "\n",
    "\n",
    "def transform_2(df):\n",
    "    df[\"advertiserCampaignId\"] = df[\"advertiserCampaignId\"].fillna(-997)\n",
    "    df[\"advertiserCampaignId\"] = df[\"advertiserCampaignId\"].astype(int)\n",
    "    \n",
    "\n",
    "transform_2(df)\n",
    "transform_2(df_test)\n",
    "\n",
    "def transform_3(df):\n",
    "    df[\"Fraud\"] = df[\"Fraud\"].fillna(-997)\n",
    "    df[\"Fraud\"] = df[\"Fraud\"].astype(int)\n",
    "    \n",
    "transform_3(df)\n",
    "transform_3(df_test)\n",
    "    "
   ]
  },
  {
   "cell_type": "code",
   "execution_count": 12,
   "metadata": {
    "ExecuteTime": {
     "end_time": "2017-09-20T21:22:14.962456Z",
     "start_time": "2017-09-20T21:22:14.951843Z"
    },
    "collapsed": true
   },
   "outputs": [],
   "source": [
    "def label_encode_field(df,df_test,field):\n",
    "    df[field] = df[field].fillna('-997')\n",
    "    df_test[field] = df_test[field].fillna('-997')\n",
    "    encoded_df = df[field].append(df_test[field])\n",
    "    encoded_df.fillna('-1')\n",
    "    label_encoder = LabelEncoder()\n",
    "    encoder = label_encoder.fit(encoded_df.values)\n",
    "    encoded_t=encoder.transform(df_test[field].fillna(\"-997\").values)\n",
    "    df_test[field] = encoded_t\n",
    "    encoded_df=encoder.transform(df[field].fillna(\"-997\").values)\n",
    "    df[field] = encoded_df\n",
    "    return encoder\n",
    "\n",
    "\n",
    "def store_encoder_as_file(le,column_name):\n",
    "    ids =np.arange(0,len(list(le.classes_))).astype(int)\n",
    "    my_encoding = pd.DataFrame(list(le.classes_), ids, columns = [column_name])\n",
    "    print(my_encoding.shape)\n",
    "    my_encoding.to_csv(get_file_location(\"%s-encoding.csv\" % column_name), index_label = [\"id\"])"
   ]
  },
  {
   "cell_type": "code",
   "execution_count": 13,
   "metadata": {
    "ExecuteTime": {
     "end_time": "2017-09-20T21:42:43.281559Z",
     "start_time": "2017-09-20T21:23:11.404974Z"
    }
   },
   "outputs": [
    {
     "name": "stdout",
     "output_type": "stream",
     "text": [
      "(233, 1)\n",
      "(3, 1)\n",
      "(1344, 1)\n",
      "(42, 1)\n"
     ]
    }
   ],
   "source": [
    "# df_test[\"publisherId\"] = df_test[\"publisherId\"].apply(str)\n",
    "\n",
    "\n",
    "store_encoder_as_file(label_encode_field(df,df_test,\"Country\"),\"Country\")\n",
    "store_encoder_as_file(label_encode_field(df,df_test,\"TrafficType\"),\"TrafficType\")\n",
    "\n",
    "\n",
    "store_encoder_as_file(label_encode_field(df,df_test,\"Device\"),\"Device\")\n",
    "\n",
    "\n",
    "store_encoder_as_file(label_encode_field(df,df_test,\"Browser\"),\"Browser\")\n",
    "\n"
   ]
  },
  {
   "cell_type": "code",
   "execution_count": 14,
   "metadata": {
    "ExecuteTime": {
     "end_time": "2017-09-20T22:19:52.912904Z",
     "start_time": "2017-09-20T21:42:43.282709Z"
    }
   },
   "outputs": [
    {
     "name": "stdout",
     "output_type": "stream",
     "text": [
      "(22, 1)\n",
      "(404286, 1)\n",
      "(14385484, 1)\n"
     ]
    }
   ],
   "source": [
    "\n",
    "\n",
    "\n",
    "\n",
    "store_encoder_as_file(label_encode_field(df,df_test,\"OS\"),\"OS\")\n",
    "\n",
    "\n",
    "store_encoder_as_file(label_encode_field(df,df_test,\"RefererUrl\"),\"RefererUrl\")\n",
    "\n",
    "\n",
    "store_encoder_as_file(label_encode_field(df,df_test,\"UserIp\"),\"UserIp\")\n"
   ]
  },
  {
   "cell_type": "code",
   "execution_count": 15,
   "metadata": {
    "ExecuteTime": {
     "end_time": "2017-09-20T22:29:17.832863Z",
     "start_time": "2017-09-20T22:19:52.914405Z"
    }
   },
   "outputs": [
    {
     "name": "stdout",
     "output_type": "stream",
     "text": [
      "(9443, 1)\n",
      "(8596, 1)\n"
     ]
    }
   ],
   "source": [
    "\n",
    "\n",
    "store_encoder_as_file(label_encode_field(df,df_test,\"publisherId\"),\"publisherId\")\n",
    "store_encoder_as_file(label_encode_field(df,df_test,\"subPublisherId\"),\"subPublisherId\")"
   ]
  },
  {
   "cell_type": "code",
   "execution_count": 16,
   "metadata": {
    "ExecuteTime": {
     "end_time": "2017-09-20T22:39:01.846021Z",
     "start_time": "2017-09-20T22:29:17.834231Z"
    },
    "collapsed": true
   },
   "outputs": [],
   "source": [
    "df.to_csv(get_file_location(\"train-step-1.csv\"))"
   ]
  },
  {
   "cell_type": "code",
   "execution_count": 17,
   "metadata": {
    "ExecuteTime": {
     "end_time": "2017-09-20T22:42:28.653579Z",
     "start_time": "2017-09-20T22:39:01.847501Z"
    },
    "collapsed": true
   },
   "outputs": [],
   "source": [
    "df_test.to_csv(get_file_location(\"test-step-1.csv\"))"
   ]
  },
  {
   "cell_type": "code",
   "execution_count": null,
   "metadata": {
    "collapsed": true
   },
   "outputs": [],
   "source": []
  }
 ],
 "metadata": {
  "hide_input": false,
  "kernelspec": {
   "display_name": "Python 3",
   "language": "python",
   "name": "python3"
  },
  "language_info": {
   "codemirror_mode": {
    "name": "ipython",
    "version": 3
   },
   "file_extension": ".py",
   "mimetype": "text/x-python",
   "name": "python",
   "nbconvert_exporter": "python",
   "pygments_lexer": "ipython3",
   "version": "3.6.1"
  },
  "toc": {
   "nav_menu": {
    "height": "12px",
    "width": "252px"
   },
   "number_sections": true,
   "sideBar": true,
   "skip_h1_title": false,
   "toc_cell": false,
   "toc_position": {},
   "toc_section_display": "block",
   "toc_window_display": false
  },
  "varInspector": {
   "cols": {
    "lenName": 16,
    "lenType": 16,
    "lenVar": 40
   },
   "kernels_config": {
    "python": {
     "delete_cmd_postfix": "",
     "delete_cmd_prefix": "del ",
     "library": "var_list.py",
     "varRefreshCmd": "print(var_dic_list())"
    },
    "r": {
     "delete_cmd_postfix": ") ",
     "delete_cmd_prefix": "rm(",
     "library": "var_list.r",
     "varRefreshCmd": "cat(var_dic_list()) "
    }
   },
   "types_to_exclude": [
    "module",
    "function",
    "builtin_function_or_method",
    "instance",
    "_Feature"
   ],
   "window_display": false
  }
 },
 "nbformat": 4,
 "nbformat_minor": 2
}
