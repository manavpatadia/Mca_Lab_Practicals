{
 "cells": [
  {
   "cell_type": "markdown",
   "metadata": {},
   "source": [
    "### Data source and method for IP\n",
    "[Source Maxmind](http://dev.maxmind.com/geoip/geoip2/geolite2/)\n",
    "\n",
    "Download city csv data [link](http://geolite.maxmind.com/download/geoip/database/GeoLite2-City-CSV.zip)\n",
    "\n",
    "Used Files\n",
    "- GeoLite2-City-Blocks-IPv4.csv ()\n",
    "- GeoLite2-City-Locations-en.csv ()\n",
    "\n",
    "Create Table for Mysql\n",
    "```\n",
    "CREATE TABLE `geocodes_data` (\n",
    "  `network` varchar(64) DEFAULT NULL,\n",
    "  `geoname_id` bigint(11) NOT NULL,\n",
    "  `postal_code` varchar(256) DEFAULT NULL,\n",
    "  KEY `geoname_id` (`geoname_id`)\n",
    ") ENGINE=InnoDB DEFAULT CHARSET=utf8;\n",
    "\n",
    "\n",
    "CREATE TABLE `geocodes` (\n",
    "  `geoname_id` bigint(11) NOT NULL,\n",
    "  `country_iso_code` varchar(8) DEFAULT NULL,\n",
    "  `city_name` varchar(1024) DEFAULT NULL,\n",
    "  `subdivision_1_iso_code` varchar(256) DEFAULT NULL,\n",
    "  UNIQUE KEY `geoname_id` (`geoname_id`)\n",
    ") ENGINE=InnoDB DEFAULT CHARSET=utf8;\n",
    "\n",
    "```\n",
    "After importing these files in mysql run\n",
    "```\n",
    "select gd.network as network, gc.geoname_id as geoname_id,gc.country_iso_code as country_iso_code, gc.city_name as city,gc.`subdivision_1_iso_code` as region_code, gd.postal_code as postal_code\n",
    "from geocodes gc inner join geocodes_data gd \n",
    "where gc.geoname_id=gd.geoname_id\n",
    "```\n",
    "\n",
    "then download the file generated as csv for python processing, name the file as `geocodes_joined.csv`\n",
    "\n",
    "scp the file to server `scp geocodes_joined.csv.gz ahemf@server.com:/home/ahemf/mygit/data-science/analytics-vidhya/data/click-prediction`\n",
    "\n",
    "#### Improving Country data\n",
    "- we have added some addition country data using ips to geocode mapping\n",
    "- for that update the encoding file `Country-encoding.csv` by adding a line `-1,GB`"
   ]
  },
  {
   "cell_type": "code",
   "execution_count": 1,
   "metadata": {
    "ExecuteTime": {
     "end_time": "2017-09-21T09:54:29.619808Z",
     "start_time": "2017-09-21T09:54:28.322836Z"
    },
    "collapsed": true
   },
   "outputs": [],
   "source": [
    "import numpy as np # linear algebra\n",
    "import pandas as pd # data processing, CSV file I/O (e.g. pd.read_csv)\n",
    "import matplotlib as mplt\n",
    "import matplotlib.pyplot as plt\n",
    "from sklearn.model_selection import train_test_split\n",
    "from sklearn.metrics import mean_squared_error\n",
    "from IPython.core.interactiveshell import InteractiveShell\n",
    "from sklearn.ensemble import RandomForestRegressor\n",
    "from sklearn.metrics import explained_variance_score\n",
    "from sklearn.preprocessing import LabelEncoder\n",
    "from sklearn.metrics import confusion_matrix\n",
    "from sklearn.model_selection import GridSearchCV\n",
    "%matplotlib inline\n",
    "import seaborn as sns\n",
    "import math\n",
    "\n",
    "import sys\n",
    "from pathlib import Path\n",
    "d = Path().resolve().parent.parent\n",
    "sys.path.insert(0, str(d))\n",
    "import util.utils as utils\n",
    "import util.plot_utils as plot_utils\n",
    "import gc\n",
    "\n",
    "\n",
    "\n",
    "plt.rcParams[\"figure.figsize\"] = (12,4)\n",
    "\n",
    "from xgboost import XGBClassifier\n",
    "import xgboost as xgb\n",
    "from sklearn.metrics import accuracy_score\n",
    "import ipaddress\n",
    "\n",
    "InteractiveShell.ast_node_interactivity = \"all\"\n",
    "np.set_printoptions(precision=2)"
   ]
  },
  {
   "cell_type": "code",
   "execution_count": null,
   "metadata": {
    "collapsed": true
   },
   "outputs": [],
   "source": []
  },
  {
   "cell_type": "code",
   "execution_count": 2,
   "metadata": {
    "ExecuteTime": {
     "end_time": "2017-09-21T09:54:30.603194Z",
     "start_time": "2017-09-21T09:54:30.599752Z"
    },
    "collapsed": true
   },
   "outputs": [],
   "source": [
    "project_name=\"click-prediction\"\n",
    "def get_file_location(filename):\n",
    "    return \"../data/%s/%s\" % (project_name,filename)"
   ]
  },
  {
   "cell_type": "code",
   "execution_count": 4,
   "metadata": {
    "ExecuteTime": {
     "end_time": "2017-09-21T05:06:38.018077Z",
     "start_time": "2017-09-21T05:06:34.311665Z"
    },
    "collapsed": true
   },
   "outputs": [],
   "source": [
    "df_ip2l=pd.read_csv(get_file_location(\"IP2LOCATION-LITE-DB11.CSV\"))"
   ]
  },
  {
   "cell_type": "code",
   "execution_count": 7,
   "metadata": {
    "ExecuteTime": {
     "end_time": "2017-09-21T05:09:41.238252Z",
     "start_time": "2017-09-21T05:09:41.219696Z"
    }
   },
   "outputs": [
    {
     "data": {
      "text/html": [
       "<div>\n",
       "<style>\n",
       "    .dataframe thead tr:only-child th {\n",
       "        text-align: right;\n",
       "    }\n",
       "\n",
       "    .dataframe thead th {\n",
       "        text-align: left;\n",
       "    }\n",
       "\n",
       "    .dataframe tbody tr th {\n",
       "        vertical-align: top;\n",
       "    }\n",
       "</style>\n",
       "<table border=\"1\" class=\"dataframe\">\n",
       "  <thead>\n",
       "    <tr style=\"text-align: right;\">\n",
       "      <th></th>\n",
       "      <th>start</th>\n",
       "      <th>end</th>\n",
       "      <th>Country</th>\n",
       "      <th>Country_full</th>\n",
       "      <th>region</th>\n",
       "      <th>city</th>\n",
       "      <th>lat</th>\n",
       "      <th>long</th>\n",
       "      <th>postal_code</th>\n",
       "      <th>tz</th>\n",
       "    </tr>\n",
       "  </thead>\n",
       "  <tbody>\n",
       "    <tr>\n",
       "      <th>0</th>\n",
       "      <td>16777216</td>\n",
       "      <td>16777471</td>\n",
       "      <td>AU</td>\n",
       "      <td>Australia</td>\n",
       "      <td>Queensland</td>\n",
       "      <td>Brisbane</td>\n",
       "      <td>-27.46794</td>\n",
       "      <td>153.02809</td>\n",
       "      <td>4000</td>\n",
       "      <td>+10:00</td>\n",
       "    </tr>\n",
       "    <tr>\n",
       "      <th>1</th>\n",
       "      <td>16777472</td>\n",
       "      <td>16778239</td>\n",
       "      <td>CN</td>\n",
       "      <td>China</td>\n",
       "      <td>Fujian</td>\n",
       "      <td>Fuzhou</td>\n",
       "      <td>26.06139</td>\n",
       "      <td>119.30611</td>\n",
       "      <td>350004</td>\n",
       "      <td>+08:00</td>\n",
       "    </tr>\n",
       "    <tr>\n",
       "      <th>2</th>\n",
       "      <td>16778240</td>\n",
       "      <td>16778495</td>\n",
       "      <td>AU</td>\n",
       "      <td>Australia</td>\n",
       "      <td>Victoria</td>\n",
       "      <td>Melbourne</td>\n",
       "      <td>-37.81400</td>\n",
       "      <td>144.96332</td>\n",
       "      <td>8010</td>\n",
       "      <td>+10:00</td>\n",
       "    </tr>\n",
       "    <tr>\n",
       "      <th>3</th>\n",
       "      <td>16778496</td>\n",
       "      <td>16779263</td>\n",
       "      <td>AU</td>\n",
       "      <td>Australia</td>\n",
       "      <td>-</td>\n",
       "      <td>-</td>\n",
       "      <td>-33.86785</td>\n",
       "      <td>151.20732</td>\n",
       "      <td>-</td>\n",
       "      <td>+10:00</td>\n",
       "    </tr>\n",
       "    <tr>\n",
       "      <th>4</th>\n",
       "      <td>16779264</td>\n",
       "      <td>16781311</td>\n",
       "      <td>CN</td>\n",
       "      <td>China</td>\n",
       "      <td>Guangdong</td>\n",
       "      <td>Guangzhou</td>\n",
       "      <td>23.11667</td>\n",
       "      <td>113.25000</td>\n",
       "      <td>510140</td>\n",
       "      <td>+08:00</td>\n",
       "    </tr>\n",
       "  </tbody>\n",
       "</table>\n",
       "</div>"
      ],
      "text/plain": [
       "      start       end Country Country_full      region       city       lat  \\\n",
       "0  16777216  16777471      AU    Australia  Queensland   Brisbane -27.46794   \n",
       "1  16777472  16778239      CN        China      Fujian     Fuzhou  26.06139   \n",
       "2  16778240  16778495      AU    Australia    Victoria  Melbourne -37.81400   \n",
       "3  16778496  16779263      AU    Australia           -          - -33.86785   \n",
       "4  16779264  16781311      CN        China   Guangdong  Guangzhou  23.11667   \n",
       "\n",
       "        long postal_code      tz  \n",
       "0  153.02809        4000  +10:00  \n",
       "1  119.30611      350004  +08:00  \n",
       "2  144.96332        8010  +10:00  \n",
       "3  151.20732           -  +10:00  \n",
       "4  113.25000      510140  +08:00  "
      ]
     },
     "execution_count": 7,
     "metadata": {},
     "output_type": "execute_result"
    }
   ],
   "source": [
    "df_ip2l.columns = [\"start\",\"end\",\"Country\",\"Country_full\",\"region\",\"city\",\"lat\",\"long\",\"postal_code\",\"tz\"]\n"
   ]
  },
  {
   "cell_type": "code",
   "execution_count": 8,
   "metadata": {
    "ExecuteTime": {
     "end_time": "2017-09-21T05:10:45.541661Z",
     "start_time": "2017-09-21T05:10:44.995760Z"
    }
   },
   "outputs": [
    {
     "data": {
      "text/html": [
       "<div>\n",
       "<style>\n",
       "    .dataframe thead tr:only-child th {\n",
       "        text-align: right;\n",
       "    }\n",
       "\n",
       "    .dataframe thead th {\n",
       "        text-align: left;\n",
       "    }\n",
       "\n",
       "    .dataframe tbody tr th {\n",
       "        vertical-align: top;\n",
       "    }\n",
       "</style>\n",
       "<table border=\"1\" class=\"dataframe\">\n",
       "  <thead>\n",
       "    <tr style=\"text-align: right;\">\n",
       "      <th></th>\n",
       "      <th>start</th>\n",
       "      <th>end</th>\n",
       "      <th>Country</th>\n",
       "      <th>region</th>\n",
       "      <th>city</th>\n",
       "      <th>postal_code</th>\n",
       "      <th>tz</th>\n",
       "    </tr>\n",
       "  </thead>\n",
       "  <tbody>\n",
       "    <tr>\n",
       "      <th>0</th>\n",
       "      <td>16777216</td>\n",
       "      <td>16777471</td>\n",
       "      <td>AU</td>\n",
       "      <td>Queensland</td>\n",
       "      <td>Brisbane</td>\n",
       "      <td>4000</td>\n",
       "      <td>+10:00</td>\n",
       "    </tr>\n",
       "    <tr>\n",
       "      <th>1</th>\n",
       "      <td>16777472</td>\n",
       "      <td>16778239</td>\n",
       "      <td>CN</td>\n",
       "      <td>Fujian</td>\n",
       "      <td>Fuzhou</td>\n",
       "      <td>350004</td>\n",
       "      <td>+08:00</td>\n",
       "    </tr>\n",
       "    <tr>\n",
       "      <th>2</th>\n",
       "      <td>16778240</td>\n",
       "      <td>16778495</td>\n",
       "      <td>AU</td>\n",
       "      <td>Victoria</td>\n",
       "      <td>Melbourne</td>\n",
       "      <td>8010</td>\n",
       "      <td>+10:00</td>\n",
       "    </tr>\n",
       "    <tr>\n",
       "      <th>3</th>\n",
       "      <td>16778496</td>\n",
       "      <td>16779263</td>\n",
       "      <td>AU</td>\n",
       "      <td>-</td>\n",
       "      <td>-</td>\n",
       "      <td>-</td>\n",
       "      <td>+10:00</td>\n",
       "    </tr>\n",
       "    <tr>\n",
       "      <th>4</th>\n",
       "      <td>16779264</td>\n",
       "      <td>16781311</td>\n",
       "      <td>CN</td>\n",
       "      <td>Guangdong</td>\n",
       "      <td>Guangzhou</td>\n",
       "      <td>510140</td>\n",
       "      <td>+08:00</td>\n",
       "    </tr>\n",
       "  </tbody>\n",
       "</table>\n",
       "</div>"
      ],
      "text/plain": [
       "      start       end Country      region       city postal_code      tz\n",
       "0  16777216  16777471      AU  Queensland   Brisbane        4000  +10:00\n",
       "1  16777472  16778239      CN      Fujian     Fuzhou      350004  +08:00\n",
       "2  16778240  16778495      AU    Victoria  Melbourne        8010  +10:00\n",
       "3  16778496  16779263      AU           -          -           -  +10:00\n",
       "4  16779264  16781311      CN   Guangdong  Guangzhou      510140  +08:00"
      ]
     },
     "execution_count": 8,
     "metadata": {},
     "output_type": "execute_result"
    }
   ],
   "source": [
    "df_ip2l.drop(['Country_full'], axis = 1, inplace = True)\n",
    "df_ip2l.drop(['lat'], axis = 1, inplace = True)\n",
    "df_ip2l.drop(['long'], axis = 1, inplace = True)\n",
    "df_ip2l.head()"
   ]
  },
  {
   "cell_type": "code",
   "execution_count": 14,
   "metadata": {
    "ExecuteTime": {
     "end_time": "2017-09-21T05:41:42.235256Z",
     "start_time": "2017-09-21T05:35:12.449949Z"
    }
   },
   "outputs": [
    {
     "name": "stdout",
     "output_type": "stream",
     "text": [
      "0\n",
      "100000\n"
     ]
    },
    {
     "ename": "KeyboardInterrupt",
     "evalue": "",
     "output_type": "error",
     "traceback": [
      "\u001b[0;31m---------------------------------------------------------------------------\u001b[0m",
      "\u001b[0;31mKeyboardInterrupt\u001b[0m                         Traceback (most recent call last)",
      "\u001b[0;32m<ipython-input-14-e4345f3a9796>\u001b[0m in \u001b[0;36m<module>\u001b[0;34m()\u001b[0m\n\u001b[1;32m      8\u001b[0m     \u001b[0;32mif\u001b[0m \u001b[0mindex\u001b[0m \u001b[0;34m%\u001b[0m \u001b[0;36m100000\u001b[0m\u001b[0;34m==\u001b[0m\u001b[0;36m0\u001b[0m\u001b[0;34m:\u001b[0m\u001b[0;34m\u001b[0m\u001b[0m\n\u001b[1;32m      9\u001b[0m         \u001b[0mprint\u001b[0m\u001b[0;34m(\u001b[0m\u001b[0mindex\u001b[0m\u001b[0;34m)\u001b[0m\u001b[0;34m\u001b[0m\u001b[0m\n\u001b[0;32m---> 10\u001b[0;31m     \u001b[0mdf_ip2l_processed\u001b[0m \u001b[0;34m=\u001b[0m \u001b[0mpd\u001b[0m\u001b[0;34m.\u001b[0m\u001b[0mconcat\u001b[0m\u001b[0;34m(\u001b[0m\u001b[0;34m[\u001b[0m\u001b[0mdf_ip2l_processed\u001b[0m\u001b[0;34m,\u001b[0m\u001b[0mdf_row\u001b[0m\u001b[0;34m]\u001b[0m\u001b[0;34m,\u001b[0m\u001b[0mignore_index\u001b[0m\u001b[0;34m=\u001b[0m\u001b[0;32mTrue\u001b[0m\u001b[0;34m)\u001b[0m\u001b[0;34m\u001b[0m\u001b[0m\n\u001b[0m\u001b[1;32m     11\u001b[0m \u001b[0;34m\u001b[0m\u001b[0m\n\u001b[1;32m     12\u001b[0m \u001b[0mdf_ip2l_processed\u001b[0m\u001b[0;34m.\u001b[0m\u001b[0mhead\u001b[0m\u001b[0;34m(\u001b[0m\u001b[0;34m)\u001b[0m\u001b[0;34m\u001b[0m\u001b[0m\n",
      "\u001b[0;32m/home/ahemf/anaconda3/lib/python3.6/site-packages/pandas/core/reshape/concat.py\u001b[0m in \u001b[0;36mconcat\u001b[0;34m(objs, axis, join, join_axes, ignore_index, keys, levels, names, verify_integrity, copy)\u001b[0m\n\u001b[1;32m    205\u001b[0m                        \u001b[0mverify_integrity\u001b[0m\u001b[0;34m=\u001b[0m\u001b[0mverify_integrity\u001b[0m\u001b[0;34m,\u001b[0m\u001b[0;34m\u001b[0m\u001b[0m\n\u001b[1;32m    206\u001b[0m                        copy=copy)\n\u001b[0;32m--> 207\u001b[0;31m     \u001b[0;32mreturn\u001b[0m \u001b[0mop\u001b[0m\u001b[0;34m.\u001b[0m\u001b[0mget_result\u001b[0m\u001b[0;34m(\u001b[0m\u001b[0;34m)\u001b[0m\u001b[0;34m\u001b[0m\u001b[0m\n\u001b[0m\u001b[1;32m    208\u001b[0m \u001b[0;34m\u001b[0m\u001b[0m\n\u001b[1;32m    209\u001b[0m \u001b[0;34m\u001b[0m\u001b[0m\n",
      "\u001b[0;32m/home/ahemf/anaconda3/lib/python3.6/site-packages/pandas/core/reshape/concat.py\u001b[0m in \u001b[0;36mget_result\u001b[0;34m(self)\u001b[0m\n\u001b[1;32m    405\u001b[0m             new_data = concatenate_block_managers(\n\u001b[1;32m    406\u001b[0m                 \u001b[0mmgrs_indexers\u001b[0m\u001b[0;34m,\u001b[0m \u001b[0mself\u001b[0m\u001b[0;34m.\u001b[0m\u001b[0mnew_axes\u001b[0m\u001b[0;34m,\u001b[0m \u001b[0mconcat_axis\u001b[0m\u001b[0;34m=\u001b[0m\u001b[0mself\u001b[0m\u001b[0;34m.\u001b[0m\u001b[0maxis\u001b[0m\u001b[0;34m,\u001b[0m\u001b[0;34m\u001b[0m\u001b[0m\n\u001b[0;32m--> 407\u001b[0;31m                 copy=self.copy)\n\u001b[0m\u001b[1;32m    408\u001b[0m             \u001b[0;32mif\u001b[0m \u001b[0;32mnot\u001b[0m \u001b[0mself\u001b[0m\u001b[0;34m.\u001b[0m\u001b[0mcopy\u001b[0m\u001b[0;34m:\u001b[0m\u001b[0;34m\u001b[0m\u001b[0m\n\u001b[1;32m    409\u001b[0m                 \u001b[0mnew_data\u001b[0m\u001b[0;34m.\u001b[0m\u001b[0m_consolidate_inplace\u001b[0m\u001b[0;34m(\u001b[0m\u001b[0;34m)\u001b[0m\u001b[0;34m\u001b[0m\u001b[0m\n",
      "\u001b[0;32m/home/ahemf/anaconda3/lib/python3.6/site-packages/pandas/core/internals.py\u001b[0m in \u001b[0;36mconcatenate_block_managers\u001b[0;34m(mgrs_indexers, axes, concat_axis, copy)\u001b[0m\n\u001b[1;32m   4830\u001b[0m     blocks = [make_block(\n\u001b[1;32m   4831\u001b[0m         \u001b[0mconcatenate_join_units\u001b[0m\u001b[0;34m(\u001b[0m\u001b[0mjoin_units\u001b[0m\u001b[0;34m,\u001b[0m \u001b[0mconcat_axis\u001b[0m\u001b[0;34m,\u001b[0m \u001b[0mcopy\u001b[0m\u001b[0;34m=\u001b[0m\u001b[0mcopy\u001b[0m\u001b[0;34m)\u001b[0m\u001b[0;34m,\u001b[0m\u001b[0;34m\u001b[0m\u001b[0m\n\u001b[0;32m-> 4832\u001b[0;31m         placement=placement) for placement, join_units in concat_plan]\n\u001b[0m\u001b[1;32m   4833\u001b[0m \u001b[0;34m\u001b[0m\u001b[0m\n\u001b[1;32m   4834\u001b[0m     \u001b[0;32mreturn\u001b[0m \u001b[0mBlockManager\u001b[0m\u001b[0;34m(\u001b[0m\u001b[0mblocks\u001b[0m\u001b[0;34m,\u001b[0m \u001b[0maxes\u001b[0m\u001b[0;34m)\u001b[0m\u001b[0;34m\u001b[0m\u001b[0m\n",
      "\u001b[0;32m/home/ahemf/anaconda3/lib/python3.6/site-packages/pandas/core/internals.py\u001b[0m in \u001b[0;36m<listcomp>\u001b[0;34m(.0)\u001b[0m\n\u001b[1;32m   4830\u001b[0m     blocks = [make_block(\n\u001b[1;32m   4831\u001b[0m         \u001b[0mconcatenate_join_units\u001b[0m\u001b[0;34m(\u001b[0m\u001b[0mjoin_units\u001b[0m\u001b[0;34m,\u001b[0m \u001b[0mconcat_axis\u001b[0m\u001b[0;34m,\u001b[0m \u001b[0mcopy\u001b[0m\u001b[0;34m=\u001b[0m\u001b[0mcopy\u001b[0m\u001b[0;34m)\u001b[0m\u001b[0;34m,\u001b[0m\u001b[0;34m\u001b[0m\u001b[0m\n\u001b[0;32m-> 4832\u001b[0;31m         placement=placement) for placement, join_units in concat_plan]\n\u001b[0m\u001b[1;32m   4833\u001b[0m \u001b[0;34m\u001b[0m\u001b[0m\n\u001b[1;32m   4834\u001b[0m     \u001b[0;32mreturn\u001b[0m \u001b[0mBlockManager\u001b[0m\u001b[0;34m(\u001b[0m\u001b[0mblocks\u001b[0m\u001b[0;34m,\u001b[0m \u001b[0maxes\u001b[0m\u001b[0;34m)\u001b[0m\u001b[0;34m\u001b[0m\u001b[0m\n",
      "\u001b[0;32m/home/ahemf/anaconda3/lib/python3.6/site-packages/pandas/core/internals.py\u001b[0m in \u001b[0;36mconcatenate_join_units\u001b[0;34m(join_units, concat_axis, copy)\u001b[0m\n\u001b[1;32m   4945\u001b[0m             \u001b[0mconcat_values\u001b[0m \u001b[0;34m=\u001b[0m \u001b[0mconcat_values\u001b[0m\u001b[0;34m.\u001b[0m\u001b[0mcopy\u001b[0m\u001b[0;34m(\u001b[0m\u001b[0;34m)\u001b[0m\u001b[0;34m\u001b[0m\u001b[0m\n\u001b[1;32m   4946\u001b[0m     \u001b[0;32melse\u001b[0m\u001b[0;34m:\u001b[0m\u001b[0;34m\u001b[0m\u001b[0m\n\u001b[0;32m-> 4947\u001b[0;31m         \u001b[0mconcat_values\u001b[0m \u001b[0;34m=\u001b[0m \u001b[0m_concat\u001b[0m\u001b[0;34m.\u001b[0m\u001b[0m_concat_compat\u001b[0m\u001b[0;34m(\u001b[0m\u001b[0mto_concat\u001b[0m\u001b[0;34m,\u001b[0m \u001b[0maxis\u001b[0m\u001b[0;34m=\u001b[0m\u001b[0mconcat_axis\u001b[0m\u001b[0;34m)\u001b[0m\u001b[0;34m\u001b[0m\u001b[0m\n\u001b[0m\u001b[1;32m   4948\u001b[0m \u001b[0;34m\u001b[0m\u001b[0m\n\u001b[1;32m   4949\u001b[0m     \u001b[0;32mreturn\u001b[0m \u001b[0mconcat_values\u001b[0m\u001b[0;34m\u001b[0m\u001b[0m\n",
      "\u001b[0;32m/home/ahemf/anaconda3/lib/python3.6/site-packages/pandas/core/dtypes/concat.py\u001b[0m in \u001b[0;36m_concat_compat\u001b[0;34m(to_concat, axis)\u001b[0m\n\u001b[1;32m    164\u001b[0m                 \u001b[0mto_concat\u001b[0m \u001b[0;34m=\u001b[0m \u001b[0;34m[\u001b[0m\u001b[0mx\u001b[0m\u001b[0;34m.\u001b[0m\u001b[0mastype\u001b[0m\u001b[0;34m(\u001b[0m\u001b[0;34m'object'\u001b[0m\u001b[0;34m)\u001b[0m \u001b[0;32mfor\u001b[0m \u001b[0mx\u001b[0m \u001b[0;32min\u001b[0m \u001b[0mto_concat\u001b[0m\u001b[0;34m]\u001b[0m\u001b[0;34m\u001b[0m\u001b[0m\n\u001b[1;32m    165\u001b[0m \u001b[0;34m\u001b[0m\u001b[0m\n\u001b[0;32m--> 166\u001b[0;31m     \u001b[0;32mreturn\u001b[0m \u001b[0mnp\u001b[0m\u001b[0;34m.\u001b[0m\u001b[0mconcatenate\u001b[0m\u001b[0;34m(\u001b[0m\u001b[0mto_concat\u001b[0m\u001b[0;34m,\u001b[0m \u001b[0maxis\u001b[0m\u001b[0;34m=\u001b[0m\u001b[0maxis\u001b[0m\u001b[0;34m)\u001b[0m\u001b[0;34m\u001b[0m\u001b[0m\n\u001b[0m\u001b[1;32m    167\u001b[0m \u001b[0;34m\u001b[0m\u001b[0m\n\u001b[1;32m    168\u001b[0m \u001b[0;34m\u001b[0m\u001b[0m\n",
      "\u001b[0;31mKeyboardInterrupt\u001b[0m: "
     ]
    }
   ],
   "source": [
    "df_ip2l_processed = pd.DataFrame()\n",
    "for index, row in df_ip2l.iterrows():\n",
    "    df_row = pd.DataFrame()\n",
    "    for ipaddr in ipaddress.summarize_address_range(ipaddress.IPv4Address(row[\"start\"]),ipaddress.IPv4Address(row[\"end\"])):\n",
    "        df_cur=pd.DataFrame(data={\"ip\":[ipaddr.exploded],\"Country\":[row[\"Country\"]],\"region\":[row[\"region\"]],\"city\":[row[\"city\"]],\n",
    "                                  \"postal_code\":[row[\"postal_code\"]],\"tz\":[row[\"tz\"]]})\n",
    "        df_row = pd.concat([df_row,df_cur],ignore_index=True)\n",
    "    if index % 100000==0:\n",
    "        print(index)\n",
    "    df_ip2l_processed = pd.concat([df_ip2l_processed,df_row],ignore_index=True)\n",
    "    \n",
    "df_ip2l_processed.head()\n",
    "        \n",
    "        "
   ]
  },
  {
   "cell_type": "code",
   "execution_count": 3,
   "metadata": {
    "ExecuteTime": {
     "end_time": "2017-09-21T09:56:13.970825Z",
     "start_time": "2017-09-21T09:56:13.962565Z"
    },
    "collapsed": true
   },
   "outputs": [],
   "source": [
    "def fast_read_and_append(file_path,chunksize,fullsize,sample):\n",
    "    # in chunk reading be careful as pandas might infer a columns dtype as different for diff chunk\n",
    "    # As such specifying a dtype while reading by giving params to read_csv maybe better\n",
    "    # Label encoding will fail if half the rows for same column is int and rest are str\n",
    "    # In case of that already happened then df_test[\"publisherId\"] = df_test[\"publisherId\"].apply(str)\n",
    "    df = pd.DataFrame()\n",
    "    iterations = 0\n",
    "    total_needed_iters = math.ceil(fullsize/chunksize)\n",
    "    for x in pd.read_csv(file_path, chunksize=chunksize,low_memory=False):\n",
    "        x = x.sample(frac=sample)\n",
    "        print(\"iterations= %s out of %s\" %  (iterations,total_needed_iters))\n",
    "        df = pd.concat([df, x], ignore_index=True)\n",
    "        iterations += 1\n",
    "    gc.collect()\n",
    "    return df"
   ]
  },
  {
   "cell_type": "code",
   "execution_count": 7,
   "metadata": {
    "ExecuteTime": {
     "end_time": "2017-09-21T10:27:09.094808Z",
     "start_time": "2017-09-21T10:13:26.965680Z"
    }
   },
   "outputs": [
    {
     "name": "stdout",
     "output_type": "stream",
     "text": [
      "iterations= 0 out of 128\n",
      "iterations= 1 out of 128\n",
      "iterations= 2 out of 128\n",
      "iterations= 3 out of 128\n",
      "iterations= 4 out of 128\n",
      "iterations= 5 out of 128\n",
      "iterations= 6 out of 128\n",
      "iterations= 7 out of 128\n",
      "iterations= 8 out of 128\n",
      "iterations= 9 out of 128\n",
      "iterations= 10 out of 128\n",
      "iterations= 11 out of 128\n",
      "iterations= 12 out of 128\n",
      "iterations= 13 out of 128\n",
      "iterations= 14 out of 128\n",
      "iterations= 15 out of 128\n",
      "iterations= 16 out of 128\n",
      "iterations= 17 out of 128\n",
      "iterations= 18 out of 128\n",
      "iterations= 19 out of 128\n",
      "iterations= 20 out of 128\n",
      "iterations= 21 out of 128\n",
      "iterations= 22 out of 128\n",
      "iterations= 23 out of 128\n",
      "iterations= 24 out of 128\n",
      "iterations= 25 out of 128\n",
      "iterations= 26 out of 128\n",
      "iterations= 27 out of 128\n",
      "iterations= 28 out of 128\n",
      "iterations= 29 out of 128\n",
      "iterations= 30 out of 128\n",
      "iterations= 31 out of 128\n",
      "iterations= 32 out of 128\n",
      "iterations= 33 out of 128\n",
      "iterations= 34 out of 128\n",
      "iterations= 35 out of 128\n",
      "iterations= 36 out of 128\n",
      "iterations= 37 out of 128\n",
      "iterations= 38 out of 128\n",
      "iterations= 39 out of 128\n",
      "iterations= 40 out of 128\n",
      "iterations= 41 out of 128\n",
      "iterations= 42 out of 128\n",
      "iterations= 43 out of 128\n",
      "iterations= 44 out of 128\n",
      "iterations= 45 out of 128\n",
      "iterations= 46 out of 128\n",
      "iterations= 47 out of 128\n",
      "iterations= 48 out of 128\n",
      "iterations= 49 out of 128\n",
      "iterations= 50 out of 128\n",
      "iterations= 51 out of 128\n",
      "iterations= 52 out of 128\n",
      "iterations= 53 out of 128\n",
      "iterations= 54 out of 128\n",
      "iterations= 55 out of 128\n",
      "iterations= 56 out of 128\n",
      "iterations= 57 out of 128\n",
      "iterations= 58 out of 128\n",
      "iterations= 59 out of 128\n",
      "iterations= 60 out of 128\n",
      "iterations= 61 out of 128\n",
      "iterations= 62 out of 128\n",
      "iterations= 63 out of 128\n",
      "iterations= 64 out of 128\n",
      "iterations= 65 out of 128\n",
      "iterations= 66 out of 128\n",
      "iterations= 67 out of 128\n",
      "iterations= 68 out of 128\n",
      "iterations= 69 out of 128\n",
      "iterations= 70 out of 128\n",
      "iterations= 71 out of 128\n",
      "iterations= 72 out of 128\n",
      "iterations= 73 out of 128\n",
      "iterations= 74 out of 128\n",
      "iterations= 75 out of 128\n",
      "iterations= 76 out of 128\n",
      "iterations= 77 out of 128\n",
      "iterations= 78 out of 128\n",
      "iterations= 79 out of 128\n",
      "iterations= 80 out of 128\n",
      "iterations= 81 out of 128\n",
      "iterations= 82 out of 128\n",
      "iterations= 83 out of 128\n",
      "iterations= 84 out of 128\n",
      "iterations= 85 out of 128\n",
      "iterations= 86 out of 128\n",
      "iterations= 87 out of 128\n",
      "iterations= 88 out of 128\n",
      "iterations= 89 out of 128\n",
      "iterations= 90 out of 128\n",
      "iterations= 91 out of 128\n",
      "iterations= 92 out of 128\n",
      "iterations= 93 out of 128\n",
      "iterations= 94 out of 128\n",
      "iterations= 95 out of 128\n",
      "iterations= 96 out of 128\n",
      "iterations= 97 out of 128\n",
      "iterations= 98 out of 128\n",
      "iterations= 99 out of 128\n",
      "iterations= 100 out of 128\n",
      "iterations= 101 out of 128\n",
      "iterations= 102 out of 128\n",
      "iterations= 103 out of 128\n",
      "iterations= 104 out of 128\n",
      "iterations= 105 out of 128\n",
      "iterations= 106 out of 128\n",
      "iterations= 107 out of 128\n",
      "iterations= 108 out of 128\n",
      "iterations= 109 out of 128\n",
      "iterations= 110 out of 128\n",
      "iterations= 111 out of 128\n",
      "iterations= 112 out of 128\n",
      "iterations= 113 out of 128\n",
      "iterations= 114 out of 128\n",
      "iterations= 115 out of 128\n",
      "iterations= 116 out of 128\n",
      "iterations= 117 out of 128\n",
      "iterations= 118 out of 128\n",
      "iterations= 119 out of 128\n",
      "iterations= 120 out of 128\n",
      "iterations= 121 out of 128\n",
      "iterations= 122 out of 128\n",
      "iterations= 123 out of 128\n",
      "iterations= 124 out of 128\n",
      "iterations= 125 out of 128\n",
      "iterations= 126 out of 128\n"
     ]
    }
   ],
   "source": [
    "df_conv_status = pd.read_csv(\"../data/%s/%s\" % (project_name,\"train-true_5.csv\"))\n",
    "df_fraud= pd.read_csv(\"../data/%s/%s\" % (project_name,\"train-fraud_5.csv\"))\n",
    "df = fast_read_and_append(\"../data/%s/%s\" % (project_name,\"train_5.csv\"),500000,64000000,0.6)\n",
    "\n",
    "# df_net = pd.read_csv(\"../data/%s/%s\" % (project_name,\"network-step-4-encoding.csv\"))\n",
    "df_subnet= pd.read_csv(\"../data/%s/%s\" % (project_name,\"subnet-step-4-encoding.csv\"))"
   ]
  },
  {
   "cell_type": "code",
   "execution_count": 33,
   "metadata": {
    "ExecuteTime": {
     "end_time": "2017-09-21T10:41:42.657239Z",
     "start_time": "2017-09-21T10:41:09.922316Z"
    },
    "collapsed": true
   },
   "outputs": [],
   "source": [
    "df_test= pd.read_csv(\"../data/%s/%s\" % (project_name,\"test_5.csv\"))"
   ]
  },
  {
   "cell_type": "code",
   "execution_count": 8,
   "metadata": {
    "ExecuteTime": {
     "end_time": "2017-09-21T10:27:09.100340Z",
     "start_time": "2017-09-21T10:27:09.096163Z"
    }
   },
   "outputs": [
    {
     "data": {
      "text/plain": [
       "(38020330, 19)"
      ]
     },
     "execution_count": 8,
     "metadata": {},
     "output_type": "execute_result"
    }
   ],
   "source": [
    "df.shape"
   ]
  },
  {
   "cell_type": "code",
   "execution_count": 9,
   "metadata": {
    "ExecuteTime": {
     "end_time": "2017-09-21T10:27:09.147824Z",
     "start_time": "2017-09-21T10:27:09.101516Z"
    }
   },
   "outputs": [
    {
     "data": {
      "text/plain": [
       "14"
      ]
     },
     "execution_count": 9,
     "metadata": {},
     "output_type": "execute_result"
    }
   ],
   "source": [
    "gc.collect()"
   ]
  },
  {
   "cell_type": "code",
   "execution_count": 10,
   "metadata": {
    "ExecuteTime": {
     "end_time": "2017-09-21T10:27:11.283689Z",
     "start_time": "2017-09-21T10:27:09.148925Z"
    }
   },
   "outputs": [
    {
     "name": "stderr",
     "output_type": "stream",
     "text": [
      "/home/ahemf/anaconda3/lib/python3.6/site-packages/IPython/core/interactiveshell.py:2717: DtypeWarning: Columns (3,4,5) have mixed types. Specify dtype option on import or set low_memory=False.\n",
      "  interactivity=interactivity, compiler=compiler, result=result)\n"
     ]
    }
   ],
   "source": [
    "df_geo=pd.read_csv(\"../data/%s/%s\" % (project_name,\"geocodes_joined.csv\"))"
   ]
  },
  {
   "cell_type": "code",
   "execution_count": 11,
   "metadata": {
    "ExecuteTime": {
     "end_time": "2017-09-21T10:27:13.279039Z",
     "start_time": "2017-09-21T10:27:11.284929Z"
    },
    "collapsed": true
   },
   "outputs": [],
   "source": [
    "df_geo[\"subnet\"] = df_geo[\"network\"].map(lambda x: \".\".join(x.split(\".\")[:3]))"
   ]
  },
  {
   "cell_type": "code",
   "execution_count": 12,
   "metadata": {
    "ExecuteTime": {
     "end_time": "2017-09-21T10:27:23.590044Z",
     "start_time": "2017-09-21T10:27:13.280444Z"
    },
    "collapsed": true
   },
   "outputs": [],
   "source": [
    "df_geo_needed=df_geo[df_geo[\"subnet\"].isin(df_subnet[\"subnet-step-4\"])]"
   ]
  },
  {
   "cell_type": "code",
   "execution_count": 13,
   "metadata": {
    "ExecuteTime": {
     "end_time": "2017-09-21T10:27:23.615884Z",
     "start_time": "2017-09-21T10:27:23.591415Z"
    },
    "collapsed": true
   },
   "outputs": [],
   "source": [
    "df_subnet[\"subnet\"]=df_subnet[\"subnet-step-4\"]"
   ]
  },
  {
   "cell_type": "code",
   "execution_count": 14,
   "metadata": {
    "ExecuteTime": {
     "end_time": "2017-09-21T10:27:25.842176Z",
     "start_time": "2017-09-21T10:27:23.617183Z"
    },
    "collapsed": true
   },
   "outputs": [],
   "source": [
    "df_geo_merged=df_geo_needed.merge(df_subnet,on=\"subnet\")"
   ]
  },
  {
   "cell_type": "code",
   "execution_count": 15,
   "metadata": {
    "ExecuteTime": {
     "end_time": "2017-09-21T10:27:26.401660Z",
     "start_time": "2017-09-21T10:27:25.843541Z"
    },
    "collapsed": true
   },
   "outputs": [],
   "source": [
    "df_geo_merged.drop(['network'], axis = 1, inplace = True)\n",
    "df_geo_merged.drop(['geoname_id'], axis = 1, inplace = True)\n",
    "# df_geo_merged.drop(['country_name'], axis = 1, inplace = True)\n",
    "# df_geo_merged.drop(['subnet-step-4'], axis = 1, inplace = True)\n",
    "\n",
    "\n",
    "df_geo_merged[\"subnet\"] = df_geo_merged[\"id\"]\n",
    "df_geo_merged.drop(['id'], axis = 1, inplace = True)"
   ]
  },
  {
   "cell_type": "code",
   "execution_count": 16,
   "metadata": {
    "ExecuteTime": {
     "end_time": "2017-09-21T10:27:26.406436Z",
     "start_time": "2017-09-21T10:27:26.402976Z"
    },
    "collapsed": true
   },
   "outputs": [],
   "source": [
    "df_country = pd.read_csv(\"../data/%s/%s\" % (project_name,\"Country-encoding.csv\"))"
   ]
  },
  {
   "cell_type": "code",
   "execution_count": 17,
   "metadata": {
    "ExecuteTime": {
     "end_time": "2017-09-21T10:27:26.424514Z",
     "start_time": "2017-09-21T10:27:26.407603Z"
    },
    "collapsed": true
   },
   "outputs": [],
   "source": [
    "df_country[\"country_iso_code\"] = df_country[\"Country\"]"
   ]
  },
  {
   "cell_type": "code",
   "execution_count": 18,
   "metadata": {
    "ExecuteTime": {
     "end_time": "2017-09-21T10:27:26.711524Z",
     "start_time": "2017-09-21T10:27:26.425632Z"
    },
    "collapsed": true
   },
   "outputs": [],
   "source": [
    "df_geo_merged=df_geo_merged.merge(df_country,on=\"country_iso_code\",how=\"left\")"
   ]
  },
  {
   "cell_type": "code",
   "execution_count": 19,
   "metadata": {
    "ExecuteTime": {
     "end_time": "2017-09-21T10:27:26.906476Z",
     "start_time": "2017-09-21T10:27:26.712913Z"
    },
    "collapsed": true
   },
   "outputs": [],
   "source": [
    "df_geo_merged[\"id\"].fillna(-997,inplace=True)\n",
    "df_geo_merged[\"Country\"] = df_geo_merged[\"id\"].astype(int)\n",
    "df_geo_merged.drop(['id'], axis = 1, inplace = True)"
   ]
  },
  {
   "cell_type": "code",
   "execution_count": 20,
   "metadata": {
    "ExecuteTime": {
     "end_time": "2017-09-21T10:27:26.913222Z",
     "start_time": "2017-09-21T10:27:26.907838Z"
    },
    "collapsed": true
   },
   "outputs": [],
   "source": [
    "\n",
    "df_geo_merged[\"Country\"] = df_geo_merged[\"Country\"].astype(int)"
   ]
  },
  {
   "cell_type": "code",
   "execution_count": 21,
   "metadata": {
    "ExecuteTime": {
     "end_time": "2017-09-21T10:27:26.975491Z",
     "start_time": "2017-09-21T10:27:26.914416Z"
    },
    "collapsed": true
   },
   "outputs": [],
   "source": [
    "df_geo_merged.drop(['country_iso_code'], axis = 1, inplace = True)"
   ]
  },
  {
   "cell_type": "code",
   "execution_count": 22,
   "metadata": {
    "ExecuteTime": {
     "end_time": "2017-09-21T10:27:27.018407Z",
     "start_time": "2017-09-21T10:27:26.976829Z"
    },
    "collapsed": true
   },
   "outputs": [],
   "source": [
    "df_geo_merged.drop(['subnet-step-4'], axis = 1, inplace = True)"
   ]
  },
  {
   "cell_type": "code",
   "execution_count": 27,
   "metadata": {
    "ExecuteTime": {
     "end_time": "2017-09-21T10:31:50.533793Z",
     "start_time": "2017-09-21T10:31:50.521030Z"
    },
    "collapsed": true
   },
   "outputs": [],
   "source": [
    "def geo_add(df,df_geo):\n",
    "    df = df.merge(df_geo,on=\"subnet\",how=\"left\")\n",
    "    df = df.drop_duplicates(subset=\"ID\")\n",
    "    \n",
    "    # replace by loc \n",
    "    c1=df[\"Country_x\"].isin([0,1])\n",
    "    c2=~df[\"Country_y\"].isnull()\n",
    "    print(c1.shape)\n",
    "    df.loc[(c1) & (c2),\"Country_x\"] = df.loc[(c1) & (c2),\"Country_y\"]\n",
    "#     for i, row in dft.iterrows():\n",
    "#         country = row[\"Country_x\"]\n",
    "#         if (country<2) & (country>=0) & (~np.isnan(row[\"Country_y\"])):\n",
    "#             country = row[\"Country_y\"]\n",
    "#             dft.set_value(i,'Country_x',country)\n",
    "    df[\"Country\"] = df[\"Country_x\"]\n",
    "    print(df[(df[\"Country_x\"]<2) & (df[\"Country_x\"]>=0)].shape)\n",
    "    df.drop(['Country_x'], axis = 1, inplace = True)\n",
    "    df.drop(['Country_y'], axis = 1, inplace = True)\n",
    "    return df\n",
    "    \n",
    "    "
   ]
  },
  {
   "cell_type": "code",
   "execution_count": 28,
   "metadata": {
    "ExecuteTime": {
     "end_time": "2017-09-21T10:31:52.203069Z",
     "start_time": "2017-09-21T10:31:51.760928Z"
    }
   },
   "outputs": [
    {
     "name": "stdout",
     "output_type": "stream",
     "text": [
      "(34524,)\n",
      "(18, 24)\n",
      "(396,)\n",
      "(0, 24)\n"
     ]
    }
   ],
   "source": [
    "df_conv_status = geo_add(df_conv_status,df_geo_merged)\n",
    "df_fraud = geo_add(df_fraud,df_geo_merged)\n",
    "\n",
    "\n"
   ]
  },
  {
   "cell_type": "code",
   "execution_count": 29,
   "metadata": {
    "ExecuteTime": {
     "end_time": "2017-09-21T10:32:59.492068Z",
     "start_time": "2017-09-21T10:31:54.040043Z"
    }
   },
   "outputs": [
    {
     "name": "stdout",
     "output_type": "stream",
     "text": [
      "(38020330,)\n",
      "(28808, 24)\n"
     ]
    }
   ],
   "source": [
    "df = geo_add(df,df_geo_merged)"
   ]
  },
  {
   "cell_type": "code",
   "execution_count": 34,
   "metadata": {
    "ExecuteTime": {
     "end_time": "2017-09-21T10:42:13.247267Z",
     "start_time": "2017-09-21T10:41:42.658601Z"
    }
   },
   "outputs": [
    {
     "name": "stdout",
     "output_type": "stream",
     "text": [
      "(25548873,)\n",
      "(11417, 22)\n"
     ]
    }
   ],
   "source": [
    "df_test = geo_add(df_test,df_geo_merged)"
   ]
  },
  {
   "cell_type": "code",
   "execution_count": null,
   "metadata": {
    "collapsed": true
   },
   "outputs": [],
   "source": []
  },
  {
   "cell_type": "code",
   "execution_count": 31,
   "metadata": {
    "ExecuteTime": {
     "end_time": "2017-09-21T10:40:17.036490Z",
     "start_time": "2017-09-21T10:33:34.529782Z"
    },
    "collapsed": true
   },
   "outputs": [],
   "source": [
    "df.to_csv(get_file_location(\"train_6.csv\"),index=False)\n",
    "df_conv_status.to_csv(get_file_location(\"train-true_6.csv\"),index=False)\n",
    "df_fraud.to_csv(get_file_location(\"train-fraud_6.csv\"),index=False)\n"
   ]
  },
  {
   "cell_type": "code",
   "execution_count": 35,
   "metadata": {
    "ExecuteTime": {
     "end_time": "2017-09-21T10:46:16.025482Z",
     "start_time": "2017-09-21T10:42:13.248562Z"
    },
    "collapsed": true
   },
   "outputs": [],
   "source": [
    "df_test.to_csv(get_file_location(\"test_6.csv\"),index=False)"
   ]
  },
  {
   "cell_type": "code",
   "execution_count": 30,
   "metadata": {
    "ExecuteTime": {
     "end_time": "2017-09-21T10:33:11.747319Z",
     "start_time": "2017-09-21T10:33:11.718374Z"
    }
   },
   "outputs": [
    {
     "data": {
      "text/html": [
       "<div>\n",
       "<style>\n",
       "    .dataframe thead tr:only-child th {\n",
       "        text-align: right;\n",
       "    }\n",
       "\n",
       "    .dataframe thead th {\n",
       "        text-align: left;\n",
       "    }\n",
       "\n",
       "    .dataframe tbody tr th {\n",
       "        vertical-align: top;\n",
       "    }\n",
       "</style>\n",
       "<table border=\"1\" class=\"dataframe\">\n",
       "  <thead>\n",
       "    <tr style=\"text-align: right;\">\n",
       "      <th></th>\n",
       "      <th>ID</th>\n",
       "      <th>Carrier</th>\n",
       "      <th>TrafficType</th>\n",
       "      <th>Device</th>\n",
       "      <th>Browser</th>\n",
       "      <th>OS</th>\n",
       "      <th>RefererUrl</th>\n",
       "      <th>ConversionPayOut</th>\n",
       "      <th>publisherId</th>\n",
       "      <th>subPublisherId</th>\n",
       "      <th>...</th>\n",
       "      <th>conv_status</th>\n",
       "      <th>dayofweek</th>\n",
       "      <th>hour</th>\n",
       "      <th>dayofyear</th>\n",
       "      <th>network</th>\n",
       "      <th>subnet</th>\n",
       "      <th>city</th>\n",
       "      <th>region_code</th>\n",
       "      <th>postal_code</th>\n",
       "      <th>Country</th>\n",
       "    </tr>\n",
       "  </thead>\n",
       "  <tbody>\n",
       "    <tr>\n",
       "      <th>0</th>\n",
       "      <td>50910305</td>\n",
       "      <td>-1</td>\n",
       "      <td>2</td>\n",
       "      <td>589</td>\n",
       "      <td>1</td>\n",
       "      <td>1</td>\n",
       "      <td>2</td>\n",
       "      <td>0.0</td>\n",
       "      <td>256</td>\n",
       "      <td>0</td>\n",
       "      <td>...</td>\n",
       "      <td>0</td>\n",
       "      <td>0</td>\n",
       "      <td>22</td>\n",
       "      <td>240</td>\n",
       "      <td>625</td>\n",
       "      <td>28790</td>\n",
       "      <td>Chittagong</td>\n",
       "      <td>B</td>\n",
       "      <td>4000</td>\n",
       "      <td>19.0</td>\n",
       "    </tr>\n",
       "    <tr>\n",
       "      <th>1</th>\n",
       "      <td>1392717</td>\n",
       "      <td>25</td>\n",
       "      <td>1</td>\n",
       "      <td>601</td>\n",
       "      <td>4</td>\n",
       "      <td>1</td>\n",
       "      <td>2</td>\n",
       "      <td>0.0</td>\n",
       "      <td>8658</td>\n",
       "      <td>0</td>\n",
       "      <td>...</td>\n",
       "      <td>0</td>\n",
       "      <td>0</td>\n",
       "      <td>5</td>\n",
       "      <td>233</td>\n",
       "      <td>22406</td>\n",
       "      <td>1017985</td>\n",
       "      <td>NaN</td>\n",
       "      <td>NaN</td>\n",
       "      <td>NaN</td>\n",
       "      <td>204.0</td>\n",
       "    </tr>\n",
       "    <tr>\n",
       "      <th>2</th>\n",
       "      <td>62101070</td>\n",
       "      <td>-1</td>\n",
       "      <td>1</td>\n",
       "      <td>388</td>\n",
       "      <td>2</td>\n",
       "      <td>1</td>\n",
       "      <td>1764</td>\n",
       "      <td>0.0</td>\n",
       "      <td>4660</td>\n",
       "      <td>0</td>\n",
       "      <td>...</td>\n",
       "      <td>0</td>\n",
       "      <td>2</td>\n",
       "      <td>19</td>\n",
       "      <td>242</td>\n",
       "      <td>28218</td>\n",
       "      <td>1242420</td>\n",
       "      <td>Guwahati</td>\n",
       "      <td>AS</td>\n",
       "      <td>781102</td>\n",
       "      <td>99.0</td>\n",
       "    </tr>\n",
       "    <tr>\n",
       "      <th>11</th>\n",
       "      <td>21625906</td>\n",
       "      <td>-1</td>\n",
       "      <td>2</td>\n",
       "      <td>388</td>\n",
       "      <td>4</td>\n",
       "      <td>1</td>\n",
       "      <td>2</td>\n",
       "      <td>0.0</td>\n",
       "      <td>678</td>\n",
       "      <td>0</td>\n",
       "      <td>...</td>\n",
       "      <td>0</td>\n",
       "      <td>2</td>\n",
       "      <td>22</td>\n",
       "      <td>235</td>\n",
       "      <td>735</td>\n",
       "      <td>34348</td>\n",
       "      <td>NaN</td>\n",
       "      <td>NaN</td>\n",
       "      <td>NaN</td>\n",
       "      <td>19.0</td>\n",
       "    </tr>\n",
       "    <tr>\n",
       "      <th>12</th>\n",
       "      <td>14672381</td>\n",
       "      <td>-1</td>\n",
       "      <td>0</td>\n",
       "      <td>388</td>\n",
       "      <td>2</td>\n",
       "      <td>1</td>\n",
       "      <td>2</td>\n",
       "      <td>0.0</td>\n",
       "      <td>678</td>\n",
       "      <td>0</td>\n",
       "      <td>...</td>\n",
       "      <td>0</td>\n",
       "      <td>2</td>\n",
       "      <td>2</td>\n",
       "      <td>235</td>\n",
       "      <td>33934</td>\n",
       "      <td>1570253</td>\n",
       "      <td>Vienne</td>\n",
       "      <td>ARA</td>\n",
       "      <td>38200</td>\n",
       "      <td>72.0</td>\n",
       "    </tr>\n",
       "  </tbody>\n",
       "</table>\n",
       "<p>5 rows × 22 columns</p>\n",
       "</div>"
      ],
      "text/plain": [
       "          ID  Carrier  TrafficType  Device  Browser  OS  RefererUrl  \\\n",
       "0   50910305       -1            2     589        1   1           2   \n",
       "1    1392717       25            1     601        4   1           2   \n",
       "2   62101070       -1            1     388        2   1        1764   \n",
       "11  21625906       -1            2     388        4   1           2   \n",
       "12  14672381       -1            0     388        2   1           2   \n",
       "\n",
       "    ConversionPayOut  publisherId  subPublisherId   ...    conv_status  \\\n",
       "0                0.0          256               0   ...              0   \n",
       "1                0.0         8658               0   ...              0   \n",
       "2                0.0         4660               0   ...              0   \n",
       "11               0.0          678               0   ...              0   \n",
       "12               0.0          678               0   ...              0   \n",
       "\n",
       "    dayofweek  hour  dayofyear  network   subnet        city  region_code  \\\n",
       "0           0    22        240      625    28790  Chittagong            B   \n",
       "1           0     5        233    22406  1017985         NaN          NaN   \n",
       "2           2    19        242    28218  1242420    Guwahati           AS   \n",
       "11          2    22        235      735    34348         NaN          NaN   \n",
       "12          2     2        235    33934  1570253      Vienne          ARA   \n",
       "\n",
       "   postal_code Country  \n",
       "0         4000    19.0  \n",
       "1          NaN   204.0  \n",
       "2       781102    99.0  \n",
       "11         NaN    19.0  \n",
       "12       38200    72.0  \n",
       "\n",
       "[5 rows x 22 columns]"
      ]
     },
     "execution_count": 30,
     "metadata": {},
     "output_type": "execute_result"
    }
   ],
   "source": [
    "df.head()"
   ]
  },
  {
   "cell_type": "code",
   "execution_count": 36,
   "metadata": {
    "ExecuteTime": {
     "end_time": "2017-09-21T10:46:16.035807Z",
     "start_time": "2017-09-21T10:46:16.030092Z"
    }
   },
   "outputs": [
    {
     "data": {
      "text/plain": [
       "22"
      ]
     },
     "execution_count": 36,
     "metadata": {},
     "output_type": "execute_result"
    },
    {
     "data": {
      "text/plain": [
       "22"
      ]
     },
     "execution_count": 36,
     "metadata": {},
     "output_type": "execute_result"
    },
    {
     "data": {
      "text/plain": [
       "20"
      ]
     },
     "execution_count": 36,
     "metadata": {},
     "output_type": "execute_result"
    }
   ],
   "source": [
    "len(df.dtypes)\n",
    "len(df_conv_status.dtypes)\n",
    "len(df_test.dtypes)"
   ]
  },
  {
   "cell_type": "code",
   "execution_count": null,
   "metadata": {
    "ExecuteTime": {
     "start_time": "2017-09-21T07:16:09.260Z"
    },
    "collapsed": true
   },
   "outputs": [],
   "source": [
    "df_geo_merged.tail()"
   ]
  },
  {
   "cell_type": "code",
   "execution_count": 1,
   "metadata": {
    "ExecuteTime": {
     "end_time": "2017-09-21T08:45:23.430750Z",
     "start_time": "2017-09-21T08:45:23.377269Z"
    }
   },
   "outputs": [
    {
     "ename": "NameError",
     "evalue": "name 'df' is not defined",
     "output_type": "error",
     "traceback": [
      "\u001b[0;31m---------------------------------------------------------------------------\u001b[0m",
      "\u001b[0;31mNameError\u001b[0m                                 Traceback (most recent call last)",
      "\u001b[0;32m<ipython-input-1-95faa30ac5cd>\u001b[0m in \u001b[0;36m<module>\u001b[0;34m()\u001b[0m\n\u001b[0;32m----> 1\u001b[0;31m \u001b[0mdf\u001b[0m\u001b[0;34m.\u001b[0m\u001b[0mdtypes\u001b[0m\u001b[0;34m\u001b[0m\u001b[0m\n\u001b[0m",
      "\u001b[0;31mNameError\u001b[0m: name 'df' is not defined"
     ]
    }
   ],
   "source": []
  },
  {
   "cell_type": "code",
   "execution_count": null,
   "metadata": {
    "ExecuteTime": {
     "start_time": "2017-09-21T06:32:58.138Z"
    },
    "collapsed": true
   },
   "outputs": [],
   "source": [
    "df_geo.head()"
   ]
  },
  {
   "cell_type": "code",
   "execution_count": null,
   "metadata": {
    "collapsed": true
   },
   "outputs": [],
   "source": []
  }
 ],
 "metadata": {
  "hide_input": false,
  "kernelspec": {
   "display_name": "Python 3",
   "language": "python",
   "name": "python3"
  },
  "language_info": {
   "codemirror_mode": {
    "name": "ipython",
    "version": 3
   },
   "file_extension": ".py",
   "mimetype": "text/x-python",
   "name": "python",
   "nbconvert_exporter": "python",
   "pygments_lexer": "ipython3",
   "version": "3.6.1"
  },
  "toc": {
   "nav_menu": {
    "height": "30px",
    "width": "252px"
   },
   "number_sections": true,
   "sideBar": true,
   "skip_h1_title": false,
   "toc_cell": false,
   "toc_position": {},
   "toc_section_display": "block",
   "toc_window_display": false
  },
  "varInspector": {
   "cols": {
    "lenName": 16,
    "lenType": 16,
    "lenVar": 40
   },
   "kernels_config": {
    "python": {
     "delete_cmd_postfix": "",
     "delete_cmd_prefix": "del ",
     "library": "var_list.py",
     "varRefreshCmd": "print(var_dic_list())"
    },
    "r": {
     "delete_cmd_postfix": ") ",
     "delete_cmd_prefix": "rm(",
     "library": "var_list.r",
     "varRefreshCmd": "cat(var_dic_list()) "
    }
   },
   "types_to_exclude": [
    "module",
    "function",
    "builtin_function_or_method",
    "instance",
    "_Feature"
   ],
   "window_display": false
  }
 },
 "nbformat": 4,
 "nbformat_minor": 2
}
