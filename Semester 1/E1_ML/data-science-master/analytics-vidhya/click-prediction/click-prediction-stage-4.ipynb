{
 "cells": [
  {
   "cell_type": "code",
   "execution_count": 5,
   "metadata": {
    "ExecuteTime": {
     "end_time": "2017-09-21T00:50:50.390772Z",
     "start_time": "2017-09-21T00:50:50.368732Z"
    }
   },
   "outputs": [],
   "source": [
    "import numpy as np # linear algebra\n",
    "import pandas as pd # data processing, CSV file I/O (e.g. pd.read_csv)\n",
    "import matplotlib as mplt\n",
    "import matplotlib.pyplot as plt\n",
    "from sklearn.model_selection import train_test_split\n",
    "from sklearn.metrics import mean_squared_error\n",
    "from IPython.core.interactiveshell import InteractiveShell\n",
    "from sklearn.ensemble import RandomForestRegressor\n",
    "from sklearn.metrics import explained_variance_score\n",
    "from sklearn.preprocessing import LabelEncoder\n",
    "from sklearn.metrics import confusion_matrix\n",
    "from sklearn.model_selection import GridSearchCV\n",
    "%matplotlib inline\n",
    "import seaborn as sns\n",
    "import math\n",
    "import gc\n",
    "import ipaddress\n",
    "\n",
    "import sys\n",
    "from pathlib import Path\n",
    "d = Path().resolve().parent.parent\n",
    "sys.path.insert(0, str(d))\n",
    "import util.utils as utils\n",
    "import util.plot_utils as plot_utils\n",
    "\n",
    "\n",
    "\n",
    "plt.rcParams[\"figure.figsize\"] = (12,4)\n",
    "\n",
    "from xgboost import XGBClassifier\n",
    "import xgboost as xgb\n",
    "from sklearn.metrics import accuracy_score\n",
    "\n",
    "\n",
    "InteractiveShell.ast_node_interactivity = \"all\"\n",
    "np.set_printoptions(precision=2)"
   ]
  },
  {
   "cell_type": "code",
   "execution_count": 6,
   "metadata": {
    "ExecuteTime": {
     "end_time": "2017-09-21T00:50:50.782574Z",
     "start_time": "2017-09-21T00:50:50.779455Z"
    },
    "collapsed": true
   },
   "outputs": [],
   "source": [
    "project_name=\"click-prediction\"\n",
    "def get_file_location(filename):\n",
    "    return \"../data/%s/%s\" % (project_name,filename)"
   ]
  },
  {
   "cell_type": "code",
   "execution_count": 8,
   "metadata": {
    "ExecuteTime": {
     "end_time": "2017-09-21T00:57:53.552946Z",
     "start_time": "2017-09-21T00:56:50.628838Z"
    }
   },
   "outputs": [],
   "source": [
    "df_conv_status = pd.read_csv(\"../data/%s/%s\" % (project_name,\"train_true-step-3.csv\"))\n",
    "df_fraud= pd.read_csv(\"../data/%s/%s\" % (project_name,\"train_fraud-step-3.csv\"))\n",
    "# df_country= pd.read_csv(\"../data/%s/%s\" % (project_name,\"train_country-step-3.csv\"))\n",
    "# df_carrier= pd.read_csv(\"../data/%s/%s\" % (project_name,\"train_carrier-step-3.csv\"))\n",
    "# df_traffic= pd.read_csv(\"../data/%s/%s\" % (project_name,\"train_traffic-step-3.csv\"))\n",
    "# df_device= pd.read_csv(\"../data/%s/%s\" % (project_name,\"train_device-step-3.csv\"))\n",
    "# df_browser= pd.read_csv(\"../data/%s/%s\" % (project_name,\"train_browser-step-3.csv\"))\n",
    "# df_os= pd.read_csv(\"../data/%s/%s\" % (project_name,\"train_os-step-3.csv\"))\n",
    "#df_refurl= pd.read_csv(\"../data/%s/%s\" % (project_name,\"train_refurl-step-3.csv\"))\n",
    "# df_sub_pub= pd.read_csv(\"../data/%s/%s\" % (project_name,\"train_sub_pub-step-3.csv\"))\n",
    "# df_advert= pd.read_csv(\"../data/%s/%s\" % (project_name,\"train_advert-step-3.csv\"))\n",
    "df= pd.read_csv(\"../data/%s/%s\" % (project_name,\"train-step-2.csv\"))"
   ]
  },
  {
   "cell_type": "code",
   "execution_count": 33,
   "metadata": {
    "ExecuteTime": {
     "end_time": "2017-09-19T18:55:59.020565Z",
     "start_time": "2017-09-19T18:55:55.029378Z"
    },
    "collapsed": true
   },
   "outputs": [],
   "source": [
    "\n",
    "\n"
   ]
  },
  {
   "cell_type": "code",
   "execution_count": 34,
   "metadata": {
    "ExecuteTime": {
     "end_time": "2017-09-19T18:55:59.278635Z",
     "start_time": "2017-09-19T18:55:59.273266Z"
    },
    "collapsed": true
   },
   "outputs": [],
   "source": []
  },
  {
   "cell_type": "markdown",
   "metadata": {
    "ExecuteTime": {
     "end_time": "2017-09-19T18:36:45.573030Z",
     "start_time": "2017-09-19T18:36:36.116540Z"
    },
    "collapsed": true
   },
   "source": [
    "### Alternate way of adding back IP address (not encoded one)\n",
    "- Way 1, copy from original df, take care of dataframe indexes and reindex if needed\n",
    "- way 2, join with the encoding file that was made earlier"
   ]
  },
  {
   "cell_type": "markdown",
   "metadata": {
    "heading_collapsed": true
   },
   "source": [
    "#### way 1"
   ]
  },
  {
   "cell_type": "code",
   "execution_count": 43,
   "metadata": {
    "ExecuteTime": {
     "end_time": "2017-09-19T19:00:01.492950Z",
     "start_time": "2017-09-19T19:00:01.478955Z"
    },
    "collapsed": true,
    "hidden": true
   },
   "outputs": [],
   "source": [
    "def fast_read_and_append(file_path,chunksize,fullsize,dtypes):\n",
    "    # in chunk reading be careful as pandas might infer a columns dtype as different for diff chunk\n",
    "    # As such specifying a dtype while reading by giving params to read_csv maybe better\n",
    "    # Label encoding will fail if half the rows for same column is int and rest are str\n",
    "    # In case of that already happened then df_test[\"publisherId\"] = df_test[\"publisherId\"].apply(str)\n",
    "    df = pd.DataFrame()\n",
    "    iterations = 0\n",
    "    total_needed_iters = math.ceil(fullsize/chunksize)\n",
    "    for x in pd.read_csv(file_path, chunksize=chunksize,usecols=dtypes.keys(),low_memory=False,dtype=dtypes):\n",
    "        print(\"iterations= %s out of %s\" %  (iterations,total_needed_iters))\n",
    "        df = pd.concat([df, x], ignore_index=True)\n",
    "        iterations += 1\n",
    "    return df\n",
    "\n",
    "dtype={'ID':np.int32,'UserIp':'str'}\n",
    "# df_orig=pd.read_csv(\"../data/%s/%s\" % (project_name,\"train.csv\"), sep=',', usecols=['ID','UserIp'],dtype=dtype)\n",
    "\n"
   ]
  },
  {
   "cell_type": "code",
   "execution_count": 4,
   "metadata": {
    "ExecuteTime": {
     "end_time": "2017-09-18T04:13:45.272960Z",
     "start_time": "2017-09-18T04:12:34.986077Z"
    },
    "hidden": true
   },
   "outputs": [
    {
     "name": "stdout",
     "output_type": "stream",
     "text": [
      "iterations= 0 out of 128\n",
      "iterations= 1 out of 128\n",
      "iterations= 2 out of 128\n",
      "iterations= 3 out of 128\n",
      "iterations= 4 out of 128\n",
      "iterations= 5 out of 128\n",
      "iterations= 6 out of 128\n",
      "iterations= 7 out of 128\n",
      "iterations= 8 out of 128\n",
      "iterations= 9 out of 128\n",
      "iterations= 10 out of 128\n",
      "iterations= 11 out of 128\n",
      "iterations= 12 out of 128\n",
      "iterations= 13 out of 128\n",
      "iterations= 14 out of 128\n",
      "iterations= 15 out of 128\n",
      "iterations= 16 out of 128\n",
      "iterations= 17 out of 128\n",
      "iterations= 18 out of 128\n",
      "iterations= 19 out of 128\n",
      "iterations= 20 out of 128\n",
      "iterations= 21 out of 128\n",
      "iterations= 22 out of 128\n",
      "iterations= 23 out of 128\n",
      "iterations= 24 out of 128\n",
      "iterations= 25 out of 128\n",
      "iterations= 26 out of 128\n",
      "iterations= 27 out of 128\n",
      "iterations= 28 out of 128\n",
      "iterations= 29 out of 128\n",
      "iterations= 30 out of 128\n",
      "iterations= 31 out of 128\n",
      "iterations= 32 out of 128\n",
      "iterations= 33 out of 128\n",
      "iterations= 34 out of 128\n",
      "iterations= 35 out of 128\n",
      "iterations= 36 out of 128\n",
      "iterations= 37 out of 128\n",
      "iterations= 38 out of 128\n",
      "iterations= 39 out of 128\n",
      "iterations= 40 out of 128\n",
      "iterations= 41 out of 128\n",
      "iterations= 42 out of 128\n",
      "iterations= 43 out of 128\n",
      "iterations= 44 out of 128\n",
      "iterations= 45 out of 128\n",
      "iterations= 46 out of 128\n",
      "iterations= 47 out of 128\n",
      "iterations= 48 out of 128\n",
      "iterations= 49 out of 128\n",
      "iterations= 50 out of 128\n",
      "iterations= 51 out of 128\n",
      "iterations= 52 out of 128\n",
      "iterations= 53 out of 128\n",
      "iterations= 54 out of 128\n",
      "iterations= 55 out of 128\n",
      "iterations= 56 out of 128\n",
      "iterations= 57 out of 128\n",
      "iterations= 58 out of 128\n",
      "iterations= 59 out of 128\n",
      "iterations= 60 out of 128\n",
      "iterations= 61 out of 128\n",
      "iterations= 62 out of 128\n",
      "iterations= 63 out of 128\n",
      "iterations= 64 out of 128\n",
      "iterations= 65 out of 128\n",
      "iterations= 66 out of 128\n",
      "iterations= 67 out of 128\n",
      "iterations= 68 out of 128\n",
      "iterations= 69 out of 128\n"
     ]
    },
    {
     "ename": "KeyboardInterrupt",
     "evalue": "",
     "output_type": "error",
     "traceback": [
      "\u001b[0;31m---------------------------------------------------------------------------\u001b[0m",
      "\u001b[0;31mKeyboardInterrupt\u001b[0m                         Traceback (most recent call last)",
      "\u001b[0;32m<ipython-input-4-a037e067ae21>\u001b[0m in \u001b[0;36m<module>\u001b[0;34m()\u001b[0m\n\u001b[0;32m----> 1\u001b[0;31m \u001b[0mdf_orig\u001b[0m\u001b[0;34m=\u001b[0m\u001b[0mfast_read_and_append\u001b[0m\u001b[0;34m(\u001b[0m\u001b[0;34m\"../data/%s/%s\"\u001b[0m \u001b[0;34m%\u001b[0m \u001b[0;34m(\u001b[0m\u001b[0mproject_name\u001b[0m\u001b[0;34m,\u001b[0m\u001b[0;34m\"train.csv\"\u001b[0m\u001b[0;34m)\u001b[0m\u001b[0;34m,\u001b[0m\u001b[0;36m500000\u001b[0m\u001b[0;34m,\u001b[0m\u001b[0;36m64000000\u001b[0m\u001b[0;34m,\u001b[0m\u001b[0mdtype\u001b[0m\u001b[0;34m,\u001b[0m\u001b[0;34m[\u001b[0m\u001b[0;34m'ID'\u001b[0m\u001b[0;34m,\u001b[0m\u001b[0;34m'UserIp'\u001b[0m\u001b[0;34m]\u001b[0m\u001b[0;34m)\u001b[0m\u001b[0;34m\u001b[0m\u001b[0m\n\u001b[0m\u001b[1;32m      2\u001b[0m \u001b[0;31m# df_merge=pd.merge(df,ip_df,left_on=\"UserIp\",right_on=\"id\",sort=False)\u001b[0m\u001b[0;34m\u001b[0m\u001b[0;34m\u001b[0m\u001b[0m\n\u001b[1;32m      3\u001b[0m \u001b[0;34m\u001b[0m\u001b[0m\n",
      "\u001b[0;32m<ipython-input-3-9a2c461d5e58>\u001b[0m in \u001b[0;36mfast_read_and_append\u001b[0;34m(file_path, chunksize, fullsize, dtypes, cols)\u001b[0m\n\u001b[1;32m     10\u001b[0m         \u001b[0mprint\u001b[0m\u001b[0;34m(\u001b[0m\u001b[0;34m\"iterations= %s out of %s\"\u001b[0m \u001b[0;34m%\u001b[0m  \u001b[0;34m(\u001b[0m\u001b[0miterations\u001b[0m\u001b[0;34m,\u001b[0m\u001b[0mtotal_needed_iters\u001b[0m\u001b[0;34m)\u001b[0m\u001b[0;34m)\u001b[0m\u001b[0;34m\u001b[0m\u001b[0m\n\u001b[1;32m     11\u001b[0m         \u001b[0mdf\u001b[0m \u001b[0;34m=\u001b[0m \u001b[0mpd\u001b[0m\u001b[0;34m.\u001b[0m\u001b[0mconcat\u001b[0m\u001b[0;34m(\u001b[0m\u001b[0;34m[\u001b[0m\u001b[0mdf\u001b[0m\u001b[0;34m,\u001b[0m \u001b[0mx\u001b[0m\u001b[0;34m]\u001b[0m\u001b[0;34m,\u001b[0m \u001b[0mignore_index\u001b[0m\u001b[0;34m=\u001b[0m\u001b[0;32mTrue\u001b[0m\u001b[0;34m)\u001b[0m\u001b[0;34m\u001b[0m\u001b[0m\n\u001b[0;32m---> 12\u001b[0;31m         \u001b[0miterations\u001b[0m \u001b[0;34m+=\u001b[0m \u001b[0;36m1\u001b[0m\u001b[0;34m\u001b[0m\u001b[0m\n\u001b[0m\u001b[1;32m     13\u001b[0m     \u001b[0;32mreturn\u001b[0m \u001b[0mdf\u001b[0m\u001b[0;34m\u001b[0m\u001b[0m\n\u001b[1;32m     14\u001b[0m \u001b[0;34m\u001b[0m\u001b[0m\n",
      "\u001b[0;31mKeyboardInterrupt\u001b[0m: "
     ]
    }
   ],
   "source": [
    "df_orig=fast_read_and_append(\"../data/%s/%s\" % (project_name,\"train.csv\"),1000000,64000000,dtype)\n",
    "\n",
    "    "
   ]
  },
  {
   "cell_type": "code",
   "execution_count": null,
   "metadata": {
    "collapsed": true,
    "hidden": true
   },
   "outputs": [],
   "source": [
    "df=df.sort_values(\"ID\")\n",
    "df=df.drop_duplicates(subset=\"ID\")\n",
    "\n",
    "df_orig_filtered=df_orig[df_orig[\"ID\"].isin(df[\"ID\"])]\n",
    "df_orig_filtered=df_orig_filtered.sort_values(\"ID\")\n",
    "df_orig_filtered=df_orig_filtered.set_index(\"ID\",drop=False)\n",
    "# df_orig_filtered.drop(['ID'], axis = 1, inplace = True)\n",
    "df=df.set_index(\"ID\",drop=False)\n",
    "df[\"ip\"]=df_orig_filtered[\"UserIp\"]\n",
    "df.drop(['UserIp'], axis = 1, inplace = True)"
   ]
  },
  {
   "cell_type": "code",
   "execution_count": null,
   "metadata": {
    "collapsed": true,
    "hidden": true
   },
   "outputs": [],
   "source": [
    "df_orig_cs=df_orig[df_orig[\"ID\"].isin(df_conv_status[\"ID\"])]\n",
    "df_orig_cs=df_orig_cs.sort_values(\"ID\")\n",
    "df_orig_cs=df_orig_cs.set_index(\"ID\",drop=False)\n",
    "\n",
    "df_conv_status=df_conv_status.drop_duplicates(subset=\"ID\")\n",
    "df_conv_status=df_conv_status.set_index(\"ID\",drop=False)\n",
    "df_conv_status.drop(['UserIp'], axis = 1, inplace = True)\n",
    "df_conv_status[\"ip\"]=df_orig_cs[\"UserIp\"]"
   ]
  },
  {
   "cell_type": "code",
   "execution_count": null,
   "metadata": {
    "collapsed": true,
    "hidden": true
   },
   "outputs": [],
   "source": [
    "df_orig_fraud=df_orig[df_orig[\"ID\"].isin(df_fraud[\"ID\"])]\n",
    "df_orig_fraud=df_orig_fraud.sort_values(\"ID\")\n",
    "df_orig_fraud=df_orig_fraud.set_index(\"ID\",drop=False)\n",
    "\n",
    "df_fraud=df_fraud.drop_duplicates(subset=\"ID\")\n",
    "df_fraud=df_fraud.set_index(\"ID\",drop=False)\n",
    "df_fraud.drop(['UserIp'], axis = 1, inplace = True)\n",
    "df_fraud[\"ip\"]=df_orig_fraud[\"UserIp\"]"
   ]
  },
  {
   "cell_type": "markdown",
   "metadata": {},
   "source": [
    "#### Way 2"
   ]
  },
  {
   "cell_type": "code",
   "execution_count": 9,
   "metadata": {
    "ExecuteTime": {
     "end_time": "2017-09-21T00:58:06.095711Z",
     "start_time": "2017-09-21T00:57:53.554250Z"
    },
    "collapsed": true
   },
   "outputs": [],
   "source": [
    "ip_df=pd.read_csv(\"../data/%s/%s\" % (project_name,\"UserIp-encoding.csv\"))"
   ]
  },
  {
   "cell_type": "code",
   "execution_count": 10,
   "metadata": {
    "ExecuteTime": {
     "end_time": "2017-09-21T00:58:06.101875Z",
     "start_time": "2017-09-21T00:58:06.097003Z"
    },
    "collapsed": true
   },
   "outputs": [],
   "source": [
    "def merge_with_ip(df,ip_df):\n",
    "    df_merge=pd.merge(df,ip_df,left_on=\"UserIp\",right_on=\"id\",sort=False)\n",
    "    df_merge.drop(['id'], axis = 1, inplace = True)\n",
    "    df_merge.drop(['UserIp_x'], axis = 1, inplace = True)\n",
    "    df_merge[\"ip\"] = df_merge[\"UserIp_y\"]\n",
    "    df_merge.drop(['UserIp_y'], axis = 1, inplace = True)\n",
    "    return df_merge\n",
    "    "
   ]
  },
  {
   "cell_type": "code",
   "execution_count": 11,
   "metadata": {
    "ExecuteTime": {
     "end_time": "2017-09-21T01:00:29.677661Z",
     "start_time": "2017-09-21T00:58:06.102974Z"
    },
    "collapsed": true
   },
   "outputs": [],
   "source": [
    "df=merge_with_ip(df,ip_df)\n",
    "df_conv_status=merge_with_ip(df_conv_status,ip_df)\n",
    "df_fraud=merge_with_ip(df_fraud,ip_df)\n"
   ]
  },
  {
   "cell_type": "markdown",
   "metadata": {
    "ExecuteTime": {
     "end_time": "2017-09-17T19:19:51.818165Z",
     "start_time": "2017-09-17T19:19:51.793787Z"
    },
    "collapsed": true
   },
   "source": [
    "### Adding network and subnet"
   ]
  },
  {
   "cell_type": "code",
   "execution_count": 12,
   "metadata": {
    "ExecuteTime": {
     "end_time": "2017-09-21T01:02:07.401447Z",
     "start_time": "2017-09-21T01:00:29.679032Z"
    },
    "collapsed": true
   },
   "outputs": [],
   "source": [
    "df[\"network\"] = df[\"ip\"].map(lambda x: \".\".join(x.split(\".\")[:2]))\n",
    "df[\"subnet\"] = df[\"ip\"].map(lambda x: \".\".join(x.split(\".\")[:3]))\n",
    "df_conv_status[\"network\"] = df_conv_status[\"ip\"].map(lambda x: \".\".join(x.split(\".\")[:2]))\n",
    "df_conv_status[\"subnet\"] = df_conv_status[\"ip\"].map(lambda x: \".\".join(x.split(\".\")[:3]))\n",
    "df_fraud[\"network\"] = df_fraud[\"ip\"].map(lambda x: \".\".join(x.split(\".\")[:2]))\n",
    "df_fraud[\"subnet\"] = df_fraud[\"ip\"].map(lambda x: \".\".join(x.split(\".\")[:3]))\n"
   ]
  },
  {
   "cell_type": "code",
   "execution_count": 13,
   "metadata": {
    "ExecuteTime": {
     "end_time": "2017-09-21T01:02:21.138146Z",
     "start_time": "2017-09-21T01:02:07.402760Z"
    },
    "collapsed": true
   },
   "outputs": [],
   "source": [
    "df.drop(['ip'], axis = 1, inplace = True)"
   ]
  },
  {
   "cell_type": "code",
   "execution_count": 14,
   "metadata": {
    "ExecuteTime": {
     "end_time": "2017-09-21T01:02:21.149818Z",
     "start_time": "2017-09-21T01:02:21.139519Z"
    },
    "collapsed": true
   },
   "outputs": [],
   "source": [
    "\n",
    "\n",
    "\n",
    "df_conv_status.drop(['ip'], axis = 1, inplace = True)"
   ]
  },
  {
   "cell_type": "code",
   "execution_count": 15,
   "metadata": {
    "ExecuteTime": {
     "end_time": "2017-09-21T01:02:21.154319Z",
     "start_time": "2017-09-21T01:02:21.150976Z"
    },
    "collapsed": true
   },
   "outputs": [],
   "source": [
    "\n",
    "\n",
    "\n",
    "df_fraud.drop(['ip'], axis = 1, inplace = True)"
   ]
  },
  {
   "cell_type": "code",
   "execution_count": 42,
   "metadata": {
    "ExecuteTime": {
     "end_time": "2017-09-19T18:57:59.802052Z",
     "start_time": "2017-09-19T18:56:47.574300Z"
    },
    "collapsed": true
   },
   "outputs": [],
   "source": [
    "df.to_csv(\"train_4.csv\",index=False)\n",
    "df_conv_status.to_csv(\"train-true_4.csv\",index=False)\n",
    "df_fraud.to_csv(\"train-fraud_4.csv\",index=False)"
   ]
  },
  {
   "cell_type": "code",
   "execution_count": 6,
   "metadata": {
    "ExecuteTime": {
     "end_time": "2017-09-18T04:17:04.978248Z",
     "start_time": "2017-09-18T04:16:21.830865Z"
    },
    "collapsed": true
   },
   "outputs": [
    {
     "name": "stdout",
     "output_type": "stream",
     "text": [
      "iterations= 0 out of 128\n",
      "iterations= 1 out of 128\n",
      "iterations= 2 out of 128\n",
      "iterations= 3 out of 128\n",
      "iterations= 4 out of 128\n",
      "iterations= 5 out of 128\n",
      "iterations= 6 out of 128\n",
      "iterations= 7 out of 128\n",
      "iterations= 8 out of 128\n",
      "iterations= 9 out of 128\n",
      "iterations= 10 out of 128\n",
      "iterations= 11 out of 128\n",
      "iterations= 12 out of 128\n",
      "iterations= 13 out of 128\n",
      "iterations= 14 out of 128\n",
      "iterations= 15 out of 128\n",
      "iterations= 16 out of 128\n",
      "iterations= 17 out of 128\n",
      "iterations= 18 out of 128\n",
      "iterations= 19 out of 128\n",
      "iterations= 20 out of 128\n",
      "iterations= 21 out of 128\n",
      "iterations= 22 out of 128\n",
      "iterations= 23 out of 128\n",
      "iterations= 24 out of 128\n",
      "iterations= 25 out of 128\n",
      "iterations= 26 out of 128\n",
      "iterations= 27 out of 128\n",
      "iterations= 28 out of 128\n",
      "iterations= 29 out of 128\n",
      "iterations= 30 out of 128\n",
      "iterations= 31 out of 128\n",
      "iterations= 32 out of 128\n",
      "iterations= 33 out of 128\n",
      "iterations= 34 out of 128\n",
      "iterations= 35 out of 128\n",
      "iterations= 36 out of 128\n",
      "iterations= 37 out of 128\n",
      "iterations= 38 out of 128\n",
      "iterations= 39 out of 128\n",
      "iterations= 40 out of 128\n",
      "iterations= 41 out of 128\n",
      "iterations= 42 out of 128\n",
      "iterations= 43 out of 128\n",
      "iterations= 44 out of 128\n",
      "iterations= 45 out of 128\n",
      "iterations= 46 out of 128\n",
      "iterations= 47 out of 128\n",
      "iterations= 48 out of 128\n",
      "iterations= 49 out of 128\n",
      "iterations= 50 out of 128\n",
      "iterations= 51 out of 128\n"
     ]
    }
   ],
   "source": [
    "# way 1 of getting test ip\n",
    "df_orig=fast_read_and_append(\"../data/%s/%s\" % (project_name,\"test.csv\"),500000,26000000,dtype)"
   ]
  },
  {
   "cell_type": "code",
   "execution_count": 44,
   "metadata": {
    "ExecuteTime": {
     "end_time": "2017-09-19T19:01:05.336186Z",
     "start_time": "2017-09-19T19:01:05.326272Z"
    },
    "collapsed": true
   },
   "outputs": [],
   "source": [
    "def fast_read_and_append(file_path,chunksize,fullsize):\n",
    "    # in chunk reading be careful as pandas might infer a columns dtype as different for diff chunk\n",
    "    # As such specifying a dtype while reading by giving params to read_csv maybe better\n",
    "    # Label encoding will fail if half the rows for same column is int and rest are str\n",
    "    # In case of that already happened then df_test[\"publisherId\"] = df_test[\"publisherId\"].apply(str)\n",
    "    df = pd.DataFrame()\n",
    "    iterations = 0\n",
    "    total_needed_iters = math.ceil(fullsize/chunksize)\n",
    "    for x in pd.read_csv(file_path, chunksize=chunksize,low_memory=False):\n",
    "        print(\"iterations= %s out of %s\" %  (iterations,total_needed_iters))\n",
    "        df = pd.concat([df, x], ignore_index=True)\n",
    "        iterations += 1\n",
    "        gc.collect()\n",
    "    return df"
   ]
  },
  {
   "cell_type": "code",
   "execution_count": 17,
   "metadata": {
    "ExecuteTime": {
     "end_time": "2017-09-21T01:03:52.451749Z",
     "start_time": "2017-09-21T01:03:31.724675Z"
    }
   },
   "outputs": [],
   "source": [
    "# df_test=fast_read_and_append(\"../data/%s/test-step-2.csv\" % project_name,1000000,24510750)\n",
    "df_test= pd.read_csv(\"../data/%s/test-step-2.csv\" % project_name)"
   ]
  },
  {
   "cell_type": "code",
   "execution_count": 9,
   "metadata": {
    "ExecuteTime": {
     "end_time": "2017-09-18T04:19:16.229778Z",
     "start_time": "2017-09-18T04:18:54.025535Z"
    }
   },
   "outputs": [
    {
     "name": "stdout",
     "output_type": "stream",
     "text": [
      "===\n"
     ]
    }
   ],
   "source": [
    "#way 1 of getting ip\n",
    "df_orig_test=df_orig[df_orig[\"ID\"].isin(df_test[\"ID\"])]\n",
    "df_orig_test=df_orig_test.sort_values(\"ID\")\n",
    "df_orig_test=df_orig_test.set_index(\"ID\",drop=False)\n",
    "print(\"===\")\n",
    "\n",
    "df_test=df_test.drop_duplicates(subset=\"ID\")\n",
    "df_test=df_test.set_index(\"ID\",drop=False)\n",
    "df_test.drop(['UserIp'], axis = 1, inplace = True)\n",
    "df_test[\"ip\"]=df_orig_test[\"UserIp\"]\n"
   ]
  },
  {
   "cell_type": "code",
   "execution_count": 18,
   "metadata": {
    "ExecuteTime": {
     "end_time": "2017-09-21T01:05:19.618423Z",
     "start_time": "2017-09-21T01:03:52.453179Z"
    },
    "collapsed": true
   },
   "outputs": [],
   "source": [
    "df_test=merge_with_ip(df_test,ip_df)\n",
    "\n",
    "df_test[\"network\"] = df_test[\"ip\"].map(lambda x: \".\".join(x.split(\".\")[:2]))\n",
    "df_test[\"subnet\"] = df_test[\"ip\"].map(lambda x: \".\".join(x.split(\".\")[:3]))\n",
    "df_test.drop(['ip'], axis = 1, inplace = True)\n",
    "#df_test.drop(['RefererUrl'], axis = 1, inplace = True)\n"
   ]
  },
  {
   "cell_type": "code",
   "execution_count": 19,
   "metadata": {
    "ExecuteTime": {
     "end_time": "2017-09-21T01:05:19.641921Z",
     "start_time": "2017-09-21T01:05:19.619839Z"
    },
    "collapsed": true
   },
   "outputs": [],
   "source": [
    "def label_encode_field(df1,df2,df3,df_test,field):\n",
    "    df1[field] = df1[field].fillna('-997')\n",
    "    df2[field] = df2[field].fillna('-997')\n",
    "    df3[field] = df3[field].fillna('-997')\n",
    "    \n",
    "    df_test[field] = df_test[field].fillna('-997')\n",
    "    \n",
    "    encoded_df = df1[field].append(df2[field]).append(df3[field]).append(df_test[field])\n",
    "    encoded_df.fillna('-997')\n",
    "    label_encoder = LabelEncoder()\n",
    "    encoder = label_encoder.fit(encoded_df.values)\n",
    "    encoded_t=encoder.transform(df_test[field].fillna(\"-997\").values)\n",
    "    df_test[field] = encoded_t\n",
    "    \n",
    "    encoded_df1=encoder.transform(df1[field].fillna(\"-997\").values)\n",
    "    df1[field] = encoded_df1\n",
    "    \n",
    "    encoded_df2=encoder.transform(df2[field].fillna(\"-997\").values)\n",
    "    df2[field] = encoded_df2\n",
    "    \n",
    "    encoded_df3=encoder.transform(df3[field].fillna(\"-997\").values)\n",
    "    df3[field] = encoded_df3\n",
    "    \n",
    "    return encoder\n",
    "\n",
    "\n",
    "def store_encoder_as_file(le,column_name):\n",
    "    ids =np.arange(0,len(list(le.classes_))).astype(int)\n",
    "    my_encoding = pd.DataFrame(list(le.classes_), ids, columns = [column_name])\n",
    "    print(my_encoding.shape)\n",
    "    my_encoding.to_csv(\"%s-encoding.csv\" % column_name, index_label = [\"id\"])"
   ]
  },
  {
   "cell_type": "code",
   "execution_count": 26,
   "metadata": {
    "ExecuteTime": {
     "end_time": "2017-09-18T04:54:25.877024Z",
     "start_time": "2017-09-18T04:54:24.869804Z"
    },
    "collapsed": true
   },
   "outputs": [],
   "source": [
    "# Dont use this since we will need refurl later\n",
    "# dtype={\"network\":\"object\"}\n",
    "# df_conv_status = pd.read_csv(\"train-true_4.csv\",dtype=dtype)\n",
    "# df_fraud= pd.read_csv(\"train-fraud_4.csv\",dtype=dtype)\n",
    "\n",
    "# df= pd.read_csv(\"train_4.csv\",dtype=dtype)\n",
    "\n",
    "# df_conv_status.drop(['RefererUrl'], axis = 1, inplace = True)\n",
    "# df_fraud.drop(['RefererUrl'], axis = 1, inplace = True)\n",
    "# df.drop(['RefererUrl'], axis = 1, inplace = True)\n",
    "\n"
   ]
  },
  {
   "cell_type": "code",
   "execution_count": 20,
   "metadata": {
    "ExecuteTime": {
     "end_time": "2017-09-21T01:25:14.209039Z",
     "start_time": "2017-09-21T01:05:19.643064Z"
    }
   },
   "outputs": [
    {
     "name": "stdout",
     "output_type": "stream",
     "text": [
      "(36597, 1)\n",
      "(1745892, 1)\n"
     ]
    }
   ],
   "source": [
    "store_encoder_as_file(label_encode_field(df_conv_status,df_fraud,df,df_test,\"network\"),\"network-step-4\")\n",
    "store_encoder_as_file(label_encode_field(df_conv_status,df_fraud,df,df_test,\"subnet\"),\"subnet-step-4\")\n",
    "\n"
   ]
  },
  {
   "cell_type": "code",
   "execution_count": 21,
   "metadata": {
    "ExecuteTime": {
     "end_time": "2017-09-21T01:29:01.218016Z",
     "start_time": "2017-09-21T01:25:14.210534Z"
    },
    "collapsed": true
   },
   "outputs": [],
   "source": [
    "df_test.to_csv(\"test_5.csv\",index=False)"
   ]
  },
  {
   "cell_type": "code",
   "execution_count": 22,
   "metadata": {
    "ExecuteTime": {
     "end_time": "2017-09-21T01:39:31.294737Z",
     "start_time": "2017-09-21T01:29:01.219403Z"
    },
    "collapsed": true
   },
   "outputs": [],
   "source": [
    "df.to_csv(\"train_5.csv\",index=False)\n",
    "df_conv_status.to_csv(\"train-true_5.csv\",index=False)\n",
    "df_fraud.to_csv(\"train-fraud_5.csv\",index=False)"
   ]
  },
  {
   "cell_type": "code",
   "execution_count": null,
   "metadata": {
    "collapsed": true
   },
   "outputs": [],
   "source": []
  }
 ],
 "metadata": {
  "hide_input": false,
  "kernelspec": {
   "display_name": "Python 3",
   "language": "python",
   "name": "python3"
  },
  "language_info": {
   "codemirror_mode": {
    "name": "ipython",
    "version": 3
   },
   "file_extension": ".py",
   "mimetype": "text/x-python",
   "name": "python",
   "nbconvert_exporter": "python",
   "pygments_lexer": "ipython3",
   "version": "3.6.1"
  },
  "toc": {
   "nav_menu": {
    "height": "12px",
    "width": "252px"
   },
   "number_sections": true,
   "sideBar": true,
   "skip_h1_title": false,
   "toc_cell": false,
   "toc_position": {},
   "toc_section_display": "block",
   "toc_window_display": false
  },
  "varInspector": {
   "cols": {
    "lenName": 16,
    "lenType": 16,
    "lenVar": 40
   },
   "kernels_config": {
    "python": {
     "delete_cmd_postfix": "",
     "delete_cmd_prefix": "del ",
     "library": "var_list.py",
     "varRefreshCmd": "print(var_dic_list())"
    },
    "r": {
     "delete_cmd_postfix": ") ",
     "delete_cmd_prefix": "rm(",
     "library": "var_list.r",
     "varRefreshCmd": "cat(var_dic_list()) "
    }
   },
   "types_to_exclude": [
    "module",
    "function",
    "builtin_function_or_method",
    "instance",
    "_Feature"
   ],
   "window_display": false
  }
 },
 "nbformat": 4,
 "nbformat_minor": 2
}
