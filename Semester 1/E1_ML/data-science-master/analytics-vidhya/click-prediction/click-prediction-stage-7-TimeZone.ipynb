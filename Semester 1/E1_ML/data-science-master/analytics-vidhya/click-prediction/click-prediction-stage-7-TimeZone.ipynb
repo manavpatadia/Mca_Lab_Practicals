{
 "cells": [
  {
   "cell_type": "markdown",
   "metadata": {},
   "source": [
    "### Timezone correction\n",
    "- Assuming that all data is collected in one timezone(UTC)\n",
    "- since countries are different so click payout data will get uniformly distributed across 24 hour time\n",
    "- But if we convert all times (hour) to the respective time zones then we can see which times in that zone are higher payout generators\n",
    "\n",
    "#### Method\n",
    "- for countries with single timezone take the hour diff wrt UTC\n",
    "- for countries with multi timezone take the average hour diff wrt UTC\n",
    "\n",
    "### Browser and OS based inference\n",
    "- Active learning features\n",
    "- browser age\n",
    "- os based device type, console/mobile/desktop/tablet"
   ]
  },
  {
   "cell_type": "code",
   "execution_count": 2,
   "metadata": {
    "ExecuteTime": {
     "end_time": "2017-09-21T12:02:43.139301Z",
     "start_time": "2017-09-21T12:02:43.116410Z"
    }
   },
   "outputs": [],
   "source": [
    "import numpy as np # linear algebra\n",
    "import pandas as pd # data processing, CSV file I/O (e.g. pd.read_csv)\n",
    "import matplotlib as mplt\n",
    "import matplotlib.pyplot as plt\n",
    "from sklearn.model_selection import train_test_split\n",
    "from sklearn.metrics import mean_squared_error\n",
    "from IPython.core.interactiveshell import InteractiveShell\n",
    "from sklearn.ensemble import RandomForestRegressor\n",
    "from sklearn.metrics import explained_variance_score\n",
    "from sklearn.preprocessing import LabelEncoder\n",
    "from sklearn.metrics import confusion_matrix\n",
    "from sklearn.model_selection import GridSearchCV\n",
    "%matplotlib inline\n",
    "import seaborn as sns\n",
    "import math\n",
    "import gc\n",
    "import ipaddress\n",
    "from urllib.parse import urlparse\n",
    "from tldextract import extract\n",
    "\n",
    "import sys\n",
    "from pathlib import Path\n",
    "d = Path().resolve().parent.parent\n",
    "sys.path.insert(0, str(d))\n",
    "import util.utils as utils\n",
    "import util.plot_utils as plot_utils\n",
    "\n",
    "\n",
    "\n",
    "plt.rcParams[\"figure.figsize\"] = (12,4)\n",
    "\n",
    "from xgboost import XGBClassifier\n",
    "import xgboost as xgb\n",
    "from sklearn.metrics import accuracy_score\n",
    "\n",
    "\n",
    "InteractiveShell.ast_node_interactivity = \"all\"\n",
    "np.set_printoptions(precision=2)"
   ]
  },
  {
   "cell_type": "code",
   "execution_count": 3,
   "metadata": {
    "ExecuteTime": {
     "end_time": "2017-09-21T12:02:44.129053Z",
     "start_time": "2017-09-21T12:02:44.125885Z"
    },
    "collapsed": true
   },
   "outputs": [],
   "source": [
    "project_name=\"click-prediction\"\n",
    "def get_file_location(filename):\n",
    "    return \"../data/%s/%s\" % (project_name,filename)"
   ]
  },
  {
   "cell_type": "code",
   "execution_count": 4,
   "metadata": {
    "ExecuteTime": {
     "end_time": "2017-09-21T12:04:15.514233Z",
     "start_time": "2017-09-21T12:02:50.563970Z"
    },
    "collapsed": true
   },
   "outputs": [],
   "source": [
    "df_conv_status = pd.read_csv(\"../data/%s/%s\" % (project_name,\"train-true_7.csv\"))\n",
    "df_fraud= pd.read_csv(\"../data/%s/%s\" % (project_name,\"train-fraud_7.csv\"))\n",
    "df = pd.read_csv(\"../data/%s/%s\" % (project_name,\"train_7.csv\"))\n",
    "df_test= pd.read_csv(\"../data/%s/%s\" % (project_name,\"test_7.csv\"))"
   ]
  },
  {
   "cell_type": "code",
   "execution_count": null,
   "metadata": {
    "ExecuteTime": {
     "end_time": "2017-09-20T05:06:07.490096Z",
     "start_time": "2017-09-20T05:06:07.486927Z"
    },
    "collapsed": true
   },
   "outputs": [],
   "source": []
  },
  {
   "cell_type": "code",
   "execution_count": null,
   "metadata": {
    "ExecuteTime": {
     "end_time": "2017-09-19T04:10:34.248763Z",
     "start_time": "2017-09-19T04:10:34.244725Z"
    },
    "collapsed": true
   },
   "outputs": [],
   "source": []
  },
  {
   "cell_type": "markdown",
   "metadata": {},
   "source": [
    "### Some util libs"
   ]
  },
  {
   "cell_type": "code",
   "execution_count": 5,
   "metadata": {
    "ExecuteTime": {
     "end_time": "2017-09-21T12:04:15.610237Z",
     "start_time": "2017-09-21T12:04:15.515618Z"
    },
    "collapsed": true
   },
   "outputs": [],
   "source": [
    "import numpy as np # linear algebra\n",
    "import pandas as pd # data processing, CSV file I/O (e.g. pd.read_csv)\n",
    "import matplotlib as mplt\n",
    "import matplotlib.pyplot as plt\n",
    "\n",
    "def get_all_column_names(df):\n",
    "    return df.columns.values.tolist()\n",
    "\n",
    "\n",
    "def count_distinct_values_column(df, colname):\n",
    "    return pd.DataFrame(df[colname].value_counts(dropna=False)).rename(columns={0: \"Count\"})\n",
    "\n",
    "\n",
    "def count_null_per_column(df):\n",
    "    \"\"\"Missing value count per column grouped by column name\"\"\"\n",
    "    return pd.DataFrame(df.isnull().sum()).rename(columns={0:\"# of Nulls\"})\n",
    "\n",
    "def unique_values_per_column(df):\n",
    "    unique_counts = {}\n",
    "    for idx in df.columns.values:\n",
    "        #cnt=len(df[idx].unique())\n",
    "        cnt = df[idx].nunique()\n",
    "        unique_counts[idx]=cnt\n",
    "    unique_ctr = pd.DataFrame([unique_counts]).T\n",
    "    unique_ctr_2 = unique_ctr.rename(columns={0: '# Unique Values'})\n",
    "    return unique_ctr_2\n",
    "\n",
    "\n",
    "def particular_values_per_column(df,values):\n",
    "    counts = {}\n",
    "    for idx in df.columns.values:\n",
    "        cnt=np.sum(df[idx].isin(values).values)\n",
    "        counts[idx]=cnt\n",
    "    ctr = pd.DataFrame([counts]).T\n",
    "    ctr_2 = ctr.rename(columns={0: '# Values as %s'%values})\n",
    "    return ctr_2\n",
    "\n",
    "def get_column_datatypes(df):\n",
    "    dtype = {}\n",
    "    for idx in df.columns.values:\n",
    "        dt = df[idx].dtype\n",
    "        dtype[idx]=dt\n",
    "    ctr = pd.DataFrame([dtype]).T\n",
    "    ctr_2 = ctr.rename(columns={0: 'datatype'})\n",
    "    return ctr_2\n",
    "\n",
    "def column_summaries(df):\n",
    "    mis_val = df.isnull().sum()\n",
    "    mis_val_percent = 100 * df.isnull().sum()/len(df)\n",
    "    particular_ctr = particular_values_per_column(df,[0])\n",
    "    unique_ctr = unique_values_per_column(df)\n",
    "    statistical_summary = df.describe().T\n",
    "    datatypes = get_column_datatypes(df)\n",
    "    skewed = pd.DataFrame(df.skew()).rename(columns={0: 'skew'})\n",
    "    mis_val_table = pd.concat([mis_val, mis_val_percent, unique_ctr, particular_ctr,datatypes,skewed,statistical_summary], axis=1)\n",
    "    mis_val_table_ren_columns = mis_val_table.rename(columns = {0 : 'Missing Values', 1 : '% missing of Total Values'})\n",
    "    return mis_val_table_ren_columns\n",
    "\n",
    "def filter_dataframe(df,filter_columns):\n",
    "    df_filtered = df\n",
    "    for feature in filter_columns:\n",
    "        values = filter_columns[feature]\n",
    "        if(len(values)==1):\n",
    "            df_filtered = df_filtered[df_filtered[feature]==values[0]]\n",
    "        elif(len(values)==2):\n",
    "            df_filtered = df_filtered[(df_filtered[feature]>=values[0]) & (df_filtered[feature]<=values[1])]\n",
    "    return df_filtered\n",
    "\n",
    "def filter_dataframe_percentile(df, filter_columns):\n",
    "    df_filtered = df\n",
    "    for feature in filter_columns:\n",
    "        quantiles = filter_columns[feature]\n",
    "        values = df[feature].quantile(quantiles).values\n",
    "        if(len(values)==1):\n",
    "            # if only one value present assume upper quantile\n",
    "            df_filtered = df_filtered[df_filtered[feature]<=values[0]]\n",
    "        elif(len(values)==2):\n",
    "            df_filtered = df_filtered[(df_filtered[feature]>=values[0]) & (df_filtered[feature]<=values[1])]\n",
    "    return df_filtered\n",
    "\n",
    "\n",
    "def detect_nan_columns(df):\n",
    "    columns = df.columns.values.tolist()\n",
    "    for colname in columns:\n",
    "        if(np.sum(np.isnan(df[colname]))>0):\n",
    "            print(colname)\n",
    "            \n",
    "def plot_bar(df,columnx,columny,rounder):\n",
    "    df[columnx+\"_temp\"] = df[columnx].round(rounder)\n",
    "    dfr=df.groupby([columnx+\"_temp\"])[columny].sum()\n",
    "    dfr=dfr.to_frame().reset_index()\n",
    "    dfr.columns = [columnx,columny]\n",
    "#     sns.barplot(x=columnx, y=columny, data=dfr,palette=\"Greens\")\n",
    "    dfr.plot.bar(columnx,columny)"
   ]
  },
  {
   "cell_type": "code",
   "execution_count": 6,
   "metadata": {
    "ExecuteTime": {
     "end_time": "2017-09-21T12:04:16.033967Z",
     "start_time": "2017-09-21T12:04:15.611348Z"
    }
   },
   "outputs": [
    {
     "data": {
      "image/png": "[encoded data removed]",
      "text/plain": [
       "<matplotlib.figure.Figure at 0x7f7f853dbf60>"
      ]
     },
     "metadata": {},
     "output_type": "display_data"
    }
   ],
   "source": [
    "plot_bar(df_conv_status,\"hour\",\"ConversionPayOut\",1)"
   ]
  },
  {
   "cell_type": "code",
   "execution_count": 7,
   "metadata": {
    "ExecuteTime": {
     "end_time": "2017-09-21T12:04:16.461269Z",
     "start_time": "2017-09-21T12:04:16.035107Z"
    }
   },
   "outputs": [
    {
     "data": {
      "text/plain": [
       "5.5"
      ]
     },
     "execution_count": 7,
     "metadata": {},
     "output_type": "execute_result"
    },
    {
     "data": {
      "text/plain": [
       "-5.827586206896552"
      ]
     },
     "execution_count": 7,
     "metadata": {},
     "output_type": "execute_result"
    }
   ],
   "source": [
    "from pytz import country_timezones\n",
    "from pytz import timezone\n",
    "from datetime import datetime, timedelta\n",
    "timezone_country = {}\n",
    "tzr = {}\n",
    "tkr={}\n",
    "offsets = {}\n",
    "for countrycode in country_timezones:\n",
    "    timezones = country_timezones[countrycode]\n",
    "    tzr[countrycode] = timezones\n",
    "    tkr[countrycode] ={}\n",
    "    offsets[countrycode] ={}\n",
    "    for tz in timezones:\n",
    "        tkr[countrycode][tz] = timezone(tz)\n",
    "        tnm=tkr[countrycode][tz].utcoffset(datetime(2009, 9, 1))\n",
    "        offset = 0\n",
    "        if tnm.days==-1:\n",
    "            offset = tnm.days*(24*3600 - tnm.seconds)\n",
    "        elif tnm.days==0:\n",
    "            offset = tnm.seconds\n",
    "        else:\n",
    "            print(tnm)\n",
    "        offsets[countrycode][tz] = offset/3600\n",
    "        timezone_country[tz] = countrycode\n",
    "        \n",
    "country_avg_offset = {}\n",
    "country_list = []\n",
    "offset_list = []\n",
    "for country in offsets:\n",
    "    offset_sum=0\n",
    "    count=0\n",
    "    for region,offset in offsets[country].items():\n",
    "        offset_sum+=offset\n",
    "        count+=1\n",
    "    \n",
    "    offset_avg = offset_sum/count\n",
    "    if offset_avg<-24:\n",
    "        offset_avg = -24.0\n",
    "    elif offset_avg>24:\n",
    "        offset_avg=24.0\n",
    "    country_avg_offset[country]=offset_sum/count\n",
    "    country_list.append(country)\n",
    "    offset_list.append(offset_sum/count)\n",
    "\n",
    "country_avg_offset[\"IN\"]\n",
    "country_avg_offset[\"US\"]\n",
    "\n",
    "df_offsets=pd.DataFrame({\"Country\":country_list,\"offset\":offset_list})"
   ]
  },
  {
   "cell_type": "code",
   "execution_count": 8,
   "metadata": {
    "ExecuteTime": {
     "end_time": "2017-09-21T12:04:16.469916Z",
     "start_time": "2017-09-21T12:04:16.462390Z"
    }
   },
   "outputs": [
    {
     "data": {
      "text/html": [
       "<div>\n",
       "<style>\n",
       "    .dataframe thead tr:only-child th {\n",
       "        text-align: right;\n",
       "    }\n",
       "\n",
       "    .dataframe thead th {\n",
       "        text-align: left;\n",
       "    }\n",
       "\n",
       "    .dataframe tbody tr th {\n",
       "        vertical-align: top;\n",
       "    }\n",
       "</style>\n",
       "<table border=\"1\" class=\"dataframe\">\n",
       "  <thead>\n",
       "    <tr style=\"text-align: right;\">\n",
       "      <th></th>\n",
       "      <th>Country</th>\n",
       "      <th>offset</th>\n",
       "    </tr>\n",
       "  </thead>\n",
       "  <tbody>\n",
       "    <tr>\n",
       "      <th>3</th>\n",
       "      <td>AG</td>\n",
       "      <td>-4.000000</td>\n",
       "    </tr>\n",
       "    <tr>\n",
       "      <th>4</th>\n",
       "      <td>AI</td>\n",
       "      <td>-4.000000</td>\n",
       "    </tr>\n",
       "    <tr>\n",
       "      <th>9</th>\n",
       "      <td>AR</td>\n",
       "      <td>-3.083333</td>\n",
       "    </tr>\n",
       "    <tr>\n",
       "      <th>10</th>\n",
       "      <td>AS</td>\n",
       "      <td>-11.000000</td>\n",
       "    </tr>\n",
       "    <tr>\n",
       "      <th>13</th>\n",
       "      <td>AW</td>\n",
       "      <td>-4.000000</td>\n",
       "    </tr>\n",
       "  </tbody>\n",
       "</table>\n",
       "</div>"
      ],
      "text/plain": [
       "   Country     offset\n",
       "3       AG  -4.000000\n",
       "4       AI  -4.000000\n",
       "9       AR  -3.083333\n",
       "10      AS -11.000000\n",
       "13      AW  -4.000000"
      ]
     },
     "execution_count": 8,
     "metadata": {},
     "output_type": "execute_result"
    }
   ],
   "source": [
    "df_offsets[df_offsets[\"offset\"]<0].head()"
   ]
  },
  {
   "cell_type": "code",
   "execution_count": 6,
   "metadata": {
    "ExecuteTime": {
     "end_time": "2017-09-20T11:13:22.463635Z",
     "start_time": "2017-09-20T11:13:22.456039Z"
    }
   },
   "outputs": [
    {
     "data": {
      "text/html": [
       "<div>\n",
       "<style>\n",
       "    .dataframe thead tr:only-child th {\n",
       "        text-align: right;\n",
       "    }\n",
       "\n",
       "    .dataframe thead th {\n",
       "        text-align: left;\n",
       "    }\n",
       "\n",
       "    .dataframe tbody tr th {\n",
       "        vertical-align: top;\n",
       "    }\n",
       "</style>\n",
       "<table border=\"1\" class=\"dataframe\">\n",
       "  <thead>\n",
       "    <tr style=\"text-align: right;\">\n",
       "      <th></th>\n",
       "      <th>Country</th>\n",
       "      <th>offset</th>\n",
       "    </tr>\n",
       "  </thead>\n",
       "  <tbody>\n",
       "    <tr>\n",
       "      <th>3</th>\n",
       "      <td>AG</td>\n",
       "      <td>-4.000000</td>\n",
       "    </tr>\n",
       "    <tr>\n",
       "      <th>4</th>\n",
       "      <td>AI</td>\n",
       "      <td>-4.000000</td>\n",
       "    </tr>\n",
       "    <tr>\n",
       "      <th>9</th>\n",
       "      <td>AR</td>\n",
       "      <td>-3.083333</td>\n",
       "    </tr>\n",
       "    <tr>\n",
       "      <th>10</th>\n",
       "      <td>AS</td>\n",
       "      <td>-11.000000</td>\n",
       "    </tr>\n",
       "    <tr>\n",
       "      <th>13</th>\n",
       "      <td>AW</td>\n",
       "      <td>-4.000000</td>\n",
       "    </tr>\n",
       "  </tbody>\n",
       "</table>\n",
       "</div>"
      ],
      "text/plain": [
       "   Country     offset\n",
       "3       AG  -4.000000\n",
       "4       AI  -4.000000\n",
       "9       AR  -3.083333\n",
       "10      AS -11.000000\n",
       "13      AW  -4.000000"
      ]
     },
     "execution_count": 6,
     "metadata": {},
     "output_type": "execute_result"
    }
   ],
   "source": [
    "df_offsets[df_offsets[\"offset\"]<0].head()"
   ]
  },
  {
   "cell_type": "code",
   "execution_count": 9,
   "metadata": {
    "ExecuteTime": {
     "end_time": "2017-09-21T12:04:16.496275Z",
     "start_time": "2017-09-21T12:04:16.470988Z"
    },
    "collapsed": true
   },
   "outputs": [],
   "source": [
    "df_country = pd.read_csv(\"../data/%s/%s\" % (project_name,\"Country-encoding.csv\"))"
   ]
  },
  {
   "cell_type": "code",
   "execution_count": 10,
   "metadata": {
    "ExecuteTime": {
     "end_time": "2017-09-21T12:04:16.502633Z",
     "start_time": "2017-09-21T12:04:16.497461Z"
    },
    "collapsed": true
   },
   "outputs": [],
   "source": [
    "df_country = df_country.merge(df_offsets,on=\"Country\",how=\"left\")"
   ]
  },
  {
   "cell_type": "code",
   "execution_count": 11,
   "metadata": {
    "ExecuteTime": {
     "end_time": "2017-09-21T12:04:16.507003Z",
     "start_time": "2017-09-21T12:04:16.503803Z"
    },
    "collapsed": true
   },
   "outputs": [],
   "source": [
    "df_country[\"Country\"] = df_country[\"id\"]"
   ]
  },
  {
   "cell_type": "code",
   "execution_count": 12,
   "metadata": {
    "ExecuteTime": {
     "end_time": "2017-09-21T12:04:16.512034Z",
     "start_time": "2017-09-21T12:04:16.508047Z"
    },
    "collapsed": true
   },
   "outputs": [],
   "source": [
    "df_country.drop(['id'], axis = 1, inplace = True)\n",
    "\n"
   ]
  },
  {
   "cell_type": "code",
   "execution_count": 13,
   "metadata": {
    "ExecuteTime": {
     "end_time": "2017-09-21T12:04:16.520678Z",
     "start_time": "2017-09-21T12:04:16.513161Z"
    }
   },
   "outputs": [
    {
     "data": {
      "text/html": [
       "<div>\n",
       "<style>\n",
       "    .dataframe thead tr:only-child th {\n",
       "        text-align: right;\n",
       "    }\n",
       "\n",
       "    .dataframe thead th {\n",
       "        text-align: left;\n",
       "    }\n",
       "\n",
       "    .dataframe tbody tr th {\n",
       "        vertical-align: top;\n",
       "    }\n",
       "</style>\n",
       "<table border=\"1\" class=\"dataframe\">\n",
       "  <thead>\n",
       "    <tr style=\"text-align: right;\">\n",
       "      <th></th>\n",
       "      <th>Country</th>\n",
       "      <th>offset</th>\n",
       "    </tr>\n",
       "  </thead>\n",
       "  <tbody>\n",
       "    <tr>\n",
       "      <th>0</th>\n",
       "      <td>0</td>\n",
       "      <td>-30.0</td>\n",
       "    </tr>\n",
       "    <tr>\n",
       "      <th>1</th>\n",
       "      <td>1</td>\n",
       "      <td>-30.0</td>\n",
       "    </tr>\n",
       "    <tr>\n",
       "      <th>2</th>\n",
       "      <td>2</td>\n",
       "      <td>2.0</td>\n",
       "    </tr>\n",
       "    <tr>\n",
       "      <th>3</th>\n",
       "      <td>3</td>\n",
       "      <td>4.0</td>\n",
       "    </tr>\n",
       "    <tr>\n",
       "      <th>4</th>\n",
       "      <td>4</td>\n",
       "      <td>4.5</td>\n",
       "    </tr>\n",
       "  </tbody>\n",
       "</table>\n",
       "</div>"
      ],
      "text/plain": [
       "   Country  offset\n",
       "0        0   -30.0\n",
       "1        1   -30.0\n",
       "2        2     2.0\n",
       "3        3     4.0\n",
       "4        4     4.5"
      ]
     },
     "execution_count": 13,
     "metadata": {},
     "output_type": "execute_result"
    }
   ],
   "source": [
    "# -30 since any value within -12 to +12 is an offset\n",
    "df_country[\"offset\"].fillna(-30,inplace=True)\n",
    "df_country.head()"
   ]
  },
  {
   "cell_type": "code",
   "execution_count": 25,
   "metadata": {
    "ExecuteTime": {
     "end_time": "2017-09-21T14:02:40.386634Z",
     "start_time": "2017-09-21T14:02:20.358314Z"
    },
    "collapsed": true
   },
   "outputs": [],
   "source": [
    "# df.drop(['offset'], axis = 1, inplace = True)\n",
    "# df_test.drop(['offset'], axis = 1, inplace = True)\n",
    "# df_fraud.drop(['offset'], axis = 1, inplace = True)\n",
    "# df_conv_status.drop(['offset'], axis = 1, inplace = True)"
   ]
  },
  {
   "cell_type": "code",
   "execution_count": 26,
   "metadata": {
    "ExecuteTime": {
     "end_time": "2017-09-21T14:03:20.050744Z",
     "start_time": "2017-09-21T14:02:40.387956Z"
    },
    "collapsed": true
   },
   "outputs": [],
   "source": [
    "df=df.merge(df_country,on=\"Country\",how=\"left\")\n",
    "df_test=df_test.merge(df_country,on=\"Country\",how=\"left\")\n",
    "df_fraud=df_fraud.merge(df_country,on=\"Country\",how=\"left\")\n",
    "df_conv_status=df_conv_status.merge(df_country,on=\"Country\",how=\"left\")"
   ]
  },
  {
   "cell_type": "code",
   "execution_count": null,
   "metadata": {
    "ExecuteTime": {
     "end_time": "2017-09-19T06:19:06.537266Z",
     "start_time": "2017-09-19T06:19:06.530551Z"
    },
    "collapsed": true
   },
   "outputs": [],
   "source": []
  },
  {
   "cell_type": "code",
   "execution_count": 27,
   "metadata": {
    "ExecuteTime": {
     "end_time": "2017-09-21T14:03:20.696886Z",
     "start_time": "2017-09-21T14:03:20.052126Z"
    }
   },
   "outputs": [
    {
     "data": {
      "text/html": [
       "<div>\n",
       "<style>\n",
       "    .dataframe thead tr:only-child th {\n",
       "        text-align: right;\n",
       "    }\n",
       "\n",
       "    .dataframe thead th {\n",
       "        text-align: left;\n",
       "    }\n",
       "\n",
       "    .dataframe tbody tr th {\n",
       "        vertical-align: top;\n",
       "    }\n",
       "</style>\n",
       "<table border=\"1\" class=\"dataframe\">\n",
       "  <thead>\n",
       "    <tr style=\"text-align: right;\">\n",
       "      <th></th>\n",
       "      <th>ID</th>\n",
       "      <th>Carrier</th>\n",
       "      <th>TrafficType</th>\n",
       "      <th>Device</th>\n",
       "      <th>Browser</th>\n",
       "      <th>OS</th>\n",
       "      <th>RefererUrl</th>\n",
       "      <th>ConversionPayOut</th>\n",
       "      <th>publisherId</th>\n",
       "      <th>subPublisherId</th>\n",
       "      <th>...</th>\n",
       "      <th>subnet</th>\n",
       "      <th>city</th>\n",
       "      <th>region_code</th>\n",
       "      <th>postal_code</th>\n",
       "      <th>Country</th>\n",
       "      <th>sub_domain</th>\n",
       "      <th>url</th>\n",
       "      <th>hour_temp</th>\n",
       "      <th>offset_hours</th>\n",
       "      <th>offset</th>\n",
       "    </tr>\n",
       "  </thead>\n",
       "  <tbody>\n",
       "    <tr>\n",
       "      <th>0</th>\n",
       "      <td>1378</td>\n",
       "      <td>-1</td>\n",
       "      <td>1</td>\n",
       "      <td>388</td>\n",
       "      <td>1</td>\n",
       "      <td>1</td>\n",
       "      <td>2</td>\n",
       "      <td>4.55000</td>\n",
       "      <td>8620</td>\n",
       "      <td>0</td>\n",
       "      <td>...</td>\n",
       "      <td>222207</td>\n",
       "      <td>51056</td>\n",
       "      <td>807</td>\n",
       "      <td>54143</td>\n",
       "      <td>19</td>\n",
       "      <td>1</td>\n",
       "      <td>2</td>\n",
       "      <td>0</td>\n",
       "      <td>-7</td>\n",
       "      <td>7.000000</td>\n",
       "    </tr>\n",
       "    <tr>\n",
       "      <th>1</th>\n",
       "      <td>1720</td>\n",
       "      <td>44</td>\n",
       "      <td>1</td>\n",
       "      <td>964</td>\n",
       "      <td>4</td>\n",
       "      <td>1</td>\n",
       "      <td>2</td>\n",
       "      <td>2.65265</td>\n",
       "      <td>3050</td>\n",
       "      <td>0</td>\n",
       "      <td>...</td>\n",
       "      <td>193271</td>\n",
       "      <td>13013</td>\n",
       "      <td>260</td>\n",
       "      <td>2064</td>\n",
       "      <td>19</td>\n",
       "      <td>1</td>\n",
       "      <td>2</td>\n",
       "      <td>0</td>\n",
       "      <td>-7</td>\n",
       "      <td>7.000000</td>\n",
       "    </tr>\n",
       "    <tr>\n",
       "      <th>2</th>\n",
       "      <td>8623154</td>\n",
       "      <td>44</td>\n",
       "      <td>1</td>\n",
       "      <td>1054</td>\n",
       "      <td>4</td>\n",
       "      <td>1</td>\n",
       "      <td>2</td>\n",
       "      <td>9.77600</td>\n",
       "      <td>8642</td>\n",
       "      <td>0</td>\n",
       "      <td>...</td>\n",
       "      <td>193271</td>\n",
       "      <td>13013</td>\n",
       "      <td>260</td>\n",
       "      <td>2064</td>\n",
       "      <td>19</td>\n",
       "      <td>1</td>\n",
       "      <td>2</td>\n",
       "      <td>9</td>\n",
       "      <td>2</td>\n",
       "      <td>7.000000</td>\n",
       "    </tr>\n",
       "    <tr>\n",
       "      <th>3</th>\n",
       "      <td>42700934</td>\n",
       "      <td>44</td>\n",
       "      <td>1</td>\n",
       "      <td>388</td>\n",
       "      <td>2</td>\n",
       "      <td>1</td>\n",
       "      <td>2</td>\n",
       "      <td>1.32600</td>\n",
       "      <td>8531</td>\n",
       "      <td>0</td>\n",
       "      <td>...</td>\n",
       "      <td>193271</td>\n",
       "      <td>13013</td>\n",
       "      <td>260</td>\n",
       "      <td>2064</td>\n",
       "      <td>19</td>\n",
       "      <td>1</td>\n",
       "      <td>2</td>\n",
       "      <td>12</td>\n",
       "      <td>5</td>\n",
       "      <td>7.000000</td>\n",
       "    </tr>\n",
       "    <tr>\n",
       "      <th>4</th>\n",
       "      <td>3698</td>\n",
       "      <td>703</td>\n",
       "      <td>1</td>\n",
       "      <td>42</td>\n",
       "      <td>4</td>\n",
       "      <td>1</td>\n",
       "      <td>2</td>\n",
       "      <td>25.49300</td>\n",
       "      <td>3848</td>\n",
       "      <td>0</td>\n",
       "      <td>...</td>\n",
       "      <td>1469524</td>\n",
       "      <td>46440</td>\n",
       "      <td>727</td>\n",
       "      <td>14607</td>\n",
       "      <td>179</td>\n",
       "      <td>1</td>\n",
       "      <td>2</td>\n",
       "      <td>0</td>\n",
       "      <td>-8</td>\n",
       "      <td>7.740741</td>\n",
       "    </tr>\n",
       "  </tbody>\n",
       "</table>\n",
       "<p>5 rows × 27 columns</p>\n",
       "</div>"
      ],
      "text/plain": [
       "         ID  Carrier  TrafficType  Device  Browser  OS  RefererUrl  \\\n",
       "0      1378       -1            1     388        1   1           2   \n",
       "1      1720       44            1     964        4   1           2   \n",
       "2   8623154       44            1    1054        4   1           2   \n",
       "3  42700934       44            1     388        2   1           2   \n",
       "4      3698      703            1      42        4   1           2   \n",
       "\n",
       "   ConversionPayOut  publisherId  subPublisherId    ...      subnet   city  \\\n",
       "0           4.55000         8620               0    ...      222207  51056   \n",
       "1           2.65265         3050               0    ...      193271  13013   \n",
       "2           9.77600         8642               0    ...      193271  13013   \n",
       "3           1.32600         8531               0    ...      193271  13013   \n",
       "4          25.49300         3848               0    ...     1469524  46440   \n",
       "\n",
       "   region_code  postal_code  Country  sub_domain  url  hour_temp  \\\n",
       "0          807        54143       19           1    2          0   \n",
       "1          260         2064       19           1    2          0   \n",
       "2          260         2064       19           1    2          9   \n",
       "3          260         2064       19           1    2         12   \n",
       "4          727        14607      179           1    2          0   \n",
       "\n",
       "   offset_hours    offset  \n",
       "0            -7  7.000000  \n",
       "1            -7  7.000000  \n",
       "2             2  7.000000  \n",
       "3             5  7.000000  \n",
       "4            -8  7.740741  \n",
       "\n",
       "[5 rows x 27 columns]"
      ]
     },
     "execution_count": 27,
     "metadata": {},
     "output_type": "execute_result"
    }
   ],
   "source": [
    "df_conv_status.head()"
   ]
  },
  {
   "cell_type": "code",
   "execution_count": 28,
   "metadata": {
    "ExecuteTime": {
     "end_time": "2017-09-21T14:03:20.716123Z",
     "start_time": "2017-09-21T14:03:20.698092Z"
    }
   },
   "outputs": [
    {
     "data": {
      "text/plain": [
       "ID                        int64\n",
       "Carrier                   int64\n",
       "TrafficType               int64\n",
       "Device                    int64\n",
       "Browser                   int64\n",
       "OS                        int64\n",
       "RefererUrl                int64\n",
       "ConversionPayOut        float64\n",
       "publisherId               int64\n",
       "subPublisherId            int64\n",
       "advertiserCampaignId      int64\n",
       "Fraud                     int64\n",
       "conv_status               int64\n",
       "dayofweek                 int64\n",
       "hour                      int64\n",
       "dayofyear                 int64\n",
       "network                   int64\n",
       "subnet                    int64\n",
       "city                      int64\n",
       "region_code               int64\n",
       "postal_code               int64\n",
       "Country                  object\n",
       "sub_domain                int64\n",
       "url                       int64\n",
       "hour_temp                 int64\n",
       "offset_hours              int64\n",
       "offset                  float64\n",
       "dtype: object"
      ]
     },
     "execution_count": 28,
     "metadata": {},
     "output_type": "execute_result"
    }
   ],
   "source": [
    "df_conv_status.dtypes"
   ]
  },
  {
   "cell_type": "code",
   "execution_count": 29,
   "metadata": {
    "ExecuteTime": {
     "end_time": "2017-09-21T14:03:21.139364Z",
     "start_time": "2017-09-21T14:03:20.717166Z"
    }
   },
   "outputs": [
    {
     "data": {
      "text/plain": [
       "644"
      ]
     },
     "execution_count": 29,
     "metadata": {},
     "output_type": "execute_result"
    }
   ],
   "source": [
    "np.sum(df[\"offset\"].isnull())"
   ]
  },
  {
   "cell_type": "code",
   "execution_count": 30,
   "metadata": {
    "ExecuteTime": {
     "end_time": "2017-09-21T14:03:21.324160Z",
     "start_time": "2017-09-21T14:03:21.140501Z"
    },
    "collapsed": true
   },
   "outputs": [],
   "source": [
    "df_conv_status[\"offset\"].fillna(-997,inplace=True)\n",
    "df_fraud[\"offset\"].fillna(-997,inplace=True)\n",
    "df_test[\"offset\"].fillna(-997,inplace=True)\n",
    "df[\"offset\"].fillna(-997,inplace=True)"
   ]
  },
  {
   "cell_type": "code",
   "execution_count": 31,
   "metadata": {
    "ExecuteTime": {
     "end_time": "2017-09-21T14:03:21.801452Z",
     "start_time": "2017-09-21T14:03:21.325471Z"
    },
    "collapsed": true
   },
   "outputs": [],
   "source": [
    "df_conv_status[\"offset_hours\"] = df_conv_status[\"hour\"] - df_conv_status[\"offset\"].round(0).astype(int)\n",
    "df_fraud[\"offset_hours\"] = df_fraud[\"hour\"] - df_fraud[\"offset\"].round(0).astype(int)\n",
    "df_test[\"offset_hours\"] = df_test[\"hour\"] - df_test[\"offset\"].round(0).astype(int)\n",
    "df[\"offset_hours\"] = df[\"hour\"] - df[\"offset\"].round(0).astype(int)"
   ]
  },
  {
   "cell_type": "code",
   "execution_count": 33,
   "metadata": {
    "ExecuteTime": {
     "end_time": "2017-09-21T14:07:51.655958Z",
     "start_time": "2017-09-21T14:07:38.643714Z"
    }
   },
   "outputs": [
    {
     "data": {
      "text/plain": [
       "count    34524.000000\n",
       "mean         7.358591\n",
       "std         11.199824\n",
       "min       -997.000000\n",
       "25%          1.000000\n",
       "50%          8.000000\n",
       "75%         13.000000\n",
       "max         53.000000\n",
       "Name: offset_hours, dtype: float64"
      ]
     },
     "execution_count": 33,
     "metadata": {},
     "output_type": "execute_result"
    }
   ],
   "source": [
    "df_conv_status.loc[df_conv_status[\"offset_hours\"]>=997,\"offset_hours\"] = -997\n",
    "df_fraud.loc[df_fraud[\"offset_hours\"]>=997,\"offset_hours\"] = -997\n",
    "df_test.loc[df_test[\"offset_hours\"]>=997,\"offset_hours\"] = -997\n",
    "df.loc[df[\"offset_hours\"]>=997,\"offset_hours\"] = -997\n",
    "\n",
    "df_conv_status[\"offset_hours\"].describe()\n"
   ]
  },
  {
   "cell_type": "code",
   "execution_count": 34,
   "metadata": {
    "ExecuteTime": {
     "end_time": "2017-09-21T14:14:44.964469Z",
     "start_time": "2017-09-21T14:14:44.960563Z"
    },
    "collapsed": true
   },
   "outputs": [],
   "source": [
    "# Wrong this screws up rows\n",
    "# df_conv_status[df_conv_status[\"offset_hours\"]>24] = df_conv_status[df_conv_status[\"offset_hours\"]>24] % 24 \n",
    "# df_fraud[df_fraud[\"offset_hours\"]>24] = df_fraud[df_fraud[\"offset_hours\"]>24] %24\n",
    "# df_test[df_test[\"offset_hours\"]>24] = df_test[df_test[\"offset_hours\"]>24]%24\n",
    "# df[df[\"offset_hours\"]>24] = df[df[\"offset_hours\"]>24]%24\n",
    "\n",
    "# df_conv_status[df_conv_status[\"offset_hours\"]<-24] = df_conv_status[df_conv_status[\"offset_hours\"]<-24] % 24 \n",
    "# df_fraud[df_fraud[\"offset_hours\"]<-24] = df_fraud[df_fraud[\"offset_hours\"]<-24] %24\n",
    "# df_test[df_test[\"offset_hours\"]<-24] = df_test[df_test[\"offset_hours\"]<-24]%24\n",
    "# df[df[\"offset_hours\"]<-24] = df[df[\"offset_hours\"]<-24]%24"
   ]
  },
  {
   "cell_type": "code",
   "execution_count": 35,
   "metadata": {
    "ExecuteTime": {
     "end_time": "2017-09-21T14:14:49.703392Z",
     "start_time": "2017-09-21T14:14:48.707673Z"
    },
    "collapsed": true
   },
   "outputs": [],
   "source": [
    "df_conv_status.loc[df_conv_status[\"offset_hours\"]>24, 'offset_hours'] = df_conv_status.loc[df_conv_status[\"offset_hours\"]>24, \"offset_hours\"] %24\n",
    "df_fraud.loc[df_fraud[\"offset_hours\"]>24, 'offset_hours'] = df_fraud.loc[df_fraud[\"offset_hours\"]>24, \"offset_hours\"] %24\n",
    "df_test.loc[df_test[\"offset_hours\"]>24, 'offset_hours'] = df_test.loc[df_test[\"offset_hours\"]>24, \"offset_hours\"] %24\n",
    "df.loc[df[\"offset_hours\"]>24, 'offset_hours'] = df.loc[df[\"offset_hours\"]>24, \"offset_hours\"] %24\n",
    "\n",
    "df_conv_status.loc[df_conv_status[\"offset_hours\"]<-24, 'offset_hours'] = df_conv_status.loc[df_conv_status[\"offset_hours\"]<-24, \"offset_hours\"] %24\n",
    "df_fraud.loc[df_fraud[\"offset_hours\"]<-24, 'offset_hours'] = df_fraud.loc[df_fraud[\"offset_hours\"]<-24, \"offset_hours\"] %24\n",
    "df_test.loc[df_test[\"offset_hours\"]<-24, 'offset_hours'] = df_test.loc[df_test[\"offset_hours\"]<-24, \"offset_hours\"] %24\n",
    "df.loc[df[\"offset_hours\"]<-24, 'offset_hours'] = df.loc[df[\"offset_hours\"]<-24, \"offset_hours\"] %24\n",
    "\n"
   ]
  },
  {
   "cell_type": "code",
   "execution_count": 39,
   "metadata": {
    "ExecuteTime": {
     "end_time": "2017-09-21T14:15:24.953145Z",
     "start_time": "2017-09-21T14:15:24.765015Z"
    }
   },
   "outputs": [
    {
     "data": {
      "image/png": "[encoded data removed]",
      "text/plain": [
       "<matplotlib.figure.Figure at 0x7f7f25180ac8>"
      ]
     },
     "metadata": {},
     "output_type": "display_data"
    }
   ],
   "source": [
    "plot_bar(df_conv_status,\"offset_hours\",\"ConversionPayOut\",-1)"
   ]
  },
  {
   "cell_type": "code",
   "execution_count": 41,
   "metadata": {
    "ExecuteTime": {
     "end_time": "2017-09-21T14:16:11.715858Z",
     "start_time": "2017-09-21T14:16:11.704187Z"
    }
   },
   "outputs": [
    {
     "data": {
      "text/plain": [
       "ID                        int64\n",
       "Carrier                   int64\n",
       "TrafficType               int64\n",
       "Device                    int64\n",
       "Browser                   int64\n",
       "OS                        int64\n",
       "RefererUrl                int64\n",
       "ConversionPayOut        float64\n",
       "publisherId               int64\n",
       "subPublisherId            int64\n",
       "advertiserCampaignId      int64\n",
       "Fraud                     int64\n",
       "conv_status               int64\n",
       "dayofweek                 int64\n",
       "hour                      int64\n",
       "dayofyear                 int64\n",
       "network                   int64\n",
       "subnet                    int64\n",
       "city                      int64\n",
       "region_code               int64\n",
       "postal_code               int64\n",
       "Country                  object\n",
       "sub_domain                int64\n",
       "url                       int64\n",
       "offset_hours              int64\n",
       "offset                  float64\n",
       "dtype: object"
      ]
     },
     "execution_count": 41,
     "metadata": {},
     "output_type": "execute_result"
    }
   ],
   "source": [
    "\n",
    "# df_conv_status.drop(['offset_hours_temp'], axis = 1, inplace = True)\n",
    "df_conv_status.drop(['hour_temp'], axis = 1, inplace = True)\n",
    "df_conv_status.dtypes"
   ]
  },
  {
   "cell_type": "markdown",
   "metadata": {},
   "source": [
    "### Additional Os Browser Details"
   ]
  },
  {
   "cell_type": "code",
   "execution_count": 42,
   "metadata": {
    "ExecuteTime": {
     "end_time": "2017-09-21T14:36:55.659468Z",
     "start_time": "2017-09-21T14:36:55.652310Z"
    },
    "collapsed": true
   },
   "outputs": [],
   "source": [
    "df_os_encoding = pd.read_csv(\"../data/%s/%s\" % (project_name,\"os-encoding-extra.csv\"))\n",
    "df_browser_encoding = pd.read_csv(\"../data/%s/%s\" % (project_name,\"browser-encoding-extra.csv\"))"
   ]
  },
  {
   "cell_type": "code",
   "execution_count": 43,
   "metadata": {
    "ExecuteTime": {
     "end_time": "2017-09-21T14:37:22.667148Z",
     "start_time": "2017-09-21T14:37:22.658844Z"
    }
   },
   "outputs": [
    {
     "data": {
      "text/plain": [
       "id                    int64\n",
       "os                   object\n",
       "device_type_word     object\n",
       "old_or_new          float64\n",
       "device_type         float64\n",
       "dtype: object"
      ]
     },
     "execution_count": 43,
     "metadata": {},
     "output_type": "execute_result"
    },
    {
     "data": {
      "text/plain": [
       "id                   int64\n",
       "browser             object\n",
       "browser_age        float64\n",
       "desktop_browser    float64\n",
       "dtype: object"
      ]
     },
     "execution_count": 43,
     "metadata": {},
     "output_type": "execute_result"
    }
   ],
   "source": [
    "df_os_encoding.dtypes\n",
    "df_browser_encoding.dtypes"
   ]
  },
  {
   "cell_type": "code",
   "execution_count": 44,
   "metadata": {
    "ExecuteTime": {
     "end_time": "2017-09-21T14:37:53.589196Z",
     "start_time": "2017-09-21T14:37:53.581935Z"
    },
    "collapsed": true
   },
   "outputs": [],
   "source": [
    "df_os_encoding.drop(['device_type_word'], axis = 1, inplace = True)\n",
    "df_os_encoding[\"OS\"] = df_os_encoding[\"id\"]\n",
    "df_os_encoding.drop(['id'], axis = 1, inplace = True)"
   ]
  },
  {
   "cell_type": "code",
   "execution_count": 45,
   "metadata": {
    "ExecuteTime": {
     "end_time": "2017-09-21T14:38:09.480495Z",
     "start_time": "2017-09-21T14:38:09.474566Z"
    },
    "collapsed": true
   },
   "outputs": [],
   "source": [
    "df_browser_encoding[\"Browser\"] = df_browser_encoding[\"id\"]\n",
    "df_browser_encoding.drop(['id'], axis = 1, inplace = True)"
   ]
  },
  {
   "cell_type": "code",
   "execution_count": 46,
   "metadata": {
    "ExecuteTime": {
     "end_time": "2017-09-21T14:38:12.609291Z",
     "start_time": "2017-09-21T14:38:12.605834Z"
    },
    "collapsed": true
   },
   "outputs": [],
   "source": [
    "df_os_encoding.drop(['os'], axis = 1, inplace = True)"
   ]
  },
  {
   "cell_type": "code",
   "execution_count": 47,
   "metadata": {
    "ExecuteTime": {
     "end_time": "2017-09-21T14:38:13.497848Z",
     "start_time": "2017-09-21T14:38:13.494391Z"
    },
    "collapsed": true
   },
   "outputs": [],
   "source": [
    "df_browser_encoding.drop(['browser'], axis = 1, inplace = True)"
   ]
  },
  {
   "cell_type": "code",
   "execution_count": 48,
   "metadata": {
    "ExecuteTime": {
     "end_time": "2017-09-21T14:38:25.162825Z",
     "start_time": "2017-09-21T14:38:25.155780Z"
    }
   },
   "outputs": [
    {
     "data": {
      "text/plain": [
       "old_or_new     float64\n",
       "device_type    float64\n",
       "OS               int64\n",
       "dtype: object"
      ]
     },
     "execution_count": 48,
     "metadata": {},
     "output_type": "execute_result"
    },
    {
     "data": {
      "text/plain": [
       "browser_age        float64\n",
       "desktop_browser    float64\n",
       "Browser              int64\n",
       "dtype: object"
      ]
     },
     "execution_count": 48,
     "metadata": {},
     "output_type": "execute_result"
    }
   ],
   "source": [
    "df_os_encoding.dtypes\n",
    "df_browser_encoding.dtypes"
   ]
  },
  {
   "cell_type": "code",
   "execution_count": 49,
   "metadata": {
    "ExecuteTime": {
     "end_time": "2017-09-21T14:38:40.031402Z",
     "start_time": "2017-09-21T14:38:40.026458Z"
    },
    "collapsed": true
   },
   "outputs": [],
   "source": [
    "def add_os_data(df,df_os_encoding):\n",
    "    df=df.merge(df_os_encoding,on=\"OS\",how=\"left\")\n",
    "    return df\n",
    "\n",
    "def add_browser_data(df,df_browser_encoding):\n",
    "    df=df.merge(df_browser_encoding,on=\"Browser\",how=\"left\")\n",
    "    return df"
   ]
  },
  {
   "cell_type": "code",
   "execution_count": 50,
   "metadata": {
    "ExecuteTime": {
     "end_time": "2017-09-21T14:39:27.373594Z",
     "start_time": "2017-09-21T14:39:01.716302Z"
    }
   },
   "outputs": [
    {
     "data": {
      "text/plain": [
       "18981"
      ]
     },
     "execution_count": 50,
     "metadata": {},
     "output_type": "execute_result"
    },
    {
     "data": {
      "text/plain": [
       "94"
      ]
     },
     "execution_count": 50,
     "metadata": {},
     "output_type": "execute_result"
    }
   ],
   "source": [
    "df=add_os_data(df,df_os_encoding)\n",
    "df_conv_status=add_os_data(df_conv_status,df_os_encoding)\n",
    "gc.collect()\n",
    "df_fraud=add_os_data(df_fraud,df_os_encoding)\n",
    "df_test=add_os_data(df_test,df_os_encoding)\n",
    "\n",
    "gc.collect()\n"
   ]
  },
  {
   "cell_type": "code",
   "execution_count": 51,
   "metadata": {
    "ExecuteTime": {
     "end_time": "2017-09-21T14:39:27.397368Z",
     "start_time": "2017-09-21T14:39:27.374779Z"
    }
   },
   "outputs": [
    {
     "data": {
      "text/html": [
       "<div>\n",
       "<style>\n",
       "    .dataframe thead tr:only-child th {\n",
       "        text-align: right;\n",
       "    }\n",
       "\n",
       "    .dataframe thead th {\n",
       "        text-align: left;\n",
       "    }\n",
       "\n",
       "    .dataframe tbody tr th {\n",
       "        vertical-align: top;\n",
       "    }\n",
       "</style>\n",
       "<table border=\"1\" class=\"dataframe\">\n",
       "  <thead>\n",
       "    <tr style=\"text-align: right;\">\n",
       "      <th></th>\n",
       "      <th>ID</th>\n",
       "      <th>Carrier</th>\n",
       "      <th>TrafficType</th>\n",
       "      <th>Device</th>\n",
       "      <th>Browser</th>\n",
       "      <th>OS</th>\n",
       "      <th>RefererUrl</th>\n",
       "      <th>ConversionPayOut</th>\n",
       "      <th>publisherId</th>\n",
       "      <th>subPublisherId</th>\n",
       "      <th>...</th>\n",
       "      <th>city</th>\n",
       "      <th>region_code</th>\n",
       "      <th>postal_code</th>\n",
       "      <th>Country</th>\n",
       "      <th>sub_domain</th>\n",
       "      <th>url</th>\n",
       "      <th>offset_hours</th>\n",
       "      <th>offset</th>\n",
       "      <th>old_or_new</th>\n",
       "      <th>device_type</th>\n",
       "    </tr>\n",
       "  </thead>\n",
       "  <tbody>\n",
       "    <tr>\n",
       "      <th>0</th>\n",
       "      <td>1378</td>\n",
       "      <td>-1</td>\n",
       "      <td>1</td>\n",
       "      <td>388</td>\n",
       "      <td>1</td>\n",
       "      <td>1</td>\n",
       "      <td>2</td>\n",
       "      <td>4.55000</td>\n",
       "      <td>8620</td>\n",
       "      <td>0</td>\n",
       "      <td>...</td>\n",
       "      <td>51056</td>\n",
       "      <td>807</td>\n",
       "      <td>54143</td>\n",
       "      <td>19</td>\n",
       "      <td>1</td>\n",
       "      <td>2</td>\n",
       "      <td>-7</td>\n",
       "      <td>7.000000</td>\n",
       "      <td>1.0</td>\n",
       "      <td>1.0</td>\n",
       "    </tr>\n",
       "    <tr>\n",
       "      <th>1</th>\n",
       "      <td>1720</td>\n",
       "      <td>44</td>\n",
       "      <td>1</td>\n",
       "      <td>964</td>\n",
       "      <td>4</td>\n",
       "      <td>1</td>\n",
       "      <td>2</td>\n",
       "      <td>2.65265</td>\n",
       "      <td>3050</td>\n",
       "      <td>0</td>\n",
       "      <td>...</td>\n",
       "      <td>13013</td>\n",
       "      <td>260</td>\n",
       "      <td>2064</td>\n",
       "      <td>19</td>\n",
       "      <td>1</td>\n",
       "      <td>2</td>\n",
       "      <td>-7</td>\n",
       "      <td>7.000000</td>\n",
       "      <td>1.0</td>\n",
       "      <td>1.0</td>\n",
       "    </tr>\n",
       "    <tr>\n",
       "      <th>2</th>\n",
       "      <td>8623154</td>\n",
       "      <td>44</td>\n",
       "      <td>1</td>\n",
       "      <td>1054</td>\n",
       "      <td>4</td>\n",
       "      <td>1</td>\n",
       "      <td>2</td>\n",
       "      <td>9.77600</td>\n",
       "      <td>8642</td>\n",
       "      <td>0</td>\n",
       "      <td>...</td>\n",
       "      <td>13013</td>\n",
       "      <td>260</td>\n",
       "      <td>2064</td>\n",
       "      <td>19</td>\n",
       "      <td>1</td>\n",
       "      <td>2</td>\n",
       "      <td>2</td>\n",
       "      <td>7.000000</td>\n",
       "      <td>1.0</td>\n",
       "      <td>1.0</td>\n",
       "    </tr>\n",
       "    <tr>\n",
       "      <th>3</th>\n",
       "      <td>42700934</td>\n",
       "      <td>44</td>\n",
       "      <td>1</td>\n",
       "      <td>388</td>\n",
       "      <td>2</td>\n",
       "      <td>1</td>\n",
       "      <td>2</td>\n",
       "      <td>1.32600</td>\n",
       "      <td>8531</td>\n",
       "      <td>0</td>\n",
       "      <td>...</td>\n",
       "      <td>13013</td>\n",
       "      <td>260</td>\n",
       "      <td>2064</td>\n",
       "      <td>19</td>\n",
       "      <td>1</td>\n",
       "      <td>2</td>\n",
       "      <td>5</td>\n",
       "      <td>7.000000</td>\n",
       "      <td>1.0</td>\n",
       "      <td>1.0</td>\n",
       "    </tr>\n",
       "    <tr>\n",
       "      <th>4</th>\n",
       "      <td>3698</td>\n",
       "      <td>703</td>\n",
       "      <td>1</td>\n",
       "      <td>42</td>\n",
       "      <td>4</td>\n",
       "      <td>1</td>\n",
       "      <td>2</td>\n",
       "      <td>25.49300</td>\n",
       "      <td>3848</td>\n",
       "      <td>0</td>\n",
       "      <td>...</td>\n",
       "      <td>46440</td>\n",
       "      <td>727</td>\n",
       "      <td>14607</td>\n",
       "      <td>179</td>\n",
       "      <td>1</td>\n",
       "      <td>2</td>\n",
       "      <td>-8</td>\n",
       "      <td>7.740741</td>\n",
       "      <td>1.0</td>\n",
       "      <td>1.0</td>\n",
       "    </tr>\n",
       "  </tbody>\n",
       "</table>\n",
       "<p>5 rows × 28 columns</p>\n",
       "</div>"
      ],
      "text/plain": [
       "         ID  Carrier  TrafficType  Device  Browser  OS  RefererUrl  \\\n",
       "0      1378       -1            1     388        1   1           2   \n",
       "1      1720       44            1     964        4   1           2   \n",
       "2   8623154       44            1    1054        4   1           2   \n",
       "3  42700934       44            1     388        2   1           2   \n",
       "4      3698      703            1      42        4   1           2   \n",
       "\n",
       "   ConversionPayOut  publisherId  subPublisherId     ...        city  \\\n",
       "0           4.55000         8620               0     ...       51056   \n",
       "1           2.65265         3050               0     ...       13013   \n",
       "2           9.77600         8642               0     ...       13013   \n",
       "3           1.32600         8531               0     ...       13013   \n",
       "4          25.49300         3848               0     ...       46440   \n",
       "\n",
       "   region_code  postal_code  Country  sub_domain  url  offset_hours    offset  \\\n",
       "0          807        54143       19           1    2            -7  7.000000   \n",
       "1          260         2064       19           1    2            -7  7.000000   \n",
       "2          260         2064       19           1    2             2  7.000000   \n",
       "3          260         2064       19           1    2             5  7.000000   \n",
       "4          727        14607      179           1    2            -8  7.740741   \n",
       "\n",
       "   old_or_new  device_type  \n",
       "0         1.0          1.0  \n",
       "1         1.0          1.0  \n",
       "2         1.0          1.0  \n",
       "3         1.0          1.0  \n",
       "4         1.0          1.0  \n",
       "\n",
       "[5 rows x 28 columns]"
      ]
     },
     "execution_count": 51,
     "metadata": {},
     "output_type": "execute_result"
    }
   ],
   "source": [
    "df_conv_status.head()"
   ]
  },
  {
   "cell_type": "code",
   "execution_count": null,
   "metadata": {
    "collapsed": true
   },
   "outputs": [],
   "source": []
  },
  {
   "cell_type": "code",
   "execution_count": 52,
   "metadata": {
    "ExecuteTime": {
     "end_time": "2017-09-21T14:39:40.725395Z",
     "start_time": "2017-09-21T14:39:27.398472Z"
    }
   },
   "outputs": [
    {
     "data": {
      "text/plain": [
       "189"
      ]
     },
     "execution_count": 52,
     "metadata": {},
     "output_type": "execute_result"
    },
    {
     "data": {
      "text/plain": [
       "28"
      ]
     },
     "execution_count": 52,
     "metadata": {},
     "output_type": "execute_result"
    }
   ],
   "source": [
    "df=add_browser_data(df,df_browser_encoding)\n",
    "df_conv_status=add_browser_data(df_conv_status,df_browser_encoding)\n",
    "gc.collect()\n",
    "df_fraud=add_browser_data(df_fraud,df_browser_encoding)\n",
    "df_test=add_browser_data(df_test,df_browser_encoding)\n",
    "gc.collect()"
   ]
  },
  {
   "cell_type": "code",
   "execution_count": 53,
   "metadata": {
    "ExecuteTime": {
     "end_time": "2017-09-21T14:39:40.751195Z",
     "start_time": "2017-09-21T14:39:40.726553Z"
    }
   },
   "outputs": [
    {
     "data": {
      "text/html": [
       "<div>\n",
       "<style>\n",
       "    .dataframe thead tr:only-child th {\n",
       "        text-align: right;\n",
       "    }\n",
       "\n",
       "    .dataframe thead th {\n",
       "        text-align: left;\n",
       "    }\n",
       "\n",
       "    .dataframe tbody tr th {\n",
       "        vertical-align: top;\n",
       "    }\n",
       "</style>\n",
       "<table border=\"1\" class=\"dataframe\">\n",
       "  <thead>\n",
       "    <tr style=\"text-align: right;\">\n",
       "      <th></th>\n",
       "      <th>ID</th>\n",
       "      <th>Carrier</th>\n",
       "      <th>TrafficType</th>\n",
       "      <th>Device</th>\n",
       "      <th>Browser</th>\n",
       "      <th>OS</th>\n",
       "      <th>RefererUrl</th>\n",
       "      <th>ConversionPayOut</th>\n",
       "      <th>publisherId</th>\n",
       "      <th>subPublisherId</th>\n",
       "      <th>...</th>\n",
       "      <th>postal_code</th>\n",
       "      <th>Country</th>\n",
       "      <th>sub_domain</th>\n",
       "      <th>url</th>\n",
       "      <th>offset_hours</th>\n",
       "      <th>offset</th>\n",
       "      <th>old_or_new</th>\n",
       "      <th>device_type</th>\n",
       "      <th>browser_age</th>\n",
       "      <th>desktop_browser</th>\n",
       "    </tr>\n",
       "  </thead>\n",
       "  <tbody>\n",
       "    <tr>\n",
       "      <th>0</th>\n",
       "      <td>1378</td>\n",
       "      <td>-1</td>\n",
       "      <td>1</td>\n",
       "      <td>388</td>\n",
       "      <td>1</td>\n",
       "      <td>1</td>\n",
       "      <td>2</td>\n",
       "      <td>4.55000</td>\n",
       "      <td>8620</td>\n",
       "      <td>0</td>\n",
       "      <td>...</td>\n",
       "      <td>54143</td>\n",
       "      <td>19</td>\n",
       "      <td>1</td>\n",
       "      <td>2</td>\n",
       "      <td>-7</td>\n",
       "      <td>7.000000</td>\n",
       "      <td>1.0</td>\n",
       "      <td>1.0</td>\n",
       "      <td>2.0</td>\n",
       "      <td>0.0</td>\n",
       "    </tr>\n",
       "    <tr>\n",
       "      <th>1</th>\n",
       "      <td>1720</td>\n",
       "      <td>44</td>\n",
       "      <td>1</td>\n",
       "      <td>964</td>\n",
       "      <td>4</td>\n",
       "      <td>1</td>\n",
       "      <td>2</td>\n",
       "      <td>2.65265</td>\n",
       "      <td>3050</td>\n",
       "      <td>0</td>\n",
       "      <td>...</td>\n",
       "      <td>2064</td>\n",
       "      <td>19</td>\n",
       "      <td>1</td>\n",
       "      <td>2</td>\n",
       "      <td>-7</td>\n",
       "      <td>7.000000</td>\n",
       "      <td>1.0</td>\n",
       "      <td>1.0</td>\n",
       "      <td>3.0</td>\n",
       "      <td>2.0</td>\n",
       "    </tr>\n",
       "    <tr>\n",
       "      <th>2</th>\n",
       "      <td>8623154</td>\n",
       "      <td>44</td>\n",
       "      <td>1</td>\n",
       "      <td>1054</td>\n",
       "      <td>4</td>\n",
       "      <td>1</td>\n",
       "      <td>2</td>\n",
       "      <td>9.77600</td>\n",
       "      <td>8642</td>\n",
       "      <td>0</td>\n",
       "      <td>...</td>\n",
       "      <td>2064</td>\n",
       "      <td>19</td>\n",
       "      <td>1</td>\n",
       "      <td>2</td>\n",
       "      <td>2</td>\n",
       "      <td>7.000000</td>\n",
       "      <td>1.0</td>\n",
       "      <td>1.0</td>\n",
       "      <td>3.0</td>\n",
       "      <td>2.0</td>\n",
       "    </tr>\n",
       "    <tr>\n",
       "      <th>3</th>\n",
       "      <td>42700934</td>\n",
       "      <td>44</td>\n",
       "      <td>1</td>\n",
       "      <td>388</td>\n",
       "      <td>2</td>\n",
       "      <td>1</td>\n",
       "      <td>2</td>\n",
       "      <td>1.32600</td>\n",
       "      <td>8531</td>\n",
       "      <td>0</td>\n",
       "      <td>...</td>\n",
       "      <td>2064</td>\n",
       "      <td>19</td>\n",
       "      <td>1</td>\n",
       "      <td>2</td>\n",
       "      <td>5</td>\n",
       "      <td>7.000000</td>\n",
       "      <td>1.0</td>\n",
       "      <td>1.0</td>\n",
       "      <td>2.0</td>\n",
       "      <td>0.0</td>\n",
       "    </tr>\n",
       "    <tr>\n",
       "      <th>4</th>\n",
       "      <td>3698</td>\n",
       "      <td>703</td>\n",
       "      <td>1</td>\n",
       "      <td>42</td>\n",
       "      <td>4</td>\n",
       "      <td>1</td>\n",
       "      <td>2</td>\n",
       "      <td>25.49300</td>\n",
       "      <td>3848</td>\n",
       "      <td>0</td>\n",
       "      <td>...</td>\n",
       "      <td>14607</td>\n",
       "      <td>179</td>\n",
       "      <td>1</td>\n",
       "      <td>2</td>\n",
       "      <td>-8</td>\n",
       "      <td>7.740741</td>\n",
       "      <td>1.0</td>\n",
       "      <td>1.0</td>\n",
       "      <td>3.0</td>\n",
       "      <td>2.0</td>\n",
       "    </tr>\n",
       "  </tbody>\n",
       "</table>\n",
       "<p>5 rows × 30 columns</p>\n",
       "</div>"
      ],
      "text/plain": [
       "         ID  Carrier  TrafficType  Device  Browser  OS  RefererUrl  \\\n",
       "0      1378       -1            1     388        1   1           2   \n",
       "1      1720       44            1     964        4   1           2   \n",
       "2   8623154       44            1    1054        4   1           2   \n",
       "3  42700934       44            1     388        2   1           2   \n",
       "4      3698      703            1      42        4   1           2   \n",
       "\n",
       "   ConversionPayOut  publisherId  subPublisherId       ...         \\\n",
       "0           4.55000         8620               0       ...          \n",
       "1           2.65265         3050               0       ...          \n",
       "2           9.77600         8642               0       ...          \n",
       "3           1.32600         8531               0       ...          \n",
       "4          25.49300         3848               0       ...          \n",
       "\n",
       "   postal_code  Country  sub_domain  url  offset_hours    offset  old_or_new  \\\n",
       "0        54143       19           1    2            -7  7.000000         1.0   \n",
       "1         2064       19           1    2            -7  7.000000         1.0   \n",
       "2         2064       19           1    2             2  7.000000         1.0   \n",
       "3         2064       19           1    2             5  7.000000         1.0   \n",
       "4        14607      179           1    2            -8  7.740741         1.0   \n",
       "\n",
       "   device_type  browser_age  desktop_browser  \n",
       "0          1.0          2.0              0.0  \n",
       "1          1.0          3.0              2.0  \n",
       "2          1.0          3.0              2.0  \n",
       "3          1.0          2.0              0.0  \n",
       "4          1.0          3.0              2.0  \n",
       "\n",
       "[5 rows x 30 columns]"
      ]
     },
     "execution_count": 53,
     "metadata": {},
     "output_type": "execute_result"
    },
    {
     "data": {
      "text/plain": [
       "ID                        int64\n",
       "Carrier                   int64\n",
       "TrafficType               int64\n",
       "Device                    int64\n",
       "Browser                   int64\n",
       "OS                        int64\n",
       "RefererUrl                int64\n",
       "ConversionPayOut        float64\n",
       "publisherId               int64\n",
       "subPublisherId            int64\n",
       "advertiserCampaignId      int64\n",
       "Fraud                     int64\n",
       "conv_status               int64\n",
       "dayofweek                 int64\n",
       "hour                      int64\n",
       "dayofyear                 int64\n",
       "network                   int64\n",
       "subnet                    int64\n",
       "city                      int64\n",
       "region_code               int64\n",
       "postal_code               int64\n",
       "Country                  object\n",
       "sub_domain                int64\n",
       "url                       int64\n",
       "offset_hours              int64\n",
       "offset                  float64\n",
       "old_or_new              float64\n",
       "device_type             float64\n",
       "browser_age             float64\n",
       "desktop_browser         float64\n",
       "dtype: object"
      ]
     },
     "execution_count": 53,
     "metadata": {},
     "output_type": "execute_result"
    }
   ],
   "source": [
    "df_conv_status.head()\n",
    "df_conv_status.dtypes"
   ]
  },
  {
   "cell_type": "code",
   "execution_count": 54,
   "metadata": {
    "ExecuteTime": {
     "end_time": "2017-09-21T14:44:00.663242Z",
     "start_time": "2017-09-21T14:43:58.760955Z"
    },
    "collapsed": true
   },
   "outputs": [],
   "source": [
    "df_conv_status[\"old_or_new\"].fillna(-997,inplace=True)\n",
    "df_conv_status[\"old_or_new\"] = df_conv_status[\"old_or_new\"].astype(int)\n",
    "\n",
    "df[\"old_or_new\"].fillna(-997,inplace=True)\n",
    "df[\"old_or_new\"] = df[\"old_or_new\"].astype(int)\n",
    "\n",
    "df_fraud[\"old_or_new\"].fillna(-997,inplace=True)\n",
    "df_fraud[\"old_or_new\"] = df_fraud[\"old_or_new\"].astype(int)\n",
    "\n",
    "df_test[\"old_or_new\"].fillna(-997,inplace=True)\n",
    "df_test[\"old_or_new\"] = df_test[\"old_or_new\"].astype(int)\n",
    "\n",
    "\n",
    "df_conv_status[\"device_type\"].fillna(-997,inplace=True)\n",
    "df_conv_status[\"device_type\"] = df_conv_status[\"device_type\"].astype(int)\n",
    "\n",
    "df[\"device_type\"].fillna(-997,inplace=True)\n",
    "df[\"device_type\"] = df[\"device_type\"].astype(int)\n",
    "\n",
    "df_fraud[\"device_type\"].fillna(-997,inplace=True)\n",
    "df_fraud[\"device_type\"] = df_fraud[\"device_type\"].astype(int)\n",
    "\n",
    "df_test[\"device_type\"].fillna(-997,inplace=True)\n",
    "df_test[\"device_type\"] = df_test[\"device_type\"].astype(int)\n",
    "\n",
    "\n",
    "# \n",
    "df_conv_status[\"browser_age\"].fillna(-997,inplace=True)\n",
    "df_conv_status[\"browser_age\"] = df_conv_status[\"browser_age\"].astype(int)\n",
    "\n",
    "df[\"browser_age\"].fillna(-997,inplace=True)\n",
    "df[\"browser_age\"] = df[\"browser_age\"].astype(int)\n",
    "\n",
    "df_fraud[\"browser_age\"].fillna(-997,inplace=True)\n",
    "df_fraud[\"browser_age\"] = df_fraud[\"browser_age\"].astype(int)\n",
    "\n",
    "df_test[\"browser_age\"].fillna(-997,inplace=True)\n",
    "df_test[\"browser_age\"] = df_test[\"browser_age\"].astype(int)\n",
    "\n",
    "df_conv_status[\"desktop_browser\"].fillna(-997,inplace=True)\n",
    "df_conv_status[\"desktop_browser\"] = df_conv_status[\"desktop_browser\"].astype(int)\n",
    "\n",
    "df[\"desktop_browser\"].fillna(-997,inplace=True)\n",
    "df[\"desktop_browser\"] = df[\"desktop_browser\"].astype(int)\n",
    "\n",
    "df_fraud[\"desktop_browser\"].fillna(-997,inplace=True)\n",
    "df_fraud[\"desktop_browser\"] = df_fraud[\"desktop_browser\"].astype(int)\n",
    "\n",
    "df_test[\"desktop_browser\"].fillna(-997,inplace=True)\n",
    "df_test[\"desktop_browser\"] = df_test[\"desktop_browser\"].astype(int)\n"
   ]
  },
  {
   "cell_type": "code",
   "execution_count": 56,
   "metadata": {
    "ExecuteTime": {
     "end_time": "2017-09-21T14:45:36.665802Z",
     "start_time": "2017-09-21T14:45:31.894623Z"
    },
    "collapsed": true
   },
   "outputs": [],
   "source": [
    "df_test[\"Country\"] = df_test[\"Country\"].astype(int)\n",
    "df_fraud[\"Country\"] = df_fraud[\"Country\"].astype(int)\n",
    "df[\"Country\"] = df[\"Country\"].astype(int)\n",
    "df_conv_status[\"Country\"] = df_conv_status[\"Country\"].astype(int)"
   ]
  },
  {
   "cell_type": "code",
   "execution_count": 57,
   "metadata": {
    "ExecuteTime": {
     "end_time": "2017-09-21T14:45:39.085739Z",
     "start_time": "2017-09-21T14:45:39.076339Z"
    }
   },
   "outputs": [
    {
     "data": {
      "text/plain": [
       "ID                        int64\n",
       "Carrier                   int64\n",
       "TrafficType               int64\n",
       "Device                    int64\n",
       "Browser                   int64\n",
       "OS                        int64\n",
       "RefererUrl                int64\n",
       "ConversionPayOut        float64\n",
       "publisherId               int64\n",
       "subPublisherId            int64\n",
       "advertiserCampaignId      int64\n",
       "Fraud                     int64\n",
       "conv_status               int64\n",
       "dayofweek                 int64\n",
       "hour                      int64\n",
       "dayofyear                 int64\n",
       "network                   int64\n",
       "subnet                    int64\n",
       "city                      int64\n",
       "region_code               int64\n",
       "postal_code               int64\n",
       "Country                   int64\n",
       "sub_domain                int64\n",
       "url                       int64\n",
       "offset_hours              int64\n",
       "offset                  float64\n",
       "old_or_new                int64\n",
       "device_type               int64\n",
       "browser_age               int64\n",
       "desktop_browser           int64\n",
       "dtype: object"
      ]
     },
     "execution_count": 57,
     "metadata": {},
     "output_type": "execute_result"
    },
    {
     "data": {
      "text/plain": [
       "ID                        int64\n",
       "Carrier                   int64\n",
       "TrafficType               int64\n",
       "Device                    int64\n",
       "Browser                   int64\n",
       "OS                        int64\n",
       "RefererUrl                int64\n",
       "ConversionPayOut        float64\n",
       "publisherId               int64\n",
       "subPublisherId            int64\n",
       "advertiserCampaignId      int64\n",
       "Fraud                     int64\n",
       "conv_status               int64\n",
       "dayofweek                 int64\n",
       "hour                      int64\n",
       "dayofyear                 int64\n",
       "network                   int64\n",
       "subnet                    int64\n",
       "city                      int64\n",
       "region_code               int64\n",
       "postal_code               int64\n",
       "Country                   int64\n",
       "sub_domain                int64\n",
       "url                       int64\n",
       "offset_hours              int64\n",
       "offset                  float64\n",
       "old_or_new                int64\n",
       "device_type               int64\n",
       "browser_age               int64\n",
       "desktop_browser           int64\n",
       "dtype: object"
      ]
     },
     "execution_count": 57,
     "metadata": {},
     "output_type": "execute_result"
    }
   ],
   "source": [
    "df.dtypes\n",
    "df_conv_status.dtypes"
   ]
  },
  {
   "cell_type": "code",
   "execution_count": 58,
   "metadata": {
    "ExecuteTime": {
     "end_time": "2017-09-21T15:02:20.680649Z",
     "start_time": "2017-09-21T14:45:57.079882Z"
    },
    "collapsed": true
   },
   "outputs": [],
   "source": [
    "df.to_csv(\"train_8.csv\",index=False)\n",
    "df_conv_status.to_csv(\"train-true_8.csv\",index=False)\n",
    "df_fraud.to_csv(\"train-fraud_8.csv\",index=False)\n",
    "df_test.to_csv(\"test_8.csv\",index=False)"
   ]
  }
 ],
 "metadata": {
  "hide_input": false,
  "kernelspec": {
   "display_name": "Python 3",
   "language": "python",
   "name": "python3"
  },
  "language_info": {
   "codemirror_mode": {
    "name": "ipython",
    "version": 3
   },
   "file_extension": ".py",
   "mimetype": "text/x-python",
   "name": "python",
   "nbconvert_exporter": "python",
   "pygments_lexer": "ipython3",
   "version": "3.6.1"
  },
  "toc": {
   "nav_menu": {
    "height": "66px",
    "width": "252px"
   },
   "number_sections": true,
   "sideBar": true,
   "skip_h1_title": false,
   "toc_cell": false,
   "toc_position": {},
   "toc_section_display": "block",
   "toc_window_display": false
  },
  "varInspector": {
   "cols": {
    "lenName": 16,
    "lenType": 16,
    "lenVar": 40
   },
   "kernels_config": {
    "python": {
     "delete_cmd_postfix": "",
     "delete_cmd_prefix": "del ",
     "library": "var_list.py",
     "varRefreshCmd": "print(var_dic_list())"
    },
    "r": {
     "delete_cmd_postfix": ") ",
     "delete_cmd_prefix": "rm(",
     "library": "var_list.r",
     "varRefreshCmd": "cat(var_dic_list()) "
    }
   },
   "types_to_exclude": [
    "module",
    "function",
    "builtin_function_or_method",
    "instance",
    "_Feature"
   ],
   "window_display": false
  }
 },
 "nbformat": 4,
 "nbformat_minor": 2
}
