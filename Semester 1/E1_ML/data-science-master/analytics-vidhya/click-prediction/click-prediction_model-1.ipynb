{
 "cells": [
  {
   "cell_type": "markdown",
   "metadata": {
    "ExecuteTime": {
     "end_time": "2017-09-19T07:31:14.461228Z",
     "start_time": "2017-09-19T07:31:14.455994Z"
    }
   },
   "source": [
    "### Model Strategy\n",
    "- Model - 1\n",
    "    - Upsample true n fraud sets to 3x and XGB Regressor it\n",
    "    - For all payouts < 0 , make payout = 0\n",
    "- Model - 2\n",
    "    - Ensemble \n",
    "    - 0/1 prediction by using the upscaled true + train set\n",
    "    - For 1 Predictions Output payout as mean payout\n",
    "- Model - 3\n",
    "    - Ensemble\n",
    "    - 0/1 predictor from M2\n",
    "    - For 1 Predictions train Regressor with true data\n",
    "- Model - 3 variant\n",
    "    - Cap final output in 0-100\n",
    "- Look at KNN and SVM for alternate modelling"
   ]
  },
  {
   "cell_type": "code",
   "execution_count": 1,
   "metadata": {
    "ExecuteTime": {
     "end_time": "2017-10-06T15:25:12.888656Z",
     "start_time": "2017-10-06T15:25:11.994826Z"
    }
   },
   "outputs": [],
   "source": [
    "import numpy as np # linear algebra\n",
    "import pandas as pd # data processing, CSV file I/O (e.g. pd.read_csv)\n",
    "import matplotlib as mplt\n",
    "import matplotlib.pyplot as plt\n",
    "from sklearn.model_selection import train_test_split\n",
    "from sklearn.metrics import mean_squared_error\n",
    "from IPython.core.interactiveshell import InteractiveShell\n",
    "from sklearn.ensemble import RandomForestRegressor\n",
    "from sklearn.metrics import explained_variance_score\n",
    "from sklearn.preprocessing import LabelEncoder\n",
    "from sklearn.metrics import confusion_matrix\n",
    "from sklearn.model_selection import GridSearchCV\n",
    "%matplotlib inline\n",
    "import seaborn as sns\n",
    "import math\n",
    "import gc\n",
    "import ipaddress\n",
    "from urllib.parse import urlparse\n",
    "from tldextract import extract\n",
    "from sklearn.metrics import confusion_matrix\n",
    "\n",
    "import sys\n",
    "from pathlib import Path\n",
    "d = Path().resolve().parent.parent\n",
    "sys.path.insert(0, str(d))\n",
    "import util.utils as utils\n",
    "import util.plot_utils as plot_utils\n",
    "\n",
    "from xgboost import XGBClassifier\n",
    "from sklearn.model_selection import train_test_split\n",
    "from sklearn.metrics import accuracy_score\n",
    "import lightgbm as lgb\n",
    "\n",
    "\n",
    "\n",
    "plt.rcParams[\"figure.figsize\"] = (12,4)\n",
    "\n",
    "from xgboost import XGBClassifier\n",
    "import xgboost as xgb\n",
    "from sklearn.metrics import accuracy_score\n",
    "\n",
    "\n",
    "InteractiveShell.ast_node_interactivity = \"all\"\n",
    "np.set_printoptions(precision=2)"
   ]
  },
  {
   "cell_type": "code",
   "execution_count": 2,
   "metadata": {
    "ExecuteTime": {
     "end_time": "2017-10-06T15:25:13.171853Z",
     "start_time": "2017-10-06T15:25:13.169018Z"
    }
   },
   "outputs": [],
   "source": [
    "project_name=\"click-prediction\""
   ]
  },
  {
   "cell_type": "code",
   "execution_count": null,
   "metadata": {},
   "outputs": [],
   "source": []
  },
  {
   "cell_type": "code",
   "execution_count": 3,
   "metadata": {
    "ExecuteTime": {
     "end_time": "2017-10-06T15:25:40.122742Z",
     "start_time": "2017-10-06T15:25:29.233267Z"
    }
   },
   "outputs": [
    {
     "data": {
      "text/plain": [
       "2347"
      ]
     },
     "execution_count": 3,
     "metadata": {},
     "output_type": "execute_result"
    },
    {
     "data": {
      "text/plain": [
       "0"
      ]
     },
     "execution_count": 3,
     "metadata": {},
     "output_type": "execute_result"
    }
   ],
   "source": [
    "df_conv_status = pd.read_csv(\"../data/%s/%s\" % (project_name,\"train-true_8.csv\"))\n",
    "df_fraud= pd.read_csv(\"../data/%s/%s\" % (project_name,\"train-fraud_8.csv\"))\n",
    "df = pd.read_hdf(\"part-1-train.h5\",\"table\")\n",
    "\n",
    "# df = df.sample(frac=1).reset_index(drop=True)\n",
    "gc.collect()\n",
    "df_test= pd.read_hdf(\"test_8.h5\",\"table\")\n",
    "gc.collect()"
   ]
  },
  {
   "cell_type": "code",
   "execution_count": 4,
   "metadata": {
    "ExecuteTime": {
     "end_time": "2017-10-06T15:25:40.379252Z",
     "start_time": "2017-10-06T15:25:40.124155Z"
    }
   },
   "outputs": [],
   "source": [
    "\n",
    "df_frame = df\n",
    "df_validation = pd.read_hdf(\"part-7-train.h5\",\"table\")"
   ]
  },
  {
   "cell_type": "markdown",
   "metadata": {},
   "source": [
    "### Marking Nans and unknown values for XGB"
   ]
  },
  {
   "cell_type": "code",
   "execution_count": 5,
   "metadata": {
    "ExecuteTime": {
     "end_time": "2017-10-06T15:25:40.383297Z",
     "start_time": "2017-10-06T15:25:40.380942Z"
    }
   },
   "outputs": [],
   "source": [
    "nan_rep = np.nan"
   ]
  },
  {
   "cell_type": "code",
   "execution_count": 6,
   "metadata": {
    "ExecuteTime": {
     "end_time": "2017-10-06T15:25:56.479742Z",
     "start_time": "2017-10-06T15:25:40.384691Z"
    }
   },
   "outputs": [],
   "source": [
    "df_frame.loc[df_frame[\"Browser\"]==0,\"Browser\"] = nan_rep \n",
    "df_conv_status.loc[df_conv_status[\"Browser\"]==0,\"Browser\"] = nan_rep\n",
    "df_fraud.loc[df_fraud[\"Browser\"]==0,\"Browser\"] = nan_rep\n",
    "df_test.loc[df_test[\"Browser\"]==0,\"Browser\"] = nan_rep\n",
    "df_validation.loc[df_validation[\"Browser\"]==0,\"Browser\"] = nan_rep\n"
   ]
  },
  {
   "cell_type": "code",
   "execution_count": 7,
   "metadata": {
    "ExecuteTime": {
     "end_time": "2017-10-06T15:26:01.409507Z",
     "start_time": "2017-10-06T15:25:56.481435Z"
    }
   },
   "outputs": [],
   "source": [
    "df_frame.loc[df_frame[\"Country\"].isin([0,1]),\"Country\"] = nan_rep\n",
    "df_conv_status.loc[df_conv_status[\"Country\"].isin([0,1]),\"Country\"] = nan_rep\n",
    "df_fraud.loc[df_fraud[\"Country\"].isin([0,1]),\"Country\"] = nan_rep\n",
    "df_test.loc[df_test[\"Country\"].isin([0,1]),\"Country\"] = nan_rep\n",
    "df_validation.loc[df_validation[\"Country\"].isin([0,1]),\"Country\"] = nan_rep"
   ]
  },
  {
   "cell_type": "code",
   "execution_count": 8,
   "metadata": {
    "ExecuteTime": {
     "end_time": "2017-10-06T15:26:06.369178Z",
     "start_time": "2017-10-06T15:26:01.411232Z"
    }
   },
   "outputs": [],
   "source": [
    "df_frame.loc[df_frame[\"Device\"]==0,\"Device\"] = nan_rep\n",
    "df_conv_status.loc[df_conv_status[\"Device\"]==0,\"Device\"] = nan_rep\n",
    "df_fraud.loc[df_fraud[\"Device\"]==0,\"Device\"] = nan_rep\n",
    "df_test.loc[df_test[\"Device\"]==0,\"Device\"] = nan_rep\n",
    "df_validation.loc[df_validation[\"Device\"]==0,\"Device\"] = nan_rep"
   ]
  },
  {
   "cell_type": "code",
   "execution_count": 9,
   "metadata": {
    "ExecuteTime": {
     "end_time": "2017-10-06T15:26:11.442396Z",
     "start_time": "2017-10-06T15:26:06.370879Z"
    }
   },
   "outputs": [],
   "source": [
    "df_frame.loc[df_frame[\"publisherId\"]==0,\"publisherId\"] = nan_rep\n",
    "df_conv_status.loc[df_conv_status[\"publisherId\"]==0,\"publisherId\"] = nan_rep\n",
    "df_fraud.loc[df_fraud[\"publisherId\"]==0,\"publisherId\"] = nan_rep\n",
    "df_test.loc[df_test[\"publisherId\"]==0,\"publisherId\"] = nan_rep\n",
    "df_validation.loc[df_validation[\"publisherId\"]==0,\"publisherId\"] = nan_rep"
   ]
  },
  {
   "cell_type": "code",
   "execution_count": 10,
   "metadata": {
    "ExecuteTime": {
     "end_time": "2017-10-06T15:26:16.920487Z",
     "start_time": "2017-10-06T15:26:11.444088Z"
    }
   },
   "outputs": [],
   "source": [
    "df_frame.loc[df_frame[\"RefererUrl\"].isin([0,1,2]),\"RefererUrl\"] = nan_rep\n",
    "df_conv_status.loc[df_conv_status[\"RefererUrl\"].isin([0,1,2]),\"RefererUrl\"] = nan_rep\n",
    "df_fraud.loc[df_fraud[\"RefererUrl\"].isin([0,1,2]),\"RefererUrl\"] = nan_rep\n",
    "df_test.loc[df_test[\"RefererUrl\"].isin([0,1,2]),\"RefererUrl\"] = nan_rep\n",
    "df_validation.loc[df_validation[\"RefererUrl\"].isin([0,1,2]),\"RefererUrl\"] = nan_rep"
   ]
  },
  {
   "cell_type": "code",
   "execution_count": 11,
   "metadata": {
    "ExecuteTime": {
     "end_time": "2017-10-06T15:26:22.626894Z",
     "start_time": "2017-10-06T15:26:16.922148Z"
    }
   },
   "outputs": [],
   "source": [
    "df_frame.loc[df_frame[\"sub_domain\"].isin([0,1]),\"sub_domain\"] = nan_rep\n",
    "df_conv_status.loc[df_conv_status[\"sub_domain\"].isin([0,1]),\"sub_domain\"] = nan_rep\n",
    "df_fraud.loc[df_fraud[\"sub_domain\"].isin([0,1]),\"sub_domain\"] = nan_rep\n",
    "df_test.loc[df_test[\"sub_domain\"].isin([0,1]),\"sub_domain\"] = nan_rep\n",
    "df_validation.loc[df_validation[\"sub_domain\"].isin([0,1]),\"sub_domain\"] = nan_rep"
   ]
  },
  {
   "cell_type": "code",
   "execution_count": 12,
   "metadata": {
    "ExecuteTime": {
     "end_time": "2017-10-06T15:26:28.558246Z",
     "start_time": "2017-10-06T15:26:22.628589Z"
    }
   },
   "outputs": [],
   "source": [
    "df_frame.loc[df_frame[\"url\"].isin([0,1,2]),\"url\"] = nan_rep\n",
    "df_conv_status.loc[df_conv_status[\"url\"].isin([0,1,2]),\"url\"] = nan_rep\n",
    "df_fraud.loc[df_fraud[\"url\"].isin([0,1,2]),\"url\"] = nan_rep\n",
    "df_test.loc[df_test[\"url\"].isin([0,1,2]),\"url\"] = nan_rep\n",
    "df_validation.loc[df_validation[\"url\"].isin([0,1,2]),\"url\"] = nan_rep"
   ]
  },
  {
   "cell_type": "code",
   "execution_count": 13,
   "metadata": {
    "ExecuteTime": {
     "end_time": "2017-10-06T15:26:34.284534Z",
     "start_time": "2017-10-06T15:26:28.559857Z"
    }
   },
   "outputs": [],
   "source": [
    "df_frame.loc[df_frame[\"city\"]==807,\"city\"] = nan_rep\n",
    "df_conv_status.loc[df_conv_status[\"city\"]==807,\"city\"] = nan_rep\n",
    "df_fraud.loc[df_fraud[\"city\"]==807,\"city\"] = nan_rep\n",
    "df_test.loc[df_test[\"city\"]==807,\"city\"] = nan_rep\n",
    "df_validation.loc[df_validation[\"city\"]==807,\"city\"] = nan_rep"
   ]
  },
  {
   "cell_type": "code",
   "execution_count": 14,
   "metadata": {
    "ExecuteTime": {
     "end_time": "2017-10-06T15:26:40.208618Z",
     "start_time": "2017-10-06T15:26:34.286258Z"
    }
   },
   "outputs": [],
   "source": [
    "df_frame.loc[df_frame[\"postal_code\"]==54143,\"postal_code\"] = nan_rep\n",
    "df_conv_status.loc[df_conv_status[\"postal_code\"]==54143,\"postal_code\"] = nan_rep\n",
    "df_fraud.loc[df_fraud[\"postal_code\"]==54143,\"postal_code\"] = nan_rep\n",
    "df_test.loc[df_test[\"postal_code\"]==54143,\"postal_code\"] = nan_rep\n",
    "df_validation.loc[df_validation[\"postal_code\"]==54143,\"postal_code\"] = nan_rep"
   ]
  },
  {
   "cell_type": "code",
   "execution_count": 15,
   "metadata": {
    "ExecuteTime": {
     "end_time": "2017-10-06T15:26:46.243058Z",
     "start_time": "2017-10-06T15:26:40.210207Z"
    }
   },
   "outputs": [],
   "source": [
    "df_frame.loc[df_frame[\"region_code\"]==807,\"region_code\"] = nan_rep\n",
    "df_conv_status.loc[df_conv_status[\"region_code\"]==807,\"region_code\"] = nan_rep\n",
    "df_fraud.loc[df_fraud[\"region_code\"]==807,\"region_code\"] = nan_rep\n",
    "df_test.loc[df_test[\"region_code\"]==807,\"region_code\"] = nan_rep\n",
    "df_validation.loc[df_validation[\"region_code\"]==807,\"region_code\"] = nan_rep"
   ]
  },
  {
   "cell_type": "code",
   "execution_count": 16,
   "metadata": {
    "ExecuteTime": {
     "end_time": "2017-10-06T15:26:52.356148Z",
     "start_time": "2017-10-06T15:26:46.244611Z"
    }
   },
   "outputs": [],
   "source": [
    "df_frame.loc[df_frame[\"TrafficType\"]==0,\"TrafficType\"] = nan_rep\n",
    "df_conv_status.loc[df_conv_status[\"TrafficType\"]==0,\"TrafficType\"] = nan_rep\n",
    "df_fraud.loc[df_fraud[\"TrafficType\"]==0,\"TrafficType\"] = nan_rep\n",
    "df_test.loc[df_test[\"TrafficType\"]==0,\"TrafficType\"] = nan_rep\n",
    "df_validation.loc[df_validation[\"TrafficType\"]==0,\"TrafficType\"] = nan_rep"
   ]
  },
  {
   "cell_type": "code",
   "execution_count": 17,
   "metadata": {
    "ExecuteTime": {
     "end_time": "2017-10-06T15:26:58.710017Z",
     "start_time": "2017-10-06T15:26:52.357731Z"
    }
   },
   "outputs": [],
   "source": [
    "df_frame.loc[df_frame[\"subPublisherId\"]==0,\"subPublisherId\"] = nan_rep\n",
    "df_conv_status.loc[df_conv_status[\"subPublisherId\"]==0,\"subPublisherId\"] = nan_rep\n",
    "df_fraud.loc[df_fraud[\"subPublisherId\"]==0,\"subPublisherId\"] = nan_rep\n",
    "df_test.loc[df_test[\"subPublisherId\"]==0,\"subPublisherId\"] = nan_rep\n",
    "df_validation.loc[df_validation[\"subPublisherId\"]==0,\"subPublisherId\"] = nan_rep"
   ]
  },
  {
   "cell_type": "code",
   "execution_count": 18,
   "metadata": {
    "ExecuteTime": {
     "end_time": "2017-10-06T15:27:05.127453Z",
     "start_time": "2017-10-06T15:26:58.711927Z"
    }
   },
   "outputs": [],
   "source": [
    "df_frame.loc[df_frame[\"OS\"]==0,\"OS\"] = nan_rep\n",
    "df_conv_status.loc[df_conv_status[\"OS\"]==0,\"OS\"] = nan_rep\n",
    "df_fraud.loc[df_fraud[\"OS\"]==0,\"OS\"] = nan_rep\n",
    "df_test.loc[df_test[\"OS\"]==0,\"OS\"] = nan_rep\n",
    "df_validation.loc[df_validation[\"OS\"]==0,\"OS\"] = nan_rep"
   ]
  },
  {
   "cell_type": "code",
   "execution_count": 19,
   "metadata": {
    "ExecuteTime": {
     "end_time": "2017-10-06T15:27:11.558654Z",
     "start_time": "2017-10-06T15:27:05.129119Z"
    }
   },
   "outputs": [],
   "source": [
    "df_frame.loc[df_frame[\"old_or_new\"]==0,\"old_or_new\"] = nan_rep\n",
    "df_conv_status.loc[df_conv_status[\"old_or_new\"]==0,\"old_or_new\"] = nan_rep\n",
    "df_fraud.loc[df_fraud[\"old_or_new\"]==0,\"old_or_new\"] = nan_rep\n",
    "df_test.loc[df_test[\"old_or_new\"]==0,\"old_or_new\"] = nan_rep\n",
    "df_validation.loc[df_validation[\"old_or_new\"]==0,\"old_or_new\"] = nan_rep"
   ]
  },
  {
   "cell_type": "code",
   "execution_count": 20,
   "metadata": {
    "ExecuteTime": {
     "end_time": "2017-10-06T15:27:18.329547Z",
     "start_time": "2017-10-06T15:27:11.560242Z"
    }
   },
   "outputs": [],
   "source": [
    "df_frame.loc[df_frame[\"device_type\"]==0,\"device_type\"] = nan_rep\n",
    "df_conv_status.loc[df_conv_status[\"device_type\"]==0,\"device_type\"] = nan_rep\n",
    "df_fraud.loc[df_fraud[\"device_type\"]==0,\"device_type\"] = nan_rep\n",
    "df_test.loc[df_test[\"device_type\"]==0,\"device_type\"] = nan_rep\n",
    "df_validation.loc[df_validation[\"device_type\"]==0,\"device_type\"] = nan_rep"
   ]
  },
  {
   "cell_type": "code",
   "execution_count": 21,
   "metadata": {
    "ExecuteTime": {
     "end_time": "2017-10-06T15:27:25.108319Z",
     "start_time": "2017-10-06T15:27:18.331182Z"
    }
   },
   "outputs": [],
   "source": [
    "df_frame.loc[df_frame[\"browser_age\"]==0,\"browser_age\"] = nan_rep\n",
    "df_conv_status.loc[df_conv_status[\"browser_age\"]==0,\"browser_age\"] = nan_rep\n",
    "df_fraud.loc[df_fraud[\"browser_age\"]==0,\"browser_age\"] = nan_rep\n",
    "df_test.loc[df_test[\"browser_age\"]==0,\"browser_age\"] = nan_rep\n",
    "df_validation.loc[df_validation[\"browser_age\"]==0,\"browser_age\"] = nan_rep"
   ]
  },
  {
   "cell_type": "code",
   "execution_count": 22,
   "metadata": {
    "ExecuteTime": {
     "end_time": "2017-10-06T15:27:32.241748Z",
     "start_time": "2017-10-06T15:27:25.109905Z"
    }
   },
   "outputs": [],
   "source": [
    "df_frame.loc[df_frame[\"desktop_browser\"]==0,\"desktop_browser\"] = nan_rep\n",
    "df_conv_status.loc[df_conv_status[\"desktop_browser\"]==0,\"desktop_browser\"] = nan_rep\n",
    "df_fraud.loc[df_fraud[\"desktop_browser\"]==0,\"desktop_browser\"] = nan_rep\n",
    "df_test.loc[df_test[\"desktop_browser\"]==0,\"desktop_browser\"] = nan_rep\n",
    "df_validation.loc[df_validation[\"desktop_browser\"]==0,\"desktop_browser\"] = nan_rep"
   ]
  },
  {
   "cell_type": "markdown",
   "metadata": {},
   "source": [
    "### Features"
   ]
  },
  {
   "cell_type": "code",
   "execution_count": 23,
   "metadata": {
    "ExecuteTime": {
     "end_time": "2017-10-06T15:27:32.256545Z",
     "start_time": "2017-10-06T15:27:32.243329Z"
    }
   },
   "outputs": [],
   "source": [
    "output_column=[\"ConversionPayOut\"]\n",
    "categorical_output_column = [\"conv_status\"]\n",
    "\n",
    "standard_features=[\"Carrier\",\"TrafficType\",\"Device\",\"Browser\",\n",
    "          \"OS\",\"publisherId\",\"subPublisherId\",\n",
    "          \"advertiserCampaignId\",\"Fraud\",\"Country\"]\n",
    "\n",
    "time_features = [\"dayofweek\",\"dayofyear\",\"offset_hours\",\"hour\"]\n",
    "\n",
    "\n",
    "ip_features = [\"network\",\"subnet\",\"city\",\"region_code\",\"postal_code\"]\n",
    "\n",
    "url_features=[\"url\",\"sub_domain\",\"RefererUrl\"]\n",
    "\n",
    "browser_os_features = [\"device_type\",\"old_or_new\",\"browser_age\",\"desktop_browser\"]\n",
    "\n",
    "unused_features = []\n",
    "\n",
    "features = standard_features+time_features+ip_features+url_features+browser_os_features\n",
    "# +time_features+ip_features+url_features+browser_os_features"
   ]
  },
  {
   "cell_type": "code",
   "execution_count": 24,
   "metadata": {
    "ExecuteTime": {
     "end_time": "2017-10-06T15:27:33.674679Z",
     "start_time": "2017-10-06T15:27:32.257865Z"
    }
   },
   "outputs": [],
   "source": [
    "\n",
    "\n",
    "df_conv_status[output_column]=df_conv_status[output_column].fillna(1)\n",
    "df_fraud[output_column]=df_fraud[output_column].fillna(0)\n",
    "df[output_column]=df[output_column].fillna(0)\n",
    "# df_conv_status=df_conv_status[df_conv_status[\"ConversionPayOut\"]<100]\n",
    "df_validation[categorical_output_column] = df_validation[categorical_output_column].fillna(0)"
   ]
  },
  {
   "cell_type": "markdown",
   "metadata": {},
   "source": [
    "### KMeans Clustering removal of conv_status outliers"
   ]
  },
  {
   "cell_type": "code",
   "execution_count": 29,
   "metadata": {
    "ExecuteTime": {
     "end_time": "2017-10-06T15:28:10.389350Z",
     "start_time": "2017-10-06T15:28:04.916134Z"
    }
   },
   "outputs": [
    {
     "data": {
      "text/plain": [
       "6"
      ]
     },
     "execution_count": 29,
     "metadata": {},
     "output_type": "execute_result"
    },
    {
     "data": {
      "text/plain": [
       "(34513, 30)"
      ]
     },
     "execution_count": 29,
     "metadata": {},
     "output_type": "execute_result"
    }
   ],
   "source": [
    "gc.collect()\n",
    "from sklearn.cluster import KMeans\n",
    "df_k=df.sample(frac=0.4).dropna(thresh=20).fillna(0)\n",
    "df_c=df_conv_status.dropna(thresh=22).fillna(0)\n",
    "df_ck=pd.concat([df_c,df_k],ignore_index=True)\n",
    "X_k = df_ck[features].values\n",
    "y_k = df_ck[categorical_output_column].values\n",
    "df_c.shape"
   ]
  },
  {
   "cell_type": "code",
   "execution_count": 30,
   "metadata": {
    "ExecuteTime": {
     "end_time": "2017-10-06T15:28:46.829804Z",
     "start_time": "2017-10-06T15:28:10.390862Z"
    }
   },
   "outputs": [],
   "source": [
    "# n_clusters=6\n",
    "kmeans = KMeans(n_clusters=18, random_state=39,n_init=15,max_iter=750,n_jobs=-1).fit(X_k)"
   ]
  },
  {
   "cell_type": "code",
   "execution_count": 31,
   "metadata": {
    "ExecuteTime": {
     "end_time": "2017-10-06T15:28:48.046774Z",
     "start_time": "2017-10-06T15:28:46.831698Z"
    }
   },
   "outputs": [],
   "source": [
    "km=kmeans.predict(X_k)\n",
    "unique, counts = np.unique(km, return_counts=True)\n",
    "overall = dict(zip(unique, counts))"
   ]
  },
  {
   "cell_type": "code",
   "execution_count": 32,
   "metadata": {
    "ExecuteTime": {
     "end_time": "2017-10-06T15:28:48.075461Z",
     "start_time": "2017-10-06T15:28:48.048443Z"
    }
   },
   "outputs": [],
   "source": [
    "km=kmeans.predict(df_conv_status.fillna(0)[features].values)\n",
    "unique, counts = np.unique(km, return_counts=True)\n",
    "conv_stat = dict(zip(unique, counts))"
   ]
  },
  {
   "cell_type": "code",
   "execution_count": 33,
   "metadata": {
    "ExecuteTime": {
     "end_time": "2017-10-06T15:28:48.081791Z",
     "start_time": "2017-10-06T15:28:48.077030Z"
    }
   },
   "outputs": [
    {
     "name": "stdout",
     "output_type": "stream",
     "text": [
      " 0 = 2.645913\n",
      " 1 = 1.553517\n",
      " 2 = 1.236516\n",
      " 3 = 1.314134\n",
      " 4 = 1.442469\n",
      " 5 = 1.321236\n",
      " 6 = 1.011023\n",
      " 7 = 0.993476\n",
      " 8 = 0.548354\n",
      " 9 = 0.982696\n",
      " 10 = 1.827007\n",
      " 11 = 1.599286\n",
      " 12 = 0.947201\n",
      " 13 = 1.128030\n",
      " 14 = 1.056233\n",
      " 15 = 1.345255\n",
      " 16 = 3.693027\n",
      " 17 = 0.714267\n"
     ]
    }
   ],
   "source": [
    "for key,value in overall.items():\n",
    "    print(\" %s = %f\" % (key,conv_stat[key]*100/value))"
   ]
  },
  {
   "cell_type": "code",
   "execution_count": 34,
   "metadata": {
    "ExecuteTime": {
     "end_time": "2017-10-06T15:28:48.088349Z",
     "start_time": "2017-10-06T15:28:48.083039Z"
    }
   },
   "outputs": [
    {
     "name": "stdout",
     "output_type": "stream",
     "text": [
      " 0 = 10.679527\n",
      " 1 = 10.488356\n",
      " 2 = 1.952265\n",
      " 3 = 1.422199\n",
      " 4 = 8.727262\n",
      " 5 = 3.134052\n",
      " 6 = 2.693778\n",
      " 7 = 1.830611\n",
      " 8 = 2.076816\n",
      " 9 = 11.105318\n",
      " 10 = 5.037076\n",
      " 11 = 0.570618\n",
      " 12 = 1.210752\n",
      " 13 = 8.037887\n",
      " 14 = 1.332406\n",
      " 15 = 6.192793\n",
      " 16 = 18.813000\n",
      " 17 = 4.695284\n"
     ]
    }
   ],
   "source": [
    "length = df_conv_status.shape[0]\n",
    "\n",
    "for key,value in conv_stat.items():\n",
    "    print(\" %s = %f\" % (key,conv_stat[key]*100/length))"
   ]
  },
  {
   "cell_type": "code",
   "execution_count": 35,
   "metadata": {
    "ExecuteTime": {
     "end_time": "2017-10-06T15:28:48.101780Z",
     "start_time": "2017-10-06T15:28:48.089582Z"
    }
   },
   "outputs": [
    {
     "name": "stdout",
     "output_type": "stream",
     "text": [
      " 16 = 18.813000\n",
      " 9 = 11.105318\n",
      " 0 = 10.679527\n",
      " 1 = 10.488356\n",
      " 4 = 8.727262\n",
      " 13 = 8.037887\n",
      " 15 = 6.192793\n",
      " 10 = 5.037076\n"
     ]
    }
   ],
   "source": [
    "import operator\n",
    "take = []\n",
    "conv_stat_percent = {}\n",
    "for key,value in conv_stat.items():\n",
    "    vl = conv_stat[key]*100/length\n",
    "    conv_stat_percent[key] = vl\n",
    "    \n",
    "sorted_x = sorted(conv_stat_percent.items(), key=operator.itemgetter(1),reverse=True)\n",
    "\n",
    "acc=0;\n",
    "for key,value in sorted_x:\n",
    "    if acc<75:\n",
    "        acc+=value\n",
    "        print(\" %s = %f\" % (key,value))\n",
    "        take.append(key)"
   ]
  },
  {
   "cell_type": "code",
   "execution_count": 36,
   "metadata": {
    "ExecuteTime": {
     "end_time": "2017-10-06T15:28:48.109238Z",
     "start_time": "2017-10-06T15:28:48.103038Z"
    }
   },
   "outputs": [],
   "source": [
    "def kmeans_pred(x):\n",
    "    print(np.sum(np.isnan(x)))\n",
    "    km=kmeans.predict(x)\n",
    "    return np.isin(km,take)\n",
    "\n",
    "# confusion_matrix(df_conv_status[categorical_output_column].values, predict(kmeans_pred,df_conv_status[features].fillna(0).values,binary_conv))\n",
    "# confusion_matrix(df_validation[categorical_output_column].values, predict(kmeans_pred,df_validation[features].fillna(0).values,binary_conv))\n",
    "# confusion_matrix(df_fraud[categorical_output_column].values, predict(kmeans_pred,df_fraud[features].fillna(0).values,binary_conv))\n",
    "# confusion_matrix(df_train[categorical_output_column].values, predict(kmeans_pred,df_train[features].fillna(0).values,binary_conv))\n"
   ]
  },
  {
   "cell_type": "code",
   "execution_count": 37,
   "metadata": {
    "ExecuteTime": {
     "end_time": "2017-10-06T15:28:48.126776Z",
     "start_time": "2017-10-06T15:28:48.110502Z"
    }
   },
   "outputs": [],
   "source": [
    "\n",
    "\n",
    "def fraud_catcher(x):\n",
    "    return x[:,11]==0\n",
    "    "
   ]
  },
  {
   "cell_type": "code",
   "execution_count": 38,
   "metadata": {
    "ExecuteTime": {
     "end_time": "2017-10-06T15:28:48.143214Z",
     "start_time": "2017-10-06T15:28:48.128121Z"
    }
   },
   "outputs": [
    {
     "data": {
      "text/plain": [
       "(27302, 30)"
      ]
     },
     "execution_count": 38,
     "metadata": {},
     "output_type": "execute_result"
    }
   ],
   "source": [
    "df_conv_filtered = df_conv_status[np.array([item in take for item in km])]\n",
    "df_conv_filtered.shape"
   ]
  },
  {
   "cell_type": "code",
   "execution_count": 39,
   "metadata": {
    "ExecuteTime": {
     "end_time": "2017-10-06T15:28:48.146524Z",
     "start_time": "2017-10-06T15:28:48.144506Z"
    }
   },
   "outputs": [],
   "source": [
    "# np.sum(indexes_prev.isin(df_conv_filtered.index))"
   ]
  },
  {
   "cell_type": "markdown",
   "metadata": {},
   "source": [
    "### Sampling"
   ]
  },
  {
   "cell_type": "code",
   "execution_count": 40,
   "metadata": {
    "ExecuteTime": {
     "end_time": "2017-10-06T15:28:48.993916Z",
     "start_time": "2017-10-06T15:28:48.147793Z"
    }
   },
   "outputs": [],
   "source": [
    "df_train = df_frame[df_frame[\"conv_status\"]!=1]"
   ]
  },
  {
   "cell_type": "code",
   "execution_count": 41,
   "metadata": {
    "ExecuteTime": {
     "end_time": "2017-10-06T15:28:50.623694Z",
     "start_time": "2017-10-06T15:28:48.995629Z"
    }
   },
   "outputs": [
    {
     "data": {
      "text/plain": [
       "287"
      ]
     },
     "execution_count": 41,
     "metadata": {},
     "output_type": "execute_result"
    }
   ],
   "source": [
    "# Upsampling \n",
    "df_train = pd.concat([df_train,df_conv_filtered,df_fraud.sample(frac=0.9), df_fraud.sample(frac=0.9),df_fraud.sample(frac=0.9)], ignore_index=True)\n",
    "# df_train = pd.concat([df_train, df_fraud.sample(frac=0.9)], ignore_index=True)\n",
    "# df_train = pd.concat([df_train, df_conv_status.sample(frac=0.6), df_fraud.sample(frac=0.3)], ignore_index=True)\n",
    "# df_train = pd.concat([df_train, df_conv_status, df_fraud], ignore_index=True)\n",
    "# df_train = pd.concat([df_train, df_conv_status, df_fraud], ignore_index=True)\n",
    "# df_train = pd.concat([df_train, df_conv_status, df_fraud], ignore_index=True)\n",
    "# df_train = pd.concat([df_train, df_conv_status, df_fraud], ignore_index=True)\n",
    "# df_train = pd.concat([df_train, df_conv_status, df_fraud], ignore_index=True)\n",
    "# df_train = pd.concat([df_train, df_conv_status, df_fraud], ignore_index=True)\n",
    "gc.collect()"
   ]
  },
  {
   "cell_type": "code",
   "execution_count": 70,
   "metadata": {
    "ExecuteTime": {
     "end_time": "2017-09-27T21:02:36.253321Z",
     "start_time": "2017-09-27T21:02:16.745926Z"
    }
   },
   "outputs": [],
   "source": [
    "df_train = pd.concat([df_train, df_fraud,df_fraud,df_fraud,df_fraud,df_fraud,df_fraud,df_fraud,df_fraud], ignore_index=True)\n",
    "df_train = pd.concat([df_train, df_fraud,df_fraud,df_fraud,df_fraud,df_fraud,df_fraud,df_fraud,df_fraud], ignore_index=True)\n",
    "df_train = pd.concat([df_train, df_fraud,df_fraud,df_fraud,df_fraud,df_fraud,df_fraud,df_fraud,df_fraud], ignore_index=True)\n",
    "df_train = pd.concat([df_train, df_fraud,df_fraud,df_fraud,df_fraud,df_fraud,df_fraud,df_fraud,df_fraud], ignore_index=True)\n",
    "df_train = pd.concat([df_train, df_fraud,df_fraud,df_fraud,df_fraud,df_fraud,df_fraud,df_fraud,df_fraud], ignore_index=True)\n",
    "df_train = pd.concat([df_train, df_fraud,df_fraud,df_fraud,df_fraud,df_fraud,df_fraud,df_fraud,df_fraud], ignore_index=True)\n",
    "df_train = pd.concat([df_train, df_fraud,df_fraud,df_fraud,df_fraud,df_fraud,df_fraud,df_fraud,df_fraud], ignore_index=True)\n",
    "df_train = pd.concat([df_train, df_fraud,df_fraud,df_fraud,df_fraud,df_fraud,df_fraud,df_fraud,df_fraud], ignore_index=True)\n",
    "df_train = pd.concat([df_train, df_fraud,df_fraud,df_fraud,df_fraud,df_fraud,df_fraud,df_fraud,df_fraud], ignore_index=True)\n",
    "\n",
    "# df_train = pd.concat([df_train, df_fraud], ignore_index=True)\n",
    "# df_train = pd.concat([df_train, df_fraud], ignore_index=True)\n",
    "# df_train = pd.concat([df_train, df_fraud], ignore_index=True)\n",
    "# df_train = pd.concat([df_train, df_fraud], ignore_index=True)\n",
    "# df_train = pd.concat([df_train, df_fraud], ignore_index=True)"
   ]
  },
  {
   "cell_type": "code",
   "execution_count": 42,
   "metadata": {
    "ExecuteTime": {
     "end_time": "2017-10-06T15:28:58.386005Z",
     "start_time": "2017-10-06T15:28:56.478541Z"
    }
   },
   "outputs": [],
   "source": [
    "df_fraud_trainer = df_train.sample(frac=0.001)\n",
    "df_fraud_trainer = pd.concat([df_fraud_trainer,df_fraud,df_fraud,df_fraud,df_fraud,df_fraud,df_fraud,df_fraud,df_fraud],ignore_index=True)\n",
    "# df_train = pd.concat([df_train,df_fraud_trainer],ignore_index=True)"
   ]
  },
  {
   "cell_type": "code",
   "execution_count": 43,
   "metadata": {
    "ExecuteTime": {
     "end_time": "2017-10-06T15:29:17.759281Z",
     "start_time": "2017-10-06T15:29:17.071118Z"
    }
   },
   "outputs": [
    {
     "data": {
      "text/plain": [
       "conv_status    0\n",
       "dtype: int64"
      ]
     },
     "execution_count": 43,
     "metadata": {},
     "output_type": "execute_result"
    }
   ],
   "source": [
    "df_train[output_column] = df_train[output_column].astype(np.float32)\n",
    "df_train[output_column]=df_train[output_column].fillna(0)\n",
    "np.sum(np.isnan(df_train[categorical_output_column]))\n",
    "df_train[categorical_output_column]=df_train[categorical_output_column].fillna(0)"
   ]
  },
  {
   "cell_type": "code",
   "execution_count": 44,
   "metadata": {
    "ExecuteTime": {
     "end_time": "2017-10-06T15:29:19.391723Z",
     "start_time": "2017-10-06T15:29:19.322536Z"
    }
   },
   "outputs": [
    {
     "data": {
      "text/plain": [
       "21"
      ]
     },
     "execution_count": 44,
     "metadata": {},
     "output_type": "execute_result"
    }
   ],
   "source": [
    "\n",
    "gc.collect()\n",
    "\n"
   ]
  },
  {
   "cell_type": "markdown",
   "metadata": {},
   "source": [
    "### Modelling Helpers"
   ]
  },
  {
   "cell_type": "code",
   "execution_count": null,
   "metadata": {
    "ExecuteTime": {
     "end_time": "2017-10-02T15:33:17.284969Z",
     "start_time": "2017-10-02T15:33:17.275785Z"
    }
   },
   "outputs": [],
   "source": []
  },
  {
   "cell_type": "code",
   "execution_count": 45,
   "metadata": {
    "ExecuteTime": {
     "end_time": "2017-10-06T15:30:06.786951Z",
     "start_time": "2017-10-06T15:30:01.682602Z"
    }
   },
   "outputs": [
    {
     "data": {
      "text/plain": [
       "0"
      ]
     },
     "execution_count": 45,
     "metadata": {},
     "output_type": "execute_result"
    },
    {
     "data": {
      "text/plain": [
       "ConversionPayOut    0\n",
       "dtype: int64"
      ]
     },
     "execution_count": 45,
     "metadata": {},
     "output_type": "execute_result"
    },
    {
     "data": {
      "text/plain": [
       "ConversionPayOut    0\n",
       "dtype: int64"
      ]
     },
     "execution_count": 45,
     "metadata": {},
     "output_type": "execute_result"
    }
   ],
   "source": [
    "\n",
    "\n",
    "X = df_train[features].values\n",
    "# y = np.log10(df_train[output_column].values + 1)\n",
    "y_c = df_train[categorical_output_column].values\n",
    "\n",
    "df_regression = pd.concat([df_train.sample(frac=0.4),df_fraud,df_fraud,df_conv_status,df_conv_filtered,df_conv_filtered[df_conv_filtered[\"ConversionPayOut\"]<50],df_conv_status],ignore_index=True)\n",
    "\n",
    "# df_regression = pd.concat([df_train.sample(frac=0.15),df_fraud,df_fraud,df_conv_filtered],ignore_index=True)\n",
    "\n",
    "X_r = df_regression[features].values\n",
    "y_r = df_regression[output_column].values\n",
    "\n",
    "\n",
    "# detect_nan_columns(df_train[output_column])\n",
    "np.sum(np.isnan(df_train[output_column])[output_column].values)\n",
    "# df_train[np.isnan(df_train[output_column])[output_column].values].head()\n",
    "\n",
    "np.sum(np.isnan(df_conv_status[output_column]))\n",
    "\n",
    "np.sum(np.isnan(df_train[output_column]))\n",
    "\n",
    "# np.sum(np.isnan(df_train[features]))\n",
    "\n",
    "# np.sum(df_train[categorical_output_column].values)\n",
    "\n",
    "X_f = df_fraud_trainer[features].values\n",
    "y_f = df_fraud_trainer[\"Fraud\"].values\n",
    "\n",
    "\n",
    "\n",
    "# X_train, X_test, y_train, y_test = train_test_split(X, y, test_size=0.1,random_state=17)\n",
    "\n",
    "# X_train_c, X_test_c, y_train_c, y_test_c = train_test_split(X, y_c, test_size=0.1,random_state=17)"
   ]
  },
  {
   "cell_type": "code",
   "execution_count": 46,
   "metadata": {
    "ExecuteTime": {
     "end_time": "2017-10-06T15:30:06.795808Z",
     "start_time": "2017-10-06T15:30:06.788389Z"
    }
   },
   "outputs": [],
   "source": [
    "def use_model(model,X,y,output_convertor,mode):\n",
    "    y_pred = predict(model,X,output_convertor)\n",
    "    print(\"%s MSE: %.6f\" % (mode,mean_squared_error(y_pred, y)))\n",
    "    print(\"%s RMSE: %.6f\" % (mode,mean_squared_error(y_pred, y)**0.5))\n",
    "    \n",
    "def use_model_for_testing(model,X_train,y_train,X_test,y_test,output_convertor):\n",
    "    use_model(model,X_train,y_train,output_convertor,\"Train\")\n",
    "    use_model(model,X_test,y_test,output_convertor,\"Test\")\n"
   ]
  },
  {
   "cell_type": "code",
   "execution_count": 628,
   "metadata": {
    "ExecuteTime": {
     "end_time": "2017-10-08T17:07:47.774971Z",
     "start_time": "2017-10-08T17:07:47.771755Z"
    }
   },
   "outputs": [],
   "source": [
    "threshold = 0.8"
   ]
  },
  {
   "cell_type": "code",
   "execution_count": 48,
   "metadata": {
    "ExecuteTime": {
     "end_time": "2017-10-06T15:30:26.244830Z",
     "start_time": "2017-10-06T15:30:26.219156Z"
    }
   },
   "outputs": [],
   "source": [
    "def capper(value):\n",
    "    value[value<=0] = 0\n",
    "    value[value>=250] = 250\n",
    "    return value;\n",
    "\n",
    "    \n",
    "def predict(model,data,output_convertor):\n",
    "    pred = output_convertor(model(data))\n",
    "#     vfunc=np.vectorize(output_convertor)\n",
    "#     pred=vfunc(pred)\n",
    "    return pred\n",
    "\n",
    "def binary_conv(value):\n",
    "    value[value<=threshold] = 0\n",
    "    value[value>threshold] = 1\n",
    "    return value;\n",
    "    \n",
    "def binary_linear_conv(value):\n",
    "    value[value<=threshold] = 0\n",
    "    value[value>=1] = 1\n",
    "    return value;\n",
    "    \n",
    "def transparent_conv(value):\n",
    "    return value\n",
    "    \n",
    "\n",
    "    "
   ]
  },
  {
   "cell_type": "markdown",
   "metadata": {},
   "source": [
    "### Modelling"
   ]
  },
  {
   "cell_type": "markdown",
   "metadata": {
    "heading_collapsed": true
   },
   "source": [
    "#### KNN Classifier"
   ]
  },
  {
   "cell_type": "code",
   "execution_count": 60,
   "metadata": {
    "ExecuteTime": {
     "end_time": "2017-09-24T08:42:07.147761Z",
     "start_time": "2017-09-24T08:42:06.072756Z"
    },
    "hidden": true
   },
   "outputs": [],
   "source": [
    "from sklearn.neighbors import KNeighborsClassifier\n",
    "neigh = KNeighborsClassifier(n_neighbors=4,n_jobs=-1,algorithm='kd_tree')\n",
    "\n",
    "df_k=df.sample(frac=0.005).dropna(thresh=20).fillna(0)\n",
    "df_c=df_conv_status.dropna(thresh=20).fillna(0)\n",
    "df_ck=pd.concat([df_c,df_k],ignore_index=True)\n",
    "X_k = df_ck[features].values\n",
    "y_k = df_ck[categorical_output_column].values\n"
   ]
  },
  {
   "cell_type": "code",
   "execution_count": 61,
   "metadata": {
    "ExecuteTime": {
     "end_time": "2017-09-24T08:42:07.232983Z",
     "start_time": "2017-09-24T08:42:07.149403Z"
    },
    "hidden": true
   },
   "outputs": [
    {
     "data": {
      "text/plain": [
       "30"
      ]
     },
     "execution_count": 61,
     "metadata": {},
     "output_type": "execute_result"
    }
   ],
   "source": [
    "gc.collect()\n",
    "from sklearn.preprocessing import MinMaxScaler,Normalizer,StandardScaler\n",
    "scaler = StandardScaler()\n",
    "\n",
    "X_knn = scaler.fit_transform(X_k)\n"
   ]
  },
  {
   "cell_type": "code",
   "execution_count": 62,
   "metadata": {
    "ExecuteTime": {
     "end_time": "2017-09-24T08:42:38.818423Z",
     "start_time": "2017-09-24T08:42:07.234605Z"
    },
    "hidden": true
   },
   "outputs": [
    {
     "data": {
      "text/plain": [
       "KNeighborsClassifier(algorithm='kd_tree', leaf_size=30, metric='minkowski',\n",
       "           metric_params=None, n_jobs=-1, n_neighbors=4, p=2,\n",
       "           weights='uniform')"
      ]
     },
     "execution_count": 62,
     "metadata": {},
     "output_type": "execute_result"
    }
   ],
   "source": [
    "neigh.fit(X_knn,y_k.ravel())\n"
   ]
  },
  {
   "cell_type": "code",
   "execution_count": 63,
   "metadata": {
    "ExecuteTime": {
     "end_time": "2017-09-24T08:45:31.738614Z",
     "start_time": "2017-09-24T08:42:38.819846Z"
    },
    "hidden": true
   },
   "outputs": [
    {
     "data": {
      "text/plain": [
       "(34524, 30)"
      ]
     },
     "execution_count": 63,
     "metadata": {},
     "output_type": "execute_result"
    },
    {
     "data": {
      "text/plain": [
       "30728"
      ]
     },
     "execution_count": 63,
     "metadata": {},
     "output_type": "execute_result"
    }
   ],
   "source": [
    "df_c.shape\n",
    "np.sum(neigh.predict(scaler.transform(df_c[features].values)))"
   ]
  },
  {
   "cell_type": "code",
   "execution_count": 64,
   "metadata": {
    "ExecuteTime": {
     "end_time": "2017-09-24T08:47:27.190588Z",
     "start_time": "2017-09-24T08:45:31.740045Z"
    },
    "hidden": true
   },
   "outputs": [
    {
     "data": {
      "text/plain": [
       "conv_status    9\n",
       "dtype: int64"
      ]
     },
     "execution_count": 64,
     "metadata": {},
     "output_type": "execute_result"
    },
    {
     "name": "stderr",
     "output_type": "stream",
     "text": [
      "/home/ahemf/anaconda3/lib/python3.6/site-packages/sklearn/utils/validation.py:429: DataConversionWarning: Data with input dtype int64 was converted to float64 by StandardScaler.\n",
      "  warnings.warn(msg, _DataConversionWarning)\n"
     ]
    },
    {
     "data": {
      "text/plain": [
       "288"
      ]
     },
     "execution_count": 64,
     "metadata": {},
     "output_type": "execute_result"
    }
   ],
   "source": [
    "df_kk=df_k.sample(frac=0.2)\n",
    "np.sum(df_kk[categorical_output_column])\n",
    "\n",
    "np.sum(neigh.predict(scaler.transform(df_kk[features].values)))"
   ]
  },
  {
   "cell_type": "code",
   "execution_count": 66,
   "metadata": {
    "ExecuteTime": {
     "end_time": "2017-09-24T08:58:41.542163Z",
     "start_time": "2017-09-24T08:49:02.048150Z"
    },
    "hidden": true
   },
   "outputs": [
    {
     "name": "stderr",
     "output_type": "stream",
     "text": [
      "/home/ahemf/anaconda3/lib/python3.6/site-packages/sklearn/utils/validation.py:429: DataConversionWarning: Data with input dtype int64 was converted to float64 by StandardScaler.\n",
      "  warnings.warn(msg, _DataConversionWarning)\n"
     ]
    },
    {
     "data": {
      "text/plain": [
       "array([[98575,  1369],\n",
       "       [   47,     9]])"
      ]
     },
     "execution_count": 66,
     "metadata": {},
     "output_type": "execute_result"
    }
   ],
   "source": [
    "\n",
    "confusion_matrix(df_k[categorical_output_column].values, predict(neigh.predict,scaler.transform(df_k[features].values),binary_conv))\n"
   ]
  },
  {
   "cell_type": "markdown",
   "metadata": {},
   "source": [
    "#### Model 1: Simple Regression"
   ]
  },
  {
   "cell_type": "code",
   "execution_count": null,
   "metadata": {
    "ExecuteTime": {
     "start_time": "2017-10-06T15:30:51.277Z"
    }
   },
   "outputs": [
    {
     "data": {
      "text/plain": [
       "593"
      ]
     },
     "execution_count": 49,
     "metadata": {},
     "output_type": "execute_result"
    }
   ],
   "source": [
    "gc.collect()\n",
    "xgr=xgb.XGBRegressor(n_estimators=2500, learning_rate=0.2, gamma=0,missing=nan_rep,\n",
    "                           colsample_bytree=0.8, max_depth=10,nthread=32,n_jobs=32,base_score=0.05)\n",
    "xgr.fit(X_r,y_r)"
   ]
  },
  {
   "cell_type": "code",
   "execution_count": null,
   "metadata": {
    "ExecuteTime": {
     "start_time": "2017-10-06T15:30:53.034Z"
    }
   },
   "outputs": [],
   "source": [
    "gc.collect()\n",
    "\n",
    "# use_model_for_testing(xgr.predict,X_train,y_train,X_test,y_test,capper)"
   ]
  },
  {
   "cell_type": "code",
   "execution_count": 61,
   "metadata": {
    "ExecuteTime": {
     "end_time": "2017-10-06T16:29:19.671858Z",
     "start_time": "2017-10-06T16:29:18.964762Z"
    }
   },
   "outputs": [
    {
     "name": "stdout",
     "output_type": "stream",
     "text": [
      "True Payouts MSE: 71538.228254\n",
      "True Payouts RMSE: 267.466312\n"
     ]
    }
   ],
   "source": [
    "\n",
    "use_model(xgr.predict,df_conv_status[features].values,df_conv_status[output_column].values,capper,\"True Payouts\")"
   ]
  },
  {
   "cell_type": "code",
   "execution_count": 60,
   "metadata": {
    "ExecuteTime": {
     "end_time": "2017-10-06T16:29:18.963189Z",
     "start_time": "2017-10-06T16:28:38.672769Z"
    }
   },
   "outputs": [
    {
     "name": "stdout",
     "output_type": "stream",
     "text": [
      "Random Payouts MSE: 187.100102\n",
      "Random Payouts RMSE: 13.678454\n"
     ]
    },
    {
     "data": {
      "text/plain": [
       "73.259188718669364"
      ]
     },
     "execution_count": 60,
     "metadata": {},
     "output_type": "execute_result"
    },
    {
     "data": {
      "text/plain": [
       "73.25759953924873"
      ]
     },
     "execution_count": 60,
     "metadata": {},
     "output_type": "execute_result"
    },
    {
     "data": {
      "text/plain": [
       "202"
      ]
     },
     "execution_count": 60,
     "metadata": {},
     "output_type": "execute_result"
    }
   ],
   "source": [
    "use_model(xgr.predict,df_validation[features].values,df_validation[output_column].values,capper,\"Random Payouts\")\n",
    "mean_squared_error(df_validation[output_column].values,np.zeros(df_validation.shape[0]))\n",
    "mean_squared_error(df_validation[output_column].values,np.full(df_validation.shape[0],df_validation[output_column].mean()))\n",
    "gc.collect()\n",
    "# mean_squared_error(df_validation[output_column].values,np.zeros(df_validation.shape[0]))\n",
    "\n"
   ]
  },
  {
   "cell_type": "code",
   "execution_count": 59,
   "metadata": {
    "ExecuteTime": {
     "end_time": "2017-10-06T16:28:25.253578Z",
     "start_time": "2017-10-06T16:27:45.163845Z"
    }
   },
   "outputs": [
    {
     "ename": "NameError",
     "evalue": "name 'xgc' is not defined",
     "output_type": "error",
     "traceback": [
      "\u001b[0;31m---------------------------------------------------------------------------\u001b[0m",
      "\u001b[0;31mNameError\u001b[0m                                 Traceback (most recent call last)",
      "\u001b[0;32m<ipython-input-59-893d74342eeb>\u001b[0m in \u001b[0;36m<module>\u001b[0;34m()\u001b[0m\n\u001b[0;32m----> 1\u001b[0;31m \u001b[0mmean_squared_error\u001b[0m\u001b[0;34m(\u001b[0m\u001b[0mdf_validation\u001b[0m\u001b[0;34m[\u001b[0m\u001b[0moutput_column\u001b[0m\u001b[0;34m]\u001b[0m\u001b[0;34m.\u001b[0m\u001b[0mvalues\u001b[0m\u001b[0;34m,\u001b[0m\u001b[0mxgc_linear_predict\u001b[0m\u001b[0;34m(\u001b[0m\u001b[0mdf_validation\u001b[0m\u001b[0;34m[\u001b[0m\u001b[0mfeatures\u001b[0m\u001b[0;34m]\u001b[0m\u001b[0;34m.\u001b[0m\u001b[0mvalues\u001b[0m\u001b[0;34m)\u001b[0m\u001b[0;34m)\u001b[0m\u001b[0;34m\u001b[0m\u001b[0m\n\u001b[0m",
      "\u001b[0;32m<ipython-input-56-9ea7c172358c>\u001b[0m in \u001b[0;36mxgc_linear_predict\u001b[0;34m(x)\u001b[0m\n\u001b[1;32m     13\u001b[0m \u001b[0;32mdef\u001b[0m \u001b[0mxgc_linear_predict\u001b[0m\u001b[0;34m(\u001b[0m\u001b[0mx\u001b[0m\u001b[0;34m)\u001b[0m\u001b[0;34m:\u001b[0m\u001b[0;34m\u001b[0m\u001b[0m\n\u001b[1;32m     14\u001b[0m     \u001b[0my_pred_r\u001b[0m \u001b[0;34m=\u001b[0m \u001b[0mpredict\u001b[0m\u001b[0;34m(\u001b[0m\u001b[0mxgr\u001b[0m\u001b[0;34m.\u001b[0m\u001b[0mpredict\u001b[0m\u001b[0;34m,\u001b[0m\u001b[0mx\u001b[0m\u001b[0;34m,\u001b[0m\u001b[0mcapper\u001b[0m\u001b[0;34m)\u001b[0m\u001b[0;34m\u001b[0m\u001b[0m\n\u001b[0;32m---> 15\u001b[0;31m     \u001b[0my_pred\u001b[0m\u001b[0;34m=\u001b[0m\u001b[0mxgc\u001b[0m\u001b[0;34m.\u001b[0m\u001b[0mpredict_proba\u001b[0m\u001b[0;34m(\u001b[0m\u001b[0mx\u001b[0m\u001b[0;34m)\u001b[0m\u001b[0;34m\u001b[0m\u001b[0m\n\u001b[0m\u001b[1;32m     16\u001b[0m     \u001b[0my_pred\u001b[0m\u001b[0;34m=\u001b[0m\u001b[0my_pred\u001b[0m\u001b[0;34m[\u001b[0m\u001b[0;34m:\u001b[0m\u001b[0;34m,\u001b[0m\u001b[0;36m1\u001b[0m\u001b[0;34m:\u001b[0m\u001b[0;36m2\u001b[0m\u001b[0;34m]\u001b[0m\u001b[0;34m.\u001b[0m\u001b[0mflatten\u001b[0m\u001b[0;34m(\u001b[0m\u001b[0;34m)\u001b[0m\u001b[0;34m\u001b[0m\u001b[0m\n\u001b[1;32m     17\u001b[0m     \u001b[0my_p_f\u001b[0m\u001b[0;34m=\u001b[0m\u001b[0mxgf\u001b[0m\u001b[0;34m.\u001b[0m\u001b[0mpredict\u001b[0m\u001b[0;34m(\u001b[0m\u001b[0mx\u001b[0m\u001b[0;34m)\u001b[0m\u001b[0;34m\u001b[0m\u001b[0m\n",
      "\u001b[0;31mNameError\u001b[0m: name 'xgc' is not defined"
     ]
    }
   ],
   "source": []
  },
  {
   "cell_type": "markdown",
   "metadata": {
    "ExecuteTime": {
     "end_time": "2017-09-19T12:21:02.698778Z",
     "start_time": "2017-09-19T12:21:02.695120Z"
    },
    "collapsed": true
   },
   "source": [
    "#### Model 2: Classifier"
   ]
  },
  {
   "cell_type": "markdown",
   "metadata": {},
   "source": [
    "##### Fraud Classifier"
   ]
  },
  {
   "cell_type": "code",
   "execution_count": 63,
   "metadata": {
    "ExecuteTime": {
     "end_time": "2017-10-06T16:30:19.455155Z",
     "start_time": "2017-10-06T16:30:19.279178Z"
    }
   },
   "outputs": [
    {
     "data": {
      "text/plain": [
       "88"
      ]
     },
     "execution_count": 63,
     "metadata": {},
     "output_type": "execute_result"
    },
    {
     "data": {
      "text/plain": [
       "XGBClassifier(base_score=0.1, booster='gbtree', colsample_bylevel=1,\n",
       "       colsample_bytree=1, gamma=0, learning_rate=0.75, max_delta_step=0,\n",
       "       max_depth=8, min_child_weight=1, missing=None, n_estimators=100,\n",
       "       n_jobs=32, nthread=None, objective='binary:logistic',\n",
       "       random_state=0, reg_alpha=0, reg_lambda=1, scale_pos_weight=1,\n",
       "       seed=None, silent=True, subsample=0.75)"
      ]
     },
     "execution_count": 63,
     "metadata": {},
     "output_type": "execute_result"
    }
   ],
   "source": [
    "gc.collect()\n",
    "xgf = XGBClassifier(max_depth=8, learning_rate=0.75,n_estimators=100,n_jobs=32,base_score=0.1,subsample=0.75,missing=nan_rep)\n",
    "xgf.fit(X_f, y_f.ravel())"
   ]
  },
  {
   "cell_type": "code",
   "execution_count": 64,
   "metadata": {
    "ExecuteTime": {
     "end_time": "2017-10-06T16:30:25.668106Z",
     "start_time": "2017-10-06T16:30:25.658762Z"
    }
   },
   "outputs": [],
   "source": [
    "def xgf_predict(x):\n",
    "    y_pred=xgf.predict_proba(x)\n",
    "    y_pred=y_pred[:,1:2].flatten()\n",
    "    return y_pred\n",
    "\n",
    "def xgf_predict_inv(x):\n",
    "    y_pred=xgf.predict_proba(x)\n",
    "    y_pred=y_pred[:,1:2].flatten()\n",
    "    return 1-y_pred\n",
    "\n",
    "\n"
   ]
  },
  {
   "cell_type": "code",
   "execution_count": 65,
   "metadata": {
    "ExecuteTime": {
     "end_time": "2017-10-06T16:30:27.185720Z",
     "start_time": "2017-10-06T16:30:27.160370Z"
    }
   },
   "outputs": [
    {
     "data": {
      "text/plain": [
       "array([[396]])"
      ]
     },
     "execution_count": 65,
     "metadata": {},
     "output_type": "execute_result"
    }
   ],
   "source": [
    "confusion_matrix(df_fraud[\"Fraud\"].values, predict(xgf_predict,df_fraud[features].values,binary_conv))"
   ]
  },
  {
   "cell_type": "code",
   "execution_count": 66,
   "metadata": {
    "ExecuteTime": {
     "end_time": "2017-10-06T16:30:44.921535Z",
     "start_time": "2017-10-06T16:30:28.731747Z"
    }
   },
   "outputs": [
    {
     "data": {
      "text/plain": [
       "104211"
      ]
     },
     "execution_count": 66,
     "metadata": {},
     "output_type": "execute_result"
    },
    {
     "data": {
      "text/plain": [
       "104211.0"
      ]
     },
     "execution_count": 66,
     "metadata": {},
     "output_type": "execute_result"
    },
    {
     "data": {
      "text/plain": [
       "104211.0"
      ]
     },
     "execution_count": 66,
     "metadata": {},
     "output_type": "execute_result"
    }
   ],
   "source": [
    "df_test_frauds = df_test[df_test[\"Fraud\"]==1]\n",
    "df_test_frauds[\"ID\"].count()\n",
    "np.sum(predict(xgf_predict,df_test_frauds[features].values,binary_conv))\n",
    "np.sum(predict(xgf_predict,df_test[features].values,binary_conv))"
   ]
  },
  {
   "cell_type": "code",
   "execution_count": 67,
   "metadata": {
    "ExecuteTime": {
     "end_time": "2017-10-06T16:30:45.060064Z",
     "start_time": "2017-10-06T16:30:44.922891Z"
    }
   },
   "outputs": [
    {
     "data": {
      "text/plain": [
       "array([[34524]])"
      ]
     },
     "execution_count": 67,
     "metadata": {},
     "output_type": "execute_result"
    }
   ],
   "source": [
    "confusion_matrix(df_conv_status[\"Fraud\"].values, predict(xgf_predict,df_conv_status[features].values,binary_conv))\n"
   ]
  },
  {
   "cell_type": "markdown",
   "metadata": {},
   "source": [
    "##### Normal Classifier"
   ]
  },
  {
   "cell_type": "code",
   "execution_count": 513,
   "metadata": {
    "ExecuteTime": {
     "end_time": "2017-10-08T06:23:21.115188Z",
     "start_time": "2017-10-08T06:23:21.056747Z"
    }
   },
   "outputs": [
    {
     "data": {
      "text/plain": [
       "198"
      ]
     },
     "execution_count": 513,
     "metadata": {},
     "output_type": "execute_result"
    }
   ],
   "source": [
    "gc.collect()\n",
    "xgc1=xgc"
   ]
  },
  {
   "cell_type": "code",
   "execution_count": 542,
   "metadata": {
    "ExecuteTime": {
     "end_time": "2017-10-08T08:46:38.621877Z",
     "start_time": "2017-10-08T08:46:38.618740Z"
    }
   },
   "outputs": [],
   "source": [
    "xgc2 = xgc"
   ]
  },
  {
   "cell_type": "code",
   "execution_count": 546,
   "metadata": {
    "ExecuteTime": {
     "end_time": "2017-10-08T09:38:38.741812Z",
     "start_time": "2017-10-08T09:12:53.195973Z"
    }
   },
   "outputs": [
    {
     "data": {
      "text/plain": [
       "XGBClassifier(base_score=0.2, booster='gbtree', colsample_bylevel=1,\n",
       "       colsample_bytree=1, gamma=0, learning_rate=0.3, max_delta_step=0,\n",
       "       max_depth=15, min_child_weight=1, missing=None, n_estimators=450,\n",
       "       n_jobs=32, nthread=None, objective='binary:logistic',\n",
       "       random_state=0, reg_alpha=0, reg_lambda=1, scale_pos_weight=0.4,\n",
       "       seed=None, silent=True, subsample=1)"
      ]
     },
     "execution_count": 546,
     "metadata": {},
     "output_type": "execute_result"
    },
    {
     "data": {
      "text/plain": [
       "25"
      ]
     },
     "execution_count": 546,
     "metadata": {},
     "output_type": "execute_result"
    }
   ],
   "source": [
    "# xgc = XGBClassifier(max_depth=14, learning_rate=0.1,n_estimators=1500,n_jobs=32,base_score=0.2,missing=nan_rep,scale_pos_weight=0.8)\n",
    "# xgc = XGBClassifier(max_depth=15, learning_rate=0.4,n_estimators=300,n_jobs=32,base_score=0.2,missing=nan_rep,scale_pos_weight=0.4) = 59.1\n",
    "xgc = XGBClassifier(max_depth=15, learning_rate=0.3,n_estimators=500,n_jobs=32,base_score=0.2,missing=nan_rep,scale_pos_weight=0.3)\n",
    "xgc.fit(X, y_c.ravel())\n",
    "gc.collect()\n",
    "\n",
    "    \n"
   ]
  },
  {
   "cell_type": "code",
   "execution_count": 556,
   "metadata": {
    "ExecuteTime": {
     "end_time": "2017-10-08T11:24:36.530702Z",
     "start_time": "2017-10-08T11:24:36.516951Z"
    }
   },
   "outputs": [],
   "source": [
    "# def xgc_predict(x):\n",
    "#     y_pred=xgc.predict_proba(x)\n",
    "#     y_pred=y_pred[:,1:2].flatten()\n",
    "#     return y_pred\n",
    "\n",
    "def xgc_predict(x):\n",
    "    y_pred=xgc.predict_proba(x)\n",
    "    y_pred=y_pred[:,1:2].flatten()\n",
    "    y_p_f=xgf.predict(x)\n",
    "    y_pred[y_p_f==1]=0\n",
    "    return y_pred\n",
    "\n",
    "\n",
    "def xgc_regression_predict(x):\n",
    "    y_pred_r = predict(xgr.predict,x,capper)\n",
    "    y_pred = xgc_predict(x)\n",
    "    y_pred[y_pred>threshold]=y_pred_r[y_pred>threshold]\n",
    "    y_pred[y_pred<=threshold]=0\n",
    "    return y_pred\n",
    "    \n",
    "    "
   ]
  },
  {
   "cell_type": "code",
   "execution_count": null,
   "metadata": {
    "ExecuteTime": {
     "start_time": "2017-10-06T15:32:05.109Z"
    }
   },
   "outputs": [],
   "source": [
    "\n",
    "# use_model_for_testing(xgc_predict,X_train_c,y_train_c,X_test_c,y_test_c,binary_conv)"
   ]
  },
  {
   "cell_type": "code",
   "execution_count": null,
   "metadata": {
    "ExecuteTime": {
     "start_time": "2017-10-06T16:31:47.823Z"
    }
   },
   "outputs": [],
   "source": [
    "np.sum(predict(xgc_predict,df_conv_status[features].values,transparent_conv))\n",
    "np.sum(predict(xgc_predict,df_conv_status.head(100)[features].values,binary_linear_conv))\n",
    "predict(xgc_predict,df_conv_status.head(100)[features].values,binary_linear_conv)\n",
    "\n",
    "# indexes of where 1 was predicted\n",
    "\n",
    "df_c_t = df_conv_status[df_conv_status[\"ID\"].isin([54658237,14547,29312])]\n",
    "predict(xgc_predict,df_c_t[features].values,binary_linear_conv)\n",
    "np.sum(predict(xgc_predict,df_c_t[features].values,binary_linear_conv))\n",
    "\n",
    "np.where(predict(xgc_predict,df_conv_status[features].values,binary_conv)==1)"
   ]
  },
  {
   "cell_type": "code",
   "execution_count": 547,
   "metadata": {
    "ExecuteTime": {
     "end_time": "2017-10-08T09:40:37.257900Z",
     "start_time": "2017-10-08T09:40:36.939959Z"
    }
   },
   "outputs": [
    {
     "data": {
      "text/plain": [
       "array([[    0,     0],\n",
       "       [21710, 12814]])"
      ]
     },
     "execution_count": 547,
     "metadata": {},
     "output_type": "execute_result"
    }
   ],
   "source": [
    "confusion_matrix(df_conv_status[categorical_output_column].values, predict(xgc_predict,df_conv_status[features].values,binary_conv))\n",
    "\n"
   ]
  },
  {
   "cell_type": "code",
   "execution_count": 76,
   "metadata": {
    "ExecuteTime": {
     "end_time": "2017-10-06T18:38:52.930243Z",
     "start_time": "2017-10-06T18:38:52.885638Z"
    }
   },
   "outputs": [
    {
     "data": {
      "text/plain": [
       "array([[396]])"
      ]
     },
     "execution_count": 76,
     "metadata": {},
     "output_type": "execute_result"
    }
   ],
   "source": [
    "confusion_matrix(df_fraud[categorical_output_column].values, predict(xgc_predict,df_fraud[features].values,binary_conv))\n",
    "\n"
   ]
  },
  {
   "cell_type": "code",
   "execution_count": 548,
   "metadata": {
    "ExecuteTime": {
     "end_time": "2017-10-08T09:41:07.721568Z",
     "start_time": "2017-10-08T09:40:49.340760Z"
    }
   },
   "outputs": [
    {
     "data": {
      "text/plain": [
       "array([[2018554,     645],\n",
       "       [    732,     399]])"
      ]
     },
     "execution_count": 548,
     "metadata": {},
     "output_type": "execute_result"
    }
   ],
   "source": [
    "confusion_matrix(df_validation[categorical_output_column].values, predict(xgc_predict,df_validation[features].values,binary_conv))\n"
   ]
  },
  {
   "cell_type": "code",
   "execution_count": 567,
   "metadata": {
    "ExecuteTime": {
     "end_time": "2017-10-08T11:55:52.416177Z",
     "start_time": "2017-10-08T11:55:00.306826Z"
    }
   },
   "outputs": [
    {
     "data": {
      "text/plain": [
       "68.551621874908832"
      ]
     },
     "execution_count": 567,
     "metadata": {},
     "output_type": "execute_result"
    }
   ],
   "source": [
    "# np.sum(predict(xgc_predict,df_test[features].values,binary_conv))\n",
    "# np.sum(predict(xgc_predict,df_test[df_test[\"Fraud\"]==1][features].values,binary_linear_conv))\n",
    "mean_squared_error(df_validation[output_column].values,xgc_regression_predict(df_validation[features].values))"
   ]
  },
  {
   "cell_type": "markdown",
   "metadata": {
    "collapsed": true
   },
   "source": [
    "#### Model 3: LightGBM classifier"
   ]
  },
  {
   "cell_type": "code",
   "execution_count": 623,
   "metadata": {
    "ExecuteTime": {
     "end_time": "2017-10-08T15:49:11.574100Z",
     "start_time": "2017-10-08T15:49:11.547850Z"
    }
   },
   "outputs": [],
   "source": [
    "train_data=lgb.Dataset(X,label=y_c.flatten())\n",
    "# param = {'num_leaves':2400, 'objective':'binary','max_depth':12,\n",
    "#          'learning_rate':.15,'max_bin':2000,'tree_learner':'data',\n",
    "#          'num_threads':32,'scale_pos_weight':1,'min_data_in_leaf':6}\n",
    "\n",
    "# param = {'num_leaves':8000, 'objective':'binary','max_depth':16,\n",
    "#          'learning_rate':.35,'max_bin':8k-12000,'tree_learner':'data',\n",
    "#          'num_threads':32,'scale_pos_weight':1,'min_data_in_leaf':160}\n",
    "param = {'num_leaves':8000, 'objective':'binary','max_depth':18,\n",
    "         'learning_rate':.2,'max_bin':12000,'tree_learner':'data',\n",
    "         'num_threads':32,'scale_pos_weight':0.4,'min_data_in_leaf':160,'boosting_type':'dart'}\n",
    "# param = {'num_leaves':32000, 'objective':'binary','max_depth':20,\n",
    "#          'learning_rate':.35,'max_bin':12000,'tree_learner':'data',\n",
    "#          'num_threads':32,'scale_pos_weight':1,'min_data_in_leaf':160}\n",
    "# param = {'num_leaves':8000, 'objective':'binary','max_depth':18,\n",
    "#          'learning_rate':.05,'max_bin':12000,'tree_learner':'data',\n",
    "#          'num_threads':32,'scale_pos_weight':0.3,'min_data_in_leaf':160}\n",
    "param['metric'] = ['binary_logloss']\n",
    "# param['metric'] = ['auc']\n",
    "# param['metric'] = ['binary_error']\n",
    "# num_round=850 'scale_pos_weight':0.4,\n",
    "# num_round=950\n",
    "num_round=400\n"
   ]
  },
  {
   "cell_type": "code",
   "execution_count": 624,
   "metadata": {
    "ExecuteTime": {
     "end_time": "2017-10-08T15:49:12.614759Z",
     "start_time": "2017-10-08T15:49:12.537946Z"
    }
   },
   "outputs": [
    {
     "data": {
      "text/plain": [
       "70"
      ]
     },
     "execution_count": 624,
     "metadata": {},
     "output_type": "execute_result"
    }
   ],
   "source": [
    "gc.collect()"
   ]
  },
  {
   "cell_type": "code",
   "execution_count": 625,
   "metadata": {
    "ExecuteTime": {
     "end_time": "2017-10-08T16:06:07.517428Z",
     "start_time": "2017-10-08T15:49:13.445371Z"
    }
   },
   "outputs": [],
   "source": [
    "lgbm=lgb.train(param,train_data,num_round)"
   ]
  },
  {
   "cell_type": "code",
   "execution_count": 579,
   "metadata": {
    "ExecuteTime": {
     "end_time": "2017-10-08T12:51:54.480485Z",
     "start_time": "2017-10-08T12:51:54.463259Z"
    }
   },
   "outputs": [],
   "source": [
    "def lgbm_predict(x):\n",
    "    y_pred=lgbm.predict(x)\n",
    "    return y_pred\n",
    "\n",
    "    \n",
    "def xgb_and_lgbm_predictor(x):\n",
    "    xgb_pred = predict(xgc_predict,x,binary_conv)\n",
    "    lg_predict = predict(lgbm_predict,x,binary_conv)\n",
    "    y_pred = np.logical_and(xgb_pred,lg_predict)\n",
    "    return y_pred\n",
    "\n",
    "def xgb_and_lgbm_regression_predict(x):\n",
    "    y_pred_r = predict(xgr.predict,x,capper)\n",
    "    y_pred = xgb_and_lgbm_predictor(x)\n",
    "    y=np.zeros(y_pred.size)\n",
    "    idx = y_pred==True\n",
    "    y[idx]=y_pred_r[idx]\n",
    "    return y\n"
   ]
  },
  {
   "cell_type": "code",
   "execution_count": 631,
   "metadata": {
    "ExecuteTime": {
     "end_time": "2017-10-08T17:11:33.683800Z",
     "start_time": "2017-10-08T17:10:03.270557Z"
    }
   },
   "outputs": [
    {
     "data": {
      "text/plain": [
       "array([[5997775,       0],\n",
       "       [  24317,    2985]])"
      ]
     },
     "execution_count": 631,
     "metadata": {},
     "output_type": "execute_result"
    }
   ],
   "source": [
    "confusion_matrix(df_train[categorical_output_column].values, predict(lgbm_predict,df_train[features].values,binary_conv))\n",
    "\n"
   ]
  },
  {
   "cell_type": "code",
   "execution_count": 629,
   "metadata": {
    "ExecuteTime": {
     "end_time": "2017-10-08T17:08:29.211131Z",
     "start_time": "2017-10-08T17:07:58.788805Z"
    }
   },
   "outputs": [
    {
     "data": {
      "text/plain": [
       "array([[2019154,      45],\n",
       "       [   1034,      97]])"
      ]
     },
     "execution_count": 629,
     "metadata": {},
     "output_type": "execute_result"
    }
   ],
   "source": [
    "confusion_matrix(df_validation[categorical_output_column].values, predict(lgbm_predict,df_validation[features].values,binary_conv))"
   ]
  },
  {
   "cell_type": "code",
   "execution_count": 630,
   "metadata": {
    "ExecuteTime": {
     "end_time": "2017-10-08T17:09:11.285052Z",
     "start_time": "2017-10-08T17:08:29.212531Z"
    }
   },
   "outputs": [
    {
     "data": {
      "text/plain": [
       "array([[2019168,      31],\n",
       "       [   1057,      74]])"
      ]
     },
     "execution_count": 630,
     "metadata": {},
     "output_type": "execute_result"
    }
   ],
   "source": [
    "confusion_matrix(df_validation[categorical_output_column].values, xgb_and_lgbm_predictor(df_validation[features].values))"
   ]
  },
  {
   "cell_type": "code",
   "execution_count": 365,
   "metadata": {
    "ExecuteTime": {
     "end_time": "2017-10-07T14:02:24.314423Z",
     "start_time": "2017-10-07T14:02:24.286163Z"
    }
   },
   "outputs": [
    {
     "data": {
      "text/plain": [
       "array([[396]])"
      ]
     },
     "execution_count": 365,
     "metadata": {},
     "output_type": "execute_result"
    }
   ],
   "source": [
    "confusion_matrix(df_fraud[categorical_output_column].values, predict(lgbm_predict,df_fraud[features].values,binary_conv))\n"
   ]
  },
  {
   "cell_type": "code",
   "execution_count": 632,
   "metadata": {
    "ExecuteTime": {
     "end_time": "2017-10-08T17:13:16.286470Z",
     "start_time": "2017-10-08T17:12:00.093728Z"
    }
   },
   "outputs": [
    {
     "data": {
      "text/plain": [
       "71.593172745660993"
      ]
     },
     "execution_count": 632,
     "metadata": {},
     "output_type": "execute_result"
    }
   ],
   "source": [
    "mean_squared_error(df_validation[output_column].values,xgb_and_lgbm_regression_predict(df_validation[features].values))"
   ]
  },
  {
   "cell_type": "code",
   "execution_count": 510,
   "metadata": {
    "ExecuteTime": {
     "end_time": "2017-10-08T06:16:58.350589Z",
     "start_time": "2017-10-08T06:16:58.344969Z"
    }
   },
   "outputs": [],
   "source": [
    "def combined_xgb_lgbm_predictor(x):\n",
    "    y_xgb = xgc_predict(x)\n",
    "    y_lb = lgbm_predict(x)\n",
    "    y_pred = (y_xgb+y_lb) / 2\n",
    "    return y_pred\n",
    "    "
   ]
  },
  {
   "cell_type": "code",
   "execution_count": 508,
   "metadata": {
    "ExecuteTime": {
     "end_time": "2017-10-08T06:14:24.868783Z",
     "start_time": "2017-10-08T06:14:24.837342Z"
    }
   },
   "outputs": [],
   "source": [
    "def test_models(df_train):\n",
    "    print(\"Model XGB Classifier\")\n",
    "    cmxb=confusion_matrix(df_train[categorical_output_column].values, predict(xgc_predict,df_train[features].values,binary_conv))\n",
    "    print(cmxb)\n",
    "    print(\"Model LGBM Classifier\")\n",
    "    cmlb=confusion_matrix(df_train[categorical_output_column].values, predict(lgbm_predict,df_train[features].values,binary_conv))\n",
    "    print(cmlb)\n",
    "    \n",
    "    print(\"Model Combined Classifier\")\n",
    "    ccb = confusion_matrix(df_train[categorical_output_column].values, predict(combined_xgb_lgbm_predictor,df_train[features].values,binary_conv))\n",
    "    print(ccb)\n",
    "    \n",
    "    xgv = cmxb[1][1]/(cmxb[1][1]+cmxb[0][1])\n",
    "    lgv = cmlb[1][1]/(cmlb[1][1]+cmlb[0][1])\n",
    "    cv = ccb[1][1]/(ccb[1][1]+ccb[0][1])\n",
    "    print(\" calc precision for XGB: %.4f\" % (xgv*100))\n",
    "    print(\" calc precision for LGBM: %.4f\" % (lgv*100))\n",
    "    print(\" calc precision for Combo model: %.4f\" % (cv*100))\n",
    "\n",
    "\n",
    "    \n",
    "    "
   ]
  },
  {
   "cell_type": "code",
   "execution_count": 108,
   "metadata": {
    "ExecuteTime": {
     "end_time": "2017-09-30T10:05:41.411190Z",
     "start_time": "2017-09-30T10:02:59.499144Z"
    }
   },
   "outputs": [
    {
     "name": "stdout",
     "output_type": "stream",
     "text": [
      "Model XGB Classifier\n",
      "[[5998811       3]\n",
      " [  41346    2764]]\n",
      "Model LGBM Classifier\n",
      "[[5997920     894]\n",
      " [  42372    1738]]\n",
      "Model Combined Classifier\n",
      "[[5998814       0]\n",
      " [  42558    1552]]\n",
      " calc precision for XGB: 99.8916\n",
      " calc precision for LGBM: 66.0334\n",
      " calc precision for Combo model: 100.0000\n"
     ]
    }
   ],
   "source": [
    "test_models(df_train)"
   ]
  },
  {
   "cell_type": "code",
   "execution_count": 549,
   "metadata": {
    "ExecuteTime": {
     "end_time": "2017-10-08T09:44:28.092154Z",
     "start_time": "2017-10-08T09:41:57.838530Z"
    }
   },
   "outputs": [
    {
     "name": "stdout",
     "output_type": "stream",
     "text": [
      "Model XGB Classifier\n",
      "[[2018554     645]\n",
      " [    732     399]]\n",
      "Model LGBM Classifier\n",
      "[[2018735     464]\n",
      " [    722     409]]\n",
      "Model Combined Classifier\n",
      "[[2018737     462]\n",
      " [    721     410]]\n",
      " calc precision for XGB: 38.2184\n",
      " calc precision for LGBM: 46.8499\n",
      " calc precision for Combo model: 47.0183\n"
     ]
    }
   ],
   "source": [
    "test_models(df_validation)"
   ]
  },
  {
   "cell_type": "code",
   "execution_count": 110,
   "metadata": {
    "ExecuteTime": {
     "end_time": "2017-09-30T10:06:36.752449Z",
     "start_time": "2017-09-30T10:06:35.685628Z"
    }
   },
   "outputs": [
    {
     "name": "stdout",
     "output_type": "stream",
     "text": [
      "Model XGB Classifier\n",
      "[[    0     0]\n",
      " [33142  1382]]\n",
      "Model LGBM Classifier\n",
      "[[    0     0]\n",
      " [33654   870]]\n",
      "Model Combined Classifier\n",
      "[[    0     0]\n",
      " [33748   776]]\n",
      " calc precision for XGB: 100.0000\n",
      " calc precision for LGBM: 100.0000\n",
      " calc precision for Combo model: 100.0000\n"
     ]
    }
   ],
   "source": [
    "test_models(df_conv_status)"
   ]
  },
  {
   "cell_type": "code",
   "execution_count": 569,
   "metadata": {
    "ExecuteTime": {
     "end_time": "2017-10-08T12:15:14.193214Z",
     "start_time": "2017-10-08T12:11:25.284034Z"
    }
   },
   "outputs": [
    {
     "data": {
      "text/plain": [
       "1265"
      ]
     },
     "execution_count": 569,
     "metadata": {},
     "output_type": "execute_result"
    }
   ],
   "source": [
    "np.sum(xgb_and_lgbm_predictor(df_test[features].values))"
   ]
  },
  {
   "cell_type": "markdown",
   "metadata": {
    "heading_collapsed": true
   },
   "source": [
    "#### Verify if frauds predicted correctly"
   ]
  },
  {
   "cell_type": "code",
   "execution_count": 128,
   "metadata": {
    "ExecuteTime": {
     "end_time": "2017-09-30T10:24:50.833661Z",
     "start_time": "2017-09-30T10:24:50.123375Z"
    },
    "hidden": true
   },
   "outputs": [
    {
     "data": {
      "text/plain": [
       "104211"
      ]
     },
     "execution_count": 128,
     "metadata": {},
     "output_type": "execute_result"
    },
    {
     "data": {
      "text/plain": [
       "0"
      ]
     },
     "execution_count": 128,
     "metadata": {},
     "output_type": "execute_result"
    }
   ],
   "source": [
    "np.sum(df_test[df_test[\"Fraud\"]==1][\"Fraud\"])\n",
    "np.sum(predict(xgc_predict,df_test[df_test[\"Fraud\"]==1][features].values,binary_conv))"
   ]
  },
  {
   "cell_type": "code",
   "execution_count": 129,
   "metadata": {
    "ExecuteTime": {
     "end_time": "2017-09-30T10:24:50.875571Z",
     "start_time": "2017-09-30T10:24:50.835951Z"
    },
    "hidden": true
   },
   "outputs": [
    {
     "data": {
      "text/plain": [
       "2174"
      ]
     },
     "execution_count": 129,
     "metadata": {},
     "output_type": "execute_result"
    },
    {
     "data": {
      "text/plain": [
       "0"
      ]
     },
     "execution_count": 129,
     "metadata": {},
     "output_type": "execute_result"
    }
   ],
   "source": [
    "np.sum(df_train[df_train[\"Fraud\"]==1][\"Fraud\"])\n",
    "np.sum(predict(xgc_predict,df_train[df_train[\"Fraud\"]==1][features].values,binary_conv))"
   ]
  },
  {
   "cell_type": "code",
   "execution_count": 130,
   "metadata": {
    "ExecuteTime": {
     "end_time": "2017-09-30T10:24:51.235298Z",
     "start_time": "2017-09-30T10:24:50.877651Z"
    },
    "hidden": true
   },
   "outputs": [
    {
     "data": {
      "text/plain": [
       "396"
      ]
     },
     "execution_count": 130,
     "metadata": {},
     "output_type": "execute_result"
    },
    {
     "data": {
      "text/plain": [
       "0"
      ]
     },
     "execution_count": 130,
     "metadata": {},
     "output_type": "execute_result"
    },
    {
     "data": {
      "text/plain": [
       "3195"
      ]
     },
     "execution_count": 130,
     "metadata": {},
     "output_type": "execute_result"
    },
    {
     "data": {
      "text/plain": [
       "20"
      ]
     },
     "execution_count": 130,
     "metadata": {},
     "output_type": "execute_result"
    }
   ],
   "source": [
    "np.sum(df_fraud[\"Fraud\"])\n",
    "np.sum(predict(xgc_predict,df_fraud[features].values,binary_conv))\n",
    "\n",
    "np.sum(df_fraud_trainer[\"Fraud\"])\n",
    "np.sum(predict(xgc_predict,df_fraud_trainer[features].values,binary_conv))"
   ]
  },
  {
   "cell_type": "code",
   "execution_count": 91,
   "metadata": {
    "ExecuteTime": {
     "end_time": "2017-09-28T19:25:24.538737Z",
     "start_time": "2017-09-28T19:25:22.980755Z"
    },
    "hidden": true
   },
   "outputs": [
    {
     "data": {
      "text/plain": [
       "396"
      ]
     },
     "execution_count": 91,
     "metadata": {},
     "output_type": "execute_result"
    },
    {
     "data": {
      "text/plain": [
       "0"
      ]
     },
     "execution_count": 91,
     "metadata": {},
     "output_type": "execute_result"
    },
    {
     "data": {
      "text/plain": [
       "2383286"
      ]
     },
     "execution_count": 91,
     "metadata": {},
     "output_type": "execute_result"
    },
    {
     "data": {
      "text/plain": [
       "0"
      ]
     },
     "execution_count": 91,
     "metadata": {},
     "output_type": "execute_result"
    }
   ],
   "source": [
    "np.sum(df_fraud[\"Fraud\"])\n",
    "np.sum(predict(xgf_predict,df_fraud[features].values,binary_conv))\n",
    "\n",
    "np.sum(df_fraud_trainer[\"Fraud\"])\n",
    "np.sum(predict(xgf_predict,df_fraud_trainer[features].values,binary_conv))"
   ]
  },
  {
   "cell_type": "code",
   "execution_count": 226,
   "metadata": {
    "ExecuteTime": {
     "end_time": "2017-09-22T07:17:37.476951Z",
     "start_time": "2017-09-22T07:17:37.398935Z"
    },
    "hidden": true
   },
   "outputs": [
    {
     "name": "stdout",
     "output_type": "stream",
     "text": [
      "Model XGB Classifier\n",
      "[[396]]\n",
      "Model LGBM Classifier\n",
      "[[396]]\n",
      "Model Combined Classifier\n",
      "[[396]]\n"
     ]
    },
    {
     "ename": "IndexError",
     "evalue": "index 1 is out of bounds for axis 0 with size 1",
     "output_type": "error",
     "traceback": [
      "\u001b[0;31m---------------------------------------------------------------------------\u001b[0m",
      "\u001b[0;31mIndexError\u001b[0m                                Traceback (most recent call last)",
      "\u001b[0;32m<ipython-input-226-3fd9106e0949>\u001b[0m in \u001b[0;36m<module>\u001b[0;34m()\u001b[0m\n\u001b[0;32m----> 1\u001b[0;31m \u001b[0mtest_models\u001b[0m\u001b[0;34m(\u001b[0m\u001b[0mdf_fraud\u001b[0m\u001b[0;34m)\u001b[0m\u001b[0;34m\u001b[0m\u001b[0m\n\u001b[0m",
      "\u001b[0;32m<ipython-input-162-622193807df6>\u001b[0m in \u001b[0;36mtest_models\u001b[0;34m(df_train)\u001b[0m\n\u001b[1;32m     11\u001b[0m     \u001b[0mprint\u001b[0m\u001b[0;34m(\u001b[0m\u001b[0mccb\u001b[0m\u001b[0;34m)\u001b[0m\u001b[0;34m\u001b[0m\u001b[0m\n\u001b[1;32m     12\u001b[0m \u001b[0;34m\u001b[0m\u001b[0m\n\u001b[0;32m---> 13\u001b[0;31m     \u001b[0mxgv\u001b[0m \u001b[0;34m=\u001b[0m \u001b[0mcmxb\u001b[0m\u001b[0;34m[\u001b[0m\u001b[0;36m1\u001b[0m\u001b[0;34m]\u001b[0m\u001b[0;34m[\u001b[0m\u001b[0;36m1\u001b[0m\u001b[0;34m]\u001b[0m\u001b[0;34m/\u001b[0m\u001b[0;34m(\u001b[0m\u001b[0mcmxb\u001b[0m\u001b[0;34m[\u001b[0m\u001b[0;36m1\u001b[0m\u001b[0;34m]\u001b[0m\u001b[0;34m[\u001b[0m\u001b[0;36m1\u001b[0m\u001b[0;34m]\u001b[0m\u001b[0;34m+\u001b[0m\u001b[0mcmxb\u001b[0m\u001b[0;34m[\u001b[0m\u001b[0;36m0\u001b[0m\u001b[0;34m]\u001b[0m\u001b[0;34m[\u001b[0m\u001b[0;36m1\u001b[0m\u001b[0;34m]\u001b[0m\u001b[0;34m)\u001b[0m\u001b[0;34m\u001b[0m\u001b[0m\n\u001b[0m\u001b[1;32m     14\u001b[0m     \u001b[0mlgv\u001b[0m \u001b[0;34m=\u001b[0m \u001b[0mcmlb\u001b[0m\u001b[0;34m[\u001b[0m\u001b[0;36m1\u001b[0m\u001b[0;34m]\u001b[0m\u001b[0;34m[\u001b[0m\u001b[0;36m1\u001b[0m\u001b[0;34m]\u001b[0m\u001b[0;34m/\u001b[0m\u001b[0;34m(\u001b[0m\u001b[0mcmlb\u001b[0m\u001b[0;34m[\u001b[0m\u001b[0;36m1\u001b[0m\u001b[0;34m]\u001b[0m\u001b[0;34m[\u001b[0m\u001b[0;36m1\u001b[0m\u001b[0;34m]\u001b[0m\u001b[0;34m+\u001b[0m\u001b[0mcmlb\u001b[0m\u001b[0;34m[\u001b[0m\u001b[0;36m0\u001b[0m\u001b[0;34m]\u001b[0m\u001b[0;34m[\u001b[0m\u001b[0;36m1\u001b[0m\u001b[0;34m]\u001b[0m\u001b[0;34m)\u001b[0m\u001b[0;34m\u001b[0m\u001b[0m\n\u001b[1;32m     15\u001b[0m     \u001b[0mcv\u001b[0m \u001b[0;34m=\u001b[0m \u001b[0mccb\u001b[0m\u001b[0;34m[\u001b[0m\u001b[0;36m1\u001b[0m\u001b[0;34m]\u001b[0m\u001b[0;34m[\u001b[0m\u001b[0;36m1\u001b[0m\u001b[0;34m]\u001b[0m\u001b[0;34m/\u001b[0m\u001b[0;34m(\u001b[0m\u001b[0mccb\u001b[0m\u001b[0;34m[\u001b[0m\u001b[0;36m1\u001b[0m\u001b[0;34m]\u001b[0m\u001b[0;34m[\u001b[0m\u001b[0;36m1\u001b[0m\u001b[0;34m]\u001b[0m\u001b[0;34m+\u001b[0m\u001b[0mccb\u001b[0m\u001b[0;34m[\u001b[0m\u001b[0;36m0\u001b[0m\u001b[0;34m]\u001b[0m\u001b[0;34m[\u001b[0m\u001b[0;36m1\u001b[0m\u001b[0;34m]\u001b[0m\u001b[0;34m)\u001b[0m\u001b[0;34m\u001b[0m\u001b[0m\n",
      "\u001b[0;31mIndexError\u001b[0m: index 1 is out of bounds for axis 0 with size 1"
     ]
    }
   ],
   "source": [
    "test_models(df_fraud)"
   ]
  },
  {
   "cell_type": "markdown",
   "metadata": {
    "heading_collapsed": true
   },
   "source": [
    "### Plot importance"
   ]
  },
  {
   "cell_type": "code",
   "execution_count": 66,
   "metadata": {
    "ExecuteTime": {
     "end_time": "2017-09-30T14:01:57.332411Z",
     "start_time": "2017-09-30T14:01:57.320905Z"
    },
    "hidden": true
   },
   "outputs": [],
   "source": [
    "def plot_importance(model,df,features):\n",
    "    from xgboost import plot_importance\n",
    "    plot_importance(model)\n",
    "    plt.show()\n",
    "    fi=model.feature_importances_\n",
    "\n",
    "    fn=df[features].columns.values\n",
    "\n",
    "    df_i=pd.DataFrame({\"feature\":fn,\"importance\":fi})\n",
    "    df_i[\"importance\"] = df_i[\"importance\"]*100\n",
    "    return df_i.sort_values(\"importance\",ascending=False)\n",
    "    \n",
    "# plot_importance(xgc,df_train,features)"
   ]
  },
  {
   "cell_type": "code",
   "execution_count": 334,
   "metadata": {
    "ExecuteTime": {
     "end_time": "2017-10-02T19:51:33.095526Z",
     "start_time": "2017-10-02T19:51:29.059652Z"
    },
    "collapsed": true,
    "hidden": true
   },
   "outputs": [
    {
     "data": {
      "image/png": "[encoded data removed]",
      "text/plain": [
       "<matplotlib.figure.Figure at 0x7fd1dc837a90>"
      ]
     },
     "metadata": {},
     "output_type": "display_data"
    },
    {
     "data": {
      "text/html": [
       "<div>\n",
       "<style scoped>\n",
       "    .dataframe tbody tr th:only-of-type {\n",
       "        vertical-align: middle;\n",
       "    }\n",
       "\n",
       "    .dataframe tbody tr th {\n",
       "        vertical-align: top;\n",
       "    }\n",
       "\n",
       "    .dataframe thead th {\n",
       "        text-align: right;\n",
       "    }\n",
       "</style>\n",
       "<table border=\"1\" class=\"dataframe\">\n",
       "  <thead>\n",
       "    <tr style=\"text-align: right;\">\n",
       "      <th></th>\n",
       "      <th>feature</th>\n",
       "      <th>importance</th>\n",
       "    </tr>\n",
       "  </thead>\n",
       "  <tbody>\n",
       "    <tr>\n",
       "      <th>12</th>\n",
       "      <td>offset_hours</td>\n",
       "      <td>12.537991</td>\n",
       "    </tr>\n",
       "    <tr>\n",
       "      <th>5</th>\n",
       "      <td>publisherId</td>\n",
       "      <td>11.096350</td>\n",
       "    </tr>\n",
       "    <tr>\n",
       "      <th>7</th>\n",
       "      <td>advertiserCampaignId</td>\n",
       "      <td>9.888101</td>\n",
       "    </tr>\n",
       "    <tr>\n",
       "      <th>13</th>\n",
       "      <td>hour</td>\n",
       "      <td>9.185104</td>\n",
       "    </tr>\n",
       "    <tr>\n",
       "      <th>2</th>\n",
       "      <td>Device</td>\n",
       "      <td>8.180496</td>\n",
       "    </tr>\n",
       "    <tr>\n",
       "      <th>10</th>\n",
       "      <td>dayofweek</td>\n",
       "      <td>7.072528</td>\n",
       "    </tr>\n",
       "    <tr>\n",
       "      <th>11</th>\n",
       "      <td>dayofyear</td>\n",
       "      <td>7.016104</td>\n",
       "    </tr>\n",
       "    <tr>\n",
       "      <th>15</th>\n",
       "      <td>subnet</td>\n",
       "      <td>5.778360</td>\n",
       "    </tr>\n",
       "    <tr>\n",
       "      <th>14</th>\n",
       "      <td>network</td>\n",
       "      <td>4.224128</td>\n",
       "    </tr>\n",
       "    <tr>\n",
       "      <th>17</th>\n",
       "      <td>region_code</td>\n",
       "      <td>3.760679</td>\n",
       "    </tr>\n",
       "    <tr>\n",
       "      <th>0</th>\n",
       "      <td>Carrier</td>\n",
       "      <td>3.460091</td>\n",
       "    </tr>\n",
       "    <tr>\n",
       "      <th>18</th>\n",
       "      <td>postal_code</td>\n",
       "      <td>2.619370</td>\n",
       "    </tr>\n",
       "    <tr>\n",
       "      <th>1</th>\n",
       "      <td>TrafficType</td>\n",
       "      <td>2.454200</td>\n",
       "    </tr>\n",
       "    <tr>\n",
       "      <th>3</th>\n",
       "      <td>Browser</td>\n",
       "      <td>2.434708</td>\n",
       "    </tr>\n",
       "    <tr>\n",
       "      <th>16</th>\n",
       "      <td>city</td>\n",
       "      <td>2.433682</td>\n",
       "    </tr>\n",
       "    <tr>\n",
       "      <th>9</th>\n",
       "      <td>Country</td>\n",
       "      <td>2.100523</td>\n",
       "    </tr>\n",
       "    <tr>\n",
       "      <th>19</th>\n",
       "      <td>url</td>\n",
       "      <td>1.487806</td>\n",
       "    </tr>\n",
       "    <tr>\n",
       "      <th>25</th>\n",
       "      <td>desktop_browser</td>\n",
       "      <td>1.432921</td>\n",
       "    </tr>\n",
       "    <tr>\n",
       "      <th>21</th>\n",
       "      <td>RefererUrl</td>\n",
       "      <td>1.031795</td>\n",
       "    </tr>\n",
       "    <tr>\n",
       "      <th>20</th>\n",
       "      <td>sub_domain</td>\n",
       "      <td>0.666576</td>\n",
       "    </tr>\n",
       "    <tr>\n",
       "      <th>6</th>\n",
       "      <td>subPublisherId</td>\n",
       "      <td>0.532953</td>\n",
       "    </tr>\n",
       "    <tr>\n",
       "      <th>24</th>\n",
       "      <td>browser_age</td>\n",
       "      <td>0.475503</td>\n",
       "    </tr>\n",
       "    <tr>\n",
       "      <th>4</th>\n",
       "      <td>OS</td>\n",
       "      <td>0.095665</td>\n",
       "    </tr>\n",
       "    <tr>\n",
       "      <th>22</th>\n",
       "      <td>device_type</td>\n",
       "      <td>0.022570</td>\n",
       "    </tr>\n",
       "    <tr>\n",
       "      <th>23</th>\n",
       "      <td>old_or_new</td>\n",
       "      <td>0.011798</td>\n",
       "    </tr>\n",
       "    <tr>\n",
       "      <th>8</th>\n",
       "      <td>Fraud</td>\n",
       "      <td>0.000000</td>\n",
       "    </tr>\n",
       "  </tbody>\n",
       "</table>\n",
       "</div>"
      ],
      "text/plain": [
       "                 feature  importance\n",
       "12          offset_hours   12.537991\n",
       "5            publisherId   11.096350\n",
       "7   advertiserCampaignId    9.888101\n",
       "13                  hour    9.185104\n",
       "2                 Device    8.180496\n",
       "10             dayofweek    7.072528\n",
       "11             dayofyear    7.016104\n",
       "15                subnet    5.778360\n",
       "14               network    4.224128\n",
       "17           region_code    3.760679\n",
       "0                Carrier    3.460091\n",
       "18           postal_code    2.619370\n",
       "1            TrafficType    2.454200\n",
       "3                Browser    2.434708\n",
       "16                  city    2.433682\n",
       "9                Country    2.100523\n",
       "19                   url    1.487806\n",
       "25       desktop_browser    1.432921\n",
       "21            RefererUrl    1.031795\n",
       "20            sub_domain    0.666576\n",
       "6         subPublisherId    0.532953\n",
       "24           browser_age    0.475503\n",
       "4                     OS    0.095665\n",
       "22           device_type    0.022570\n",
       "23            old_or_new    0.011798\n",
       "8                  Fraud    0.000000"
      ]
     },
     "execution_count": 334,
     "metadata": {},
     "output_type": "execute_result"
    }
   ],
   "source": [
    "plot_importance(xgc,df_train,features)"
   ]
  },
  {
   "cell_type": "code",
   "execution_count": 266,
   "metadata": {
    "ExecuteTime": {
     "end_time": "2017-09-23T16:33:34.320795Z",
     "start_time": "2017-09-23T16:33:32.742997Z"
    },
    "collapsed": true,
    "hidden": true
   },
   "outputs": [
    {
     "data": {
      "image/png": "[encoded data removed]",
      "text/plain": [
       "<matplotlib.figure.Figure at 0x7feb6016cdd8>"
      ]
     },
     "metadata": {},
     "output_type": "display_data"
    },
    {
     "data": {
      "text/html": [
       "<div>\n",
       "<style>\n",
       "    .dataframe thead tr:only-child th {\n",
       "        text-align: right;\n",
       "    }\n",
       "\n",
       "    .dataframe thead th {\n",
       "        text-align: left;\n",
       "    }\n",
       "\n",
       "    .dataframe tbody tr th {\n",
       "        vertical-align: top;\n",
       "    }\n",
       "</style>\n",
       "<table border=\"1\" class=\"dataframe\">\n",
       "  <thead>\n",
       "    <tr style=\"text-align: right;\">\n",
       "      <th></th>\n",
       "      <th>feature</th>\n",
       "      <th>importance</th>\n",
       "    </tr>\n",
       "  </thead>\n",
       "  <tbody>\n",
       "    <tr>\n",
       "      <th>12</th>\n",
       "      <td>offset_hours</td>\n",
       "      <td>9.517708</td>\n",
       "    </tr>\n",
       "    <tr>\n",
       "      <th>5</th>\n",
       "      <td>publisherId</td>\n",
       "      <td>8.144992</td>\n",
       "    </tr>\n",
       "    <tr>\n",
       "      <th>7</th>\n",
       "      <td>advertiserCampaignId</td>\n",
       "      <td>7.768577</td>\n",
       "    </tr>\n",
       "    <tr>\n",
       "      <th>2</th>\n",
       "      <td>Device</td>\n",
       "      <td>7.626019</td>\n",
       "    </tr>\n",
       "    <tr>\n",
       "      <th>14</th>\n",
       "      <td>network</td>\n",
       "      <td>6.113950</td>\n",
       "    </tr>\n",
       "    <tr>\n",
       "      <th>19</th>\n",
       "      <td>url</td>\n",
       "      <td>5.964985</td>\n",
       "    </tr>\n",
       "    <tr>\n",
       "      <th>10</th>\n",
       "      <td>dayofweek</td>\n",
       "      <td>5.593375</td>\n",
       "    </tr>\n",
       "    <tr>\n",
       "      <th>17</th>\n",
       "      <td>region_code</td>\n",
       "      <td>5.215358</td>\n",
       "    </tr>\n",
       "    <tr>\n",
       "      <th>13</th>\n",
       "      <td>hour</td>\n",
       "      <td>5.154490</td>\n",
       "    </tr>\n",
       "    <tr>\n",
       "      <th>11</th>\n",
       "      <td>dayofyear</td>\n",
       "      <td>5.040765</td>\n",
       "    </tr>\n",
       "    <tr>\n",
       "      <th>3</th>\n",
       "      <td>Browser</td>\n",
       "      <td>4.185421</td>\n",
       "    </tr>\n",
       "    <tr>\n",
       "      <th>16</th>\n",
       "      <td>city</td>\n",
       "      <td>4.049270</td>\n",
       "    </tr>\n",
       "    <tr>\n",
       "      <th>0</th>\n",
       "      <td>Carrier</td>\n",
       "      <td>3.965978</td>\n",
       "    </tr>\n",
       "    <tr>\n",
       "      <th>18</th>\n",
       "      <td>postal_code</td>\n",
       "      <td>3.778572</td>\n",
       "    </tr>\n",
       "    <tr>\n",
       "      <th>21</th>\n",
       "      <td>RefererUrl</td>\n",
       "      <td>3.333280</td>\n",
       "    </tr>\n",
       "    <tr>\n",
       "      <th>15</th>\n",
       "      <td>subnet</td>\n",
       "      <td>3.147475</td>\n",
       "    </tr>\n",
       "    <tr>\n",
       "      <th>20</th>\n",
       "      <td>sub_domain</td>\n",
       "      <td>2.726210</td>\n",
       "    </tr>\n",
       "    <tr>\n",
       "      <th>1</th>\n",
       "      <td>TrafficType</td>\n",
       "      <td>2.444299</td>\n",
       "    </tr>\n",
       "    <tr>\n",
       "      <th>9</th>\n",
       "      <td>Country</td>\n",
       "      <td>1.942945</td>\n",
       "    </tr>\n",
       "    <tr>\n",
       "      <th>6</th>\n",
       "      <td>subPublisherId</td>\n",
       "      <td>1.249379</td>\n",
       "    </tr>\n",
       "    <tr>\n",
       "      <th>24</th>\n",
       "      <td>browser_age</td>\n",
       "      <td>1.142061</td>\n",
       "    </tr>\n",
       "    <tr>\n",
       "      <th>25</th>\n",
       "      <td>desktop_browser</td>\n",
       "      <td>0.996300</td>\n",
       "    </tr>\n",
       "    <tr>\n",
       "      <th>4</th>\n",
       "      <td>OS</td>\n",
       "      <td>0.539796</td>\n",
       "    </tr>\n",
       "    <tr>\n",
       "      <th>23</th>\n",
       "      <td>old_or_new</td>\n",
       "      <td>0.201823</td>\n",
       "    </tr>\n",
       "    <tr>\n",
       "      <th>22</th>\n",
       "      <td>device_type</td>\n",
       "      <td>0.145761</td>\n",
       "    </tr>\n",
       "    <tr>\n",
       "      <th>8</th>\n",
       "      <td>Fraud</td>\n",
       "      <td>0.011212</td>\n",
       "    </tr>\n",
       "  </tbody>\n",
       "</table>\n",
       "</div>"
      ],
      "text/plain": [
       "                 feature  importance\n",
       "12          offset_hours    9.517708\n",
       "5            publisherId    8.144992\n",
       "7   advertiserCampaignId    7.768577\n",
       "2                 Device    7.626019\n",
       "14               network    6.113950\n",
       "19                   url    5.964985\n",
       "10             dayofweek    5.593375\n",
       "17           region_code    5.215358\n",
       "13                  hour    5.154490\n",
       "11             dayofyear    5.040765\n",
       "3                Browser    4.185421\n",
       "16                  city    4.049270\n",
       "0                Carrier    3.965978\n",
       "18           postal_code    3.778572\n",
       "21            RefererUrl    3.333280\n",
       "15                subnet    3.147475\n",
       "20            sub_domain    2.726210\n",
       "1            TrafficType    2.444299\n",
       "9                Country    1.942945\n",
       "6         subPublisherId    1.249379\n",
       "24           browser_age    1.142061\n",
       "25       desktop_browser    0.996300\n",
       "4                     OS    0.539796\n",
       "23            old_or_new    0.201823\n",
       "22           device_type    0.145761\n",
       "8                  Fraud    0.011212"
      ]
     },
     "execution_count": 266,
     "metadata": {},
     "output_type": "execute_result"
    }
   ],
   "source": [
    "plot_importance(xgr,df_train,features)"
   ]
  },
  {
   "cell_type": "code",
   "execution_count": null,
   "metadata": {
    "hidden": true
   },
   "outputs": [],
   "source": []
  },
  {
   "cell_type": "markdown",
   "metadata": {},
   "source": [
    "### Predict for test set\n"
   ]
  },
  {
   "cell_type": "code",
   "execution_count": 633,
   "metadata": {
    "ExecuteTime": {
     "end_time": "2017-10-08T17:30:38.039461Z",
     "start_time": "2017-10-08T17:14:08.044697Z"
    }
   },
   "outputs": [
    {
     "data": {
      "text/plain": [
       "132"
      ]
     },
     "execution_count": 633,
     "metadata": {},
     "output_type": "execute_result"
    },
    {
     "name": "stdout",
     "output_type": "stream",
     "text": [
      "No convertor given, using model directly\n",
      "(25548873, 2)\n",
      "2150.948630094528\n"
     ]
    }
   ],
   "source": [
    "gc.collect()\n",
    "def predict_and_store(model,df_test,filename,output_column,output_convertor):\n",
    "    X_t = df_test[features].values\n",
    "    y_t=None\n",
    "    if(output_convertor==None):\n",
    "        print(\"No convertor given, using model directly\")\n",
    "        y_t = model(X_t)\n",
    "    else:\n",
    "        y_t = predict(model,X_t,output_convertor)\n",
    "    ids =np.array(df_test[\"ID\"]).astype(int)\n",
    "#     my_solution = pd.DataFrame(y_t, ids, columns = [output_column])\n",
    "    my_solution = pd.DataFrame({\"ID\":df_test[\"ID\"],\"ConversionPayOut\":y_t})\n",
    "#     my_solution[output_column] = my_solution[output_column].round(3)\n",
    "\n",
    "    print(my_solution.shape)\n",
    "#     my_solution.to_csv(filename, index_label = [\"ID\"])\n",
    "    print(np.sum(my_solution[\"ConversionPayOut\"]))\n",
    "    my_solution.to_csv(filename,index=False,columns=[\"ID\",\"ConversionPayOut\"])\n",
    "\n",
    "predict_and_store(xgb_and_lgbm_regression_predict,df_test,\"results-model-1.csv\",output_column,None)\n",
    "# predict_and_store(xgc_regression_predict,df_test,\"results-model-1.csv\",output_column,None)\n",
    "# predict_and_store(xgc_predict,df_test,\"results-model-1.csv\",features,output_column,binary_linear_conv)\n",
    "# predict_and_store(combined_xgb_lgbm_predictor,df_test,\"results-model-1.csv\",features,output_column,binary_linear_conv)\n",
    "# predict_and_store(xgc_predict,df_test,\"results-model-1.csv\",features,output_column,binary_conv)\n",
    "# predict_and_store(combined_xgb_lgbm_predictor,df_test,\"results-model-1.csv\",features,output_column,binary_conv)\n",
    "# predict_and_store(xgr.predict,df_test,\"results-model-1.csv\",features,output_column,capper)"
   ]
  },
  {
   "cell_type": "markdown",
   "metadata": {},
   "source": [
    "### Snippets"
   ]
  },
  {
   "cell_type": "code",
   "execution_count": null,
   "metadata": {
    "ExecuteTime": {
     "start_time": "2017-10-04T15:43:18.437Z"
    }
   },
   "outputs": [],
   "source": [
    "df_conv_filtered.head()"
   ]
  },
  {
   "cell_type": "code",
   "execution_count": null,
   "metadata": {},
   "outputs": [],
   "source": [
    "import scipy\n",
    "scipy.stats.pearsonr(df_conv_filtered['hour'],df_conv_filtered['offset_hours'])"
   ]
  }
 ],
 "metadata": {
  "hide_input": false,
  "kernelspec": {
   "display_name": "Python 3",
   "language": "python",
   "name": "python3"
  },
  "language_info": {
   "codemirror_mode": {
    "name": "ipython",
    "version": 3
   },
   "file_extension": ".py",
   "mimetype": "text/x-python",
   "name": "python",
   "nbconvert_exporter": "python",
   "pygments_lexer": "ipython3",
   "version": "3.6.1"
  },
  "toc": {
   "nav_menu": {
    "height": "48px",
    "width": "252px"
   },
   "number_sections": true,
   "sideBar": true,
   "skip_h1_title": false,
   "toc_cell": false,
   "toc_position": {},
   "toc_section_display": "block",
   "toc_window_display": true
  },
  "varInspector": {
   "cols": {
    "lenName": 16,
    "lenType": 16,
    "lenVar": 40
   },
   "kernels_config": {
    "python": {
     "delete_cmd_postfix": "",
     "delete_cmd_prefix": "del ",
     "library": "var_list.py",
     "varRefreshCmd": "print(var_dic_list())"
    },
    "r": {
     "delete_cmd_postfix": ") ",
     "delete_cmd_prefix": "rm(",
     "library": "var_list.r",
     "varRefreshCmd": "cat(var_dic_list()) "
    }
   },
   "types_to_exclude": [
    "module",
    "function",
    "builtin_function_or_method",
    "instance",
    "_Feature"
   ],
   "window_display": false
  }
 },
 "nbformat": 4,
 "nbformat_minor": 2
}
