{
 "cells": [
  {
   "cell_type": "code",
   "execution_count": 1,
   "metadata": {
    "ExecuteTime": {
     "end_time": "2017-09-21T00:14:04.167120Z",
     "start_time": "2017-09-21T00:14:02.701586Z"
    }
   },
   "outputs": [
    {
     "ename": "ModuleNotFoundError",
     "evalue": "No module named 'catboost'",
     "output_type": "error",
     "traceback": [
      "\u001b[0;31m---------------------------------------------------------------------------\u001b[0m",
      "\u001b[0;31mModuleNotFoundError\u001b[0m                       Traceback (most recent call last)",
      "\u001b[0;32m<ipython-input-1-06dc2f544d09>\u001b[0m in \u001b[0;36m<module>\u001b[0;34m()\u001b[0m\n\u001b[1;32m     31\u001b[0m \u001b[0;32mfrom\u001b[0m \u001b[0msklearn\u001b[0m\u001b[0;34m.\u001b[0m\u001b[0mmetrics\u001b[0m \u001b[0;32mimport\u001b[0m \u001b[0maccuracy_score\u001b[0m\u001b[0;34m\u001b[0m\u001b[0m\n\u001b[1;32m     32\u001b[0m \u001b[0;34m\u001b[0m\u001b[0m\n\u001b[0;32m---> 33\u001b[0;31m \u001b[0;32mfrom\u001b[0m \u001b[0mcatboost\u001b[0m \u001b[0;32mimport\u001b[0m \u001b[0mPool\u001b[0m\u001b[0;34m,\u001b[0m \u001b[0mCatBoostRegressor\u001b[0m\u001b[0;34m\u001b[0m\u001b[0m\n\u001b[0m\u001b[1;32m     34\u001b[0m \u001b[0;34m\u001b[0m\u001b[0m\n\u001b[1;32m     35\u001b[0m \u001b[0mInteractiveShell\u001b[0m\u001b[0;34m.\u001b[0m\u001b[0mast_node_interactivity\u001b[0m \u001b[0;34m=\u001b[0m \u001b[0;34m\"all\"\u001b[0m\u001b[0;34m\u001b[0m\u001b[0m\n",
      "\u001b[0;31mModuleNotFoundError\u001b[0m: No module named 'catboost'"
     ]
    }
   ],
   "source": [
    "import numpy as np # linear algebra\n",
    "import pandas as pd # data processing, CSV file I/O (e.g. pd.read_csv)\n",
    "import matplotlib as mplt\n",
    "import matplotlib.pyplot as plt\n",
    "from sklearn.model_selection import train_test_split\n",
    "from sklearn.metrics import mean_squared_error\n",
    "from IPython.core.interactiveshell import InteractiveShell\n",
    "from sklearn.ensemble import RandomForestRegressor\n",
    "from sklearn.metrics import explained_variance_score\n",
    "from sklearn.preprocessing import LabelEncoder\n",
    "from sklearn.metrics import confusion_matrix\n",
    "from sklearn.model_selection import GridSearchCV\n",
    "%matplotlib inline\n",
    "import seaborn as sns\n",
    "import math\n",
    "import gc\n",
    "\n",
    "import sys\n",
    "from pathlib import Path\n",
    "d = Path().resolve().parent.parent\n",
    "sys.path.insert(0, str(d))\n",
    "import util.utils as utils\n",
    "import util.plot_utils as plot_utils\n",
    "\n",
    "\n",
    "\n",
    "plt.rcParams[\"figure.figsize\"] = (12,4)\n",
    "\n",
    "from xgboost import XGBClassifier\n",
    "import xgboost as xgb\n",
    "from sklearn.metrics import accuracy_score\n",
    "\n",
    "from catboost import Pool, CatBoostRegressor\n",
    "\n",
    "InteractiveShell.ast_node_interactivity = \"all\"\n",
    "np.set_printoptions(precision=2)"
   ]
  },
  {
   "cell_type": "code",
   "execution_count": 2,
   "metadata": {
    "ExecuteTime": {
     "end_time": "2017-09-21T00:14:05.448432Z",
     "start_time": "2017-09-21T00:14:05.444854Z"
    },
    "collapsed": true
   },
   "outputs": [],
   "source": [
    "project_name=\"click-prediction\"\n",
    "def get_file_location(filename):\n",
    "    return \"../data/%s/%s\" % (project_name,filename)"
   ]
  },
  {
   "cell_type": "code",
   "execution_count": 3,
   "metadata": {
    "ExecuteTime": {
     "end_time": "2017-09-21T00:14:07.379966Z",
     "start_time": "2017-09-21T00:14:07.372257Z"
    },
    "collapsed": true
   },
   "outputs": [],
   "source": [
    "def fast_read_and_append(file_path,chunksize,fullsize):\n",
    "    # in chunk reading be careful as pandas might infer a columns dtype as different for diff chunk\n",
    "    # As such specifying a dtype while reading by giving params to read_csv maybe better\n",
    "    # Label encoding will fail if half the rows for same column is int and rest are str\n",
    "    # In case of that already happened then df_test[\"publisherId\"] = df_test[\"publisherId\"].apply(str)\n",
    "    df = pd.DataFrame()\n",
    "    iterations = 0\n",
    "    total_needed_iters = math.ceil(fullsize/chunksize)\n",
    "    for x in pd.read_csv(file_path, chunksize=chunksize,low_memory=False):\n",
    "        print(\"iterations= %s out of %s\" %  (iterations,total_needed_iters))\n",
    "        df = pd.concat([df, x], ignore_index=True)\n",
    "        iterations += 1\n",
    "        gc.collect()\n",
    "    return df"
   ]
  },
  {
   "cell_type": "code",
   "execution_count": 4,
   "metadata": {
    "ExecuteTime": {
     "end_time": "2017-09-21T00:26:22.576402Z",
     "start_time": "2017-09-21T00:14:50.555951Z"
    },
    "collapsed": true
   },
   "outputs": [
    {
     "name": "stdout",
     "output_type": "stream",
     "text": [
      "iterations= 0 out of 64\n",
      "iterations= 1 out of 64\n",
      "iterations= 2 out of 64\n",
      "iterations= 3 out of 64\n",
      "iterations= 4 out of 64\n",
      "iterations= 5 out of 64\n",
      "iterations= 6 out of 64\n",
      "iterations= 7 out of 64\n",
      "iterations= 8 out of 64\n",
      "iterations= 9 out of 64\n",
      "iterations= 10 out of 64\n",
      "iterations= 11 out of 64\n",
      "iterations= 12 out of 64\n",
      "iterations= 13 out of 64\n",
      "iterations= 14 out of 64\n",
      "iterations= 15 out of 64\n",
      "iterations= 16 out of 64\n",
      "iterations= 17 out of 64\n",
      "iterations= 18 out of 64\n",
      "iterations= 19 out of 64\n",
      "iterations= 20 out of 64\n",
      "iterations= 21 out of 64\n",
      "iterations= 22 out of 64\n",
      "iterations= 23 out of 64\n",
      "iterations= 24 out of 64\n",
      "iterations= 25 out of 64\n",
      "iterations= 26 out of 64\n",
      "iterations= 27 out of 64\n",
      "iterations= 28 out of 64\n",
      "iterations= 29 out of 64\n",
      "iterations= 30 out of 64\n",
      "iterations= 31 out of 64\n",
      "iterations= 32 out of 64\n",
      "iterations= 33 out of 64\n",
      "iterations= 34 out of 64\n",
      "iterations= 35 out of 64\n",
      "iterations= 36 out of 64\n",
      "iterations= 37 out of 64\n",
      "iterations= 38 out of 64\n",
      "iterations= 39 out of 64\n",
      "iterations= 40 out of 64\n",
      "iterations= 41 out of 64\n",
      "iterations= 42 out of 64\n",
      "iterations= 43 out of 64\n",
      "iterations= 44 out of 64\n",
      "iterations= 45 out of 64\n",
      "iterations= 46 out of 64\n",
      "iterations= 47 out of 64\n",
      "iterations= 48 out of 64\n",
      "iterations= 49 out of 64\n",
      "iterations= 50 out of 64\n",
      "iterations= 51 out of 64\n",
      "iterations= 52 out of 64\n",
      "iterations= 53 out of 64\n",
      "iterations= 54 out of 64\n",
      "iterations= 55 out of 64\n",
      "iterations= 56 out of 64\n",
      "iterations= 57 out of 64\n",
      "iterations= 58 out of 64\n",
      "iterations= 59 out of 64\n",
      "iterations= 60 out of 64\n",
      "iterations= 61 out of 64\n",
      "iterations= 62 out of 64\n",
      "iterations= 63 out of 64\n"
     ]
    }
   ],
   "source": [
    "df=fast_read_and_append(\"../data/%s/train-step-2.csv\" % project_name,1000000,63367217)\n"
   ]
  },
  {
   "cell_type": "code",
   "execution_count": 5,
   "metadata": {
    "ExecuteTime": {
     "end_time": "2017-09-21T00:27:15.982106Z",
     "start_time": "2017-09-21T00:26:22.577653Z"
    },
    "collapsed": true
   },
   "outputs": [
    {
     "name": "stdout",
     "output_type": "stream",
     "text": [
      "iterations= 0 out of 25\n",
      "iterations= 1 out of 25\n",
      "iterations= 2 out of 25\n",
      "iterations= 3 out of 25\n",
      "iterations= 4 out of 25\n",
      "iterations= 5 out of 25\n",
      "iterations= 6 out of 25\n",
      "iterations= 7 out of 25\n",
      "iterations= 8 out of 25\n",
      "iterations= 9 out of 25\n",
      "iterations= 10 out of 25\n",
      "iterations= 11 out of 25\n",
      "iterations= 12 out of 25\n",
      "iterations= 13 out of 25\n",
      "iterations= 14 out of 25\n",
      "iterations= 15 out of 25\n",
      "iterations= 16 out of 25\n",
      "iterations= 17 out of 25\n",
      "iterations= 18 out of 25\n",
      "iterations= 19 out of 25\n",
      "iterations= 20 out of 25\n",
      "iterations= 21 out of 25\n",
      "iterations= 22 out of 25\n",
      "iterations= 23 out of 25\n",
      "iterations= 24 out of 25\n",
      "iterations= 25 out of 25\n"
     ]
    }
   ],
   "source": [
    "df_test=fast_read_and_append(\"../data/%s/test-step-2.csv\" % project_name,1000000,24510750)"
   ]
  },
  {
   "cell_type": "code",
   "execution_count": 6,
   "metadata": {
    "ExecuteTime": {
     "end_time": "2017-09-21T00:27:26.558460Z",
     "start_time": "2017-09-21T00:27:15.983389Z"
    },
    "collapsed": true
   },
   "outputs": [],
   "source": [
    "df_conv_status=df[df[\"conv_status\"]==1]"
   ]
  },
  {
   "cell_type": "code",
   "execution_count": 7,
   "metadata": {
    "ExecuteTime": {
     "end_time": "2017-09-21T00:27:27.050373Z",
     "start_time": "2017-09-21T00:27:26.589609Z"
    }
   },
   "outputs": [
    {
     "data": {
      "text/plain": [
       "7"
      ]
     },
     "execution_count": 7,
     "metadata": {},
     "output_type": "execute_result"
    }
   ],
   "source": [
    "df_fraud = df[df[\"Fraud\"]==1]\n",
    "df_conv_status.to_csv(get_file_location(\"train_true-step-3.csv\"),index=False)\n",
    "df_fraud.to_csv(get_file_location(\"train_fraud-step-3.csv\"),index=False)\n",
    "df_fraud=None\n",
    "df_conv_status=None\n",
    "gc.collect()"
   ]
  },
  {
   "cell_type": "markdown",
   "metadata": {},
   "source": [
    "### Sampling - Useless"
   ]
  },
  {
   "cell_type": "code",
   "execution_count": 14,
   "metadata": {
    "ExecuteTime": {
     "end_time": "2017-09-21T00:33:49.649291Z",
     "start_time": "2017-09-21T00:33:49.632555Z"
    },
    "collapsed": true
   },
   "outputs": [],
   "source": [
    "\n",
    "\n",
    "    \n",
    "def sample_by_colname(df,colname,frac,atleast_sample_each,null_values):\n",
    "    if null_values is None:\n",
    "        null_values = []\n",
    "    df_use = df[(~df[colname].isin(null_values)) & (df[colname].notnull())].count()\n",
    "    gb = df.groupby(colname)\n",
    "\n",
    "    \n",
    "    return_df = pd.DataFrame()\n",
    "#     for c in df_use[colname].unique():\n",
    "#         df_temp = df_use[df_use[colname]==c]\n",
    "    for x in gb.groups:\n",
    "        df_temp=gb.get_group(x)\n",
    "        num_elems_for_this = df_temp[colname].count()\n",
    "        df_sample = pd.DataFrame()\n",
    "        if num_elems_for_this < atleast_sample_each:\n",
    "            df_sample=df_temp.sample(n=num_elems_for_this)\n",
    "        elif num_elems_for_this*frac < atleast_sample_each:\n",
    "            df_sample=df_temp.sample(n=atleast_sample_each)\n",
    "        else:\n",
    "            df_sample=df_temp.sample(frac=frac)\n",
    "            \n",
    "        return_df = pd.concat([return_df, df_sample], ignore_index=True)\n",
    "    gc.collect()\n",
    "    return return_df\n",
    "    \n",
    "\n",
    "    "
   ]
  },
  {
   "cell_type": "code",
   "execution_count": 15,
   "metadata": {
    "ExecuteTime": {
     "end_time": "2017-09-21T00:34:41.738086Z",
     "start_time": "2017-09-21T00:33:54.671211Z"
    },
    "collapsed": true
   },
   "outputs": [],
   "source": [
    "df_country = sample_by_colname(df,\"Country\",0.001,100,None)"
   ]
  },
  {
   "cell_type": "code",
   "execution_count": 16,
   "metadata": {
    "ExecuteTime": {
     "end_time": "2017-09-21T00:35:32.173237Z",
     "start_time": "2017-09-21T00:34:41.739391Z"
    }
   },
   "outputs": [
    {
     "data": {
      "text/plain": [
       "7"
      ]
     },
     "execution_count": 16,
     "metadata": {},
     "output_type": "execute_result"
    }
   ],
   "source": [
    "df_carrier = sample_by_colname(df,\"Carrier\",0.001,100,None)\n",
    "gc.collect()"
   ]
  },
  {
   "cell_type": "code",
   "execution_count": 17,
   "metadata": {
    "ExecuteTime": {
     "end_time": "2017-09-21T00:36:11.498070Z",
     "start_time": "2017-09-21T00:35:32.174681Z"
    },
    "collapsed": true
   },
   "outputs": [],
   "source": [
    "df_traffic = sample_by_colname(df,\"TrafficType\",0.001,100,None)"
   ]
  },
  {
   "cell_type": "code",
   "execution_count": 18,
   "metadata": {
    "ExecuteTime": {
     "end_time": "2017-09-21T00:37:08.799306Z",
     "start_time": "2017-09-21T00:36:11.499407Z"
    },
    "collapsed": true
   },
   "outputs": [],
   "source": [
    "df_device = sample_by_colname(df,\"Device\",0.001,100,None)\n",
    "# 3:50"
   ]
  },
  {
   "cell_type": "code",
   "execution_count": 19,
   "metadata": {
    "ExecuteTime": {
     "end_time": "2017-09-21T00:37:47.959482Z",
     "start_time": "2017-09-21T00:37:08.800703Z"
    },
    "collapsed": true
   },
   "outputs": [],
   "source": [
    "df_browser = sample_by_colname(df,\"Browser\",0.001,100,None)"
   ]
  },
  {
   "cell_type": "code",
   "execution_count": 20,
   "metadata": {
    "ExecuteTime": {
     "end_time": "2017-09-21T00:38:26.466762Z",
     "start_time": "2017-09-21T00:37:47.960863Z"
    }
   },
   "outputs": [
    {
     "data": {
      "text/plain": [
       "7"
      ]
     },
     "execution_count": 20,
     "metadata": {},
     "output_type": "execute_result"
    }
   ],
   "source": [
    "df_os = sample_by_colname(df,\"OS\",0.001,100,None)\n",
    "gc.collect()"
   ]
  },
  {
   "cell_type": "code",
   "execution_count": 21,
   "metadata": {
    "ExecuteTime": {
     "end_time": "2017-09-21T00:38:29.089329Z",
     "start_time": "2017-09-21T00:38:26.467837Z"
    },
    "collapsed": true
   },
   "outputs": [],
   "source": [
    "# df_refurl = sample_by_colname(df,\"RefererUrl\",0.00005,2,[0,1,2])\n",
    "\n",
    "#taking refurls for not nulls\n",
    "df_refurl=df[~df[\"RefererUrl\"].isin([0,1,2])]"
   ]
  },
  {
   "cell_type": "code",
   "execution_count": 32,
   "metadata": {
    "ExecuteTime": {
     "end_time": "2017-09-21T00:43:39.386881Z",
     "start_time": "2017-09-21T00:42:05.508076Z"
    },
    "collapsed": true
   },
   "outputs": [],
   "source": [
    "df_sub_pub = sample_by_colname(df,\"subPublisherId\",0.001,100,None)"
   ]
  },
  {
   "cell_type": "code",
   "execution_count": 33,
   "metadata": {
    "ExecuteTime": {
     "end_time": "2017-09-21T00:45:01.938544Z",
     "start_time": "2017-09-21T00:43:39.388196Z"
    },
    "collapsed": true
   },
   "outputs": [],
   "source": [
    "df_advert = sample_by_colname(df,\"advertiserCampaignId\",0.001,100,None)"
   ]
  },
  {
   "cell_type": "code",
   "execution_count": null,
   "metadata": {
    "ExecuteTime": {
     "end_time": "2017-09-17T13:05:01.651883Z",
     "start_time": "2017-09-17T13:04:55.672154Z"
    },
    "collapsed": true
   },
   "outputs": [],
   "source": []
  },
  {
   "cell_type": "code",
   "execution_count": 24,
   "metadata": {
    "ExecuteTime": {
     "end_time": "2017-09-21T00:40:58.721630Z",
     "start_time": "2017-09-21T00:40:57.969232Z"
    },
    "collapsed": true
   },
   "outputs": [],
   "source": [
    "df_country.to_csv(get_file_location(\"train_country-step-3.csv\"),index=False)"
   ]
  },
  {
   "cell_type": "code",
   "execution_count": 25,
   "metadata": {
    "ExecuteTime": {
     "end_time": "2017-09-21T00:40:59.548601Z",
     "start_time": "2017-09-21T00:40:58.722959Z"
    },
    "collapsed": true
   },
   "outputs": [],
   "source": [
    "df_carrier.to_csv(get_file_location(\"train_carrier-step-3.csv\"),index=False)"
   ]
  },
  {
   "cell_type": "code",
   "execution_count": 26,
   "metadata": {
    "ExecuteTime": {
     "end_time": "2017-09-21T00:41:00.151115Z",
     "start_time": "2017-09-21T00:40:59.549899Z"
    },
    "collapsed": true
   },
   "outputs": [],
   "source": [
    "df_traffic.to_csv(get_file_location(\"train_traffic-step-3.csv\"),index=False)"
   ]
  },
  {
   "cell_type": "code",
   "execution_count": 27,
   "metadata": {
    "ExecuteTime": {
     "end_time": "2017-09-21T00:41:01.388529Z",
     "start_time": "2017-09-21T00:41:00.152415Z"
    },
    "collapsed": true
   },
   "outputs": [],
   "source": [
    "df_device.to_csv(get_file_location(\"train_device-step-3.csv\"),index=False)"
   ]
  },
  {
   "cell_type": "code",
   "execution_count": 28,
   "metadata": {
    "ExecuteTime": {
     "end_time": "2017-09-21T00:41:02.034045Z",
     "start_time": "2017-09-21T00:41:01.389898Z"
    },
    "collapsed": true
   },
   "outputs": [],
   "source": [
    "df_browser.to_csv(get_file_location(\"train_browser-step-3.csv\"),index=False)"
   ]
  },
  {
   "cell_type": "code",
   "execution_count": 29,
   "metadata": {
    "ExecuteTime": {
     "end_time": "2017-09-21T00:41:02.670240Z",
     "start_time": "2017-09-21T00:41:02.035291Z"
    },
    "collapsed": true
   },
   "outputs": [],
   "source": [
    "df_os.to_csv(get_file_location(\"train_os-step-3.csv\"),index=False)"
   ]
  },
  {
   "cell_type": "code",
   "execution_count": 38,
   "metadata": {
    "ExecuteTime": {
     "end_time": "2017-09-17T13:11:09.163341Z",
     "start_time": "2017-09-17T13:08:24.148628Z"
    },
    "collapsed": true
   },
   "outputs": [],
   "source": [
    "df_refurl.to_csv(get_file_location(\"train_refurl-step-3.csv\"),index=False)"
   ]
  },
  {
   "cell_type": "code",
   "execution_count": 34,
   "metadata": {
    "ExecuteTime": {
     "end_time": "2017-09-21T00:45:03.222492Z",
     "start_time": "2017-09-21T00:45:01.939931Z"
    },
    "collapsed": true
   },
   "outputs": [],
   "source": [
    "df_sub_pub.to_csv(get_file_location(\"train_sub_pub-step-3.csv\"),index=False)"
   ]
  },
  {
   "cell_type": "code",
   "execution_count": 35,
   "metadata": {
    "ExecuteTime": {
     "end_time": "2017-09-21T00:45:05.292595Z",
     "start_time": "2017-09-21T00:45:03.223856Z"
    },
    "collapsed": true
   },
   "outputs": [],
   "source": [
    "df_advert.to_csv(get_file_location(\"train_advert-step-3.csv\"),index=False)"
   ]
  },
  {
   "cell_type": "code",
   "execution_count": 42,
   "metadata": {
    "ExecuteTime": {
     "end_time": "2017-09-17T13:14:50.097234Z",
     "start_time": "2017-09-17T13:13:38.238068Z"
    },
    "collapsed": true
   },
   "outputs": [],
   "source": [
    "df_random = df.sample(frac=0.1)\n",
    "df_random.to_csv(\"train_random-step-3.csv\",index=False)"
   ]
  },
  {
   "cell_type": "code",
   "execution_count": null,
   "metadata": {
    "collapsed": true
   },
   "outputs": [],
   "source": []
  }
 ],
 "metadata": {
  "hide_input": false,
  "kernelspec": {
   "display_name": "Python 3",
   "language": "python",
   "name": "python3"
  },
  "language_info": {
   "codemirror_mode": {
    "name": "ipython",
    "version": 3
   },
   "file_extension": ".py",
   "mimetype": "text/x-python",
   "name": "python",
   "nbconvert_exporter": "python",
   "pygments_lexer": "ipython3",
   "version": "3.6.1"
  },
  "toc": {
   "nav_menu": {
    "height": "12px",
    "width": "252px"
   },
   "number_sections": true,
   "sideBar": true,
   "skip_h1_title": false,
   "toc_cell": false,
   "toc_position": {},
   "toc_section_display": "block",
   "toc_window_display": false
  },
  "varInspector": {
   "cols": {
    "lenName": 16,
    "lenType": 16,
    "lenVar": 40
   },
   "kernels_config": {
    "python": {
     "delete_cmd_postfix": "",
     "delete_cmd_prefix": "del ",
     "library": "var_list.py",
     "varRefreshCmd": "print(var_dic_list())"
    },
    "r": {
     "delete_cmd_postfix": ") ",
     "delete_cmd_prefix": "rm(",
     "library": "var_list.r",
     "varRefreshCmd": "cat(var_dic_list()) "
    }
   },
   "types_to_exclude": [
    "module",
    "function",
    "builtin_function_or_method",
    "instance",
    "_Feature"
   ],
   "window_display": false
  }
 },
 "nbformat": 4,
 "nbformat_minor": 2
}
