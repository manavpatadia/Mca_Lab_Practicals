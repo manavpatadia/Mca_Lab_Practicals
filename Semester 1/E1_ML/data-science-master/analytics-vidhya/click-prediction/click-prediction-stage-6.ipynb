{
 "cells": [
  {
   "cell_type": "markdown",
   "metadata": {
    "collapsed": true
   },
   "source": [
    "### Steps in this stage\n",
    "- Label encode city,pincode,region_code data\n",
    "- Install `pip install tldextract`\n",
    "- not needed anymore - Rehydrate referer_url from step 4\n",
    "- Encode it with only domain+tld\n",
    "- Label Encode new field `url`"
   ]
  },
  {
   "cell_type": "code",
   "execution_count": 2,
   "metadata": {
    "ExecuteTime": {
     "end_time": "2017-09-21T10:59:20.592479Z",
     "start_time": "2017-09-21T10:59:20.568946Z"
    }
   },
   "outputs": [],
   "source": [
    "import numpy as np # linear algebra\n",
    "import pandas as pd # data processing, CSV file I/O (e.g. pd.read_csv)\n",
    "import matplotlib as mplt\n",
    "import matplotlib.pyplot as plt\n",
    "from sklearn.model_selection import train_test_split\n",
    "from sklearn.metrics import mean_squared_error\n",
    "from IPython.core.interactiveshell import InteractiveShell\n",
    "from sklearn.ensemble import RandomForestRegressor\n",
    "from sklearn.metrics import explained_variance_score\n",
    "from sklearn.preprocessing import LabelEncoder\n",
    "from sklearn.metrics import confusion_matrix\n",
    "from sklearn.model_selection import GridSearchCV\n",
    "%matplotlib inline\n",
    "import seaborn as sns\n",
    "import math\n",
    "import gc\n",
    "import ipaddress\n",
    "from urllib.parse import urlparse\n",
    "from tldextract import extract\n",
    "\n",
    "import sys\n",
    "from pathlib import Path\n",
    "d = Path().resolve().parent.parent\n",
    "sys.path.insert(0, str(d))\n",
    "import util.utils as utils\n",
    "import util.plot_utils as plot_utils\n",
    "\n",
    "\n",
    "\n",
    "plt.rcParams[\"figure.figsize\"] = (12,4)\n",
    "\n",
    "from xgboost import XGBClassifier\n",
    "import xgboost as xgb\n",
    "from sklearn.metrics import accuracy_score\n",
    "\n",
    "\n",
    "\n",
    "InteractiveShell.ast_node_interactivity = \"all\"\n",
    "np.set_printoptions(precision=2)"
   ]
  },
  {
   "cell_type": "code",
   "execution_count": 3,
   "metadata": {
    "ExecuteTime": {
     "end_time": "2017-09-21T10:59:51.417987Z",
     "start_time": "2017-09-21T10:59:51.414184Z"
    },
    "collapsed": true
   },
   "outputs": [],
   "source": [
    "project_name=\"click-prediction\"\n",
    "def get_file_location(filename):\n",
    "    return \"../data/%s/%s\" % (project_name,filename)"
   ]
  },
  {
   "cell_type": "code",
   "execution_count": 4,
   "metadata": {
    "ExecuteTime": {
     "end_time": "2017-09-21T11:01:11.007444Z",
     "start_time": "2017-09-21T10:59:52.937731Z"
    }
   },
   "outputs": [
    {
     "name": "stderr",
     "output_type": "stream",
     "text": [
      "/home/ahemf/anaconda3/lib/python3.6/site-packages/IPython/core/interactiveshell.py:2717: DtypeWarning: Columns (18) have mixed types. Specify dtype option on import or set low_memory=False.\n",
      "  interactivity=interactivity, compiler=compiler, result=result)\n"
     ]
    }
   ],
   "source": [
    "df_conv_status = pd.read_csv(\"../data/%s/%s\" % (project_name,\"train-true_6.csv\"))\n",
    "df_fraud= pd.read_csv(\"../data/%s/%s\" % (project_name,\"train-fraud_6.csv\"))\n",
    "df = pd.read_csv(\"../data/%s/%s\" % (project_name,\"train_6.csv\"))\n",
    "df_test= pd.read_csv(\"../data/%s/%s\" % (project_name,\"test_6.csv\"))"
   ]
  },
  {
   "cell_type": "code",
   "execution_count": 4,
   "metadata": {
    "ExecuteTime": {
     "end_time": "2017-09-20T03:42:11.236792Z",
     "start_time": "2017-09-20T03:42:10.583564Z"
    }
   },
   "outputs": [
    {
     "name": "stdout",
     "output_type": "stream",
     "text": [
      "done\n"
     ]
    },
    {
     "data": {
      "text/html": [
       "<div>\n",
       "<style>\n",
       "    .dataframe thead tr:only-child th {\n",
       "        text-align: right;\n",
       "    }\n",
       "\n",
       "    .dataframe thead th {\n",
       "        text-align: left;\n",
       "    }\n",
       "\n",
       "    .dataframe tbody tr th {\n",
       "        vertical-align: top;\n",
       "    }\n",
       "</style>\n",
       "<table border=\"1\" class=\"dataframe\">\n",
       "  <thead>\n",
       "    <tr style=\"text-align: right;\">\n",
       "      <th></th>\n",
       "      <th>count</th>\n",
       "    </tr>\n",
       "    <tr>\n",
       "      <th>city</th>\n",
       "      <th></th>\n",
       "    </tr>\n",
       "  </thead>\n",
       "  <tbody>\n",
       "    <tr>\n",
       "      <th>Dhaka</th>\n",
       "      <td>250015</td>\n",
       "    </tr>\n",
       "    <tr>\n",
       "      <th>Bangkok</th>\n",
       "      <td>97159</td>\n",
       "    </tr>\n",
       "    <tr>\n",
       "      <th>Jakarta</th>\n",
       "      <td>68337</td>\n",
       "    </tr>\n",
       "    <tr>\n",
       "      <th>Lagos</th>\n",
       "      <td>37405</td>\n",
       "    </tr>\n",
       "    <tr>\n",
       "      <th>Kuala Lumpur</th>\n",
       "      <td>32913</td>\n",
       "    </tr>\n",
       "    <tr>\n",
       "      <th>Delhi</th>\n",
       "      <td>31980</td>\n",
       "    </tr>\n",
       "    <tr>\n",
       "      <th>Kolkata</th>\n",
       "      <td>26389</td>\n",
       "    </tr>\n",
       "    <tr>\n",
       "      <th>Moscow</th>\n",
       "      <td>25224</td>\n",
       "    </tr>\n",
       "    <tr>\n",
       "      <th>Bengaluru</th>\n",
       "      <td>24287</td>\n",
       "    </tr>\n",
       "    <tr>\n",
       "      <th>La Paz</th>\n",
       "      <td>23230</td>\n",
       "    </tr>\n",
       "  </tbody>\n",
       "</table>\n",
       "</div>"
      ],
      "text/plain": [
       "               count\n",
       "city                \n",
       "Dhaka         250015\n",
       "Bangkok        97159\n",
       "Jakarta        68337\n",
       "Lagos          37405\n",
       "Kuala Lumpur   32913\n",
       "Delhi          31980\n",
       "Kolkata        26389\n",
       "Moscow         25224\n",
       "Bengaluru      24287\n",
       "La Paz         23230"
      ]
     },
     "execution_count": 4,
     "metadata": {},
     "output_type": "execute_result"
    },
    {
     "name": "stdout",
     "output_type": "stream",
     "text": [
      "done\n"
     ]
    },
    {
     "data": {
      "text/html": [
       "<div>\n",
       "<style>\n",
       "    .dataframe thead tr:only-child th {\n",
       "        text-align: right;\n",
       "    }\n",
       "\n",
       "    .dataframe thead th {\n",
       "        text-align: left;\n",
       "    }\n",
       "\n",
       "    .dataframe tbody tr th {\n",
       "        vertical-align: top;\n",
       "    }\n",
       "</style>\n",
       "<table border=\"1\" class=\"dataframe\">\n",
       "  <thead>\n",
       "    <tr style=\"text-align: right;\">\n",
       "      <th></th>\n",
       "      <th>count</th>\n",
       "    </tr>\n",
       "    <tr>\n",
       "      <th>city</th>\n",
       "      <th></th>\n",
       "    </tr>\n",
       "  </thead>\n",
       "  <tbody>\n",
       "    <tr>\n",
       "      <th>Dhaka</th>\n",
       "      <td>4334</td>\n",
       "    </tr>\n",
       "    <tr>\n",
       "      <th>Lagos</th>\n",
       "      <td>778</td>\n",
       "    </tr>\n",
       "    <tr>\n",
       "      <th>Jakarta</th>\n",
       "      <td>639</td>\n",
       "    </tr>\n",
       "    <tr>\n",
       "      <th>Bangkok</th>\n",
       "      <td>616</td>\n",
       "    </tr>\n",
       "    <tr>\n",
       "      <th>Moscow</th>\n",
       "      <td>263</td>\n",
       "    </tr>\n",
       "    <tr>\n",
       "      <th>Port Harcourt</th>\n",
       "      <td>254</td>\n",
       "    </tr>\n",
       "    <tr>\n",
       "      <th>Kuwait City</th>\n",
       "      <td>225</td>\n",
       "    </tr>\n",
       "    <tr>\n",
       "      <th>Johannesburg</th>\n",
       "      <td>179</td>\n",
       "    </tr>\n",
       "    <tr>\n",
       "      <th>Mexico City</th>\n",
       "      <td>124</td>\n",
       "    </tr>\n",
       "    <tr>\n",
       "      <th>Huai Khwang</th>\n",
       "      <td>120</td>\n",
       "    </tr>\n",
       "  </tbody>\n",
       "</table>\n",
       "</div>"
      ],
      "text/plain": [
       "               count\n",
       "city                \n",
       "Dhaka           4334\n",
       "Lagos            778\n",
       "Jakarta          639\n",
       "Bangkok          616\n",
       "Moscow           263\n",
       "Port Harcourt    254\n",
       "Kuwait City      225\n",
       "Johannesburg     179\n",
       "Mexico City      124\n",
       "Huai Khwang      120"
      ]
     },
     "execution_count": 4,
     "metadata": {},
     "output_type": "execute_result"
    }
   ],
   "source": [
    "\n",
    "\n",
    "def analyse_by_payout_avg(df,colname):\n",
    "    dfc=df.groupby(colname)\n",
    "\n",
    "    dfav=pd.DataFrame(dfc['ConversionPayOut'].sum() / dfc[\"ID\"].count())\n",
    "\n",
    "    dfav.columns = [\"pay\"]\n",
    "    dfav.sort_values(\"pay\",ascending=False).head(10)\n",
    "\n",
    "#     dfsum = pd.DataFrame(dfc['ConversionPayOut'].sum())\n",
    "    dfcount = pd.DataFrame(dfc[\"ID\"].count())\n",
    "    dfcount.columns=[\"count\"]\n",
    "    print(\"done\")\n",
    "    return dfcount.sort_values(\"count\",ascending=False).head(10)\n",
    "    \n",
    "    \n",
    "    \n",
    "analyse_by_payout_avg(df,\"city\")\n",
    "analyse_by_payout_avg(df_conv_status,\"city\")\n",
    "    "
   ]
  },
  {
   "cell_type": "code",
   "execution_count": 5,
   "metadata": {
    "ExecuteTime": {
     "end_time": "2017-09-20T03:42:12.350308Z",
     "start_time": "2017-09-20T03:42:11.857932Z"
    }
   },
   "outputs": [
    {
     "name": "stdout",
     "output_type": "stream",
     "text": [
      "done\n"
     ]
    },
    {
     "data": {
      "text/html": [
       "<div>\n",
       "<style>\n",
       "    .dataframe thead tr:only-child th {\n",
       "        text-align: right;\n",
       "    }\n",
       "\n",
       "    .dataframe thead th {\n",
       "        text-align: left;\n",
       "    }\n",
       "\n",
       "    .dataframe tbody tr th {\n",
       "        vertical-align: top;\n",
       "    }\n",
       "</style>\n",
       "<table border=\"1\" class=\"dataframe\">\n",
       "  <thead>\n",
       "    <tr style=\"text-align: right;\">\n",
       "      <th></th>\n",
       "      <th>count</th>\n",
       "    </tr>\n",
       "    <tr>\n",
       "      <th>region_code</th>\n",
       "      <th></th>\n",
       "    </tr>\n",
       "  </thead>\n",
       "  <tbody>\n",
       "    <tr>\n",
       "      <th>C</th>\n",
       "      <td>266861</td>\n",
       "    </tr>\n",
       "    <tr>\n",
       "      <th>10</th>\n",
       "      <td>151410</td>\n",
       "    </tr>\n",
       "    <tr>\n",
       "      <th>84</th>\n",
       "      <td>103641</td>\n",
       "    </tr>\n",
       "    <tr>\n",
       "      <th>JK</th>\n",
       "      <td>80643</td>\n",
       "    </tr>\n",
       "    <tr>\n",
       "      <th>TN</th>\n",
       "      <td>65045</td>\n",
       "    </tr>\n",
       "    <tr>\n",
       "      <th>MH</th>\n",
       "      <td>62550</td>\n",
       "    </tr>\n",
       "    <tr>\n",
       "      <th>WB</th>\n",
       "      <td>55060</td>\n",
       "    </tr>\n",
       "    <tr>\n",
       "      <th>UP</th>\n",
       "      <td>46026</td>\n",
       "    </tr>\n",
       "    <tr>\n",
       "      <th>DL</th>\n",
       "      <td>43229</td>\n",
       "    </tr>\n",
       "    <tr>\n",
       "      <th>LA</th>\n",
       "      <td>41407</td>\n",
       "    </tr>\n",
       "  </tbody>\n",
       "</table>\n",
       "</div>"
      ],
      "text/plain": [
       "              count\n",
       "region_code        \n",
       "C            266861\n",
       "10           151410\n",
       "84           103641\n",
       "JK            80643\n",
       "TN            65045\n",
       "MH            62550\n",
       "WB            55060\n",
       "UP            46026\n",
       "DL            43229\n",
       "LA            41407"
      ]
     },
     "execution_count": 5,
     "metadata": {},
     "output_type": "execute_result"
    },
    {
     "name": "stdout",
     "output_type": "stream",
     "text": [
      "done\n"
     ]
    },
    {
     "data": {
      "text/html": [
       "<div>\n",
       "<style>\n",
       "    .dataframe thead tr:only-child th {\n",
       "        text-align: right;\n",
       "    }\n",
       "\n",
       "    .dataframe thead th {\n",
       "        text-align: left;\n",
       "    }\n",
       "\n",
       "    .dataframe tbody tr th {\n",
       "        vertical-align: top;\n",
       "    }\n",
       "</style>\n",
       "<table border=\"1\" class=\"dataframe\">\n",
       "  <thead>\n",
       "    <tr style=\"text-align: right;\">\n",
       "      <th></th>\n",
       "      <th>count</th>\n",
       "    </tr>\n",
       "    <tr>\n",
       "      <th>region_code</th>\n",
       "      <th></th>\n",
       "    </tr>\n",
       "  </thead>\n",
       "  <tbody>\n",
       "    <tr>\n",
       "      <th>C</th>\n",
       "      <td>4372</td>\n",
       "    </tr>\n",
       "    <tr>\n",
       "      <th>84</th>\n",
       "      <td>904</td>\n",
       "    </tr>\n",
       "    <tr>\n",
       "      <th>10</th>\n",
       "      <td>870</td>\n",
       "    </tr>\n",
       "    <tr>\n",
       "      <th>LA</th>\n",
       "      <td>780</td>\n",
       "    </tr>\n",
       "    <tr>\n",
       "      <th>JK</th>\n",
       "      <td>751</td>\n",
       "    </tr>\n",
       "    <tr>\n",
       "      <th>JT</th>\n",
       "      <td>327</td>\n",
       "    </tr>\n",
       "    <tr>\n",
       "      <th>GT</th>\n",
       "      <td>301</td>\n",
       "    </tr>\n",
       "    <tr>\n",
       "      <th>JI</th>\n",
       "      <td>282</td>\n",
       "    </tr>\n",
       "    <tr>\n",
       "      <th>MOW</th>\n",
       "      <td>263</td>\n",
       "    </tr>\n",
       "    <tr>\n",
       "      <th>RI</th>\n",
       "      <td>254</td>\n",
       "    </tr>\n",
       "  </tbody>\n",
       "</table>\n",
       "</div>"
      ],
      "text/plain": [
       "             count\n",
       "region_code       \n",
       "C             4372\n",
       "84             904\n",
       "10             870\n",
       "LA             780\n",
       "JK             751\n",
       "JT             327\n",
       "GT             301\n",
       "JI             282\n",
       "MOW            263\n",
       "RI             254"
      ]
     },
     "execution_count": 5,
     "metadata": {},
     "output_type": "execute_result"
    }
   ],
   "source": [
    "analyse_by_payout_avg(df,\"region_code\")\n",
    "analyse_by_payout_avg(df_conv_status,\"region_code\")"
   ]
  },
  {
   "cell_type": "code",
   "execution_count": 7,
   "metadata": {
    "ExecuteTime": {
     "end_time": "2017-09-21T11:02:05.970188Z",
     "start_time": "2017-09-21T11:02:05.942702Z"
    },
    "collapsed": true
   },
   "outputs": [],
   "source": [
    "def label_encode_field(df1,df2,df3,df_test,field):\n",
    "    df1[field] = df1[field].astype(str)\n",
    "    df2[field] = df2[field].astype(str)\n",
    "    df3[field] = df3[field].astype(str)\n",
    "    df_test[field] = df_test[field].astype(str)\n",
    "    \n",
    "    df1[field] = df1[field].fillna('-997')\n",
    "    df2[field] = df2[field].fillna('-997')\n",
    "    df3[field] = df3[field].fillna('-997')\n",
    "    \n",
    "    df_test[field] = df_test[field].fillna('-997')\n",
    "    \n",
    "    encoded_df = df1[field].append(df2[field]).append(df3[field]).append(df_test[field])\n",
    "    encoded_df.fillna('-997')\n",
    "    label_encoder = LabelEncoder()\n",
    "    encoder = label_encoder.fit(encoded_df.values)\n",
    "    encoded_t=encoder.transform(df_test[field].fillna(\"-997\").values)\n",
    "    df_test[field] = encoded_t\n",
    "    \n",
    "    encoded_df1=encoder.transform(df1[field].fillna(\"-997\").values)\n",
    "    df1[field] = encoded_df1\n",
    "    \n",
    "    encoded_df2=encoder.transform(df2[field].fillna(\"-997\").values)\n",
    "    df2[field] = encoded_df2\n",
    "    \n",
    "    encoded_df3=encoder.transform(df3[field].fillna(\"-997\").values)\n",
    "    df3[field] = encoded_df3\n",
    "    \n",
    "    return encoder\n",
    "\n",
    "\n",
    "def store_encoder_as_file(le,column_name):\n",
    "    ids =np.arange(0,len(list(le.classes_))).astype(int)\n",
    "    my_encoding = pd.DataFrame(list(le.classes_), ids, columns = [column_name])\n",
    "    print(my_encoding.shape)\n",
    "    my_encoding.to_csv(get_file_location(\"%s-encoding.csv\" % column_name), index_label = [\"id\"])"
   ]
  },
  {
   "cell_type": "code",
   "execution_count": 8,
   "metadata": {
    "ExecuteTime": {
     "end_time": "2017-09-21T11:02:08.893342Z",
     "start_time": "2017-09-21T11:02:08.886821Z"
    }
   },
   "outputs": [
    {
     "data": {
      "text/plain": [
       "ID                        int64\n",
       "Carrier                   int64\n",
       "TrafficType               int64\n",
       "Device                    int64\n",
       "Browser                   int64\n",
       "OS                        int64\n",
       "RefererUrl                int64\n",
       "ConversionPayOut        float64\n",
       "publisherId               int64\n",
       "subPublisherId            int64\n",
       "advertiserCampaignId      int64\n",
       "Fraud                     int64\n",
       "conv_status               int64\n",
       "dayofweek                 int64\n",
       "hour                      int64\n",
       "dayofyear                 int64\n",
       "network                   int64\n",
       "subnet                    int64\n",
       "city                     object\n",
       "region_code              object\n",
       "postal_code              object\n",
       "Country                 float64\n",
       "dtype: object"
      ]
     },
     "execution_count": 8,
     "metadata": {},
     "output_type": "execute_result"
    }
   ],
   "source": [
    "df.dtypes\n"
   ]
  },
  {
   "cell_type": "code",
   "execution_count": 9,
   "metadata": {
    "ExecuteTime": {
     "end_time": "2017-09-21T11:17:19.065400Z",
     "start_time": "2017-09-21T11:02:17.073455Z"
    }
   },
   "outputs": [
    {
     "name": "stdout",
     "output_type": "stream",
     "text": [
      "(51131, 1)\n",
      "(808, 1)\n",
      "(54144, 1)\n"
     ]
    }
   ],
   "source": [
    "store_encoder_as_file(label_encode_field(df_conv_status,df_fraud,df,df_test,\"city\"),\"city_step-6\")\n",
    "store_encoder_as_file(label_encode_field(df_conv_status,df_fraud,df,df_test,\"region_code\"),\"region_code-6\")\n",
    "store_encoder_as_file(label_encode_field(df_conv_status,df_fraud,df,df_test,\"postal_code\"),\"postal_code-6\")"
   ]
  },
  {
   "cell_type": "code",
   "execution_count": 10,
   "metadata": {
    "ExecuteTime": {
     "end_time": "2017-09-21T11:23:26.136960Z",
     "start_time": "2017-09-21T11:23:26.128834Z"
    },
    "collapsed": true
   },
   "outputs": [],
   "source": [
    "def domain(url):\n",
    "    r = extract(url)\n",
    "    res=\"-1\"\n",
    "    if (len(r.domain) > 0) | (len(r.suffix)>0):\n",
    "        res = r.domain +\".\"+ r.suffix\n",
    "    return res\n",
    "\n",
    "def sub_domain(url):\n",
    "    r = extract(url)\n",
    "    res=\"-1\"\n",
    "    if (len(r.subdomain)>0 & ((len(r.domain) > 0) | (len(r.suffix)>0))):\n",
    "        res = r.subdomain + \".\"+ r.domain +\".\"+ r.suffix\n",
    "    return res\n"
   ]
  },
  {
   "cell_type": "code",
   "execution_count": 11,
   "metadata": {
    "ExecuteTime": {
     "end_time": "2017-09-21T11:23:43.536943Z",
     "start_time": "2017-09-21T11:23:42.413564Z"
    },
    "collapsed": true
   },
   "outputs": [],
   "source": [
    "df_refurl = pd.read_csv(\"../data/%s/%s\" % (project_name,\"RefererUrl-encoding.csv\"))"
   ]
  },
  {
   "cell_type": "code",
   "execution_count": 12,
   "metadata": {
    "ExecuteTime": {
     "end_time": "2017-09-21T11:24:00.643009Z",
     "start_time": "2017-09-21T11:23:50.590666Z"
    },
    "collapsed": true
   },
   "outputs": [],
   "source": [
    "\n",
    "df_refurl[\"sub_domain\"]=df_refurl[\"RefererUrl\"].map(sub_domain)    \n",
    "df_refurl[\"url\"]=df_refurl[\"RefererUrl\"].map(domain)"
   ]
  },
  {
   "cell_type": "code",
   "execution_count": 14,
   "metadata": {
    "ExecuteTime": {
     "end_time": "2017-09-21T11:24:29.857324Z",
     "start_time": "2017-09-21T11:24:29.778896Z"
    }
   },
   "outputs": [
    {
     "data": {
      "text/html": [
       "<div>\n",
       "<style>\n",
       "    .dataframe thead tr:only-child th {\n",
       "        text-align: right;\n",
       "    }\n",
       "\n",
       "    .dataframe thead th {\n",
       "        text-align: left;\n",
       "    }\n",
       "\n",
       "    .dataframe tbody tr th {\n",
       "        vertical-align: top;\n",
       "    }\n",
       "</style>\n",
       "<table border=\"1\" class=\"dataframe\">\n",
       "  <thead>\n",
       "    <tr style=\"text-align: right;\">\n",
       "      <th></th>\n",
       "      <th>id</th>\n",
       "      <th>RefererUrl</th>\n",
       "      <th>sub_domain</th>\n",
       "      <th>url</th>\n",
       "    </tr>\n",
       "  </thead>\n",
       "  <tbody>\n",
       "    <tr>\n",
       "      <th>404281</th>\n",
       "      <td>404281</td>\n",
       "      <td>zznew.in</td>\n",
       "      <td>-1</td>\n",
       "      <td>zznew.in</td>\n",
       "    </tr>\n",
       "    <tr>\n",
       "      <th>404282</th>\n",
       "      <td>404282</td>\n",
       "      <td>zznzz.alladu.kidx.gdn</td>\n",
       "      <td>zznzz.alladu.kidx.gdn</td>\n",
       "      <td>kidx.gdn</td>\n",
       "    </tr>\n",
       "    <tr>\n",
       "      <th>404283</th>\n",
       "      <td>404283</td>\n",
       "      <td>zzvzz.alladu.kidx.gdn</td>\n",
       "      <td>zzvzz.alladu.kidx.gdn</td>\n",
       "      <td>kidx.gdn</td>\n",
       "    </tr>\n",
       "    <tr>\n",
       "      <th>404284</th>\n",
       "      <td>404284</td>\n",
       "      <td>zzvzz.gcpxamse.dama.gdn</td>\n",
       "      <td>zzvzz.gcpxamse.dama.gdn</td>\n",
       "      <td>dama.gdn</td>\n",
       "    </tr>\n",
       "    <tr>\n",
       "      <th>404285</th>\n",
       "      <td>404285</td>\n",
       "      <td>zzyzz.alladu.kidx.gdn</td>\n",
       "      <td>zzyzz.alladu.kidx.gdn</td>\n",
       "      <td>kidx.gdn</td>\n",
       "    </tr>\n",
       "  </tbody>\n",
       "</table>\n",
       "</div>"
      ],
      "text/plain": [
       "            id               RefererUrl               sub_domain       url\n",
       "404281  404281                 zznew.in                       -1  zznew.in\n",
       "404282  404282    zznzz.alladu.kidx.gdn    zznzz.alladu.kidx.gdn  kidx.gdn\n",
       "404283  404283    zzvzz.alladu.kidx.gdn    zzvzz.alladu.kidx.gdn  kidx.gdn\n",
       "404284  404284  zzvzz.gcpxamse.dama.gdn  zzvzz.gcpxamse.dama.gdn  dama.gdn\n",
       "404285  404285    zzyzz.alladu.kidx.gdn    zzyzz.alladu.kidx.gdn  kidx.gdn"
      ]
     },
     "execution_count": 14,
     "metadata": {},
     "output_type": "execute_result"
    },
    {
     "data": {
      "text/html": [
       "<div>\n",
       "<style>\n",
       "    .dataframe thead tr:only-child th {\n",
       "        text-align: right;\n",
       "    }\n",
       "\n",
       "    .dataframe thead th {\n",
       "        text-align: left;\n",
       "    }\n",
       "\n",
       "    .dataframe tbody tr th {\n",
       "        vertical-align: top;\n",
       "    }\n",
       "</style>\n",
       "<table border=\"1\" class=\"dataframe\">\n",
       "  <thead>\n",
       "    <tr style=\"text-align: right;\">\n",
       "      <th></th>\n",
       "      <th>id</th>\n",
       "      <th>RefererUrl</th>\n",
       "      <th>sub_domain</th>\n",
       "      <th>url</th>\n",
       "    </tr>\n",
       "  </thead>\n",
       "  <tbody>\n",
       "    <tr>\n",
       "      <th>0</th>\n",
       "      <td>0</td>\n",
       "      <td>(function(pa,s){if(document.getElementById('pr...</td>\n",
       "      <td>(function(pa,s){if(document.getElementById('pr...</td>\n",
       "      <td>getElementById('pr4dd307a9'))return false;.</td>\n",
       "    </tr>\n",
       "    <tr>\n",
       "      <th>1</th>\n",
       "      <td>1</td>\n",
       "      <td>(null)</td>\n",
       "      <td>-1</td>\n",
       "      <td>(null).</td>\n",
       "    </tr>\n",
       "    <tr>\n",
       "      <th>2</th>\n",
       "      <td>2</td>\n",
       "      <td>-997</td>\n",
       "      <td>-1</td>\n",
       "      <td>-997.</td>\n",
       "    </tr>\n",
       "    <tr>\n",
       "      <th>3</th>\n",
       "      <td>3</td>\n",
       "      <td>/03J17/-CcjAA/7CRm/-TV1/umwjALbneg0any-_xaU2Tz...</td>\n",
       "      <td>-1</td>\n",
       "      <td>-1</td>\n",
       "    </tr>\n",
       "    <tr>\n",
       "      <th>4</th>\n",
       "      <td>4</td>\n",
       "      <td>/03J17/-CcjAA/7CRm/-TV1/umwjALbnel1MnSu_zfI1Sd...</td>\n",
       "      <td>-1</td>\n",
       "      <td>-1</td>\n",
       "    </tr>\n",
       "  </tbody>\n",
       "</table>\n",
       "</div>"
      ],
      "text/plain": [
       "   id                                         RefererUrl  \\\n",
       "0   0  (function(pa,s){if(document.getElementById('pr...   \n",
       "1   1                                             (null)   \n",
       "2   2                                               -997   \n",
       "3   3  /03J17/-CcjAA/7CRm/-TV1/umwjALbneg0any-_xaU2Tz...   \n",
       "4   4  /03J17/-CcjAA/7CRm/-TV1/umwjALbnel1MnSu_zfI1Sd...   \n",
       "\n",
       "                                          sub_domain  \\\n",
       "0  (function(pa,s){if(document.getElementById('pr...   \n",
       "1                                                 -1   \n",
       "2                                                 -1   \n",
       "3                                                 -1   \n",
       "4                                                 -1   \n",
       "\n",
       "                                           url  \n",
       "0  getElementById('pr4dd307a9'))return false;.  \n",
       "1                                      (null).  \n",
       "2                                        -997.  \n",
       "3                                           -1  \n",
       "4                                           -1  "
      ]
     },
     "execution_count": 14,
     "metadata": {},
     "output_type": "execute_result"
    },
    {
     "data": {
      "text/html": [
       "<div>\n",
       "<style>\n",
       "    .dataframe thead tr:only-child th {\n",
       "        text-align: right;\n",
       "    }\n",
       "\n",
       "    .dataframe thead th {\n",
       "        text-align: left;\n",
       "    }\n",
       "\n",
       "    .dataframe tbody tr th {\n",
       "        vertical-align: top;\n",
       "    }\n",
       "</style>\n",
       "<table border=\"1\" class=\"dataframe\">\n",
       "  <thead>\n",
       "    <tr style=\"text-align: right;\">\n",
       "      <th></th>\n",
       "      <th>id</th>\n",
       "      <th>RefererUrl</th>\n",
       "      <th>sub_domain</th>\n",
       "      <th>url</th>\n",
       "    </tr>\n",
       "  </thead>\n",
       "  <tbody>\n",
       "    <tr>\n",
       "      <th>404281</th>\n",
       "      <td>404281</td>\n",
       "      <td>zznew.in</td>\n",
       "      <td>-1</td>\n",
       "      <td>zznew.in</td>\n",
       "    </tr>\n",
       "    <tr>\n",
       "      <th>404282</th>\n",
       "      <td>404282</td>\n",
       "      <td>zznzz.alladu.kidx.gdn</td>\n",
       "      <td>zznzz.alladu.kidx.gdn</td>\n",
       "      <td>kidx.gdn</td>\n",
       "    </tr>\n",
       "    <tr>\n",
       "      <th>404283</th>\n",
       "      <td>404283</td>\n",
       "      <td>zzvzz.alladu.kidx.gdn</td>\n",
       "      <td>zzvzz.alladu.kidx.gdn</td>\n",
       "      <td>kidx.gdn</td>\n",
       "    </tr>\n",
       "    <tr>\n",
       "      <th>404284</th>\n",
       "      <td>404284</td>\n",
       "      <td>zzvzz.gcpxamse.dama.gdn</td>\n",
       "      <td>zzvzz.gcpxamse.dama.gdn</td>\n",
       "      <td>dama.gdn</td>\n",
       "    </tr>\n",
       "    <tr>\n",
       "      <th>404285</th>\n",
       "      <td>404285</td>\n",
       "      <td>zzyzz.alladu.kidx.gdn</td>\n",
       "      <td>zzyzz.alladu.kidx.gdn</td>\n",
       "      <td>kidx.gdn</td>\n",
       "    </tr>\n",
       "  </tbody>\n",
       "</table>\n",
       "</div>"
      ],
      "text/plain": [
       "            id               RefererUrl               sub_domain       url\n",
       "404281  404281                 zznew.in                       -1  zznew.in\n",
       "404282  404282    zznzz.alladu.kidx.gdn    zznzz.alladu.kidx.gdn  kidx.gdn\n",
       "404283  404283    zzvzz.alladu.kidx.gdn    zzvzz.alladu.kidx.gdn  kidx.gdn\n",
       "404284  404284  zzvzz.gcpxamse.dama.gdn  zzvzz.gcpxamse.dama.gdn  dama.gdn\n",
       "404285  404285    zzyzz.alladu.kidx.gdn    zzyzz.alladu.kidx.gdn  kidx.gdn"
      ]
     },
     "execution_count": 14,
     "metadata": {},
     "output_type": "execute_result"
    },
    {
     "data": {
      "text/html": [
       "<div>\n",
       "<style>\n",
       "    .dataframe thead tr:only-child th {\n",
       "        text-align: right;\n",
       "    }\n",
       "\n",
       "    .dataframe thead th {\n",
       "        text-align: left;\n",
       "    }\n",
       "\n",
       "    .dataframe tbody tr th {\n",
       "        vertical-align: top;\n",
       "    }\n",
       "</style>\n",
       "<table border=\"1\" class=\"dataframe\">\n",
       "  <thead>\n",
       "    <tr style=\"text-align: right;\">\n",
       "      <th></th>\n",
       "      <th>id</th>\n",
       "      <th>RefererUrl</th>\n",
       "      <th>sub_domain</th>\n",
       "      <th>url</th>\n",
       "    </tr>\n",
       "  </thead>\n",
       "  <tbody>\n",
       "    <tr>\n",
       "      <th>0</th>\n",
       "      <td>0</td>\n",
       "      <td>(function(pa,s){if(document.getElementById('pr...</td>\n",
       "      <td>(function(pa,s){if(document.getElementById('pr...</td>\n",
       "      <td>getElementById('pr4dd307a9'))return false;.</td>\n",
       "    </tr>\n",
       "    <tr>\n",
       "      <th>1</th>\n",
       "      <td>1</td>\n",
       "      <td>(null)</td>\n",
       "      <td>-1</td>\n",
       "      <td>(null).</td>\n",
       "    </tr>\n",
       "    <tr>\n",
       "      <th>2</th>\n",
       "      <td>2</td>\n",
       "      <td>-997</td>\n",
       "      <td>-1</td>\n",
       "      <td>-997.</td>\n",
       "    </tr>\n",
       "    <tr>\n",
       "      <th>3</th>\n",
       "      <td>3</td>\n",
       "      <td>/03J17/-CcjAA/7CRm/-TV1/umwjALbneg0any-_xaU2Tz...</td>\n",
       "      <td>-1</td>\n",
       "      <td>-1</td>\n",
       "    </tr>\n",
       "    <tr>\n",
       "      <th>4</th>\n",
       "      <td>4</td>\n",
       "      <td>/03J17/-CcjAA/7CRm/-TV1/umwjALbnel1MnSu_zfI1Sd...</td>\n",
       "      <td>-1</td>\n",
       "      <td>-1</td>\n",
       "    </tr>\n",
       "  </tbody>\n",
       "</table>\n",
       "</div>"
      ],
      "text/plain": [
       "   id                                         RefererUrl  \\\n",
       "0   0  (function(pa,s){if(document.getElementById('pr...   \n",
       "1   1                                             (null)   \n",
       "2   2                                               -997   \n",
       "3   3  /03J17/-CcjAA/7CRm/-TV1/umwjALbneg0any-_xaU2Tz...   \n",
       "4   4  /03J17/-CcjAA/7CRm/-TV1/umwjALbnel1MnSu_zfI1Sd...   \n",
       "\n",
       "                                          sub_domain  \\\n",
       "0  (function(pa,s){if(document.getElementById('pr...   \n",
       "1                                                 -1   \n",
       "2                                                 -1   \n",
       "3                                                 -1   \n",
       "4                                                 -1   \n",
       "\n",
       "                                           url  \n",
       "0  getElementById('pr4dd307a9'))return false;.  \n",
       "1                                      (null).  \n",
       "2                                        -997.  \n",
       "3                                           -1  \n",
       "4                                           -1  "
      ]
     },
     "execution_count": 14,
     "metadata": {},
     "output_type": "execute_result"
    }
   ],
   "source": [
    "df_refurl.tail()\n",
    "df_refurl.head()\n",
    "df_refurl[\"url\"].fillna(\"-997\",inplace=True)\n",
    "df_refurl[\"sub_domain\"].fillna(\"-997\",inplace=True)\n",
    "df_refurl.tail()\n",
    "df_refurl.head()"
   ]
  },
  {
   "cell_type": "code",
   "execution_count": 15,
   "metadata": {
    "ExecuteTime": {
     "end_time": "2017-09-21T11:24:40.381511Z",
     "start_time": "2017-09-21T11:24:40.295354Z"
    },
    "collapsed": true
   },
   "outputs": [],
   "source": [
    "# For easy merge\n",
    "df_refurl[\"RefererUrl\"]  = df_refurl[\"id\"]\n",
    "df_refurl.drop(['id'], axis = 1, inplace = True)\n"
   ]
  },
  {
   "cell_type": "code",
   "execution_count": 16,
   "metadata": {
    "ExecuteTime": {
     "end_time": "2017-09-21T11:24:41.552858Z",
     "start_time": "2017-09-21T11:24:41.549589Z"
    },
    "collapsed": true
   },
   "outputs": [],
   "source": [
    "# # Not needed since we kept refurl\n",
    "# df_conv_status_4 = pd.read_csv(\"../data/%s/%s\" % (project_name,\"train-true_4.csv\"))\n",
    "# df_fraud_4= pd.read_csv(\"../data/%s/%s\" % (project_name,\"train-fraud_4.csv\"))\n",
    "# df_4 = pd.read_csv(\"../data/%s/%s\" % (project_name,\"train_4.csv\"))\n",
    "# df_test_4= pd.read_csv(\"../data/%s/%s\" % (project_name,\"test-step-2.csv\"))"
   ]
  },
  {
   "cell_type": "code",
   "execution_count": 64,
   "metadata": {
    "ExecuteTime": {
     "end_time": "2017-09-18T19:14:12.723605Z",
     "start_time": "2017-09-18T19:14:12.720399Z"
    }
   },
   "outputs": [
    {
     "data": {
      "text/plain": [
       "(34524, 19)"
      ]
     },
     "execution_count": 64,
     "metadata": {},
     "output_type": "execute_result"
    }
   ],
   "source": [
    "\n",
    "\n",
    "# dft=df.merge(df_refurl,on=\"RefererUrl\",how=\"left\")\n",
    "# dft.shape\n",
    "# dft[~(dft[\"url\"]==\"-1.\")].shape\n",
    "# dft.head()\n",
    "\n",
    "# len(dft[\"url\"].unique())"
   ]
  },
  {
   "cell_type": "code",
   "execution_count": 17,
   "metadata": {
    "ExecuteTime": {
     "end_time": "2017-09-21T11:26:12.602516Z",
     "start_time": "2017-09-21T11:25:58.662137Z"
    }
   },
   "outputs": [
    {
     "data": {
      "text/plain": [
       "61"
      ]
     },
     "execution_count": 17,
     "metadata": {},
     "output_type": "execute_result"
    }
   ],
   "source": [
    "def add_url(df,df_refurl):\n",
    "    dft=df.merge(df_refurl,on=\"RefererUrl\",how=\"left\")\n",
    "    return dft\n",
    "\n",
    "df_conv_status = add_url(df_conv_status,df_refurl)\n",
    "df_fraud= add_url(df_fraud,df_refurl)\n",
    "df = add_url(df,df_refurl)\n",
    "\n",
    "gc.collect()\n",
    "\n",
    "    "
   ]
  },
  {
   "cell_type": "code",
   "execution_count": 18,
   "metadata": {
    "ExecuteTime": {
     "end_time": "2017-09-21T11:26:18.461507Z",
     "start_time": "2017-09-21T11:26:12.603699Z"
    },
    "collapsed": true
   },
   "outputs": [],
   "source": [
    "df_test = add_url(df_test,df_refurl)"
   ]
  },
  {
   "cell_type": "code",
   "execution_count": 20,
   "metadata": {
    "ExecuteTime": {
     "end_time": "2017-09-21T11:27:04.580886Z",
     "start_time": "2017-09-21T11:27:04.546307Z"
    }
   },
   "outputs": [
    {
     "data": {
      "text/html": [
       "<div>\n",
       "<style>\n",
       "    .dataframe thead tr:only-child th {\n",
       "        text-align: right;\n",
       "    }\n",
       "\n",
       "    .dataframe thead th {\n",
       "        text-align: left;\n",
       "    }\n",
       "\n",
       "    .dataframe tbody tr th {\n",
       "        vertical-align: top;\n",
       "    }\n",
       "</style>\n",
       "<table border=\"1\" class=\"dataframe\">\n",
       "  <thead>\n",
       "    <tr style=\"text-align: right;\">\n",
       "      <th></th>\n",
       "      <th>ID</th>\n",
       "      <th>Carrier</th>\n",
       "      <th>TrafficType</th>\n",
       "      <th>Device</th>\n",
       "      <th>Browser</th>\n",
       "      <th>OS</th>\n",
       "      <th>RefererUrl</th>\n",
       "      <th>ConversionPayOut</th>\n",
       "      <th>publisherId</th>\n",
       "      <th>subPublisherId</th>\n",
       "      <th>...</th>\n",
       "      <th>hour</th>\n",
       "      <th>dayofyear</th>\n",
       "      <th>network</th>\n",
       "      <th>subnet</th>\n",
       "      <th>city</th>\n",
       "      <th>region_code</th>\n",
       "      <th>postal_code</th>\n",
       "      <th>Country</th>\n",
       "      <th>sub_domain</th>\n",
       "      <th>url</th>\n",
       "    </tr>\n",
       "  </thead>\n",
       "  <tbody>\n",
       "    <tr>\n",
       "      <th>38020325</th>\n",
       "      <td>61790414</td>\n",
       "      <td>-1</td>\n",
       "      <td>0</td>\n",
       "      <td>388</td>\n",
       "      <td>2</td>\n",
       "      <td>1</td>\n",
       "      <td>2</td>\n",
       "      <td>0.0</td>\n",
       "      <td>5250</td>\n",
       "      <td>0</td>\n",
       "      <td>...</td>\n",
       "      <td>18</td>\n",
       "      <td>242</td>\n",
       "      <td>13450</td>\n",
       "      <td>614554</td>\n",
       "      <td>51056</td>\n",
       "      <td>807</td>\n",
       "      <td>54143</td>\n",
       "      <td>218.0</td>\n",
       "      <td>-1</td>\n",
       "      <td>-997.</td>\n",
       "    </tr>\n",
       "    <tr>\n",
       "      <th>38020326</th>\n",
       "      <td>61996496</td>\n",
       "      <td>1</td>\n",
       "      <td>0</td>\n",
       "      <td>388</td>\n",
       "      <td>38</td>\n",
       "      <td>1</td>\n",
       "      <td>2</td>\n",
       "      <td>0.0</td>\n",
       "      <td>1079</td>\n",
       "      <td>0</td>\n",
       "      <td>...</td>\n",
       "      <td>19</td>\n",
       "      <td>242</td>\n",
       "      <td>1215</td>\n",
       "      <td>71578</td>\n",
       "      <td>51056</td>\n",
       "      <td>807</td>\n",
       "      <td>54143</td>\n",
       "      <td>99.0</td>\n",
       "      <td>-1</td>\n",
       "      <td>-997.</td>\n",
       "    </tr>\n",
       "    <tr>\n",
       "      <th>38020327</th>\n",
       "      <td>63138047</td>\n",
       "      <td>-1</td>\n",
       "      <td>2</td>\n",
       "      <td>601</td>\n",
       "      <td>1</td>\n",
       "      <td>1</td>\n",
       "      <td>2</td>\n",
       "      <td>0.0</td>\n",
       "      <td>678</td>\n",
       "      <td>0</td>\n",
       "      <td>...</td>\n",
       "      <td>23</td>\n",
       "      <td>242</td>\n",
       "      <td>25833</td>\n",
       "      <td>1185862</td>\n",
       "      <td>51056</td>\n",
       "      <td>807</td>\n",
       "      <td>54143</td>\n",
       "      <td>3.0</td>\n",
       "      <td>-1</td>\n",
       "      <td>-997.</td>\n",
       "    </tr>\n",
       "    <tr>\n",
       "      <th>38020328</th>\n",
       "      <td>61152759</td>\n",
       "      <td>-1</td>\n",
       "      <td>2</td>\n",
       "      <td>388</td>\n",
       "      <td>2</td>\n",
       "      <td>1</td>\n",
       "      <td>391312</td>\n",
       "      <td>0.0</td>\n",
       "      <td>439</td>\n",
       "      <td>0</td>\n",
       "      <td>...</td>\n",
       "      <td>16</td>\n",
       "      <td>242</td>\n",
       "      <td>10880</td>\n",
       "      <td>394667</td>\n",
       "      <td>51056</td>\n",
       "      <td>807</td>\n",
       "      <td>54143</td>\n",
       "      <td>115.0</td>\n",
       "      <td>m.dcinside.com</td>\n",
       "      <td>dcinside.com</td>\n",
       "    </tr>\n",
       "    <tr>\n",
       "      <th>38020329</th>\n",
       "      <td>63294549</td>\n",
       "      <td>1</td>\n",
       "      <td>0</td>\n",
       "      <td>388</td>\n",
       "      <td>38</td>\n",
       "      <td>1</td>\n",
       "      <td>2</td>\n",
       "      <td>0.0</td>\n",
       "      <td>1079</td>\n",
       "      <td>0</td>\n",
       "      <td>...</td>\n",
       "      <td>23</td>\n",
       "      <td>242</td>\n",
       "      <td>1213</td>\n",
       "      <td>71161</td>\n",
       "      <td>51056</td>\n",
       "      <td>742</td>\n",
       "      <td>54143</td>\n",
       "      <td>99.0</td>\n",
       "      <td>-1</td>\n",
       "      <td>-997.</td>\n",
       "    </tr>\n",
       "  </tbody>\n",
       "</table>\n",
       "<p>5 rows × 24 columns</p>\n",
       "</div>"
      ],
      "text/plain": [
       "                ID  Carrier  TrafficType  Device  Browser  OS  RefererUrl  \\\n",
       "38020325  61790414       -1            0     388        2   1           2   \n",
       "38020326  61996496        1            0     388       38   1           2   \n",
       "38020327  63138047       -1            2     601        1   1           2   \n",
       "38020328  61152759       -1            2     388        2   1      391312   \n",
       "38020329  63294549        1            0     388       38   1           2   \n",
       "\n",
       "          ConversionPayOut  publisherId  subPublisherId      ...       hour  \\\n",
       "38020325               0.0         5250               0      ...         18   \n",
       "38020326               0.0         1079               0      ...         19   \n",
       "38020327               0.0          678               0      ...         23   \n",
       "38020328               0.0          439               0      ...         16   \n",
       "38020329               0.0         1079               0      ...         23   \n",
       "\n",
       "          dayofyear  network   subnet   city  region_code  postal_code  \\\n",
       "38020325        242    13450   614554  51056          807        54143   \n",
       "38020326        242     1215    71578  51056          807        54143   \n",
       "38020327        242    25833  1185862  51056          807        54143   \n",
       "38020328        242    10880   394667  51056          807        54143   \n",
       "38020329        242     1213    71161  51056          742        54143   \n",
       "\n",
       "          Country      sub_domain           url  \n",
       "38020325    218.0              -1         -997.  \n",
       "38020326     99.0              -1         -997.  \n",
       "38020327      3.0              -1         -997.  \n",
       "38020328    115.0  m.dcinside.com  dcinside.com  \n",
       "38020329     99.0              -1         -997.  \n",
       "\n",
       "[5 rows x 24 columns]"
      ]
     },
     "execution_count": 20,
     "metadata": {},
     "output_type": "execute_result"
    },
    {
     "data": {
      "text/plain": [
       "24"
      ]
     },
     "execution_count": 20,
     "metadata": {},
     "output_type": "execute_result"
    },
    {
     "data": {
      "text/plain": [
       "24"
      ]
     },
     "execution_count": 20,
     "metadata": {},
     "output_type": "execute_result"
    },
    {
     "data": {
      "text/plain": [
       "22"
      ]
     },
     "execution_count": 20,
     "metadata": {},
     "output_type": "execute_result"
    }
   ],
   "source": [
    "df.tail()\n",
    "\n",
    "len(df.dtypes)\n",
    "len(df_conv_status.dtypes)\n",
    "len(df_test.dtypes)\n"
   ]
  },
  {
   "cell_type": "code",
   "execution_count": 76,
   "metadata": {
    "ExecuteTime": {
     "end_time": "2017-09-18T19:30:18.230509Z",
     "start_time": "2017-09-18T19:30:18.175830Z"
    }
   },
   "outputs": [
    {
     "data": {
      "text/plain": [
       "466"
      ]
     },
     "execution_count": 76,
     "metadata": {},
     "output_type": "execute_result"
    }
   ],
   "source": [
    "\n"
   ]
  },
  {
   "cell_type": "code",
   "execution_count": 21,
   "metadata": {
    "ExecuteTime": {
     "end_time": "2017-09-21T11:32:19.766715Z",
     "start_time": "2017-09-21T11:27:28.532239Z"
    }
   },
   "outputs": [
    {
     "name": "stdout",
     "output_type": "stream",
     "text": [
      "(12246, 1)\n",
      "(13114, 1)\n"
     ]
    }
   ],
   "source": [
    "store_encoder_as_file(label_encode_field(df_conv_status,df_fraud,df,df_test,\"url\"),\"url-step_6\")\n",
    "store_encoder_as_file(label_encode_field(df_conv_status,df_fraud,df,df_test,\"sub_domain\"),\"sub_domain-step_6\")"
   ]
  },
  {
   "cell_type": "code",
   "execution_count": 22,
   "metadata": {
    "ExecuteTime": {
     "end_time": "2017-09-21T11:45:27.777668Z",
     "start_time": "2017-09-21T11:32:19.768016Z"
    },
    "collapsed": true
   },
   "outputs": [],
   "source": [
    "df.to_csv(\"train_7.csv\",index=False)\n",
    "df_conv_status.to_csv(\"train-true_7.csv\",index=False)\n",
    "df_fraud.to_csv(\"train-fraud_7.csv\",index=False)\n",
    "df_test.to_csv(\"test_7.csv\",index=False)"
   ]
  },
  {
   "cell_type": "markdown",
   "metadata": {},
   "source": [
    "### ConversionCapping\n",
    "- Cap payout at always >=0\n",
    "- Cap payout between 0-100, if train data has errors but test data is proper then its logical that payouts cant be over 100 for any click\n",
    "- Test both payout <100 and non capped model for submission"
   ]
  },
  {
   "cell_type": "code",
   "execution_count": 23,
   "metadata": {
    "ExecuteTime": {
     "end_time": "2017-09-21T11:53:03.076188Z",
     "start_time": "2017-09-21T11:52:59.667722Z"
    }
   },
   "outputs": [
    {
     "data": {
      "text/plain": [
       "25548873"
      ]
     },
     "execution_count": 23,
     "metadata": {},
     "output_type": "execute_result"
    }
   ],
   "source": [
    "len(df_test[\"ID\"].unique())"
   ]
  },
  {
   "cell_type": "code",
   "execution_count": 24,
   "metadata": {
    "ExecuteTime": {
     "end_time": "2017-09-21T12:01:44.122839Z",
     "start_time": "2017-09-21T12:01:37.399639Z"
    }
   },
   "outputs": [
    {
     "data": {
      "text/plain": [
       "38020330"
      ]
     },
     "execution_count": 24,
     "metadata": {},
     "output_type": "execute_result"
    }
   ],
   "source": [
    "len(df[\"ID\"].unique())"
   ]
  },
  {
   "cell_type": "code",
   "execution_count": null,
   "metadata": {
    "collapsed": true
   },
   "outputs": [],
   "source": []
  }
 ],
 "metadata": {
  "hide_input": false,
  "kernelspec": {
   "display_name": "Python 3",
   "language": "python",
   "name": "python3"
  },
  "language_info": {
   "codemirror_mode": {
    "name": "ipython",
    "version": 3
   },
   "file_extension": ".py",
   "mimetype": "text/x-python",
   "name": "python",
   "nbconvert_exporter": "python",
   "pygments_lexer": "ipython3",
   "version": "3.6.1"
  },
  "toc": {
   "nav_menu": {
    "height": "12px",
    "width": "252px"
   },
   "number_sections": true,
   "sideBar": true,
   "skip_h1_title": false,
   "toc_cell": false,
   "toc_position": {},
   "toc_section_display": "block",
   "toc_window_display": false
  },
  "varInspector": {
   "cols": {
    "lenName": 16,
    "lenType": 16,
    "lenVar": 40
   },
   "kernels_config": {
    "python": {
     "delete_cmd_postfix": "",
     "delete_cmd_prefix": "del ",
     "library": "var_list.py",
     "varRefreshCmd": "print(var_dic_list())"
    },
    "r": {
     "delete_cmd_postfix": ") ",
     "delete_cmd_prefix": "rm(",
     "library": "var_list.r",
     "varRefreshCmd": "cat(var_dic_list()) "
    }
   },
   "types_to_exclude": [
    "module",
    "function",
    "builtin_function_or_method",
    "instance",
    "_Feature"
   ],
   "window_display": false
  }
 },
 "nbformat": 4,
 "nbformat_minor": 2
}
