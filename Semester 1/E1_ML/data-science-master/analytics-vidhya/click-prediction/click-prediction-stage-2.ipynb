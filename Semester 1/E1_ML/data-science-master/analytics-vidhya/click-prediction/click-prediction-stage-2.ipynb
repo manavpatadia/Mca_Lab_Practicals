{
 "cells": [
  {
   "cell_type": "code",
   "execution_count": 4,
   "metadata": {
    "ExecuteTime": {
     "end_time": "2017-09-20T22:50:45.526467Z",
     "start_time": "2017-09-20T22:50:45.497932Z"
    }
   },
   "outputs": [
    {
     "ename": "ModuleNotFoundError",
     "evalue": "No module named 'catboost'",
     "output_type": "error",
     "traceback": [
      "\u001b[0;31m---------------------------------------------------------------------------\u001b[0m",
      "\u001b[0;31mModuleNotFoundError\u001b[0m                       Traceback (most recent call last)",
      "\u001b[0;32m<ipython-input-4-06dc2f544d09>\u001b[0m in \u001b[0;36m<module>\u001b[0;34m()\u001b[0m\n\u001b[1;32m     31\u001b[0m \u001b[0;32mfrom\u001b[0m \u001b[0msklearn\u001b[0m\u001b[0;34m.\u001b[0m\u001b[0mmetrics\u001b[0m \u001b[0;32mimport\u001b[0m \u001b[0maccuracy_score\u001b[0m\u001b[0;34m\u001b[0m\u001b[0m\n\u001b[1;32m     32\u001b[0m \u001b[0;34m\u001b[0m\u001b[0m\n\u001b[0;32m---> 33\u001b[0;31m \u001b[0;32mfrom\u001b[0m \u001b[0mcatboost\u001b[0m \u001b[0;32mimport\u001b[0m \u001b[0mPool\u001b[0m\u001b[0;34m,\u001b[0m \u001b[0mCatBoostRegressor\u001b[0m\u001b[0;34m\u001b[0m\u001b[0m\n\u001b[0m\u001b[1;32m     34\u001b[0m \u001b[0;34m\u001b[0m\u001b[0m\n\u001b[1;32m     35\u001b[0m \u001b[0mInteractiveShell\u001b[0m\u001b[0;34m.\u001b[0m\u001b[0mast_node_interactivity\u001b[0m \u001b[0;34m=\u001b[0m \u001b[0;34m\"all\"\u001b[0m\u001b[0;34m\u001b[0m\u001b[0m\n",
      "\u001b[0;31mModuleNotFoundError\u001b[0m: No module named 'catboost'"
     ]
    }
   ],
   "source": [
    "import numpy as np # linear algebra\n",
    "import pandas as pd # data processing, CSV file I/O (e.g. pd.read_csv)\n",
    "import matplotlib as mplt\n",
    "import matplotlib.pyplot as plt\n",
    "from sklearn.model_selection import train_test_split\n",
    "from sklearn.metrics import mean_squared_error\n",
    "from IPython.core.interactiveshell import InteractiveShell\n",
    "from sklearn.ensemble import RandomForestRegressor\n",
    "from sklearn.metrics import explained_variance_score\n",
    "from sklearn.preprocessing import LabelEncoder\n",
    "from sklearn.metrics import confusion_matrix\n",
    "from sklearn.model_selection import GridSearchCV\n",
    "%matplotlib inline\n",
    "import seaborn as sns\n",
    "import math\n",
    "import gc\n",
    "\n",
    "import sys\n",
    "from pathlib import Path\n",
    "d = Path().resolve().parent.parent\n",
    "sys.path.insert(0, str(d))\n",
    "import util.utils as utils\n",
    "import util.plot_utils as plot_utils\n",
    "\n",
    "\n",
    "\n",
    "plt.rcParams[\"figure.figsize\"] = (12,4)\n",
    "\n",
    "from xgboost import XGBClassifier\n",
    "import xgboost as xgb\n",
    "from sklearn.metrics import accuracy_score\n",
    "\n",
    "from catboost import Pool, CatBoostRegressor\n",
    "\n",
    "InteractiveShell.ast_node_interactivity = \"all\"\n",
    "np.set_printoptions(precision=2)"
   ]
  },
  {
   "cell_type": "code",
   "execution_count": 5,
   "metadata": {
    "ExecuteTime": {
     "end_time": "2017-09-20T22:50:46.002015Z",
     "start_time": "2017-09-20T22:50:45.998926Z"
    },
    "collapsed": true
   },
   "outputs": [],
   "source": [
    "project_name=\"click-prediction\"\n",
    "def get_file_location(filename):\n",
    "    return \"../data/%s/%s\" % (project_name,filename)"
   ]
  },
  {
   "cell_type": "code",
   "execution_count": 6,
   "metadata": {
    "ExecuteTime": {
     "end_time": "2017-09-20T22:50:47.433433Z",
     "start_time": "2017-09-20T22:50:47.426517Z"
    },
    "collapsed": true
   },
   "outputs": [],
   "source": [
    "def fast_read_and_append(file_path,chunksize,fullsize):\n",
    "    # in chunk reading be careful as pandas might infer a columns dtype as different for diff chunk\n",
    "    # As such specifying a dtype while reading by giving params to read_csv maybe better\n",
    "    # Label encoding will fail if half the rows for same column is int and rest are str\n",
    "    # In case of that already happened then df_test[\"publisherId\"] = df_test[\"publisherId\"].apply(str)\n",
    "    df = pd.DataFrame()\n",
    "    iterations = 0\n",
    "    total_needed_iters = math.ceil(fullsize/chunksize)\n",
    "    for x in pd.read_csv(file_path, chunksize=chunksize,low_memory=False):\n",
    "        print(\"iterations= %s out of %s\" %  (iterations,total_needed_iters))\n",
    "        df = pd.concat([df, x], ignore_index=True)\n",
    "        iterations += 1\n",
    "        gc.collect()\n",
    "    return df"
   ]
  },
  {
   "cell_type": "code",
   "execution_count": 7,
   "metadata": {
    "ExecuteTime": {
     "end_time": "2017-09-20T23:02:51.543944Z",
     "start_time": "2017-09-20T22:50:48.498816Z"
    }
   },
   "outputs": [
    {
     "name": "stdout",
     "output_type": "stream",
     "text": [
      "iterations= 0 out of 64\n",
      "iterations= 1 out of 64\n",
      "iterations= 2 out of 64\n",
      "iterations= 3 out of 64\n",
      "iterations= 4 out of 64\n",
      "iterations= 5 out of 64\n",
      "iterations= 6 out of 64\n",
      "iterations= 7 out of 64\n",
      "iterations= 8 out of 64\n",
      "iterations= 9 out of 64\n",
      "iterations= 10 out of 64\n",
      "iterations= 11 out of 64\n",
      "iterations= 12 out of 64\n",
      "iterations= 13 out of 64\n",
      "iterations= 14 out of 64\n",
      "iterations= 15 out of 64\n",
      "iterations= 16 out of 64\n",
      "iterations= 17 out of 64\n",
      "iterations= 18 out of 64\n",
      "iterations= 19 out of 64\n",
      "iterations= 20 out of 64\n",
      "iterations= 21 out of 64\n",
      "iterations= 22 out of 64\n",
      "iterations= 23 out of 64\n",
      "iterations= 24 out of 64\n",
      "iterations= 25 out of 64\n",
      "iterations= 26 out of 64\n",
      "iterations= 27 out of 64\n",
      "iterations= 28 out of 64\n",
      "iterations= 29 out of 64\n",
      "iterations= 30 out of 64\n",
      "iterations= 31 out of 64\n",
      "iterations= 32 out of 64\n",
      "iterations= 33 out of 64\n",
      "iterations= 34 out of 64\n",
      "iterations= 35 out of 64\n",
      "iterations= 36 out of 64\n",
      "iterations= 37 out of 64\n",
      "iterations= 38 out of 64\n",
      "iterations= 39 out of 64\n",
      "iterations= 40 out of 64\n",
      "iterations= 41 out of 64\n",
      "iterations= 42 out of 64\n",
      "iterations= 43 out of 64\n",
      "iterations= 44 out of 64\n",
      "iterations= 45 out of 64\n",
      "iterations= 46 out of 64\n",
      "iterations= 47 out of 64\n",
      "iterations= 48 out of 64\n",
      "iterations= 49 out of 64\n",
      "iterations= 50 out of 64\n",
      "iterations= 51 out of 64\n",
      "iterations= 52 out of 64\n",
      "iterations= 53 out of 64\n",
      "iterations= 54 out of 64\n",
      "iterations= 55 out of 64\n",
      "iterations= 56 out of 64\n",
      "iterations= 57 out of 64\n",
      "iterations= 58 out of 64\n",
      "iterations= 59 out of 64\n",
      "iterations= 60 out of 64\n",
      "iterations= 61 out of 64\n",
      "iterations= 62 out of 64\n",
      "iterations= 63 out of 64\n"
     ]
    }
   ],
   "source": [
    "df=fast_read_and_append(\"../data/%s/train-step-1.csv\" % project_name,1000000,63367217)"
   ]
  },
  {
   "cell_type": "code",
   "execution_count": 8,
   "metadata": {
    "ExecuteTime": {
     "end_time": "2017-09-20T23:07:48.462282Z",
     "start_time": "2017-09-20T23:02:51.545179Z"
    }
   },
   "outputs": [
    {
     "name": "stdout",
     "output_type": "stream",
     "text": [
      "iterations= 0 out of 82\n",
      "iterations= 1 out of 82\n",
      "iterations= 2 out of 82\n",
      "iterations= 3 out of 82\n",
      "iterations= 4 out of 82\n",
      "iterations= 5 out of 82\n",
      "iterations= 6 out of 82\n",
      "iterations= 7 out of 82\n",
      "iterations= 8 out of 82\n",
      "iterations= 9 out of 82\n",
      "iterations= 10 out of 82\n",
      "iterations= 11 out of 82\n",
      "iterations= 12 out of 82\n",
      "iterations= 13 out of 82\n",
      "iterations= 14 out of 82\n",
      "iterations= 15 out of 82\n",
      "iterations= 16 out of 82\n",
      "iterations= 17 out of 82\n",
      "iterations= 18 out of 82\n",
      "iterations= 19 out of 82\n",
      "iterations= 20 out of 82\n",
      "iterations= 21 out of 82\n",
      "iterations= 22 out of 82\n",
      "iterations= 23 out of 82\n",
      "iterations= 24 out of 82\n",
      "iterations= 25 out of 82\n",
      "iterations= 26 out of 82\n",
      "iterations= 27 out of 82\n",
      "iterations= 28 out of 82\n",
      "iterations= 29 out of 82\n",
      "iterations= 30 out of 82\n",
      "iterations= 31 out of 82\n",
      "iterations= 32 out of 82\n",
      "iterations= 33 out of 82\n",
      "iterations= 34 out of 82\n",
      "iterations= 35 out of 82\n",
      "iterations= 36 out of 82\n",
      "iterations= 37 out of 82\n",
      "iterations= 38 out of 82\n",
      "iterations= 39 out of 82\n",
      "iterations= 40 out of 82\n",
      "iterations= 41 out of 82\n",
      "iterations= 42 out of 82\n",
      "iterations= 43 out of 82\n",
      "iterations= 44 out of 82\n",
      "iterations= 45 out of 82\n",
      "iterations= 46 out of 82\n",
      "iterations= 47 out of 82\n",
      "iterations= 48 out of 82\n",
      "iterations= 49 out of 82\n",
      "iterations= 50 out of 82\n",
      "iterations= 51 out of 82\n",
      "iterations= 52 out of 82\n",
      "iterations= 53 out of 82\n",
      "iterations= 54 out of 82\n",
      "iterations= 55 out of 82\n",
      "iterations= 56 out of 82\n",
      "iterations= 57 out of 82\n",
      "iterations= 58 out of 82\n",
      "iterations= 59 out of 82\n",
      "iterations= 60 out of 82\n",
      "iterations= 61 out of 82\n",
      "iterations= 62 out of 82\n",
      "iterations= 63 out of 82\n",
      "iterations= 64 out of 82\n",
      "iterations= 65 out of 82\n",
      "iterations= 66 out of 82\n",
      "iterations= 67 out of 82\n",
      "iterations= 68 out of 82\n",
      "iterations= 69 out of 82\n",
      "iterations= 70 out of 82\n",
      "iterations= 71 out of 82\n",
      "iterations= 72 out of 82\n",
      "iterations= 73 out of 82\n",
      "iterations= 74 out of 82\n",
      "iterations= 75 out of 82\n",
      "iterations= 76 out of 82\n",
      "iterations= 77 out of 82\n",
      "iterations= 78 out of 82\n",
      "iterations= 79 out of 82\n",
      "iterations= 80 out of 82\n",
      "iterations= 81 out of 82\n",
      "iterations= 82 out of 82\n",
      "iterations= 83 out of 82\n",
      "iterations= 84 out of 82\n",
      "iterations= 85 out of 82\n"
     ]
    }
   ],
   "source": [
    "df_test=fast_read_and_append(\"../data/%s/test-step-1.csv\" % project_name,300000,24510750)"
   ]
  },
  {
   "cell_type": "code",
   "execution_count": 9,
   "metadata": {
    "ExecuteTime": {
     "end_time": "2017-09-20T23:17:50.474324Z",
     "start_time": "2017-09-20T23:17:35.796479Z"
    }
   },
   "outputs": [],
   "source": [
    "df.drop(['Unnamed: 0'], axis = 1, inplace = True)"
   ]
  },
  {
   "cell_type": "code",
   "execution_count": 10,
   "metadata": {
    "ExecuteTime": {
     "end_time": "2017-09-20T23:17:56.643770Z",
     "start_time": "2017-09-20T23:17:51.888403Z"
    }
   },
   "outputs": [],
   "source": [
    "df_test.drop(['Unnamed: 0'], axis = 1, inplace = True)"
   ]
  },
  {
   "cell_type": "code",
   "execution_count": 11,
   "metadata": {
    "ExecuteTime": {
     "end_time": "2017-09-20T23:18:30.693444Z",
     "start_time": "2017-09-20T23:18:16.278238Z"
    }
   },
   "outputs": [],
   "source": [
    "df[\"conv_status\"] = 0\n",
    "df.loc[df[\"ConversionStatus\"],\"conv_status\"] = 1\n",
    "df.drop(['ConversionStatus'], axis = 1, inplace = True)"
   ]
  },
  {
   "cell_type": "code",
   "execution_count": 12,
   "metadata": {
    "ExecuteTime": {
     "end_time": "2017-09-20T23:18:36.836822Z",
     "start_time": "2017-09-20T23:18:30.694815Z"
    },
    "collapsed": true
   },
   "outputs": [],
   "source": [
    "df_test[\"ClickDate\"] = pd.to_datetime(df_test[\"ClickDate\"])\n"
   ]
  },
  {
   "cell_type": "code",
   "execution_count": 13,
   "metadata": {
    "ExecuteTime": {
     "end_time": "2017-09-20T23:18:52.559101Z",
     "start_time": "2017-09-20T23:18:36.838240Z"
    },
    "collapsed": true
   },
   "outputs": [],
   "source": [
    "df[\"ClickDate\"] = pd.to_datetime(df[\"ClickDate\"])"
   ]
  },
  {
   "cell_type": "code",
   "execution_count": 14,
   "metadata": {
    "ExecuteTime": {
     "end_time": "2017-09-20T23:27:43.194458Z",
     "start_time": "2017-09-20T23:19:22.388541Z"
    },
    "collapsed": true
   },
   "outputs": [],
   "source": [
    "df_test[\"dayofweek\"] = df_test[\"ClickDate\"].map(lambda x: x.dayofweek)\n",
    "df_test[\"hour\"] = df_test[\"ClickDate\"].map(lambda x: x.hour)\n",
    "df_test[\"dayofyear\"] = df_test[\"ClickDate\"].map(lambda x: x.dayofyear)"
   ]
  },
  {
   "cell_type": "code",
   "execution_count": 15,
   "metadata": {
    "ExecuteTime": {
     "end_time": "2017-09-20T23:27:48.741355Z",
     "start_time": "2017-09-20T23:27:43.195810Z"
    },
    "collapsed": true
   },
   "outputs": [],
   "source": [
    "df_test.drop(['ClickDate'], axis = 1, inplace = True)"
   ]
  },
  {
   "cell_type": "code",
   "execution_count": 16,
   "metadata": {
    "ExecuteTime": {
     "end_time": "2017-09-20T23:48:41.861870Z",
     "start_time": "2017-09-20T23:27:48.742769Z"
    },
    "collapsed": true
   },
   "outputs": [],
   "source": [
    "df[\"dayofweek\"] = df[\"ClickDate\"].map(lambda x: x.dayofweek)\n",
    "df[\"hour\"] = df[\"ClickDate\"].map(lambda x: x.hour)\n",
    "df[\"dayofyear\"] = df[\"ClickDate\"].map(lambda x: x.dayofyear)"
   ]
  },
  {
   "cell_type": "code",
   "execution_count": 17,
   "metadata": {
    "ExecuteTime": {
     "end_time": "2017-09-20T23:48:57.351049Z",
     "start_time": "2017-09-20T23:48:41.863302Z"
    },
    "collapsed": true
   },
   "outputs": [],
   "source": [
    "\n",
    "df.drop(['ClickDate'], axis = 1, inplace = True)"
   ]
  },
  {
   "cell_type": "code",
   "execution_count": 18,
   "metadata": {
    "ExecuteTime": {
     "end_time": "2017-09-20T23:49:01.933686Z",
     "start_time": "2017-09-20T23:48:57.352505Z"
    },
    "collapsed": true
   },
   "outputs": [],
   "source": [
    "\n",
    "df.drop(['ConversionDate'], axis = 1, inplace = True)"
   ]
  },
  {
   "cell_type": "code",
   "execution_count": 20,
   "metadata": {
    "ExecuteTime": {
     "end_time": "2017-09-20T23:58:08.137867Z",
     "start_time": "2017-09-20T23:54:31.291707Z"
    },
    "collapsed": true
   },
   "outputs": [],
   "source": [
    "df_test.to_csv(get_file_location(\"test-step-2.csv\"),index=False)"
   ]
  },
  {
   "cell_type": "code",
   "execution_count": 21,
   "metadata": {
    "ExecuteTime": {
     "end_time": "2017-09-21T00:08:07.574873Z",
     "start_time": "2017-09-20T23:58:08.139206Z"
    },
    "collapsed": true
   },
   "outputs": [],
   "source": [
    "df.to_csv(get_file_location(\"train-step-2.csv\") ,index=False)"
   ]
  },
  {
   "cell_type": "code",
   "execution_count": 19,
   "metadata": {
    "ExecuteTime": {
     "end_time": "2017-09-20T23:49:01.940785Z",
     "start_time": "2017-09-20T23:49:01.935015Z"
    }
   },
   "outputs": [
    {
     "data": {
      "text/plain": [
       "ID                        int64\n",
       "Country                   int64\n",
       "Carrier                   int64\n",
       "TrafficType               int64\n",
       "Device                    int64\n",
       "Browser                   int64\n",
       "OS                        int64\n",
       "RefererUrl                int64\n",
       "UserIp                    int64\n",
       "ConversionPayOut        float64\n",
       "publisherId               int64\n",
       "subPublisherId            int64\n",
       "advertiserCampaignId      int64\n",
       "Fraud                     int64\n",
       "conv_status               int64\n",
       "dayofweek                 int64\n",
       "hour                      int64\n",
       "dayofyear                 int64\n",
       "dtype: object"
      ]
     },
     "execution_count": 19,
     "metadata": {},
     "output_type": "execute_result"
    }
   ],
   "source": [
    "df.dtypes"
   ]
  },
  {
   "cell_type": "code",
   "execution_count": null,
   "metadata": {
    "collapsed": true
   },
   "outputs": [],
   "source": []
  }
 ],
 "metadata": {
  "hide_input": false,
  "kernelspec": {
   "display_name": "Python 3",
   "language": "python",
   "name": "python3"
  },
  "language_info": {
   "codemirror_mode": {
    "name": "ipython",
    "version": 3
   },
   "file_extension": ".py",
   "mimetype": "text/x-python",
   "name": "python",
   "nbconvert_exporter": "python",
   "pygments_lexer": "ipython3",
   "version": "3.6.1"
  },
  "toc": {
   "nav_menu": {
    "height": "12px",
    "width": "252px"
   },
   "number_sections": true,
   "sideBar": true,
   "skip_h1_title": false,
   "toc_cell": false,
   "toc_position": {},
   "toc_section_display": "block",
   "toc_window_display": false
  },
  "varInspector": {
   "cols": {
    "lenName": 16,
    "lenType": 16,
    "lenVar": 40
   },
   "kernels_config": {
    "python": {
     "delete_cmd_postfix": "",
     "delete_cmd_prefix": "del ",
     "library": "var_list.py",
     "varRefreshCmd": "print(var_dic_list())"
    },
    "r": {
     "delete_cmd_postfix": ") ",
     "delete_cmd_prefix": "rm(",
     "library": "var_list.r",
     "varRefreshCmd": "cat(var_dic_list()) "
    }
   },
   "types_to_exclude": [
    "module",
    "function",
    "builtin_function_or_method",
    "instance",
    "_Feature"
   ],
   "window_display": false
  }
 },
 "nbformat": 4,
 "nbformat_minor": 2
}
