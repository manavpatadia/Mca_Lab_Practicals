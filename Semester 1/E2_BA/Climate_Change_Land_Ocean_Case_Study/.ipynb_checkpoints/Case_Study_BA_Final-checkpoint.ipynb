{
 "cells": [
  {
   "attachments": {
    "1c182e0f-a30b-4389-87a3-a2cab2a04cbe.png": {
     "image/png": "[encoded data removed]"
    }
   },
   "cell_type": "markdown",
   "id": "4cd92095-4d3c-4528-8eed-9f04325ad539",
   "metadata": {},
   "source": [
    "![amrita.png](attachment:1c182e0f-a30b-4389-87a3-a2cab2a04cbe.png)"
   ]
  },
  {
   "cell_type": "markdown",
   "id": "b9aa92d7-fe1e-465d-ab93-da18e46e2f67",
   "metadata": {},
   "source": [
    "#### <font color='#0bfc03'> Roll No: AA.SC.P2MCA2107423\n",
    "#### <font color='#0bfc03'> Name: Manav Patadia   \n",
    "#### <font color='#0bfc03'> Date: 15-04-2021"
   ]
  },
  {
   "cell_type": "markdown",
   "id": "5b904c91-093e-42b5-bf3f-f219cb1793fb",
   "metadata": {},
   "source": [
    "# <font color='#0bfc03'>  <center> BA Case study: Global Warming Analysis"
   ]
  },
  {
   "cell_type": "markdown",
   "id": "301157c3-3624-48ae-a15d-2e02e5d11a54",
   "metadata": {},
   "source": [
    "===================================================================================================================================\n",
    "## <font color='#0bfc03'> Case Study Question\n",
    "1. [**Evaluation Part 1**](#1)\n",
    "\t- **Data preprocessing**: Handle Missing values, Dummy variables, correlation analysis, <br> Data Scaling Transformation dimensionality reduction (at least 2 methods), strategies to avoid over fitting.<br><br>\n",
    "\t- **Data Visualization and EDA**: Plotly, Bokeh and Tableau to be employed to elicit intelligence with both static and dynamic features<br><br>\n",
    "\t- **Model 1**: Classification and Regression (two models), <br>Confusion Matrix, Accuracy, F-Measure, 10 fold cross validation, Student T-Test and RoC Tests\n",
    "<br><br>\n",
    "2. [**Evaluation Part 2**](#2)\n",
    "\t- **Model 2** - Clustering (Any two algorithms to be implemented and evaluated)<br><br>\n",
    "\t- **Model 3** - Association Rule Mining\n",
    "<br><br>\n",
    "3. [**Evaluation Part 3**](#3)\n",
    "\t- **Model 4** - Time series analysis (example: stock market prediction] Demand forecasting)\n",
    "\n",
    "==================================================================================================================================="
   ]
  },
  {
   "cell_type": "markdown",
   "id": "abf1be2e-0745-46e4-98bd-9914a33a8fa0",
   "metadata": {},
   "source": [
    "## <font color='#0bfc03'> <center> Data Science Project Life Cycle followed in this case study:"
   ]
  },
  {
   "cell_type": "markdown",
   "id": "e4aa0b1e-989c-417d-a185-316a9d7acbb6",
   "metadata": {},
   "source": [
    "<center><img src='ds2.png'></center>"
   ]
  },
  {
   "cell_type": "markdown",
   "id": "2f4bcc73-8cda-421f-92a0-6e22b6032bef",
   "metadata": {},
   "source": [
    "==================================================================================================================================="
   ]
  },
  {
   "cell_type": "markdown",
   "id": "aed4b54b-0bc4-4838-a701-c6dc18103557",
   "metadata": {},
   "source": [
    "## <font color='#0bfc03'> <center> Index\n",
    "1. [Business Understanding](#1)\n",
    "2. [Data Gathering](#2)\n",
    "3. [Data Cleaning](#3)\n",
    "4. [Data Exploration](#4)\n",
    "\t- Finding yearly average and calculating Heat level using yearly average temperature\n",
    "\t- Analyzing Average, Minimum and Maximum Temperature since Year 1850\n",
    "\t- Analyzing data trend using Linear Regression, Polynomial Regression, Correlation Matrix, Random Forest, XGBoost and Nearest neighbors\n",
    "5. [Feature Engineering](#5)\n",
    "\t- Attempt to minimize the MED\n",
    "\t- Features importance\n",
    "\t- Adding New variables and decreasing of the MED\n",
    "6. [Predictive Data Modeling](#6)\n",
    "\t- Random Forest\n",
    "\t- XGBoost\n",
    "7. [Clustering](#7)\n",
    "\t- Country Clustering\n",
    "\t- 1st Clustering\n",
    "\t- 2nd Clustering\n",
    "8. [Data Visualization](#8)\n",
    "\t- Conclusion on multiple cities\n",
    "\t- Growth of global Fossil fuels consumption\n",
    "\t- Global mean sea levels over years\n",
    "\t- Does the rise in average temperature related to global higher temperatures?\n",
    "\t- Hottest Year on Record?\n",
    "\t- Hottest Decade on Record?\n",
    "\t- Are global sea levels rising?\n",
    "\t- Is ocean warming real? If true then show temperatures per decade over the past 100 years\n",
    "\t- Annual Per capita CO2 emissions\n",
    "\t- Total carbon footprint\n",
    "\t- Carbon emissions from 2000 to 2010 from different sources\n",
    "\t- Surface maximum and minimum temperature over 5 years\n",
    "\t- How much global average surface temperature has increased since 1880?\n",
    "\t- Is sea level rising? If yes then show change in global sea levels\n",
    "\t- Main sources of Carbon emissions\n",
    "\t- Ocean's rate of heating?\n",
    "9. [Inferences and Conclusion](#9)\n",
    "    \n",
    "==================================================================================================================================="
   ]
  },
  {
   "cell_type": "markdown",
   "id": "3693cc5c-3dc8-4233-8825-779215d3b6eb",
   "metadata": {},
   "source": [
    "## <font color='#0bfc03'> <center> Business Understanding:\n",
    "<img src=\"global_temp_rise.gif\"     alt=\"Historical Temperature Change\"     style=\"float: left; margin-right: 50px;width:300px;height:300px;\" />\n",
    "\n",
    "\n",
    "Climate change is one of the important issues that face the world in this technological era. The best proof of this situation is the historical temperature change (It is shown in left figure). <br><br> This Case study investigates the reality of the increase in temperatures linked to industrial activities and the greenhouse effect. And before this investigation, the aim of this part enlight the significant sides of the temperature change data for each area. Before beginning the analysis, firstly, I want to figure out our problem, its cause and its effects in a short way. \n",
    " \n",
    " #### What is Climate Change?\n",
    " \n",
    "\"_Climate change is a long-term change in the average weather patterns that have come to define Earth’s local, regional and global climates. Changes observed in Earth’s climate since the early 20th century are primarily driven by human activities, particularly fossil fuel burning, which increases heat-trapping greenhouse gas levels in Earth’s atmosphere, raising Earth’s average surface temperature. These human-produced temperature increases are commonly referred to as global warming._\"\n",
    " <br><br><br>\n",
    " ##### Causes\n",
    "\"_According to NASA, Water Vapour, Carbon dioxide(CO₂), Methane, Nitrous oxide, Chlorofluorocarbons(CFCs) contribute to the greenhouse effect. Over the last century, human activities have increased concentrations of this natural greenhouse._\"\n",
    " \n",
    " ##### Effects:\n",
    "\n",
    "\"_Global climate change has already had observable effects on the environment. Glaciers have shrunk, ice on rivers and lakes is breaking up earlier, plant and animal ranges have shifted, and trees are flowering sooner. Effects that scientists had predicted in the past would result from global climate change: loss of sea ice accelerated sea-level rise and longer, more intense heat waves._\"\n",
    "\n",
    "==================================================================================================================================="
   ]
  },
  {
   "cell_type": "markdown",
   "id": "4664cb2b-cf6c-4e67-8671-d0790028b6aa",
   "metadata": {},
   "source": [
    "### <font color='#0bfc03'> <center> Importing Python libraries neccessary for this case study"
   ]
  },
  {
   "cell_type": "code",
   "execution_count": 1,
   "id": "61ec2c05-4905-4411-ad6e-683404a143c0",
   "metadata": {},
   "outputs": [
    {
     "data": {
      "text/html": [
       "        <script type=\"text/javascript\">\n",
       "        window.PlotlyConfig = {MathJaxConfig: 'local'};\n",
       "        if (window.MathJax) {MathJax.Hub.Config({SVG: {font: \"STIX-Web\"}});}\n",
       "        if (typeof require !== 'undefined') {\n",
       "        require.undef(\"plotly\");\n",
       "        requirejs.config({\n",
       "            paths: {\n",
       "                'plotly': ['https://cdn.plot.ly/plotly-2.2.0.min']\n",
       "            }\n",
       "        });\n",
       "        require(['plotly'], function(Plotly) {\n",
       "            window._Plotly = Plotly;\n",
       "        });\n",
       "        }\n",
       "        </script>\n",
       "        "
      ]
     },
     "metadata": {},
     "output_type": "display_data"
    },
    {
     "data": {
      "text/html": [
       "        <script type=\"text/javascript\">\n",
       "        window.PlotlyConfig = {MathJaxConfig: 'local'};\n",
       "        if (window.MathJax) {MathJax.Hub.Config({SVG: {font: \"STIX-Web\"}});}\n",
       "        if (typeof require !== 'undefined') {\n",
       "        require.undef(\"plotly\");\n",
       "        requirejs.config({\n",
       "            paths: {\n",
       "                'plotly': ['https://cdn.plot.ly/plotly-2.2.0.min']\n",
       "            }\n",
       "        });\n",
       "        require(['plotly'], function(Plotly) {\n",
       "            window._Plotly = Plotly;\n",
       "        });\n",
       "        }\n",
       "        </script>\n",
       "        "
      ]
     },
     "metadata": {},
     "output_type": "display_data"
    },
    {
     "name": "stderr",
     "output_type": "stream",
     "text": [
      "G:\\anaconda\\lib\\site-packages\\xgboost\\compat.py:31: FutureWarning:\n",
      "\n",
      "pandas.Int64Index is deprecated and will be removed from pandas in a future version. Use pandas.Index with the appropriate dtype instead.\n",
      "\n"
     ]
    }
   ],
   "source": [
    "import pandas as pd\n",
    "from pandas import Series, DataFrame\n",
    "pd.options.mode.chained_assignment = None\n",
    "import numpy as np\n",
    "import matplotlib.pyplot as plt\n",
    "plt.rcParams['axes.facecolor'] = 'white'\n",
    "import seaborn as sns\n",
    "import matplotlib.dates as mdates\n",
    "import chart_studio.plotly as py\n",
    "import plotly.graph_objs as go\n",
    "from plotly.offline import iplot, init_notebook_mode\n",
    "# Using plotly + cufflinks in offline mode\n",
    "import cufflinks\n",
    "cufflinks.go_offline(connected=True)\n",
    "init_notebook_mode(connected=True)\n",
    "import bokeh as bk\n",
    "sns.set_style('whitegrid')\n",
    "%matplotlib inline\n",
    "#from fbprophet import Prophet\n",
    "\n",
    "import copy\n",
    "import calendar\n",
    "from datetime import datetime\n",
    "from iteration_utilities import deepflatten\n",
    "# machine learning sklearn\n",
    "from sklearn.model_selection import train_test_split\n",
    "from sklearn.preprocessing import MinMaxScaler\n",
    "from sklearn import linear_model \n",
    "from sklearn import metrics\n",
    "from sklearn.svm import SVC, LinearSVC\n",
    "from sklearn.ensemble import RandomForestRegressor\n",
    "from sklearn.neighbors import KNeighborsClassifier\n",
    "from sklearn.naive_bayes import GaussianNB\n",
    "from sklearn.neighbors import KNeighborsRegressor\n",
    "import xgboost \n",
    "from xgboost import plot_importance,to_graphviz, plot_tree\n",
    "from sklearn.model_selection import GridSearchCV\n",
    "from xgboost import XGBRegressor\n",
    "from sklearn.model_selection import train_test_split\n",
    "\n",
    "\n",
    "from sklearn.linear_model import LogisticRegression\n",
    "from sklearn.model_selection import train_test_split, cross_val_score\n",
    "from sklearn.metrics import accuracy_score, classification_report, precision_score, recall_score \n",
    "from sklearn.metrics import confusion_matrix, precision_recall_curve, roc_curve, auc, log_loss\n",
    "from sklearn.neighbors import KNeighborsClassifier\n",
    "from sklearn.ensemble import RandomForestClassifier\n",
    "from sklearn.naive_bayes import MultinomialNB\n",
    "import xgboost as xgb\n",
    "from sklearn.multiclass import OneVsRestClassifier\n",
    "from sklearn.metrics import roc_auc_score\n",
    "from sklearn.preprocessing import label_binarize\n",
    "from sklearn import svm\n",
    "from itertools import cycle\n",
    "from sklearn.cluster import AgglomerativeClustering\n",
    "from scipy.cluster.hierarchy import dendrogram\n",
    "\n",
    "from sklearn.preprocessing import MinMaxScaler\n",
    "from sklearn.impute import SimpleImputer\n",
    "from pprint import pprint\n",
    "import warnings\n",
    "warnings.filterwarnings('ignore')\n",
    "from sklearn.metrics import explained_variance_score\n",
    "from bokeh.plotting import figure, show\n",
    "from bokeh.models import ColumnDataSource, Circle, HoverTool, CustomJS\n",
    "from bokeh.io import output_notebook\n",
    "import plotly.graph_objects as go\n",
    "from plotly.subplots import make_subplots\n",
    "import plotly.express as px\n",
    "from tqdm import tqdm\n",
    "\n",
    "import warnings\n",
    "warnings.filterwarnings('ignore')"
   ]
  },
  {
   "cell_type": "markdown",
   "id": "c4382316-b85c-4497-9e70-d18ba3f32cf9",
   "metadata": {
    "tags": []
   },
   "source": [
    "===================================================================================================================================\n",
    "## <font color='#0bfc03'> <center> Data Gathering"
   ]
  },
  {
   "cell_type": "markdown",
   "id": "e0f0a875-1e38-4eff-adbf-37f57adc79a7",
   "metadata": {},
   "source": [
    "There are 6 files used for this case study. Source: http://berkeleyearth.org/data/\n",
    "1. [GlobalTemperatures.csv](#1)\n",
    "2. [GlobalLandTemperaturesByMajorCity.csv](#2)\n",
    "3. [GlobalLandTemperaturesByCountry.csv](#3)\n",
    "4. [co2-mm-mlo.csv](#4)\n",
    "5. [global_co2.csv](#5)\n",
    "6. [CSIRO_gmsl.csv](#6)\n",
    "\n",
    "<br>\n",
    "\n",
    "Global Land and Ocean-and-Land Temperatures (GlobalTemperatures.csv):\n",
    "\n",
    "* [**Date**](#1): starts in 1750 for average land temperature and 1850 for max and min land temperatures and global ocean and land temperatures\n",
    "* [**LandAverageTemperature**](#1): global average land temperature in celsius\n",
    "* [**LandAverageTemperatureUncertainty**](#1): the 95% confidence interval around the average\n",
    "* [**LandMaxTemperature**](#1): global average maximum land temperature in celsius\n",
    "* [**LandMaxTemperatureUncertainty**](#1): the 95% confidence interval around the maximum land temperature\n",
    "* [**LandMinTemperature**](#1): global average minimum land temperature in celsius\n",
    "* [**LandMinTemperatureUncertainty**](#1): the 95% confidence interval around the minimum land temperature\n",
    "* [**LandAndOceanAverageTemperature**](#1): global average land and ocean temperature in celsius\n",
    "* [**LandAndOceanAverageTemperatureUncertainty**](#1): the 95% confidence interval around the global average land and ocean temperature\n",
    "\n",
    "<br>\n",
    "GlobalLandTemperaturesByMajorCity.csv:\n",
    "\n",
    "* [**dt**](#1): Date\n",
    "* [**AverageTemperature**](#1): Global average land and ocean temperature in celsius\n",
    "* [**AverageTemperatureUncertainty**](#1): The 95% confidence interval around the average\n",
    "* [**City**](#1): City Name\n",
    "* [**Country**](#1): Country Name\n",
    "* [**Latitude**](#1): Latitude coordinate\n",
    "* [**Longitude**](#1): Longitude coordinate\n",
    "\n",
    "<br>\n",
    "GlobalLandTemperaturesByCountry.csv:\n",
    "\n",
    "* [**dt**](#1): Date\n",
    "* [**AverageTemperature**](#1): Global average land and ocean temperature in celsius\n",
    "* [**AverageTemperatureUncertainty**](#1): tThe 95% confidence interval around the average\n",
    "* [**Country**](#1): Country Name\n",
    "\n",
    "<br>\n",
    "co2-mm-mlo.csv: \n",
    "\n",
    "* [**Date**](#1): Date\n",
    "* [**Decimal Date**](#1): Date in decimal\n",
    "* [**Average**](#1): The monthly mean CO2 mole fraction determined from daily averages. If there are missing days concentrated either early or late in the month, the monthly mean is corrected to the middle of the month using the average seasonal cycle. Missing months are denoted by -99.99.\n",
    "* [**Interpolated**](#1): Values from the average column and interpolated values where data are missing. Interpolated values are computed in two steps. First, we compute for each month the average seasonal cycle in a 7-year window around each monthly value. In this way the seasonal cycle is allowed to change slowly over time. We then determine the trend value for each month by removing the seasonal cycle; this result is shown in the trend column. Trend values are linearly interpolated for missing months. The interpolated monthly mean is then the sum of the average seasonal cycle value and the trend value for the missing month.\n",
    "* [**Trend**](#1): Seasonally corrected Trends in Atmospheric Carbon Dioxide\n",
    "* [**Number of Days**](#1): -1 denotes no data for number of daily averages in the month.\n",
    "\n",
    "<br>\n",
    "CSIRO_gmsl.csv:\n",
    "\n",
    "* [**Time**](#1): Date\n",
    "* [**GMSL (mm)**](#1): Annual Global Mean Sea Levels\n",
    "* [**GMSL uncertainty (mm)**](#1): Uncertainity in Annual Global Mean Sea Levels\n",
    "\n",
    "<br>\n",
    "global_co2.csv:\n",
    "\n",
    "* [**Year**](#1): Time\n",
    "* [**Total carbon emissions from fossil fuel consumption and cement production (mil. metric tons of C)**](#1)\n",
    "* [**Carbon emissions from gas fuel consumption**](#1)\n",
    "* [**Carbon emissions from liquid fuel consumption**](#1)\n",
    "* [**Carbon emissions from solid fuel consumption**](#1)\n",
    "* [**Carbon emissions from cement production\tCarbon emissions from gas flaring**](#1)\n",
    "* [**Per capita carbon emissions (metric tons of carbon; after 1949 only)**](#1)"
   ]
  },
  {
   "cell_type": "code",
   "execution_count": 2,
   "id": "d4fbdcee-b27f-4451-957c-024be329e7b2",
   "metadata": {},
   "outputs": [
    {
     "data": {
      "text/html": [
       "<div>\n",
       "<style scoped>\n",
       "    .dataframe tbody tr th:only-of-type {\n",
       "        vertical-align: middle;\n",
       "    }\n",
       "\n",
       "    .dataframe tbody tr th {\n",
       "        vertical-align: top;\n",
       "    }\n",
       "\n",
       "    .dataframe thead th {\n",
       "        text-align: right;\n",
       "    }\n",
       "</style>\n",
       "<table border=\"1\" class=\"dataframe\">\n",
       "  <thead>\n",
       "    <tr style=\"text-align: right;\">\n",
       "      <th></th>\n",
       "      <th>dt</th>\n",
       "      <th>LandAverageTemperature</th>\n",
       "      <th>LandAverageTemperatureUncertainty</th>\n",
       "      <th>LandMaxTemperature</th>\n",
       "      <th>LandMaxTemperatureUncertainty</th>\n",
       "      <th>LandMinTemperature</th>\n",
       "      <th>LandMinTemperatureUncertainty</th>\n",
       "      <th>LandAndOceanAverageTemperature</th>\n",
       "      <th>LandAndOceanAverageTemperatureUncertainty</th>\n",
       "    </tr>\n",
       "  </thead>\n",
       "  <tbody>\n",
       "    <tr>\n",
       "      <th>3180</th>\n",
       "      <td>2015-01-01</td>\n",
       "      <td>3.881</td>\n",
       "      <td>0.130</td>\n",
       "      <td>9.432</td>\n",
       "      <td>0.090</td>\n",
       "      <td>-1.518</td>\n",
       "      <td>0.097</td>\n",
       "      <td>14.255</td>\n",
       "      <td>0.066</td>\n",
       "    </tr>\n",
       "    <tr>\n",
       "      <th>3181</th>\n",
       "      <td>2015-02-01</td>\n",
       "      <td>4.664</td>\n",
       "      <td>0.121</td>\n",
       "      <td>10.497</td>\n",
       "      <td>0.092</td>\n",
       "      <td>-1.138</td>\n",
       "      <td>0.113</td>\n",
       "      <td>14.564</td>\n",
       "      <td>0.067</td>\n",
       "    </tr>\n",
       "    <tr>\n",
       "      <th>3182</th>\n",
       "      <td>2015-03-01</td>\n",
       "      <td>6.740</td>\n",
       "      <td>0.060</td>\n",
       "      <td>12.659</td>\n",
       "      <td>0.096</td>\n",
       "      <td>0.894</td>\n",
       "      <td>0.079</td>\n",
       "      <td>15.193</td>\n",
       "      <td>0.061</td>\n",
       "    </tr>\n",
       "    <tr>\n",
       "      <th>3183</th>\n",
       "      <td>2015-04-01</td>\n",
       "      <td>9.313</td>\n",
       "      <td>0.088</td>\n",
       "      <td>15.224</td>\n",
       "      <td>0.137</td>\n",
       "      <td>3.402</td>\n",
       "      <td>0.147</td>\n",
       "      <td>15.962</td>\n",
       "      <td>0.061</td>\n",
       "    </tr>\n",
       "    <tr>\n",
       "      <th>3184</th>\n",
       "      <td>2015-05-01</td>\n",
       "      <td>12.312</td>\n",
       "      <td>0.081</td>\n",
       "      <td>18.181</td>\n",
       "      <td>0.117</td>\n",
       "      <td>6.313</td>\n",
       "      <td>0.153</td>\n",
       "      <td>16.774</td>\n",
       "      <td>0.058</td>\n",
       "    </tr>\n",
       "    <tr>\n",
       "      <th>3185</th>\n",
       "      <td>2015-06-01</td>\n",
       "      <td>14.505</td>\n",
       "      <td>0.068</td>\n",
       "      <td>20.364</td>\n",
       "      <td>0.133</td>\n",
       "      <td>8.627</td>\n",
       "      <td>0.168</td>\n",
       "      <td>17.390</td>\n",
       "      <td>0.057</td>\n",
       "    </tr>\n",
       "    <tr>\n",
       "      <th>3186</th>\n",
       "      <td>2015-07-01</td>\n",
       "      <td>15.051</td>\n",
       "      <td>0.086</td>\n",
       "      <td>20.904</td>\n",
       "      <td>0.109</td>\n",
       "      <td>9.326</td>\n",
       "      <td>0.225</td>\n",
       "      <td>17.611</td>\n",
       "      <td>0.058</td>\n",
       "    </tr>\n",
       "    <tr>\n",
       "      <th>3187</th>\n",
       "      <td>2015-08-01</td>\n",
       "      <td>14.755</td>\n",
       "      <td>0.072</td>\n",
       "      <td>20.699</td>\n",
       "      <td>0.110</td>\n",
       "      <td>9.005</td>\n",
       "      <td>0.170</td>\n",
       "      <td>17.589</td>\n",
       "      <td>0.057</td>\n",
       "    </tr>\n",
       "    <tr>\n",
       "      <th>3188</th>\n",
       "      <td>2015-09-01</td>\n",
       "      <td>12.999</td>\n",
       "      <td>0.079</td>\n",
       "      <td>18.845</td>\n",
       "      <td>0.088</td>\n",
       "      <td>7.199</td>\n",
       "      <td>0.229</td>\n",
       "      <td>17.049</td>\n",
       "      <td>0.058</td>\n",
       "    </tr>\n",
       "    <tr>\n",
       "      <th>3189</th>\n",
       "      <td>2015-10-01</td>\n",
       "      <td>10.801</td>\n",
       "      <td>0.102</td>\n",
       "      <td>16.450</td>\n",
       "      <td>0.059</td>\n",
       "      <td>5.232</td>\n",
       "      <td>0.115</td>\n",
       "      <td>16.290</td>\n",
       "      <td>0.062</td>\n",
       "    </tr>\n",
       "    <tr>\n",
       "      <th>3190</th>\n",
       "      <td>2015-11-01</td>\n",
       "      <td>7.433</td>\n",
       "      <td>0.119</td>\n",
       "      <td>12.892</td>\n",
       "      <td>0.093</td>\n",
       "      <td>2.157</td>\n",
       "      <td>0.106</td>\n",
       "      <td>15.252</td>\n",
       "      <td>0.063</td>\n",
       "    </tr>\n",
       "    <tr>\n",
       "      <th>3191</th>\n",
       "      <td>2015-12-01</td>\n",
       "      <td>5.518</td>\n",
       "      <td>0.100</td>\n",
       "      <td>10.725</td>\n",
       "      <td>0.154</td>\n",
       "      <td>0.287</td>\n",
       "      <td>0.099</td>\n",
       "      <td>14.774</td>\n",
       "      <td>0.062</td>\n",
       "    </tr>\n",
       "  </tbody>\n",
       "</table>\n",
       "</div>"
      ],
      "text/plain": [
       "              dt  LandAverageTemperature  LandAverageTemperatureUncertainty  \\\n",
       "3180  2015-01-01                   3.881                              0.130   \n",
       "3181  2015-02-01                   4.664                              0.121   \n",
       "3182  2015-03-01                   6.740                              0.060   \n",
       "3183  2015-04-01                   9.313                              0.088   \n",
       "3184  2015-05-01                  12.312                              0.081   \n",
       "3185  2015-06-01                  14.505                              0.068   \n",
       "3186  2015-07-01                  15.051                              0.086   \n",
       "3187  2015-08-01                  14.755                              0.072   \n",
       "3188  2015-09-01                  12.999                              0.079   \n",
       "3189  2015-10-01                  10.801                              0.102   \n",
       "3190  2015-11-01                   7.433                              0.119   \n",
       "3191  2015-12-01                   5.518                              0.100   \n",
       "\n",
       "      LandMaxTemperature  LandMaxTemperatureUncertainty  LandMinTemperature  \\\n",
       "3180               9.432                          0.090              -1.518   \n",
       "3181              10.497                          0.092              -1.138   \n",
       "3182              12.659                          0.096               0.894   \n",
       "3183              15.224                          0.137               3.402   \n",
       "3184              18.181                          0.117               6.313   \n",
       "3185              20.364                          0.133               8.627   \n",
       "3186              20.904                          0.109               9.326   \n",
       "3187              20.699                          0.110               9.005   \n",
       "3188              18.845                          0.088               7.199   \n",
       "3189              16.450                          0.059               5.232   \n",
       "3190              12.892                          0.093               2.157   \n",
       "3191              10.725                          0.154               0.287   \n",
       "\n",
       "      LandMinTemperatureUncertainty  LandAndOceanAverageTemperature  \\\n",
       "3180                          0.097                          14.255   \n",
       "3181                          0.113                          14.564   \n",
       "3182                          0.079                          15.193   \n",
       "3183                          0.147                          15.962   \n",
       "3184                          0.153                          16.774   \n",
       "3185                          0.168                          17.390   \n",
       "3186                          0.225                          17.611   \n",
       "3187                          0.170                          17.589   \n",
       "3188                          0.229                          17.049   \n",
       "3189                          0.115                          16.290   \n",
       "3190                          0.106                          15.252   \n",
       "3191                          0.099                          14.774   \n",
       "\n",
       "      LandAndOceanAverageTemperatureUncertainty  \n",
       "3180                                      0.066  \n",
       "3181                                      0.067  \n",
       "3182                                      0.061  \n",
       "3183                                      0.061  \n",
       "3184                                      0.058  \n",
       "3185                                      0.057  \n",
       "3186                                      0.058  \n",
       "3187                                      0.057  \n",
       "3188                                      0.058  \n",
       "3189                                      0.062  \n",
       "3190                                      0.063  \n",
       "3191                                      0.062  "
      ]
     },
     "execution_count": 2,
     "metadata": {},
     "output_type": "execute_result"
    }
   ],
   "source": [
    "# get global temperature csv file as a DataFrame\n",
    "global_temps = pd.read_csv(\"input/GlobalTemperatures.csv\", sep=',')\n",
    "global_temps2 = copy.deepcopy(global_temps)\n",
    "global_temps.tail(12)"
   ]
  },
  {
   "cell_type": "code",
   "execution_count": 3,
   "id": "20d9b38f-34f6-4802-b4a5-78ff29d5a7c9",
   "metadata": {},
   "outputs": [
    {
     "name": "stdout",
     "output_type": "stream",
     "text": [
      "<class 'pandas.core.frame.DataFrame'>\n",
      "RangeIndex: 3192 entries, 0 to 3191\n",
      "Data columns (total 9 columns):\n",
      " #   Column                                     Non-Null Count  Dtype  \n",
      "---  ------                                     --------------  -----  \n",
      " 0   dt                                         3192 non-null   object \n",
      " 1   LandAverageTemperature                     3180 non-null   float64\n",
      " 2   LandAverageTemperatureUncertainty          3180 non-null   float64\n",
      " 3   LandMaxTemperature                         1992 non-null   float64\n",
      " 4   LandMaxTemperatureUncertainty              1992 non-null   float64\n",
      " 5   LandMinTemperature                         1992 non-null   float64\n",
      " 6   LandMinTemperatureUncertainty              1992 non-null   float64\n",
      " 7   LandAndOceanAverageTemperature             1992 non-null   float64\n",
      " 8   LandAndOceanAverageTemperatureUncertainty  1992 non-null   float64\n",
      "dtypes: float64(8), object(1)\n",
      "memory usage: 224.6+ KB\n"
     ]
    }
   ],
   "source": [
    "global_temps.info()"
   ]
  },
  {
   "cell_type": "markdown",
   "id": "96930a95-e2f6-48d0-bda5-52839d730a12",
   "metadata": {},
   "source": [
    "### <font color='#0bfc03'> Analysis\n",
    "**There are 9 columns and there are 12 rows with all null values. We will drop these rows and unneccesary columns**"
   ]
  },
  {
   "cell_type": "markdown",
   "id": "9964cf5d-bac6-4b0c-915f-4b45f73be579",
   "metadata": {},
   "source": [
    "===================================================================================================================================\n",
    "## <font color='#0bfc03'> <center> Data Cleaning"
   ]
  },
  {
   "cell_type": "code",
   "execution_count": 4,
   "id": "4f4016cd-1da7-467f-bc3d-9f9ba4b9a7c9",
   "metadata": {},
   "outputs": [
    {
     "name": "stdout",
     "output_type": "stream",
     "text": [
      "<class 'pandas.core.frame.DataFrame'>\n",
      "Int64Index: 3180 entries, 0 to 3191\n",
      "Data columns (total 3 columns):\n",
      " #   Column                             Non-Null Count  Dtype  \n",
      "---  ------                             --------------  -----  \n",
      " 0   dt                                 3180 non-null   object \n",
      " 1   LandAverageTemperature             3180 non-null   float64\n",
      " 2   LandAverageTemperatureUncertainty  3180 non-null   float64\n",
      "dtypes: float64(2), object(1)\n",
      "memory usage: 99.4+ KB\n"
     ]
    }
   ],
   "source": [
    "# Delete all columns except dates, Land Average Temperatures, Land Average Temperature Uncertainty\n",
    "df_global_temps=global_temps.drop(global_temps.columns[3:], axis=1, inplace= True)\n",
    "\n",
    "#Delete all empty lines\n",
    "df_global_temps=global_temps.dropna()\n",
    "df_global_temps.info()"
   ]
  },
  {
   "cell_type": "code",
   "execution_count": 5,
   "id": "434393c7-c546-46a1-a7ff-2f7b2cf5670a",
   "metadata": {},
   "outputs": [
    {
     "data": {
      "text/html": [
       "<div>\n",
       "<style scoped>\n",
       "    .dataframe tbody tr th:only-of-type {\n",
       "        vertical-align: middle;\n",
       "    }\n",
       "\n",
       "    .dataframe tbody tr th {\n",
       "        vertical-align: top;\n",
       "    }\n",
       "\n",
       "    .dataframe thead th {\n",
       "        text-align: right;\n",
       "    }\n",
       "</style>\n",
       "<table border=\"1\" class=\"dataframe\">\n",
       "  <thead>\n",
       "    <tr style=\"text-align: right;\">\n",
       "      <th></th>\n",
       "      <th>LandAverageTemperature</th>\n",
       "      <th>LandAverageTemperatureUncertainty</th>\n",
       "    </tr>\n",
       "  </thead>\n",
       "  <tbody>\n",
       "    <tr>\n",
       "      <th>count</th>\n",
       "      <td>3180.000000</td>\n",
       "      <td>3180.000000</td>\n",
       "    </tr>\n",
       "    <tr>\n",
       "      <th>mean</th>\n",
       "      <td>8.374731</td>\n",
       "      <td>0.938468</td>\n",
       "    </tr>\n",
       "    <tr>\n",
       "      <th>std</th>\n",
       "      <td>4.381310</td>\n",
       "      <td>1.096440</td>\n",
       "    </tr>\n",
       "    <tr>\n",
       "      <th>min</th>\n",
       "      <td>-2.080000</td>\n",
       "      <td>0.034000</td>\n",
       "    </tr>\n",
       "    <tr>\n",
       "      <th>25%</th>\n",
       "      <td>4.312000</td>\n",
       "      <td>0.186750</td>\n",
       "    </tr>\n",
       "    <tr>\n",
       "      <th>50%</th>\n",
       "      <td>8.610500</td>\n",
       "      <td>0.392000</td>\n",
       "    </tr>\n",
       "    <tr>\n",
       "      <th>75%</th>\n",
       "      <td>12.548250</td>\n",
       "      <td>1.419250</td>\n",
       "    </tr>\n",
       "    <tr>\n",
       "      <th>max</th>\n",
       "      <td>19.021000</td>\n",
       "      <td>7.880000</td>\n",
       "    </tr>\n",
       "  </tbody>\n",
       "</table>\n",
       "</div>"
      ],
      "text/plain": [
       "       LandAverageTemperature  LandAverageTemperatureUncertainty\n",
       "count             3180.000000                        3180.000000\n",
       "mean                 8.374731                           0.938468\n",
       "std                  4.381310                           1.096440\n",
       "min                 -2.080000                           0.034000\n",
       "25%                  4.312000                           0.186750\n",
       "50%                  8.610500                           0.392000\n",
       "75%                 12.548250                           1.419250\n",
       "max                 19.021000                           7.880000"
      ]
     },
     "execution_count": 5,
     "metadata": {},
     "output_type": "execute_result"
    }
   ],
   "source": [
    "global_temps.describe()"
   ]
  },
  {
   "cell_type": "markdown",
   "id": "c7752ccc-0c4a-4177-9131-e7a9806d2554",
   "metadata": {},
   "source": [
    "### <font color='#0bfc03'> Analysis\n",
    "**Global Land Average Temperature is 8.37**\n",
    "\n",
    "==================================================================================================================================="
   ]
  },
  {
   "cell_type": "code",
   "execution_count": 6,
   "id": "04054540-6230-4207-ab42-5cfce5ac8718",
   "metadata": {},
   "outputs": [
    {
     "data": {
      "text/html": [
       "<div>\n",
       "<style scoped>\n",
       "    .dataframe tbody tr th:only-of-type {\n",
       "        vertical-align: middle;\n",
       "    }\n",
       "\n",
       "    .dataframe tbody tr th {\n",
       "        vertical-align: top;\n",
       "    }\n",
       "\n",
       "    .dataframe thead th {\n",
       "        text-align: right;\n",
       "    }\n",
       "</style>\n",
       "<table border=\"1\" class=\"dataframe\">\n",
       "  <thead>\n",
       "    <tr style=\"text-align: right;\">\n",
       "      <th></th>\n",
       "      <th>dt</th>\n",
       "      <th>LandAverageTemperature</th>\n",
       "      <th>LandAverageTemperatureUncertainty</th>\n",
       "      <th>LandMaxTemperature</th>\n",
       "      <th>LandMaxTemperatureUncertainty</th>\n",
       "      <th>LandMinTemperature</th>\n",
       "      <th>LandMinTemperatureUncertainty</th>\n",
       "      <th>LandAndOceanAverageTemperature</th>\n",
       "      <th>LandAndOceanAverageTemperatureUncertainty</th>\n",
       "    </tr>\n",
       "  </thead>\n",
       "  <tbody>\n",
       "    <tr>\n",
       "      <th>3180</th>\n",
       "      <td>2015-01-01</td>\n",
       "      <td>3.881</td>\n",
       "      <td>0.130</td>\n",
       "      <td>9.432</td>\n",
       "      <td>0.090</td>\n",
       "      <td>-1.518</td>\n",
       "      <td>0.097</td>\n",
       "      <td>14.255</td>\n",
       "      <td>0.066</td>\n",
       "    </tr>\n",
       "    <tr>\n",
       "      <th>3181</th>\n",
       "      <td>2015-02-01</td>\n",
       "      <td>4.664</td>\n",
       "      <td>0.121</td>\n",
       "      <td>10.497</td>\n",
       "      <td>0.092</td>\n",
       "      <td>-1.138</td>\n",
       "      <td>0.113</td>\n",
       "      <td>14.564</td>\n",
       "      <td>0.067</td>\n",
       "    </tr>\n",
       "    <tr>\n",
       "      <th>3182</th>\n",
       "      <td>2015-03-01</td>\n",
       "      <td>6.740</td>\n",
       "      <td>0.060</td>\n",
       "      <td>12.659</td>\n",
       "      <td>0.096</td>\n",
       "      <td>0.894</td>\n",
       "      <td>0.079</td>\n",
       "      <td>15.193</td>\n",
       "      <td>0.061</td>\n",
       "    </tr>\n",
       "    <tr>\n",
       "      <th>3183</th>\n",
       "      <td>2015-04-01</td>\n",
       "      <td>9.313</td>\n",
       "      <td>0.088</td>\n",
       "      <td>15.224</td>\n",
       "      <td>0.137</td>\n",
       "      <td>3.402</td>\n",
       "      <td>0.147</td>\n",
       "      <td>15.962</td>\n",
       "      <td>0.061</td>\n",
       "    </tr>\n",
       "    <tr>\n",
       "      <th>3184</th>\n",
       "      <td>2015-05-01</td>\n",
       "      <td>12.312</td>\n",
       "      <td>0.081</td>\n",
       "      <td>18.181</td>\n",
       "      <td>0.117</td>\n",
       "      <td>6.313</td>\n",
       "      <td>0.153</td>\n",
       "      <td>16.774</td>\n",
       "      <td>0.058</td>\n",
       "    </tr>\n",
       "    <tr>\n",
       "      <th>3185</th>\n",
       "      <td>2015-06-01</td>\n",
       "      <td>14.505</td>\n",
       "      <td>0.068</td>\n",
       "      <td>20.364</td>\n",
       "      <td>0.133</td>\n",
       "      <td>8.627</td>\n",
       "      <td>0.168</td>\n",
       "      <td>17.390</td>\n",
       "      <td>0.057</td>\n",
       "    </tr>\n",
       "    <tr>\n",
       "      <th>3186</th>\n",
       "      <td>2015-07-01</td>\n",
       "      <td>15.051</td>\n",
       "      <td>0.086</td>\n",
       "      <td>20.904</td>\n",
       "      <td>0.109</td>\n",
       "      <td>9.326</td>\n",
       "      <td>0.225</td>\n",
       "      <td>17.611</td>\n",
       "      <td>0.058</td>\n",
       "    </tr>\n",
       "    <tr>\n",
       "      <th>3187</th>\n",
       "      <td>2015-08-01</td>\n",
       "      <td>14.755</td>\n",
       "      <td>0.072</td>\n",
       "      <td>20.699</td>\n",
       "      <td>0.110</td>\n",
       "      <td>9.005</td>\n",
       "      <td>0.170</td>\n",
       "      <td>17.589</td>\n",
       "      <td>0.057</td>\n",
       "    </tr>\n",
       "    <tr>\n",
       "      <th>3188</th>\n",
       "      <td>2015-09-01</td>\n",
       "      <td>12.999</td>\n",
       "      <td>0.079</td>\n",
       "      <td>18.845</td>\n",
       "      <td>0.088</td>\n",
       "      <td>7.199</td>\n",
       "      <td>0.229</td>\n",
       "      <td>17.049</td>\n",
       "      <td>0.058</td>\n",
       "    </tr>\n",
       "    <tr>\n",
       "      <th>3189</th>\n",
       "      <td>2015-10-01</td>\n",
       "      <td>10.801</td>\n",
       "      <td>0.102</td>\n",
       "      <td>16.450</td>\n",
       "      <td>0.059</td>\n",
       "      <td>5.232</td>\n",
       "      <td>0.115</td>\n",
       "      <td>16.290</td>\n",
       "      <td>0.062</td>\n",
       "    </tr>\n",
       "    <tr>\n",
       "      <th>3190</th>\n",
       "      <td>2015-11-01</td>\n",
       "      <td>7.433</td>\n",
       "      <td>0.119</td>\n",
       "      <td>12.892</td>\n",
       "      <td>0.093</td>\n",
       "      <td>2.157</td>\n",
       "      <td>0.106</td>\n",
       "      <td>15.252</td>\n",
       "      <td>0.063</td>\n",
       "    </tr>\n",
       "    <tr>\n",
       "      <th>3191</th>\n",
       "      <td>2015-12-01</td>\n",
       "      <td>5.518</td>\n",
       "      <td>0.100</td>\n",
       "      <td>10.725</td>\n",
       "      <td>0.154</td>\n",
       "      <td>0.287</td>\n",
       "      <td>0.099</td>\n",
       "      <td>14.774</td>\n",
       "      <td>0.062</td>\n",
       "    </tr>\n",
       "  </tbody>\n",
       "</table>\n",
       "</div>"
      ],
      "text/plain": [
       "              dt  LandAverageTemperature  LandAverageTemperatureUncertainty  \\\n",
       "3180  2015-01-01                   3.881                              0.130   \n",
       "3181  2015-02-01                   4.664                              0.121   \n",
       "3182  2015-03-01                   6.740                              0.060   \n",
       "3183  2015-04-01                   9.313                              0.088   \n",
       "3184  2015-05-01                  12.312                              0.081   \n",
       "3185  2015-06-01                  14.505                              0.068   \n",
       "3186  2015-07-01                  15.051                              0.086   \n",
       "3187  2015-08-01                  14.755                              0.072   \n",
       "3188  2015-09-01                  12.999                              0.079   \n",
       "3189  2015-10-01                  10.801                              0.102   \n",
       "3190  2015-11-01                   7.433                              0.119   \n",
       "3191  2015-12-01                   5.518                              0.100   \n",
       "\n",
       "      LandMaxTemperature  LandMaxTemperatureUncertainty  LandMinTemperature  \\\n",
       "3180               9.432                          0.090              -1.518   \n",
       "3181              10.497                          0.092              -1.138   \n",
       "3182              12.659                          0.096               0.894   \n",
       "3183              15.224                          0.137               3.402   \n",
       "3184              18.181                          0.117               6.313   \n",
       "3185              20.364                          0.133               8.627   \n",
       "3186              20.904                          0.109               9.326   \n",
       "3187              20.699                          0.110               9.005   \n",
       "3188              18.845                          0.088               7.199   \n",
       "3189              16.450                          0.059               5.232   \n",
       "3190              12.892                          0.093               2.157   \n",
       "3191              10.725                          0.154               0.287   \n",
       "\n",
       "      LandMinTemperatureUncertainty  LandAndOceanAverageTemperature  \\\n",
       "3180                          0.097                          14.255   \n",
       "3181                          0.113                          14.564   \n",
       "3182                          0.079                          15.193   \n",
       "3183                          0.147                          15.962   \n",
       "3184                          0.153                          16.774   \n",
       "3185                          0.168                          17.390   \n",
       "3186                          0.225                          17.611   \n",
       "3187                          0.170                          17.589   \n",
       "3188                          0.229                          17.049   \n",
       "3189                          0.115                          16.290   \n",
       "3190                          0.106                          15.252   \n",
       "3191                          0.099                          14.774   \n",
       "\n",
       "      LandAndOceanAverageTemperatureUncertainty  \n",
       "3180                                      0.066  \n",
       "3181                                      0.067  \n",
       "3182                                      0.061  \n",
       "3183                                      0.061  \n",
       "3184                                      0.058  \n",
       "3185                                      0.057  \n",
       "3186                                      0.058  \n",
       "3187                                      0.057  \n",
       "3188                                      0.058  \n",
       "3189                                      0.062  \n",
       "3190                                      0.063  \n",
       "3191                                      0.062  "
      ]
     },
     "execution_count": 6,
     "metadata": {},
     "output_type": "execute_result"
    }
   ],
   "source": [
    "global_temps2[-12:]"
   ]
  },
  {
   "cell_type": "markdown",
   "id": "629aa578-4921-43ce-912c-2f5c26b51dfc",
   "metadata": {},
   "source": [
    "===================================================================================================================================\n",
    "## <font color='#0bfc03'> <center> Data Exploration"
   ]
  },
  {
   "cell_type": "markdown",
   "id": "f442176b-f89f-49e8-88fb-794ae4b14948",
   "metadata": {},
   "source": [
    "### Finding yearly average and calculating Heat level using yearly average temperature"
   ]
  },
  {
   "cell_type": "code",
   "execution_count": 7,
   "id": "fe1442bd-55df-4d2d-9e1b-f0c8b2025220",
   "metadata": {},
   "outputs": [],
   "source": [
    "#Defining a function that classifies the average temperatures \n",
    "def heat(x):\n",
    "    if type(x) is str:\n",
    "        return x\n",
    "    elif x<=7:\n",
    "        return 3\n",
    "    elif x>7 and x<=8:\n",
    "        return 2\n",
    "    else:\n",
    "        return 1"
   ]
  },
  {
   "cell_type": "code",
   "execution_count": 8,
   "id": "6ea54c04-5c2e-4776-b5a8-e8d360ef24be",
   "metadata": {},
   "outputs": [
    {
     "name": "stdout",
     "output_type": "stream",
     "text": [
      "    Dates  Temperatures  Uncertainty  Heat\n",
      "0    1750           NaN          NaN     1\n",
      "1    1751           NaN          NaN     1\n",
      "2    1752           NaN          NaN     1\n",
      "3    1753           NaN          NaN     1\n",
      "4    1754           NaN          NaN     1\n",
      "..    ...           ...          ...   ...\n",
      "261  2011     15.769500     0.059000     1\n",
      "262  2012     15.802333     0.061500     1\n",
      "263  2013     15.854417     0.064667     1\n",
      "264  2014     15.913000     0.063167     1\n",
      "265  2015     16.058583     0.060833     1\n",
      "\n",
      "[266 rows x 4 columns]\n"
     ]
    }
   ],
   "source": [
    "global_temps = pd.read_csv(\"input/GlobalTemperatures.csv\", sep=',')\n",
    "df = copy.deepcopy(global_temps)\n",
    "df['dt'] = df['dt'].apply(lambda x: x[:4])\n",
    "df_global_mean = df.groupby(['dt']).agg({'LandAndOceanAverageTemperature': np.mean,\n",
    "                             'LandAndOceanAverageTemperatureUncertainty': np.mean})\n",
    "#Adding the heat function\n",
    "df_global_mean['Heat'] = df_global_mean['LandAndOceanAverageTemperature'].apply(heat)\n",
    "df_global_mean.reset_index(inplace=True)\n",
    "df_global_mean.rename(columns = {'LandAndOceanAverageTemperature':'Temperatures', \n",
    "                      'LandAndOceanAverageTemperatureUncertainty':'Uncertainty', \n",
    "                      'dt':'Dates'}, inplace = True)\n",
    "print(df_global_mean)"
   ]
  },
  {
   "cell_type": "code",
   "execution_count": 9,
   "id": "89413617-a201-4a4a-9b37-bcf015563e40",
   "metadata": {},
   "outputs": [
    {
     "name": "stdout",
     "output_type": "stream",
     "text": [
      "Dataset is from:  1750  to  2015\n"
     ]
    }
   ],
   "source": [
    "print(\"Dataset is from: \", str(min(df_global_mean['Dates'])), \" to \",str(max(df_global_mean['Dates'])))"
   ]
  },
  {
   "cell_type": "code",
   "execution_count": 10,
   "id": "9e4a5122-b947-4081-ab38-79de3d1237fa",
   "metadata": {},
   "outputs": [
    {
     "data": {
      "text/html": [
       "\n",
       "    <div class=\"bk-root\">\n",
       "        <a href=\"https://bokeh.org\" target=\"_blank\" class=\"bk-logo bk-logo-small bk-logo-notebook\"></a>\n",
       "        <span id=\"1002\">Loading BokehJS ...</span>\n",
       "    </div>"
      ]
     },
     "metadata": {},
     "output_type": "display_data"
    },
    {
     "data": {
      "application/javascript": [
       "\n",
       "(function(root) {\n",
       "  function now() {\n",
       "    return new Date();\n",
       "  }\n",
       "\n",
       "  var force = true;\n",
       "\n",
       "  if (typeof root._bokeh_onload_callbacks === \"undefined\" || force === true) {\n",
       "    root._bokeh_onload_callbacks = [];\n",
       "    root._bokeh_is_loading = undefined;\n",
       "  }\n",
       "\n",
       "  var JS_MIME_TYPE = 'application/javascript';\n",
       "  var HTML_MIME_TYPE = 'text/html';\n",
       "  var EXEC_MIME_TYPE = 'application/vnd.bokehjs_exec.v0+json';\n",
       "  var CLASS_NAME = 'output_bokeh rendered_html';\n",
       "\n",
       "  /**\n",
       "   * Render data to the DOM node\n",
       "   */\n",
       "  function render(props, node) {\n",
       "    var script = document.createElement(\"script\");\n",
       "    node.appendChild(script);\n",
       "  }\n",
       "\n",
       "  /**\n",
       "   * Handle when an output is cleared or removed\n",
       "   */\n",
       "  function handleClearOutput(event, handle) {\n",
       "    var cell = handle.cell;\n",
       "\n",
       "    var id = cell.output_area._bokeh_element_id;\n",
       "    var server_id = cell.output_area._bokeh_server_id;\n",
       "    // Clean up Bokeh references\n",
       "    if (id != null && id in Bokeh.index) {\n",
       "      Bokeh.index[id].model.document.clear();\n",
       "      delete Bokeh.index[id];\n",
       "    }\n",
       "\n",
       "    if (server_id !== undefined) {\n",
       "      // Clean up Bokeh references\n",
       "      var cmd = \"from bokeh.io.state import curstate; print(curstate().uuid_to_server['\" + server_id + \"'].get_sessions()[0].document.roots[0]._id)\";\n",
       "      cell.notebook.kernel.execute(cmd, {\n",
       "        iopub: {\n",
       "          output: function(msg) {\n",
       "            var id = msg.content.text.trim();\n",
       "            if (id in Bokeh.index) {\n",
       "              Bokeh.index[id].model.document.clear();\n",
       "              delete Bokeh.index[id];\n",
       "            }\n",
       "          }\n",
       "        }\n",
       "      });\n",
       "      // Destroy server and session\n",
       "      var cmd = \"import bokeh.io.notebook as ion; ion.destroy_server('\" + server_id + \"')\";\n",
       "      cell.notebook.kernel.execute(cmd);\n",
       "    }\n",
       "  }\n",
       "\n",
       "  /**\n",
       "   * Handle when a new output is added\n",
       "   */\n",
       "  function handleAddOutput(event, handle) {\n",
       "    var output_area = handle.output_area;\n",
       "    var output = handle.output;\n",
       "\n",
       "    // limit handleAddOutput to display_data with EXEC_MIME_TYPE content only\n",
       "    if ((output.output_type != \"display_data\") || (!Object.prototype.hasOwnProperty.call(output.data, EXEC_MIME_TYPE))) {\n",
       "      return\n",
       "    }\n",
       "\n",
       "    var toinsert = output_area.element.find(\".\" + CLASS_NAME.split(' ')[0]);\n",
       "\n",
       "    if (output.metadata[EXEC_MIME_TYPE][\"id\"] !== undefined) {\n",
       "      toinsert[toinsert.length - 1].firstChild.textContent = output.data[JS_MIME_TYPE];\n",
       "      // store reference to embed id on output_area\n",
       "      output_area._bokeh_element_id = output.metadata[EXEC_MIME_TYPE][\"id\"];\n",
       "    }\n",
       "    if (output.metadata[EXEC_MIME_TYPE][\"server_id\"] !== undefined) {\n",
       "      var bk_div = document.createElement(\"div\");\n",
       "      bk_div.innerHTML = output.data[HTML_MIME_TYPE];\n",
       "      var script_attrs = bk_div.children[0].attributes;\n",
       "      for (var i = 0; i < script_attrs.length; i++) {\n",
       "        toinsert[toinsert.length - 1].firstChild.setAttribute(script_attrs[i].name, script_attrs[i].value);\n",
       "        toinsert[toinsert.length - 1].firstChild.textContent = bk_div.children[0].textContent\n",
       "      }\n",
       "      // store reference to server id on output_area\n",
       "      output_area._bokeh_server_id = output.metadata[EXEC_MIME_TYPE][\"server_id\"];\n",
       "    }\n",
       "  }\n",
       "\n",
       "  function register_renderer(events, OutputArea) {\n",
       "\n",
       "    function append_mime(data, metadata, element) {\n",
       "      // create a DOM node to render to\n",
       "      var toinsert = this.create_output_subarea(\n",
       "        metadata,\n",
       "        CLASS_NAME,\n",
       "        EXEC_MIME_TYPE\n",
       "      );\n",
       "      this.keyboard_manager.register_events(toinsert);\n",
       "      // Render to node\n",
       "      var props = {data: data, metadata: metadata[EXEC_MIME_TYPE]};\n",
       "      render(props, toinsert[toinsert.length - 1]);\n",
       "      element.append(toinsert);\n",
       "      return toinsert\n",
       "    }\n",
       "\n",
       "    /* Handle when an output is cleared or removed */\n",
       "    events.on('clear_output.CodeCell', handleClearOutput);\n",
       "    events.on('delete.Cell', handleClearOutput);\n",
       "\n",
       "    /* Handle when a new output is added */\n",
       "    events.on('output_added.OutputArea', handleAddOutput);\n",
       "\n",
       "    /**\n",
       "     * Register the mime type and append_mime function with output_area\n",
       "     */\n",
       "    OutputArea.prototype.register_mime_type(EXEC_MIME_TYPE, append_mime, {\n",
       "      /* Is output safe? */\n",
       "      safe: true,\n",
       "      /* Index of renderer in `output_area.display_order` */\n",
       "      index: 0\n",
       "    });\n",
       "  }\n",
       "\n",
       "  // register the mime type if in Jupyter Notebook environment and previously unregistered\n",
       "  if (root.Jupyter !== undefined) {\n",
       "    var events = require('base/js/events');\n",
       "    var OutputArea = require('notebook/js/outputarea').OutputArea;\n",
       "\n",
       "    if (OutputArea.prototype.mime_types().indexOf(EXEC_MIME_TYPE) == -1) {\n",
       "      register_renderer(events, OutputArea);\n",
       "    }\n",
       "  }\n",
       "\n",
       "  \n",
       "  if (typeof (root._bokeh_timeout) === \"undefined\" || force === true) {\n",
       "    root._bokeh_timeout = Date.now() + 5000;\n",
       "    root._bokeh_failed_load = false;\n",
       "  }\n",
       "\n",
       "  var NB_LOAD_WARNING = {'data': {'text/html':\n",
       "     \"<div style='background-color: #fdd'>\\n\"+\n",
       "     \"<p>\\n\"+\n",
       "     \"BokehJS does not appear to have successfully loaded. If loading BokehJS from CDN, this \\n\"+\n",
       "     \"may be due to a slow or bad network connection. Possible fixes:\\n\"+\n",
       "     \"</p>\\n\"+\n",
       "     \"<ul>\\n\"+\n",
       "     \"<li>re-rerun `output_notebook()` to attempt to load from CDN again, or</li>\\n\"+\n",
       "     \"<li>use INLINE resources instead, as so:</li>\\n\"+\n",
       "     \"</ul>\\n\"+\n",
       "     \"<code>\\n\"+\n",
       "     \"from bokeh.resources import INLINE\\n\"+\n",
       "     \"output_notebook(resources=INLINE)\\n\"+\n",
       "     \"</code>\\n\"+\n",
       "     \"</div>\"}};\n",
       "\n",
       "  function display_loaded() {\n",
       "    var el = document.getElementById(\"1002\");\n",
       "    if (el != null) {\n",
       "      el.textContent = \"BokehJS is loading...\";\n",
       "    }\n",
       "    if (root.Bokeh !== undefined) {\n",
       "      if (el != null) {\n",
       "        el.textContent = \"BokehJS \" + root.Bokeh.version + \" successfully loaded.\";\n",
       "      }\n",
       "    } else if (Date.now() < root._bokeh_timeout) {\n",
       "      setTimeout(display_loaded, 100)\n",
       "    }\n",
       "  }\n",
       "\n",
       "\n",
       "  function run_callbacks() {\n",
       "    try {\n",
       "      root._bokeh_onload_callbacks.forEach(function(callback) {\n",
       "        if (callback != null)\n",
       "          callback();\n",
       "      });\n",
       "    } finally {\n",
       "      delete root._bokeh_onload_callbacks\n",
       "    }\n",
       "    console.debug(\"Bokeh: all callbacks have finished\");\n",
       "  }\n",
       "\n",
       "  function load_libs(css_urls, js_urls, callback) {\n",
       "    if (css_urls == null) css_urls = [];\n",
       "    if (js_urls == null) js_urls = [];\n",
       "\n",
       "    root._bokeh_onload_callbacks.push(callback);\n",
       "    if (root._bokeh_is_loading > 0) {\n",
       "      console.debug(\"Bokeh: BokehJS is being loaded, scheduling callback at\", now());\n",
       "      return null;\n",
       "    }\n",
       "    if (js_urls == null || js_urls.length === 0) {\n",
       "      run_callbacks();\n",
       "      return null;\n",
       "    }\n",
       "    console.debug(\"Bokeh: BokehJS not loaded, scheduling load and callback at\", now());\n",
       "    root._bokeh_is_loading = css_urls.length + js_urls.length;\n",
       "\n",
       "    function on_load() {\n",
       "      root._bokeh_is_loading--;\n",
       "      if (root._bokeh_is_loading === 0) {\n",
       "        console.debug(\"Bokeh: all BokehJS libraries/stylesheets loaded\");\n",
       "        run_callbacks()\n",
       "      }\n",
       "    }\n",
       "\n",
       "    function on_error(url) {\n",
       "      console.error(\"failed to load \" + url);\n",
       "    }\n",
       "\n",
       "    for (let i = 0; i < css_urls.length; i++) {\n",
       "      const url = css_urls[i];\n",
       "      const element = document.createElement(\"link\");\n",
       "      element.onload = on_load;\n",
       "      element.onerror = on_error.bind(null, url);\n",
       "      element.rel = \"stylesheet\";\n",
       "      element.type = \"text/css\";\n",
       "      element.href = url;\n",
       "      console.debug(\"Bokeh: injecting link tag for BokehJS stylesheet: \", url);\n",
       "      document.body.appendChild(element);\n",
       "    }\n",
       "\n",
       "    const hashes = {\"https://cdn.bokeh.org/bokeh/release/bokeh-2.3.3.min.js\": \"dM3QQsP+wXdHg42wTqW85BjZQdLNNIXqlPw/BgKoExPmTG7ZLML4EGqLMfqHT6ON\", \"https://cdn.bokeh.org/bokeh/release/bokeh-tables-2.3.3.min.js\": \"8x57I4YuIfu8XyZfFo0XVr2WAT8EK4rh/uDe3wF7YuW2FNUSNEpJbsPaB1nJ2fz2\", \"https://cdn.bokeh.org/bokeh/release/bokeh-widgets-2.3.3.min.js\": \"3QTqdz9LyAm2i0sG5XTePsHec3UHWwVsrOL68SYRoAXsafvfAyqtQ+h440+qIBhS\"};\n",
       "\n",
       "    for (let i = 0; i < js_urls.length; i++) {\n",
       "      const url = js_urls[i];\n",
       "      const element = document.createElement('script');\n",
       "      element.onload = on_load;\n",
       "      element.onerror = on_error.bind(null, url);\n",
       "      element.async = false;\n",
       "      element.src = url;\n",
       "      if (url in hashes) {\n",
       "        element.crossOrigin = \"anonymous\";\n",
       "        element.integrity = \"sha384-\" + hashes[url];\n",
       "      }\n",
       "      console.debug(\"Bokeh: injecting script tag for BokehJS library: \", url);\n",
       "      document.head.appendChild(element);\n",
       "    }\n",
       "  };\n",
       "\n",
       "  function inject_raw_css(css) {\n",
       "    const element = document.createElement(\"style\");\n",
       "    element.appendChild(document.createTextNode(css));\n",
       "    document.body.appendChild(element);\n",
       "  }\n",
       "\n",
       "  \n",
       "  var js_urls = [\"https://cdn.bokeh.org/bokeh/release/bokeh-2.3.3.min.js\", \"https://cdn.bokeh.org/bokeh/release/bokeh-widgets-2.3.3.min.js\", \"https://cdn.bokeh.org/bokeh/release/bokeh-tables-2.3.3.min.js\"];\n",
       "  var css_urls = [];\n",
       "  \n",
       "\n",
       "  var inline_js = [\n",
       "    function(Bokeh) {\n",
       "      Bokeh.set_log_level(\"info\");\n",
       "    },\n",
       "    function(Bokeh) {\n",
       "    \n",
       "    \n",
       "    }\n",
       "  ];\n",
       "\n",
       "  function run_inline_js() {\n",
       "    \n",
       "    if (root.Bokeh !== undefined || force === true) {\n",
       "      \n",
       "    for (var i = 0; i < inline_js.length; i++) {\n",
       "      inline_js[i].call(root, root.Bokeh);\n",
       "    }\n",
       "    if (force === true) {\n",
       "        display_loaded();\n",
       "      }} else if (Date.now() < root._bokeh_timeout) {\n",
       "      setTimeout(run_inline_js, 100);\n",
       "    } else if (!root._bokeh_failed_load) {\n",
       "      console.log(\"Bokeh: BokehJS failed to load within specified timeout.\");\n",
       "      root._bokeh_failed_load = true;\n",
       "    } else if (force !== true) {\n",
       "      var cell = $(document.getElementById(\"1002\")).parents('.cell').data().cell;\n",
       "      cell.output_area.append_execute_result(NB_LOAD_WARNING)\n",
       "    }\n",
       "\n",
       "  }\n",
       "\n",
       "  if (root._bokeh_is_loading === 0) {\n",
       "    console.debug(\"Bokeh: BokehJS loaded, going straight to plotting\");\n",
       "    run_inline_js();\n",
       "  } else {\n",
       "    load_libs(css_urls, js_urls, function() {\n",
       "      console.debug(\"Bokeh: BokehJS plotting callback run at\", now());\n",
       "      run_inline_js();\n",
       "    });\n",
       "  }\n",
       "}(window));"
      ],
      "application/vnd.bokehjs_load.v0+json": "\n(function(root) {\n  function now() {\n    return new Date();\n  }\n\n  var force = true;\n\n  if (typeof root._bokeh_onload_callbacks === \"undefined\" || force === true) {\n    root._bokeh_onload_callbacks = [];\n    root._bokeh_is_loading = undefined;\n  }\n\n  \n\n  \n  if (typeof (root._bokeh_timeout) === \"undefined\" || force === true) {\n    root._bokeh_timeout = Date.now() + 5000;\n    root._bokeh_failed_load = false;\n  }\n\n  var NB_LOAD_WARNING = {'data': {'text/html':\n     \"<div style='background-color: #fdd'>\\n\"+\n     \"<p>\\n\"+\n     \"BokehJS does not appear to have successfully loaded. If loading BokehJS from CDN, this \\n\"+\n     \"may be due to a slow or bad network connection. Possible fixes:\\n\"+\n     \"</p>\\n\"+\n     \"<ul>\\n\"+\n     \"<li>re-rerun `output_notebook()` to attempt to load from CDN again, or</li>\\n\"+\n     \"<li>use INLINE resources instead, as so:</li>\\n\"+\n     \"</ul>\\n\"+\n     \"<code>\\n\"+\n     \"from bokeh.resources import INLINE\\n\"+\n     \"output_notebook(resources=INLINE)\\n\"+\n     \"</code>\\n\"+\n     \"</div>\"}};\n\n  function display_loaded() {\n    var el = document.getElementById(\"1002\");\n    if (el != null) {\n      el.textContent = \"BokehJS is loading...\";\n    }\n    if (root.Bokeh !== undefined) {\n      if (el != null) {\n        el.textContent = \"BokehJS \" + root.Bokeh.version + \" successfully loaded.\";\n      }\n    } else if (Date.now() < root._bokeh_timeout) {\n      setTimeout(display_loaded, 100)\n    }\n  }\n\n\n  function run_callbacks() {\n    try {\n      root._bokeh_onload_callbacks.forEach(function(callback) {\n        if (callback != null)\n          callback();\n      });\n    } finally {\n      delete root._bokeh_onload_callbacks\n    }\n    console.debug(\"Bokeh: all callbacks have finished\");\n  }\n\n  function load_libs(css_urls, js_urls, callback) {\n    if (css_urls == null) css_urls = [];\n    if (js_urls == null) js_urls = [];\n\n    root._bokeh_onload_callbacks.push(callback);\n    if (root._bokeh_is_loading > 0) {\n      console.debug(\"Bokeh: BokehJS is being loaded, scheduling callback at\", now());\n      return null;\n    }\n    if (js_urls == null || js_urls.length === 0) {\n      run_callbacks();\n      return null;\n    }\n    console.debug(\"Bokeh: BokehJS not loaded, scheduling load and callback at\", now());\n    root._bokeh_is_loading = css_urls.length + js_urls.length;\n\n    function on_load() {\n      root._bokeh_is_loading--;\n      if (root._bokeh_is_loading === 0) {\n        console.debug(\"Bokeh: all BokehJS libraries/stylesheets loaded\");\n        run_callbacks()\n      }\n    }\n\n    function on_error(url) {\n      console.error(\"failed to load \" + url);\n    }\n\n    for (let i = 0; i < css_urls.length; i++) {\n      const url = css_urls[i];\n      const element = document.createElement(\"link\");\n      element.onload = on_load;\n      element.onerror = on_error.bind(null, url);\n      element.rel = \"stylesheet\";\n      element.type = \"text/css\";\n      element.href = url;\n      console.debug(\"Bokeh: injecting link tag for BokehJS stylesheet: \", url);\n      document.body.appendChild(element);\n    }\n\n    const hashes = {\"https://cdn.bokeh.org/bokeh/release/bokeh-2.3.3.min.js\": \"dM3QQsP+wXdHg42wTqW85BjZQdLNNIXqlPw/BgKoExPmTG7ZLML4EGqLMfqHT6ON\", \"https://cdn.bokeh.org/bokeh/release/bokeh-tables-2.3.3.min.js\": \"8x57I4YuIfu8XyZfFo0XVr2WAT8EK4rh/uDe3wF7YuW2FNUSNEpJbsPaB1nJ2fz2\", \"https://cdn.bokeh.org/bokeh/release/bokeh-widgets-2.3.3.min.js\": \"3QTqdz9LyAm2i0sG5XTePsHec3UHWwVsrOL68SYRoAXsafvfAyqtQ+h440+qIBhS\"};\n\n    for (let i = 0; i < js_urls.length; i++) {\n      const url = js_urls[i];\n      const element = document.createElement('script');\n      element.onload = on_load;\n      element.onerror = on_error.bind(null, url);\n      element.async = false;\n      element.src = url;\n      if (url in hashes) {\n        element.crossOrigin = \"anonymous\";\n        element.integrity = \"sha384-\" + hashes[url];\n      }\n      console.debug(\"Bokeh: injecting script tag for BokehJS library: \", url);\n      document.head.appendChild(element);\n    }\n  };\n\n  function inject_raw_css(css) {\n    const element = document.createElement(\"style\");\n    element.appendChild(document.createTextNode(css));\n    document.body.appendChild(element);\n  }\n\n  \n  var js_urls = [\"https://cdn.bokeh.org/bokeh/release/bokeh-2.3.3.min.js\", \"https://cdn.bokeh.org/bokeh/release/bokeh-widgets-2.3.3.min.js\", \"https://cdn.bokeh.org/bokeh/release/bokeh-tables-2.3.3.min.js\"];\n  var css_urls = [];\n  \n\n  var inline_js = [\n    function(Bokeh) {\n      Bokeh.set_log_level(\"info\");\n    },\n    function(Bokeh) {\n    \n    \n    }\n  ];\n\n  function run_inline_js() {\n    \n    if (root.Bokeh !== undefined || force === true) {\n      \n    for (var i = 0; i < inline_js.length; i++) {\n      inline_js[i].call(root, root.Bokeh);\n    }\n    if (force === true) {\n        display_loaded();\n      }} else if (Date.now() < root._bokeh_timeout) {\n      setTimeout(run_inline_js, 100);\n    } else if (!root._bokeh_failed_load) {\n      console.log(\"Bokeh: BokehJS failed to load within specified timeout.\");\n      root._bokeh_failed_load = true;\n    } else if (force !== true) {\n      var cell = $(document.getElementById(\"1002\")).parents('.cell').data().cell;\n      cell.output_area.append_execute_result(NB_LOAD_WARNING)\n    }\n\n  }\n\n  if (root._bokeh_is_loading === 0) {\n    console.debug(\"Bokeh: BokehJS loaded, going straight to plotting\");\n    run_inline_js();\n  } else {\n    load_libs(css_urls, js_urls, function() {\n      console.debug(\"Bokeh: BokehJS plotting callback run at\", now());\n      run_inline_js();\n    });\n  }\n}(window));"
     },
     "metadata": {},
     "output_type": "display_data"
    },
    {
     "data": {
      "text/html": [
       "\n",
       "\n",
       "\n",
       "\n",
       "\n",
       "\n",
       "  <div class=\"bk-root\" id=\"64913233-6f66-455a-9f71-353df0c63a62\" data-root-id=\"1003\"></div>\n"
      ]
     },
     "metadata": {},
     "output_type": "display_data"
    },
    {
     "data": {
      "application/javascript": [
       "(function(root) {\n",
       "  function embed_document(root) {\n",
       "    \n",
       "  var docs_json = {\"16052800-4af6-4972-949b-50205b218659\":{\"defs\":[],\"roots\":{\"references\":[{\"attributes\":{\"below\":[{\"id\":\"1014\"}],\"center\":[{\"id\":\"1017\"},{\"id\":\"1021\"}],\"left\":[{\"id\":\"1018\"}],\"renderers\":[{\"id\":\"1036\"}],\"title\":{\"id\":\"1004\"},\"toolbar\":{\"id\":\"1027\"},\"x_range\":{\"id\":\"1006\"},\"x_scale\":{\"id\":\"1010\"},\"y_range\":{\"id\":\"1008\"},\"y_scale\":{\"id\":\"1012\"}},\"id\":\"1003\",\"subtype\":\"Figure\",\"type\":\"Plot\"},{\"attributes\":{},\"id\":\"1023\",\"type\":\"SaveTool\"},{\"attributes\":{\"axis\":{\"id\":\"1018\"},\"dimension\":1,\"ticker\":null},\"id\":\"1021\",\"type\":\"Grid\"},{\"attributes\":{\"text\":\"Evolution of average global land temperatures from 1750 to 2015\"},\"id\":\"1004\",\"type\":\"Title\"},{\"attributes\":{},\"id\":\"1025\",\"type\":\"ResetTool\"},{\"attributes\":{\"overlay\":{\"id\":\"1026\"}},\"id\":\"1022\",\"type\":\"BoxZoomTool\"},{\"attributes\":{\"callback\":null,\"tooltips\":[[\"Temperatures\",\"@Temperatures\"]]},\"id\":\"1024\",\"type\":\"HoverTool\"},{\"attributes\":{\"fill_color\":{\"value\":\"#1f77b4\"},\"line_color\":{\"value\":\"#1f77b4\"},\"x\":{\"field\":\"Dates\"},\"y\":{\"field\":\"Temperatures\"}},\"id\":\"1034\",\"type\":\"Scatter\"},{\"attributes\":{},\"id\":\"1019\",\"type\":\"BasicTicker\"},{\"attributes\":{},\"id\":\"1015\",\"type\":\"BasicTicker\"},{\"attributes\":{},\"id\":\"1006\",\"type\":\"DataRange1d\"},{\"attributes\":{\"data_source\":{\"id\":\"1032\"},\"glyph\":{\"id\":\"1034\"},\"hover_glyph\":null,\"muted_glyph\":null,\"nonselection_glyph\":{\"id\":\"1035\"},\"view\":{\"id\":\"1037\"}},\"id\":\"1036\",\"type\":\"GlyphRenderer\"},{\"attributes\":{\"active_multi\":null,\"tools\":[{\"id\":\"1022\"},{\"id\":\"1023\"},{\"id\":\"1024\"},{\"id\":\"1025\"}]},\"id\":\"1027\",\"type\":\"Toolbar\"},{\"attributes\":{},\"id\":\"1043\",\"type\":\"AllLabels\"},{\"attributes\":{\"fill_alpha\":{\"value\":0.1},\"fill_color\":{\"value\":\"#1f77b4\"},\"line_alpha\":{\"value\":0.1},\"line_color\":{\"value\":\"#1f77b4\"},\"x\":{\"field\":\"Dates\"},\"y\":{\"field\":\"Temperatures\"}},\"id\":\"1035\",\"type\":\"Scatter\"},{\"attributes\":{\"axis_label\":\"Temperatures\",\"formatter\":{\"id\":\"1045\"},\"major_label_policy\":{\"id\":\"1046\"},\"ticker\":{\"id\":\"1019\"}},\"id\":\"1018\",\"type\":\"LinearAxis\"},{\"attributes\":{\"source\":{\"id\":\"1032\"}},\"id\":\"1037\",\"type\":\"CDSView\"},{\"attributes\":{},\"id\":\"1048\",\"type\":\"UnionRenderers\"},{\"attributes\":{},\"id\":\"1046\",\"type\":\"AllLabels\"},{\"attributes\":{\"axis_label\":\"Dates\",\"formatter\":{\"id\":\"1042\"},\"major_label_policy\":{\"id\":\"1043\"},\"ticker\":{\"id\":\"1015\"}},\"id\":\"1014\",\"type\":\"LinearAxis\"},{\"attributes\":{},\"id\":\"1010\",\"type\":\"LinearScale\"},{\"attributes\":{},\"id\":\"1008\",\"type\":\"DataRange1d\"},{\"attributes\":{},\"id\":\"1047\",\"type\":\"Selection\"},{\"attributes\":{\"bottom_units\":\"screen\",\"fill_alpha\":0.5,\"fill_color\":\"lightgrey\",\"left_units\":\"screen\",\"level\":\"overlay\",\"line_alpha\":1.0,\"line_color\":\"black\",\"line_dash\":[4,4],\"line_width\":2,\"right_units\":\"screen\",\"syncable\":false,\"top_units\":\"screen\"},\"id\":\"1026\",\"type\":\"BoxAnnotation\"},{\"attributes\":{},\"id\":\"1042\",\"type\":\"BasicTickFormatter\"},{\"attributes\":{\"data\":{\"Dates\":[\"1750\",\"1751\",\"1752\",\"1753\",\"1754\",\"1755\",\"1756\",\"1757\",\"1758\",\"1759\",\"1760\",\"1761\",\"1762\",\"1763\",\"1764\",\"1765\",\"1766\",\"1767\",\"1768\",\"1769\",\"1770\",\"1771\",\"1772\",\"1773\",\"1774\",\"1775\",\"1776\",\"1777\",\"1778\",\"1779\",\"1780\",\"1781\",\"1782\",\"1783\",\"1784\",\"1785\",\"1786\",\"1787\",\"1788\",\"1789\",\"1790\",\"1791\",\"1792\",\"1793\",\"1794\",\"1795\",\"1796\",\"1797\",\"1798\",\"1799\",\"1800\",\"1801\",\"1802\",\"1803\",\"1804\",\"1805\",\"1806\",\"1807\",\"1808\",\"1809\",\"1810\",\"1811\",\"1812\",\"1813\",\"1814\",\"1815\",\"1816\",\"1817\",\"1818\",\"1819\",\"1820\",\"1821\",\"1822\",\"1823\",\"1824\",\"1825\",\"1826\",\"1827\",\"1828\",\"1829\",\"1830\",\"1831\",\"1832\",\"1833\",\"1834\",\"1835\",\"1836\",\"1837\",\"1838\",\"1839\",\"1840\",\"1841\",\"1842\",\"1843\",\"1844\",\"1845\",\"1846\",\"1847\",\"1848\",\"1849\",\"1850\",\"1851\",\"1852\",\"1853\",\"1854\",\"1855\",\"1856\",\"1857\",\"1858\",\"1859\",\"1860\",\"1861\",\"1862\",\"1863\",\"1864\",\"1865\",\"1866\",\"1867\",\"1868\",\"1869\",\"1870\",\"1871\",\"1872\",\"1873\",\"1874\",\"1875\",\"1876\",\"1877\",\"1878\",\"1879\",\"1880\",\"1881\",\"1882\",\"1883\",\"1884\",\"1885\",\"1886\",\"1887\",\"1888\",\"1889\",\"1890\",\"1891\",\"1892\",\"1893\",\"1894\",\"1895\",\"1896\",\"1897\",\"1898\",\"1899\",\"1900\",\"1901\",\"1902\",\"1903\",\"1904\",\"1905\",\"1906\",\"1907\",\"1908\",\"1909\",\"1910\",\"1911\",\"1912\",\"1913\",\"1914\",\"1915\",\"1916\",\"1917\",\"1918\",\"1919\",\"1920\",\"1921\",\"1922\",\"1923\",\"1924\",\"1925\",\"1926\",\"1927\",\"1928\",\"1929\",\"1930\",\"1931\",\"1932\",\"1933\",\"1934\",\"1935\",\"1936\",\"1937\",\"1938\",\"1939\",\"1940\",\"1941\",\"1942\",\"1943\",\"1944\",\"1945\",\"1946\",\"1947\",\"1948\",\"1949\",\"1950\",\"1951\",\"1952\",\"1953\",\"1954\",\"1955\",\"1956\",\"1957\",\"1958\",\"1959\",\"1960\",\"1961\",\"1962\",\"1963\",\"1964\",\"1965\",\"1966\",\"1967\",\"1968\",\"1969\",\"1970\",\"1971\",\"1972\",\"1973\",\"1974\",\"1975\",\"1976\",\"1977\",\"1978\",\"1979\",\"1980\",\"1981\",\"1982\",\"1983\",\"1984\",\"1985\",\"1986\",\"1987\",\"1988\",\"1989\",\"1990\",\"1991\",\"1992\",\"1993\",\"1994\",\"1995\",\"1996\",\"1997\",\"1998\",\"1999\",\"2000\",\"2001\",\"2002\",\"2003\",\"2004\",\"2005\",\"2006\",\"2007\",\"2008\",\"2009\",\"2010\",\"2011\",\"2012\",\"2013\",\"2014\",\"2015\"],\"Heat\":[1,1,1,1,1,1,1,1,1,1,1,1,1,1,1,1,1,1,1,1,1,1,1,1,1,1,1,1,1,1,1,1,1,1,1,1,1,1,1,1,1,1,1,1,1,1,1,1,1,1,1,1,1,1,1,1,1,1,1,1,1,1,1,1,1,1,1,1,1,1,1,1,1,1,1,1,1,1,1,1,1,1,1,1,1,1,1,1,1,1,1,1,1,1,1,1,1,1,1,1,1,1,1,1,1,1,1,1,1,1,1,1,1,1,1,1,1,1,1,1,1,1,1,1,1,1,1,1,1,1,1,1,1,1,1,1,1,1,1,1,1,1,1,1,1,1,1,1,1,1,1,1,1,1,1,1,1,1,1,1,1,1,1,1,1,1,1,1,1,1,1,1,1,1,1,1,1,1,1,1,1,1,1,1,1,1,1,1,1,1,1,1,1,1,1,1,1,1,1,1,1,1,1,1,1,1,1,1,1,1,1,1,1,1,1,1,1,1,1,1,1,1,1,1,1,1,1,1,1,1,1,1,1,1,1,1,1,1,1,1,1,1,1,1,1,1,1,1,1,1,1,1,1,1,1,1,1,1,1,1,1,1,1,1,1,1],\"Temperatures\":{\"__ndarray__\":\"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\",\"dtype\":\"float64\",\"order\":\"little\",\"shape\":[266]},\"Uncertainty\":{\"__ndarray__\":\"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\",\"dtype\":\"float64\",\"order\":\"little\",\"shape\":[266]},\"index\":[0,1,2,3,4,5,6,7,8,9,10,11,12,13,14,15,16,17,18,19,20,21,22,23,24,25,26,27,28,29,30,31,32,33,34,35,36,37,38,39,40,41,42,43,44,45,46,47,48,49,50,51,52,53,54,55,56,57,58,59,60,61,62,63,64,65,66,67,68,69,70,71,72,73,74,75,76,77,78,79,80,81,82,83,84,85,86,87,88,89,90,91,92,93,94,95,96,97,98,99,100,101,102,103,104,105,106,107,108,109,110,111,112,113,114,115,116,117,118,119,120,121,122,123,124,125,126,127,128,129,130,131,132,133,134,135,136,137,138,139,140,141,142,143,144,145,146,147,148,149,150,151,152,153,154,155,156,157,158,159,160,161,162,163,164,165,166,167,168,169,170,171,172,173,174,175,176,177,178,179,180,181,182,183,184,185,186,187,188,189,190,191,192,193,194,195,196,197,198,199,200,201,202,203,204,205,206,207,208,209,210,211,212,213,214,215,216,217,218,219,220,221,222,223,224,225,226,227,228,229,230,231,232,233,234,235,236,237,238,239,240,241,242,243,244,245,246,247,248,249,250,251,252,253,254,255,256,257,258,259,260,261,262,263,264,265]},\"selected\":{\"id\":\"1047\"},\"selection_policy\":{\"id\":\"1048\"}},\"id\":\"1032\",\"type\":\"ColumnDataSource\"},{\"attributes\":{\"axis\":{\"id\":\"1014\"},\"ticker\":null},\"id\":\"1017\",\"type\":\"Grid\"},{\"attributes\":{},\"id\":\"1045\",\"type\":\"BasicTickFormatter\"},{\"attributes\":{},\"id\":\"1012\",\"type\":\"LinearScale\"}],\"root_ids\":[\"1003\"]},\"title\":\"Bokeh Application\",\"version\":\"2.3.3\"}};\n",
       "  var render_items = [{\"docid\":\"16052800-4af6-4972-949b-50205b218659\",\"root_ids\":[\"1003\"],\"roots\":{\"1003\":\"64913233-6f66-455a-9f71-353df0c63a62\"}}];\n",
       "  root.Bokeh.embed.embed_items_notebook(docs_json, render_items);\n",
       "\n",
       "  }\n",
       "  if (root.Bokeh !== undefined) {\n",
       "    embed_document(root);\n",
       "  } else {\n",
       "    var attempts = 0;\n",
       "    var timer = setInterval(function(root) {\n",
       "      if (root.Bokeh !== undefined) {\n",
       "        clearInterval(timer);\n",
       "        embed_document(root);\n",
       "      } else {\n",
       "        attempts++;\n",
       "        if (attempts > 100) {\n",
       "          clearInterval(timer);\n",
       "          console.log(\"Bokeh: ERROR: Unable to run BokehJS code because BokehJS library is missing\");\n",
       "        }\n",
       "      }\n",
       "    }, 10, root)\n",
       "  }\n",
       "})(window);"
      ],
      "application/vnd.bokehjs_exec.v0+json": ""
     },
     "metadata": {
      "application/vnd.bokehjs_exec.v0+json": {
       "id": "1003"
      }
     },
     "output_type": "display_data"
    }
   ],
   "source": [
    "#Global Average Temperatures plot using Bokeh\n",
    "output_notebook()\n",
    "tools_to_show = 'box_zoom,save,hover,reset'\n",
    "t = \"Evolution of average global land temperatures from 1750 to 2015\"\n",
    "p = figure(title=t, x_axis_label='Dates', y_axis_label='Temperatures', tools=tools_to_show)\n",
    "p.scatter(x='Dates', y='Temperatures', source=df_global_mean)\n",
    "p.hover.tooltips = [(\"Temperatures\", \"@Temperatures\")]\n",
    "p.hover.mode = 'mouse'\n",
    "show(p)"
   ]
  },
  {
   "cell_type": "markdown",
   "id": "dbf677b7-573c-46bc-b96a-419f29b8e8b5",
   "metadata": {},
   "source": [
    "### <font color='#0bfc03'>  Analysis\n",
    "**As we can clearly see global mean temprature is increasing at a very high rate as year passes.**"
   ]
  },
  {
   "cell_type": "code",
   "execution_count": 11,
   "id": "d25206e2-902f-4571-980f-b1e96f0f30c9",
   "metadata": {},
   "outputs": [
    {
     "data": {
      "text/html": [
       "\n",
       "    <div class=\"bk-root\">\n",
       "        <a href=\"https://bokeh.org\" target=\"_blank\" class=\"bk-logo bk-logo-small bk-logo-notebook\"></a>\n",
       "        <span id=\"1100\">Loading BokehJS ...</span>\n",
       "    </div>"
      ]
     },
     "metadata": {},
     "output_type": "display_data"
    },
    {
     "data": {
      "application/javascript": [
       "\n",
       "(function(root) {\n",
       "  function now() {\n",
       "    return new Date();\n",
       "  }\n",
       "\n",
       "  var force = true;\n",
       "\n",
       "  if (typeof root._bokeh_onload_callbacks === \"undefined\" || force === true) {\n",
       "    root._bokeh_onload_callbacks = [];\n",
       "    root._bokeh_is_loading = undefined;\n",
       "  }\n",
       "\n",
       "  var JS_MIME_TYPE = 'application/javascript';\n",
       "  var HTML_MIME_TYPE = 'text/html';\n",
       "  var EXEC_MIME_TYPE = 'application/vnd.bokehjs_exec.v0+json';\n",
       "  var CLASS_NAME = 'output_bokeh rendered_html';\n",
       "\n",
       "  /**\n",
       "   * Render data to the DOM node\n",
       "   */\n",
       "  function render(props, node) {\n",
       "    var script = document.createElement(\"script\");\n",
       "    node.appendChild(script);\n",
       "  }\n",
       "\n",
       "  /**\n",
       "   * Handle when an output is cleared or removed\n",
       "   */\n",
       "  function handleClearOutput(event, handle) {\n",
       "    var cell = handle.cell;\n",
       "\n",
       "    var id = cell.output_area._bokeh_element_id;\n",
       "    var server_id = cell.output_area._bokeh_server_id;\n",
       "    // Clean up Bokeh references\n",
       "    if (id != null && id in Bokeh.index) {\n",
       "      Bokeh.index[id].model.document.clear();\n",
       "      delete Bokeh.index[id];\n",
       "    }\n",
       "\n",
       "    if (server_id !== undefined) {\n",
       "      // Clean up Bokeh references\n",
       "      var cmd = \"from bokeh.io.state import curstate; print(curstate().uuid_to_server['\" + server_id + \"'].get_sessions()[0].document.roots[0]._id)\";\n",
       "      cell.notebook.kernel.execute(cmd, {\n",
       "        iopub: {\n",
       "          output: function(msg) {\n",
       "            var id = msg.content.text.trim();\n",
       "            if (id in Bokeh.index) {\n",
       "              Bokeh.index[id].model.document.clear();\n",
       "              delete Bokeh.index[id];\n",
       "            }\n",
       "          }\n",
       "        }\n",
       "      });\n",
       "      // Destroy server and session\n",
       "      var cmd = \"import bokeh.io.notebook as ion; ion.destroy_server('\" + server_id + \"')\";\n",
       "      cell.notebook.kernel.execute(cmd);\n",
       "    }\n",
       "  }\n",
       "\n",
       "  /**\n",
       "   * Handle when a new output is added\n",
       "   */\n",
       "  function handleAddOutput(event, handle) {\n",
       "    var output_area = handle.output_area;\n",
       "    var output = handle.output;\n",
       "\n",
       "    // limit handleAddOutput to display_data with EXEC_MIME_TYPE content only\n",
       "    if ((output.output_type != \"display_data\") || (!Object.prototype.hasOwnProperty.call(output.data, EXEC_MIME_TYPE))) {\n",
       "      return\n",
       "    }\n",
       "\n",
       "    var toinsert = output_area.element.find(\".\" + CLASS_NAME.split(' ')[0]);\n",
       "\n",
       "    if (output.metadata[EXEC_MIME_TYPE][\"id\"] !== undefined) {\n",
       "      toinsert[toinsert.length - 1].firstChild.textContent = output.data[JS_MIME_TYPE];\n",
       "      // store reference to embed id on output_area\n",
       "      output_area._bokeh_element_id = output.metadata[EXEC_MIME_TYPE][\"id\"];\n",
       "    }\n",
       "    if (output.metadata[EXEC_MIME_TYPE][\"server_id\"] !== undefined) {\n",
       "      var bk_div = document.createElement(\"div\");\n",
       "      bk_div.innerHTML = output.data[HTML_MIME_TYPE];\n",
       "      var script_attrs = bk_div.children[0].attributes;\n",
       "      for (var i = 0; i < script_attrs.length; i++) {\n",
       "        toinsert[toinsert.length - 1].firstChild.setAttribute(script_attrs[i].name, script_attrs[i].value);\n",
       "        toinsert[toinsert.length - 1].firstChild.textContent = bk_div.children[0].textContent\n",
       "      }\n",
       "      // store reference to server id on output_area\n",
       "      output_area._bokeh_server_id = output.metadata[EXEC_MIME_TYPE][\"server_id\"];\n",
       "    }\n",
       "  }\n",
       "\n",
       "  function register_renderer(events, OutputArea) {\n",
       "\n",
       "    function append_mime(data, metadata, element) {\n",
       "      // create a DOM node to render to\n",
       "      var toinsert = this.create_output_subarea(\n",
       "        metadata,\n",
       "        CLASS_NAME,\n",
       "        EXEC_MIME_TYPE\n",
       "      );\n",
       "      this.keyboard_manager.register_events(toinsert);\n",
       "      // Render to node\n",
       "      var props = {data: data, metadata: metadata[EXEC_MIME_TYPE]};\n",
       "      render(props, toinsert[toinsert.length - 1]);\n",
       "      element.append(toinsert);\n",
       "      return toinsert\n",
       "    }\n",
       "\n",
       "    /* Handle when an output is cleared or removed */\n",
       "    events.on('clear_output.CodeCell', handleClearOutput);\n",
       "    events.on('delete.Cell', handleClearOutput);\n",
       "\n",
       "    /* Handle when a new output is added */\n",
       "    events.on('output_added.OutputArea', handleAddOutput);\n",
       "\n",
       "    /**\n",
       "     * Register the mime type and append_mime function with output_area\n",
       "     */\n",
       "    OutputArea.prototype.register_mime_type(EXEC_MIME_TYPE, append_mime, {\n",
       "      /* Is output safe? */\n",
       "      safe: true,\n",
       "      /* Index of renderer in `output_area.display_order` */\n",
       "      index: 0\n",
       "    });\n",
       "  }\n",
       "\n",
       "  // register the mime type if in Jupyter Notebook environment and previously unregistered\n",
       "  if (root.Jupyter !== undefined) {\n",
       "    var events = require('base/js/events');\n",
       "    var OutputArea = require('notebook/js/outputarea').OutputArea;\n",
       "\n",
       "    if (OutputArea.prototype.mime_types().indexOf(EXEC_MIME_TYPE) == -1) {\n",
       "      register_renderer(events, OutputArea);\n",
       "    }\n",
       "  }\n",
       "\n",
       "  \n",
       "  if (typeof (root._bokeh_timeout) === \"undefined\" || force === true) {\n",
       "    root._bokeh_timeout = Date.now() + 5000;\n",
       "    root._bokeh_failed_load = false;\n",
       "  }\n",
       "\n",
       "  var NB_LOAD_WARNING = {'data': {'text/html':\n",
       "     \"<div style='background-color: #fdd'>\\n\"+\n",
       "     \"<p>\\n\"+\n",
       "     \"BokehJS does not appear to have successfully loaded. If loading BokehJS from CDN, this \\n\"+\n",
       "     \"may be due to a slow or bad network connection. Possible fixes:\\n\"+\n",
       "     \"</p>\\n\"+\n",
       "     \"<ul>\\n\"+\n",
       "     \"<li>re-rerun `output_notebook()` to attempt to load from CDN again, or</li>\\n\"+\n",
       "     \"<li>use INLINE resources instead, as so:</li>\\n\"+\n",
       "     \"</ul>\\n\"+\n",
       "     \"<code>\\n\"+\n",
       "     \"from bokeh.resources import INLINE\\n\"+\n",
       "     \"output_notebook(resources=INLINE)\\n\"+\n",
       "     \"</code>\\n\"+\n",
       "     \"</div>\"}};\n",
       "\n",
       "  function display_loaded() {\n",
       "    var el = document.getElementById(\"1100\");\n",
       "    if (el != null) {\n",
       "      el.textContent = \"BokehJS is loading...\";\n",
       "    }\n",
       "    if (root.Bokeh !== undefined) {\n",
       "      if (el != null) {\n",
       "        el.textContent = \"BokehJS \" + root.Bokeh.version + \" successfully loaded.\";\n",
       "      }\n",
       "    } else if (Date.now() < root._bokeh_timeout) {\n",
       "      setTimeout(display_loaded, 100)\n",
       "    }\n",
       "  }\n",
       "\n",
       "\n",
       "  function run_callbacks() {\n",
       "    try {\n",
       "      root._bokeh_onload_callbacks.forEach(function(callback) {\n",
       "        if (callback != null)\n",
       "          callback();\n",
       "      });\n",
       "    } finally {\n",
       "      delete root._bokeh_onload_callbacks\n",
       "    }\n",
       "    console.debug(\"Bokeh: all callbacks have finished\");\n",
       "  }\n",
       "\n",
       "  function load_libs(css_urls, js_urls, callback) {\n",
       "    if (css_urls == null) css_urls = [];\n",
       "    if (js_urls == null) js_urls = [];\n",
       "\n",
       "    root._bokeh_onload_callbacks.push(callback);\n",
       "    if (root._bokeh_is_loading > 0) {\n",
       "      console.debug(\"Bokeh: BokehJS is being loaded, scheduling callback at\", now());\n",
       "      return null;\n",
       "    }\n",
       "    if (js_urls == null || js_urls.length === 0) {\n",
       "      run_callbacks();\n",
       "      return null;\n",
       "    }\n",
       "    console.debug(\"Bokeh: BokehJS not loaded, scheduling load and callback at\", now());\n",
       "    root._bokeh_is_loading = css_urls.length + js_urls.length;\n",
       "\n",
       "    function on_load() {\n",
       "      root._bokeh_is_loading--;\n",
       "      if (root._bokeh_is_loading === 0) {\n",
       "        console.debug(\"Bokeh: all BokehJS libraries/stylesheets loaded\");\n",
       "        run_callbacks()\n",
       "      }\n",
       "    }\n",
       "\n",
       "    function on_error(url) {\n",
       "      console.error(\"failed to load \" + url);\n",
       "    }\n",
       "\n",
       "    for (let i = 0; i < css_urls.length; i++) {\n",
       "      const url = css_urls[i];\n",
       "      const element = document.createElement(\"link\");\n",
       "      element.onload = on_load;\n",
       "      element.onerror = on_error.bind(null, url);\n",
       "      element.rel = \"stylesheet\";\n",
       "      element.type = \"text/css\";\n",
       "      element.href = url;\n",
       "      console.debug(\"Bokeh: injecting link tag for BokehJS stylesheet: \", url);\n",
       "      document.body.appendChild(element);\n",
       "    }\n",
       "\n",
       "    const hashes = {\"https://cdn.bokeh.org/bokeh/release/bokeh-2.3.3.min.js\": \"dM3QQsP+wXdHg42wTqW85BjZQdLNNIXqlPw/BgKoExPmTG7ZLML4EGqLMfqHT6ON\", \"https://cdn.bokeh.org/bokeh/release/bokeh-tables-2.3.3.min.js\": \"8x57I4YuIfu8XyZfFo0XVr2WAT8EK4rh/uDe3wF7YuW2FNUSNEpJbsPaB1nJ2fz2\", \"https://cdn.bokeh.org/bokeh/release/bokeh-widgets-2.3.3.min.js\": \"3QTqdz9LyAm2i0sG5XTePsHec3UHWwVsrOL68SYRoAXsafvfAyqtQ+h440+qIBhS\"};\n",
       "\n",
       "    for (let i = 0; i < js_urls.length; i++) {\n",
       "      const url = js_urls[i];\n",
       "      const element = document.createElement('script');\n",
       "      element.onload = on_load;\n",
       "      element.onerror = on_error.bind(null, url);\n",
       "      element.async = false;\n",
       "      element.src = url;\n",
       "      if (url in hashes) {\n",
       "        element.crossOrigin = \"anonymous\";\n",
       "        element.integrity = \"sha384-\" + hashes[url];\n",
       "      }\n",
       "      console.debug(\"Bokeh: injecting script tag for BokehJS library: \", url);\n",
       "      document.head.appendChild(element);\n",
       "    }\n",
       "  };\n",
       "\n",
       "  function inject_raw_css(css) {\n",
       "    const element = document.createElement(\"style\");\n",
       "    element.appendChild(document.createTextNode(css));\n",
       "    document.body.appendChild(element);\n",
       "  }\n",
       "\n",
       "  \n",
       "  var js_urls = [\"https://cdn.bokeh.org/bokeh/release/bokeh-2.3.3.min.js\", \"https://cdn.bokeh.org/bokeh/release/bokeh-widgets-2.3.3.min.js\", \"https://cdn.bokeh.org/bokeh/release/bokeh-tables-2.3.3.min.js\"];\n",
       "  var css_urls = [];\n",
       "  \n",
       "\n",
       "  var inline_js = [\n",
       "    function(Bokeh) {\n",
       "      Bokeh.set_log_level(\"info\");\n",
       "    },\n",
       "    function(Bokeh) {\n",
       "    \n",
       "    \n",
       "    }\n",
       "  ];\n",
       "\n",
       "  function run_inline_js() {\n",
       "    \n",
       "    if (root.Bokeh !== undefined || force === true) {\n",
       "      \n",
       "    for (var i = 0; i < inline_js.length; i++) {\n",
       "      inline_js[i].call(root, root.Bokeh);\n",
       "    }\n",
       "    if (force === true) {\n",
       "        display_loaded();\n",
       "      }} else if (Date.now() < root._bokeh_timeout) {\n",
       "      setTimeout(run_inline_js, 100);\n",
       "    } else if (!root._bokeh_failed_load) {\n",
       "      console.log(\"Bokeh: BokehJS failed to load within specified timeout.\");\n",
       "      root._bokeh_failed_load = true;\n",
       "    } else if (force !== true) {\n",
       "      var cell = $(document.getElementById(\"1100\")).parents('.cell').data().cell;\n",
       "      cell.output_area.append_execute_result(NB_LOAD_WARNING)\n",
       "    }\n",
       "\n",
       "  }\n",
       "\n",
       "  if (root._bokeh_is_loading === 0) {\n",
       "    console.debug(\"Bokeh: BokehJS loaded, going straight to plotting\");\n",
       "    run_inline_js();\n",
       "  } else {\n",
       "    load_libs(css_urls, js_urls, function() {\n",
       "      console.debug(\"Bokeh: BokehJS plotting callback run at\", now());\n",
       "      run_inline_js();\n",
       "    });\n",
       "  }\n",
       "}(window));"
      ],
      "application/vnd.bokehjs_load.v0+json": "\n(function(root) {\n  function now() {\n    return new Date();\n  }\n\n  var force = true;\n\n  if (typeof root._bokeh_onload_callbacks === \"undefined\" || force === true) {\n    root._bokeh_onload_callbacks = [];\n    root._bokeh_is_loading = undefined;\n  }\n\n  \n\n  \n  if (typeof (root._bokeh_timeout) === \"undefined\" || force === true) {\n    root._bokeh_timeout = Date.now() + 5000;\n    root._bokeh_failed_load = false;\n  }\n\n  var NB_LOAD_WARNING = {'data': {'text/html':\n     \"<div style='background-color: #fdd'>\\n\"+\n     \"<p>\\n\"+\n     \"BokehJS does not appear to have successfully loaded. If loading BokehJS from CDN, this \\n\"+\n     \"may be due to a slow or bad network connection. Possible fixes:\\n\"+\n     \"</p>\\n\"+\n     \"<ul>\\n\"+\n     \"<li>re-rerun `output_notebook()` to attempt to load from CDN again, or</li>\\n\"+\n     \"<li>use INLINE resources instead, as so:</li>\\n\"+\n     \"</ul>\\n\"+\n     \"<code>\\n\"+\n     \"from bokeh.resources import INLINE\\n\"+\n     \"output_notebook(resources=INLINE)\\n\"+\n     \"</code>\\n\"+\n     \"</div>\"}};\n\n  function display_loaded() {\n    var el = document.getElementById(\"1100\");\n    if (el != null) {\n      el.textContent = \"BokehJS is loading...\";\n    }\n    if (root.Bokeh !== undefined) {\n      if (el != null) {\n        el.textContent = \"BokehJS \" + root.Bokeh.version + \" successfully loaded.\";\n      }\n    } else if (Date.now() < root._bokeh_timeout) {\n      setTimeout(display_loaded, 100)\n    }\n  }\n\n\n  function run_callbacks() {\n    try {\n      root._bokeh_onload_callbacks.forEach(function(callback) {\n        if (callback != null)\n          callback();\n      });\n    } finally {\n      delete root._bokeh_onload_callbacks\n    }\n    console.debug(\"Bokeh: all callbacks have finished\");\n  }\n\n  function load_libs(css_urls, js_urls, callback) {\n    if (css_urls == null) css_urls = [];\n    if (js_urls == null) js_urls = [];\n\n    root._bokeh_onload_callbacks.push(callback);\n    if (root._bokeh_is_loading > 0) {\n      console.debug(\"Bokeh: BokehJS is being loaded, scheduling callback at\", now());\n      return null;\n    }\n    if (js_urls == null || js_urls.length === 0) {\n      run_callbacks();\n      return null;\n    }\n    console.debug(\"Bokeh: BokehJS not loaded, scheduling load and callback at\", now());\n    root._bokeh_is_loading = css_urls.length + js_urls.length;\n\n    function on_load() {\n      root._bokeh_is_loading--;\n      if (root._bokeh_is_loading === 0) {\n        console.debug(\"Bokeh: all BokehJS libraries/stylesheets loaded\");\n        run_callbacks()\n      }\n    }\n\n    function on_error(url) {\n      console.error(\"failed to load \" + url);\n    }\n\n    for (let i = 0; i < css_urls.length; i++) {\n      const url = css_urls[i];\n      const element = document.createElement(\"link\");\n      element.onload = on_load;\n      element.onerror = on_error.bind(null, url);\n      element.rel = \"stylesheet\";\n      element.type = \"text/css\";\n      element.href = url;\n      console.debug(\"Bokeh: injecting link tag for BokehJS stylesheet: \", url);\n      document.body.appendChild(element);\n    }\n\n    const hashes = {\"https://cdn.bokeh.org/bokeh/release/bokeh-2.3.3.min.js\": \"dM3QQsP+wXdHg42wTqW85BjZQdLNNIXqlPw/BgKoExPmTG7ZLML4EGqLMfqHT6ON\", \"https://cdn.bokeh.org/bokeh/release/bokeh-tables-2.3.3.min.js\": \"8x57I4YuIfu8XyZfFo0XVr2WAT8EK4rh/uDe3wF7YuW2FNUSNEpJbsPaB1nJ2fz2\", \"https://cdn.bokeh.org/bokeh/release/bokeh-widgets-2.3.3.min.js\": \"3QTqdz9LyAm2i0sG5XTePsHec3UHWwVsrOL68SYRoAXsafvfAyqtQ+h440+qIBhS\"};\n\n    for (let i = 0; i < js_urls.length; i++) {\n      const url = js_urls[i];\n      const element = document.createElement('script');\n      element.onload = on_load;\n      element.onerror = on_error.bind(null, url);\n      element.async = false;\n      element.src = url;\n      if (url in hashes) {\n        element.crossOrigin = \"anonymous\";\n        element.integrity = \"sha384-\" + hashes[url];\n      }\n      console.debug(\"Bokeh: injecting script tag for BokehJS library: \", url);\n      document.head.appendChild(element);\n    }\n  };\n\n  function inject_raw_css(css) {\n    const element = document.createElement(\"style\");\n    element.appendChild(document.createTextNode(css));\n    document.body.appendChild(element);\n  }\n\n  \n  var js_urls = [\"https://cdn.bokeh.org/bokeh/release/bokeh-2.3.3.min.js\", \"https://cdn.bokeh.org/bokeh/release/bokeh-widgets-2.3.3.min.js\", \"https://cdn.bokeh.org/bokeh/release/bokeh-tables-2.3.3.min.js\"];\n  var css_urls = [];\n  \n\n  var inline_js = [\n    function(Bokeh) {\n      Bokeh.set_log_level(\"info\");\n    },\n    function(Bokeh) {\n    \n    \n    }\n  ];\n\n  function run_inline_js() {\n    \n    if (root.Bokeh !== undefined || force === true) {\n      \n    for (var i = 0; i < inline_js.length; i++) {\n      inline_js[i].call(root, root.Bokeh);\n    }\n    if (force === true) {\n        display_loaded();\n      }} else if (Date.now() < root._bokeh_timeout) {\n      setTimeout(run_inline_js, 100);\n    } else if (!root._bokeh_failed_load) {\n      console.log(\"Bokeh: BokehJS failed to load within specified timeout.\");\n      root._bokeh_failed_load = true;\n    } else if (force !== true) {\n      var cell = $(document.getElementById(\"1100\")).parents('.cell').data().cell;\n      cell.output_area.append_execute_result(NB_LOAD_WARNING)\n    }\n\n  }\n\n  if (root._bokeh_is_loading === 0) {\n    console.debug(\"Bokeh: BokehJS loaded, going straight to plotting\");\n    run_inline_js();\n  } else {\n    load_libs(css_urls, js_urls, function() {\n      console.debug(\"Bokeh: BokehJS plotting callback run at\", now());\n      run_inline_js();\n    });\n  }\n}(window));"
     },
     "metadata": {},
     "output_type": "display_data"
    },
    {
     "data": {
      "text/html": [
       "\n",
       "\n",
       "\n",
       "\n",
       "\n",
       "\n",
       "  <div class=\"bk-root\" id=\"cd1deedb-cc34-4b1b-8eeb-eb22727f7abb\" data-root-id=\"1101\"></div>\n"
      ]
     },
     "metadata": {},
     "output_type": "display_data"
    },
    {
     "data": {
      "application/javascript": [
       "(function(root) {\n",
       "  function embed_document(root) {\n",
       "    \n",
       "  var docs_json = {\"fa902d9e-eaca-44e5-9a1e-ce3eafa10327\":{\"defs\":[],\"roots\":{\"references\":[{\"attributes\":{\"below\":[{\"id\":\"1112\"}],\"center\":[{\"id\":\"1115\"},{\"id\":\"1119\"}],\"left\":[{\"id\":\"1116\"}],\"renderers\":[{\"id\":\"1137\"},{\"id\":\"1142\"}],\"title\":{\"id\":\"1102\"},\"toolbar\":{\"id\":\"1127\"},\"toolbar_location\":null,\"width\":800,\"x_range\":{\"id\":\"1104\"},\"x_scale\":{\"id\":\"1108\"},\"y_range\":{\"id\":\"1106\"},\"y_scale\":{\"id\":\"1110\"}},\"id\":\"1101\",\"subtype\":\"Figure\",\"type\":\"Plot\"},{\"attributes\":{\"axis\":{\"id\":\"1116\"},\"dimension\":1,\"ticker\":null},\"id\":\"1119\",\"type\":\"Grid\"},{\"attributes\":{},\"id\":\"1117\",\"type\":\"BasicTicker\"},{\"attributes\":{},\"id\":\"1168\",\"type\":\"Selection\"},{\"attributes\":{\"active_multi\":null,\"tools\":[{\"id\":\"1120\"},{\"id\":\"1121\"},{\"id\":\"1122\"},{\"id\":\"1123\"},{\"id\":\"1124\"},{\"id\":\"1125\"},{\"id\":\"1145\"}]},\"id\":\"1127\",\"type\":\"Toolbar\"},{\"attributes\":{},\"id\":\"1121\",\"type\":\"WheelZoomTool\"},{\"attributes\":{\"data\":{\"x\":[\"1750\",\"1751\",\"1752\",\"1753\",\"1754\",\"1755\",\"1756\",\"1757\",\"1758\",\"1759\",\"1760\",\"1761\",\"1762\",\"1763\",\"1764\",\"1765\",\"1766\",\"1767\",\"1768\",\"1769\",\"1770\",\"1771\",\"1772\",\"1773\",\"1774\",\"1775\",\"1776\",\"1777\",\"1778\",\"1779\",\"1780\",\"1781\",\"1782\",\"1783\",\"1784\",\"1785\",\"1786\",\"1787\",\"1788\",\"1789\",\"1790\",\"1791\",\"1792\",\"1793\",\"1794\",\"1795\",\"1796\",\"1797\",\"1798\",\"1799\",\"1800\",\"1801\",\"1802\",\"1803\",\"1804\",\"1805\",\"1806\",\"1807\",\"1808\",\"1809\",\"1810\",\"1811\",\"1812\",\"1813\",\"1814\",\"1815\",\"1816\",\"1817\",\"1818\",\"1819\",\"1820\",\"1821\",\"1822\",\"1823\",\"1824\",\"1825\",\"1826\",\"1827\",\"1828\",\"1829\",\"1830\",\"1831\",\"1832\",\"1833\",\"1834\",\"1835\",\"1836\",\"1837\",\"1838\",\"1839\",\"1840\",\"1841\",\"1842\",\"1843\",\"1844\",\"1845\",\"1846\",\"1847\",\"1848\",\"1849\",\"1850\",\"1851\",\"1852\",\"1853\",\"1854\",\"1855\",\"1856\",\"1857\",\"1858\",\"1859\",\"1860\",\"1861\",\"1862\",\"1863\",\"1864\",\"1865\",\"1866\",\"1867\",\"1868\",\"1869\",\"1870\",\"1871\",\"1872\",\"1873\",\"1874\",\"1875\",\"1876\",\"1877\",\"1878\",\"1879\",\"1880\",\"1881\",\"1882\",\"1883\",\"1884\",\"1885\",\"1886\",\"1887\",\"1888\",\"1889\",\"1890\",\"1891\",\"1892\",\"1893\",\"1894\",\"1895\",\"1896\",\"1897\",\"1898\",\"1899\",\"1900\",\"1901\",\"1902\",\"1903\",\"1904\",\"1905\",\"1906\",\"1907\",\"1908\",\"1909\",\"1910\",\"1911\",\"1912\",\"1913\",\"1914\",\"1915\",\"1916\",\"1917\",\"1918\",\"1919\",\"1920\",\"1921\",\"1922\",\"1923\",\"1924\",\"1925\",\"1926\",\"1927\",\"1928\",\"1929\",\"1930\",\"1931\",\"1932\",\"1933\",\"1934\",\"1935\",\"1936\",\"1937\",\"1938\",\"1939\",\"1940\",\"1941\",\"1942\",\"1943\",\"1944\",\"1945\",\"1946\",\"1947\",\"1948\",\"1949\",\"1950\",\"1951\",\"1952\",\"1953\",\"1954\",\"1955\",\"1956\",\"1957\",\"1958\",\"1959\",\"1960\",\"1961\",\"1962\",\"1963\",\"1964\",\"1965\",\"1966\",\"1967\",\"1968\",\"1969\",\"1970\",\"1971\",\"1972\",\"1973\",\"1974\",\"1975\",\"1976\",\"1977\",\"1978\",\"1979\",\"1980\",\"1981\",\"1982\",\"1983\",\"1984\",\"1985\",\"1986\",\"1987\",\"1988\",\"1989\",\"1990\",\"1991\",\"1992\",\"1993\",\"1994\",\"1995\",\"1996\",\"1997\",\"1998\",\"1999\",\"2000\",\"2001\",\"2002\",\"2003\",\"2004\",\"2005\",\"2006\",\"2007\",\"2008\",\"2009\",\"2010\",\"2011\",\"2012\",\"2013\",\"2014\",\"2015\"],\"y\":{\"__ndarray__\":\"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\",\"dtype\":\"float64\",\"order\":\"little\",\"shape\":[266]}},\"selected\":{\"id\":\"1168\"},\"selection_policy\":{\"id\":\"1169\"}},\"id\":\"1139\",\"type\":\"ColumnDataSource\"},{\"attributes\":{},\"id\":\"1120\",\"type\":\"PanTool\"},{\"attributes\":{\"overlay\":{\"id\":\"1126\"}},\"id\":\"1122\",\"type\":\"BoxZoomTool\"},{\"attributes\":{},\"id\":\"1169\",\"type\":\"UnionRenderers\"},{\"attributes\":{},\"id\":\"1123\",\"type\":\"SaveTool\"},{\"attributes\":{},\"id\":\"1124\",\"type\":\"ResetTool\"},{\"attributes\":{\"source\":{\"id\":\"1134\"}},\"id\":\"1138\",\"type\":\"CDSView\"},{\"attributes\":{},\"id\":\"1165\",\"type\":\"AllLabels\"},{\"attributes\":{\"source\":{\"id\":\"1139\"}},\"id\":\"1143\",\"type\":\"CDSView\"},{\"attributes\":{\"fill_alpha\":{\"value\":0.5},\"fill_color\":{\"value\":\"firebrick\"},\"line_color\":{\"value\":null},\"size\":{\"value\":20},\"x\":{\"field\":\"x\"},\"y\":{\"field\":\"y\"}},\"id\":\"1141\",\"type\":\"Circle\"},{\"attributes\":{\"line_alpha\":0.1,\"line_color\":\"gray\",\"line_dash\":[4,4],\"x\":{\"field\":\"x\"},\"y\":{\"field\":\"y\"}},\"id\":\"1136\",\"type\":\"Line\"},{\"attributes\":{\"data_source\":{\"id\":\"1139\"},\"glyph\":{\"id\":\"1140\"},\"hover_glyph\":null,\"muted_glyph\":null,\"nonselection_glyph\":{\"id\":\"1140\"},\"selection_glyph\":{\"id\":\"1141\"},\"view\":{\"id\":\"1143\"}},\"id\":\"1142\",\"type\":\"GlyphRenderer\"},{\"attributes\":{\"fill_alpha\":{\"value\":0.05},\"line_color\":{\"value\":null},\"size\":{\"value\":20},\"x\":{\"field\":\"x\"},\"y\":{\"field\":\"y\"}},\"id\":\"1140\",\"type\":\"Circle\"},{\"attributes\":{\"data_source\":{\"id\":\"1134\"},\"glyph\":{\"id\":\"1135\"},\"hover_glyph\":null,\"muted_glyph\":null,\"nonselection_glyph\":{\"id\":\"1136\"},\"view\":{\"id\":\"1138\"}},\"id\":\"1137\",\"type\":\"GlyphRenderer\"},{\"attributes\":{\"callback\":{\"id\":\"1144\"},\"mode\":\"mouse\",\"renderers\":[{\"id\":\"1142\"}],\"tooltips\":[[\"Uncertainty\",\"@y\"]]},\"id\":\"1145\",\"type\":\"HoverTool\"},{\"attributes\":{\"bottom_units\":\"screen\",\"fill_alpha\":0.5,\"fill_color\":\"lightgrey\",\"left_units\":\"screen\",\"level\":\"overlay\",\"line_alpha\":1.0,\"line_color\":\"black\",\"line_dash\":[4,4],\"line_width\":2,\"right_units\":\"screen\",\"syncable\":false,\"top_units\":\"screen\"},\"id\":\"1126\",\"type\":\"BoxAnnotation\"},{\"attributes\":{\"args\":{\"source\":{\"id\":\"1139\"}},\"code\":\"source.set('selected', cb_data['index']);\"},\"id\":\"1144\",\"type\":\"CustomJS\"},{\"attributes\":{\"line_color\":\"gray\",\"line_dash\":[4,4],\"x\":{\"field\":\"x\"},\"y\":{\"field\":\"y\"}},\"id\":\"1135\",\"type\":\"Line\"},{\"attributes\":{},\"id\":\"1161\",\"type\":\"BasicTickFormatter\"},{\"attributes\":{\"data\":{\"x\":[\"1750\",\"1751\",\"1752\",\"1753\",\"1754\",\"1755\",\"1756\",\"1757\",\"1758\",\"1759\",\"1760\",\"1761\",\"1762\",\"1763\",\"1764\",\"1765\",\"1766\",\"1767\",\"1768\",\"1769\",\"1770\",\"1771\",\"1772\",\"1773\",\"1774\",\"1775\",\"1776\",\"1777\",\"1778\",\"1779\",\"1780\",\"1781\",\"1782\",\"1783\",\"1784\",\"1785\",\"1786\",\"1787\",\"1788\",\"1789\",\"1790\",\"1791\",\"1792\",\"1793\",\"1794\",\"1795\",\"1796\",\"1797\",\"1798\",\"1799\",\"1800\",\"1801\",\"1802\",\"1803\",\"1804\",\"1805\",\"1806\",\"1807\",\"1808\",\"1809\",\"1810\",\"1811\",\"1812\",\"1813\",\"1814\",\"1815\",\"1816\",\"1817\",\"1818\",\"1819\",\"1820\",\"1821\",\"1822\",\"1823\",\"1824\",\"1825\",\"1826\",\"1827\",\"1828\",\"1829\",\"1830\",\"1831\",\"1832\",\"1833\",\"1834\",\"1835\",\"1836\",\"1837\",\"1838\",\"1839\",\"1840\",\"1841\",\"1842\",\"1843\",\"1844\",\"1845\",\"1846\",\"1847\",\"1848\",\"1849\",\"1850\",\"1851\",\"1852\",\"1853\",\"1854\",\"1855\",\"1856\",\"1857\",\"1858\",\"1859\",\"1860\",\"1861\",\"1862\",\"1863\",\"1864\",\"1865\",\"1866\",\"1867\",\"1868\",\"1869\",\"1870\",\"1871\",\"1872\",\"1873\",\"1874\",\"1875\",\"1876\",\"1877\",\"1878\",\"1879\",\"1880\",\"1881\",\"1882\",\"1883\",\"1884\",\"1885\",\"1886\",\"1887\",\"1888\",\"1889\",\"1890\",\"1891\",\"1892\",\"1893\",\"1894\",\"1895\",\"1896\",\"1897\",\"1898\",\"1899\",\"1900\",\"1901\",\"1902\",\"1903\",\"1904\",\"1905\",\"1906\",\"1907\",\"1908\",\"1909\",\"1910\",\"1911\",\"1912\",\"1913\",\"1914\",\"1915\",\"1916\",\"1917\",\"1918\",\"1919\",\"1920\",\"1921\",\"1922\",\"1923\",\"1924\",\"1925\",\"1926\",\"1927\",\"1928\",\"1929\",\"1930\",\"1931\",\"1932\",\"1933\",\"1934\",\"1935\",\"1936\",\"1937\",\"1938\",\"1939\",\"1940\",\"1941\",\"1942\",\"1943\",\"1944\",\"1945\",\"1946\",\"1947\",\"1948\",\"1949\",\"1950\",\"1951\",\"1952\",\"1953\",\"1954\",\"1955\",\"1956\",\"1957\",\"1958\",\"1959\",\"1960\",\"1961\",\"1962\",\"1963\",\"1964\",\"1965\",\"1966\",\"1967\",\"1968\",\"1969\",\"1970\",\"1971\",\"1972\",\"1973\",\"1974\",\"1975\",\"1976\",\"1977\",\"1978\",\"1979\",\"1980\",\"1981\",\"1982\",\"1983\",\"1984\",\"1985\",\"1986\",\"1987\",\"1988\",\"1989\",\"1990\",\"1991\",\"1992\",\"1993\",\"1994\",\"1995\",\"1996\",\"1997\",\"1998\",\"1999\",\"2000\",\"2001\",\"2002\",\"2003\",\"2004\",\"2005\",\"2006\",\"2007\",\"2008\",\"2009\",\"2010\",\"2011\",\"2012\",\"2013\",\"2014\",\"2015\"],\"y\":{\"__ndarray__\":\"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\",\"dtype\":\"float64\",\"order\":\"little\",\"shape\":[266]}},\"selected\":{\"id\":\"1166\"},\"selection_policy\":{\"id\":\"1167\"}},\"id\":\"1134\",\"type\":\"ColumnDataSource\"},{\"attributes\":{\"text\":\"A clear decreasing of uncertainty\"},\"id\":\"1102\",\"type\":\"Title\"},{\"attributes\":{},\"id\":\"1104\",\"type\":\"DataRange1d\"},{\"attributes\":{},\"id\":\"1108\",\"type\":\"LinearScale\"},{\"attributes\":{},\"id\":\"1162\",\"type\":\"AllLabels\"},{\"attributes\":{},\"id\":\"1125\",\"type\":\"HelpTool\"},{\"attributes\":{},\"id\":\"1166\",\"type\":\"Selection\"},{\"attributes\":{\"formatter\":{\"id\":\"1164\"},\"major_label_policy\":{\"id\":\"1165\"},\"ticker\":{\"id\":\"1117\"}},\"id\":\"1116\",\"type\":\"LinearAxis\"},{\"attributes\":{},\"id\":\"1106\",\"type\":\"DataRange1d\"},{\"attributes\":{},\"id\":\"1164\",\"type\":\"BasicTickFormatter\"},{\"attributes\":{},\"id\":\"1110\",\"type\":\"LinearScale\"},{\"attributes\":{},\"id\":\"1167\",\"type\":\"UnionRenderers\"},{\"attributes\":{\"formatter\":{\"id\":\"1161\"},\"major_label_policy\":{\"id\":\"1162\"},\"ticker\":{\"id\":\"1113\"}},\"id\":\"1112\",\"type\":\"LinearAxis\"},{\"attributes\":{},\"id\":\"1113\",\"type\":\"BasicTicker\"},{\"attributes\":{\"axis\":{\"id\":\"1112\"},\"ticker\":null},\"id\":\"1115\",\"type\":\"Grid\"}],\"root_ids\":[\"1101\"]},\"title\":\"Bokeh Application\",\"version\":\"2.3.3\"}};\n",
       "  var render_items = [{\"docid\":\"fa902d9e-eaca-44e5-9a1e-ce3eafa10327\",\"root_ids\":[\"1101\"],\"roots\":{\"1101\":\"cd1deedb-cc34-4b1b-8eeb-eb22727f7abb\"}}];\n",
       "  root.Bokeh.embed.embed_items_notebook(docs_json, render_items);\n",
       "\n",
       "  }\n",
       "  if (root.Bokeh !== undefined) {\n",
       "    embed_document(root);\n",
       "  } else {\n",
       "    var attempts = 0;\n",
       "    var timer = setInterval(function(root) {\n",
       "      if (root.Bokeh !== undefined) {\n",
       "        clearInterval(timer);\n",
       "        embed_document(root);\n",
       "      } else {\n",
       "        attempts++;\n",
       "        if (attempts > 100) {\n",
       "          clearInterval(timer);\n",
       "          console.log(\"Bokeh: ERROR: Unable to run BokehJS code because BokehJS library is missing\");\n",
       "        }\n",
       "      }\n",
       "    }, 10, root)\n",
       "  }\n",
       "})(window);"
      ],
      "application/vnd.bokehjs_exec.v0+json": ""
     },
     "metadata": {
      "application/vnd.bokehjs_exec.v0+json": {
       "id": "1101"
      }
     },
     "output_type": "display_data"
    }
   ],
   "source": [
    "#Now, we plot the 95% Uncertainty regarding the temperature evolution\n",
    "output_notebook()\n",
    "tools_to_show = 'box_zoom,save,hover,reset'\n",
    "(x, y) = (df_global_mean['Dates'], df_global_mean['Uncertainty'])\n",
    "\n",
    "# Basic plot setup\n",
    "p = figure(width=800, height=600, toolbar_location=None, \n",
    "           title='A clear decreasing of uncertainty')\n",
    "\n",
    "p.line(x, y, line_dash=\"4 4\", line_width=1, color='gray')\n",
    "\n",
    "# Add a circle, that is visible only when selected\n",
    "source = ColumnDataSource({'x': x, 'y': y})\n",
    "invisible_circle = Circle(x='x', y='y', fill_color='gray', fill_alpha=0.05, line_color=None, size=20)\n",
    "visible_circle = Circle(x='x', y='y', fill_color='firebrick', fill_alpha=0.5, line_color=None, size=20)\n",
    "cr = p.add_glyph(source, invisible_circle, selection_glyph=visible_circle, nonselection_glyph=invisible_circle)\n",
    "\n",
    "# Add a hover tool, that selects the circle\n",
    "code = \"source.set('selected', cb_data['index']);\"\n",
    "callback = CustomJS(args={'source': source}, code=code)\n",
    "p.add_tools(HoverTool(tooltips=None, callback=callback, renderers=[cr], mode='hline'))\n",
    "p.hover.tooltips = [(\"Uncertainty\", \"@y\")]\n",
    "p.hover.mode = 'mouse'\n",
    "show(p)"
   ]
  },
  {
   "cell_type": "markdown",
   "id": "7cb07058-a696-4069-bbc5-01a4b5241cae",
   "metadata": {},
   "source": [
    "### <font color='#0bfc03'> Analysis\n",
    "**As we can clearly see global mean Uncertainty Temprature is decreasing at a very high rate as year passes.**"
   ]
  },
  {
   "cell_type": "code",
   "execution_count": 12,
   "id": "8a321778-a101-4cc8-8210-3ca4306166be",
   "metadata": {},
   "outputs": [
    {
     "data": {
      "text/html": [
       "<div>\n",
       "<style scoped>\n",
       "    .dataframe tbody tr th:only-of-type {\n",
       "        vertical-align: middle;\n",
       "    }\n",
       "\n",
       "    .dataframe tbody tr th {\n",
       "        vertical-align: top;\n",
       "    }\n",
       "\n",
       "    .dataframe thead th {\n",
       "        text-align: right;\n",
       "    }\n",
       "</style>\n",
       "<table border=\"1\" class=\"dataframe\">\n",
       "  <thead>\n",
       "    <tr style=\"text-align: right;\">\n",
       "      <th></th>\n",
       "      <th>Dates</th>\n",
       "      <th>Average Land Temperature</th>\n",
       "      <th>Average LO Temperature</th>\n",
       "      <th>Average LO_U Temperature</th>\n",
       "      <th>Min Temperature</th>\n",
       "      <th>Max Temperature</th>\n",
       "    </tr>\n",
       "  </thead>\n",
       "  <tbody>\n",
       "    <tr>\n",
       "      <th>161</th>\n",
       "      <td>2011</td>\n",
       "      <td>9.516000</td>\n",
       "      <td>15.769500</td>\n",
       "      <td>0.059000</td>\n",
       "      <td>3.827667</td>\n",
       "      <td>15.284833</td>\n",
       "    </tr>\n",
       "    <tr>\n",
       "      <th>162</th>\n",
       "      <td>2012</td>\n",
       "      <td>9.507333</td>\n",
       "      <td>15.802333</td>\n",
       "      <td>0.061500</td>\n",
       "      <td>3.756167</td>\n",
       "      <td>15.332833</td>\n",
       "    </tr>\n",
       "    <tr>\n",
       "      <th>163</th>\n",
       "      <td>2013</td>\n",
       "      <td>9.606500</td>\n",
       "      <td>15.854417</td>\n",
       "      <td>0.064667</td>\n",
       "      <td>3.911333</td>\n",
       "      <td>15.373833</td>\n",
       "    </tr>\n",
       "    <tr>\n",
       "      <th>164</th>\n",
       "      <td>2014</td>\n",
       "      <td>9.570667</td>\n",
       "      <td>15.913000</td>\n",
       "      <td>0.063167</td>\n",
       "      <td>3.877750</td>\n",
       "      <td>15.313583</td>\n",
       "    </tr>\n",
       "    <tr>\n",
       "      <th>165</th>\n",
       "      <td>2015</td>\n",
       "      <td>9.831000</td>\n",
       "      <td>16.058583</td>\n",
       "      <td>0.060833</td>\n",
       "      <td>4.148833</td>\n",
       "      <td>15.572667</td>\n",
       "    </tr>\n",
       "  </tbody>\n",
       "</table>\n",
       "</div>"
      ],
      "text/plain": [
       "     Dates  Average Land Temperature  Average LO Temperature  \\\n",
       "161   2011                  9.516000               15.769500   \n",
       "162   2012                  9.507333               15.802333   \n",
       "163   2013                  9.606500               15.854417   \n",
       "164   2014                  9.570667               15.913000   \n",
       "165   2015                  9.831000               16.058583   \n",
       "\n",
       "     Average LO_U Temperature  Min Temperature  Max Temperature  \n",
       "161                  0.059000         3.827667        15.284833  \n",
       "162                  0.061500         3.756167        15.332833  \n",
       "163                  0.064667         3.911333        15.373833  \n",
       "164                  0.063167         3.877750        15.313583  \n",
       "165                  0.060833         4.148833        15.572667  "
      ]
     },
     "execution_count": 12,
     "metadata": {},
     "output_type": "execute_result"
    }
   ],
   "source": [
    "global_temps2 = pd.read_csv(\"input/GlobalTemperatures.csv\", sep=',')\n",
    "date=global_temps2['dt'].apply(lambda x: x[:4])\n",
    "\n",
    "global_temps2['dt'] = global_temps2['dt'].apply(lambda x: x[:4])\n",
    "years=np.unique(global_temps2['dt'])\n",
    "list_of_years_1850 = list(filter(lambda x: int(x) >= 1850, years))\n",
    "global_temps2['dt'] = pd.to_numeric(global_temps2['dt'])\n",
    "global_temps2.drop(global_temps2[global_temps2.dt < 1850].index, inplace=True)\n",
    "global_temps_1850 = global_temps2.groupby(['dt']).agg({'LandAverageTemperature': np.mean,\n",
    "                                                       'LandAndOceanAverageTemperature': np.mean,\n",
    "                                                       'LandAndOceanAverageTemperatureUncertainty':np.mean,\n",
    "                                                 'LandMinTemperature': np.mean,\n",
    "                                                 'LandMaxTemperature': np.mean})\n",
    "global_temps_1850.reset_index(inplace=True)\n",
    "global_temps_1850.rename(columns = {'LandAverageTemperature':'Average Land Temperature', \n",
    "                                    'LandAndOceanAverageTemperature':'Average LO Temperature',\n",
    "                                    'LandAndOceanAverageTemperatureUncertainty':'Average LO_U Temperature',\n",
    "                                    'LandMinTemperature':'Min Temperature', \n",
    "                                    'LandMaxTemperature':'Max Temperature', \n",
    "                                    'dt':'Dates'}, inplace = True)\n",
    "global_temps_1850.tail(5)"
   ]
  },
  {
   "cell_type": "code",
   "execution_count": 13,
   "id": "1441216e-3c46-476c-ad8e-b0723cd3c6a1",
   "metadata": {},
   "outputs": [
    {
     "data": {
      "text/html": [
       "\n",
       "    <div class=\"bk-root\">\n",
       "        <a href=\"https://bokeh.org\" target=\"_blank\" class=\"bk-logo bk-logo-small bk-logo-notebook\"></a>\n",
       "        <span id=\"1231\">Loading BokehJS ...</span>\n",
       "    </div>"
      ]
     },
     "metadata": {},
     "output_type": "display_data"
    },
    {
     "data": {
      "application/javascript": [
       "\n",
       "(function(root) {\n",
       "  function now() {\n",
       "    return new Date();\n",
       "  }\n",
       "\n",
       "  var force = true;\n",
       "\n",
       "  if (typeof root._bokeh_onload_callbacks === \"undefined\" || force === true) {\n",
       "    root._bokeh_onload_callbacks = [];\n",
       "    root._bokeh_is_loading = undefined;\n",
       "  }\n",
       "\n",
       "  var JS_MIME_TYPE = 'application/javascript';\n",
       "  var HTML_MIME_TYPE = 'text/html';\n",
       "  var EXEC_MIME_TYPE = 'application/vnd.bokehjs_exec.v0+json';\n",
       "  var CLASS_NAME = 'output_bokeh rendered_html';\n",
       "\n",
       "  /**\n",
       "   * Render data to the DOM node\n",
       "   */\n",
       "  function render(props, node) {\n",
       "    var script = document.createElement(\"script\");\n",
       "    node.appendChild(script);\n",
       "  }\n",
       "\n",
       "  /**\n",
       "   * Handle when an output is cleared or removed\n",
       "   */\n",
       "  function handleClearOutput(event, handle) {\n",
       "    var cell = handle.cell;\n",
       "\n",
       "    var id = cell.output_area._bokeh_element_id;\n",
       "    var server_id = cell.output_area._bokeh_server_id;\n",
       "    // Clean up Bokeh references\n",
       "    if (id != null && id in Bokeh.index) {\n",
       "      Bokeh.index[id].model.document.clear();\n",
       "      delete Bokeh.index[id];\n",
       "    }\n",
       "\n",
       "    if (server_id !== undefined) {\n",
       "      // Clean up Bokeh references\n",
       "      var cmd = \"from bokeh.io.state import curstate; print(curstate().uuid_to_server['\" + server_id + \"'].get_sessions()[0].document.roots[0]._id)\";\n",
       "      cell.notebook.kernel.execute(cmd, {\n",
       "        iopub: {\n",
       "          output: function(msg) {\n",
       "            var id = msg.content.text.trim();\n",
       "            if (id in Bokeh.index) {\n",
       "              Bokeh.index[id].model.document.clear();\n",
       "              delete Bokeh.index[id];\n",
       "            }\n",
       "          }\n",
       "        }\n",
       "      });\n",
       "      // Destroy server and session\n",
       "      var cmd = \"import bokeh.io.notebook as ion; ion.destroy_server('\" + server_id + \"')\";\n",
       "      cell.notebook.kernel.execute(cmd);\n",
       "    }\n",
       "  }\n",
       "\n",
       "  /**\n",
       "   * Handle when a new output is added\n",
       "   */\n",
       "  function handleAddOutput(event, handle) {\n",
       "    var output_area = handle.output_area;\n",
       "    var output = handle.output;\n",
       "\n",
       "    // limit handleAddOutput to display_data with EXEC_MIME_TYPE content only\n",
       "    if ((output.output_type != \"display_data\") || (!Object.prototype.hasOwnProperty.call(output.data, EXEC_MIME_TYPE))) {\n",
       "      return\n",
       "    }\n",
       "\n",
       "    var toinsert = output_area.element.find(\".\" + CLASS_NAME.split(' ')[0]);\n",
       "\n",
       "    if (output.metadata[EXEC_MIME_TYPE][\"id\"] !== undefined) {\n",
       "      toinsert[toinsert.length - 1].firstChild.textContent = output.data[JS_MIME_TYPE];\n",
       "      // store reference to embed id on output_area\n",
       "      output_area._bokeh_element_id = output.metadata[EXEC_MIME_TYPE][\"id\"];\n",
       "    }\n",
       "    if (output.metadata[EXEC_MIME_TYPE][\"server_id\"] !== undefined) {\n",
       "      var bk_div = document.createElement(\"div\");\n",
       "      bk_div.innerHTML = output.data[HTML_MIME_TYPE];\n",
       "      var script_attrs = bk_div.children[0].attributes;\n",
       "      for (var i = 0; i < script_attrs.length; i++) {\n",
       "        toinsert[toinsert.length - 1].firstChild.setAttribute(script_attrs[i].name, script_attrs[i].value);\n",
       "        toinsert[toinsert.length - 1].firstChild.textContent = bk_div.children[0].textContent\n",
       "      }\n",
       "      // store reference to server id on output_area\n",
       "      output_area._bokeh_server_id = output.metadata[EXEC_MIME_TYPE][\"server_id\"];\n",
       "    }\n",
       "  }\n",
       "\n",
       "  function register_renderer(events, OutputArea) {\n",
       "\n",
       "    function append_mime(data, metadata, element) {\n",
       "      // create a DOM node to render to\n",
       "      var toinsert = this.create_output_subarea(\n",
       "        metadata,\n",
       "        CLASS_NAME,\n",
       "        EXEC_MIME_TYPE\n",
       "      );\n",
       "      this.keyboard_manager.register_events(toinsert);\n",
       "      // Render to node\n",
       "      var props = {data: data, metadata: metadata[EXEC_MIME_TYPE]};\n",
       "      render(props, toinsert[toinsert.length - 1]);\n",
       "      element.append(toinsert);\n",
       "      return toinsert\n",
       "    }\n",
       "\n",
       "    /* Handle when an output is cleared or removed */\n",
       "    events.on('clear_output.CodeCell', handleClearOutput);\n",
       "    events.on('delete.Cell', handleClearOutput);\n",
       "\n",
       "    /* Handle when a new output is added */\n",
       "    events.on('output_added.OutputArea', handleAddOutput);\n",
       "\n",
       "    /**\n",
       "     * Register the mime type and append_mime function with output_area\n",
       "     */\n",
       "    OutputArea.prototype.register_mime_type(EXEC_MIME_TYPE, append_mime, {\n",
       "      /* Is output safe? */\n",
       "      safe: true,\n",
       "      /* Index of renderer in `output_area.display_order` */\n",
       "      index: 0\n",
       "    });\n",
       "  }\n",
       "\n",
       "  // register the mime type if in Jupyter Notebook environment and previously unregistered\n",
       "  if (root.Jupyter !== undefined) {\n",
       "    var events = require('base/js/events');\n",
       "    var OutputArea = require('notebook/js/outputarea').OutputArea;\n",
       "\n",
       "    if (OutputArea.prototype.mime_types().indexOf(EXEC_MIME_TYPE) == -1) {\n",
       "      register_renderer(events, OutputArea);\n",
       "    }\n",
       "  }\n",
       "\n",
       "  \n",
       "  if (typeof (root._bokeh_timeout) === \"undefined\" || force === true) {\n",
       "    root._bokeh_timeout = Date.now() + 5000;\n",
       "    root._bokeh_failed_load = false;\n",
       "  }\n",
       "\n",
       "  var NB_LOAD_WARNING = {'data': {'text/html':\n",
       "     \"<div style='background-color: #fdd'>\\n\"+\n",
       "     \"<p>\\n\"+\n",
       "     \"BokehJS does not appear to have successfully loaded. If loading BokehJS from CDN, this \\n\"+\n",
       "     \"may be due to a slow or bad network connection. Possible fixes:\\n\"+\n",
       "     \"</p>\\n\"+\n",
       "     \"<ul>\\n\"+\n",
       "     \"<li>re-rerun `output_notebook()` to attempt to load from CDN again, or</li>\\n\"+\n",
       "     \"<li>use INLINE resources instead, as so:</li>\\n\"+\n",
       "     \"</ul>\\n\"+\n",
       "     \"<code>\\n\"+\n",
       "     \"from bokeh.resources import INLINE\\n\"+\n",
       "     \"output_notebook(resources=INLINE)\\n\"+\n",
       "     \"</code>\\n\"+\n",
       "     \"</div>\"}};\n",
       "\n",
       "  function display_loaded() {\n",
       "    var el = document.getElementById(\"1231\");\n",
       "    if (el != null) {\n",
       "      el.textContent = \"BokehJS is loading...\";\n",
       "    }\n",
       "    if (root.Bokeh !== undefined) {\n",
       "      if (el != null) {\n",
       "        el.textContent = \"BokehJS \" + root.Bokeh.version + \" successfully loaded.\";\n",
       "      }\n",
       "    } else if (Date.now() < root._bokeh_timeout) {\n",
       "      setTimeout(display_loaded, 100)\n",
       "    }\n",
       "  }\n",
       "\n",
       "\n",
       "  function run_callbacks() {\n",
       "    try {\n",
       "      root._bokeh_onload_callbacks.forEach(function(callback) {\n",
       "        if (callback != null)\n",
       "          callback();\n",
       "      });\n",
       "    } finally {\n",
       "      delete root._bokeh_onload_callbacks\n",
       "    }\n",
       "    console.debug(\"Bokeh: all callbacks have finished\");\n",
       "  }\n",
       "\n",
       "  function load_libs(css_urls, js_urls, callback) {\n",
       "    if (css_urls == null) css_urls = [];\n",
       "    if (js_urls == null) js_urls = [];\n",
       "\n",
       "    root._bokeh_onload_callbacks.push(callback);\n",
       "    if (root._bokeh_is_loading > 0) {\n",
       "      console.debug(\"Bokeh: BokehJS is being loaded, scheduling callback at\", now());\n",
       "      return null;\n",
       "    }\n",
       "    if (js_urls == null || js_urls.length === 0) {\n",
       "      run_callbacks();\n",
       "      return null;\n",
       "    }\n",
       "    console.debug(\"Bokeh: BokehJS not loaded, scheduling load and callback at\", now());\n",
       "    root._bokeh_is_loading = css_urls.length + js_urls.length;\n",
       "\n",
       "    function on_load() {\n",
       "      root._bokeh_is_loading--;\n",
       "      if (root._bokeh_is_loading === 0) {\n",
       "        console.debug(\"Bokeh: all BokehJS libraries/stylesheets loaded\");\n",
       "        run_callbacks()\n",
       "      }\n",
       "    }\n",
       "\n",
       "    function on_error(url) {\n",
       "      console.error(\"failed to load \" + url);\n",
       "    }\n",
       "\n",
       "    for (let i = 0; i < css_urls.length; i++) {\n",
       "      const url = css_urls[i];\n",
       "      const element = document.createElement(\"link\");\n",
       "      element.onload = on_load;\n",
       "      element.onerror = on_error.bind(null, url);\n",
       "      element.rel = \"stylesheet\";\n",
       "      element.type = \"text/css\";\n",
       "      element.href = url;\n",
       "      console.debug(\"Bokeh: injecting link tag for BokehJS stylesheet: \", url);\n",
       "      document.body.appendChild(element);\n",
       "    }\n",
       "\n",
       "    const hashes = {\"https://cdn.bokeh.org/bokeh/release/bokeh-2.3.3.min.js\": \"dM3QQsP+wXdHg42wTqW85BjZQdLNNIXqlPw/BgKoExPmTG7ZLML4EGqLMfqHT6ON\", \"https://cdn.bokeh.org/bokeh/release/bokeh-tables-2.3.3.min.js\": \"8x57I4YuIfu8XyZfFo0XVr2WAT8EK4rh/uDe3wF7YuW2FNUSNEpJbsPaB1nJ2fz2\", \"https://cdn.bokeh.org/bokeh/release/bokeh-widgets-2.3.3.min.js\": \"3QTqdz9LyAm2i0sG5XTePsHec3UHWwVsrOL68SYRoAXsafvfAyqtQ+h440+qIBhS\"};\n",
       "\n",
       "    for (let i = 0; i < js_urls.length; i++) {\n",
       "      const url = js_urls[i];\n",
       "      const element = document.createElement('script');\n",
       "      element.onload = on_load;\n",
       "      element.onerror = on_error.bind(null, url);\n",
       "      element.async = false;\n",
       "      element.src = url;\n",
       "      if (url in hashes) {\n",
       "        element.crossOrigin = \"anonymous\";\n",
       "        element.integrity = \"sha384-\" + hashes[url];\n",
       "      }\n",
       "      console.debug(\"Bokeh: injecting script tag for BokehJS library: \", url);\n",
       "      document.head.appendChild(element);\n",
       "    }\n",
       "  };\n",
       "\n",
       "  function inject_raw_css(css) {\n",
       "    const element = document.createElement(\"style\");\n",
       "    element.appendChild(document.createTextNode(css));\n",
       "    document.body.appendChild(element);\n",
       "  }\n",
       "\n",
       "  \n",
       "  var js_urls = [\"https://cdn.bokeh.org/bokeh/release/bokeh-2.3.3.min.js\", \"https://cdn.bokeh.org/bokeh/release/bokeh-widgets-2.3.3.min.js\", \"https://cdn.bokeh.org/bokeh/release/bokeh-tables-2.3.3.min.js\"];\n",
       "  var css_urls = [];\n",
       "  \n",
       "\n",
       "  var inline_js = [\n",
       "    function(Bokeh) {\n",
       "      Bokeh.set_log_level(\"info\");\n",
       "    },\n",
       "    function(Bokeh) {\n",
       "    \n",
       "    \n",
       "    }\n",
       "  ];\n",
       "\n",
       "  function run_inline_js() {\n",
       "    \n",
       "    if (root.Bokeh !== undefined || force === true) {\n",
       "      \n",
       "    for (var i = 0; i < inline_js.length; i++) {\n",
       "      inline_js[i].call(root, root.Bokeh);\n",
       "    }\n",
       "    if (force === true) {\n",
       "        display_loaded();\n",
       "      }} else if (Date.now() < root._bokeh_timeout) {\n",
       "      setTimeout(run_inline_js, 100);\n",
       "    } else if (!root._bokeh_failed_load) {\n",
       "      console.log(\"Bokeh: BokehJS failed to load within specified timeout.\");\n",
       "      root._bokeh_failed_load = true;\n",
       "    } else if (force !== true) {\n",
       "      var cell = $(document.getElementById(\"1231\")).parents('.cell').data().cell;\n",
       "      cell.output_area.append_execute_result(NB_LOAD_WARNING)\n",
       "    }\n",
       "\n",
       "  }\n",
       "\n",
       "  if (root._bokeh_is_loading === 0) {\n",
       "    console.debug(\"Bokeh: BokehJS loaded, going straight to plotting\");\n",
       "    run_inline_js();\n",
       "  } else {\n",
       "    load_libs(css_urls, js_urls, function() {\n",
       "      console.debug(\"Bokeh: BokehJS plotting callback run at\", now());\n",
       "      run_inline_js();\n",
       "    });\n",
       "  }\n",
       "}(window));"
      ],
      "application/vnd.bokehjs_load.v0+json": "\n(function(root) {\n  function now() {\n    return new Date();\n  }\n\n  var force = true;\n\n  if (typeof root._bokeh_onload_callbacks === \"undefined\" || force === true) {\n    root._bokeh_onload_callbacks = [];\n    root._bokeh_is_loading = undefined;\n  }\n\n  \n\n  \n  if (typeof (root._bokeh_timeout) === \"undefined\" || force === true) {\n    root._bokeh_timeout = Date.now() + 5000;\n    root._bokeh_failed_load = false;\n  }\n\n  var NB_LOAD_WARNING = {'data': {'text/html':\n     \"<div style='background-color: #fdd'>\\n\"+\n     \"<p>\\n\"+\n     \"BokehJS does not appear to have successfully loaded. If loading BokehJS from CDN, this \\n\"+\n     \"may be due to a slow or bad network connection. Possible fixes:\\n\"+\n     \"</p>\\n\"+\n     \"<ul>\\n\"+\n     \"<li>re-rerun `output_notebook()` to attempt to load from CDN again, or</li>\\n\"+\n     \"<li>use INLINE resources instead, as so:</li>\\n\"+\n     \"</ul>\\n\"+\n     \"<code>\\n\"+\n     \"from bokeh.resources import INLINE\\n\"+\n     \"output_notebook(resources=INLINE)\\n\"+\n     \"</code>\\n\"+\n     \"</div>\"}};\n\n  function display_loaded() {\n    var el = document.getElementById(\"1231\");\n    if (el != null) {\n      el.textContent = \"BokehJS is loading...\";\n    }\n    if (root.Bokeh !== undefined) {\n      if (el != null) {\n        el.textContent = \"BokehJS \" + root.Bokeh.version + \" successfully loaded.\";\n      }\n    } else if (Date.now() < root._bokeh_timeout) {\n      setTimeout(display_loaded, 100)\n    }\n  }\n\n\n  function run_callbacks() {\n    try {\n      root._bokeh_onload_callbacks.forEach(function(callback) {\n        if (callback != null)\n          callback();\n      });\n    } finally {\n      delete root._bokeh_onload_callbacks\n    }\n    console.debug(\"Bokeh: all callbacks have finished\");\n  }\n\n  function load_libs(css_urls, js_urls, callback) {\n    if (css_urls == null) css_urls = [];\n    if (js_urls == null) js_urls = [];\n\n    root._bokeh_onload_callbacks.push(callback);\n    if (root._bokeh_is_loading > 0) {\n      console.debug(\"Bokeh: BokehJS is being loaded, scheduling callback at\", now());\n      return null;\n    }\n    if (js_urls == null || js_urls.length === 0) {\n      run_callbacks();\n      return null;\n    }\n    console.debug(\"Bokeh: BokehJS not loaded, scheduling load and callback at\", now());\n    root._bokeh_is_loading = css_urls.length + js_urls.length;\n\n    function on_load() {\n      root._bokeh_is_loading--;\n      if (root._bokeh_is_loading === 0) {\n        console.debug(\"Bokeh: all BokehJS libraries/stylesheets loaded\");\n        run_callbacks()\n      }\n    }\n\n    function on_error(url) {\n      console.error(\"failed to load \" + url);\n    }\n\n    for (let i = 0; i < css_urls.length; i++) {\n      const url = css_urls[i];\n      const element = document.createElement(\"link\");\n      element.onload = on_load;\n      element.onerror = on_error.bind(null, url);\n      element.rel = \"stylesheet\";\n      element.type = \"text/css\";\n      element.href = url;\n      console.debug(\"Bokeh: injecting link tag for BokehJS stylesheet: \", url);\n      document.body.appendChild(element);\n    }\n\n    const hashes = {\"https://cdn.bokeh.org/bokeh/release/bokeh-2.3.3.min.js\": \"dM3QQsP+wXdHg42wTqW85BjZQdLNNIXqlPw/BgKoExPmTG7ZLML4EGqLMfqHT6ON\", \"https://cdn.bokeh.org/bokeh/release/bokeh-tables-2.3.3.min.js\": \"8x57I4YuIfu8XyZfFo0XVr2WAT8EK4rh/uDe3wF7YuW2FNUSNEpJbsPaB1nJ2fz2\", \"https://cdn.bokeh.org/bokeh/release/bokeh-widgets-2.3.3.min.js\": \"3QTqdz9LyAm2i0sG5XTePsHec3UHWwVsrOL68SYRoAXsafvfAyqtQ+h440+qIBhS\"};\n\n    for (let i = 0; i < js_urls.length; i++) {\n      const url = js_urls[i];\n      const element = document.createElement('script');\n      element.onload = on_load;\n      element.onerror = on_error.bind(null, url);\n      element.async = false;\n      element.src = url;\n      if (url in hashes) {\n        element.crossOrigin = \"anonymous\";\n        element.integrity = \"sha384-\" + hashes[url];\n      }\n      console.debug(\"Bokeh: injecting script tag for BokehJS library: \", url);\n      document.head.appendChild(element);\n    }\n  };\n\n  function inject_raw_css(css) {\n    const element = document.createElement(\"style\");\n    element.appendChild(document.createTextNode(css));\n    document.body.appendChild(element);\n  }\n\n  \n  var js_urls = [\"https://cdn.bokeh.org/bokeh/release/bokeh-2.3.3.min.js\", \"https://cdn.bokeh.org/bokeh/release/bokeh-widgets-2.3.3.min.js\", \"https://cdn.bokeh.org/bokeh/release/bokeh-tables-2.3.3.min.js\"];\n  var css_urls = [];\n  \n\n  var inline_js = [\n    function(Bokeh) {\n      Bokeh.set_log_level(\"info\");\n    },\n    function(Bokeh) {\n    \n    \n    }\n  ];\n\n  function run_inline_js() {\n    \n    if (root.Bokeh !== undefined || force === true) {\n      \n    for (var i = 0; i < inline_js.length; i++) {\n      inline_js[i].call(root, root.Bokeh);\n    }\n    if (force === true) {\n        display_loaded();\n      }} else if (Date.now() < root._bokeh_timeout) {\n      setTimeout(run_inline_js, 100);\n    } else if (!root._bokeh_failed_load) {\n      console.log(\"Bokeh: BokehJS failed to load within specified timeout.\");\n      root._bokeh_failed_load = true;\n    } else if (force !== true) {\n      var cell = $(document.getElementById(\"1231\")).parents('.cell').data().cell;\n      cell.output_area.append_execute_result(NB_LOAD_WARNING)\n    }\n\n  }\n\n  if (root._bokeh_is_loading === 0) {\n    console.debug(\"Bokeh: BokehJS loaded, going straight to plotting\");\n    run_inline_js();\n  } else {\n    load_libs(css_urls, js_urls, function() {\n      console.debug(\"Bokeh: BokehJS plotting callback run at\", now());\n      run_inline_js();\n    });\n  }\n}(window));"
     },
     "metadata": {},
     "output_type": "display_data"
    },
    {
     "data": {
      "text/html": [
       "\n",
       "\n",
       "\n",
       "\n",
       "\n",
       "\n",
       "  <div class=\"bk-root\" id=\"3036a103-9fcb-49d0-babe-b1ab1fcaa46a\" data-root-id=\"1232\"></div>\n"
      ]
     },
     "metadata": {},
     "output_type": "display_data"
    },
    {
     "data": {
      "application/javascript": [
       "(function(root) {\n",
       "  function embed_document(root) {\n",
       "    \n",
       "  var docs_json = {\"69bbb6a7-efdd-497d-a71a-ab66ce7591af\":{\"defs\":[],\"roots\":{\"references\":[{\"attributes\":{\"below\":[{\"id\":\"1241\"}],\"center\":[{\"id\":\"1244\"},{\"id\":\"1248\"},{\"id\":\"1279\"}],\"left\":[{\"id\":\"1245\"}],\"renderers\":[{\"id\":\"1266\"},{\"id\":\"1284\"},{\"id\":\"1303\"}],\"title\":{\"id\":\"1268\"},\"toolbar\":{\"id\":\"1256\"},\"x_range\":{\"id\":\"1233\"},\"x_scale\":{\"id\":\"1237\"},\"y_range\":{\"id\":\"1235\"},\"y_scale\":{\"id\":\"1239\"}},\"id\":\"1232\",\"subtype\":\"Figure\",\"type\":\"Plot\"},{\"attributes\":{},\"id\":\"1249\",\"type\":\"PanTool\"},{\"attributes\":{},\"id\":\"1274\",\"type\":\"BasicTickFormatter\"},{\"attributes\":{},\"id\":\"1233\",\"type\":\"DataRange1d\"},{\"attributes\":{},\"id\":\"1268\",\"type\":\"Title\"},{\"attributes\":{},\"id\":\"1297\",\"type\":\"UnionRenderers\"},{\"attributes\":{},\"id\":\"1275\",\"type\":\"AllLabels\"},{\"attributes\":{\"formatter\":{\"id\":\"1274\"},\"major_label_policy\":{\"id\":\"1275\"},\"ticker\":{\"id\":\"1246\"}},\"id\":\"1245\",\"type\":\"LinearAxis\"},{\"attributes\":{\"data_source\":{\"id\":\"1281\"},\"glyph\":{\"id\":\"1282\"},\"hover_glyph\":null,\"muted_glyph\":null,\"nonselection_glyph\":{\"id\":\"1283\"},\"view\":{\"id\":\"1285\"}},\"id\":\"1284\",\"type\":\"GlyphRenderer\"},{\"attributes\":{},\"id\":\"1239\",\"type\":\"LinearScale\"},{\"attributes\":{\"formatter\":{\"id\":\"1271\"},\"major_label_policy\":{\"id\":\"1272\"},\"ticker\":{\"id\":\"1242\"}},\"id\":\"1241\",\"type\":\"LinearAxis\"},{\"attributes\":{\"line_alpha\":0.1,\"line_color\":\"blue\",\"line_width\":3,\"x\":{\"field\":\"x\"},\"y\":{\"field\":\"y\"}},\"id\":\"1283\",\"type\":\"Line\"},{\"attributes\":{},\"id\":\"1254\",\"type\":\"HelpTool\"},{\"attributes\":{\"line_color\":\"green\",\"line_width\":3,\"x\":{\"field\":\"x\"},\"y\":{\"field\":\"y\"}},\"id\":\"1264\",\"type\":\"Line\"},{\"attributes\":{\"source\":{\"id\":\"1281\"}},\"id\":\"1285\",\"type\":\"CDSView\"},{\"attributes\":{\"data\":{\"x\":[1850,1851,1852,1853,1854,1855,1856,1857,1858,1859,1860,1861,1862,1863,1864,1865,1866,1867,1868,1869,1870,1871,1872,1873,1874,1875,1876,1877,1878,1879,1880,1881,1882,1883,1884,1885,1886,1887,1888,1889,1890,1891,1892,1893,1894,1895,1896,1897,1898,1899,1900,1901,1902,1903,1904,1905,1906,1907,1908,1909,1910,1911,1912,1913,1914,1915,1916,1917,1918,1919,1920,1921,1922,1923,1924,1925,1926,1927,1928,1929,1930,1931,1932,1933,1934,1935,1936,1937,1938,1939,1940,1941,1942,1943,1944,1945,1946,1947,1948,1949,1950,1951,1952,1953,1954,1955,1956,1957,1958,1959,1960,1961,1962,1963,1964,1965,1966,1967,1968,1969,1970,1971,1972,1973,1974,1975,1976,1977,1978,1979,1980,1981,1982,1983,1984,1985,1986,1987,1988,1989,1990,1991,1992,1993,1994,1995,1996,1997,1998,1999,2000,2001,2002,2003,2004,2005,2006,2007,2008,2009,2010,2011,2012,2013,2014,2015],\"y\":{\"__ndarray__\":\"dNpApw30KkC38/3UeCkqQP+NUEZvyypA0LArQO7FK0AfzBP1b/QrQBCfYVeA/CpAVOOlm8TwKkD34TPsCuAqQARWDi2yXStAk6ZUnH24K0DP91PjpesrQC2yne+ntitAPN9PjZd+LEBHKKO3ZT0rQFQqzj581itAdUzwYJ6YLECsY4IH81QsQEFg5dAiSyxAIyIiIiIyLEDdJAaBlSMsQOMz7AqQayxAP8OuALn3K0BImlJx9pEsQHOvuZA0BSxAMQisHFrEK0A7JngwTwQsQDPBg3mi3itANReSplTcLECDB/NE/XstQIts5/upISxAy+htWavTK0BpA5020BksQNEi2/l+OixA6SYxCKzsK0DziyW/WGIrQJx9+Ay70itA+FPjpZvkK0A/w64AuccrQLHkF0t+0StAQO41F5KWLEDYFSD3mtsrQBERERERESxAL2t1TPDwK0BgLPnFkt8rQNv5fmq8FCxANaXi7MMnLECnDXTaQDcsQFcOLbKdXyxAJJTR27J2LEB0IWlKxaksQIGVQ4tsxyxAjd6WtToGLUDRItv5frosQJVDi2znKyxAe1vW6pggLEAwT9S/ESosQLByaJHtfCxAF5KmVJydK0CkcD0K1xMsQBiSplScDSxAZfS2rNUxLEB0IWlKxfkrQBzotIFOGyxAne+nxktnLEAbL90kBqEsQJNfLPnF8ixAeDBP1L8xLEAwT9S/EdorQHDLWh0T7CtA9+Ez7ApQLEAVIPeaC0ksQN1rLiRN2SxADAIrhxZpLECUGARWDl0sQLnXXEiacixAvS1rdUywLEBlO99PjecsQJGmVJx9mCxAwBHK6G25LECHXQFyr+krQNejcD0KpyxA9P3UeOnWLEBtoNMGOt0sQOi0gU4bKCxA3Pl+arzELEB3Bci95pIsQBERERERoSxAm1Jx9uHzLEDX6pjgwUwtQJe1OiZ4MC1Ak6ZUnH0oLUDME/VvhBItQKjGSzeJES1A3Pl+arw0LUA7JngwT3QtQHE9Ctej4CxASwwCK4f2LEAAAAAAACAtQDhCGb0tOy1AOyZ4ME/ULEApXI/C9VgsQElTKs4+3CxAw64AudfsLECd76fGS0ctQJx9+Ay7kixAk6ZUnH2oLEBlrY4JHgwsQOdC0pSKwyxAFK5H4Xr0LEBoke18P9UsQMwT9W+EoixAUf9GKKMHLUADcq+5kBQtQLfz/dR4OS1AvS1rdUxQLEDAEcrobYksQP0boYzepixA5KWbxCDQLEBrvHSTGFQsQPxiyS+WbCxAWDm0yHbOLED4U+Olm7QsQB/ME/VvVCxAbxKDwMohLUBNqTj78CksQB/ME/VvxCxAa7x0kxgELEB/arx0k/gsQAAAAAAAkCxA7Xw/NV7qLECIiIiIiFgtQOPsw2fYtS1AME/UvxGaLEBwy1odE1wtQHyGXQFyryxAUNS/EcqILEB1TPBgnggtQHui/o1QZi1ASOF6FK7HLUCR7Xw/NT4tQPiaC0lT6i1A393d3d2tLUDYXEiaUvEsQCgxCKwcCi1ATDeJQWB1LUArzj58hg0uQLfz/dR4eS1AI9v5fmq8LUAZdgXIvVYuQLtJDAIr9y1AU3H24TPMLUCx5BdLflEuQBM8mCfqny5ATPBgnqh/LkDwp8ZLNwkuQEdvy1odsy5AoBov3SSGLkAta3VM8BAvQBgEVg4tYi5Ak6ZUnH2ILkDZzvdT4+UuQGX0tqzVkS5A5F5zIWmqLkCHpCkVZ78uQIR5ov6NoC5Ac6+5kDQlL0A=\",\"dtype\":\"float64\",\"order\":\"little\",\"shape\":[166]}},\"selected\":{\"id\":\"1317\"},\"selection_policy\":{\"id\":\"1318\"}},\"id\":\"1300\",\"type\":\"ColumnDataSource\"},{\"attributes\":{},\"id\":\"1242\",\"type\":\"BasicTicker\"},{\"attributes\":{\"data_source\":{\"id\":\"1300\"},\"glyph\":{\"id\":\"1301\"},\"hover_glyph\":null,\"muted_glyph\":null,\"nonselection_glyph\":{\"id\":\"1302\"},\"view\":{\"id\":\"1304\"}},\"id\":\"1303\",\"type\":\"GlyphRenderer\"},{\"attributes\":{\"line_color\":\"blue\",\"line_width\":3,\"x\":{\"field\":\"x\"},\"y\":{\"field\":\"y\"}},\"id\":\"1282\",\"type\":\"Line\"},{\"attributes\":{\"data\":{\"x\":[1850,1851,1852,1853,1854,1855,1856,1857,1858,1859,1860,1861,1862,1863,1864,1865,1866,1867,1868,1869,1870,1871,1872,1873,1874,1875,1876,1877,1878,1879,1880,1881,1882,1883,1884,1885,1886,1887,1888,1889,1890,1891,1892,1893,1894,1895,1896,1897,1898,1899,1900,1901,1902,1903,1904,1905,1906,1907,1908,1909,1910,1911,1912,1913,1914,1915,1916,1917,1918,1919,1920,1921,1922,1923,1924,1925,1926,1927,1928,1929,1930,1931,1932,1933,1934,1935,1936,1937,1938,1939,1940,1941,1942,1943,1944,1945,1946,1947,1948,1949,1950,1951,1952,1953,1954,1955,1956,1957,1958,1959,1960,1961,1962,1963,1964,1965,1966,1967,1968,1969,1970,1971,1972,1973,1974,1975,1976,1977,1978,1979,1980,1981,1982,1983,1984,1985,1986,1987,1988,1989,1990,1991,1992,1993,1994,1995,1996,1997,1998,1999,2000,2001,2002,2003,2004,2005,2006,2007,2008,2009,2010,2011,2012,2013,2014,2015],\"y\":{\"__ndarray__\":\"078Ryuht/z+VirMPn6EBQBkEVg4tsgJASOF6FK5H/j9k9Las1TH8PwtJUyrOPvs/G3YFyL1m+D8boYzelrX9P4lBYOXQ4gBAYVeA3GuuA0BBpw102sACQCcxCKwcGgJA6SYxCKzcA0BjyS+W/CIGQPvwGXYFSANAHRM8mCdqBEBpke18P3UDQByhjN6WtQNAjwkezBP1AkAsQO41F1IBQLJWxwQPZgNA3SQGgZVDAUAleDBP1H8BQMNn2BUgd/4/frHkF0t+AEDTBjptoNP5P62OCR7MEwFAvS1rdUwwBUDbQKcNdNoHQJWKsw+foQBAfYZdAXJvAEDcay4kTWkDQIfPsCtALgJAe82FpCkV/j93vp8aL136P7ByaJHt/P0/WMcED+aJ/z+bffgMu4L+P5A0peLsQ/8/PJgn6t/IAkDrJjEIrJz9P7ByaJHtfP4/tYFOG+i0/z+4rNUxwYP+Pz0K16Nw/QBAG+i0gU6bAEBeukkMAusAQAG511xIWgJA001iEFg5AUBKxdmHz3ADQGfYFSD3mgRABoGVQ4vsA0DhehSuR6EBQEVERERERAJAa3VM8GBeAUDl0CLb+b4CQFeA3Gsu5ANAUyrOPnwGAEDZzvdT42UBQJx9+Ay7QgFAdgXIveZCAUCzD59hVwACQM/3U+OlmwFANOwKkHuNAkC/WPKLJX8FQGdmZmZmJgVAmZmZmZkZAkDptIFOGygAQElTKs4+fAFAqH8jlNGbA0A3iUFg5ZADQKmqqqqqagVAd3d3d3d3A0BmZmZmZqYDQPNE/RuhDARAoUW28/1UBECzVscEDyYGQNR46SYxSARAf2q8dJNYBUB2TPBgnmgCQOtRuB6F6wVAGb0ta3WMBkCZmZmZmRkGQHKvuZA0ZQNASZpScfYhBkDByqFFtrMEQCrOPnyGHQVAAAAAAAAABkDdJAaBlUMIQNgVIPeaCwdAhaQpFWcfB0CfqH8jlFEHQDcXkqZUXAdApSkVZx9+B0AU9W+EMnoIQPs3Qhm9LQZAmCfq3wilBkB3d3d3d7cHQJNfLPnFUgdAhDJ6W9ZqBkAta3VM8KAEQLC5kDSl4gVAQ9KUirOPBkAQn2FXgNwIQG2g0wY67QZAWIDcay7kBkBYObTIdn4EQDVeukkMAghA0CLb+X7qCEBrdUzwYN4IQNCwK0DudQdAR+F6FK4HCUCfqH8jlBEIQJ19+Ay7QglAQO41F5ImBkAvJE2pOLsGQD98hl0BMgdAjCW/WPJLCEDP91PjpdsGQHTaQKcNtAdAZDvfT41XCEClm8QgsLIHQBDmifo3wgZAqTj78Bn2CkCPCR7MEzUHQAQP5on69whAYCz5xZLfBUAb6LSBTlsKQLhlrY4JXglAdCFpSsWZCUDX6pjgwTwLQG+EMnpbFg1AEcrobVnrCUARyuhtWWsMQFg5tMh2fglANKXi7MNnCUDBg3mi/o0KQOdC0pSKcwtACKwcWmQ7DUDgCGX0tqwKQIXrUbgeRQ1AFPVvhDL6DEDP91PjpRsKQAc6baDTRgpAOEIZvS0rC0BU46WbxKANQPNE/RuhDAtAay4kTam4DEAYS36x5JcPQBm9LWt1TA1AWx0TPJinDEC5kDSl4uwNQKuqqqqq6g5A9+Ez7ArQDkBdAXKvuVANQAFyr7mQdBBAOEIZvS3rDkC28/3UeAkQQBm9LWt1zA1A7MNn2BVgDkCSplScfRgQQNGUirMPnw5A80T9G6EMDkDkXnMhaUoPQBODwMqhBQ9ApeLsw2eYEEA=\",\"dtype\":\"float64\",\"order\":\"little\",\"shape\":[166]}},\"selected\":{\"id\":\"1296\"},\"selection_policy\":{\"id\":\"1297\"}},\"id\":\"1281\",\"type\":\"ColumnDataSource\"},{\"attributes\":{},\"id\":\"1235\",\"type\":\"DataRange1d\"},{\"attributes\":{\"label\":{\"value\":\"Min Temperature\"},\"renderers\":[{\"id\":\"1284\"}]},\"id\":\"1299\",\"type\":\"LegendItem\"},{\"attributes\":{},\"id\":\"1237\",\"type\":\"LinearScale\"},{\"attributes\":{\"glyph_width\":2,\"items\":[{\"id\":\"1280\"},{\"id\":\"1299\"},{\"id\":\"1320\"}],\"label_width\":2,\"location\":\"top_left\"},\"id\":\"1279\",\"type\":\"Legend\"},{\"attributes\":{},\"id\":\"1271\",\"type\":\"BasicTickFormatter\"},{\"attributes\":{},\"id\":\"1252\",\"type\":\"SaveTool\"},{\"attributes\":{},\"id\":\"1317\",\"type\":\"Selection\"},{\"attributes\":{},\"id\":\"1272\",\"type\":\"AllLabels\"},{\"attributes\":{\"source\":{\"id\":\"1263\"}},\"id\":\"1267\",\"type\":\"CDSView\"},{\"attributes\":{},\"id\":\"1276\",\"type\":\"Selection\"},{\"attributes\":{\"data\":{\"x\":[1850,1851,1852,1853,1854,1855,1856,1857,1858,1859,1860,1861,1862,1863,1864,1865,1866,1867,1868,1869,1870,1871,1872,1873,1874,1875,1876,1877,1878,1879,1880,1881,1882,1883,1884,1885,1886,1887,1888,1889,1890,1891,1892,1893,1894,1895,1896,1897,1898,1899,1900,1901,1902,1903,1904,1905,1906,1907,1908,1909,1910,1911,1912,1913,1914,1915,1916,1917,1918,1919,1920,1921,1922,1923,1924,1925,1926,1927,1928,1929,1930,1931,1932,1933,1934,1935,1936,1937,1938,1939,1940,1941,1942,1943,1944,1945,1946,1947,1948,1949,1950,1951,1952,1953,1954,1955,1956,1957,1958,1959,1960,1961,1962,1963,1964,1965,1966,1967,1968,1969,1970,1971,1972,1973,1974,1975,1976,1977,1978,1979,1980,1981,1982,1983,1984,1985,1986,1987,1988,1989,1990,1991,1992,1993,1994,1995,1996,1997,1998,1999,2000,2001,2002,2003,2004,2005,2006,2007,2008,2009,2010,2011,2012,2013,2014,2015],\"y\":{\"__ndarray__\":\"AbnXXEiaH0D/jVBGb1sgQCD3mgtJMyBAQhm9LWsVIECyne+nxmsgQGIQWDm0OCBAqH8jlNH7H0CvALnXXAgfQBfZzvdTMyBAGy/dJAaBIEAYS36x5NcfQIlBYOXQYh9AgwfzRP07HkDmifo3QjkgQLU6Jngw7x9AVZx9+AxbIEAcoYzelpUgQIakKRVn3yBA7+7u7u5+IEBtoNMGOt0gQM2FpCkVZyBAcfbhM+w6IEApFWcfPmMgQLes1THBsyBAy6FFtvPdIEDQaQOdNnAfQB8+w64AKSBAREREREQUIUBFtvP91KghQLWBThvoVCBAzczMzMw8IEChjN6WtYogQD98hl0BQiBArwC511zoH0DLWh0TPBgfQPs3Qhm9rR9AxSCwcmjRH0A8mCfq36gfQHWTGARWLiBAF9nO91OjIEBjyS+W/OIfQFfHBA/mCSBAgU4b6LQhIECTGARWDh0gQN9PjZduUiBAJQaBlUNLIEC4Za2OCW4gQJb8YskvliBAQWDl0CJbIEBx9uEz7MogQEvF2YfPACFAOfvwGXYVIUCfYVeA3JsgQF0Bcq+5cCBARf0boYwuIEAg95oLSXMgQCtA7jUXwiBAV8cED+bJH0Cj/o1QRl8gQCUGgZVDWyBAGQRWDi1yIEC0yHa+n1ogQOUXS36xVCBAnMQgsHKYIEB1kxgEVi4hQEPSlIqzLyFAF9nO91NzIECMJb9Y8gsgQGPJL5b8QiBAwcqhRbbDIEBH4XoUrrcgQDEIrBxaJCFAN4lBYOXQIEDflrU6JtggQPFgnqh/AyFAlYqzD58RIUB7zYWkKXUhQBvotIFOCyFAyuhtWatDIUBmrY4JHnwgQCfq3whlRCFAx0s3iUFwIUAMAiuHFmkhQHe+nxovrSBAgk4b6LRBIUDy0k1iEAghQM/3U+OlGyFAJb9Y8otlIUAU9W+EMrohQF9zIWlKhSFAblmrY4KHIUCjt2WtjokhQKtjggfzdCFAuddcSJqCIUBxPQrXo7AhQP+NUEZvKyFAvuZC0pRaIUDotIFOG5ghQHWTGARWfiFAI9v5fmosIUBfukkMArsgQLQPn2FXQCFAEVg5tMhGIUCPwvUoXL8hQNKUirMPHyFAcT0K16NAIUC/WPKLJY8gQNejcD0KdyFAXI/C9SiMIUDEZ9gVIHchQHsUrkfhKiFApeLsw2eYIUDUvxHK6H0hQIPAyqFFtiFAeDBP1L/RIEC3Za2OCQ4hQH8jlNHbMiFAXUiaUnFmIUCvALnXXAghQGcfPsOuMCFA/RuhjN5mIUCJQWDl0DIhQDCW/GLJ/yBAL90kBoHlIUCPwvUoXO8gQFFGb8tafSFAbxKDwMqxIEAX2c73U7MhQKabxCCwYiFAblmrY4J3IUDPsCtA7vUhQLWBThvoVCJApw102kBHIUBhV4Dcaw4iQA/mifo3YiFAN4lBYOVQIUCOUEZvy6ohQIDcay4k/SFAsStA7jVnIkDx0k1iENghQBhLfrHkdyJAn2FXgNxbIkA2F5KmVKwhQMXZh8+wuyFApHA9CtcTIkCCThvotLEiQJE0peLsEyJAPsOuALlnIkDZFSD3mgsjQEmaUnH2kSJA4cE8Uf9mIkBERERERNQiQHTaQKcNJCNAivo3QhkNI0CW/GLJL6YiQP0boYzeZiNAcT0K16MQI0D9G6GM3nYjQJMYBFYO3SJAppvEILACI0AFD+aJ+mcjQNV46SYxCCNAt6zVMcEDI0BKDAIrhzYjQFeA3GsuJCNAtvP91HipI0A=\",\"dtype\":\"float64\",\"order\":\"little\",\"shape\":[166]}},\"selected\":{\"id\":\"1276\"},\"selection_policy\":{\"id\":\"1277\"}},\"id\":\"1263\",\"type\":\"ColumnDataSource\"},{\"attributes\":{\"label\":{\"value\":\"Average Land Temperature\"},\"renderers\":[{\"id\":\"1266\"}]},\"id\":\"1280\",\"type\":\"LegendItem\"},{\"attributes\":{\"overlay\":{\"id\":\"1255\"}},\"id\":\"1251\",\"type\":\"BoxZoomTool\"},{\"attributes\":{},\"id\":\"1318\",\"type\":\"UnionRenderers\"},{\"attributes\":{\"axis\":{\"id\":\"1245\"},\"dimension\":1,\"ticker\":null},\"id\":\"1248\",\"type\":\"Grid\"},{\"attributes\":{},\"id\":\"1246\",\"type\":\"BasicTicker\"},{\"attributes\":{\"axis\":{\"id\":\"1241\"},\"band_fill_alpha\":0.05,\"band_fill_color\":\"navy\",\"ticker\":null},\"id\":\"1244\",\"type\":\"Grid\"},{\"attributes\":{},\"id\":\"1277\",\"type\":\"UnionRenderers\"},{\"attributes\":{\"line_alpha\":0.1,\"line_color\":\"green\",\"line_width\":3,\"x\":{\"field\":\"x\"},\"y\":{\"field\":\"y\"}},\"id\":\"1265\",\"type\":\"Line\"},{\"attributes\":{\"bottom_units\":\"screen\",\"fill_alpha\":0.5,\"fill_color\":\"lightgrey\",\"left_units\":\"screen\",\"level\":\"overlay\",\"line_alpha\":1.0,\"line_color\":\"black\",\"line_dash\":[4,4],\"line_width\":2,\"right_units\":\"screen\",\"syncable\":false,\"top_units\":\"screen\"},\"id\":\"1255\",\"type\":\"BoxAnnotation\"},{\"attributes\":{\"label\":{\"value\":\"Max Temperature\"},\"renderers\":[{\"id\":\"1303\"}]},\"id\":\"1320\",\"type\":\"LegendItem\"},{\"attributes\":{\"source\":{\"id\":\"1300\"}},\"id\":\"1304\",\"type\":\"CDSView\"},{\"attributes\":{},\"id\":\"1296\",\"type\":\"Selection\"},{\"attributes\":{\"data_source\":{\"id\":\"1263\"},\"glyph\":{\"id\":\"1264\"},\"hover_glyph\":null,\"muted_glyph\":null,\"nonselection_glyph\":{\"id\":\"1265\"},\"view\":{\"id\":\"1267\"}},\"id\":\"1266\",\"type\":\"GlyphRenderer\"},{\"attributes\":{},\"id\":\"1253\",\"type\":\"ResetTool\"},{\"attributes\":{\"line_color\":\"red\",\"line_width\":3,\"x\":{\"field\":\"x\"},\"y\":{\"field\":\"y\"}},\"id\":\"1301\",\"type\":\"Line\"},{\"attributes\":{\"active_multi\":null,\"tools\":[{\"id\":\"1249\"},{\"id\":\"1250\"},{\"id\":\"1251\"},{\"id\":\"1252\"},{\"id\":\"1253\"},{\"id\":\"1254\"}]},\"id\":\"1256\",\"type\":\"Toolbar\"},{\"attributes\":{},\"id\":\"1250\",\"type\":\"WheelZoomTool\"},{\"attributes\":{\"line_alpha\":0.1,\"line_color\":\"red\",\"line_width\":3,\"x\":{\"field\":\"x\"},\"y\":{\"field\":\"y\"}},\"id\":\"1302\",\"type\":\"Line\"}],\"root_ids\":[\"1232\"]},\"title\":\"Bokeh Application\",\"version\":\"2.3.3\"}};\n",
       "  var render_items = [{\"docid\":\"69bbb6a7-efdd-497d-a71a-ab66ce7591af\",\"root_ids\":[\"1232\"],\"roots\":{\"1232\":\"3036a103-9fcb-49d0-babe-b1ab1fcaa46a\"}}];\n",
       "  root.Bokeh.embed.embed_items_notebook(docs_json, render_items);\n",
       "\n",
       "  }\n",
       "  if (root.Bokeh !== undefined) {\n",
       "    embed_document(root);\n",
       "  } else {\n",
       "    var attempts = 0;\n",
       "    var timer = setInterval(function(root) {\n",
       "      if (root.Bokeh !== undefined) {\n",
       "        clearInterval(timer);\n",
       "        embed_document(root);\n",
       "      } else {\n",
       "        attempts++;\n",
       "        if (attempts > 100) {\n",
       "          clearInterval(timer);\n",
       "          console.log(\"Bokeh: ERROR: Unable to run BokehJS code because BokehJS library is missing\");\n",
       "        }\n",
       "      }\n",
       "    }, 10, root)\n",
       "  }\n",
       "})(window);"
      ],
      "application/vnd.bokehjs_exec.v0+json": ""
     },
     "metadata": {
      "application/vnd.bokehjs_exec.v0+json": {
       "id": "1232"
      }
     },
     "output_type": "display_data"
    }
   ],
   "source": [
    "### Analyzing Average, Minimum and Maximum Temprature since Year 1850\n",
    "output_notebook()\n",
    "\n",
    "x = global_temps_1850['Dates']\n",
    "y = global_temps_1850['Average Land Temperature']\n",
    "z = global_temps_1850['Min Temperature']\n",
    "t = global_temps_1850['Max Temperature']\n",
    "\n",
    "p = figure(plot_width=600, plot_height=600)\n",
    "\n",
    "p.line(x, y, legend_label=\"Average Land Temperature\", line_color=\"green\", line_width=3)\n",
    "\n",
    "p.line(x,z, legend_label=\"Min Temperature\", line_color=\"blue\", line_width=3)\n",
    "\n",
    "p.line(x, t, legend_label=\"Max Temperature\", line_color=\"red\", line_width=3)\n",
    "\n",
    "# change just some things about the x-grid\n",
    "p.xgrid.band_fill_alpha = 0.05\n",
    "p.xgrid.band_fill_color = \"navy\"\n",
    "\n",
    "p.legend.location = \"top_left\"\n",
    "p.legend.glyph_width = 2\n",
    "p.legend.label_width=2\n",
    "show(p)"
   ]
  },
  {
   "cell_type": "markdown",
   "id": "f9bd0a4c-ec30-443a-b818-1b68c95ab637",
   "metadata": {},
   "source": [
    "### <font color='#0bfc03'> Analysis\n",
    "**As we can clearly see global average, minimum and maximum temprature is increasing at a very high rate as year passes.**"
   ]
  },
  {
   "cell_type": "markdown",
   "id": "86f93b92-4b11-4ba9-849d-55dc25c954c8",
   "metadata": {},
   "source": [
    "===================================================================================================================================\n",
    "## <font color='#0bfc03'> <center> Linear Regression\n",
    "X = years <br>\n",
    "Y = Average Land and Ocean Temprature"
   ]
  },
  {
   "cell_type": "code",
   "execution_count": 14,
   "id": "723afa8d-25f0-46f3-84d8-15c57564cffa",
   "metadata": {},
   "outputs": [],
   "source": [
    "#Regression on all the data (without prediction) => See if a regression can be a good estimation\n",
    "temp=global_temps_1850['Average LO Temperature']\n",
    "time=global_temps_1850['Dates']\n",
    "# The data sets\n",
    "dates_X = time.iloc[0:,]\n",
    "# The targets \n",
    "temperature_y = temp.iloc[0:,]"
   ]
  },
  {
   "cell_type": "code",
   "execution_count": 15,
   "id": "8a23b58b-4cd4-4f9f-bde9-d69e2ca6399d",
   "metadata": {},
   "outputs": [
    {
     "name": "stdout",
     "output_type": "stream",
     "text": [
      "Train dataset years range: 1850 - 1981 \n",
      "Test dataset years range : 1982 - 2015\n",
      "Coefficients: \n",
      " [[0.00369454]]\n",
      "Intercept: \n",
      " [8.01927967]\n"
     ]
    }
   ],
   "source": [
    "dates_X_train, dates_X_test, temperature_y_train, temperature_y_test = train_test_split(time, \n",
    "                                                                        temp, \n",
    "                                                                        test_size = 0.2, \n",
    "                                                                        random_state = 0,\n",
    "                                                                        shuffle = False)\n",
    "print(\"Train dataset years range:\", dates_X_train.min(), \"-\", dates_X_train.max(), \"\\nTest dataset years range :\", dates_X_test.min(), \"-\", dates_X_test.max())\n",
    "reg = linear_model.LinearRegression()\n",
    "reg.fit(dates_X_train.to_frame(),temperature_y_train.to_frame())\n",
    "# Create linear regression object\n",
    "reg = linear_model.LinearRegression()\n",
    "\n",
    "# Train the model using the training sets\n",
    "reg.fit(dates_X_train.to_frame(),temperature_y_train.to_frame())\n",
    "\n",
    "# The coefficients\n",
    "print('Coefficients: \\n', reg.coef_)\n",
    "# The intercept\n",
    "print('Intercept: \\n', reg.intercept_)\n",
    "# The prediction\n",
    "y_pred=reg.predict(dates_X_test.to_frame())"
   ]
  },
  {
   "cell_type": "code",
   "execution_count": 16,
   "id": "e4fc060d-19e6-499f-824f-9153780d2344",
   "metadata": {},
   "outputs": [
    {
     "data": {
      "image/png": "[encoded data removed]",
      "text/plain": [
       "<Figure size 720x360 with 1 Axes>"
      ]
     },
     "metadata": {},
     "output_type": "display_data"
    },
    {
     "name": "stdout",
     "output_type": "stream",
     "text": [
      "Train Mean squared error: 0.00\n",
      "Train Variance score: 0.01\n",
      "Train R2 Score: 0.55\n",
      "Train Mean Euclidean Distance: 0.10\n",
      "Train Mean Absolute Error: 0.10\n",
      "Train Mean Squared Error: 0.02\n",
      "Train Root Mean Squared Error: 0.13\n"
     ]
    }
   ],
   "source": [
    "sns.set(rc={'axes.facecolor':'white', 'figure.facecolor':'white'})\n",
    "date_temp_train = pd.DataFrame({'dates_X_train':dates_X_train, 'temperature_y_train':temperature_y_train})\n",
    "date_output_train = pd.DataFrame({'dates_X_train':dates_X_train, 'y_pred':reg.predict(dates_X_train.to_frame()).ravel().tolist()})\n",
    "fig, ax = plt.subplots(figsize=(10,5))\n",
    "actual = sns.scatterplot(x='dates_X_train', y='temperature_y_train', data=date_temp_train, color='g', label='Annual Mean temperature')\n",
    "predicted = sns.scatterplot(x='dates_X_train', y='y_pred', data=date_output_train, color='b', label='Forecast Temperature by Regression')\n",
    "plt.xlabel(\"Year\")\n",
    "plt.ylabel(\"Annual Mean temperature\")\n",
    "plt.title(\"Linear regression curve on the Predicted Train values(Year 1850 to 1971)\")\n",
    "plt.legend()\n",
    "plt.show()\n",
    "# The mean squared error\n",
    "y_pred_train = reg.predict(dates_X_train.to_frame())\n",
    "print(\"Train Mean squared error: %.2f\"% np.mean(y_pred_train - temperature_y_train.to_frame()) ** 2)\n",
    "# Explained variance score: 1 is perfect prediction\n",
    "print('Train Variance score: %.2f' % explained_variance_score(dates_X_train.to_frame(), y_pred_train))\n",
    "print('Train R2 Score: %.2f' % reg.score(dates_X_train.to_frame(), temperature_y_train.to_frame()))\n",
    "print('Train Mean Euclidean Distance: %.2f' % abs(temperature_y_train.to_frame()-y_pred_train).mean())\n",
    "print('Train Mean Absolute Error: %.2f' % metrics.mean_absolute_error(temperature_y_train.to_frame(), y_pred_train))\n",
    "print('Train Mean Squared Error: %.2f' % metrics.mean_squared_error(temperature_y_train.to_frame(), y_pred_train))\n",
    "print('Train Root Mean Squared Error: %.2f' % np.sqrt(metrics.mean_squared_error(temperature_y_train.to_frame(), y_pred_train)))"
   ]
  },
  {
   "cell_type": "code",
   "execution_count": 17,
   "id": "706c6d4b-41b3-42e7-9b9f-47bf7160c071",
   "metadata": {},
   "outputs": [
    {
     "data": {
      "image/png": "[encoded data removed]",
      "text/plain": [
       "<Figure size 720x360 with 1 Axes>"
      ]
     },
     "metadata": {},
     "output_type": "display_data"
    },
    {
     "name": "stdout",
     "output_type": "stream",
     "text": [
      "Test Mean squared error: 0.07\n",
      "Test Variance score: 0.31\n",
      "Test R2 Score: -1.65\n",
      "Test Mean Euclidean Distance: 0.26\n",
      "Test Mean Absolute Error: 0.26\n",
      "Test Mean Squared Error: 0.09\n",
      "Test Root Mean Squared Error: 0.30\n"
     ]
    }
   ],
   "source": [
    "sns.set(rc={'axes.facecolor':'white', 'figure.facecolor':'white'})\n",
    "date_temp_test = pd.DataFrame({'dates_X_test':dates_X_test, 'temperature_y_test':temperature_y_test})\n",
    "date_output_test = pd.DataFrame({'dates_X_test':dates_X_test, 'y_pred':y_pred.ravel().tolist()})\n",
    "fig, ax = plt.subplots(figsize=(10,5))\n",
    "actual = sns.scatterplot(x='dates_X_test', y='temperature_y_test', data=date_temp_test, color='g', label='Annual Mean temperature')\n",
    "predicted = sns.scatterplot(x='dates_X_test', y='y_pred', data=date_output_test, color='b', label='Forecast Temperature by Regression')\n",
    "plt.xlabel(\"Year\")\n",
    "plt.ylabel(\"Annual Mean temperature\")\n",
    "plt.title(\"Linear regression curve on the Predicted Test values(Year 1972 to 2015)\")\n",
    "plt.legend()\n",
    "plt.show()\n",
    "# The mean squared error\n",
    "print(\"Test Mean squared error: %.2f\"% np.mean(y_pred - temperature_y_test.to_frame()) ** 2)\n",
    "# Explained variance score: 1 is perfect prediction\n",
    "print('Test Variance score: %.2f' % explained_variance_score(temperature_y_test.to_frame(), y_pred))\n",
    "r2_score = reg.score(dates_X_test.to_frame(), temperature_y_test.to_frame())\n",
    "print(\"Test R2 Score: %.2f\"% r2_score)\n",
    "print('Test Mean Euclidean Distance: %.2f' % abs(temperature_y_test.to_frame()-y_pred).mean())\n",
    "print('Test Mean Absolute Error: %.2f' % metrics.mean_absolute_error(temperature_y_test.to_frame(), y_pred))\n",
    "print('Test Mean Squared Error: %.2f' % metrics.mean_squared_error(temperature_y_test.to_frame(), y_pred))\n",
    "print('Test Root Mean Squared Error: %.2f' % np.sqrt(metrics.mean_squared_error(temperature_y_test.to_frame(), y_pred)))"
   ]
  },
  {
   "cell_type": "code",
   "execution_count": 18,
   "id": "4cdfee6d-7a6e-4885-a5c6-b87e35ee7293",
   "metadata": {},
   "outputs": [
    {
     "data": {
      "text/plain": [
       "132"
      ]
     },
     "execution_count": 18,
     "metadata": {},
     "output_type": "execute_result"
    }
   ],
   "source": [
    "len(dates_X_train)"
   ]
  },
  {
   "cell_type": "code",
   "execution_count": 19,
   "id": "1738893d-4050-4ea4-8ee9-c339f1216359",
   "metadata": {},
   "outputs": [
    {
     "data": {
      "text/plain": [
       "array([[15.467481  ],\n",
       "       [15.47117554],\n",
       "       [15.47487008],\n",
       "       [15.47856463],\n",
       "       [15.48225917],\n",
       "       [15.48595372],\n",
       "       [15.48964826]])"
      ]
     },
     "execution_count": 19,
     "metadata": {},
     "output_type": "execute_result"
    }
   ],
   "source": [
    "x_new = pd.Series([2016, 2017, 2018, 2019, 2020, 2021, 2022]).to_frame()\n",
    "x_new.columns = ['Dates']\n",
    "y_pred_2016=reg.predict(x_new)\n",
    "y_pred_2016"
   ]
  },
  {
   "cell_type": "markdown",
   "id": "581e23ef-c89c-448b-a604-84a6e86c0828",
   "metadata": {},
   "source": [
    "===================================================================================================================================\n",
    "## <font color='#0bfc03'> <center> Polynomial Regression\n",
    "X = years <br>\n",
    "Y = Average Land and Ocean Temprature"
   ]
  },
  {
   "cell_type": "code",
   "execution_count": 20,
   "id": "fb05639b-26cc-43e2-b83d-3654a54782b0",
   "metadata": {},
   "outputs": [
    {
     "name": "stdout",
     "output_type": "stream",
     "text": [
      "Coefficients: \n",
      " [[ 1.77831949e+00 -9.63360222e-04  1.74023227e-07]]\n",
      "Intercept: \n",
      " [-1079.70232376]\n"
     ]
    }
   ],
   "source": [
    "#Polynomial Regression t^2 + t^3\n",
    "\n",
    "#Regression on all the data (without prediction) => See if a regression can be a good estimation\n",
    "\n",
    "#Define the input and output\n",
    "time=pd.DataFrame()\n",
    "time[\"Dates\"]=global_temps_1850['Dates']\n",
    "time[\"Dates^2\"]=global_temps_1850['Dates']*global_temps_1850['Dates']\n",
    "time[\"Dates^3\"]=global_temps_1850['Dates']*global_temps_1850['Dates']*global_temps_1850['Dates']\n",
    "temp=global_temps_1850['Average LO Temperature']\n",
    "\n",
    "\n",
    "# The data sets\n",
    "dates_X = time.iloc[0:,0]\n",
    "\n",
    "# The targets \n",
    "temperature_y = temp.iloc[0:,]\n",
    "\n",
    "# Create linear regression object\n",
    "reg = linear_model.LinearRegression()\n",
    "\n",
    "# Train the model using the training sets\n",
    "reg.fit(time.iloc[0:,],temperature_y.to_frame())\n",
    "\n",
    "# The prediction\n",
    "output_reg=reg.predict(time.iloc[0:,])\n",
    "output_multiple=np.copy(output_reg)\n",
    "output=pd.DataFrame(index=pd.DataFrame(output_multiple).index.values)\n",
    "# The coefficients\n",
    "print('Coefficients: \\n', reg.coef_)\n",
    "# The intercept\n",
    "print('Intercept: \\n', reg.intercept_)"
   ]
  },
  {
   "cell_type": "code",
   "execution_count": 21,
   "id": "860690d7-d0fd-4ae3-af70-4dd023814ac0",
   "metadata": {},
   "outputs": [
    {
     "name": "stdout",
     "output_type": "stream",
     "text": [
      "Train dataset years range: 1850 - 1981 \n",
      "Test dataset years range : 1982 - 2015\n",
      "Coefficients: \n",
      " [[-5.72318287e+00  2.95934319e-03 -5.09568484e-07]]\n",
      "Intercept: \n",
      " [3700.93125946]\n",
      "Mean squared error: 0.12\n",
      "Variance score: -2.32\n"
     ]
    }
   ],
   "source": [
    "#Polynomial Regression t^2 + t^3\n",
    "\n",
    "#Define the input and output\n",
    "temp=global_temps_1850['Average LO Temperature']\n",
    "time=pd.DataFrame()\n",
    "time[\"Dates\"]=global_temps_1850['Dates']\n",
    "time[\"Dates^2\"]=global_temps_1850['Dates']*global_temps_1850['Dates']\n",
    "time[\"Dates^3\"]=global_temps_1850['Dates']*global_temps_1850['Dates']*global_temps_1850['Dates']\n",
    "\n",
    "dates_X_train, dates_X_test, temperature_y_train, temperature_y_test = train_test_split(time, \n",
    "                                                                        temp, \n",
    "                                                                        test_size = 0.2, \n",
    "                                                                        random_state = 0,\n",
    "                                                                        shuffle = False)\n",
    "\n",
    "print(\"Train dataset years range:\", dates_X_train.iloc[0:,0].min(), \"-\", dates_X_train.iloc[0:,0].max(), \"\\nTest dataset years range :\", dates_X_test.iloc[0:,0].min(), \"-\", dates_X_test.iloc[0:,0].max())\n",
    "# Create linear regression object\n",
    "reg = linear_model.LinearRegression()\n",
    "# Train the model using the training sets\n",
    "reg.fit(dates_X_train,temperature_y_train.to_frame())\n",
    "# The coefficients\n",
    "print('Coefficients: \\n', reg.coef_)\n",
    "# The intercept\n",
    "print('Intercept: \\n', reg.intercept_)\n",
    "# The prediction\n",
    "output_multiple=reg.predict(dates_X_test)\n",
    "# The mean squared error\n",
    "print(\"Mean squared error: %.2f\"\n",
    "      % np.mean((reg.predict(dates_X_test) - temperature_y_test.to_frame()) ** 2))\n",
    "# Explained variance score: 1 is perfect prediction\n",
    "print('Variance score: %.2f' % reg.score(dates_X_test, temperature_y_test.to_frame()))"
   ]
  },
  {
   "cell_type": "code",
   "execution_count": 22,
   "id": "faa63cee-16f7-4cb4-92a7-eadc2fc635e4",
   "metadata": {},
   "outputs": [
    {
     "name": "stdout",
     "output_type": "stream",
     "text": [
      "Test Mean squared error: 0.08\n",
      "Test Variance score: -0.04\n",
      "Test R2 Score: -2.32\n",
      "Test Mean Euclidean Distance: 0.29\n",
      "Test Mean Absolute Error: 0.29\n",
      "Test Mean Squared Error: 0.12\n",
      "Test Root Mean Squared Error: 0.34\n"
     ]
    },
    {
     "data": {
      "image/png": "[encoded data removed]",
      "text/plain": [
       "<Figure size 720x360 with 1 Axes>"
      ]
     },
     "metadata": {},
     "output_type": "display_data"
    }
   ],
   "source": [
    "# Linear regression curve on the predicted values\n",
    "\n",
    "# Multiple Linear Regression: t,t^2, t^3: Regression done on the values between 1850 and 1971 and testes between 1972 and 2016\n",
    "fig, axes = plt.subplots(figsize=(10,5))\n",
    "axes.set_ylabel('Average temperature', fontsize=12)\n",
    "axes.set_xlabel('Year', fontsize=12)\n",
    "# \n",
    "plt.plot(dates_X_test.iloc[:,0], temperature_y_test, label='Annual Mean temperature', color='g')\n",
    "plt.plot(dates_X_test.iloc[:,0], output_multiple, label='Forecast Reg',color='b')\n",
    "y_pred = reg.predict(dates_X_test)\n",
    "# The mean squared error\n",
    "print(\"Test Mean squared error: %.2f\"% np.mean(y_pred - temperature_y_test.to_frame()) ** 2)\n",
    "# Explained variance score: 1 is perfect prediction\n",
    "print('Test Variance score: %.2f' % explained_variance_score(temperature_y_test.to_frame(), y_pred))\n",
    "r2_score = reg.score(dates_X_test, temperature_y_test.to_frame())\n",
    "print(\"Test R2 Score: %.2f\"% r2_score)\n",
    "print('Test Mean Euclidean Distance: %.2f' % abs(temperature_y_test.to_frame()-y_pred).mean())\n",
    "print('Test Mean Absolute Error: %.2f' % metrics.mean_absolute_error(temperature_y_test.to_frame(), y_pred))\n",
    "print('Test Mean Squared Error: %.2f' % metrics.mean_squared_error(temperature_y_test.to_frame(), y_pred))\n",
    "print('Test Root Mean Squared Error: %.2f' % np.sqrt(metrics.mean_squared_error(temperature_y_test.to_frame(), y_pred)))"
   ]
  },
  {
   "cell_type": "markdown",
   "id": "d6e7dca5-bff8-4391-be75-526db3bea309",
   "metadata": {},
   "source": [
    "### <font color='#0bfc03'> Analysis\n",
    "**As we can clearly see, there is huge change in temprature pattern after 1990 and it seems not possible to predict temprature for year>1990 from historiacal tempratures**"
   ]
  },
  {
   "cell_type": "markdown",
   "id": "a3f45daa-9675-411e-b583-823098275464",
   "metadata": {},
   "source": [
    "### <font color='#0bfc03'> Correlation Matrix"
   ]
  },
  {
   "cell_type": "code",
   "execution_count": 23,
   "id": "64f435fd-6ec9-4956-9d06-4568fa780fe9",
   "metadata": {},
   "outputs": [
    {
     "data": {
      "text/plain": [
       "<AxesSubplot:>"
      ]
     },
     "execution_count": 23,
     "metadata": {},
     "output_type": "execute_result"
    },
    {
     "data": {
      "image/png": "[encoded data removed]",
      "text/plain": [
       "<Figure size 432x288 with 2 Axes>"
      ]
     },
     "metadata": {},
     "output_type": "display_data"
    }
   ],
   "source": [
    "#Correlation Matrix for the following features : LandAverageTemperature, LandMaxTemperature, LandMinTemperature,LandAndOceanAverageTemperature\n",
    "\n",
    "global_temperatures=pd.read_csv(\"input/GlobalTemperatures.csv\", sep=',')\n",
    "global_temperatures['dt'] = pd.to_datetime(global_temperatures['dt'])\n",
    "global_temperatures = global_temperatures.drop([\"LandAverageTemperatureUncertainty\",\n",
    "                                                \"LandMaxTemperatureUncertainty\",\n",
    "                                                \"LandMinTemperatureUncertainty\",\n",
    "                                                \"LandAndOceanAverageTemperatureUncertainty\"], axis=1)\n",
    "global_temperatures=global_temperatures.dropna()\n",
    "corr=global_temperatures.corr()\n",
    "\n",
    "# Heatmap for the previous correlation matrix\n",
    "sns.heatmap(corr,xticklabels=['LandAverage','LandMax','LandMin','LandOcean'], \n",
    "            yticklabels=['LandAverage','LandMax','LandMin','LandOcean'], annot=True, cmap=\"YlGnBu\")"
   ]
  },
  {
   "cell_type": "code",
   "execution_count": 24,
   "id": "45e9f589-37cc-4a81-957d-88bd5cbaf50c",
   "metadata": {},
   "outputs": [
    {
     "data": {
      "text/html": [
       "<div>\n",
       "<style scoped>\n",
       "    .dataframe tbody tr th:only-of-type {\n",
       "        vertical-align: middle;\n",
       "    }\n",
       "\n",
       "    .dataframe tbody tr th {\n",
       "        vertical-align: top;\n",
       "    }\n",
       "\n",
       "    .dataframe thead th {\n",
       "        text-align: right;\n",
       "    }\n",
       "</style>\n",
       "<table border=\"1\" class=\"dataframe\">\n",
       "  <thead>\n",
       "    <tr style=\"text-align: right;\">\n",
       "      <th></th>\n",
       "      <th>dt</th>\n",
       "      <th>LandAverageTemperature</th>\n",
       "      <th>LandMaxTemperature</th>\n",
       "      <th>LandMinTemperature</th>\n",
       "      <th>LandAndOceanAverageTemperature</th>\n",
       "    </tr>\n",
       "  </thead>\n",
       "  <tbody>\n",
       "    <tr>\n",
       "      <th>1200</th>\n",
       "      <td>1850-01-01</td>\n",
       "      <td>0.749</td>\n",
       "      <td>8.242</td>\n",
       "      <td>-3.206</td>\n",
       "      <td>12.833</td>\n",
       "    </tr>\n",
       "    <tr>\n",
       "      <th>1201</th>\n",
       "      <td>1850-02-01</td>\n",
       "      <td>3.071</td>\n",
       "      <td>9.970</td>\n",
       "      <td>-2.291</td>\n",
       "      <td>13.588</td>\n",
       "    </tr>\n",
       "    <tr>\n",
       "      <th>1202</th>\n",
       "      <td>1850-03-01</td>\n",
       "      <td>4.954</td>\n",
       "      <td>10.347</td>\n",
       "      <td>-1.905</td>\n",
       "      <td>14.043</td>\n",
       "    </tr>\n",
       "    <tr>\n",
       "      <th>1203</th>\n",
       "      <td>1850-04-01</td>\n",
       "      <td>7.217</td>\n",
       "      <td>12.934</td>\n",
       "      <td>1.018</td>\n",
       "      <td>14.667</td>\n",
       "    </tr>\n",
       "    <tr>\n",
       "      <th>1204</th>\n",
       "      <td>1850-05-01</td>\n",
       "      <td>10.004</td>\n",
       "      <td>15.655</td>\n",
       "      <td>3.811</td>\n",
       "      <td>15.507</td>\n",
       "    </tr>\n",
       "    <tr>\n",
       "      <th>...</th>\n",
       "      <td>...</td>\n",
       "      <td>...</td>\n",
       "      <td>...</td>\n",
       "      <td>...</td>\n",
       "      <td>...</td>\n",
       "    </tr>\n",
       "    <tr>\n",
       "      <th>3187</th>\n",
       "      <td>2015-08-01</td>\n",
       "      <td>14.755</td>\n",
       "      <td>20.699</td>\n",
       "      <td>9.005</td>\n",
       "      <td>17.589</td>\n",
       "    </tr>\n",
       "    <tr>\n",
       "      <th>3188</th>\n",
       "      <td>2015-09-01</td>\n",
       "      <td>12.999</td>\n",
       "      <td>18.845</td>\n",
       "      <td>7.199</td>\n",
       "      <td>17.049</td>\n",
       "    </tr>\n",
       "    <tr>\n",
       "      <th>3189</th>\n",
       "      <td>2015-10-01</td>\n",
       "      <td>10.801</td>\n",
       "      <td>16.450</td>\n",
       "      <td>5.232</td>\n",
       "      <td>16.290</td>\n",
       "    </tr>\n",
       "    <tr>\n",
       "      <th>3190</th>\n",
       "      <td>2015-11-01</td>\n",
       "      <td>7.433</td>\n",
       "      <td>12.892</td>\n",
       "      <td>2.157</td>\n",
       "      <td>15.252</td>\n",
       "    </tr>\n",
       "    <tr>\n",
       "      <th>3191</th>\n",
       "      <td>2015-12-01</td>\n",
       "      <td>5.518</td>\n",
       "      <td>10.725</td>\n",
       "      <td>0.287</td>\n",
       "      <td>14.774</td>\n",
       "    </tr>\n",
       "  </tbody>\n",
       "</table>\n",
       "<p>1992 rows × 5 columns</p>\n",
       "</div>"
      ],
      "text/plain": [
       "             dt  LandAverageTemperature  LandMaxTemperature  \\\n",
       "1200 1850-01-01                   0.749               8.242   \n",
       "1201 1850-02-01                   3.071               9.970   \n",
       "1202 1850-03-01                   4.954              10.347   \n",
       "1203 1850-04-01                   7.217              12.934   \n",
       "1204 1850-05-01                  10.004              15.655   \n",
       "...         ...                     ...                 ...   \n",
       "3187 2015-08-01                  14.755              20.699   \n",
       "3188 2015-09-01                  12.999              18.845   \n",
       "3189 2015-10-01                  10.801              16.450   \n",
       "3190 2015-11-01                   7.433              12.892   \n",
       "3191 2015-12-01                   5.518              10.725   \n",
       "\n",
       "      LandMinTemperature  LandAndOceanAverageTemperature  \n",
       "1200              -3.206                          12.833  \n",
       "1201              -2.291                          13.588  \n",
       "1202              -1.905                          14.043  \n",
       "1203               1.018                          14.667  \n",
       "1204               3.811                          15.507  \n",
       "...                  ...                             ...  \n",
       "3187               9.005                          17.589  \n",
       "3188               7.199                          17.049  \n",
       "3189               5.232                          16.290  \n",
       "3190               2.157                          15.252  \n",
       "3191               0.287                          14.774  \n",
       "\n",
       "[1992 rows x 5 columns]"
      ]
     },
     "execution_count": 24,
     "metadata": {},
     "output_type": "execute_result"
    }
   ],
   "source": [
    "global_temperatures"
   ]
  },
  {
   "cell_type": "code",
   "execution_count": 25,
   "id": "05513a18-0e9f-4c82-8293-895682e403d3",
   "metadata": {},
   "outputs": [
    {
     "data": {
      "text/html": [
       "<div>\n",
       "<style scoped>\n",
       "    .dataframe tbody tr th:only-of-type {\n",
       "        vertical-align: middle;\n",
       "    }\n",
       "\n",
       "    .dataframe tbody tr th {\n",
       "        vertical-align: top;\n",
       "    }\n",
       "\n",
       "    .dataframe thead th {\n",
       "        text-align: right;\n",
       "    }\n",
       "</style>\n",
       "<table border=\"1\" class=\"dataframe\">\n",
       "  <thead>\n",
       "    <tr style=\"text-align: right;\">\n",
       "      <th></th>\n",
       "      <th>dt</th>\n",
       "      <th>LandAverageTemperature</th>\n",
       "      <th>LandMaxTemperature</th>\n",
       "      <th>LandMinTemperature</th>\n",
       "      <th>LandAndOceanAverageTemperature</th>\n",
       "    </tr>\n",
       "  </thead>\n",
       "  <tbody>\n",
       "    <tr>\n",
       "      <th>1212</th>\n",
       "      <td>1851-01-01</td>\n",
       "      <td>2.431</td>\n",
       "      <td>8.951</td>\n",
       "      <td>-2.443</td>\n",
       "      <td>13.245</td>\n",
       "    </tr>\n",
       "    <tr>\n",
       "      <th>1213</th>\n",
       "      <td>1851-02-01</td>\n",
       "      <td>2.508</td>\n",
       "      <td>9.808</td>\n",
       "      <td>-1.507</td>\n",
       "      <td>13.331</td>\n",
       "    </tr>\n",
       "    <tr>\n",
       "      <th>1214</th>\n",
       "      <td>1851-03-01</td>\n",
       "      <td>4.192</td>\n",
       "      <td>11.507</td>\n",
       "      <td>-0.700</td>\n",
       "      <td>13.897</td>\n",
       "    </tr>\n",
       "    <tr>\n",
       "      <th>1215</th>\n",
       "      <td>1851-04-01</td>\n",
       "      <td>7.287</td>\n",
       "      <td>14.236</td>\n",
       "      <td>2.331</td>\n",
       "      <td>14.640</td>\n",
       "    </tr>\n",
       "    <tr>\n",
       "      <th>1216</th>\n",
       "      <td>1851-05-01</td>\n",
       "      <td>11.113</td>\n",
       "      <td>15.010</td>\n",
       "      <td>4.136</td>\n",
       "      <td>15.771</td>\n",
       "    </tr>\n",
       "    <tr>\n",
       "      <th>1217</th>\n",
       "      <td>1851-06-01</td>\n",
       "      <td>13.418</td>\n",
       "      <td>17.288</td>\n",
       "      <td>6.374</td>\n",
       "      <td>16.496</td>\n",
       "    </tr>\n",
       "    <tr>\n",
       "      <th>1218</th>\n",
       "      <td>1851-07-01</td>\n",
       "      <td>14.531</td>\n",
       "      <td>17.103</td>\n",
       "      <td>7.425</td>\n",
       "      <td>16.831</td>\n",
       "    </tr>\n",
       "    <tr>\n",
       "      <th>1219</th>\n",
       "      <td>1851-08-01</td>\n",
       "      <td>13.751</td>\n",
       "      <td>17.361</td>\n",
       "      <td>6.595</td>\n",
       "      <td>16.621</td>\n",
       "    </tr>\n",
       "    <tr>\n",
       "      <th>1220</th>\n",
       "      <td>1851-09-01</td>\n",
       "      <td>11.677</td>\n",
       "      <td>16.360</td>\n",
       "      <td>5.525</td>\n",
       "      <td>16.058</td>\n",
       "    </tr>\n",
       "    <tr>\n",
       "      <th>1221</th>\n",
       "      <td>1851-10-01</td>\n",
       "      <td>9.122</td>\n",
       "      <td>14.961</td>\n",
       "      <td>3.298</td>\n",
       "      <td>15.213</td>\n",
       "    </tr>\n",
       "    <tr>\n",
       "      <th>1222</th>\n",
       "      <td>1851-11-01</td>\n",
       "      <td>4.973</td>\n",
       "      <td>7.951</td>\n",
       "      <td>-1.345</td>\n",
       "      <td>14.161</td>\n",
       "    </tr>\n",
       "    <tr>\n",
       "      <th>1223</th>\n",
       "      <td>1851-12-01</td>\n",
       "      <td>3.140</td>\n",
       "      <td>6.436</td>\n",
       "      <td>-3.242</td>\n",
       "      <td>13.638</td>\n",
       "    </tr>\n",
       "  </tbody>\n",
       "</table>\n",
       "</div>"
      ],
      "text/plain": [
       "             dt  LandAverageTemperature  LandMaxTemperature  \\\n",
       "1212 1851-01-01                   2.431               8.951   \n",
       "1213 1851-02-01                   2.508               9.808   \n",
       "1214 1851-03-01                   4.192              11.507   \n",
       "1215 1851-04-01                   7.287              14.236   \n",
       "1216 1851-05-01                  11.113              15.010   \n",
       "1217 1851-06-01                  13.418              17.288   \n",
       "1218 1851-07-01                  14.531              17.103   \n",
       "1219 1851-08-01                  13.751              17.361   \n",
       "1220 1851-09-01                  11.677              16.360   \n",
       "1221 1851-10-01                   9.122              14.961   \n",
       "1222 1851-11-01                   4.973               7.951   \n",
       "1223 1851-12-01                   3.140               6.436   \n",
       "\n",
       "      LandMinTemperature  LandAndOceanAverageTemperature  \n",
       "1212              -2.443                          13.245  \n",
       "1213              -1.507                          13.331  \n",
       "1214              -0.700                          13.897  \n",
       "1215               2.331                          14.640  \n",
       "1216               4.136                          15.771  \n",
       "1217               6.374                          16.496  \n",
       "1218               7.425                          16.831  \n",
       "1219               6.595                          16.621  \n",
       "1220               5.525                          16.058  \n",
       "1221               3.298                          15.213  \n",
       "1222              -1.345                          14.161  \n",
       "1223              -3.242                          13.638  "
      ]
     },
     "execution_count": 25,
     "metadata": {},
     "output_type": "execute_result"
    }
   ],
   "source": [
    "global_temperatures[global_temperatures['dt'].map(lambda x: x.year) == 1851]"
   ]
  },
  {
   "cell_type": "markdown",
   "id": "ab2f3345-8c76-468e-b271-9597d93a47ef",
   "metadata": {},
   "source": [
    "### <font color='#0bfc03'> Different Regression Algorithm\n",
    "X = LandMaxTemperature,\tLandMinTemperature and LandAndOceanAverageTemperature \n",
    "<br>\n",
    "Y = LandAverageTemperature\t"
   ]
  },
  {
   "cell_type": "code",
   "execution_count": 26,
   "id": "c94fb936-1d10-42d1-8d73-03793a47233d",
   "metadata": {},
   "outputs": [
    {
     "data": {
      "text/html": [
       "<div>\n",
       "<style scoped>\n",
       "    .dataframe tbody tr th:only-of-type {\n",
       "        vertical-align: middle;\n",
       "    }\n",
       "\n",
       "    .dataframe tbody tr th {\n",
       "        vertical-align: top;\n",
       "    }\n",
       "\n",
       "    .dataframe thead th {\n",
       "        text-align: right;\n",
       "    }\n",
       "</style>\n",
       "<table border=\"1\" class=\"dataframe\">\n",
       "  <thead>\n",
       "    <tr style=\"text-align: right;\">\n",
       "      <th></th>\n",
       "      <th>dt</th>\n",
       "      <th>LandAverageTemperature</th>\n",
       "      <th>LandMaxTemperature</th>\n",
       "      <th>LandMinTemperature</th>\n",
       "      <th>LandAndOceanAverageTemperature</th>\n",
       "    </tr>\n",
       "  </thead>\n",
       "  <tbody>\n",
       "    <tr>\n",
       "      <th>1201</th>\n",
       "      <td>1850-02-01</td>\n",
       "      <td>3.071</td>\n",
       "      <td>9.970</td>\n",
       "      <td>-2.291</td>\n",
       "      <td>13.588</td>\n",
       "    </tr>\n",
       "    <tr>\n",
       "      <th>1202</th>\n",
       "      <td>1850-03-01</td>\n",
       "      <td>4.954</td>\n",
       "      <td>10.347</td>\n",
       "      <td>-1.905</td>\n",
       "      <td>14.043</td>\n",
       "    </tr>\n",
       "    <tr>\n",
       "      <th>1203</th>\n",
       "      <td>1850-04-01</td>\n",
       "      <td>7.217</td>\n",
       "      <td>12.934</td>\n",
       "      <td>1.018</td>\n",
       "      <td>14.667</td>\n",
       "    </tr>\n",
       "    <tr>\n",
       "      <th>1204</th>\n",
       "      <td>1850-05-01</td>\n",
       "      <td>10.004</td>\n",
       "      <td>15.655</td>\n",
       "      <td>3.811</td>\n",
       "      <td>15.507</td>\n",
       "    </tr>\n",
       "    <tr>\n",
       "      <th>1205</th>\n",
       "      <td>1850-06-01</td>\n",
       "      <td>13.150</td>\n",
       "      <td>18.946</td>\n",
       "      <td>7.106</td>\n",
       "      <td>16.353</td>\n",
       "    </tr>\n",
       "  </tbody>\n",
       "</table>\n",
       "</div>"
      ],
      "text/plain": [
       "             dt  LandAverageTemperature  LandMaxTemperature  \\\n",
       "1201 1850-02-01                   3.071               9.970   \n",
       "1202 1850-03-01                   4.954              10.347   \n",
       "1203 1850-04-01                   7.217              12.934   \n",
       "1204 1850-05-01                  10.004              15.655   \n",
       "1205 1850-06-01                  13.150              18.946   \n",
       "\n",
       "      LandMinTemperature  LandAndOceanAverageTemperature  \n",
       "1201              -2.291                          13.588  \n",
       "1202              -1.905                          14.043  \n",
       "1203               1.018                          14.667  \n",
       "1204               3.811                          15.507  \n",
       "1205               7.106                          16.353  "
      ]
     },
     "execution_count": 26,
     "metadata": {},
     "output_type": "execute_result"
    }
   ],
   "source": [
    "df_global_temp_copy=pd.DataFrame.copy(global_temperatures)\n",
    "df_global_temp=pd.DataFrame.copy(df_global_temp_copy)\n",
    "df_global_temp.drop(df_global_temp.index[:1], inplace=True)\n",
    "df_global_temp_copy.drop(df_global_temp_copy.index[-1],inplace=True)\n",
    "df_global_temp.head(5)"
   ]
  },
  {
   "cell_type": "code",
   "execution_count": 27,
   "id": "e750090f-af76-4da8-9443-a6b69eea74e4",
   "metadata": {},
   "outputs": [
    {
     "data": {
      "text/html": [
       "<div>\n",
       "<style scoped>\n",
       "    .dataframe tbody tr th:only-of-type {\n",
       "        vertical-align: middle;\n",
       "    }\n",
       "\n",
       "    .dataframe tbody tr th {\n",
       "        vertical-align: top;\n",
       "    }\n",
       "\n",
       "    .dataframe thead th {\n",
       "        text-align: right;\n",
       "    }\n",
       "</style>\n",
       "<table border=\"1\" class=\"dataframe\">\n",
       "  <thead>\n",
       "    <tr style=\"text-align: right;\">\n",
       "      <th></th>\n",
       "      <th>dt</th>\n",
       "      <th>LandAverageTemperature</th>\n",
       "      <th>LandMaxTemperature</th>\n",
       "      <th>LandMinTemperature</th>\n",
       "      <th>LandAndOceanAverageTemperature</th>\n",
       "    </tr>\n",
       "  </thead>\n",
       "  <tbody>\n",
       "    <tr>\n",
       "      <th>1212</th>\n",
       "      <td>1851-01-01</td>\n",
       "      <td>2.431</td>\n",
       "      <td>8.951</td>\n",
       "      <td>-2.443</td>\n",
       "      <td>13.245</td>\n",
       "    </tr>\n",
       "    <tr>\n",
       "      <th>1213</th>\n",
       "      <td>1851-02-01</td>\n",
       "      <td>2.508</td>\n",
       "      <td>9.970</td>\n",
       "      <td>-2.291</td>\n",
       "      <td>13.588</td>\n",
       "    </tr>\n",
       "    <tr>\n",
       "      <th>1214</th>\n",
       "      <td>1851-03-01</td>\n",
       "      <td>4.192</td>\n",
       "      <td>10.347</td>\n",
       "      <td>-1.905</td>\n",
       "      <td>14.043</td>\n",
       "    </tr>\n",
       "    <tr>\n",
       "      <th>1215</th>\n",
       "      <td>1851-04-01</td>\n",
       "      <td>7.287</td>\n",
       "      <td>12.934</td>\n",
       "      <td>1.018</td>\n",
       "      <td>14.667</td>\n",
       "    </tr>\n",
       "    <tr>\n",
       "      <th>1216</th>\n",
       "      <td>1851-05-01</td>\n",
       "      <td>11.113</td>\n",
       "      <td>15.655</td>\n",
       "      <td>3.811</td>\n",
       "      <td>15.507</td>\n",
       "    </tr>\n",
       "  </tbody>\n",
       "</table>\n",
       "</div>"
      ],
      "text/plain": [
       "             dt  LandAverageTemperature  LandMaxTemperature  \\\n",
       "1212 1851-01-01                   2.431               8.951   \n",
       "1213 1851-02-01                   2.508               9.970   \n",
       "1214 1851-03-01                   4.192              10.347   \n",
       "1215 1851-04-01                   7.287              12.934   \n",
       "1216 1851-05-01                  11.113              15.655   \n",
       "\n",
       "      LandMinTemperature  LandAndOceanAverageTemperature  \n",
       "1212              -2.443                          13.245  \n",
       "1213              -2.291                          13.588  \n",
       "1214              -1.905                          14.043  \n",
       "1215               1.018                          14.667  \n",
       "1216               3.811                          15.507  "
      ]
     },
     "execution_count": 27,
     "metadata": {},
     "output_type": "execute_result"
    }
   ],
   "source": [
    "for j in (df_global_temp.index[12:]):\n",
    "    for column in df_global_temp.columns[2:]:\n",
    "        df_global_temp.loc[j,column]=df_global_temp_copy.loc[j-12,column]\n",
    "df_global_temp = df_global_temp[df_global_temp['dt'].map(lambda x: x.year) != 1850]\n",
    "df_global_temp_copy = pd.DataFrame.copy(df_global_temp)\n",
    "df_global_temp.head(5)"
   ]
  },
  {
   "cell_type": "code",
   "execution_count": 28,
   "id": "df3fd9be-8dac-4e76-a1aa-5d2bd5b00182",
   "metadata": {},
   "outputs": [],
   "source": [
    "train_df=pd.DataFrame.copy(df_global_temp[df_global_temp['dt'].map(lambda x: x.year)<2000])\n",
    "test_df=pd.DataFrame.copy(df_global_temp[df_global_temp['dt'].map(lambda x: x.year)>=2000])\n",
    "train_df=test_df.drop(['dt'],axis=1)\n",
    "test_df=test_df.drop(['dt'],axis=1)"
   ]
  },
  {
   "cell_type": "code",
   "execution_count": 29,
   "id": "cb705951-b677-4442-a454-283162141eca",
   "metadata": {},
   "outputs": [],
   "source": [
    "def evaluate_models(model, X_train, X_test, y_train, y_test):\n",
    "    model.fit(X_train, y_train)\n",
    "    y_pred = model.predict(X_test)\n",
    "    print('Mean Euclidean Distance:', round(abs(y_test-y_pred).mean(), 3))\n",
    "    print('Mean Absolute Error:', round(metrics.mean_absolute_error(y_test, y_pred), 3))\n",
    "    print('Mean Squared Error:', round(metrics.mean_squared_error(y_test, y_pred), 3))\n",
    "    print('Root Mean Squared Error:', round(np.sqrt(metrics.mean_squared_error(y_test, y_pred)), 3))\n",
    "    r2 = metrics.r2_score(y_test, y_pred)\n",
    "    print('R Square:', round(r2, 3))\n",
    "    adj_r2 = 1 - ((1-r2) * (len(X_test)-1)/(len(X_test)-X_test.shape[1]-1))\n",
    "    print('Adjusted R Square:', round(adj_r2, 3))\n",
    "    return y_pred"
   ]
  },
  {
   "cell_type": "code",
   "execution_count": 30,
   "id": "fca556e6-c47e-46d2-890b-5a71a125112e",
   "metadata": {},
   "outputs": [],
   "source": [
    "X_train =  train_df.drop([\"LandAverageTemperature\"],axis=1)\n",
    "y_train =  train_df[\"LandAverageTemperature\"]\n",
    "X_test =   test_df.drop([\"LandAverageTemperature\"],axis=1)\n",
    "y_test =   test_df['LandAverageTemperature']"
   ]
  },
  {
   "cell_type": "code",
   "execution_count": 31,
   "id": "afae4b32-eb6f-4528-9634-01002c3cf510",
   "metadata": {},
   "outputs": [
    {
     "name": "stdout",
     "output_type": "stream",
     "text": [
      "LinearRegression()\n",
      "Mean Euclidean Distance: 0.337\n",
      "Mean Absolute Error: 0.337\n",
      "Mean Squared Error: 0.193\n",
      "Root Mean Squared Error: 0.44\n",
      "R Square: 0.989\n",
      "Adjusted R Square: 0.989\n"
     ]
    }
   ],
   "source": [
    "lnr_model = linear_model.LinearRegression()\n",
    "print(lnr_model)\n",
    "y_pred = evaluate_models(lnr_model, X_train, X_test, y_train, y_test)\n",
    "test_df['Predicted_temp_lnr']=y_pred"
   ]
  },
  {
   "cell_type": "code",
   "execution_count": 32,
   "id": "3da28a5f-2020-4452-bf65-b5ae66417a87",
   "metadata": {},
   "outputs": [
    {
     "name": "stdout",
     "output_type": "stream",
     "text": [
      "RandomForestRegressor(n_estimators=10)\n",
      "Mean Euclidean Distance: 0.118\n",
      "Mean Absolute Error: 0.118\n",
      "Mean Squared Error: 0.027\n",
      "Root Mean Squared Error: 0.163\n",
      "R Square: 0.998\n",
      "Adjusted R Square: 0.998\n"
     ]
    }
   ],
   "source": [
    "forest = RandomForestRegressor(n_estimators=10)\n",
    "print(forest)\n",
    "y_pred = evaluate_models(forest, X_train, X_test, y_train, y_test)\n",
    "test_df['Predicted_temp_rf']=y_pred"
   ]
  },
  {
   "cell_type": "code",
   "execution_count": 33,
   "id": "2fefa750-1b08-4c81-864e-3ef877f5a138",
   "metadata": {},
   "outputs": [
    {
     "name": "stdout",
     "output_type": "stream",
     "text": [
      "KNeighborsRegressor(n_neighbors=2)\n",
      "Mean Euclidean Distance: 0.182\n",
      "Mean Absolute Error: 0.182\n",
      "Mean Squared Error: 0.055\n",
      "Root Mean Squared Error: 0.235\n",
      "R Square: 0.997\n",
      "Adjusted R Square: 0.997\n"
     ]
    }
   ],
   "source": [
    "knn = KNeighborsRegressor(n_neighbors=2)\n",
    "print(knn)\n",
    "y_pred =   evaluate_models(knn, X_train, X_test, y_train, y_test)\n",
    "test_df['Predicted_temp_knn']=y_pred"
   ]
  },
  {
   "cell_type": "code",
   "execution_count": 34,
   "id": "ec18f07b-ca3f-43db-abce-5ae38af2bec5",
   "metadata": {},
   "outputs": [
    {
     "name": "stdout",
     "output_type": "stream",
     "text": [
      "Mean Euclidean Distance: 0.006\n",
      "Mean Absolute Error: 0.006\n",
      "Mean Squared Error: 0.0\n",
      "Root Mean Squared Error: 0.008\n",
      "R Square: 1.0\n",
      "Adjusted R Square: 1.0\n",
      "XGBRegressor(base_score=0.5, booster='gbtree', colsample_bylevel=1,\n",
      "             colsample_bynode=1, colsample_bytree=1, gamma=0, gpu_id=-1,\n",
      "             importance_type='gain', interaction_constraints='',\n",
      "             learning_rate=0.300000012, max_delta_step=0, max_depth=6,\n",
      "             min_child_weight=1, missing=nan, monotone_constraints='()',\n",
      "             n_estimators=100, n_jobs=8, num_parallel_tree=1, random_state=0,\n",
      "             reg_alpha=0, reg_lambda=1, scale_pos_weight=1, subsample=1,\n",
      "             tree_method='exact', validate_parameters=1, verbosity=None)\n"
     ]
    }
   ],
   "source": [
    "xgbr =   XGBRegressor()\n",
    "y_pred = evaluate_models(xgbr, X_train, X_test, y_train, y_test)\n",
    "print(xgbr)\n",
    "test_df['Predicted_temp_xgbr'] = y_pred"
   ]
  },
  {
   "cell_type": "code",
   "execution_count": 35,
   "id": "fe6b0c37-3b13-4cd9-be5b-4c381d9b71c9",
   "metadata": {},
   "outputs": [
    {
     "data": {
      "text/html": [
       "<div>\n",
       "<style scoped>\n",
       "    .dataframe tbody tr th:only-of-type {\n",
       "        vertical-align: middle;\n",
       "    }\n",
       "\n",
       "    .dataframe tbody tr th {\n",
       "        vertical-align: top;\n",
       "    }\n",
       "\n",
       "    .dataframe thead th {\n",
       "        text-align: right;\n",
       "    }\n",
       "</style>\n",
       "<table border=\"1\" class=\"dataframe\">\n",
       "  <thead>\n",
       "    <tr style=\"text-align: right;\">\n",
       "      <th></th>\n",
       "      <th>LandAverageTemperature</th>\n",
       "      <th>LandMaxTemperature</th>\n",
       "      <th>LandMinTemperature</th>\n",
       "      <th>LandAndOceanAverageTemperature</th>\n",
       "      <th>Predicted_temp_lnr</th>\n",
       "      <th>Predicted_temp_rf</th>\n",
       "      <th>Predicted_temp_knn</th>\n",
       "      <th>Predicted_temp_xgbr</th>\n",
       "    </tr>\n",
       "  </thead>\n",
       "  <tbody>\n",
       "    <tr>\n",
       "      <th>3000</th>\n",
       "      <td>2.950</td>\n",
       "      <td>8.877</td>\n",
       "      <td>-1.732</td>\n",
       "      <td>13.933</td>\n",
       "      <td>3.595116</td>\n",
       "      <td>3.2134</td>\n",
       "      <td>3.3790</td>\n",
       "      <td>2.947356</td>\n",
       "    </tr>\n",
       "    <tr>\n",
       "      <th>3001</th>\n",
       "      <td>4.184</td>\n",
       "      <td>10.400</td>\n",
       "      <td>-0.957</td>\n",
       "      <td>14.367</td>\n",
       "      <td>4.759778</td>\n",
       "      <td>4.0678</td>\n",
       "      <td>4.1345</td>\n",
       "      <td>4.186707</td>\n",
       "    </tr>\n",
       "    <tr>\n",
       "      <th>3002</th>\n",
       "      <td>6.219</td>\n",
       "      <td>11.400</td>\n",
       "      <td>-0.274</td>\n",
       "      <td>14.676</td>\n",
       "      <td>5.599952</td>\n",
       "      <td>6.1994</td>\n",
       "      <td>6.2400</td>\n",
       "      <td>6.221492</td>\n",
       "    </tr>\n",
       "    <tr>\n",
       "      <th>3003</th>\n",
       "      <td>9.552</td>\n",
       "      <td>14.807</td>\n",
       "      <td>2.931</td>\n",
       "      <td>15.572</td>\n",
       "      <td>8.913072</td>\n",
       "      <td>9.6248</td>\n",
       "      <td>9.6875</td>\n",
       "      <td>9.547429</td>\n",
       "    </tr>\n",
       "    <tr>\n",
       "      <th>3004</th>\n",
       "      <td>11.874</td>\n",
       "      <td>17.613</td>\n",
       "      <td>5.824</td>\n",
       "      <td>16.298</td>\n",
       "      <td>11.763390</td>\n",
       "      <td>12.1129</td>\n",
       "      <td>12.1960</td>\n",
       "      <td>11.896217</td>\n",
       "    </tr>\n",
       "    <tr>\n",
       "      <th>...</th>\n",
       "      <td>...</td>\n",
       "      <td>...</td>\n",
       "      <td>...</td>\n",
       "      <td>...</td>\n",
       "      <td>...</td>\n",
       "      <td>...</td>\n",
       "      <td>...</td>\n",
       "      <td>...</td>\n",
       "    </tr>\n",
       "    <tr>\n",
       "      <th>3187</th>\n",
       "      <td>14.755</td>\n",
       "      <td>20.790</td>\n",
       "      <td>9.047</td>\n",
       "      <td>17.607</td>\n",
       "      <td>14.843027</td>\n",
       "      <td>14.8418</td>\n",
       "      <td>14.9030</td>\n",
       "      <td>14.754364</td>\n",
       "    </tr>\n",
       "    <tr>\n",
       "      <th>3188</th>\n",
       "      <td>12.999</td>\n",
       "      <td>18.865</td>\n",
       "      <td>7.399</td>\n",
       "      <td>16.975</td>\n",
       "      <td>13.079070</td>\n",
       "      <td>12.9718</td>\n",
       "      <td>13.0450</td>\n",
       "      <td>12.998611</td>\n",
       "    </tr>\n",
       "    <tr>\n",
       "      <th>3189</th>\n",
       "      <td>10.801</td>\n",
       "      <td>16.066</td>\n",
       "      <td>4.689</td>\n",
       "      <td>16.029</td>\n",
       "      <td>10.374163</td>\n",
       "      <td>10.7029</td>\n",
       "      <td>10.4640</td>\n",
       "      <td>10.783851</td>\n",
       "    </tr>\n",
       "    <tr>\n",
       "      <th>3190</th>\n",
       "      <td>7.433</td>\n",
       "      <td>12.284</td>\n",
       "      <td>1.313</td>\n",
       "      <td>14.899</td>\n",
       "      <td>6.815655</td>\n",
       "      <td>7.2582</td>\n",
       "      <td>7.3740</td>\n",
       "      <td>7.422881</td>\n",
       "    </tr>\n",
       "    <tr>\n",
       "      <th>3191</th>\n",
       "      <td>5.518</td>\n",
       "      <td>10.190</td>\n",
       "      <td>-0.331</td>\n",
       "      <td>14.410</td>\n",
       "      <td>4.916332</td>\n",
       "      <td>5.1388</td>\n",
       "      <td>5.2525</td>\n",
       "      <td>5.491291</td>\n",
       "    </tr>\n",
       "  </tbody>\n",
       "</table>\n",
       "<p>192 rows × 8 columns</p>\n",
       "</div>"
      ],
      "text/plain": [
       "      LandAverageTemperature  LandMaxTemperature  LandMinTemperature  \\\n",
       "3000                   2.950               8.877              -1.732   \n",
       "3001                   4.184              10.400              -0.957   \n",
       "3002                   6.219              11.400              -0.274   \n",
       "3003                   9.552              14.807               2.931   \n",
       "3004                  11.874              17.613               5.824   \n",
       "...                      ...                 ...                 ...   \n",
       "3187                  14.755              20.790               9.047   \n",
       "3188                  12.999              18.865               7.399   \n",
       "3189                  10.801              16.066               4.689   \n",
       "3190                   7.433              12.284               1.313   \n",
       "3191                   5.518              10.190              -0.331   \n",
       "\n",
       "      LandAndOceanAverageTemperature  Predicted_temp_lnr  Predicted_temp_rf  \\\n",
       "3000                          13.933            3.595116             3.2134   \n",
       "3001                          14.367            4.759778             4.0678   \n",
       "3002                          14.676            5.599952             6.1994   \n",
       "3003                          15.572            8.913072             9.6248   \n",
       "3004                          16.298           11.763390            12.1129   \n",
       "...                              ...                 ...                ...   \n",
       "3187                          17.607           14.843027            14.8418   \n",
       "3188                          16.975           13.079070            12.9718   \n",
       "3189                          16.029           10.374163            10.7029   \n",
       "3190                          14.899            6.815655             7.2582   \n",
       "3191                          14.410            4.916332             5.1388   \n",
       "\n",
       "      Predicted_temp_knn  Predicted_temp_xgbr  \n",
       "3000              3.3790             2.947356  \n",
       "3001              4.1345             4.186707  \n",
       "3002              6.2400             6.221492  \n",
       "3003              9.6875             9.547429  \n",
       "3004             12.1960            11.896217  \n",
       "...                  ...                  ...  \n",
       "3187             14.9030            14.754364  \n",
       "3188             13.0450            12.998611  \n",
       "3189             10.4640            10.783851  \n",
       "3190              7.3740             7.422881  \n",
       "3191              5.2525             5.491291  \n",
       "\n",
       "[192 rows x 8 columns]"
      ]
     },
     "execution_count": 35,
     "metadata": {},
     "output_type": "execute_result"
    }
   ],
   "source": [
    "test_df"
   ]
  },
  {
   "cell_type": "markdown",
   "id": "6a13604f-d072-4a1a-ac62-4f6de7a5a316",
   "metadata": {},
   "source": [
    "===================================================================================================================================\n",
    "## <font color='#0bfc03'> <center> Feature Engineering"
   ]
  },
  {
   "cell_type": "markdown",
   "id": "39cb1db7-f594-4593-8c95-c7232985cd35",
   "metadata": {},
   "source": [
    "### Attempt to minimize the MED"
   ]
  },
  {
   "cell_type": "code",
   "execution_count": 36,
   "id": "f9183b0a-e51d-43b8-ba3e-a07144a3fd55",
   "metadata": {},
   "outputs": [],
   "source": [
    "def MED_XGB(n,maxi,learn,\n",
    "       X_train, y_train, X_test,y_test,\n",
    "       MED_limit):\n",
    "    \n",
    "    '''\n",
    "    n         : n_estimators  -> Number of boosted trees to fit\n",
    "    maxi      : max_depth     -> Maximum tree depth for base learners\n",
    "    learn     : learning_rate -> Boosting learning rate\n",
    "    ...\n",
    "    MED_limit : -> threshold for minimum MED required\n",
    "    '''\n",
    "    global med_count\n",
    "    xgb_model = xgboost.XGBRegressor(n_estimators = n , learning_rate = learn, max_depth = maxi )\n",
    "    model_fit = xgb_model.fit(X_train , y_train )\n",
    "    y_predict = model_fit.predict(X_test)\n",
    "    MED=abs(y_test-y_predict).mean()\n",
    "    #print(MED, end=\" \")\n",
    "    if MED<MED_limit:\n",
    "        med_count+=1\n",
    "        return MED , n, learn, maxi\n",
    "    else:\n",
    "        return 0"
   ]
  },
  {
   "cell_type": "code",
   "execution_count": 37,
   "id": "adeb8d97-d8c4-44bb-83c7-f8c2d29c1c80",
   "metadata": {},
   "outputs": [
    {
     "name": "stdout",
     "output_type": "stream",
     "text": [
      "n_estimators =  [100, 200, 300, 400, 500]\n",
      "learning_rate =  [0.3, 0.4, 0.5, 0.6, 0.7]\n",
      "max_depth =  [6]\n",
      "MED_limit =  0.02\n"
     ]
    }
   ],
   "source": [
    "#### HyperParameters ####\n",
    "\n",
    "max_depth = [6]\n",
    "learning_rate = [0.3+(i/10) for i in range(5)]\n",
    "n_estimators = list(range(100,600,100))\n",
    "MED_limit =  0.020\n",
    "print(\"n_estimators = \", n_estimators)\n",
    "print(\"learning_rate = \", learning_rate)\n",
    "print(\"max_depth = \", max_depth)\n",
    "print(\"MED_limit = \", MED_limit)\n",
    "l=[]"
   ]
  },
  {
   "cell_type": "code",
   "execution_count": 38,
   "id": "3627c988-d594-4a78-a7f7-c9d16b5b4ebe",
   "metadata": {},
   "outputs": [
    {
     "name": "stdout",
     "output_type": "stream",
     "text": [
      "CPU times: total: 3.97 s\n",
      "Wall time: 568 ms\n"
     ]
    }
   ],
   "source": [
    "%%time\n",
    "#### Very long loop depending on parameters ####\n",
    "med_count = 0\n",
    "for n in n_estimators:\n",
    "    for learn in learning_rate:\n",
    "        for maxi in max_depth:\n",
    "            a = MED_XGB(n, maxi, learn, X_train, y_train, X_test, y_test, MED_limit)\n",
    "            if a != 0:\n",
    "                l.append(a)\n",
    "                l.sort()\n",
    "            if med_count>=6: break\n",
    "        if med_count>=6: break\n",
    "    if med_count>=6: break"
   ]
  },
  {
   "cell_type": "code",
   "execution_count": 39,
   "id": "ddff2b97-b3e5-48f5-b594-0d4c741881fd",
   "metadata": {},
   "outputs": [
    {
     "data": {
      "text/plain": [
       "[(0.0012149473428726316, 100, 0.6, 6),\n",
       " (0.0012322846949100925, 100, 0.7, 6),\n",
       " (0.0013499825298785711, 100, 0.5, 6),\n",
       " (0.001557217766841229, 200, 0.3, 6),\n",
       " (0.0025691621204217605, 100, 0.4, 6)]"
      ]
     },
     "execution_count": 39,
     "metadata": {},
     "output_type": "execute_result"
    }
   ],
   "source": [
    "l[:5] # 5 Best MED Results MED, n_estimators = n, learning_rate, max_depth"
   ]
  },
  {
   "cell_type": "markdown",
   "id": "2abef013-c153-418b-a1f6-58a5aff452df",
   "metadata": {},
   "source": [
    "===================================================================================================================================\n",
    "## <font color='#0bfc03'> <center> Feature Importance"
   ]
  },
  {
   "cell_type": "code",
   "execution_count": 40,
   "id": "d839ba31-a330-40d5-8590-b4677b303646",
   "metadata": {},
   "outputs": [
    {
     "data": {
      "text/plain": [
       "<AxesSubplot:title={'center':'Feature importance'}, xlabel='F score', ylabel='Features'>"
      ]
     },
     "execution_count": 40,
     "metadata": {},
     "output_type": "execute_result"
    },
    {
     "data": {
      "image/png": "[encoded data removed]",
      "text/plain": [
       "<Figure size 432x288 with 1 Axes>"
      ]
     },
     "metadata": {},
     "output_type": "display_data"
    }
   ],
   "source": [
    "max_depth = 3\n",
    "learning_rate = 0.3\n",
    "n_estimators = 41\n",
    "\n",
    "xgb_model = xgboost.XGBRegressor(max_depth = n_estimators,\n",
    "                             learning_rate = learning_rate,\n",
    "                             n_estimators = n_estimators)\n",
    "\n",
    "xgb_model.fit(X_train,y_train)\n",
    "#Ranking the features'importance \n",
    "xgboost.plot_importance(xgb_model)"
   ]
  },
  {
   "cell_type": "code",
   "execution_count": 41,
   "id": "25257578-fbb6-42ad-828d-2f597c869422",
   "metadata": {},
   "outputs": [
    {
     "data": {
      "image/svg+xml": [
       "<?xml version=\"1.0\" encoding=\"UTF-8\" standalone=\"no\"?>\r\n",
       "<!DOCTYPE svg PUBLIC \"-//W3C//DTD SVG 1.1//EN\"\r\n",
       " \"http://www.w3.org/Graphics/SVG/1.1/DTD/svg11.dtd\">\r\n",
       "<!-- Generated by graphviz version 2.38.0 (20140413.2041)\r\n",
       " -->\r\n",
       "<!-- Title: %3 Pages: 1 -->\r\n",
       "<svg width=\"664pt\" height=\"218pt\"\r\n",
       " viewBox=\"0.00 0.00 663.69 218.00\" xmlns=\"http://www.w3.org/2000/svg\" xmlns:xlink=\"http://www.w3.org/1999/xlink\">\r\n",
       "<g id=\"graph0\" class=\"graph\" transform=\"scale(1 1) rotate(0) translate(4 214)\">\r\n",
       "<title>%3</title>\r\n",
       "<polygon fill=\"white\" stroke=\"none\" points=\"-4,4 -4,-214 659.687,-214 659.687,4 -4,4\"/>\r\n",
       "<!-- 0 -->\r\n",
       "<g id=\"node1\" class=\"node\"><title>0</title>\r\n",
       "<ellipse fill=\"none\" stroke=\"black\" cx=\"335.844\" cy=\"-192\" rx=\"138.375\" ry=\"18\"/>\r\n",
       "<text text-anchor=\"middle\" x=\"335.844\" y=\"-188.3\" font-family=\"Times New Roman,serif\" font-size=\"14.00\">LandMaxTemperature&lt;13.9875002</text>\r\n",
       "</g>\r\n",
       "<!-- 1 -->\r\n",
       "<g id=\"node2\" class=\"node\"><title>1</title>\r\n",
       "<ellipse fill=\"none\" stroke=\"black\" cx=\"163.844\" cy=\"-105\" rx=\"138.375\" ry=\"18\"/>\r\n",
       "<text text-anchor=\"middle\" x=\"163.844\" y=\"-101.3\" font-family=\"Times New Roman,serif\" font-size=\"14.00\">LandMaxTemperature&lt;10.9724998</text>\r\n",
       "</g>\r\n",
       "<!-- 0&#45;&gt;1 -->\r\n",
       "<g id=\"edge1\" class=\"edge\"><title>0&#45;&gt;1</title>\r\n",
       "<path fill=\"none\" stroke=\"#0000ff\" d=\"M302.272,-174.409C274.925,-160.895 236.14,-141.728 206.578,-127.119\"/>\r\n",
       "<polygon fill=\"#0000ff\" stroke=\"#0000ff\" points=\"207.846,-123.841 197.331,-122.549 204.745,-130.117 207.846,-123.841\"/>\r\n",
       "<text text-anchor=\"middle\" x=\"295.344\" y=\"-144.8\" font-family=\"Times New Roman,serif\" font-size=\"14.00\">yes, missing</text>\r\n",
       "</g>\r\n",
       "<!-- 2 -->\r\n",
       "<g id=\"node3\" class=\"node\"><title>2</title>\r\n",
       "<ellipse fill=\"none\" stroke=\"black\" cx=\"458.844\" cy=\"-105\" rx=\"138.375\" ry=\"18\"/>\r\n",
       "<text text-anchor=\"middle\" x=\"458.844\" y=\"-101.3\" font-family=\"Times New Roman,serif\" font-size=\"14.00\">LandMaxTemperature&lt;16.7654991</text>\r\n",
       "</g>\r\n",
       "<!-- 0&#45;&gt;2 -->\r\n",
       "<g id=\"edge2\" class=\"edge\"><title>0&#45;&gt;2</title>\r\n",
       "<path fill=\"none\" stroke=\"#ff0000\" d=\"M360.145,-174.207C379.013,-161.168 405.364,-142.958 426.092,-128.633\"/>\r\n",
       "<polygon fill=\"#ff0000\" stroke=\"#ff0000\" points=\"428.356,-131.323 434.593,-122.758 424.377,-125.564 428.356,-131.323\"/>\r\n",
       "<text text-anchor=\"middle\" x=\"412.344\" y=\"-144.8\" font-family=\"Times New Roman,serif\" font-size=\"14.00\">no</text>\r\n",
       "</g>\r\n",
       "<!-- 3 -->\r\n",
       "<g id=\"node4\" class=\"node\"><title>3</title>\r\n",
       "<ellipse fill=\"none\" stroke=\"black\" cx=\"70.8437\" cy=\"-18\" rx=\"70.6878\" ry=\"18\"/>\r\n",
       "<text text-anchor=\"middle\" x=\"70.8437\" y=\"-14.3\" font-family=\"Times New Roman,serif\" font-size=\"14.00\">leaf=1.05371642</text>\r\n",
       "</g>\r\n",
       "<!-- 1&#45;&gt;3 -->\r\n",
       "<g id=\"edge3\" class=\"edge\"><title>1&#45;&gt;3</title>\r\n",
       "<path fill=\"none\" stroke=\"#0000ff\" d=\"M142.048,-86.9749C135.142,-81.3922 127.56,-75.0628 120.844,-69 111.774,-60.8127 102.198,-51.4338 93.8818,-43.0273\"/>\r\n",
       "<polygon fill=\"#0000ff\" stroke=\"#0000ff\" points=\"96.1464,-40.3374 86.6485,-35.6426 91.1456,-45.2357 96.1464,-40.3374\"/>\r\n",
       "<text text-anchor=\"middle\" x=\"155.344\" y=\"-57.8\" font-family=\"Times New Roman,serif\" font-size=\"14.00\">yes, missing</text>\r\n",
       "</g>\r\n",
       "<!-- 4 -->\r\n",
       "<g id=\"node5\" class=\"node\"><title>4</title>\r\n",
       "<ellipse fill=\"none\" stroke=\"black\" cx=\"230.844\" cy=\"-18\" rx=\"70.6878\" ry=\"18\"/>\r\n",
       "<text text-anchor=\"middle\" x=\"230.844\" y=\"-14.3\" font-family=\"Times New Roman,serif\" font-size=\"14.00\">leaf=1.81334543</text>\r\n",
       "</g>\r\n",
       "<!-- 1&#45;&gt;4 -->\r\n",
       "<g id=\"edge4\" class=\"edge\"><title>1&#45;&gt;4</title>\r\n",
       "<path fill=\"none\" stroke=\"#ff0000\" d=\"M177.402,-86.799C187.092,-74.5062 200.281,-57.7736 211.132,-44.0073\"/>\r\n",
       "<polygon fill=\"#ff0000\" stroke=\"#ff0000\" points=\"214.092,-45.9056 217.534,-35.8854 208.595,-41.5723 214.092,-45.9056\"/>\r\n",
       "<text text-anchor=\"middle\" x=\"209.344\" y=\"-57.8\" font-family=\"Times New Roman,serif\" font-size=\"14.00\">no</text>\r\n",
       "</g>\r\n",
       "<!-- 5 -->\r\n",
       "<g id=\"node6\" class=\"node\"><title>5</title>\r\n",
       "<ellipse fill=\"none\" stroke=\"black\" cx=\"424.844\" cy=\"-18\" rx=\"70.6878\" ry=\"18\"/>\r\n",
       "<text text-anchor=\"middle\" x=\"424.844\" y=\"-14.3\" font-family=\"Times New Roman,serif\" font-size=\"14.00\">leaf=2.71535468</text>\r\n",
       "</g>\r\n",
       "<!-- 2&#45;&gt;5 -->\r\n",
       "<g id=\"edge5\" class=\"edge\"><title>2&#45;&gt;5</title>\r\n",
       "<path fill=\"none\" stroke=\"#0000ff\" d=\"M451.963,-86.799C447.263,-75.0474 440.939,-59.2383 435.581,-45.8421\"/>\r\n",
       "<polygon fill=\"#0000ff\" stroke=\"#0000ff\" points=\"438.678,-44.1603 431.714,-36.1754 432.178,-46.7601 438.678,-44.1603\"/>\r\n",
       "<text text-anchor=\"middle\" x=\"479.344\" y=\"-57.8\" font-family=\"Times New Roman,serif\" font-size=\"14.00\">yes, missing</text>\r\n",
       "</g>\r\n",
       "<!-- 6 -->\r\n",
       "<g id=\"node7\" class=\"node\"><title>6</title>\r\n",
       "<ellipse fill=\"none\" stroke=\"black\" cx=\"584.844\" cy=\"-18\" rx=\"70.6878\" ry=\"18\"/>\r\n",
       "<text text-anchor=\"middle\" x=\"584.844\" y=\"-14.3\" font-family=\"Times New Roman,serif\" font-size=\"14.00\">leaf=3.94747424</text>\r\n",
       "</g>\r\n",
       "<!-- 2&#45;&gt;6 -->\r\n",
       "<g id=\"edge6\" class=\"edge\"><title>2&#45;&gt;6</title>\r\n",
       "<path fill=\"none\" stroke=\"#ff0000\" d=\"M488.331,-87.3322C497.88,-81.717 508.431,-75.2785 517.844,-69 530.669,-60.4451 544.386,-50.3815 556.046,-41.534\"/>\r\n",
       "<polygon fill=\"#ff0000\" stroke=\"#ff0000\" points=\"558.318,-44.2029 564.132,-35.3456 554.063,-38.6443 558.318,-44.2029\"/>\r\n",
       "<text text-anchor=\"middle\" x=\"546.344\" y=\"-57.8\" font-family=\"Times New Roman,serif\" font-size=\"14.00\">no</text>\r\n",
       "</g>\r\n",
       "</g>\r\n",
       "</svg>\r\n"
      ],
      "text/plain": [
       "<graphviz.files.Source at 0x24fcf811df0>"
      ]
     },
     "execution_count": 41,
     "metadata": {},
     "output_type": "execute_result"
    }
   ],
   "source": [
    "#Plotting of the tree that would predict with the highest accuracy \n",
    "#The most discriminatory variable, LandMinTemperature is naturally at the top of the tree\n",
    "xgboost.to_graphviz(xgb_model,size=\"3\")"
   ]
  },
  {
   "cell_type": "markdown",
   "id": "b4dcba39-5d68-4512-976f-436f8814ac97",
   "metadata": {},
   "source": [
    "### Adding New variables and to decrease MED"
   ]
  },
  {
   "cell_type": "code",
   "execution_count": 42,
   "id": "0d51bd61-1ff9-4c38-ab27-7ca646e88104",
   "metadata": {},
   "outputs": [
    {
     "data": {
      "text/html": [
       "<div>\n",
       "<style scoped>\n",
       "    .dataframe tbody tr th:only-of-type {\n",
       "        vertical-align: middle;\n",
       "    }\n",
       "\n",
       "    .dataframe tbody tr th {\n",
       "        vertical-align: top;\n",
       "    }\n",
       "\n",
       "    .dataframe thead th {\n",
       "        text-align: right;\n",
       "    }\n",
       "</style>\n",
       "<table border=\"1\" class=\"dataframe\">\n",
       "  <thead>\n",
       "    <tr style=\"text-align: right;\">\n",
       "      <th></th>\n",
       "      <th>Date</th>\n",
       "      <th>Decimal Date</th>\n",
       "      <th>Average</th>\n",
       "      <th>Interpolated</th>\n",
       "      <th>Trend</th>\n",
       "      <th>Number of Days</th>\n",
       "    </tr>\n",
       "  </thead>\n",
       "  <tbody>\n",
       "    <tr>\n",
       "      <th>0</th>\n",
       "      <td>1958-03</td>\n",
       "      <td>1958.208</td>\n",
       "      <td>315.71</td>\n",
       "      <td>315.71</td>\n",
       "      <td>314.62</td>\n",
       "      <td>-1</td>\n",
       "    </tr>\n",
       "    <tr>\n",
       "      <th>1</th>\n",
       "      <td>1958-04</td>\n",
       "      <td>1958.292</td>\n",
       "      <td>317.45</td>\n",
       "      <td>317.45</td>\n",
       "      <td>315.29</td>\n",
       "      <td>-1</td>\n",
       "    </tr>\n",
       "    <tr>\n",
       "      <th>2</th>\n",
       "      <td>1958-05</td>\n",
       "      <td>1958.375</td>\n",
       "      <td>317.50</td>\n",
       "      <td>317.50</td>\n",
       "      <td>314.71</td>\n",
       "      <td>-1</td>\n",
       "    </tr>\n",
       "    <tr>\n",
       "      <th>3</th>\n",
       "      <td>1958-06</td>\n",
       "      <td>1958.458</td>\n",
       "      <td>-99.99</td>\n",
       "      <td>317.10</td>\n",
       "      <td>314.85</td>\n",
       "      <td>-1</td>\n",
       "    </tr>\n",
       "    <tr>\n",
       "      <th>4</th>\n",
       "      <td>1958-07</td>\n",
       "      <td>1958.542</td>\n",
       "      <td>315.86</td>\n",
       "      <td>315.86</td>\n",
       "      <td>314.98</td>\n",
       "      <td>-1</td>\n",
       "    </tr>\n",
       "    <tr>\n",
       "      <th>...</th>\n",
       "      <td>...</td>\n",
       "      <td>...</td>\n",
       "      <td>...</td>\n",
       "      <td>...</td>\n",
       "      <td>...</td>\n",
       "      <td>...</td>\n",
       "    </tr>\n",
       "    <tr>\n",
       "      <th>699</th>\n",
       "      <td>2016-06</td>\n",
       "      <td>2016.458</td>\n",
       "      <td>406.81</td>\n",
       "      <td>406.81</td>\n",
       "      <td>404.47</td>\n",
       "      <td>26</td>\n",
       "    </tr>\n",
       "    <tr>\n",
       "      <th>700</th>\n",
       "      <td>2016-07</td>\n",
       "      <td>2016.542</td>\n",
       "      <td>404.39</td>\n",
       "      <td>404.39</td>\n",
       "      <td>404.00</td>\n",
       "      <td>28</td>\n",
       "    </tr>\n",
       "    <tr>\n",
       "      <th>701</th>\n",
       "      <td>2016-08</td>\n",
       "      <td>2016.625</td>\n",
       "      <td>402.25</td>\n",
       "      <td>402.25</td>\n",
       "      <td>404.09</td>\n",
       "      <td>23</td>\n",
       "    </tr>\n",
       "    <tr>\n",
       "      <th>702</th>\n",
       "      <td>2016-09</td>\n",
       "      <td>2016.708</td>\n",
       "      <td>401.03</td>\n",
       "      <td>401.03</td>\n",
       "      <td>404.46</td>\n",
       "      <td>24</td>\n",
       "    </tr>\n",
       "    <tr>\n",
       "      <th>703</th>\n",
       "      <td>2016-10</td>\n",
       "      <td>2016.792</td>\n",
       "      <td>401.57</td>\n",
       "      <td>401.57</td>\n",
       "      <td>404.93</td>\n",
       "      <td>29</td>\n",
       "    </tr>\n",
       "  </tbody>\n",
       "</table>\n",
       "<p>704 rows × 6 columns</p>\n",
       "</div>"
      ],
      "text/plain": [
       "        Date  Decimal Date  Average  Interpolated   Trend  Number of Days\n",
       "0    1958-03      1958.208   315.71        315.71  314.62              -1\n",
       "1    1958-04      1958.292   317.45        317.45  315.29              -1\n",
       "2    1958-05      1958.375   317.50        317.50  314.71              -1\n",
       "3    1958-06      1958.458   -99.99        317.10  314.85              -1\n",
       "4    1958-07      1958.542   315.86        315.86  314.98              -1\n",
       "..       ...           ...      ...           ...     ...             ...\n",
       "699  2016-06      2016.458   406.81        406.81  404.47              26\n",
       "700  2016-07      2016.542   404.39        404.39  404.00              28\n",
       "701  2016-08      2016.625   402.25        402.25  404.09              23\n",
       "702  2016-09      2016.708   401.03        401.03  404.46              24\n",
       "703  2016-10      2016.792   401.57        401.57  404.93              29\n",
       "\n",
       "[704 rows x 6 columns]"
      ]
     },
     "execution_count": 42,
     "metadata": {},
     "output_type": "execute_result"
    }
   ],
   "source": [
    "# Adding the CO2 level as a a feature\n",
    "CO2=pd.read_csv(\"input/co2-mm-mlo.csv\",sep=\",\")\n",
    "CO2"
   ]
  },
  {
   "cell_type": "code",
   "execution_count": 43,
   "id": "e3783556-1872-4a42-9546-fe498cbea045",
   "metadata": {},
   "outputs": [
    {
     "data": {
      "text/html": [
       "<div>\n",
       "<style scoped>\n",
       "    .dataframe tbody tr th:only-of-type {\n",
       "        vertical-align: middle;\n",
       "    }\n",
       "\n",
       "    .dataframe tbody tr th {\n",
       "        vertical-align: top;\n",
       "    }\n",
       "\n",
       "    .dataframe thead th {\n",
       "        text-align: right;\n",
       "    }\n",
       "</style>\n",
       "<table border=\"1\" class=\"dataframe\">\n",
       "  <thead>\n",
       "    <tr style=\"text-align: right;\">\n",
       "      <th></th>\n",
       "      <th>dt</th>\n",
       "      <th>LandAverageTemperature</th>\n",
       "      <th>LandMaxTemperature</th>\n",
       "      <th>LandMinTemperature</th>\n",
       "      <th>LandAndOceanAverageTemperature</th>\n",
       "      <th>Date</th>\n",
       "      <th>Average_CO2</th>\n",
       "    </tr>\n",
       "  </thead>\n",
       "  <tbody>\n",
       "    <tr>\n",
       "      <th>1286</th>\n",
       "      <td>1958-03-01</td>\n",
       "      <td>5.453</td>\n",
       "      <td>10.986</td>\n",
       "      <td>-0.916</td>\n",
       "      <td>14.381</td>\n",
       "      <td>1958-03-01</td>\n",
       "      <td>315.71</td>\n",
       "    </tr>\n",
       "    <tr>\n",
       "      <th>1287</th>\n",
       "      <td>1958-04-01</td>\n",
       "      <td>8.520</td>\n",
       "      <td>14.094</td>\n",
       "      <td>2.426</td>\n",
       "      <td>15.324</td>\n",
       "      <td>1958-04-01</td>\n",
       "      <td>317.45</td>\n",
       "    </tr>\n",
       "    <tr>\n",
       "      <th>1288</th>\n",
       "      <td>1958-05-01</td>\n",
       "      <td>11.519</td>\n",
       "      <td>17.054</td>\n",
       "      <td>5.430</td>\n",
       "      <td>16.216</td>\n",
       "      <td>1958-05-01</td>\n",
       "      <td>317.50</td>\n",
       "    </tr>\n",
       "    <tr>\n",
       "      <th>1289</th>\n",
       "      <td>1958-06-01</td>\n",
       "      <td>13.187</td>\n",
       "      <td>19.473</td>\n",
       "      <td>7.811</td>\n",
       "      <td>16.878</td>\n",
       "      <td>1958-06-01</td>\n",
       "      <td>-99.99</td>\n",
       "    </tr>\n",
       "    <tr>\n",
       "      <th>1290</th>\n",
       "      <td>1958-07-01</td>\n",
       "      <td>14.438</td>\n",
       "      <td>19.828</td>\n",
       "      <td>8.382</td>\n",
       "      <td>17.034</td>\n",
       "      <td>1958-07-01</td>\n",
       "      <td>315.86</td>\n",
       "    </tr>\n",
       "    <tr>\n",
       "      <th>...</th>\n",
       "      <td>...</td>\n",
       "      <td>...</td>\n",
       "      <td>...</td>\n",
       "      <td>...</td>\n",
       "      <td>...</td>\n",
       "      <td>...</td>\n",
       "      <td>...</td>\n",
       "    </tr>\n",
       "    <tr>\n",
       "      <th>1975</th>\n",
       "      <td>2015-08-01</td>\n",
       "      <td>14.755</td>\n",
       "      <td>20.790</td>\n",
       "      <td>9.047</td>\n",
       "      <td>17.607</td>\n",
       "      <td>2015-08-01</td>\n",
       "      <td>398.93</td>\n",
       "    </tr>\n",
       "    <tr>\n",
       "      <th>1976</th>\n",
       "      <td>2015-09-01</td>\n",
       "      <td>12.999</td>\n",
       "      <td>18.865</td>\n",
       "      <td>7.399</td>\n",
       "      <td>16.975</td>\n",
       "      <td>2015-09-01</td>\n",
       "      <td>397.63</td>\n",
       "    </tr>\n",
       "    <tr>\n",
       "      <th>1977</th>\n",
       "      <td>2015-10-01</td>\n",
       "      <td>10.801</td>\n",
       "      <td>16.066</td>\n",
       "      <td>4.689</td>\n",
       "      <td>16.029</td>\n",
       "      <td>2015-10-01</td>\n",
       "      <td>398.29</td>\n",
       "    </tr>\n",
       "    <tr>\n",
       "      <th>1978</th>\n",
       "      <td>2015-11-01</td>\n",
       "      <td>7.433</td>\n",
       "      <td>12.284</td>\n",
       "      <td>1.313</td>\n",
       "      <td>14.899</td>\n",
       "      <td>2015-11-01</td>\n",
       "      <td>400.16</td>\n",
       "    </tr>\n",
       "    <tr>\n",
       "      <th>1979</th>\n",
       "      <td>2015-12-01</td>\n",
       "      <td>5.518</td>\n",
       "      <td>10.190</td>\n",
       "      <td>-0.331</td>\n",
       "      <td>14.410</td>\n",
       "      <td>2015-12-01</td>\n",
       "      <td>401.85</td>\n",
       "    </tr>\n",
       "  </tbody>\n",
       "</table>\n",
       "<p>694 rows × 7 columns</p>\n",
       "</div>"
      ],
      "text/plain": [
       "             dt  LandAverageTemperature  LandMaxTemperature  \\\n",
       "1286 1958-03-01                   5.453              10.986   \n",
       "1287 1958-04-01                   8.520              14.094   \n",
       "1288 1958-05-01                  11.519              17.054   \n",
       "1289 1958-06-01                  13.187              19.473   \n",
       "1290 1958-07-01                  14.438              19.828   \n",
       "...         ...                     ...                 ...   \n",
       "1975 2015-08-01                  14.755              20.790   \n",
       "1976 2015-09-01                  12.999              18.865   \n",
       "1977 2015-10-01                  10.801              16.066   \n",
       "1978 2015-11-01                   7.433              12.284   \n",
       "1979 2015-12-01                   5.518              10.190   \n",
       "\n",
       "      LandMinTemperature  LandAndOceanAverageTemperature       Date  \\\n",
       "1286              -0.916                          14.381 1958-03-01   \n",
       "1287               2.426                          15.324 1958-04-01   \n",
       "1288               5.430                          16.216 1958-05-01   \n",
       "1289               7.811                          16.878 1958-06-01   \n",
       "1290               8.382                          17.034 1958-07-01   \n",
       "...                  ...                             ...        ...   \n",
       "1975               9.047                          17.607 2015-08-01   \n",
       "1976               7.399                          16.975 2015-09-01   \n",
       "1977               4.689                          16.029 2015-10-01   \n",
       "1978               1.313                          14.899 2015-11-01   \n",
       "1979              -0.331                          14.410 2015-12-01   \n",
       "\n",
       "      Average_CO2  \n",
       "1286       315.71  \n",
       "1287       317.45  \n",
       "1288       317.50  \n",
       "1289       -99.99  \n",
       "1290       315.86  \n",
       "...           ...  \n",
       "1975       398.93  \n",
       "1976       397.63  \n",
       "1977       398.29  \n",
       "1978       400.16  \n",
       "1979       401.85  \n",
       "\n",
       "[694 rows x 7 columns]"
      ]
     },
     "execution_count": 43,
     "metadata": {},
     "output_type": "execute_result"
    }
   ],
   "source": [
    "# We drop the year 2016 since we don't have the temperatures of 2016\n",
    "CO2 = CO2.drop(CO2.index[-10:])\n",
    "CO2[\"Date\"]=CO2[\"Date\"]+\"-01\"\n",
    "CO2[\"Date\"]=pd.to_datetime(CO2[\"Date\"])\n",
    "CO2=CO2.drop([\"Decimal Date\",\"Interpolated\",\"Trend\",\"Number of Days\"],axis=1)\n",
    "\n",
    "# We merge the temperatures data with the CO2 data and we keep \n",
    "#only the months where we have the average CO2 levels\n",
    "temperatures=pd.merge(left=df_global_temp_copy,right=CO2, left_on='dt', right_on='Date', how='outer')\n",
    "temp = pd.DataFrame.copy(temperatures)\n",
    "temp = temp.dropna()\n",
    "temp = temp.rename(index=str, columns={'Average':'Average_CO2'})\n",
    "temp"
   ]
  },
  {
   "cell_type": "code",
   "execution_count": 44,
   "id": "de23a291-0824-4428-be0b-ff0855621b66",
   "metadata": {},
   "outputs": [
    {
     "name": "stdout",
     "output_type": "stream",
     "text": [
      "<class 'pandas.core.frame.DataFrame'>\n",
      "Index: 694 entries, 1286 to 1979\n",
      "Data columns (total 7 columns):\n",
      " #   Column                          Non-Null Count  Dtype         \n",
      "---  ------                          --------------  -----         \n",
      " 0   dt                              694 non-null    datetime64[ns]\n",
      " 1   LandAverageTemperature          694 non-null    float64       \n",
      " 2   LandMaxTemperature              694 non-null    float64       \n",
      " 3   LandMinTemperature              694 non-null    float64       \n",
      " 4   LandAndOceanAverageTemperature  694 non-null    float64       \n",
      " 5   Date                            694 non-null    datetime64[ns]\n",
      " 6   Average_CO2                     694 non-null    float64       \n",
      "dtypes: datetime64[ns](2), float64(5)\n",
      "memory usage: 43.4+ KB\n"
     ]
    }
   ],
   "source": [
    "temp.info()"
   ]
  },
  {
   "cell_type": "code",
   "execution_count": 45,
   "id": "54ce5194-3a30-4159-8d4b-cf4e80b3ab1b",
   "metadata": {},
   "outputs": [],
   "source": [
    "df = copy.deepcopy(temp)\n",
    "df['dt'] = df['dt'].map(lambda x: x.year)\n",
    "df_global_mean = df.groupby(['dt']).agg({'LandAverageTemperature': np.mean,\n",
    "                             'Average_CO2': np.mean})\n",
    "df_global_mean.reset_index(inplace=True)\n",
    "df_global_mean.rename(columns = {'LandAverageTemperature':'Temperatures', \n",
    "                      'Average_CO2':'Average_CO2', \n",
    "                      'dt':'Years'}, inplace = True)\n",
    "df_global_mean['Temperatures'] = np.round(df_global_mean['Temperatures'], 2)\n",
    "df_global_mean['Average_CO2'] = np.round(df_global_mean['Average_CO2'], 2)"
   ]
  },
  {
   "cell_type": "code",
   "execution_count": 46,
   "id": "3070fb52-34f0-4ed6-afed-219229221dd2",
   "metadata": {},
   "outputs": [
    {
     "data": {
      "application/vnd.plotly.v1+json": {
       "config": {
        "plotlyServerURL": "https://plot.ly"
       },
       "data": [
        {
         "name": "Temperatures",
         "type": "scatter",
         "x": [
          1958,
          1959,
          1960,
          1961,
          1962,
          1963,
          1964,
          1965,
          1966,
          1967,
          1968,
          1969,
          1970,
          1971,
          1972,
          1973,
          1974,
          1975,
          1976,
          1977,
          1978,
          1979,
          1980,
          1981,
          1982,
          1983,
          1984,
          1985,
          1986,
          1987,
          1988,
          1989,
          1990,
          1991,
          1992,
          1993,
          1994,
          1995,
          1996,
          1997,
          1998,
          1999,
          2000,
          2001,
          2002,
          2003,
          2004,
          2005,
          2006,
          2007,
          2008,
          2009,
          2010,
          2011,
          2012,
          2013,
          2014,
          2015
         ],
         "xaxis": "x",
         "y": [
          9.8,
          8.73,
          8.58,
          8.8,
          8.75,
          8.86,
          8.41,
          8.53,
          8.6,
          8.7,
          8.52,
          8.6,
          8.7,
          8.6,
          8.5,
          8.95,
          8.47,
          8.74,
          8.35,
          8.85,
          8.69,
          8.73,
          8.98,
          9.17,
          8.64,
          9.03,
          8.69,
          8.66,
          8.83,
          8.99,
          9.2,
          8.92,
          9.23,
          9.18,
          8.84,
          8.87,
          9.04,
          9.35,
          9.04,
          9.2,
          9.52,
          9.29,
          9.2,
          9.41,
          9.57,
          9.53,
          9.32,
          9.7,
          9.53,
          9.73,
          9.43,
          9.51,
          9.7,
          9.52,
          9.51,
          9.61,
          9.57,
          9.83
         ],
         "yaxis": "y"
        },
        {
         "name": "Average_CO2",
         "type": "scatter",
         "x": [
          1958,
          1959,
          1960,
          1961,
          1962,
          1963,
          1964,
          1965,
          1966,
          1967,
          1968,
          1969,
          1970,
          1971,
          1972,
          1973,
          1974,
          1975,
          1976,
          1977,
          1978,
          1979,
          1980,
          1981,
          1982,
          1983,
          1984,
          1985,
          1986,
          1987,
          1988,
          1989,
          1990,
          1991,
          1992,
          1993,
          1994,
          1995,
          1996,
          1997,
          1998,
          1999,
          2000,
          2001,
          2002,
          2003,
          2004,
          2005,
          2006,
          2007,
          2008,
          2009,
          2010,
          2011,
          2012,
          2013,
          2014,
          2015
         ],
         "xaxis": "x2",
         "y": [
          232.27,
          315.97,
          316.91,
          317.64,
          318.45,
          318.99,
          214.41,
          320.04,
          321.38,
          322.16,
          323.04,
          324.62,
          325.68,
          326.32,
          327.45,
          329.68,
          330.18,
          295.2,
          332.05,
          333.78,
          335.41,
          336.78,
          338.68,
          340.1,
          341.44,
          343.02,
          307.35,
          346.04,
          347.38,
          349.16,
          351.56,
          353.07,
          354.35,
          355.57,
          356.38,
          357.07,
          358.82,
          360.8,
          362.59,
          363.7,
          366.65,
          368.33,
          369.52,
          371.13,
          373.22,
          375.77,
          377.49,
          379.8,
          381.9,
          383.76,
          385.59,
          387.37,
          389.84,
          391.63,
          393.82,
          396.48,
          398.61,
          400.83
         ],
         "yaxis": "y2"
        }
       ],
       "layout": {
        "height": 600,
        "template": {
         "data": {
          "bar": [
           {
            "error_x": {
             "color": "#2a3f5f"
            },
            "error_y": {
             "color": "#2a3f5f"
            },
            "marker": {
             "line": {
              "color": "#E5ECF6",
              "width": 0.5
             },
             "pattern": {
              "fillmode": "overlay",
              "size": 10,
              "solidity": 0.2
             }
            },
            "type": "bar"
           }
          ],
          "barpolar": [
           {
            "marker": {
             "line": {
              "color": "#E5ECF6",
              "width": 0.5
             },
             "pattern": {
              "fillmode": "overlay",
              "size": 10,
              "solidity": 0.2
             }
            },
            "type": "barpolar"
           }
          ],
          "carpet": [
           {
            "aaxis": {
             "endlinecolor": "#2a3f5f",
             "gridcolor": "white",
             "linecolor": "white",
             "minorgridcolor": "white",
             "startlinecolor": "#2a3f5f"
            },
            "baxis": {
             "endlinecolor": "#2a3f5f",
             "gridcolor": "white",
             "linecolor": "white",
             "minorgridcolor": "white",
             "startlinecolor": "#2a3f5f"
            },
            "type": "carpet"
           }
          ],
          "choropleth": [
           {
            "colorbar": {
             "outlinewidth": 0,
             "ticks": ""
            },
            "type": "choropleth"
           }
          ],
          "contour": [
           {
            "colorbar": {
             "outlinewidth": 0,
             "ticks": ""
            },
            "colorscale": [
             [
              0,
              "#0d0887"
             ],
             [
              0.1111111111111111,
              "#46039f"
             ],
             [
              0.2222222222222222,
              "#7201a8"
             ],
             [
              0.3333333333333333,
              "#9c179e"
             ],
             [
              0.4444444444444444,
              "#bd3786"
             ],
             [
              0.5555555555555556,
              "#d8576b"
             ],
             [
              0.6666666666666666,
              "#ed7953"
             ],
             [
              0.7777777777777778,
              "#fb9f3a"
             ],
             [
              0.8888888888888888,
              "#fdca26"
             ],
             [
              1,
              "#f0f921"
             ]
            ],
            "type": "contour"
           }
          ],
          "contourcarpet": [
           {
            "colorbar": {
             "outlinewidth": 0,
             "ticks": ""
            },
            "type": "contourcarpet"
           }
          ],
          "heatmap": [
           {
            "colorbar": {
             "outlinewidth": 0,
             "ticks": ""
            },
            "colorscale": [
             [
              0,
              "#0d0887"
             ],
             [
              0.1111111111111111,
              "#46039f"
             ],
             [
              0.2222222222222222,
              "#7201a8"
             ],
             [
              0.3333333333333333,
              "#9c179e"
             ],
             [
              0.4444444444444444,
              "#bd3786"
             ],
             [
              0.5555555555555556,
              "#d8576b"
             ],
             [
              0.6666666666666666,
              "#ed7953"
             ],
             [
              0.7777777777777778,
              "#fb9f3a"
             ],
             [
              0.8888888888888888,
              "#fdca26"
             ],
             [
              1,
              "#f0f921"
             ]
            ],
            "type": "heatmap"
           }
          ],
          "heatmapgl": [
           {
            "colorbar": {
             "outlinewidth": 0,
             "ticks": ""
            },
            "colorscale": [
             [
              0,
              "#0d0887"
             ],
             [
              0.1111111111111111,
              "#46039f"
             ],
             [
              0.2222222222222222,
              "#7201a8"
             ],
             [
              0.3333333333333333,
              "#9c179e"
             ],
             [
              0.4444444444444444,
              "#bd3786"
             ],
             [
              0.5555555555555556,
              "#d8576b"
             ],
             [
              0.6666666666666666,
              "#ed7953"
             ],
             [
              0.7777777777777778,
              "#fb9f3a"
             ],
             [
              0.8888888888888888,
              "#fdca26"
             ],
             [
              1,
              "#f0f921"
             ]
            ],
            "type": "heatmapgl"
           }
          ],
          "histogram": [
           {
            "marker": {
             "pattern": {
              "fillmode": "overlay",
              "size": 10,
              "solidity": 0.2
             }
            },
            "type": "histogram"
           }
          ],
          "histogram2d": [
           {
            "colorbar": {
             "outlinewidth": 0,
             "ticks": ""
            },
            "colorscale": [
             [
              0,
              "#0d0887"
             ],
             [
              0.1111111111111111,
              "#46039f"
             ],
             [
              0.2222222222222222,
              "#7201a8"
             ],
             [
              0.3333333333333333,
              "#9c179e"
             ],
             [
              0.4444444444444444,
              "#bd3786"
             ],
             [
              0.5555555555555556,
              "#d8576b"
             ],
             [
              0.6666666666666666,
              "#ed7953"
             ],
             [
              0.7777777777777778,
              "#fb9f3a"
             ],
             [
              0.8888888888888888,
              "#fdca26"
             ],
             [
              1,
              "#f0f921"
             ]
            ],
            "type": "histogram2d"
           }
          ],
          "histogram2dcontour": [
           {
            "colorbar": {
             "outlinewidth": 0,
             "ticks": ""
            },
            "colorscale": [
             [
              0,
              "#0d0887"
             ],
             [
              0.1111111111111111,
              "#46039f"
             ],
             [
              0.2222222222222222,
              "#7201a8"
             ],
             [
              0.3333333333333333,
              "#9c179e"
             ],
             [
              0.4444444444444444,
              "#bd3786"
             ],
             [
              0.5555555555555556,
              "#d8576b"
             ],
             [
              0.6666666666666666,
              "#ed7953"
             ],
             [
              0.7777777777777778,
              "#fb9f3a"
             ],
             [
              0.8888888888888888,
              "#fdca26"
             ],
             [
              1,
              "#f0f921"
             ]
            ],
            "type": "histogram2dcontour"
           }
          ],
          "mesh3d": [
           {
            "colorbar": {
             "outlinewidth": 0,
             "ticks": ""
            },
            "type": "mesh3d"
           }
          ],
          "parcoords": [
           {
            "line": {
             "colorbar": {
              "outlinewidth": 0,
              "ticks": ""
             }
            },
            "type": "parcoords"
           }
          ],
          "pie": [
           {
            "automargin": true,
            "type": "pie"
           }
          ],
          "scatter": [
           {
            "marker": {
             "colorbar": {
              "outlinewidth": 0,
              "ticks": ""
             }
            },
            "type": "scatter"
           }
          ],
          "scatter3d": [
           {
            "line": {
             "colorbar": {
              "outlinewidth": 0,
              "ticks": ""
             }
            },
            "marker": {
             "colorbar": {
              "outlinewidth": 0,
              "ticks": ""
             }
            },
            "type": "scatter3d"
           }
          ],
          "scattercarpet": [
           {
            "marker": {
             "colorbar": {
              "outlinewidth": 0,
              "ticks": ""
             }
            },
            "type": "scattercarpet"
           }
          ],
          "scattergeo": [
           {
            "marker": {
             "colorbar": {
              "outlinewidth": 0,
              "ticks": ""
             }
            },
            "type": "scattergeo"
           }
          ],
          "scattergl": [
           {
            "marker": {
             "colorbar": {
              "outlinewidth": 0,
              "ticks": ""
             }
            },
            "type": "scattergl"
           }
          ],
          "scattermapbox": [
           {
            "marker": {
             "colorbar": {
              "outlinewidth": 0,
              "ticks": ""
             }
            },
            "type": "scattermapbox"
           }
          ],
          "scatterpolar": [
           {
            "marker": {
             "colorbar": {
              "outlinewidth": 0,
              "ticks": ""
             }
            },
            "type": "scatterpolar"
           }
          ],
          "scatterpolargl": [
           {
            "marker": {
             "colorbar": {
              "outlinewidth": 0,
              "ticks": ""
             }
            },
            "type": "scatterpolargl"
           }
          ],
          "scatterternary": [
           {
            "marker": {
             "colorbar": {
              "outlinewidth": 0,
              "ticks": ""
             }
            },
            "type": "scatterternary"
           }
          ],
          "surface": [
           {
            "colorbar": {
             "outlinewidth": 0,
             "ticks": ""
            },
            "colorscale": [
             [
              0,
              "#0d0887"
             ],
             [
              0.1111111111111111,
              "#46039f"
             ],
             [
              0.2222222222222222,
              "#7201a8"
             ],
             [
              0.3333333333333333,
              "#9c179e"
             ],
             [
              0.4444444444444444,
              "#bd3786"
             ],
             [
              0.5555555555555556,
              "#d8576b"
             ],
             [
              0.6666666666666666,
              "#ed7953"
             ],
             [
              0.7777777777777778,
              "#fb9f3a"
             ],
             [
              0.8888888888888888,
              "#fdca26"
             ],
             [
              1,
              "#f0f921"
             ]
            ],
            "type": "surface"
           }
          ],
          "table": [
           {
            "cells": {
             "fill": {
              "color": "#EBF0F8"
             },
             "line": {
              "color": "white"
             }
            },
            "header": {
             "fill": {
              "color": "#C8D4E3"
             },
             "line": {
              "color": "white"
             }
            },
            "type": "table"
           }
          ]
         },
         "layout": {
          "annotationdefaults": {
           "arrowcolor": "#2a3f5f",
           "arrowhead": 0,
           "arrowwidth": 1
          },
          "autotypenumbers": "strict",
          "coloraxis": {
           "colorbar": {
            "outlinewidth": 0,
            "ticks": ""
           }
          },
          "colorscale": {
           "diverging": [
            [
             0,
             "#8e0152"
            ],
            [
             0.1,
             "#c51b7d"
            ],
            [
             0.2,
             "#de77ae"
            ],
            [
             0.3,
             "#f1b6da"
            ],
            [
             0.4,
             "#fde0ef"
            ],
            [
             0.5,
             "#f7f7f7"
            ],
            [
             0.6,
             "#e6f5d0"
            ],
            [
             0.7,
             "#b8e186"
            ],
            [
             0.8,
             "#7fbc41"
            ],
            [
             0.9,
             "#4d9221"
            ],
            [
             1,
             "#276419"
            ]
           ],
           "sequential": [
            [
             0,
             "#0d0887"
            ],
            [
             0.1111111111111111,
             "#46039f"
            ],
            [
             0.2222222222222222,
             "#7201a8"
            ],
            [
             0.3333333333333333,
             "#9c179e"
            ],
            [
             0.4444444444444444,
             "#bd3786"
            ],
            [
             0.5555555555555556,
             "#d8576b"
            ],
            [
             0.6666666666666666,
             "#ed7953"
            ],
            [
             0.7777777777777778,
             "#fb9f3a"
            ],
            [
             0.8888888888888888,
             "#fdca26"
            ],
            [
             1,
             "#f0f921"
            ]
           ],
           "sequentialminus": [
            [
             0,
             "#0d0887"
            ],
            [
             0.1111111111111111,
             "#46039f"
            ],
            [
             0.2222222222222222,
             "#7201a8"
            ],
            [
             0.3333333333333333,
             "#9c179e"
            ],
            [
             0.4444444444444444,
             "#bd3786"
            ],
            [
             0.5555555555555556,
             "#d8576b"
            ],
            [
             0.6666666666666666,
             "#ed7953"
            ],
            [
             0.7777777777777778,
             "#fb9f3a"
            ],
            [
             0.8888888888888888,
             "#fdca26"
            ],
            [
             1,
             "#f0f921"
            ]
           ]
          },
          "colorway": [
           "#636efa",
           "#EF553B",
           "#00cc96",
           "#ab63fa",
           "#FFA15A",
           "#19d3f3",
           "#FF6692",
           "#B6E880",
           "#FF97FF",
           "#FECB52"
          ],
          "font": {
           "color": "#2a3f5f"
          },
          "geo": {
           "bgcolor": "white",
           "lakecolor": "white",
           "landcolor": "#E5ECF6",
           "showlakes": true,
           "showland": true,
           "subunitcolor": "white"
          },
          "hoverlabel": {
           "align": "left"
          },
          "hovermode": "closest",
          "mapbox": {
           "style": "light"
          },
          "paper_bgcolor": "white",
          "plot_bgcolor": "#E5ECF6",
          "polar": {
           "angularaxis": {
            "gridcolor": "white",
            "linecolor": "white",
            "ticks": ""
           },
           "bgcolor": "#E5ECF6",
           "radialaxis": {
            "gridcolor": "white",
            "linecolor": "white",
            "ticks": ""
           }
          },
          "scene": {
           "xaxis": {
            "backgroundcolor": "#E5ECF6",
            "gridcolor": "white",
            "gridwidth": 2,
            "linecolor": "white",
            "showbackground": true,
            "ticks": "",
            "zerolinecolor": "white"
           },
           "yaxis": {
            "backgroundcolor": "#E5ECF6",
            "gridcolor": "white",
            "gridwidth": 2,
            "linecolor": "white",
            "showbackground": true,
            "ticks": "",
            "zerolinecolor": "white"
           },
           "zaxis": {
            "backgroundcolor": "#E5ECF6",
            "gridcolor": "white",
            "gridwidth": 2,
            "linecolor": "white",
            "showbackground": true,
            "ticks": "",
            "zerolinecolor": "white"
           }
          },
          "shapedefaults": {
           "line": {
            "color": "#2a3f5f"
           }
          },
          "ternary": {
           "aaxis": {
            "gridcolor": "white",
            "linecolor": "white",
            "ticks": ""
           },
           "baxis": {
            "gridcolor": "white",
            "linecolor": "white",
            "ticks": ""
           },
           "bgcolor": "#E5ECF6",
           "caxis": {
            "gridcolor": "white",
            "linecolor": "white",
            "ticks": ""
           }
          },
          "title": {
           "x": 0.05
          },
          "xaxis": {
           "automargin": true,
           "gridcolor": "white",
           "linecolor": "white",
           "ticks": "",
           "title": {
            "standoff": 15
           },
           "zerolinecolor": "white",
           "zerolinewidth": 2
          },
          "yaxis": {
           "automargin": true,
           "gridcolor": "white",
           "linecolor": "white",
           "ticks": "",
           "title": {
            "standoff": 15
           },
           "zerolinecolor": "white",
           "zerolinewidth": 2
          }
         }
        },
        "title": {
         "text": "Land Average Temperature and Average CO2 emmission over the Years"
        },
        "width": 800,
        "xaxis": {
         "anchor": "y",
         "autorange": true,
         "domain": [
          0,
          1
         ],
         "range": [
          1958,
          2015
         ],
         "type": "linear"
        },
        "xaxis2": {
         "anchor": "y2",
         "autorange": true,
         "domain": [
          0,
          1
         ],
         "range": [
          1958,
          2015
         ],
         "type": "linear"
        },
        "yaxis": {
         "anchor": "x",
         "autorange": true,
         "domain": [
          0.575,
          1
         ],
         "range": [
          8.267777777777777,
          9.912222222222223
         ],
         "type": "linear"
        },
        "yaxis2": {
         "anchor": "x2",
         "autorange": true,
         "domain": [
          0,
          0.425
         ],
         "range": [
          204.05333333333334,
          411.18666666666667
         ],
         "type": "linear"
        }
       }
      },
      "image/png": "[encoded data removed]",
      "text/html": [
       "<div>                            <div id=\"0e0a78e1-420d-439e-aa91-87053ffd6cd4\" class=\"plotly-graph-div\" style=\"height:600px; width:800px;\"></div>            <script type=\"text/javascript\">                require([\"plotly\"], function(Plotly) {                    window.PLOTLYENV=window.PLOTLYENV || {};                                    if (document.getElementById(\"0e0a78e1-420d-439e-aa91-87053ffd6cd4\")) {                    Plotly.newPlot(                        \"0e0a78e1-420d-439e-aa91-87053ffd6cd4\",                        [{\"name\":\"Temperatures\",\"type\":\"scatter\",\"x\":[1958,1959,1960,1961,1962,1963,1964,1965,1966,1967,1968,1969,1970,1971,1972,1973,1974,1975,1976,1977,1978,1979,1980,1981,1982,1983,1984,1985,1986,1987,1988,1989,1990,1991,1992,1993,1994,1995,1996,1997,1998,1999,2000,2001,2002,2003,2004,2005,2006,2007,2008,2009,2010,2011,2012,2013,2014,2015],\"xaxis\":\"x\",\"y\":[9.8,8.73,8.58,8.8,8.75,8.86,8.41,8.53,8.6,8.7,8.52,8.6,8.7,8.6,8.5,8.95,8.47,8.74,8.35,8.85,8.69,8.73,8.98,9.17,8.64,9.03,8.69,8.66,8.83,8.99,9.2,8.92,9.23,9.18,8.84,8.87,9.04,9.35,9.04,9.2,9.52,9.29,9.2,9.41,9.57,9.53,9.32,9.7,9.53,9.73,9.43,9.51,9.7,9.52,9.51,9.61,9.57,9.83],\"yaxis\":\"y\"},{\"name\":\"Average_CO2\",\"type\":\"scatter\",\"x\":[1958,1959,1960,1961,1962,1963,1964,1965,1966,1967,1968,1969,1970,1971,1972,1973,1974,1975,1976,1977,1978,1979,1980,1981,1982,1983,1984,1985,1986,1987,1988,1989,1990,1991,1992,1993,1994,1995,1996,1997,1998,1999,2000,2001,2002,2003,2004,2005,2006,2007,2008,2009,2010,2011,2012,2013,2014,2015],\"xaxis\":\"x2\",\"y\":[232.27,315.97,316.91,317.64,318.45,318.99,214.41,320.04,321.38,322.16,323.04,324.62,325.68,326.32,327.45,329.68,330.18,295.2,332.05,333.78,335.41,336.78,338.68,340.1,341.44,343.02,307.35,346.04,347.38,349.16,351.56,353.07,354.35,355.57,356.38,357.07,358.82,360.8,362.59,363.7,366.65,368.33,369.52,371.13,373.22,375.77,377.49,379.8,381.9,383.76,385.59,387.37,389.84,391.63,393.82,396.48,398.61,400.83],\"yaxis\":\"y2\"}],                        {\"height\":600,\"template\":{\"data\":{\"bar\":[{\"error_x\":{\"color\":\"#2a3f5f\"},\"error_y\":{\"color\":\"#2a3f5f\"},\"marker\":{\"line\":{\"color\":\"#E5ECF6\",\"width\":0.5},\"pattern\":{\"fillmode\":\"overlay\",\"size\":10,\"solidity\":0.2}},\"type\":\"bar\"}],\"barpolar\":[{\"marker\":{\"line\":{\"color\":\"#E5ECF6\",\"width\":0.5},\"pattern\":{\"fillmode\":\"overlay\",\"size\":10,\"solidity\":0.2}},\"type\":\"barpolar\"}],\"carpet\":[{\"aaxis\":{\"endlinecolor\":\"#2a3f5f\",\"gridcolor\":\"white\",\"linecolor\":\"white\",\"minorgridcolor\":\"white\",\"startlinecolor\":\"#2a3f5f\"},\"baxis\":{\"endlinecolor\":\"#2a3f5f\",\"gridcolor\":\"white\",\"linecolor\":\"white\",\"minorgridcolor\":\"white\",\"startlinecolor\":\"#2a3f5f\"},\"type\":\"carpet\"}],\"choropleth\":[{\"colorbar\":{\"outlinewidth\":0,\"ticks\":\"\"},\"type\":\"choropleth\"}],\"contour\":[{\"colorbar\":{\"outlinewidth\":0,\"ticks\":\"\"},\"colorscale\":[[0.0,\"#0d0887\"],[0.1111111111111111,\"#46039f\"],[0.2222222222222222,\"#7201a8\"],[0.3333333333333333,\"#9c179e\"],[0.4444444444444444,\"#bd3786\"],[0.5555555555555556,\"#d8576b\"],[0.6666666666666666,\"#ed7953\"],[0.7777777777777778,\"#fb9f3a\"],[0.8888888888888888,\"#fdca26\"],[1.0,\"#f0f921\"]],\"type\":\"contour\"}],\"contourcarpet\":[{\"colorbar\":{\"outlinewidth\":0,\"ticks\":\"\"},\"type\":\"contourcarpet\"}],\"heatmap\":[{\"colorbar\":{\"outlinewidth\":0,\"ticks\":\"\"},\"colorscale\":[[0.0,\"#0d0887\"],[0.1111111111111111,\"#46039f\"],[0.2222222222222222,\"#7201a8\"],[0.3333333333333333,\"#9c179e\"],[0.4444444444444444,\"#bd3786\"],[0.5555555555555556,\"#d8576b\"],[0.6666666666666666,\"#ed7953\"],[0.7777777777777778,\"#fb9f3a\"],[0.8888888888888888,\"#fdca26\"],[1.0,\"#f0f921\"]],\"type\":\"heatmap\"}],\"heatmapgl\":[{\"colorbar\":{\"outlinewidth\":0,\"ticks\":\"\"},\"colorscale\":[[0.0,\"#0d0887\"],[0.1111111111111111,\"#46039f\"],[0.2222222222222222,\"#7201a8\"],[0.3333333333333333,\"#9c179e\"],[0.4444444444444444,\"#bd3786\"],[0.5555555555555556,\"#d8576b\"],[0.6666666666666666,\"#ed7953\"],[0.7777777777777778,\"#fb9f3a\"],[0.8888888888888888,\"#fdca26\"],[1.0,\"#f0f921\"]],\"type\":\"heatmapgl\"}],\"histogram\":[{\"marker\":{\"pattern\":{\"fillmode\":\"overlay\",\"size\":10,\"solidity\":0.2}},\"type\":\"histogram\"}],\"histogram2d\":[{\"colorbar\":{\"outlinewidth\":0,\"ticks\":\"\"},\"colorscale\":[[0.0,\"#0d0887\"],[0.1111111111111111,\"#46039f\"],[0.2222222222222222,\"#7201a8\"],[0.3333333333333333,\"#9c179e\"],[0.4444444444444444,\"#bd3786\"],[0.5555555555555556,\"#d8576b\"],[0.6666666666666666,\"#ed7953\"],[0.7777777777777778,\"#fb9f3a\"],[0.8888888888888888,\"#fdca26\"],[1.0,\"#f0f921\"]],\"type\":\"histogram2d\"}],\"histogram2dcontour\":[{\"colorbar\":{\"outlinewidth\":0,\"ticks\":\"\"},\"colorscale\":[[0.0,\"#0d0887\"],[0.1111111111111111,\"#46039f\"],[0.2222222222222222,\"#7201a8\"],[0.3333333333333333,\"#9c179e\"],[0.4444444444444444,\"#bd3786\"],[0.5555555555555556,\"#d8576b\"],[0.6666666666666666,\"#ed7953\"],[0.7777777777777778,\"#fb9f3a\"],[0.8888888888888888,\"#fdca26\"],[1.0,\"#f0f921\"]],\"type\":\"histogram2dcontour\"}],\"mesh3d\":[{\"colorbar\":{\"outlinewidth\":0,\"ticks\":\"\"},\"type\":\"mesh3d\"}],\"parcoords\":[{\"line\":{\"colorbar\":{\"outlinewidth\":0,\"ticks\":\"\"}},\"type\":\"parcoords\"}],\"pie\":[{\"automargin\":true,\"type\":\"pie\"}],\"scatter\":[{\"marker\":{\"colorbar\":{\"outlinewidth\":0,\"ticks\":\"\"}},\"type\":\"scatter\"}],\"scatter3d\":[{\"line\":{\"colorbar\":{\"outlinewidth\":0,\"ticks\":\"\"}},\"marker\":{\"colorbar\":{\"outlinewidth\":0,\"ticks\":\"\"}},\"type\":\"scatter3d\"}],\"scattercarpet\":[{\"marker\":{\"colorbar\":{\"outlinewidth\":0,\"ticks\":\"\"}},\"type\":\"scattercarpet\"}],\"scattergeo\":[{\"marker\":{\"colorbar\":{\"outlinewidth\":0,\"ticks\":\"\"}},\"type\":\"scattergeo\"}],\"scattergl\":[{\"marker\":{\"colorbar\":{\"outlinewidth\":0,\"ticks\":\"\"}},\"type\":\"scattergl\"}],\"scattermapbox\":[{\"marker\":{\"colorbar\":{\"outlinewidth\":0,\"ticks\":\"\"}},\"type\":\"scattermapbox\"}],\"scatterpolar\":[{\"marker\":{\"colorbar\":{\"outlinewidth\":0,\"ticks\":\"\"}},\"type\":\"scatterpolar\"}],\"scatterpolargl\":[{\"marker\":{\"colorbar\":{\"outlinewidth\":0,\"ticks\":\"\"}},\"type\":\"scatterpolargl\"}],\"scatterternary\":[{\"marker\":{\"colorbar\":{\"outlinewidth\":0,\"ticks\":\"\"}},\"type\":\"scatterternary\"}],\"surface\":[{\"colorbar\":{\"outlinewidth\":0,\"ticks\":\"\"},\"colorscale\":[[0.0,\"#0d0887\"],[0.1111111111111111,\"#46039f\"],[0.2222222222222222,\"#7201a8\"],[0.3333333333333333,\"#9c179e\"],[0.4444444444444444,\"#bd3786\"],[0.5555555555555556,\"#d8576b\"],[0.6666666666666666,\"#ed7953\"],[0.7777777777777778,\"#fb9f3a\"],[0.8888888888888888,\"#fdca26\"],[1.0,\"#f0f921\"]],\"type\":\"surface\"}],\"table\":[{\"cells\":{\"fill\":{\"color\":\"#EBF0F8\"},\"line\":{\"color\":\"white\"}},\"header\":{\"fill\":{\"color\":\"#C8D4E3\"},\"line\":{\"color\":\"white\"}},\"type\":\"table\"}]},\"layout\":{\"annotationdefaults\":{\"arrowcolor\":\"#2a3f5f\",\"arrowhead\":0,\"arrowwidth\":1},\"autotypenumbers\":\"strict\",\"coloraxis\":{\"colorbar\":{\"outlinewidth\":0,\"ticks\":\"\"}},\"colorscale\":{\"diverging\":[[0,\"#8e0152\"],[0.1,\"#c51b7d\"],[0.2,\"#de77ae\"],[0.3,\"#f1b6da\"],[0.4,\"#fde0ef\"],[0.5,\"#f7f7f7\"],[0.6,\"#e6f5d0\"],[0.7,\"#b8e186\"],[0.8,\"#7fbc41\"],[0.9,\"#4d9221\"],[1,\"#276419\"]],\"sequential\":[[0.0,\"#0d0887\"],[0.1111111111111111,\"#46039f\"],[0.2222222222222222,\"#7201a8\"],[0.3333333333333333,\"#9c179e\"],[0.4444444444444444,\"#bd3786\"],[0.5555555555555556,\"#d8576b\"],[0.6666666666666666,\"#ed7953\"],[0.7777777777777778,\"#fb9f3a\"],[0.8888888888888888,\"#fdca26\"],[1.0,\"#f0f921\"]],\"sequentialminus\":[[0.0,\"#0d0887\"],[0.1111111111111111,\"#46039f\"],[0.2222222222222222,\"#7201a8\"],[0.3333333333333333,\"#9c179e\"],[0.4444444444444444,\"#bd3786\"],[0.5555555555555556,\"#d8576b\"],[0.6666666666666666,\"#ed7953\"],[0.7777777777777778,\"#fb9f3a\"],[0.8888888888888888,\"#fdca26\"],[1.0,\"#f0f921\"]]},\"colorway\":[\"#636efa\",\"#EF553B\",\"#00cc96\",\"#ab63fa\",\"#FFA15A\",\"#19d3f3\",\"#FF6692\",\"#B6E880\",\"#FF97FF\",\"#FECB52\"],\"font\":{\"color\":\"#2a3f5f\"},\"geo\":{\"bgcolor\":\"white\",\"lakecolor\":\"white\",\"landcolor\":\"#E5ECF6\",\"showlakes\":true,\"showland\":true,\"subunitcolor\":\"white\"},\"hoverlabel\":{\"align\":\"left\"},\"hovermode\":\"closest\",\"mapbox\":{\"style\":\"light\"},\"paper_bgcolor\":\"white\",\"plot_bgcolor\":\"#E5ECF6\",\"polar\":{\"angularaxis\":{\"gridcolor\":\"white\",\"linecolor\":\"white\",\"ticks\":\"\"},\"bgcolor\":\"#E5ECF6\",\"radialaxis\":{\"gridcolor\":\"white\",\"linecolor\":\"white\",\"ticks\":\"\"}},\"scene\":{\"xaxis\":{\"backgroundcolor\":\"#E5ECF6\",\"gridcolor\":\"white\",\"gridwidth\":2,\"linecolor\":\"white\",\"showbackground\":true,\"ticks\":\"\",\"zerolinecolor\":\"white\"},\"yaxis\":{\"backgroundcolor\":\"#E5ECF6\",\"gridcolor\":\"white\",\"gridwidth\":2,\"linecolor\":\"white\",\"showbackground\":true,\"ticks\":\"\",\"zerolinecolor\":\"white\"},\"zaxis\":{\"backgroundcolor\":\"#E5ECF6\",\"gridcolor\":\"white\",\"gridwidth\":2,\"linecolor\":\"white\",\"showbackground\":true,\"ticks\":\"\",\"zerolinecolor\":\"white\"}},\"shapedefaults\":{\"line\":{\"color\":\"#2a3f5f\"}},\"ternary\":{\"aaxis\":{\"gridcolor\":\"white\",\"linecolor\":\"white\",\"ticks\":\"\"},\"baxis\":{\"gridcolor\":\"white\",\"linecolor\":\"white\",\"ticks\":\"\"},\"bgcolor\":\"#E5ECF6\",\"caxis\":{\"gridcolor\":\"white\",\"linecolor\":\"white\",\"ticks\":\"\"}},\"title\":{\"x\":0.05},\"xaxis\":{\"automargin\":true,\"gridcolor\":\"white\",\"linecolor\":\"white\",\"ticks\":\"\",\"title\":{\"standoff\":15},\"zerolinecolor\":\"white\",\"zerolinewidth\":2},\"yaxis\":{\"automargin\":true,\"gridcolor\":\"white\",\"linecolor\":\"white\",\"ticks\":\"\",\"title\":{\"standoff\":15},\"zerolinecolor\":\"white\",\"zerolinewidth\":2}}},\"title\":{\"text\":\"Land Average Temperature and Average CO2 emmission over the Years\"},\"width\":800,\"xaxis\":{\"anchor\":\"y\",\"domain\":[0.0,1.0]},\"xaxis2\":{\"anchor\":\"y2\",\"domain\":[0.0,1.0]},\"yaxis\":{\"anchor\":\"x\",\"domain\":[0.575,1.0]},\"yaxis2\":{\"anchor\":\"x2\",\"domain\":[0.0,0.425]}},                        {\"responsive\": true}                    ).then(function(){\n",
       "                            \n",
       "var gd = document.getElementById('0e0a78e1-420d-439e-aa91-87053ffd6cd4');\n",
       "var x = new MutationObserver(function (mutations, observer) {{\n",
       "        var display = window.getComputedStyle(gd).display;\n",
       "        if (!display || display === 'none') {{\n",
       "            console.log([gd, 'removed!']);\n",
       "            Plotly.purge(gd);\n",
       "            observer.disconnect();\n",
       "        }}\n",
       "}});\n",
       "\n",
       "// Listen for the removal of the full notebook cells\n",
       "var notebookContainer = gd.closest('#notebook-container');\n",
       "if (notebookContainer) {{\n",
       "    x.observe(notebookContainer, {childList: true});\n",
       "}}\n",
       "\n",
       "// Listen for the clearing of the current output cell\n",
       "var outputEl = gd.closest('.output');\n",
       "if (outputEl) {{\n",
       "    x.observe(outputEl, {childList: true});\n",
       "}}\n",
       "\n",
       "                        })                };                });            </script>        </div>"
      ]
     },
     "metadata": {},
     "output_type": "display_data"
    }
   ],
   "source": [
    "fig = make_subplots(rows=2, cols=1)\n",
    "fig.add_trace(\n",
    "    go.Scatter(x=df_global_mean[\"Years\"], y=df_global_mean[\"Temperatures\"], name = \"Temperatures\"),\n",
    "    row=1, col=1\n",
    ")\n",
    "\n",
    "fig.add_trace(\n",
    "    go.Scatter(x=df_global_mean[\"Years\"], y=df_global_mean[\"Average_CO2\"], name = \"Average_CO2\"),\n",
    "    row=2, col=1\n",
    ")\n",
    "fig.update_layout(height=600, width=800, title_text=\"Land Average Temperature and Average CO2 emmission over the Years\")\n",
    "fig.show()"
   ]
  },
  {
   "cell_type": "markdown",
   "id": "81b796cf-2607-49e5-a50b-2b0ed7e86c57",
   "metadata": {},
   "source": [
    "===================================================================================================================================\n",
    "## <font color='#0bfc03'> <center> Predictive Data Modelling: Regression"
   ]
  },
  {
   "cell_type": "code",
   "execution_count": 47,
   "id": "3d2e6ad1-d943-4073-b6e9-943f0d98985c",
   "metadata": {},
   "outputs": [],
   "source": [
    "train_df=pd.DataFrame.copy(temp[temp['dt'].map(lambda x: x.year)<1980])\n",
    "test_df=pd.DataFrame.copy(temp[temp['dt'].map(lambda x: x.year)>=1980])\n",
    "train_df=train_df.drop(['dt','Date'],axis=1)\n",
    "test_df=test_df.drop(['dt','Date'],axis=1)"
   ]
  },
  {
   "cell_type": "code",
   "execution_count": 48,
   "id": "3a731714-279b-4a0e-b9b4-f32ddd94eb19",
   "metadata": {},
   "outputs": [
    {
     "data": {
      "text/html": [
       "<div>\n",
       "<style scoped>\n",
       "    .dataframe tbody tr th:only-of-type {\n",
       "        vertical-align: middle;\n",
       "    }\n",
       "\n",
       "    .dataframe tbody tr th {\n",
       "        vertical-align: top;\n",
       "    }\n",
       "\n",
       "    .dataframe thead th {\n",
       "        text-align: right;\n",
       "    }\n",
       "</style>\n",
       "<table border=\"1\" class=\"dataframe\">\n",
       "  <thead>\n",
       "    <tr style=\"text-align: right;\">\n",
       "      <th></th>\n",
       "      <th>LandAverageTemperature</th>\n",
       "      <th>LandMaxTemperature</th>\n",
       "      <th>LandMinTemperature</th>\n",
       "      <th>LandAndOceanAverageTemperature</th>\n",
       "      <th>Average_CO2</th>\n",
       "    </tr>\n",
       "  </thead>\n",
       "  <tbody>\n",
       "    <tr>\n",
       "      <th>1286</th>\n",
       "      <td>5.453</td>\n",
       "      <td>10.986</td>\n",
       "      <td>-0.916</td>\n",
       "      <td>14.381</td>\n",
       "      <td>315.71</td>\n",
       "    </tr>\n",
       "    <tr>\n",
       "      <th>1287</th>\n",
       "      <td>8.520</td>\n",
       "      <td>14.094</td>\n",
       "      <td>2.426</td>\n",
       "      <td>15.324</td>\n",
       "      <td>317.45</td>\n",
       "    </tr>\n",
       "    <tr>\n",
       "      <th>1288</th>\n",
       "      <td>11.519</td>\n",
       "      <td>17.054</td>\n",
       "      <td>5.430</td>\n",
       "      <td>16.216</td>\n",
       "      <td>317.50</td>\n",
       "    </tr>\n",
       "    <tr>\n",
       "      <th>1289</th>\n",
       "      <td>13.187</td>\n",
       "      <td>19.473</td>\n",
       "      <td>7.811</td>\n",
       "      <td>16.878</td>\n",
       "      <td>-99.99</td>\n",
       "    </tr>\n",
       "    <tr>\n",
       "      <th>1290</th>\n",
       "      <td>14.438</td>\n",
       "      <td>19.828</td>\n",
       "      <td>8.382</td>\n",
       "      <td>17.034</td>\n",
       "      <td>315.86</td>\n",
       "    </tr>\n",
       "    <tr>\n",
       "      <th>...</th>\n",
       "      <td>...</td>\n",
       "      <td>...</td>\n",
       "      <td>...</td>\n",
       "      <td>...</td>\n",
       "      <td>...</td>\n",
       "    </tr>\n",
       "    <tr>\n",
       "      <th>1543</th>\n",
       "      <td>13.833</td>\n",
       "      <td>18.974</td>\n",
       "      <td>7.681</td>\n",
       "      <td>16.623</td>\n",
       "      <td>335.56</td>\n",
       "    </tr>\n",
       "    <tr>\n",
       "      <th>1544</th>\n",
       "      <td>12.247</td>\n",
       "      <td>17.640</td>\n",
       "      <td>6.431</td>\n",
       "      <td>16.281</td>\n",
       "      <td>333.93</td>\n",
       "    </tr>\n",
       "    <tr>\n",
       "      <th>1545</th>\n",
       "      <td>9.586</td>\n",
       "      <td>14.964</td>\n",
       "      <td>3.803</td>\n",
       "      <td>15.337</td>\n",
       "      <td>334.12</td>\n",
       "    </tr>\n",
       "    <tr>\n",
       "      <th>1546</th>\n",
       "      <td>6.286</td>\n",
       "      <td>11.685</td>\n",
       "      <td>1.080</td>\n",
       "      <td>14.522</td>\n",
       "      <td>335.26</td>\n",
       "    </tr>\n",
       "    <tr>\n",
       "      <th>1547</th>\n",
       "      <td>4.600</td>\n",
       "      <td>9.195</td>\n",
       "      <td>-1.617</td>\n",
       "      <td>13.793</td>\n",
       "      <td>336.78</td>\n",
       "    </tr>\n",
       "  </tbody>\n",
       "</table>\n",
       "<p>262 rows × 5 columns</p>\n",
       "</div>"
      ],
      "text/plain": [
       "      LandAverageTemperature  LandMaxTemperature  LandMinTemperature  \\\n",
       "1286                   5.453              10.986              -0.916   \n",
       "1287                   8.520              14.094               2.426   \n",
       "1288                  11.519              17.054               5.430   \n",
       "1289                  13.187              19.473               7.811   \n",
       "1290                  14.438              19.828               8.382   \n",
       "...                      ...                 ...                 ...   \n",
       "1543                  13.833              18.974               7.681   \n",
       "1544                  12.247              17.640               6.431   \n",
       "1545                   9.586              14.964               3.803   \n",
       "1546                   6.286              11.685               1.080   \n",
       "1547                   4.600               9.195              -1.617   \n",
       "\n",
       "      LandAndOceanAverageTemperature  Average_CO2  \n",
       "1286                          14.381       315.71  \n",
       "1287                          15.324       317.45  \n",
       "1288                          16.216       317.50  \n",
       "1289                          16.878       -99.99  \n",
       "1290                          17.034       315.86  \n",
       "...                              ...          ...  \n",
       "1543                          16.623       335.56  \n",
       "1544                          16.281       333.93  \n",
       "1545                          15.337       334.12  \n",
       "1546                          14.522       335.26  \n",
       "1547                          13.793       336.78  \n",
       "\n",
       "[262 rows x 5 columns]"
      ]
     },
     "execution_count": 48,
     "metadata": {},
     "output_type": "execute_result"
    }
   ],
   "source": [
    "train_df"
   ]
  },
  {
   "cell_type": "code",
   "execution_count": 49,
   "id": "8866d077-7edb-410b-9d30-e7a657851829",
   "metadata": {},
   "outputs": [],
   "source": [
    "X_train =  train_df.drop([\"LandAverageTemperature\"],axis=1)\n",
    "y_train =  train_df[\"LandAverageTemperature\"]\n",
    "X_test =   test_df.drop([\"LandAverageTemperature\"],axis=1)\n",
    "y_test =   test_df['LandAverageTemperature']"
   ]
  },
  {
   "cell_type": "code",
   "execution_count": 50,
   "id": "66dcd3e0-9e6f-4c92-bd5b-f4d434f58afe",
   "metadata": {},
   "outputs": [
    {
     "data": {
      "text/plain": [
       "[(262, 4), (432, 4)]"
      ]
     },
     "execution_count": 50,
     "metadata": {},
     "output_type": "execute_result"
    }
   ],
   "source": [
    "[X_train.shape, X_test.shape]"
   ]
  },
  {
   "cell_type": "code",
   "execution_count": 51,
   "id": "efd3303e-59da-4f11-aa7d-b7a8ee83e82f",
   "metadata": {},
   "outputs": [
    {
     "data": {
      "text/plain": [
       "[(262,), (432,)]"
      ]
     },
     "execution_count": 51,
     "metadata": {},
     "output_type": "execute_result"
    }
   ],
   "source": [
    "[y_train.shape, y_test.shape]"
   ]
  },
  {
   "cell_type": "markdown",
   "id": "c503ae61-2d29-4774-8657-640d49d69b0e",
   "metadata": {},
   "source": [
    "===================================================================================================================================\n",
    "### <font color='#0bfc03'> Linear Regression"
   ]
  },
  {
   "cell_type": "code",
   "execution_count": 52,
   "id": "abacd6c9-757d-426a-8809-2d0b5a2c424a",
   "metadata": {},
   "outputs": [
    {
     "name": "stdout",
     "output_type": "stream",
     "text": [
      "LinearRegression()\n",
      "Mean Euclidean Distance: 0.349\n",
      "Mean Absolute Error: 0.349\n",
      "Mean Squared Error: 0.203\n",
      "Root Mean Squared Error: 0.451\n",
      "R Square: 0.988\n",
      "Adjusted R Square: 0.988\n"
     ]
    }
   ],
   "source": [
    "lnr_model = linear_model.LinearRegression()\n",
    "print(lnr_model)\n",
    "y_pred = evaluate_models(lnr_model, X_train, X_test, y_train, y_test)\n",
    "test_df['Predicted_temp_lnr']=y_pred"
   ]
  },
  {
   "cell_type": "markdown",
   "id": "265b8b8c-0268-4aba-871c-64c6171b436f",
   "metadata": {},
   "source": [
    "===================================================================================================================================\n",
    "### <font color='#0bfc03'> Random Forest Regressor"
   ]
  },
  {
   "cell_type": "code",
   "execution_count": 53,
   "id": "1efef1c8-c914-42d0-acd9-98b6a8cf3b36",
   "metadata": {},
   "outputs": [
    {
     "name": "stdout",
     "output_type": "stream",
     "text": [
      "RandomForestRegressor(n_estimators=10)\n",
      "Mean Euclidean Distance: 0.604\n",
      "Mean Absolute Error: 0.604\n",
      "Mean Squared Error: 0.537\n",
      "Root Mean Squared Error: 0.733\n",
      "R Square: 0.969\n",
      "Adjusted R Square: 0.968\n"
     ]
    }
   ],
   "source": [
    "forest = RandomForestRegressor(n_estimators=10)\n",
    "print(forest)\n",
    "y_pred = evaluate_models(forest, X_train, X_test, y_train, y_test)\n",
    "test_df['Predicted_temp_rf']=y_pred"
   ]
  },
  {
   "cell_type": "markdown",
   "id": "c98c4c65-54d8-42af-a4c6-4b518a37226b",
   "metadata": {},
   "source": [
    "===================================================================================================================================\n",
    "### <font color='#0bfc03'> K Neighbors Regressor"
   ]
  },
  {
   "cell_type": "code",
   "execution_count": 54,
   "id": "d1ff7477-1de7-44db-bc17-be9950d37da8",
   "metadata": {},
   "outputs": [
    {
     "name": "stdout",
     "output_type": "stream",
     "text": [
      "KNeighborsRegressor(n_neighbors=2)\n",
      "Mean Euclidean Distance: 1.701\n",
      "Mean Absolute Error: 1.701\n",
      "Mean Squared Error: 4.258\n",
      "Root Mean Squared Error: 2.064\n",
      "R Square: 0.751\n",
      "Adjusted R Square: 0.748\n"
     ]
    }
   ],
   "source": [
    "knn = KNeighborsRegressor(n_neighbors=2)\n",
    "print(knn)\n",
    "y_pred =   evaluate_models(knn, X_train, X_test, y_train, y_test)\n",
    "test_df['Predicted_temp_knn']=y_pred"
   ]
  },
  {
   "cell_type": "markdown",
   "id": "4962ebd6-59f6-461a-8462-531cea4a56be",
   "metadata": {},
   "source": [
    "===================================================================================================================================\n",
    "### <font color='#0bfc03'> XG Boost Regressor"
   ]
  },
  {
   "cell_type": "code",
   "execution_count": 55,
   "id": "24937089-701b-45e3-95bd-4554ca14e75b",
   "metadata": {},
   "outputs": [
    {
     "name": "stdout",
     "output_type": "stream",
     "text": [
      "Mean Euclidean Distance: 0.571\n",
      "Mean Absolute Error: 0.571\n",
      "Mean Squared Error: 0.515\n",
      "Root Mean Squared Error: 0.718\n",
      "R Square: 0.97\n",
      "Adjusted R Square: 0.97\n",
      "XGBRegressor(base_score=0.5, booster='gbtree', colsample_bylevel=1,\n",
      "             colsample_bynode=1, colsample_bytree=1, gamma=0, gpu_id=-1,\n",
      "             importance_type='gain', interaction_constraints='',\n",
      "             learning_rate=0.300000012, max_delta_step=0, max_depth=6,\n",
      "             min_child_weight=1, missing=nan, monotone_constraints='()',\n",
      "             n_estimators=100, n_jobs=8, num_parallel_tree=1, random_state=0,\n",
      "             reg_alpha=0, reg_lambda=1, scale_pos_weight=1, subsample=1,\n",
      "             tree_method='exact', validate_parameters=1, verbosity=None)\n"
     ]
    }
   ],
   "source": [
    "xgbr =   XGBRegressor()\n",
    "y_pred = evaluate_models(xgbr, X_train, X_test, y_train, y_test)\n",
    "print(xgbr)\n",
    "test_df['Predicted_temp_xgbr'] = y_pred"
   ]
  },
  {
   "cell_type": "markdown",
   "id": "bf6ab534-0f51-4010-8833-756de58bf238",
   "metadata": {},
   "source": [
    "===================================================================================================================================\n",
    "### <font color='#0bfc03'> Hyper Parameters Tuning"
   ]
  },
  {
   "cell_type": "code",
   "execution_count": 56,
   "id": "ccef300c-c0a2-4926-98db-4f4e7c2e67c7",
   "metadata": {},
   "outputs": [
    {
     "name": "stdout",
     "output_type": "stream",
     "text": [
      "n_estimators =  [80, 90, 100, 110, 120, 130, 140, 150, 160, 170, 180, 190, 200, 210, 220, 230, 240, 250, 260, 270, 280, 290]\n",
      "learning_rate =  [0.1, 0.2, 0.30000000000000004, 0.4, 0.5, 0.6, 0.7, 0.7999999999999999]\n",
      "max_depth =  [5, 6, 7, 8, 9]\n",
      "MED_limit =  0.56\n"
     ]
    }
   ],
   "source": [
    "#### HyperParameters ####\n",
    "max_depth = [5,6,7,8,9]\n",
    "learning_rate = [0.1+(i/10) for i in range(8)]\n",
    "n_estimators = list(range(80,300,10))\n",
    "MED_limit =  0.56\n",
    "print(\"n_estimators = \", n_estimators)\n",
    "print(\"learning_rate = \", learning_rate)\n",
    "print(\"max_depth = \", max_depth)\n",
    "print(\"MED_limit = \", MED_limit)\n",
    "l=[]"
   ]
  },
  {
   "cell_type": "code",
   "execution_count": 57,
   "id": "b815419c-3eef-4a1b-a102-a246a7eb9a9c",
   "metadata": {},
   "outputs": [],
   "source": [
    "def MED_XGB2(n,maxi,learn,\n",
    "       X_train, y_train, X_test,y_test,\n",
    "       MED_limit):\n",
    "    \n",
    "    '''\n",
    "    n         : n_estimators  -> Number of boosted trees to fit\n",
    "    maxi      : max_depth     -> Maximum tree depth for base learners\n",
    "    learn     : learning_rate -> Boosting learning rate\n",
    "    ...\n",
    "    MED_limit : -> threshold for minimum MED required\n",
    "    '''\n",
    "    xgb_model = xgboost.XGBRegressor(n_estimators = n , learning_rate = learn, max_depth = maxi )\n",
    "    model_fit = xgb_model.fit(X_train , y_train )\n",
    "    y_predict = model_fit.predict(X_test)\n",
    "    MED=round(abs(y_test-y_predict).mean(),2)\n",
    "    if MED <= MED_limit:\n",
    "        return MED , n, learn, maxi\n",
    "    elif(MED <= 0.55):\n",
    "        print(MED, end = ' ')\n",
    "        return 0\n",
    "    else:\n",
    "        return 0"
   ]
  },
  {
   "cell_type": "code",
   "execution_count": null,
   "id": "263aec79-55ef-46ad-b8bd-dc6aa98775bc",
   "metadata": {},
   "outputs": [],
   "source": [
    "%%time\n",
    "#### Very long loop depending on parameters ####\n",
    "l_xgb=[]\n",
    "med_count = 0\n",
    "for n in n_estimators:\n",
    "    for learn in learning_rate:\n",
    "        for maxi in max_depth:\n",
    "            a = MED_XGB2(n, maxi, learn, X_train, y_train, X_test, y_test, MED_limit)\n",
    "            if a != 0:\n",
    "                l_xgb.append(a)\n",
    "                l_xgb.sort()\n",
    "l_xgb[:5]"
   ]
  },
  {
   "cell_type": "code",
   "execution_count": null,
   "id": "a55ebe0b-c383-4234-b8d9-89d65fe16fdf",
   "metadata": {},
   "outputs": [],
   "source": [
    "def MED_RF(n,maxi,\n",
    "       X_train, y_train, X_test,y_test,\n",
    "       MED_limit):\n",
    "    '''\n",
    "    n         : n_estimators  -> Number of boosted trees to fit\n",
    "    maxi      : max_depth     -> Maximum tree depth for base learners\n",
    "    ...\n",
    "    MED_limit : -> threshold for minimum MED required\n",
    "    '''\n",
    "    \n",
    "    forest = RandomForestRegressor(n_estimators=n,max_depth = maxi)\n",
    "    model_fit = forest.fit(X_train , y_train )\n",
    "    y_predict = model_fit.predict(X_test)\n",
    "    MED=abs(y_test-y_predict).mean()\n",
    "    \n",
    "    if MED<MED_limit:\n",
    "        return MED, n, maxi\n",
    "    else:\n",
    "        return 0"
   ]
  },
  {
   "cell_type": "code",
   "execution_count": null,
   "id": "1a887655-5fd0-4218-834e-2a39c0ac2d98",
   "metadata": {},
   "outputs": [],
   "source": [
    "#Hyperparameters\n",
    "max_depth = [4,5,6,7]\n",
    "n_estimators = list(range(10,200,10))\n",
    "MED_limit =  0.48\n",
    "print(\"n_estimators = \", n_estimators)\n",
    "print(\"max_depth = \", max_depth)\n",
    "print(\"MED_limit = \", MED_limit)\n",
    "l_rf=[]"
   ]
  },
  {
   "cell_type": "code",
   "execution_count": null,
   "id": "79c7495c-6f2e-4b57-8e70-977b658deab0",
   "metadata": {},
   "outputs": [],
   "source": [
    "%%time\n",
    "#### Minimization\n",
    "for n in n_estimators:\n",
    "    for maxi in max_depth:\n",
    "        a = MED_RF(n,maxi,X_train,y_train,X_test,y_test,MED_limit)\n",
    "        if a != 0:\n",
    "            l_rf.append(a)\n",
    "            l_rf.sort()\n",
    "\n",
    "l_rf[:5] # 5 Best MED Results"
   ]
  },
  {
   "cell_type": "markdown",
   "id": "15074252-6770-4c2a-80da-b1d511094140",
   "metadata": {},
   "source": [
    "===================================================================================================================================\n",
    "## <font color='#0bfc03'> <center> Predictive Data Modelling: Classification"
   ]
  },
  {
   "cell_type": "code",
   "execution_count": null,
   "id": "eb6cc84e-b2e0-42b9-a21a-b147c61f8cae",
   "metadata": {},
   "outputs": [],
   "source": [
    "df_final = pd.read_csv(\"input/pollution_death_2007_2019.csv\")\n",
    "df_final.info()"
   ]
  },
  {
   "cell_type": "code",
   "execution_count": null,
   "id": "d2aee228-8e99-4795-82bd-6f63fd68ed6d",
   "metadata": {},
   "outputs": [],
   "source": [
    "df_final"
   ]
  },
  {
   "cell_type": "code",
   "execution_count": null,
   "id": "275e713b-a190-41b5-b760-1ea7f830b0b2",
   "metadata": {},
   "outputs": [],
   "source": [
    "print(\"Unique Countries:\", len(df_final['country_code3'].unique()))\n",
    "print(\"Year range:\", df_final['timestamp'].min(), \" - \", df_final['timestamp'].max())\n",
    "print(\"Death Rate Range per 1,00,000 individuals:\", df_final['death_rate'].min(), \" - \", df_final['death_rate'].max())\n",
    "def death_rate_group(rate):\n",
    "    return int(rate / 50)\n",
    "df_final['death_rate_group'] = df_final['death_rate'].apply(death_rate_group)\n",
    "print(\"Death Rate Severity Range\", df_final['death_rate_group'].min(), \" - \", df_final['death_rate_group'].max())\n",
    "df_final[df_final['country_code3'] == 'IND']"
   ]
  },
  {
   "cell_type": "code",
   "execution_count": null,
   "id": "87518825-69fe-4029-b65d-933421420d64",
   "metadata": {},
   "outputs": [],
   "source": [
    "df_final['death_rate_group'].value_counts()"
   ]
  },
  {
   "cell_type": "code",
   "execution_count": null,
   "id": "0978b47f-23d5-4954-a8e3-9a173d59206b",
   "metadata": {},
   "outputs": [],
   "source": [
    "df_death_rate = df_final[[\"Numeric_code\", \"country_code3\", \"timestamp\", \"co\", \"no2\", \"o3\", \"pm10\", \"pm25\", \"so2\", \"death_rate\", \"death_rate_group\"]]\n",
    "df_death_rate = df_death_rate.fillna(0)\n",
    "df_death_rate['Numeric_code'] = df_death_rate['Numeric_code'].astype('int')\n",
    "df_death_rate.rename(columns={'timestamp': 'year'}, inplace=True)"
   ]
  },
  {
   "cell_type": "markdown",
   "id": "3d13f279-1b98-411a-912b-c3ad19284480",
   "metadata": {},
   "source": [
    "===================================================================================================================================\n",
    "### <font color='#0bfc03'> Correlation"
   ]
  },
  {
   "cell_type": "code",
   "execution_count": null,
   "id": "0ce2beea-4f20-4ce8-8611-3a6f3961de8a",
   "metadata": {},
   "outputs": [],
   "source": [
    "plt.subplots(figsize=(8, 5))\n",
    "sns.heatmap(df_death_rate.corr(), annot=True, cmap=\"RdYlGn\")\n",
    "plt.show()"
   ]
  },
  {
   "cell_type": "code",
   "execution_count": null,
   "id": "015775f0-b67d-46f5-b56d-3a2cf49ae310",
   "metadata": {},
   "outputs": [],
   "source": [
    "X = df_death_rate[['Numeric_code', 'year', 'co', 'no2', 'o3', 'pm10', 'pm25']] #\n",
    "y = df_death_rate['death_rate_group']\n",
    "X_train, X_test, y_train, y_test = train_test_split(X, y, test_size = 0.2, random_state = 0, shuffle = True)"
   ]
  },
  {
   "cell_type": "code",
   "execution_count": null,
   "id": "ca64ffef-e78f-441c-92d6-f9337f8805d0",
   "metadata": {},
   "outputs": [],
   "source": [
    "labels = list(y.unique())\n",
    "labels.sort()\n",
    "labels"
   ]
  },
  {
   "cell_type": "code",
   "execution_count": null,
   "id": "044442c2-05fc-4fdf-9f48-c907e04ee101",
   "metadata": {},
   "outputs": [],
   "source": [
    "def evaluate_classification_model(X_train, y_train, X_valid, y_valid, classes, model, model_name):\n",
    "    divider = \"-\"*120\n",
    "    print(divider)\n",
    "    model.fit(X_train, y_train)\n",
    "    model, score = print_accuracy(X_train, y_train, X_valid, y_valid, classes, model, model_name)\n",
    "    return model, score"
   ]
  },
  {
   "cell_type": "code",
   "execution_count": null,
   "id": "a19b7d2e-0c60-4a95-aa3a-164728862cf7",
   "metadata": {},
   "outputs": [],
   "source": [
    "def print_accuracy(X_train, y_train, X_test, y_test, classes, model, model_name):\n",
    "    divider = \"-\"*120\n",
    "    y_pred = model.predict(X_test)\n",
    "    train_acc_scr = model.score(X_train, y_train)\n",
    "    print(\"Train Accuracy Score of \"+model_name+\" model is:\\n\", train_acc_scr)\n",
    "    print(divider)\n",
    "    val_acc_scr = model.score(X_test, y_test)\n",
    "    print(\"Test Accuracy Score of \"+model_name+\" model is:\\n\", val_acc_scr)\n",
    "    print(divider)\n",
    "    cv_score_prtage = get_cross_val(model, X_train, y_train, X_test, y_test)\n",
    "    print(divider)\n",
    "    confusion_mat = confusion_matrix(y_true=y_test, y_pred=y_pred)\n",
    "    print(\"Confusion Matrix:\")\n",
    "    print(confusion_mat)\n",
    "    sns.heatmap(confusion_mat, annot=True,fmt=\"d\",cmap=plt.cm.Accent)\n",
    "    plt.title('Confusion Matrix of '+model_name+' Model', fontsize = 20)\n",
    "    plt.xlabel('True Label')\n",
    "    plt.ylabel('Predicted Label')\n",
    "    plt.show()\n",
    "    print(classes)\n",
    "    print(divider)\n",
    "    pprint(classification_report(y_test, y_pred))\n",
    "    return model, [train_acc_scr, val_acc_scr, cv_score_prtage]"
   ]
  },
  {
   "cell_type": "code",
   "execution_count": null,
   "id": "fee1c032-1e5c-4401-b7ad-3d1b7d6cc3b8",
   "metadata": {},
   "outputs": [],
   "source": [
    "def get_cross_val(model, X_train, y_train, X_test, y_test):\n",
    "    clf = model\n",
    "    clf.fit(X_train, y_train)\n",
    "    y_pred = clf.predict(X_test)\n",
    "    scores = cross_val_score(clf, X_train, y_train, cv=10)\n",
    "    cv_score_prtage = sum(scores)/10.0\n",
    "    print(\"Cross testation over 10 folds: \", cv_score_prtage)\n",
    "    return cv_score_prtage"
   ]
  },
  {
   "cell_type": "markdown",
   "id": "885ead4d-c3c5-4478-963b-aac6ed970e02",
   "metadata": {},
   "source": [
    "===================================================================================================================================\n",
    "### <font color='#0bfc03'> Logistic Regression"
   ]
  },
  {
   "cell_type": "code",
   "execution_count": null,
   "id": "3fe84b28-fc72-47cc-a437-914b7d99c475",
   "metadata": {},
   "outputs": [],
   "source": [
    "# check classification scores of logistic regression\n",
    "logreg_model = LogisticRegression(multi_class='multinomial', max_iter=10000)\n",
    "logreg_model, score_lr = evaluate_classification_model(X_train, y_train, X_test, y_test, labels, logreg_model, \"Multinomial Logistic Regression\")"
   ]
  },
  {
   "cell_type": "markdown",
   "id": "22fc9a2b-4bb9-4726-a17a-69b6e44629b8",
   "metadata": {},
   "source": [
    "===================================================================================================================================\n",
    "### <font color='#0bfc03'> XG Boost Classifier"
   ]
  },
  {
   "cell_type": "code",
   "execution_count": null,
   "id": "fa5239d3-7fda-43c3-8288-22b370d4a3b6",
   "metadata": {},
   "outputs": [],
   "source": [
    "%%time\n",
    "xgb_model = xgb.XGBClassifier(\n",
    "        learning_rate=0.1,\n",
    "        max_depth=7,\n",
    "        n_estimators=80,\n",
    "        use_label_encoder=False,\n",
    "        eval_metric='auc')\n",
    "xgb_model, score_xgb = evaluate_classification_model(X_train, y_train, X_test, y_test, labels, xgb_model, \"XGB Classifier\")"
   ]
  },
  {
   "cell_type": "markdown",
   "id": "7862cf2a-7176-4798-8f6e-6f61fe6d49e7",
   "metadata": {},
   "source": [
    "===================================================================================================================================\n",
    "### <font color='#0bfc03'> Support Vector Classifier"
   ]
  },
  {
   "cell_type": "code",
   "execution_count": null,
   "id": "b232445a-5b0d-4913-9dfa-c00268023cc3",
   "metadata": {},
   "outputs": [],
   "source": [
    "%%time\n",
    "svc_model = SVC(kernel='rbf')\n",
    "svc_model, score_svc = evaluate_classification_model(X_train, y_train, X_test, y_test, labels, svc_model, \"Support Vector Classifier\")"
   ]
  },
  {
   "cell_type": "markdown",
   "id": "aadb12fc-a581-4394-9370-5a346d81af9a",
   "metadata": {},
   "source": [
    "===================================================================================================================================\n",
    "### <font color='#0bfc03'> K Neighbors Classifier"
   ]
  },
  {
   "cell_type": "code",
   "execution_count": null,
   "id": "4e37d1c7-44d6-4d7b-8e8d-55a569420494",
   "metadata": {},
   "outputs": [],
   "source": [
    "%%time\n",
    "knn_model = KNeighborsClassifier(5)\n",
    "knn_model, score_knn = evaluate_classification_model(X_train, y_train, X_test, y_test, labels, knn_model, \"K-Nearest Neighbor(KNN)\")"
   ]
  },
  {
   "cell_type": "markdown",
   "id": "ee19f379-00f9-44cf-a81f-cff650c5c259",
   "metadata": {},
   "source": [
    "===================================================================================================================================\n",
    "### <font color='#0bfc03'> Random Forest Classifier"
   ]
  },
  {
   "cell_type": "code",
   "execution_count": null,
   "id": "0e0673fd-963f-4b94-a9fe-e71a1e5ca7f7",
   "metadata": {},
   "outputs": [],
   "source": [
    "%%time\n",
    "rndm_frst_model = RandomForestClassifier(n_estimators=200)\n",
    "rndm_frst_model, score_rfc = evaluate_classification_model(X_train, y_train, X_test, y_test, labels, rndm_frst_model, \"Random Forest Classifier\")"
   ]
  },
  {
   "cell_type": "markdown",
   "id": "46c3eecb-ecee-4674-939e-764d2b0da83e",
   "metadata": {},
   "source": [
    "===================================================================================================================================\n",
    "### <font color='#0bfc03'> Multinomial Naive Bayes Classifier"
   ]
  },
  {
   "cell_type": "code",
   "execution_count": null,
   "id": "6e0852e5-b652-47b7-a3da-95247869918d",
   "metadata": {},
   "outputs": [],
   "source": [
    "%%time\n",
    "min_max_scaler = MinMaxScaler()\n",
    "X_train_scaled = min_max_scaler.fit_transform(X_train)\n",
    "X_test_scaled = min_max_scaler.transform(X_test)\n",
    "multi_naive_bayes_model = MultinomialNB()\n",
    "multi_naive_bayes_model, score_mnb = evaluate_classification_model(X_train_scaled, y_train, X_test_scaled, y_test, labels, multi_naive_bayes_model, \"Multinomial Naive Bayes\")"
   ]
  },
  {
   "cell_type": "code",
   "execution_count": null,
   "id": "b3045ccd-ffa9-41bb-8ec2-a3ae68a54a3b",
   "metadata": {},
   "outputs": [],
   "source": [
    "acc_score = list(deepflatten([score_mnb, score_svc, score_knn, score_rfc, score_xgb], depth=1))\n",
    "acc_score = [acc_score]\n",
    "df_score = pd.DataFrame(acc_score)\n",
    "df_score.columns = pd.MultiIndex.from_product([['MNB Accuracy', 'SVC Accuracy', 'KNN Accuracy', 'RFC Accuracy', 'XGB Accuracy'], ['Train','Test', 'Cross Validation']])\n",
    "df_score = df_score.set_index([['Classification']])\n",
    "df_score[df_score.columns] = df_score[df_score.columns].applymap(lambda x: x*100)\n",
    "df_score[df_score.columns] = df_score[df_score.columns].applymap(\"{0:.2f}%\".format)\n",
    "df_score"
   ]
  },
  {
   "cell_type": "code",
   "execution_count": null,
   "id": "3685e429-f727-4e4d-9680-06da6d3c83ac",
   "metadata": {},
   "outputs": [],
   "source": [
    "df_score.to_csv(\"output/final_accuracy_final.csv\")"
   ]
  },
  {
   "cell_type": "markdown",
   "id": "dcf5dd52-4374-4954-b7d5-7e0551a5f2eb",
   "metadata": {},
   "source": [
    "===================================================================================================================================\n",
    "### <font color='#0bfc03'> ROC Test"
   ]
  },
  {
   "cell_type": "code",
   "execution_count": null,
   "id": "c3ec9c9e-6f95-4e74-bd83-066584aaf649",
   "metadata": {},
   "outputs": [],
   "source": [
    "%%time\n",
    "X = df_death_rate[['Numeric_code', 'year', 'co', 'no2', 'o3', 'pm10', 'pm25']] #\n",
    "y = df_death_rate['death_rate_group']\n",
    "# Binarize the output\n",
    "y = label_binarize(y, classes=labels)\n",
    "n_classes = y.shape[1]\n",
    "X_train, X_test, y_train, y_test = train_test_split(X, y, test_size = 0.2, random_state = 0, shuffle = True)"
   ]
  },
  {
   "cell_type": "code",
   "execution_count": null,
   "id": "a77107cf-35b5-4da9-acda-cb327251fd90",
   "metadata": {},
   "outputs": [],
   "source": [
    "%%time\n",
    "classifier = OneVsRestClassifier(\n",
    "    RandomForestClassifier(n_estimators=200)\n",
    ")#svm.SVC(kernel=\"linear\", probability=True, random_state=0)\n",
    "classifier.fit(X_train, y_train)\n",
    "y_pred_proba = classifier.predict_proba(X_test)"
   ]
  },
  {
   "cell_type": "code",
   "execution_count": null,
   "id": "ff98a009-acf5-4ac9-a6d6-758744aedacc",
   "metadata": {},
   "outputs": [],
   "source": [
    "# Compute ROC curve and ROC area for each class\n",
    "fpr = dict()\n",
    "tpr = dict()\n",
    "roc_auc = dict()\n",
    "for i in range(n_classes):\n",
    "    fpr[i], tpr[i], _ = roc_curve(y_test[:, i], y_pred_proba[:, i])\n",
    "    roc_auc[i] = auc(fpr[i], tpr[i])\n",
    "\n",
    "# Compute micro-average ROC curve and ROC area\n",
    "fpr[\"micro\"], tpr[\"micro\"], _ = roc_curve(y_test.ravel(), y_pred_proba.ravel())\n",
    "roc_auc[\"micro\"] = auc(fpr[\"micro\"], tpr[\"micro\"])"
   ]
  },
  {
   "cell_type": "code",
   "execution_count": null,
   "id": "43d51b0f-a2c3-4094-a03e-7d4b2af6e8f3",
   "metadata": {},
   "outputs": [],
   "source": [
    "plt.figure()\n",
    "lw = 2\n",
    "plt.plot(\n",
    "    fpr[2],\n",
    "    tpr[2],\n",
    "    color=\"darkorange\",\n",
    "    lw=lw,\n",
    "    label=\"ROC curve (area = %0.2f)\" % roc_auc[2],\n",
    ")\n",
    "plt.plot([0, 1], [0, 1], color=\"navy\", lw=lw, linestyle=\"--\")\n",
    "plt.xlim([0.0, 1.0])\n",
    "plt.ylim([0.0, 1.05])\n",
    "plt.xlabel(\"False Positive Rate\")\n",
    "plt.ylabel(\"True Positive Rate\")\n",
    "plt.title(\"Receiver operating characteristic example\")\n",
    "plt.legend(loc=\"lower right\")\n",
    "plt.show()"
   ]
  },
  {
   "cell_type": "code",
   "execution_count": null,
   "id": "2fca735e-347b-4ea8-acd5-9cf45d5596a1",
   "metadata": {},
   "outputs": [],
   "source": [
    "# First aggregate all false positive rates\n",
    "all_fpr = np.unique(np.concatenate([fpr[i] for i in range(n_classes)]))\n",
    "\n",
    "# Then interpolate all ROC curves at this points\n",
    "mean_tpr = np.zeros_like(all_fpr)\n",
    "for i in range(n_classes):\n",
    "    mean_tpr += np.interp(all_fpr, fpr[i], tpr[i])\n",
    "\n",
    "# Finally average it and compute AUC\n",
    "mean_tpr /= n_classes\n",
    "\n",
    "fpr[\"macro\"] = all_fpr\n",
    "tpr[\"macro\"] = mean_tpr\n",
    "roc_auc[\"macro\"] = auc(fpr[\"macro\"], tpr[\"macro\"])\n",
    "\n",
    "# Plot all ROC curves\n",
    "plt.figure()\n",
    "plt.plot(\n",
    "    fpr[\"micro\"],\n",
    "    tpr[\"micro\"],\n",
    "    label=\"micro-average ROC curve (area = {0:0.2f})\".format(roc_auc[\"micro\"]),\n",
    "    color=\"deeppink\",\n",
    "    linestyle=\":\",\n",
    "    linewidth=4,\n",
    ")\n",
    "\n",
    "plt.plot(\n",
    "    fpr[\"macro\"],\n",
    "    tpr[\"macro\"],\n",
    "    label=\"macro-average ROC curve (area = {0:0.2f})\".format(roc_auc[\"macro\"]),\n",
    "    color=\"navy\",\n",
    "    linestyle=\":\",\n",
    "    linewidth=4,\n",
    ")\n",
    "\n",
    "colors = cycle([\"aqua\", \"darkorange\", \"cornflowerblue\",\"red\"])\n",
    "for i, color in zip(range(n_classes), colors):\n",
    "    plt.plot(\n",
    "        fpr[i],\n",
    "        tpr[i],\n",
    "        color=color,\n",
    "        lw=lw,\n",
    "        label=\"ROC curve of class {0} (area = {1:0.2f})\".format(i, roc_auc[i]),\n",
    "    )\n",
    "\n",
    "plt.plot([0, 1], [0, 1], \"k--\", lw=lw)\n",
    "plt.xlim([0.0, 1.0])\n",
    "plt.ylim([0.0, 1.05])\n",
    "plt.xlabel(\"False Positive Rate\")\n",
    "plt.ylabel(\"True Positive Rate\")\n",
    "plt.title(\"Some extension of Receiver operating characteristic to multiclass\")\n",
    "plt.legend(loc=\"lower right\")\n",
    "plt.show()"
   ]
  },
  {
   "cell_type": "markdown",
   "id": "88ae3e57-0f59-4d56-9145-738ef012b71c",
   "metadata": {},
   "source": [
    "===================================================================================================================================\n",
    "## <font color='#0bfc03'> <center> Clustering"
   ]
  },
  {
   "cell_type": "code",
   "execution_count": null,
   "id": "1885d8cf-d70c-4ca2-998b-dfc11a540c7e",
   "metadata": {},
   "outputs": [],
   "source": [
    "country_temps = pd.read_csv(\"input/GlobalLandTemperaturesByCountry.csv\", sep=',')\n",
    "country_temps.tail()"
   ]
  },
  {
   "cell_type": "markdown",
   "id": "eab56c0a-28c2-4a7f-b5df-1c0bf6978f0b",
   "metadata": {},
   "source": [
    "===================================================================================================================================\n",
    "### <font color='#0bfc03'> Pre-proccessing and Cleaning Data"
   ]
  },
  {
   "cell_type": "code",
   "execution_count": null,
   "id": "0dbe19ed-4939-49a0-a2fc-a8a92daaab34",
   "metadata": {},
   "outputs": [],
   "source": [
    "country_temps = country_temps.drop(\"AverageTemperatureUncertainty\", axis = 1)\n",
    "country_temps['dt'] = pd.to_datetime(country_temps['dt'])\n",
    "##Taking data from 1850 year as there are many null values from 1743 to 1850\n",
    "country_temps = country_temps[country_temps['dt'].map(lambda x: x.year) >= 1850]\n",
    "df_country_codes = pd.read_csv(\"input/country_codes.csv\")\n",
    "list_countries = list(df_country_codes[\"Country\"])\n",
    "country_temps = country_temps[country_temps['Country'].isin(list_countries)]  ## removing non-country records\n",
    "country_temps.reset_index(inplace = True)\n",
    "country_temps.tail()"
   ]
  },
  {
   "cell_type": "markdown",
   "id": "d48c8964-8ce4-4dd2-b3c7-160a3dc0d4af",
   "metadata": {},
   "source": [
    "===================================================================================================================================\n",
    "### <font color='#0bfc03'> Pivoting data"
   ]
  },
  {
   "cell_type": "code",
   "execution_count": null,
   "id": "87829beb-0175-4c00-b09f-112a2833b918",
   "metadata": {},
   "outputs": [],
   "source": [
    "pivot = country_temps.pivot(\"Country\",\"dt\",\"AverageTemperature\")\n",
    "pivot = pivot.dropna(how='all')\n",
    "pivot.head(5)"
   ]
  },
  {
   "cell_type": "markdown",
   "id": "25933b35-4fd4-45ce-97f8-9bbddc045d81",
   "metadata": {},
   "source": [
    "===================================================================================================================================\n",
    "### <font color='#0bfc03'> Replacing missing values with Median"
   ]
  },
  {
   "cell_type": "code",
   "execution_count": null,
   "id": "eb5edac5-9f90-4059-b999-2ff72e2e1b11",
   "metadata": {},
   "outputs": [],
   "source": [
    "imp = SimpleImputer(strategy=\"median\")\n",
    "trans_pivot = imp.fit_transform(pivot)\n",
    "nonan_pivot = pd.DataFrame(trans_pivot)\n",
    "nonan_pivot.columns = pivot.columns\n",
    "nonan_pivot.index = pivot.index\n",
    "clusterdf = nonan_pivot\n",
    "print(\"Number of null records: \", np.count_nonzero(np.isnan(clusterdf)))\n",
    "#No missing data\n",
    "clusterdf.head(5)"
   ]
  },
  {
   "cell_type": "code",
   "execution_count": null,
   "id": "64e738d3-85ae-4c0d-8cd2-f4ac6046573d",
   "metadata": {},
   "outputs": [],
   "source": [
    "def Clustering_truncated(df, x, y, orientation, p, size):\n",
    "    \"\"\"\n",
    "    \n",
    "    df          : DataFrame\n",
    "    x,y         : plt dimensions\n",
    "    orientation : top, bottom, right or left\n",
    "    p           : Only the last p merged clusters are shown\n",
    "    size        : leaf_font_size\n",
    "    \n",
    "    \"\"\"\n",
    "    plt.style.use('ggplot')\n",
    "    ward = AgglomerativeClustering(linkage='ward', compute_full_tree=True).fit(df)\n",
    "    dendro = [ ]\n",
    "    for a,b in ward.children_:\n",
    "        dendro.append([a,b,float(len(dendro)+1),len(dendro)+1])\n",
    "    \n",
    "    fig = plt.figure( figsize=(x,y) )\n",
    "    ax = fig.add_subplot(1,1,1) \n",
    "    r = dendrogram(\n",
    "        dendro,\n",
    "        color_threshold=None,\n",
    "        labels=df.index,\n",
    "        show_leaf_counts=True,\n",
    "        truncate_mode = 'lastp',  # show only the last p merged clusters\n",
    "        p = p,  # show only the last p merged clusters\n",
    "        leaf_font_size = size,\n",
    "        show_contracted = True,  # to get a distribution impression in truncated branches\n",
    "        ax=ax,\n",
    "        orientation = str(orientation)\n",
    "    )\n",
    "    return r[\"ivl\"]"
   ]
  },
  {
   "cell_type": "code",
   "execution_count": null,
   "id": "5f99f052-28fa-462a-8385-65d937710bc3",
   "metadata": {},
   "outputs": [],
   "source": [
    "Cluster_70 = Clustering_truncated(clusterdf, 12, 30, \"right\", 120, 12)\n",
    "plt.title('Hierarchical Clustering Dendrogram')\n",
    "plt.ylabel('Countries')\n",
    "plt.xlabel('Distance')"
   ]
  },
  {
   "cell_type": "markdown",
   "id": "32322b48-0c12-4a7e-999a-20ee39b5723a",
   "metadata": {},
   "source": [
    "===================================================================================================================================\n",
    "## <font color='#0bfc03'> <center> Time Series Analysis"
   ]
  },
  {
   "cell_type": "code",
   "execution_count": null,
   "id": "42b2cff8-3e03-4e1a-a798-3d854ad93c78",
   "metadata": {},
   "outputs": [],
   "source": [
    "raw_temp = pd.read_csv('./input/GLB.Ts+dSST.csv', skiprows=1)\n",
    "raw_co2 = pd.read_csv('./input/API_EN.ATM.CO2E.PC_DS2_en_csv_v2_3919482.csv', skiprows=3)"
   ]
  },
  {
   "cell_type": "code",
   "execution_count": null,
   "id": "26c7f184-1c59-4889-8dda-aaa5402c1f45",
   "metadata": {},
   "outputs": [],
   "source": [
    "raw_temp.tail(5)"
   ]
  },
  {
   "cell_type": "code",
   "execution_count": null,
   "id": "7a65f23f-153f-4c4b-9c95-92a2d3350c48",
   "metadata": {},
   "outputs": [],
   "source": [
    "raw_co2.head(5)"
   ]
  },
  {
   "cell_type": "code",
   "execution_count": null,
   "id": "bbbea8ac-09b3-4951-9f65-632e9d68b85b",
   "metadata": {},
   "outputs": [],
   "source": [
    "def populate_df_with_anomolies_from_row(row):\n",
    "    year = row['Year']\n",
    "    # Anomaly values (they seem to be a mixture of strings and floats)\n",
    "    monthly_anomolies = row.iloc[1:]\n",
    "    # Abbreviated month names (index names)\n",
    "    months = monthly_anomolies.index\n",
    "    for month in monthly_anomolies.index:\n",
    "        # Get the last day for each month \n",
    "        last_day = calendar.monthrange(year,datetime.strptime(month, '%b').month)[1]\n",
    "        date_index = datetime.strptime(f'{year} {month} {last_day}', '%Y %b %d')\n",
    "        t.loc[date_index] = monthly_anomolies[month]"
   ]
  },
  {
   "cell_type": "code",
   "execution_count": null,
   "id": "3d10d376-17fa-48af-8d9a-91dce1c4a7b1",
   "metadata": {},
   "outputs": [],
   "source": [
    "def clean_anomaly_value(raw_value):\n",
    "    try:\n",
    "        return float(raw_value)\n",
    "    except:\n",
    "        return np.NaN"
   ]
  },
  {
   "cell_type": "code",
   "execution_count": null,
   "id": "889b2e50-6c50-4e6c-ac76-492a2ee96301",
   "metadata": {},
   "outputs": [],
   "source": [
    "date_rng = pd.date_range(start='1/1/1880', end='1/03/2019', freq='M')\n",
    "t = pd.DataFrame(date_rng, columns=['date'])\n",
    "t['Avg_Anomaly_deg_C'] = None\n",
    "t.set_index('date', inplace=True)\n",
    "raw_temp = raw_temp.iloc[:,:13]\n",
    "_ = raw_temp.apply(lambda row: populate_df_with_anomolies_from_row(row), axis=1)\n",
    "t['Avg_Anomaly_deg_C'] = t['Avg_Anomaly_deg_C'].apply(lambda raw_value: clean_anomaly_value(raw_value))\n",
    "t.fillna(method='ffill', inplace=True)\n",
    "t.head()"
   ]
  },
  {
   "cell_type": "code",
   "execution_count": null,
   "id": "90646a16-9ae3-4749-a333-f392b92f0693",
   "metadata": {},
   "outputs": [],
   "source": [
    "plt.figure(figsize=(10,8))\n",
    "plt.xlabel('Time')\n",
    "plt.ylabel('Temperature Anomaly (°Celsius)')\n",
    "plt.plot(t, color='#1C7C54', linewidth=1.0)\n",
    "plt.title(\"Time Series Monthly Analysis: Temperature vs Time\")\n",
    "plt.show()"
   ]
  },
  {
   "cell_type": "code",
   "execution_count": null,
   "id": "6379273b-8e0c-49b9-93f9-cb59ee89196e",
   "metadata": {},
   "outputs": [],
   "source": [
    "plt.figure(figsize=(10,8))\n",
    "plt.xlabel('Time')\n",
    "plt.ylabel('Temperature Anomaly (°Celsius)')\n",
    "plt.plot(t.resample('A').mean(), color='#1C7C54', linewidth=1.0) #the string ‘A’ represents ‘calendar year-end’\n",
    "plt.title(\"Time Series Yearly Analysis: Temperature vs Time\")\n",
    "plt.show()"
   ]
  },
  {
   "cell_type": "code",
   "execution_count": null,
   "id": "3f2952e9-dfa7-4edb-874b-d5e7b2403978",
   "metadata": {},
   "outputs": [],
   "source": [
    "def populate_df(row):\n",
    "    index = str(row['date'].year)\n",
    "    value = raw_co2_world.loc[index]\n",
    "    return value"
   ]
  },
  {
   "cell_type": "code",
   "execution_count": null,
   "id": "b2b3075e-eb37-4d73-91be-6e28d1e43e6c",
   "metadata": {},
   "outputs": [],
   "source": [
    "raw_co2_world = raw_co2[raw_co2['Country Name']=='World'].loc[:,'1960':'2020']\n",
    "raw_co2_world = raw_co2_world.T\n",
    "raw_co2_world.columns = ['value']\n",
    "date_rng = pd.date_range(start='31/12/1960', end='31/12/2018', freq='y')\n",
    "e = pd.DataFrame(date_rng, columns=['date'])\n",
    "v = e.apply(lambda row: populate_df(row), axis=1)\n",
    "e['Global CO2 Emissions per Capita'] = v\n",
    "e.set_index('date', inplace=True)\n",
    "e.fillna(method='ffill', inplace=True) #filling missing data\n",
    "e.head()"
   ]
  },
  {
   "cell_type": "markdown",
   "id": "bfa40d0b-f2cc-4ef8-b18d-7228ac90a0e1",
   "metadata": {},
   "source": [
    "===================================================================================================================================\n",
    "### <font color='#0bfc03'> Time Series Analysis: Global Temperature Anamolies over the Years"
   ]
  },
  {
   "cell_type": "code",
   "execution_count": null,
   "id": "366c76b3-f378-4983-96e3-8d335e31ac21",
   "metadata": {},
   "outputs": [],
   "source": [
    "t.resample('A').mean().iplot(kind='line', xTitle='Time (years)', color='#1C7C54',\n",
    "                  yTitle='Temperature Anomaly (deg. Celsius)', title='Global Temperature Anomalies')"
   ]
  },
  {
   "cell_type": "markdown",
   "id": "05b4d518-12b8-45bf-9129-a15155f977bd",
   "metadata": {},
   "source": [
    "===================================================================================================================================\n",
    "### <font color='#0bfc03'> Time Series Analysis: Global CO2 Emission over the Years"
   ]
  },
  {
   "cell_type": "code",
   "execution_count": null,
   "id": "3c411b51-e7a2-422b-9819-7723a24ea6db",
   "metadata": {},
   "outputs": [],
   "source": [
    "e.iplot(kind='line', xTitle='Time (years)', color='#3393FF',\n",
    "                  yTitle='Emissions (Metric Tons per Capita)', title='Global CO2 Emission over Time')"
   ]
  },
  {
   "cell_type": "markdown",
   "id": "dc3ec02f-5890-4173-8d69-e6e724dbd2cf",
   "metadata": {},
   "source": [
    "===================================================================================================================================\n",
    "### <font color='#0bfc03'> Forcasting"
   ]
  },
  {
   "cell_type": "code",
   "execution_count": null,
   "id": "6e907d56-dc31-429a-94b3-a65fc4f08834",
   "metadata": {},
   "outputs": [],
   "source": [
    "t_prophet = pd.DataFrame()\n",
    "t_prophet['ds'] = t.index\n",
    "t_prophet['y'] = t['Avg_Anomaly_deg_C'].values\n",
    "m = Prophet(weekly_seasonality=True)\n",
    "m.fit(t_prophet)"
   ]
  },
  {
   "cell_type": "code",
   "execution_count": null,
   "id": "56a68ab5-cef3-48d1-a8dc-efc95ac8d553",
   "metadata": {},
   "outputs": [],
   "source": [
    "future = m.make_future_dataframe(freq='m', periods=100*12)\n",
    "forecast = m.predict(future)\n",
    "m.plot(forecast)"
   ]
  }
 ],
 "metadata": {
  "kernelspec": {
   "display_name": "Python 3",
   "language": "python",
   "name": "python3"
  },
  "language_info": {
   "codemirror_mode": {
    "name": "ipython",
    "version": 3
   },
   "file_extension": ".py",
   "mimetype": "text/x-python",
   "name": "python",
   "nbconvert_exporter": "python",
   "pygments_lexer": "ipython3",
   "version": "3.8.3"
  }
 },
 "nbformat": 4,
 "nbformat_minor": 5
}
