{
 "cells": [
  {
   "cell_type": "code",
   "execution_count": 4,
   "id": "7f165ad5",
   "metadata": {},
   "outputs": [],
   "source": [
    "# Data Loading and Numerical Operations\n",
    "import pandas as pd\n",
    "import numpy as np\n",
    "# Data Visualizations\n",
    "import os\n",
    "import matplotlib.pyplot as plt\n",
    "import seaborn as sns\n",
    "%matplotlib inline\n",
    "# Data Scaling\n",
    "from sklearn.preprocessing import MinMaxScaler\n",
    "# Data Splitting\n",
    "from sklearn.model_selection import train_test_split\n",
    "# Data Modeling\n",
    "from sklearn.linear_model import LogisticRegression\n",
    "from sklearn.ensemble import GradientBoostingClassifier\n",
    "from sklearn.tree import DecisionTreeClassifier\n",
    "from sklearn.svm import SVC\n",
    "from sklearn.naive_bayes import GaussianNB\n",
    "from sklearn.metrics import confusion_matrix, accuracy_score, roc_curve, classification_report\n",
    "# Hyperparameter Tuning\n",
    "from sklearn.model_selection import RandomizedSearchCV\n",
    "from sklearn.model_selection import cross_val_score"
   ]
  },
  {
   "cell_type": "code",
   "execution_count": 5,
   "id": "22533f31",
   "metadata": {},
   "outputs": [],
   "source": [
    "import matplotlib.pyplot as plt\n",
    "from importlib import reload\n",
    "plt=reload(plt)\n"
   ]
  },
  {
   "cell_type": "markdown",
   "id": "57fbcc3a",
   "metadata": {},
   "source": [
    "### 1. Visualization with Pandas"
   ]
  },
  {
   "cell_type": "code",
   "execution_count": 6,
   "id": "a86ef642",
   "metadata": {},
   "outputs": [],
   "source": [
    "df = pd.read_csv(r'framingham.csv', header='infer')"
   ]
  },
  {
   "cell_type": "code",
   "execution_count": 7,
   "id": "ccf0215e",
   "metadata": {},
   "outputs": [
    {
     "data": {
      "text/plain": [
       "(4238, 16)"
      ]
     },
     "execution_count": 7,
     "metadata": {},
     "output_type": "execute_result"
    }
   ],
   "source": [
    "df.shape #  print the number of rows and columns of my DataFrame"
   ]
  },
  {
   "cell_type": "code",
   "execution_count": 8,
   "id": "451ad03d",
   "metadata": {},
   "outputs": [
    {
     "data": {
      "text/html": [
       "<div>\n",
       "<style scoped>\n",
       "    .dataframe tbody tr th:only-of-type {\n",
       "        vertical-align: middle;\n",
       "    }\n",
       "\n",
       "    .dataframe tbody tr th {\n",
       "        vertical-align: top;\n",
       "    }\n",
       "\n",
       "    .dataframe thead th {\n",
       "        text-align: right;\n",
       "    }\n",
       "</style>\n",
       "<table border=\"1\" class=\"dataframe\">\n",
       "  <thead>\n",
       "    <tr style=\"text-align: right;\">\n",
       "      <th></th>\n",
       "      <th>male</th>\n",
       "      <th>age</th>\n",
       "      <th>education</th>\n",
       "      <th>currentSmoker</th>\n",
       "      <th>cigsPerDay</th>\n",
       "      <th>BPMeds</th>\n",
       "      <th>prevalentStroke</th>\n",
       "      <th>prevalentHyp</th>\n",
       "      <th>diabetes</th>\n",
       "      <th>totChol</th>\n",
       "      <th>sysBP</th>\n",
       "      <th>diaBP</th>\n",
       "      <th>BMI</th>\n",
       "      <th>heartRate</th>\n",
       "      <th>glucose</th>\n",
       "      <th>TenYearCHD</th>\n",
       "    </tr>\n",
       "  </thead>\n",
       "  <tbody>\n",
       "    <tr>\n",
       "      <th>0</th>\n",
       "      <td>1</td>\n",
       "      <td>39</td>\n",
       "      <td>4.0</td>\n",
       "      <td>0</td>\n",
       "      <td>0.0</td>\n",
       "      <td>0.0</td>\n",
       "      <td>0</td>\n",
       "      <td>0</td>\n",
       "      <td>0</td>\n",
       "      <td>195.0</td>\n",
       "      <td>106.0</td>\n",
       "      <td>70.0</td>\n",
       "      <td>26.97</td>\n",
       "      <td>80.0</td>\n",
       "      <td>77.0</td>\n",
       "      <td>0</td>\n",
       "    </tr>\n",
       "    <tr>\n",
       "      <th>1</th>\n",
       "      <td>0</td>\n",
       "      <td>46</td>\n",
       "      <td>2.0</td>\n",
       "      <td>0</td>\n",
       "      <td>0.0</td>\n",
       "      <td>0.0</td>\n",
       "      <td>0</td>\n",
       "      <td>0</td>\n",
       "      <td>0</td>\n",
       "      <td>250.0</td>\n",
       "      <td>121.0</td>\n",
       "      <td>81.0</td>\n",
       "      <td>28.73</td>\n",
       "      <td>95.0</td>\n",
       "      <td>76.0</td>\n",
       "      <td>0</td>\n",
       "    </tr>\n",
       "    <tr>\n",
       "      <th>2</th>\n",
       "      <td>1</td>\n",
       "      <td>48</td>\n",
       "      <td>1.0</td>\n",
       "      <td>1</td>\n",
       "      <td>20.0</td>\n",
       "      <td>0.0</td>\n",
       "      <td>0</td>\n",
       "      <td>0</td>\n",
       "      <td>0</td>\n",
       "      <td>245.0</td>\n",
       "      <td>127.5</td>\n",
       "      <td>80.0</td>\n",
       "      <td>25.34</td>\n",
       "      <td>75.0</td>\n",
       "      <td>70.0</td>\n",
       "      <td>0</td>\n",
       "    </tr>\n",
       "    <tr>\n",
       "      <th>3</th>\n",
       "      <td>0</td>\n",
       "      <td>61</td>\n",
       "      <td>3.0</td>\n",
       "      <td>1</td>\n",
       "      <td>30.0</td>\n",
       "      <td>0.0</td>\n",
       "      <td>0</td>\n",
       "      <td>1</td>\n",
       "      <td>0</td>\n",
       "      <td>225.0</td>\n",
       "      <td>150.0</td>\n",
       "      <td>95.0</td>\n",
       "      <td>28.58</td>\n",
       "      <td>65.0</td>\n",
       "      <td>103.0</td>\n",
       "      <td>1</td>\n",
       "    </tr>\n",
       "    <tr>\n",
       "      <th>4</th>\n",
       "      <td>0</td>\n",
       "      <td>46</td>\n",
       "      <td>3.0</td>\n",
       "      <td>1</td>\n",
       "      <td>23.0</td>\n",
       "      <td>0.0</td>\n",
       "      <td>0</td>\n",
       "      <td>0</td>\n",
       "      <td>0</td>\n",
       "      <td>285.0</td>\n",
       "      <td>130.0</td>\n",
       "      <td>84.0</td>\n",
       "      <td>23.10</td>\n",
       "      <td>85.0</td>\n",
       "      <td>85.0</td>\n",
       "      <td>0</td>\n",
       "    </tr>\n",
       "  </tbody>\n",
       "</table>\n",
       "</div>"
      ],
      "text/plain": [
       "   male  age  education  currentSmoker  cigsPerDay  BPMeds  prevalentStroke  \\\n",
       "0     1   39        4.0              0         0.0     0.0                0   \n",
       "1     0   46        2.0              0         0.0     0.0                0   \n",
       "2     1   48        1.0              1        20.0     0.0                0   \n",
       "3     0   61        3.0              1        30.0     0.0                0   \n",
       "4     0   46        3.0              1        23.0     0.0                0   \n",
       "\n",
       "   prevalentHyp  diabetes  totChol  sysBP  diaBP    BMI  heartRate  glucose  \\\n",
       "0             0         0    195.0  106.0   70.0  26.97       80.0     77.0   \n",
       "1             0         0    250.0  121.0   81.0  28.73       95.0     76.0   \n",
       "2             0         0    245.0  127.5   80.0  25.34       75.0     70.0   \n",
       "3             1         0    225.0  150.0   95.0  28.58       65.0    103.0   \n",
       "4             0         0    285.0  130.0   84.0  23.10       85.0     85.0   \n",
       "\n",
       "   TenYearCHD  \n",
       "0           0  \n",
       "1           0  \n",
       "2           0  \n",
       "3           1  \n",
       "4           0  "
      ]
     },
     "execution_count": 8,
     "metadata": {},
     "output_type": "execute_result"
    }
   ],
   "source": [
    "df.head(5) # The head() function is used to get the first n rows."
   ]
  },
  {
   "cell_type": "code",
   "execution_count": 9,
   "id": "68b8cffa",
   "metadata": {},
   "outputs": [
    {
     "data": {
      "text/html": [
       "<div>\n",
       "<style scoped>\n",
       "    .dataframe tbody tr th:only-of-type {\n",
       "        vertical-align: middle;\n",
       "    }\n",
       "\n",
       "    .dataframe tbody tr th {\n",
       "        vertical-align: top;\n",
       "    }\n",
       "\n",
       "    .dataframe thead th {\n",
       "        text-align: right;\n",
       "    }\n",
       "</style>\n",
       "<table border=\"1\" class=\"dataframe\">\n",
       "  <thead>\n",
       "    <tr style=\"text-align: right;\">\n",
       "      <th></th>\n",
       "      <th>male</th>\n",
       "      <th>age</th>\n",
       "      <th>education</th>\n",
       "      <th>currentSmoker</th>\n",
       "      <th>cigsPerDay</th>\n",
       "      <th>BPMeds</th>\n",
       "      <th>prevalentStroke</th>\n",
       "      <th>prevalentHyp</th>\n",
       "      <th>diabetes</th>\n",
       "      <th>totChol</th>\n",
       "      <th>sysBP</th>\n",
       "      <th>diaBP</th>\n",
       "      <th>BMI</th>\n",
       "      <th>heartRate</th>\n",
       "      <th>glucose</th>\n",
       "      <th>TenYearCHD</th>\n",
       "    </tr>\n",
       "  </thead>\n",
       "  <tbody>\n",
       "    <tr>\n",
       "      <th>4233</th>\n",
       "      <td>1</td>\n",
       "      <td>50</td>\n",
       "      <td>1.0</td>\n",
       "      <td>1</td>\n",
       "      <td>1.0</td>\n",
       "      <td>0.0</td>\n",
       "      <td>0</td>\n",
       "      <td>1</td>\n",
       "      <td>0</td>\n",
       "      <td>313.0</td>\n",
       "      <td>179.0</td>\n",
       "      <td>92.0</td>\n",
       "      <td>25.97</td>\n",
       "      <td>66.0</td>\n",
       "      <td>86.0</td>\n",
       "      <td>1</td>\n",
       "    </tr>\n",
       "    <tr>\n",
       "      <th>4234</th>\n",
       "      <td>1</td>\n",
       "      <td>51</td>\n",
       "      <td>3.0</td>\n",
       "      <td>1</td>\n",
       "      <td>43.0</td>\n",
       "      <td>0.0</td>\n",
       "      <td>0</td>\n",
       "      <td>0</td>\n",
       "      <td>0</td>\n",
       "      <td>207.0</td>\n",
       "      <td>126.5</td>\n",
       "      <td>80.0</td>\n",
       "      <td>19.71</td>\n",
       "      <td>65.0</td>\n",
       "      <td>68.0</td>\n",
       "      <td>0</td>\n",
       "    </tr>\n",
       "    <tr>\n",
       "      <th>4235</th>\n",
       "      <td>0</td>\n",
       "      <td>48</td>\n",
       "      <td>2.0</td>\n",
       "      <td>1</td>\n",
       "      <td>20.0</td>\n",
       "      <td>NaN</td>\n",
       "      <td>0</td>\n",
       "      <td>0</td>\n",
       "      <td>0</td>\n",
       "      <td>248.0</td>\n",
       "      <td>131.0</td>\n",
       "      <td>72.0</td>\n",
       "      <td>22.00</td>\n",
       "      <td>84.0</td>\n",
       "      <td>86.0</td>\n",
       "      <td>0</td>\n",
       "    </tr>\n",
       "    <tr>\n",
       "      <th>4236</th>\n",
       "      <td>0</td>\n",
       "      <td>44</td>\n",
       "      <td>1.0</td>\n",
       "      <td>1</td>\n",
       "      <td>15.0</td>\n",
       "      <td>0.0</td>\n",
       "      <td>0</td>\n",
       "      <td>0</td>\n",
       "      <td>0</td>\n",
       "      <td>210.0</td>\n",
       "      <td>126.5</td>\n",
       "      <td>87.0</td>\n",
       "      <td>19.16</td>\n",
       "      <td>86.0</td>\n",
       "      <td>NaN</td>\n",
       "      <td>0</td>\n",
       "    </tr>\n",
       "    <tr>\n",
       "      <th>4237</th>\n",
       "      <td>0</td>\n",
       "      <td>52</td>\n",
       "      <td>2.0</td>\n",
       "      <td>0</td>\n",
       "      <td>0.0</td>\n",
       "      <td>0.0</td>\n",
       "      <td>0</td>\n",
       "      <td>0</td>\n",
       "      <td>0</td>\n",
       "      <td>269.0</td>\n",
       "      <td>133.5</td>\n",
       "      <td>83.0</td>\n",
       "      <td>21.47</td>\n",
       "      <td>80.0</td>\n",
       "      <td>107.0</td>\n",
       "      <td>0</td>\n",
       "    </tr>\n",
       "  </tbody>\n",
       "</table>\n",
       "</div>"
      ],
      "text/plain": [
       "      male  age  education  currentSmoker  cigsPerDay  BPMeds  \\\n",
       "4233     1   50        1.0              1         1.0     0.0   \n",
       "4234     1   51        3.0              1        43.0     0.0   \n",
       "4235     0   48        2.0              1        20.0     NaN   \n",
       "4236     0   44        1.0              1        15.0     0.0   \n",
       "4237     0   52        2.0              0         0.0     0.0   \n",
       "\n",
       "      prevalentStroke  prevalentHyp  diabetes  totChol  sysBP  diaBP    BMI  \\\n",
       "4233                0             1         0    313.0  179.0   92.0  25.97   \n",
       "4234                0             0         0    207.0  126.5   80.0  19.71   \n",
       "4235                0             0         0    248.0  131.0   72.0  22.00   \n",
       "4236                0             0         0    210.0  126.5   87.0  19.16   \n",
       "4237                0             0         0    269.0  133.5   83.0  21.47   \n",
       "\n",
       "      heartRate  glucose  TenYearCHD  \n",
       "4233       66.0     86.0           1  \n",
       "4234       65.0     68.0           0  \n",
       "4235       84.0     86.0           0  \n",
       "4236       86.0      NaN           0  \n",
       "4237       80.0    107.0           0  "
      ]
     },
     "execution_count": 9,
     "metadata": {},
     "output_type": "execute_result"
    }
   ],
   "source": [
    "df.tail(5) # The tail() function is used to get the last n rows."
   ]
  },
  {
   "cell_type": "markdown",
   "id": "3d7d3fbf",
   "metadata": {},
   "source": [
    "### Checking Statistical Measure:"
   ]
  },
  {
   "cell_type": "code",
   "execution_count": 10,
   "id": "e8f1912e",
   "metadata": {},
   "outputs": [
    {
     "data": {
      "text/html": [
       "<div>\n",
       "<style scoped>\n",
       "    .dataframe tbody tr th:only-of-type {\n",
       "        vertical-align: middle;\n",
       "    }\n",
       "\n",
       "    .dataframe tbody tr th {\n",
       "        vertical-align: top;\n",
       "    }\n",
       "\n",
       "    .dataframe thead th {\n",
       "        text-align: right;\n",
       "    }\n",
       "</style>\n",
       "<table border=\"1\" class=\"dataframe\">\n",
       "  <thead>\n",
       "    <tr style=\"text-align: right;\">\n",
       "      <th></th>\n",
       "      <th>male</th>\n",
       "      <th>age</th>\n",
       "      <th>education</th>\n",
       "      <th>currentSmoker</th>\n",
       "      <th>cigsPerDay</th>\n",
       "      <th>BPMeds</th>\n",
       "      <th>prevalentStroke</th>\n",
       "      <th>prevalentHyp</th>\n",
       "      <th>diabetes</th>\n",
       "      <th>totChol</th>\n",
       "      <th>sysBP</th>\n",
       "      <th>diaBP</th>\n",
       "      <th>BMI</th>\n",
       "      <th>heartRate</th>\n",
       "      <th>glucose</th>\n",
       "      <th>TenYearCHD</th>\n",
       "    </tr>\n",
       "  </thead>\n",
       "  <tbody>\n",
       "    <tr>\n",
       "      <th>count</th>\n",
       "      <td>4238.000000</td>\n",
       "      <td>4238.000000</td>\n",
       "      <td>4133.000000</td>\n",
       "      <td>4238.000000</td>\n",
       "      <td>4209.000000</td>\n",
       "      <td>4185.000000</td>\n",
       "      <td>4238.000000</td>\n",
       "      <td>4238.000000</td>\n",
       "      <td>4238.000000</td>\n",
       "      <td>4188.000000</td>\n",
       "      <td>4238.000000</td>\n",
       "      <td>4238.000000</td>\n",
       "      <td>4219.000000</td>\n",
       "      <td>4237.000000</td>\n",
       "      <td>3850.000000</td>\n",
       "      <td>4238.000000</td>\n",
       "    </tr>\n",
       "    <tr>\n",
       "      <th>mean</th>\n",
       "      <td>0.429212</td>\n",
       "      <td>49.584946</td>\n",
       "      <td>1.978950</td>\n",
       "      <td>0.494101</td>\n",
       "      <td>9.003089</td>\n",
       "      <td>0.029630</td>\n",
       "      <td>0.005899</td>\n",
       "      <td>0.310524</td>\n",
       "      <td>0.025720</td>\n",
       "      <td>236.721585</td>\n",
       "      <td>132.352407</td>\n",
       "      <td>82.893464</td>\n",
       "      <td>25.802008</td>\n",
       "      <td>75.878924</td>\n",
       "      <td>81.966753</td>\n",
       "      <td>0.151958</td>\n",
       "    </tr>\n",
       "    <tr>\n",
       "      <th>std</th>\n",
       "      <td>0.495022</td>\n",
       "      <td>8.572160</td>\n",
       "      <td>1.019791</td>\n",
       "      <td>0.500024</td>\n",
       "      <td>11.920094</td>\n",
       "      <td>0.169584</td>\n",
       "      <td>0.076587</td>\n",
       "      <td>0.462763</td>\n",
       "      <td>0.158316</td>\n",
       "      <td>44.590334</td>\n",
       "      <td>22.038097</td>\n",
       "      <td>11.910850</td>\n",
       "      <td>4.080111</td>\n",
       "      <td>12.026596</td>\n",
       "      <td>23.959998</td>\n",
       "      <td>0.359023</td>\n",
       "    </tr>\n",
       "    <tr>\n",
       "      <th>min</th>\n",
       "      <td>0.000000</td>\n",
       "      <td>32.000000</td>\n",
       "      <td>1.000000</td>\n",
       "      <td>0.000000</td>\n",
       "      <td>0.000000</td>\n",
       "      <td>0.000000</td>\n",
       "      <td>0.000000</td>\n",
       "      <td>0.000000</td>\n",
       "      <td>0.000000</td>\n",
       "      <td>107.000000</td>\n",
       "      <td>83.500000</td>\n",
       "      <td>48.000000</td>\n",
       "      <td>15.540000</td>\n",
       "      <td>44.000000</td>\n",
       "      <td>40.000000</td>\n",
       "      <td>0.000000</td>\n",
       "    </tr>\n",
       "    <tr>\n",
       "      <th>25%</th>\n",
       "      <td>0.000000</td>\n",
       "      <td>42.000000</td>\n",
       "      <td>1.000000</td>\n",
       "      <td>0.000000</td>\n",
       "      <td>0.000000</td>\n",
       "      <td>0.000000</td>\n",
       "      <td>0.000000</td>\n",
       "      <td>0.000000</td>\n",
       "      <td>0.000000</td>\n",
       "      <td>206.000000</td>\n",
       "      <td>117.000000</td>\n",
       "      <td>75.000000</td>\n",
       "      <td>23.070000</td>\n",
       "      <td>68.000000</td>\n",
       "      <td>71.000000</td>\n",
       "      <td>0.000000</td>\n",
       "    </tr>\n",
       "    <tr>\n",
       "      <th>50%</th>\n",
       "      <td>0.000000</td>\n",
       "      <td>49.000000</td>\n",
       "      <td>2.000000</td>\n",
       "      <td>0.000000</td>\n",
       "      <td>0.000000</td>\n",
       "      <td>0.000000</td>\n",
       "      <td>0.000000</td>\n",
       "      <td>0.000000</td>\n",
       "      <td>0.000000</td>\n",
       "      <td>234.000000</td>\n",
       "      <td>128.000000</td>\n",
       "      <td>82.000000</td>\n",
       "      <td>25.400000</td>\n",
       "      <td>75.000000</td>\n",
       "      <td>78.000000</td>\n",
       "      <td>0.000000</td>\n",
       "    </tr>\n",
       "    <tr>\n",
       "      <th>75%</th>\n",
       "      <td>1.000000</td>\n",
       "      <td>56.000000</td>\n",
       "      <td>3.000000</td>\n",
       "      <td>1.000000</td>\n",
       "      <td>20.000000</td>\n",
       "      <td>0.000000</td>\n",
       "      <td>0.000000</td>\n",
       "      <td>1.000000</td>\n",
       "      <td>0.000000</td>\n",
       "      <td>263.000000</td>\n",
       "      <td>144.000000</td>\n",
       "      <td>89.875000</td>\n",
       "      <td>28.040000</td>\n",
       "      <td>83.000000</td>\n",
       "      <td>87.000000</td>\n",
       "      <td>0.000000</td>\n",
       "    </tr>\n",
       "    <tr>\n",
       "      <th>max</th>\n",
       "      <td>1.000000</td>\n",
       "      <td>70.000000</td>\n",
       "      <td>4.000000</td>\n",
       "      <td>1.000000</td>\n",
       "      <td>70.000000</td>\n",
       "      <td>1.000000</td>\n",
       "      <td>1.000000</td>\n",
       "      <td>1.000000</td>\n",
       "      <td>1.000000</td>\n",
       "      <td>696.000000</td>\n",
       "      <td>295.000000</td>\n",
       "      <td>142.500000</td>\n",
       "      <td>56.800000</td>\n",
       "      <td>143.000000</td>\n",
       "      <td>394.000000</td>\n",
       "      <td>1.000000</td>\n",
       "    </tr>\n",
       "  </tbody>\n",
       "</table>\n",
       "</div>"
      ],
      "text/plain": [
       "              male          age    education  currentSmoker   cigsPerDay  \\\n",
       "count  4238.000000  4238.000000  4133.000000    4238.000000  4209.000000   \n",
       "mean      0.429212    49.584946     1.978950       0.494101     9.003089   \n",
       "std       0.495022     8.572160     1.019791       0.500024    11.920094   \n",
       "min       0.000000    32.000000     1.000000       0.000000     0.000000   \n",
       "25%       0.000000    42.000000     1.000000       0.000000     0.000000   \n",
       "50%       0.000000    49.000000     2.000000       0.000000     0.000000   \n",
       "75%       1.000000    56.000000     3.000000       1.000000    20.000000   \n",
       "max       1.000000    70.000000     4.000000       1.000000    70.000000   \n",
       "\n",
       "            BPMeds  prevalentStroke  prevalentHyp     diabetes      totChol  \\\n",
       "count  4185.000000      4238.000000   4238.000000  4238.000000  4188.000000   \n",
       "mean      0.029630         0.005899      0.310524     0.025720   236.721585   \n",
       "std       0.169584         0.076587      0.462763     0.158316    44.590334   \n",
       "min       0.000000         0.000000      0.000000     0.000000   107.000000   \n",
       "25%       0.000000         0.000000      0.000000     0.000000   206.000000   \n",
       "50%       0.000000         0.000000      0.000000     0.000000   234.000000   \n",
       "75%       0.000000         0.000000      1.000000     0.000000   263.000000   \n",
       "max       1.000000         1.000000      1.000000     1.000000   696.000000   \n",
       "\n",
       "             sysBP        diaBP          BMI    heartRate      glucose  \\\n",
       "count  4238.000000  4238.000000  4219.000000  4237.000000  3850.000000   \n",
       "mean    132.352407    82.893464    25.802008    75.878924    81.966753   \n",
       "std      22.038097    11.910850     4.080111    12.026596    23.959998   \n",
       "min      83.500000    48.000000    15.540000    44.000000    40.000000   \n",
       "25%     117.000000    75.000000    23.070000    68.000000    71.000000   \n",
       "50%     128.000000    82.000000    25.400000    75.000000    78.000000   \n",
       "75%     144.000000    89.875000    28.040000    83.000000    87.000000   \n",
       "max     295.000000   142.500000    56.800000   143.000000   394.000000   \n",
       "\n",
       "        TenYearCHD  \n",
       "count  4238.000000  \n",
       "mean      0.151958  \n",
       "std       0.359023  \n",
       "min       0.000000  \n",
       "25%       0.000000  \n",
       "50%       0.000000  \n",
       "75%       0.000000  \n",
       "max       1.000000  "
      ]
     },
     "execution_count": 10,
     "metadata": {},
     "output_type": "execute_result"
    }
   ],
   "source": [
    "df.describe() #The describe() method returns description of the data in the DataFrame"
   ]
  },
  {
   "cell_type": "code",
   "execution_count": 11,
   "id": "0efa12e5",
   "metadata": {},
   "outputs": [
    {
     "data": {
      "image/png": "[encoded data removed]",
      "text/plain": [
       "<Figure size 720x576 with 1 Axes>"
      ]
     },
     "metadata": {},
     "output_type": "display_data"
    }
   ],
   "source": [
    "# here I have used matplotlib as visualization to get the outline of my data\n",
    "labels = 'Heart Disease', 'Healthy' # I have given the labels as peoples with heart disease and healthy ones\n",
    "sizes = [df.TenYearCHD[df[\"TenYearCHD\"]==1].count(), df.TenYearCHD[df[\"TenYearCHD\"]==0].count()]\n",
    "explode = (0, 0.1)\n",
    "fig1, ax1 = plt.subplots(figsize=(10, 8))\n",
    "ax1.pie(sizes, explode=explode, labels=labels, autopct='%1.1f%%',\n",
    "        shadow=True, startangle=90)\n",
    "ax1.axis('equal')\n",
    "plt.title(\"Proportion of Heart Disease and Healthy\", size = 20)\n",
    "plt.show()"
   ]
  },
  {
   "cell_type": "markdown",
   "id": "a67a3b38",
   "metadata": {},
   "source": [
    "### Data Preprocessing"
   ]
  },
  {
   "cell_type": "code",
   "execution_count": 12,
   "id": "0d1062e1",
   "metadata": {},
   "outputs": [
    {
     "data": {
      "text/plain": [
       "glucose            388\n",
       "education          105\n",
       "BPMeds              53\n",
       "totChol             50\n",
       "cigsPerDay          29\n",
       "BMI                 19\n",
       "heartRate            1\n",
       "male                 0\n",
       "age                  0\n",
       "currentSmoker        0\n",
       "prevalentStroke      0\n",
       "prevalentHyp         0\n",
       "diabetes             0\n",
       "sysBP                0\n",
       "diaBP                0\n",
       "TenYearCHD           0\n",
       "dtype: int64"
      ]
     },
     "execution_count": 12,
     "metadata": {},
     "output_type": "execute_result"
    }
   ],
   "source": [
    "df.isnull().sum().sort_values(ascending=False) # df.isnull().sum() prints the column with missing value. \n",
    "                                            \n",
    "                                               # output gives glucose with the highest null values"
   ]
  },
  {
   "cell_type": "code",
   "execution_count": 13,
   "id": "474b500a",
   "metadata": {},
   "outputs": [
    {
     "data": {
      "text/plain": [
       "<AxesSubplot:>"
      ]
     },
     "execution_count": 13,
     "metadata": {},
     "output_type": "execute_result"
    },
    {
     "data": {
      "image/png": "[encoded data removed]",
      "text/plain": [
       "<Figure size 432x288 with 2 Axes>"
      ]
     },
     "metadata": {
      "needs_background": "light"
     },
     "output_type": "display_data"
    }
   ],
   "source": [
    "# plot heatmap\n",
    "sns.heatmap (df.isnull(), yticklabels =False, cmap='viridis')"
   ]
  },
  {
   "cell_type": "code",
   "execution_count": 14,
   "id": "38d83284",
   "metadata": {},
   "outputs": [
    {
     "data": {
      "text/plain": [
       "0"
      ]
     },
     "execution_count": 14,
     "metadata": {},
     "output_type": "execute_result"
    }
   ],
   "source": [
    "df.duplicated().sum()"
   ]
  },
  {
   "cell_type": "markdown",
   "id": "030f6f47",
   "metadata": {},
   "source": [
    "#### Filling the missing spaces of glucosecolumn with the mode of the data (Mode = 75) present to reduce the number of missing data in our dataset"
   ]
  },
  {
   "cell_type": "code",
   "execution_count": 15,
   "id": "2815fb08",
   "metadata": {},
   "outputs": [
    {
     "name": "stdout",
     "output_type": "stream",
     "text": [
      "75.0\n"
     ]
    }
   ],
   "source": [
    "print((df[\"glucose\"].mode())[0])"
   ]
  },
  {
   "cell_type": "code",
   "execution_count": 16,
   "id": "d5560783",
   "metadata": {},
   "outputs": [],
   "source": [
    "df[\"glucose\"].fillna((df[\"glucose\"].mode())[0], inplace=True)"
   ]
  },
  {
   "cell_type": "code",
   "execution_count": 17,
   "id": "c401d133",
   "metadata": {},
   "outputs": [
    {
     "data": {
      "text/plain": [
       "male               0\n",
       "age                0\n",
       "education          0\n",
       "currentSmoker      0\n",
       "cigsPerDay         0\n",
       "BPMeds             0\n",
       "prevalentStroke    0\n",
       "prevalentHyp       0\n",
       "diabetes           0\n",
       "totChol            0\n",
       "sysBP              0\n",
       "diaBP              0\n",
       "BMI                0\n",
       "heartRate          0\n",
       "glucose            0\n",
       "TenYearCHD         0\n",
       "dtype: int64"
      ]
     },
     "execution_count": 17,
     "metadata": {},
     "output_type": "execute_result"
    }
   ],
   "source": [
    "df.dropna(inplace=True)\n",
    "df.isnull().sum()"
   ]
  },
  {
   "cell_type": "code",
   "execution_count": 18,
   "id": "81374a7b",
   "metadata": {},
   "outputs": [
    {
     "data": {
      "image/png": "[encoded data removed]",
      "text/plain": [
       "<Figure size 2160x720 with 1 Axes>"
      ]
     },
     "metadata": {},
     "output_type": "display_data"
    }
   ],
   "source": [
    "plt.figure(figsize=(30,10), facecolor='w')\n",
    "sns.boxplot(data=df)\n",
    "plt.show()"
   ]
  },
  {
   "cell_type": "markdown",
   "id": "3758184a",
   "metadata": {},
   "source": [
    "#### Removable Outliers are detected in totChol and sysBP columns of our dataset. Outliers in all other numerical columns are important and thus cannot be removed. The Outlier present in totChol is 600. The Outlier present in sysBP is 295."
   ]
  },
  {
   "cell_type": "code",
   "execution_count": 19,
   "id": "b3eee516",
   "metadata": {},
   "outputs": [
    {
     "name": "stdout",
     "output_type": "stream",
     "text": [
      "600.0\n",
      "295.0\n"
     ]
    }
   ],
   "source": [
    "print(df['totChol'].max())\n",
    "print(df['sysBP'].max())"
   ]
  },
  {
   "cell_type": "code",
   "execution_count": 20,
   "id": "d5657d3e",
   "metadata": {},
   "outputs": [],
   "source": [
    "df.shape\n",
    "df = df[df['totChol']<600.0]\n",
    "df = df[df['sysBP']<295.0]"
   ]
  },
  {
   "cell_type": "code",
   "execution_count": 21,
   "id": "8db6f520",
   "metadata": {},
   "outputs": [
    {
     "data": {
      "text/html": [
       "<div>\n",
       "<style scoped>\n",
       "    .dataframe tbody tr th:only-of-type {\n",
       "        vertical-align: middle;\n",
       "    }\n",
       "\n",
       "    .dataframe tbody tr th {\n",
       "        vertical-align: top;\n",
       "    }\n",
       "\n",
       "    .dataframe thead th {\n",
       "        text-align: right;\n",
       "    }\n",
       "</style>\n",
       "<table border=\"1\" class=\"dataframe\">\n",
       "  <thead>\n",
       "    <tr style=\"text-align: right;\">\n",
       "      <th></th>\n",
       "      <th>male</th>\n",
       "      <th>age</th>\n",
       "      <th>education</th>\n",
       "      <th>currentSmoker</th>\n",
       "      <th>cigsPerDay</th>\n",
       "      <th>BPMeds</th>\n",
       "      <th>prevalentStroke</th>\n",
       "      <th>prevalentHyp</th>\n",
       "      <th>diabetes</th>\n",
       "      <th>totChol</th>\n",
       "      <th>sysBP</th>\n",
       "      <th>diaBP</th>\n",
       "      <th>BMI</th>\n",
       "      <th>heartRate</th>\n",
       "      <th>glucose</th>\n",
       "      <th>TenYearCHD</th>\n",
       "    </tr>\n",
       "  </thead>\n",
       "  <tbody>\n",
       "    <tr>\n",
       "      <th>count</th>\n",
       "      <td>3985.000000</td>\n",
       "      <td>3985.000000</td>\n",
       "      <td>3985.000000</td>\n",
       "      <td>3985.000000</td>\n",
       "      <td>3985.000000</td>\n",
       "      <td>3985.000000</td>\n",
       "      <td>3985.000000</td>\n",
       "      <td>3985.000000</td>\n",
       "      <td>3985.000000</td>\n",
       "      <td>3985.000000</td>\n",
       "      <td>3985.000000</td>\n",
       "      <td>3985.000000</td>\n",
       "      <td>3985.000000</td>\n",
       "      <td>3985.000000</td>\n",
       "      <td>3985.000000</td>\n",
       "      <td>3985.000000</td>\n",
       "    </tr>\n",
       "    <tr>\n",
       "      <th>mean</th>\n",
       "      <td>0.433375</td>\n",
       "      <td>49.474529</td>\n",
       "      <td>1.982183</td>\n",
       "      <td>0.491343</td>\n",
       "      <td>9.024843</td>\n",
       "      <td>0.029360</td>\n",
       "      <td>0.005521</td>\n",
       "      <td>0.309159</td>\n",
       "      <td>0.025094</td>\n",
       "      <td>236.525220</td>\n",
       "      <td>132.175031</td>\n",
       "      <td>82.845295</td>\n",
       "      <td>25.770750</td>\n",
       "      <td>75.869260</td>\n",
       "      <td>81.275031</td>\n",
       "      <td>0.148808</td>\n",
       "    </tr>\n",
       "    <tr>\n",
       "      <th>std</th>\n",
       "      <td>0.495603</td>\n",
       "      <td>8.530533</td>\n",
       "      <td>1.020834</td>\n",
       "      <td>0.499988</td>\n",
       "      <td>11.915833</td>\n",
       "      <td>0.168835</td>\n",
       "      <td>0.074105</td>\n",
       "      <td>0.462205</td>\n",
       "      <td>0.156431</td>\n",
       "      <td>43.651946</td>\n",
       "      <td>21.798425</td>\n",
       "      <td>11.855084</td>\n",
       "      <td>4.075439</td>\n",
       "      <td>12.087749</td>\n",
       "      <td>22.960124</td>\n",
       "      <td>0.355944</td>\n",
       "    </tr>\n",
       "    <tr>\n",
       "      <th>min</th>\n",
       "      <td>0.000000</td>\n",
       "      <td>32.000000</td>\n",
       "      <td>1.000000</td>\n",
       "      <td>0.000000</td>\n",
       "      <td>0.000000</td>\n",
       "      <td>0.000000</td>\n",
       "      <td>0.000000</td>\n",
       "      <td>0.000000</td>\n",
       "      <td>0.000000</td>\n",
       "      <td>113.000000</td>\n",
       "      <td>83.500000</td>\n",
       "      <td>48.000000</td>\n",
       "      <td>15.540000</td>\n",
       "      <td>44.000000</td>\n",
       "      <td>40.000000</td>\n",
       "      <td>0.000000</td>\n",
       "    </tr>\n",
       "    <tr>\n",
       "      <th>25%</th>\n",
       "      <td>0.000000</td>\n",
       "      <td>42.000000</td>\n",
       "      <td>1.000000</td>\n",
       "      <td>0.000000</td>\n",
       "      <td>0.000000</td>\n",
       "      <td>0.000000</td>\n",
       "      <td>0.000000</td>\n",
       "      <td>0.000000</td>\n",
       "      <td>0.000000</td>\n",
       "      <td>206.000000</td>\n",
       "      <td>117.000000</td>\n",
       "      <td>75.000000</td>\n",
       "      <td>23.060000</td>\n",
       "      <td>68.000000</td>\n",
       "      <td>72.000000</td>\n",
       "      <td>0.000000</td>\n",
       "    </tr>\n",
       "    <tr>\n",
       "      <th>50%</th>\n",
       "      <td>0.000000</td>\n",
       "      <td>49.000000</td>\n",
       "      <td>2.000000</td>\n",
       "      <td>0.000000</td>\n",
       "      <td>0.000000</td>\n",
       "      <td>0.000000</td>\n",
       "      <td>0.000000</td>\n",
       "      <td>0.000000</td>\n",
       "      <td>0.000000</td>\n",
       "      <td>234.000000</td>\n",
       "      <td>128.000000</td>\n",
       "      <td>82.000000</td>\n",
       "      <td>25.380000</td>\n",
       "      <td>75.000000</td>\n",
       "      <td>77.000000</td>\n",
       "      <td>0.000000</td>\n",
       "    </tr>\n",
       "    <tr>\n",
       "      <th>75%</th>\n",
       "      <td>1.000000</td>\n",
       "      <td>56.000000</td>\n",
       "      <td>3.000000</td>\n",
       "      <td>1.000000</td>\n",
       "      <td>20.000000</td>\n",
       "      <td>0.000000</td>\n",
       "      <td>0.000000</td>\n",
       "      <td>1.000000</td>\n",
       "      <td>0.000000</td>\n",
       "      <td>263.000000</td>\n",
       "      <td>143.000000</td>\n",
       "      <td>89.500000</td>\n",
       "      <td>27.990000</td>\n",
       "      <td>83.000000</td>\n",
       "      <td>85.000000</td>\n",
       "      <td>0.000000</td>\n",
       "    </tr>\n",
       "    <tr>\n",
       "      <th>max</th>\n",
       "      <td>1.000000</td>\n",
       "      <td>70.000000</td>\n",
       "      <td>4.000000</td>\n",
       "      <td>1.000000</td>\n",
       "      <td>70.000000</td>\n",
       "      <td>1.000000</td>\n",
       "      <td>1.000000</td>\n",
       "      <td>1.000000</td>\n",
       "      <td>1.000000</td>\n",
       "      <td>464.000000</td>\n",
       "      <td>248.000000</td>\n",
       "      <td>142.500000</td>\n",
       "      <td>56.800000</td>\n",
       "      <td>143.000000</td>\n",
       "      <td>394.000000</td>\n",
       "      <td>1.000000</td>\n",
       "    </tr>\n",
       "  </tbody>\n",
       "</table>\n",
       "</div>"
      ],
      "text/plain": [
       "              male          age    education  currentSmoker   cigsPerDay  \\\n",
       "count  3985.000000  3985.000000  3985.000000    3985.000000  3985.000000   \n",
       "mean      0.433375    49.474529     1.982183       0.491343     9.024843   \n",
       "std       0.495603     8.530533     1.020834       0.499988    11.915833   \n",
       "min       0.000000    32.000000     1.000000       0.000000     0.000000   \n",
       "25%       0.000000    42.000000     1.000000       0.000000     0.000000   \n",
       "50%       0.000000    49.000000     2.000000       0.000000     0.000000   \n",
       "75%       1.000000    56.000000     3.000000       1.000000    20.000000   \n",
       "max       1.000000    70.000000     4.000000       1.000000    70.000000   \n",
       "\n",
       "            BPMeds  prevalentStroke  prevalentHyp     diabetes      totChol  \\\n",
       "count  3985.000000      3985.000000   3985.000000  3985.000000  3985.000000   \n",
       "mean      0.029360         0.005521      0.309159     0.025094   236.525220   \n",
       "std       0.168835         0.074105      0.462205     0.156431    43.651946   \n",
       "min       0.000000         0.000000      0.000000     0.000000   113.000000   \n",
       "25%       0.000000         0.000000      0.000000     0.000000   206.000000   \n",
       "50%       0.000000         0.000000      0.000000     0.000000   234.000000   \n",
       "75%       0.000000         0.000000      1.000000     0.000000   263.000000   \n",
       "max       1.000000         1.000000      1.000000     1.000000   464.000000   \n",
       "\n",
       "             sysBP        diaBP          BMI    heartRate      glucose  \\\n",
       "count  3985.000000  3985.000000  3985.000000  3985.000000  3985.000000   \n",
       "mean    132.175031    82.845295    25.770750    75.869260    81.275031   \n",
       "std      21.798425    11.855084     4.075439    12.087749    22.960124   \n",
       "min      83.500000    48.000000    15.540000    44.000000    40.000000   \n",
       "25%     117.000000    75.000000    23.060000    68.000000    72.000000   \n",
       "50%     128.000000    82.000000    25.380000    75.000000    77.000000   \n",
       "75%     143.000000    89.500000    27.990000    83.000000    85.000000   \n",
       "max     248.000000   142.500000    56.800000   143.000000   394.000000   \n",
       "\n",
       "        TenYearCHD  \n",
       "count  3985.000000  \n",
       "mean      0.148808  \n",
       "std       0.355944  \n",
       "min       0.000000  \n",
       "25%       0.000000  \n",
       "50%       0.000000  \n",
       "75%       0.000000  \n",
       "max       1.000000  "
      ]
     },
     "execution_count": 21,
     "metadata": {},
     "output_type": "execute_result"
    }
   ],
   "source": [
    "df.describe()"
   ]
  },
  {
   "cell_type": "code",
   "execution_count": 22,
   "id": "1a812015",
   "metadata": {},
   "outputs": [
    {
     "data": {
      "text/html": [
       "<div>\n",
       "<style scoped>\n",
       "    .dataframe tbody tr th:only-of-type {\n",
       "        vertical-align: middle;\n",
       "    }\n",
       "\n",
       "    .dataframe tbody tr th {\n",
       "        vertical-align: top;\n",
       "    }\n",
       "\n",
       "    .dataframe thead th {\n",
       "        text-align: right;\n",
       "    }\n",
       "</style>\n",
       "<table border=\"1\" class=\"dataframe\">\n",
       "  <thead>\n",
       "    <tr style=\"text-align: right;\">\n",
       "      <th></th>\n",
       "      <th>male</th>\n",
       "      <th>age</th>\n",
       "      <th>education</th>\n",
       "      <th>currentSmoker</th>\n",
       "      <th>cigsPerDay</th>\n",
       "      <th>BPMeds</th>\n",
       "      <th>prevalentStroke</th>\n",
       "      <th>prevalentHyp</th>\n",
       "      <th>diabetes</th>\n",
       "      <th>totChol</th>\n",
       "      <th>sysBP</th>\n",
       "      <th>diaBP</th>\n",
       "      <th>BMI</th>\n",
       "      <th>heartRate</th>\n",
       "      <th>glucose</th>\n",
       "      <th>TenYearCHD</th>\n",
       "    </tr>\n",
       "  </thead>\n",
       "  <tbody>\n",
       "    <tr>\n",
       "      <th>male</th>\n",
       "      <td>1.000000</td>\n",
       "      <td>-0.022235</td>\n",
       "      <td>0.012785</td>\n",
       "      <td>0.201021</td>\n",
       "      <td>0.326216</td>\n",
       "      <td>-0.050110</td>\n",
       "      <td>-0.003651</td>\n",
       "      <td>0.007760</td>\n",
       "      <td>0.018333</td>\n",
       "      <td>-0.067305</td>\n",
       "      <td>-0.031883</td>\n",
       "      <td>0.059774</td>\n",
       "      <td>0.079957</td>\n",
       "      <td>-0.115356</td>\n",
       "      <td>0.009177</td>\n",
       "      <td>0.092499</td>\n",
       "    </tr>\n",
       "    <tr>\n",
       "      <th>age</th>\n",
       "      <td>-0.022235</td>\n",
       "      <td>1.000000</td>\n",
       "      <td>-0.160269</td>\n",
       "      <td>-0.213397</td>\n",
       "      <td>-0.190141</td>\n",
       "      <td>0.128526</td>\n",
       "      <td>0.045090</td>\n",
       "      <td>0.304449</td>\n",
       "      <td>0.104873</td>\n",
       "      <td>0.271017</td>\n",
       "      <td>0.389739</td>\n",
       "      <td>0.205375</td>\n",
       "      <td>0.133180</td>\n",
       "      <td>-0.008901</td>\n",
       "      <td>0.115920</td>\n",
       "      <td>0.228785</td>\n",
       "    </tr>\n",
       "    <tr>\n",
       "      <th>education</th>\n",
       "      <td>0.012785</td>\n",
       "      <td>-0.160269</td>\n",
       "      <td>1.000000</td>\n",
       "      <td>0.018139</td>\n",
       "      <td>0.006082</td>\n",
       "      <td>-0.010071</td>\n",
       "      <td>-0.028561</td>\n",
       "      <td>-0.081419</td>\n",
       "      <td>-0.034923</td>\n",
       "      <td>-0.022794</td>\n",
       "      <td>-0.127519</td>\n",
       "      <td>-0.062823</td>\n",
       "      <td>-0.135427</td>\n",
       "      <td>-0.057836</td>\n",
       "      <td>-0.031222</td>\n",
       "      <td>-0.053491</td>\n",
       "    </tr>\n",
       "    <tr>\n",
       "      <th>currentSmoker</th>\n",
       "      <td>0.201021</td>\n",
       "      <td>-0.213397</td>\n",
       "      <td>0.018139</td>\n",
       "      <td>1.000000</td>\n",
       "      <td>0.770709</td>\n",
       "      <td>-0.049023</td>\n",
       "      <td>-0.032582</td>\n",
       "      <td>-0.104632</td>\n",
       "      <td>-0.038941</td>\n",
       "      <td>-0.047260</td>\n",
       "      <td>-0.129664</td>\n",
       "      <td>-0.108643</td>\n",
       "      <td>-0.164071</td>\n",
       "      <td>0.052329</td>\n",
       "      <td>-0.051569</td>\n",
       "      <td>0.023460</td>\n",
       "    </tr>\n",
       "    <tr>\n",
       "      <th>cigsPerDay</th>\n",
       "      <td>0.326216</td>\n",
       "      <td>-0.190141</td>\n",
       "      <td>0.006082</td>\n",
       "      <td>0.770709</td>\n",
       "      <td>1.000000</td>\n",
       "      <td>-0.044031</td>\n",
       "      <td>-0.033982</td>\n",
       "      <td>-0.065883</td>\n",
       "      <td>-0.035211</td>\n",
       "      <td>-0.024816</td>\n",
       "      <td>-0.086910</td>\n",
       "      <td>-0.050297</td>\n",
       "      <td>-0.086776</td>\n",
       "      <td>0.067909</td>\n",
       "      <td>-0.050980</td>\n",
       "      <td>0.060261</td>\n",
       "    </tr>\n",
       "    <tr>\n",
       "      <th>BPMeds</th>\n",
       "      <td>-0.050110</td>\n",
       "      <td>0.128526</td>\n",
       "      <td>-0.010071</td>\n",
       "      <td>-0.049023</td>\n",
       "      <td>-0.044031</td>\n",
       "      <td>1.000000</td>\n",
       "      <td>0.127474</td>\n",
       "      <td>0.259984</td>\n",
       "      <td>0.048127</td>\n",
       "      <td>0.087240</td>\n",
       "      <td>0.262679</td>\n",
       "      <td>0.196835</td>\n",
       "      <td>0.103288</td>\n",
       "      <td>0.016394</td>\n",
       "      <td>0.054379</td>\n",
       "      <td>0.090173</td>\n",
       "    </tr>\n",
       "    <tr>\n",
       "      <th>prevalentStroke</th>\n",
       "      <td>-0.003651</td>\n",
       "      <td>0.045090</td>\n",
       "      <td>-0.028561</td>\n",
       "      <td>-0.032582</td>\n",
       "      <td>-0.033982</td>\n",
       "      <td>0.127474</td>\n",
       "      <td>1.000000</td>\n",
       "      <td>0.067408</td>\n",
       "      <td>0.009699</td>\n",
       "      <td>0.008182</td>\n",
       "      <td>0.055728</td>\n",
       "      <td>0.049543</td>\n",
       "      <td>0.031494</td>\n",
       "      <td>-0.012084</td>\n",
       "      <td>0.016515</td>\n",
       "      <td>0.044974</td>\n",
       "    </tr>\n",
       "    <tr>\n",
       "      <th>prevalentHyp</th>\n",
       "      <td>0.007760</td>\n",
       "      <td>0.304449</td>\n",
       "      <td>-0.081419</td>\n",
       "      <td>-0.104632</td>\n",
       "      <td>-0.065883</td>\n",
       "      <td>0.259984</td>\n",
       "      <td>0.067408</td>\n",
       "      <td>1.000000</td>\n",
       "      <td>0.073195</td>\n",
       "      <td>0.163593</td>\n",
       "      <td>0.696082</td>\n",
       "      <td>0.615298</td>\n",
       "      <td>0.303591</td>\n",
       "      <td>0.151225</td>\n",
       "      <td>0.083851</td>\n",
       "      <td>0.174948</td>\n",
       "    </tr>\n",
       "    <tr>\n",
       "      <th>diabetes</th>\n",
       "      <td>0.018333</td>\n",
       "      <td>0.104873</td>\n",
       "      <td>-0.034923</td>\n",
       "      <td>-0.038941</td>\n",
       "      <td>-0.035211</td>\n",
       "      <td>0.048127</td>\n",
       "      <td>0.009699</td>\n",
       "      <td>0.073195</td>\n",
       "      <td>1.000000</td>\n",
       "      <td>0.032071</td>\n",
       "      <td>0.100624</td>\n",
       "      <td>0.050413</td>\n",
       "      <td>0.082427</td>\n",
       "      <td>0.051514</td>\n",
       "      <td>0.608594</td>\n",
       "      <td>0.086188</td>\n",
       "    </tr>\n",
       "    <tr>\n",
       "      <th>totChol</th>\n",
       "      <td>-0.067305</td>\n",
       "      <td>0.271017</td>\n",
       "      <td>-0.022794</td>\n",
       "      <td>-0.047260</td>\n",
       "      <td>-0.024816</td>\n",
       "      <td>0.087240</td>\n",
       "      <td>0.008182</td>\n",
       "      <td>0.163593</td>\n",
       "      <td>0.032071</td>\n",
       "      <td>1.000000</td>\n",
       "      <td>0.214820</td>\n",
       "      <td>0.171610</td>\n",
       "      <td>0.122613</td>\n",
       "      <td>0.088664</td>\n",
       "      <td>0.044300</td>\n",
       "      <td>0.077971</td>\n",
       "    </tr>\n",
       "    <tr>\n",
       "      <th>sysBP</th>\n",
       "      <td>-0.031883</td>\n",
       "      <td>0.389739</td>\n",
       "      <td>-0.127519</td>\n",
       "      <td>-0.129664</td>\n",
       "      <td>-0.086910</td>\n",
       "      <td>0.262679</td>\n",
       "      <td>0.055728</td>\n",
       "      <td>0.696082</td>\n",
       "      <td>0.100624</td>\n",
       "      <td>0.214820</td>\n",
       "      <td>1.000000</td>\n",
       "      <td>0.784662</td>\n",
       "      <td>0.326332</td>\n",
       "      <td>0.185993</td>\n",
       "      <td>0.132371</td>\n",
       "      <td>0.214034</td>\n",
       "    </tr>\n",
       "    <tr>\n",
       "      <th>diaBP</th>\n",
       "      <td>0.059774</td>\n",
       "      <td>0.205375</td>\n",
       "      <td>-0.062823</td>\n",
       "      <td>-0.108643</td>\n",
       "      <td>-0.050297</td>\n",
       "      <td>0.196835</td>\n",
       "      <td>0.049543</td>\n",
       "      <td>0.615298</td>\n",
       "      <td>0.050413</td>\n",
       "      <td>0.171610</td>\n",
       "      <td>0.784662</td>\n",
       "      <td>1.000000</td>\n",
       "      <td>0.381321</td>\n",
       "      <td>0.181086</td>\n",
       "      <td>0.062591</td>\n",
       "      <td>0.145956</td>\n",
       "    </tr>\n",
       "    <tr>\n",
       "      <th>BMI</th>\n",
       "      <td>0.079957</td>\n",
       "      <td>0.133180</td>\n",
       "      <td>-0.135427</td>\n",
       "      <td>-0.164071</td>\n",
       "      <td>-0.086776</td>\n",
       "      <td>0.103288</td>\n",
       "      <td>0.031494</td>\n",
       "      <td>0.303591</td>\n",
       "      <td>0.082427</td>\n",
       "      <td>0.122613</td>\n",
       "      <td>0.326332</td>\n",
       "      <td>0.381321</td>\n",
       "      <td>1.000000</td>\n",
       "      <td>0.072596</td>\n",
       "      <td>0.080393</td>\n",
       "      <td>0.071923</td>\n",
       "    </tr>\n",
       "    <tr>\n",
       "      <th>heartRate</th>\n",
       "      <td>-0.115356</td>\n",
       "      <td>-0.008901</td>\n",
       "      <td>-0.057836</td>\n",
       "      <td>0.052329</td>\n",
       "      <td>0.067909</td>\n",
       "      <td>0.016394</td>\n",
       "      <td>-0.012084</td>\n",
       "      <td>0.151225</td>\n",
       "      <td>0.051514</td>\n",
       "      <td>0.088664</td>\n",
       "      <td>0.185993</td>\n",
       "      <td>0.181086</td>\n",
       "      <td>0.072596</td>\n",
       "      <td>1.000000</td>\n",
       "      <td>0.088697</td>\n",
       "      <td>0.022141</td>\n",
       "    </tr>\n",
       "    <tr>\n",
       "      <th>glucose</th>\n",
       "      <td>0.009177</td>\n",
       "      <td>0.115920</td>\n",
       "      <td>-0.031222</td>\n",
       "      <td>-0.051569</td>\n",
       "      <td>-0.050980</td>\n",
       "      <td>0.054379</td>\n",
       "      <td>0.016515</td>\n",
       "      <td>0.083851</td>\n",
       "      <td>0.608594</td>\n",
       "      <td>0.044300</td>\n",
       "      <td>0.132371</td>\n",
       "      <td>0.062591</td>\n",
       "      <td>0.080393</td>\n",
       "      <td>0.088697</td>\n",
       "      <td>1.000000</td>\n",
       "      <td>0.118796</td>\n",
       "    </tr>\n",
       "    <tr>\n",
       "      <th>TenYearCHD</th>\n",
       "      <td>0.092499</td>\n",
       "      <td>0.228785</td>\n",
       "      <td>-0.053491</td>\n",
       "      <td>0.023460</td>\n",
       "      <td>0.060261</td>\n",
       "      <td>0.090173</td>\n",
       "      <td>0.044974</td>\n",
       "      <td>0.174948</td>\n",
       "      <td>0.086188</td>\n",
       "      <td>0.077971</td>\n",
       "      <td>0.214034</td>\n",
       "      <td>0.145956</td>\n",
       "      <td>0.071923</td>\n",
       "      <td>0.022141</td>\n",
       "      <td>0.118796</td>\n",
       "      <td>1.000000</td>\n",
       "    </tr>\n",
       "  </tbody>\n",
       "</table>\n",
       "</div>"
      ],
      "text/plain": [
       "                     male       age  education  currentSmoker  cigsPerDay  \\\n",
       "male             1.000000 -0.022235   0.012785       0.201021    0.326216   \n",
       "age             -0.022235  1.000000  -0.160269      -0.213397   -0.190141   \n",
       "education        0.012785 -0.160269   1.000000       0.018139    0.006082   \n",
       "currentSmoker    0.201021 -0.213397   0.018139       1.000000    0.770709   \n",
       "cigsPerDay       0.326216 -0.190141   0.006082       0.770709    1.000000   \n",
       "BPMeds          -0.050110  0.128526  -0.010071      -0.049023   -0.044031   \n",
       "prevalentStroke -0.003651  0.045090  -0.028561      -0.032582   -0.033982   \n",
       "prevalentHyp     0.007760  0.304449  -0.081419      -0.104632   -0.065883   \n",
       "diabetes         0.018333  0.104873  -0.034923      -0.038941   -0.035211   \n",
       "totChol         -0.067305  0.271017  -0.022794      -0.047260   -0.024816   \n",
       "sysBP           -0.031883  0.389739  -0.127519      -0.129664   -0.086910   \n",
       "diaBP            0.059774  0.205375  -0.062823      -0.108643   -0.050297   \n",
       "BMI              0.079957  0.133180  -0.135427      -0.164071   -0.086776   \n",
       "heartRate       -0.115356 -0.008901  -0.057836       0.052329    0.067909   \n",
       "glucose          0.009177  0.115920  -0.031222      -0.051569   -0.050980   \n",
       "TenYearCHD       0.092499  0.228785  -0.053491       0.023460    0.060261   \n",
       "\n",
       "                   BPMeds  prevalentStroke  prevalentHyp  diabetes   totChol  \\\n",
       "male            -0.050110        -0.003651      0.007760  0.018333 -0.067305   \n",
       "age              0.128526         0.045090      0.304449  0.104873  0.271017   \n",
       "education       -0.010071        -0.028561     -0.081419 -0.034923 -0.022794   \n",
       "currentSmoker   -0.049023        -0.032582     -0.104632 -0.038941 -0.047260   \n",
       "cigsPerDay      -0.044031        -0.033982     -0.065883 -0.035211 -0.024816   \n",
       "BPMeds           1.000000         0.127474      0.259984  0.048127  0.087240   \n",
       "prevalentStroke  0.127474         1.000000      0.067408  0.009699  0.008182   \n",
       "prevalentHyp     0.259984         0.067408      1.000000  0.073195  0.163593   \n",
       "diabetes         0.048127         0.009699      0.073195  1.000000  0.032071   \n",
       "totChol          0.087240         0.008182      0.163593  0.032071  1.000000   \n",
       "sysBP            0.262679         0.055728      0.696082  0.100624  0.214820   \n",
       "diaBP            0.196835         0.049543      0.615298  0.050413  0.171610   \n",
       "BMI              0.103288         0.031494      0.303591  0.082427  0.122613   \n",
       "heartRate        0.016394        -0.012084      0.151225  0.051514  0.088664   \n",
       "glucose          0.054379         0.016515      0.083851  0.608594  0.044300   \n",
       "TenYearCHD       0.090173         0.044974      0.174948  0.086188  0.077971   \n",
       "\n",
       "                    sysBP     diaBP       BMI  heartRate   glucose  TenYearCHD  \n",
       "male            -0.031883  0.059774  0.079957  -0.115356  0.009177    0.092499  \n",
       "age              0.389739  0.205375  0.133180  -0.008901  0.115920    0.228785  \n",
       "education       -0.127519 -0.062823 -0.135427  -0.057836 -0.031222   -0.053491  \n",
       "currentSmoker   -0.129664 -0.108643 -0.164071   0.052329 -0.051569    0.023460  \n",
       "cigsPerDay      -0.086910 -0.050297 -0.086776   0.067909 -0.050980    0.060261  \n",
       "BPMeds           0.262679  0.196835  0.103288   0.016394  0.054379    0.090173  \n",
       "prevalentStroke  0.055728  0.049543  0.031494  -0.012084  0.016515    0.044974  \n",
       "prevalentHyp     0.696082  0.615298  0.303591   0.151225  0.083851    0.174948  \n",
       "diabetes         0.100624  0.050413  0.082427   0.051514  0.608594    0.086188  \n",
       "totChol          0.214820  0.171610  0.122613   0.088664  0.044300    0.077971  \n",
       "sysBP            1.000000  0.784662  0.326332   0.185993  0.132371    0.214034  \n",
       "diaBP            0.784662  1.000000  0.381321   0.181086  0.062591    0.145956  \n",
       "BMI              0.326332  0.381321  1.000000   0.072596  0.080393    0.071923  \n",
       "heartRate        0.185993  0.181086  0.072596   1.000000  0.088697    0.022141  \n",
       "glucose          0.132371  0.062591  0.080393   0.088697  1.000000    0.118796  \n",
       "TenYearCHD       0.214034  0.145956  0.071923   0.022141  0.118796    1.000000  "
      ]
     },
     "execution_count": 22,
     "metadata": {},
     "output_type": "execute_result"
    }
   ],
   "source": [
    "#Checking relationship between variables\n",
    "cor=df.corr()\n",
    "cor"
   ]
  },
  {
   "cell_type": "code",
   "execution_count": 23,
   "id": "e0a9c1ae",
   "metadata": {},
   "outputs": [
    {
     "data": {
      "text/plain": [
       "male               0\n",
       "age                0\n",
       "education          0\n",
       "currentSmoker      0\n",
       "cigsPerDay         0\n",
       "BPMeds             0\n",
       "prevalentStroke    0\n",
       "prevalentHyp       0\n",
       "diabetes           0\n",
       "totChol            0\n",
       "sysBP              0\n",
       "diaBP              0\n",
       "BMI                0\n",
       "heartRate          0\n",
       "glucose            0\n",
       "TenYearCHD         0\n",
       "dtype: int64"
      ]
     },
     "execution_count": 23,
     "metadata": {},
     "output_type": "execute_result"
    }
   ],
   "source": [
    "df.isnull().sum().sort_values(ascending=False)"
   ]
  },
  {
   "cell_type": "code",
   "execution_count": 24,
   "id": "ad5865dc",
   "metadata": {},
   "outputs": [
    {
     "data": {
      "image/png": "[encoded data removed]",
      "text/plain": [
       "<Figure size 864x720 with 2 Axes>"
      ]
     },
     "metadata": {},
     "output_type": "display_data"
    }
   ],
   "source": [
    "#Distribution of outcome variable, Heart Disease\n",
    "plt.figure(figsize=(12, 10), facecolor='w')\n",
    "plt.subplots_adjust(right=1.5)\n",
    "plt.subplot(121)\n",
    "sns.countplot(x=\"TenYearCHD\", data=df)\n",
    "plt.title(\"Count distribution of TenYearCHD\", size=20)\n",
    "plt.subplot(122)\n",
    "labels=[0,1]\n",
    "plt.pie(df[\"TenYearCHD\"].value_counts(),autopct=\"%1.1f%%\",labels=labels,colors=[\"green\",\"red\"])\n",
    "plt.show()"
   ]
  },
  {
   "cell_type": "markdown",
   "id": "613b4b68",
   "metadata": {},
   "source": [
    "#### The distribution is highly imbalanced as the number of negative cases outweigh the number of positive cases which would lead to class imbalance problem while fitting our models"
   ]
  },
  {
   "cell_type": "code",
   "execution_count": 25,
   "id": "01babf40",
   "metadata": {},
   "outputs": [
    {
     "data": {
      "text/plain": [
       "(array([  0.,  50., 100., 150., 200., 250., 300., 350.]),\n",
       " [Text(0, 0, ''),\n",
       "  Text(0, 0, ''),\n",
       "  Text(0, 0, ''),\n",
       "  Text(0, 0, ''),\n",
       "  Text(0, 0, ''),\n",
       "  Text(0, 0, ''),\n",
       "  Text(0, 0, ''),\n",
       "  Text(0, 0, '')])"
      ]
     },
     "execution_count": 25,
     "metadata": {},
     "output_type": "execute_result"
    },
    {
     "data": {
      "image/png": "[encoded data removed]",
      "text/plain": [
       "<Figure size 864x576 with 1 Axes>"
      ]
     },
     "metadata": {},
     "output_type": "display_data"
    }
   ],
   "source": [
    "#Bivariate ananlysis\n",
    "#checking for which gender has more risk of coronary heart disease CHD\n",
    "\n",
    "graph_2 = df.groupby(\"male\", as_index=False).TenYearCHD.sum()\n",
    "#Ploting the above values\n",
    "\n",
    "plt.figure(figsize=(12,8), facecolor='w')\n",
    "sns.barplot(x=graph_2[\"male\"], y=graph_2[\"TenYearCHD\"])\n",
    "plt.title(\"Graph showing which gender has more risk of coronary heart disease CHD\", size=20)\n",
    "plt.xlabel(\"Gender\\n0 is female and 1 is male\",size=20)\n",
    "plt.ylabel(\"TenYearCHD cases\", size=20)\n",
    "plt.xticks(size=12)\n",
    "plt.yticks(size=12)"
   ]
  },
  {
   "cell_type": "code",
   "execution_count": 26,
   "id": "a0973705-8d07-46ad-a737-210496cf9d86",
   "metadata": {},
   "outputs": [],
   "source": [
    "data = df"
   ]
  },
  {
   "cell_type": "code",
   "execution_count": 27,
   "id": "922a8999",
   "metadata": {},
   "outputs": [
    {
     "data": {
      "text/plain": [
       "(array([-50.,   0.,  50., 100., 150., 200., 250., 300.]),\n",
       " [Text(0, 0, ''),\n",
       "  Text(0, 0, ''),\n",
       "  Text(0, 0, ''),\n",
       "  Text(0, 0, ''),\n",
       "  Text(0, 0, ''),\n",
       "  Text(0, 0, ''),\n",
       "  Text(0, 0, ''),\n",
       "  Text(0, 0, '')])"
      ]
     },
     "execution_count": 27,
     "metadata": {},
     "output_type": "execute_result"
    },
    {
     "data": {
      "image/png": "[encoded data removed]",
      "text/plain": [
       "<Figure size 1152x720 with 1 Axes>"
      ]
     },
     "metadata": {},
     "output_type": "display_data"
    }
   ],
   "source": [
    "# Multivariate analysis\n",
    "\n",
    "#Plotting a linegraph to check the relationship between age and cigsPerDay, totChol, glucose.\n",
    "\n",
    "graph_5 = data.groupby(\"age\").cigsPerDay.mean()\n",
    "graph_6 = data.groupby(\"age\").totChol.mean()\n",
    "graph_7 = data.groupby(\"age\").glucose.mean()\n",
    "\n",
    "plt.figure(figsize=(16,10), facecolor='w')\n",
    "sns.lineplot(data=graph_5, label=\"cigsPerDay\")\n",
    "sns.lineplot(data=graph_6, label=\"totChol\")\n",
    "sns.lineplot(data=graph_7, label=\"glucose\")\n",
    "plt.title(\"Graph showing totChol and cigsPerDay in every age group.\", size=20)\n",
    "plt.xlabel(\"age\", size=20)\n",
    "plt.ylabel(\"count\", size=20)\n",
    "plt.xticks(size=12)\n",
    "plt.yticks(size=12)"
   ]
  },
  {
   "cell_type": "code",
   "execution_count": 28,
   "id": "786db48e",
   "metadata": {},
   "outputs": [],
   "source": [
    "# Data Resampling\n",
    "from sklearn.utils import resample"
   ]
  },
  {
   "cell_type": "code",
   "execution_count": 29,
   "id": "ec284b22",
   "metadata": {},
   "outputs": [],
   "source": [
    "# Resampling\n",
    "target1=df[df['TenYearCHD']==1]\n",
    "target0=df[df['TenYearCHD']==0]"
   ]
  },
  {
   "cell_type": "code",
   "execution_count": 30,
   "id": "4ad9dac8",
   "metadata": {},
   "outputs": [
    {
     "data": {
      "text/plain": [
       "(6784, 16)"
      ]
     },
     "execution_count": 30,
     "metadata": {},
     "output_type": "execute_result"
    }
   ],
   "source": [
    "target1=resample(target1,replace=True,n_samples=len(target0),random_state=40)\n",
    "target=pd.concat([target0,target1])\n",
    "target['TenYearCHD'].value_counts() \n",
    "\n",
    "\n",
    "df=target\n",
    "np.shape(df)"
   ]
  },
  {
   "cell_type": "code",
   "execution_count": 55,
   "id": "26a1c861-7cad-4c4a-924b-823d76593cf8",
   "metadata": {},
   "outputs": [
    {
     "data": {
      "text/plain": [
       "0    3392\n",
       "1    3392\n",
       "Name: TenYearCHD, dtype: int64"
      ]
     },
     "execution_count": 55,
     "metadata": {},
     "output_type": "execute_result"
    }
   ],
   "source": [
    "target['TenYearCHD'].value_counts() "
   ]
  },
  {
   "cell_type": "code",
   "execution_count": 57,
   "id": "45982919",
   "metadata": {},
   "outputs": [
    {
     "data": {
      "image/png": "[encoded data removed]",
      "text/plain": [
       "<Figure size 864x720 with 2 Axes>"
      ]
     },
     "metadata": {},
     "output_type": "display_data"
    }
   ],
   "source": [
    "#Distribution of heart disease cases in the balanced dataset, the outcome variable\n",
    "plt.figure(figsize=(12, 10), facecolor='w')\n",
    "plt.subplots_adjust(right=1.5)\n",
    "plt.subplot(121)\n",
    "sns.countplot(x=\"TenYearCHD\", data=target)\n",
    "plt.title(\"Count of TenYearCHD column\", size=20)\n",
    "plt.subplot(122)\n",
    "labels=[0,1]\n",
    "plt.pie(target[\"TenYearCHD\"].value_counts(),autopct=\"%1.1f%%\",labels=labels,colors=[\"green\",\"red\"])\n",
    "plt.show()"
   ]
  },
  {
   "cell_type": "code",
   "execution_count": 58,
   "id": "a0cd7763",
   "metadata": {},
   "outputs": [
    {
     "name": "stdout",
     "output_type": "stream",
     "text": [
      "X -  (6784, 15) \n",
      "y -  (6784,)\n"
     ]
    }
   ],
   "source": [
    "#To idenfify the features that have larger contribution towards the outcome variable, TenYearCHD\n",
    "X=target.iloc[:,0:15]\n",
    "y=target.iloc[:,-1]\n",
    "print(\"X - \", X.shape, \"\\ny - \", y.shape)"
   ]
  },
  {
   "cell_type": "code",
   "execution_count": 59,
   "id": "335c088a",
   "metadata": {},
   "outputs": [],
   "source": [
    "# Data Feature Selection\n",
    "from sklearn.feature_selection import SelectKBest\n",
    "from sklearn.feature_selection import chi2"
   ]
  },
  {
   "cell_type": "code",
   "execution_count": 60,
   "id": "87ed58a1",
   "metadata": {},
   "outputs": [
    {
     "name": "stdout",
     "output_type": "stream",
     "text": [
      "         Feature        Score\n",
      "10         sysBP  2127.940554\n",
      "14       glucose  1233.362900\n",
      "1            age  1004.535192\n",
      "4     cigsPerDay   790.532235\n",
      "9        totChol   766.291552\n",
      "11         diaBP   488.928591\n",
      "7   prevalentHyp   221.768997\n",
      "0           male    66.816351\n",
      "5         BPMeds    66.216216\n",
      "8       diabetes    54.258065\n",
      "12           BMI    44.855037\n"
     ]
    }
   ],
   "source": [
    "#Apply SelectKBest and extract top 10 features\n",
    "best=SelectKBest(score_func=chi2, k=10)\n",
    "fit=best.fit(X,y)\n",
    "data_scores=pd.DataFrame(fit.scores_)\n",
    "data_columns=pd.DataFrame(X.columns)\n",
    "\n",
    "#Join the two dataframes\n",
    "scores=pd.concat([data_columns,data_scores],axis=1)\n",
    "scores.columns=['Feature','Score']\n",
    "print(scores.nlargest(11,'Score'))"
   ]
  },
  {
   "cell_type": "code",
   "execution_count": 61,
   "id": "9f8f3444",
   "metadata": {},
   "outputs": [
    {
     "data": {
      "image/png": "[encoded data removed]",
      "text/plain": [
       "<Figure size 1440x504 with 1 Axes>"
      ]
     },
     "metadata": {},
     "output_type": "display_data"
    }
   ],
   "source": [
    "#To visualize feature selection\n",
    "scores=scores.sort_values(by=\"Score\", ascending=False)\n",
    "plt.figure(figsize=(20,7), facecolor='w')\n",
    "sns.barplot(x='Feature',y='Score',data=scores,palette='BuGn_r')\n",
    "plt.title(\"Plot showing the best features in descending order\", size=20)\n",
    "plt.show()"
   ]
  },
  {
   "cell_type": "code",
   "execution_count": 62,
   "id": "6fe04b3d",
   "metadata": {},
   "outputs": [
    {
     "data": {
      "text/html": [
       "<div>\n",
       "<style scoped>\n",
       "    .dataframe tbody tr th:only-of-type {\n",
       "        vertical-align: middle;\n",
       "    }\n",
       "\n",
       "    .dataframe tbody tr th {\n",
       "        vertical-align: top;\n",
       "    }\n",
       "\n",
       "    .dataframe thead th {\n",
       "        text-align: right;\n",
       "    }\n",
       "</style>\n",
       "<table border=\"1\" class=\"dataframe\">\n",
       "  <thead>\n",
       "    <tr style=\"text-align: right;\">\n",
       "      <th></th>\n",
       "      <th>sysBP</th>\n",
       "      <th>glucose</th>\n",
       "      <th>age</th>\n",
       "      <th>cigsPerDay</th>\n",
       "      <th>totChol</th>\n",
       "      <th>diaBP</th>\n",
       "      <th>prevalentHyp</th>\n",
       "      <th>male</th>\n",
       "      <th>BPMeds</th>\n",
       "      <th>diabetes</th>\n",
       "      <th>TenYearCHD</th>\n",
       "    </tr>\n",
       "  </thead>\n",
       "  <tbody>\n",
       "    <tr>\n",
       "      <th>0</th>\n",
       "      <td>106.0</td>\n",
       "      <td>77.0</td>\n",
       "      <td>39</td>\n",
       "      <td>0.0</td>\n",
       "      <td>195.0</td>\n",
       "      <td>70.0</td>\n",
       "      <td>0</td>\n",
       "      <td>1</td>\n",
       "      <td>0.0</td>\n",
       "      <td>0</td>\n",
       "      <td>0</td>\n",
       "    </tr>\n",
       "    <tr>\n",
       "      <th>1</th>\n",
       "      <td>121.0</td>\n",
       "      <td>76.0</td>\n",
       "      <td>46</td>\n",
       "      <td>0.0</td>\n",
       "      <td>250.0</td>\n",
       "      <td>81.0</td>\n",
       "      <td>0</td>\n",
       "      <td>0</td>\n",
       "      <td>0.0</td>\n",
       "      <td>0</td>\n",
       "      <td>0</td>\n",
       "    </tr>\n",
       "    <tr>\n",
       "      <th>2</th>\n",
       "      <td>127.5</td>\n",
       "      <td>70.0</td>\n",
       "      <td>48</td>\n",
       "      <td>20.0</td>\n",
       "      <td>245.0</td>\n",
       "      <td>80.0</td>\n",
       "      <td>0</td>\n",
       "      <td>1</td>\n",
       "      <td>0.0</td>\n",
       "      <td>0</td>\n",
       "      <td>0</td>\n",
       "    </tr>\n",
       "    <tr>\n",
       "      <th>3</th>\n",
       "      <td>150.0</td>\n",
       "      <td>103.0</td>\n",
       "      <td>61</td>\n",
       "      <td>30.0</td>\n",
       "      <td>225.0</td>\n",
       "      <td>95.0</td>\n",
       "      <td>1</td>\n",
       "      <td>0</td>\n",
       "      <td>0.0</td>\n",
       "      <td>0</td>\n",
       "      <td>1</td>\n",
       "    </tr>\n",
       "    <tr>\n",
       "      <th>4</th>\n",
       "      <td>130.0</td>\n",
       "      <td>85.0</td>\n",
       "      <td>46</td>\n",
       "      <td>23.0</td>\n",
       "      <td>285.0</td>\n",
       "      <td>84.0</td>\n",
       "      <td>0</td>\n",
       "      <td>0</td>\n",
       "      <td>0.0</td>\n",
       "      <td>0</td>\n",
       "      <td>0</td>\n",
       "    </tr>\n",
       "  </tbody>\n",
       "</table>\n",
       "</div>"
      ],
      "text/plain": [
       "   sysBP  glucose  age  cigsPerDay  totChol  diaBP  prevalentHyp  male  \\\n",
       "0  106.0     77.0   39         0.0    195.0   70.0             0     1   \n",
       "1  121.0     76.0   46         0.0    250.0   81.0             0     0   \n",
       "2  127.5     70.0   48        20.0    245.0   80.0             0     1   \n",
       "3  150.0    103.0   61        30.0    225.0   95.0             1     0   \n",
       "4  130.0     85.0   46        23.0    285.0   84.0             0     0   \n",
       "\n",
       "   BPMeds  diabetes  TenYearCHD  \n",
       "0     0.0         0           0  \n",
       "1     0.0         0           0  \n",
       "2     0.0         0           0  \n",
       "3     0.0         0           1  \n",
       "4     0.0         0           0  "
      ]
     },
     "execution_count": 62,
     "metadata": {},
     "output_type": "execute_result"
    }
   ],
   "source": [
    "#Select 10 features\n",
    "features=scores[\"Feature\"].tolist()[:10]\n",
    "features\n",
    "\n",
    "data=data[['sysBP','glucose','age','cigsPerDay','totChol','diaBP','prevalentHyp','male','BPMeds','diabetes','TenYearCHD']]\n",
    "data.head()"
   ]
  },
  {
   "cell_type": "markdown",
   "id": "d16a9ca0",
   "metadata": {},
   "source": [
    "### Splitting Data into Training and Test Set"
   ]
  },
  {
   "cell_type": "code",
   "execution_count": 63,
   "id": "cf2256d8",
   "metadata": {},
   "outputs": [
    {
     "name": "stdout",
     "output_type": "stream",
     "text": [
      "Index(['male', 'age', 'education', 'currentSmoker', 'cigsPerDay', 'BPMeds',\n",
      "       'prevalentStroke', 'prevalentHyp', 'diabetes', 'totChol', 'sysBP',\n",
      "       'diaBP', 'BMI', 'heartRate', 'glucose'],\n",
      "      dtype='object')\n",
      "0       0\n",
      "1       0\n",
      "2       0\n",
      "4       0\n",
      "5       0\n",
      "       ..\n",
      "4058    1\n",
      "3489    1\n",
      "1195    1\n",
      "1691    1\n",
      "2041    1\n",
      "Name: TenYearCHD, Length: 6784, dtype: int64\n"
     ]
    }
   ],
   "source": [
    "X = df.drop(\"TenYearCHD\",axis=1)\n",
    "y = df[\"TenYearCHD\"]\n",
    "print(X.columns)\n",
    "print(y)"
   ]
  },
  {
   "cell_type": "code",
   "execution_count": 64,
   "id": "bdb827df",
   "metadata": {},
   "outputs": [
    {
     "name": "stdout",
     "output_type": "stream",
     "text": [
      "(5427, 15)\n",
      "(1357, 15)\n",
      "(5427,)\n",
      "(1357,)\n"
     ]
    }
   ],
   "source": [
    "X_train, X_test, y_train, y_test = train_test_split(X,y, test_size=0.2, random_state=42)\n",
    "print(X_train.shape)\n",
    "print(X_test.shape)\n",
    "print(y_train.shape)\n",
    "print(y_test.shape)"
   ]
  },
  {
   "cell_type": "code",
   "execution_count": 65,
   "id": "b3882ace",
   "metadata": {},
   "outputs": [],
   "source": [
    "scaler = MinMaxScaler()\n",
    "X_train = scaler.fit_transform(X_train)\n",
    "X_test = scaler.transform(X_test)"
   ]
  },
  {
   "cell_type": "code",
   "execution_count": 66,
   "id": "ecce5ead",
   "metadata": {},
   "outputs": [],
   "source": [
    "def get_cross_val(model, X_train, y_train, X_valid, y_valid):\n",
    "    \n",
    "    # Fit on train, predict on validation\n",
    "    clf = model\n",
    "    clf.fit(X_train, y_train)\n",
    "    y_pred = clf.predict(X_valid)\n",
    "    \n",
    "    # Cross validation score over 10 folds\n",
    "    scores = cross_val_score(clf, X_train, y_train, cv=10)\n",
    "    print(\"Cross validation over 10 folds: \", sum(scores)/10.0)\n",
    "    \n",
    "    return y_pred"
   ]
  },
  {
   "cell_type": "markdown",
   "id": "9486c1ac",
   "metadata": {},
   "source": [
    "### Model Training with Logistic Regression"
   ]
  },
  {
   "cell_type": "code",
   "execution_count": 67,
   "id": "d09cf6d2",
   "metadata": {},
   "outputs": [
    {
     "name": "stdout",
     "output_type": "stream",
     "text": [
      "confusion matrix\n",
      "[[446 237]\n",
      " [210 464]]\n",
      "\n",
      "\n",
      "Accuracy of Logistic Regression: 67.05969049373618 \n",
      "\n",
      "              precision    recall  f1-score   support\n",
      "\n",
      "           0       0.68      0.65      0.67       683\n",
      "           1       0.66      0.69      0.67       674\n",
      "\n",
      "    accuracy                           0.67      1357\n",
      "   macro avg       0.67      0.67      0.67      1357\n",
      "weighted avg       0.67      0.67      0.67      1357\n",
      "\n",
      "Cross validation over 10 folds:  0.6793843822416125\n"
     ]
    },
    {
     "data": {
      "text/plain": [
       "array([0, 0, 0, ..., 0, 1, 0], dtype=int64)"
      ]
     },
     "execution_count": 67,
     "metadata": {},
     "output_type": "execute_result"
    }
   ],
   "source": [
    "m1 = 'LogisticRegression'\n",
    "lr = LogisticRegression(random_state=1, max_iter=1000)\n",
    "lr.fit(X_train, y_train)\n",
    "lr_predict = lr.predict(X_test)\n",
    "lr_conf_matrix = confusion_matrix(y_test, lr_predict)\n",
    "lr_acc_score = accuracy_score(y_test, lr_predict)\n",
    "print(\"confusion matrix\")\n",
    "print(lr_conf_matrix)\n",
    "print(\"\\n\")\n",
    "print(\"Accuracy of Logistic Regression:\",lr_acc_score*100,'\\n')\n",
    "print(classification_report(y_test,lr_predict))\n",
    "get_cross_val(lr, X_train, y_train, X_test, y_test)"
   ]
  },
  {
   "cell_type": "markdown",
   "id": "17930f9b",
   "metadata": {},
   "source": [
    "### Random Forests"
   ]
  },
  {
   "cell_type": "code",
   "execution_count": 68,
   "id": "6b5e89a2",
   "metadata": {},
   "outputs": [
    {
     "name": "stdout",
     "output_type": "stream",
     "text": [
      "confusion matrix\n",
      "[[598  85]\n",
      " [ 11 663]]\n",
      "\n",
      "\n",
      "Accuracy of Random Forest: 92.92557111274871 \n",
      "\n",
      "              precision    recall  f1-score   support\n",
      "\n",
      "           0       0.98      0.88      0.93       683\n",
      "           1       0.89      0.98      0.93       674\n",
      "\n",
      "    accuracy                           0.93      1357\n",
      "   macro avg       0.93      0.93      0.93      1357\n",
      "weighted avg       0.93      0.93      0.93      1357\n",
      "\n",
      "Cross validation over 10 folds:  0.9226098006836422\n"
     ]
    },
    {
     "data": {
      "text/plain": [
       "array([0, 0, 1, ..., 0, 1, 0], dtype=int64)"
      ]
     },
     "execution_count": 68,
     "metadata": {},
     "output_type": "execute_result"
    }
   ],
   "source": [
    "from sklearn.ensemble import RandomForestClassifier\n",
    "m2 = 'Random Forest Classfier'\n",
    "rf = RandomForestClassifier(n_estimators=200, random_state=0,max_depth=12)\n",
    "rf.fit(X_train,y_train)\n",
    "rf_predicted = rf.predict(X_test)\n",
    "rf_conf_matrix = confusion_matrix(y_test, rf_predicted)\n",
    "rf_acc_score = accuracy_score(y_test, rf_predicted)\n",
    "print(\"confusion matrix\")\n",
    "print(rf_conf_matrix)\n",
    "print(\"\\n\")\n",
    "print(\"Accuracy of Random Forest:\",rf_acc_score*100,'\\n')\n",
    "print(classification_report(y_test,rf_predicted))\n",
    "get_cross_val(rf, X_train, y_train, X_test, y_test)"
   ]
  },
  {
   "cell_type": "markdown",
   "id": "44e574e3",
   "metadata": {},
   "source": [
    "### K Neighbors Classifier"
   ]
  },
  {
   "cell_type": "code",
   "execution_count": 69,
   "id": "50d4d134",
   "metadata": {},
   "outputs": [
    {
     "name": "stdout",
     "output_type": "stream",
     "text": [
      "confusion matrix\n",
      "[[583 100]\n",
      " [  7 667]]\n",
      "\n",
      "\n",
      "Accuracy of k-NN Classification: 92.11495946941784 \n",
      "\n",
      "              precision    recall  f1-score   support\n",
      "\n",
      "           0       0.99      0.85      0.92       683\n",
      "           1       0.87      0.99      0.93       674\n",
      "\n",
      "    accuracy                           0.92      1357\n",
      "   macro avg       0.93      0.92      0.92      1357\n",
      "weighted avg       0.93      0.92      0.92      1357\n",
      "\n",
      "Cross validation over 10 folds:  0.920027794200594\n"
     ]
    },
    {
     "data": {
      "text/plain": [
       "array([0, 0, 1, ..., 0, 1, 0], dtype=int64)"
      ]
     },
     "execution_count": 69,
     "metadata": {},
     "output_type": "execute_result"
    }
   ],
   "source": [
    "from sklearn.neighbors import KNeighborsClassifier\n",
    "m3 = 'KNeighborsClassifier'\n",
    "knn = KNeighborsClassifier(n_neighbors=1)\n",
    "model = knn.fit(X_train, y_train)\n",
    "knn_predict = knn.predict(X_test)\n",
    "knn_conf_matrix = confusion_matrix(y_test, knn_predict)\n",
    "knn_acc_score = accuracy_score(y_test, knn_predict)\n",
    "print(\"confusion matrix\")\n",
    "print(knn_conf_matrix)\n",
    "print(\"\\n\")\n",
    "print(\"Accuracy of k-NN Classification:\",knn_acc_score*100,'\\n')\n",
    "print(classification_report(y_test, knn_predict))\n",
    "get_cross_val(knn, X_train, y_train, X_test, y_test)"
   ]
  },
  {
   "cell_type": "code",
   "execution_count": 70,
   "id": "53ca9ad0",
   "metadata": {},
   "outputs": [
    {
     "name": "stdout",
     "output_type": "stream",
     "text": [
      "confusion matrix\n",
      "[[474 209]\n",
      " [162 512]]\n",
      "\n",
      "\n",
      "Accuracy of Gradient Boosting Classifier: 72.66028002947678 \n",
      "\n",
      "              precision    recall  f1-score   support\n",
      "\n",
      "           0       0.75      0.69      0.72       683\n",
      "           1       0.71      0.76      0.73       674\n",
      "\n",
      "    accuracy                           0.73      1357\n",
      "   macro avg       0.73      0.73      0.73      1357\n",
      "weighted avg       0.73      0.73      0.73      1357\n",
      "\n",
      "Cross validation over 10 folds:  0.7261894083029228\n"
     ]
    },
    {
     "data": {
      "text/plain": [
       "array([0, 0, 0, ..., 0, 1, 1], dtype=int64)"
      ]
     },
     "execution_count": 70,
     "metadata": {},
     "output_type": "execute_result"
    }
   ],
   "source": [
    "m4 = 'Gradient Boosting Classifier'\n",
    "gb_clf =  GradientBoostingClassifier()\n",
    "gb_clf.fit(X_train, y_train)\n",
    "gb_clf_predicted = gb_clf.predict(X_test)\n",
    "gb_clf_conf_matrix = confusion_matrix(y_test, gb_clf_predicted)\n",
    "gb_clf_acc_score = accuracy_score(y_test, gb_clf_predicted)\n",
    "print(\"confusion matrix\")\n",
    "print(gb_clf_conf_matrix)\n",
    "print(\"\\n\")\n",
    "print(\"Accuracy of Gradient Boosting Classifier:\",gb_clf_acc_score*100,'\\n')\n",
    "print(classification_report(y_test,gb_clf_predicted))\n",
    "get_cross_val(gb_clf, X_train, y_train, X_test, y_test)"
   ]
  },
  {
   "cell_type": "code",
   "execution_count": 71,
   "id": "b5df0397",
   "metadata": {},
   "outputs": [
    {
     "name": "stdout",
     "output_type": "stream",
     "text": [
      "confusion matrix\n",
      "[[570 113]\n",
      " [  4 670]]\n",
      "\n",
      "\n",
      "Accuracy of DecisionTreeClassifier: 91.3780397936625 \n",
      "\n",
      "              precision    recall  f1-score   support\n",
      "\n",
      "           0       0.99      0.83      0.91       683\n",
      "           1       0.86      0.99      0.92       674\n",
      "\n",
      "    accuracy                           0.91      1357\n",
      "   macro avg       0.92      0.91      0.91      1357\n",
      "weighted avg       0.92      0.91      0.91      1357\n",
      "\n",
      "Cross validation over 10 folds:  0.9060209441873426\n"
     ]
    },
    {
     "data": {
      "text/plain": [
       "array([0, 1, 1, ..., 0, 1, 0], dtype=int64)"
      ]
     },
     "execution_count": 71,
     "metadata": {},
     "output_type": "execute_result"
    }
   ],
   "source": [
    "m5 = 'DecisionTreeClassifier'\n",
    "dt = DecisionTreeClassifier(criterion = 'entropy',random_state=0,max_depth = 30)\n",
    "dt.fit(X_train,y_train)\n",
    "dt_predicted = dt.predict(X_test)\n",
    "dt_conf_matrix = confusion_matrix(y_test, dt_predicted)\n",
    "dt_acc_score = accuracy_score(y_test, dt_predicted)\n",
    "print(\"confusion matrix\")\n",
    "print(dt_conf_matrix)\n",
    "print(\"\\n\")\n",
    "print(\"Accuracy of DecisionTreeClassifier:\",dt_acc_score*100,'\\n')\n",
    "print(classification_report(y_test,dt_predicted))\n",
    "get_cross_val(dt, X_train, y_train, X_test, y_test)"
   ]
  },
  {
   "cell_type": "code",
   "execution_count": 72,
   "id": "c968c770",
   "metadata": {},
   "outputs": [
    {
     "name": "stdout",
     "output_type": "stream",
     "text": [
      "confusion matrix\n",
      "[[433 250]\n",
      " [198 476]]\n",
      "\n",
      "\n",
      "Support Vector Classifier: 66.98599852616066 \n",
      "\n",
      "              precision    recall  f1-score   support\n",
      "\n",
      "           0       0.69      0.63      0.66       683\n",
      "           1       0.66      0.71      0.68       674\n",
      "\n",
      "    accuracy                           0.67      1357\n",
      "   macro avg       0.67      0.67      0.67      1357\n",
      "weighted avg       0.67      0.67      0.67      1357\n",
      "\n",
      "Cross validation over 10 folds:  0.679570922781051\n"
     ]
    },
    {
     "data": {
      "text/plain": [
       "array([0, 0, 0, ..., 0, 1, 0], dtype=int64)"
      ]
     },
     "execution_count": 72,
     "metadata": {},
     "output_type": "execute_result"
    }
   ],
   "source": [
    "m6 = 'Support Vector Classifier'\n",
    "svc = SVC(kernel = 'linear')\n",
    "svc.fit(X_train,y_train)\n",
    "svc_predicted = svc.predict(X_test)\n",
    "svc_conf_matrix = confusion_matrix(y_test, svc_predicted)\n",
    "svc_acc_score = accuracy_score(y_test, svc_predicted)\n",
    "print(\"confusion matrix\")\n",
    "print(svc_conf_matrix)\n",
    "print(\"\\n\")\n",
    "print(\"Support Vector Classifier:\",svc_acc_score*100,'\\n')\n",
    "print(classification_report(y_test,svc_predicted))\n",
    "get_cross_val(svc, X_train, y_train, X_test, y_test)\n",
    "# kernels = ['linear', 'poly', 'rbf', 'sigmoid']"
   ]
  },
  {
   "cell_type": "code",
   "execution_count": 73,
   "id": "e126ce6d",
   "metadata": {},
   "outputs": [
    {
     "name": "stdout",
     "output_type": "stream",
     "text": [
      "confusion matrix\n",
      "[[596  87]\n",
      " [457 217]]\n",
      "\n",
      "\n",
      "Naive Bayes Classifier: 59.911569638909356 \n",
      "\n",
      "              precision    recall  f1-score   support\n",
      "\n",
      "           0       0.57      0.87      0.69       683\n",
      "           1       0.71      0.32      0.44       674\n",
      "\n",
      "    accuracy                           0.60      1357\n",
      "   macro avg       0.64      0.60      0.57      1357\n",
      "weighted avg       0.64      0.60      0.57      1357\n",
      "\n",
      "Cross validation over 10 folds:  0.6058581884161381\n"
     ]
    },
    {
     "data": {
      "text/plain": [
       "array([0, 0, 0, ..., 0, 1, 0], dtype=int64)"
      ]
     },
     "execution_count": 73,
     "metadata": {},
     "output_type": "execute_result"
    }
   ],
   "source": [
    "m10 = 'Naive Bayes Classifier'\n",
    "nbc = GaussianNB()\n",
    "nbc.fit(X_train,y_train)\n",
    "nbc_predicted = nbc.predict(X_test)\n",
    "nbc_conf_matrix = confusion_matrix(y_test, nbc_predicted)\n",
    "nbc_acc_score = accuracy_score(y_test, nbc_predicted)\n",
    "print(\"confusion matrix\")\n",
    "print(nbc_conf_matrix)\n",
    "print(\"\\n\")\n",
    "print(\"Naive Bayes Classifier:\",nbc_acc_score*100,'\\n')\n",
    "print(classification_report(y_test,nbc_predicted))\n",
    "get_cross_val(nbc, X_train, y_train, X_test, y_test)"
   ]
  },
  {
   "cell_type": "markdown",
   "id": "b104699c",
   "metadata": {},
   "source": [
    "### ROc Curve to compare all the classifiers"
   ]
  },
  {
   "cell_type": "code",
   "execution_count": 74,
   "id": "0629c3fe",
   "metadata": {},
   "outputs": [],
   "source": [
    "lr_false_positive_rate,lr_true_positive_rate,lr_threshold = roc_curve(y_test,lr_predict)\n",
    "knn_false_positive_rate,knn_true_positive_rate,knn_threshold = roc_curve(y_test,knn_predict)\n",
    "rf_false_positive_rate,rf_true_positive_rate,rf_threshold = roc_curve(y_test,rf_predicted)                                                             \n",
    "dt_false_positive_rate,dt_true_positive_rate,dt_threshold = roc_curve(y_test,dt_predicted)\n",
    "gb_clf_false_positive_rate,gb_clf_true_positive_rate,gb_clf_threshold = roc_curve(y_test,gb_clf_predicted)\n",
    "svc_false_positive_rate,svc_true_positive_rate,svc_threshold = roc_curve(y_test,svc_predicted)\n",
    "nbc_false_positive_rate,nbc_true_positive_rate,nbc_threshold = roc_curve(y_test,nbc_predicted)"
   ]
  },
  {
   "cell_type": "code",
   "execution_count": 75,
   "id": "f095b72c",
   "metadata": {},
   "outputs": [
    {
     "data": {
      "image/png": "[encoded data removed]",
      "text/plain": [
       "<Figure size 1080x1080 with 1 Axes>"
      ]
     },
     "metadata": {},
     "output_type": "display_data"
    }
   ],
   "source": [
    "sns.set_style('whitegrid')\n",
    "plt.figure(figsize=(15,15), facecolor='w')\n",
    "plt.title('Reciever Operating Characterstic Curve')\n",
    "plt.plot(lr_false_positive_rate,lr_true_positive_rate,label='Logistic Regression')\n",
    "plt.plot(knn_false_positive_rate,knn_true_positive_rate,label='K-Nearest Neighbor')\n",
    "plt.plot(rf_false_positive_rate,rf_true_positive_rate,label='Random Forest')\n",
    "plt.plot(dt_false_positive_rate,dt_true_positive_rate,label='Decision Tree')\n",
    "plt.plot(gb_clf_false_positive_rate,gb_clf_true_positive_rate,label='Gradient Boosting Classifier')\n",
    "plt.plot(svc_false_positive_rate,svc_true_positive_rate,label='Support Vector Classifier')\n",
    "plt.plot(nbc_false_positive_rate,nbc_true_positive_rate,label='Naive Bayes Classifier')\n",
    "plt.plot([0,1],ls='--')\n",
    "plt.plot([0,0],[1,0],c='.5')\n",
    "plt.plot([1,1],c='.5')\n",
    "plt.ylabel('True positive rate')\n",
    "plt.xlabel('False positive rate')\n",
    "plt.legend()\n",
    "plt.show()"
   ]
  },
  {
   "cell_type": "code",
   "execution_count": 76,
   "id": "969dab4a",
   "metadata": {},
   "outputs": [
    {
     "data": {
      "text/plain": [
       "Index(['male', 'age', 'education', 'currentSmoker', 'cigsPerDay', 'BPMeds',\n",
       "       'prevalentStroke', 'prevalentHyp', 'diabetes', 'totChol', 'sysBP',\n",
       "       'diaBP', 'BMI', 'heartRate', 'glucose', 'TenYearCHD'],\n",
       "      dtype='object')"
      ]
     },
     "execution_count": 76,
     "metadata": {},
     "output_type": "execute_result"
    }
   ],
   "source": [
    "df.columns"
   ]
  },
  {
   "cell_type": "code",
   "execution_count": 77,
   "id": "553a1f93",
   "metadata": {},
   "outputs": [],
   "source": [
    "lin_X = df[['male', 'age', 'education', 'currentSmoker', 'cigsPerDay', 'BPMeds',\n",
    "       'prevalentStroke', 'prevalentHyp', 'diabetes', 'totChol',\n",
    "       'diaBP', 'BMI', 'heartRate', 'glucose', 'TenYearCHD']]\n",
    "lin_y = df['sysBP']"
   ]
  },
  {
   "cell_type": "code",
   "execution_count": 78,
   "id": "11caf14d",
   "metadata": {},
   "outputs": [],
   "source": [
    "X_train_lin, X_test_lin, y_train_lin, y_test_lin = train_test_split(lin_X,lin_y, test_size=0.2, random_state=42)"
   ]
  },
  {
   "cell_type": "code",
   "execution_count": 79,
   "id": "c0af5214",
   "metadata": {},
   "outputs": [
    {
     "name": "stdout",
     "output_type": "stream",
     "text": [
      "Coefficients:  [-3.53865389e+00  4.87015225e-01 -1.01547501e+00 -3.57538021e-01\n",
      "  5.23345185e-02  9.80821544e+00 -3.59887851e+00  1.30873885e+01\n",
      " -2.90516964e+00  1.39413992e-02  1.07741233e+00 -9.88312136e-02\n",
      "  4.27094077e-03  4.96460561e-02  1.97842634e+00]\n"
     ]
    }
   ],
   "source": [
    "from sklearn import datasets, linear_model, metrics\n",
    "reg = linear_model.LinearRegression()\n",
    " \n",
    "# train the model using the training sets\n",
    "reg.fit(X_train_lin, y_train_lin)\n",
    " \n",
    "# regression coefficients\n",
    "print('Coefficients: ', reg.coef_)"
   ]
  },
  {
   "cell_type": "code",
   "execution_count": 80,
   "id": "ca86d5e9",
   "metadata": {},
   "outputs": [
    {
     "name": "stdout",
     "output_type": "stream",
     "text": [
      "LinearRegression: 74.56111911121353 \n",
      "\n",
      "Cross validation over 10 folds:  0.7422417227265352\n"
     ]
    },
    {
     "data": {
      "text/plain": [
       "array([124.04752812, 122.28168361, 110.17413938, ..., 134.79669393,\n",
       "       145.14942759, 116.36626115])"
      ]
     },
     "execution_count": 80,
     "metadata": {},
     "output_type": "execute_result"
    }
   ],
   "source": [
    "m11 = 'Linear Regression'\n",
    "lin_predicted = reg.predict(X_test_lin)\n",
    "lin_acc_score = reg.score(X_train_lin, y_train_lin)\n",
    "print(\"LinearRegression:\",lin_acc_score*100,'\\n')\n",
    "get_cross_val(reg, X_train_lin, y_train_lin, X_test_lin, y_test_lin)"
   ]
  },
  {
   "cell_type": "code",
   "execution_count": null,
   "id": "6c1536fa",
   "metadata": {},
   "outputs": [],
   "source": []
  }
 ],
 "metadata": {
  "kernelspec": {
   "display_name": "Python 3 (ipykernel)",
   "language": "python",
   "name": "python3"
  },
  "language_info": {
   "codemirror_mode": {
    "name": "ipython",
    "version": 3
   },
   "file_extension": ".py",
   "mimetype": "text/x-python",
   "name": "python",
   "nbconvert_exporter": "python",
   "pygments_lexer": "ipython3",
   "version": "3.8.3"
  }
 },
 "nbformat": 4,
 "nbformat_minor": 5
}
