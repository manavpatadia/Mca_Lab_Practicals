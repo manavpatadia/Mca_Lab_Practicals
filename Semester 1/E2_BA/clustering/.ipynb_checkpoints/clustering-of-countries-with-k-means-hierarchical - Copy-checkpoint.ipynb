{
 "cells": [
  {
   "cell_type": "markdown",
   "metadata": {
    "papermill": {
     "duration": 0.108256,
     "end_time": "2020-09-11T06:00:51.039059",
     "exception": false,
     "start_time": "2020-09-11T06:00:50.930803",
     "status": "completed"
    },
    "tags": []
   },
   "source": [
    "# Business Problem:\n",
    "\n",
    "HELP International is an international humanitarian NGO that is committed to fighting poverty and providing the people of backward countries with basic amenities and relief during the time of disasters and natural calamities. It runs a lot of operational projects from time to time along with advocacy drives to raise awareness as well as for funding purposes.\n",
    "\n",
    " \n",
    "\n",
    "After the recent funding programmes, they have been able to raise around $ 10 million. Now the CEO of the NGO needs to decide how to use this money strategically and effectively. The significant issues that come while making this decision are mostly related to choosing the countries that are in the direst need of aid. \n",
    "\n",
    " \n",
    "\n",
    "And this is where you come in as a data analyst. Your job is to categorise the countries using some socio-economic and health factors that determine the overall development of the country. Then you need to suggest the countries which the CEO needs to focus on the most. \n",
    "\n",
    "Our main task is to cluster the countries by the factors mentioned above and then present your solution and recommendations to the CEO using a PPT. "
   ]
  },
  {
   "cell_type": "markdown",
   "metadata": {
    "papermill": {
     "duration": 0.106406,
     "end_time": "2020-09-11T06:00:51.252635",
     "exception": false,
     "start_time": "2020-09-11T06:00:51.146229",
     "status": "completed"
    },
    "tags": []
   },
   "source": [
    "# Steps\n",
    "\n",
    "1. Data understanding\n",
    "\n",
    "   - Import Python libraries\n",
    "   - Read and inspect data for understanding\n",
    "   - Summary statistics\n",
    "   - Analyse the columns\n",
    "\n",
    "\n",
    "2. Exploratory Data Analysis\n",
    "\n",
    "  - Null Value Analysis\n",
    "  - Derive data – convert exports, imports, health from % of GDPP to absolute values\n",
    "  - Data Visualization\n",
    "    - Visualising Bivariate Distributions using pair plot\n",
    "    - Visualising Correlation using heatmap\n",
    "    - Visualising univariate distributions using Histogram and density plots\n",
    "    - Visualising GDPP, income, child mortality and other parameters across countries using point plots and bar plots\n",
    "    - Visualising univariate distributions using boxplots to identify outliers\n",
    "\n",
    "\n",
    "3. Prepare data for modelling\n",
    "\n",
    "  - Outlier Treatment\n",
    "  - Hopkins test\n",
    "  - Scaling\n",
    "\n",
    "\n",
    "4. Build model using K-means\n",
    "\n",
    "   - Metrics to choose the value of K\n",
    "     - Elbow curve \n",
    "     - Silhouette Analysis\n",
    "     - Iterating with different values of k and choose optimal k as optimal number of clusters\n",
    "     - Country Segmentation\n",
    "     - Cluster Profiling based on GDPP, Income and Child Mortality Rate\n",
    "       - Scatter Plots\n",
    "       - Box plots\n",
    "       - Bar plots on the mean of the columns in each cluster\n",
    "     - Identification of top 10 countries in need of aid.\n",
    "\n",
    "5. Build model using Hierarchical clustering\n",
    "\n",
    "  - Single linkage\n",
    "  - Complete linkage\n",
    "  \n",
    "     - Country Segmentation\n",
    "     - Cluster Profiling based on GDPP, Income and Child Mortality Rate\n",
    "       - Scatter Plots\n",
    "       - Box plots\n",
    "       - Bar plots on the mean of the columns in each cluster\n",
    "     - Identification of top 10 countries in need of aid.\n",
    "\n",
    "6. Suggestions "
   ]
  },
  {
   "cell_type": "markdown",
   "metadata": {
    "papermill": {
     "duration": 0.107304,
     "end_time": "2020-09-11T06:00:51.468263",
     "exception": false,
     "start_time": "2020-09-11T06:00:51.360959",
     "status": "completed"
    },
    "tags": []
   },
   "source": [
    "## 1.1 Import libraries\n",
    "\n",
    "Ignore warnings and import necessary libraries:"
   ]
  },
  {
   "cell_type": "code",
   "execution_count": 1,
   "metadata": {
    "papermill": {
     "duration": 0.115169,
     "end_time": "2020-09-11T06:00:51.690551",
     "exception": false,
     "start_time": "2020-09-11T06:00:51.575382",
     "status": "completed"
    },
    "tags": []
   },
   "outputs": [],
   "source": [
    "import os\n",
    "import warnings\n",
    "warnings.filterwarnings('ignore')"
   ]
  },
  {
   "cell_type": "code",
   "execution_count": 2,
   "metadata": {
    "papermill": {
     "duration": 1.483976,
     "end_time": "2020-09-11T06:00:53.283642",
     "exception": false,
     "start_time": "2020-09-11T06:00:51.799666",
     "status": "completed"
    },
    "tags": []
   },
   "outputs": [],
   "source": [
    "import numpy as np\n",
    "import pandas as pd\n",
    "\n",
    "# To display data dictionary fully\n",
    "pd.set_option('display.max_columns', None)  \n",
    "pd.set_option('display.expand_frame_repr', False)\n",
    "pd.set_option('max_colwidth', 1000)\n",
    "\n",
    "# For Visualisation\n",
    "import matplotlib.pyplot as plt\n",
    "import seaborn as sns\n",
    "%matplotlib inline\n",
    "sns.color_palette(\"Set1\")\n",
    "\n",
    "# To Scale our data\n",
    "from sklearn.preprocessing import StandardScaler\n",
    "\n",
    "# To perform KMeans clustering \n",
    "from sklearn.cluster import KMeans\n",
    "\n",
    "# To perform Hierarchical clustering\n",
    "from scipy.cluster.hierarchy import linkage\n",
    "from scipy.cluster.hierarchy import dendrogram\n",
    "from scipy.cluster.hierarchy import cut_tree"
   ]
  },
  {
   "cell_type": "markdown",
   "metadata": {
    "papermill": {
     "duration": 0.106381,
     "end_time": "2020-09-11T06:00:53.499655",
     "exception": false,
     "start_time": "2020-09-11T06:00:53.393274",
     "status": "completed"
    },
    "tags": []
   },
   "source": [
    "## 1.2 Read and inspect data for understanding"
   ]
  },
  {
   "cell_type": "markdown",
   "metadata": {
    "papermill": {
     "duration": 0.12799,
     "end_time": "2020-09-11T06:00:53.750433",
     "exception": false,
     "start_time": "2020-09-11T06:00:53.622443",
     "status": "completed"
    },
    "tags": []
   },
   "source": [
    "Lets read the data dictionary into `data_dictionary` dataframe and understand the columns"
   ]
  },
  {
   "cell_type": "code",
   "execution_count": 3,
   "metadata": {
    "papermill": {
     "duration": 0.153129,
     "end_time": "2020-09-11T06:00:54.022080",
     "exception": false,
     "start_time": "2020-09-11T06:00:53.868951",
     "status": "completed"
    },
    "tags": []
   },
   "outputs": [
    {
     "ename": "FileNotFoundError",
     "evalue": "[Errno 2] No such file or directory: 'data-dictionary.csv'",
     "output_type": "error",
     "traceback": [
      "\u001b[1;31m---------------------------------------------------------------------------\u001b[0m",
      "\u001b[1;31mFileNotFoundError\u001b[0m                         Traceback (most recent call last)",
      "\u001b[1;32m<ipython-input-3-01e3dcfd4fbd>\u001b[0m in \u001b[0;36m<module>\u001b[1;34m\u001b[0m\n\u001b[1;32m----> 1\u001b[1;33m \u001b[0mdata_dictionary\u001b[0m \u001b[1;33m=\u001b[0m \u001b[0mpd\u001b[0m\u001b[1;33m.\u001b[0m\u001b[0mread_csv\u001b[0m\u001b[1;33m(\u001b[0m\u001b[1;34m'data-dictionary.csv'\u001b[0m\u001b[1;33m)\u001b[0m\u001b[1;33m\u001b[0m\u001b[1;33m\u001b[0m\u001b[0m\n\u001b[0m\u001b[0;32m      2\u001b[0m \u001b[0mdata_dictionary\u001b[0m\u001b[1;33m\u001b[0m\u001b[1;33m\u001b[0m\u001b[0m\n",
      "\u001b[1;32mG:\\anaconda\\lib\\site-packages\\pandas\\util\\_decorators.py\u001b[0m in \u001b[0;36mwrapper\u001b[1;34m(*args, **kwargs)\u001b[0m\n\u001b[0;32m    309\u001b[0m                     \u001b[0mstacklevel\u001b[0m\u001b[1;33m=\u001b[0m\u001b[0mstacklevel\u001b[0m\u001b[1;33m,\u001b[0m\u001b[1;33m\u001b[0m\u001b[1;33m\u001b[0m\u001b[0m\n\u001b[0;32m    310\u001b[0m                 )\n\u001b[1;32m--> 311\u001b[1;33m             \u001b[1;32mreturn\u001b[0m \u001b[0mfunc\u001b[0m\u001b[1;33m(\u001b[0m\u001b[1;33m*\u001b[0m\u001b[0margs\u001b[0m\u001b[1;33m,\u001b[0m \u001b[1;33m**\u001b[0m\u001b[0mkwargs\u001b[0m\u001b[1;33m)\u001b[0m\u001b[1;33m\u001b[0m\u001b[1;33m\u001b[0m\u001b[0m\n\u001b[0m\u001b[0;32m    312\u001b[0m \u001b[1;33m\u001b[0m\u001b[0m\n\u001b[0;32m    313\u001b[0m         \u001b[1;32mreturn\u001b[0m \u001b[0mwrapper\u001b[0m\u001b[1;33m\u001b[0m\u001b[1;33m\u001b[0m\u001b[0m\n",
      "\u001b[1;32mG:\\anaconda\\lib\\site-packages\\pandas\\io\\parsers\\readers.py\u001b[0m in \u001b[0;36mread_csv\u001b[1;34m(filepath_or_buffer, sep, delimiter, header, names, index_col, usecols, squeeze, prefix, mangle_dupe_cols, dtype, engine, converters, true_values, false_values, skipinitialspace, skiprows, skipfooter, nrows, na_values, keep_default_na, na_filter, verbose, skip_blank_lines, parse_dates, infer_datetime_format, keep_date_col, date_parser, dayfirst, cache_dates, iterator, chunksize, compression, thousands, decimal, lineterminator, quotechar, quoting, doublequote, escapechar, comment, encoding, encoding_errors, dialect, error_bad_lines, warn_bad_lines, on_bad_lines, delim_whitespace, low_memory, memory_map, float_precision, storage_options)\u001b[0m\n\u001b[0;32m    584\u001b[0m     \u001b[0mkwds\u001b[0m\u001b[1;33m.\u001b[0m\u001b[0mupdate\u001b[0m\u001b[1;33m(\u001b[0m\u001b[0mkwds_defaults\u001b[0m\u001b[1;33m)\u001b[0m\u001b[1;33m\u001b[0m\u001b[1;33m\u001b[0m\u001b[0m\n\u001b[0;32m    585\u001b[0m \u001b[1;33m\u001b[0m\u001b[0m\n\u001b[1;32m--> 586\u001b[1;33m     \u001b[1;32mreturn\u001b[0m \u001b[0m_read\u001b[0m\u001b[1;33m(\u001b[0m\u001b[0mfilepath_or_buffer\u001b[0m\u001b[1;33m,\u001b[0m \u001b[0mkwds\u001b[0m\u001b[1;33m)\u001b[0m\u001b[1;33m\u001b[0m\u001b[1;33m\u001b[0m\u001b[0m\n\u001b[0m\u001b[0;32m    587\u001b[0m \u001b[1;33m\u001b[0m\u001b[0m\n\u001b[0;32m    588\u001b[0m \u001b[1;33m\u001b[0m\u001b[0m\n",
      "\u001b[1;32mG:\\anaconda\\lib\\site-packages\\pandas\\io\\parsers\\readers.py\u001b[0m in \u001b[0;36m_read\u001b[1;34m(filepath_or_buffer, kwds)\u001b[0m\n\u001b[0;32m    480\u001b[0m \u001b[1;33m\u001b[0m\u001b[0m\n\u001b[0;32m    481\u001b[0m     \u001b[1;31m# Create the parser.\u001b[0m\u001b[1;33m\u001b[0m\u001b[1;33m\u001b[0m\u001b[1;33m\u001b[0m\u001b[0m\n\u001b[1;32m--> 482\u001b[1;33m     \u001b[0mparser\u001b[0m \u001b[1;33m=\u001b[0m \u001b[0mTextFileReader\u001b[0m\u001b[1;33m(\u001b[0m\u001b[0mfilepath_or_buffer\u001b[0m\u001b[1;33m,\u001b[0m \u001b[1;33m**\u001b[0m\u001b[0mkwds\u001b[0m\u001b[1;33m)\u001b[0m\u001b[1;33m\u001b[0m\u001b[1;33m\u001b[0m\u001b[0m\n\u001b[0m\u001b[0;32m    483\u001b[0m \u001b[1;33m\u001b[0m\u001b[0m\n\u001b[0;32m    484\u001b[0m     \u001b[1;32mif\u001b[0m \u001b[0mchunksize\u001b[0m \u001b[1;32mor\u001b[0m \u001b[0miterator\u001b[0m\u001b[1;33m:\u001b[0m\u001b[1;33m\u001b[0m\u001b[1;33m\u001b[0m\u001b[0m\n",
      "\u001b[1;32mG:\\anaconda\\lib\\site-packages\\pandas\\io\\parsers\\readers.py\u001b[0m in \u001b[0;36m__init__\u001b[1;34m(self, f, engine, **kwds)\u001b[0m\n\u001b[0;32m    809\u001b[0m             \u001b[0mself\u001b[0m\u001b[1;33m.\u001b[0m\u001b[0moptions\u001b[0m\u001b[1;33m[\u001b[0m\u001b[1;34m\"has_index_names\"\u001b[0m\u001b[1;33m]\u001b[0m \u001b[1;33m=\u001b[0m \u001b[0mkwds\u001b[0m\u001b[1;33m[\u001b[0m\u001b[1;34m\"has_index_names\"\u001b[0m\u001b[1;33m]\u001b[0m\u001b[1;33m\u001b[0m\u001b[1;33m\u001b[0m\u001b[0m\n\u001b[0;32m    810\u001b[0m \u001b[1;33m\u001b[0m\u001b[0m\n\u001b[1;32m--> 811\u001b[1;33m         \u001b[0mself\u001b[0m\u001b[1;33m.\u001b[0m\u001b[0m_engine\u001b[0m \u001b[1;33m=\u001b[0m \u001b[0mself\u001b[0m\u001b[1;33m.\u001b[0m\u001b[0m_make_engine\u001b[0m\u001b[1;33m(\u001b[0m\u001b[0mself\u001b[0m\u001b[1;33m.\u001b[0m\u001b[0mengine\u001b[0m\u001b[1;33m)\u001b[0m\u001b[1;33m\u001b[0m\u001b[1;33m\u001b[0m\u001b[0m\n\u001b[0m\u001b[0;32m    812\u001b[0m \u001b[1;33m\u001b[0m\u001b[0m\n\u001b[0;32m    813\u001b[0m     \u001b[1;32mdef\u001b[0m \u001b[0mclose\u001b[0m\u001b[1;33m(\u001b[0m\u001b[0mself\u001b[0m\u001b[1;33m)\u001b[0m\u001b[1;33m:\u001b[0m\u001b[1;33m\u001b[0m\u001b[1;33m\u001b[0m\u001b[0m\n",
      "\u001b[1;32mG:\\anaconda\\lib\\site-packages\\pandas\\io\\parsers\\readers.py\u001b[0m in \u001b[0;36m_make_engine\u001b[1;34m(self, engine)\u001b[0m\n\u001b[0;32m   1038\u001b[0m             )\n\u001b[0;32m   1039\u001b[0m         \u001b[1;31m# error: Too many arguments for \"ParserBase\"\u001b[0m\u001b[1;33m\u001b[0m\u001b[1;33m\u001b[0m\u001b[1;33m\u001b[0m\u001b[0m\n\u001b[1;32m-> 1040\u001b[1;33m         \u001b[1;32mreturn\u001b[0m \u001b[0mmapping\u001b[0m\u001b[1;33m[\u001b[0m\u001b[0mengine\u001b[0m\u001b[1;33m]\u001b[0m\u001b[1;33m(\u001b[0m\u001b[0mself\u001b[0m\u001b[1;33m.\u001b[0m\u001b[0mf\u001b[0m\u001b[1;33m,\u001b[0m \u001b[1;33m**\u001b[0m\u001b[0mself\u001b[0m\u001b[1;33m.\u001b[0m\u001b[0moptions\u001b[0m\u001b[1;33m)\u001b[0m  \u001b[1;31m# type: ignore[call-arg]\u001b[0m\u001b[1;33m\u001b[0m\u001b[1;33m\u001b[0m\u001b[0m\n\u001b[0m\u001b[0;32m   1041\u001b[0m \u001b[1;33m\u001b[0m\u001b[0m\n\u001b[0;32m   1042\u001b[0m     \u001b[1;32mdef\u001b[0m \u001b[0m_failover_to_python\u001b[0m\u001b[1;33m(\u001b[0m\u001b[0mself\u001b[0m\u001b[1;33m)\u001b[0m\u001b[1;33m:\u001b[0m\u001b[1;33m\u001b[0m\u001b[1;33m\u001b[0m\u001b[0m\n",
      "\u001b[1;32mG:\\anaconda\\lib\\site-packages\\pandas\\io\\parsers\\c_parser_wrapper.py\u001b[0m in \u001b[0;36m__init__\u001b[1;34m(self, src, **kwds)\u001b[0m\n\u001b[0;32m     49\u001b[0m \u001b[1;33m\u001b[0m\u001b[0m\n\u001b[0;32m     50\u001b[0m         \u001b[1;31m# open handles\u001b[0m\u001b[1;33m\u001b[0m\u001b[1;33m\u001b[0m\u001b[1;33m\u001b[0m\u001b[0m\n\u001b[1;32m---> 51\u001b[1;33m         \u001b[0mself\u001b[0m\u001b[1;33m.\u001b[0m\u001b[0m_open_handles\u001b[0m\u001b[1;33m(\u001b[0m\u001b[0msrc\u001b[0m\u001b[1;33m,\u001b[0m \u001b[0mkwds\u001b[0m\u001b[1;33m)\u001b[0m\u001b[1;33m\u001b[0m\u001b[1;33m\u001b[0m\u001b[0m\n\u001b[0m\u001b[0;32m     52\u001b[0m         \u001b[1;32massert\u001b[0m \u001b[0mself\u001b[0m\u001b[1;33m.\u001b[0m\u001b[0mhandles\u001b[0m \u001b[1;32mis\u001b[0m \u001b[1;32mnot\u001b[0m \u001b[1;32mNone\u001b[0m\u001b[1;33m\u001b[0m\u001b[1;33m\u001b[0m\u001b[0m\n\u001b[0;32m     53\u001b[0m \u001b[1;33m\u001b[0m\u001b[0m\n",
      "\u001b[1;32mG:\\anaconda\\lib\\site-packages\\pandas\\io\\parsers\\base_parser.py\u001b[0m in \u001b[0;36m_open_handles\u001b[1;34m(self, src, kwds)\u001b[0m\n\u001b[0;32m    220\u001b[0m         \u001b[0mLet\u001b[0m \u001b[0mthe\u001b[0m \u001b[0mreaders\u001b[0m \u001b[0mopen\u001b[0m \u001b[0mIOHandles\u001b[0m \u001b[0mafter\u001b[0m \u001b[0mthey\u001b[0m \u001b[0mare\u001b[0m \u001b[0mdone\u001b[0m \u001b[1;32mwith\u001b[0m \u001b[0mtheir\u001b[0m \u001b[0mpotential\u001b[0m \u001b[0mraises\u001b[0m\u001b[1;33m.\u001b[0m\u001b[1;33m\u001b[0m\u001b[1;33m\u001b[0m\u001b[0m\n\u001b[0;32m    221\u001b[0m         \"\"\"\n\u001b[1;32m--> 222\u001b[1;33m         self.handles = get_handle(\n\u001b[0m\u001b[0;32m    223\u001b[0m             \u001b[0msrc\u001b[0m\u001b[1;33m,\u001b[0m\u001b[1;33m\u001b[0m\u001b[1;33m\u001b[0m\u001b[0m\n\u001b[0;32m    224\u001b[0m             \u001b[1;34m\"r\"\u001b[0m\u001b[1;33m,\u001b[0m\u001b[1;33m\u001b[0m\u001b[1;33m\u001b[0m\u001b[0m\n",
      "\u001b[1;32mG:\\anaconda\\lib\\site-packages\\pandas\\io\\common.py\u001b[0m in \u001b[0;36mget_handle\u001b[1;34m(path_or_buf, mode, encoding, compression, memory_map, is_text, errors, storage_options)\u001b[0m\n\u001b[0;32m    699\u001b[0m         \u001b[1;32mif\u001b[0m \u001b[0mioargs\u001b[0m\u001b[1;33m.\u001b[0m\u001b[0mencoding\u001b[0m \u001b[1;32mand\u001b[0m \u001b[1;34m\"b\"\u001b[0m \u001b[1;32mnot\u001b[0m \u001b[1;32min\u001b[0m \u001b[0mioargs\u001b[0m\u001b[1;33m.\u001b[0m\u001b[0mmode\u001b[0m\u001b[1;33m:\u001b[0m\u001b[1;33m\u001b[0m\u001b[1;33m\u001b[0m\u001b[0m\n\u001b[0;32m    700\u001b[0m             \u001b[1;31m# Encoding\u001b[0m\u001b[1;33m\u001b[0m\u001b[1;33m\u001b[0m\u001b[1;33m\u001b[0m\u001b[0m\n\u001b[1;32m--> 701\u001b[1;33m             handle = open(\n\u001b[0m\u001b[0;32m    702\u001b[0m                 \u001b[0mhandle\u001b[0m\u001b[1;33m,\u001b[0m\u001b[1;33m\u001b[0m\u001b[1;33m\u001b[0m\u001b[0m\n\u001b[0;32m    703\u001b[0m                 \u001b[0mioargs\u001b[0m\u001b[1;33m.\u001b[0m\u001b[0mmode\u001b[0m\u001b[1;33m,\u001b[0m\u001b[1;33m\u001b[0m\u001b[1;33m\u001b[0m\u001b[0m\n",
      "\u001b[1;31mFileNotFoundError\u001b[0m: [Errno 2] No such file or directory: 'data-dictionary.csv'"
     ]
    }
   ],
   "source": [
    "\n",
    "data_dictionary = pd.read_csv('data-dictionary.csv')\n",
    "data_dictionary"
   ]
  },
  {
   "cell_type": "markdown",
   "metadata": {
    "papermill": {
     "duration": 0.107454,
     "end_time": "2020-09-11T06:00:54.238339",
     "exception": false,
     "start_time": "2020-09-11T06:00:54.130885",
     "status": "completed"
    },
    "tags": []
   },
   "source": [
    "There are total of `10 columns` in the actual dataset.\n",
    "\n",
    "From the data dictionary, we can see that `exports`, `health` and `imports` are given as percentage of GDP. Hence we have to convert these columns to absolute values in the EDA section"
   ]
  },
  {
   "cell_type": "markdown",
   "metadata": {
    "papermill": {
     "duration": 0.107148,
     "end_time": "2020-09-11T06:00:54.455574",
     "exception": false,
     "start_time": "2020-09-11T06:00:54.348426",
     "status": "completed"
    },
    "tags": []
   },
   "source": [
    "Lets read the actual dataset into `country_df`"
   ]
  },
  {
   "cell_type": "code",
   "execution_count": null,
   "metadata": {
    "papermill": {
     "duration": 0.161952,
     "end_time": "2020-09-11T06:00:54.737536",
     "exception": false,
     "start_time": "2020-09-11T06:00:54.575584",
     "status": "completed"
    },
    "tags": []
   },
   "outputs": [],
   "source": [
    "country_df = pd.read_csv('Country-data.csv')\n",
    "country_df.head() # Checking the top 5 rows of the dataframe"
   ]
  },
  {
   "cell_type": "code",
   "execution_count": null,
   "metadata": {
    "papermill": {
     "duration": 0.128691,
     "end_time": "2020-09-11T06:00:55.021903",
     "exception": false,
     "start_time": "2020-09-11T06:00:54.893212",
     "status": "completed"
    },
    "tags": []
   },
   "outputs": [],
   "source": [
    "# checking botton 5 rows of the dataframe\n",
    "country_df.tail()"
   ]
  },
  {
   "cell_type": "markdown",
   "metadata": {
    "papermill": {
     "duration": 0.110112,
     "end_time": "2020-09-11T06:00:55.241746",
     "exception": false,
     "start_time": "2020-09-11T06:00:55.131634",
     "status": "completed"
    },
    "tags": []
   },
   "source": [
    "### Data Inspection:\n",
    "\n",
    "Inspect the various aspects of the `country_df` dataframe such as \n",
    "- `shape` for number of rows and columns\n",
    "- `size` for memory usage\n",
    "- `info()` for the presence of null values\n",
    "- `nunique()` for checking how many unique entries present in each column and any column is of categorical in nature.\n",
    "- `nunique() and duplicated` for duplicates analysis\n",
    "- `describe()` for statistical information"
   ]
  },
  {
   "cell_type": "code",
   "execution_count": null,
   "metadata": {
    "papermill": {
     "duration": 0.117994,
     "end_time": "2020-09-11T06:00:55.471894",
     "exception": false,
     "start_time": "2020-09-11T06:00:55.353900",
     "status": "completed"
    },
    "tags": []
   },
   "outputs": [],
   "source": [
    "# Checking the shape of the dataframe\n",
    "country_df.shape"
   ]
  },
  {
   "cell_type": "markdown",
   "metadata": {
    "papermill": {
     "duration": 0.112363,
     "end_time": "2020-09-11T06:00:55.695496",
     "exception": false,
     "start_time": "2020-09-11T06:00:55.583133",
     "status": "completed"
    },
    "tags": []
   },
   "source": [
    "There are `167` rows and `10` columns in the given dataset."
   ]
  },
  {
   "cell_type": "code",
   "execution_count": null,
   "metadata": {
    "papermill": {
     "duration": 0.122353,
     "end_time": "2020-09-11T06:00:55.927416",
     "exception": false,
     "start_time": "2020-09-11T06:00:55.805063",
     "status": "completed"
    },
    "tags": []
   },
   "outputs": [],
   "source": [
    "# Checking the size of the dataframe\n",
    "country_df.size"
   ]
  },
  {
   "cell_type": "code",
   "execution_count": null,
   "metadata": {
    "papermill": {
     "duration": 0.123634,
     "end_time": "2020-09-11T06:00:56.164316",
     "exception": false,
     "start_time": "2020-09-11T06:00:56.040682",
     "status": "completed"
    },
    "tags": []
   },
   "outputs": [],
   "source": [
    "# Inspecting type\n",
    "print(country_df.dtypes)"
   ]
  },
  {
   "cell_type": "code",
   "execution_count": null,
   "metadata": {
    "papermill": {
     "duration": 0.13744,
     "end_time": "2020-09-11T06:00:56.415502",
     "exception": false,
     "start_time": "2020-09-11T06:00:56.278062",
     "status": "completed"
    },
    "tags": []
   },
   "outputs": [],
   "source": [
    "# How many types of each data type column exists and total memory usage\n",
    "country_df.info()"
   ]
  },
  {
   "cell_type": "markdown",
   "metadata": {
    "papermill": {
     "duration": 0.113805,
     "end_time": "2020-09-11T06:00:56.643641",
     "exception": false,
     "start_time": "2020-09-11T06:00:56.529836",
     "status": "completed"
    },
    "tags": []
   },
   "source": [
    "`info` shows that there are no null values present. Still we will check in EDA section using `isnull()`\n",
    "\n",
    "Also `info()` shows that apart from `country` column, all the columns are numerical and continuous in nature."
   ]
  },
  {
   "cell_type": "markdown",
   "metadata": {
    "papermill": {
     "duration": 0.111426,
     "end_time": "2020-09-11T06:00:56.867980",
     "exception": false,
     "start_time": "2020-09-11T06:00:56.756554",
     "status": "completed"
    },
    "tags": []
   },
   "source": [
    "### Duplicates analysis"
   ]
  },
  {
   "cell_type": "code",
   "execution_count": null,
   "metadata": {
    "papermill": {
     "duration": 0.126004,
     "end_time": "2020-09-11T06:00:57.106967",
     "exception": false,
     "start_time": "2020-09-11T06:00:56.980963",
     "status": "completed"
    },
    "tags": []
   },
   "outputs": [],
   "source": [
    "country_df.duplicated().sum()"
   ]
  },
  {
   "cell_type": "code",
   "execution_count": null,
   "metadata": {
    "papermill": {
     "duration": 0.127547,
     "end_time": "2020-09-11T06:00:57.347599",
     "exception": false,
     "start_time": "2020-09-11T06:00:57.220052",
     "status": "completed"
    },
    "tags": []
   },
   "outputs": [],
   "source": [
    "# Checking the number of unique values each column possess to identify categorical columns\n",
    "country_df.nunique().sort_values()"
   ]
  },
  {
   "cell_type": "markdown",
   "metadata": {
    "papermill": {
     "duration": 0.113932,
     "end_time": "2020-09-11T06:00:57.575709",
     "exception": false,
     "start_time": "2020-09-11T06:00:57.461777",
     "status": "completed"
    },
    "tags": []
   },
   "source": [
    "`nunique()` shows that there are no categorical variables in the dataframe and all variables are numerical continuous variables.\n",
    "\n",
    "Also there are `167` rows and `country` has `167` unique values which means the column **country** is unique in each row and hence there are no duplicate records"
   ]
  },
  {
   "cell_type": "markdown",
   "metadata": {
    "papermill": {
     "duration": 0.112905,
     "end_time": "2020-09-11T06:00:57.802178",
     "exception": false,
     "start_time": "2020-09-11T06:00:57.689273",
     "status": "completed"
    },
    "tags": []
   },
   "source": [
    "### Statistical summary"
   ]
  },
  {
   "cell_type": "code",
   "execution_count": null,
   "metadata": {
    "papermill": {
     "duration": 0.154883,
     "end_time": "2020-09-11T06:00:58.070533",
     "exception": false,
     "start_time": "2020-09-11T06:00:57.915650",
     "status": "completed"
    },
    "tags": []
   },
   "outputs": [],
   "source": [
    "# Checking the numerical columns data distribution\n",
    "country_df.describe()"
   ]
  },
  {
   "cell_type": "markdown",
   "metadata": {
    "papermill": {
     "duration": 0.113294,
     "end_time": "2020-09-11T06:00:58.296513",
     "exception": false,
     "start_time": "2020-09-11T06:00:58.183219",
     "status": "completed"
    },
    "tags": []
   },
   "source": [
    "Summary statistics from `describe()` indicates the presence of outliers. We can visualize the distribution and percentile of each column in Section 2.3 using boxplots"
   ]
  },
  {
   "cell_type": "markdown",
   "metadata": {
    "papermill": {
     "duration": 0.114245,
     "end_time": "2020-09-11T06:00:58.524627",
     "exception": false,
     "start_time": "2020-09-11T06:00:58.410382",
     "status": "completed"
    },
    "tags": []
   },
   "source": [
    "# 2. Exploratory Data Analysis (EDA)\n",
    "## 2.1 Null Values Analysis"
   ]
  },
  {
   "cell_type": "code",
   "execution_count": null,
   "metadata": {
    "papermill": {
     "duration": 0.123468,
     "end_time": "2020-09-11T06:00:58.762246",
     "exception": false,
     "start_time": "2020-09-11T06:00:58.638778",
     "status": "completed"
    },
    "tags": []
   },
   "outputs": [],
   "source": [
    "# Looking for any null value in any column \n",
    "print(country_df.isnull().sum())"
   ]
  },
  {
   "cell_type": "markdown",
   "metadata": {
    "papermill": {
     "duration": 0.113544,
     "end_time": "2020-09-11T06:00:58.990141",
     "exception": false,
     "start_time": "2020-09-11T06:00:58.876597",
     "status": "completed"
    },
    "tags": []
   },
   "source": [
    "Both `info()` and `isnull()` output indicate that there are no null values in the given dataset."
   ]
  },
  {
   "cell_type": "markdown",
   "metadata": {
    "papermill": {
     "duration": 0.113268,
     "end_time": "2020-09-11T06:00:59.216495",
     "exception": false,
     "start_time": "2020-09-11T06:00:59.103227",
     "status": "completed"
    },
    "tags": []
   },
   "source": [
    "## 2.2 Derived Data\n",
    "\n",
    "From the data dictionary in section 1, we saw that exports, health and imports are given as percentage of GDP. Hence we have to convert these columns to absolute values as clustering uses `Euclidean Distance` between values to group the countries"
   ]
  },
  {
   "cell_type": "code",
   "execution_count": null,
   "metadata": {
    "papermill": {
     "duration": 0.133813,
     "end_time": "2020-09-11T06:00:59.463786",
     "exception": false,
     "start_time": "2020-09-11T06:00:59.329973",
     "status": "completed"
    },
    "tags": []
   },
   "outputs": [],
   "source": [
    "country_df.head() # Lets check data before conversion"
   ]
  },
  {
   "cell_type": "code",
   "execution_count": null,
   "metadata": {
    "papermill": {
     "duration": 0.159401,
     "end_time": "2020-09-11T06:00:59.737349",
     "exception": false,
     "start_time": "2020-09-11T06:00:59.577948",
     "status": "completed"
    },
    "tags": []
   },
   "outputs": [],
   "source": [
    "# Converting exports,imports and health spending percentages to absolute values.\n",
    "\n",
    "country_df['exports'] = country_df['exports'] * country_df['gdpp']/100\n",
    "country_df['imports'] = country_df['imports'] * country_df['gdpp']/100\n",
    "country_df['health'] = country_df['health'] * country_df['gdpp']/100\n",
    "\n",
    "country_df.head() # Lets check data after conversion"
   ]
  },
  {
   "cell_type": "markdown",
   "metadata": {
    "papermill": {
     "duration": 0.116021,
     "end_time": "2020-09-11T06:00:59.969869",
     "exception": false,
     "start_time": "2020-09-11T06:00:59.853848",
     "status": "completed"
    },
    "tags": []
   },
   "source": [
    "Now all the columns have absolute values and we can visualize the data for more understanding"
   ]
  },
  {
   "cell_type": "markdown",
   "metadata": {
    "papermill": {
     "duration": 0.114429,
     "end_time": "2020-09-11T06:01:00.198553",
     "exception": false,
     "start_time": "2020-09-11T06:01:00.084124",
     "status": "completed"
    },
    "tags": []
   },
   "source": [
    "## 2.3 Visualizing the dataset\n",
    "\n",
    "Lets start with bi-variate analysis as all are numerical variables and lets see the relationship between each feature.\n",
    "\n",
    "Also analysing univariate and outlier analysis can be helpful to treat the outliers."
   ]
  },
  {
   "cell_type": "markdown",
   "metadata": {
    "papermill": {
     "duration": 0.116036,
     "end_time": "2020-09-11T06:01:00.429599",
     "exception": false,
     "start_time": "2020-09-11T06:01:00.313563",
     "status": "completed"
    },
    "tags": []
   },
   "source": [
    "Lets first get the list of numerical columns. As we have seen above, `info()` shows that all columns except `country` are numerical in nature"
   ]
  },
  {
   "cell_type": "code",
   "execution_count": null,
   "metadata": {
    "papermill": {
     "duration": 0.126981,
     "end_time": "2020-09-11T06:01:00.671840",
     "exception": false,
     "start_time": "2020-09-11T06:01:00.544859",
     "status": "completed"
    },
    "tags": []
   },
   "outputs": [],
   "source": [
    "numerical_cols = list(country_df.columns) # Get all column names\n",
    "numerical_cols.remove('country') # Remove country as its not numerical\n",
    "numerical_cols"
   ]
  },
  {
   "cell_type": "markdown",
   "metadata": {
    "papermill": {
     "duration": 0.115206,
     "end_time": "2020-09-11T06:01:00.906049",
     "exception": false,
     "start_time": "2020-09-11T06:01:00.790843",
     "status": "completed"
    },
    "tags": []
   },
   "source": [
    "## 2.3.1 Visualising Bivariate Distributions using pairplot"
   ]
  },
  {
   "cell_type": "code",
   "execution_count": null,
   "metadata": {
    "papermill": {
     "duration": 12.499908,
     "end_time": "2020-09-11T06:01:13.522172",
     "exception": false,
     "start_time": "2020-09-11T06:01:01.022264",
     "status": "completed"
    },
    "tags": []
   },
   "outputs": [],
   "source": [
    "sns.pairplot(country_df[numerical_cols], corner=True)\n",
    "plt.show()"
   ]
  },
  {
   "cell_type": "markdown",
   "metadata": {
    "papermill": {
     "duration": 0.122393,
     "end_time": "2020-09-11T06:01:13.769908",
     "exception": false,
     "start_time": "2020-09-11T06:01:13.647515",
     "status": "completed"
    },
    "tags": []
   },
   "source": [
    "### Inference\n",
    "\n",
    "The diagonals of the pairplot gives us the distribution of the column's data and the other plots give the pairwise-relationship.\n",
    "\n",
    "Initial look at the histograms across the columns give us following picture:\n",
    "- All the columns have values in different range\n",
    "e.g total_fer has 0 to 10; child_mort has -50 to 250; gdpp, income, exports, imports have values in thousands.\n",
    "Hence we need to scale the data.\n",
    "\n",
    "Some patterns we could see are\n",
    "\n",
    "- `child_mort` and `total_fer` are directly proportional.\n",
    "- `child_mort` seems to be high where `health` spending is low  and `inflation` is high\n",
    "- When `health` spending is more, `life_expect` is high.\n",
    "- `gdpp` increases as `exports`, `imports`, `income` increase.\n"
   ]
  },
  {
   "cell_type": "markdown",
   "metadata": {
    "papermill": {
     "duration": 0.121487,
     "end_time": "2020-09-11T06:01:14.013104",
     "exception": false,
     "start_time": "2020-09-11T06:01:13.891617",
     "status": "completed"
    },
    "tags": []
   },
   "source": [
    "## 2.3.2 Visualising Correlation using heatmap\n",
    "\n",
    "Lets check correlation between different features using heatmap. Both strong positive and negative correlation are shown in darker shades(green and red respectively). The lighter shades indicate the weak or mild correlation:"
   ]
  },
  {
   "cell_type": "code",
   "execution_count": null,
   "metadata": {
    "papermill": {
     "duration": 0.663595,
     "end_time": "2020-09-11T06:01:14.797559",
     "exception": false,
     "start_time": "2020-09-11T06:01:14.133964",
     "status": "completed"
    },
    "tags": []
   },
   "outputs": [],
   "source": [
    "plt.figure(figsize=(14,8))\n",
    "sns.heatmap(country_df.corr(), annot=True,linewidth = 0.5, cmap = sns.diverging_palette(380, 150, n=8))"
   ]
  },
  {
   "cell_type": "markdown",
   "metadata": {
    "papermill": {
     "duration": 0.122999,
     "end_time": "2020-09-11T06:01:15.064205",
     "exception": false,
     "start_time": "2020-09-11T06:01:14.941206",
     "status": "completed"
    },
    "tags": []
   },
   "source": [
    "### Inferences:\n",
    "- imports and exports are highly correlated with correlation of 0.99\n",
    "- health and gdpp are highly correlated with correlation of 0.92\n",
    "- income and gdpp are highly correlated with correlation of 0.9\n",
    "- child_mortality and life_expentency are highly and inversely correlated with correlation of -0.89\n",
    "- child_mortality and total_fertility are highly correlated with correlation of 0.85\n",
    "life_expentency and total_fertility are highly correlated with correlation of -0.76\n",
    "- gdpp and exports are highly correlated with correlation of 0.77\n",
    "- gdpp and imports are highly correlated with correlation of 0.76"
   ]
  },
  {
   "cell_type": "markdown",
   "metadata": {
    "papermill": {
     "duration": 0.122786,
     "end_time": "2020-09-11T06:01:15.309951",
     "exception": false,
     "start_time": "2020-09-11T06:01:15.187165",
     "status": "completed"
    },
    "tags": []
   },
   "source": [
    "## 2.3.3 Visualising univariate distributions using Histogram and density plots\n"
   ]
  },
  {
   "cell_type": "code",
   "execution_count": null,
   "metadata": {
    "papermill": {
     "duration": 1.96114,
     "end_time": "2020-09-11T06:01:17.395511",
     "exception": false,
     "start_time": "2020-09-11T06:01:15.434371",
     "status": "completed"
    },
    "tags": []
   },
   "outputs": [],
   "source": [
    "plt.figure(figsize=[16,12])\n",
    "i=1 # to track the ith plot in the subplot\n",
    "for col in numerical_cols:\n",
    "    plt.subplot(3,3,i)\n",
    "    sns.distplot(country_df[col])\n",
    "    plt.title(col)\n",
    "    plt.xlabel('')    \n",
    "    i+=1"
   ]
  },
  {
   "cell_type": "markdown",
   "metadata": {
    "papermill": {
     "duration": 0.132216,
     "end_time": "2020-09-11T06:01:17.654616",
     "exception": false,
     "start_time": "2020-09-11T06:01:17.522400",
     "status": "completed"
    },
    "tags": []
   },
   "source": [
    "### Inference:\n",
    "\n",
    "None of the columns have even distribution and further analysis of the columns show presence of outliers as below:\n",
    "\n",
    "- `child_mort`is right skewed and it indicates that there are countries which have higher values of child mortality and majority of values lie between 0 and 50\n",
    "\n",
    "- `exports`, `imports`, `health` have huge number of outliers and it is right skewed\n",
    "\n",
    "- `income` has slight outliers with majority of countries having per person income as between 0 and 25000\n",
    "\n",
    "- `inflation` has some higher outliers and is right skewed.\n",
    "\n",
    "- `life_expec` has some lower outliers and is left skewed.\n",
    "\n",
    "- `gdpp` is right skewed and indicate few countries are doing good and their GDP is pretty high and do not need any aid.\n",
    "\n",
    "However, we will perform K-means and Hierarchical clustering to perfectly identify the clusters and the countries which are in need of aid."
   ]
  },
  {
   "cell_type": "markdown",
   "metadata": {
    "papermill": {
     "duration": 0.126896,
     "end_time": "2020-09-11T06:01:17.910725",
     "exception": false,
     "start_time": "2020-09-11T06:01:17.783829",
     "status": "completed"
    },
    "tags": []
   },
   "source": [
    "## 2.3.4 Visualising univariate distributions across countries using point plots and barplots:\n",
    "\n",
    "We will plot `gdpp`, `income`, `child_mort` of all countries and see how the data is distributed. Since pointplot plots the mean of categorical variables and each row is unique, point plots can be used here to show the distribution of the data and their range compared with other countries.\n",
    "\n",
    "The following is a generic function to create point plots and draw a line to indicate the countries that might need help:"
   ]
  },
  {
   "cell_type": "code",
   "execution_count": null,
   "metadata": {
    "papermill": {
     "duration": 0.137044,
     "end_time": "2020-09-11T06:01:18.173433",
     "exception": false,
     "start_time": "2020-09-11T06:01:18.036389",
     "status": "completed"
    },
    "tags": []
   },
   "outputs": [],
   "source": [
    "def point_plots_with_line(y_column, line_cutoff, ylog=False):\n",
    "    #plt.figure(figsize=(18,6))\n",
    "    ax = sns.pointplot(x=\"country\", y=y_column, data=country_df)\n",
    "    plt.xticks(rotation = 90,fontsize =7)\n",
    "    if ylog:\n",
    "        plt.yscale('log')\n",
    "    ax.axhline(line_cutoff, ls='--',color='red')\n",
    "    plt.title(\"%s vs countries\" %y_column)\n",
    "    plt.ylabel(y_column)\n",
    "    plt.xlabel('')\n",
    "    #plt.show()"
   ]
  },
  {
   "cell_type": "code",
   "execution_count": null,
   "metadata": {
    "papermill": {
     "duration": 0.141792,
     "end_time": "2020-09-11T06:01:18.441678",
     "exception": false,
     "start_time": "2020-09-11T06:01:18.299886",
     "status": "completed"
    },
    "tags": []
   },
   "outputs": [],
   "source": [
    "def plot_bottom10_countries(y_column, sort_order=True, truncate_string=False):\n",
    "    sorted_df = country_df[['country',y_column]].sort_values(y_column, ascending = sort_order).head(10) # get bottom 10\n",
    "    sorted_df[y_column] = sorted_df[y_column].round(2) # roundoff to 2 decimals\n",
    "    if truncate_string: # truncate only for subplots proper visualization purpose\n",
    "        sorted_df.loc[sorted_df['country'].str.contains('Central African Republic'),'country'] = 'Cent.Afr.Repub.'\n",
    "        sorted_df.loc[sorted_df['country'].str.contains('Congo'),'country'] = 'Congo'\n",
    "        sorted_df.loc[sorted_df['country'].str.contains('Equatorial Guinea'),'country'] = 'Guinea'\n",
    "        \n",
    "    ax = sns.barplot(x='country', y=y_column, data= sorted_df)\n",
    "    for each_bar in ax.patches:\n",
    "        ax.annotate(str(each_bar.get_height()), (each_bar.get_x() * 1.01 , each_bar.get_height() * 1.01))\n",
    "    plt.ylabel(y_column)\n",
    "    plt.xlabel('10 Countries which have poor %s' %y_column)\n",
    "    ax.set_xticklabels(sorted_df['country'], rotation=45, ha='center')"
   ]
  },
  {
   "cell_type": "markdown",
   "metadata": {
    "papermill": {
     "duration": 0.136835,
     "end_time": "2020-09-11T06:01:18.722811",
     "exception": false,
     "start_time": "2020-09-11T06:01:18.585976",
     "status": "completed"
    },
    "tags": []
   },
   "source": [
    "### Visualize GDPP across countries"
   ]
  },
  {
   "cell_type": "code",
   "execution_count": null,
   "metadata": {
    "papermill": {
     "duration": 4.731546,
     "end_time": "2020-09-11T06:01:23.583147",
     "exception": false,
     "start_time": "2020-09-11T06:01:18.851601",
     "status": "completed"
    },
    "tags": []
   },
   "outputs": [],
   "source": [
    "plt.figure(figsize = (18,20))\n",
    "plt.subplot(3,1,1)\n",
    "point_plots_with_line(\"gdpp\", 4660) # 4660 is median of GDPP\n",
    "plt.subplot(3,1,2)\n",
    "point_plots_with_line(\"gdpp\", 1330, True) # 1330 is 25th percentile of GDPP\n",
    "plt.subplot(3,1,3)\n",
    "plot_bottom10_countries(\"gdpp\")\n",
    "plt.show()"
   ]
  },
  {
   "cell_type": "markdown",
   "metadata": {
    "papermill": {
     "duration": 0.135751,
     "end_time": "2020-09-11T06:01:23.854733",
     "exception": false,
     "start_time": "2020-09-11T06:01:23.718982",
     "status": "completed"
    },
    "tags": []
   },
   "source": [
    "### INFERENCES:\n",
    "\n",
    "- First plot is little difficult to interpret due to some countries having huge value of GDPP in comparison with other countries.\n",
    "- Red line in the First plot divides the countries by their median value. i.e countries above the red lines have their GDPP higher than 4660 and countries below the red line have their GDPP lower than 4660.\n",
    "- Second plot shows the same plot with log scaled in the y-axis and it is a bit easier to interpret.\n",
    "- Red line in the Second plot divides the countries by their 25th percentile.\n",
    "- Second plot shows around 37 countries are below the red line and these are the countries of our focus.\n",
    "- Third plot shows the list of 10 countries that have the low GDPP"
   ]
  },
  {
   "cell_type": "markdown",
   "metadata": {
    "papermill": {
     "duration": 0.13517,
     "end_time": "2020-09-11T06:01:24.124438",
     "exception": false,
     "start_time": "2020-09-11T06:01:23.989268",
     "status": "completed"
    },
    "tags": []
   },
   "source": [
    "### Visualize Income per person across countries"
   ]
  },
  {
   "cell_type": "code",
   "execution_count": null,
   "metadata": {
    "papermill": {
     "duration": 4.605158,
     "end_time": "2020-09-11T06:01:28.869428",
     "exception": false,
     "start_time": "2020-09-11T06:01:24.264270",
     "status": "completed"
    },
    "tags": []
   },
   "outputs": [],
   "source": [
    "plt.figure(figsize = (18,20))\n",
    "plt.subplot(3,1,1)\n",
    "point_plots_with_line(\"income\", 9960) # 9960 is median of income\n",
    "plt.subplot(3,1,2)\n",
    "point_plots_with_line(\"income\", 3350, True) # 3350 is 25th percentile of income\n",
    "plt.subplot(3,1,3)\n",
    "plot_bottom10_countries(\"income\")\n",
    "plt.show()"
   ]
  },
  {
   "cell_type": "markdown",
   "metadata": {
    "papermill": {
     "duration": 0.147894,
     "end_time": "2020-09-11T06:01:29.165049",
     "exception": false,
     "start_time": "2020-09-11T06:01:29.017155",
     "status": "completed"
    },
    "tags": []
   },
   "source": [
    "### INFERENCES:\n",
    "\n",
    "- This plot gives similar inferences as that of GDPP.\n",
    "- Red line in the First plot divides the countries by their median value. i.e countries above the red lines have their income per person higher than 9960 and countries below the red line have their income per person lower than 9960.\n",
    "- Second plot shows the same plot with log scaled in the y-axis and it is a bit easier to interpret.\n",
    "- Red line in the Second plot divides the countries by their 25th percentile.\n",
    "- Second plot shows around 37 countries are below the red line and these are the countries of our focus.\n",
    "- Third plot shows the list of 10 countries that have the low income per person\n",
    "\n",
    "- Comparing this and the previous GDPP plots, we can see that some of the countries are seen below the red line such as Afghanishtan, Congo, Liberia, Niger etc."
   ]
  },
  {
   "cell_type": "markdown",
   "metadata": {
    "papermill": {
     "duration": 0.14811,
     "end_time": "2020-09-11T06:01:29.458292",
     "exception": false,
     "start_time": "2020-09-11T06:01:29.310182",
     "status": "completed"
    },
    "tags": []
   },
   "source": [
    "### Visualize Child Mortality Rate per 1000 lives across countries"
   ]
  },
  {
   "cell_type": "code",
   "execution_count": null,
   "metadata": {
    "papermill": {
     "duration": 2.136819,
     "end_time": "2020-09-11T06:01:31.741044",
     "exception": false,
     "start_time": "2020-09-11T06:01:29.604225",
     "status": "completed"
    },
    "tags": []
   },
   "outputs": [],
   "source": [
    "plt.figure(figsize = (18,12))\n",
    "plt.subplot(2,1,1)\n",
    "point_plots_with_line(\"child_mort\", 62) # 62 is 75th percentile of child_mort\n",
    "plt.subplot(2,1,2)\n",
    "plot_bottom10_countries(\"child_mort\", False)\n",
    "plt.show()"
   ]
  },
  {
   "cell_type": "markdown",
   "metadata": {
    "papermill": {
     "duration": 0.145586,
     "end_time": "2020-09-11T06:01:32.032511",
     "exception": false,
     "start_time": "2020-09-11T06:01:31.886925",
     "status": "completed"
    },
    "tags": []
   },
   "source": [
    "### INFERENCES:\n",
    "\n",
    "- This plot gives opposite inferences as that of GDPP and income indicating the countries who are doing well have less child mortality attributing to money being spent on citizens health and nutrition.\n",
    "- We have chosen 75th percentile i.e. 62 to show the countries which have child mortality rate higher than that per 1000 lives.\n",
    "- We can see that some of the countries which have low GDPP and low income per person suffer from high mortality rate sucg as Congo, Haiti etc.\n",
    "- Third plot shows the list of 10 countries that have the high child moratality rate and these seem to be present in Africa where healthcare facilities are poor."
   ]
  },
  {
   "cell_type": "markdown",
   "metadata": {
    "papermill": {
     "duration": 0.144248,
     "end_time": "2020-09-11T06:01:32.321165",
     "exception": false,
     "start_time": "2020-09-11T06:01:32.176917",
     "status": "completed"
    },
    "tags": []
   },
   "source": [
    "### Visualize bottom 10 countries w.r.t exports, imports, health, inflation, life_expectancy and total fertility rate"
   ]
  },
  {
   "cell_type": "code",
   "execution_count": null,
   "metadata": {
    "papermill": {
     "duration": 1.564143,
     "end_time": "2020-09-11T06:01:34.035141",
     "exception": false,
     "start_time": "2020-09-11T06:01:32.470998",
     "status": "completed"
    },
    "tags": []
   },
   "outputs": [],
   "source": [
    "plt.figure(figsize = (18,16))\n",
    "plt.subplot(2,3,1)\n",
    "plot_bottom10_countries(\"exports\", sort_order=True, truncate_string=True)\n",
    "plt.subplot(2,3,2)\n",
    "plot_bottom10_countries(\"health\")\n",
    "plt.subplot(2,3,3)\n",
    "plot_bottom10_countries(\"imports\")\n",
    "plt.subplot(2,3,4)\n",
    "plot_bottom10_countries(\"inflation\", sort_order=False, truncate_string=True)\n",
    "plt.subplot(2,3,5)\n",
    "plot_bottom10_countries(\"life_expec\", sort_order=True, truncate_string=True)\n",
    "plt.subplot(2,3,6)\n",
    "plot_bottom10_countries(\"total_fer\", sort_order=False, truncate_string=True)\n",
    "plt.show()"
   ]
  },
  {
   "cell_type": "markdown",
   "metadata": {
    "papermill": {
     "duration": 0.147804,
     "end_time": "2020-09-11T06:01:34.333218",
     "exception": false,
     "start_time": "2020-09-11T06:01:34.185414",
     "status": "completed"
    },
    "tags": []
   },
   "source": [
    "### INFERENCES:\n",
    "\n",
    "- exports, health follow GDPP and income plots pattern and the countries which had low GDPP seem to have low exports.\n",
    "- imports show a different trend indicating that these countries manufacture a lot of goods sufficiently.\n",
    "- inflation shows countries that are not stable and not self-sufficient and suffering from other political and social issues. \n",
    "\n",
    "Though these plots give us an overall picture of how the countries are doing in terms of GDPP, income and child mortality. Still we will need more statistical data to identify this cluster in particular and to highlight the countries from this cluster which are in need of aid at priority. We will build an unsupervised model based on clustering techniques, which is sensitive to outliers. Due to this, lets proceed and identify outliers and handle those so that we would get better results."
   ]
  },
  {
   "cell_type": "markdown",
   "metadata": {
    "papermill": {
     "duration": 0.147636,
     "end_time": "2020-09-11T06:01:34.629204",
     "exception": false,
     "start_time": "2020-09-11T06:01:34.481568",
     "status": "completed"
    },
    "tags": []
   },
   "source": [
    "## 2.3.5 Visualising univariate distributions using boxplots to identify outliers\n",
    "\n",
    "Boxplots are a great way to visualise univariate data because they represent statistics such as the 25th percentile, 50th percentile, etc. We will use the boxplots to analyse the outliers. Lets first see the summary statistics of all the percentiles"
   ]
  },
  {
   "cell_type": "code",
   "execution_count": null,
   "metadata": {
    "papermill": {
     "duration": 0.191609,
     "end_time": "2020-09-11T06:01:34.969867",
     "exception": false,
     "start_time": "2020-09-11T06:01:34.778258",
     "status": "completed"
    },
    "tags": []
   },
   "outputs": [],
   "source": [
    "country_df.describe(percentiles=[.1,.5,.25,.75,.90,.95,.99])"
   ]
  },
  {
   "cell_type": "code",
   "execution_count": null,
   "metadata": {
    "papermill": {
     "duration": 0.157723,
     "end_time": "2020-09-11T06:01:35.275918",
     "exception": false,
     "start_time": "2020-09-11T06:01:35.118195",
     "status": "completed"
    },
    "tags": []
   },
   "outputs": [],
   "source": [
    "def boxplot_for_outlier_analysis():\n",
    "    plt.figure(figsize=[16,12])\n",
    "    i=1 # to track the ith plot in the subplot\n",
    "    for col in numerical_cols:\n",
    "        plt.subplot(3,3,i)\n",
    "        sns.boxplot(y=country_df[col])\n",
    "        plt.title(col)\n",
    "        plt.ylabel('')\n",
    "        i+=1"
   ]
  },
  {
   "cell_type": "code",
   "execution_count": null,
   "metadata": {
    "papermill": {
     "duration": 1.210724,
     "end_time": "2020-09-11T06:01:36.639184",
     "exception": false,
     "start_time": "2020-09-11T06:01:35.428460",
     "status": "completed"
    },
    "tags": []
   },
   "outputs": [],
   "source": [
    "boxplot_for_outlier_analysis()"
   ]
  },
  {
   "cell_type": "markdown",
   "metadata": {
    "papermill": {
     "duration": 0.149768,
     "end_time": "2020-09-11T06:01:36.940217",
     "exception": false,
     "start_time": "2020-09-11T06:01:36.790449",
     "status": "completed"
    },
    "tags": []
   },
   "source": [
    "### Outlier Analysis:\n",
    "\n",
    "Lets not remove the outliers as it explains the country needs and also deleting outliers will delete lot of countries. Hence, lets find the outliers in the dataset, and then use the following strategies whether to keep those as such or to cap those to the corresponding higher or lower quartile values.\n",
    "\n",
    "\n",
    "- `child_mort` has only higher outliers and since we need to identify the countries where `child_mort` is high, lets **not cap** these outliers.\n",
    "\n",
    "- `exports` and `imports` have only higher outliers and this means the country exports are high and the country is doing fine and hence we can **cap these outliers** to the column's 99th percentile.\n",
    "\n",
    "- `health` has huge amount of higher outliers and this mean that these countries spend relatively lot of money on the health and hence we can **cap these outliers** to the column's 99th percentile.\n",
    "\n",
    "- `income` has some amount of higher outliers and this mean that people in these countries income are very higher than the other countries and hence we can **cap these outliers** to the column's 99th percentile.\n",
    "\n",
    "- `inflation` has some higher outliers and these countries might be in need of aid and hence lets **not cap** these outliers.\n",
    "\n",
    "- `life_expec` has some lower outliers and these are the countries which need our attention and hence lets **not cap** these outliers.\n",
    "\n",
    "- `total_fer` has some higher outliers and lets **cap these outliers** to 99th percentile\n",
    "\n",
    "- `gdpp` has huge amount of higher outliers and this indicate that these countries are doing well by themselves and hence we can **cap these outliers** to the column's 99th percentile.\n"
   ]
  },
  {
   "cell_type": "markdown",
   "metadata": {
    "papermill": {
     "duration": 0.14961,
     "end_time": "2020-09-11T06:01:37.238873",
     "exception": false,
     "start_time": "2020-09-11T06:01:37.089263",
     "status": "completed"
    },
    "tags": []
   },
   "source": [
    "# 3. Prepare the data for modelling\n",
    "## 3.1 Outlier Treatment\n",
    "\n",
    "Outliers can be treated in two ways:\n",
    "1. Statistical treatment where all outliers can be either removed or capped. Since we have dataset of 167 rows, deleting outliers will remove the countries which might be in need of aid. \n",
    "\n",
    "2. Domain based outlier treatment:\n",
    "Here we will cap or remove outliers based on the data's relevance to the business need. We will cap the outliers as discussed in the above section.\n",
    "\n",
    "There are different ranges in capping the outliers:\n",
    "- Soft range: 1th and 99th percentile.\n",
    "- Mid range: 5th and 95th percentile.\n",
    "- 25th and 75th percentile.\n",
    "\n",
    "We will be doing **Soft capping** as the data points are few and the capping should not influence the clusters much."
   ]
  },
  {
   "cell_type": "code",
   "execution_count": null,
   "metadata": {
    "papermill": {
     "duration": 0.170713,
     "end_time": "2020-09-11T06:01:37.558829",
     "exception": false,
     "start_time": "2020-09-11T06:01:37.388116",
     "status": "completed"
    },
    "tags": []
   },
   "outputs": [],
   "source": [
    "higher_outlier_cols = ['exports','imports','health','income','total_fer','gdpp']\n",
    "\n",
    "for col in higher_outlier_cols:\n",
    "    Q4 = country_df[col].quantile(0.99) # Get 99th quantile\n",
    "    country_df.loc[country_df[col] >= Q4, col] = Q4 # outlier capping"
   ]
  },
  {
   "cell_type": "code",
   "execution_count": null,
   "metadata": {
    "papermill": {
     "duration": 1.061374,
     "end_time": "2020-09-11T06:01:38.771422",
     "exception": false,
     "start_time": "2020-09-11T06:01:37.710048",
     "status": "completed"
    },
    "tags": []
   },
   "outputs": [],
   "source": [
    "boxplot_for_outlier_analysis()"
   ]
  },
  {
   "cell_type": "code",
   "execution_count": null,
   "metadata": {
    "papermill": {
     "duration": 0.193924,
     "end_time": "2020-09-11T06:01:39.119481",
     "exception": false,
     "start_time": "2020-09-11T06:01:38.925557",
     "status": "completed"
    },
    "tags": []
   },
   "outputs": [],
   "source": [
    "country_df.describe(percentiles=[.1,.5,.25,.75,.90,.95,.99])"
   ]
  },
  {
   "cell_type": "markdown",
   "metadata": {
    "papermill": {
     "duration": 0.157258,
     "end_time": "2020-09-11T06:01:39.431013",
     "exception": false,
     "start_time": "2020-09-11T06:01:39.273755",
     "status": "completed"
    },
    "tags": []
   },
   "source": [
    "There are some outliers present in the data after outlier treatment as we have used soft capping. Lets proceed and cluster the countries based on the prepared data."
   ]
  },
  {
   "cell_type": "markdown",
   "metadata": {
    "papermill": {
     "duration": 0.153512,
     "end_time": "2020-09-11T06:01:39.737344",
     "exception": false,
     "start_time": "2020-09-11T06:01:39.583832",
     "status": "completed"
    },
    "tags": []
   },
   "source": [
    "## 3.2 Hopkins test to understand cluster tendency\n",
    "\n",
    "- Before we apply any clustering algorithm to the given data, it's important to check whether the given data has some meaningful clusters or not. This usually means the given data is not random. \n",
    "\n",
    "- The process to evaluate the data to check if the data is feasible for clustering or not is know as the **clustering tendency**. \n",
    "\n",
    "- To check cluster tendency, we use **Hopkins test.**\n",
    "\n",
    "- `Hopkins test` examines whether data points differ significantly from uniformly distributed data in the multidimensional space."
   ]
  },
  {
   "cell_type": "code",
   "execution_count": null,
   "metadata": {
    "papermill": {
     "duration": 0.169664,
     "end_time": "2020-09-11T06:01:40.061205",
     "exception": false,
     "start_time": "2020-09-11T06:01:39.891541",
     "status": "completed"
    },
    "tags": []
   },
   "outputs": [],
   "source": [
    "#Calculating the Hopkins statistic\n",
    "from sklearn.neighbors import NearestNeighbors\n",
    "from random import sample\n",
    "from numpy.random import uniform\n",
    "import numpy as np\n",
    "from math import isnan\n",
    " \n",
    "def hopkins(X):\n",
    "    d = X.shape[1]\n",
    "    #d = len(vars) # columns\n",
    "    n = len(X) # rows\n",
    "    m = int(0.1 * n) \n",
    "    nbrs = NearestNeighbors(n_neighbors=1).fit(X.values)\n",
    " \n",
    "    rand_X = sample(range(0, n, 1), m)\n",
    " \n",
    "    ujd = []\n",
    "    wjd = []\n",
    "    for j in range(0, m):\n",
    "        u_dist, _ = nbrs.kneighbors(uniform(np.amin(X,axis=0),np.amax(X,axis=0),d).reshape(1, -1), 2, return_distance=True)\n",
    "        ujd.append(u_dist[0][1])\n",
    "        w_dist, _ = nbrs.kneighbors(X.iloc[rand_X[j]].values.reshape(1, -1), 2, return_distance=True)\n",
    "        wjd.append(w_dist[0][1])\n",
    " \n",
    "    H = sum(ujd) / (sum(ujd) + sum(wjd))\n",
    "    if isnan(H):\n",
    "        print(ujd, wjd)\n",
    "        H = 0\n",
    " \n",
    "    return H"
   ]
  },
  {
   "cell_type": "code",
   "execution_count": null,
   "metadata": {
    "papermill": {
     "duration": 0.191119,
     "end_time": "2020-09-11T06:01:40.404914",
     "exception": false,
     "start_time": "2020-09-11T06:01:40.213795",
     "status": "completed"
    },
    "tags": []
   },
   "outputs": [],
   "source": [
    "hopkins(country_df[numerical_cols])"
   ]
  },
  {
   "cell_type": "markdown",
   "metadata": {
    "papermill": {
     "duration": 0.156091,
     "end_time": "2020-09-11T06:01:40.717433",
     "exception": false,
     "start_time": "2020-09-11T06:01:40.561342",
     "status": "completed"
    },
    "tags": []
   },
   "source": [
    "### Interpretation of Hopkins score:\n",
    "\n",
    "- Hopkins Statistic over .70 is a good score that indicated that the data is good for cluster analysis. \n",
    "- A 'Hopkins Statistic' value close to 1 tends to indicate the data is highly clustered, random data will tend to result in values around 0.5, and uniformly distributed data will tend to result in values close to 0.\n",
    "\n",
    "\n",
    "Hopkins test results will vary as it picks a set of samples each time. On running it multiple times, it can be seen that this data set gives Hopkins statistic value in the range of 0.86 to 0.97 and hence our dataset is good for clustering and lets proceed our analysis "
   ]
  },
  {
   "cell_type": "markdown",
   "metadata": {
    "papermill": {
     "duration": 0.153755,
     "end_time": "2020-09-11T06:01:41.026898",
     "exception": false,
     "start_time": "2020-09-11T06:01:40.873143",
     "status": "completed"
    },
    "tags": []
   },
   "source": [
    "## 3.3 Scaling"
   ]
  },
  {
   "cell_type": "markdown",
   "metadata": {
    "papermill": {
     "duration": 0.154414,
     "end_time": "2020-09-11T06:01:41.336857",
     "exception": false,
     "start_time": "2020-09-11T06:01:41.182443",
     "status": "completed"
    },
    "tags": []
   },
   "source": [
    "- Feature scaling is essential for machine learning algorithms that calculate distances between data. \n",
    "- Most of distance based models e.g. k-means and Hierarchical clustering need standard scaling so that large-scaled features don't dominate the variation.\n",
    "- If we do not scale, the feature with a higher value range starts dominating when calculating distances\n",
    "- We have chosen `StandardScaler` as clustering does not work well when the variance differs a lot."
   ]
  },
  {
   "cell_type": "code",
   "execution_count": null,
   "metadata": {
    "papermill": {
     "duration": 0.184613,
     "end_time": "2020-09-11T06:01:41.675491",
     "exception": false,
     "start_time": "2020-09-11T06:01:41.490878",
     "status": "completed"
    },
    "tags": []
   },
   "outputs": [],
   "source": [
    "# Scaling on numerical features\n",
    "\n",
    "scaler = StandardScaler() # instantiate scaler\n",
    "\n",
    "country_df_scaled = scaler.fit_transform(country_df[numerical_cols]) # fit parameters to have mean 0 and SD as 1 and transform data accordingly\n",
    "country_df_scaled = pd.DataFrame(country_df_scaled, columns = numerical_cols) # convert to dataframe\n",
    "country_df_scaled"
   ]
  },
  {
   "cell_type": "markdown",
   "metadata": {
    "papermill": {
     "duration": 0.157552,
     "end_time": "2020-09-11T06:01:41.987787",
     "exception": false,
     "start_time": "2020-09-11T06:01:41.830235",
     "status": "completed"
    },
    "tags": []
   },
   "source": [
    "# 4. Build model using K-means algorithm for clustering\n",
    "\n",
    "Now that scaling is done on all numerical features, lets build the unsupervised model using clustering technique. There are many algorithms available in clustering. We will pick two common algorithms such as \n",
    "1. K-means algorithm\n",
    "2. Hierachical Clustering\n",
    "\n",
    "and build the model using both the methods and cluster the countries identify the countries in need\n",
    "\n",
    "**Kmeans algorithm** is an iterative algorithm that tries to partition the dataset into K pre-defined distinct non-overlapping subgroups (clusters) where each data point belongs to only one group.\n"
   ]
  },
  {
   "cell_type": "markdown",
   "metadata": {
    "papermill": {
     "duration": 0.158607,
     "end_time": "2020-09-11T06:01:42.305017",
     "exception": false,
     "start_time": "2020-09-11T06:01:42.146410",
     "status": "completed"
    },
    "tags": []
   },
   "source": [
    "## 4.1 Metrics to choose the value of K\n",
    "The main challenge in this algorithm is to find the optimal value of k or `number of clusters`. There are two common approaches that help to find k:\n",
    "\n",
    "1. Elbow method\n",
    "2. Silhouette Analysis"
   ]
  },
  {
   "cell_type": "markdown",
   "metadata": {
    "papermill": {
     "duration": 0.154296,
     "end_time": "2020-09-11T06:01:42.623321",
     "exception": false,
     "start_time": "2020-09-11T06:01:42.469025",
     "status": "completed"
    },
    "tags": []
   },
   "source": [
    "### 4.1.1 Elbow Method\n",
    "\n",
    "Elbow method gives us an idea on what a good k number of clusters would be based on the `sum of squared distance (SSD) ` between data points and their assigned clusters’ centroids. We pick k at the spot where SSE starts to flatten out and forming an elbow. \n",
    "\n",
    "Lets use `KMeans()` from `sklearn` to form clusters of 2,3,4 and so on till 11 and calculate SSD and plot the number of clusters and SSD and see where the elbow is formed."
   ]
  },
  {
   "cell_type": "code",
   "execution_count": null,
   "metadata": {
    "papermill": {
     "duration": 0.763432,
     "end_time": "2020-09-11T06:01:43.542749",
     "exception": false,
     "start_time": "2020-09-11T06:01:42.779317",
     "status": "completed"
    },
    "tags": []
   },
   "outputs": [],
   "source": [
    "# Elbow curve-ssd\n",
    "ssd = []\n",
    "for k in range(2, 11):\n",
    "    kmean = KMeans(n_clusters = k).fit(country_df_scaled)\n",
    "    ssd.append([k, kmean.inertia_])\n",
    "    \n",
    "temp = pd.DataFrame(ssd)\n",
    "ax = plt.axes()\n",
    "ax.plot(temp[0], temp[1]) # plot the SSDs for each n_clusters\n",
    "ax.axvline(3, ls='dotted',color='red') # elbow formed as 3\n",
    "plt.xlabel('Number of clusters')\n",
    "plt.ylabel('SSD')\n",
    "plt.show()"
   ]
  },
  {
   "cell_type": "markdown",
   "metadata": {
    "papermill": {
     "duration": 0.156047,
     "end_time": "2020-09-11T06:01:43.857031",
     "exception": false,
     "start_time": "2020-09-11T06:01:43.700984",
     "status": "completed"
    },
    "tags": []
   },
   "source": [
    "### INFERENCE:\n",
    "\n",
    "SSD flattens and forms an elbow at 3 indicating that 3 is optimal value of k.\n",
    "\n",
    "### 4.1.2 Silhouette Analysis\n",
    "\n",
    "The silhouette score is a measure of how similar an object is to its own cluster (`cohesion`) compared to other clusters (`separation`).\n",
    "\n",
    "Lets use `KMeans()` from `sklearn` to form clusters of 2,3,4 and so on till 11 and calculate `silhouette_score` and plot the `number of clusters` against `silhouette_score`"
   ]
  },
  {
   "cell_type": "code",
   "execution_count": null,
   "metadata": {
    "papermill": {
     "duration": 0.816175,
     "end_time": "2020-09-11T06:01:44.829954",
     "exception": false,
     "start_time": "2020-09-11T06:01:44.013779",
     "status": "completed"
    },
    "tags": []
   },
   "outputs": [],
   "source": [
    "# Silhouette score\n",
    "\n",
    "from sklearn.metrics import silhouette_score\n",
    "silhouette_scores_list = []\n",
    "for k in range(2, 11):\n",
    "    kmean = KMeans(n_clusters = k).fit(country_df_scaled) # intialise kmeans\n",
    "    silhouette_avg = silhouette_score(country_df_scaled, kmean.labels_) # silhouette score\n",
    "    silhouette_scores_list.append([k, silhouette_avg])\n",
    "    print(\"For k_clusters={0}, the silhouette score is {1:2f}\".format(k, silhouette_avg))\n",
    "    \n",
    "temp = pd.DataFrame(silhouette_scores_list)    \n",
    "ax = plt.axes()\n",
    "ax.plot(temp[0], temp[1])\n",
    "ax.axvline(3, ls='dotted',color='green') # elbow formed as 3\n",
    "ax.axvline(4, ls='dotted',color='blue') # elbow formed as 3\n",
    "ax.axvline(5, ls='dotted',color='maroon') # elbow formed as 3\n",
    "plt.xlabel('Number of clusters')\n",
    "plt.ylabel('Silhouette score')\n",
    "plt.show()"
   ]
  },
  {
   "cell_type": "markdown",
   "metadata": {
    "papermill": {
     "duration": 0.160068,
     "end_time": "2020-09-11T06:01:45.151286",
     "exception": false,
     "start_time": "2020-09-11T06:01:44.991218",
     "status": "completed"
    },
    "tags": []
   },
   "source": [
    "### INFERENCES:\n",
    "\n",
    "- The silhouette score is maximum when k is 2 which is 0.47\n",
    "- 2 is very less number of clusters and countries within the 2 clusters might be very different.\n",
    "\n",
    "So lets look at the next optimal silhouette score.\n",
    "\n",
    "- 3,4,5 seem to have good silhouette scores. As k increases, silhouette score decreases and hence these will have definitely lesser sihouette score than that of k=2.\n",
    "- Though elbow curve indicate 3 is optimal number and silhouette score of 3 seem to be the best, lets use K-means algorithm for k=3,4,5 and see which value of k gives us better `cluster profiling`"
   ]
  },
  {
   "cell_type": "markdown",
   "metadata": {
    "papermill": {
     "duration": 0.157128,
     "end_time": "2020-09-11T06:01:45.465817",
     "exception": false,
     "start_time": "2020-09-11T06:01:45.308689",
     "status": "completed"
    },
    "tags": []
   },
   "source": [
    "## 4.2 Iterating with k=3,4 and 5"
   ]
  },
  {
   "cell_type": "code",
   "execution_count": null,
   "metadata": {
    "papermill": {
     "duration": 0.170725,
     "end_time": "2020-09-11T06:01:45.796600",
     "exception": false,
     "start_time": "2020-09-11T06:01:45.625875",
     "status": "completed"
    },
    "tags": []
   },
   "outputs": [],
   "source": [
    "# Function for all steps of Kmean Clustering; Call with K=3,4,5\n",
    "def K_means_model(k):\n",
    "    kmean = KMeans(n_clusters = k, random_state = 50+k)\n",
    "    kmean.fit(country_df_scaled)\n",
    "    country_df_kmean = country_df.copy() # copy the actual data into a new dataframe to explain the cluster profiling\n",
    "    label  = pd.DataFrame(kmean.labels_, columns= ['k_means_cluster_label'])\n",
    "    country_df_kmean = pd.concat([country_df_kmean, label], axis =1) # assign the countries with the cluster labels.\n",
    "    print(\"Number of countries in each cluster(k=%s):\" %k)\n",
    "    print(country_df_kmean.k_means_cluster_label.value_counts())# shows how many countries are in each cluster\n",
    "    return(country_df_kmean) # returns clustered labelled dataset for further analysis"
   ]
  },
  {
   "cell_type": "code",
   "execution_count": null,
   "metadata": {
    "papermill": {
     "duration": 0.304451,
     "end_time": "2020-09-11T06:01:46.259975",
     "exception": false,
     "start_time": "2020-09-11T06:01:45.955524",
     "status": "completed"
    },
    "tags": []
   },
   "outputs": [],
   "source": [
    "# Created Models are available globally to access inside cluster profiling functions\n",
    "k_3_model = K_means_model(3) # K means model with 3 clusters\n",
    "k_4_model = K_means_model(4) # K means model with 4 clusters\n",
    "k_5_model = K_means_model(5) # K means model with 5 clusters"
   ]
  },
  {
   "cell_type": "markdown",
   "metadata": {
    "papermill": {
     "duration": 0.159442,
     "end_time": "2020-09-11T06:01:46.577888",
     "exception": false,
     "start_time": "2020-09-11T06:01:46.418446",
     "status": "completed"
    },
    "tags": []
   },
   "source": [
    "### Cluster Analysis:\n",
    "\n",
    "We can see that when there are 3 or 4 clusters, there are some distribution of countries. When there are 5 clusters, there is a country which is in a separate cluster. This would make actionable items a bit tedious. We will progress with these 3 models and profile the clusters created by each model based on 3 important parameters i.e **GDPP, Income and Child_mortality** and see which is a good value of k."
   ]
  },
  {
   "cell_type": "code",
   "execution_count": null,
   "metadata": {
    "papermill": {
     "duration": 0.172912,
     "end_time": "2020-09-11T06:01:46.910317",
     "exception": false,
     "start_time": "2020-09-11T06:01:46.737405",
     "status": "completed"
    },
    "tags": []
   },
   "outputs": [],
   "source": [
    "# Function for Profiling Clusters to plot scatter plots\n",
    "def clusters_scatter_plots(col1, col2):\n",
    "    plt.figure(figsize=(18,8))\n",
    "    plt.subplot(2,2,1)\n",
    "    sns.scatterplot(x = col1, y = col2, hue = 'k_means_cluster_label', data = k_3_model, palette=['blue','green','red'])\n",
    "    plt.subplot(2,2,2)\n",
    "    sns.scatterplot(x = col1, y = col2, hue = 'k_means_cluster_label', data = k_4_model, palette=['orange','blue','green','red'])\n",
    "    plt.subplot(2,2,3)\n",
    "    sns.scatterplot(x = col1, y = col2, hue = 'k_means_cluster_label', data = k_5_model, palette=['red','orange','maroon','green','blue'])"
   ]
  },
  {
   "cell_type": "markdown",
   "metadata": {
    "papermill": {
     "duration": 0.157476,
     "end_time": "2020-09-11T06:01:47.226029",
     "exception": false,
     "start_time": "2020-09-11T06:01:47.068553",
     "status": "completed"
    },
    "tags": []
   },
   "source": [
    "### Visualization of GDPP vs Income when k=3,4,5"
   ]
  },
  {
   "cell_type": "code",
   "execution_count": null,
   "metadata": {
    "papermill": {
     "duration": 0.756862,
     "end_time": "2020-09-11T06:01:48.140450",
     "exception": false,
     "start_time": "2020-09-11T06:01:47.383588",
     "status": "completed"
    },
    "tags": []
   },
   "outputs": [],
   "source": [
    "clusters_scatter_plots('gdpp','income')"
   ]
  },
  {
   "cell_type": "markdown",
   "metadata": {
    "papermill": {
     "duration": 0.15869,
     "end_time": "2020-09-11T06:01:48.460312",
     "exception": false,
     "start_time": "2020-09-11T06:01:48.301622",
     "status": "completed"
    },
    "tags": []
   },
   "source": [
    "### INFERENCES:\n",
    "\n",
    "- When there are 3 or 4 clusters, there is a distinct separation of the clusters.\n",
    "- When there are 5 clusters, as we have seen previously that one of the clusters has just one country, it cannot be seen evidently here.\n",
    "\n",
    "Lets visualize the clusters more and see which helps in understanding the clusters and identifying countries in need."
   ]
  },
  {
   "cell_type": "markdown",
   "metadata": {
    "papermill": {
     "duration": 0.160676,
     "end_time": "2020-09-11T06:01:48.781610",
     "exception": false,
     "start_time": "2020-09-11T06:01:48.620934",
     "status": "completed"
    },
    "tags": []
   },
   "source": [
    "### Visualization of GDPP vs Child mortality when k=3,4,5"
   ]
  },
  {
   "cell_type": "code",
   "execution_count": null,
   "metadata": {
    "papermill": {
     "duration": 0.938286,
     "end_time": "2020-09-11T06:01:49.880590",
     "exception": false,
     "start_time": "2020-09-11T06:01:48.942304",
     "status": "completed"
    },
    "tags": []
   },
   "outputs": [],
   "source": [
    "clusters_scatter_plots('gdpp','child_mort')"
   ]
  },
  {
   "cell_type": "markdown",
   "metadata": {
    "papermill": {
     "duration": 0.168222,
     "end_time": "2020-09-11T06:01:50.212232",
     "exception": false,
     "start_time": "2020-09-11T06:01:50.044010",
     "status": "completed"
    },
    "tags": []
   },
   "source": [
    "### INFERENCES:\n",
    "\n",
    "This plot is very helpful to see the clustered groups. For e.g. when k=3, we see that cluster 2 require aid as their gdpp is low and child mortality is pretty high.\n",
    "\n",
    "As the cluster labels are picked in random and assigned, we can see similar group is represented as 3 when k=4 and k=5."
   ]
  },
  {
   "cell_type": "markdown",
   "metadata": {
    "papermill": {
     "duration": 0.163612,
     "end_time": "2020-09-11T06:01:50.537908",
     "exception": false,
     "start_time": "2020-09-11T06:01:50.374296",
     "status": "completed"
    },
    "tags": []
   },
   "source": [
    "### Visualization of Child mortality vs Income when k=3,4,5"
   ]
  },
  {
   "cell_type": "code",
   "execution_count": null,
   "metadata": {
    "papermill": {
     "duration": 0.719797,
     "end_time": "2020-09-11T06:01:51.426164",
     "exception": false,
     "start_time": "2020-09-11T06:01:50.706367",
     "status": "completed"
    },
    "tags": []
   },
   "outputs": [],
   "source": [
    "clusters_scatter_plots('income','child_mort')"
   ]
  },
  {
   "cell_type": "markdown",
   "metadata": {
    "papermill": {
     "duration": 0.164691,
     "end_time": "2020-09-11T06:01:51.758078",
     "exception": false,
     "start_time": "2020-09-11T06:01:51.593387",
     "status": "completed"
    },
    "tags": []
   },
   "source": [
    "### INFERENCES:\n",
    "\n",
    "As we saw in previous two scatter plots, we can see that same cluster which had bad child_moratality rate and low gdpp has low income in this plot."
   ]
  },
  {
   "cell_type": "markdown",
   "metadata": {
    "papermill": {
     "duration": 0.163256,
     "end_time": "2020-09-11T06:01:52.086839",
     "exception": false,
     "start_time": "2020-09-11T06:01:51.923583",
     "status": "completed"
    },
    "tags": []
   },
   "source": [
    "### Visualization of univariate distributions when k=3,4,5\n",
    "\n",
    "Lets also do some boxplots to understand the gdpp, income and child_mortality data distributions within each cluster:"
   ]
  },
  {
   "cell_type": "code",
   "execution_count": null,
   "metadata": {
    "papermill": {
     "duration": 0.18247,
     "end_time": "2020-09-11T06:01:52.433322",
     "exception": false,
     "start_time": "2020-09-11T06:01:52.250852",
     "status": "completed"
    },
    "tags": []
   },
   "outputs": [],
   "source": [
    "# Function for Profiling Clusters to plot box plots\n",
    "def clusters_box_plots(column_name, logy=False):\n",
    "    #plt.figure(figsize=(18,8))\n",
    "    \n",
    "    if logy:\n",
    "        i=1\n",
    "    else:\n",
    "        i=0\n",
    "    \n",
    "    plt.subplot(2+i,2,1)\n",
    "    sns.boxplot(x = 'k_means_cluster_label', y = column_name, data = k_3_model, palette=['red','green','blue'])\n",
    "    if logy:\n",
    "        plt.subplot(3,2,2)\n",
    "        sns.boxplot(x = 'k_means_cluster_label', y = column_name, data = k_3_model, palette=['red','green','blue'])\n",
    "        plt.yscale('log')\n",
    "\n",
    "    plt.subplot(2+i,2,2+i)\n",
    "    sns.boxplot(x = 'k_means_cluster_label', y = column_name, data = k_4_model, palette=['orange', 'blue','green','red'])    \n",
    "    if logy:\n",
    "        plt.subplot(3,2,4)\n",
    "        sns.boxplot(x = 'k_means_cluster_label', y = column_name, data = k_4_model, palette=['orange','blue','green','red'])\n",
    "        plt.yscale('log')\n",
    "        \n",
    "    plt.subplot(2+i,2,3+i+i)\n",
    "    sns.boxplot(x = 'k_means_cluster_label', y = column_name, data = k_5_model, palette=['red','blue','maroon','green','orange'])\n",
    "    if logy:\n",
    "        plt.subplot(3,2,6)\n",
    "        sns.boxplot(x = 'k_means_cluster_label', y = column_name, data = k_5_model, palette=['red','blue','maroon','green','orange'])\n",
    "        plt.yscale('log')    "
   ]
  },
  {
   "cell_type": "markdown",
   "metadata": {
    "papermill": {
     "duration": 0.166355,
     "end_time": "2020-09-11T06:01:52.766891",
     "exception": false,
     "start_time": "2020-09-11T06:01:52.600536",
     "status": "completed"
    },
    "tags": []
   },
   "source": [
    "### Visualization of GDPP distribution when k=3,4,5"
   ]
  },
  {
   "cell_type": "code",
   "execution_count": null,
   "metadata": {
    "papermill": {
     "duration": 1.620049,
     "end_time": "2020-09-11T06:01:54.550033",
     "exception": false,
     "start_time": "2020-09-11T06:01:52.929984",
     "status": "completed"
    },
    "tags": []
   },
   "outputs": [],
   "source": [
    "plt.figure(figsize = (18,16))\n",
    "clusters_box_plots('gdpp',True) # log scaled\n",
    "plt.show()"
   ]
  },
  {
   "cell_type": "markdown",
   "metadata": {
    "papermill": {
     "duration": 0.16877,
     "end_time": "2020-09-11T06:01:54.886720",
     "exception": false,
     "start_time": "2020-09-11T06:01:54.717950",
     "status": "completed"
    },
    "tags": []
   },
   "source": [
    "### INFERENCES:\n",
    "\n",
    "- First set of 3 plots at the left show the distribution without log scale and the next 3 plots show the distribution with GDPP log scaled\n",
    "- GDPP of the developed countries are so high that we are unable to see the GDPP of the poor countries properly in this boxplot.\n",
    "- From the right side 3 plots, it can be seen that GDPP of cluster 0 is in the range of 10000(10^4) and cluster 1 is in 100000(10^5) whereas cluster 2 is in range of 10^3 indicating help\n",
    "- There is a slight overlap in the clusters when k=5 and k=4"
   ]
  },
  {
   "cell_type": "markdown",
   "metadata": {
    "papermill": {
     "duration": 0.169974,
     "end_time": "2020-09-11T06:01:55.223728",
     "exception": false,
     "start_time": "2020-09-11T06:01:55.053754",
     "status": "completed"
    },
    "tags": []
   },
   "source": [
    "### Visualization of Income distribution when k=3,4,5"
   ]
  },
  {
   "cell_type": "code",
   "execution_count": null,
   "metadata": {
    "papermill": {
     "duration": 1.742018,
     "end_time": "2020-09-11T06:01:57.131881",
     "exception": false,
     "start_time": "2020-09-11T06:01:55.389863",
     "status": "completed"
    },
    "tags": []
   },
   "outputs": [],
   "source": [
    "plt.figure(figsize = (18,16))\n",
    "clusters_box_plots('income',True) # log scaled\n",
    "plt.show()"
   ]
  },
  {
   "cell_type": "markdown",
   "metadata": {
    "papermill": {
     "duration": 0.167123,
     "end_time": "2020-09-11T06:01:57.468751",
     "exception": false,
     "start_time": "2020-09-11T06:01:57.301628",
     "status": "completed"
    },
    "tags": []
   },
   "source": [
    "### INFERENCES:\n",
    "\n",
    "- Income follows the same pattern as that of GDPP.\n",
    "- The clusters are seggregated well when k=3 and slightly overlaps when k=4 and k=5\n",
    "- k=3 seems to be a good indicator of k as the cohesion within the cluster is good and clusters are well separated."
   ]
  },
  {
   "cell_type": "markdown",
   "metadata": {
    "papermill": {
     "duration": 0.166695,
     "end_time": "2020-09-11T06:01:57.803871",
     "exception": false,
     "start_time": "2020-09-11T06:01:57.637176",
     "status": "completed"
    },
    "tags": []
   },
   "source": [
    "### Visualization of Child mortality distribution when k=3,4,5"
   ]
  },
  {
   "cell_type": "code",
   "execution_count": null,
   "metadata": {
    "papermill": {
     "duration": 0.622596,
     "end_time": "2020-09-11T06:01:58.595559",
     "exception": false,
     "start_time": "2020-09-11T06:01:57.972963",
     "status": "completed"
    },
    "tags": []
   },
   "outputs": [],
   "source": [
    "plt.figure(figsize = (16,10))\n",
    "clusters_box_plots('child_mort')\n",
    "plt.show()"
   ]
  },
  {
   "cell_type": "markdown",
   "metadata": {
    "papermill": {
     "duration": 0.172354,
     "end_time": "2020-09-11T06:01:58.940168",
     "exception": false,
     "start_time": "2020-09-11T06:01:58.767814",
     "status": "completed"
    },
    "tags": []
   },
   "source": [
    "### INFERENCES:\n",
    "\n",
    "- Child mortality follows the opposite pattern of GDPP and income.\n",
    "- Clusters which were high on GDPP and income have less child mortality, indicating that these countries have ample amount of money to take care of child mortaliy and health issues.\n",
    "- We can see that k=3 gives good clusters as the cohesion within the cluster is good and clusters are well separated."
   ]
  },
  {
   "cell_type": "markdown",
   "metadata": {
    "papermill": {
     "duration": 0.169724,
     "end_time": "2020-09-11T06:01:59.280155",
     "exception": false,
     "start_time": "2020-09-11T06:01:59.110431",
     "status": "completed"
    },
    "tags": []
   },
   "source": [
    "### Visualization of Mean of GDPP, income and Child mortality when k=3,4,5"
   ]
  },
  {
   "cell_type": "code",
   "execution_count": null,
   "metadata": {
    "papermill": {
     "duration": 0.723174,
     "end_time": "2020-09-11T06:02:00.173629",
     "exception": false,
     "start_time": "2020-09-11T06:01:59.450455",
     "status": "completed"
    },
    "tags": []
   },
   "outputs": [],
   "source": [
    "plt.figure(figsize=(18,8))\n",
    "grouped_df_k3 = k_3_model[['gdpp', 'income', 'child_mort','k_means_cluster_label']].groupby('k_means_cluster_label').mean()\n",
    "axes = grouped_df_k3.plot.bar(subplots=True)\n",
    "plt.show()"
   ]
  },
  {
   "cell_type": "markdown",
   "metadata": {
    "papermill": {
     "duration": 0.170165,
     "end_time": "2020-09-11T06:02:00.516113",
     "exception": false,
     "start_time": "2020-09-11T06:02:00.345948",
     "status": "completed"
    },
    "tags": []
   },
   "source": [
    "### INFERENCES:\n",
    "\n",
    "When K=3, the clusters can be profiled as\n",
    "- 0 : Medium GDPP, medium Income and mild child mortality rate.\n",
    "- 1 : High GDPP, High income and very low child mortality rate.\n",
    "- 2 : Low GDPP, Low income and very high mortality rate."
   ]
  },
  {
   "cell_type": "code",
   "execution_count": null,
   "metadata": {
    "papermill": {
     "duration": 0.862307,
     "end_time": "2020-09-11T06:02:01.575279",
     "exception": false,
     "start_time": "2020-09-11T06:02:00.712972",
     "status": "completed"
    },
    "tags": []
   },
   "outputs": [],
   "source": [
    "# Profiling GDP, INCOME AND CHID_MORT together\n",
    "\n",
    "grouped_df_k3.plot(kind='bar', colormap='Accent')    \n",
    "grouped_df_k3.plot(kind='bar',logy=True, colormap='Accent')    \n",
    "plt.show()"
   ]
  },
  {
   "cell_type": "markdown",
   "metadata": {
    "papermill": {
     "duration": 0.173962,
     "end_time": "2020-09-11T06:02:01.925473",
     "exception": false,
     "start_time": "2020-09-11T06:02:01.751511",
     "status": "completed"
    },
    "tags": []
   },
   "source": [
    "### INFERENCES:\n",
    "\n",
    "This gives a very good inference about each cluster.\n",
    "\n",
    "- 0 : Medium GDPP, medium Income and mild child mortality rate.\n",
    "- 1 : High GDPP, High income and very low child mortality rate.\n",
    "- 2 : Low GDPP, Low income and very high mortality rate and has to be focussed."
   ]
  },
  {
   "cell_type": "code",
   "execution_count": null,
   "metadata": {
    "papermill": {
     "duration": 0.761614,
     "end_time": "2020-09-11T06:02:02.860254",
     "exception": false,
     "start_time": "2020-09-11T06:02:02.098640",
     "status": "completed"
    },
    "tags": []
   },
   "outputs": [],
   "source": [
    "plt.figure(figsize=(18,8))\n",
    "grouped_df_k4 = k_4_model[['gdpp', 'income', 'child_mort','k_means_cluster_label']].groupby('k_means_cluster_label').mean()\n",
    "axes = grouped_df_k4.plot.bar(subplots=True)\n",
    "plt.show()"
   ]
  },
  {
   "cell_type": "markdown",
   "metadata": {
    "papermill": {
     "duration": 0.172479,
     "end_time": "2020-09-11T06:02:03.207940",
     "exception": false,
     "start_time": "2020-09-11T06:02:03.035461",
     "status": "completed"
    },
    "tags": []
   },
   "source": [
    "### INFERENCES:\n",
    "\n",
    "When K=4, the clusters 1 and 2 are a bit similar and it seems to be in same cluster when k=3. Lets profile the clusters as\n",
    "- 0 : Medium GDPP, medium Income and mild child mortality rate.\n",
    "- 1 : High GDPP, High income and very low child mortality rate.\n",
    "- 2 : Very high GDPP, Very high income and very low child mortality rate.\n",
    "- 3 : Low GDPP, Low income and very high mortality rate\n",
    "\n",
    "Since we are concerned about the countries not doing well, this granular seggregation of countries doing well is not of our primary concern. "
   ]
  },
  {
   "cell_type": "code",
   "execution_count": null,
   "metadata": {
    "papermill": {
     "duration": 0.772024,
     "end_time": "2020-09-11T06:02:04.152379",
     "exception": false,
     "start_time": "2020-09-11T06:02:03.380355",
     "status": "completed"
    },
    "tags": []
   },
   "outputs": [],
   "source": [
    "# Profiling GDP, INCOME AND CHID_MORT together\n",
    "grouped_df_k4.plot(kind='bar', colormap='Accent')    \n",
    "grouped_df_k4.plot(kind='bar',logy=True, colormap='Accent')    \n",
    "plt.show()"
   ]
  },
  {
   "cell_type": "markdown",
   "metadata": {
    "papermill": {
     "duration": 0.174422,
     "end_time": "2020-09-11T06:02:04.503564",
     "exception": false,
     "start_time": "2020-09-11T06:02:04.329142",
     "status": "completed"
    },
    "tags": []
   },
   "source": [
    "### INFERENCES:\n",
    "\n",
    "Not much of difference between clusters 2 and 1 and these can be represented in a single cluster leading to k=3 being a good number"
   ]
  },
  {
   "cell_type": "code",
   "execution_count": null,
   "metadata": {
    "papermill": {
     "duration": 0.698262,
     "end_time": "2020-09-11T06:02:05.377665",
     "exception": false,
     "start_time": "2020-09-11T06:02:04.679403",
     "status": "completed"
    },
    "tags": []
   },
   "outputs": [],
   "source": [
    "plt.figure(figsize=(18,8))\n",
    "grouped_df_k5 = k_5_model[['gdpp', 'income', 'child_mort','k_means_cluster_label']].groupby('k_means_cluster_label').mean()\n",
    "axes = grouped_df_k5.plot.bar(subplots=True)\n",
    "plt.show()"
   ]
  },
  {
   "cell_type": "markdown",
   "metadata": {
    "papermill": {
     "duration": 0.181858,
     "end_time": "2020-09-11T06:02:05.736851",
     "exception": false,
     "start_time": "2020-09-11T06:02:05.554993",
     "status": "completed"
    },
    "tags": []
   },
   "source": [
    "### INFERENCES:\n",
    "\n",
    "- The clusters 1 and 3 are a bit similar and it seems to be in same cluster when k=3 \n",
    "- Cluster 4 is not effective as its just one country and we cannot compare it with other clusters.So k=5 is not effective for identifying the countries that are in need of aid."
   ]
  },
  {
   "cell_type": "code",
   "execution_count": null,
   "metadata": {
    "papermill": {
     "duration": 0.910812,
     "end_time": "2020-09-11T06:02:06.823079",
     "exception": false,
     "start_time": "2020-09-11T06:02:05.912267",
     "status": "completed"
    },
    "tags": []
   },
   "outputs": [],
   "source": [
    "# Profiling GDP, INCOME AND CHID_MORT together\n",
    "grouped_df_k5.plot(kind='bar', colormap='Accent')    \n",
    "grouped_df_k5.plot(kind='bar',logy=True, colormap='Accent')    \n",
    "plt.show()"
   ]
  },
  {
   "cell_type": "code",
   "execution_count": null,
   "metadata": {
    "papermill": {
     "duration": 0.197657,
     "end_time": "2020-09-11T06:02:07.199006",
     "exception": false,
     "start_time": "2020-09-11T06:02:07.001349",
     "status": "completed"
    },
    "tags": []
   },
   "outputs": [],
   "source": [
    "k_5_model[k_5_model['k_means_cluster_label']==4]"
   ]
  },
  {
   "cell_type": "markdown",
   "metadata": {
    "papermill": {
     "duration": 0.178621,
     "end_time": "2020-09-11T06:02:07.555565",
     "exception": false,
     "start_time": "2020-09-11T06:02:07.376944",
     "status": "completed"
    },
    "tags": []
   },
   "source": [
    "### INFERENCES:\n",
    "\n",
    "When K=5, we saw that there was only one country in cluster 4.\n",
    "\n",
    "- Clusters 1 and 3 are similar\n",
    "- Cluster 0 and 4 are also similar.\n",
    "\n",
    "Our concern is on clusters 2 and 3. But if they are spread across clusters, its difficult to find which country needs the aid at most than the other. So lets go with k=3 as optimal number of clusters."
   ]
  },
  {
   "cell_type": "markdown",
   "metadata": {
    "papermill": {
     "duration": 0.178438,
     "end_time": "2020-09-11T06:02:07.913414",
     "exception": false,
     "start_time": "2020-09-11T06:02:07.734976",
     "status": "completed"
    },
    "tags": []
   },
   "source": [
    "### 4.3 Final Model: K-means clustering with K =3 `\n",
    "\n",
    "Now that we have solved the biggest challenge in K-means algorithm i.e. Find the optimal value of k, we can build our final model using k=3. Lets run `K-means` algorithm on the scaled data set as the clustering takes Euclidean distance as a measure"
   ]
  },
  {
   "cell_type": "code",
   "execution_count": null,
   "metadata": {
    "papermill": {
     "duration": 0.227205,
     "end_time": "2020-09-11T06:02:08.318189",
     "exception": false,
     "start_time": "2020-09-11T06:02:08.090984",
     "status": "completed"
    },
    "tags": []
   },
   "outputs": [],
   "source": [
    "kmean = KMeans(n_clusters = 3, random_state = 50)\n",
    "kmean.fit(country_df_scaled)"
   ]
  },
  {
   "cell_type": "markdown",
   "metadata": {
    "papermill": {
     "duration": 0.183765,
     "end_time": "2020-09-11T06:02:08.680904",
     "exception": false,
     "start_time": "2020-09-11T06:02:08.497139",
     "status": "completed"
    },
    "tags": []
   },
   "source": [
    "#### Creating Cluster labels using K-means\n",
    "Since scaled data will be a bit confusing while explaining to business people, we will copy the actual data into a new dataframe to explain the cluster labels. We will use this `country_df_kmean_3` for cluster profiling. Lets create a column called `k_means_cluster_label` and concatenate to the `country_df_kmean_3` to assign the countries with the cluster labels."
   ]
  },
  {
   "cell_type": "code",
   "execution_count": null,
   "metadata": {
    "papermill": {
     "duration": 0.195658,
     "end_time": "2020-09-11T06:02:09.056410",
     "exception": false,
     "start_time": "2020-09-11T06:02:08.860752",
     "status": "completed"
    },
    "tags": []
   },
   "outputs": [],
   "source": [
    "country_df_kmean = country_df.copy() # copy df into new df, as the same df will be used for hierarchical clustering too.\n",
    "label  = pd.DataFrame(kmean.labels_, columns= ['k_means_cluster_label'])\n",
    "label.head()"
   ]
  },
  {
   "cell_type": "code",
   "execution_count": null,
   "metadata": {
    "papermill": {
     "duration": 0.199452,
     "end_time": "2020-09-11T06:02:09.434835",
     "exception": false,
     "start_time": "2020-09-11T06:02:09.235383",
     "status": "completed"
    },
    "tags": []
   },
   "outputs": [],
   "source": [
    "country_df_kmean = pd.concat([country_df_kmean, label], axis =1)\n",
    "country_df_kmean.head()"
   ]
  },
  {
   "cell_type": "markdown",
   "metadata": {
    "papermill": {
     "duration": 0.179459,
     "end_time": "2020-09-11T06:02:09.794229",
     "exception": false,
     "start_time": "2020-09-11T06:02:09.614770",
     "status": "completed"
    },
    "tags": []
   },
   "source": [
    "### 4.4 INITIAL CLUSTER PROFILING\n",
    "\n",
    "- `value_counts` shows how many countries are clustered under each cluster label. \n",
    "- Lets analyse these 3 clusters and see if we can profile these clusters by comparing their `gdpp`, `child_mort`, `income`\n",
    "- Lets visualize these clusters using `scatter plots`, `barplots` and `boxplots`\n",
    "- We also need to analyse the clusters and see if k=3 helps us to identify the countries which are in dire need of aid"
   ]
  },
  {
   "cell_type": "code",
   "execution_count": null,
   "metadata": {
    "papermill": {
     "duration": 0.190735,
     "end_time": "2020-09-11T06:02:10.165587",
     "exception": false,
     "start_time": "2020-09-11T06:02:09.974852",
     "status": "completed"
    },
    "tags": []
   },
   "outputs": [],
   "source": [
    "country_df_kmean.k_means_cluster_label.value_counts()"
   ]
  },
  {
   "cell_type": "code",
   "execution_count": null,
   "metadata": {
    "papermill": {
     "duration": 0.723793,
     "end_time": "2020-09-11T06:02:11.070011",
     "exception": false,
     "start_time": "2020-09-11T06:02:10.346218",
     "status": "completed"
    },
    "tags": []
   },
   "outputs": [],
   "source": [
    "# Profiling GDP, INCOME AND CHID_MORT in separate plots\n",
    "\n",
    "grouped_df = country_df_kmean[['gdpp', 'income', 'child_mort','k_means_cluster_label']].groupby('k_means_cluster_label').mean()\n",
    "axes = grouped_df.plot.bar(subplots=True)\n",
    "plt.show()"
   ]
  },
  {
   "cell_type": "code",
   "execution_count": null,
   "metadata": {
    "papermill": {
     "duration": 0.808913,
     "end_time": "2020-09-11T06:02:12.068461",
     "exception": false,
     "start_time": "2020-09-11T06:02:11.259548",
     "status": "completed"
    },
    "tags": []
   },
   "outputs": [],
   "source": [
    "# Profiling GDP, INCOME AND CHID_MORT together\n",
    "grouped_df.plot(kind='bar', colormap='Accent')\n",
    "grouped_df.plot(kind='bar',logy=True, colormap='Accent')"
   ]
  },
  {
   "cell_type": "markdown",
   "metadata": {
    "papermill": {
     "duration": 0.225471,
     "end_time": "2020-09-11T06:02:12.478889",
     "exception": false,
     "start_time": "2020-09-11T06:02:12.253418",
     "status": "completed"
    },
    "tags": []
   },
   "source": [
    "### INFERENCES:\n",
    "\n",
    "From the above three plots, We can see that the clusters are grouped as\n",
    "- 0 : Medium GDPP, medium Income and mild child mortality rate.\n",
    "- 1 : High GDPP, High income and very low child mortality rate.\n",
    "- 2 : Low GDPP, Low income and very high mortality rate."
   ]
  },
  {
   "cell_type": "markdown",
   "metadata": {
    "papermill": {
     "duration": 0.18446,
     "end_time": "2020-09-11T06:02:12.851197",
     "exception": false,
     "start_time": "2020-09-11T06:02:12.666737",
     "status": "completed"
    },
    "tags": []
   },
   "source": [
    "### 4.5 Countries Segmentation\n",
    "\n",
    "We can rename the labels for better business understanding as cluster label 0, 1 and 2 does not make sense to interpret. Then we will perform the cluster profiling with new labels.\n",
    "\n",
    "Lets rename the cluster labesl as \n",
    "- 0 : Developing Countries\n",
    "- 1 : Developed Countries\n",
    "- 2 : Under-developed Countries\n",
    "\n",
    "This would help the NGO to recognise and differentiate the clusters of developed countries from the clusters of under-developed countries and focus on **Cluster 2: Under-developed Countries**"
   ]
  },
  {
   "cell_type": "code",
   "execution_count": null,
   "metadata": {
    "papermill": {
     "duration": 0.217736,
     "end_time": "2020-09-11T06:02:13.252255",
     "exception": false,
     "start_time": "2020-09-11T06:02:13.034519",
     "status": "completed"
    },
    "tags": []
   },
   "outputs": [],
   "source": [
    "# Medium income, Medium GDP and Slightly high Child_mort\n",
    "# Filter the data for that clsuter\n",
    "\n",
    "country_df_kmean.loc[country_df_kmean['k_means_cluster_label'] == 0,'k_means_cluster_label'] ='Developing Countries'\n",
    "country_df_kmean[country_df_kmean['k_means_cluster_label'] == 'Developing Countries']"
   ]
  },
  {
   "cell_type": "code",
   "execution_count": null,
   "metadata": {
    "papermill": {
     "duration": 0.228012,
     "end_time": "2020-09-11T06:02:13.664820",
     "exception": false,
     "start_time": "2020-09-11T06:02:13.436808",
     "status": "completed"
    },
    "tags": []
   },
   "outputs": [],
   "source": [
    "country_df_kmean[country_df_kmean['k_means_cluster_label'] == 'Developing Countries'].describe()"
   ]
  },
  {
   "cell_type": "markdown",
   "metadata": {
    "papermill": {
     "duration": 0.187779,
     "end_time": "2020-09-11T06:02:14.038042",
     "exception": false,
     "start_time": "2020-09-11T06:02:13.850263",
     "status": "completed"
    },
    "tags": []
   },
   "source": [
    "Summary statistics show that the variation within the group is very less and mean and median are so close. So this clustering is good."
   ]
  },
  {
   "cell_type": "code",
   "execution_count": null,
   "metadata": {
    "papermill": {
     "duration": 0.218754,
     "end_time": "2020-09-11T06:02:14.445206",
     "exception": false,
     "start_time": "2020-09-11T06:02:14.226452",
     "status": "completed"
    },
    "tags": []
   },
   "outputs": [],
   "source": [
    "# Developed Countries: High income, High GDP and Low Child_mort\n",
    "# Filter the data for that clsuter\n",
    "country_df_kmean.loc[country_df_kmean['k_means_cluster_label'] == 1,'k_means_cluster_label'] ='Developed Countries'\n",
    "country_df_kmean[country_df_kmean['k_means_cluster_label'] == 'Developed Countries']"
   ]
  },
  {
   "cell_type": "code",
   "execution_count": null,
   "metadata": {
    "papermill": {
     "duration": 0.267645,
     "end_time": "2020-09-11T06:02:14.902049",
     "exception": false,
     "start_time": "2020-09-11T06:02:14.634404",
     "status": "completed"
    },
    "tags": []
   },
   "outputs": [],
   "source": [
    "country_df_kmean[country_df_kmean['k_means_cluster_label'] == 'Developed Countries'].describe()"
   ]
  },
  {
   "cell_type": "markdown",
   "metadata": {
    "papermill": {
     "duration": 0.187324,
     "end_time": "2020-09-11T06:02:15.291004",
     "exception": false,
     "start_time": "2020-09-11T06:02:15.103680",
     "status": "completed"
    },
    "tags": []
   },
   "source": [
    "Summary statistics show that the variation within the group is very less and mean and median are so close. So this clustering is good.\n",
    "\n",
    "Also the stats of this cluster and the previous cluster has wide difference."
   ]
  },
  {
   "cell_type": "code",
   "execution_count": null,
   "metadata": {
    "papermill": {
     "duration": 0.236456,
     "end_time": "2020-09-11T06:02:15.714999",
     "exception": false,
     "start_time": "2020-09-11T06:02:15.478543",
     "status": "completed"
    },
    "tags": []
   },
   "outputs": [],
   "source": [
    "# Under-Developed Countries:Low income, Low GDP and High Child_mort\n",
    "# Filter the data for that clsuter\n",
    "\n",
    "country_df_kmean.loc[country_df_kmean['k_means_cluster_label'] == 2,'k_means_cluster_label'] ='Under-Developed Countries'\n",
    "country_df_kmean[country_df_kmean['k_means_cluster_label'] == 'Under-Developed Countries']"
   ]
  },
  {
   "cell_type": "code",
   "execution_count": null,
   "metadata": {
    "papermill": {
     "duration": 0.23319,
     "end_time": "2020-09-11T06:02:16.140180",
     "exception": false,
     "start_time": "2020-09-11T06:02:15.906990",
     "status": "completed"
    },
    "tags": []
   },
   "outputs": [],
   "source": [
    "country_df_kmean[country_df_kmean['k_means_cluster_label'] == 'Under-Developed Countries'].describe()"
   ]
  },
  {
   "cell_type": "markdown",
   "metadata": {
    "papermill": {
     "duration": 0.18897,
     "end_time": "2020-09-11T06:02:16.523366",
     "exception": false,
     "start_time": "2020-09-11T06:02:16.334396",
     "status": "completed"
    },
    "tags": []
   },
   "source": [
    "Summary statistics show that the variation within the group is very less and mean and median are so close. So this clustering is good.\n",
    "\n",
    "Also the stats of this cluster and the previous clusters has wide difference.\n",
    "\n",
    "Hence cohesion and separation are well preserved in this clustering"
   ]
  },
  {
   "cell_type": "markdown",
   "metadata": {
    "papermill": {
     "duration": 0.19044,
     "end_time": "2020-09-11T06:02:16.913233",
     "exception": false,
     "start_time": "2020-09-11T06:02:16.722793",
     "status": "completed"
    },
    "tags": []
   },
   "source": [
    "Now that we have segmented the clusters and renamed properly, it will be easy to interpret the plots. Lets do the cluster profiling with the new cluster labels. "
   ]
  },
  {
   "cell_type": "markdown",
   "metadata": {
    "papermill": {
     "duration": 0.188036,
     "end_time": "2020-09-11T06:02:17.291980",
     "exception": false,
     "start_time": "2020-09-11T06:02:17.103944",
     "status": "completed"
    },
    "tags": []
   },
   "source": [
    "### 4.6 CLUSTER PROFILING WITH NEW LABELS"
   ]
  },
  {
   "cell_type": "code",
   "execution_count": null,
   "metadata": {
    "papermill": {
     "duration": 0.198252,
     "end_time": "2020-09-11T06:02:17.677399",
     "exception": false,
     "start_time": "2020-09-11T06:02:17.479147",
     "status": "completed"
    },
    "tags": []
   },
   "outputs": [],
   "source": [
    "profiling_cols = ['gdpp','child_mort','income'] # create a list to store profiling variables"
   ]
  },
  {
   "cell_type": "code",
   "execution_count": null,
   "metadata": {
    "papermill": {
     "duration": 0.793925,
     "end_time": "2020-09-11T06:02:18.665987",
     "exception": false,
     "start_time": "2020-09-11T06:02:17.872062",
     "status": "completed"
    },
    "tags": []
   },
   "outputs": [],
   "source": [
    "# Plot the cluster\n",
    "plt.figure(figsize=(18,8))\n",
    "i=0\n",
    "for i in range(len(profiling_cols)):\n",
    "    plt.subplot(2,2,i+1)\n",
    "    sns.scatterplot(x = profiling_cols[i], y = profiling_cols[(i+1)%len(profiling_cols)], hue = 'k_means_cluster_label', data = country_df_kmean, palette=['red','blue','darkgreen'])"
   ]
  },
  {
   "cell_type": "markdown",
   "metadata": {
    "papermill": {
     "duration": 0.198616,
     "end_time": "2020-09-11T06:02:19.062909",
     "exception": false,
     "start_time": "2020-09-11T06:02:18.864293",
     "status": "completed"
    },
    "tags": []
   },
   "source": [
    "### INFERENCES:\n",
    "\n",
    "These new labels help us to interpret the plots in a better fashion. We can see that \n",
    "- Developing countries have Medium GDPP, medium Income and mild child mortality rate.\n",
    "- Developed countries have High GDPP, High income and very low child mortality rate.\n",
    "- Under-Developed countries have Low GDPP, Low income and very high mortality rate and should be our primary focus."
   ]
  },
  {
   "cell_type": "code",
   "execution_count": null,
   "metadata": {
    "papermill": {
     "duration": 0.622731,
     "end_time": "2020-09-11T06:02:19.886588",
     "exception": false,
     "start_time": "2020-09-11T06:02:19.263857",
     "status": "completed"
    },
    "tags": []
   },
   "outputs": [],
   "source": [
    "# Plot the cluster\n",
    "plt.figure(figsize=(18,8))\n",
    "i=0\n",
    "for i in range(len(profiling_cols)):\n",
    "    plt.subplot(2,2,i+1)\n",
    "    sns.boxplot(x = 'k_means_cluster_label', y = profiling_cols[i], data = country_df_kmean, palette=['red','blue','darkgreen'])\n",
    "    plt.xlabel('')"
   ]
  },
  {
   "cell_type": "markdown",
   "metadata": {
    "papermill": {
     "duration": 0.197784,
     "end_time": "2020-09-11T06:02:20.279335",
     "exception": false,
     "start_time": "2020-09-11T06:02:20.081551",
     "status": "completed"
    },
    "tags": []
   },
   "source": [
    "### INFERENCES:\n",
    "\n",
    "The similar observation that we got from scatter plots can be seen in boxplots too. The clusters are grouped as\n",
    "- Developing countries have Medium GDPP, medium Income and mild child mortality rate.\n",
    "- Developed countries have High GDPP, High income and very low child mortality rate.\n",
    "- Under-Developed countries have Low GDPP, Low income and very high mortality rate and should be our primary focus.\n",
    "\n",
    "We can see that GDPP and income of the under-developed countries are so low that they are not seen properly in the same scale that of the developed countries."
   ]
  },
  {
   "cell_type": "code",
   "execution_count": null,
   "metadata": {
    "papermill": {
     "duration": 0.873874,
     "end_time": "2020-09-11T06:02:21.347456",
     "exception": false,
     "start_time": "2020-09-11T06:02:20.473582",
     "status": "completed"
    },
    "tags": []
   },
   "outputs": [],
   "source": [
    "# Profiling GDP, INCOME AND CHID_MORT in sub-plots\n",
    "plt.figure(figsize=(18,8))\n",
    "grouped_df = country_df_kmean[['gdpp', 'income', 'child_mort','k_means_cluster_label']].groupby('k_means_cluster_label').mean()\n",
    "axes = grouped_df.plot.bar(subplots=True)\n",
    "plt.show()"
   ]
  },
  {
   "cell_type": "markdown",
   "metadata": {
    "papermill": {
     "duration": 0.205229,
     "end_time": "2020-09-11T06:02:21.752125",
     "exception": false,
     "start_time": "2020-09-11T06:02:21.546896",
     "status": "completed"
    },
    "tags": []
   },
   "source": [
    "### INFERENCES:\n",
    "\n",
    "We can see the mean of the gdpp and income of the under-developed countries are so low when compared to developing or developed countries and we need to look further into this cluster to get the countries which are in most need of aid."
   ]
  },
  {
   "cell_type": "code",
   "execution_count": null,
   "metadata": {
    "papermill": {
     "duration": 0.807513,
     "end_time": "2020-09-11T06:02:22.753822",
     "exception": false,
     "start_time": "2020-09-11T06:02:21.946309",
     "status": "completed"
    },
    "tags": []
   },
   "outputs": [],
   "source": [
    "# Profiling GDP, INCOME AND CHID_MORT together from the above grouped_df\n",
    "grouped_df.plot(kind='bar', colormap='Accent')\n",
    "grouped_df.plot(kind='bar',logy=True, colormap='Accent')"
   ]
  },
  {
   "cell_type": "markdown",
   "metadata": {
    "papermill": {
     "duration": 0.210395,
     "end_time": "2020-09-11T06:02:23.189314",
     "exception": false,
     "start_time": "2020-09-11T06:02:22.978919",
     "status": "completed"
    },
    "tags": []
   },
   "source": [
    "### INFERENCES:\n",
    "\n",
    "The mean of each cluster show the similar observation and the grouping is done perfectly such that we can focus on cluster **Under-Developed Countries** as it has **Low GDPP, Low income and very high mortality rate.**"
   ]
  },
  {
   "cell_type": "markdown",
   "metadata": {
    "papermill": {
     "duration": 0.199504,
     "end_time": "2020-09-11T06:02:23.590065",
     "exception": false,
     "start_time": "2020-09-11T06:02:23.390561",
     "status": "completed"
    },
    "tags": []
   },
   "source": [
    "## 4.7 Identification of Top 10 countries that require aid on priority using K-means algorithm:"
   ]
  },
  {
   "cell_type": "code",
   "execution_count": null,
   "metadata": {
    "papermill": {
     "duration": 0.229069,
     "end_time": "2020-09-11T06:02:24.019899",
     "exception": false,
     "start_time": "2020-09-11T06:02:23.790830",
     "status": "completed"
    },
    "tags": []
   },
   "outputs": [],
   "source": [
    "K_top10 = country_df_kmean[country_df_kmean['k_means_cluster_label'] =='Under-Developed Countries'].sort_values(['gdpp', 'child_mort', 'income'], ascending = [True, False, True]).head(10)\n",
    "K_top10"
   ]
  },
  {
   "cell_type": "code",
   "execution_count": null,
   "metadata": {
    "papermill": {
     "duration": 0.20971,
     "end_time": "2020-09-11T06:02:24.428939",
     "exception": false,
     "start_time": "2020-09-11T06:02:24.219229",
     "status": "completed"
    },
    "tags": []
   },
   "outputs": [],
   "source": [
    "K_top10.country"
   ]
  },
  {
   "cell_type": "markdown",
   "metadata": {
    "papermill": {
     "duration": 0.201578,
     "end_time": "2020-09-11T06:02:24.828843",
     "exception": false,
     "start_time": "2020-09-11T06:02:24.627265",
     "status": "completed"
    },
    "tags": []
   },
   "source": [
    "These are the countries that require aid, identified by K-means algorithm. Lets use another technique called `Hierarchical clustering` and see if any other country requires aid much more than these countries and present our final analysis"
   ]
  },
  {
   "cell_type": "markdown",
   "metadata": {
    "papermill": {
     "duration": 0.198394,
     "end_time": "2020-09-11T06:02:25.228784",
     "exception": false,
     "start_time": "2020-09-11T06:02:25.030390",
     "status": "completed"
    },
    "tags": []
   },
   "source": [
    "# 5 Build unsupervised model using Hierarchical Clustering\n"
   ]
  },
  {
   "cell_type": "markdown",
   "metadata": {
    "papermill": {
     "duration": 0.197868,
     "end_time": "2020-09-11T06:02:25.624619",
     "exception": false,
     "start_time": "2020-09-11T06:02:25.426751",
     "status": "completed"
    },
    "tags": []
   },
   "source": [
    "- We have built an unsupervised model using K-means algorithm. Now lets create a model to cluster the countries using `Hierarchical Clustering`. \n",
    "- Hierarchical clustering starts by treating each observation as a separate cluster. \n",
    "- Then, it repeatedly executes the following two steps: \n",
    "  1. identify the two clusters that are closest together\n",
    "  2. merge the two most similar clusters. \n",
    "  \n",
    "This iterative process continues until all the clusters are merged together. The main output of Hierarchical Clustering is a `dendrogram`, which shows the hierarchical relationship between the clusters\n",
    "\n",
    "### Linkage Criteria\n",
    "\n",
    "- There are multiple linkage criteria which determines from where `Euclidean distance` is computed. \n",
    "- It can be computed between \n",
    "  - The two most similar parts of a cluster in a **single-linkage**\n",
    "  - The two least similar bits of a cluster in a **complete-linkage\n",
    "  - The center of the clusters in a mean or average-linkage\n",
    "  \n",
    "We will do both single and complete linkages here and try to interpret their dendograms."
   ]
  },
  {
   "cell_type": "markdown",
   "metadata": {
    "papermill": {
     "duration": 0.198919,
     "end_time": "2020-09-11T06:02:26.023563",
     "exception": false,
     "start_time": "2020-09-11T06:02:25.824644",
     "status": "completed"
    },
    "tags": []
   },
   "source": [
    "## 5.1 Single linkage"
   ]
  },
  {
   "cell_type": "code",
   "execution_count": null,
   "metadata": {
    "papermill": {
     "duration": 0.221081,
     "end_time": "2020-09-11T06:02:26.443285",
     "exception": false,
     "start_time": "2020-09-11T06:02:26.222204",
     "status": "completed"
    },
    "tags": []
   },
   "outputs": [],
   "source": [
    "country_df_scaled"
   ]
  },
  {
   "cell_type": "code",
   "execution_count": null,
   "metadata": {
    "papermill": {
     "duration": 3.757929,
     "end_time": "2020-09-11T06:02:30.402201",
     "exception": false,
     "start_time": "2020-09-11T06:02:26.644272",
     "status": "completed"
    },
    "tags": []
   },
   "outputs": [],
   "source": [
    "# single linkage\n",
    "mergings = linkage(country_df_scaled, method=\"single\", metric='euclidean')\n",
    "dendrogram(mergings)\n",
    "plt.show()"
   ]
  },
  {
   "cell_type": "markdown",
   "metadata": {
    "papermill": {
     "duration": 0.202043,
     "end_time": "2020-09-11T06:02:30.804144",
     "exception": false,
     "start_time": "2020-09-11T06:02:30.602101",
     "status": "completed"
    },
    "tags": []
   },
   "source": [
    "### INTERPRETATION OF DENDOGRAM:\n",
    "\n",
    "Single linkage's dendogram is not readable or interpretable. Hence we cannot use this for our problem.\n",
    "\n",
    "Lets try with complete linkage and see if it helps\n",
    "\n",
    "## 5.2 Complete Linkage:"
   ]
  },
  {
   "cell_type": "code",
   "execution_count": null,
   "metadata": {
    "papermill": {
     "duration": 3.757366,
     "end_time": "2020-09-11T06:02:34.764274",
     "exception": false,
     "start_time": "2020-09-11T06:02:31.006908",
     "status": "completed"
    },
    "tags": []
   },
   "outputs": [],
   "source": [
    "# complete linkage\n",
    "mergings = linkage(country_df_scaled, method=\"complete\", metric='euclidean')\n",
    "dendrogram(mergings)\n",
    "plt.show()"
   ]
  },
  {
   "cell_type": "markdown",
   "metadata": {
    "papermill": {
     "duration": 0.201563,
     "end_time": "2020-09-11T06:02:35.170494",
     "exception": false,
     "start_time": "2020-09-11T06:02:34.968931",
     "status": "completed"
    },
    "tags": []
   },
   "source": [
    "### INTERPRETATION OF DENDOGRAM:\n",
    "\n",
    "Complete linkage's dendogram is readable and better to interpret when compared to single linkage's dendogram.\n",
    "\n",
    "We can see merging of clusters represented in different colors.\n",
    "\n",
    "If we cut the dendogram tree at SCORE 5 or 6, we have 4 clusters. But we can see the dissimilarity between 4 clusters and 3 clusters is not much as at score 8 itself, we see 3 clusters forming. Only at higher score of 12, 2 sets of clusters available. \n",
    "\n",
    "This indicates 3 clusters is a good choice as there will be good dissimilarity between clusters and good similarity within clusters."
   ]
  },
  {
   "cell_type": "code",
   "execution_count": null,
   "metadata": {
    "papermill": {
     "duration": 0.229477,
     "end_time": "2020-09-11T06:02:35.601373",
     "exception": false,
     "start_time": "2020-09-11T06:02:35.371896",
     "status": "completed"
    },
    "tags": []
   },
   "outputs": [],
   "source": [
    "# 3 clusters\n",
    "cluster_labels = cut_tree(mergings, n_clusters=3).reshape(-1, )\n",
    "cluster_labels"
   ]
  },
  {
   "cell_type": "code",
   "execution_count": null,
   "metadata": {
    "papermill": {
     "duration": 0.225748,
     "end_time": "2020-09-11T06:02:36.033120",
     "exception": false,
     "start_time": "2020-09-11T06:02:35.807372",
     "status": "completed"
    },
    "tags": []
   },
   "outputs": [],
   "source": [
    "# assign cluster labels\n",
    "country_df['cluster_labels'] = cluster_labels\n",
    "country_df.head()"
   ]
  },
  {
   "cell_type": "markdown",
   "metadata": {
    "papermill": {
     "duration": 0.20226,
     "end_time": "2020-09-11T06:02:36.439168",
     "exception": false,
     "start_time": "2020-09-11T06:02:36.236908",
     "status": "completed"
    },
    "tags": []
   },
   "source": [
    "## 5.3 Initial Cluster Profiling Using Hierarchical Clustering Model"
   ]
  },
  {
   "cell_type": "code",
   "execution_count": null,
   "metadata": {
    "papermill": {
     "duration": 0.214508,
     "end_time": "2020-09-11T06:02:36.857267",
     "exception": false,
     "start_time": "2020-09-11T06:02:36.642759",
     "status": "completed"
    },
    "tags": []
   },
   "outputs": [],
   "source": [
    "country_df.cluster_labels.value_counts()"
   ]
  },
  {
   "cell_type": "markdown",
   "metadata": {
    "papermill": {
     "duration": 0.202862,
     "end_time": "2020-09-11T06:02:37.265054",
     "exception": false,
     "start_time": "2020-09-11T06:02:37.062192",
     "status": "completed"
    },
    "tags": []
   },
   "source": [
    "We can see here that though the number of clusters are same as K-means algorithm i.e.3, number of countries in each cluster vary. Lets profile the clusters and label these "
   ]
  },
  {
   "cell_type": "code",
   "execution_count": null,
   "metadata": {
    "papermill": {
     "duration": 0.770665,
     "end_time": "2020-09-11T06:02:38.238628",
     "exception": false,
     "start_time": "2020-09-11T06:02:37.467963",
     "status": "completed"
    },
    "tags": []
   },
   "outputs": [],
   "source": [
    "# Profiling GDP, INCOME AND CHID_MORT in separete plots\n",
    "grouped_df = country_df[['gdpp', 'income', 'child_mort','cluster_labels']].groupby('cluster_labels').mean()\n",
    "grouped_df.plot(kind='bar', colormap='Accent')    \n",
    "grouped_df.plot(kind='bar',logy=True, colormap='Accent')    \n",
    "plt.show()"
   ]
  },
  {
   "cell_type": "code",
   "execution_count": null,
   "metadata": {
    "papermill": {
     "duration": 0.914313,
     "end_time": "2020-09-11T06:02:39.358029",
     "exception": false,
     "start_time": "2020-09-11T06:02:38.443716",
     "status": "completed"
    },
    "tags": []
   },
   "outputs": [],
   "source": [
    "# Profiling GDP, INCOME AND CHID_MORT together\n",
    "grouped_df.plot(kind='bar', colormap='Accent')\n",
    "grouped_df.plot(kind='bar',logy=True, colormap='Accent')"
   ]
  },
  {
   "cell_type": "markdown",
   "metadata": {
    "papermill": {
     "duration": 0.210023,
     "end_time": "2020-09-11T06:02:39.775671",
     "exception": false,
     "start_time": "2020-09-11T06:02:39.565648",
     "status": "completed"
    },
    "tags": []
   },
   "source": [
    "From the above plots, its evident that the cluster labels \n",
    "- 0 : Under-developed countries having low GDPP, low income and high child mortality rate.\n",
    "- 1 : Developing countries having medium GDPP, medium income and mild child mortality rate.\n",
    "- 2 : Developed countries having high GDPP, high income and very low child mortality rate."
   ]
  },
  {
   "cell_type": "markdown",
   "metadata": {
    "papermill": {
     "duration": 0.214684,
     "end_time": "2020-09-11T06:02:40.199556",
     "exception": false,
     "start_time": "2020-09-11T06:02:39.984872",
     "status": "completed"
    },
    "tags": []
   },
   "source": [
    "## 5.4 Countries Segmentation\n",
    "\n",
    "Similar to our approach in K-mean algorithm, We can rename the labels for better business understanding as cluster label 0, 1 and 2 does not make sense to interpret. Then we will perform the cluster profiling with new labels.\n",
    "\n",
    "Lets rename the cluster labels as \n",
    "- 0 : Under-developed Countries\n",
    "- 1 : Developing Countries\n",
    "- 2 : Developed Countries\n",
    "    \n",
    "This would help the NGO to recognise and differentiate the clusters of developed countries from the clusters of under-developed countries and focus on **Cluster 2: Under-developed Countries**"
   ]
  },
  {
   "cell_type": "code",
   "execution_count": null,
   "metadata": {
    "papermill": {
     "duration": 0.256349,
     "end_time": "2020-09-11T06:02:40.664289",
     "exception": false,
     "start_time": "2020-09-11T06:02:40.407940",
     "status": "completed"
    },
    "tags": []
   },
   "outputs": [],
   "source": [
    "# Low income, Low GDP and High Child_mort\n",
    "# Filter the data for that clsuter\n",
    "\n",
    "country_df.loc[country_df['cluster_labels'] == 0,'cluster_labels'] ='Under-Developed Countries'\n",
    "country_df[country_df['cluster_labels'] == 'Under-Developed Countries']"
   ]
  },
  {
   "cell_type": "code",
   "execution_count": null,
   "metadata": {
    "papermill": {
     "duration": 0.2519,
     "end_time": "2020-09-11T06:02:41.130894",
     "exception": false,
     "start_time": "2020-09-11T06:02:40.878994",
     "status": "completed"
    },
    "tags": []
   },
   "outputs": [],
   "source": [
    "country_df[country_df['cluster_labels'] == 'Under-Developed Countries'].describe()"
   ]
  },
  {
   "cell_type": "code",
   "execution_count": null,
   "metadata": {
    "papermill": {
     "duration": 0.239108,
     "end_time": "2020-09-11T06:02:41.578765",
     "exception": false,
     "start_time": "2020-09-11T06:02:41.339657",
     "status": "completed"
    },
    "tags": []
   },
   "outputs": [],
   "source": [
    "# Medium income, Medium GDP and Mild Child_mort\n",
    "# Filter the data for that clsuter\n",
    "\n",
    "country_df.loc[country_df['cluster_labels'] == 1,'cluster_labels'] ='Developing Countries'\n",
    "country_df[country_df['cluster_labels'] == 'Developing Countries']"
   ]
  },
  {
   "cell_type": "code",
   "execution_count": null,
   "metadata": {
    "papermill": {
     "duration": 0.253858,
     "end_time": "2020-09-11T06:02:42.047578",
     "exception": false,
     "start_time": "2020-09-11T06:02:41.793720",
     "status": "completed"
    },
    "tags": []
   },
   "outputs": [],
   "source": [
    "country_df[country_df['cluster_labels'] == 'Developing Countries'].describe()"
   ]
  },
  {
   "cell_type": "code",
   "execution_count": null,
   "metadata": {
    "papermill": {
     "duration": 0.236193,
     "end_time": "2020-09-11T06:02:42.492955",
     "exception": false,
     "start_time": "2020-09-11T06:02:42.256762",
     "status": "completed"
    },
    "tags": []
   },
   "outputs": [],
   "source": [
    "# High income, High GDP and Low Child_mort\n",
    "# Filter the data for that clsuter\n",
    "\n",
    "country_df.loc[country_df['cluster_labels'] == 2,'cluster_labels'] ='Developed Countries'\n",
    "country_df[country_df['cluster_labels'] == 'Developed Countries']"
   ]
  },
  {
   "cell_type": "code",
   "execution_count": null,
   "metadata": {
    "papermill": {
     "duration": 0.25376,
     "end_time": "2020-09-11T06:02:42.958060",
     "exception": false,
     "start_time": "2020-09-11T06:02:42.704300",
     "status": "completed"
    },
    "tags": []
   },
   "outputs": [],
   "source": [
    "country_df[country_df['cluster_labels'] == 'Developed Countries'].describe()"
   ]
  },
  {
   "cell_type": "markdown",
   "metadata": {
    "papermill": {
     "duration": 0.211787,
     "end_time": "2020-09-11T06:02:43.381403",
     "exception": false,
     "start_time": "2020-09-11T06:02:43.169616",
     "status": "completed"
    },
    "tags": []
   },
   "source": [
    "Clustering is done well in this case as well as can be seen from summary statistics of each cluster."
   ]
  },
  {
   "cell_type": "markdown",
   "metadata": {
    "papermill": {
     "duration": 0.220054,
     "end_time": "2020-09-11T06:02:43.825831",
     "exception": false,
     "start_time": "2020-09-11T06:02:43.605777",
     "status": "completed"
    },
    "tags": []
   },
   "source": [
    "## 5.5 Final Cluster Profiling with new labels"
   ]
  },
  {
   "cell_type": "code",
   "execution_count": null,
   "metadata": {
    "papermill": {
     "duration": 0.830425,
     "end_time": "2020-09-11T06:02:44.871047",
     "exception": false,
     "start_time": "2020-09-11T06:02:44.040622",
     "status": "completed"
    },
    "tags": []
   },
   "outputs": [],
   "source": [
    "# Plot the cluster\n",
    "plt.figure(figsize=(18,8))\n",
    "i=0\n",
    "for i in range(len(profiling_cols)):\n",
    "    plt.subplot(2,2,i+1)\n",
    "    sns.scatterplot(x = profiling_cols[i], y = profiling_cols[(i+1)%len(profiling_cols)], hue = 'cluster_labels', data = country_df, palette=['red','blue','green'])"
   ]
  },
  {
   "cell_type": "markdown",
   "metadata": {
    "papermill": {
     "duration": 0.217707,
     "end_time": "2020-09-11T06:02:45.307290",
     "exception": false,
     "start_time": "2020-09-11T06:02:45.089583",
     "status": "completed"
    },
    "tags": []
   },
   "source": [
    "### INFERENCES:\n",
    "\n",
    "These new labels help us to interpret the plots in a better fashion. We can see that \n",
    "- Developing countries have Medium GDPP, medium Income and mild child mortality rate.\n",
    "- Developed countries have High GDPP, High income and very low child mortality rate.\n",
    "- Under-Developed countries have Low GDPP, Low income and very high mortality rate and should be our primary focus."
   ]
  },
  {
   "cell_type": "code",
   "execution_count": null,
   "metadata": {
    "papermill": {
     "duration": 0.659321,
     "end_time": "2020-09-11T06:02:46.181580",
     "exception": false,
     "start_time": "2020-09-11T06:02:45.522259",
     "status": "completed"
    },
    "tags": []
   },
   "outputs": [],
   "source": [
    "# Plot the cluster\n",
    "plt.figure(figsize=(18,8))\n",
    "i=0\n",
    "for i in range(len(profiling_cols)):\n",
    "    plt.subplot(2,2,i+1)\n",
    "    sns.boxplot(x = 'cluster_labels', y = profiling_cols[i], data = country_df, palette=['red','blue','green'])"
   ]
  },
  {
   "cell_type": "markdown",
   "metadata": {
    "papermill": {
     "duration": 0.214615,
     "end_time": "2020-09-11T06:02:46.612593",
     "exception": false,
     "start_time": "2020-09-11T06:02:46.397978",
     "status": "completed"
    },
    "tags": []
   },
   "source": [
    "### INFERENCES:\n",
    "\n",
    "The similar observation that we got from scatter plots can be seen in boxplots too. The clusters are grouped as\n",
    "- Developing countries have Medium GDPP, medium Income and mild child mortality rate.\n",
    "- Developed countries have High GDPP, High income and very low child mortality rate.\n",
    "- Under-Developed countries have Low GDPP, Low income and very high mortality rate and should be our primary focus.\n",
    "\n",
    "We can see that GDPP and income of the under-developed countries are so low that they are not seen properly in the same scale that of the developed countries.\n",
    "\n",
    "These plots are similar to K-means algorithm plots and hence our analysis is good."
   ]
  },
  {
   "cell_type": "code",
   "execution_count": null,
   "metadata": {
    "papermill": {
     "duration": 0.762716,
     "end_time": "2020-09-11T06:02:47.591746",
     "exception": false,
     "start_time": "2020-09-11T06:02:46.829030",
     "status": "completed"
    },
    "tags": []
   },
   "outputs": [],
   "source": [
    "# Profiling GDP, INCOME AND CHID_MORT in sub-plots\n",
    "grouped_df = country_df[['gdpp', 'income', 'child_mort','cluster_labels']].groupby('cluster_labels').mean()\n",
    "grouped_df.plot(kind='bar', subplots=True)\n",
    "plt.show()"
   ]
  },
  {
   "cell_type": "code",
   "execution_count": null,
   "metadata": {
    "papermill": {
     "duration": 0.818275,
     "end_time": "2020-09-11T06:02:48.671491",
     "exception": false,
     "start_time": "2020-09-11T06:02:47.853216",
     "status": "completed"
    },
    "tags": []
   },
   "outputs": [],
   "source": [
    "# Profiling GDP, INCOME AND CHID_MORT together\n",
    "grouped_df.plot(kind='bar', colormap='Accent')\n",
    "grouped_df.plot(kind='bar',logy=True, colormap='Accent')"
   ]
  },
  {
   "cell_type": "markdown",
   "metadata": {
    "papermill": {
     "duration": 0.220309,
     "end_time": "2020-09-11T06:02:49.115534",
     "exception": false,
     "start_time": "2020-09-11T06:02:48.895225",
     "status": "completed"
    },
    "tags": []
   },
   "source": [
    "### INFERENCES:\n",
    "\n",
    "The average of each cluster show the similar observation and the grouping is done perfectly such that we can focus on cluster **Under-Developed Countries** as it has **Low GDPP, Low income and very high mortality rate.**"
   ]
  },
  {
   "cell_type": "markdown",
   "metadata": {
    "papermill": {
     "duration": 0.219936,
     "end_time": "2020-09-11T06:02:49.554982",
     "exception": false,
     "start_time": "2020-09-11T06:02:49.335046",
     "status": "completed"
    },
    "tags": []
   },
   "source": [
    "## 5.6 Identification of Top 10 countries that require aid on priority using Hierarchical clustering:"
   ]
  },
  {
   "cell_type": "code",
   "execution_count": null,
   "metadata": {
    "papermill": {
     "duration": 0.253584,
     "end_time": "2020-09-11T06:02:50.030507",
     "exception": false,
     "start_time": "2020-09-11T06:02:49.776923",
     "status": "completed"
    },
    "tags": []
   },
   "outputs": [],
   "source": [
    "H_top10 = country_df[country_df['cluster_labels'] =='Under-Developed Countries'].sort_values(by = ['gdpp','child_mort','income'], ascending = [True, False, True]).head(10)\n",
    "H_top10"
   ]
  },
  {
   "cell_type": "code",
   "execution_count": null,
   "metadata": {
    "papermill": {
     "duration": 0.236006,
     "end_time": "2020-09-11T06:02:50.487985",
     "exception": false,
     "start_time": "2020-09-11T06:02:50.251979",
     "status": "completed"
    },
    "tags": []
   },
   "outputs": [],
   "source": [
    "H_top10.country"
   ]
  },
  {
   "cell_type": "code",
   "execution_count": null,
   "metadata": {
    "papermill": {
     "duration": 0.230425,
     "end_time": "2020-09-11T06:02:50.939371",
     "exception": false,
     "start_time": "2020-09-11T06:02:50.708946",
     "status": "completed"
    },
    "tags": []
   },
   "outputs": [],
   "source": [
    "list(K_top10.country)==list(H_top10.country)"
   ]
  },
  {
   "cell_type": "markdown",
   "metadata": {
    "papermill": {
     "duration": 0.220999,
     "end_time": "2020-09-11T06:02:51.382597",
     "exception": false,
     "start_time": "2020-09-11T06:02:51.161598",
     "status": "completed"
    },
    "tags": []
   },
   "source": [
    "This indicates both K-means and Hierarchical Clustering returned same list of 10 countries which are in need of aid. \n",
    "\n",
    "We can chose final suggestions based on K-means clustering as the similarity within a cluster and dissimilarity across clusters is good in this methodology as can be seen from the summary statistics after segmentation. Also in K-means clustering, we have got around 48 countries in under developed countries clusters and hence it looks like better clustering mechanism.\n",
    "\n",
    "Lets break this into two lists as `top5 in priority 1 list` and `next set of 5 countries in priority 2 list`."
   ]
  },
  {
   "cell_type": "code",
   "execution_count": null,
   "metadata": {
    "papermill": {
     "duration": 0.245229,
     "end_time": "2020-09-11T06:02:51.850758",
     "exception": false,
     "start_time": "2020-09-11T06:02:51.605529",
     "status": "completed"
    },
    "tags": []
   },
   "outputs": [],
   "source": [
    "Priority_1_countries = K_top10.head(5)\n",
    "Priority_1_countries['Aid Priority'] = \"Aid Requirement Priority 1\"\n",
    "Priority_1_countries"
   ]
  },
  {
   "cell_type": "code",
   "execution_count": null,
   "metadata": {
    "papermill": {
     "duration": 0.248442,
     "end_time": "2020-09-11T06:02:52.321100",
     "exception": false,
     "start_time": "2020-09-11T06:02:52.072658",
     "status": "completed"
    },
    "tags": []
   },
   "outputs": [],
   "source": [
    "Priority_2_countries = K_top10.tail(5)\n",
    "Priority_2_countries['Aid Priority'] = \"Aid Requirement Priority 2\"\n",
    "Priority_2_countries"
   ]
  },
  {
   "cell_type": "markdown",
   "metadata": {
    "papermill": {
     "duration": 0.224352,
     "end_time": "2020-09-11T06:02:52.773493",
     "exception": false,
     "start_time": "2020-09-11T06:02:52.549141",
     "status": "completed"
    },
    "tags": []
   },
   "source": [
    "# 6. Presenting countries that are in need of help to HELP International\n",
    "   "
   ]
  },
  {
   "cell_type": "code",
   "execution_count": null,
   "metadata": {
    "papermill": {
     "duration": 0.236328,
     "end_time": "2020-09-11T06:02:53.235187",
     "exception": false,
     "start_time": "2020-09-11T06:02:52.998859",
     "status": "completed"
    },
    "tags": []
   },
   "outputs": [],
   "source": [
    "def results_plots(df_name):\n",
    "    plt.figure(figsize=[18,6])\n",
    "    for i,column_name in enumerate(profiling_cols):\n",
    "        plt.subplot(2,2,i+1)\n",
    "        ax = sns.barplot(x='country', y=column_name, data= df_name)\n",
    "        for each_bar in ax.patches:\n",
    "            ax.annotate(str(each_bar.get_height()), (each_bar.get_x() * 1.01 , each_bar.get_height() * 1.01))\n",
    "        plt.ylabel(column_name)\n",
    "        plt.xlabel('Countries which have poor %s' %column_name)"
   ]
  },
  {
   "cell_type": "markdown",
   "metadata": {
    "papermill": {
     "duration": 0.22502,
     "end_time": "2020-09-11T06:02:53.683020",
     "exception": false,
     "start_time": "2020-09-11T06:02:53.458000",
     "status": "completed"
    },
    "tags": []
   },
   "source": [
    "First set of countries that require aid immediately: "
   ]
  },
  {
   "cell_type": "code",
   "execution_count": null,
   "metadata": {
    "papermill": {
     "duration": 0.250013,
     "end_time": "2020-09-11T06:02:54.158475",
     "exception": false,
     "start_time": "2020-09-11T06:02:53.908462",
     "status": "completed"
    },
    "tags": []
   },
   "outputs": [],
   "source": [
    "Priority_1_countries"
   ]
  },
  {
   "cell_type": "code",
   "execution_count": null,
   "metadata": {
    "papermill": {
     "duration": 0.517682,
     "end_time": "2020-09-11T06:02:54.899818",
     "exception": false,
     "start_time": "2020-09-11T06:02:54.382136",
     "status": "completed"
    },
    "tags": []
   },
   "outputs": [],
   "source": [
    "Priority_1_countries.set_index('country').plot(kind='bar')\n",
    "plt.xlabel('')\n",
    "plt.show()"
   ]
  },
  {
   "cell_type": "code",
   "execution_count": null,
   "metadata": {
    "papermill": {
     "duration": 0.83825,
     "end_time": "2020-09-11T06:02:55.964324",
     "exception": false,
     "start_time": "2020-09-11T06:02:55.126074",
     "status": "completed"
    },
    "tags": []
   },
   "outputs": [],
   "source": [
    "results_plots(Priority_1_countries)"
   ]
  },
  {
   "cell_type": "markdown",
   "metadata": {
    "papermill": {
     "duration": 0.225176,
     "end_time": "2020-09-11T06:02:56.420529",
     "exception": false,
     "start_time": "2020-09-11T06:02:56.195353",
     "status": "completed"
    },
    "tags": []
   },
   "source": [
    "Once the above countries are helped with, the following set could be provided aid as next set of countries:"
   ]
  },
  {
   "cell_type": "code",
   "execution_count": null,
   "metadata": {
    "papermill": {
     "duration": 0.25115,
     "end_time": "2020-09-11T06:02:56.911073",
     "exception": false,
     "start_time": "2020-09-11T06:02:56.659923",
     "status": "completed"
    },
    "tags": []
   },
   "outputs": [],
   "source": [
    "Priority_2_countries"
   ]
  },
  {
   "cell_type": "code",
   "execution_count": null,
   "metadata": {
    "papermill": {
     "duration": 0.525762,
     "end_time": "2020-09-11T06:02:57.664765",
     "exception": false,
     "start_time": "2020-09-11T06:02:57.139003",
     "status": "completed"
    },
    "tags": []
   },
   "outputs": [],
   "source": [
    "Priority_2_countries.set_index('country').plot(kind='bar')\n",
    "plt.xlabel('')\n",
    "plt.show()"
   ]
  },
  {
   "cell_type": "code",
   "execution_count": null,
   "metadata": {
    "papermill": {
     "duration": 0.679421,
     "end_time": "2020-09-11T06:02:58.573825",
     "exception": false,
     "start_time": "2020-09-11T06:02:57.894404",
     "status": "completed"
    },
    "tags": []
   },
   "outputs": [],
   "source": [
    "results_plots(Priority_2_countries)"
   ]
  },
  {
   "cell_type": "markdown",
   "metadata": {
    "papermill": {
     "duration": 0.242579,
     "end_time": "2020-09-11T06:02:59.058812",
     "exception": false,
     "start_time": "2020-09-11T06:02:58.816233",
     "status": "completed"
    },
    "tags": []
   },
   "source": [
    "# Suggestions to HELP International - Countries that are in need of aid:\n",
    "The following 5 are the countries which have to be provided aid first:\n",
    "\n",
    "1. Burundi\n",
    "2. Liberia\n",
    "3. Congo, Dem. Rep.\n",
    "4. Niger\n",
    "5. Sierra Leone\n",
    "\n",
    "Once the above countries are provided with Aid, the following are the next set of countries which would require aid in order to reduce the child mortality rate and improve their GDPP and income per person:\n",
    "\n",
    "6. Madagascar\n",
    "7. Mozambique\n",
    "8. Central African Republic\n",
    "9. Malawi\n",
    "10. Eritrea"
   ]
  }
 ],
 "metadata": {
  "kernelspec": {
   "display_name": "Python 3",
   "language": "python",
   "name": "python3"
  },
  "language_info": {
   "codemirror_mode": {
    "name": "ipython",
    "version": 3
   },
   "file_extension": ".py",
   "mimetype": "text/x-python",
   "name": "python",
   "nbconvert_exporter": "python",
   "pygments_lexer": "ipython3",
   "version": "3.8.3"
  },
  "papermill": {
   "duration": 133.165362,
   "end_time": "2020-09-11T06:02:59.405626",
   "environment_variables": {},
   "exception": null,
   "input_path": "__notebook__.ipynb",
   "output_path": "__notebook__.ipynb",
   "parameters": {},
   "start_time": "2020-09-11T06:00:46.240264",
   "version": "2.1.0"
  }
 },
 "nbformat": 4,
 "nbformat_minor": 4
}
