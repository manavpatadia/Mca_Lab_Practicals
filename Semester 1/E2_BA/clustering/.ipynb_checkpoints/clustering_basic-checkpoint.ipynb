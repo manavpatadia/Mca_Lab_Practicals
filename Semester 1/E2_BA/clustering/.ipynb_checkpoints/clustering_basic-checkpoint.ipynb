{
 "cells": [
  {
   "cell_type": "markdown",
   "metadata": {
    "papermill": {
     "duration": 0.108256,
     "end_time": "2020-09-11T06:00:51.039059",
     "exception": false,
     "start_time": "2020-09-11T06:00:50.930803",
     "status": "completed"
    },
    "tags": []
   },
   "source": [
    "# Business Problem:\n",
    "\n",
    "HELP International is an international humanitarian NGO that is committed to fighting poverty and providing the people of backward countries with basic amenities and relief during the time of disasters and natural calamities. It runs a lot of operational projects from time to time along with advocacy drives to raise awareness as well as for funding purposes.\n",
    "\n",
    " \n",
    "\n",
    "After the recent funding programmes, they have been able to raise around $ 10 million. Now the CEO of the NGO needs to decide how to use this money strategically and effectively. The significant issues that come while making this decision are mostly related to choosing the countries that are in the direst need of aid. \n",
    "\n",
    " \n",
    "\n",
    "And this is where you come in as a data analyst. Your job is to categorise the countries using some socio-economic and health factors that determine the overall development of the country. Then you need to suggest the countries which the CEO needs to focus on the most. \n",
    "\n",
    "Our main task is to cluster the countries by the factors mentioned above and then present your solution and recommendations to the CEO using a PPT. "
   ]
  },
  {
   "cell_type": "markdown",
   "metadata": {
    "papermill": {
     "duration": 0.106406,
     "end_time": "2020-09-11T06:00:51.252635",
     "exception": false,
     "start_time": "2020-09-11T06:00:51.146229",
     "status": "completed"
    },
    "tags": []
   },
   "source": [
    "# Steps\n",
    "\n",
    "1. Data understanding\n",
    "\n",
    "   - Import Python libraries\n",
    "   - Read and inspect data for understanding\n",
    "   - Summary statistics\n",
    "   - Analyse the columns\n",
    "\n",
    "\n",
    "2. Exploratory Data Analysis\n",
    "\n",
    "  - Null Value Analysis\n",
    "  - Derive data – convert exports, imports, health from % of GDPP to absolute values\n",
    "  - Data Visualization\n",
    "    - Visualising Bivariate Distributions using pair plot\n",
    "    - Visualising Correlation using heatmap\n",
    "    - Visualising univariate distributions using Histogram and density plots\n",
    "    - Visualising GDPP, income, child mortality and other parameters across countries using point plots and bar plots\n",
    "    - Visualising univariate distributions using boxplots to identify outliers\n",
    "\n",
    "\n",
    "3. Prepare data for modelling\n",
    "\n",
    "  - Outlier Treatment\n",
    "  - Hopkins test\n",
    "  - Scaling\n",
    "\n",
    "\n",
    "4. Build model using K-means\n",
    "\n",
    "   - Metrics to choose the value of K\n",
    "     - Elbow curve \n",
    "     - Silhouette Analysis\n",
    "     - Iterating with different values of k and choose optimal k as optimal number of clusters\n",
    "     - Country Segmentation\n",
    "     - Cluster Profiling based on GDPP, Income and Child Mortality Rate\n",
    "       - Scatter Plots\n",
    "       - Box plots\n",
    "       - Bar plots on the mean of the columns in each cluster\n",
    "     - Identification of top 10 countries in need of aid.\n",
    "\n",
    "5. Build model using Hierarchical clustering\n",
    "\n",
    "  - Single linkage\n",
    "  - Complete linkage\n",
    "  \n",
    "     - Country Segmentation\n",
    "     - Cluster Profiling based on GDPP, Income and Child Mortality Rate\n",
    "       - Scatter Plots\n",
    "       - Box plots\n",
    "       - Bar plots on the mean of the columns in each cluster\n",
    "     - Identification of top 10 countries in need of aid.\n",
    "\n",
    "6. Suggestions "
   ]
  },
  {
   "cell_type": "markdown",
   "metadata": {
    "papermill": {
     "duration": 0.107304,
     "end_time": "2020-09-11T06:00:51.468263",
     "exception": false,
     "start_time": "2020-09-11T06:00:51.360959",
     "status": "completed"
    },
    "tags": []
   },
   "source": [
    "## 1.1 Import libraries\n",
    "\n",
    "Ignore warnings and import necessary libraries:"
   ]
  },
  {
   "cell_type": "code",
   "execution_count": 1,
   "metadata": {
    "papermill": {
     "duration": 0.115169,
     "end_time": "2020-09-11T06:00:51.690551",
     "exception": false,
     "start_time": "2020-09-11T06:00:51.575382",
     "status": "completed"
    },
    "tags": []
   },
   "outputs": [],
   "source": [
    "import os\n",
    "import warnings\n",
    "warnings.filterwarnings('ignore')"
   ]
  },
  {
   "cell_type": "code",
   "execution_count": 2,
   "metadata": {
    "papermill": {
     "duration": 1.483976,
     "end_time": "2020-09-11T06:00:53.283642",
     "exception": false,
     "start_time": "2020-09-11T06:00:51.799666",
     "status": "completed"
    },
    "tags": []
   },
   "outputs": [],
   "source": [
    "import numpy as np\n",
    "import pandas as pd\n",
    "\n",
    "# To display data dictionary fully\n",
    "pd.set_option('display.max_columns', None)  \n",
    "pd.set_option('display.expand_frame_repr', False)\n",
    "pd.set_option('max_colwidth', 1000)\n",
    "\n",
    "# For Visualisation\n",
    "import matplotlib.pyplot as plt\n",
    "import seaborn as sns\n",
    "%matplotlib inline\n",
    "sns.color_palette(\"Set1\")\n",
    "\n",
    "# To Scale our data\n",
    "from sklearn.preprocessing import StandardScaler\n",
    "\n",
    "# To perform KMeans clustering \n",
    "from sklearn.cluster import KMeans\n",
    "\n",
    "# To perform Hierarchical clustering\n",
    "from scipy.cluster.hierarchy import linkage\n",
    "from scipy.cluster.hierarchy import dendrogram\n",
    "from scipy.cluster.hierarchy import cut_tree\n",
    "from matplotlib.pyplot import figure"
   ]
  },
  {
   "cell_type": "markdown",
   "metadata": {
    "papermill": {
     "duration": 0.106381,
     "end_time": "2020-09-11T06:00:53.499655",
     "exception": false,
     "start_time": "2020-09-11T06:00:53.393274",
     "status": "completed"
    },
    "tags": []
   },
   "source": [
    "## 1.2 Read and inspect data for understanding"
   ]
  },
  {
   "cell_type": "markdown",
   "metadata": {
    "papermill": {
     "duration": 0.12799,
     "end_time": "2020-09-11T06:00:53.750433",
     "exception": false,
     "start_time": "2020-09-11T06:00:53.622443",
     "status": "completed"
    },
    "tags": []
   },
   "source": [
    "Lets read the data dictionary into `data_dictionary` dataframe and understand the columns"
   ]
  },
  {
   "cell_type": "code",
   "execution_count": 3,
   "metadata": {
    "papermill": {
     "duration": 0.153129,
     "end_time": "2020-09-11T06:00:54.022080",
     "exception": false,
     "start_time": "2020-09-11T06:00:53.868951",
     "status": "completed"
    },
    "tags": []
   },
   "outputs": [
    {
     "data": {
      "text/html": [
       "<div>\n",
       "<style scoped>\n",
       "    .dataframe tbody tr th:only-of-type {\n",
       "        vertical-align: middle;\n",
       "    }\n",
       "\n",
       "    .dataframe tbody tr th {\n",
       "        vertical-align: top;\n",
       "    }\n",
       "\n",
       "    .dataframe thead th {\n",
       "        text-align: right;\n",
       "    }\n",
       "</style>\n",
       "<table border=\"1\" class=\"dataframe\">\n",
       "  <thead>\n",
       "    <tr style=\"text-align: right;\">\n",
       "      <th></th>\n",
       "      <th>Column Name</th>\n",
       "      <th>Description</th>\n",
       "    </tr>\n",
       "  </thead>\n",
       "  <tbody>\n",
       "    <tr>\n",
       "      <th>0</th>\n",
       "      <td>country</td>\n",
       "      <td>Name of the country</td>\n",
       "    </tr>\n",
       "    <tr>\n",
       "      <th>1</th>\n",
       "      <td>child_mort</td>\n",
       "      <td>Death of children under 5 years of age per 1000 live births</td>\n",
       "    </tr>\n",
       "    <tr>\n",
       "      <th>2</th>\n",
       "      <td>exports</td>\n",
       "      <td>Exports of goods and services per capita. Given as %age of the GDP per capita</td>\n",
       "    </tr>\n",
       "    <tr>\n",
       "      <th>3</th>\n",
       "      <td>health</td>\n",
       "      <td>Total health spending per capita. Given as %age of GDP per capita</td>\n",
       "    </tr>\n",
       "    <tr>\n",
       "      <th>4</th>\n",
       "      <td>imports</td>\n",
       "      <td>Imports of goods and services per capita. Given as %age of the GDP per capita</td>\n",
       "    </tr>\n",
       "    <tr>\n",
       "      <th>5</th>\n",
       "      <td>Income</td>\n",
       "      <td>Net income per person</td>\n",
       "    </tr>\n",
       "    <tr>\n",
       "      <th>6</th>\n",
       "      <td>Inflation</td>\n",
       "      <td>The measurement of the annual growth rate of the Total GDP</td>\n",
       "    </tr>\n",
       "    <tr>\n",
       "      <th>7</th>\n",
       "      <td>life_expec</td>\n",
       "      <td>The average number of years a new born child would live if the current mortality patterns are to remain the same</td>\n",
       "    </tr>\n",
       "    <tr>\n",
       "      <th>8</th>\n",
       "      <td>total_fer</td>\n",
       "      <td>The number of children that would be born to each woman if the current age-fertility rates remain the same.</td>\n",
       "    </tr>\n",
       "    <tr>\n",
       "      <th>9</th>\n",
       "      <td>gdpp</td>\n",
       "      <td>The GDP per capita. Calculated as the Total GDP divided by the total population.</td>\n",
       "    </tr>\n",
       "  </tbody>\n",
       "</table>\n",
       "</div>"
      ],
      "text/plain": [
       "  Column Name                                                                                                       Description\n",
       "0     country                                                                                               Name of the country\n",
       "1  child_mort                                                       Death of children under 5 years of age per 1000 live births\n",
       "2     exports                                     Exports of goods and services per capita. Given as %age of the GDP per capita\n",
       "3      health                                                 Total health spending per capita. Given as %age of GDP per capita\n",
       "4     imports                                     Imports of goods and services per capita. Given as %age of the GDP per capita\n",
       "5      Income                                                                                             Net income per person\n",
       "6   Inflation                                                        The measurement of the annual growth rate of the Total GDP\n",
       "7  life_expec  The average number of years a new born child would live if the current mortality patterns are to remain the same\n",
       "8   total_fer       The number of children that would be born to each woman if the current age-fertility rates remain the same.\n",
       "9        gdpp                                  The GDP per capita. Calculated as the Total GDP divided by the total population."
      ]
     },
     "execution_count": 3,
     "metadata": {},
     "output_type": "execute_result"
    }
   ],
   "source": [
    "\n",
    "data_dictionary = pd.read_csv('data-dictionary.csv')\n",
    "data_dictionary"
   ]
  },
  {
   "cell_type": "markdown",
   "metadata": {
    "papermill": {
     "duration": 0.107454,
     "end_time": "2020-09-11T06:00:54.238339",
     "exception": false,
     "start_time": "2020-09-11T06:00:54.130885",
     "status": "completed"
    },
    "tags": []
   },
   "source": [
    "There are total of `10 columns` in the actual dataset.\n",
    "\n",
    "From the data dictionary, we can see that `exports`, `health` and `imports` are given as percentage of GDP. Hence we have to convert these columns to absolute values in the EDA section"
   ]
  },
  {
   "cell_type": "markdown",
   "metadata": {
    "papermill": {
     "duration": 0.107148,
     "end_time": "2020-09-11T06:00:54.455574",
     "exception": false,
     "start_time": "2020-09-11T06:00:54.348426",
     "status": "completed"
    },
    "tags": []
   },
   "source": [
    "Lets read the actual dataset into `country_df`"
   ]
  },
  {
   "cell_type": "code",
   "execution_count": 4,
   "metadata": {
    "papermill": {
     "duration": 0.161952,
     "end_time": "2020-09-11T06:00:54.737536",
     "exception": false,
     "start_time": "2020-09-11T06:00:54.575584",
     "status": "completed"
    },
    "tags": []
   },
   "outputs": [
    {
     "data": {
      "text/html": [
       "<div>\n",
       "<style scoped>\n",
       "    .dataframe tbody tr th:only-of-type {\n",
       "        vertical-align: middle;\n",
       "    }\n",
       "\n",
       "    .dataframe tbody tr th {\n",
       "        vertical-align: top;\n",
       "    }\n",
       "\n",
       "    .dataframe thead th {\n",
       "        text-align: right;\n",
       "    }\n",
       "</style>\n",
       "<table border=\"1\" class=\"dataframe\">\n",
       "  <thead>\n",
       "    <tr style=\"text-align: right;\">\n",
       "      <th></th>\n",
       "      <th>country</th>\n",
       "      <th>child_mort</th>\n",
       "      <th>exports</th>\n",
       "      <th>health</th>\n",
       "      <th>imports</th>\n",
       "      <th>income</th>\n",
       "      <th>inflation</th>\n",
       "      <th>life_expec</th>\n",
       "      <th>total_fer</th>\n",
       "      <th>gdpp</th>\n",
       "    </tr>\n",
       "  </thead>\n",
       "  <tbody>\n",
       "    <tr>\n",
       "      <th>0</th>\n",
       "      <td>Afghanistan</td>\n",
       "      <td>90.2</td>\n",
       "      <td>10.0</td>\n",
       "      <td>7.58</td>\n",
       "      <td>44.9</td>\n",
       "      <td>1610</td>\n",
       "      <td>9.44</td>\n",
       "      <td>56.2</td>\n",
       "      <td>5.82</td>\n",
       "      <td>553</td>\n",
       "    </tr>\n",
       "    <tr>\n",
       "      <th>1</th>\n",
       "      <td>Albania</td>\n",
       "      <td>16.6</td>\n",
       "      <td>28.0</td>\n",
       "      <td>6.55</td>\n",
       "      <td>48.6</td>\n",
       "      <td>9930</td>\n",
       "      <td>4.49</td>\n",
       "      <td>76.3</td>\n",
       "      <td>1.65</td>\n",
       "      <td>4090</td>\n",
       "    </tr>\n",
       "    <tr>\n",
       "      <th>2</th>\n",
       "      <td>Algeria</td>\n",
       "      <td>27.3</td>\n",
       "      <td>38.4</td>\n",
       "      <td>4.17</td>\n",
       "      <td>31.4</td>\n",
       "      <td>12900</td>\n",
       "      <td>16.10</td>\n",
       "      <td>76.5</td>\n",
       "      <td>2.89</td>\n",
       "      <td>4460</td>\n",
       "    </tr>\n",
       "    <tr>\n",
       "      <th>3</th>\n",
       "      <td>Angola</td>\n",
       "      <td>119.0</td>\n",
       "      <td>62.3</td>\n",
       "      <td>2.85</td>\n",
       "      <td>42.9</td>\n",
       "      <td>5900</td>\n",
       "      <td>22.40</td>\n",
       "      <td>60.1</td>\n",
       "      <td>6.16</td>\n",
       "      <td>3530</td>\n",
       "    </tr>\n",
       "    <tr>\n",
       "      <th>4</th>\n",
       "      <td>Antigua and Barbuda</td>\n",
       "      <td>10.3</td>\n",
       "      <td>45.5</td>\n",
       "      <td>6.03</td>\n",
       "      <td>58.9</td>\n",
       "      <td>19100</td>\n",
       "      <td>1.44</td>\n",
       "      <td>76.8</td>\n",
       "      <td>2.13</td>\n",
       "      <td>12200</td>\n",
       "    </tr>\n",
       "  </tbody>\n",
       "</table>\n",
       "</div>"
      ],
      "text/plain": [
       "               country  child_mort  exports  health  imports  income  inflation  life_expec  total_fer   gdpp\n",
       "0          Afghanistan        90.2     10.0    7.58     44.9    1610       9.44        56.2       5.82    553\n",
       "1              Albania        16.6     28.0    6.55     48.6    9930       4.49        76.3       1.65   4090\n",
       "2              Algeria        27.3     38.4    4.17     31.4   12900      16.10        76.5       2.89   4460\n",
       "3               Angola       119.0     62.3    2.85     42.9    5900      22.40        60.1       6.16   3530\n",
       "4  Antigua and Barbuda        10.3     45.5    6.03     58.9   19100       1.44        76.8       2.13  12200"
      ]
     },
     "execution_count": 4,
     "metadata": {},
     "output_type": "execute_result"
    }
   ],
   "source": [
    "country_df = pd.read_csv('Country-data.csv')\n",
    "country_df.head() # Checking the top 5 rows of the dataframe"
   ]
  },
  {
   "cell_type": "code",
   "execution_count": 5,
   "metadata": {
    "papermill": {
     "duration": 0.128691,
     "end_time": "2020-09-11T06:00:55.021903",
     "exception": false,
     "start_time": "2020-09-11T06:00:54.893212",
     "status": "completed"
    },
    "tags": []
   },
   "outputs": [
    {
     "data": {
      "text/html": [
       "<div>\n",
       "<style scoped>\n",
       "    .dataframe tbody tr th:only-of-type {\n",
       "        vertical-align: middle;\n",
       "    }\n",
       "\n",
       "    .dataframe tbody tr th {\n",
       "        vertical-align: top;\n",
       "    }\n",
       "\n",
       "    .dataframe thead th {\n",
       "        text-align: right;\n",
       "    }\n",
       "</style>\n",
       "<table border=\"1\" class=\"dataframe\">\n",
       "  <thead>\n",
       "    <tr style=\"text-align: right;\">\n",
       "      <th></th>\n",
       "      <th>country</th>\n",
       "      <th>child_mort</th>\n",
       "      <th>exports</th>\n",
       "      <th>health</th>\n",
       "      <th>imports</th>\n",
       "      <th>income</th>\n",
       "      <th>inflation</th>\n",
       "      <th>life_expec</th>\n",
       "      <th>total_fer</th>\n",
       "      <th>gdpp</th>\n",
       "    </tr>\n",
       "  </thead>\n",
       "  <tbody>\n",
       "    <tr>\n",
       "      <th>162</th>\n",
       "      <td>Vanuatu</td>\n",
       "      <td>29.2</td>\n",
       "      <td>46.6</td>\n",
       "      <td>5.25</td>\n",
       "      <td>52.7</td>\n",
       "      <td>2950</td>\n",
       "      <td>2.62</td>\n",
       "      <td>63.0</td>\n",
       "      <td>3.50</td>\n",
       "      <td>2970</td>\n",
       "    </tr>\n",
       "    <tr>\n",
       "      <th>163</th>\n",
       "      <td>Venezuela</td>\n",
       "      <td>17.1</td>\n",
       "      <td>28.5</td>\n",
       "      <td>4.91</td>\n",
       "      <td>17.6</td>\n",
       "      <td>16500</td>\n",
       "      <td>45.90</td>\n",
       "      <td>75.4</td>\n",
       "      <td>2.47</td>\n",
       "      <td>13500</td>\n",
       "    </tr>\n",
       "    <tr>\n",
       "      <th>164</th>\n",
       "      <td>Vietnam</td>\n",
       "      <td>23.3</td>\n",
       "      <td>72.0</td>\n",
       "      <td>6.84</td>\n",
       "      <td>80.2</td>\n",
       "      <td>4490</td>\n",
       "      <td>12.10</td>\n",
       "      <td>73.1</td>\n",
       "      <td>1.95</td>\n",
       "      <td>1310</td>\n",
       "    </tr>\n",
       "    <tr>\n",
       "      <th>165</th>\n",
       "      <td>Yemen</td>\n",
       "      <td>56.3</td>\n",
       "      <td>30.0</td>\n",
       "      <td>5.18</td>\n",
       "      <td>34.4</td>\n",
       "      <td>4480</td>\n",
       "      <td>23.60</td>\n",
       "      <td>67.5</td>\n",
       "      <td>4.67</td>\n",
       "      <td>1310</td>\n",
       "    </tr>\n",
       "    <tr>\n",
       "      <th>166</th>\n",
       "      <td>Zambia</td>\n",
       "      <td>83.1</td>\n",
       "      <td>37.0</td>\n",
       "      <td>5.89</td>\n",
       "      <td>30.9</td>\n",
       "      <td>3280</td>\n",
       "      <td>14.00</td>\n",
       "      <td>52.0</td>\n",
       "      <td>5.40</td>\n",
       "      <td>1460</td>\n",
       "    </tr>\n",
       "  </tbody>\n",
       "</table>\n",
       "</div>"
      ],
      "text/plain": [
       "       country  child_mort  exports  health  imports  income  inflation  life_expec  total_fer   gdpp\n",
       "162    Vanuatu        29.2     46.6    5.25     52.7    2950       2.62        63.0       3.50   2970\n",
       "163  Venezuela        17.1     28.5    4.91     17.6   16500      45.90        75.4       2.47  13500\n",
       "164    Vietnam        23.3     72.0    6.84     80.2    4490      12.10        73.1       1.95   1310\n",
       "165      Yemen        56.3     30.0    5.18     34.4    4480      23.60        67.5       4.67   1310\n",
       "166     Zambia        83.1     37.0    5.89     30.9    3280      14.00        52.0       5.40   1460"
      ]
     },
     "execution_count": 5,
     "metadata": {},
     "output_type": "execute_result"
    }
   ],
   "source": [
    "# checking botton 5 rows of the dataframe\n",
    "country_df.tail()"
   ]
  },
  {
   "cell_type": "code",
   "execution_count": 6,
   "metadata": {},
   "outputs": [
    {
     "data": {
      "text/html": [
       "<div>\n",
       "<style scoped>\n",
       "    .dataframe tbody tr th:only-of-type {\n",
       "        vertical-align: middle;\n",
       "    }\n",
       "\n",
       "    .dataframe tbody tr th {\n",
       "        vertical-align: top;\n",
       "    }\n",
       "\n",
       "    .dataframe thead th {\n",
       "        text-align: right;\n",
       "    }\n",
       "</style>\n",
       "<table border=\"1\" class=\"dataframe\">\n",
       "  <thead>\n",
       "    <tr style=\"text-align: right;\">\n",
       "      <th></th>\n",
       "      <th>country</th>\n",
       "      <th>child_mort</th>\n",
       "      <th>exports</th>\n",
       "      <th>health</th>\n",
       "      <th>imports</th>\n",
       "      <th>income</th>\n",
       "      <th>inflation</th>\n",
       "      <th>life_expec</th>\n",
       "      <th>total_fer</th>\n",
       "      <th>gdpp</th>\n",
       "    </tr>\n",
       "  </thead>\n",
       "  <tbody>\n",
       "    <tr>\n",
       "      <th>15</th>\n",
       "      <td>Belgium</td>\n",
       "      <td>4.5</td>\n",
       "      <td>76.4</td>\n",
       "      <td>10.70</td>\n",
       "      <td>74.7</td>\n",
       "      <td>41100</td>\n",
       "      <td>1.880</td>\n",
       "      <td>80.0</td>\n",
       "      <td>1.86</td>\n",
       "      <td>44400</td>\n",
       "    </tr>\n",
       "    <tr>\n",
       "      <th>23</th>\n",
       "      <td>Brunei</td>\n",
       "      <td>10.5</td>\n",
       "      <td>67.4</td>\n",
       "      <td>2.84</td>\n",
       "      <td>28.0</td>\n",
       "      <td>80600</td>\n",
       "      <td>16.700</td>\n",
       "      <td>77.1</td>\n",
       "      <td>1.84</td>\n",
       "      <td>35300</td>\n",
       "    </tr>\n",
       "    <tr>\n",
       "      <th>42</th>\n",
       "      <td>Cyprus</td>\n",
       "      <td>3.6</td>\n",
       "      <td>50.2</td>\n",
       "      <td>5.97</td>\n",
       "      <td>57.5</td>\n",
       "      <td>33900</td>\n",
       "      <td>2.010</td>\n",
       "      <td>79.9</td>\n",
       "      <td>1.42</td>\n",
       "      <td>30800</td>\n",
       "    </tr>\n",
       "    <tr>\n",
       "      <th>53</th>\n",
       "      <td>Finland</td>\n",
       "      <td>3.0</td>\n",
       "      <td>38.7</td>\n",
       "      <td>8.95</td>\n",
       "      <td>37.4</td>\n",
       "      <td>39800</td>\n",
       "      <td>0.351</td>\n",
       "      <td>80.0</td>\n",
       "      <td>1.87</td>\n",
       "      <td>46200</td>\n",
       "    </tr>\n",
       "    <tr>\n",
       "      <th>54</th>\n",
       "      <td>France</td>\n",
       "      <td>4.2</td>\n",
       "      <td>26.8</td>\n",
       "      <td>11.90</td>\n",
       "      <td>28.1</td>\n",
       "      <td>36900</td>\n",
       "      <td>1.050</td>\n",
       "      <td>81.4</td>\n",
       "      <td>2.03</td>\n",
       "      <td>40600</td>\n",
       "    </tr>\n",
       "    <tr>\n",
       "      <th>58</th>\n",
       "      <td>Germany</td>\n",
       "      <td>4.2</td>\n",
       "      <td>42.3</td>\n",
       "      <td>11.60</td>\n",
       "      <td>37.1</td>\n",
       "      <td>40400</td>\n",
       "      <td>0.758</td>\n",
       "      <td>80.1</td>\n",
       "      <td>1.39</td>\n",
       "      <td>41800</td>\n",
       "    </tr>\n",
       "    <tr>\n",
       "      <th>68</th>\n",
       "      <td>Iceland</td>\n",
       "      <td>2.6</td>\n",
       "      <td>53.4</td>\n",
       "      <td>9.40</td>\n",
       "      <td>43.3</td>\n",
       "      <td>38800</td>\n",
       "      <td>5.470</td>\n",
       "      <td>82.0</td>\n",
       "      <td>2.20</td>\n",
       "      <td>41900</td>\n",
       "    </tr>\n",
       "    <tr>\n",
       "      <th>75</th>\n",
       "      <td>Italy</td>\n",
       "      <td>4.0</td>\n",
       "      <td>25.2</td>\n",
       "      <td>9.53</td>\n",
       "      <td>27.2</td>\n",
       "      <td>36200</td>\n",
       "      <td>0.319</td>\n",
       "      <td>81.7</td>\n",
       "      <td>1.46</td>\n",
       "      <td>35800</td>\n",
       "    </tr>\n",
       "    <tr>\n",
       "      <th>77</th>\n",
       "      <td>Japan</td>\n",
       "      <td>3.2</td>\n",
       "      <td>15.0</td>\n",
       "      <td>9.49</td>\n",
       "      <td>13.6</td>\n",
       "      <td>35800</td>\n",
       "      <td>-1.900</td>\n",
       "      <td>82.8</td>\n",
       "      <td>1.39</td>\n",
       "      <td>44500</td>\n",
       "    </tr>\n",
       "    <tr>\n",
       "      <th>82</th>\n",
       "      <td>Kuwait</td>\n",
       "      <td>10.8</td>\n",
       "      <td>66.7</td>\n",
       "      <td>2.63</td>\n",
       "      <td>30.4</td>\n",
       "      <td>75200</td>\n",
       "      <td>11.200</td>\n",
       "      <td>78.2</td>\n",
       "      <td>2.21</td>\n",
       "      <td>38500</td>\n",
       "    </tr>\n",
       "    <tr>\n",
       "      <th>98</th>\n",
       "      <td>Malta</td>\n",
       "      <td>6.8</td>\n",
       "      <td>153.0</td>\n",
       "      <td>8.65</td>\n",
       "      <td>154.0</td>\n",
       "      <td>28300</td>\n",
       "      <td>3.830</td>\n",
       "      <td>80.3</td>\n",
       "      <td>1.36</td>\n",
       "      <td>21100</td>\n",
       "    </tr>\n",
       "    <tr>\n",
       "      <th>111</th>\n",
       "      <td>New Zealand</td>\n",
       "      <td>6.2</td>\n",
       "      <td>30.3</td>\n",
       "      <td>10.10</td>\n",
       "      <td>28.0</td>\n",
       "      <td>32300</td>\n",
       "      <td>3.730</td>\n",
       "      <td>80.9</td>\n",
       "      <td>2.17</td>\n",
       "      <td>33700</td>\n",
       "    </tr>\n",
       "    <tr>\n",
       "      <th>133</th>\n",
       "      <td>Singapore</td>\n",
       "      <td>2.8</td>\n",
       "      <td>200.0</td>\n",
       "      <td>3.96</td>\n",
       "      <td>174.0</td>\n",
       "      <td>72100</td>\n",
       "      <td>-0.046</td>\n",
       "      <td>82.7</td>\n",
       "      <td>1.15</td>\n",
       "      <td>46600</td>\n",
       "    </tr>\n",
       "    <tr>\n",
       "      <th>157</th>\n",
       "      <td>United Arab Emirates</td>\n",
       "      <td>8.6</td>\n",
       "      <td>77.7</td>\n",
       "      <td>3.66</td>\n",
       "      <td>63.6</td>\n",
       "      <td>57600</td>\n",
       "      <td>12.500</td>\n",
       "      <td>76.5</td>\n",
       "      <td>1.87</td>\n",
       "      <td>35000</td>\n",
       "    </tr>\n",
       "    <tr>\n",
       "      <th>158</th>\n",
       "      <td>United Kingdom</td>\n",
       "      <td>5.2</td>\n",
       "      <td>28.2</td>\n",
       "      <td>9.64</td>\n",
       "      <td>30.8</td>\n",
       "      <td>36200</td>\n",
       "      <td>1.570</td>\n",
       "      <td>80.3</td>\n",
       "      <td>1.92</td>\n",
       "      <td>38900</td>\n",
       "    </tr>\n",
       "  </tbody>\n",
       "</table>\n",
       "</div>"
      ],
      "text/plain": [
       "                  country  child_mort  exports  health  imports  income  inflation  life_expec  total_fer   gdpp\n",
       "15                Belgium         4.5     76.4   10.70     74.7   41100      1.880        80.0       1.86  44400\n",
       "23                 Brunei        10.5     67.4    2.84     28.0   80600     16.700        77.1       1.84  35300\n",
       "42                 Cyprus         3.6     50.2    5.97     57.5   33900      2.010        79.9       1.42  30800\n",
       "53                Finland         3.0     38.7    8.95     37.4   39800      0.351        80.0       1.87  46200\n",
       "54                 France         4.2     26.8   11.90     28.1   36900      1.050        81.4       2.03  40600\n",
       "58                Germany         4.2     42.3   11.60     37.1   40400      0.758        80.1       1.39  41800\n",
       "68                Iceland         2.6     53.4    9.40     43.3   38800      5.470        82.0       2.20  41900\n",
       "75                  Italy         4.0     25.2    9.53     27.2   36200      0.319        81.7       1.46  35800\n",
       "77                  Japan         3.2     15.0    9.49     13.6   35800     -1.900        82.8       1.39  44500\n",
       "82                 Kuwait        10.8     66.7    2.63     30.4   75200     11.200        78.2       2.21  38500\n",
       "98                  Malta         6.8    153.0    8.65    154.0   28300      3.830        80.3       1.36  21100\n",
       "111           New Zealand         6.2     30.3   10.10     28.0   32300      3.730        80.9       2.17  33700\n",
       "133             Singapore         2.8    200.0    3.96    174.0   72100     -0.046        82.7       1.15  46600\n",
       "157  United Arab Emirates         8.6     77.7    3.66     63.6   57600     12.500        76.5       1.87  35000\n",
       "158        United Kingdom         5.2     28.2    9.64     30.8   36200      1.570        80.3       1.92  38900"
      ]
     },
     "execution_count": 6,
     "metadata": {},
     "output_type": "execute_result"
    }
   ],
   "source": [
    "top_15 = ['Malta', 'Cyprus', 'New Zealand', 'United Arab Emirates', 'Brunei', 'Italy', 'Kuwait', 'United Kingdom', 'France', 'Germany', 'Iceland', 'Belgium', 'Japan', 'Finland', 'Singapore']\n",
    "country_df = country_df[country_df.country.isin(top_15)]\n",
    "country_df"
   ]
  },
  {
   "cell_type": "code",
   "execution_count": 7,
   "metadata": {},
   "outputs": [
    {
     "data": {
      "text/plain": [
       "(15, 11)"
      ]
     },
     "execution_count": 7,
     "metadata": {},
     "output_type": "execute_result"
    }
   ],
   "source": [
    "country_df.reset_index(inplace=True)\n",
    "country_df.shape"
   ]
  },
  {
   "cell_type": "markdown",
   "metadata": {
    "papermill": {
     "duration": 0.110112,
     "end_time": "2020-09-11T06:00:55.241746",
     "exception": false,
     "start_time": "2020-09-11T06:00:55.131634",
     "status": "completed"
    },
    "tags": []
   },
   "source": [
    "### Data Inspection:\n",
    "\n",
    "Inspect the various aspects of the `country_df` dataframe such as \n",
    "- `shape` for number of rows and columns\n",
    "- `size` for memory usage\n",
    "- `info()` for the presence of null values\n",
    "- `nunique()` for checking how many unique entries present in each column and any column is of categorical in nature.\n",
    "- `nunique() and duplicated` for duplicates analysis\n",
    "- `describe()` for statistical information"
   ]
  },
  {
   "cell_type": "code",
   "execution_count": 8,
   "metadata": {
    "papermill": {
     "duration": 0.117994,
     "end_time": "2020-09-11T06:00:55.471894",
     "exception": false,
     "start_time": "2020-09-11T06:00:55.353900",
     "status": "completed"
    },
    "tags": []
   },
   "outputs": [
    {
     "data": {
      "text/plain": [
       "(15, 11)"
      ]
     },
     "execution_count": 8,
     "metadata": {},
     "output_type": "execute_result"
    }
   ],
   "source": [
    "# Checking the shape of the dataframe\n",
    "country_df.shape"
   ]
  },
  {
   "cell_type": "markdown",
   "metadata": {
    "papermill": {
     "duration": 0.112363,
     "end_time": "2020-09-11T06:00:55.695496",
     "exception": false,
     "start_time": "2020-09-11T06:00:55.583133",
     "status": "completed"
    },
    "tags": []
   },
   "source": [
    "There are `167` rows and `10` columns in the given dataset."
   ]
  },
  {
   "cell_type": "code",
   "execution_count": 9,
   "metadata": {
    "papermill": {
     "duration": 0.122353,
     "end_time": "2020-09-11T06:00:55.927416",
     "exception": false,
     "start_time": "2020-09-11T06:00:55.805063",
     "status": "completed"
    },
    "tags": []
   },
   "outputs": [
    {
     "data": {
      "text/plain": [
       "165"
      ]
     },
     "execution_count": 9,
     "metadata": {},
     "output_type": "execute_result"
    }
   ],
   "source": [
    "# Checking the size of the dataframe\n",
    "country_df.size"
   ]
  },
  {
   "cell_type": "code",
   "execution_count": 10,
   "metadata": {
    "papermill": {
     "duration": 0.123634,
     "end_time": "2020-09-11T06:00:56.164316",
     "exception": false,
     "start_time": "2020-09-11T06:00:56.040682",
     "status": "completed"
    },
    "tags": []
   },
   "outputs": [
    {
     "name": "stdout",
     "output_type": "stream",
     "text": [
      "index           int64\n",
      "country        object\n",
      "child_mort    float64\n",
      "exports       float64\n",
      "health        float64\n",
      "imports       float64\n",
      "income          int64\n",
      "inflation     float64\n",
      "life_expec    float64\n",
      "total_fer     float64\n",
      "gdpp            int64\n",
      "dtype: object\n"
     ]
    }
   ],
   "source": [
    "# Inspecting type\n",
    "print(country_df.dtypes)"
   ]
  },
  {
   "cell_type": "code",
   "execution_count": 11,
   "metadata": {
    "papermill": {
     "duration": 0.13744,
     "end_time": "2020-09-11T06:00:56.415502",
     "exception": false,
     "start_time": "2020-09-11T06:00:56.278062",
     "status": "completed"
    },
    "tags": []
   },
   "outputs": [
    {
     "name": "stdout",
     "output_type": "stream",
     "text": [
      "<class 'pandas.core.frame.DataFrame'>\n",
      "RangeIndex: 15 entries, 0 to 14\n",
      "Data columns (total 11 columns):\n",
      " #   Column      Non-Null Count  Dtype  \n",
      "---  ------      --------------  -----  \n",
      " 0   index       15 non-null     int64  \n",
      " 1   country     15 non-null     object \n",
      " 2   child_mort  15 non-null     float64\n",
      " 3   exports     15 non-null     float64\n",
      " 4   health      15 non-null     float64\n",
      " 5   imports     15 non-null     float64\n",
      " 6   income      15 non-null     int64  \n",
      " 7   inflation   15 non-null     float64\n",
      " 8   life_expec  15 non-null     float64\n",
      " 9   total_fer   15 non-null     float64\n",
      " 10  gdpp        15 non-null     int64  \n",
      "dtypes: float64(7), int64(3), object(1)\n",
      "memory usage: 1.4+ KB\n"
     ]
    }
   ],
   "source": [
    "# How many types of each data type column exists and total memory usage\n",
    "country_df.info()"
   ]
  },
  {
   "cell_type": "markdown",
   "metadata": {
    "papermill": {
     "duration": 0.113805,
     "end_time": "2020-09-11T06:00:56.643641",
     "exception": false,
     "start_time": "2020-09-11T06:00:56.529836",
     "status": "completed"
    },
    "tags": []
   },
   "source": [
    "`info` shows that there are no null values present. Still we will check in EDA section using `isnull()`\n",
    "\n",
    "Also `info()` shows that apart from `country` column, all the columns are numerical and continuous in nature."
   ]
  },
  {
   "cell_type": "markdown",
   "metadata": {
    "papermill": {
     "duration": 0.111426,
     "end_time": "2020-09-11T06:00:56.867980",
     "exception": false,
     "start_time": "2020-09-11T06:00:56.756554",
     "status": "completed"
    },
    "tags": []
   },
   "source": [
    "### Duplicates analysis"
   ]
  },
  {
   "cell_type": "code",
   "execution_count": 12,
   "metadata": {
    "papermill": {
     "duration": 0.126004,
     "end_time": "2020-09-11T06:00:57.106967",
     "exception": false,
     "start_time": "2020-09-11T06:00:56.980963",
     "status": "completed"
    },
    "tags": []
   },
   "outputs": [
    {
     "data": {
      "text/plain": [
       "0"
      ]
     },
     "execution_count": 12,
     "metadata": {},
     "output_type": "execute_result"
    }
   ],
   "source": [
    "country_df.duplicated().sum()"
   ]
  },
  {
   "cell_type": "code",
   "execution_count": 13,
   "metadata": {
    "papermill": {
     "duration": 0.127547,
     "end_time": "2020-09-11T06:00:57.347599",
     "exception": false,
     "start_time": "2020-09-11T06:00:57.220052",
     "status": "completed"
    },
    "tags": []
   },
   "outputs": [
    {
     "data": {
      "text/plain": [
       "life_expec    13\n",
       "total_fer     13\n",
       "child_mort    14\n",
       "imports       14\n",
       "income        14\n",
       "index         15\n",
       "country       15\n",
       "exports       15\n",
       "health        15\n",
       "inflation     15\n",
       "gdpp          15\n",
       "dtype: int64"
      ]
     },
     "execution_count": 13,
     "metadata": {},
     "output_type": "execute_result"
    }
   ],
   "source": [
    "# Checking the number of unique values each column possess to identify categorical columns\n",
    "country_df.nunique().sort_values()"
   ]
  },
  {
   "cell_type": "markdown",
   "metadata": {
    "papermill": {
     "duration": 0.113932,
     "end_time": "2020-09-11T06:00:57.575709",
     "exception": false,
     "start_time": "2020-09-11T06:00:57.461777",
     "status": "completed"
    },
    "tags": []
   },
   "source": [
    "`nunique()` shows that there are no categorical variables in the dataframe and all variables are numerical continuous variables.\n",
    "\n",
    "Also there are `167` rows and `country` has `167` unique values which means the column **country** is unique in each row and hence there are no duplicate records"
   ]
  },
  {
   "cell_type": "markdown",
   "metadata": {
    "papermill": {
     "duration": 0.112905,
     "end_time": "2020-09-11T06:00:57.802178",
     "exception": false,
     "start_time": "2020-09-11T06:00:57.689273",
     "status": "completed"
    },
    "tags": []
   },
   "source": [
    "### Statistical summary"
   ]
  },
  {
   "cell_type": "code",
   "execution_count": 14,
   "metadata": {
    "papermill": {
     "duration": 0.154883,
     "end_time": "2020-09-11T06:00:58.070533",
     "exception": false,
     "start_time": "2020-09-11T06:00:57.915650",
     "status": "completed"
    },
    "tags": []
   },
   "outputs": [
    {
     "data": {
      "text/html": [
       "<div>\n",
       "<style scoped>\n",
       "    .dataframe tbody tr th:only-of-type {\n",
       "        vertical-align: middle;\n",
       "    }\n",
       "\n",
       "    .dataframe tbody tr th {\n",
       "        vertical-align: top;\n",
       "    }\n",
       "\n",
       "    .dataframe thead th {\n",
       "        text-align: right;\n",
       "    }\n",
       "</style>\n",
       "<table border=\"1\" class=\"dataframe\">\n",
       "  <thead>\n",
       "    <tr style=\"text-align: right;\">\n",
       "      <th></th>\n",
       "      <th>index</th>\n",
       "      <th>child_mort</th>\n",
       "      <th>exports</th>\n",
       "      <th>health</th>\n",
       "      <th>imports</th>\n",
       "      <th>income</th>\n",
       "      <th>inflation</th>\n",
       "      <th>life_expec</th>\n",
       "      <th>total_fer</th>\n",
       "      <th>gdpp</th>\n",
       "    </tr>\n",
       "  </thead>\n",
       "  <tbody>\n",
       "    <tr>\n",
       "      <th>count</th>\n",
       "      <td>15.000000</td>\n",
       "      <td>15.000000</td>\n",
       "      <td>15.000000</td>\n",
       "      <td>15.000000</td>\n",
       "      <td>15.000000</td>\n",
       "      <td>15.000000</td>\n",
       "      <td>15.000000</td>\n",
       "      <td>15.000000</td>\n",
       "      <td>15.000000</td>\n",
       "      <td>15.000000</td>\n",
       "    </tr>\n",
       "    <tr>\n",
       "      <th>mean</th>\n",
       "      <td>80.266667</td>\n",
       "      <td>5.346667</td>\n",
       "      <td>63.420000</td>\n",
       "      <td>7.934667</td>\n",
       "      <td>55.180000</td>\n",
       "      <td>45680.000000</td>\n",
       "      <td>3.961467</td>\n",
       "      <td>80.260000</td>\n",
       "      <td>1.742667</td>\n",
       "      <td>38340.000000</td>\n",
       "    </tr>\n",
       "    <tr>\n",
       "      <th>std</th>\n",
       "      <td>43.992640</td>\n",
       "      <td>2.700494</td>\n",
       "      <td>50.634294</td>\n",
       "      <td>3.219163</td>\n",
       "      <td>47.098744</td>\n",
       "      <td>16978.987013</td>\n",
       "      <td>5.340131</td>\n",
       "      <td>1.849247</td>\n",
       "      <td>0.349519</td>\n",
       "      <td>6746.512326</td>\n",
       "    </tr>\n",
       "    <tr>\n",
       "      <th>min</th>\n",
       "      <td>15.000000</td>\n",
       "      <td>2.600000</td>\n",
       "      <td>15.000000</td>\n",
       "      <td>2.630000</td>\n",
       "      <td>13.600000</td>\n",
       "      <td>28300.000000</td>\n",
       "      <td>-1.900000</td>\n",
       "      <td>76.500000</td>\n",
       "      <td>1.150000</td>\n",
       "      <td>21100.000000</td>\n",
       "    </tr>\n",
       "    <tr>\n",
       "      <th>25%</th>\n",
       "      <td>53.500000</td>\n",
       "      <td>3.400000</td>\n",
       "      <td>29.250000</td>\n",
       "      <td>4.965000</td>\n",
       "      <td>28.050000</td>\n",
       "      <td>36000.000000</td>\n",
       "      <td>0.554500</td>\n",
       "      <td>79.950000</td>\n",
       "      <td>1.405000</td>\n",
       "      <td>35150.000000</td>\n",
       "    </tr>\n",
       "    <tr>\n",
       "      <th>50%</th>\n",
       "      <td>75.000000</td>\n",
       "      <td>4.200000</td>\n",
       "      <td>50.200000</td>\n",
       "      <td>9.400000</td>\n",
       "      <td>37.100000</td>\n",
       "      <td>38800.000000</td>\n",
       "      <td>1.880000</td>\n",
       "      <td>80.300000</td>\n",
       "      <td>1.860000</td>\n",
       "      <td>38900.000000</td>\n",
       "    </tr>\n",
       "    <tr>\n",
       "      <th>75%</th>\n",
       "      <td>104.500000</td>\n",
       "      <td>6.500000</td>\n",
       "      <td>71.900000</td>\n",
       "      <td>9.870000</td>\n",
       "      <td>60.550000</td>\n",
       "      <td>49350.000000</td>\n",
       "      <td>4.650000</td>\n",
       "      <td>81.550000</td>\n",
       "      <td>1.975000</td>\n",
       "      <td>43150.000000</td>\n",
       "    </tr>\n",
       "    <tr>\n",
       "      <th>max</th>\n",
       "      <td>158.000000</td>\n",
       "      <td>10.800000</td>\n",
       "      <td>200.000000</td>\n",
       "      <td>11.900000</td>\n",
       "      <td>174.000000</td>\n",
       "      <td>80600.000000</td>\n",
       "      <td>16.700000</td>\n",
       "      <td>82.800000</td>\n",
       "      <td>2.210000</td>\n",
       "      <td>46600.000000</td>\n",
       "    </tr>\n",
       "  </tbody>\n",
       "</table>\n",
       "</div>"
      ],
      "text/plain": [
       "            index  child_mort     exports     health     imports        income  inflation  life_expec  total_fer          gdpp\n",
       "count   15.000000   15.000000   15.000000  15.000000   15.000000     15.000000  15.000000   15.000000  15.000000     15.000000\n",
       "mean    80.266667    5.346667   63.420000   7.934667   55.180000  45680.000000   3.961467   80.260000   1.742667  38340.000000\n",
       "std     43.992640    2.700494   50.634294   3.219163   47.098744  16978.987013   5.340131    1.849247   0.349519   6746.512326\n",
       "min     15.000000    2.600000   15.000000   2.630000   13.600000  28300.000000  -1.900000   76.500000   1.150000  21100.000000\n",
       "25%     53.500000    3.400000   29.250000   4.965000   28.050000  36000.000000   0.554500   79.950000   1.405000  35150.000000\n",
       "50%     75.000000    4.200000   50.200000   9.400000   37.100000  38800.000000   1.880000   80.300000   1.860000  38900.000000\n",
       "75%    104.500000    6.500000   71.900000   9.870000   60.550000  49350.000000   4.650000   81.550000   1.975000  43150.000000\n",
       "max    158.000000   10.800000  200.000000  11.900000  174.000000  80600.000000  16.700000   82.800000   2.210000  46600.000000"
      ]
     },
     "execution_count": 14,
     "metadata": {},
     "output_type": "execute_result"
    }
   ],
   "source": [
    "# Checking the numerical columns data distribution\n",
    "country_df.describe()"
   ]
  },
  {
   "cell_type": "markdown",
   "metadata": {
    "papermill": {
     "duration": 0.113294,
     "end_time": "2020-09-11T06:00:58.296513",
     "exception": false,
     "start_time": "2020-09-11T06:00:58.183219",
     "status": "completed"
    },
    "tags": []
   },
   "source": [
    "Summary statistics from `describe()` indicates the presence of outliers. We can visualize the distribution and percentile of each column in Section 2.3 using boxplots"
   ]
  },
  {
   "cell_type": "markdown",
   "metadata": {
    "papermill": {
     "duration": 0.114245,
     "end_time": "2020-09-11T06:00:58.524627",
     "exception": false,
     "start_time": "2020-09-11T06:00:58.410382",
     "status": "completed"
    },
    "tags": []
   },
   "source": [
    "# 2. Exploratory Data Analysis (EDA)\n",
    "## 2.1 Null Values Analysis"
   ]
  },
  {
   "cell_type": "code",
   "execution_count": 15,
   "metadata": {
    "papermill": {
     "duration": 0.123468,
     "end_time": "2020-09-11T06:00:58.762246",
     "exception": false,
     "start_time": "2020-09-11T06:00:58.638778",
     "status": "completed"
    },
    "tags": []
   },
   "outputs": [
    {
     "name": "stdout",
     "output_type": "stream",
     "text": [
      "index         0\n",
      "country       0\n",
      "child_mort    0\n",
      "exports       0\n",
      "health        0\n",
      "imports       0\n",
      "income        0\n",
      "inflation     0\n",
      "life_expec    0\n",
      "total_fer     0\n",
      "gdpp          0\n",
      "dtype: int64\n"
     ]
    }
   ],
   "source": [
    "# Looking for any null value in any column \n",
    "print(country_df.isnull().sum())"
   ]
  },
  {
   "cell_type": "markdown",
   "metadata": {
    "papermill": {
     "duration": 0.113544,
     "end_time": "2020-09-11T06:00:58.990141",
     "exception": false,
     "start_time": "2020-09-11T06:00:58.876597",
     "status": "completed"
    },
    "tags": []
   },
   "source": [
    "Both `info()` and `isnull()` output indicate that there are no null values in the given dataset."
   ]
  },
  {
   "cell_type": "markdown",
   "metadata": {
    "papermill": {
     "duration": 0.113268,
     "end_time": "2020-09-11T06:00:59.216495",
     "exception": false,
     "start_time": "2020-09-11T06:00:59.103227",
     "status": "completed"
    },
    "tags": []
   },
   "source": [
    "## 2.2 Derived Data\n",
    "\n",
    "From the data dictionary in section 1, we saw that exports, health and imports are given as percentage of GDP. Hence we have to convert these columns to absolute values as clustering uses `Euclidean Distance` between values to group the countries"
   ]
  },
  {
   "cell_type": "code",
   "execution_count": 16,
   "metadata": {
    "papermill": {
     "duration": 0.133813,
     "end_time": "2020-09-11T06:00:59.463786",
     "exception": false,
     "start_time": "2020-09-11T06:00:59.329973",
     "status": "completed"
    },
    "tags": []
   },
   "outputs": [
    {
     "data": {
      "text/html": [
       "<div>\n",
       "<style scoped>\n",
       "    .dataframe tbody tr th:only-of-type {\n",
       "        vertical-align: middle;\n",
       "    }\n",
       "\n",
       "    .dataframe tbody tr th {\n",
       "        vertical-align: top;\n",
       "    }\n",
       "\n",
       "    .dataframe thead th {\n",
       "        text-align: right;\n",
       "    }\n",
       "</style>\n",
       "<table border=\"1\" class=\"dataframe\">\n",
       "  <thead>\n",
       "    <tr style=\"text-align: right;\">\n",
       "      <th></th>\n",
       "      <th>index</th>\n",
       "      <th>country</th>\n",
       "      <th>child_mort</th>\n",
       "      <th>exports</th>\n",
       "      <th>health</th>\n",
       "      <th>imports</th>\n",
       "      <th>income</th>\n",
       "      <th>inflation</th>\n",
       "      <th>life_expec</th>\n",
       "      <th>total_fer</th>\n",
       "      <th>gdpp</th>\n",
       "    </tr>\n",
       "  </thead>\n",
       "  <tbody>\n",
       "    <tr>\n",
       "      <th>0</th>\n",
       "      <td>15</td>\n",
       "      <td>Belgium</td>\n",
       "      <td>4.5</td>\n",
       "      <td>76.4</td>\n",
       "      <td>10.70</td>\n",
       "      <td>74.7</td>\n",
       "      <td>41100</td>\n",
       "      <td>1.880</td>\n",
       "      <td>80.0</td>\n",
       "      <td>1.86</td>\n",
       "      <td>44400</td>\n",
       "    </tr>\n",
       "    <tr>\n",
       "      <th>1</th>\n",
       "      <td>23</td>\n",
       "      <td>Brunei</td>\n",
       "      <td>10.5</td>\n",
       "      <td>67.4</td>\n",
       "      <td>2.84</td>\n",
       "      <td>28.0</td>\n",
       "      <td>80600</td>\n",
       "      <td>16.700</td>\n",
       "      <td>77.1</td>\n",
       "      <td>1.84</td>\n",
       "      <td>35300</td>\n",
       "    </tr>\n",
       "    <tr>\n",
       "      <th>2</th>\n",
       "      <td>42</td>\n",
       "      <td>Cyprus</td>\n",
       "      <td>3.6</td>\n",
       "      <td>50.2</td>\n",
       "      <td>5.97</td>\n",
       "      <td>57.5</td>\n",
       "      <td>33900</td>\n",
       "      <td>2.010</td>\n",
       "      <td>79.9</td>\n",
       "      <td>1.42</td>\n",
       "      <td>30800</td>\n",
       "    </tr>\n",
       "    <tr>\n",
       "      <th>3</th>\n",
       "      <td>53</td>\n",
       "      <td>Finland</td>\n",
       "      <td>3.0</td>\n",
       "      <td>38.7</td>\n",
       "      <td>8.95</td>\n",
       "      <td>37.4</td>\n",
       "      <td>39800</td>\n",
       "      <td>0.351</td>\n",
       "      <td>80.0</td>\n",
       "      <td>1.87</td>\n",
       "      <td>46200</td>\n",
       "    </tr>\n",
       "    <tr>\n",
       "      <th>4</th>\n",
       "      <td>54</td>\n",
       "      <td>France</td>\n",
       "      <td>4.2</td>\n",
       "      <td>26.8</td>\n",
       "      <td>11.90</td>\n",
       "      <td>28.1</td>\n",
       "      <td>36900</td>\n",
       "      <td>1.050</td>\n",
       "      <td>81.4</td>\n",
       "      <td>2.03</td>\n",
       "      <td>40600</td>\n",
       "    </tr>\n",
       "  </tbody>\n",
       "</table>\n",
       "</div>"
      ],
      "text/plain": [
       "   index  country  child_mort  exports  health  imports  income  inflation  life_expec  total_fer   gdpp\n",
       "0     15  Belgium         4.5     76.4   10.70     74.7   41100      1.880        80.0       1.86  44400\n",
       "1     23   Brunei        10.5     67.4    2.84     28.0   80600     16.700        77.1       1.84  35300\n",
       "2     42   Cyprus         3.6     50.2    5.97     57.5   33900      2.010        79.9       1.42  30800\n",
       "3     53  Finland         3.0     38.7    8.95     37.4   39800      0.351        80.0       1.87  46200\n",
       "4     54   France         4.2     26.8   11.90     28.1   36900      1.050        81.4       2.03  40600"
      ]
     },
     "execution_count": 16,
     "metadata": {},
     "output_type": "execute_result"
    }
   ],
   "source": [
    "country_df.head() # Lets check data before conversion"
   ]
  },
  {
   "cell_type": "code",
   "execution_count": 17,
   "metadata": {
    "papermill": {
     "duration": 0.159401,
     "end_time": "2020-09-11T06:00:59.737349",
     "exception": false,
     "start_time": "2020-09-11T06:00:59.577948",
     "status": "completed"
    },
    "tags": []
   },
   "outputs": [
    {
     "data": {
      "text/html": [
       "<div>\n",
       "<style scoped>\n",
       "    .dataframe tbody tr th:only-of-type {\n",
       "        vertical-align: middle;\n",
       "    }\n",
       "\n",
       "    .dataframe tbody tr th {\n",
       "        vertical-align: top;\n",
       "    }\n",
       "\n",
       "    .dataframe thead th {\n",
       "        text-align: right;\n",
       "    }\n",
       "</style>\n",
       "<table border=\"1\" class=\"dataframe\">\n",
       "  <thead>\n",
       "    <tr style=\"text-align: right;\">\n",
       "      <th></th>\n",
       "      <th>index</th>\n",
       "      <th>country</th>\n",
       "      <th>child_mort</th>\n",
       "      <th>exports</th>\n",
       "      <th>health</th>\n",
       "      <th>imports</th>\n",
       "      <th>income</th>\n",
       "      <th>inflation</th>\n",
       "      <th>life_expec</th>\n",
       "      <th>total_fer</th>\n",
       "      <th>gdpp</th>\n",
       "    </tr>\n",
       "  </thead>\n",
       "  <tbody>\n",
       "    <tr>\n",
       "      <th>0</th>\n",
       "      <td>15</td>\n",
       "      <td>Belgium</td>\n",
       "      <td>4.5</td>\n",
       "      <td>33921.6</td>\n",
       "      <td>4750.80</td>\n",
       "      <td>33166.8</td>\n",
       "      <td>41100</td>\n",
       "      <td>1.880</td>\n",
       "      <td>80.0</td>\n",
       "      <td>1.86</td>\n",
       "      <td>44400</td>\n",
       "    </tr>\n",
       "    <tr>\n",
       "      <th>1</th>\n",
       "      <td>23</td>\n",
       "      <td>Brunei</td>\n",
       "      <td>10.5</td>\n",
       "      <td>23792.2</td>\n",
       "      <td>1002.52</td>\n",
       "      <td>9884.0</td>\n",
       "      <td>80600</td>\n",
       "      <td>16.700</td>\n",
       "      <td>77.1</td>\n",
       "      <td>1.84</td>\n",
       "      <td>35300</td>\n",
       "    </tr>\n",
       "    <tr>\n",
       "      <th>2</th>\n",
       "      <td>42</td>\n",
       "      <td>Cyprus</td>\n",
       "      <td>3.6</td>\n",
       "      <td>15461.6</td>\n",
       "      <td>1838.76</td>\n",
       "      <td>17710.0</td>\n",
       "      <td>33900</td>\n",
       "      <td>2.010</td>\n",
       "      <td>79.9</td>\n",
       "      <td>1.42</td>\n",
       "      <td>30800</td>\n",
       "    </tr>\n",
       "    <tr>\n",
       "      <th>3</th>\n",
       "      <td>53</td>\n",
       "      <td>Finland</td>\n",
       "      <td>3.0</td>\n",
       "      <td>17879.4</td>\n",
       "      <td>4134.90</td>\n",
       "      <td>17278.8</td>\n",
       "      <td>39800</td>\n",
       "      <td>0.351</td>\n",
       "      <td>80.0</td>\n",
       "      <td>1.87</td>\n",
       "      <td>46200</td>\n",
       "    </tr>\n",
       "    <tr>\n",
       "      <th>4</th>\n",
       "      <td>54</td>\n",
       "      <td>France</td>\n",
       "      <td>4.2</td>\n",
       "      <td>10880.8</td>\n",
       "      <td>4831.40</td>\n",
       "      <td>11408.6</td>\n",
       "      <td>36900</td>\n",
       "      <td>1.050</td>\n",
       "      <td>81.4</td>\n",
       "      <td>2.03</td>\n",
       "      <td>40600</td>\n",
       "    </tr>\n",
       "  </tbody>\n",
       "</table>\n",
       "</div>"
      ],
      "text/plain": [
       "   index  country  child_mort  exports   health  imports  income  inflation  life_expec  total_fer   gdpp\n",
       "0     15  Belgium         4.5  33921.6  4750.80  33166.8   41100      1.880        80.0       1.86  44400\n",
       "1     23   Brunei        10.5  23792.2  1002.52   9884.0   80600     16.700        77.1       1.84  35300\n",
       "2     42   Cyprus         3.6  15461.6  1838.76  17710.0   33900      2.010        79.9       1.42  30800\n",
       "3     53  Finland         3.0  17879.4  4134.90  17278.8   39800      0.351        80.0       1.87  46200\n",
       "4     54   France         4.2  10880.8  4831.40  11408.6   36900      1.050        81.4       2.03  40600"
      ]
     },
     "execution_count": 17,
     "metadata": {},
     "output_type": "execute_result"
    }
   ],
   "source": [
    "# Converting exports,imports and health spending percentages to absolute values.\n",
    "\n",
    "country_df['exports'] = country_df['exports'] * country_df['gdpp']/100\n",
    "country_df['imports'] = country_df['imports'] * country_df['gdpp']/100\n",
    "country_df['health'] = country_df['health'] * country_df['gdpp']/100\n",
    "\n",
    "country_df.head() # Lets check data after conversion"
   ]
  },
  {
   "cell_type": "markdown",
   "metadata": {
    "papermill": {
     "duration": 0.116021,
     "end_time": "2020-09-11T06:00:59.969869",
     "exception": false,
     "start_time": "2020-09-11T06:00:59.853848",
     "status": "completed"
    },
    "tags": []
   },
   "source": [
    "Now all the columns have absolute values and we can visualize the data for more understanding"
   ]
  },
  {
   "cell_type": "markdown",
   "metadata": {
    "papermill": {
     "duration": 0.14961,
     "end_time": "2020-09-11T06:01:37.238873",
     "exception": false,
     "start_time": "2020-09-11T06:01:37.089263",
     "status": "completed"
    },
    "tags": []
   },
   "source": [
    "# 3. Prepare the data for modelling\n",
    "## 3.1 Outlier Treatment\n",
    "\n",
    "Outliers can be treated in two ways:\n",
    "1. Statistical treatment where all outliers can be either removed or capped. Since we have dataset of 167 rows, deleting outliers will remove the countries which might be in need of aid. \n",
    "\n",
    "2. Domain based outlier treatment:\n",
    "Here we will cap or remove outliers based on the data's relevance to the business need. We will cap the outliers as discussed in the above section.\n",
    "\n",
    "There are different ranges in capping the outliers:\n",
    "- Soft range: 1th and 99th percentile.\n",
    "- Mid range: 5th and 95th percentile.\n",
    "- 25th and 75th percentile.\n",
    "\n",
    "We will be doing **Soft capping** as the data points are few and the capping should not influence the clusters much."
   ]
  },
  {
   "cell_type": "code",
   "execution_count": 18,
   "metadata": {
    "papermill": {
     "duration": 0.170713,
     "end_time": "2020-09-11T06:01:37.558829",
     "exception": false,
     "start_time": "2020-09-11T06:01:37.388116",
     "status": "completed"
    },
    "tags": []
   },
   "outputs": [],
   "source": [
    "higher_outlier_cols = ['exports','imports','health','income','total_fer','gdpp']\n",
    "\n",
    "for col in higher_outlier_cols:\n",
    "    Q4 = country_df[col].quantile(0.99) # Get 99th quantile\n",
    "    country_df.loc[country_df[col] >= Q4, col] = Q4 # outlier capping"
   ]
  },
  {
   "cell_type": "code",
   "execution_count": 19,
   "metadata": {},
   "outputs": [
    {
     "data": {
      "text/plain": [
       "['index',\n",
       " 'child_mort',\n",
       " 'exports',\n",
       " 'health',\n",
       " 'imports',\n",
       " 'income',\n",
       " 'inflation',\n",
       " 'life_expec',\n",
       " 'total_fer',\n",
       " 'gdpp']"
      ]
     },
     "execution_count": 19,
     "metadata": {},
     "output_type": "execute_result"
    }
   ],
   "source": [
    "numerical_cols = list(country_df.columns) # Get all column names\n",
    "numerical_cols.remove('country') # Remove country as its not numerical\n",
    "numerical_cols"
   ]
  },
  {
   "cell_type": "code",
   "execution_count": 24,
   "metadata": {},
   "outputs": [],
   "source": [
    "def boxplot_for_outlier_analysis():\n",
    "    plt.figure(figsize=[16,12])\n",
    "    i=1 # to track the ith plot in the subplot\n",
    "    for col in numerical_cols:\n",
    "        if(i>9):\n",
    "            break\n",
    "        plt.subplot(3,3,i)\n",
    "        sns.boxplot(y=country_df[col])\n",
    "        plt.title(col)\n",
    "        plt.ylabel('')\n",
    "        i+=1"
   ]
  },
  {
   "cell_type": "code",
   "execution_count": 25,
   "metadata": {
    "papermill": {
     "duration": 1.061374,
     "end_time": "2020-09-11T06:01:38.771422",
     "exception": false,
     "start_time": "2020-09-11T06:01:37.710048",
     "status": "completed"
    },
    "tags": []
   },
   "outputs": [
    {
     "data": {
      "image/png": "[encoded data removed]",
      "text/plain": [
       "<Figure size 1152x864 with 9 Axes>"
      ]
     },
     "metadata": {
      "needs_background": "light"
     },
     "output_type": "display_data"
    }
   ],
   "source": [
    "boxplot_for_outlier_analysis()"
   ]
  },
  {
   "cell_type": "code",
   "execution_count": 26,
   "metadata": {
    "papermill": {
     "duration": 0.193924,
     "end_time": "2020-09-11T06:01:39.119481",
     "exception": false,
     "start_time": "2020-09-11T06:01:38.925557",
     "status": "completed"
    },
    "tags": []
   },
   "outputs": [
    {
     "data": {
      "text/html": [
       "<div>\n",
       "<style scoped>\n",
       "    .dataframe tbody tr th:only-of-type {\n",
       "        vertical-align: middle;\n",
       "    }\n",
       "\n",
       "    .dataframe tbody tr th {\n",
       "        vertical-align: top;\n",
       "    }\n",
       "\n",
       "    .dataframe thead th {\n",
       "        text-align: right;\n",
       "    }\n",
       "</style>\n",
       "<table border=\"1\" class=\"dataframe\">\n",
       "  <thead>\n",
       "    <tr style=\"text-align: right;\">\n",
       "      <th></th>\n",
       "      <th>index</th>\n",
       "      <th>child_mort</th>\n",
       "      <th>exports</th>\n",
       "      <th>health</th>\n",
       "      <th>imports</th>\n",
       "      <th>income</th>\n",
       "      <th>inflation</th>\n",
       "      <th>life_expec</th>\n",
       "      <th>total_fer</th>\n",
       "      <th>gdpp</th>\n",
       "    </tr>\n",
       "  </thead>\n",
       "  <tbody>\n",
       "    <tr>\n",
       "      <th>count</th>\n",
       "      <td>15.000000</td>\n",
       "      <td>15.000000</td>\n",
       "      <td>15.000000</td>\n",
       "      <td>15.000000</td>\n",
       "      <td>15.000000</td>\n",
       "      <td>15.000000</td>\n",
       "      <td>15.000000</td>\n",
       "      <td>15.000000</td>\n",
       "      <td>15.000000</td>\n",
       "      <td>15.000000</td>\n",
       "    </tr>\n",
       "    <tr>\n",
       "      <th>mean</th>\n",
       "      <td>80.266667</td>\n",
       "      <td>5.346667</td>\n",
       "      <td>23261.841600</td>\n",
       "      <td>3073.056933</td>\n",
       "      <td>20075.939467</td>\n",
       "      <td>45629.600000</td>\n",
       "      <td>3.961467</td>\n",
       "      <td>80.260000</td>\n",
       "      <td>1.742573</td>\n",
       "      <td>38336.266667</td>\n",
       "    </tr>\n",
       "    <tr>\n",
       "      <th>std</th>\n",
       "      <td>43.992640</td>\n",
       "      <td>2.700494</td>\n",
       "      <td>19068.211662</td>\n",
       "      <td>1445.803754</td>\n",
       "      <td>17004.623842</td>\n",
       "      <td>16868.691188</td>\n",
       "      <td>5.340131</td>\n",
       "      <td>1.849247</td>\n",
       "      <td>0.349386</td>\n",
       "      <td>6741.628708</td>\n",
       "    </tr>\n",
       "    <tr>\n",
       "      <th>min</th>\n",
       "      <td>15.000000</td>\n",
       "      <td>2.600000</td>\n",
       "      <td>6675.000000</td>\n",
       "      <td>1002.520000</td>\n",
       "      <td>6052.000000</td>\n",
       "      <td>28300.000000</td>\n",
       "      <td>-1.900000</td>\n",
       "      <td>76.500000</td>\n",
       "      <td>1.150000</td>\n",
       "      <td>21100.000000</td>\n",
       "    </tr>\n",
       "    <tr>\n",
       "      <th>10%</th>\n",
       "      <td>30.600000</td>\n",
       "      <td>2.880000</td>\n",
       "      <td>9497.400000</td>\n",
       "      <td>1119.930000</td>\n",
       "      <td>9556.640000</td>\n",
       "      <td>32940.000000</td>\n",
       "      <td>0.100000</td>\n",
       "      <td>77.540000</td>\n",
       "      <td>1.372000</td>\n",
       "      <td>31960.000000</td>\n",
       "    </tr>\n",
       "    <tr>\n",
       "      <th>25%</th>\n",
       "      <td>53.500000</td>\n",
       "      <td>3.400000</td>\n",
       "      <td>10925.300000</td>\n",
       "      <td>1831.955000</td>\n",
       "      <td>10646.300000</td>\n",
       "      <td>36000.000000</td>\n",
       "      <td>0.554500</td>\n",
       "      <td>79.950000</td>\n",
       "      <td>1.405000</td>\n",
       "      <td>35150.000000</td>\n",
       "    </tr>\n",
       "    <tr>\n",
       "      <th>50%</th>\n",
       "      <td>75.000000</td>\n",
       "      <td>4.200000</td>\n",
       "      <td>17879.400000</td>\n",
       "      <td>3411.740000</td>\n",
       "      <td>15507.800000</td>\n",
       "      <td>38800.000000</td>\n",
       "      <td>1.880000</td>\n",
       "      <td>80.300000</td>\n",
       "      <td>1.860000</td>\n",
       "      <td>38900.000000</td>\n",
       "    </tr>\n",
       "    <tr>\n",
       "      <th>75%</th>\n",
       "      <td>104.500000</td>\n",
       "      <td>6.500000</td>\n",
       "      <td>26437.250000</td>\n",
       "      <td>4178.975000</td>\n",
       "      <td>20201.350000</td>\n",
       "      <td>49350.000000</td>\n",
       "      <td>4.650000</td>\n",
       "      <td>81.550000</td>\n",
       "      <td>1.975000</td>\n",
       "      <td>43150.000000</td>\n",
       "    </tr>\n",
       "    <tr>\n",
       "      <th>90%</th>\n",
       "      <td>147.400000</td>\n",
       "      <td>9.740000</td>\n",
       "      <td>33266.160000</td>\n",
       "      <td>4799.160000</td>\n",
       "      <td>32897.680000</td>\n",
       "      <td>73960.000000</td>\n",
       "      <td>11.980000</td>\n",
       "      <td>82.420000</td>\n",
       "      <td>2.188000</td>\n",
       "      <td>45520.000000</td>\n",
       "    </tr>\n",
       "    <tr>\n",
       "      <th>95%</th>\n",
       "      <td>157.300000</td>\n",
       "      <td>10.590000</td>\n",
       "      <td>49215.427200</td>\n",
       "      <td>4835.889200</td>\n",
       "      <td>45529.437600</td>\n",
       "      <td>76593.200000</td>\n",
       "      <td>13.760000</td>\n",
       "      <td>82.730000</td>\n",
       "      <td>2.202580</td>\n",
       "      <td>46303.200000</td>\n",
       "    </tr>\n",
       "    <tr>\n",
       "      <th>99%</th>\n",
       "      <td>157.860000</td>\n",
       "      <td>10.758000</td>\n",
       "      <td>77763.904640</td>\n",
       "      <td>4844.269040</td>\n",
       "      <td>68606.361120</td>\n",
       "      <td>79193.840000</td>\n",
       "      <td>16.112000</td>\n",
       "      <td>82.786000</td>\n",
       "      <td>2.207396</td>\n",
       "      <td>46495.840000</td>\n",
       "    </tr>\n",
       "    <tr>\n",
       "      <th>max</th>\n",
       "      <td>158.000000</td>\n",
       "      <td>10.800000</td>\n",
       "      <td>84901.024000</td>\n",
       "      <td>4846.364000</td>\n",
       "      <td>74375.592000</td>\n",
       "      <td>79844.000000</td>\n",
       "      <td>16.700000</td>\n",
       "      <td>82.800000</td>\n",
       "      <td>2.208600</td>\n",
       "      <td>46544.000000</td>\n",
       "    </tr>\n",
       "  </tbody>\n",
       "</table>\n",
       "</div>"
      ],
      "text/plain": [
       "            index  child_mort       exports       health       imports        income  inflation  life_expec  total_fer          gdpp\n",
       "count   15.000000   15.000000     15.000000    15.000000     15.000000     15.000000  15.000000   15.000000  15.000000     15.000000\n",
       "mean    80.266667    5.346667  23261.841600  3073.056933  20075.939467  45629.600000   3.961467   80.260000   1.742573  38336.266667\n",
       "std     43.992640    2.700494  19068.211662  1445.803754  17004.623842  16868.691188   5.340131    1.849247   0.349386   6741.628708\n",
       "min     15.000000    2.600000   6675.000000  1002.520000   6052.000000  28300.000000  -1.900000   76.500000   1.150000  21100.000000\n",
       "10%     30.600000    2.880000   9497.400000  1119.930000   9556.640000  32940.000000   0.100000   77.540000   1.372000  31960.000000\n",
       "25%     53.500000    3.400000  10925.300000  1831.955000  10646.300000  36000.000000   0.554500   79.950000   1.405000  35150.000000\n",
       "50%     75.000000    4.200000  17879.400000  3411.740000  15507.800000  38800.000000   1.880000   80.300000   1.860000  38900.000000\n",
       "75%    104.500000    6.500000  26437.250000  4178.975000  20201.350000  49350.000000   4.650000   81.550000   1.975000  43150.000000\n",
       "90%    147.400000    9.740000  33266.160000  4799.160000  32897.680000  73960.000000  11.980000   82.420000   2.188000  45520.000000\n",
       "95%    157.300000   10.590000  49215.427200  4835.889200  45529.437600  76593.200000  13.760000   82.730000   2.202580  46303.200000\n",
       "99%    157.860000   10.758000  77763.904640  4844.269040  68606.361120  79193.840000  16.112000   82.786000   2.207396  46495.840000\n",
       "max    158.000000   10.800000  84901.024000  4846.364000  74375.592000  79844.000000  16.700000   82.800000   2.208600  46544.000000"
      ]
     },
     "execution_count": 26,
     "metadata": {},
     "output_type": "execute_result"
    }
   ],
   "source": [
    "country_df.describe(percentiles=[.1,.5,.25,.75,.90,.95,.99])"
   ]
  },
  {
   "cell_type": "markdown",
   "metadata": {
    "papermill": {
     "duration": 0.157258,
     "end_time": "2020-09-11T06:01:39.431013",
     "exception": false,
     "start_time": "2020-09-11T06:01:39.273755",
     "status": "completed"
    },
    "tags": []
   },
   "source": [
    "There are some outliers present in the data after outlier treatment as we have used soft capping. Lets proceed and cluster the countries based on the prepared data."
   ]
  },
  {
   "cell_type": "markdown",
   "metadata": {
    "papermill": {
     "duration": 0.153512,
     "end_time": "2020-09-11T06:01:39.737344",
     "exception": false,
     "start_time": "2020-09-11T06:01:39.583832",
     "status": "completed"
    },
    "tags": []
   },
   "source": [
    "## 3.2 Hopkins test to understand cluster tendency\n",
    "\n",
    "- Before we apply any clustering algorithm to the given data, it's important to check whether the given data has some meaningful clusters or not. This usually means the given data is not random. \n",
    "\n",
    "- The process to evaluate the data to check if the data is feasible for clustering or not is know as the **clustering tendency**. \n",
    "\n",
    "- To check cluster tendency, we use **Hopkins test.**\n",
    "\n",
    "- `Hopkins test` examines whether data points differ significantly from uniformly distributed data in the multidimensional space."
   ]
  },
  {
   "cell_type": "code",
   "execution_count": 27,
   "metadata": {
    "papermill": {
     "duration": 0.169664,
     "end_time": "2020-09-11T06:01:40.061205",
     "exception": false,
     "start_time": "2020-09-11T06:01:39.891541",
     "status": "completed"
    },
    "tags": []
   },
   "outputs": [],
   "source": [
    "#Calculating the Hopkins statistic\n",
    "from sklearn.neighbors import NearestNeighbors\n",
    "from random import sample\n",
    "from numpy.random import uniform\n",
    "import numpy as np\n",
    "from math import isnan\n",
    " \n",
    "def hopkins(X):\n",
    "    d = X.shape[1]\n",
    "    #d = len(vars) # columns\n",
    "    n = len(X) # rows\n",
    "    m = int(0.1 * n) \n",
    "    nbrs = NearestNeighbors(n_neighbors=1).fit(X.values)\n",
    " \n",
    "    rand_X = sample(range(0, n, 1), m)\n",
    " \n",
    "    ujd = []\n",
    "    wjd = []\n",
    "    for j in range(0, m):\n",
    "        u_dist, _ = nbrs.kneighbors(uniform(np.amin(X,axis=0),np.amax(X,axis=0),d).reshape(1, -1), 2, return_distance=True)\n",
    "        ujd.append(u_dist[0][1])\n",
    "        w_dist, _ = nbrs.kneighbors(X.iloc[rand_X[j]].values.reshape(1, -1), 2, return_distance=True)\n",
    "        wjd.append(w_dist[0][1])\n",
    " \n",
    "    H = sum(ujd) / (sum(ujd) + sum(wjd))\n",
    "    if isnan(H):\n",
    "        print(ujd, wjd)\n",
    "        H = 0\n",
    " \n",
    "    return H"
   ]
  },
  {
   "cell_type": "code",
   "execution_count": 28,
   "metadata": {
    "papermill": {
     "duration": 0.191119,
     "end_time": "2020-09-11T06:01:40.404914",
     "exception": false,
     "start_time": "2020-09-11T06:01:40.213795",
     "status": "completed"
    },
    "tags": []
   },
   "outputs": [
    {
     "data": {
      "text/plain": [
       "0.9148903097561274"
      ]
     },
     "execution_count": 28,
     "metadata": {},
     "output_type": "execute_result"
    }
   ],
   "source": [
    "hopkins(country_df[numerical_cols])"
   ]
  },
  {
   "cell_type": "markdown",
   "metadata": {
    "papermill": {
     "duration": 0.156091,
     "end_time": "2020-09-11T06:01:40.717433",
     "exception": false,
     "start_time": "2020-09-11T06:01:40.561342",
     "status": "completed"
    },
    "tags": []
   },
   "source": [
    "### Interpretation of Hopkins score:\n",
    "\n",
    "- Hopkins Statistic over .70 is a good score that indicated that the data is good for cluster analysis. \n",
    "- A 'Hopkins Statistic' value close to 1 tends to indicate the data is highly clustered, random data will tend to result in values around 0.5, and uniformly distributed data will tend to result in values close to 0.\n",
    "\n",
    "\n",
    "Hopkins test results will vary as it picks a set of samples each time. On running it multiple times, it can be seen that this data set gives Hopkins statistic value in the range of 0.86 to 0.97 and hence our dataset is good for clustering and lets proceed our analysis "
   ]
  },
  {
   "cell_type": "markdown",
   "metadata": {
    "papermill": {
     "duration": 0.153755,
     "end_time": "2020-09-11T06:01:41.026898",
     "exception": false,
     "start_time": "2020-09-11T06:01:40.873143",
     "status": "completed"
    },
    "tags": []
   },
   "source": [
    "## 3.3 Scaling"
   ]
  },
  {
   "cell_type": "markdown",
   "metadata": {
    "papermill": {
     "duration": 0.154414,
     "end_time": "2020-09-11T06:01:41.336857",
     "exception": false,
     "start_time": "2020-09-11T06:01:41.182443",
     "status": "completed"
    },
    "tags": []
   },
   "source": [
    "- Feature scaling is essential for machine learning algorithms that calculate distances between data. \n",
    "- Most of distance based models e.g. k-means and Hierarchical clustering need standard scaling so that large-scaled features don't dominate the variation.\n",
    "- If we do not scale, the feature with a higher value range starts dominating when calculating distances\n",
    "- We have chosen `StandardScaler` as clustering does not work well when the variance differs a lot."
   ]
  },
  {
   "cell_type": "code",
   "execution_count": 29,
   "metadata": {
    "papermill": {
     "duration": 0.184613,
     "end_time": "2020-09-11T06:01:41.675491",
     "exception": false,
     "start_time": "2020-09-11T06:01:41.490878",
     "status": "completed"
    },
    "tags": []
   },
   "outputs": [
    {
     "data": {
      "text/html": [
       "<div>\n",
       "<style scoped>\n",
       "    .dataframe tbody tr th:only-of-type {\n",
       "        vertical-align: middle;\n",
       "    }\n",
       "\n",
       "    .dataframe tbody tr th {\n",
       "        vertical-align: top;\n",
       "    }\n",
       "\n",
       "    .dataframe thead th {\n",
       "        text-align: right;\n",
       "    }\n",
       "</style>\n",
       "<table border=\"1\" class=\"dataframe\">\n",
       "  <thead>\n",
       "    <tr style=\"text-align: right;\">\n",
       "      <th></th>\n",
       "      <th>index</th>\n",
       "      <th>child_mort</th>\n",
       "      <th>exports</th>\n",
       "      <th>health</th>\n",
       "      <th>imports</th>\n",
       "      <th>income</th>\n",
       "      <th>inflation</th>\n",
       "      <th>life_expec</th>\n",
       "      <th>total_fer</th>\n",
       "      <th>gdpp</th>\n",
       "    </tr>\n",
       "  </thead>\n",
       "  <tbody>\n",
       "    <tr>\n",
       "      <th>0</th>\n",
       "      <td>-1.535653</td>\n",
       "      <td>-0.324527</td>\n",
       "      <td>0.578654</td>\n",
       "      <td>1.201151</td>\n",
       "      <td>0.796861</td>\n",
       "      <td>-0.277946</td>\n",
       "      <td>-0.403459</td>\n",
       "      <td>-0.145533</td>\n",
       "      <td>0.347891</td>\n",
       "      <td>0.931015</td>\n",
       "    </tr>\n",
       "    <tr>\n",
       "      <th>1</th>\n",
       "      <td>-1.347422</td>\n",
       "      <td>1.975271</td>\n",
       "      <td>0.028790</td>\n",
       "      <td>-1.482365</td>\n",
       "      <td>-0.620399</td>\n",
       "      <td>2.099467</td>\n",
       "      <td>2.469159</td>\n",
       "      <td>-1.768780</td>\n",
       "      <td>0.288638</td>\n",
       "      <td>-0.466183</td>\n",
       "    </tr>\n",
       "    <tr>\n",
       "      <th>2</th>\n",
       "      <td>-0.900372</td>\n",
       "      <td>-0.669497</td>\n",
       "      <td>-0.423428</td>\n",
       "      <td>-0.883674</td>\n",
       "      <td>-0.144018</td>\n",
       "      <td>-0.719753</td>\n",
       "      <td>-0.378260</td>\n",
       "      <td>-0.201507</td>\n",
       "      <td>-0.955663</td>\n",
       "      <td>-1.157106</td>\n",
       "    </tr>\n",
       "    <tr>\n",
       "      <th>3</th>\n",
       "      <td>-0.641555</td>\n",
       "      <td>-0.899477</td>\n",
       "      <td>-0.292180</td>\n",
       "      <td>0.760208</td>\n",
       "      <td>-0.170266</td>\n",
       "      <td>-0.357717</td>\n",
       "      <td>-0.699831</td>\n",
       "      <td>-0.145533</td>\n",
       "      <td>0.377517</td>\n",
       "      <td>1.207384</td>\n",
       "    </tr>\n",
       "    <tr>\n",
       "      <th>4</th>\n",
       "      <td>-0.618026</td>\n",
       "      <td>-0.439517</td>\n",
       "      <td>-0.672092</td>\n",
       "      <td>1.258855</td>\n",
       "      <td>-0.527595</td>\n",
       "      <td>-0.535667</td>\n",
       "      <td>-0.564341</td>\n",
       "      <td>0.638104</td>\n",
       "      <td>0.851537</td>\n",
       "      <td>0.347570</td>\n",
       "    </tr>\n",
       "    <tr>\n",
       "      <th>5</th>\n",
       "      <td>-0.523910</td>\n",
       "      <td>-0.439517</td>\n",
       "      <td>-0.302929</td>\n",
       "      <td>1.269569</td>\n",
       "      <td>-0.278070</td>\n",
       "      <td>-0.320899</td>\n",
       "      <td>-0.620940</td>\n",
       "      <td>-0.089558</td>\n",
       "      <td>-1.044542</td>\n",
       "      <td>0.531816</td>\n",
       "    </tr>\n",
       "    <tr>\n",
       "      <th>6</th>\n",
       "      <td>-0.288621</td>\n",
       "      <td>-1.052796</td>\n",
       "      <td>-0.048163</td>\n",
       "      <td>0.619671</td>\n",
       "      <td>-0.117679</td>\n",
       "      <td>-0.419079</td>\n",
       "      <td>0.292405</td>\n",
       "      <td>0.973948</td>\n",
       "      <td>1.355182</td>\n",
       "      <td>0.547170</td>\n",
       "    </tr>\n",
       "    <tr>\n",
       "      <th>7</th>\n",
       "      <td>-0.123919</td>\n",
       "      <td>-0.516177</td>\n",
       "      <td>-0.773017</td>\n",
       "      <td>0.242474</td>\n",
       "      <td>-0.629311</td>\n",
       "      <td>-0.578620</td>\n",
       "      <td>-0.706033</td>\n",
       "      <td>0.806026</td>\n",
       "      <td>-0.837158</td>\n",
       "      <td>-0.389414</td>\n",
       "    </tr>\n",
       "    <tr>\n",
       "      <th>8</th>\n",
       "      <td>-0.076861</td>\n",
       "      <td>-0.822817</td>\n",
       "      <td>-0.900400</td>\n",
       "      <td>0.823318</td>\n",
       "      <td>-0.853659</td>\n",
       "      <td>-0.603165</td>\n",
       "      <td>-1.136151</td>\n",
       "      <td>1.421741</td>\n",
       "      <td>-1.044542</td>\n",
       "      <td>0.946369</td>\n",
       "    </tr>\n",
       "    <tr>\n",
       "      <th>9</th>\n",
       "      <td>0.040783</td>\n",
       "      <td>2.090261</td>\n",
       "      <td>0.131240</td>\n",
       "      <td>-1.475185</td>\n",
       "      <td>-0.509613</td>\n",
       "      <td>1.814502</td>\n",
       "      <td>1.403073</td>\n",
       "      <td>-1.153065</td>\n",
       "      <td>1.380661</td>\n",
       "      <td>0.025139</td>\n",
       "    </tr>\n",
       "    <tr>\n",
       "      <th>10</th>\n",
       "      <td>0.417246</td>\n",
       "      <td>0.557062</td>\n",
       "      <td>0.489704</td>\n",
       "      <td>-0.893418</td>\n",
       "      <td>0.755907</td>\n",
       "      <td>-1.063381</td>\n",
       "      <td>-0.025483</td>\n",
       "      <td>0.022390</td>\n",
       "      <td>-1.133420</td>\n",
       "      <td>-2.646427</td>\n",
       "    </tr>\n",
       "    <tr>\n",
       "      <th>11</th>\n",
       "      <td>0.723121</td>\n",
       "      <td>0.327082</td>\n",
       "      <td>-0.708446</td>\n",
       "      <td>0.236718</td>\n",
       "      <td>-0.647670</td>\n",
       "      <td>-0.817932</td>\n",
       "      <td>-0.044866</td>\n",
       "      <td>0.358234</td>\n",
       "      <td>1.266304</td>\n",
       "      <td>-0.711845</td>\n",
       "    </tr>\n",
       "    <tr>\n",
       "      <th>12</th>\n",
       "      <td>1.240757</td>\n",
       "      <td>-0.976136</td>\n",
       "      <td>3.346020</td>\n",
       "      <td>-0.878949</td>\n",
       "      <td>3.305306</td>\n",
       "      <td>1.624279</td>\n",
       "      <td>-0.776783</td>\n",
       "      <td>1.365767</td>\n",
       "      <td>-1.755571</td>\n",
       "      <td>1.260202</td>\n",
       "    </tr>\n",
       "    <tr>\n",
       "      <th>13</th>\n",
       "      <td>1.805451</td>\n",
       "      <td>1.247002</td>\n",
       "      <td>0.213507</td>\n",
       "      <td>-1.282992</td>\n",
       "      <td>0.132947</td>\n",
       "      <td>0.734529</td>\n",
       "      <td>1.655057</td>\n",
       "      <td>-2.104624</td>\n",
       "      <td>0.377517</td>\n",
       "      <td>-0.512245</td>\n",
       "    </tr>\n",
       "    <tr>\n",
       "      <th>14</th>\n",
       "      <td>1.828980</td>\n",
       "      <td>-0.056217</td>\n",
       "      <td>-0.667261</td>\n",
       "      <td>0.484617</td>\n",
       "      <td>-0.492740</td>\n",
       "      <td>-0.578620</td>\n",
       "      <td>-0.463547</td>\n",
       "      <td>0.022390</td>\n",
       "      <td>0.525648</td>\n",
       "      <td>0.086555</td>\n",
       "    </tr>\n",
       "  </tbody>\n",
       "</table>\n",
       "</div>"
      ],
      "text/plain": [
       "       index  child_mort   exports    health   imports    income  inflation  life_expec  total_fer      gdpp\n",
       "0  -1.535653   -0.324527  0.578654  1.201151  0.796861 -0.277946  -0.403459   -0.145533   0.347891  0.931015\n",
       "1  -1.347422    1.975271  0.028790 -1.482365 -0.620399  2.099467   2.469159   -1.768780   0.288638 -0.466183\n",
       "2  -0.900372   -0.669497 -0.423428 -0.883674 -0.144018 -0.719753  -0.378260   -0.201507  -0.955663 -1.157106\n",
       "3  -0.641555   -0.899477 -0.292180  0.760208 -0.170266 -0.357717  -0.699831   -0.145533   0.377517  1.207384\n",
       "4  -0.618026   -0.439517 -0.672092  1.258855 -0.527595 -0.535667  -0.564341    0.638104   0.851537  0.347570\n",
       "5  -0.523910   -0.439517 -0.302929  1.269569 -0.278070 -0.320899  -0.620940   -0.089558  -1.044542  0.531816\n",
       "6  -0.288621   -1.052796 -0.048163  0.619671 -0.117679 -0.419079   0.292405    0.973948   1.355182  0.547170\n",
       "7  -0.123919   -0.516177 -0.773017  0.242474 -0.629311 -0.578620  -0.706033    0.806026  -0.837158 -0.389414\n",
       "8  -0.076861   -0.822817 -0.900400  0.823318 -0.853659 -0.603165  -1.136151    1.421741  -1.044542  0.946369\n",
       "9   0.040783    2.090261  0.131240 -1.475185 -0.509613  1.814502   1.403073   -1.153065   1.380661  0.025139\n",
       "10  0.417246    0.557062  0.489704 -0.893418  0.755907 -1.063381  -0.025483    0.022390  -1.133420 -2.646427\n",
       "11  0.723121    0.327082 -0.708446  0.236718 -0.647670 -0.817932  -0.044866    0.358234   1.266304 -0.711845\n",
       "12  1.240757   -0.976136  3.346020 -0.878949  3.305306  1.624279  -0.776783    1.365767  -1.755571  1.260202\n",
       "13  1.805451    1.247002  0.213507 -1.282992  0.132947  0.734529   1.655057   -2.104624   0.377517 -0.512245\n",
       "14  1.828980   -0.056217 -0.667261  0.484617 -0.492740 -0.578620  -0.463547    0.022390   0.525648  0.086555"
      ]
     },
     "execution_count": 29,
     "metadata": {},
     "output_type": "execute_result"
    }
   ],
   "source": [
    "# Scaling on numerical features\n",
    "\n",
    "scaler = StandardScaler() # instantiate scaler\n",
    "\n",
    "country_df_scaled = scaler.fit_transform(country_df[numerical_cols]) # fit parameters to have mean 0 and SD as 1 and transform data accordingly\n",
    "country_df_scaled = pd.DataFrame(country_df_scaled, columns = numerical_cols) # convert to dataframe\n",
    "country_df_scaled"
   ]
  },
  {
   "cell_type": "markdown",
   "metadata": {
    "papermill": {
     "duration": 0.157552,
     "end_time": "2020-09-11T06:01:41.987787",
     "exception": false,
     "start_time": "2020-09-11T06:01:41.830235",
     "status": "completed"
    },
    "tags": []
   },
   "source": [
    "# 4. Build model using K-means algorithm for clustering\n",
    "\n",
    "Now that scaling is done on all numerical features, lets build the unsupervised model using clustering technique. There are many algorithms available in clustering. We will pick two common algorithms such as \n",
    "1. K-means algorithm\n",
    "2. Hierachical Clustering\n",
    "\n",
    "and build the model using both the methods and cluster the countries identify the countries in need\n",
    "\n",
    "**Kmeans algorithm** is an iterative algorithm that tries to partition the dataset into K pre-defined distinct non-overlapping subgroups (clusters) where each data point belongs to only one group.\n"
   ]
  },
  {
   "cell_type": "markdown",
   "metadata": {
    "papermill": {
     "duration": 0.158607,
     "end_time": "2020-09-11T06:01:42.305017",
     "exception": false,
     "start_time": "2020-09-11T06:01:42.146410",
     "status": "completed"
    },
    "tags": []
   },
   "source": [
    "## 4.1 Metrics to choose the value of K\n",
    "The main challenge in this algorithm is to find the optimal value of k or `number of clusters`. There are two common approaches that help to find k:\n",
    "\n",
    "1. Elbow method\n",
    "2. Silhouette Analysis"
   ]
  },
  {
   "cell_type": "markdown",
   "metadata": {
    "papermill": {
     "duration": 0.154296,
     "end_time": "2020-09-11T06:01:42.623321",
     "exception": false,
     "start_time": "2020-09-11T06:01:42.469025",
     "status": "completed"
    },
    "tags": []
   },
   "source": [
    "### 4.1.1 Elbow Method\n",
    "\n",
    "Elbow method gives us an idea on what a good k number of clusters would be based on the `sum of squared distance (SSD) ` between data points and their assigned clusters’ centroids. We pick k at the spot where SSE starts to flatten out and forming an elbow. \n",
    "\n",
    "Lets use `KMeans()` from `sklearn` to form clusters of 2,3,4 and so on till 11 and calculate SSD and plot the number of clusters and SSD and see where the elbow is formed."
   ]
  },
  {
   "cell_type": "code",
   "execution_count": 30,
   "metadata": {
    "papermill": {
     "duration": 0.763432,
     "end_time": "2020-09-11T06:01:43.542749",
     "exception": false,
     "start_time": "2020-09-11T06:01:42.779317",
     "status": "completed"
    },
    "tags": []
   },
   "outputs": [
    {
     "data": {
      "image/png": "[encoded data removed]",
      "text/plain": [
       "<Figure size 432x288 with 1 Axes>"
      ]
     },
     "metadata": {
      "needs_background": "light"
     },
     "output_type": "display_data"
    }
   ],
   "source": [
    "# Elbow curve-ssd\n",
    "ssd = []\n",
    "for k in range(2, 11):\n",
    "    kmean = KMeans(n_clusters = k).fit(country_df_scaled)\n",
    "    ssd.append([k, kmean.inertia_])\n",
    "    \n",
    "temp = pd.DataFrame(ssd)\n",
    "ax = plt.axes()\n",
    "ax.plot(temp[0], temp[1]) # plot the SSDs for each n_clusters\n",
    "ax.axvline(3, ls='dotted',color='red') # elbow formed as 3\n",
    "plt.xlabel('Number of clusters')\n",
    "plt.ylabel('SSD')\n",
    "plt.show()"
   ]
  },
  {
   "cell_type": "markdown",
   "metadata": {
    "papermill": {
     "duration": 0.156047,
     "end_time": "2020-09-11T06:01:43.857031",
     "exception": false,
     "start_time": "2020-09-11T06:01:43.700984",
     "status": "completed"
    },
    "tags": []
   },
   "source": [
    "### INFERENCE:\n",
    "\n",
    "SSD flattens and forms an elbow at 3 indicating that 3 is optimal value of k.\n",
    "\n",
    "### 4.1.2 Silhouette Analysis\n",
    "\n",
    "The silhouette score is a measure of how similar an object is to its own cluster (`cohesion`) compared to other clusters (`separation`).\n",
    "\n",
    "Lets use `KMeans()` from `sklearn` to form clusters of 2,3,4 and so on till 11 and calculate `silhouette_score` and plot the `number of clusters` against `silhouette_score`"
   ]
  },
  {
   "cell_type": "code",
   "execution_count": 31,
   "metadata": {
    "papermill": {
     "duration": 0.816175,
     "end_time": "2020-09-11T06:01:44.829954",
     "exception": false,
     "start_time": "2020-09-11T06:01:44.013779",
     "status": "completed"
    },
    "tags": []
   },
   "outputs": [
    {
     "name": "stdout",
     "output_type": "stream",
     "text": [
      "For k_clusters=2, the silhouette score is 0.385958\n",
      "For k_clusters=3, the silhouette score is 0.419062\n",
      "For k_clusters=4, the silhouette score is 0.319510\n",
      "For k_clusters=5, the silhouette score is 0.269517\n",
      "For k_clusters=6, the silhouette score is 0.222297\n",
      "For k_clusters=7, the silhouette score is 0.230173\n",
      "For k_clusters=8, the silhouette score is 0.194301\n",
      "For k_clusters=9, the silhouette score is 0.166627\n",
      "For k_clusters=10, the silhouette score is 0.122690\n"
     ]
    },
    {
     "data": {
      "image/png": "[encoded data removed]",
      "text/plain": [
       "<Figure size 432x288 with 1 Axes>"
      ]
     },
     "metadata": {
      "needs_background": "light"
     },
     "output_type": "display_data"
    }
   ],
   "source": [
    "# Silhouette score\n",
    "\n",
    "from sklearn.metrics import silhouette_score\n",
    "silhouette_scores_list = []\n",
    "for k in range(2, 11):\n",
    "    kmean = KMeans(n_clusters = k).fit(country_df_scaled) # intialise kmeans\n",
    "    silhouette_avg = silhouette_score(country_df_scaled, kmean.labels_) # silhouette score\n",
    "    silhouette_scores_list.append([k, silhouette_avg])\n",
    "    print(\"For k_clusters={0}, the silhouette score is {1:2f}\".format(k, silhouette_avg))\n",
    "    \n",
    "temp = pd.DataFrame(silhouette_scores_list)    \n",
    "ax = plt.axes()\n",
    "ax.plot(temp[0], temp[1])\n",
    "ax.axvline(3, ls='dotted',color='green') # elbow formed as 3\n",
    "ax.axvline(4, ls='dotted',color='blue') # elbow formed as 3\n",
    "ax.axvline(5, ls='dotted',color='maroon') # elbow formed as 3\n",
    "plt.xlabel('Number of clusters')\n",
    "plt.ylabel('Silhouette score')\n",
    "plt.show()"
   ]
  },
  {
   "cell_type": "markdown",
   "metadata": {
    "papermill": {
     "duration": 0.160068,
     "end_time": "2020-09-11T06:01:45.151286",
     "exception": false,
     "start_time": "2020-09-11T06:01:44.991218",
     "status": "completed"
    },
    "tags": []
   },
   "source": [
    "### INFERENCES:\n",
    "\n",
    "- The silhouette score is maximum when k is 2 which is 0.47\n",
    "- 2 is very less number of clusters and countries within the 2 clusters might be very different.\n",
    "\n",
    "So lets look at the next optimal silhouette score.\n",
    "\n",
    "- 3,4,5 seem to have good silhouette scores. As k increases, silhouette score decreases and hence these will have definitely lesser sihouette score than that of k=2.\n",
    "- Though elbow curve indicate 3 is optimal number and silhouette score of 3 seem to be the best, lets use K-means algorithm for k=3,4,5 and see which value of k gives us better `cluster profiling`"
   ]
  },
  {
   "cell_type": "markdown",
   "metadata": {
    "papermill": {
     "duration": 0.157128,
     "end_time": "2020-09-11T06:01:45.465817",
     "exception": false,
     "start_time": "2020-09-11T06:01:45.308689",
     "status": "completed"
    },
    "tags": []
   },
   "source": [
    "## 4.2 Iterating with k=3,4 and 5"
   ]
  },
  {
   "cell_type": "code",
   "execution_count": 32,
   "metadata": {
    "papermill": {
     "duration": 0.170725,
     "end_time": "2020-09-11T06:01:45.796600",
     "exception": false,
     "start_time": "2020-09-11T06:01:45.625875",
     "status": "completed"
    },
    "tags": []
   },
   "outputs": [],
   "source": [
    "# Function for all steps of Kmean Clustering; Call with K=3,4,5\n",
    "def K_means_model(k):\n",
    "    kmean = KMeans(n_clusters = k, random_state = 50+k)\n",
    "    kmean.fit(country_df_scaled)\n",
    "    country_df_kmean = country_df.copy() # copy the actual data into a new dataframe to explain the cluster profiling\n",
    "    label  = pd.DataFrame(kmean.labels_, columns= ['k_means_cluster_label'])\n",
    "    country_df_kmean = pd.concat([country_df_kmean, label], axis =1) # assign the countries with the cluster labels.\n",
    "    print(\"Number of countries in each cluster(k=%s):\" %k)\n",
    "    print(country_df_kmean.k_means_cluster_label.value_counts())# shows how many countries are in each cluster\n",
    "    return(country_df_kmean) # returns clustered labelled dataset for further analysis"
   ]
  },
  {
   "cell_type": "code",
   "execution_count": 33,
   "metadata": {
    "papermill": {
     "duration": 0.304451,
     "end_time": "2020-09-11T06:01:46.259975",
     "exception": false,
     "start_time": "2020-09-11T06:01:45.955524",
     "status": "completed"
    },
    "tags": []
   },
   "outputs": [
    {
     "name": "stdout",
     "output_type": "stream",
     "text": [
      "Number of countries in each cluster(k=3):\n",
      "1    11\n",
      "0     3\n",
      "2     1\n",
      "Name: k_means_cluster_label, dtype: int64\n",
      "Number of countries in each cluster(k=4):\n",
      "0    9\n",
      "1    3\n",
      "3    2\n",
      "2    1\n",
      "Name: k_means_cluster_label, dtype: int64\n",
      "Number of countries in each cluster(k=5):\n",
      "3    7\n",
      "2    3\n",
      "4    2\n",
      "0    2\n",
      "1    1\n",
      "Name: k_means_cluster_label, dtype: int64\n"
     ]
    }
   ],
   "source": [
    "# Created Models are available globally to access inside cluster profiling functions\n",
    "k_3_model = K_means_model(3) # K means model with 3 clusters\n",
    "k_4_model = K_means_model(4) # K means model with 4 clusters\n",
    "k_5_model = K_means_model(5) # K means model with 5 clusters"
   ]
  },
  {
   "cell_type": "markdown",
   "metadata": {
    "papermill": {
     "duration": 0.159442,
     "end_time": "2020-09-11T06:01:46.577888",
     "exception": false,
     "start_time": "2020-09-11T06:01:46.418446",
     "status": "completed"
    },
    "tags": []
   },
   "source": [
    "### Cluster Analysis:\n",
    "\n",
    "We can see that when there are 3 or 4 clusters, there are some distribution of countries. When there are 5 clusters, there is a country which is in a separate cluster. This would make actionable items a bit tedious. We will progress with these 3 models and profile the clusters created by each model based on 3 important parameters i.e **GDPP, Income and Child_mortality** and see which is a good value of k."
   ]
  },
  {
   "cell_type": "code",
   "execution_count": 34,
   "metadata": {
    "papermill": {
     "duration": 0.172912,
     "end_time": "2020-09-11T06:01:46.910317",
     "exception": false,
     "start_time": "2020-09-11T06:01:46.737405",
     "status": "completed"
    },
    "tags": []
   },
   "outputs": [],
   "source": [
    "# Function for Profiling Clusters to plot scatter plots\n",
    "def clusters_scatter_plots(col1, col2):\n",
    "    plt.figure(figsize=(18,8))\n",
    "    plt.subplot(2,2,1)\n",
    "    sns.scatterplot(x = col1, y = col2, hue = 'k_means_cluster_label', data = k_3_model, palette=['blue','green','red'])\n",
    "    plt.subplot(2,2,2)\n",
    "    sns.scatterplot(x = col1, y = col2, hue = 'k_means_cluster_label', data = k_4_model, palette=['orange','blue','green','red'])\n",
    "    plt.subplot(2,2,3)\n",
    "    sns.scatterplot(x = col1, y = col2, hue = 'k_means_cluster_label', data = k_5_model, palette=['red','orange','maroon','green','blue'])"
   ]
  },
  {
   "cell_type": "markdown",
   "metadata": {
    "papermill": {
     "duration": 0.157476,
     "end_time": "2020-09-11T06:01:47.226029",
     "exception": false,
     "start_time": "2020-09-11T06:01:47.068553",
     "status": "completed"
    },
    "tags": []
   },
   "source": [
    "### Visualization of GDPP vs Income when k=3,4,5"
   ]
  },
  {
   "cell_type": "code",
   "execution_count": 35,
   "metadata": {
    "papermill": {
     "duration": 0.756862,
     "end_time": "2020-09-11T06:01:48.140450",
     "exception": false,
     "start_time": "2020-09-11T06:01:47.383588",
     "status": "completed"
    },
    "tags": []
   },
   "outputs": [
    {
     "data": {
      "image/png": "[encoded data removed]",
      "text/plain": [
       "<Figure size 1296x576 with 3 Axes>"
      ]
     },
     "metadata": {
      "needs_background": "light"
     },
     "output_type": "display_data"
    }
   ],
   "source": [
    "clusters_scatter_plots('gdpp','income')"
   ]
  },
  {
   "cell_type": "markdown",
   "metadata": {
    "papermill": {
     "duration": 0.15869,
     "end_time": "2020-09-11T06:01:48.460312",
     "exception": false,
     "start_time": "2020-09-11T06:01:48.301622",
     "status": "completed"
    },
    "tags": []
   },
   "source": [
    "### INFERENCES:\n",
    "\n",
    "- When there are 3 or 4 clusters, there is a distinct separation of the clusters.\n",
    "- When there are 5 clusters, as we have seen previously that one of the clusters has just one country, it cannot be seen evidently here.\n",
    "\n",
    "Lets visualize the clusters more and see which helps in understanding the clusters and identifying countries in need."
   ]
  },
  {
   "cell_type": "markdown",
   "metadata": {
    "papermill": {
     "duration": 0.160676,
     "end_time": "2020-09-11T06:01:48.781610",
     "exception": false,
     "start_time": "2020-09-11T06:01:48.620934",
     "status": "completed"
    },
    "tags": []
   },
   "source": [
    "### Visualization of GDPP vs Child mortality when k=3,4,5"
   ]
  },
  {
   "cell_type": "code",
   "execution_count": 36,
   "metadata": {
    "papermill": {
     "duration": 0.938286,
     "end_time": "2020-09-11T06:01:49.880590",
     "exception": false,
     "start_time": "2020-09-11T06:01:48.942304",
     "status": "completed"
    },
    "tags": []
   },
   "outputs": [
    {
     "data": {
      "image/png": "[encoded data removed]",
      "text/plain": [
       "<Figure size 1296x576 with 3 Axes>"
      ]
     },
     "metadata": {
      "needs_background": "light"
     },
     "output_type": "display_data"
    }
   ],
   "source": [
    "clusters_scatter_plots('gdpp','child_mort')"
   ]
  },
  {
   "cell_type": "markdown",
   "metadata": {
    "papermill": {
     "duration": 0.168222,
     "end_time": "2020-09-11T06:01:50.212232",
     "exception": false,
     "start_time": "2020-09-11T06:01:50.044010",
     "status": "completed"
    },
    "tags": []
   },
   "source": [
    "### INFERENCES:\n",
    "\n",
    "This plot is very helpful to see the clustered groups. For e.g. when k=3, we see that cluster 2 require aid as their gdpp is low and child mortality is pretty high.\n",
    "\n",
    "As the cluster labels are picked in random and assigned, we can see similar group is represented as 3 when k=4 and k=5."
   ]
  },
  {
   "cell_type": "markdown",
   "metadata": {
    "papermill": {
     "duration": 0.163612,
     "end_time": "2020-09-11T06:01:50.537908",
     "exception": false,
     "start_time": "2020-09-11T06:01:50.374296",
     "status": "completed"
    },
    "tags": []
   },
   "source": [
    "### Visualization of Child mortality vs Income when k=3,4,5"
   ]
  },
  {
   "cell_type": "code",
   "execution_count": 37,
   "metadata": {
    "papermill": {
     "duration": 0.719797,
     "end_time": "2020-09-11T06:01:51.426164",
     "exception": false,
     "start_time": "2020-09-11T06:01:50.706367",
     "status": "completed"
    },
    "tags": []
   },
   "outputs": [
    {
     "data": {
      "image/png": "[encoded data removed]",
      "text/plain": [
       "<Figure size 1296x576 with 3 Axes>"
      ]
     },
     "metadata": {
      "needs_background": "light"
     },
     "output_type": "display_data"
    }
   ],
   "source": [
    "clusters_scatter_plots('income','child_mort')"
   ]
  },
  {
   "cell_type": "markdown",
   "metadata": {
    "papermill": {
     "duration": 0.164691,
     "end_time": "2020-09-11T06:01:51.758078",
     "exception": false,
     "start_time": "2020-09-11T06:01:51.593387",
     "status": "completed"
    },
    "tags": []
   },
   "source": [
    "### INFERENCES:\n",
    "\n",
    "As we saw in previous two scatter plots, we can see that same cluster which had bad child_moratality rate and low gdpp has low income in this plot."
   ]
  },
  {
   "cell_type": "markdown",
   "metadata": {
    "papermill": {
     "duration": 0.178438,
     "end_time": "2020-09-11T06:02:07.913414",
     "exception": false,
     "start_time": "2020-09-11T06:02:07.734976",
     "status": "completed"
    },
    "tags": []
   },
   "source": [
    "### 4.3 Final Model: K-means clustering with K =3 `\n",
    "\n",
    "Now that we have solved the biggest challenge in K-means algorithm i.e. Find the optimal value of k, we can build our final model using k=3. Lets run `K-means` algorithm on the scaled data set as the clustering takes Euclidean distance as a measure"
   ]
  },
  {
   "cell_type": "code",
   "execution_count": 38,
   "metadata": {
    "papermill": {
     "duration": 0.227205,
     "end_time": "2020-09-11T06:02:08.318189",
     "exception": false,
     "start_time": "2020-09-11T06:02:08.090984",
     "status": "completed"
    },
    "tags": []
   },
   "outputs": [
    {
     "data": {
      "text/plain": [
       "KMeans(n_clusters=3, random_state=50)"
      ]
     },
     "execution_count": 38,
     "metadata": {},
     "output_type": "execute_result"
    }
   ],
   "source": [
    "kmean = KMeans(n_clusters = 3, random_state = 50)\n",
    "kmean.fit(country_df_scaled)"
   ]
  },
  {
   "cell_type": "markdown",
   "metadata": {
    "papermill": {
     "duration": 0.183765,
     "end_time": "2020-09-11T06:02:08.680904",
     "exception": false,
     "start_time": "2020-09-11T06:02:08.497139",
     "status": "completed"
    },
    "tags": []
   },
   "source": [
    "#### Creating Cluster labels using K-means\n",
    "Since scaled data will be a bit confusing while explaining to business people, we will copy the actual data into a new dataframe to explain the cluster labels. We will use this `country_df_kmean_3` for cluster profiling. Lets create a column called `k_means_cluster_label` and concatenate to the `country_df_kmean_3` to assign the countries with the cluster labels."
   ]
  },
  {
   "cell_type": "code",
   "execution_count": 39,
   "metadata": {
    "papermill": {
     "duration": 0.195658,
     "end_time": "2020-09-11T06:02:09.056410",
     "exception": false,
     "start_time": "2020-09-11T06:02:08.860752",
     "status": "completed"
    },
    "tags": []
   },
   "outputs": [
    {
     "data": {
      "text/html": [
       "<div>\n",
       "<style scoped>\n",
       "    .dataframe tbody tr th:only-of-type {\n",
       "        vertical-align: middle;\n",
       "    }\n",
       "\n",
       "    .dataframe tbody tr th {\n",
       "        vertical-align: top;\n",
       "    }\n",
       "\n",
       "    .dataframe thead th {\n",
       "        text-align: right;\n",
       "    }\n",
       "</style>\n",
       "<table border=\"1\" class=\"dataframe\">\n",
       "  <thead>\n",
       "    <tr style=\"text-align: right;\">\n",
       "      <th></th>\n",
       "      <th>k_means_cluster_label</th>\n",
       "    </tr>\n",
       "  </thead>\n",
       "  <tbody>\n",
       "    <tr>\n",
       "      <th>0</th>\n",
       "      <td>0</td>\n",
       "    </tr>\n",
       "    <tr>\n",
       "      <th>1</th>\n",
       "      <td>1</td>\n",
       "    </tr>\n",
       "    <tr>\n",
       "      <th>2</th>\n",
       "      <td>0</td>\n",
       "    </tr>\n",
       "    <tr>\n",
       "      <th>3</th>\n",
       "      <td>0</td>\n",
       "    </tr>\n",
       "    <tr>\n",
       "      <th>4</th>\n",
       "      <td>0</td>\n",
       "    </tr>\n",
       "  </tbody>\n",
       "</table>\n",
       "</div>"
      ],
      "text/plain": [
       "   k_means_cluster_label\n",
       "0                      0\n",
       "1                      1\n",
       "2                      0\n",
       "3                      0\n",
       "4                      0"
      ]
     },
     "execution_count": 39,
     "metadata": {},
     "output_type": "execute_result"
    }
   ],
   "source": [
    "country_df_kmean = country_df.copy() # copy df into new df, as the same df will be used for hierarchical clustering too.\n",
    "label  = pd.DataFrame(kmean.labels_, columns= ['k_means_cluster_label'])\n",
    "label.head()"
   ]
  },
  {
   "cell_type": "code",
   "execution_count": 40,
   "metadata": {
    "papermill": {
     "duration": 0.199452,
     "end_time": "2020-09-11T06:02:09.434835",
     "exception": false,
     "start_time": "2020-09-11T06:02:09.235383",
     "status": "completed"
    },
    "tags": []
   },
   "outputs": [
    {
     "data": {
      "text/html": [
       "<div>\n",
       "<style scoped>\n",
       "    .dataframe tbody tr th:only-of-type {\n",
       "        vertical-align: middle;\n",
       "    }\n",
       "\n",
       "    .dataframe tbody tr th {\n",
       "        vertical-align: top;\n",
       "    }\n",
       "\n",
       "    .dataframe thead th {\n",
       "        text-align: right;\n",
       "    }\n",
       "</style>\n",
       "<table border=\"1\" class=\"dataframe\">\n",
       "  <thead>\n",
       "    <tr style=\"text-align: right;\">\n",
       "      <th></th>\n",
       "      <th>index</th>\n",
       "      <th>country</th>\n",
       "      <th>child_mort</th>\n",
       "      <th>exports</th>\n",
       "      <th>health</th>\n",
       "      <th>imports</th>\n",
       "      <th>income</th>\n",
       "      <th>inflation</th>\n",
       "      <th>life_expec</th>\n",
       "      <th>total_fer</th>\n",
       "      <th>gdpp</th>\n",
       "      <th>k_means_cluster_label</th>\n",
       "    </tr>\n",
       "  </thead>\n",
       "  <tbody>\n",
       "    <tr>\n",
       "      <th>0</th>\n",
       "      <td>15</td>\n",
       "      <td>Belgium</td>\n",
       "      <td>4.5</td>\n",
       "      <td>33921.6</td>\n",
       "      <td>4750.80</td>\n",
       "      <td>33166.8</td>\n",
       "      <td>41100</td>\n",
       "      <td>1.880</td>\n",
       "      <td>80.0</td>\n",
       "      <td>1.86</td>\n",
       "      <td>44400</td>\n",
       "      <td>0</td>\n",
       "    </tr>\n",
       "    <tr>\n",
       "      <th>1</th>\n",
       "      <td>23</td>\n",
       "      <td>Brunei</td>\n",
       "      <td>10.5</td>\n",
       "      <td>23792.2</td>\n",
       "      <td>1002.52</td>\n",
       "      <td>9884.0</td>\n",
       "      <td>79844</td>\n",
       "      <td>16.700</td>\n",
       "      <td>77.1</td>\n",
       "      <td>1.84</td>\n",
       "      <td>35300</td>\n",
       "      <td>1</td>\n",
       "    </tr>\n",
       "    <tr>\n",
       "      <th>2</th>\n",
       "      <td>42</td>\n",
       "      <td>Cyprus</td>\n",
       "      <td>3.6</td>\n",
       "      <td>15461.6</td>\n",
       "      <td>1838.76</td>\n",
       "      <td>17710.0</td>\n",
       "      <td>33900</td>\n",
       "      <td>2.010</td>\n",
       "      <td>79.9</td>\n",
       "      <td>1.42</td>\n",
       "      <td>30800</td>\n",
       "      <td>0</td>\n",
       "    </tr>\n",
       "    <tr>\n",
       "      <th>3</th>\n",
       "      <td>53</td>\n",
       "      <td>Finland</td>\n",
       "      <td>3.0</td>\n",
       "      <td>17879.4</td>\n",
       "      <td>4134.90</td>\n",
       "      <td>17278.8</td>\n",
       "      <td>39800</td>\n",
       "      <td>0.351</td>\n",
       "      <td>80.0</td>\n",
       "      <td>1.87</td>\n",
       "      <td>46200</td>\n",
       "      <td>0</td>\n",
       "    </tr>\n",
       "    <tr>\n",
       "      <th>4</th>\n",
       "      <td>54</td>\n",
       "      <td>France</td>\n",
       "      <td>4.2</td>\n",
       "      <td>10880.8</td>\n",
       "      <td>4831.40</td>\n",
       "      <td>11408.6</td>\n",
       "      <td>36900</td>\n",
       "      <td>1.050</td>\n",
       "      <td>81.4</td>\n",
       "      <td>2.03</td>\n",
       "      <td>40600</td>\n",
       "      <td>0</td>\n",
       "    </tr>\n",
       "  </tbody>\n",
       "</table>\n",
       "</div>"
      ],
      "text/plain": [
       "   index  country  child_mort  exports   health  imports  income  inflation  life_expec  total_fer   gdpp  k_means_cluster_label\n",
       "0     15  Belgium         4.5  33921.6  4750.80  33166.8   41100      1.880        80.0       1.86  44400                      0\n",
       "1     23   Brunei        10.5  23792.2  1002.52   9884.0   79844     16.700        77.1       1.84  35300                      1\n",
       "2     42   Cyprus         3.6  15461.6  1838.76  17710.0   33900      2.010        79.9       1.42  30800                      0\n",
       "3     53  Finland         3.0  17879.4  4134.90  17278.8   39800      0.351        80.0       1.87  46200                      0\n",
       "4     54   France         4.2  10880.8  4831.40  11408.6   36900      1.050        81.4       2.03  40600                      0"
      ]
     },
     "execution_count": 40,
     "metadata": {},
     "output_type": "execute_result"
    }
   ],
   "source": [
    "country_df_kmean = pd.concat([country_df_kmean, label], axis =1)\n",
    "country_df_kmean.head()"
   ]
  },
  {
   "cell_type": "markdown",
   "metadata": {
    "papermill": {
     "duration": 0.179459,
     "end_time": "2020-09-11T06:02:09.794229",
     "exception": false,
     "start_time": "2020-09-11T06:02:09.614770",
     "status": "completed"
    },
    "tags": []
   },
   "source": [
    "### 4.4 INITIAL CLUSTER PROFILING\n",
    "\n",
    "- `value_counts` shows how many countries are clustered under each cluster label. \n",
    "- Lets analyse these 3 clusters and see if we can profile these clusters by comparing their `gdpp`, `child_mort`, `income`\n",
    "- Lets visualize these clusters using `scatter plots`, `barplots` and `boxplots`\n",
    "- We also need to analyse the clusters and see if k=3 helps us to identify the countries which are in dire need of aid"
   ]
  },
  {
   "cell_type": "code",
   "execution_count": 41,
   "metadata": {
    "papermill": {
     "duration": 0.190735,
     "end_time": "2020-09-11T06:02:10.165587",
     "exception": false,
     "start_time": "2020-09-11T06:02:09.974852",
     "status": "completed"
    },
    "tags": []
   },
   "outputs": [
    {
     "data": {
      "text/plain": [
       "0    11\n",
       "1     3\n",
       "2     1\n",
       "Name: k_means_cluster_label, dtype: int64"
      ]
     },
     "execution_count": 41,
     "metadata": {},
     "output_type": "execute_result"
    }
   ],
   "source": [
    "country_df_kmean.k_means_cluster_label.value_counts()"
   ]
  },
  {
   "cell_type": "code",
   "execution_count": 42,
   "metadata": {
    "papermill": {
     "duration": 0.723793,
     "end_time": "2020-09-11T06:02:11.070011",
     "exception": false,
     "start_time": "2020-09-11T06:02:10.346218",
     "status": "completed"
    },
    "tags": []
   },
   "outputs": [
    {
     "data": {
      "image/png": "[encoded data removed]",
      "text/plain": [
       "<Figure size 432x288 with 3 Axes>"
      ]
     },
     "metadata": {
      "needs_background": "light"
     },
     "output_type": "display_data"
    }
   ],
   "source": [
    "# Profiling GDP, INCOME AND CHID_MORT in separate plots\n",
    "\n",
    "grouped_df = country_df_kmean[['gdpp', 'income', 'child_mort','k_means_cluster_label']].groupby('k_means_cluster_label').mean()\n",
    "axes = grouped_df.plot.bar(subplots=True)\n",
    "plt.show()"
   ]
  },
  {
   "cell_type": "code",
   "execution_count": 43,
   "metadata": {
    "papermill": {
     "duration": 0.808913,
     "end_time": "2020-09-11T06:02:12.068461",
     "exception": false,
     "start_time": "2020-09-11T06:02:11.259548",
     "status": "completed"
    },
    "tags": []
   },
   "outputs": [
    {
     "data": {
      "text/plain": [
       "<AxesSubplot:xlabel='k_means_cluster_label'>"
      ]
     },
     "execution_count": 43,
     "metadata": {},
     "output_type": "execute_result"
    },
    {
     "data": {
      "image/png": "[encoded data removed]",
      "text/plain": [
       "<Figure size 432x288 with 1 Axes>"
      ]
     },
     "metadata": {
      "needs_background": "light"
     },
     "output_type": "display_data"
    },
    {
     "data": {
      "image/png": "[encoded data removed]",
      "text/plain": [
       "<Figure size 432x288 with 1 Axes>"
      ]
     },
     "metadata": {
      "needs_background": "light"
     },
     "output_type": "display_data"
    }
   ],
   "source": [
    "# Profiling GDP, INCOME AND CHID_MORT together\n",
    "grouped_df.plot(kind='bar', colormap='Accent')\n",
    "grouped_df.plot(kind='bar',logy=True, colormap='Accent')"
   ]
  },
  {
   "cell_type": "markdown",
   "metadata": {
    "papermill": {
     "duration": 0.225471,
     "end_time": "2020-09-11T06:02:12.478889",
     "exception": false,
     "start_time": "2020-09-11T06:02:12.253418",
     "status": "completed"
    },
    "tags": []
   },
   "source": [
    "### INFERENCES:\n",
    "\n",
    "From the above three plots, We can see that the clusters are grouped as\n",
    "- 0 : Medium GDPP, medium Income and mild child mortality rate.\n",
    "- 1 : High GDPP, High income and very low child mortality rate.\n",
    "- 2 : Low GDPP, Low income and very high mortality rate."
   ]
  },
  {
   "cell_type": "markdown",
   "metadata": {
    "papermill": {
     "duration": 0.198394,
     "end_time": "2020-09-11T06:02:25.228784",
     "exception": false,
     "start_time": "2020-09-11T06:02:25.030390",
     "status": "completed"
    },
    "tags": []
   },
   "source": [
    "# 5 Build unsupervised model using Hierarchical Clustering\n"
   ]
  },
  {
   "cell_type": "markdown",
   "metadata": {
    "papermill": {
     "duration": 0.197868,
     "end_time": "2020-09-11T06:02:25.624619",
     "exception": false,
     "start_time": "2020-09-11T06:02:25.426751",
     "status": "completed"
    },
    "tags": []
   },
   "source": [
    "- We have built an unsupervised model using K-means algorithm. Now lets create a model to cluster the countries using `Hierarchical Clustering`. \n",
    "- Hierarchical clustering starts by treating each observation as a separate cluster. \n",
    "- Then, it repeatedly executes the following two steps: \n",
    "  1. identify the two clusters that are closest together\n",
    "  2. merge the two most similar clusters. \n",
    "  \n",
    "This iterative process continues until all the clusters are merged together. The main output of Hierarchical Clustering is a `dendrogram`, which shows the hierarchical relationship between the clusters\n",
    "\n",
    "### Linkage Criteria\n",
    "\n",
    "- There are multiple linkage criteria which determines from where `Euclidean distance` is computed. \n",
    "- It can be computed between \n",
    "  - The two most similar parts of a cluster in a **single-linkage**\n",
    "  - The two least similar bits of a cluster in a **complete-linkage\n",
    "  - The center of the clusters in a mean or average-linkage\n",
    "  \n",
    "We will do both single and complete linkages here and try to interpret their dendograms."
   ]
  },
  {
   "cell_type": "markdown",
   "metadata": {
    "papermill": {
     "duration": 0.198919,
     "end_time": "2020-09-11T06:02:26.023563",
     "exception": false,
     "start_time": "2020-09-11T06:02:25.824644",
     "status": "completed"
    },
    "tags": []
   },
   "source": [
    "## 5.1 Single linkage"
   ]
  },
  {
   "cell_type": "code",
   "execution_count": 44,
   "metadata": {
    "papermill": {
     "duration": 0.221081,
     "end_time": "2020-09-11T06:02:26.443285",
     "exception": false,
     "start_time": "2020-09-11T06:02:26.222204",
     "status": "completed"
    },
    "tags": []
   },
   "outputs": [
    {
     "data": {
      "text/html": [
       "<div>\n",
       "<style scoped>\n",
       "    .dataframe tbody tr th:only-of-type {\n",
       "        vertical-align: middle;\n",
       "    }\n",
       "\n",
       "    .dataframe tbody tr th {\n",
       "        vertical-align: top;\n",
       "    }\n",
       "\n",
       "    .dataframe thead th {\n",
       "        text-align: right;\n",
       "    }\n",
       "</style>\n",
       "<table border=\"1\" class=\"dataframe\">\n",
       "  <thead>\n",
       "    <tr style=\"text-align: right;\">\n",
       "      <th></th>\n",
       "      <th>index</th>\n",
       "      <th>child_mort</th>\n",
       "      <th>exports</th>\n",
       "      <th>health</th>\n",
       "      <th>imports</th>\n",
       "      <th>income</th>\n",
       "      <th>inflation</th>\n",
       "      <th>life_expec</th>\n",
       "      <th>total_fer</th>\n",
       "      <th>gdpp</th>\n",
       "    </tr>\n",
       "  </thead>\n",
       "  <tbody>\n",
       "    <tr>\n",
       "      <th>0</th>\n",
       "      <td>-1.535653</td>\n",
       "      <td>-0.324527</td>\n",
       "      <td>0.578654</td>\n",
       "      <td>1.201151</td>\n",
       "      <td>0.796861</td>\n",
       "      <td>-0.277946</td>\n",
       "      <td>-0.403459</td>\n",
       "      <td>-0.145533</td>\n",
       "      <td>0.347891</td>\n",
       "      <td>0.931015</td>\n",
       "    </tr>\n",
       "    <tr>\n",
       "      <th>1</th>\n",
       "      <td>-1.347422</td>\n",
       "      <td>1.975271</td>\n",
       "      <td>0.028790</td>\n",
       "      <td>-1.482365</td>\n",
       "      <td>-0.620399</td>\n",
       "      <td>2.099467</td>\n",
       "      <td>2.469159</td>\n",
       "      <td>-1.768780</td>\n",
       "      <td>0.288638</td>\n",
       "      <td>-0.466183</td>\n",
       "    </tr>\n",
       "    <tr>\n",
       "      <th>2</th>\n",
       "      <td>-0.900372</td>\n",
       "      <td>-0.669497</td>\n",
       "      <td>-0.423428</td>\n",
       "      <td>-0.883674</td>\n",
       "      <td>-0.144018</td>\n",
       "      <td>-0.719753</td>\n",
       "      <td>-0.378260</td>\n",
       "      <td>-0.201507</td>\n",
       "      <td>-0.955663</td>\n",
       "      <td>-1.157106</td>\n",
       "    </tr>\n",
       "    <tr>\n",
       "      <th>3</th>\n",
       "      <td>-0.641555</td>\n",
       "      <td>-0.899477</td>\n",
       "      <td>-0.292180</td>\n",
       "      <td>0.760208</td>\n",
       "      <td>-0.170266</td>\n",
       "      <td>-0.357717</td>\n",
       "      <td>-0.699831</td>\n",
       "      <td>-0.145533</td>\n",
       "      <td>0.377517</td>\n",
       "      <td>1.207384</td>\n",
       "    </tr>\n",
       "    <tr>\n",
       "      <th>4</th>\n",
       "      <td>-0.618026</td>\n",
       "      <td>-0.439517</td>\n",
       "      <td>-0.672092</td>\n",
       "      <td>1.258855</td>\n",
       "      <td>-0.527595</td>\n",
       "      <td>-0.535667</td>\n",
       "      <td>-0.564341</td>\n",
       "      <td>0.638104</td>\n",
       "      <td>0.851537</td>\n",
       "      <td>0.347570</td>\n",
       "    </tr>\n",
       "    <tr>\n",
       "      <th>5</th>\n",
       "      <td>-0.523910</td>\n",
       "      <td>-0.439517</td>\n",
       "      <td>-0.302929</td>\n",
       "      <td>1.269569</td>\n",
       "      <td>-0.278070</td>\n",
       "      <td>-0.320899</td>\n",
       "      <td>-0.620940</td>\n",
       "      <td>-0.089558</td>\n",
       "      <td>-1.044542</td>\n",
       "      <td>0.531816</td>\n",
       "    </tr>\n",
       "    <tr>\n",
       "      <th>6</th>\n",
       "      <td>-0.288621</td>\n",
       "      <td>-1.052796</td>\n",
       "      <td>-0.048163</td>\n",
       "      <td>0.619671</td>\n",
       "      <td>-0.117679</td>\n",
       "      <td>-0.419079</td>\n",
       "      <td>0.292405</td>\n",
       "      <td>0.973948</td>\n",
       "      <td>1.355182</td>\n",
       "      <td>0.547170</td>\n",
       "    </tr>\n",
       "    <tr>\n",
       "      <th>7</th>\n",
       "      <td>-0.123919</td>\n",
       "      <td>-0.516177</td>\n",
       "      <td>-0.773017</td>\n",
       "      <td>0.242474</td>\n",
       "      <td>-0.629311</td>\n",
       "      <td>-0.578620</td>\n",
       "      <td>-0.706033</td>\n",
       "      <td>0.806026</td>\n",
       "      <td>-0.837158</td>\n",
       "      <td>-0.389414</td>\n",
       "    </tr>\n",
       "    <tr>\n",
       "      <th>8</th>\n",
       "      <td>-0.076861</td>\n",
       "      <td>-0.822817</td>\n",
       "      <td>-0.900400</td>\n",
       "      <td>0.823318</td>\n",
       "      <td>-0.853659</td>\n",
       "      <td>-0.603165</td>\n",
       "      <td>-1.136151</td>\n",
       "      <td>1.421741</td>\n",
       "      <td>-1.044542</td>\n",
       "      <td>0.946369</td>\n",
       "    </tr>\n",
       "    <tr>\n",
       "      <th>9</th>\n",
       "      <td>0.040783</td>\n",
       "      <td>2.090261</td>\n",
       "      <td>0.131240</td>\n",
       "      <td>-1.475185</td>\n",
       "      <td>-0.509613</td>\n",
       "      <td>1.814502</td>\n",
       "      <td>1.403073</td>\n",
       "      <td>-1.153065</td>\n",
       "      <td>1.380661</td>\n",
       "      <td>0.025139</td>\n",
       "    </tr>\n",
       "    <tr>\n",
       "      <th>10</th>\n",
       "      <td>0.417246</td>\n",
       "      <td>0.557062</td>\n",
       "      <td>0.489704</td>\n",
       "      <td>-0.893418</td>\n",
       "      <td>0.755907</td>\n",
       "      <td>-1.063381</td>\n",
       "      <td>-0.025483</td>\n",
       "      <td>0.022390</td>\n",
       "      <td>-1.133420</td>\n",
       "      <td>-2.646427</td>\n",
       "    </tr>\n",
       "    <tr>\n",
       "      <th>11</th>\n",
       "      <td>0.723121</td>\n",
       "      <td>0.327082</td>\n",
       "      <td>-0.708446</td>\n",
       "      <td>0.236718</td>\n",
       "      <td>-0.647670</td>\n",
       "      <td>-0.817932</td>\n",
       "      <td>-0.044866</td>\n",
       "      <td>0.358234</td>\n",
       "      <td>1.266304</td>\n",
       "      <td>-0.711845</td>\n",
       "    </tr>\n",
       "    <tr>\n",
       "      <th>12</th>\n",
       "      <td>1.240757</td>\n",
       "      <td>-0.976136</td>\n",
       "      <td>3.346020</td>\n",
       "      <td>-0.878949</td>\n",
       "      <td>3.305306</td>\n",
       "      <td>1.624279</td>\n",
       "      <td>-0.776783</td>\n",
       "      <td>1.365767</td>\n",
       "      <td>-1.755571</td>\n",
       "      <td>1.260202</td>\n",
       "    </tr>\n",
       "    <tr>\n",
       "      <th>13</th>\n",
       "      <td>1.805451</td>\n",
       "      <td>1.247002</td>\n",
       "      <td>0.213507</td>\n",
       "      <td>-1.282992</td>\n",
       "      <td>0.132947</td>\n",
       "      <td>0.734529</td>\n",
       "      <td>1.655057</td>\n",
       "      <td>-2.104624</td>\n",
       "      <td>0.377517</td>\n",
       "      <td>-0.512245</td>\n",
       "    </tr>\n",
       "    <tr>\n",
       "      <th>14</th>\n",
       "      <td>1.828980</td>\n",
       "      <td>-0.056217</td>\n",
       "      <td>-0.667261</td>\n",
       "      <td>0.484617</td>\n",
       "      <td>-0.492740</td>\n",
       "      <td>-0.578620</td>\n",
       "      <td>-0.463547</td>\n",
       "      <td>0.022390</td>\n",
       "      <td>0.525648</td>\n",
       "      <td>0.086555</td>\n",
       "    </tr>\n",
       "  </tbody>\n",
       "</table>\n",
       "</div>"
      ],
      "text/plain": [
       "       index  child_mort   exports    health   imports    income  inflation  life_expec  total_fer      gdpp\n",
       "0  -1.535653   -0.324527  0.578654  1.201151  0.796861 -0.277946  -0.403459   -0.145533   0.347891  0.931015\n",
       "1  -1.347422    1.975271  0.028790 -1.482365 -0.620399  2.099467   2.469159   -1.768780   0.288638 -0.466183\n",
       "2  -0.900372   -0.669497 -0.423428 -0.883674 -0.144018 -0.719753  -0.378260   -0.201507  -0.955663 -1.157106\n",
       "3  -0.641555   -0.899477 -0.292180  0.760208 -0.170266 -0.357717  -0.699831   -0.145533   0.377517  1.207384\n",
       "4  -0.618026   -0.439517 -0.672092  1.258855 -0.527595 -0.535667  -0.564341    0.638104   0.851537  0.347570\n",
       "5  -0.523910   -0.439517 -0.302929  1.269569 -0.278070 -0.320899  -0.620940   -0.089558  -1.044542  0.531816\n",
       "6  -0.288621   -1.052796 -0.048163  0.619671 -0.117679 -0.419079   0.292405    0.973948   1.355182  0.547170\n",
       "7  -0.123919   -0.516177 -0.773017  0.242474 -0.629311 -0.578620  -0.706033    0.806026  -0.837158 -0.389414\n",
       "8  -0.076861   -0.822817 -0.900400  0.823318 -0.853659 -0.603165  -1.136151    1.421741  -1.044542  0.946369\n",
       "9   0.040783    2.090261  0.131240 -1.475185 -0.509613  1.814502   1.403073   -1.153065   1.380661  0.025139\n",
       "10  0.417246    0.557062  0.489704 -0.893418  0.755907 -1.063381  -0.025483    0.022390  -1.133420 -2.646427\n",
       "11  0.723121    0.327082 -0.708446  0.236718 -0.647670 -0.817932  -0.044866    0.358234   1.266304 -0.711845\n",
       "12  1.240757   -0.976136  3.346020 -0.878949  3.305306  1.624279  -0.776783    1.365767  -1.755571  1.260202\n",
       "13  1.805451    1.247002  0.213507 -1.282992  0.132947  0.734529   1.655057   -2.104624   0.377517 -0.512245\n",
       "14  1.828980   -0.056217 -0.667261  0.484617 -0.492740 -0.578620  -0.463547    0.022390   0.525648  0.086555"
      ]
     },
     "execution_count": 44,
     "metadata": {},
     "output_type": "execute_result"
    }
   ],
   "source": [
    "country_df_scaled"
   ]
  },
  {
   "cell_type": "code",
   "execution_count": 45,
   "metadata": {
    "papermill": {
     "duration": 3.757929,
     "end_time": "2020-09-11T06:02:30.402201",
     "exception": false,
     "start_time": "2020-09-11T06:02:26.644272",
     "status": "completed"
    },
    "tags": []
   },
   "outputs": [
    {
     "data": {
      "image/png": "[encoded data removed]",
      "text/plain": [
       "<Figure size 432x288 with 1 Axes>"
      ]
     },
     "metadata": {
      "needs_background": "light"
     },
     "output_type": "display_data"
    }
   ],
   "source": [
    "# single linkage\n",
    "\n",
    "mergings = linkage(country_df_scaled, method=\"single\", metric='euclidean')\n",
    "dendrogram(mergings)\n",
    "plt.show()"
   ]
  },
  {
   "cell_type": "markdown",
   "metadata": {
    "papermill": {
     "duration": 0.202043,
     "end_time": "2020-09-11T06:02:30.804144",
     "exception": false,
     "start_time": "2020-09-11T06:02:30.602101",
     "status": "completed"
    },
    "tags": []
   },
   "source": [
    "### INTERPRETATION OF DENDOGRAM:\n",
    "\n",
    "Single linkage's dendogram is not readable or interpretable. Hence we cannot use this for our problem.\n",
    "\n",
    "Lets try with complete linkage and see if it helps\n",
    "\n",
    "## 5.2 Complete Linkage:"
   ]
  },
  {
   "cell_type": "code",
   "execution_count": 46,
   "metadata": {
    "papermill": {
     "duration": 3.757366,
     "end_time": "2020-09-11T06:02:34.764274",
     "exception": false,
     "start_time": "2020-09-11T06:02:31.006908",
     "status": "completed"
    },
    "tags": []
   },
   "outputs": [
    {
     "data": {
      "image/png": "[encoded data removed]",
      "text/plain": [
       "<Figure size 432x288 with 1 Axes>"
      ]
     },
     "metadata": {
      "needs_background": "light"
     },
     "output_type": "display_data"
    }
   ],
   "source": [
    "# complete linkage\n",
    "mergings = linkage(country_df_scaled, method=\"complete\", metric='euclidean')\n",
    "dendrogram(mergings)\n",
    "plt.rcParams[\"figure.figsize\"] = (10,20)\n",
    "plt.savefig('cluster_1.png') \n",
    "plt.show()\n"
   ]
  },
  {
   "cell_type": "markdown",
   "metadata": {
    "papermill": {
     "duration": 0.201563,
     "end_time": "2020-09-11T06:02:35.170494",
     "exception": false,
     "start_time": "2020-09-11T06:02:34.968931",
     "status": "completed"
    },
    "tags": []
   },
   "source": [
    "### INTERPRETATION OF DENDOGRAM:\n",
    "\n",
    "Complete linkage's dendogram is readable and better to interpret when compared to single linkage's dendogram.\n",
    "\n",
    "We can see merging of clusters represented in different colors.\n",
    "\n",
    "If we cut the dendogram tree at SCORE 5 or 6, we have 4 clusters. But we can see the dissimilarity between 4 clusters and 3 clusters is not much as at score 8 itself, we see 3 clusters forming. Only at higher score of 12, 2 sets of clusters available. \n",
    "\n",
    "This indicates 3 clusters is a good choice as there will be good dissimilarity between clusters and good similarity within clusters."
   ]
  },
  {
   "cell_type": "code",
   "execution_count": 47,
   "metadata": {
    "papermill": {
     "duration": 0.229477,
     "end_time": "2020-09-11T06:02:35.601373",
     "exception": false,
     "start_time": "2020-09-11T06:02:35.371896",
     "status": "completed"
    },
    "tags": []
   },
   "outputs": [
    {
     "data": {
      "text/plain": [
       "array([0, 1, 0, 0, 0, 0, 0, 0, 0, 1, 0, 0, 2, 1, 0])"
      ]
     },
     "execution_count": 47,
     "metadata": {},
     "output_type": "execute_result"
    }
   ],
   "source": [
    "# 3 clusters\n",
    "cluster_labels = cut_tree(mergings, n_clusters=3).reshape(-1, )\n",
    "cluster_labels"
   ]
  },
  {
   "cell_type": "code",
   "execution_count": 48,
   "metadata": {
    "papermill": {
     "duration": 0.225748,
     "end_time": "2020-09-11T06:02:36.033120",
     "exception": false,
     "start_time": "2020-09-11T06:02:35.807372",
     "status": "completed"
    },
    "tags": []
   },
   "outputs": [
    {
     "data": {
      "text/html": [
       "<div>\n",
       "<style scoped>\n",
       "    .dataframe tbody tr th:only-of-type {\n",
       "        vertical-align: middle;\n",
       "    }\n",
       "\n",
       "    .dataframe tbody tr th {\n",
       "        vertical-align: top;\n",
       "    }\n",
       "\n",
       "    .dataframe thead th {\n",
       "        text-align: right;\n",
       "    }\n",
       "</style>\n",
       "<table border=\"1\" class=\"dataframe\">\n",
       "  <thead>\n",
       "    <tr style=\"text-align: right;\">\n",
       "      <th></th>\n",
       "      <th>index</th>\n",
       "      <th>country</th>\n",
       "      <th>child_mort</th>\n",
       "      <th>exports</th>\n",
       "      <th>health</th>\n",
       "      <th>imports</th>\n",
       "      <th>income</th>\n",
       "      <th>inflation</th>\n",
       "      <th>life_expec</th>\n",
       "      <th>total_fer</th>\n",
       "      <th>gdpp</th>\n",
       "      <th>cluster_labels</th>\n",
       "    </tr>\n",
       "  </thead>\n",
       "  <tbody>\n",
       "    <tr>\n",
       "      <th>0</th>\n",
       "      <td>15</td>\n",
       "      <td>Belgium</td>\n",
       "      <td>4.5</td>\n",
       "      <td>33921.6</td>\n",
       "      <td>4750.80</td>\n",
       "      <td>33166.8</td>\n",
       "      <td>41100</td>\n",
       "      <td>1.880</td>\n",
       "      <td>80.0</td>\n",
       "      <td>1.86</td>\n",
       "      <td>44400</td>\n",
       "      <td>0</td>\n",
       "    </tr>\n",
       "    <tr>\n",
       "      <th>1</th>\n",
       "      <td>23</td>\n",
       "      <td>Brunei</td>\n",
       "      <td>10.5</td>\n",
       "      <td>23792.2</td>\n",
       "      <td>1002.52</td>\n",
       "      <td>9884.0</td>\n",
       "      <td>79844</td>\n",
       "      <td>16.700</td>\n",
       "      <td>77.1</td>\n",
       "      <td>1.84</td>\n",
       "      <td>35300</td>\n",
       "      <td>1</td>\n",
       "    </tr>\n",
       "    <tr>\n",
       "      <th>2</th>\n",
       "      <td>42</td>\n",
       "      <td>Cyprus</td>\n",
       "      <td>3.6</td>\n",
       "      <td>15461.6</td>\n",
       "      <td>1838.76</td>\n",
       "      <td>17710.0</td>\n",
       "      <td>33900</td>\n",
       "      <td>2.010</td>\n",
       "      <td>79.9</td>\n",
       "      <td>1.42</td>\n",
       "      <td>30800</td>\n",
       "      <td>0</td>\n",
       "    </tr>\n",
       "    <tr>\n",
       "      <th>3</th>\n",
       "      <td>53</td>\n",
       "      <td>Finland</td>\n",
       "      <td>3.0</td>\n",
       "      <td>17879.4</td>\n",
       "      <td>4134.90</td>\n",
       "      <td>17278.8</td>\n",
       "      <td>39800</td>\n",
       "      <td>0.351</td>\n",
       "      <td>80.0</td>\n",
       "      <td>1.87</td>\n",
       "      <td>46200</td>\n",
       "      <td>0</td>\n",
       "    </tr>\n",
       "    <tr>\n",
       "      <th>4</th>\n",
       "      <td>54</td>\n",
       "      <td>France</td>\n",
       "      <td>4.2</td>\n",
       "      <td>10880.8</td>\n",
       "      <td>4831.40</td>\n",
       "      <td>11408.6</td>\n",
       "      <td>36900</td>\n",
       "      <td>1.050</td>\n",
       "      <td>81.4</td>\n",
       "      <td>2.03</td>\n",
       "      <td>40600</td>\n",
       "      <td>0</td>\n",
       "    </tr>\n",
       "  </tbody>\n",
       "</table>\n",
       "</div>"
      ],
      "text/plain": [
       "   index  country  child_mort  exports   health  imports  income  inflation  life_expec  total_fer   gdpp  cluster_labels\n",
       "0     15  Belgium         4.5  33921.6  4750.80  33166.8   41100      1.880        80.0       1.86  44400               0\n",
       "1     23   Brunei        10.5  23792.2  1002.52   9884.0   79844     16.700        77.1       1.84  35300               1\n",
       "2     42   Cyprus         3.6  15461.6  1838.76  17710.0   33900      2.010        79.9       1.42  30800               0\n",
       "3     53  Finland         3.0  17879.4  4134.90  17278.8   39800      0.351        80.0       1.87  46200               0\n",
       "4     54   France         4.2  10880.8  4831.40  11408.6   36900      1.050        81.4       2.03  40600               0"
      ]
     },
     "execution_count": 48,
     "metadata": {},
     "output_type": "execute_result"
    }
   ],
   "source": [
    "# assign cluster labels\n",
    "country_df['cluster_labels'] = cluster_labels\n",
    "country_df.head()"
   ]
  },
  {
   "cell_type": "markdown",
   "metadata": {
    "papermill": {
     "duration": 0.210023,
     "end_time": "2020-09-11T06:02:39.775671",
     "exception": false,
     "start_time": "2020-09-11T06:02:39.565648",
     "status": "completed"
    },
    "tags": []
   },
   "source": [
    "From the above plots, its evident that the cluster labels \n",
    "- 0 : Under-developed countries having low GDPP, low income and high child mortality rate.\n",
    "- 1 : Developing countries having medium GDPP, medium income and mild child mortality rate.\n",
    "- 2 : Developed countries having high GDPP, high income and very low child mortality rate."
   ]
  }
 ],
 "metadata": {
  "kernelspec": {
   "display_name": "Python 3",
   "language": "python",
   "name": "python3"
  },
  "language_info": {
   "codemirror_mode": {
    "name": "ipython",
    "version": 3
   },
   "file_extension": ".py",
   "mimetype": "text/x-python",
   "name": "python",
   "nbconvert_exporter": "python",
   "pygments_lexer": "ipython3",
   "version": "3.8.3"
  },
  "papermill": {
   "duration": 133.165362,
   "end_time": "2020-09-11T06:02:59.405626",
   "environment_variables": {},
   "exception": null,
   "input_path": "__notebook__.ipynb",
   "output_path": "__notebook__.ipynb",
   "parameters": {},
   "start_time": "2020-09-11T06:00:46.240264",
   "version": "2.1.0"
  }
 },
 "nbformat": 4,
 "nbformat_minor": 4
}
