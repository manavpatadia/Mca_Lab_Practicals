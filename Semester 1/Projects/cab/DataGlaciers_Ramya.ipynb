{
 "cells": [
  {
   "cell_type": "code",
   "execution_count": 107,
   "id": "197327c7",
   "metadata": {},
   "outputs": [],
   "source": [
    "# Data Loading and Numerical Operations\n",
    "import numpy as np\n",
    "import pandas as pd\n",
    "# Data Visualizations\n",
    "import matplotlib.pyplot as plt\n",
    "import seaborn as sns\n",
    "import warnings\n",
    "# Time conversion\n",
    "from datetime import datetime, timedelta\n",
    "warnings.filterwarnings('ignore')\n",
    "# Data Scaling\n",
    "from sklearn.preprocessing import MinMaxScaler\n",
    "# Data Splitting\n",
    "from sklearn.model_selection import train_test_split\n",
    "# Data Modeling\n",
    "from sklearn import datasets, linear_model, metrics\n",
    "from sklearn.metrics import confusion_matrix, accuracy_score, roc_curve, auc, classification_report\n",
    "# Hyperparameter Tuning\n",
    "from sklearn.model_selection import RandomizedSearchCV\n",
    "from sklearn.model_selection import cross_val_score\n",
    "from scipy import stats"
   ]
  },
  {
   "cell_type": "markdown",
   "id": "0d634023-3089-437b-b35d-5e0ec4e95266",
   "metadata": {},
   "source": [
    "## Importing Cab_Data.csv"
   ]
  },
  {
   "cell_type": "code",
   "execution_count": 2,
   "id": "b4b80cdf",
   "metadata": {},
   "outputs": [
    {
     "data": {
      "text/html": [
       "<div>\n",
       "<style scoped>\n",
       "    .dataframe tbody tr th:only-of-type {\n",
       "        vertical-align: middle;\n",
       "    }\n",
       "\n",
       "    .dataframe tbody tr th {\n",
       "        vertical-align: top;\n",
       "    }\n",
       "\n",
       "    .dataframe thead th {\n",
       "        text-align: right;\n",
       "    }\n",
       "</style>\n",
       "<table border=\"1\" class=\"dataframe\">\n",
       "  <thead>\n",
       "    <tr style=\"text-align: right;\">\n",
       "      <th></th>\n",
       "      <th>Transaction ID</th>\n",
       "      <th>Date of Travel</th>\n",
       "      <th>Company</th>\n",
       "      <th>City</th>\n",
       "      <th>KM Travelled</th>\n",
       "      <th>Price Charged</th>\n",
       "      <th>Cost of Trip</th>\n",
       "    </tr>\n",
       "  </thead>\n",
       "  <tbody>\n",
       "    <tr>\n",
       "      <th>0</th>\n",
       "      <td>10000011</td>\n",
       "      <td>42377</td>\n",
       "      <td>Pink Cab</td>\n",
       "      <td>ATLANTA GA</td>\n",
       "      <td>30.45</td>\n",
       "      <td>370.95</td>\n",
       "      <td>313.635</td>\n",
       "    </tr>\n",
       "    <tr>\n",
       "      <th>1</th>\n",
       "      <td>10000012</td>\n",
       "      <td>42375</td>\n",
       "      <td>Pink Cab</td>\n",
       "      <td>ATLANTA GA</td>\n",
       "      <td>28.62</td>\n",
       "      <td>358.52</td>\n",
       "      <td>334.854</td>\n",
       "    </tr>\n",
       "    <tr>\n",
       "      <th>2</th>\n",
       "      <td>10000013</td>\n",
       "      <td>42371</td>\n",
       "      <td>Pink Cab</td>\n",
       "      <td>ATLANTA GA</td>\n",
       "      <td>9.04</td>\n",
       "      <td>125.20</td>\n",
       "      <td>97.632</td>\n",
       "    </tr>\n",
       "    <tr>\n",
       "      <th>3</th>\n",
       "      <td>10000014</td>\n",
       "      <td>42376</td>\n",
       "      <td>Pink Cab</td>\n",
       "      <td>ATLANTA GA</td>\n",
       "      <td>33.17</td>\n",
       "      <td>377.40</td>\n",
       "      <td>351.602</td>\n",
       "    </tr>\n",
       "    <tr>\n",
       "      <th>4</th>\n",
       "      <td>10000015</td>\n",
       "      <td>42372</td>\n",
       "      <td>Pink Cab</td>\n",
       "      <td>ATLANTA GA</td>\n",
       "      <td>8.73</td>\n",
       "      <td>114.62</td>\n",
       "      <td>97.776</td>\n",
       "    </tr>\n",
       "  </tbody>\n",
       "</table>\n",
       "</div>"
      ],
      "text/plain": [
       "   Transaction ID  Date of Travel   Company        City  KM Travelled  \\\n",
       "0        10000011           42377  Pink Cab  ATLANTA GA         30.45   \n",
       "1        10000012           42375  Pink Cab  ATLANTA GA         28.62   \n",
       "2        10000013           42371  Pink Cab  ATLANTA GA          9.04   \n",
       "3        10000014           42376  Pink Cab  ATLANTA GA         33.17   \n",
       "4        10000015           42372  Pink Cab  ATLANTA GA          8.73   \n",
       "\n",
       "   Price Charged  Cost of Trip  \n",
       "0         370.95       313.635  \n",
       "1         358.52       334.854  \n",
       "2         125.20        97.632  \n",
       "3         377.40       351.602  \n",
       "4         114.62        97.776  "
      ]
     },
     "execution_count": 2,
     "metadata": {},
     "output_type": "execute_result"
    }
   ],
   "source": [
    "df_cab = pd.read_csv(\"Cab_Data.csv\")\n",
    "df_cab.head()"
   ]
  },
  {
   "cell_type": "code",
   "execution_count": 3,
   "id": "36c80089",
   "metadata": {},
   "outputs": [
    {
     "data": {
      "text/plain": [
       "(359392, 7)"
      ]
     },
     "execution_count": 3,
     "metadata": {},
     "output_type": "execute_result"
    }
   ],
   "source": [
    "df_cab.shape #  print the number of rows and columns of my DataFrame"
   ]
  },
  {
   "cell_type": "markdown",
   "id": "7d4db6b5",
   "metadata": {},
   "source": [
    "### Checking Statistical Measure:"
   ]
  },
  {
   "cell_type": "code",
   "execution_count": 4,
   "id": "e28e6c05",
   "metadata": {},
   "outputs": [
    {
     "data": {
      "text/html": [
       "<div>\n",
       "<style scoped>\n",
       "    .dataframe tbody tr th:only-of-type {\n",
       "        vertical-align: middle;\n",
       "    }\n",
       "\n",
       "    .dataframe tbody tr th {\n",
       "        vertical-align: top;\n",
       "    }\n",
       "\n",
       "    .dataframe thead th {\n",
       "        text-align: right;\n",
       "    }\n",
       "</style>\n",
       "<table border=\"1\" class=\"dataframe\">\n",
       "  <thead>\n",
       "    <tr style=\"text-align: right;\">\n",
       "      <th></th>\n",
       "      <th>Transaction ID</th>\n",
       "      <th>Date of Travel</th>\n",
       "      <th>KM Travelled</th>\n",
       "      <th>Price Charged</th>\n",
       "      <th>Cost of Trip</th>\n",
       "    </tr>\n",
       "  </thead>\n",
       "  <tbody>\n",
       "    <tr>\n",
       "      <th>count</th>\n",
       "      <td>3.593920e+05</td>\n",
       "      <td>359392.000000</td>\n",
       "      <td>359392.000000</td>\n",
       "      <td>359392.000000</td>\n",
       "      <td>359392.000000</td>\n",
       "    </tr>\n",
       "    <tr>\n",
       "      <th>mean</th>\n",
       "      <td>1.022076e+07</td>\n",
       "      <td>42964.067998</td>\n",
       "      <td>22.567254</td>\n",
       "      <td>423.443311</td>\n",
       "      <td>286.190113</td>\n",
       "    </tr>\n",
       "    <tr>\n",
       "      <th>std</th>\n",
       "      <td>1.268058e+05</td>\n",
       "      <td>307.467197</td>\n",
       "      <td>12.233526</td>\n",
       "      <td>274.378911</td>\n",
       "      <td>157.993661</td>\n",
       "    </tr>\n",
       "    <tr>\n",
       "      <th>min</th>\n",
       "      <td>1.000001e+07</td>\n",
       "      <td>42371.000000</td>\n",
       "      <td>1.900000</td>\n",
       "      <td>15.600000</td>\n",
       "      <td>19.000000</td>\n",
       "    </tr>\n",
       "    <tr>\n",
       "      <th>25%</th>\n",
       "      <td>1.011081e+07</td>\n",
       "      <td>42697.000000</td>\n",
       "      <td>12.000000</td>\n",
       "      <td>206.437500</td>\n",
       "      <td>151.200000</td>\n",
       "    </tr>\n",
       "    <tr>\n",
       "      <th>50%</th>\n",
       "      <td>1.022104e+07</td>\n",
       "      <td>42988.000000</td>\n",
       "      <td>22.440000</td>\n",
       "      <td>386.360000</td>\n",
       "      <td>282.480000</td>\n",
       "    </tr>\n",
       "    <tr>\n",
       "      <th>75%</th>\n",
       "      <td>1.033094e+07</td>\n",
       "      <td>43232.000000</td>\n",
       "      <td>32.960000</td>\n",
       "      <td>583.660000</td>\n",
       "      <td>413.683200</td>\n",
       "    </tr>\n",
       "    <tr>\n",
       "      <th>max</th>\n",
       "      <td>1.044011e+07</td>\n",
       "      <td>43465.000000</td>\n",
       "      <td>48.000000</td>\n",
       "      <td>2048.030000</td>\n",
       "      <td>691.200000</td>\n",
       "    </tr>\n",
       "  </tbody>\n",
       "</table>\n",
       "</div>"
      ],
      "text/plain": [
       "       Transaction ID  Date of Travel   KM Travelled  Price Charged  \\\n",
       "count    3.593920e+05   359392.000000  359392.000000  359392.000000   \n",
       "mean     1.022076e+07    42964.067998      22.567254     423.443311   \n",
       "std      1.268058e+05      307.467197      12.233526     274.378911   \n",
       "min      1.000001e+07    42371.000000       1.900000      15.600000   \n",
       "25%      1.011081e+07    42697.000000      12.000000     206.437500   \n",
       "50%      1.022104e+07    42988.000000      22.440000     386.360000   \n",
       "75%      1.033094e+07    43232.000000      32.960000     583.660000   \n",
       "max      1.044011e+07    43465.000000      48.000000    2048.030000   \n",
       "\n",
       "        Cost of Trip  \n",
       "count  359392.000000  \n",
       "mean      286.190113  \n",
       "std       157.993661  \n",
       "min        19.000000  \n",
       "25%       151.200000  \n",
       "50%       282.480000  \n",
       "75%       413.683200  \n",
       "max       691.200000  "
      ]
     },
     "execution_count": 4,
     "metadata": {},
     "output_type": "execute_result"
    }
   ],
   "source": [
    "df_cab.describe() #The describe() method returns description of the data in the DataFrame"
   ]
  },
  {
   "cell_type": "markdown",
   "id": "64e7664a",
   "metadata": {},
   "source": [
    "### Data Preprocessing "
   ]
  },
  {
   "cell_type": "code",
   "execution_count": 5,
   "id": "5a57aff5",
   "metadata": {},
   "outputs": [
    {
     "data": {
      "text/plain": [
       "Transaction ID    0\n",
       "Date of Travel    0\n",
       "Company           0\n",
       "City              0\n",
       "KM Travelled      0\n",
       "Price Charged     0\n",
       "Cost of Trip      0\n",
       "dtype: int64"
      ]
     },
     "execution_count": 5,
     "metadata": {},
     "output_type": "execute_result"
    }
   ],
   "source": [
    "df_cab.isnull().sum().sort_values(ascending=False) # df.isnull().sum() prints the column with missing value."
   ]
  },
  {
   "cell_type": "code",
   "execution_count": 6,
   "id": "055a8bb2",
   "metadata": {},
   "outputs": [
    {
     "data": {
      "text/plain": [
       "0"
      ]
     },
     "execution_count": 6,
     "metadata": {},
     "output_type": "execute_result"
    }
   ],
   "source": [
    "df_cab.duplicated().sum()"
   ]
  },
  {
   "cell_type": "code",
   "execution_count": 7,
   "id": "289b0591",
   "metadata": {},
   "outputs": [
    {
     "data": {
      "text/plain": [
       "Index(['Transaction ID', 'Date of Travel', 'Company', 'City', 'KM Travelled',\n",
       "       'Price Charged', 'Cost of Trip'],\n",
       "      dtype='object')"
      ]
     },
     "execution_count": 7,
     "metadata": {},
     "output_type": "execute_result"
    }
   ],
   "source": [
    "df_cab.columns"
   ]
  },
  {
   "cell_type": "code",
   "execution_count": 8,
   "id": "0fc7b38c",
   "metadata": {},
   "outputs": [
    {
     "data": {
      "text/html": [
       "<div>\n",
       "<style scoped>\n",
       "    .dataframe tbody tr th:only-of-type {\n",
       "        vertical-align: middle;\n",
       "    }\n",
       "\n",
       "    .dataframe tbody tr th {\n",
       "        vertical-align: top;\n",
       "    }\n",
       "\n",
       "    .dataframe thead th {\n",
       "        text-align: right;\n",
       "    }\n",
       "</style>\n",
       "<table border=\"1\" class=\"dataframe\">\n",
       "  <thead>\n",
       "    <tr style=\"text-align: right;\">\n",
       "      <th></th>\n",
       "      <th>KM Travelled</th>\n",
       "    </tr>\n",
       "    <tr>\n",
       "      <th>Company</th>\n",
       "      <th></th>\n",
       "    </tr>\n",
       "  </thead>\n",
       "  <tbody>\n",
       "    <tr>\n",
       "      <th>Pink Cab</th>\n",
       "      <td>1911073.11</td>\n",
       "    </tr>\n",
       "    <tr>\n",
       "      <th>Yellow Cab</th>\n",
       "      <td>6199417.47</td>\n",
       "    </tr>\n",
       "  </tbody>\n",
       "</table>\n",
       "</div>"
      ],
      "text/plain": [
       "            KM Travelled\n",
       "Company                 \n",
       "Pink Cab      1911073.11\n",
       "Yellow Cab    6199417.47"
      ]
     },
     "execution_count": 8,
     "metadata": {},
     "output_type": "execute_result"
    }
   ],
   "source": [
    "df_cab_group = df_cab[['KM Travelled','Company']].groupby('Company').sum()\n",
    "df_cab_group # Output says yellow cab travelled more kms than pink cab"
   ]
  },
  {
   "cell_type": "code",
   "execution_count": 9,
   "id": "888f2846",
   "metadata": {},
   "outputs": [
    {
     "name": "stdout",
     "output_type": "stream",
     "text": [
      "Company   \n",
      "Yellow Cab    274681\n",
      "Pink Cab       84711\n",
      "dtype: int64\n"
     ]
    }
   ],
   "source": [
    "id = df_cab[['Company']]\n",
    "id.value_counts()\n",
    "print(id.value_counts()) # Yellow cab was having maxiumum cab users"
   ]
  },
  {
   "cell_type": "code",
   "execution_count": 10,
   "id": "412c10f4",
   "metadata": {},
   "outputs": [
    {
     "data": {
      "image/png": "[encoded data removed]",
      "text/plain": [
       "<Figure size 432x288 with 1 Axes>"
      ]
     },
     "metadata": {},
     "output_type": "display_data"
    }
   ],
   "source": [
    "sns.set_theme(style=\"whitegrid\")\n",
    "Companies = sns.countplot(x=\"Company\", palette=['Pink', 'Yellow'], data=df_cab)"
   ]
  },
  {
   "cell_type": "code",
   "execution_count": 11,
   "id": "04d4c74b",
   "metadata": {},
   "outputs": [],
   "source": [
    "from datetime import datetime,timedelta"
   ]
  },
  {
   "cell_type": "code",
   "execution_count": 12,
   "id": "eb52b0c7",
   "metadata": {},
   "outputs": [
    {
     "data": {
      "text/plain": [
       "'31/12/18'"
      ]
     },
     "execution_count": 12,
     "metadata": {},
     "output_type": "execute_result"
    }
   ],
   "source": [
    "datetime.strftime(datetime(1899, 12, 30) + timedelta(days=43465), '%d/%m/%y')"
   ]
  },
  {
   "cell_type": "code",
   "execution_count": 13,
   "id": "552f35f8",
   "metadata": {},
   "outputs": [],
   "source": [
    "df_cab['Date'] =df_cab['Date of Travel'].apply(lambda x: datetime.strftime(datetime(1899, 12, 30) + timedelta(days=x), '%d/%m/%y'))"
   ]
  },
  {
   "cell_type": "code",
   "execution_count": 14,
   "id": "6f5b9228",
   "metadata": {},
   "outputs": [],
   "source": [
    "df_cab=df_cab.drop(['Date of Travel'],axis=1)"
   ]
  },
  {
   "cell_type": "code",
   "execution_count": 15,
   "id": "3aebb764",
   "metadata": {},
   "outputs": [
    {
     "data": {
      "text/html": [
       "<div>\n",
       "<style scoped>\n",
       "    .dataframe tbody tr th:only-of-type {\n",
       "        vertical-align: middle;\n",
       "    }\n",
       "\n",
       "    .dataframe tbody tr th {\n",
       "        vertical-align: top;\n",
       "    }\n",
       "\n",
       "    .dataframe thead th {\n",
       "        text-align: right;\n",
       "    }\n",
       "</style>\n",
       "<table border=\"1\" class=\"dataframe\">\n",
       "  <thead>\n",
       "    <tr style=\"text-align: right;\">\n",
       "      <th></th>\n",
       "      <th>Transaction ID</th>\n",
       "      <th>Company</th>\n",
       "      <th>City</th>\n",
       "      <th>KM Travelled</th>\n",
       "      <th>Price Charged</th>\n",
       "      <th>Cost of Trip</th>\n",
       "      <th>Date</th>\n",
       "    </tr>\n",
       "  </thead>\n",
       "  <tbody>\n",
       "    <tr>\n",
       "      <th>0</th>\n",
       "      <td>10000011</td>\n",
       "      <td>Pink Cab</td>\n",
       "      <td>ATLANTA GA</td>\n",
       "      <td>30.45</td>\n",
       "      <td>370.95</td>\n",
       "      <td>313.6350</td>\n",
       "      <td>08/01/16</td>\n",
       "    </tr>\n",
       "    <tr>\n",
       "      <th>1</th>\n",
       "      <td>10000012</td>\n",
       "      <td>Pink Cab</td>\n",
       "      <td>ATLANTA GA</td>\n",
       "      <td>28.62</td>\n",
       "      <td>358.52</td>\n",
       "      <td>334.8540</td>\n",
       "      <td>06/01/16</td>\n",
       "    </tr>\n",
       "    <tr>\n",
       "      <th>2</th>\n",
       "      <td>10000013</td>\n",
       "      <td>Pink Cab</td>\n",
       "      <td>ATLANTA GA</td>\n",
       "      <td>9.04</td>\n",
       "      <td>125.20</td>\n",
       "      <td>97.6320</td>\n",
       "      <td>02/01/16</td>\n",
       "    </tr>\n",
       "    <tr>\n",
       "      <th>3</th>\n",
       "      <td>10000014</td>\n",
       "      <td>Pink Cab</td>\n",
       "      <td>ATLANTA GA</td>\n",
       "      <td>33.17</td>\n",
       "      <td>377.40</td>\n",
       "      <td>351.6020</td>\n",
       "      <td>07/01/16</td>\n",
       "    </tr>\n",
       "    <tr>\n",
       "      <th>4</th>\n",
       "      <td>10000015</td>\n",
       "      <td>Pink Cab</td>\n",
       "      <td>ATLANTA GA</td>\n",
       "      <td>8.73</td>\n",
       "      <td>114.62</td>\n",
       "      <td>97.7760</td>\n",
       "      <td>03/01/16</td>\n",
       "    </tr>\n",
       "    <tr>\n",
       "      <th>...</th>\n",
       "      <td>...</td>\n",
       "      <td>...</td>\n",
       "      <td>...</td>\n",
       "      <td>...</td>\n",
       "      <td>...</td>\n",
       "      <td>...</td>\n",
       "      <td>...</td>\n",
       "    </tr>\n",
       "    <tr>\n",
       "      <th>359387</th>\n",
       "      <td>10440101</td>\n",
       "      <td>Yellow Cab</td>\n",
       "      <td>WASHINGTON DC</td>\n",
       "      <td>4.80</td>\n",
       "      <td>69.24</td>\n",
       "      <td>63.3600</td>\n",
       "      <td>08/01/18</td>\n",
       "    </tr>\n",
       "    <tr>\n",
       "      <th>359388</th>\n",
       "      <td>10440104</td>\n",
       "      <td>Yellow Cab</td>\n",
       "      <td>WASHINGTON DC</td>\n",
       "      <td>8.40</td>\n",
       "      <td>113.75</td>\n",
       "      <td>106.8480</td>\n",
       "      <td>04/01/18</td>\n",
       "    </tr>\n",
       "    <tr>\n",
       "      <th>359389</th>\n",
       "      <td>10440105</td>\n",
       "      <td>Yellow Cab</td>\n",
       "      <td>WASHINGTON DC</td>\n",
       "      <td>27.75</td>\n",
       "      <td>437.07</td>\n",
       "      <td>349.6500</td>\n",
       "      <td>05/01/18</td>\n",
       "    </tr>\n",
       "    <tr>\n",
       "      <th>359390</th>\n",
       "      <td>10440106</td>\n",
       "      <td>Yellow Cab</td>\n",
       "      <td>WASHINGTON DC</td>\n",
       "      <td>8.80</td>\n",
       "      <td>146.19</td>\n",
       "      <td>114.0480</td>\n",
       "      <td>05/01/18</td>\n",
       "    </tr>\n",
       "    <tr>\n",
       "      <th>359391</th>\n",
       "      <td>10440107</td>\n",
       "      <td>Yellow Cab</td>\n",
       "      <td>WASHINGTON DC</td>\n",
       "      <td>12.76</td>\n",
       "      <td>191.58</td>\n",
       "      <td>177.6192</td>\n",
       "      <td>02/01/18</td>\n",
       "    </tr>\n",
       "  </tbody>\n",
       "</table>\n",
       "<p>359392 rows × 7 columns</p>\n",
       "</div>"
      ],
      "text/plain": [
       "        Transaction ID     Company           City  KM Travelled  \\\n",
       "0             10000011    Pink Cab     ATLANTA GA         30.45   \n",
       "1             10000012    Pink Cab     ATLANTA GA         28.62   \n",
       "2             10000013    Pink Cab     ATLANTA GA          9.04   \n",
       "3             10000014    Pink Cab     ATLANTA GA         33.17   \n",
       "4             10000015    Pink Cab     ATLANTA GA          8.73   \n",
       "...                ...         ...            ...           ...   \n",
       "359387        10440101  Yellow Cab  WASHINGTON DC          4.80   \n",
       "359388        10440104  Yellow Cab  WASHINGTON DC          8.40   \n",
       "359389        10440105  Yellow Cab  WASHINGTON DC         27.75   \n",
       "359390        10440106  Yellow Cab  WASHINGTON DC          8.80   \n",
       "359391        10440107  Yellow Cab  WASHINGTON DC         12.76   \n",
       "\n",
       "        Price Charged  Cost of Trip      Date  \n",
       "0              370.95      313.6350  08/01/16  \n",
       "1              358.52      334.8540  06/01/16  \n",
       "2              125.20       97.6320  02/01/16  \n",
       "3              377.40      351.6020  07/01/16  \n",
       "4              114.62       97.7760  03/01/16  \n",
       "...               ...           ...       ...  \n",
       "359387          69.24       63.3600  08/01/18  \n",
       "359388         113.75      106.8480  04/01/18  \n",
       "359389         437.07      349.6500  05/01/18  \n",
       "359390         146.19      114.0480  05/01/18  \n",
       "359391         191.58      177.6192  02/01/18  \n",
       "\n",
       "[359392 rows x 7 columns]"
      ]
     },
     "execution_count": 15,
     "metadata": {},
     "output_type": "execute_result"
    }
   ],
   "source": [
    "df_cab"
   ]
  },
  {
   "cell_type": "code",
   "execution_count": 16,
   "id": "deed79ad",
   "metadata": {},
   "outputs": [
    {
     "data": {
      "text/html": [
       "<div>\n",
       "<style scoped>\n",
       "    .dataframe tbody tr th:only-of-type {\n",
       "        vertical-align: middle;\n",
       "    }\n",
       "\n",
       "    .dataframe tbody tr th {\n",
       "        vertical-align: top;\n",
       "    }\n",
       "\n",
       "    .dataframe thead th {\n",
       "        text-align: right;\n",
       "    }\n",
       "</style>\n",
       "<table border=\"1\" class=\"dataframe\">\n",
       "  <thead>\n",
       "    <tr style=\"text-align: right;\">\n",
       "      <th></th>\n",
       "      <th>Transaction ID</th>\n",
       "      <th>Company</th>\n",
       "      <th>City</th>\n",
       "      <th>KM Travelled</th>\n",
       "      <th>Price Charged</th>\n",
       "      <th>Cost of Trip</th>\n",
       "      <th>Date</th>\n",
       "      <th>Profit</th>\n",
       "    </tr>\n",
       "  </thead>\n",
       "  <tbody>\n",
       "    <tr>\n",
       "      <th>0</th>\n",
       "      <td>10000011</td>\n",
       "      <td>Pink Cab</td>\n",
       "      <td>ATLANTA GA</td>\n",
       "      <td>30.45</td>\n",
       "      <td>370.95</td>\n",
       "      <td>313.6350</td>\n",
       "      <td>08/01/16</td>\n",
       "      <td>57.3150</td>\n",
       "    </tr>\n",
       "    <tr>\n",
       "      <th>1</th>\n",
       "      <td>10000012</td>\n",
       "      <td>Pink Cab</td>\n",
       "      <td>ATLANTA GA</td>\n",
       "      <td>28.62</td>\n",
       "      <td>358.52</td>\n",
       "      <td>334.8540</td>\n",
       "      <td>06/01/16</td>\n",
       "      <td>23.6660</td>\n",
       "    </tr>\n",
       "    <tr>\n",
       "      <th>2</th>\n",
       "      <td>10000013</td>\n",
       "      <td>Pink Cab</td>\n",
       "      <td>ATLANTA GA</td>\n",
       "      <td>9.04</td>\n",
       "      <td>125.20</td>\n",
       "      <td>97.6320</td>\n",
       "      <td>02/01/16</td>\n",
       "      <td>27.5680</td>\n",
       "    </tr>\n",
       "    <tr>\n",
       "      <th>3</th>\n",
       "      <td>10000014</td>\n",
       "      <td>Pink Cab</td>\n",
       "      <td>ATLANTA GA</td>\n",
       "      <td>33.17</td>\n",
       "      <td>377.40</td>\n",
       "      <td>351.6020</td>\n",
       "      <td>07/01/16</td>\n",
       "      <td>25.7980</td>\n",
       "    </tr>\n",
       "    <tr>\n",
       "      <th>4</th>\n",
       "      <td>10000015</td>\n",
       "      <td>Pink Cab</td>\n",
       "      <td>ATLANTA GA</td>\n",
       "      <td>8.73</td>\n",
       "      <td>114.62</td>\n",
       "      <td>97.7760</td>\n",
       "      <td>03/01/16</td>\n",
       "      <td>16.8440</td>\n",
       "    </tr>\n",
       "    <tr>\n",
       "      <th>...</th>\n",
       "      <td>...</td>\n",
       "      <td>...</td>\n",
       "      <td>...</td>\n",
       "      <td>...</td>\n",
       "      <td>...</td>\n",
       "      <td>...</td>\n",
       "      <td>...</td>\n",
       "      <td>...</td>\n",
       "    </tr>\n",
       "    <tr>\n",
       "      <th>359387</th>\n",
       "      <td>10440101</td>\n",
       "      <td>Yellow Cab</td>\n",
       "      <td>WASHINGTON DC</td>\n",
       "      <td>4.80</td>\n",
       "      <td>69.24</td>\n",
       "      <td>63.3600</td>\n",
       "      <td>08/01/18</td>\n",
       "      <td>5.8800</td>\n",
       "    </tr>\n",
       "    <tr>\n",
       "      <th>359388</th>\n",
       "      <td>10440104</td>\n",
       "      <td>Yellow Cab</td>\n",
       "      <td>WASHINGTON DC</td>\n",
       "      <td>8.40</td>\n",
       "      <td>113.75</td>\n",
       "      <td>106.8480</td>\n",
       "      <td>04/01/18</td>\n",
       "      <td>6.9020</td>\n",
       "    </tr>\n",
       "    <tr>\n",
       "      <th>359389</th>\n",
       "      <td>10440105</td>\n",
       "      <td>Yellow Cab</td>\n",
       "      <td>WASHINGTON DC</td>\n",
       "      <td>27.75</td>\n",
       "      <td>437.07</td>\n",
       "      <td>349.6500</td>\n",
       "      <td>05/01/18</td>\n",
       "      <td>87.4200</td>\n",
       "    </tr>\n",
       "    <tr>\n",
       "      <th>359390</th>\n",
       "      <td>10440106</td>\n",
       "      <td>Yellow Cab</td>\n",
       "      <td>WASHINGTON DC</td>\n",
       "      <td>8.80</td>\n",
       "      <td>146.19</td>\n",
       "      <td>114.0480</td>\n",
       "      <td>05/01/18</td>\n",
       "      <td>32.1420</td>\n",
       "    </tr>\n",
       "    <tr>\n",
       "      <th>359391</th>\n",
       "      <td>10440107</td>\n",
       "      <td>Yellow Cab</td>\n",
       "      <td>WASHINGTON DC</td>\n",
       "      <td>12.76</td>\n",
       "      <td>191.58</td>\n",
       "      <td>177.6192</td>\n",
       "      <td>02/01/18</td>\n",
       "      <td>13.9608</td>\n",
       "    </tr>\n",
       "  </tbody>\n",
       "</table>\n",
       "<p>359392 rows × 8 columns</p>\n",
       "</div>"
      ],
      "text/plain": [
       "        Transaction ID     Company           City  KM Travelled  \\\n",
       "0             10000011    Pink Cab     ATLANTA GA         30.45   \n",
       "1             10000012    Pink Cab     ATLANTA GA         28.62   \n",
       "2             10000013    Pink Cab     ATLANTA GA          9.04   \n",
       "3             10000014    Pink Cab     ATLANTA GA         33.17   \n",
       "4             10000015    Pink Cab     ATLANTA GA          8.73   \n",
       "...                ...         ...            ...           ...   \n",
       "359387        10440101  Yellow Cab  WASHINGTON DC          4.80   \n",
       "359388        10440104  Yellow Cab  WASHINGTON DC          8.40   \n",
       "359389        10440105  Yellow Cab  WASHINGTON DC         27.75   \n",
       "359390        10440106  Yellow Cab  WASHINGTON DC          8.80   \n",
       "359391        10440107  Yellow Cab  WASHINGTON DC         12.76   \n",
       "\n",
       "        Price Charged  Cost of Trip      Date   Profit  \n",
       "0              370.95      313.6350  08/01/16  57.3150  \n",
       "1              358.52      334.8540  06/01/16  23.6660  \n",
       "2              125.20       97.6320  02/01/16  27.5680  \n",
       "3              377.40      351.6020  07/01/16  25.7980  \n",
       "4              114.62       97.7760  03/01/16  16.8440  \n",
       "...               ...           ...       ...      ...  \n",
       "359387          69.24       63.3600  08/01/18   5.8800  \n",
       "359388         113.75      106.8480  04/01/18   6.9020  \n",
       "359389         437.07      349.6500  05/01/18  87.4200  \n",
       "359390         146.19      114.0480  05/01/18  32.1420  \n",
       "359391         191.58      177.6192  02/01/18  13.9608  \n",
       "\n",
       "[359392 rows x 8 columns]"
      ]
     },
     "execution_count": 16,
     "metadata": {},
     "output_type": "execute_result"
    }
   ],
   "source": [
    "df_cab['Profit']=df_cab['Price Charged']-df_cab['Cost of Trip']\n",
    "df_cab"
   ]
  },
  {
   "cell_type": "code",
   "execution_count": 17,
   "id": "a2a10763",
   "metadata": {},
   "outputs": [
    {
     "data": {
      "text/html": [
       "<div>\n",
       "<style scoped>\n",
       "    .dataframe tbody tr th:only-of-type {\n",
       "        vertical-align: middle;\n",
       "    }\n",
       "\n",
       "    .dataframe tbody tr th {\n",
       "        vertical-align: top;\n",
       "    }\n",
       "\n",
       "    .dataframe thead th {\n",
       "        text-align: right;\n",
       "    }\n",
       "</style>\n",
       "<table border=\"1\" class=\"dataframe\">\n",
       "  <thead>\n",
       "    <tr style=\"text-align: right;\">\n",
       "      <th></th>\n",
       "      <th>Transaction ID</th>\n",
       "      <th>Company</th>\n",
       "      <th>City</th>\n",
       "      <th>KM Travelled</th>\n",
       "      <th>Price Charged</th>\n",
       "      <th>Cost of Trip</th>\n",
       "      <th>Date</th>\n",
       "      <th>Profit</th>\n",
       "    </tr>\n",
       "  </thead>\n",
       "  <tbody>\n",
       "    <tr>\n",
       "      <th>118348</th>\n",
       "      <td>10145287</td>\n",
       "      <td>Pink Cab</td>\n",
       "      <td>DALLAS TX</td>\n",
       "      <td>44.80</td>\n",
       "      <td>317.54</td>\n",
       "      <td>537.6000</td>\n",
       "      <td>19/02/17</td>\n",
       "      <td>-220.0600</td>\n",
       "    </tr>\n",
       "    <tr>\n",
       "      <th>18954</th>\n",
       "      <td>10024048</td>\n",
       "      <td>Pink Cab</td>\n",
       "      <td>DALLAS TX</td>\n",
       "      <td>42.56</td>\n",
       "      <td>303.51</td>\n",
       "      <td>502.2080</td>\n",
       "      <td>13/04/16</td>\n",
       "      <td>-198.6980</td>\n",
       "    </tr>\n",
       "    <tr>\n",
       "      <th>54991</th>\n",
       "      <td>10069188</td>\n",
       "      <td>Yellow Cab</td>\n",
       "      <td>TUCSON AZ</td>\n",
       "      <td>44.07</td>\n",
       "      <td>415.37</td>\n",
       "      <td>592.3008</td>\n",
       "      <td>28/08/16</td>\n",
       "      <td>-176.9308</td>\n",
       "    </tr>\n",
       "    <tr>\n",
       "      <th>23384</th>\n",
       "      <td>10029696</td>\n",
       "      <td>Pink Cab</td>\n",
       "      <td>DALLAS TX</td>\n",
       "      <td>43.29</td>\n",
       "      <td>328.85</td>\n",
       "      <td>497.8350</td>\n",
       "      <td>04/05/16</td>\n",
       "      <td>-168.9850</td>\n",
       "    </tr>\n",
       "    <tr>\n",
       "      <th>115200</th>\n",
       "      <td>10141320</td>\n",
       "      <td>Pink Cab</td>\n",
       "      <td>DALLAS TX</td>\n",
       "      <td>48.00</td>\n",
       "      <td>354.36</td>\n",
       "      <td>518.4000</td>\n",
       "      <td>30/01/17</td>\n",
       "      <td>-164.0400</td>\n",
       "    </tr>\n",
       "    <tr>\n",
       "      <th>...</th>\n",
       "      <td>...</td>\n",
       "      <td>...</td>\n",
       "      <td>...</td>\n",
       "      <td>...</td>\n",
       "      <td>...</td>\n",
       "      <td>...</td>\n",
       "      <td>...</td>\n",
       "      <td>...</td>\n",
       "    </tr>\n",
       "    <tr>\n",
       "      <th>138732</th>\n",
       "      <td>10170703</td>\n",
       "      <td>Yellow Cab</td>\n",
       "      <td>NEW YORK NY</td>\n",
       "      <td>41.65</td>\n",
       "      <td>1918.14</td>\n",
       "      <td>509.7960</td>\n",
       "      <td>30/04/17</td>\n",
       "      <td>1408.3440</td>\n",
       "    </tr>\n",
       "    <tr>\n",
       "      <th>138548</th>\n",
       "      <td>10170519</td>\n",
       "      <td>Yellow Cab</td>\n",
       "      <td>NEW YORK NY</td>\n",
       "      <td>41.81</td>\n",
       "      <td>1981.05</td>\n",
       "      <td>556.9092</td>\n",
       "      <td>30/04/17</td>\n",
       "      <td>1424.1408</td>\n",
       "    </tr>\n",
       "    <tr>\n",
       "      <th>138766</th>\n",
       "      <td>10170737</td>\n",
       "      <td>Yellow Cab</td>\n",
       "      <td>NEW YORK NY</td>\n",
       "      <td>43.20</td>\n",
       "      <td>2013.95</td>\n",
       "      <td>580.6080</td>\n",
       "      <td>30/04/17</td>\n",
       "      <td>1433.3420</td>\n",
       "    </tr>\n",
       "    <tr>\n",
       "      <th>138669</th>\n",
       "      <td>10170640</td>\n",
       "      <td>Yellow Cab</td>\n",
       "      <td>NEW YORK NY</td>\n",
       "      <td>43.29</td>\n",
       "      <td>2016.70</td>\n",
       "      <td>571.4280</td>\n",
       "      <td>05/05/17</td>\n",
       "      <td>1445.2720</td>\n",
       "    </tr>\n",
       "    <tr>\n",
       "      <th>138644</th>\n",
       "      <td>10170615</td>\n",
       "      <td>Yellow Cab</td>\n",
       "      <td>NEW YORK NY</td>\n",
       "      <td>46.80</td>\n",
       "      <td>2048.03</td>\n",
       "      <td>584.0640</td>\n",
       "      <td>05/05/17</td>\n",
       "      <td>1463.9660</td>\n",
       "    </tr>\n",
       "  </tbody>\n",
       "</table>\n",
       "<p>359392 rows × 8 columns</p>\n",
       "</div>"
      ],
      "text/plain": [
       "        Transaction ID     Company         City  KM Travelled  Price Charged  \\\n",
       "118348        10145287    Pink Cab    DALLAS TX         44.80         317.54   \n",
       "18954         10024048    Pink Cab    DALLAS TX         42.56         303.51   \n",
       "54991         10069188  Yellow Cab    TUCSON AZ         44.07         415.37   \n",
       "23384         10029696    Pink Cab    DALLAS TX         43.29         328.85   \n",
       "115200        10141320    Pink Cab    DALLAS TX         48.00         354.36   \n",
       "...                ...         ...          ...           ...            ...   \n",
       "138732        10170703  Yellow Cab  NEW YORK NY         41.65        1918.14   \n",
       "138548        10170519  Yellow Cab  NEW YORK NY         41.81        1981.05   \n",
       "138766        10170737  Yellow Cab  NEW YORK NY         43.20        2013.95   \n",
       "138669        10170640  Yellow Cab  NEW YORK NY         43.29        2016.70   \n",
       "138644        10170615  Yellow Cab  NEW YORK NY         46.80        2048.03   \n",
       "\n",
       "        Cost of Trip      Date     Profit  \n",
       "118348      537.6000  19/02/17  -220.0600  \n",
       "18954       502.2080  13/04/16  -198.6980  \n",
       "54991       592.3008  28/08/16  -176.9308  \n",
       "23384       497.8350  04/05/16  -168.9850  \n",
       "115200      518.4000  30/01/17  -164.0400  \n",
       "...              ...       ...        ...  \n",
       "138732      509.7960  30/04/17  1408.3440  \n",
       "138548      556.9092  30/04/17  1424.1408  \n",
       "138766      580.6080  30/04/17  1433.3420  \n",
       "138669      571.4280  05/05/17  1445.2720  \n",
       "138644      584.0640  05/05/17  1463.9660  \n",
       "\n",
       "[359392 rows x 8 columns]"
      ]
     },
     "execution_count": 17,
     "metadata": {},
     "output_type": "execute_result"
    }
   ],
   "source": [
    "df_cab.sort_values(by=['Profit']) # in some trips there are loss (observation in profit column)"
   ]
  },
  {
   "cell_type": "markdown",
   "id": "ca99f680-a0da-4928-adeb-77354b0c76cb",
   "metadata": {},
   "source": [
    "## Importing City.csv \n",
    "### -- this file contains list of US cities, their population and number of cab users"
   ]
  },
  {
   "cell_type": "code",
   "execution_count": 18,
   "id": "8d99cae4",
   "metadata": {},
   "outputs": [
    {
     "data": {
      "text/html": [
       "<div>\n",
       "<style scoped>\n",
       "    .dataframe tbody tr th:only-of-type {\n",
       "        vertical-align: middle;\n",
       "    }\n",
       "\n",
       "    .dataframe tbody tr th {\n",
       "        vertical-align: top;\n",
       "    }\n",
       "\n",
       "    .dataframe thead th {\n",
       "        text-align: right;\n",
       "    }\n",
       "</style>\n",
       "<table border=\"1\" class=\"dataframe\">\n",
       "  <thead>\n",
       "    <tr style=\"text-align: right;\">\n",
       "      <th></th>\n",
       "      <th>City</th>\n",
       "      <th>Population</th>\n",
       "      <th>Users</th>\n",
       "    </tr>\n",
       "  </thead>\n",
       "  <tbody>\n",
       "    <tr>\n",
       "      <th>0</th>\n",
       "      <td>NEW YORK NY</td>\n",
       "      <td>8,405,837</td>\n",
       "      <td>302,149</td>\n",
       "    </tr>\n",
       "    <tr>\n",
       "      <th>1</th>\n",
       "      <td>CHICAGO IL</td>\n",
       "      <td>1,955,130</td>\n",
       "      <td>164,468</td>\n",
       "    </tr>\n",
       "    <tr>\n",
       "      <th>2</th>\n",
       "      <td>LOS ANGELES CA</td>\n",
       "      <td>1,595,037</td>\n",
       "      <td>144,132</td>\n",
       "    </tr>\n",
       "    <tr>\n",
       "      <th>3</th>\n",
       "      <td>MIAMI FL</td>\n",
       "      <td>1,339,155</td>\n",
       "      <td>17,675</td>\n",
       "    </tr>\n",
       "    <tr>\n",
       "      <th>4</th>\n",
       "      <td>SILICON VALLEY</td>\n",
       "      <td>1,177,609</td>\n",
       "      <td>27,247</td>\n",
       "    </tr>\n",
       "  </tbody>\n",
       "</table>\n",
       "</div>"
      ],
      "text/plain": [
       "             City   Population      Users\n",
       "0     NEW YORK NY   8,405,837    302,149 \n",
       "1      CHICAGO IL   1,955,130    164,468 \n",
       "2  LOS ANGELES CA   1,595,037    144,132 \n",
       "3        MIAMI FL   1,339,155     17,675 \n",
       "4  SILICON VALLEY   1,177,609     27,247 "
      ]
     },
     "execution_count": 18,
     "metadata": {},
     "output_type": "execute_result"
    }
   ],
   "source": [
    "df_city = pd.read_csv(\"City.csv\")\n",
    "df_city.head()"
   ]
  },
  {
   "cell_type": "markdown",
   "id": "1a23b071-7c27-4325-9458-5cf4d22f6db8",
   "metadata": {},
   "source": [
    "#### City -\n",
    "#### Population - \n",
    "#### Users - "
   ]
  },
  {
   "cell_type": "code",
   "execution_count": 86,
   "id": "3cf63df7-f737-43d0-9dc6-460ec6350019",
   "metadata": {},
   "outputs": [
    {
     "name": "stdout",
     "output_type": "stream",
     "text": [
      "<class 'pandas.core.frame.DataFrame'>\n",
      "RangeIndex: 20 entries, 0 to 19\n",
      "Data columns (total 3 columns):\n",
      " #   Column      Non-Null Count  Dtype \n",
      "---  ------      --------------  ----- \n",
      " 0   City        20 non-null     object\n",
      " 1   Population  20 non-null     object\n",
      " 2   Users       20 non-null     object\n",
      "dtypes: object(3)\n",
      "memory usage: 608.0+ bytes\n"
     ]
    }
   ],
   "source": [
    "df_city.info()"
   ]
  },
  {
   "cell_type": "code",
   "execution_count": 19,
   "id": "fdcc57b2",
   "metadata": {},
   "outputs": [
    {
     "data": {
      "text/plain": [
       "(20, 3)"
      ]
     },
     "execution_count": 19,
     "metadata": {},
     "output_type": "execute_result"
    }
   ],
   "source": [
    "df_city.shape #  print the number of rows and columns of my DataFrame"
   ]
  },
  {
   "cell_type": "code",
   "execution_count": 20,
   "id": "137c1048",
   "metadata": {},
   "outputs": [
    {
     "data": {
      "text/html": [
       "<div>\n",
       "<style scoped>\n",
       "    .dataframe tbody tr th:only-of-type {\n",
       "        vertical-align: middle;\n",
       "    }\n",
       "\n",
       "    .dataframe tbody tr th {\n",
       "        vertical-align: top;\n",
       "    }\n",
       "\n",
       "    .dataframe thead th {\n",
       "        text-align: right;\n",
       "    }\n",
       "</style>\n",
       "<table border=\"1\" class=\"dataframe\">\n",
       "  <thead>\n",
       "    <tr style=\"text-align: right;\">\n",
       "      <th></th>\n",
       "      <th>City</th>\n",
       "      <th>Population</th>\n",
       "      <th>Users</th>\n",
       "    </tr>\n",
       "  </thead>\n",
       "  <tbody>\n",
       "    <tr>\n",
       "      <th>0</th>\n",
       "      <td>NEW YORK NY</td>\n",
       "      <td>8,405,837</td>\n",
       "      <td>302,149</td>\n",
       "    </tr>\n",
       "    <tr>\n",
       "      <th>1</th>\n",
       "      <td>CHICAGO IL</td>\n",
       "      <td>1,955,130</td>\n",
       "      <td>164,468</td>\n",
       "    </tr>\n",
       "    <tr>\n",
       "      <th>2</th>\n",
       "      <td>LOS ANGELES CA</td>\n",
       "      <td>1,595,037</td>\n",
       "      <td>144,132</td>\n",
       "    </tr>\n",
       "    <tr>\n",
       "      <th>3</th>\n",
       "      <td>MIAMI FL</td>\n",
       "      <td>1,339,155</td>\n",
       "      <td>17,675</td>\n",
       "    </tr>\n",
       "    <tr>\n",
       "      <th>4</th>\n",
       "      <td>SILICON VALLEY</td>\n",
       "      <td>1,177,609</td>\n",
       "      <td>27,247</td>\n",
       "    </tr>\n",
       "  </tbody>\n",
       "</table>\n",
       "</div>"
      ],
      "text/plain": [
       "             City   Population      Users\n",
       "0     NEW YORK NY   8,405,837    302,149 \n",
       "1      CHICAGO IL   1,955,130    164,468 \n",
       "2  LOS ANGELES CA   1,595,037    144,132 \n",
       "3        MIAMI FL   1,339,155     17,675 \n",
       "4  SILICON VALLEY   1,177,609     27,247 "
      ]
     },
     "execution_count": 20,
     "metadata": {},
     "output_type": "execute_result"
    }
   ],
   "source": [
    "df_city.head(5) # The head() function is used to get the first n rows."
   ]
  },
  {
   "cell_type": "code",
   "execution_count": 21,
   "id": "4ce3e76e",
   "metadata": {},
   "outputs": [
    {
     "data": {
      "text/html": [
       "<div>\n",
       "<style scoped>\n",
       "    .dataframe tbody tr th:only-of-type {\n",
       "        vertical-align: middle;\n",
       "    }\n",
       "\n",
       "    .dataframe tbody tr th {\n",
       "        vertical-align: top;\n",
       "    }\n",
       "\n",
       "    .dataframe thead th {\n",
       "        text-align: right;\n",
       "    }\n",
       "</style>\n",
       "<table border=\"1\" class=\"dataframe\">\n",
       "  <thead>\n",
       "    <tr style=\"text-align: right;\">\n",
       "      <th></th>\n",
       "      <th>City</th>\n",
       "      <th>Population</th>\n",
       "      <th>Users</th>\n",
       "    </tr>\n",
       "  </thead>\n",
       "  <tbody>\n",
       "    <tr>\n",
       "      <th>15</th>\n",
       "      <td>SACRAMENTO CA</td>\n",
       "      <td>545,776</td>\n",
       "      <td>7,044</td>\n",
       "    </tr>\n",
       "    <tr>\n",
       "      <th>16</th>\n",
       "      <td>PITTSBURGH PA</td>\n",
       "      <td>542,085</td>\n",
       "      <td>3,643</td>\n",
       "    </tr>\n",
       "    <tr>\n",
       "      <th>17</th>\n",
       "      <td>WASHINGTON DC</td>\n",
       "      <td>418,859</td>\n",
       "      <td>127,001</td>\n",
       "    </tr>\n",
       "    <tr>\n",
       "      <th>18</th>\n",
       "      <td>NASHVILLE TN</td>\n",
       "      <td>327,225</td>\n",
       "      <td>9,270</td>\n",
       "    </tr>\n",
       "    <tr>\n",
       "      <th>19</th>\n",
       "      <td>BOSTON MA</td>\n",
       "      <td>248,968</td>\n",
       "      <td>80,021</td>\n",
       "    </tr>\n",
       "  </tbody>\n",
       "</table>\n",
       "</div>"
      ],
      "text/plain": [
       "             City Population      Users\n",
       "15  SACRAMENTO CA   545,776      7,044 \n",
       "16  PITTSBURGH PA   542,085      3,643 \n",
       "17  WASHINGTON DC   418,859    127,001 \n",
       "18   NASHVILLE TN   327,225      9,270 \n",
       "19      BOSTON MA   248,968     80,021 "
      ]
     },
     "execution_count": 21,
     "metadata": {},
     "output_type": "execute_result"
    }
   ],
   "source": [
    "df_city.tail(5) # The tail() function is used to get the last n rows."
   ]
  },
  {
   "cell_type": "code",
   "execution_count": 22,
   "id": "79f7fbe5",
   "metadata": {},
   "outputs": [
    {
     "data": {
      "text/html": [
       "<div>\n",
       "<style scoped>\n",
       "    .dataframe tbody tr th:only-of-type {\n",
       "        vertical-align: middle;\n",
       "    }\n",
       "\n",
       "    .dataframe tbody tr th {\n",
       "        vertical-align: top;\n",
       "    }\n",
       "\n",
       "    .dataframe thead th {\n",
       "        text-align: right;\n",
       "    }\n",
       "</style>\n",
       "<table border=\"1\" class=\"dataframe\">\n",
       "  <thead>\n",
       "    <tr style=\"text-align: right;\">\n",
       "      <th></th>\n",
       "      <th>City</th>\n",
       "      <th>Population</th>\n",
       "      <th>Users</th>\n",
       "    </tr>\n",
       "  </thead>\n",
       "  <tbody>\n",
       "    <tr>\n",
       "      <th>count</th>\n",
       "      <td>20</td>\n",
       "      <td>20</td>\n",
       "      <td>20</td>\n",
       "    </tr>\n",
       "    <tr>\n",
       "      <th>unique</th>\n",
       "      <td>20</td>\n",
       "      <td>20</td>\n",
       "      <td>20</td>\n",
       "    </tr>\n",
       "    <tr>\n",
       "      <th>top</th>\n",
       "      <td>NEW YORK NY</td>\n",
       "      <td>8,405,837</td>\n",
       "      <td>302,149</td>\n",
       "    </tr>\n",
       "    <tr>\n",
       "      <th>freq</th>\n",
       "      <td>1</td>\n",
       "      <td>1</td>\n",
       "      <td>1</td>\n",
       "    </tr>\n",
       "  </tbody>\n",
       "</table>\n",
       "</div>"
      ],
      "text/plain": [
       "               City   Population      Users\n",
       "count            20           20         20\n",
       "unique           20           20         20\n",
       "top     NEW YORK NY   8,405,837    302,149 \n",
       "freq              1            1          1"
      ]
     },
     "execution_count": 22,
     "metadata": {},
     "output_type": "execute_result"
    }
   ],
   "source": [
    "df_city.describe() #The describe() method returns description of the data in the DataFrame"
   ]
  },
  {
   "cell_type": "code",
   "execution_count": 23,
   "id": "e4032020",
   "metadata": {},
   "outputs": [
    {
     "data": {
      "text/plain": [
       "City          0\n",
       "Population    0\n",
       "Users         0\n",
       "dtype: int64"
      ]
     },
     "execution_count": 23,
     "metadata": {},
     "output_type": "execute_result"
    }
   ],
   "source": [
    "df_city.isnull().sum().sort_values(ascending=False) # prints the column with missing value."
   ]
  },
  {
   "cell_type": "markdown",
   "id": "539f2638-1ef0-44ab-9a44-de0d432a6d13",
   "metadata": {},
   "source": [
    "### Identify and remove duplicates"
   ]
  },
  {
   "cell_type": "code",
   "execution_count": 24,
   "id": "e3b7c7e3",
   "metadata": {},
   "outputs": [
    {
     "data": {
      "text/plain": [
       "0"
      ]
     },
     "execution_count": 24,
     "metadata": {},
     "output_type": "execute_result"
    }
   ],
   "source": [
    "df_city.duplicated().sum()"
   ]
  },
  {
   "cell_type": "code",
   "execution_count": 25,
   "id": "76477e42",
   "metadata": {},
   "outputs": [
    {
     "data": {
      "text/html": [
       "<div>\n",
       "<style scoped>\n",
       "    .dataframe tbody tr th:only-of-type {\n",
       "        vertical-align: middle;\n",
       "    }\n",
       "\n",
       "    .dataframe tbody tr th {\n",
       "        vertical-align: top;\n",
       "    }\n",
       "\n",
       "    .dataframe thead th {\n",
       "        text-align: right;\n",
       "    }\n",
       "</style>\n",
       "<table border=\"1\" class=\"dataframe\">\n",
       "  <thead>\n",
       "    <tr style=\"text-align: right;\">\n",
       "      <th></th>\n",
       "      <th>Customer ID</th>\n",
       "      <th>Gender</th>\n",
       "      <th>Age</th>\n",
       "      <th>Income (USD/Month)</th>\n",
       "    </tr>\n",
       "  </thead>\n",
       "  <tbody>\n",
       "    <tr>\n",
       "      <th>0</th>\n",
       "      <td>29290</td>\n",
       "      <td>Male</td>\n",
       "      <td>28</td>\n",
       "      <td>10813</td>\n",
       "    </tr>\n",
       "    <tr>\n",
       "      <th>1</th>\n",
       "      <td>27703</td>\n",
       "      <td>Male</td>\n",
       "      <td>27</td>\n",
       "      <td>9237</td>\n",
       "    </tr>\n",
       "    <tr>\n",
       "      <th>2</th>\n",
       "      <td>28712</td>\n",
       "      <td>Male</td>\n",
       "      <td>53</td>\n",
       "      <td>11242</td>\n",
       "    </tr>\n",
       "    <tr>\n",
       "      <th>3</th>\n",
       "      <td>28020</td>\n",
       "      <td>Male</td>\n",
       "      <td>23</td>\n",
       "      <td>23327</td>\n",
       "    </tr>\n",
       "    <tr>\n",
       "      <th>4</th>\n",
       "      <td>27182</td>\n",
       "      <td>Male</td>\n",
       "      <td>33</td>\n",
       "      <td>8536</td>\n",
       "    </tr>\n",
       "  </tbody>\n",
       "</table>\n",
       "</div>"
      ],
      "text/plain": [
       "   Customer ID Gender  Age  Income (USD/Month)\n",
       "0        29290   Male   28               10813\n",
       "1        27703   Male   27                9237\n",
       "2        28712   Male   53               11242\n",
       "3        28020   Male   23               23327\n",
       "4        27182   Male   33                8536"
      ]
     },
     "execution_count": 25,
     "metadata": {},
     "output_type": "execute_result"
    }
   ],
   "source": [
    "df_customer = pd.read_csv(\"Customer_ID.csv\")\n",
    "df_customer.head()"
   ]
  },
  {
   "cell_type": "code",
   "execution_count": 26,
   "id": "39fb8bf7",
   "metadata": {},
   "outputs": [
    {
     "data": {
      "text/plain": [
       "(49171, 4)"
      ]
     },
     "execution_count": 26,
     "metadata": {},
     "output_type": "execute_result"
    }
   ],
   "source": [
    "df_customer.shape #  print the number of rows and columns of my DataFrame"
   ]
  },
  {
   "cell_type": "code",
   "execution_count": 27,
   "id": "f96b7cf5",
   "metadata": {},
   "outputs": [
    {
     "data": {
      "text/html": [
       "<div>\n",
       "<style scoped>\n",
       "    .dataframe tbody tr th:only-of-type {\n",
       "        vertical-align: middle;\n",
       "    }\n",
       "\n",
       "    .dataframe tbody tr th {\n",
       "        vertical-align: top;\n",
       "    }\n",
       "\n",
       "    .dataframe thead th {\n",
       "        text-align: right;\n",
       "    }\n",
       "</style>\n",
       "<table border=\"1\" class=\"dataframe\">\n",
       "  <thead>\n",
       "    <tr style=\"text-align: right;\">\n",
       "      <th></th>\n",
       "      <th>Customer ID</th>\n",
       "      <th>Gender</th>\n",
       "      <th>Age</th>\n",
       "      <th>Income (USD/Month)</th>\n",
       "    </tr>\n",
       "  </thead>\n",
       "  <tbody>\n",
       "    <tr>\n",
       "      <th>0</th>\n",
       "      <td>29290</td>\n",
       "      <td>Male</td>\n",
       "      <td>28</td>\n",
       "      <td>10813</td>\n",
       "    </tr>\n",
       "    <tr>\n",
       "      <th>1</th>\n",
       "      <td>27703</td>\n",
       "      <td>Male</td>\n",
       "      <td>27</td>\n",
       "      <td>9237</td>\n",
       "    </tr>\n",
       "    <tr>\n",
       "      <th>2</th>\n",
       "      <td>28712</td>\n",
       "      <td>Male</td>\n",
       "      <td>53</td>\n",
       "      <td>11242</td>\n",
       "    </tr>\n",
       "    <tr>\n",
       "      <th>3</th>\n",
       "      <td>28020</td>\n",
       "      <td>Male</td>\n",
       "      <td>23</td>\n",
       "      <td>23327</td>\n",
       "    </tr>\n",
       "    <tr>\n",
       "      <th>4</th>\n",
       "      <td>27182</td>\n",
       "      <td>Male</td>\n",
       "      <td>33</td>\n",
       "      <td>8536</td>\n",
       "    </tr>\n",
       "  </tbody>\n",
       "</table>\n",
       "</div>"
      ],
      "text/plain": [
       "   Customer ID Gender  Age  Income (USD/Month)\n",
       "0        29290   Male   28               10813\n",
       "1        27703   Male   27                9237\n",
       "2        28712   Male   53               11242\n",
       "3        28020   Male   23               23327\n",
       "4        27182   Male   33                8536"
      ]
     },
     "execution_count": 27,
     "metadata": {},
     "output_type": "execute_result"
    }
   ],
   "source": [
    "df_customer.head(5)"
   ]
  },
  {
   "cell_type": "code",
   "execution_count": 28,
   "id": "b4e15497",
   "metadata": {},
   "outputs": [
    {
     "data": {
      "text/html": [
       "<div>\n",
       "<style scoped>\n",
       "    .dataframe tbody tr th:only-of-type {\n",
       "        vertical-align: middle;\n",
       "    }\n",
       "\n",
       "    .dataframe tbody tr th {\n",
       "        vertical-align: top;\n",
       "    }\n",
       "\n",
       "    .dataframe thead th {\n",
       "        text-align: right;\n",
       "    }\n",
       "</style>\n",
       "<table border=\"1\" class=\"dataframe\">\n",
       "  <thead>\n",
       "    <tr style=\"text-align: right;\">\n",
       "      <th></th>\n",
       "      <th>Customer ID</th>\n",
       "      <th>Age</th>\n",
       "      <th>Income (USD/Month)</th>\n",
       "    </tr>\n",
       "  </thead>\n",
       "  <tbody>\n",
       "    <tr>\n",
       "      <th>count</th>\n",
       "      <td>49171.000000</td>\n",
       "      <td>49171.000000</td>\n",
       "      <td>49171.000000</td>\n",
       "    </tr>\n",
       "    <tr>\n",
       "      <th>mean</th>\n",
       "      <td>28398.252283</td>\n",
       "      <td>35.363121</td>\n",
       "      <td>15015.631856</td>\n",
       "    </tr>\n",
       "    <tr>\n",
       "      <th>std</th>\n",
       "      <td>17714.137333</td>\n",
       "      <td>12.599066</td>\n",
       "      <td>8002.208253</td>\n",
       "    </tr>\n",
       "    <tr>\n",
       "      <th>min</th>\n",
       "      <td>1.000000</td>\n",
       "      <td>18.000000</td>\n",
       "      <td>2000.000000</td>\n",
       "    </tr>\n",
       "    <tr>\n",
       "      <th>25%</th>\n",
       "      <td>12654.500000</td>\n",
       "      <td>25.000000</td>\n",
       "      <td>8289.500000</td>\n",
       "    </tr>\n",
       "    <tr>\n",
       "      <th>50%</th>\n",
       "      <td>27631.000000</td>\n",
       "      <td>33.000000</td>\n",
       "      <td>14656.000000</td>\n",
       "    </tr>\n",
       "    <tr>\n",
       "      <th>75%</th>\n",
       "      <td>43284.500000</td>\n",
       "      <td>42.000000</td>\n",
       "      <td>21035.000000</td>\n",
       "    </tr>\n",
       "    <tr>\n",
       "      <th>max</th>\n",
       "      <td>60000.000000</td>\n",
       "      <td>65.000000</td>\n",
       "      <td>35000.000000</td>\n",
       "    </tr>\n",
       "  </tbody>\n",
       "</table>\n",
       "</div>"
      ],
      "text/plain": [
       "        Customer ID           Age  Income (USD/Month)\n",
       "count  49171.000000  49171.000000        49171.000000\n",
       "mean   28398.252283     35.363121        15015.631856\n",
       "std    17714.137333     12.599066         8002.208253\n",
       "min        1.000000     18.000000         2000.000000\n",
       "25%    12654.500000     25.000000         8289.500000\n",
       "50%    27631.000000     33.000000        14656.000000\n",
       "75%    43284.500000     42.000000        21035.000000\n",
       "max    60000.000000     65.000000        35000.000000"
      ]
     },
     "execution_count": 28,
     "metadata": {},
     "output_type": "execute_result"
    }
   ],
   "source": [
    "df_customer.describe()"
   ]
  },
  {
   "cell_type": "markdown",
   "id": "2d7de754-de7d-403f-8df6-c0bd028be396",
   "metadata": {},
   "source": [
    "### Perform other analysis like NA value and outlier detection"
   ]
  },
  {
   "cell_type": "code",
   "execution_count": 29,
   "id": "768cd395",
   "metadata": {},
   "outputs": [
    {
     "data": {
      "text/plain": [
       "Customer ID           0\n",
       "Gender                0\n",
       "Age                   0\n",
       "Income (USD/Month)    0\n",
       "dtype: int64"
      ]
     },
     "execution_count": 29,
     "metadata": {},
     "output_type": "execute_result"
    }
   ],
   "source": [
    "df_customer.isnull().sum().sort_values(ascending=False)"
   ]
  },
  {
   "cell_type": "code",
   "execution_count": 30,
   "id": "91858fe7",
   "metadata": {},
   "outputs": [
    {
     "data": {
      "text/plain": [
       "0"
      ]
     },
     "execution_count": 30,
     "metadata": {},
     "output_type": "execute_result"
    }
   ],
   "source": [
    "df_city.duplicated().sum()"
   ]
  },
  {
   "cell_type": "code",
   "execution_count": 31,
   "id": "bc1fc094",
   "metadata": {},
   "outputs": [
    {
     "data": {
      "text/html": [
       "<div>\n",
       "<style scoped>\n",
       "    .dataframe tbody tr th:only-of-type {\n",
       "        vertical-align: middle;\n",
       "    }\n",
       "\n",
       "    .dataframe tbody tr th {\n",
       "        vertical-align: top;\n",
       "    }\n",
       "\n",
       "    .dataframe thead th {\n",
       "        text-align: right;\n",
       "    }\n",
       "</style>\n",
       "<table border=\"1\" class=\"dataframe\">\n",
       "  <thead>\n",
       "    <tr style=\"text-align: right;\">\n",
       "      <th></th>\n",
       "      <th>Transaction ID</th>\n",
       "      <th>Customer ID</th>\n",
       "      <th>Payment_Mode</th>\n",
       "    </tr>\n",
       "  </thead>\n",
       "  <tbody>\n",
       "    <tr>\n",
       "      <th>0</th>\n",
       "      <td>10000011</td>\n",
       "      <td>29290</td>\n",
       "      <td>Card</td>\n",
       "    </tr>\n",
       "    <tr>\n",
       "      <th>1</th>\n",
       "      <td>10000012</td>\n",
       "      <td>27703</td>\n",
       "      <td>Card</td>\n",
       "    </tr>\n",
       "    <tr>\n",
       "      <th>2</th>\n",
       "      <td>10000013</td>\n",
       "      <td>28712</td>\n",
       "      <td>Cash</td>\n",
       "    </tr>\n",
       "    <tr>\n",
       "      <th>3</th>\n",
       "      <td>10000014</td>\n",
       "      <td>28020</td>\n",
       "      <td>Cash</td>\n",
       "    </tr>\n",
       "    <tr>\n",
       "      <th>4</th>\n",
       "      <td>10000015</td>\n",
       "      <td>27182</td>\n",
       "      <td>Card</td>\n",
       "    </tr>\n",
       "  </tbody>\n",
       "</table>\n",
       "</div>"
      ],
      "text/plain": [
       "   Transaction ID  Customer ID Payment_Mode\n",
       "0        10000011        29290         Card\n",
       "1        10000012        27703         Card\n",
       "2        10000013        28712         Cash\n",
       "3        10000014        28020         Cash\n",
       "4        10000015        27182         Card"
      ]
     },
     "execution_count": 31,
     "metadata": {},
     "output_type": "execute_result"
    }
   ],
   "source": [
    "df_transaction = pd.read_csv(\"Transaction_ID.csv\")\n",
    "df_transaction.head()"
   ]
  },
  {
   "cell_type": "code",
   "execution_count": 32,
   "id": "ec62cd9f",
   "metadata": {},
   "outputs": [
    {
     "data": {
      "text/plain": [
       "(440098, 3)"
      ]
     },
     "execution_count": 32,
     "metadata": {},
     "output_type": "execute_result"
    }
   ],
   "source": [
    "df_transaction.shape"
   ]
  },
  {
   "cell_type": "code",
   "execution_count": 33,
   "id": "81d104e9",
   "metadata": {},
   "outputs": [
    {
     "data": {
      "text/html": [
       "<div>\n",
       "<style scoped>\n",
       "    .dataframe tbody tr th:only-of-type {\n",
       "        vertical-align: middle;\n",
       "    }\n",
       "\n",
       "    .dataframe tbody tr th {\n",
       "        vertical-align: top;\n",
       "    }\n",
       "\n",
       "    .dataframe thead th {\n",
       "        text-align: right;\n",
       "    }\n",
       "</style>\n",
       "<table border=\"1\" class=\"dataframe\">\n",
       "  <thead>\n",
       "    <tr style=\"text-align: right;\">\n",
       "      <th></th>\n",
       "      <th>Transaction ID</th>\n",
       "      <th>Customer ID</th>\n",
       "    </tr>\n",
       "  </thead>\n",
       "  <tbody>\n",
       "    <tr>\n",
       "      <th>count</th>\n",
       "      <td>4.400980e+05</td>\n",
       "      <td>440098.000000</td>\n",
       "    </tr>\n",
       "    <tr>\n",
       "      <th>mean</th>\n",
       "      <td>1.022006e+07</td>\n",
       "      <td>23619.513120</td>\n",
       "    </tr>\n",
       "    <tr>\n",
       "      <th>std</th>\n",
       "      <td>1.270455e+05</td>\n",
       "      <td>21195.549816</td>\n",
       "    </tr>\n",
       "    <tr>\n",
       "      <th>min</th>\n",
       "      <td>1.000001e+07</td>\n",
       "      <td>1.000000</td>\n",
       "    </tr>\n",
       "    <tr>\n",
       "      <th>25%</th>\n",
       "      <td>1.011004e+07</td>\n",
       "      <td>3530.000000</td>\n",
       "    </tr>\n",
       "    <tr>\n",
       "      <th>50%</th>\n",
       "      <td>1.022006e+07</td>\n",
       "      <td>15168.000000</td>\n",
       "    </tr>\n",
       "    <tr>\n",
       "      <th>75%</th>\n",
       "      <td>1.033008e+07</td>\n",
       "      <td>43884.000000</td>\n",
       "    </tr>\n",
       "    <tr>\n",
       "      <th>max</th>\n",
       "      <td>1.044011e+07</td>\n",
       "      <td>60000.000000</td>\n",
       "    </tr>\n",
       "  </tbody>\n",
       "</table>\n",
       "</div>"
      ],
      "text/plain": [
       "       Transaction ID    Customer ID\n",
       "count    4.400980e+05  440098.000000\n",
       "mean     1.022006e+07   23619.513120\n",
       "std      1.270455e+05   21195.549816\n",
       "min      1.000001e+07       1.000000\n",
       "25%      1.011004e+07    3530.000000\n",
       "50%      1.022006e+07   15168.000000\n",
       "75%      1.033008e+07   43884.000000\n",
       "max      1.044011e+07   60000.000000"
      ]
     },
     "execution_count": 33,
     "metadata": {},
     "output_type": "execute_result"
    }
   ],
   "source": [
    "df_transaction.describe()"
   ]
  },
  {
   "cell_type": "code",
   "execution_count": 34,
   "id": "3ca0ebf3",
   "metadata": {},
   "outputs": [
    {
     "data": {
      "text/plain": [
       "Transaction ID    0\n",
       "Customer ID       0\n",
       "Payment_Mode      0\n",
       "dtype: int64"
      ]
     },
     "execution_count": 34,
     "metadata": {},
     "output_type": "execute_result"
    }
   ],
   "source": [
    "df_transaction.isnull().sum().sort_values(ascending=False)"
   ]
  },
  {
   "cell_type": "code",
   "execution_count": 35,
   "id": "098cecb6",
   "metadata": {},
   "outputs": [
    {
     "data": {
      "text/plain": [
       "0"
      ]
     },
     "execution_count": 35,
     "metadata": {},
     "output_type": "execute_result"
    }
   ],
   "source": [
    "df_transaction.duplicated().sum()"
   ]
  },
  {
   "cell_type": "code",
   "execution_count": 141,
   "id": "c25c39bc",
   "metadata": {},
   "outputs": [
    {
     "data": {
      "text/html": [
       "<div>\n",
       "<style scoped>\n",
       "    .dataframe tbody tr th:only-of-type {\n",
       "        vertical-align: middle;\n",
       "    }\n",
       "\n",
       "    .dataframe tbody tr th {\n",
       "        vertical-align: top;\n",
       "    }\n",
       "\n",
       "    .dataframe thead th {\n",
       "        text-align: right;\n",
       "    }\n",
       "</style>\n",
       "<table border=\"1\" class=\"dataframe\">\n",
       "  <thead>\n",
       "    <tr style=\"text-align: right;\">\n",
       "      <th></th>\n",
       "      <th>Transaction ID</th>\n",
       "      <th>Company</th>\n",
       "      <th>City</th>\n",
       "      <th>KM Travelled</th>\n",
       "      <th>Price Charged</th>\n",
       "      <th>Cost of Trip</th>\n",
       "      <th>Date</th>\n",
       "      <th>Profit</th>\n",
       "      <th>Customer ID</th>\n",
       "      <th>Payment_Mode</th>\n",
       "      <th>Gender</th>\n",
       "      <th>Age</th>\n",
       "      <th>Income (USD/Month)</th>\n",
       "      <th>Population</th>\n",
       "      <th>Users</th>\n",
       "    </tr>\n",
       "  </thead>\n",
       "  <tbody>\n",
       "    <tr>\n",
       "      <th>0</th>\n",
       "      <td>10000011</td>\n",
       "      <td>Pink Cab</td>\n",
       "      <td>ATLANTA GA</td>\n",
       "      <td>30.45</td>\n",
       "      <td>370.95</td>\n",
       "      <td>313.6350</td>\n",
       "      <td>08/01/16</td>\n",
       "      <td>57.3150</td>\n",
       "      <td>29290</td>\n",
       "      <td>Card</td>\n",
       "      <td>Male</td>\n",
       "      <td>28</td>\n",
       "      <td>10813</td>\n",
       "      <td>814,885</td>\n",
       "      <td>24,701</td>\n",
       "    </tr>\n",
       "    <tr>\n",
       "      <th>1</th>\n",
       "      <td>10351127</td>\n",
       "      <td>Yellow Cab</td>\n",
       "      <td>ATLANTA GA</td>\n",
       "      <td>26.19</td>\n",
       "      <td>598.70</td>\n",
       "      <td>317.4228</td>\n",
       "      <td>21/07/18</td>\n",
       "      <td>281.2772</td>\n",
       "      <td>29290</td>\n",
       "      <td>Cash</td>\n",
       "      <td>Male</td>\n",
       "      <td>28</td>\n",
       "      <td>10813</td>\n",
       "      <td>814,885</td>\n",
       "      <td>24,701</td>\n",
       "    </tr>\n",
       "    <tr>\n",
       "      <th>2</th>\n",
       "      <td>10412921</td>\n",
       "      <td>Yellow Cab</td>\n",
       "      <td>ATLANTA GA</td>\n",
       "      <td>42.55</td>\n",
       "      <td>792.05</td>\n",
       "      <td>597.4020</td>\n",
       "      <td>23/11/18</td>\n",
       "      <td>194.6480</td>\n",
       "      <td>29290</td>\n",
       "      <td>Card</td>\n",
       "      <td>Male</td>\n",
       "      <td>28</td>\n",
       "      <td>10813</td>\n",
       "      <td>814,885</td>\n",
       "      <td>24,701</td>\n",
       "    </tr>\n",
       "    <tr>\n",
       "      <th>3</th>\n",
       "      <td>10000012</td>\n",
       "      <td>Pink Cab</td>\n",
       "      <td>ATLANTA GA</td>\n",
       "      <td>28.62</td>\n",
       "      <td>358.52</td>\n",
       "      <td>334.8540</td>\n",
       "      <td>06/01/16</td>\n",
       "      <td>23.6660</td>\n",
       "      <td>27703</td>\n",
       "      <td>Card</td>\n",
       "      <td>Male</td>\n",
       "      <td>27</td>\n",
       "      <td>9237</td>\n",
       "      <td>814,885</td>\n",
       "      <td>24,701</td>\n",
       "    </tr>\n",
       "    <tr>\n",
       "      <th>4</th>\n",
       "      <td>10320494</td>\n",
       "      <td>Yellow Cab</td>\n",
       "      <td>ATLANTA GA</td>\n",
       "      <td>36.38</td>\n",
       "      <td>721.10</td>\n",
       "      <td>467.1192</td>\n",
       "      <td>21/04/18</td>\n",
       "      <td>253.9808</td>\n",
       "      <td>27703</td>\n",
       "      <td>Card</td>\n",
       "      <td>Male</td>\n",
       "      <td>27</td>\n",
       "      <td>9237</td>\n",
       "      <td>814,885</td>\n",
       "      <td>24,701</td>\n",
       "    </tr>\n",
       "    <tr>\n",
       "      <th>5</th>\n",
       "      <td>10324737</td>\n",
       "      <td>Yellow Cab</td>\n",
       "      <td>ATLANTA GA</td>\n",
       "      <td>6.18</td>\n",
       "      <td>138.40</td>\n",
       "      <td>87.5088</td>\n",
       "      <td>04/05/18</td>\n",
       "      <td>50.8912</td>\n",
       "      <td>27703</td>\n",
       "      <td>Cash</td>\n",
       "      <td>Male</td>\n",
       "      <td>27</td>\n",
       "      <td>9237</td>\n",
       "      <td>814,885</td>\n",
       "      <td>24,701</td>\n",
       "    </tr>\n",
       "    <tr>\n",
       "      <th>6</th>\n",
       "      <td>10395626</td>\n",
       "      <td>Pink Cab</td>\n",
       "      <td>ATLANTA GA</td>\n",
       "      <td>13.39</td>\n",
       "      <td>167.03</td>\n",
       "      <td>141.9340</td>\n",
       "      <td>27/10/18</td>\n",
       "      <td>25.0960</td>\n",
       "      <td>27703</td>\n",
       "      <td>Card</td>\n",
       "      <td>Male</td>\n",
       "      <td>27</td>\n",
       "      <td>9237</td>\n",
       "      <td>814,885</td>\n",
       "      <td>24,701</td>\n",
       "    </tr>\n",
       "    <tr>\n",
       "      <th>7</th>\n",
       "      <td>10000013</td>\n",
       "      <td>Pink Cab</td>\n",
       "      <td>ATLANTA GA</td>\n",
       "      <td>9.04</td>\n",
       "      <td>125.20</td>\n",
       "      <td>97.6320</td>\n",
       "      <td>02/01/16</td>\n",
       "      <td>27.5680</td>\n",
       "      <td>28712</td>\n",
       "      <td>Cash</td>\n",
       "      <td>Male</td>\n",
       "      <td>53</td>\n",
       "      <td>11242</td>\n",
       "      <td>814,885</td>\n",
       "      <td>24,701</td>\n",
       "    </tr>\n",
       "    <tr>\n",
       "      <th>8</th>\n",
       "      <td>10079404</td>\n",
       "      <td>Yellow Cab</td>\n",
       "      <td>ATLANTA GA</td>\n",
       "      <td>39.60</td>\n",
       "      <td>704.30</td>\n",
       "      <td>494.2080</td>\n",
       "      <td>21/09/16</td>\n",
       "      <td>210.0920</td>\n",
       "      <td>28712</td>\n",
       "      <td>Card</td>\n",
       "      <td>Male</td>\n",
       "      <td>53</td>\n",
       "      <td>11242</td>\n",
       "      <td>814,885</td>\n",
       "      <td>24,701</td>\n",
       "    </tr>\n",
       "    <tr>\n",
       "      <th>9</th>\n",
       "      <td>10186994</td>\n",
       "      <td>Yellow Cab</td>\n",
       "      <td>ATLANTA GA</td>\n",
       "      <td>18.19</td>\n",
       "      <td>365.63</td>\n",
       "      <td>246.6564</td>\n",
       "      <td>23/06/17</td>\n",
       "      <td>118.9736</td>\n",
       "      <td>28712</td>\n",
       "      <td>Card</td>\n",
       "      <td>Male</td>\n",
       "      <td>53</td>\n",
       "      <td>11242</td>\n",
       "      <td>814,885</td>\n",
       "      <td>24,701</td>\n",
       "    </tr>\n",
       "  </tbody>\n",
       "</table>\n",
       "</div>"
      ],
      "text/plain": [
       "   Transaction ID     Company        City  KM Travelled  Price Charged  \\\n",
       "0        10000011    Pink Cab  ATLANTA GA         30.45         370.95   \n",
       "1        10351127  Yellow Cab  ATLANTA GA         26.19         598.70   \n",
       "2        10412921  Yellow Cab  ATLANTA GA         42.55         792.05   \n",
       "3        10000012    Pink Cab  ATLANTA GA         28.62         358.52   \n",
       "4        10320494  Yellow Cab  ATLANTA GA         36.38         721.10   \n",
       "5        10324737  Yellow Cab  ATLANTA GA          6.18         138.40   \n",
       "6        10395626    Pink Cab  ATLANTA GA         13.39         167.03   \n",
       "7        10000013    Pink Cab  ATLANTA GA          9.04         125.20   \n",
       "8        10079404  Yellow Cab  ATLANTA GA         39.60         704.30   \n",
       "9        10186994  Yellow Cab  ATLANTA GA         18.19         365.63   \n",
       "\n",
       "   Cost of Trip      Date    Profit  Customer ID Payment_Mode Gender  Age  \\\n",
       "0      313.6350  08/01/16   57.3150        29290         Card   Male   28   \n",
       "1      317.4228  21/07/18  281.2772        29290         Cash   Male   28   \n",
       "2      597.4020  23/11/18  194.6480        29290         Card   Male   28   \n",
       "3      334.8540  06/01/16   23.6660        27703         Card   Male   27   \n",
       "4      467.1192  21/04/18  253.9808        27703         Card   Male   27   \n",
       "5       87.5088  04/05/18   50.8912        27703         Cash   Male   27   \n",
       "6      141.9340  27/10/18   25.0960        27703         Card   Male   27   \n",
       "7       97.6320  02/01/16   27.5680        28712         Cash   Male   53   \n",
       "8      494.2080  21/09/16  210.0920        28712         Card   Male   53   \n",
       "9      246.6564  23/06/17  118.9736        28712         Card   Male   53   \n",
       "\n",
       "   Income (USD/Month) Population     Users  \n",
       "0               10813   814,885    24,701   \n",
       "1               10813   814,885    24,701   \n",
       "2               10813   814,885    24,701   \n",
       "3                9237   814,885    24,701   \n",
       "4                9237   814,885    24,701   \n",
       "5                9237   814,885    24,701   \n",
       "6                9237   814,885    24,701   \n",
       "7               11242   814,885    24,701   \n",
       "8               11242   814,885    24,701   \n",
       "9               11242   814,885    24,701   "
      ]
     },
     "execution_count": 141,
     "metadata": {},
     "output_type": "execute_result"
    }
   ],
   "source": [
    "df= df_cab.merge(df_transaction, on= 'Transaction ID').merge(df_customer, on ='Customer ID').merge(df_city, on = 'City')\n",
    "df.head(10)"
   ]
  },
  {
   "cell_type": "code",
   "execution_count": 142,
   "id": "068ad76e",
   "metadata": {},
   "outputs": [
    {
     "name": "stdout",
     "output_type": "stream",
     "text": [
      "<class 'pandas.core.frame.DataFrame'>\n",
      "Int64Index: 359392 entries, 0 to 359391\n",
      "Data columns (total 15 columns):\n",
      " #   Column              Non-Null Count   Dtype  \n",
      "---  ------              --------------   -----  \n",
      " 0   Transaction ID      359392 non-null  int64  \n",
      " 1   Company             359392 non-null  object \n",
      " 2   City                359392 non-null  object \n",
      " 3   KM Travelled        359392 non-null  float64\n",
      " 4   Price Charged       359392 non-null  float64\n",
      " 5   Cost of Trip        359392 non-null  float64\n",
      " 6   Date                359392 non-null  object \n",
      " 7   Profit              359392 non-null  float64\n",
      " 8   Customer ID         359392 non-null  int64  \n",
      " 9   Payment_Mode        359392 non-null  object \n",
      " 10  Gender              359392 non-null  object \n",
      " 11  Age                 359392 non-null  int64  \n",
      " 12  Income (USD/Month)  359392 non-null  int64  \n",
      " 13  Population          359392 non-null  object \n",
      " 14  Users               359392 non-null  object \n",
      "dtypes: float64(4), int64(4), object(7)\n",
      "memory usage: 43.9+ MB\n"
     ]
    }
   ],
   "source": [
    "df.info()"
   ]
  },
  {
   "cell_type": "code",
   "execution_count": 143,
   "id": "facb81f6",
   "metadata": {},
   "outputs": [
    {
     "data": {
      "text/html": [
       "<div>\n",
       "<style scoped>\n",
       "    .dataframe tbody tr th:only-of-type {\n",
       "        vertical-align: middle;\n",
       "    }\n",
       "\n",
       "    .dataframe tbody tr th {\n",
       "        vertical-align: top;\n",
       "    }\n",
       "\n",
       "    .dataframe thead th {\n",
       "        text-align: right;\n",
       "    }\n",
       "</style>\n",
       "<table border=\"1\" class=\"dataframe\">\n",
       "  <thead>\n",
       "    <tr style=\"text-align: right;\">\n",
       "      <th></th>\n",
       "      <th>Transaction ID</th>\n",
       "      <th>KM Travelled</th>\n",
       "      <th>Price Charged</th>\n",
       "      <th>Cost of Trip</th>\n",
       "      <th>Profit</th>\n",
       "      <th>Customer ID</th>\n",
       "      <th>Age</th>\n",
       "      <th>Income (USD/Month)</th>\n",
       "    </tr>\n",
       "  </thead>\n",
       "  <tbody>\n",
       "    <tr>\n",
       "      <th>count</th>\n",
       "      <td>3.593920e+05</td>\n",
       "      <td>359392.000000</td>\n",
       "      <td>359392.000000</td>\n",
       "      <td>359392.000000</td>\n",
       "      <td>359392.000000</td>\n",
       "      <td>359392.000000</td>\n",
       "      <td>359392.000000</td>\n",
       "      <td>359392.000000</td>\n",
       "    </tr>\n",
       "    <tr>\n",
       "      <th>mean</th>\n",
       "      <td>1.022076e+07</td>\n",
       "      <td>22.567254</td>\n",
       "      <td>423.443311</td>\n",
       "      <td>286.190113</td>\n",
       "      <td>137.253198</td>\n",
       "      <td>19191.652115</td>\n",
       "      <td>35.336705</td>\n",
       "      <td>15048.822937</td>\n",
       "    </tr>\n",
       "    <tr>\n",
       "      <th>std</th>\n",
       "      <td>1.268058e+05</td>\n",
       "      <td>12.233526</td>\n",
       "      <td>274.378911</td>\n",
       "      <td>157.993661</td>\n",
       "      <td>160.311840</td>\n",
       "      <td>21012.412463</td>\n",
       "      <td>12.594234</td>\n",
       "      <td>7969.409482</td>\n",
       "    </tr>\n",
       "    <tr>\n",
       "      <th>min</th>\n",
       "      <td>1.000001e+07</td>\n",
       "      <td>1.900000</td>\n",
       "      <td>15.600000</td>\n",
       "      <td>19.000000</td>\n",
       "      <td>-220.060000</td>\n",
       "      <td>1.000000</td>\n",
       "      <td>18.000000</td>\n",
       "      <td>2000.000000</td>\n",
       "    </tr>\n",
       "    <tr>\n",
       "      <th>25%</th>\n",
       "      <td>1.011081e+07</td>\n",
       "      <td>12.000000</td>\n",
       "      <td>206.437500</td>\n",
       "      <td>151.200000</td>\n",
       "      <td>28.012000</td>\n",
       "      <td>2705.000000</td>\n",
       "      <td>25.000000</td>\n",
       "      <td>8424.000000</td>\n",
       "    </tr>\n",
       "    <tr>\n",
       "      <th>50%</th>\n",
       "      <td>1.022104e+07</td>\n",
       "      <td>22.440000</td>\n",
       "      <td>386.360000</td>\n",
       "      <td>282.480000</td>\n",
       "      <td>81.962000</td>\n",
       "      <td>7459.000000</td>\n",
       "      <td>33.000000</td>\n",
       "      <td>14685.000000</td>\n",
       "    </tr>\n",
       "    <tr>\n",
       "      <th>75%</th>\n",
       "      <td>1.033094e+07</td>\n",
       "      <td>32.960000</td>\n",
       "      <td>583.660000</td>\n",
       "      <td>413.683200</td>\n",
       "      <td>190.030000</td>\n",
       "      <td>36078.000000</td>\n",
       "      <td>42.000000</td>\n",
       "      <td>21035.000000</td>\n",
       "    </tr>\n",
       "    <tr>\n",
       "      <th>max</th>\n",
       "      <td>1.044011e+07</td>\n",
       "      <td>48.000000</td>\n",
       "      <td>2048.030000</td>\n",
       "      <td>691.200000</td>\n",
       "      <td>1463.966000</td>\n",
       "      <td>60000.000000</td>\n",
       "      <td>65.000000</td>\n",
       "      <td>35000.000000</td>\n",
       "    </tr>\n",
       "  </tbody>\n",
       "</table>\n",
       "</div>"
      ],
      "text/plain": [
       "       Transaction ID   KM Travelled  Price Charged   Cost of Trip  \\\n",
       "count    3.593920e+05  359392.000000  359392.000000  359392.000000   \n",
       "mean     1.022076e+07      22.567254     423.443311     286.190113   \n",
       "std      1.268058e+05      12.233526     274.378911     157.993661   \n",
       "min      1.000001e+07       1.900000      15.600000      19.000000   \n",
       "25%      1.011081e+07      12.000000     206.437500     151.200000   \n",
       "50%      1.022104e+07      22.440000     386.360000     282.480000   \n",
       "75%      1.033094e+07      32.960000     583.660000     413.683200   \n",
       "max      1.044011e+07      48.000000    2048.030000     691.200000   \n",
       "\n",
       "              Profit    Customer ID            Age  Income (USD/Month)  \n",
       "count  359392.000000  359392.000000  359392.000000       359392.000000  \n",
       "mean      137.253198   19191.652115      35.336705        15048.822937  \n",
       "std       160.311840   21012.412463      12.594234         7969.409482  \n",
       "min      -220.060000       1.000000      18.000000         2000.000000  \n",
       "25%        28.012000    2705.000000      25.000000         8424.000000  \n",
       "50%        81.962000    7459.000000      33.000000        14685.000000  \n",
       "75%       190.030000   36078.000000      42.000000        21035.000000  \n",
       "max      1463.966000   60000.000000      65.000000        35000.000000  "
      ]
     },
     "execution_count": 143,
     "metadata": {},
     "output_type": "execute_result"
    }
   ],
   "source": [
    "df.describe()"
   ]
  },
  {
   "cell_type": "code",
   "execution_count": 144,
   "id": "d792421a",
   "metadata": {},
   "outputs": [
    {
     "data": {
      "image/png": "[encoded data removed]",
      "text/plain": [
       "<Figure size 720x360 with 1 Axes>"
      ]
     },
     "metadata": {},
     "output_type": "display_data"
    }
   ],
   "source": [
    "plt.figure(figsize=(10,5))\n",
    "Companies = sns.countplot(x=\"Company\", palette=['Pink', 'Yellow'], data=df_cab)\n",
    "plt.title(\"Companies\")\n",
    "plt.show()"
   ]
  },
  {
   "cell_type": "code",
   "execution_count": 145,
   "id": "4832779f",
   "metadata": {},
   "outputs": [
    {
     "data": {
      "text/plain": [
       "Transaction ID        0\n",
       "Company               0\n",
       "City                  0\n",
       "KM Travelled          0\n",
       "Price Charged         0\n",
       "Cost of Trip          0\n",
       "Date                  0\n",
       "Profit                0\n",
       "Customer ID           0\n",
       "Payment_Mode          0\n",
       "Gender                0\n",
       "Age                   0\n",
       "Income (USD/Month)    0\n",
       "Population            0\n",
       "Users                 0\n",
       "dtype: int64"
      ]
     },
     "execution_count": 145,
     "metadata": {},
     "output_type": "execute_result"
    }
   ],
   "source": [
    "df.isnull().sum().sort_values(ascending=False)"
   ]
  },
  {
   "cell_type": "code",
   "execution_count": 146,
   "id": "acc693c4",
   "metadata": {},
   "outputs": [
    {
     "data": {
      "text/html": [
       "<div>\n",
       "<style scoped>\n",
       "    .dataframe tbody tr th:only-of-type {\n",
       "        vertical-align: middle;\n",
       "    }\n",
       "\n",
       "    .dataframe tbody tr th {\n",
       "        vertical-align: top;\n",
       "    }\n",
       "\n",
       "    .dataframe thead th {\n",
       "        text-align: right;\n",
       "    }\n",
       "</style>\n",
       "<table border=\"1\" class=\"dataframe\">\n",
       "  <thead>\n",
       "    <tr style=\"text-align: right;\">\n",
       "      <th></th>\n",
       "      <th>Transaction ID</th>\n",
       "      <th>KM Travelled</th>\n",
       "      <th>Price Charged</th>\n",
       "      <th>Cost of Trip</th>\n",
       "      <th>Profit</th>\n",
       "      <th>Customer ID</th>\n",
       "      <th>Age</th>\n",
       "      <th>Income (USD/Month)</th>\n",
       "    </tr>\n",
       "  </thead>\n",
       "  <tbody>\n",
       "    <tr>\n",
       "      <th>Transaction ID</th>\n",
       "      <td>1.000000</td>\n",
       "      <td>-0.001429</td>\n",
       "      <td>-0.052902</td>\n",
       "      <td>-0.003462</td>\n",
       "      <td>-0.087130</td>\n",
       "      <td>-0.016912</td>\n",
       "      <td>-0.001267</td>\n",
       "      <td>-0.001570</td>\n",
       "    </tr>\n",
       "    <tr>\n",
       "      <th>KM Travelled</th>\n",
       "      <td>-0.001429</td>\n",
       "      <td>1.000000</td>\n",
       "      <td>0.835753</td>\n",
       "      <td>0.981848</td>\n",
       "      <td>0.462768</td>\n",
       "      <td>0.000389</td>\n",
       "      <td>-0.000369</td>\n",
       "      <td>-0.000544</td>\n",
       "    </tr>\n",
       "    <tr>\n",
       "      <th>Price Charged</th>\n",
       "      <td>-0.052902</td>\n",
       "      <td>0.835753</td>\n",
       "      <td>1.000000</td>\n",
       "      <td>0.859812</td>\n",
       "      <td>0.864154</td>\n",
       "      <td>-0.177324</td>\n",
       "      <td>-0.003084</td>\n",
       "      <td>0.003228</td>\n",
       "    </tr>\n",
       "    <tr>\n",
       "      <th>Cost of Trip</th>\n",
       "      <td>-0.003462</td>\n",
       "      <td>0.981848</td>\n",
       "      <td>0.859812</td>\n",
       "      <td>1.000000</td>\n",
       "      <td>0.486056</td>\n",
       "      <td>0.003077</td>\n",
       "      <td>-0.000189</td>\n",
       "      <td>-0.000633</td>\n",
       "    </tr>\n",
       "    <tr>\n",
       "      <th>Profit</th>\n",
       "      <td>-0.087130</td>\n",
       "      <td>0.462768</td>\n",
       "      <td>0.864154</td>\n",
       "      <td>0.486056</td>\n",
       "      <td>1.000000</td>\n",
       "      <td>-0.306527</td>\n",
       "      <td>-0.005093</td>\n",
       "      <td>0.006148</td>\n",
       "    </tr>\n",
       "    <tr>\n",
       "      <th>Customer ID</th>\n",
       "      <td>-0.016912</td>\n",
       "      <td>0.000389</td>\n",
       "      <td>-0.177324</td>\n",
       "      <td>0.003077</td>\n",
       "      <td>-0.306527</td>\n",
       "      <td>1.000000</td>\n",
       "      <td>-0.004735</td>\n",
       "      <td>-0.013608</td>\n",
       "    </tr>\n",
       "    <tr>\n",
       "      <th>Age</th>\n",
       "      <td>-0.001267</td>\n",
       "      <td>-0.000369</td>\n",
       "      <td>-0.003084</td>\n",
       "      <td>-0.000189</td>\n",
       "      <td>-0.005093</td>\n",
       "      <td>-0.004735</td>\n",
       "      <td>1.000000</td>\n",
       "      <td>0.003907</td>\n",
       "    </tr>\n",
       "    <tr>\n",
       "      <th>Income (USD/Month)</th>\n",
       "      <td>-0.001570</td>\n",
       "      <td>-0.000544</td>\n",
       "      <td>0.003228</td>\n",
       "      <td>-0.000633</td>\n",
       "      <td>0.006148</td>\n",
       "      <td>-0.013608</td>\n",
       "      <td>0.003907</td>\n",
       "      <td>1.000000</td>\n",
       "    </tr>\n",
       "  </tbody>\n",
       "</table>\n",
       "</div>"
      ],
      "text/plain": [
       "                    Transaction ID  KM Travelled  Price Charged  Cost of Trip  \\\n",
       "Transaction ID            1.000000     -0.001429      -0.052902     -0.003462   \n",
       "KM Travelled             -0.001429      1.000000       0.835753      0.981848   \n",
       "Price Charged            -0.052902      0.835753       1.000000      0.859812   \n",
       "Cost of Trip             -0.003462      0.981848       0.859812      1.000000   \n",
       "Profit                   -0.087130      0.462768       0.864154      0.486056   \n",
       "Customer ID              -0.016912      0.000389      -0.177324      0.003077   \n",
       "Age                      -0.001267     -0.000369      -0.003084     -0.000189   \n",
       "Income (USD/Month)       -0.001570     -0.000544       0.003228     -0.000633   \n",
       "\n",
       "                      Profit  Customer ID       Age  Income (USD/Month)  \n",
       "Transaction ID     -0.087130    -0.016912 -0.001267           -0.001570  \n",
       "KM Travelled        0.462768     0.000389 -0.000369           -0.000544  \n",
       "Price Charged       0.864154    -0.177324 -0.003084            0.003228  \n",
       "Cost of Trip        0.486056     0.003077 -0.000189           -0.000633  \n",
       "Profit              1.000000    -0.306527 -0.005093            0.006148  \n",
       "Customer ID        -0.306527     1.000000 -0.004735           -0.013608  \n",
       "Age                -0.005093    -0.004735  1.000000            0.003907  \n",
       "Income (USD/Month)  0.006148    -0.013608  0.003907            1.000000  "
      ]
     },
     "execution_count": 146,
     "metadata": {},
     "output_type": "execute_result"
    }
   ],
   "source": [
    "#Checking relationship between variables\n",
    "cor=df.corr()\n",
    "cor"
   ]
  },
  {
   "cell_type": "code",
   "execution_count": 147,
   "id": "28972fd0",
   "metadata": {},
   "outputs": [
    {
     "data": {
      "text/html": [
       "<div>\n",
       "<style scoped>\n",
       "    .dataframe tbody tr th:only-of-type {\n",
       "        vertical-align: middle;\n",
       "    }\n",
       "\n",
       "    .dataframe tbody tr th {\n",
       "        vertical-align: top;\n",
       "    }\n",
       "\n",
       "    .dataframe thead th {\n",
       "        text-align: right;\n",
       "    }\n",
       "</style>\n",
       "<table border=\"1\" class=\"dataframe\">\n",
       "  <thead>\n",
       "    <tr style=\"text-align: right;\">\n",
       "      <th></th>\n",
       "      <th>Transaction ID</th>\n",
       "      <th>Company</th>\n",
       "      <th>City</th>\n",
       "      <th>KM Travelled</th>\n",
       "      <th>Price Charged</th>\n",
       "      <th>Cost of Trip</th>\n",
       "      <th>Date</th>\n",
       "      <th>Profit</th>\n",
       "      <th>Customer ID</th>\n",
       "      <th>Payment_Mode</th>\n",
       "      <th>Gender</th>\n",
       "      <th>Age</th>\n",
       "      <th>Income (USD/Month)</th>\n",
       "      <th>Population</th>\n",
       "      <th>Users</th>\n",
       "      <th>Age group</th>\n",
       "    </tr>\n",
       "  </thead>\n",
       "  <tbody>\n",
       "    <tr>\n",
       "      <th>0</th>\n",
       "      <td>10000011</td>\n",
       "      <td>Pink Cab</td>\n",
       "      <td>ATLANTA GA</td>\n",
       "      <td>30.45</td>\n",
       "      <td>370.95</td>\n",
       "      <td>313.6350</td>\n",
       "      <td>08/01/16</td>\n",
       "      <td>57.3150</td>\n",
       "      <td>29290</td>\n",
       "      <td>Card</td>\n",
       "      <td>Male</td>\n",
       "      <td>28</td>\n",
       "      <td>10813</td>\n",
       "      <td>814,885</td>\n",
       "      <td>24,701</td>\n",
       "      <td>20 - 29</td>\n",
       "    </tr>\n",
       "    <tr>\n",
       "      <th>1</th>\n",
       "      <td>10351127</td>\n",
       "      <td>Yellow Cab</td>\n",
       "      <td>ATLANTA GA</td>\n",
       "      <td>26.19</td>\n",
       "      <td>598.70</td>\n",
       "      <td>317.4228</td>\n",
       "      <td>21/07/18</td>\n",
       "      <td>281.2772</td>\n",
       "      <td>29290</td>\n",
       "      <td>Cash</td>\n",
       "      <td>Male</td>\n",
       "      <td>28</td>\n",
       "      <td>10813</td>\n",
       "      <td>814,885</td>\n",
       "      <td>24,701</td>\n",
       "      <td>20 - 29</td>\n",
       "    </tr>\n",
       "    <tr>\n",
       "      <th>2</th>\n",
       "      <td>10412921</td>\n",
       "      <td>Yellow Cab</td>\n",
       "      <td>ATLANTA GA</td>\n",
       "      <td>42.55</td>\n",
       "      <td>792.05</td>\n",
       "      <td>597.4020</td>\n",
       "      <td>23/11/18</td>\n",
       "      <td>194.6480</td>\n",
       "      <td>29290</td>\n",
       "      <td>Card</td>\n",
       "      <td>Male</td>\n",
       "      <td>28</td>\n",
       "      <td>10813</td>\n",
       "      <td>814,885</td>\n",
       "      <td>24,701</td>\n",
       "      <td>20 - 29</td>\n",
       "    </tr>\n",
       "    <tr>\n",
       "      <th>3</th>\n",
       "      <td>10000012</td>\n",
       "      <td>Pink Cab</td>\n",
       "      <td>ATLANTA GA</td>\n",
       "      <td>28.62</td>\n",
       "      <td>358.52</td>\n",
       "      <td>334.8540</td>\n",
       "      <td>06/01/16</td>\n",
       "      <td>23.6660</td>\n",
       "      <td>27703</td>\n",
       "      <td>Card</td>\n",
       "      <td>Male</td>\n",
       "      <td>27</td>\n",
       "      <td>9237</td>\n",
       "      <td>814,885</td>\n",
       "      <td>24,701</td>\n",
       "      <td>20 - 29</td>\n",
       "    </tr>\n",
       "    <tr>\n",
       "      <th>4</th>\n",
       "      <td>10320494</td>\n",
       "      <td>Yellow Cab</td>\n",
       "      <td>ATLANTA GA</td>\n",
       "      <td>36.38</td>\n",
       "      <td>721.10</td>\n",
       "      <td>467.1192</td>\n",
       "      <td>21/04/18</td>\n",
       "      <td>253.9808</td>\n",
       "      <td>27703</td>\n",
       "      <td>Card</td>\n",
       "      <td>Male</td>\n",
       "      <td>27</td>\n",
       "      <td>9237</td>\n",
       "      <td>814,885</td>\n",
       "      <td>24,701</td>\n",
       "      <td>20 - 29</td>\n",
       "    </tr>\n",
       "    <tr>\n",
       "      <th>...</th>\n",
       "      <td>...</td>\n",
       "      <td>...</td>\n",
       "      <td>...</td>\n",
       "      <td>...</td>\n",
       "      <td>...</td>\n",
       "      <td>...</td>\n",
       "      <td>...</td>\n",
       "      <td>...</td>\n",
       "      <td>...</td>\n",
       "      <td>...</td>\n",
       "      <td>...</td>\n",
       "      <td>...</td>\n",
       "      <td>...</td>\n",
       "      <td>...</td>\n",
       "      <td>...</td>\n",
       "      <td>...</td>\n",
       "    </tr>\n",
       "    <tr>\n",
       "      <th>359387</th>\n",
       "      <td>10307228</td>\n",
       "      <td>Yellow Cab</td>\n",
       "      <td>WASHINGTON DC</td>\n",
       "      <td>38.40</td>\n",
       "      <td>668.93</td>\n",
       "      <td>525.3120</td>\n",
       "      <td>03/03/18</td>\n",
       "      <td>143.6180</td>\n",
       "      <td>51406</td>\n",
       "      <td>Cash</td>\n",
       "      <td>Female</td>\n",
       "      <td>29</td>\n",
       "      <td>6829</td>\n",
       "      <td>418,859</td>\n",
       "      <td>127,001</td>\n",
       "      <td>20 - 29</td>\n",
       "    </tr>\n",
       "    <tr>\n",
       "      <th>359388</th>\n",
       "      <td>10319775</td>\n",
       "      <td>Yellow Cab</td>\n",
       "      <td>WASHINGTON DC</td>\n",
       "      <td>3.57</td>\n",
       "      <td>67.60</td>\n",
       "      <td>44.5536</td>\n",
       "      <td>13/04/18</td>\n",
       "      <td>23.0464</td>\n",
       "      <td>51406</td>\n",
       "      <td>Cash</td>\n",
       "      <td>Female</td>\n",
       "      <td>29</td>\n",
       "      <td>6829</td>\n",
       "      <td>418,859</td>\n",
       "      <td>127,001</td>\n",
       "      <td>20 - 29</td>\n",
       "    </tr>\n",
       "    <tr>\n",
       "      <th>359389</th>\n",
       "      <td>10347676</td>\n",
       "      <td>Yellow Cab</td>\n",
       "      <td>WASHINGTON DC</td>\n",
       "      <td>23.46</td>\n",
       "      <td>331.97</td>\n",
       "      <td>337.8240</td>\n",
       "      <td>06/07/18</td>\n",
       "      <td>-5.8540</td>\n",
       "      <td>51406</td>\n",
       "      <td>Card</td>\n",
       "      <td>Female</td>\n",
       "      <td>29</td>\n",
       "      <td>6829</td>\n",
       "      <td>418,859</td>\n",
       "      <td>127,001</td>\n",
       "      <td>20 - 29</td>\n",
       "    </tr>\n",
       "    <tr>\n",
       "      <th>359390</th>\n",
       "      <td>10358624</td>\n",
       "      <td>Yellow Cab</td>\n",
       "      <td>WASHINGTON DC</td>\n",
       "      <td>27.60</td>\n",
       "      <td>358.23</td>\n",
       "      <td>364.3200</td>\n",
       "      <td>02/08/18</td>\n",
       "      <td>-6.0900</td>\n",
       "      <td>51406</td>\n",
       "      <td>Cash</td>\n",
       "      <td>Female</td>\n",
       "      <td>29</td>\n",
       "      <td>6829</td>\n",
       "      <td>418,859</td>\n",
       "      <td>127,001</td>\n",
       "      <td>20 - 29</td>\n",
       "    </tr>\n",
       "    <tr>\n",
       "      <th>359391</th>\n",
       "      <td>10370709</td>\n",
       "      <td>Yellow Cab</td>\n",
       "      <td>WASHINGTON DC</td>\n",
       "      <td>34.24</td>\n",
       "      <td>453.11</td>\n",
       "      <td>427.3152</td>\n",
       "      <td>30/08/18</td>\n",
       "      <td>25.7948</td>\n",
       "      <td>51406</td>\n",
       "      <td>Card</td>\n",
       "      <td>Female</td>\n",
       "      <td>29</td>\n",
       "      <td>6829</td>\n",
       "      <td>418,859</td>\n",
       "      <td>127,001</td>\n",
       "      <td>20 - 29</td>\n",
       "    </tr>\n",
       "  </tbody>\n",
       "</table>\n",
       "<p>359392 rows × 16 columns</p>\n",
       "</div>"
      ],
      "text/plain": [
       "        Transaction ID     Company           City  KM Travelled  \\\n",
       "0             10000011    Pink Cab     ATLANTA GA         30.45   \n",
       "1             10351127  Yellow Cab     ATLANTA GA         26.19   \n",
       "2             10412921  Yellow Cab     ATLANTA GA         42.55   \n",
       "3             10000012    Pink Cab     ATLANTA GA         28.62   \n",
       "4             10320494  Yellow Cab     ATLANTA GA         36.38   \n",
       "...                ...         ...            ...           ...   \n",
       "359387        10307228  Yellow Cab  WASHINGTON DC         38.40   \n",
       "359388        10319775  Yellow Cab  WASHINGTON DC          3.57   \n",
       "359389        10347676  Yellow Cab  WASHINGTON DC         23.46   \n",
       "359390        10358624  Yellow Cab  WASHINGTON DC         27.60   \n",
       "359391        10370709  Yellow Cab  WASHINGTON DC         34.24   \n",
       "\n",
       "        Price Charged  Cost of Trip      Date    Profit  Customer ID  \\\n",
       "0              370.95      313.6350  08/01/16   57.3150        29290   \n",
       "1              598.70      317.4228  21/07/18  281.2772        29290   \n",
       "2              792.05      597.4020  23/11/18  194.6480        29290   \n",
       "3              358.52      334.8540  06/01/16   23.6660        27703   \n",
       "4              721.10      467.1192  21/04/18  253.9808        27703   \n",
       "...               ...           ...       ...       ...          ...   \n",
       "359387         668.93      525.3120  03/03/18  143.6180        51406   \n",
       "359388          67.60       44.5536  13/04/18   23.0464        51406   \n",
       "359389         331.97      337.8240  06/07/18   -5.8540        51406   \n",
       "359390         358.23      364.3200  02/08/18   -6.0900        51406   \n",
       "359391         453.11      427.3152  30/08/18   25.7948        51406   \n",
       "\n",
       "       Payment_Mode  Gender  Age  Income (USD/Month) Population      Users  \\\n",
       "0              Card    Male   28               10813   814,885     24,701    \n",
       "1              Cash    Male   28               10813   814,885     24,701    \n",
       "2              Card    Male   28               10813   814,885     24,701    \n",
       "3              Card    Male   27                9237   814,885     24,701    \n",
       "4              Card    Male   27                9237   814,885     24,701    \n",
       "...             ...     ...  ...                 ...        ...        ...   \n",
       "359387         Cash  Female   29                6829   418,859    127,001    \n",
       "359388         Cash  Female   29                6829   418,859    127,001    \n",
       "359389         Card  Female   29                6829   418,859    127,001    \n",
       "359390         Cash  Female   29                6829   418,859    127,001    \n",
       "359391         Card  Female   29                6829   418,859    127,001    \n",
       "\n",
       "       Age group  \n",
       "0        20 - 29  \n",
       "1        20 - 29  \n",
       "2        20 - 29  \n",
       "3        20 - 29  \n",
       "4        20 - 29  \n",
       "...          ...  \n",
       "359387   20 - 29  \n",
       "359388   20 - 29  \n",
       "359389   20 - 29  \n",
       "359390   20 - 29  \n",
       "359391   20 - 29  \n",
       "\n",
       "[359392 rows x 16 columns]"
      ]
     },
     "execution_count": 147,
     "metadata": {},
     "output_type": "execute_result"
    }
   ],
   "source": [
    "# We will change Age to Class Format\n",
    "\n",
    "labels = [\"{0} - {1}\".format(i, i + 9) for i in range(10, 70, 10)]\n",
    "df[\"Age group\"] = pd.cut(df.Age, range(10,75, 10), right=False, labels=labels)\n",
    "df"
   ]
  },
  {
   "cell_type": "code",
   "execution_count": 148,
   "id": "94315a0d",
   "metadata": {},
   "outputs": [
    {
     "data": {
      "text/plain": [
       "Index(['Transaction ID', 'Company', 'City', 'KM Travelled', 'Price Charged',\n",
       "       'Cost of Trip', 'Date', 'Profit', 'Customer ID', 'Payment_Mode',\n",
       "       'Gender', 'Age', 'Income (USD/Month)', 'Population', 'Users',\n",
       "       'Age group'],\n",
       "      dtype='object')"
      ]
     },
     "execution_count": 148,
     "metadata": {},
     "output_type": "execute_result"
    }
   ],
   "source": [
    "df.columns"
   ]
  },
  {
   "cell_type": "code",
   "execution_count": 149,
   "id": "693cb10b",
   "metadata": {},
   "outputs": [
    {
     "data": {
      "text/plain": [
       "Company     Price Charged  Cost of Trip  Age  KM Travelled\n",
       "Pink Cab    15.60          21.3840       34   1.98              -5.7840\n",
       "            15.75          24.7800       32   2.10              -9.0300\n",
       "            16.38          19.3800       43   1.90              -3.0000\n",
       "            16.53          19.2000       57   1.92              -2.6700\n",
       "            16.76          19.9820       18   1.94              -3.2220\n",
       "                                                                ...    \n",
       "Yellow Cab  1981.05        556.9092      37   41.81           1424.1408\n",
       "            1993.83        594.7200      60   47.20           1399.1100\n",
       "            2013.95        580.6080      64   43.20           1433.3420\n",
       "            2016.70        571.4280      37   43.29           1445.2720\n",
       "            2048.03        584.0640      18   46.80           1463.9660\n",
       "Name: Profit, Length: 359386, dtype: float64"
      ]
     },
     "execution_count": 149,
     "metadata": {},
     "output_type": "execute_result"
    }
   ],
   "source": [
    "# Multivariate analysis\n",
    "\n",
    "#Plotting a linegraph to check the relationship between Profit and Price Charged,Age, Cost of Trip.\n",
    "df.groupby(['Company','Price Charged','Cost of Trip','Age','KM Travelled'])['Profit'].mean()\n"
   ]
  },
  {
   "cell_type": "code",
   "execution_count": 150,
   "id": "ebff9354",
   "metadata": {},
   "outputs": [
    {
     "data": {
      "image/png": "[encoded data removed]",
      "text/plain": [
       "<Figure size 432x288 with 1 Axes>"
      ]
     },
     "metadata": {},
     "output_type": "display_data"
    }
   ],
   "source": [
    "graph_1 =df.groupby(['Company'])['Profit'].mean().plot(kind='bar')"
   ]
  },
  {
   "cell_type": "code",
   "execution_count": 151,
   "id": "c8d446b4",
   "metadata": {},
   "outputs": [
    {
     "data": {
      "image/png": "[encoded data removed]",
      "text/plain": [
       "<Figure size 432x288 with 1 Axes>"
      ]
     },
     "metadata": {},
     "output_type": "display_data"
    }
   ],
   "source": [
    "graph_2 = df.groupby(['Age group'])['Profit'].mean().plot(kind='bar')"
   ]
  },
  {
   "cell_type": "code",
   "execution_count": 152,
   "id": "2da8d949",
   "metadata": {},
   "outputs": [
    {
     "data": {
      "text/plain": [
       "<AxesSubplot:title={'center':\"Profit made by both the Company's \"}, ylabel='Profit'>"
      ]
     },
     "execution_count": 152,
     "metadata": {},
     "output_type": "execute_result"
    },
    {
     "data": {
      "image/png": "[encoded data removed]",
      "text/plain": [
       "<Figure size 1080x504 with 1 Axes>"
      ]
     },
     "metadata": {},
     "output_type": "display_data"
    }
   ],
   "source": [
    "# Profit per cabs\n",
    "plt.title(\"Profit made by both the Company's \")\n",
    "df.groupby('Company')['Profit'].sum().plot(kind='pie',y='Company',startangle=20,colors = (\"pink\", \"yellow\") ,figsize=(15,7),autopct='%1.1f%%',explode=[0.03]*2,pctdistance=0.5)"
   ]
  },
  {
   "cell_type": "code",
   "execution_count": 153,
   "id": "53420ded",
   "metadata": {},
   "outputs": [
    {
     "data": {
      "text/plain": [
       "dtype('O')"
      ]
     },
     "execution_count": 153,
     "metadata": {},
     "output_type": "execute_result"
    }
   ],
   "source": [
    "np.dtype(df['Date'])"
   ]
  },
  {
   "cell_type": "code",
   "execution_count": 154,
   "id": "9673d709",
   "metadata": {},
   "outputs": [],
   "source": [
    "df['Date']=pd.to_datetime(df['Date'])"
   ]
  },
  {
   "cell_type": "code",
   "execution_count": 155,
   "id": "6b29a6ae",
   "metadata": {},
   "outputs": [
    {
     "data": {
      "text/plain": [
       "Date  Company   \n",
       "2016  Pink Cab       68.321819\n",
       "      Yellow Cab    169.347821\n",
       "2017  Pink Cab       67.070839\n",
       "      Yellow Cab    168.817057\n",
       "2018  Pink Cab       53.229689\n",
       "      Yellow Cab    143.416122\n",
       "Name: Profit, dtype: float64"
      ]
     },
     "execution_count": 155,
     "metadata": {},
     "output_type": "execute_result"
    }
   ],
   "source": [
    "df.groupby([df['Date'].dt.year,'Company'])['Profit'].mean()"
   ]
  },
  {
   "cell_type": "markdown",
   "id": "003fb98f-2944-4e12-9e98-f7eb11ca1b05",
   "metadata": {},
   "source": [
    "### Which company has maximum cab users at a particular time period?"
   ]
  },
  {
   "cell_type": "code",
   "execution_count": 177,
   "id": "8e2e5e24-92ee-4cf6-9be7-6252fcd28df5",
   "metadata": {},
   "outputs": [
    {
     "data": {
      "text/plain": [
       "Date  Company   \n",
       "2016  Pink Cab      25073\n",
       "      Yellow Cab    79389\n",
       "2017  Pink Cab      30308\n",
       "      Yellow Cab    94890\n",
       "2018  Pink Cab      29301\n",
       "      Yellow Cab    92608\n",
       "Name: Customer ID, dtype: int64"
      ]
     },
     "execution_count": 177,
     "metadata": {},
     "output_type": "execute_result"
    }
   ],
   "source": [
    "df.groupby([df['Date'].dt.year,'Company'])['Customer ID'].count()"
   ]
  },
  {
   "cell_type": "markdown",
   "id": "3c4feb1d-0493-42ed-b1ba-7bab28abbba1",
   "metadata": {},
   "source": [
    "### In 2016, 2017 and 2018, Yellow cab has maximum customers"
   ]
  },
  {
   "cell_type": "code",
   "execution_count": 156,
   "id": "283b0ac4",
   "metadata": {},
   "outputs": [
    {
     "data": {
      "image/png": "[encoded data removed]",
      "text/plain": [
       "<Figure size 1152x648 with 1 Axes>"
      ]
     },
     "metadata": {},
     "output_type": "display_data"
    }
   ],
   "source": [
    "plt.figure(figsize = (16, 9))\n",
    "sns.lineplot(x='Date', y='Profit', hue='Company', data=df, marker='*')\n",
    "plt.xlabel(\"Year\", size=14)\n",
    "plt.ylabel(\"Profit %\", size=14)\n",
    "plt.title(\"Profit % per year\")\n",
    "plt.show()"
   ]
  },
  {
   "cell_type": "markdown",
   "id": "bc2ba500-f9b9-4fef-ac3d-e007478875c7",
   "metadata": {},
   "source": [
    "### outlier detection and removal"
   ]
  },
  {
   "cell_type": "code",
   "execution_count": 158,
   "id": "7180feec-e3b4-4d41-b118-51e8fa881dc4",
   "metadata": {},
   "outputs": [
    {
     "data": {
      "image/png": "[encoded data removed]",
      "text/plain": [
       "<Figure size 2160x720 with 1 Axes>"
      ]
     },
     "metadata": {},
     "output_type": "display_data"
    }
   ],
   "source": [
    "plt.figure(figsize=(30,10), facecolor='w')\n",
    "sns.boxplot(data=df['KM Travelled'])\n",
    "plt.show()"
   ]
  },
  {
   "cell_type": "code",
   "execution_count": 159,
   "id": "385a7fe2-1074-4a2e-81d4-5156af2fb5e5",
   "metadata": {},
   "outputs": [
    {
     "data": {
      "image/png": "[encoded data removed]",
      "text/plain": [
       "<Figure size 2160x720 with 1 Axes>"
      ]
     },
     "metadata": {},
     "output_type": "display_data"
    }
   ],
   "source": [
    "plt.figure(figsize=(30,10), facecolor='w')\n",
    "sns.boxplot(data=df['Price Charged'])\n",
    "plt.show()"
   ]
  },
  {
   "cell_type": "code",
   "execution_count": 160,
   "id": "873a1c4c-5875-4db5-ae25-a5a8d640288d",
   "metadata": {},
   "outputs": [
    {
     "data": {
      "text/plain": [
       "0.012139947466832873"
      ]
     },
     "execution_count": 160,
     "metadata": {},
     "output_type": "execute_result"
    }
   ],
   "source": [
    "len(np.where(df['Price Charged']>1200)[0])/len(df)"
   ]
  },
  {
   "cell_type": "code",
   "execution_count": 161,
   "id": "dc99fb20-0f4b-4fea-9f85-4df1982a3533",
   "metadata": {},
   "outputs": [
    {
     "data": {
      "image/png": "[encoded data removed]",
      "text/plain": [
       "<Figure size 2160x720 with 1 Axes>"
      ]
     },
     "metadata": {},
     "output_type": "display_data"
    }
   ],
   "source": [
    "plt.figure(figsize=(30,10), facecolor='w')\n",
    "sns.boxplot(data=df['Profit'])\n",
    "plt.show()"
   ]
  },
  {
   "cell_type": "code",
   "execution_count": 162,
   "id": "b72ec3cf-4bf5-4e45-83ed-3e0916fab566",
   "metadata": {},
   "outputs": [
    {
     "data": {
      "text/plain": [
       "0.05926119668773929"
      ]
     },
     "execution_count": 162,
     "metadata": {},
     "output_type": "execute_result"
    }
   ],
   "source": [
    "len(np.where(df['Profit']>450)[0])/len(df)"
   ]
  },
  {
   "cell_type": "code",
   "execution_count": 163,
   "id": "682bcee7-094e-4462-8973-d553105c0721",
   "metadata": {},
   "outputs": [
    {
     "data": {
      "image/png": "[encoded data removed]",
      "text/plain": [
       "<Figure size 2160x720 with 1 Axes>"
      ]
     },
     "metadata": {},
     "output_type": "display_data"
    }
   ],
   "source": [
    "plt.figure(figsize=(30,10), facecolor='w')\n",
    "sns.boxplot(data=df['Age'])\n",
    "plt.show()"
   ]
  },
  {
   "cell_type": "code",
   "execution_count": 164,
   "id": "c61c790b-f816-4198-94f6-f76674a7667d",
   "metadata": {},
   "outputs": [
    {
     "data": {
      "image/png": "[encoded data removed]",
      "text/plain": [
       "<Figure size 2160x720 with 1 Axes>"
      ]
     },
     "metadata": {},
     "output_type": "display_data"
    }
   ],
   "source": [
    "plt.figure(figsize=(30,10), facecolor='w')\n",
    "sns.boxplot(data=df['Income (USD/Month)'])\n",
    "plt.show()"
   ]
  },
  {
   "cell_type": "code",
   "execution_count": 165,
   "id": "7adce2ef-5413-4e76-91b6-25b9345e477c",
   "metadata": {},
   "outputs": [
    {
     "data": {
      "image/png": "[encoded data removed]",
      "text/plain": [
       "<Figure size 2160x720 with 1 Axes>"
      ]
     },
     "metadata": {},
     "output_type": "display_data"
    }
   ],
   "source": [
    "plt.figure(figsize=(30,10), facecolor='w')\n",
    "sns.boxplot(data=df['Cost of Trip'])\n",
    "plt.show()"
   ]
  },
  {
   "cell_type": "code",
   "execution_count": 166,
   "id": "025dc595-205d-40c1-88f7-48e42b21afc8",
   "metadata": {},
   "outputs": [
    {
     "name": "stdout",
     "output_type": "stream",
     "text": [
      "Removing Outliers:  7244\n"
     ]
    }
   ],
   "source": [
    "df['z_profit']=np.abs(stats.zscore(df.Profit))\n",
    "print(\"Removing Outliers: \", len(df[df['z_profit']>3]))"
   ]
  },
  {
   "cell_type": "code",
   "execution_count": 167,
   "id": "02d4ba18-9016-4caa-9018-dec252b8ce03",
   "metadata": {},
   "outputs": [],
   "source": [
    "df = df[df['z_profit']<3]"
   ]
  },
  {
   "cell_type": "code",
   "execution_count": 168,
   "id": "c39b64ad-272e-4def-9890-bcedd488867f",
   "metadata": {},
   "outputs": [
    {
     "name": "stdout",
     "output_type": "stream",
     "text": [
      "Removing Outliers:  579\n"
     ]
    }
   ],
   "source": [
    "df['z_price_charged']=np.abs(stats.zscore(df['Price Charged']))\n",
    "print(\"Removing Outliers: \", len(df[df['z_price_charged']>3]))"
   ]
  },
  {
   "cell_type": "code",
   "execution_count": 169,
   "id": "b8f5886a-122c-4ac4-8ae6-26d048f85f93",
   "metadata": {},
   "outputs": [],
   "source": [
    "df = df[df['z_price_charged']<3]"
   ]
  },
  {
   "cell_type": "code",
   "execution_count": 170,
   "id": "a914eb26-8e55-44c1-bf21-620c32057dfa",
   "metadata": {},
   "outputs": [
    {
     "name": "stdout",
     "output_type": "stream",
     "text": [
      "<class 'pandas.core.frame.DataFrame'>\n",
      "Int64Index: 351569 entries, 0 to 359391\n",
      "Data columns (total 18 columns):\n",
      " #   Column              Non-Null Count   Dtype         \n",
      "---  ------              --------------   -----         \n",
      " 0   Transaction ID      351569 non-null  int64         \n",
      " 1   Company             351569 non-null  object        \n",
      " 2   City                351569 non-null  object        \n",
      " 3   KM Travelled        351569 non-null  float64       \n",
      " 4   Price Charged       351569 non-null  float64       \n",
      " 5   Cost of Trip        351569 non-null  float64       \n",
      " 6   Date                351569 non-null  datetime64[ns]\n",
      " 7   Profit              351569 non-null  float64       \n",
      " 8   Customer ID         351569 non-null  int64         \n",
      " 9   Payment_Mode        351569 non-null  object        \n",
      " 10  Gender              351569 non-null  object        \n",
      " 11  Age                 351569 non-null  int64         \n",
      " 12  Income (USD/Month)  351569 non-null  int64         \n",
      " 13  Population          351569 non-null  object        \n",
      " 14  Users               351569 non-null  object        \n",
      " 15  Age group           351569 non-null  category      \n",
      " 16  z_profit            351569 non-null  float64       \n",
      " 17  z_price_charged     351569 non-null  float64       \n",
      "dtypes: category(1), datetime64[ns](1), float64(6), int64(4), object(6)\n",
      "memory usage: 48.6+ MB\n"
     ]
    }
   ],
   "source": [
    "df.info()"
   ]
  },
  {
   "cell_type": "code",
   "execution_count": 171,
   "id": "ce8999c4",
   "metadata": {},
   "outputs": [
    {
     "data": {
      "text/plain": [
       "Index(['Transaction ID', 'Company', 'City', 'KM Travelled', 'Price Charged',\n",
       "       'Cost of Trip', 'Date', 'Profit', 'Customer ID', 'Payment_Mode',\n",
       "       'Gender', 'Age', 'Income (USD/Month)', 'Population', 'Users',\n",
       "       'Age group', 'z_profit', 'z_price_charged'],\n",
       "      dtype='object')"
      ]
     },
     "execution_count": 171,
     "metadata": {},
     "output_type": "execute_result"
    }
   ],
   "source": [
    "df.columns"
   ]
  },
  {
   "cell_type": "code",
   "execution_count": 172,
   "id": "630138ef",
   "metadata": {},
   "outputs": [],
   "source": [
    "data=df[['Company', 'City', 'KM Travelled', 'Price Charged','Cost of Trip','Profit','Payment_Mode','Gender', 'Age', 'Income (USD/Month)', 'Population', 'Users']]"
   ]
  },
  {
   "cell_type": "code",
   "execution_count": 173,
   "id": "71207580",
   "metadata": {},
   "outputs": [
    {
     "data": {
      "text/plain": [
       "Index(['Company', 'City', 'KM Travelled', 'Price Charged', 'Cost of Trip',\n",
       "       'Profit', 'Payment_Mode', 'Gender', 'Age', 'Income (USD/Month)',\n",
       "       'Population', 'Users'],\n",
       "      dtype='object')"
      ]
     },
     "execution_count": 173,
     "metadata": {},
     "output_type": "execute_result"
    }
   ],
   "source": [
    "data.columns"
   ]
  },
  {
   "cell_type": "code",
   "execution_count": 174,
   "id": "df6183cf",
   "metadata": {},
   "outputs": [],
   "source": [
    "from sklearn.preprocessing import LabelEncoder\n",
    "lb= LabelEncoder()"
   ]
  },
  {
   "cell_type": "code",
   "execution_count": 57,
   "id": "e7c5a18b",
   "metadata": {},
   "outputs": [
    {
     "data": {
      "text/plain": [
       "LabelEncoder()"
      ]
     },
     "execution_count": 57,
     "metadata": {},
     "output_type": "execute_result"
    }
   ],
   "source": [
    "lb.fit(data['Company'])"
   ]
  },
  {
   "cell_type": "code",
   "execution_count": 58,
   "id": "1b62da16",
   "metadata": {},
   "outputs": [],
   "source": [
    "classes= list(lb.classes_)"
   ]
  },
  {
   "cell_type": "code",
   "execution_count": 59,
   "id": "b0a24db6",
   "metadata": {},
   "outputs": [
    {
     "data": {
      "text/plain": [
       "['Pink Cab', 'Yellow Cab']"
      ]
     },
     "execution_count": 59,
     "metadata": {},
     "output_type": "execute_result"
    }
   ],
   "source": [
    "classes"
   ]
  },
  {
   "cell_type": "code",
   "execution_count": 60,
   "id": "087bcd0a",
   "metadata": {},
   "outputs": [],
   "source": [
    "data['companies']= lb.fit_transform(data['Company'])"
   ]
  },
  {
   "cell_type": "code",
   "execution_count": 61,
   "id": "0cdfa667",
   "metadata": {},
   "outputs": [
    {
     "data": {
      "text/html": [
       "<div>\n",
       "<style scoped>\n",
       "    .dataframe tbody tr th:only-of-type {\n",
       "        vertical-align: middle;\n",
       "    }\n",
       "\n",
       "    .dataframe tbody tr th {\n",
       "        vertical-align: top;\n",
       "    }\n",
       "\n",
       "    .dataframe thead th {\n",
       "        text-align: right;\n",
       "    }\n",
       "</style>\n",
       "<table border=\"1\" class=\"dataframe\">\n",
       "  <thead>\n",
       "    <tr style=\"text-align: right;\">\n",
       "      <th></th>\n",
       "      <th>Company</th>\n",
       "      <th>City</th>\n",
       "      <th>KM Travelled</th>\n",
       "      <th>Price Charged</th>\n",
       "      <th>Cost of Trip</th>\n",
       "      <th>Profit</th>\n",
       "      <th>Payment_Mode</th>\n",
       "      <th>Gender</th>\n",
       "      <th>Age</th>\n",
       "      <th>Income (USD/Month)</th>\n",
       "      <th>Population</th>\n",
       "      <th>Users</th>\n",
       "      <th>companies</th>\n",
       "    </tr>\n",
       "  </thead>\n",
       "  <tbody>\n",
       "    <tr>\n",
       "      <th>0</th>\n",
       "      <td>Pink Cab</td>\n",
       "      <td>ATLANTA GA</td>\n",
       "      <td>30.45</td>\n",
       "      <td>370.95</td>\n",
       "      <td>313.6350</td>\n",
       "      <td>57.3150</td>\n",
       "      <td>Card</td>\n",
       "      <td>Male</td>\n",
       "      <td>28</td>\n",
       "      <td>10813</td>\n",
       "      <td>814,885</td>\n",
       "      <td>24,701</td>\n",
       "      <td>0</td>\n",
       "    </tr>\n",
       "    <tr>\n",
       "      <th>1</th>\n",
       "      <td>Yellow Cab</td>\n",
       "      <td>ATLANTA GA</td>\n",
       "      <td>26.19</td>\n",
       "      <td>598.70</td>\n",
       "      <td>317.4228</td>\n",
       "      <td>281.2772</td>\n",
       "      <td>Cash</td>\n",
       "      <td>Male</td>\n",
       "      <td>28</td>\n",
       "      <td>10813</td>\n",
       "      <td>814,885</td>\n",
       "      <td>24,701</td>\n",
       "      <td>1</td>\n",
       "    </tr>\n",
       "    <tr>\n",
       "      <th>2</th>\n",
       "      <td>Yellow Cab</td>\n",
       "      <td>ATLANTA GA</td>\n",
       "      <td>42.55</td>\n",
       "      <td>792.05</td>\n",
       "      <td>597.4020</td>\n",
       "      <td>194.6480</td>\n",
       "      <td>Card</td>\n",
       "      <td>Male</td>\n",
       "      <td>28</td>\n",
       "      <td>10813</td>\n",
       "      <td>814,885</td>\n",
       "      <td>24,701</td>\n",
       "      <td>1</td>\n",
       "    </tr>\n",
       "    <tr>\n",
       "      <th>3</th>\n",
       "      <td>Pink Cab</td>\n",
       "      <td>ATLANTA GA</td>\n",
       "      <td>28.62</td>\n",
       "      <td>358.52</td>\n",
       "      <td>334.8540</td>\n",
       "      <td>23.6660</td>\n",
       "      <td>Card</td>\n",
       "      <td>Male</td>\n",
       "      <td>27</td>\n",
       "      <td>9237</td>\n",
       "      <td>814,885</td>\n",
       "      <td>24,701</td>\n",
       "      <td>0</td>\n",
       "    </tr>\n",
       "    <tr>\n",
       "      <th>4</th>\n",
       "      <td>Yellow Cab</td>\n",
       "      <td>ATLANTA GA</td>\n",
       "      <td>36.38</td>\n",
       "      <td>721.10</td>\n",
       "      <td>467.1192</td>\n",
       "      <td>253.9808</td>\n",
       "      <td>Card</td>\n",
       "      <td>Male</td>\n",
       "      <td>27</td>\n",
       "      <td>9237</td>\n",
       "      <td>814,885</td>\n",
       "      <td>24,701</td>\n",
       "      <td>1</td>\n",
       "    </tr>\n",
       "  </tbody>\n",
       "</table>\n",
       "</div>"
      ],
      "text/plain": [
       "      Company        City  KM Travelled  Price Charged  Cost of Trip  \\\n",
       "0    Pink Cab  ATLANTA GA         30.45         370.95      313.6350   \n",
       "1  Yellow Cab  ATLANTA GA         26.19         598.70      317.4228   \n",
       "2  Yellow Cab  ATLANTA GA         42.55         792.05      597.4020   \n",
       "3    Pink Cab  ATLANTA GA         28.62         358.52      334.8540   \n",
       "4  Yellow Cab  ATLANTA GA         36.38         721.10      467.1192   \n",
       "\n",
       "     Profit Payment_Mode Gender  Age  Income (USD/Month) Population     Users  \\\n",
       "0   57.3150         Card   Male   28               10813   814,885    24,701    \n",
       "1  281.2772         Cash   Male   28               10813   814,885    24,701    \n",
       "2  194.6480         Card   Male   28               10813   814,885    24,701    \n",
       "3   23.6660         Card   Male   27                9237   814,885    24,701    \n",
       "4  253.9808         Card   Male   27                9237   814,885    24,701    \n",
       "\n",
       "   companies  \n",
       "0          0  \n",
       "1          1  \n",
       "2          1  \n",
       "3          0  \n",
       "4          1  "
      ]
     },
     "execution_count": 61,
     "metadata": {},
     "output_type": "execute_result"
    }
   ],
   "source": [
    "data.head(5)"
   ]
  },
  {
   "cell_type": "code",
   "execution_count": 62,
   "id": "5a4f3e06",
   "metadata": {},
   "outputs": [
    {
     "data": {
      "text/plain": [
       "1    274681\n",
       "0     84711\n",
       "Name: companies, dtype: int64"
      ]
     },
     "execution_count": 62,
     "metadata": {},
     "output_type": "execute_result"
    }
   ],
   "source": [
    "data[\"companies\"].value_counts()"
   ]
  },
  {
   "cell_type": "code",
   "execution_count": 63,
   "id": "ae1ab495",
   "metadata": {},
   "outputs": [
    {
     "data": {
      "text/plain": [
       "2"
      ]
     },
     "execution_count": 63,
     "metadata": {},
     "output_type": "execute_result"
    }
   ],
   "source": [
    "data['companies'].nunique() #Gender 1 is male and 0 is female"
   ]
  },
  {
   "cell_type": "code",
   "execution_count": 64,
   "id": "af9e4df0",
   "metadata": {},
   "outputs": [],
   "source": [
    "data.drop([\"Gender\",\"Payment_Mode\",\"City\",], axis=1, inplace=True)"
   ]
  },
  {
   "cell_type": "code",
   "execution_count": 65,
   "id": "4c0b422d",
   "metadata": {},
   "outputs": [
    {
     "data": {
      "text/html": [
       "<div>\n",
       "<style scoped>\n",
       "    .dataframe tbody tr th:only-of-type {\n",
       "        vertical-align: middle;\n",
       "    }\n",
       "\n",
       "    .dataframe tbody tr th {\n",
       "        vertical-align: top;\n",
       "    }\n",
       "\n",
       "    .dataframe thead th {\n",
       "        text-align: right;\n",
       "    }\n",
       "</style>\n",
       "<table border=\"1\" class=\"dataframe\">\n",
       "  <thead>\n",
       "    <tr style=\"text-align: right;\">\n",
       "      <th></th>\n",
       "      <th>Company</th>\n",
       "      <th>KM Travelled</th>\n",
       "      <th>Price Charged</th>\n",
       "      <th>Cost of Trip</th>\n",
       "      <th>Profit</th>\n",
       "      <th>Age</th>\n",
       "      <th>Income (USD/Month)</th>\n",
       "      <th>Population</th>\n",
       "      <th>Users</th>\n",
       "      <th>companies</th>\n",
       "    </tr>\n",
       "  </thead>\n",
       "  <tbody>\n",
       "    <tr>\n",
       "      <th>0</th>\n",
       "      <td>Pink Cab</td>\n",
       "      <td>30.45</td>\n",
       "      <td>370.95</td>\n",
       "      <td>313.6350</td>\n",
       "      <td>57.3150</td>\n",
       "      <td>28</td>\n",
       "      <td>10813</td>\n",
       "      <td>814,885</td>\n",
       "      <td>24,701</td>\n",
       "      <td>0</td>\n",
       "    </tr>\n",
       "    <tr>\n",
       "      <th>1</th>\n",
       "      <td>Yellow Cab</td>\n",
       "      <td>26.19</td>\n",
       "      <td>598.70</td>\n",
       "      <td>317.4228</td>\n",
       "      <td>281.2772</td>\n",
       "      <td>28</td>\n",
       "      <td>10813</td>\n",
       "      <td>814,885</td>\n",
       "      <td>24,701</td>\n",
       "      <td>1</td>\n",
       "    </tr>\n",
       "    <tr>\n",
       "      <th>2</th>\n",
       "      <td>Yellow Cab</td>\n",
       "      <td>42.55</td>\n",
       "      <td>792.05</td>\n",
       "      <td>597.4020</td>\n",
       "      <td>194.6480</td>\n",
       "      <td>28</td>\n",
       "      <td>10813</td>\n",
       "      <td>814,885</td>\n",
       "      <td>24,701</td>\n",
       "      <td>1</td>\n",
       "    </tr>\n",
       "    <tr>\n",
       "      <th>3</th>\n",
       "      <td>Pink Cab</td>\n",
       "      <td>28.62</td>\n",
       "      <td>358.52</td>\n",
       "      <td>334.8540</td>\n",
       "      <td>23.6660</td>\n",
       "      <td>27</td>\n",
       "      <td>9237</td>\n",
       "      <td>814,885</td>\n",
       "      <td>24,701</td>\n",
       "      <td>0</td>\n",
       "    </tr>\n",
       "    <tr>\n",
       "      <th>4</th>\n",
       "      <td>Yellow Cab</td>\n",
       "      <td>36.38</td>\n",
       "      <td>721.10</td>\n",
       "      <td>467.1192</td>\n",
       "      <td>253.9808</td>\n",
       "      <td>27</td>\n",
       "      <td>9237</td>\n",
       "      <td>814,885</td>\n",
       "      <td>24,701</td>\n",
       "      <td>1</td>\n",
       "    </tr>\n",
       "  </tbody>\n",
       "</table>\n",
       "</div>"
      ],
      "text/plain": [
       "      Company  KM Travelled  Price Charged  Cost of Trip    Profit  Age  \\\n",
       "0    Pink Cab         30.45         370.95      313.6350   57.3150   28   \n",
       "1  Yellow Cab         26.19         598.70      317.4228  281.2772   28   \n",
       "2  Yellow Cab         42.55         792.05      597.4020  194.6480   28   \n",
       "3    Pink Cab         28.62         358.52      334.8540   23.6660   27   \n",
       "4  Yellow Cab         36.38         721.10      467.1192  253.9808   27   \n",
       "\n",
       "   Income (USD/Month) Population     Users  companies  \n",
       "0               10813   814,885    24,701           0  \n",
       "1               10813   814,885    24,701           1  \n",
       "2               10813   814,885    24,701           1  \n",
       "3                9237   814,885    24,701           0  \n",
       "4                9237   814,885    24,701           1  "
      ]
     },
     "execution_count": 65,
     "metadata": {},
     "output_type": "execute_result"
    }
   ],
   "source": [
    "data.head()"
   ]
  },
  {
   "cell_type": "code",
   "execution_count": 66,
   "id": "f13a5f76",
   "metadata": {},
   "outputs": [
    {
     "data": {
      "text/html": [
       "<div>\n",
       "<style scoped>\n",
       "    .dataframe tbody tr th:only-of-type {\n",
       "        vertical-align: middle;\n",
       "    }\n",
       "\n",
       "    .dataframe tbody tr th {\n",
       "        vertical-align: top;\n",
       "    }\n",
       "\n",
       "    .dataframe thead th {\n",
       "        text-align: right;\n",
       "    }\n",
       "</style>\n",
       "<table border=\"1\" class=\"dataframe\">\n",
       "  <thead>\n",
       "    <tr style=\"text-align: right;\">\n",
       "      <th></th>\n",
       "      <th>KM Travelled</th>\n",
       "      <th>Price Charged</th>\n",
       "      <th>Cost of Trip</th>\n",
       "      <th>Profit</th>\n",
       "      <th>Age</th>\n",
       "      <th>Income (USD/Month)</th>\n",
       "      <th>Population</th>\n",
       "      <th>Users</th>\n",
       "      <th>companies</th>\n",
       "    </tr>\n",
       "  </thead>\n",
       "  <tbody>\n",
       "    <tr>\n",
       "      <th>0</th>\n",
       "      <td>30.45</td>\n",
       "      <td>370.95</td>\n",
       "      <td>313.6350</td>\n",
       "      <td>57.3150</td>\n",
       "      <td>28</td>\n",
       "      <td>10813</td>\n",
       "      <td>814,885</td>\n",
       "      <td>24,701</td>\n",
       "      <td>0</td>\n",
       "    </tr>\n",
       "    <tr>\n",
       "      <th>1</th>\n",
       "      <td>26.19</td>\n",
       "      <td>598.70</td>\n",
       "      <td>317.4228</td>\n",
       "      <td>281.2772</td>\n",
       "      <td>28</td>\n",
       "      <td>10813</td>\n",
       "      <td>814,885</td>\n",
       "      <td>24,701</td>\n",
       "      <td>1</td>\n",
       "    </tr>\n",
       "    <tr>\n",
       "      <th>2</th>\n",
       "      <td>42.55</td>\n",
       "      <td>792.05</td>\n",
       "      <td>597.4020</td>\n",
       "      <td>194.6480</td>\n",
       "      <td>28</td>\n",
       "      <td>10813</td>\n",
       "      <td>814,885</td>\n",
       "      <td>24,701</td>\n",
       "      <td>1</td>\n",
       "    </tr>\n",
       "    <tr>\n",
       "      <th>3</th>\n",
       "      <td>28.62</td>\n",
       "      <td>358.52</td>\n",
       "      <td>334.8540</td>\n",
       "      <td>23.6660</td>\n",
       "      <td>27</td>\n",
       "      <td>9237</td>\n",
       "      <td>814,885</td>\n",
       "      <td>24,701</td>\n",
       "      <td>0</td>\n",
       "    </tr>\n",
       "    <tr>\n",
       "      <th>4</th>\n",
       "      <td>36.38</td>\n",
       "      <td>721.10</td>\n",
       "      <td>467.1192</td>\n",
       "      <td>253.9808</td>\n",
       "      <td>27</td>\n",
       "      <td>9237</td>\n",
       "      <td>814,885</td>\n",
       "      <td>24,701</td>\n",
       "      <td>1</td>\n",
       "    </tr>\n",
       "    <tr>\n",
       "      <th>...</th>\n",
       "      <td>...</td>\n",
       "      <td>...</td>\n",
       "      <td>...</td>\n",
       "      <td>...</td>\n",
       "      <td>...</td>\n",
       "      <td>...</td>\n",
       "      <td>...</td>\n",
       "      <td>...</td>\n",
       "      <td>...</td>\n",
       "    </tr>\n",
       "    <tr>\n",
       "      <th>359387</th>\n",
       "      <td>38.40</td>\n",
       "      <td>668.93</td>\n",
       "      <td>525.3120</td>\n",
       "      <td>143.6180</td>\n",
       "      <td>29</td>\n",
       "      <td>6829</td>\n",
       "      <td>418,859</td>\n",
       "      <td>127,001</td>\n",
       "      <td>1</td>\n",
       "    </tr>\n",
       "    <tr>\n",
       "      <th>359388</th>\n",
       "      <td>3.57</td>\n",
       "      <td>67.60</td>\n",
       "      <td>44.5536</td>\n",
       "      <td>23.0464</td>\n",
       "      <td>29</td>\n",
       "      <td>6829</td>\n",
       "      <td>418,859</td>\n",
       "      <td>127,001</td>\n",
       "      <td>1</td>\n",
       "    </tr>\n",
       "    <tr>\n",
       "      <th>359389</th>\n",
       "      <td>23.46</td>\n",
       "      <td>331.97</td>\n",
       "      <td>337.8240</td>\n",
       "      <td>-5.8540</td>\n",
       "      <td>29</td>\n",
       "      <td>6829</td>\n",
       "      <td>418,859</td>\n",
       "      <td>127,001</td>\n",
       "      <td>1</td>\n",
       "    </tr>\n",
       "    <tr>\n",
       "      <th>359390</th>\n",
       "      <td>27.60</td>\n",
       "      <td>358.23</td>\n",
       "      <td>364.3200</td>\n",
       "      <td>-6.0900</td>\n",
       "      <td>29</td>\n",
       "      <td>6829</td>\n",
       "      <td>418,859</td>\n",
       "      <td>127,001</td>\n",
       "      <td>1</td>\n",
       "    </tr>\n",
       "    <tr>\n",
       "      <th>359391</th>\n",
       "      <td>34.24</td>\n",
       "      <td>453.11</td>\n",
       "      <td>427.3152</td>\n",
       "      <td>25.7948</td>\n",
       "      <td>29</td>\n",
       "      <td>6829</td>\n",
       "      <td>418,859</td>\n",
       "      <td>127,001</td>\n",
       "      <td>1</td>\n",
       "    </tr>\n",
       "  </tbody>\n",
       "</table>\n",
       "<p>359392 rows × 9 columns</p>\n",
       "</div>"
      ],
      "text/plain": [
       "        KM Travelled  Price Charged  Cost of Trip    Profit  Age  \\\n",
       "0              30.45         370.95      313.6350   57.3150   28   \n",
       "1              26.19         598.70      317.4228  281.2772   28   \n",
       "2              42.55         792.05      597.4020  194.6480   28   \n",
       "3              28.62         358.52      334.8540   23.6660   27   \n",
       "4              36.38         721.10      467.1192  253.9808   27   \n",
       "...              ...            ...           ...       ...  ...   \n",
       "359387         38.40         668.93      525.3120  143.6180   29   \n",
       "359388          3.57          67.60       44.5536   23.0464   29   \n",
       "359389         23.46         331.97      337.8240   -5.8540   29   \n",
       "359390         27.60         358.23      364.3200   -6.0900   29   \n",
       "359391         34.24         453.11      427.3152   25.7948   29   \n",
       "\n",
       "        Income (USD/Month) Population      Users  companies  \n",
       "0                    10813   814,885     24,701           0  \n",
       "1                    10813   814,885     24,701           1  \n",
       "2                    10813   814,885     24,701           1  \n",
       "3                     9237   814,885     24,701           0  \n",
       "4                     9237   814,885     24,701           1  \n",
       "...                    ...        ...        ...        ...  \n",
       "359387                6829   418,859    127,001           1  \n",
       "359388                6829   418,859    127,001           1  \n",
       "359389                6829   418,859    127,001           1  \n",
       "359390                6829   418,859    127,001           1  \n",
       "359391                6829   418,859    127,001           1  \n",
       "\n",
       "[359392 rows x 9 columns]"
      ]
     },
     "execution_count": 66,
     "metadata": {},
     "output_type": "execute_result"
    }
   ],
   "source": [
    "data.drop(\"Company\",axis=1)"
   ]
  },
  {
   "cell_type": "code",
   "execution_count": 67,
   "id": "a228926b-847b-44b5-87f9-6f3355e78a18",
   "metadata": {},
   "outputs": [],
   "source": [
    "data.Population = data.Population.str.replace(',','').astype(float)\n",
    "data.Users = data.Users.str.replace(',','').astype(float) # string values noted while normalizing"
   ]
  },
  {
   "cell_type": "code",
   "execution_count": 68,
   "id": "13069537",
   "metadata": {},
   "outputs": [],
   "source": [
    "X = data[['KM Travelled', 'Price Charged', 'Cost of Trip',\n",
    "       'Profit', 'Age', 'Income (USD/Month)',\n",
    "       'Population', 'Users', ]]\n",
    "y = data['Profit']"
   ]
  },
  {
   "cell_type": "code",
   "execution_count": 69,
   "id": "0c713159",
   "metadata": {},
   "outputs": [
    {
     "data": {
      "text/html": [
       "<div>\n",
       "<style scoped>\n",
       "    .dataframe tbody tr th:only-of-type {\n",
       "        vertical-align: middle;\n",
       "    }\n",
       "\n",
       "    .dataframe tbody tr th {\n",
       "        vertical-align: top;\n",
       "    }\n",
       "\n",
       "    .dataframe thead th {\n",
       "        text-align: right;\n",
       "    }\n",
       "</style>\n",
       "<table border=\"1\" class=\"dataframe\">\n",
       "  <thead>\n",
       "    <tr style=\"text-align: right;\">\n",
       "      <th></th>\n",
       "      <th>KM Travelled</th>\n",
       "      <th>Price Charged</th>\n",
       "      <th>Cost of Trip</th>\n",
       "      <th>Profit</th>\n",
       "      <th>Age</th>\n",
       "      <th>Income (USD/Month)</th>\n",
       "      <th>Population</th>\n",
       "      <th>Users</th>\n",
       "    </tr>\n",
       "  </thead>\n",
       "  <tbody>\n",
       "    <tr>\n",
       "      <th>0</th>\n",
       "      <td>30.45</td>\n",
       "      <td>370.95</td>\n",
       "      <td>313.6350</td>\n",
       "      <td>57.3150</td>\n",
       "      <td>28</td>\n",
       "      <td>10813</td>\n",
       "      <td>814885.0</td>\n",
       "      <td>24701.0</td>\n",
       "    </tr>\n",
       "    <tr>\n",
       "      <th>1</th>\n",
       "      <td>26.19</td>\n",
       "      <td>598.70</td>\n",
       "      <td>317.4228</td>\n",
       "      <td>281.2772</td>\n",
       "      <td>28</td>\n",
       "      <td>10813</td>\n",
       "      <td>814885.0</td>\n",
       "      <td>24701.0</td>\n",
       "    </tr>\n",
       "    <tr>\n",
       "      <th>2</th>\n",
       "      <td>42.55</td>\n",
       "      <td>792.05</td>\n",
       "      <td>597.4020</td>\n",
       "      <td>194.6480</td>\n",
       "      <td>28</td>\n",
       "      <td>10813</td>\n",
       "      <td>814885.0</td>\n",
       "      <td>24701.0</td>\n",
       "    </tr>\n",
       "    <tr>\n",
       "      <th>3</th>\n",
       "      <td>28.62</td>\n",
       "      <td>358.52</td>\n",
       "      <td>334.8540</td>\n",
       "      <td>23.6660</td>\n",
       "      <td>27</td>\n",
       "      <td>9237</td>\n",
       "      <td>814885.0</td>\n",
       "      <td>24701.0</td>\n",
       "    </tr>\n",
       "    <tr>\n",
       "      <th>4</th>\n",
       "      <td>36.38</td>\n",
       "      <td>721.10</td>\n",
       "      <td>467.1192</td>\n",
       "      <td>253.9808</td>\n",
       "      <td>27</td>\n",
       "      <td>9237</td>\n",
       "      <td>814885.0</td>\n",
       "      <td>24701.0</td>\n",
       "    </tr>\n",
       "    <tr>\n",
       "      <th>...</th>\n",
       "      <td>...</td>\n",
       "      <td>...</td>\n",
       "      <td>...</td>\n",
       "      <td>...</td>\n",
       "      <td>...</td>\n",
       "      <td>...</td>\n",
       "      <td>...</td>\n",
       "      <td>...</td>\n",
       "    </tr>\n",
       "    <tr>\n",
       "      <th>359387</th>\n",
       "      <td>38.40</td>\n",
       "      <td>668.93</td>\n",
       "      <td>525.3120</td>\n",
       "      <td>143.6180</td>\n",
       "      <td>29</td>\n",
       "      <td>6829</td>\n",
       "      <td>418859.0</td>\n",
       "      <td>127001.0</td>\n",
       "    </tr>\n",
       "    <tr>\n",
       "      <th>359388</th>\n",
       "      <td>3.57</td>\n",
       "      <td>67.60</td>\n",
       "      <td>44.5536</td>\n",
       "      <td>23.0464</td>\n",
       "      <td>29</td>\n",
       "      <td>6829</td>\n",
       "      <td>418859.0</td>\n",
       "      <td>127001.0</td>\n",
       "    </tr>\n",
       "    <tr>\n",
       "      <th>359389</th>\n",
       "      <td>23.46</td>\n",
       "      <td>331.97</td>\n",
       "      <td>337.8240</td>\n",
       "      <td>-5.8540</td>\n",
       "      <td>29</td>\n",
       "      <td>6829</td>\n",
       "      <td>418859.0</td>\n",
       "      <td>127001.0</td>\n",
       "    </tr>\n",
       "    <tr>\n",
       "      <th>359390</th>\n",
       "      <td>27.60</td>\n",
       "      <td>358.23</td>\n",
       "      <td>364.3200</td>\n",
       "      <td>-6.0900</td>\n",
       "      <td>29</td>\n",
       "      <td>6829</td>\n",
       "      <td>418859.0</td>\n",
       "      <td>127001.0</td>\n",
       "    </tr>\n",
       "    <tr>\n",
       "      <th>359391</th>\n",
       "      <td>34.24</td>\n",
       "      <td>453.11</td>\n",
       "      <td>427.3152</td>\n",
       "      <td>25.7948</td>\n",
       "      <td>29</td>\n",
       "      <td>6829</td>\n",
       "      <td>418859.0</td>\n",
       "      <td>127001.0</td>\n",
       "    </tr>\n",
       "  </tbody>\n",
       "</table>\n",
       "<p>359392 rows × 8 columns</p>\n",
       "</div>"
      ],
      "text/plain": [
       "        KM Travelled  Price Charged  Cost of Trip    Profit  Age  \\\n",
       "0              30.45         370.95      313.6350   57.3150   28   \n",
       "1              26.19         598.70      317.4228  281.2772   28   \n",
       "2              42.55         792.05      597.4020  194.6480   28   \n",
       "3              28.62         358.52      334.8540   23.6660   27   \n",
       "4              36.38         721.10      467.1192  253.9808   27   \n",
       "...              ...            ...           ...       ...  ...   \n",
       "359387         38.40         668.93      525.3120  143.6180   29   \n",
       "359388          3.57          67.60       44.5536   23.0464   29   \n",
       "359389         23.46         331.97      337.8240   -5.8540   29   \n",
       "359390         27.60         358.23      364.3200   -6.0900   29   \n",
       "359391         34.24         453.11      427.3152   25.7948   29   \n",
       "\n",
       "        Income (USD/Month)  Population     Users  \n",
       "0                    10813    814885.0   24701.0  \n",
       "1                    10813    814885.0   24701.0  \n",
       "2                    10813    814885.0   24701.0  \n",
       "3                     9237    814885.0   24701.0  \n",
       "4                     9237    814885.0   24701.0  \n",
       "...                    ...         ...       ...  \n",
       "359387                6829    418859.0  127001.0  \n",
       "359388                6829    418859.0  127001.0  \n",
       "359389                6829    418859.0  127001.0  \n",
       "359390                6829    418859.0  127001.0  \n",
       "359391                6829    418859.0  127001.0  \n",
       "\n",
       "[359392 rows x 8 columns]"
      ]
     },
     "execution_count": 69,
     "metadata": {},
     "output_type": "execute_result"
    }
   ],
   "source": [
    "X"
   ]
  },
  {
   "cell_type": "code",
   "execution_count": 70,
   "id": "929c79f9",
   "metadata": {},
   "outputs": [
    {
     "data": {
      "text/plain": [
       "0          57.3150\n",
       "1         281.2772\n",
       "2         194.6480\n",
       "3          23.6660\n",
       "4         253.9808\n",
       "            ...   \n",
       "359387    143.6180\n",
       "359388     23.0464\n",
       "359389     -5.8540\n",
       "359390     -6.0900\n",
       "359391     25.7948\n",
       "Name: Profit, Length: 359392, dtype: float64"
      ]
     },
     "execution_count": 70,
     "metadata": {},
     "output_type": "execute_result"
    }
   ],
   "source": [
    "y"
   ]
  },
  {
   "cell_type": "code",
   "execution_count": 71,
   "id": "27bf6d6e",
   "metadata": {},
   "outputs": [],
   "source": [
    "X_train, X_test, y_train, y_test = train_test_split(X,y, test_size=0.2, random_state=42)"
   ]
  },
  {
   "cell_type": "code",
   "execution_count": 72,
   "id": "3b3fb3d6",
   "metadata": {},
   "outputs": [
    {
     "name": "stdout",
     "output_type": "stream",
     "text": [
      "(287513, 8)\n",
      "(71879, 8)\n",
      "(287513,)\n",
      "(71879,)\n"
     ]
    }
   ],
   "source": [
    "print(X_train.shape)\n",
    "print(X_test.shape)\n",
    "print(y_train.shape)\n",
    "print(y_test.shape)"
   ]
  },
  {
   "cell_type": "code",
   "execution_count": 73,
   "id": "c502259c-5bad-404a-b052-d9d4813639b6",
   "metadata": {},
   "outputs": [
    {
     "name": "stdout",
     "output_type": "stream",
     "text": [
      "<class 'pandas.core.frame.DataFrame'>\n",
      "Int64Index: 287513 entries, 333706 to 121958\n",
      "Data columns (total 8 columns):\n",
      " #   Column              Non-Null Count   Dtype  \n",
      "---  ------              --------------   -----  \n",
      " 0   KM Travelled        287513 non-null  float64\n",
      " 1   Price Charged       287513 non-null  float64\n",
      " 2   Cost of Trip        287513 non-null  float64\n",
      " 3   Profit              287513 non-null  float64\n",
      " 4   Age                 287513 non-null  int64  \n",
      " 5   Income (USD/Month)  287513 non-null  int64  \n",
      " 6   Population          287513 non-null  float64\n",
      " 7   Users               287513 non-null  float64\n",
      "dtypes: float64(6), int64(2)\n",
      "memory usage: 19.7 MB\n"
     ]
    }
   ],
   "source": [
    "X_train.info()"
   ]
  },
  {
   "cell_type": "code",
   "execution_count": 74,
   "id": "8f4a5133",
   "metadata": {},
   "outputs": [],
   "source": [
    "scaler = MinMaxScaler()\n",
    "X_train = scaler.fit_transform(X_train)\n",
    "X_test = scaler.transform(X_test)"
   ]
  },
  {
   "cell_type": "code",
   "execution_count": 75,
   "id": "421cf7a0",
   "metadata": {},
   "outputs": [
    {
     "name": "stdout",
     "output_type": "stream",
     "text": [
      "Coefficients:  [ 4.41701109e-12  7.76950039e+02 -2.56966201e+02  1.04026259e+03\n",
      " -3.30427177e-14  3.91632269e-14  3.09090484e-13 -1.90962233e-13]\n"
     ]
    }
   ],
   "source": [
    "from sklearn import datasets, linear_model, metrics\n",
    "reg = linear_model.LinearRegression()\n",
    " \n",
    "# train the model using the training sets\n",
    "reg.fit(X_train, y_train)\n",
    " \n",
    "# regression coefficients\n",
    "print('Coefficients: ', reg.coef_)"
   ]
  },
  {
   "cell_type": "code",
   "execution_count": 76,
   "id": "24c177e8",
   "metadata": {},
   "outputs": [],
   "source": [
    "\n",
    "def get_cross_val(model, X_train, y_train, X_valid, y_valid):\n",
    "    \n",
    "    # Fit on train, predict on validation\n",
    "    clf = model\n",
    "    clf.fit(X_train, y_train)\n",
    "    y_pred = clf.predict(X_valid)\n",
    "    \n",
    "    # Cross validation score over 10 folds\n",
    "    scores = cross_val_score(clf, X_train, y_train, cv=10)\n",
    "    print(\"Cross validation over 10 folds: \", sum(scores)/10.0)\n",
    "    \n",
    "    return y_pred"
   ]
  },
  {
   "cell_type": "code",
   "execution_count": 77,
   "id": "892cb442",
   "metadata": {},
   "outputs": [
    {
     "name": "stdout",
     "output_type": "stream",
     "text": [
      "LinearRegression: 100.0 \n",
      "\n",
      "Cross validation over 10 folds:  1.0\n"
     ]
    },
    {
     "data": {
      "text/plain": [
       "array([160.602 , 797.838 , 384.2092, ..., 349.114 ,  84.3892,  33.36  ])"
      ]
     },
     "execution_count": 77,
     "metadata": {},
     "output_type": "execute_result"
    }
   ],
   "source": [
    "Model = 'Linear Regression'\n",
    "lin_predicted = reg.predict(X_test)\n",
    "lin_acc_score = reg.score(X_train, y_train)\n",
    "print(\"LinearRegression:\",lin_acc_score*100,'\\n')\n",
    "get_cross_val(reg, X_train, y_train, X_test, y_test)"
   ]
  },
  {
   "cell_type": "code",
   "execution_count": 78,
   "id": "8aa4db92",
   "metadata": {},
   "outputs": [],
   "source": [
    "from sklearn.metrics import mean_squared_error, r2_score"
   ]
  },
  {
   "cell_type": "code",
   "execution_count": 79,
   "id": "cc04c8f3",
   "metadata": {},
   "outputs": [],
   "source": [
    "# Make predictions using the testing set\n",
    "y_pred = reg.predict(X_test)\n"
   ]
  },
  {
   "cell_type": "code",
   "execution_count": 80,
   "id": "4092c799",
   "metadata": {},
   "outputs": [
    {
     "name": "stdout",
     "output_type": "stream",
     "text": [
      "Mean squared error: 0.00\n",
      "Coefficient of determination: 1.00\n"
     ]
    }
   ],
   "source": [
    "print(\"Mean squared error: %.2f\" % mean_squared_error(y_test, y_pred))\n",
    "# The coefficient of determination: 1 is perfect prediction\n",
    "print(\"Coefficient of determination: %.2f\" % r2_score(y_test, y_pred))"
   ]
  },
  {
   "cell_type": "code",
   "execution_count": 81,
   "id": "26234ca7",
   "metadata": {},
   "outputs": [
    {
     "name": "stdout",
     "output_type": "stream",
     "text": [
      "Coefficients: \n",
      " [ 4.41701109e-12  7.76950039e+02 -2.56966201e+02  1.04026259e+03\n",
      " -3.30427177e-14  3.91632269e-14  3.09090484e-13 -1.90962233e-13]\n",
      "Mean squared error: 0.00\n",
      "Coefficient of determination: 1.00\n"
     ]
    }
   ],
   "source": [
    "# The coefficients\n",
    "print(\"Coefficients: \\n\", reg.coef_)\n",
    "# The mean squared error\n",
    "print(\"Mean squared error: %.2f\" % mean_squared_error(y_test, y_pred))\n",
    "# The coefficient of determination: 1 is perfect prediction\n",
    "print(\"Coefficient of determination: %.2f\" % r2_score(y_test, y_pred))\n",
    "\n"
   ]
  },
  {
   "cell_type": "code",
   "execution_count": null,
   "id": "e7fc3285-24db-4e9a-b661-c11f1018b01b",
   "metadata": {},
   "outputs": [],
   "source": []
  }
 ],
 "metadata": {
  "kernelspec": {
   "display_name": "Python 3 (ipykernel)",
   "language": "python",
   "name": "python3"
  },
  "language_info": {
   "codemirror_mode": {
    "name": "ipython",
    "version": 3
   },
   "file_extension": ".py",
   "mimetype": "text/x-python",
   "name": "python",
   "nbconvert_exporter": "python",
   "pygments_lexer": "ipython3",
   "version": "3.8.3"
  }
 },
 "nbformat": 4,
 "nbformat_minor": 5
}
