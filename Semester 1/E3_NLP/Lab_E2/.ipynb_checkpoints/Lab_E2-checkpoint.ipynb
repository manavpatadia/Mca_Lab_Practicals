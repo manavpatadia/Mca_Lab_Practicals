{
 "cells": [
  {
   "cell_type": "code",
   "execution_count": 1,
   "metadata": {
    "id": "1j1-NaUuowyi"
   },
   "outputs": [],
   "source": [
    "import os"
   ]
  },
  {
   "cell_type": "code",
   "execution_count": 2,
   "metadata": {
    "id": "4irsalmVnyWJ"
   },
   "outputs": [],
   "source": [
    "path = \"C:\\spark\\MCA\\Semester1\\E3_NLP\\input\\lab_e2\""
   ]
  },
  {
   "cell_type": "code",
   "execution_count": 3,
   "metadata": {
    "colab": {
     "base_uri": "https://localhost:8080/"
    },
    "id": "1C4X5oyGpF_s",
    "outputId": "932ab2a5-25ad-4eb8-f29f-54f745b4a9ef"
   },
   "outputs": [
    {
     "name": "stdout",
     "output_type": "stream",
     "text": [
      "['C:\\\\spark\\\\MCA\\\\Semester1\\\\E3_NLP\\\\input\\\\lab_e2\\\\5G_enhanced_connectivity.txt', 'C:\\\\spark\\\\MCA\\\\Semester1\\\\E3_NLP\\\\input\\\\lab_e2\\\\Artificial_Intelligence.txt', 'C:\\\\spark\\\\MCA\\\\Semester1\\\\E3_NLP\\\\input\\\\lab_e2\\\\Extended_Reality_AR_VR.txt', 'C:\\\\spark\\\\MCA\\\\Semester1\\\\E3_NLP\\\\input\\\\lab_e2\\\\Robotics.txt', 'C:\\\\spark\\\\MCA\\\\Semester1\\\\E3_NLP\\\\input\\\\lab_e2\\\\The_As-A-Service_Revolution.txt']\n"
     ]
    }
   ],
   "source": [
    "file_paths = [os.path.join(path, fn) for fn in next(os.walk(path))[2]]\n",
    "print(file_paths)"
   ]
  },
  {
   "cell_type": "code",
   "execution_count": 4,
   "metadata": {
    "id": "7CceSxazpSZL"
   },
   "outputs": [],
   "source": [
    "list_texts = []\n",
    "for i in range(len(file_paths)):\n",
    "    with open(file_paths[i],'rb') as f:\n",
    "        list_texts.append(f.read().lower())"
   ]
  },
  {
   "cell_type": "code",
   "execution_count": 5,
   "metadata": {
    "colab": {
     "base_uri": "https://localhost:8080/"
    },
    "id": "jvMb1BsumC7G",
    "outputId": "4676c78e-f6a9-49a9-d0c1-46aec6c903f7"
   },
   "outputs": [
    {
     "name": "stdin",
     "output_type": "stream",
     "text": [
      " tech\n"
     ]
    }
   ],
   "source": [
    "search_str = input().encode()"
   ]
  },
  {
   "cell_type": "code",
   "execution_count": 6,
   "metadata": {
    "colab": {
     "base_uri": "https://localhost:8080/"
    },
    "id": "cRLHMg6LmYy7",
    "outputId": "ed536ae4-ec76-4bc3-b5c2-710fbfab4e62"
   },
   "outputs": [
    {
     "name": "stdout",
     "output_type": "stream",
     "text": [
      "b'tech'\n"
     ]
    }
   ],
   "source": [
    "print(search_str)"
   ]
  },
  {
   "cell_type": "code",
   "execution_count": 7,
   "metadata": {
    "id": "cB35dx0uqSrO"
   },
   "outputs": [],
   "source": [
    "freq = []\n",
    "for i in range(len(list_texts)):\n",
    "    c = list_texts[i].count(search_str)\n",
    "    freq.append(c)"
   ]
  },
  {
   "cell_type": "code",
   "execution_count": 8,
   "metadata": {
    "colab": {
     "base_uri": "https://localhost:8080/"
    },
    "id": "58L3TQV-rOxr",
    "outputId": "e94d6c95-9a34-4eeb-e88c-0de163333f0b"
   },
   "outputs": [
    {
     "data": {
      "text/plain": [
       "[19, 7, 9, 8, 14]"
      ]
     },
     "execution_count": 8,
     "metadata": {},
     "output_type": "execute_result"
    }
   ],
   "source": [
    "freq"
   ]
  },
  {
   "cell_type": "code",
   "execution_count": 9,
   "metadata": {
    "id": "aDiMa_97wE3D"
   },
   "outputs": [],
   "source": [
    "list1, list2, list3 = (list(t) for t in zip(*sorted(zip(freq, list_texts, file_paths),reverse=True)))"
   ]
  },
  {
   "cell_type": "code",
   "execution_count": 10,
   "metadata": {
    "colab": {
     "base_uri": "https://localhost:8080/"
    },
    "id": "_63oaHqmxMzt",
    "outputId": "e0e38e4d-c1e6-47f4-dac7-128bdc4c5833"
   },
   "outputs": [
    {
     "data": {
      "text/plain": [
       "[19, 14, 9, 8, 7]"
      ]
     },
     "execution_count": 10,
     "metadata": {},
     "output_type": "execute_result"
    }
   ],
   "source": [
    "list1"
   ]
  },
  {
   "cell_type": "code",
   "execution_count": 11,
   "metadata": {
    "colab": {
     "base_uri": "https://localhost:8080/"
    },
    "id": "VPeZYYJ-xPpr",
    "outputId": "84c1dc62-2feb-4454-de44-0e5d2bf67332"
   },
   "outputs": [
    {
     "data": {
      "text/plain": [
       "['C:\\\\spark\\\\MCA\\\\Semester1\\\\E3_NLP\\\\input\\\\lab_e2\\\\5G_enhanced_connectivity.txt',\n",
       " 'C:\\\\spark\\\\MCA\\\\Semester1\\\\E3_NLP\\\\input\\\\lab_e2\\\\The_As-A-Service_Revolution.txt',\n",
       " 'C:\\\\spark\\\\MCA\\\\Semester1\\\\E3_NLP\\\\input\\\\lab_e2\\\\Extended_Reality_AR_VR.txt',\n",
       " 'C:\\\\spark\\\\MCA\\\\Semester1\\\\E3_NLP\\\\input\\\\lab_e2\\\\Robotics.txt',\n",
       " 'C:\\\\spark\\\\MCA\\\\Semester1\\\\E3_NLP\\\\input\\\\lab_e2\\\\Artificial_Intelligence.txt']"
      ]
     },
     "execution_count": 11,
     "metadata": {},
     "output_type": "execute_result"
    }
   ],
   "source": [
    "list3"
   ]
  }
 ],
 "metadata": {
  "colab": {
   "collapsed_sections": [],
   "name": "Lab_E2.ipynb",
   "provenance": []
  },
  "kernelspec": {
   "display_name": "Python 3",
   "language": "python",
   "name": "python3"
  },
  "language_info": {
   "codemirror_mode": {
    "name": "ipython",
    "version": 3
   },
   "file_extension": ".py",
   "mimetype": "text/x-python",
   "name": "python",
   "nbconvert_exporter": "python",
   "pygments_lexer": "ipython3",
   "version": "3.8.3"
  }
 },
 "nbformat": 4,
 "nbformat_minor": 4
}
