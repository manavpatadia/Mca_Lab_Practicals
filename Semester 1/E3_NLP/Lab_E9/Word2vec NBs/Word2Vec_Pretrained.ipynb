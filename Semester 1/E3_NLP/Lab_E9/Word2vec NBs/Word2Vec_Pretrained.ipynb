{
 "cells": [
  {
   "cell_type": "code",
   "execution_count": 1,
   "metadata": {
    "colab": {
     "base_uri": "https://localhost:8080/"
    },
    "executionInfo": {
     "elapsed": 8143,
     "status": "ok",
     "timestamp": 1643669713948,
     "user": {
      "displayName": "Jayashree Nair Amrita",
      "photoUrl": "https://lh3.googleusercontent.com/a-/AOh14GgzYPSTna-kMk1cwmGaEmC3Cr4SYV4sgvsris4n=s64",
      "userId": "01666137879339816248"
     },
     "user_tz": -330
    },
    "id": "N4jSwX8DXMUq",
    "outputId": "9551744e-3546-4e97-875a-82488bb91333"
   },
   "outputs": [],
   "source": [
    "#!pip install --upgrade gensim"
   ]
  },
  {
   "cell_type": "code",
   "execution_count": 2,
   "metadata": {
    "executionInfo": {
     "elapsed": 351,
     "status": "ok",
     "timestamp": 1643669719776,
     "user": {
      "displayName": "Jayashree Nair Amrita",
      "photoUrl": "https://lh3.googleusercontent.com/a-/AOh14GgzYPSTna-kMk1cwmGaEmC3Cr4SYV4sgvsris4n=s64",
      "userId": "01666137879339816248"
     },
     "user_tz": -330
    },
    "id": "r48aQo9Ef8G2"
   },
   "outputs": [],
   "source": [
    "from gensim.models.keyedvectors import KeyedVectors"
   ]
  },
  {
   "cell_type": "code",
   "execution_count": 3,
   "metadata": {
    "colab": {
     "base_uri": "https://localhost:8080/"
    },
    "executionInfo": {
     "elapsed": 43189,
     "status": "ok",
     "timestamp": 1643669764211,
     "user": {
      "displayName": "Jayashree Nair Amrita",
      "photoUrl": "https://lh3.googleusercontent.com/a-/AOh14GgzYPSTna-kMk1cwmGaEmC3Cr4SYV4sgvsris4n=s64",
      "userId": "01666137879339816248"
     },
     "user_tz": -330
    },
    "id": "-sFrq_JuuQlu",
    "outputId": "7c259a7a-b433-4644-93d4-734aa3fc10fe"
   },
   "outputs": [
    {
     "data": {
      "text/plain": [
       "\"\\nimport urllib.request\\ndef get_files_from_web(url, filename):\\n    urllib.request.urlretrieve(url, filename)\\n\\nurl = 'https://s3.amazonaws.com/dl4j-distribution/GoogleNews-vectors-negative300.bin.gz'\\nfilename = 'GoogleNews-vectors-negative300.bin.gz'\\nget_files_from_web(url, filename)\\n\""
      ]
     },
     "execution_count": 3,
     "metadata": {},
     "output_type": "execute_result"
    }
   ],
   "source": [
    "#!wget https://s3.amazonaws.com/dl4j-distribution/GoogleNews-vectors-negative300.bin.gz\n",
    "'''\n",
    "import urllib.request\n",
    "def get_files_from_web(url, filename):\n",
    "    urllib.request.urlretrieve(url, filename)\n",
    "\n",
    "url = 'https://s3.amazonaws.com/dl4j-distribution/GoogleNews-vectors-negative300.bin.gz'\n",
    "filename = 'GoogleNews-vectors-negative300.bin.gz'\n",
    "get_files_from_web(url, filename)\n",
    "'''"
   ]
  },
  {
   "cell_type": "code",
   "execution_count": 4,
   "metadata": {
    "colab": {
     "base_uri": "https://localhost:8080/"
    },
    "executionInfo": {
     "elapsed": 646,
     "status": "ok",
     "timestamp": 1643669764853,
     "user": {
      "displayName": "Jayashree Nair Amrita",
      "photoUrl": "https://lh3.googleusercontent.com/a-/AOh14GgzYPSTna-kMk1cwmGaEmC3Cr4SYV4sgvsris4n=s64",
      "userId": "01666137879339816248"
     },
     "user_tz": -330
    },
    "id": "xyUbLvAkAVrA",
    "outputId": "b8510608-b015-42e8-f7a5-6c02cb16fd3f"
   },
   "outputs": [],
   "source": [
    "#!ls"
   ]
  },
  {
   "cell_type": "code",
   "execution_count": 5,
   "metadata": {
    "executionInfo": {
     "elapsed": 69798,
     "status": "ok",
     "timestamp": 1643669867252,
     "user": {
      "displayName": "Jayashree Nair Amrita",
      "photoUrl": "https://lh3.googleusercontent.com/a-/AOh14GgzYPSTna-kMk1cwmGaEmC3Cr4SYV4sgvsris4n=s64",
      "userId": "01666137879339816248"
     },
     "user_tz": -330
    },
    "id": "8PCkUiMQAZ0y"
   },
   "outputs": [],
   "source": [
    "path = \"G:\\spark_big_files\\Word2vec NBs\\\\\""
   ]
  },
  {
   "cell_type": "code",
   "execution_count": 6,
   "metadata": {
    "executionInfo": {
     "elapsed": 59207,
     "status": "ok",
     "timestamp": 1643670087411,
     "user": {
      "displayName": "Jayashree Nair Amrita",
      "photoUrl": "https://lh3.googleusercontent.com/a-/AOh14GgzYPSTna-kMk1cwmGaEmC3Cr4SYV4sgvsris4n=s64",
      "userId": "01666137879339816248"
     },
     "user_tz": -330
    },
    "id": "LaRkR4Is_jsl"
   },
   "outputs": [],
   "source": [
    "wv_from_bin = KeyedVectors.load_word2vec_format(path+\"GoogleNews-vectors-negative300.bin\", binary=True)  # C bin format"
   ]
  },
  {
   "cell_type": "code",
   "execution_count": null,
   "metadata": {
    "colab": {
     "base_uri": "https://localhost:8080/"
    },
    "executionInfo": {
     "elapsed": 415,
     "status": "ok",
     "timestamp": 1643670636351,
     "user": {
      "displayName": "Jayashree Nair Amrita",
      "photoUrl": "https://lh3.googleusercontent.com/a-/AOh14GgzYPSTna-kMk1cwmGaEmC3Cr4SYV4sgvsris4n=s64",
      "userId": "01666137879339816248"
     },
     "user_tz": -330
    },
    "id": "UcZWfHYXDKQH",
    "outputId": "ddbd7566-bee0-49b5-f86e-d6cb76c20c65"
   },
   "outputs": [],
   "source": [
    "wv_from_bin.similar_by_word(\"tree\",topn=5)"
   ]
  },
  {
   "cell_type": "code",
   "execution_count": null,
   "metadata": {
    "colab": {
     "base_uri": "https://localhost:8080/"
    },
    "executionInfo": {
     "elapsed": 723,
     "status": "ok",
     "timestamp": 1643670652332,
     "user": {
      "displayName": "Jayashree Nair Amrita",
      "photoUrl": "https://lh3.googleusercontent.com/a-/AOh14GgzYPSTna-kMk1cwmGaEmC3Cr4SYV4sgvsris4n=s64",
      "userId": "01666137879339816248"
     },
     "user_tz": -330
    },
    "id": "qKUoXVp8DpR7",
    "outputId": "77ee2383-deed-40d8-fbbc-0c664ae70253"
   },
   "outputs": [],
   "source": [
    "wv_from_bin.most_similar(positive=['animal', 'bird'], negative=['animal'])"
   ]
  },
  {
   "cell_type": "code",
   "execution_count": null,
   "metadata": {
    "colab": {
     "base_uri": "https://localhost:8080/"
    },
    "executionInfo": {
     "elapsed": 374,
     "status": "ok",
     "timestamp": 1643670117542,
     "user": {
      "displayName": "Jayashree Nair Amrita",
      "photoUrl": "https://lh3.googleusercontent.com/a-/AOh14GgzYPSTna-kMk1cwmGaEmC3Cr4SYV4sgvsris4n=s64",
      "userId": "01666137879339816248"
     },
     "user_tz": -330
    },
    "id": "im3VTVQDXAY3",
    "outputId": "2f660004-bdf0-40a1-d250-ae0495cadf8b"
   },
   "outputs": [],
   "source": [
    "wv_from_bin.get_vector('king')"
   ]
  },
  {
   "cell_type": "code",
   "execution_count": null,
   "metadata": {
    "colab": {
     "base_uri": "https://localhost:8080/"
    },
    "executionInfo": {
     "elapsed": 566,
     "status": "ok",
     "timestamp": 1643670125647,
     "user": {
      "displayName": "Jayashree Nair Amrita",
      "photoUrl": "https://lh3.googleusercontent.com/a-/AOh14GgzYPSTna-kMk1cwmGaEmC3Cr4SYV4sgvsris4n=s64",
      "userId": "01666137879339816248"
     },
     "user_tz": -330
    },
    "id": "kB_cGLgdYX6w",
    "outputId": "141cfc50-bc28-489c-f0ec-5da816f2756e"
   },
   "outputs": [],
   "source": [
    "wv_from_bin.similarity('king', 'prince')"
   ]
  },
  {
   "cell_type": "code",
   "execution_count": null,
   "metadata": {
    "colab": {
     "base_uri": "https://localhost:8080/"
    },
    "executionInfo": {
     "elapsed": 7,
     "status": "ok",
     "timestamp": 1643670129110,
     "user": {
      "displayName": "Jayashree Nair Amrita",
      "photoUrl": "https://lh3.googleusercontent.com/a-/AOh14GgzYPSTna-kMk1cwmGaEmC3Cr4SYV4sgvsris4n=s64",
      "userId": "01666137879339816248"
     },
     "user_tz": -330
    },
    "id": "xH9KrSK5eXdK",
    "outputId": "51b82a76-72c7-4a73-c6c8-a63c9b4f734c"
   },
   "outputs": [],
   "source": [
    "wv_from_bin.get_vector('king')"
   ]
  },
  {
   "cell_type": "code",
   "execution_count": null,
   "metadata": {
    "colab": {
     "base_uri": "https://localhost:8080/",
     "height": 328
    },
    "executionInfo": {
     "elapsed": 10,
     "status": "error",
     "timestamp": 1643670716842,
     "user": {
      "displayName": "Jayashree Nair Amrita",
      "photoUrl": "https://lh3.googleusercontent.com/a-/AOh14GgzYPSTna-kMk1cwmGaEmC3Cr4SYV4sgvsris4n=s64",
      "userId": "01666137879339816248"
     },
     "user_tz": -330
    },
    "id": "4YiaNbtbekau",
    "outputId": "949e7039-bcda-4581-a250-c8fda5a8ed42"
   },
   "outputs": [],
   "source": [
    "wv_from_bin['NFT']"
   ]
  },
  {
   "cell_type": "code",
   "execution_count": 13,
   "metadata": {
    "id": "GvY0EfQfhbTc"
   },
   "outputs": [],
   "source": [
    "wv_from_bin.save(path+'word2vecfromGoogle.model')"
   ]
  }
 ],
 "metadata": {
  "accelerator": "TPU",
  "colab": {
   "name": "Word2Vec_Pretrained.ipynb",
   "provenance": []
  },
  "kernelspec": {
   "display_name": "Python 3",
   "language": "python",
   "name": "python3"
  },
  "language_info": {
   "codemirror_mode": {
    "name": "ipython",
    "version": 3
   },
   "file_extension": ".py",
   "mimetype": "text/x-python",
   "name": "python",
   "nbconvert_exporter": "python",
   "pygments_lexer": "ipython3",
   "version": "3.8.3"
  }
 },
 "nbformat": 4,
 "nbformat_minor": 4
}
