{
 "cells": [
  {
   "cell_type": "markdown",
   "metadata": {
    "id": "IMj_tj5CLDxz"
   },
   "source": [
    "#Download the pre-trained models\n",
    "Word vectors for 157 languages\n",
    "\n",
    "https://fasttext.cc/docs/en/pretrained-vectors.html\n",
    "https://fasttext.cc/docs/en/crawl-vectors.html\n",
    "\n",
    "Latest : https://dl.fbaipublicfiles.com/fasttext/vectors-crawl/cc.ml.300.vec.gz\n"
   ]
  },
  {
   "cell_type": "code",
   "execution_count": 6,
   "metadata": {
    "colab": {
     "base_uri": "https://localhost:8080/"
    },
    "executionInfo": {
     "elapsed": 57800,
     "status": "ok",
     "timestamp": 1643671001244,
     "user": {
      "displayName": "Jayashree Nair Amrita",
      "photoUrl": "https://lh3.googleusercontent.com/a-/AOh14GgzYPSTna-kMk1cwmGaEmC3Cr4SYV4sgvsris4n=s64",
      "userId": "01666137879339816248"
     },
     "user_tz": -330
    },
    "id": "3kHdwHTyW7kY",
    "outputId": "81cc3102-ffd8-45ac-cdc0-351e3f52ff2f"
   },
   "outputs": [
    {
     "data": {
      "text/plain": [
       "\"\\n#!wget https://dl.fbaipublicfiles.com/fasttext/vectors-crawl/cc.hi.300.vec.gz\\nimport urllib.request\\ndef get_files_from_web(url, filename):\\n    urllib.request.urlretrieve(url, filename)\\n\\nurl = 'https://dl.fbaipublicfiles.com/fasttext/vectors-crawl/cc.hi.300.vec.gz'\\nfilename = 'cc.hi.300.vec.gz'\\nget_files_from_web(url, filename)\\nurl = 'https://dl.fbaipublicfiles.com/fasttext/vectors-crawl/cc.sa.300.vec.gz'\\nfilename = 'cc.sa.300.vec.gz'\\nget_files_from_web(url, filename)\\nurl = 'https://dl.fbaipublicfiles.com/fasttext/vectors-crawl/cc.sa.300.bin.gz'\\nfilename = 'cc.sa.300.bin.gz'\\nget_files_from_web(url, filename)\\n#!wget https://dl.fbaipublicfiles.com/fasttext/vectors-wiki/wiki.ml.vec\\n#!wget https://dl.fbaipublicfiles.com/fasttext/vectors-wiki/wiki.sa.vec\\n#!wget https://dl.fbaipublicfiles.com/fasttext/vectors-crawl/cc.sa.300.vec.gz \\n#https://dl.fbaipublicfiles.com/fasttext/vectors-crawl/cc.ml.300.vec.gz\\n#!wget https://dl.fbaipublicfiles.com/fasttext/vectors-crawl/cc.sa.300.bin.gz\\n\""
      ]
     },
     "execution_count": 6,
     "metadata": {},
     "output_type": "execute_result"
    }
   ],
   "source": [
    "'''\n",
    "#!wget https://dl.fbaipublicfiles.com/fasttext/vectors-crawl/cc.hi.300.vec.gz\n",
    "import urllib.request\n",
    "def get_files_from_web(url, filename):\n",
    "    urllib.request.urlretrieve(url, filename)\n",
    "\n",
    "url = 'https://dl.fbaipublicfiles.com/fasttext/vectors-crawl/cc.hi.300.vec.gz'\n",
    "filename = 'cc.hi.300.vec.gz'\n",
    "get_files_from_web(url, filename)\n",
    "url = 'https://dl.fbaipublicfiles.com/fasttext/vectors-crawl/cc.sa.300.vec.gz'\n",
    "filename = 'cc.sa.300.vec.gz'\n",
    "get_files_from_web(url, filename)\n",
    "url = 'https://dl.fbaipublicfiles.com/fasttext/vectors-crawl/cc.sa.300.bin.gz'\n",
    "filename = 'cc.sa.300.bin.gz'\n",
    "get_files_from_web(url, filename)\n",
    "#!wget https://dl.fbaipublicfiles.com/fasttext/vectors-wiki/wiki.ml.vec\n",
    "#!wget https://dl.fbaipublicfiles.com/fasttext/vectors-wiki/wiki.sa.vec\n",
    "#!wget https://dl.fbaipublicfiles.com/fasttext/vectors-crawl/cc.sa.300.vec.gz \n",
    "#https://dl.fbaipublicfiles.com/fasttext/vectors-crawl/cc.ml.300.vec.gz\n",
    "#!wget https://dl.fbaipublicfiles.com/fasttext/vectors-crawl/cc.sa.300.bin.gz\n",
    "'''"
   ]
  },
  {
   "cell_type": "markdown",
   "metadata": {
    "id": "dEyndKZ8cAqd"
   },
   "source": [
    "#Loading with gensim - keyedvectors\n",
    "\n",
    "https://radimrehurek.com/gensim/models/fasttext.html"
   ]
  },
  {
   "cell_type": "code",
   "execution_count": 7,
   "metadata": {
    "executionInfo": {
     "elapsed": 891,
     "status": "ok",
     "timestamp": 1643671253980,
     "user": {
      "displayName": "Jayashree Nair Amrita",
      "photoUrl": "https://lh3.googleusercontent.com/a-/AOh14GgzYPSTna-kMk1cwmGaEmC3Cr4SYV4sgvsris4n=s64",
      "userId": "01666137879339816248"
     },
     "user_tz": -330
    },
    "id": "S04U5Wibbyry"
   },
   "outputs": [],
   "source": [
    "from gensim.models import KeyedVectors"
   ]
  },
  {
   "cell_type": "code",
   "execution_count": 8,
   "metadata": {},
   "outputs": [],
   "source": [
    "path = \"G:\\spark_big_files\\FastText NBs\\\\\""
   ]
  },
  {
   "cell_type": "code",
   "execution_count": 9,
   "metadata": {
    "executionInfo": {
     "elapsed": 169531,
     "status": "ok",
     "timestamp": 1643671435230,
     "user": {
      "displayName": "Jayashree Nair Amrita",
      "photoUrl": "https://lh3.googleusercontent.com/a-/AOh14GgzYPSTna-kMk1cwmGaEmC3Cr4SYV4sgvsris4n=s64",
      "userId": "01666137879339816248"
     },
     "user_tz": -330
    },
    "id": "gdI-wSq-caic"
   },
   "outputs": [],
   "source": [
    "#Only once\n",
    "model =  KeyedVectors.load_word2vec_format(path+\"cc.sa.300.vec.gz\", binary=False)\n",
    "model.save(path+'fastText.sanskrit.model')"
   ]
  },
  {
   "cell_type": "code",
   "execution_count": 10,
   "metadata": {
    "executionInfo": {
     "elapsed": 1233,
     "status": "ok",
     "timestamp": 1643671436451,
     "user": {
      "displayName": "Jayashree Nair Amrita",
      "photoUrl": "https://lh3.googleusercontent.com/a-/AOh14GgzYPSTna-kMk1cwmGaEmC3Cr4SYV4sgvsris4n=s64",
      "userId": "01666137879339816248"
     },
     "user_tz": -330
    },
    "id": "8ccaf7N2M1IK"
   },
   "outputs": [],
   "source": [
    "model_reloaded = KeyedVectors.load(path + 'fastText.sanskrit.model')"
   ]
  },
  {
   "cell_type": "code",
   "execution_count": 11,
   "metadata": {
    "colab": {
     "base_uri": "https://localhost:8080/"
    },
    "executionInfo": {
     "elapsed": 441,
     "status": "ok",
     "timestamp": 1643673374751,
     "user": {
      "displayName": "Jayashree Nair Amrita",
      "photoUrl": "https://lh3.googleusercontent.com/a-/AOh14GgzYPSTna-kMk1cwmGaEmC3Cr4SYV4sgvsris4n=s64",
      "userId": "01666137879339816248"
     },
     "user_tz": -330
    },
    "id": "CEXkJ4vxNh7X",
    "outputId": "f3be61f7-cc67-453d-bed3-d73453f8dfbc"
   },
   "outputs": [
    {
     "name": "stdout",
     "output_type": "stream",
     "text": [
      "तिष्ठति\t==>  अवतिष्ठति, नावतिष्ठति, तिष्ठतो, तथैवतिष्ठति, तिष्ठत्ः, तिष्ठतेः, तिष्ठता, तिष्ठत, तिष्ठते, तिष्ठ्तु, तिष्ष्ठति, उपतिष्ठति, तिष्ठतयत:कफघ्न, अधितिष्ठति, तिष्ठद्भोजन, योऽवतिष्ठति, तिष्ठत्, समधितिष्ठति, तिष्ठेत, तिष्ठेरन्, तिष्ठतः, अनुतिष्ठति, किमनुतिष्ठति, नानुतिष्ठति, तिष्ठत्यकर्मकृत्, राजोत्तिष्ठति, तिष्ठतीति, चावतिष्ठते, तिष्ठत्येकस्तेनेदं, तिष्ठेयं, नावतिष्ठते, तिष्ठन्निव, यस्तिष्ठति, त्वत्तस्तिष्ठति, उदतिष्ठत्, नोत्तिष्ठति, यदुत्तिष्ठति, तिष्ठन्तं, तिष्ठेदिति, पर्यवतिष्ठति, उपतिष्ठतः, अवतिष्ठते, तिष्ठतु, उपतिष्ठते, परितस्तिष्ठति, उपातिष्ठत, यथोक्तमनुतिष्ठति, तिष्ठेत्, एवातिष्ठत्, परिधावुपतिष्ठते, अनुतिष्ठतः, नातिष्ठत्, समुपतिष्ठते, सहसोदतिष्ठत्, स्थिरस्तिष्ठति, समातिष्ठत्, सज्जस्तिष्ठति, यावत्तिष्ठति, व्यवतिष्ठते, तिष्ठताम्, एवावतिष्ठते, दूनोऽधनो, शयनादुत्तिष्ठति, तिष्ठेत्युच्चैर्वदति, तिष्ठामः, तिष्ठसि, तिष्ठस्य, अन्वतिष्ठत्, तिष्ठन्तीत्यतः, तिष्ठेयम्, उपतिष्ठेत्, मदाननसंमुखीना, काशीमधितिष्ठत्, बहिरतिष्ठत्, तिष्टतः, पार्ष्णिश्चोत्तिष्ठति, तिष्यो, उपातिष्ठत्, षाण्मासिकपयोव्रतान्यनुतिष्ठति, तिष्ठामि, आतिष्ठत्, विनोर्ध्वमुत्तिष्ठति, तिष्ठन्, गार्हपत्यमुपतिष्ठते, अध्यतिष्ठत्, वायुस्तिष्ठतु, पर्यवतिष्ठते, अवतिष्ठेदिति, तिष्ठन्तम्, पुरस्तिष्ठति, संगमोत्सुको, तिष्ठन्तु, समतिष्ठत्, कर्मशून्यस्तिष्ठति, सभ्यगदित्यमुपतिष्ठते, तिष्ठ, सन्तिष्ठते, पर्याकुलस्तिष्ठति, अनुतिष्ठेत्, अन्वतिष्ठन्, \n",
      "\n",
      "6\t==>  5, 9, 7, 8, 4, 10, 3, 76d, 2, 5m, 11m, ─, XC, 16, 11, 3a, 7m, 14, 043, LX, 13, A0C8F0, 512, 5b, तरवे, 22, सेनकः, 1E8, 1E7, 29, 2778, 24, 8052, 1E5AFF, 1, 31, 30, 27, C8DCF0, CM, 26, 12, 9653557, 0a, 508CFF, 1e11, DCC, EE2200, 92, 0, june, dp1, 15, FIAV, 283CFF, 1031, 63, 1e8, 66, A0B4FF, 6478FF, 17, 567, dh, कोपवादरत, 18, jp, dn1, DD77EE, ଧ, ట, 45, 58, ﺧ, cantos, 1e6, Combo's, ¼, 0b, 976, 511, 1e7, 44304, ഭ, आई.एम.एफ, p1, 89012, 1e15, 1656, ABA, 44, px, ≥, july, 06, 79, Ć, 4999, ૦, 5a, \n",
      "\n"
     ]
    }
   ],
   "source": [
    "words = ['तिष्ठति','6']\n",
    "for i in range(len(words)):\n",
    "    print(words[i], end=\"\\t==>  \")\n",
    "    similar = model_reloaded.most_similar(words[i], topn = 100)\n",
    "    for j in range(len(similar)):\n",
    "        print(similar[j][0],end =\", \")\n",
    "    print(\"\\n\")"
   ]
  }
 ],
 "metadata": {
  "colab": {
   "collapsed_sections": [],
   "name": "FastText-pretrained.ipynb",
   "provenance": []
  },
  "kernelspec": {
   "display_name": "Python 3",
   "language": "python",
   "name": "python3"
  },
  "language_info": {
   "codemirror_mode": {
    "name": "ipython",
    "version": 3
   },
   "file_extension": ".py",
   "mimetype": "text/x-python",
   "name": "python",
   "nbconvert_exporter": "python",
   "pygments_lexer": "ipython3",
   "version": "3.8.3"
  }
 },
 "nbformat": 4,
 "nbformat_minor": 4
}
