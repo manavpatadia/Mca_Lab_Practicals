{
 "cells": [
  {
   "cell_type": "code",
   "execution_count": 1,
   "metadata": {
    "colab": {
     "base_uri": "https://localhost:8080/"
    },
    "executionInfo": {
     "elapsed": 8016,
     "status": "ok",
     "timestamp": 1643671406873,
     "user": {
      "displayName": "Jayashree Nair Amrita",
      "photoUrl": "https://lh3.googleusercontent.com/a-/AOh14GgzYPSTna-kMk1cwmGaEmC3Cr4SYV4sgvsris4n=s64",
      "userId": "01666137879339816248"
     },
     "user_tz": -330
    },
    "id": "xX7wcVZTasPt",
    "outputId": "5e050ac5-9d63-4701-ca3b-9ad67296f583"
   },
   "outputs": [],
   "source": [
    "#pip install --upgrade gensim"
   ]
  },
  {
   "cell_type": "markdown",
   "metadata": {
    "id": "wLUjErWPTtLl"
   },
   "source": [
    "#Load the corpus"
   ]
  },
  {
   "cell_type": "code",
   "execution_count": 2,
   "metadata": {
    "executionInfo": {
     "elapsed": 522,
     "status": "ok",
     "timestamp": 1643671793890,
     "user": {
      "displayName": "Jayashree Nair Amrita",
      "photoUrl": "https://lh3.googleusercontent.com/a-/AOh14GgzYPSTna-kMk1cwmGaEmC3Cr4SYV4sgvsris4n=s64",
      "userId": "01666137879339816248"
     },
     "user_tz": -330
    },
    "id": "pomA5X_FBHjq"
   },
   "outputs": [],
   "source": [
    "file = \"C:\\spark\\MCA\\Semester1\\E3_NLP\\Lab_E8\\preprocessedMB.csv\""
   ]
  },
  {
   "cell_type": "code",
   "execution_count": 3,
   "metadata": {
    "executionInfo": {
     "elapsed": 514,
     "status": "ok",
     "timestamp": 1643671796853,
     "user": {
      "displayName": "Jayashree Nair Amrita",
      "photoUrl": "https://lh3.googleusercontent.com/a-/AOh14GgzYPSTna-kMk1cwmGaEmC3Cr4SYV4sgvsris4n=s64",
      "userId": "01666137879339816248"
     },
     "user_tz": -330
    },
    "id": "peHVaWpjBYCU"
   },
   "outputs": [],
   "source": [
    "import pandas as pd\n",
    "df = pd.read_csv(file)"
   ]
  },
  {
   "cell_type": "code",
   "execution_count": 4,
   "metadata": {
    "executionInfo": {
     "elapsed": 4,
     "status": "ok",
     "timestamp": 1643671798825,
     "user": {
      "displayName": "Jayashree Nair Amrita",
      "photoUrl": "https://lh3.googleusercontent.com/a-/AOh14GgzYPSTna-kMk1cwmGaEmC3Cr4SYV4sgvsris4n=s64",
      "userId": "01666137879339816248"
     },
     "user_tz": -330
    },
    "id": "U0AavXKECEpn"
   },
   "outputs": [],
   "source": [
    "sent = df[\"text\"]"
   ]
  },
  {
   "cell_type": "code",
   "execution_count": 5,
   "metadata": {
    "colab": {
     "base_uri": "https://localhost:8080/"
    },
    "executionInfo": {
     "elapsed": 706,
     "status": "ok",
     "timestamp": 1643671809639,
     "user": {
      "displayName": "Jayashree Nair Amrita",
      "photoUrl": "https://lh3.googleusercontent.com/a-/AOh14GgzYPSTna-kMk1cwmGaEmC3Cr4SYV4sgvsris4n=s64",
      "userId": "01666137879339816248"
     },
     "user_tz": -330
    },
    "id": "RdwBO160eVu_",
    "outputId": "23da52be-2551-44a4-da33-9fa139f3531b"
   },
   "outputs": [
    {
     "data": {
      "text/plain": [
       "0             the mahabharata  of  krishna dwaipayana vy...\n",
       "1         additional proofing and formatting at sacred t...\n",
       "2         translators preface  the object of a translato...\n",
       "3         that being so his chief duty is to represent s...\n",
       "4         in regard to translations from the sanskrit no...\n",
       "                                ...                        \n",
       "114755    after concluding a recitation of the bharata o...\n",
       "114756    i have thus o chief of men told everything in ...\n",
       "114757    he that listens with devotion to this bharata ...\n",
       "114758    destroying all his sins like the maker of day ...\n",
       "114759    the end of the svargarohanika parva  the eight...\n",
       "Name: text, Length: 114760, dtype: object"
      ]
     },
     "execution_count": 5,
     "metadata": {},
     "output_type": "execute_result"
    }
   ],
   "source": [
    "sent"
   ]
  },
  {
   "cell_type": "code",
   "execution_count": 6,
   "metadata": {
    "executionInfo": {
     "elapsed": 1962,
     "status": "ok",
     "timestamp": 1643671573222,
     "user": {
      "displayName": "Jayashree Nair Amrita",
      "photoUrl": "https://lh3.googleusercontent.com/a-/AOh14GgzYPSTna-kMk1cwmGaEmC3Cr4SYV4sgvsris4n=s64",
      "userId": "01666137879339816248"
     },
     "user_tz": -330
    },
    "id": "Zmpckk5UCdbO"
   },
   "outputs": [],
   "source": [
    "s1=[]\n",
    "for s in sent:\n",
    "    s1.append(s.split())"
   ]
  },
  {
   "cell_type": "code",
   "execution_count": 7,
   "metadata": {
    "executionInfo": {
     "elapsed": 522,
     "status": "ok",
     "timestamp": 1643671830451,
     "user": {
      "displayName": "Jayashree Nair Amrita",
      "photoUrl": "https://lh3.googleusercontent.com/a-/AOh14GgzYPSTna-kMk1cwmGaEmC3Cr4SYV4sgvsris4n=s64",
      "userId": "01666137879339816248"
     },
     "user_tz": -330
    },
    "id": "HMRk8sw7CuDj"
   },
   "outputs": [],
   "source": [
    "sent = s1"
   ]
  },
  {
   "cell_type": "code",
   "execution_count": 8,
   "metadata": {
    "colab": {
     "base_uri": "https://localhost:8080/"
    },
    "executionInfo": {
     "elapsed": 47,
     "status": "ok",
     "timestamp": 1643671833455,
     "user": {
      "displayName": "Jayashree Nair Amrita",
      "photoUrl": "https://lh3.googleusercontent.com/a-/AOh14GgzYPSTna-kMk1cwmGaEmC3Cr4SYV4sgvsris4n=s64",
      "userId": "01666137879339816248"
     },
     "user_tz": -330
    },
    "id": "-WZ56D9DeQCw",
    "outputId": "0ae0a7d9-3db3-4739-a854-fe9fe4f8abfc"
   },
   "outputs": [
    {
     "data": {
      "text/plain": [
       "['the',\n",
       " 'mahabharata',\n",
       " 'of',\n",
       " 'krishna',\n",
       " 'dwaipayana',\n",
       " 'vyasa',\n",
       " 'book',\n",
       " '1',\n",
       " 'adi',\n",
       " 'parva',\n",
       " 'translated',\n",
       " 'into',\n",
       " 'english',\n",
       " 'prose',\n",
       " 'from',\n",
       " 'the',\n",
       " 'original',\n",
       " 'sanskrit',\n",
       " 'text',\n",
       " 'by',\n",
       " 'kisari',\n",
       " 'mohan',\n",
       " 'ganguli',\n",
       " '1883',\n",
       " '1896',\n",
       " 'scanned',\n",
       " 'at',\n",
       " 'sacred',\n",
       " 'texts.com',\n",
       " '2003.',\n",
       " 'proofed',\n",
       " 'at',\n",
       " 'distributed',\n",
       " 'proofing',\n",
       " 'juliet',\n",
       " 'sutherland',\n",
       " 'project',\n",
       " 'manager.']"
      ]
     },
     "execution_count": 8,
     "metadata": {},
     "output_type": "execute_result"
    }
   ],
   "source": [
    "sent[0]"
   ]
  },
  {
   "cell_type": "markdown",
   "metadata": {
    "id": "18LmOFBuIphz"
   },
   "source": [
    "#Training using **FastText** class"
   ]
  },
  {
   "cell_type": "code",
   "execution_count": 9,
   "metadata": {
    "executionInfo": {
     "elapsed": 428,
     "status": "ok",
     "timestamp": 1643671841724,
     "user": {
      "displayName": "Jayashree Nair Amrita",
      "photoUrl": "https://lh3.googleusercontent.com/a-/AOh14GgzYPSTna-kMk1cwmGaEmC3Cr4SYV4sgvsris4n=s64",
      "userId": "01666137879339816248"
     },
     "user_tz": -330
    },
    "id": "2JOoPi8ZZpx8"
   },
   "outputs": [],
   "source": [
    "from gensim.models import FastText"
   ]
  },
  {
   "cell_type": "code",
   "execution_count": 10,
   "metadata": {
    "executionInfo": {
     "elapsed": 60625,
     "status": "ok",
     "timestamp": 1643672068732,
     "user": {
      "displayName": "Jayashree Nair Amrita",
      "photoUrl": "https://lh3.googleusercontent.com/a-/AOh14GgzYPSTna-kMk1cwmGaEmC3Cr4SYV4sgvsris4n=s64",
      "userId": "01666137879339816248"
     },
     "user_tz": -330
    },
    "id": "1S9g1WMBZ0Cw"
   },
   "outputs": [],
   "source": [
    "model = FastText(sent,vector_size=100,window=5)"
   ]
  },
  {
   "cell_type": "code",
   "execution_count": 11,
   "metadata": {
    "colab": {
     "base_uri": "https://localhost:8080/"
    },
    "executionInfo": {
     "elapsed": 457,
     "status": "ok",
     "timestamp": 1643673787672,
     "user": {
      "displayName": "Jayashree Nair Amrita",
      "photoUrl": "https://lh3.googleusercontent.com/a-/AOh14GgzYPSTna-kMk1cwmGaEmC3Cr4SYV4sgvsris4n=s64",
      "userId": "01666137879339816248"
     },
     "user_tz": -330
    },
    "id": "nAYiUnBnbjp1",
    "outputId": "31767d2d-bef6-4886-9fdd-0f4e77be2492"
   },
   "outputs": [
    {
     "name": "stdout",
     "output_type": "stream",
     "text": [
      "panchali\t==>  panchala, panchala., pancha, panchachuda, panchaka, panchalas, pancala, panchalas., panchasikha, panchajanya, \n",
      "\n",
      "krishna\t==>  krishna., janarddana, janardana, sudeva, hrishikesa, krisa, hrishikesha, vasudeva, krisara, sudeshna, \n",
      "\n",
      "king\t==>  king., monarch, monarch., kingly, monarchs, march, kicking, monarchs., marking, anarchy, \n",
      "\n",
      "arjuna\t==>  arjunaka, arjuna., phalguna, bhima, guna, dhananjaya, vibhishana, sthunakarna, dhananjaya., dhanajaya, \n",
      "\n",
      "pandavas\t==>  pandavas., pauravas, karandavas, pandava., kauravas, pandava, pandayas, panavas, yadavas, panda, \n",
      "\n",
      "kunti\t==>  kunti., kuntis, pritha, kuntibhoja, radha, pritha., pandu, prithu, pandu., pandus, \n",
      "\n",
      "duryodhana\t==>  duryyodhana, suyodhana, duryodhana., yuyudhana, duryodhanas, suyodhana., dushkarna, karna, dhanajaya, vibhishana, \n",
      "\n"
     ]
    }
   ],
   "source": [
    "words = ['panchali','krishna','king','arjuna','pandavas','kunti','duryodhana']\n",
    "for i in range(len(words)):\n",
    "    print(words[i], end=\"\\t==>  \")\n",
    "    similar = model.wv.most_similar(words[i], topn = 10)\n",
    "    for j in range(len(similar)):\n",
    "        print(similar[j][0],end =\", \")\n",
    "    print(\"\\n\")"
   ]
  },
  {
   "cell_type": "code",
   "execution_count": null,
   "metadata": {},
   "outputs": [],
   "source": []
  }
 ],
 "metadata": {
  "colab": {
   "name": "FastText-MB.ipynb",
   "provenance": []
  },
  "kernelspec": {
   "display_name": "Python 3",
   "language": "python",
   "name": "python3"
  },
  "language_info": {
   "codemirror_mode": {
    "name": "ipython",
    "version": 3
   },
   "file_extension": ".py",
   "mimetype": "text/x-python",
   "name": "python",
   "nbconvert_exporter": "python",
   "pygments_lexer": "ipython3",
   "version": "3.8.3"
  }
 },
 "nbformat": 4,
 "nbformat_minor": 4
}
