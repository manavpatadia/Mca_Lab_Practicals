{
 "cells": [
  {
   "cell_type": "code",
   "execution_count": 1,
   "metadata": {
    "colab": {
     "base_uri": "https://localhost:8080/"
    },
    "executionInfo": {
     "elapsed": 11460,
     "status": "ok",
     "timestamp": 1643669887741,
     "user": {
      "displayName": "Jayashree Nair Amrita",
      "photoUrl": "https://lh3.googleusercontent.com/a-/AOh14GgzYPSTna-kMk1cwmGaEmC3Cr4SYV4sgvsris4n=s64",
      "userId": "01666137879339816248"
     },
     "user_tz": -330
    },
    "id": "yAFcJ1BwaFXk",
    "outputId": "19e60162-c79d-4193-d909-e272a98d76cc"
   },
   "outputs": [],
   "source": [
    "#pip install --upgrade gensim"
   ]
  },
  {
   "cell_type": "code",
   "execution_count": 2,
   "metadata": {
    "executionInfo": {
     "elapsed": 609,
     "status": "ok",
     "timestamp": 1643669888342,
     "user": {
      "displayName": "Jayashree Nair Amrita",
      "photoUrl": "https://lh3.googleusercontent.com/a-/AOh14GgzYPSTna-kMk1cwmGaEmC3Cr4SYV4sgvsris4n=s64",
      "userId": "01666137879339816248"
     },
     "user_tz": -330
    },
    "id": "J1KHt9pLAbwf"
   },
   "outputs": [],
   "source": [
    "from gensim.models import FastText"
   ]
  },
  {
   "cell_type": "code",
   "execution_count": 3,
   "metadata": {},
   "outputs": [],
   "source": [
    "#downloading The Mahabharata corpus from #https://bombay.indology.info/mahabharata/welcome.html\n",
    "import requests\n",
    "file_name_list = [\"MBh01.txt\", \"MBh02.txt\", \"MBh03.txt\", \"MBh04.txt\", \"MBh05.txt\", \"MBh06.txt\", \"MBh07.txt\", \"MBh08.txt\", \"MBh09.txt\", \n",
    "             \"MBh10.txt\", \"MBh11.txt\", \"MBh12.txt\", \"MBh13.txt\", \"MBh14.txt\", \"MBh15.txt\", \"MBh16.txt\", \"MBh17.txt\", \"MBh18.txt\"]\n",
    "downlod_path = \"C:\\spark\\MCA\\Semester1\\E3_NLP\\Lab_E9\\Mahabharat\\\\\"\n",
    "for file_name in file_name_list:\n",
    "    file_url = \"https://bombay.indology.info/mahabharata/text/UD/\"+file_name\n",
    "    r = requests.get(file_url, stream = True)\n",
    "    with open(downlod_path+file_name, \"wb\") as f:\n",
    "        for chunk in r.iter_content(chunk_size=1024):\n",
    "            if chunk:\n",
    "                f.write(chunk)"
   ]
  },
  {
   "cell_type": "code",
   "execution_count": 4,
   "metadata": {
    "executionInfo": {
     "elapsed": 7437,
     "status": "ok",
     "timestamp": 1643671019621,
     "user": {
      "displayName": "Jayashree Nair Amrita",
      "photoUrl": "https://lh3.googleusercontent.com/a-/AOh14GgzYPSTna-kMk1cwmGaEmC3Cr4SYV4sgvsris4n=s64",
      "userId": "01666137879339816248"
     },
     "user_tz": -330
    },
    "id": "flXo5vKOBUMC"
   },
   "outputs": [],
   "source": [
    "data=[]\n",
    "n=19 #18 Texts of Mahabharatha\n",
    "for i in range(1,n):\n",
    "    if(i<=9):\n",
    "        path=downlod_path+\"MBh0\"+str(i) + '.txt'\n",
    "    else:\n",
    "        path=downlod_path+\"MBh\"+str(i) + '.txt'\n",
    "    file = open(path, encoding=\"utf-8\")\n",
    "    lines = file.readlines()\n",
    "    j=0\n",
    "    pre=[]\n",
    "    next=[]\n",
    "    for sent in lines:\n",
    "        temp=sent.split() #spliting words by space\n",
    "        if len(temp)<=3 : \n",
    "            continue\n",
    "        if j==0:\n",
    "            pre=sent.split()\n",
    "            j=1\n",
    "            continue\n",
    "        else:\n",
    "            next=sent.split()\n",
    "        if j==1:\n",
    "            l=pre[1:]+next[1:]\n",
    "            data.append(l)\n",
    "            j=0"
   ]
  },
  {
   "cell_type": "code",
   "execution_count": 5,
   "metadata": {
    "colab": {
     "base_uri": "https://localhost:8080/"
    },
    "executionInfo": {
     "elapsed": 12,
     "status": "ok",
     "timestamp": 1643671019623,
     "user": {
      "displayName": "Jayashree Nair Amrita",
      "photoUrl": "https://lh3.googleusercontent.com/a-/AOh14GgzYPSTna-kMk1cwmGaEmC3Cr4SYV4sgvsris4n=s64",
      "userId": "01666137879339816248"
     },
     "user_tz": -330
    },
    "id": "IZh6Nda7K4j5",
    "outputId": "694ff1b7-fe36-4f84-95d3-7981641fb2ac"
   },
   "outputs": [
    {
     "data": {
      "text/plain": [
       "71170"
      ]
     },
     "execution_count": 5,
     "metadata": {},
     "output_type": "execute_result"
    }
   ],
   "source": [
    "len(data)"
   ]
  },
  {
   "cell_type": "code",
   "execution_count": 6,
   "metadata": {
    "colab": {
     "base_uri": "https://localhost:8080/"
    },
    "executionInfo": {
     "elapsed": 725,
     "status": "ok",
     "timestamp": 1643671020873,
     "user": {
      "displayName": "Jayashree Nair Amrita",
      "photoUrl": "https://lh3.googleusercontent.com/a-/AOh14GgzYPSTna-kMk1cwmGaEmC3Cr4SYV4sgvsris4n=s64",
      "userId": "01666137879339816248"
     },
     "user_tz": -330
    },
    "id": "DTKWvXpCPVAz",
    "outputId": "4486db7b-a888-4914-9249-75edee0a5005"
   },
   "outputs": [
    {
     "data": {
      "text/plain": [
       "['यस्त्वत्तो',\n",
       " 'दुःखिततरो',\n",
       " 'राजासीत्पृथिवीपते',\n",
       " 'निषधेषु',\n",
       " 'महीपालो',\n",
       " 'वीरसेन',\n",
       " 'इति',\n",
       " 'स्म',\n",
       " 'ह']"
      ]
     },
     "execution_count": 6,
     "metadata": {},
     "output_type": "execute_result"
    }
   ],
   "source": [
    "data[10910]"
   ]
  },
  {
   "cell_type": "code",
   "execution_count": 7,
   "metadata": {
    "executionInfo": {
     "elapsed": 16087,
     "status": "ok",
     "timestamp": 1643671041741,
     "user": {
      "displayName": "Jayashree Nair Amrita",
      "photoUrl": "https://lh3.googleusercontent.com/a-/AOh14GgzYPSTna-kMk1cwmGaEmC3Cr4SYV4sgvsris4n=s64",
      "userId": "01666137879339816248"
     },
     "user_tz": -330
    },
    "id": "ksVM0jpwZ0P6"
   },
   "outputs": [],
   "source": [
    "model = FastText(data,vector_size=100,window=5)"
   ]
  },
  {
   "cell_type": "code",
   "execution_count": 8,
   "metadata": {
    "colab": {
     "base_uri": "https://localhost:8080/"
    },
    "executionInfo": {
     "elapsed": 402,
     "status": "ok",
     "timestamp": 1643673666282,
     "user": {
      "displayName": "Jayashree Nair Amrita",
      "photoUrl": "https://lh3.googleusercontent.com/a-/AOh14GgzYPSTna-kMk1cwmGaEmC3Cr4SYV4sgvsris4n=s64",
      "userId": "01666137879339816248"
     },
     "user_tz": -330
    },
    "id": "ZREFu_3tcmln",
    "outputId": "3a07261f-751d-48bf-cb0e-5d7ebbe8ca77"
   },
   "outputs": [
    {
     "name": "stdout",
     "output_type": "stream",
     "text": [
      "नारायणं\t==>  रथोत्तमात्, संदिदेश, रुक्मं, संबन्धः, नाराचं, अनुजज्ञे, संक्षेपो, मध्यमः, कौशिक, हिमवत्पृष्ठे, \n",
      "\n",
      "सरस्वतीं\t==>  गजे, विक्रान्तः, भागशः, पर्जन्यमिव, शरीरे, शरीरिणः, दिनकरे, सैनिका, शैला, शतानीकः, \n",
      "\n",
      "संजय\t==>  संजयं, शोचस्याहो, श्रोत्रियो, नामोपयेमे, बुबोध, वृणु, तत्त्वमाख्याहि, यास्याम्यहं, बालोऽयं, सुविदितं, \n",
      "\n",
      "युद्ध\t==>  युद्धाय, युद्धं, समुद्भूतो, समिद्धं, समृद्धं, शुद्धात्मा, बलवद्धनुः, युयुधे, महीपालो, परिवृतः, \n",
      "\n",
      "गज\t==>  शरीरे, गजे, दिनकरे, तीरे, ददृशिरे, सरस्वतीं, तावका, शतशो, भेजिरे, शरीरिणः, \n",
      "\n",
      "देव\t==>  देवि, देही, भवांस्तु, नैतद्धारयितुं, चतुर्भद्रतरस्त्वया, देवैरपि, कुरुकुलोद्वहः, द्रष्टुमिच्छति, तदद्भुतमपश्याम, पद्भ्यामेव, \n",
      "\n",
      "llk\t==>  भूमिः, निश्चेष्टो, भ्रमरैरिव, बाह्लिकः, व्यभ्राजत, तपोधनैः, निश्चेष्टा, जवेन;, जलदो, सत्यवान्, \n",
      "\n"
     ]
    }
   ],
   "source": [
    "words = ['नारायणं','सरस्वतीं','संजय','युद्ध','गज','देव','llk']\n",
    "for i in range(len(words)):\n",
    "    print(words[i], end=\"\\t==>  \")\n",
    "    similar = model.wv.most_similar(words[i], topn = 10)\n",
    "    for j in range(len(similar)):\n",
    "        print(similar[j][0],end =\", \")\n",
    "    print(\"\\n\")"
   ]
  }
 ],
 "metadata": {
  "accelerator": "TPU",
  "colab": {
   "name": "FastText - Sans.ipynb",
   "provenance": []
  },
  "kernelspec": {
   "display_name": "Python 3",
   "language": "python",
   "name": "python3"
  },
  "language_info": {
   "codemirror_mode": {
    "name": "ipython",
    "version": 3
   },
   "file_extension": ".py",
   "mimetype": "text/x-python",
   "name": "python",
   "nbconvert_exporter": "python",
   "pygments_lexer": "ipython3",
   "version": "3.8.3"
  }
 },
 "nbformat": 4,
 "nbformat_minor": 4
}
