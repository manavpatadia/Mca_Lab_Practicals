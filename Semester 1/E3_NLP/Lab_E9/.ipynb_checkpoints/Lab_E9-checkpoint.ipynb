{
 "cells": [
  {
   "cell_type": "markdown",
   "id": "f2880f99-ae89-4db6-9532-28a151eb9e2c",
   "metadata": {},
   "source": [
    "Google Colab Link: https://drive.google.com/file/d/1pbUB1ytm4Ywqbxfmys5Wt_WZXWAdANEJ/view?usp=sharing"
   ]
  },
  {
   "cell_type": "markdown",
   "id": "8b573fc3-36f7-4517-97b1-0cd68048e0e5",
   "metadata": {},
   "source": [
    "# <font color='orange'>  <center> Lab Exercise 9: Word Embeddings"
   ]
  },
  {
   "cell_type": "markdown",
   "id": "6b1333cc-b8a3-43f2-aaac-b86db8ec07b8",
   "metadata": {
    "tags": []
   },
   "source": [
    "## <font color='orange'> In this lab exercise, we will create word vectors (embeddings) using word embedding algorithms.<br>Apply these algorithms for the twitter data (extracted in the earlier exercise) or on any corpus of your choice (https://www.corpusdata.org/formats.asp). <br> 1. Apply the following word embeddings on the concerned corpus: <dd> a. GloVe <dd> b. Word2Vec <dd> c. FastText <br><br> You may update the python notebooks shared. <br> Check the correctness of the model by plugging in word similarities"
   ]
  },
  {
   "cell_type": "code",
   "execution_count": 1,
   "id": "1595b6a8-8df3-4b2b-bd91-b8ffac2a49fc",
   "metadata": {},
   "outputs": [],
   "source": [
    "from glove import Corpus, Glove\n",
    "import re\n",
    "import glob\n",
    "from nltk.tokenize import sent_tokenize\n",
    "import string\n",
    "import pandas as pd\n",
    "import codecs"
   ]
  },
  {
   "cell_type": "code",
   "execution_count": 2,
   "id": "06e2f392-5d8c-4afe-a876-0f4dbabba97d",
   "metadata": {},
   "outputs": [],
   "source": [
    "def preprocess(text):\n",
    "    text = text.lower()\n",
    "    text = text.replace('\\n',' ')\n",
    "    text = text.replace(\"-\",\" \")\n",
    "    p = string.punctuation.replace(\".\",\"\")\n",
    "    text = text.translate(str.maketrans('', '', p))\n",
    "    lines = sent_tokenize(text)\n",
    "    lines = list(filter(None, lines))\n",
    "    return lines"
   ]
  },
  {
   "cell_type": "code",
   "execution_count": 3,
   "id": "42a0b0a7-9104-46d3-8aac-5bb04f2d84e1",
   "metadata": {},
   "outputs": [],
   "source": [
    "file_path = r'G:\\spark_big_files\\wordLemPoS.txt'"
   ]
  },
  {
   "cell_type": "code",
   "execution_count": 4,
   "id": "0d940441-685a-4ba9-b8bf-4e97cf653b84",
   "metadata": {},
   "outputs": [],
   "source": [
    "import csv\n",
    "data = pd.read_csv(file_path, encoding = 'unicode_escape', delimiter = \"\\t\", quoting=csv.QUOTE_NONE, engine='c')"
   ]
  },
  {
   "cell_type": "code",
   "execution_count": 5,
   "id": "5b091946-71a6-40f1-b663-e400ec686fe5",
   "metadata": {},
   "outputs": [
    {
     "data": {
      "text/plain": [
       "Index(['textID', 'ID(seq)', 'word', 'lemma', 'PoS'], dtype='object')"
      ]
     },
     "execution_count": 5,
     "metadata": {},
     "output_type": "execute_result"
    }
   ],
   "source": [
    "data.columns"
   ]
  },
  {
   "cell_type": "code",
   "execution_count": 6,
   "id": "1b4dde1a-d866-4c0e-bb39-0a6491fce38a",
   "metadata": {},
   "outputs": [
    {
     "name": "stdout",
     "output_type": "stream",
     "text": [
      "<class 'pandas.core.frame.DataFrame'>\n",
      "RangeIndex: 2286764 entries, 0 to 2286763\n",
      "Data columns (total 5 columns):\n",
      " #   Column   Dtype \n",
      "---  ------   ----- \n",
      " 0   textID   int64 \n",
      " 1   ID(seq)  int64 \n",
      " 2   word     object\n",
      " 3   lemma    object\n",
      " 4   PoS      object\n",
      "dtypes: int64(2), object(3)\n",
      "memory usage: 87.2+ MB\n"
     ]
    }
   ],
   "source": [
    "data.info()"
   ]
  },
  {
   "cell_type": "code",
   "execution_count": 7,
   "id": "9cc1e8fa-1672-4114-b9a3-58e653a778f1",
   "metadata": {},
   "outputs": [
    {
     "data": {
      "text/html": [
       "<div>\n",
       "<style scoped>\n",
       "    .dataframe tbody tr th:only-of-type {\n",
       "        vertical-align: middle;\n",
       "    }\n",
       "\n",
       "    .dataframe tbody tr th {\n",
       "        vertical-align: top;\n",
       "    }\n",
       "\n",
       "    .dataframe thead th {\n",
       "        text-align: right;\n",
       "    }\n",
       "</style>\n",
       "<table border=\"1\" class=\"dataframe\">\n",
       "  <thead>\n",
       "    <tr style=\"text-align: right;\">\n",
       "      <th></th>\n",
       "      <th>textID</th>\n",
       "      <th>ID(seq)</th>\n",
       "      <th>word</th>\n",
       "      <th>lemma</th>\n",
       "      <th>PoS</th>\n",
       "    </tr>\n",
       "  </thead>\n",
       "  <tbody>\n",
       "    <tr>\n",
       "      <th>29212</th>\n",
       "      <td>19514</td>\n",
       "      <td>1694609729</td>\n",
       "      <td>NaN</td>\n",
       "      <td>NaN</td>\n",
       "      <td>NN1</td>\n",
       "    </tr>\n",
       "    <tr>\n",
       "      <th>489335</th>\n",
       "      <td>1234514</td>\n",
       "      <td>59402633</td>\n",
       "      <td>NaN</td>\n",
       "      <td>NaN</td>\n",
       "      <td>ZZ1</td>\n",
       "    </tr>\n",
       "    <tr>\n",
       "      <th>1267235</th>\n",
       "      <td>10913514</td>\n",
       "      <td>868222484</td>\n",
       "      <td>NaN</td>\n",
       "      <td>NaN</td>\n",
       "      <td>JJ</td>\n",
       "    </tr>\n",
       "    <tr>\n",
       "      <th>1770232</th>\n",
       "      <td>25980514</td>\n",
       "      <td>1525068348</td>\n",
       "      <td>NaN</td>\n",
       "      <td>na</td>\n",
       "      <td>FW_FU</td>\n",
       "    </tr>\n",
       "  </tbody>\n",
       "</table>\n",
       "</div>"
      ],
      "text/plain": [
       "           textID     ID(seq) word lemma    PoS\n",
       "29212       19514  1694609729  NaN   NaN    NN1\n",
       "489335    1234514    59402633  NaN   NaN    ZZ1\n",
       "1267235  10913514   868222484  NaN   NaN     JJ\n",
       "1770232  25980514  1525068348  NaN    na  FW_FU"
      ]
     },
     "execution_count": 7,
     "metadata": {},
     "output_type": "execute_result"
    }
   ],
   "source": [
    "data[data['word'].isna()]"
   ]
  },
  {
   "cell_type": "code",
   "execution_count": 8,
   "id": "1347613e-c81b-47c1-a66c-c7167a8ef2f5",
   "metadata": {},
   "outputs": [],
   "source": [
    "data.dropna(subset=['word'],inplace=True)\n",
    "data.dropna(subset=['lemma'],inplace=True)"
   ]
  },
  {
   "cell_type": "code",
   "execution_count": 9,
   "id": "0ae36fb3-3074-437a-9cb5-e0231dd67c11",
   "metadata": {},
   "outputs": [
    {
     "data": {
      "text/html": [
       "<div>\n",
       "<style scoped>\n",
       "    .dataframe tbody tr th:only-of-type {\n",
       "        vertical-align: middle;\n",
       "    }\n",
       "\n",
       "    .dataframe tbody tr th {\n",
       "        vertical-align: top;\n",
       "    }\n",
       "\n",
       "    .dataframe thead th {\n",
       "        text-align: right;\n",
       "    }\n",
       "</style>\n",
       "<table border=\"1\" class=\"dataframe\">\n",
       "  <thead>\n",
       "    <tr style=\"text-align: right;\">\n",
       "      <th></th>\n",
       "      <th>textID</th>\n",
       "      <th>ID(seq)</th>\n",
       "      <th>word</th>\n",
       "      <th>lemma</th>\n",
       "      <th>PoS</th>\n",
       "    </tr>\n",
       "  </thead>\n",
       "  <tbody>\n",
       "    <tr>\n",
       "      <th>1</th>\n",
       "      <td>1514</td>\n",
       "      <td>1624977</td>\n",
       "      <td>Albert</td>\n",
       "      <td>albert</td>\n",
       "      <td>NP1</td>\n",
       "    </tr>\n",
       "    <tr>\n",
       "      <th>2</th>\n",
       "      <td>1514</td>\n",
       "      <td>1624978</td>\n",
       "      <td>of</td>\n",
       "      <td>of</td>\n",
       "      <td>IO</td>\n",
       "    </tr>\n",
       "    <tr>\n",
       "      <th>3</th>\n",
       "      <td>1514</td>\n",
       "      <td>1624979</td>\n",
       "      <td>Prussia</td>\n",
       "      <td>prussia</td>\n",
       "      <td>NP1</td>\n",
       "    </tr>\n",
       "    <tr>\n",
       "      <th>5</th>\n",
       "      <td>1514</td>\n",
       "      <td>1624981</td>\n",
       "      <td>17</td>\n",
       "      <td>17</td>\n",
       "      <td>MC</td>\n",
       "    </tr>\n",
       "    <tr>\n",
       "      <th>6</th>\n",
       "      <td>1514</td>\n",
       "      <td>1624982</td>\n",
       "      <td>May</td>\n",
       "      <td>may</td>\n",
       "      <td>NPM1</td>\n",
       "    </tr>\n",
       "    <tr>\n",
       "      <th>...</th>\n",
       "      <td>...</td>\n",
       "      <td>...</td>\n",
       "      <td>...</td>\n",
       "      <td>...</td>\n",
       "      <td>...</td>\n",
       "    </tr>\n",
       "    <tr>\n",
       "      <th>2286758</th>\n",
       "      <td>43534514</td>\n",
       "      <td>2173506790</td>\n",
       "      <td>'s</td>\n",
       "      <td>'s</td>\n",
       "      <td>GE</td>\n",
       "    </tr>\n",
       "    <tr>\n",
       "      <th>2286759</th>\n",
       "      <td>43534514</td>\n",
       "      <td>2173506791</td>\n",
       "      <td>disease</td>\n",
       "      <td>disease</td>\n",
       "      <td>NN1</td>\n",
       "    </tr>\n",
       "    <tr>\n",
       "      <th>2286761</th>\n",
       "      <td>43534514</td>\n",
       "      <td>2173506793</td>\n",
       "      <td>He</td>\n",
       "      <td>he</td>\n",
       "      <td>PPHS1</td>\n",
       "    </tr>\n",
       "    <tr>\n",
       "      <th>2286762</th>\n",
       "      <td>43534514</td>\n",
       "      <td>2173506794</td>\n",
       "      <td>was</td>\n",
       "      <td>be</td>\n",
       "      <td>VBDZ</td>\n",
       "    </tr>\n",
       "    <tr>\n",
       "      <th>2286763</th>\n",
       "      <td>43534514</td>\n",
       "      <td>2173506795</td>\n",
       "      <td>71.</td>\n",
       "      <td>71</td>\n",
       "      <td>MC</td>\n",
       "    </tr>\n",
       "  </tbody>\n",
       "</table>\n",
       "<p>1835763 rows × 5 columns</p>\n",
       "</div>"
      ],
      "text/plain": [
       "           textID     ID(seq)     word    lemma    PoS\n",
       "1            1514     1624977   Albert   albert    NP1\n",
       "2            1514     1624978       of       of     IO\n",
       "3            1514     1624979  Prussia  prussia    NP1\n",
       "5            1514     1624981       17       17     MC\n",
       "6            1514     1624982      May      may   NPM1\n",
       "...           ...         ...      ...      ...    ...\n",
       "2286758  43534514  2173506790       's       's     GE\n",
       "2286759  43534514  2173506791  disease  disease    NN1\n",
       "2286761  43534514  2173506793       He       he  PPHS1\n",
       "2286762  43534514  2173506794      was       be   VBDZ\n",
       "2286763  43534514  2173506795      71.       71     MC\n",
       "\n",
       "[1835763 rows x 5 columns]"
      ]
     },
     "execution_count": 9,
     "metadata": {},
     "output_type": "execute_result"
    }
   ],
   "source": [
    "data"
   ]
  },
  {
   "cell_type": "code",
   "execution_count": 10,
   "id": "257fef46-0d95-4238-8ef4-1a22757972d3",
   "metadata": {},
   "outputs": [
    {
     "name": "stdout",
     "output_type": "stream",
     "text": [
      "['have', 'two', 'child', 'frederick', '#', 'ancestor', '#', '#', 'note', '#']\n"
     ]
    }
   ],
   "source": [
    "grp = data.groupby(data['textID'])['lemma'].apply(list)\n",
    "sent_list = grp.to_list()\n",
    "print(sent_list[0][-10:])"
   ]
  },
  {
   "cell_type": "markdown",
   "id": "045627b7-e8af-4390-bdef-b0c1abf734e4",
   "metadata": {},
   "source": [
    "# <font color='orange'> Glove"
   ]
  },
  {
   "cell_type": "code",
   "execution_count": 11,
   "id": "8c3c803a-68e0-43a7-8376-1f88513b3376",
   "metadata": {},
   "outputs": [],
   "source": [
    "corpus = Corpus()\n",
    "corpus.fit(sent_list, window=10)"
   ]
  },
  {
   "cell_type": "code",
   "execution_count": 12,
   "id": "8de16521-697e-45b4-a3b5-f26ff01f95c9",
   "metadata": {},
   "outputs": [],
   "source": [
    "glove = Glove(no_components=25) #size of vectors"
   ]
  },
  {
   "cell_type": "markdown",
   "id": "13b91ee0-3aaa-4061-bdd4-adf9b0f87dd3",
   "metadata": {},
   "source": [
    "The glove.fit() takes:\n",
    "\n",
    "1.   cooccurence_matrix: the matrix of word-word co-occurrences\n",
    "2.   epochs: number of times the dataset is processed\n",
    "3. no_of_threads: number of threads for parallel processing"
   ]
  },
  {
   "cell_type": "code",
   "execution_count": 13,
   "id": "48c005e7-9e1a-4a3e-8015-5817abc33fa5",
   "metadata": {},
   "outputs": [
    {
     "data": {
      "text/plain": [
       "121.55508780479431"
      ]
     },
     "execution_count": 13,
     "metadata": {},
     "output_type": "execute_result"
    }
   ],
   "source": [
    "import time\n",
    "start = time.time()\n",
    "glove.fit(corpus.matrix, epochs=50, no_threads=4)## co-occ --> word embeddings\n",
    "glove.add_dictionary(corpus.dictionary)\n",
    "glove.save('glove_wiki.model')\n",
    "end = time.time()\n",
    "end-start"
   ]
  },
  {
   "cell_type": "code",
   "execution_count": 14,
   "id": "9229adf6-3121-41ae-b285-e2304e33fb4f",
   "metadata": {},
   "outputs": [
    {
     "data": {
      "text/plain": [
       "65114"
      ]
     },
     "execution_count": 14,
     "metadata": {},
     "output_type": "execute_result"
    }
   ],
   "source": [
    "len(corpus.dictionary)"
   ]
  },
  {
   "cell_type": "code",
   "execution_count": 15,
   "id": "d8b3bb2a-6779-4627-9da8-306bc6cc8cf8",
   "metadata": {},
   "outputs": [
    {
     "data": {
      "text/plain": [
       "array([ 0.25882378, -0.01605447, -0.83475089,  0.41125547, -0.15647466,\n",
       "       -0.4307266 , -0.26203901,  0.4794978 ,  0.85693778, -0.02599827,\n",
       "       -1.07619821, -0.17676722, -0.34512053,  0.49827201, -0.32458597,\n",
       "       -0.74334507,  0.2796751 ,  0.58912661, -0.64171156, -0.82027148,\n",
       "       -0.38205972,  0.3153888 , -0.10029198, -0.04701322,  0.55291504])"
      ]
     },
     "execution_count": 15,
     "metadata": {},
     "output_type": "execute_result"
    }
   ],
   "source": [
    "glove.word_vectors[glove.dictionary['time']]"
   ]
  },
  {
   "cell_type": "code",
   "execution_count": 16,
   "id": "e8d99351-e211-4185-bd97-fd74ecf1d45a",
   "metadata": {},
   "outputs": [
    {
     "name": "stdout",
     "output_type": "stream",
     "text": [
      "art\t==>  contemporary, museum, fine, exhibition, science, society, medical, \n",
      "\n",
      "school\t==>  high, student, education, attend, graduate, public, secondary, \n",
      "\n",
      "king\t==>  iii, frederick, knight, henry, duke, prince, stephen, \n",
      "\n",
      "code\t==>  protocol, foundation, treatment, celtic, urban, regional, salvation, \n",
      "\n",
      "man\t==>  woman, young, 1253, child, title, person, smiley-faces, \n",
      "\n",
      "ancient\t==>  presentation, municipality, whereas, concept, greek, chain, mass, \n",
      "\n",
      "marry\t==>  tony, retire, bah'u'llh, father, divorce, she, succeed, \n",
      "\n"
     ]
    }
   ],
   "source": [
    "words = ['art','school','king','code','man','ancient','marry']\n",
    "for i in range(len(words)):\n",
    "    print(words[i], end=\"\\t==>  \")\n",
    "    similar = glove.most_similar(words[i], number=8)\n",
    "    for j in range(len(similar)):\n",
    "        print(similar[j][0],end =\", \")\n",
    "    print(\"\\n\")"
   ]
  },
  {
   "cell_type": "markdown",
   "id": "85f09568-5e7f-4fe0-bf7a-a493cf4f4d61",
   "metadata": {},
   "source": [
    "# <font color='orange'> Word2Vec"
   ]
  },
  {
   "cell_type": "code",
   "execution_count": 17,
   "id": "2758c3f8-b7ea-47d9-bce1-51c94c80097a",
   "metadata": {},
   "outputs": [],
   "source": [
    "from gensim.models import Word2Vec"
   ]
  },
  {
   "cell_type": "code",
   "execution_count": 18,
   "id": "385717c5-ba8a-4d3b-a263-9cd36e809ddd",
   "metadata": {},
   "outputs": [
    {
     "data": {
      "text/plain": [
       "10.87619400024414"
      ]
     },
     "execution_count": 18,
     "metadata": {},
     "output_type": "execute_result"
    }
   ],
   "source": [
    "import time\n",
    "start = time.time()\n",
    "cbow = Word2Vec(sent_list, vector_size = 50, window = 5, sg = 0) #sg=0 -CBoW - gensim 4\n",
    "end = time.time()\n",
    "end-start"
   ]
  },
  {
   "cell_type": "code",
   "execution_count": 19,
   "id": "dff4402a-e05d-408c-b84f-e54feff0cd9f",
   "metadata": {},
   "outputs": [],
   "source": [
    "cbow.save(\"cbow_wiki.model\")"
   ]
  },
  {
   "cell_type": "code",
   "execution_count": 20,
   "id": "e421c4b4-3671-4305-8bc2-0562704d247c",
   "metadata": {},
   "outputs": [],
   "source": [
    "cbow2=Word2Vec.load(\"cbow_wiki.model\")\n",
    "cbow = cbow2"
   ]
  },
  {
   "cell_type": "code",
   "execution_count": 21,
   "id": "532d53ed-c848-4af7-b75c-b1f37beae08a",
   "metadata": {},
   "outputs": [
    {
     "name": "stdout",
     "output_type": "stream",
     "text": [
      "art\t==>  science, literature, contemporary, architecture, literary, exhibition, journal, \n",
      "\n",
      "school\t==>  college, degree, graduate, secondary, boarding, student, attend, \n",
      "\n",
      "king\t==>  dynasty, duke, count, iii, emperor, lord, prince, \n",
      "\n",
      "code\t==>  climate, operator, iata, disposal, seychelles, conservation, broad, \n",
      "\n",
      "man\t==>  woman, girl, boy, contestant, ever, hero, dead, \n",
      "\n",
      "ancient\t==>  modern, origin, medieval, greek, historical, culture, roman, \n",
      "\n",
      "marry\t==>  daughter, die, henry, elizabeth, succeed, margrave, son, \n",
      "\n"
     ]
    }
   ],
   "source": [
    "words = ['art','school','king','code','man','ancient','marry']\n",
    "for i in range(len(words)):\n",
    "    print(words[i], end=\"\\t==>  \")\n",
    "    similar = cbow.wv.most_similar(words[i], topn = 7)\n",
    "    for j in range(len(similar)):\n",
    "        print(similar[j][0],end =\", \")\n",
    "    print(\"\\n\")"
   ]
  },
  {
   "cell_type": "code",
   "execution_count": 22,
   "id": "112a02f3-e5a7-4f67-b5c9-d177d7306545",
   "metadata": {},
   "outputs": [
    {
     "data": {
      "text/plain": [
       "30.56820583343506"
      ]
     },
     "execution_count": 22,
     "metadata": {},
     "output_type": "execute_result"
    }
   ],
   "source": [
    "##Only Once\n",
    "start = time.time()\n",
    "skipgram = Word2Vec(sent_list, vector_size = 50, window = 5, sg = 1) #skipgram\n",
    "#skipgram = Word2Vec(sent, size = 50, window = 5, sg = 1)\n",
    "end = time.time()\n",
    "end-start"
   ]
  },
  {
   "cell_type": "code",
   "execution_count": 23,
   "id": "ac086f26-456d-4e88-9278-084597044e09",
   "metadata": {},
   "outputs": [],
   "source": [
    "skipgram.save('skipgram_wiki.model')\n",
    "skipgram=Word2Vec.load(\"skipgram_wiki.model\")"
   ]
  },
  {
   "cell_type": "code",
   "execution_count": 24,
   "id": "290c27e9-6fb0-4c22-97b5-d6d8919f0ad0",
   "metadata": {},
   "outputs": [
    {
     "name": "stdout",
     "output_type": "stream",
     "text": [
      "art\t==>  contemporary, performing, sculpture, architecture, visual, ballet, guild, \n",
      "\n",
      "school\t==>  elementary, preparatory, surrattsville, grammar, secondary, vocational, college, \n",
      "\n",
      "king\t==>  duke, iv, augustus, vii, sigismund, bohemia, iii, \n",
      "\n",
      "code\t==>  seychelles, penal, iata, icao, postal, ethiopia, zip, \n",
      "\n",
      "man\t==>  woman, discus, mega, jump, horse, individual, hero, \n",
      "\n",
      "ancient\t==>  medieval, norse, inscription, buddha, buddhist, mythology, prehistoric, \n",
      "\n",
      "marry\t==>  married, daughter, onassis, elizabeth, granddaughter, die, heiress, \n",
      "\n"
     ]
    }
   ],
   "source": [
    "words = ['art','school','king','code','man','ancient','marry']\n",
    "for i in range(len(words)):\n",
    "    print(words[i], end=\"\\t==>  \")\n",
    "    similar = skipgram.wv.most_similar(words[i], topn = 7)\n",
    "    for j in range(len(similar)):\n",
    "        print(similar[j][0],end =\", \")\n",
    "    print(\"\\n\")"
   ]
  },
  {
   "cell_type": "markdown",
   "id": "d372517f-1272-47f8-ba4a-40adde9bfd66",
   "metadata": {},
   "source": [
    "# <font color='orange'> FastText"
   ]
  },
  {
   "cell_type": "code",
   "execution_count": 25,
   "id": "d3de90c9-8e4a-44b0-8d3f-733043c904f4",
   "metadata": {},
   "outputs": [],
   "source": [
    "from gensim.models import FastText"
   ]
  },
  {
   "cell_type": "code",
   "execution_count": 26,
   "id": "44b46a53-421d-4da1-a26b-8aa08ec28d2f",
   "metadata": {},
   "outputs": [],
   "source": [
    "model = FastText(sent_list, vector_size=50, window=5)"
   ]
  },
  {
   "cell_type": "code",
   "execution_count": 27,
   "id": "f859f260-e3fd-4554-86ca-caa114b60a66",
   "metadata": {},
   "outputs": [
    {
     "name": "stdout",
     "output_type": "stream",
     "text": [
      "art\t==>  artur, arte, museo, musicology, architecture, artwork, arc, \n",
      "\n",
      "school\t==>  preschool, high-school, schooling, schoolhouse, wool, college, schmidt, \n",
      "\n",
      "king\t==>  kings, kink, kingman, viking, walking, kingsley, mafeking, \n",
      "\n",
      "code\t==>  codex, codeine, cocktail, diode, cordata, coded, ode, \n",
      "\n",
      "man\t==>  woman, goodman, huffman, chapman, lehman, manx, huaman, \n",
      "\n",
      "ancient\t==>  modernity, scriptural, demonic, morality, monastic, subculture, geologic, \n",
      "\n",
      "marry\t==>  married, *barry, *harry, garry, harry, barry, marlene, \n",
      "\n"
     ]
    }
   ],
   "source": [
    "words = ['art','school','king','code','man','ancient','marry']\n",
    "for i in range(len(words)):\n",
    "    print(words[i], end=\"\\t==>  \")\n",
    "    similar = model.wv.most_similar(words[i], topn = 7)\n",
    "    for j in range(len(similar)):\n",
    "        print(similar[j][0],end =\", \")\n",
    "    print(\"\\n\")"
   ]
  }
 ],
 "metadata": {
  "kernelspec": {
   "display_name": "Python 3",
   "language": "python",
   "name": "python3"
  },
  "language_info": {
   "codemirror_mode": {
    "name": "ipython",
    "version": 3
   },
   "file_extension": ".py",
   "mimetype": "text/x-python",
   "name": "python",
   "nbconvert_exporter": "python",
   "pygments_lexer": "ipython3",
   "version": "3.8.3"
  }
 },
 "nbformat": 4,
 "nbformat_minor": 5
}
