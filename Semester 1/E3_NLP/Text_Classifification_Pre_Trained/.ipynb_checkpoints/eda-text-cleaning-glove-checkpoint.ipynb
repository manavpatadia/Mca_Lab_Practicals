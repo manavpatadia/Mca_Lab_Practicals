{
 "cells": [
  {
   "cell_type": "markdown",
   "metadata": {
    "papermill": {
     "duration": 0.029383,
     "end_time": "2020-11-13T10:24:07.530577",
     "exception": false,
     "start_time": "2020-11-13T10:24:07.501194",
     "status": "completed"
    },
    "tags": []
   },
   "source": [
    "Inspiration from [this notebook](https://www.kaggle.com/shahules/basic-eda-cleaning-and-glove) "
   ]
  },
  {
   "cell_type": "code",
   "execution_count": 1,
   "metadata": {
    "_cell_guid": "b1076dfc-b9ad-4769-8c92-a6c4dae69d19",
    "_uuid": "8f2839f25d086af736a60e9eeb907d3b93b6e0e5",
    "execution": {
     "iopub.execute_input": "2020-11-13T10:24:07.597900Z",
     "iopub.status.busy": "2020-11-13T10:24:07.597126Z",
     "iopub.status.idle": "2020-11-13T10:24:15.278301Z",
     "shell.execute_reply": "2020-11-13T10:24:15.277538Z"
    },
    "papermill": {
     "duration": 7.720199,
     "end_time": "2020-11-13T10:24:15.278470",
     "exception": false,
     "start_time": "2020-11-13T10:24:07.558271",
     "status": "completed"
    },
    "tags": []
   },
   "outputs": [],
   "source": [
    "import os\n",
    "import pandas as pd\n",
    "import matplotlib.pyplot as plt\n",
    "import seaborn as sns\n",
    "import numpy as np\n",
    "from nltk.corpus import stopwords\n",
    "from nltk.util import ngrams\n",
    "from sklearn.feature_extraction.text import CountVectorizer\n",
    "from collections import defaultdict\n",
    "from collections import  Counter\n",
    "plt.style.use('ggplot')\n",
    "stop=set(stopwords.words('english'))\n",
    "import re\n",
    "from nltk.tokenize import word_tokenize\n",
    "import gensim\n",
    "import string\n",
    "from keras.preprocessing.text import Tokenizer\n",
    "from keras.preprocessing.sequence import pad_sequences\n",
    "from tqdm import tqdm\n",
    "from keras.models import Sequential\n",
    "from keras.layers import Embedding,LSTM,Dense,Dropout\n",
    "from keras.initializers import Constant\n",
    "from sklearn.model_selection import train_test_split\n",
    "from keras.optimizers import Adam"
   ]
  },
  {
   "cell_type": "code",
   "execution_count": 2,
   "metadata": {
    "_cell_guid": "79c7e3d0-c299-4dcb-8224-4455121ee9b0",
    "_uuid": "d629ff2d2480ee46fbb7e2d37f6b5fab8052498a",
    "execution": {
     "iopub.execute_input": "2020-11-13T10:24:15.352565Z",
     "iopub.status.busy": "2020-11-13T10:24:15.351763Z",
     "iopub.status.idle": "2020-11-13T10:24:15.426735Z",
     "shell.execute_reply": "2020-11-13T10:24:15.426052Z"
    },
    "papermill": {
     "duration": 0.119652,
     "end_time": "2020-11-13T10:24:15.426894",
     "exception": false,
     "start_time": "2020-11-13T10:24:15.307242",
     "status": "completed"
    },
    "tags": []
   },
   "outputs": [],
   "source": [
    "input_dir = \"/kaggle/input/nlp-getting-started\"\n",
    "train = pd.read_csv(os.path.join(input_dir, 'train.csv'))\n",
    "test = pd.read_csv(os.path.join(input_dir, 'test.csv'))\n",
    "df=pd.concat([train,test])"
   ]
  },
  {
   "cell_type": "markdown",
   "metadata": {
    "papermill": {
     "duration": 0.027788,
     "end_time": "2020-11-13T10:24:15.482964",
     "exception": false,
     "start_time": "2020-11-13T10:24:15.455176",
     "status": "completed"
    },
    "tags": []
   },
   "source": [
    "### Collect some key metrics:\n",
    "\n",
    "Lets compute the following metrics for the training dataset, to get a global view of the dataset\n",
    "\n",
    "* Number of samples: Total number of examples \n",
    "* Number of samples per class: Number of samples per class (rean disaster /non real disaster).\n",
    "* Number of words per sample: Median or mean number of words in one sample.\n",
    "* Frequency distribution of words: Distribution showing the frequency (number of occurrences) of each word in the dataset.\n",
    "* Distribution of sample length: Distribution showing the number of words per sample in the dataset.\n",
    "\n",
    "((( source https://developers.google.com/machine-learning/guides/text-classification/step-2)))"
   ]
  },
  {
   "cell_type": "code",
   "execution_count": 3,
   "metadata": {
    "execution": {
     "iopub.execute_input": "2020-11-13T10:24:15.567758Z",
     "iopub.status.busy": "2020-11-13T10:24:15.562651Z",
     "iopub.status.idle": "2020-11-13T10:24:15.606547Z",
     "shell.execute_reply": "2020-11-13T10:24:15.605964Z"
    },
    "papermill": {
     "duration": 0.095394,
     "end_time": "2020-11-13T10:24:15.606678",
     "exception": false,
     "start_time": "2020-11-13T10:24:15.511284",
     "status": "completed"
    },
    "tags": []
   },
   "outputs": [
    {
     "data": {
      "text/html": [
       "<div>\n",
       "<style scoped>\n",
       "    .dataframe tbody tr th:only-of-type {\n",
       "        vertical-align: middle;\n",
       "    }\n",
       "\n",
       "    .dataframe tbody tr th {\n",
       "        vertical-align: top;\n",
       "    }\n",
       "\n",
       "    .dataframe thead th {\n",
       "        text-align: right;\n",
       "    }\n",
       "</style>\n",
       "<table border=\"1\" class=\"dataframe\">\n",
       "  <thead>\n",
       "    <tr style=\"text-align: right;\">\n",
       "      <th></th>\n",
       "      <th>metric</th>\n",
       "      <th>value</th>\n",
       "    </tr>\n",
       "  </thead>\n",
       "  <tbody>\n",
       "    <tr>\n",
       "      <th>0</th>\n",
       "      <td>samples</td>\n",
       "      <td>7613.0</td>\n",
       "    </tr>\n",
       "    <tr>\n",
       "      <th>1</th>\n",
       "      <td>samples_per_class</td>\n",
       "      <td>3806.5</td>\n",
       "    </tr>\n",
       "    <tr>\n",
       "      <th>2</th>\n",
       "      <td>median_of_samples_lengths</td>\n",
       "      <td>15.0</td>\n",
       "    </tr>\n",
       "  </tbody>\n",
       "</table>\n",
       "</div>"
      ],
      "text/plain": [
       "                      metric   value\n",
       "0                    samples  7613.0\n",
       "1          samples_per_class  3806.5\n",
       "2  median_of_samples_lengths    15.0"
      ]
     },
     "execution_count": 3,
     "metadata": {},
     "output_type": "execute_result"
    }
   ],
   "source": [
    "key_metrics= {'samples' : len(train),\n",
    "             'samples_per_class' : train['target'].value_counts().median(),\n",
    "             'median_of_samples_lengths': np.median(train['text'].str.split().map(lambda x: len(x))),\n",
    "             }\n",
    "key_metrics = pd.DataFrame.from_dict(key_metrics, orient='index').reset_index()\n",
    "key_metrics.columns = ['metric', 'value']\n",
    "key_metrics"
   ]
  },
  {
   "cell_type": "markdown",
   "metadata": {
    "papermill": {
     "duration": 0.028442,
     "end_time": "2020-11-13T10:24:15.665232",
     "exception": false,
     "start_time": "2020-11-13T10:24:15.636790",
     "status": "completed"
    },
    "tags": []
   },
   "source": [
    "Some plots are always more comprehensive than numbers, so lets visulize and discover some useful insights\n",
    "### Target class distribution with a bar plot"
   ]
  },
  {
   "cell_type": "code",
   "execution_count": 4,
   "metadata": {
    "execution": {
     "iopub.execute_input": "2020-11-13T10:24:15.730725Z",
     "iopub.status.busy": "2020-11-13T10:24:15.728773Z",
     "iopub.status.idle": "2020-11-13T10:24:15.889830Z",
     "shell.execute_reply": "2020-11-13T10:24:15.889076Z"
    },
    "papermill": {
     "duration": 0.19607,
     "end_time": "2020-11-13T10:24:15.889950",
     "exception": false,
     "start_time": "2020-11-13T10:24:15.693880",
     "status": "completed"
    },
    "tags": []
   },
   "outputs": [
    {
     "data": {
      "text/plain": [
       "<matplotlib.axes._subplots.AxesSubplot at 0x7f515e7a2250>"
      ]
     },
     "execution_count": 4,
     "metadata": {},
     "output_type": "execute_result"
    },
    {
     "data": {
      "image/png": "[encoded data removed]",
      "text/plain": [
       "<Figure size 432x288 with 1 Axes>"
      ]
     },
     "metadata": {},
     "output_type": "display_data"
    }
   ],
   "source": [
    "green = '#52BE80'\n",
    "red = '#EC7063'\n",
    "sns.countplot(train['target'], palette=[green, red])\n",
    "# PS : here: https://htmlcolorcodes.com/fr/tableau-de-couleur/ => to a cheerful color table where you can get an infinity of color codes  "
   ]
  },
  {
   "cell_type": "code",
   "execution_count": 5,
   "metadata": {
    "execution": {
     "iopub.execute_input": "2020-11-13T10:24:15.968128Z",
     "iopub.status.busy": "2020-11-13T10:24:15.967371Z",
     "iopub.status.idle": "2020-11-13T10:24:15.970984Z",
     "shell.execute_reply": "2020-11-13T10:24:15.970272Z"
    },
    "papermill": {
     "duration": 0.050816,
     "end_time": "2020-11-13T10:24:15.971115",
     "exception": false,
     "start_time": "2020-11-13T10:24:15.920299",
     "status": "completed"
    },
    "tags": []
   },
   "outputs": [],
   "source": [
    "blue = \"#5DADE2\"\n",
    "def get_sentences_len_histogram(fig_size = (10,6), _class=None, color=blue):\n",
    "    \"\"\"make histogram of lengths of the tweets\n",
    "    * _class : consider all the dataset\n",
    "    - _class=0 only non disaster tweets\n",
    "    - _class=1 only disaster tweets\"\"\"\n",
    "    f, ax = plt.subplots(figsize=fig_size)\n",
    "    if str(_class)=='None':\n",
    "        tweets_len=train['text'].str.len()\n",
    "        ax.set_title('tweets length')\n",
    "        ax.hist(tweets_len,color=color)\n",
    "    else: \n",
    "        tweets_len=train[train['target']==_class]['text'].str.len()\n",
    "        ax.set_title(f'{_class} disaster tweets length ')\n",
    "        ax.hist(tweets_len,color=color)\n",
    "\n",
    "    return ax\n",
    "\n",
    "def get_words_count_histogram(fig_size = (10,6), _class=None, color=blue):\n",
    "    \"\"\"make histogram of lengths of the tweets\n",
    "    * _class : consider all the dataset\n",
    "    - _class=0 only non disaster tweets\n",
    "    - _class=1 only disaster tweets\"\"\"\n",
    "    f, ax = plt.subplots(figsize=fig_size)\n",
    "    if str(_class)=='None':\n",
    "        tweets_len=train['text'].str.split().map(lambda x: len(x))\n",
    "        ax.set_title('words counts by tweet')\n",
    "        ax.hist(tweets_len,color=color)\n",
    "    else: \n",
    "        tweets_len=train[train['target']==_class]['text'].str.split().map(lambda x: len(x))\n",
    "        ax.set_title(f'words counts by  \"{_class}\" disaster tweets ')\n",
    "        ax.hist(tweets_len,color=color)\n",
    "\n",
    "    return ax"
   ]
  },
  {
   "cell_type": "markdown",
   "metadata": {
    "papermill": {
     "duration": 0.029743,
     "end_time": "2020-11-13T10:24:16.030778",
     "exception": false,
     "start_time": "2020-11-13T10:24:16.001035",
     "status": "completed"
    },
    "tags": []
   },
   "source": [
    "### Histogram of text sentences lengths: \n",
    "#### a. in all the dataset"
   ]
  },
  {
   "cell_type": "code",
   "execution_count": 6,
   "metadata": {
    "execution": {
     "iopub.execute_input": "2020-11-13T10:24:16.103815Z",
     "iopub.status.busy": "2020-11-13T10:24:16.100746Z",
     "iopub.status.idle": "2020-11-13T10:24:16.303779Z",
     "shell.execute_reply": "2020-11-13T10:24:16.303015Z"
    },
    "papermill": {
     "duration": 0.243147,
     "end_time": "2020-11-13T10:24:16.303900",
     "exception": false,
     "start_time": "2020-11-13T10:24:16.060753",
     "status": "completed"
    },
    "tags": []
   },
   "outputs": [
    {
     "data": {
      "text/plain": [
       "<matplotlib.axes._subplots.AxesSubplot at 0x7f515eebd410>"
      ]
     },
     "execution_count": 6,
     "metadata": {},
     "output_type": "execute_result"
    },
    {
     "data": {
      "image/png": "[encoded data removed]",
      "text/plain": [
       "<Figure size 720x432 with 1 Axes>"
      ]
     },
     "metadata": {},
     "output_type": "display_data"
    }
   ],
   "source": [
    "get_sentences_len_histogram()"
   ]
  },
  {
   "cell_type": "code",
   "execution_count": 7,
   "metadata": {
    "execution": {
     "iopub.execute_input": "2020-11-13T10:24:16.380464Z",
     "iopub.status.busy": "2020-11-13T10:24:16.377725Z",
     "iopub.status.idle": "2020-11-13T10:24:16.768283Z",
     "shell.execute_reply": "2020-11-13T10:24:16.767673Z"
    },
    "papermill": {
     "duration": 0.432767,
     "end_time": "2020-11-13T10:24:16.768421",
     "exception": false,
     "start_time": "2020-11-13T10:24:16.335654",
     "status": "completed"
    },
    "tags": []
   },
   "outputs": [
    {
     "data": {
      "image/png": "[encoded data removed]",
      "text/plain": [
       "<Figure size 720x432 with 1 Axes>"
      ]
     },
     "metadata": {},
     "output_type": "display_data"
    },
    {
     "data": {
      "image/png": "[encoded data removed]",
      "text/plain": [
       "<Figure size 720x432 with 1 Axes>"
      ]
     },
     "metadata": {},
     "output_type": "display_data"
    }
   ],
   "source": [
    "# two subplots\n",
    "ax1 = get_sentences_len_histogram(_class=0, color=green)\n",
    "ax1 = get_sentences_len_histogram(_class=1, color=red)"
   ]
  },
  {
   "cell_type": "markdown",
   "metadata": {
    "papermill": {
     "duration": 0.033118,
     "end_time": "2020-11-13T10:24:16.835280",
     "exception": false,
     "start_time": "2020-11-13T10:24:16.802162",
     "status": "completed"
    },
    "tags": []
   },
   "source": [
    "The Distribution of samples length is mainly concentrated between 120 to 140 characters"
   ]
  },
  {
   "cell_type": "markdown",
   "metadata": {
    "papermill": {
     "duration": 0.032894,
     "end_time": "2020-11-13T10:24:16.901495",
     "exception": false,
     "start_time": "2020-11-13T10:24:16.868601",
     "status": "completed"
    },
    "tags": []
   },
   "source": [
    "### Histogram of number of words for each tweet: \n",
    "#### a. in all the dataset\n"
   ]
  },
  {
   "cell_type": "code",
   "execution_count": 8,
   "metadata": {
    "execution": {
     "iopub.execute_input": "2020-11-13T10:24:16.987012Z",
     "iopub.status.busy": "2020-11-13T10:24:16.986228Z",
     "iopub.status.idle": "2020-11-13T10:24:17.362967Z",
     "shell.execute_reply": "2020-11-13T10:24:17.362232Z"
    },
    "papermill": {
     "duration": 0.428066,
     "end_time": "2020-11-13T10:24:17.363087",
     "exception": false,
     "start_time": "2020-11-13T10:24:16.935021",
     "status": "completed"
    },
    "tags": []
   },
   "outputs": [
    {
     "data": {
      "text/plain": [
       "<matplotlib.axes._subplots.AxesSubplot at 0x7f515ed9d4d0>"
      ]
     },
     "execution_count": 8,
     "metadata": {},
     "output_type": "execute_result"
    },
    {
     "data": {
      "image/png": "[encoded data removed]",
      "text/plain": [
       "<Figure size 720x432 with 1 Axes>"
      ]
     },
     "metadata": {},
     "output_type": "display_data"
    }
   ],
   "source": [
    "get_words_count_histogram()"
   ]
  },
  {
   "cell_type": "code",
   "execution_count": 9,
   "metadata": {
    "execution": {
     "iopub.execute_input": "2020-11-13T10:24:17.448385Z",
     "iopub.status.busy": "2020-11-13T10:24:17.447571Z",
     "iopub.status.idle": "2020-11-13T10:24:17.872300Z",
     "shell.execute_reply": "2020-11-13T10:24:17.871707Z"
    },
    "papermill": {
     "duration": 0.47442,
     "end_time": "2020-11-13T10:24:17.872442",
     "exception": false,
     "start_time": "2020-11-13T10:24:17.398022",
     "status": "completed"
    },
    "tags": []
   },
   "outputs": [
    {
     "data": {
      "image/png": "[encoded data removed]",
      "text/plain": [
       "<Figure size 720x432 with 1 Axes>"
      ]
     },
     "metadata": {},
     "output_type": "display_data"
    },
    {
     "data": {
      "image/png": "[encoded data removed]",
      "text/plain": [
       "<Figure size 720x432 with 1 Axes>"
      ]
     },
     "metadata": {},
     "output_type": "display_data"
    }
   ],
   "source": [
    "# two subplots\n",
    "ax1 = get_words_count_histogram(_class=0, color=green)\n",
    "ax1 = get_words_count_histogram(_class=1, color=red)"
   ]
  },
  {
   "cell_type": "markdown",
   "metadata": {
    "papermill": {
     "duration": 0.036739,
     "end_time": "2020-11-13T10:24:17.946302",
     "exception": false,
     "start_time": "2020-11-13T10:24:17.909563",
     "status": "completed"
    },
    "tags": []
   },
   "source": [
    "## Text cleaning:\n",
    "\n",
    "we can apply some basic data cleaning that are recurrent in tweeters such as removing punctuation, html tags urls and emojis, spelling correction,.."
   ]
  },
  {
   "cell_type": "code",
   "execution_count": 10,
   "metadata": {
    "execution": {
     "iopub.execute_input": "2020-11-13T10:24:18.033600Z",
     "iopub.status.busy": "2020-11-13T10:24:18.032631Z",
     "iopub.status.idle": "2020-11-13T10:24:18.035748Z",
     "shell.execute_reply": "2020-11-13T10:24:18.035118Z"
    },
    "papermill": {
     "duration": 0.052773,
     "end_time": "2020-11-13T10:24:18.035874",
     "exception": false,
     "start_time": "2020-11-13T10:24:17.983101",
     "status": "completed"
    },
    "tags": []
   },
   "outputs": [],
   "source": [
    "from string import digits \n",
    "\n",
    "def tweets_cleaning(x, remove_emojis=True, remove_stop_words=True):\n",
    "    \"\"\"Apply function to a \"\"\"\n",
    "    x = x.lower().strip()\n",
    "    # romove urls\n",
    "    url = re.compile(r'https?://\\S+|www\\.\\S+')\n",
    "    x = url.sub(r'',x)\n",
    "    # remove html tags\n",
    "    html = re.compile(r'<.*?>')\n",
    "    x = html.sub(r'',x)\n",
    "    # remove punctuation\n",
    "    operator = str.maketrans('','',string.punctuation) #????\n",
    "    x = x.translate(operator)\n",
    "    # remove digits\n",
    "    remove_digits = str.maketrans('', '', digits) \n",
    "    x = ' '.join([i.translate(remove_digits) for i in x.split()])\n",
    "    \n",
    "    if remove_emojis:\n",
    "        x = x.encode('ascii', 'ignore').decode('utf8').strip()\n",
    "    if remove_stop_words:\n",
    "        x = ' '.join([word for word in x.split(' ') if word not in stop])\n",
    "    return x"
   ]
  },
  {
   "cell_type": "code",
   "execution_count": 11,
   "metadata": {
    "execution": {
     "iopub.execute_input": "2020-11-13T10:24:18.136522Z",
     "iopub.status.busy": "2020-11-13T10:24:18.131408Z",
     "iopub.status.idle": "2020-11-13T10:24:18.476472Z",
     "shell.execute_reply": "2020-11-13T10:24:18.475835Z"
    },
    "papermill": {
     "duration": 0.40315,
     "end_time": "2020-11-13T10:24:18.476603",
     "exception": false,
     "start_time": "2020-11-13T10:24:18.073453",
     "status": "completed"
    },
    "tags": []
   },
   "outputs": [],
   "source": [
    "df['cleaned_tweets'] = df['text'].apply(tweets_cleaning)"
   ]
  },
  {
   "cell_type": "code",
   "execution_count": 12,
   "metadata": {
    "execution": {
     "iopub.execute_input": "2020-11-13T10:24:18.560185Z",
     "iopub.status.busy": "2020-11-13T10:24:18.559437Z",
     "iopub.status.idle": "2020-11-13T10:24:18.566246Z",
     "shell.execute_reply": "2020-11-13T10:24:18.566892Z"
    },
    "papermill": {
     "duration": 0.052879,
     "end_time": "2020-11-13T10:24:18.567040",
     "exception": false,
     "start_time": "2020-11-13T10:24:18.514161",
     "status": "completed"
    },
    "tags": []
   },
   "outputs": [
    {
     "name": "stderr",
     "output_type": "stream",
     "text": [
      "/opt/conda/lib/python3.7/site-packages/ipykernel_launcher.py:2: SettingWithCopyWarning: \n",
      "A value is trying to be set on a copy of a slice from a DataFrame.\n",
      "Try using .loc[row_indexer,col_indexer] = value instead\n",
      "\n",
      "See the caveats in the documentation: https://pandas.pydata.org/pandas-docs/stable/user_guide/indexing.html#returning-a-view-versus-a-copy\n",
      "  \n"
     ]
    }
   ],
   "source": [
    "train = df[~df['target'].isna()]\n",
    "train['target'] = train['target'].astype(int)\n",
    "test = df[df['target'].isna()]"
   ]
  },
  {
   "cell_type": "markdown",
   "metadata": {
    "papermill": {
     "duration": 0.039076,
     "end_time": "2020-11-13T10:24:18.644376",
     "exception": false,
     "start_time": "2020-11-13T10:24:18.605300",
     "status": "completed"
    },
    "tags": []
   },
   "source": [
    "### train validation test split:"
   ]
  },
  {
   "cell_type": "code",
   "execution_count": 13,
   "metadata": {
    "execution": {
     "iopub.execute_input": "2020-11-13T10:24:18.732614Z",
     "iopub.status.busy": "2020-11-13T10:24:18.731533Z",
     "iopub.status.idle": "2020-11-13T10:24:18.738655Z",
     "shell.execute_reply": "2020-11-13T10:24:18.739389Z"
    },
    "papermill": {
     "duration": 0.054071,
     "end_time": "2020-11-13T10:24:18.739582",
     "exception": false,
     "start_time": "2020-11-13T10:24:18.685511",
     "status": "completed"
    },
    "tags": []
   },
   "outputs": [
    {
     "name": "stdout",
     "output_type": "stream",
     "text": [
      "Shape of train (6090, 6)\n",
      "Shape of Validation  (1523, 6)\n"
     ]
    }
   ],
   "source": [
    "# lets keep a part a validation subset that will be used by our model\n",
    "X_train, X_val, y_train, y_val = train_test_split(train, train['target'], test_size=0.2, random_state=42)\n",
    "print('Shape of train',X_train.shape)\n",
    "print(\"Shape of Validation \",X_val.shape)"
   ]
  },
  {
   "cell_type": "markdown",
   "metadata": {
    "papermill": {
     "duration": 0.038241,
     "end_time": "2020-11-13T10:24:18.817497",
     "exception": false,
     "start_time": "2020-11-13T10:24:18.779256",
     "status": "completed"
    },
    "tags": []
   },
   "source": [
    "## Text pre-processing\n",
    "\n",
    "1. Tokenization \n",
    "It consists in dividing the texts into words or smaller sub-texts, allowing us to determine the \"vocabulary\" of the dataset (set of unique tokens present in the data). Usually we use word-level representation. For our exemple we will use NLTK Tokenizer()\n",
    "2. Word indexing:\n",
    "Construct a vocablary_index mapper based on word frequency: the index would be inversely proportional to the word occurrence frequency in the overall dataset. the most frequent world would have index=1.. And every single word would get a unique\n"
   ]
  },
  {
   "cell_type": "code",
   "execution_count": 14,
   "metadata": {
    "execution": {
     "iopub.execute_input": "2020-11-13T10:24:18.918850Z",
     "iopub.status.busy": "2020-11-13T10:24:18.913782Z",
     "iopub.status.idle": "2020-11-13T10:24:19.354193Z",
     "shell.execute_reply": "2020-11-13T10:24:19.353453Z"
    },
    "papermill": {
     "duration": 0.49816,
     "end_time": "2020-11-13T10:24:19.354353",
     "exception": false,
     "start_time": "2020-11-13T10:24:18.856193",
     "status": "completed"
    },
    "tags": []
   },
   "outputs": [],
   "source": [
    "from tensorflow.python.keras.preprocessing import sequence\n",
    "from tensorflow.python.keras.preprocessing import text\n",
    "\n",
    "# Vectorization parameters\n",
    "# Limit on the number of features. We use the top 20K features.\n",
    "TOP_K = 20000\n",
    "\n",
    "# Limit on the length of text sequences. \n",
    "# Sequences longer than this will be truncated.\n",
    "# and less than it will be padded\n",
    "MAX_SEQUENCE_LENGTH = 50\n",
    "\n",
    "class CustomTokenizer:\n",
    "    def __init__(self, train_texts):\n",
    "        self.train_texts = train_texts\n",
    "        self.tokenizer = Tokenizer(num_words=TOP_K)\n",
    "        \n",
    "#    @property\n",
    "#    def max_len(self):\n",
    "        # Get max sequence length.\n",
    "#        max_length = len(max(self.train_texts , key=len))\n",
    "#        return min(max_length, MAX_SEQUENCE_LENGTH)\n",
    "        \n",
    "    def train_tokenize(self):\n",
    "        # Get max sequence length.\n",
    "        max_length = len(max(self.train_texts , key=len))\n",
    "        self.max_length = min(max_length, MAX_SEQUENCE_LENGTH)\n",
    "    \n",
    "        # Create vocabulary with training texts.\n",
    "        self.tokenizer.fit_on_texts(self.train_texts)\n",
    "        \n",
    "    def vectorize_input(self, tweets):\n",
    "        # Vectorize training and validation texts.\n",
    "        \n",
    "        tweets = self.tokenizer.texts_to_sequences(tweets)\n",
    "        # Fix sequence length to max value. Sequences shorter than the length are\n",
    "        # padded in the beginning and sequences longer are truncated\n",
    "        # at the beginning.\n",
    "        tweets = sequence.pad_sequences(tweets, maxlen=self.max_length, truncating='post',padding='post')\n",
    "        return tweets\n",
    "    \n",
    "tokenizer = CustomTokenizer(train_texts = X_train['cleaned_tweets'])\n",
    "# fit o the train\n",
    "tokenizer.train_tokenize()\n",
    "tokenized_train = tokenizer.vectorize_input(X_train['cleaned_tweets'])\n",
    "tokenized_val = tokenizer.vectorize_input(X_val['cleaned_tweets'])\n",
    "tokenized_test = tokenizer.vectorize_input(test['cleaned_tweets'])"
   ]
  },
  {
   "cell_type": "markdown",
   "metadata": {
    "papermill": {
     "duration": 0.038332,
     "end_time": "2020-11-13T10:24:19.431430",
     "exception": false,
     "start_time": "2020-11-13T10:24:19.393098",
     "status": "completed"
    },
    "tags": []
   },
   "source": [
    "## Construct an embedding Matrix 🧱\n",
    "First of we will download Glove pre-trained embedding from the official site:"
   ]
  },
  {
   "cell_type": "code",
   "execution_count": 15,
   "metadata": {
    "execution": {
     "iopub.execute_input": "2020-11-13T10:24:19.522643Z",
     "iopub.status.busy": "2020-11-13T10:24:19.521853Z",
     "iopub.status.idle": "2020-11-13T10:39:49.162546Z",
     "shell.execute_reply": "2020-11-13T10:39:49.163114Z"
    },
    "papermill": {
     "duration": 929.692998,
     "end_time": "2020-11-13T10:39:49.163328",
     "exception": false,
     "start_time": "2020-11-13T10:24:19.470330",
     "status": "completed"
    },
    "tags": []
   },
   "outputs": [
    {
     "name": "stdout",
     "output_type": "stream",
     "text": [
      "**************************\n",
      "  Downloading zip file\n",
      "  >_<  Please wait >_< \n",
      "**************************\n"
     ]
    },
    {
     "name": "stderr",
     "output_type": "stream",
     "text": [
      "3667580it [14:39, 4169.25it/s]\n"
     ]
    },
    {
     "name": "stdout",
     "output_type": "stream",
     "text": [
      "  Download completed ;) :\n",
      "1. Extracting glove.zip file\n"
     ]
    }
   ],
   "source": [
    "import tqdm\n",
    "import requests\n",
    "import zipfile\n",
    "URL = \"http://nlp.stanford.edu/data/glove.42B.300d.zip\"\n",
    "\n",
    "\n",
    "\n",
    "def fetch_data(url=URL, target_file='glove.zip', delete_zip=False):\n",
    "    #if the dataset already exists exit\n",
    "    if os.path.isfile(target_file):\n",
    "        print(\"datasets already downloded :) \")\n",
    "        return\n",
    "\n",
    "    #download (large) zip file\n",
    "    #for large https request on stream mode to avoid out of memory issues\n",
    "    #see : http://masnun.com/2016/09/18/python-using-the-requests-module-to-download-large-files-efficiently.html\n",
    "    print(\"**************************\")\n",
    "    print(\"  Downloading zip file\")\n",
    "    print(\"  >_<  Please wait >_< \")\n",
    "    print(\"**************************\")\n",
    "    response = requests.get(url, stream=True)\n",
    "    #read chunk by chunk\n",
    "    handle = open(target_file, \"wb\")\n",
    "    for chunk in tqdm.tqdm(response.iter_content(chunk_size=512)):\n",
    "        if chunk:  \n",
    "            handle.write(chunk)\n",
    "    handle.close()  \n",
    "    print(\"  Download completed ;) :\") \n",
    "    #extract zip_file\n",
    "    zf = zipfile.ZipFile(target_file)\n",
    "    print(\"1. Extracting {} file\".format(target_file))\n",
    "    zf.extractall()\n",
    "    if delete_zip:\n",
    "        print(\"2. Deleting {} file\".format(dataset_name+\".zip\"))\n",
    "        os.remove(path=zip_file)\n",
    "        \n",
    "fetch_data()"
   ]
  },
  {
   "cell_type": "markdown",
   "metadata": {
    "papermill": {
     "duration": 3.620863,
     "end_time": "2020-11-13T10:39:54.599032",
     "exception": false,
     "start_time": "2020-11-13T10:39:50.978169",
     "status": "completed"
    },
    "tags": []
   },
   "source": [
    "Then we will create an embedding matrix we will map each word index to its corresponding embedding vector:"
   ]
  },
  {
   "cell_type": "code",
   "execution_count": 16,
   "metadata": {
    "execution": {
     "iopub.execute_input": "2020-11-13T10:39:58.963217Z",
     "iopub.status.busy": "2020-11-13T10:39:58.280766Z",
     "iopub.status.idle": "2020-11-13T10:40:47.555072Z",
     "shell.execute_reply": "2020-11-13T10:40:47.552278Z"
    },
    "papermill": {
     "duration": 51.236249,
     "end_time": "2020-11-13T10:40:47.555196",
     "exception": false,
     "start_time": "2020-11-13T10:39:56.318947",
     "status": "completed"
    },
    "tags": []
   },
   "outputs": [
    {
     "name": "stderr",
     "output_type": "stream",
     "text": [
      "100%|██████████| 14579/14579 [00:00<00:00, 284184.16it/s]"
     ]
    },
    {
     "name": "stdout",
     "output_type": "stream",
     "text": [
      "(14580, 50)\n"
     ]
    },
    {
     "name": "stderr",
     "output_type": "stream",
     "text": [
      "\n"
     ]
    }
   ],
   "source": [
    "glove_file = \"glove.42B.300d.txt\"\n",
    "\n",
    "\n",
    "EMBEDDING_VECTOR_LENGTH = 50 # <=200\n",
    "def construct_embedding_matrix(glove_file, word_index):\n",
    "    embedding_dict = {}\n",
    "    with open(glove_file,'r') as f:\n",
    "        for line in f:\n",
    "            values=line.split()\n",
    "            # get the word\n",
    "            word=values[0]\n",
    "            if word in word_index.keys():\n",
    "                # get the vector\n",
    "                vector = np.asarray(values[1:], 'float32')\n",
    "                embedding_dict[word] = vector\n",
    "    ###  oov words (out of vacabulary words) will be mapped to 0 vectors\n",
    "\n",
    "    num_words=len(word_index)+1\n",
    "    #initialize it to 0\n",
    "    embedding_matrix=np.zeros((num_words, EMBEDDING_VECTOR_LENGTH))\n",
    "\n",
    "    for word,i in tqdm.tqdm(word_index.items()):\n",
    "        if i < num_words:\n",
    "            vect=embedding_dict.get(word, [])\n",
    "            if len(vect)>0:\n",
    "                embedding_matrix[i] = vect[:EMBEDDING_VECTOR_LENGTH]\n",
    "    return embedding_matrix\n",
    "\n",
    "embedding_matrix =  construct_embedding_matrix(glove_file, tokenizer.tokenizer.word_index)\n",
    "print(embedding_matrix.shape)"
   ]
  },
  {
   "cell_type": "markdown",
   "metadata": {
    "papermill": {
     "duration": 0.574382,
     "end_time": "2020-11-13T10:40:48.697059",
     "exception": false,
     "start_time": "2020-11-13T10:40:48.122677",
     "status": "completed"
    },
    "tags": []
   },
   "source": [
    "In addition to the accuracy, we will add the precision, recall and F1-score as backend metrics to binary Keras Classifier model: we have to calculate them manually, because these metrics are not supported by keras since 2.0 version."
   ]
  },
  {
   "cell_type": "code",
   "execution_count": 17,
   "metadata": {
    "execution": {
     "iopub.execute_input": "2020-11-13T10:40:49.876870Z",
     "iopub.status.busy": "2020-11-13T10:40:49.876021Z",
     "iopub.status.idle": "2020-11-13T10:40:49.879522Z",
     "shell.execute_reply": "2020-11-13T10:40:49.878729Z"
    },
    "papermill": {
     "duration": 0.598476,
     "end_time": "2020-11-13T10:40:49.879646",
     "exception": false,
     "start_time": "2020-11-13T10:40:49.281170",
     "status": "completed"
    },
    "tags": []
   },
   "outputs": [],
   "source": [
    "#https://datascience.stackexchange.com/questions/45165/how-to-get-accuracy-f1-precision-and-recall-for-a-keras-model\n",
    "\n",
    "from keras import backend as K\n",
    "\n",
    "def recall_m(y_true, y_pred):\n",
    "    true_positives = K.sum(K.round(K.clip(y_true * y_pred, 0, 1)))\n",
    "    possible_positives = K.sum(K.round(K.clip(y_true, 0, 1)))\n",
    "    recall = true_positives / (possible_positives + K.epsilon())\n",
    "    return recall\n",
    "\n",
    "def precision_m(y_true, y_pred):\n",
    "    true_positives = K.sum(K.round(K.clip(y_true * y_pred, 0, 1)))\n",
    "    predicted_positives = K.sum(K.round(K.clip(y_pred, 0, 1)))\n",
    "    precision = true_positives / (predicted_positives + K.epsilon())\n",
    "    return precision\n",
    "\n",
    "def f1_m(y_true, y_pred):\n",
    "    precision = precision_m(y_true, y_pred)\n",
    "    recall = recall_m(y_true, y_pred)\n",
    "    return 2*((precision*recall)/(precision+recall+K.epsilon()))"
   ]
  },
  {
   "cell_type": "markdown",
   "metadata": {
    "papermill": {
     "duration": 0.583202,
     "end_time": "2020-11-13T10:40:51.054001",
     "exception": false,
     "start_time": "2020-11-13T10:40:50.470799",
     "status": "completed"
    },
    "tags": []
   },
   "source": [
    "Lets create the model"
   ]
  },
  {
   "cell_type": "code",
   "execution_count": 18,
   "metadata": {
    "execution": {
     "iopub.execute_input": "2020-11-13T10:40:52.277471Z",
     "iopub.status.busy": "2020-11-13T10:40:52.276578Z",
     "iopub.status.idle": "2020-11-13T10:40:52.708902Z",
     "shell.execute_reply": "2020-11-13T10:40:52.708211Z"
    },
    "papermill": {
     "duration": 1.068191,
     "end_time": "2020-11-13T10:40:52.709053",
     "exception": false,
     "start_time": "2020-11-13T10:40:51.640862",
     "status": "completed"
    },
    "tags": []
   },
   "outputs": [],
   "source": [
    "model=Sequential()\n",
    "optimzer=Adam(clipvalue=0.5)\n",
    "\n",
    "embedding=Embedding(len(tokenizer.tokenizer.word_index)+1, EMBEDDING_VECTOR_LENGTH, embeddings_initializer=Constant(embedding_matrix),\n",
    "                   input_length=MAX_SEQUENCE_LENGTH, trainable=False)\n",
    "\n",
    "model.add(embedding)\n",
    "model.add(Dropout(0.2))\n",
    "#model.add(Dense(30, activation='relu'))#, kernel_constraint=maxnorm(3)))\n",
    "model.add(LSTM(64, dropout=0.2, recurrent_dropout=0.5))\n",
    "model.add(Dense(1, activation='sigmoid'))\n",
    "# compile the model\n",
    "model.compile(optimizer=optimzer, loss='binary_crossentropy', metrics=['acc',f1_m,precision_m, recall_m])"
   ]
  },
  {
   "cell_type": "markdown",
   "metadata": {
    "papermill": {
     "duration": 0.571152,
     "end_time": "2020-11-13T10:40:53.854530",
     "exception": false,
     "start_time": "2020-11-13T10:40:53.283378",
     "status": "completed"
    },
    "tags": []
   },
   "source": [
    "### fit the model"
   ]
  },
  {
   "cell_type": "code",
   "execution_count": 19,
   "metadata": {
    "execution": {
     "iopub.execute_input": "2020-11-13T10:40:55.001508Z",
     "iopub.status.busy": "2020-11-13T10:40:55.000770Z",
     "iopub.status.idle": "2020-11-13T10:44:22.872288Z",
     "shell.execute_reply": "2020-11-13T10:44:22.871538Z"
    },
    "papermill": {
     "duration": 208.445728,
     "end_time": "2020-11-13T10:44:22.872460",
     "exception": false,
     "start_time": "2020-11-13T10:40:54.426732",
     "status": "completed"
    },
    "tags": []
   },
   "outputs": [
    {
     "name": "stdout",
     "output_type": "stream",
     "text": [
      "Epoch 1/20\n",
      "191/191 - 10s - loss: 0.5864 - acc: 0.6964 - f1_m: 0.5278 - precision_m: 0.5760 - recall_m: 0.5167 - val_loss: 0.5347 - val_acc: 0.7459 - val_f1_m: 0.6269 - val_precision_m: 0.8283 - val_recall_m: 0.5138\n",
      "Epoch 2/20\n",
      "191/191 - 10s - loss: 0.5384 - acc: 0.7502 - f1_m: 0.6772 - precision_m: 0.7486 - recall_m: 0.6445 - val_loss: 0.5089 - val_acc: 0.7577 - val_f1_m: 0.7158 - val_precision_m: 0.7092 - val_recall_m: 0.7356\n",
      "Epoch 3/20\n",
      "191/191 - 10s - loss: 0.5279 - acc: 0.7548 - f1_m: 0.6843 - precision_m: 0.7501 - recall_m: 0.6474 - val_loss: 0.5115 - val_acc: 0.7597 - val_f1_m: 0.7054 - val_precision_m: 0.7258 - val_recall_m: 0.7002\n",
      "Epoch 4/20\n",
      "191/191 - 11s - loss: 0.5244 - acc: 0.7567 - f1_m: 0.6927 - precision_m: 0.7561 - recall_m: 0.6649 - val_loss: 0.5156 - val_acc: 0.7643 - val_f1_m: 0.7006 - val_precision_m: 0.7532 - val_recall_m: 0.6685\n",
      "Epoch 5/20\n",
      "191/191 - 10s - loss: 0.5217 - acc: 0.7642 - f1_m: 0.6826 - precision_m: 0.7871 - recall_m: 0.6193 - val_loss: 0.5088 - val_acc: 0.7571 - val_f1_m: 0.6736 - val_precision_m: 0.7821 - val_recall_m: 0.6069\n",
      "Epoch 6/20\n",
      "191/191 - 10s - loss: 0.5107 - acc: 0.7552 - f1_m: 0.6840 - precision_m: 0.7622 - recall_m: 0.6459 - val_loss: 0.5096 - val_acc: 0.7623 - val_f1_m: 0.6714 - val_precision_m: 0.8050 - val_recall_m: 0.5892\n",
      "Epoch 7/20\n",
      "191/191 - 10s - loss: 0.5101 - acc: 0.7614 - f1_m: 0.6917 - precision_m: 0.7678 - recall_m: 0.6555 - val_loss: 0.5032 - val_acc: 0.7571 - val_f1_m: 0.6751 - val_precision_m: 0.7728 - val_recall_m: 0.6151\n",
      "Epoch 8/20\n",
      "191/191 - 10s - loss: 0.5049 - acc: 0.7663 - f1_m: 0.6947 - precision_m: 0.7803 - recall_m: 0.6464 - val_loss: 0.4932 - val_acc: 0.7617 - val_f1_m: 0.7120 - val_precision_m: 0.7268 - val_recall_m: 0.7108\n",
      "Epoch 9/20\n",
      "191/191 - 10s - loss: 0.4984 - acc: 0.7701 - f1_m: 0.7081 - precision_m: 0.7575 - recall_m: 0.6821 - val_loss: 0.4883 - val_acc: 0.7695 - val_f1_m: 0.7105 - val_precision_m: 0.7521 - val_recall_m: 0.6865\n",
      "Epoch 10/20\n",
      "191/191 - 10s - loss: 0.5007 - acc: 0.7724 - f1_m: 0.7080 - precision_m: 0.7704 - recall_m: 0.6766 - val_loss: 0.5121 - val_acc: 0.7623 - val_f1_m: 0.7307 - val_precision_m: 0.7014 - val_recall_m: 0.7763\n",
      "Epoch 11/20\n",
      "191/191 - 10s - loss: 0.4920 - acc: 0.7704 - f1_m: 0.7070 - precision_m: 0.7807 - recall_m: 0.6688 - val_loss: 0.5077 - val_acc: 0.7380 - val_f1_m: 0.5776 - val_precision_m: 0.9051 - val_recall_m: 0.4398\n",
      "Epoch 12/20\n",
      "191/191 - 11s - loss: 0.4896 - acc: 0.7701 - f1_m: 0.6999 - precision_m: 0.7874 - recall_m: 0.6567 - val_loss: 0.4841 - val_acc: 0.7807 - val_f1_m: 0.7306 - val_precision_m: 0.7576 - val_recall_m: 0.7184\n",
      "Epoch 13/20\n",
      "191/191 - 11s - loss: 0.4907 - acc: 0.7695 - f1_m: 0.6962 - precision_m: 0.7943 - recall_m: 0.6405 - val_loss: 0.4786 - val_acc: 0.7741 - val_f1_m: 0.7100 - val_precision_m: 0.7836 - val_recall_m: 0.6590\n",
      "Epoch 14/20\n",
      "191/191 - 10s - loss: 0.4731 - acc: 0.7844 - f1_m: 0.7142 - precision_m: 0.8070 - recall_m: 0.6597 - val_loss: 0.5072 - val_acc: 0.7800 - val_f1_m: 0.7167 - val_precision_m: 0.7780 - val_recall_m: 0.6738\n",
      "Epoch 15/20\n",
      "191/191 - 11s - loss: 0.4734 - acc: 0.7867 - f1_m: 0.7324 - precision_m: 0.7915 - recall_m: 0.6992 - val_loss: 0.4675 - val_acc: 0.7820 - val_f1_m: 0.7162 - val_precision_m: 0.7984 - val_recall_m: 0.6607\n",
      "Epoch 16/20\n",
      "191/191 - 10s - loss: 0.4692 - acc: 0.7875 - f1_m: 0.7155 - precision_m: 0.8202 - recall_m: 0.6523 - val_loss: 0.4844 - val_acc: 0.7728 - val_f1_m: 0.7416 - val_precision_m: 0.7110 - val_recall_m: 0.7883\n",
      "Epoch 17/20\n",
      "191/191 - 10s - loss: 0.4683 - acc: 0.7842 - f1_m: 0.7219 - precision_m: 0.7937 - recall_m: 0.6798 - val_loss: 0.4565 - val_acc: 0.7807 - val_f1_m: 0.7111 - val_precision_m: 0.7988 - val_recall_m: 0.6515\n",
      "Epoch 18/20\n",
      "191/191 - 10s - loss: 0.4551 - acc: 0.7979 - f1_m: 0.7386 - precision_m: 0.8123 - recall_m: 0.6982 - val_loss: 0.4859 - val_acc: 0.7814 - val_f1_m: 0.7453 - val_precision_m: 0.7336 - val_recall_m: 0.7697\n",
      "Epoch 19/20\n",
      "191/191 - 10s - loss: 0.4575 - acc: 0.7951 - f1_m: 0.7392 - precision_m: 0.8073 - recall_m: 0.7000 - val_loss: 0.4571 - val_acc: 0.7925 - val_f1_m: 0.7443 - val_precision_m: 0.7710 - val_recall_m: 0.7312\n",
      "Epoch 20/20\n",
      "191/191 - 10s - loss: 0.4538 - acc: 0.7952 - f1_m: 0.7379 - precision_m: 0.8092 - recall_m: 0.6964 - val_loss: 0.4712 - val_acc: 0.7794 - val_f1_m: 0.7469 - val_precision_m: 0.7287 - val_recall_m: 0.7770\n"
     ]
    }
   ],
   "source": [
    "history=model.fit(tokenized_train,y_train, \n",
    "                  batch_size=32, epochs=20, \n",
    "                  validation_data=(tokenized_val,y_val), \n",
    "                  verbose=2)"
   ]
  },
  {
   "cell_type": "markdown",
   "metadata": {
    "papermill": {
     "duration": 0.643963,
     "end_time": "2020-11-13T10:44:24.149899",
     "exception": false,
     "start_time": "2020-11-13T10:44:23.505936",
     "status": "completed"
    },
    "tags": []
   },
   "source": [
    "\n",
    "### Model evaluation"
   ]
  },
  {
   "cell_type": "code",
   "execution_count": 20,
   "metadata": {
    "execution": {
     "iopub.execute_input": "2020-11-13T10:44:25.361726Z",
     "iopub.status.busy": "2020-11-13T10:44:25.360939Z",
     "iopub.status.idle": "2020-11-13T10:44:25.748270Z",
     "shell.execute_reply": "2020-11-13T10:44:25.747507Z"
    },
    "papermill": {
     "duration": 1.008176,
     "end_time": "2020-11-13T10:44:25.748445",
     "exception": false,
     "start_time": "2020-11-13T10:44:24.740269",
     "status": "completed"
    },
    "tags": []
   },
   "outputs": [],
   "source": [
    "\n",
    "loss, accuracy, f1_score, precision, recall = model.evaluate(tokenized_val, y_val, verbose=0)"
   ]
  },
  {
   "cell_type": "code",
   "execution_count": 21,
   "metadata": {
    "execution": {
     "iopub.execute_input": "2020-11-13T10:44:26.941817Z",
     "iopub.status.busy": "2020-11-13T10:44:26.940773Z",
     "iopub.status.idle": "2020-11-13T10:44:26.945232Z",
     "shell.execute_reply": "2020-11-13T10:44:26.944318Z"
    },
    "papermill": {
     "duration": 0.602378,
     "end_time": "2020-11-13T10:44:26.945413",
     "exception": false,
     "start_time": "2020-11-13T10:44:26.343035",
     "status": "completed"
    },
    "tags": []
   },
   "outputs": [
    {
     "name": "stdout",
     "output_type": "stream",
     "text": [
      "F1 score : 0.747\n",
      "precision : 0.729\n",
      "Recall : 0.777\n"
     ]
    }
   ],
   "source": [
    "print(f'F1 score : {\"%.3f\"%f1_score}')\n",
    "print(f'precision : {\"%.3f\"%precision}')\n",
    "print(f'Recall : {\"%.3f\"%recall}')"
   ]
  },
  {
   "cell_type": "markdown",
   "metadata": {
    "papermill": {
     "duration": 0.598024,
     "end_time": "2020-11-13T10:44:28.152899",
     "exception": false,
     "start_time": "2020-11-13T10:44:27.554875",
     "status": "completed"
    },
    "tags": []
   },
   "source": [
    "### Make new predictions:"
   ]
  },
  {
   "cell_type": "code",
   "execution_count": 22,
   "metadata": {
    "execution": {
     "iopub.execute_input": "2020-11-13T10:44:29.385920Z",
     "iopub.status.busy": "2020-11-13T10:44:29.384806Z",
     "iopub.status.idle": "2020-11-13T10:44:30.451419Z",
     "shell.execute_reply": "2020-11-13T10:44:30.451977Z"
    },
    "papermill": {
     "duration": 1.690084,
     "end_time": "2020-11-13T10:44:30.452145",
     "exception": false,
     "start_time": "2020-11-13T10:44:28.762061",
     "status": "completed"
    },
    "tags": []
   },
   "outputs": [
    {
     "name": "stderr",
     "output_type": "stream",
     "text": [
      "/opt/conda/lib/python3.7/site-packages/ipykernel_launcher.py:2: SettingWithCopyWarning: \n",
      "A value is trying to be set on a copy of a slice from a DataFrame.\n",
      "Try using .loc[row_indexer,col_indexer] = value instead\n",
      "\n",
      "See the caveats in the documentation: https://pandas.pydata.org/pandas-docs/stable/user_guide/indexing.html#returning-a-view-versus-a-copy\n",
      "  \n",
      "/opt/conda/lib/python3.7/site-packages/ipykernel_launcher.py:4: SettingWithCopyWarning: \n",
      "A value is trying to be set on a copy of a slice from a DataFrame.\n",
      "Try using .loc[row_indexer,col_indexer] = value instead\n",
      "\n",
      "See the caveats in the documentation: https://pandas.pydata.org/pandas-docs/stable/user_guide/indexing.html#returning-a-view-versus-a-copy\n",
      "  after removing the cwd from sys.path.\n"
     ]
    }
   ],
   "source": [
    "# generate scores\n",
    "test['scores'] = model.predict(tokenized_test)\n",
    "# generate deisions\n",
    "test['predction'] = np.round(test['scores']).astype(int)\n",
    "test = test.drop('target', axis=1)"
   ]
  },
  {
   "cell_type": "code",
   "execution_count": 23,
   "metadata": {
    "execution": {
     "iopub.execute_input": "2020-11-13T10:44:31.678073Z",
     "iopub.status.busy": "2020-11-13T10:44:31.677065Z",
     "iopub.status.idle": "2020-11-13T10:44:31.682213Z",
     "shell.execute_reply": "2020-11-13T10:44:31.681524Z"
    },
    "papermill": {
     "duration": 0.623954,
     "end_time": "2020-11-13T10:44:31.682359",
     "exception": false,
     "start_time": "2020-11-13T10:44:31.058405",
     "status": "completed"
    },
    "tags": []
   },
   "outputs": [
    {
     "data": {
      "text/html": [
       "<div>\n",
       "<style scoped>\n",
       "    .dataframe tbody tr th:only-of-type {\n",
       "        vertical-align: middle;\n",
       "    }\n",
       "\n",
       "    .dataframe tbody tr th {\n",
       "        vertical-align: top;\n",
       "    }\n",
       "\n",
       "    .dataframe thead th {\n",
       "        text-align: right;\n",
       "    }\n",
       "</style>\n",
       "<table border=\"1\" class=\"dataframe\">\n",
       "  <thead>\n",
       "    <tr style=\"text-align: right;\">\n",
       "      <th></th>\n",
       "      <th>id</th>\n",
       "      <th>keyword</th>\n",
       "      <th>location</th>\n",
       "      <th>text</th>\n",
       "      <th>cleaned_tweets</th>\n",
       "      <th>scores</th>\n",
       "      <th>predction</th>\n",
       "    </tr>\n",
       "  </thead>\n",
       "  <tbody>\n",
       "    <tr>\n",
       "      <th>0</th>\n",
       "      <td>0</td>\n",
       "      <td>NaN</td>\n",
       "      <td>NaN</td>\n",
       "      <td>Just happened a terrible car crash</td>\n",
       "      <td>happened terrible car crash</td>\n",
       "      <td>0.798488</td>\n",
       "      <td>1</td>\n",
       "    </tr>\n",
       "    <tr>\n",
       "      <th>1</th>\n",
       "      <td>2</td>\n",
       "      <td>NaN</td>\n",
       "      <td>NaN</td>\n",
       "      <td>Heard about #earthquake is different cities, s...</td>\n",
       "      <td>heard earthquake different cities stay safe ev...</td>\n",
       "      <td>0.952659</td>\n",
       "      <td>1</td>\n",
       "    </tr>\n",
       "    <tr>\n",
       "      <th>2</th>\n",
       "      <td>3</td>\n",
       "      <td>NaN</td>\n",
       "      <td>NaN</td>\n",
       "      <td>there is a forest fire at spot pond, geese are...</td>\n",
       "      <td>forest fire spot pond geese fleeing across str...</td>\n",
       "      <td>0.914529</td>\n",
       "      <td>1</td>\n",
       "    </tr>\n",
       "    <tr>\n",
       "      <th>3</th>\n",
       "      <td>9</td>\n",
       "      <td>NaN</td>\n",
       "      <td>NaN</td>\n",
       "      <td>Apocalypse lighting. #Spokane #wildfires</td>\n",
       "      <td>apocalypse lighting spokane wildfires</td>\n",
       "      <td>0.749599</td>\n",
       "      <td>1</td>\n",
       "    </tr>\n",
       "    <tr>\n",
       "      <th>4</th>\n",
       "      <td>11</td>\n",
       "      <td>NaN</td>\n",
       "      <td>NaN</td>\n",
       "      <td>Typhoon Soudelor kills 28 in China and Taiwan</td>\n",
       "      <td>typhoon soudelor kills  china taiwan</td>\n",
       "      <td>0.953770</td>\n",
       "      <td>1</td>\n",
       "    </tr>\n",
       "  </tbody>\n",
       "</table>\n",
       "</div>"
      ],
      "text/plain": [
       "   id keyword location                                               text  \\\n",
       "0   0     NaN      NaN                 Just happened a terrible car crash   \n",
       "1   2     NaN      NaN  Heard about #earthquake is different cities, s...   \n",
       "2   3     NaN      NaN  there is a forest fire at spot pond, geese are...   \n",
       "3   9     NaN      NaN           Apocalypse lighting. #Spokane #wildfires   \n",
       "4  11     NaN      NaN      Typhoon Soudelor kills 28 in China and Taiwan   \n",
       "\n",
       "                                      cleaned_tweets    scores  predction  \n",
       "0                        happened terrible car crash  0.798488          1  \n",
       "1  heard earthquake different cities stay safe ev...  0.952659          1  \n",
       "2  forest fire spot pond geese fleeing across str...  0.914529          1  \n",
       "3              apocalypse lighting spokane wildfires  0.749599          1  \n",
       "4               typhoon soudelor kills  china taiwan  0.953770          1  "
      ]
     },
     "execution_count": 23,
     "metadata": {},
     "output_type": "execute_result"
    }
   ],
   "source": [
    "test.head()"
   ]
  },
  {
   "cell_type": "code",
   "execution_count": null,
   "metadata": {
    "papermill": {
     "duration": 0.588509,
     "end_time": "2020-11-13T10:44:32.911301",
     "exception": false,
     "start_time": "2020-11-13T10:44:32.322792",
     "status": "completed"
    },
    "tags": []
   },
   "outputs": [],
   "source": []
  }
 ],
 "metadata": {
  "kernelspec": {
   "display_name": "Python 3",
   "language": "python",
   "name": "python3"
  },
  "language_info": {
   "codemirror_mode": {
    "name": "ipython",
    "version": 3
   },
   "file_extension": ".py",
   "mimetype": "text/x-python",
   "name": "python",
   "nbconvert_exporter": "python",
   "pygments_lexer": "ipython3",
   "version": "3.7.6"
  },
  "papermill": {
   "duration": 1230.890709,
   "end_time": "2020-11-13T10:44:33.609545",
   "environment_variables": {},
   "exception": null,
   "input_path": "__notebook__.ipynb",
   "output_path": "__notebook__.ipynb",
   "parameters": {},
   "start_time": "2020-11-13T10:24:02.718836",
   "version": "2.1.0"
  }
 },
 "nbformat": 4,
 "nbformat_minor": 4
}
