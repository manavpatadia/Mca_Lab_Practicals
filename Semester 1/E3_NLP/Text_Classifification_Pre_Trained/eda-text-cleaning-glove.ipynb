{
 "cells": [
  {
   "cell_type": "markdown",
   "metadata": {
    "papermill": {
     "duration": 0.029383,
     "end_time": "2020-11-13T10:24:07.530577",
     "exception": false,
     "start_time": "2020-11-13T10:24:07.501194",
     "status": "completed"
    },
    "tags": []
   },
   "source": [
    "Inspiration from [this notebook](https://www.kaggle.com/shahules/basic-eda-cleaning-and-glove) "
   ]
  },
  {
   "cell_type": "code",
   "execution_count": 60,
   "metadata": {
    "_cell_guid": "b1076dfc-b9ad-4769-8c92-a6c4dae69d19",
    "_uuid": "8f2839f25d086af736a60e9eeb907d3b93b6e0e5",
    "papermill": {
     "duration": 7.720199,
     "end_time": "2020-11-13T10:24:15.278470",
     "exception": false,
     "start_time": "2020-11-13T10:24:07.558271",
     "status": "completed"
    },
    "tags": []
   },
   "outputs": [],
   "source": [
    "import os\n",
    "import pandas as pd\n",
    "import matplotlib.pyplot as plt\n",
    "import seaborn as sns\n",
    "import numpy as np\n",
    "from nltk.corpus import stopwords\n",
    "from nltk.util import ngrams\n",
    "from sklearn.feature_extraction.text import CountVectorizer\n",
    "from collections import defaultdict\n",
    "from collections import  Counter\n",
    "plt.style.use('ggplot')\n",
    "stop=set(stopwords.words('english'))\n",
    "import re\n",
    "from nltk.tokenize import word_tokenize\n",
    "import gensim\n",
    "import string\n",
    "from keras.preprocessing.text import Tokenizer\n",
    "from keras.preprocessing.sequence import pad_sequences\n",
    "from tqdm import tqdm\n",
    "from keras.models import Sequential\n",
    "from keras.layers import Embedding,LSTM,Dense,Dropout\n",
    "from keras.initializers import Constant\n",
    "from sklearn.model_selection import train_test_split\n",
    "#from keras.optimizers import Adam\n",
    "from tensorflow.keras.optimizers import Adam"
   ]
  },
  {
   "cell_type": "code",
   "execution_count": 61,
   "metadata": {
    "_cell_guid": "79c7e3d0-c299-4dcb-8224-4455121ee9b0",
    "_uuid": "d629ff2d2480ee46fbb7e2d37f6b5fab8052498a",
    "papermill": {
     "duration": 0.119652,
     "end_time": "2020-11-13T10:24:15.426894",
     "exception": false,
     "start_time": "2020-11-13T10:24:15.307242",
     "status": "completed"
    },
    "tags": []
   },
   "outputs": [],
   "source": [
    "input_dir = \"/kaggle/input/nlp-getting-started\"\n",
    "train = pd.read_csv('train.csv')\n",
    "test = pd.read_csv('test.csv')\n",
    "df=pd.concat([train,test])"
   ]
  },
  {
   "cell_type": "markdown",
   "metadata": {
    "papermill": {
     "duration": 0.027788,
     "end_time": "2020-11-13T10:24:15.482964",
     "exception": false,
     "start_time": "2020-11-13T10:24:15.455176",
     "status": "completed"
    },
    "tags": []
   },
   "source": [
    "### Collect some key metrics:\n",
    "\n",
    "Lets compute the following metrics for the training dataset, to get a global view of the dataset\n",
    "\n",
    "* Number of samples: Total number of examples \n",
    "* Number of samples per class: Number of samples per class (rean disaster /non real disaster).\n",
    "* Number of words per sample: Median or mean number of words in one sample.\n",
    "* Frequency distribution of words: Distribution showing the frequency (number of occurrences) of each word in the dataset.\n",
    "* Distribution of sample length: Distribution showing the number of words per sample in the dataset.\n",
    "\n",
    "((( source https://developers.google.com/machine-learning/guides/text-classification/step-2)))"
   ]
  },
  {
   "cell_type": "code",
   "execution_count": 62,
   "metadata": {
    "papermill": {
     "duration": 0.095394,
     "end_time": "2020-11-13T10:24:15.606678",
     "exception": false,
     "start_time": "2020-11-13T10:24:15.511284",
     "status": "completed"
    },
    "tags": []
   },
   "outputs": [
    {
     "data": {
      "text/html": [
       "<div>\n",
       "<style scoped>\n",
       "    .dataframe tbody tr th:only-of-type {\n",
       "        vertical-align: middle;\n",
       "    }\n",
       "\n",
       "    .dataframe tbody tr th {\n",
       "        vertical-align: top;\n",
       "    }\n",
       "\n",
       "    .dataframe thead th {\n",
       "        text-align: right;\n",
       "    }\n",
       "</style>\n",
       "<table border=\"1\" class=\"dataframe\">\n",
       "  <thead>\n",
       "    <tr style=\"text-align: right;\">\n",
       "      <th></th>\n",
       "      <th>metric</th>\n",
       "      <th>value</th>\n",
       "    </tr>\n",
       "  </thead>\n",
       "  <tbody>\n",
       "    <tr>\n",
       "      <th>0</th>\n",
       "      <td>samples</td>\n",
       "      <td>7613.0</td>\n",
       "    </tr>\n",
       "    <tr>\n",
       "      <th>1</th>\n",
       "      <td>samples_per_class</td>\n",
       "      <td>3806.5</td>\n",
       "    </tr>\n",
       "    <tr>\n",
       "      <th>2</th>\n",
       "      <td>median_of_samples_lengths</td>\n",
       "      <td>15.0</td>\n",
       "    </tr>\n",
       "  </tbody>\n",
       "</table>\n",
       "</div>"
      ],
      "text/plain": [
       "                      metric   value\n",
       "0                    samples  7613.0\n",
       "1          samples_per_class  3806.5\n",
       "2  median_of_samples_lengths    15.0"
      ]
     },
     "execution_count": 62,
     "metadata": {},
     "output_type": "execute_result"
    }
   ],
   "source": [
    "key_metrics= {'samples' : len(train),\n",
    "             'samples_per_class' : train['target'].value_counts().median(),\n",
    "             'median_of_samples_lengths': np.median(train['text'].str.split().map(lambda x: len(x))),\n",
    "             }\n",
    "key_metrics = pd.DataFrame.from_dict(key_metrics, orient='index').reset_index()\n",
    "key_metrics.columns = ['metric', 'value']\n",
    "key_metrics"
   ]
  },
  {
   "cell_type": "markdown",
   "metadata": {
    "papermill": {
     "duration": 0.028442,
     "end_time": "2020-11-13T10:24:15.665232",
     "exception": false,
     "start_time": "2020-11-13T10:24:15.636790",
     "status": "completed"
    },
    "tags": []
   },
   "source": [
    "Some plots are always more comprehensive than numbers, so lets visulize and discover some useful insights\n",
    "### Target class distribution with a bar plot"
   ]
  },
  {
   "cell_type": "code",
   "execution_count": 63,
   "metadata": {
    "papermill": {
     "duration": 0.19607,
     "end_time": "2020-11-13T10:24:15.889950",
     "exception": false,
     "start_time": "2020-11-13T10:24:15.693880",
     "status": "completed"
    },
    "tags": []
   },
   "outputs": [
    {
     "name": "stderr",
     "output_type": "stream",
     "text": [
      "G:\\anaconda\\lib\\site-packages\\seaborn\\_decorators.py:36: FutureWarning: Pass the following variable as a keyword arg: x. From version 0.12, the only valid positional argument will be `data`, and passing other arguments without an explicit keyword will result in an error or misinterpretation.\n",
      "  warnings.warn(\n"
     ]
    },
    {
     "data": {
      "text/plain": [
       "<AxesSubplot:xlabel='target', ylabel='count'>"
      ]
     },
     "execution_count": 63,
     "metadata": {},
     "output_type": "execute_result"
    },
    {
     "data": {
      "image/png": "[encoded data removed]",
      "text/plain": [
       "<Figure size 432x288 with 1 Axes>"
      ]
     },
     "metadata": {},
     "output_type": "display_data"
    }
   ],
   "source": [
    "green = '#52BE80'\n",
    "red = '#EC7063'\n",
    "sns.countplot(train['target'], palette=[green, red])\n",
    "# PS : here: https://htmlcolorcodes.com/fr/tableau-de-couleur/ => to a cheerful color table where you can get an infinity of color codes  "
   ]
  },
  {
   "cell_type": "code",
   "execution_count": 64,
   "metadata": {
    "papermill": {
     "duration": 0.050816,
     "end_time": "2020-11-13T10:24:15.971115",
     "exception": false,
     "start_time": "2020-11-13T10:24:15.920299",
     "status": "completed"
    },
    "tags": []
   },
   "outputs": [],
   "source": [
    "blue = \"#5DADE2\"\n",
    "def get_sentences_len_histogram(fig_size = (10,6), _class=None, color=blue):\n",
    "    \"\"\"make histogram of lengths of the tweets\n",
    "    * _class : consider all the dataset\n",
    "    - _class=0 only non disaster tweets\n",
    "    - _class=1 only disaster tweets\"\"\"\n",
    "    f, ax = plt.subplots(figsize=fig_size)\n",
    "    if str(_class)=='None':\n",
    "        tweets_len=train['text'].str.len()\n",
    "        ax.set_title('tweets length')\n",
    "        ax.hist(tweets_len,color=color)\n",
    "    else: \n",
    "        tweets_len=train[train['target']==_class]['text'].str.len()\n",
    "        ax.set_title(f'{_class} disaster tweets length ')\n",
    "        ax.hist(tweets_len,color=color)\n",
    "\n",
    "    return ax\n",
    "\n",
    "def get_words_count_histogram(fig_size = (10,6), _class=None, color=blue):\n",
    "    \"\"\"make histogram of lengths of the tweets\n",
    "    * _class : consider all the dataset\n",
    "    - _class=0 only non disaster tweets\n",
    "    - _class=1 only disaster tweets\"\"\"\n",
    "    f, ax = plt.subplots(figsize=fig_size)\n",
    "    if str(_class)=='None':\n",
    "        tweets_len=train['text'].str.split().map(lambda x: len(x))\n",
    "        ax.set_title('words counts by tweet')\n",
    "        ax.hist(tweets_len,color=color)\n",
    "    else: \n",
    "        tweets_len=train[train['target']==_class]['text'].str.split().map(lambda x: len(x))\n",
    "        ax.set_title(f'words counts by  \"{_class}\" disaster tweets ')\n",
    "        ax.hist(tweets_len,color=color)\n",
    "\n",
    "    return ax"
   ]
  },
  {
   "cell_type": "markdown",
   "metadata": {
    "papermill": {
     "duration": 0.029743,
     "end_time": "2020-11-13T10:24:16.030778",
     "exception": false,
     "start_time": "2020-11-13T10:24:16.001035",
     "status": "completed"
    },
    "tags": []
   },
   "source": [
    "### Histogram of text sentences lengths: \n",
    "#### a. in all the dataset"
   ]
  },
  {
   "cell_type": "code",
   "execution_count": 65,
   "metadata": {
    "papermill": {
     "duration": 0.243147,
     "end_time": "2020-11-13T10:24:16.303900",
     "exception": false,
     "start_time": "2020-11-13T10:24:16.060753",
     "status": "completed"
    },
    "tags": []
   },
   "outputs": [
    {
     "data": {
      "text/plain": [
       "<AxesSubplot:title={'center':'tweets length'}>"
      ]
     },
     "execution_count": 65,
     "metadata": {},
     "output_type": "execute_result"
    },
    {
     "data": {
      "image/png": "[encoded data removed]",
      "text/plain": [
       "<Figure size 720x432 with 1 Axes>"
      ]
     },
     "metadata": {},
     "output_type": "display_data"
    }
   ],
   "source": [
    "get_sentences_len_histogram()"
   ]
  },
  {
   "cell_type": "code",
   "execution_count": 66,
   "metadata": {
    "papermill": {
     "duration": 0.432767,
     "end_time": "2020-11-13T10:24:16.768421",
     "exception": false,
     "start_time": "2020-11-13T10:24:16.335654",
     "status": "completed"
    },
    "tags": []
   },
   "outputs": [
    {
     "data": {
      "image/png": "[encoded data removed]",
      "text/plain": [
       "<Figure size 720x432 with 1 Axes>"
      ]
     },
     "metadata": {},
     "output_type": "display_data"
    },
    {
     "data": {
      "image/png": "[encoded data removed]",
      "text/plain": [
       "<Figure size 720x432 with 1 Axes>"
      ]
     },
     "metadata": {},
     "output_type": "display_data"
    }
   ],
   "source": [
    "# two subplots\n",
    "ax1 = get_sentences_len_histogram(_class=0, color=green)\n",
    "ax1 = get_sentences_len_histogram(_class=1, color=red)"
   ]
  },
  {
   "cell_type": "markdown",
   "metadata": {
    "papermill": {
     "duration": 0.033118,
     "end_time": "2020-11-13T10:24:16.835280",
     "exception": false,
     "start_time": "2020-11-13T10:24:16.802162",
     "status": "completed"
    },
    "tags": []
   },
   "source": [
    "The Distribution of samples length is mainly concentrated between 120 to 140 characters"
   ]
  },
  {
   "cell_type": "markdown",
   "metadata": {
    "papermill": {
     "duration": 0.032894,
     "end_time": "2020-11-13T10:24:16.901495",
     "exception": false,
     "start_time": "2020-11-13T10:24:16.868601",
     "status": "completed"
    },
    "tags": []
   },
   "source": [
    "### Histogram of number of words for each tweet: \n",
    "#### a. in all the dataset\n"
   ]
  },
  {
   "cell_type": "code",
   "execution_count": 67,
   "metadata": {
    "papermill": {
     "duration": 0.428066,
     "end_time": "2020-11-13T10:24:17.363087",
     "exception": false,
     "start_time": "2020-11-13T10:24:16.935021",
     "status": "completed"
    },
    "tags": []
   },
   "outputs": [
    {
     "data": {
      "text/plain": [
       "<AxesSubplot:title={'center':'words counts by tweet'}>"
      ]
     },
     "execution_count": 67,
     "metadata": {},
     "output_type": "execute_result"
    },
    {
     "data": {
      "image/png": "[encoded data removed]",
      "text/plain": [
       "<Figure size 720x432 with 1 Axes>"
      ]
     },
     "metadata": {},
     "output_type": "display_data"
    }
   ],
   "source": [
    "get_words_count_histogram()"
   ]
  },
  {
   "cell_type": "code",
   "execution_count": 68,
   "metadata": {
    "papermill": {
     "duration": 0.47442,
     "end_time": "2020-11-13T10:24:17.872442",
     "exception": false,
     "start_time": "2020-11-13T10:24:17.398022",
     "status": "completed"
    },
    "tags": []
   },
   "outputs": [
    {
     "data": {
      "image/png": "[encoded data removed]",
      "text/plain": [
       "<Figure size 720x432 with 1 Axes>"
      ]
     },
     "metadata": {},
     "output_type": "display_data"
    },
    {
     "data": {
      "image/png": "[encoded data removed]",
      "text/plain": [
       "<Figure size 720x432 with 1 Axes>"
      ]
     },
     "metadata": {},
     "output_type": "display_data"
    }
   ],
   "source": [
    "# two subplots\n",
    "ax1 = get_words_count_histogram(_class=0, color=green)\n",
    "ax1 = get_words_count_histogram(_class=1, color=red)"
   ]
  },
  {
   "cell_type": "markdown",
   "metadata": {
    "papermill": {
     "duration": 0.036739,
     "end_time": "2020-11-13T10:24:17.946302",
     "exception": false,
     "start_time": "2020-11-13T10:24:17.909563",
     "status": "completed"
    },
    "tags": []
   },
   "source": [
    "## Text cleaning:\n",
    "\n",
    "we can apply some basic data cleaning that are recurrent in tweeters such as removing punctuation, html tags urls and emojis, spelling correction,.."
   ]
  },
  {
   "cell_type": "code",
   "execution_count": 69,
   "metadata": {
    "papermill": {
     "duration": 0.052773,
     "end_time": "2020-11-13T10:24:18.035874",
     "exception": false,
     "start_time": "2020-11-13T10:24:17.983101",
     "status": "completed"
    },
    "tags": []
   },
   "outputs": [],
   "source": [
    "from string import digits \n",
    "\n",
    "def tweets_cleaning(x, remove_emojis=True, remove_stop_words=True):\n",
    "    \"\"\"Apply function to a \"\"\"\n",
    "    x = x.lower().strip()\n",
    "    # romove urls\n",
    "    url = re.compile(r'https?://\\S+|www\\.\\S+')\n",
    "    x = url.sub(r'',x)\n",
    "    # remove html tags\n",
    "    html = re.compile(r'<.*?>')\n",
    "    x = html.sub(r'',x)\n",
    "    # remove punctuation\n",
    "    operator = str.maketrans('','',string.punctuation) #????\n",
    "    x = x.translate(operator)\n",
    "    # remove digits\n",
    "    remove_digits = str.maketrans('', '', digits) \n",
    "    x = ' '.join([i.translate(remove_digits) for i in x.split()])\n",
    "    \n",
    "    if remove_emojis:\n",
    "        x = x.encode('ascii', 'ignore').decode('utf8').strip()\n",
    "    if remove_stop_words:\n",
    "        x = ' '.join([word for word in x.split(' ') if word not in stop])\n",
    "    return x"
   ]
  },
  {
   "cell_type": "code",
   "execution_count": 70,
   "metadata": {
    "papermill": {
     "duration": 0.40315,
     "end_time": "2020-11-13T10:24:18.476603",
     "exception": false,
     "start_time": "2020-11-13T10:24:18.073453",
     "status": "completed"
    },
    "tags": []
   },
   "outputs": [],
   "source": [
    "df['cleaned_tweets'] = df['text'].apply(tweets_cleaning)"
   ]
  },
  {
   "cell_type": "code",
   "execution_count": 71,
   "metadata": {},
   "outputs": [
    {
     "data": {
      "text/html": [
       "<div>\n",
       "<style scoped>\n",
       "    .dataframe tbody tr th:only-of-type {\n",
       "        vertical-align: middle;\n",
       "    }\n",
       "\n",
       "    .dataframe tbody tr th {\n",
       "        vertical-align: top;\n",
       "    }\n",
       "\n",
       "    .dataframe thead th {\n",
       "        text-align: right;\n",
       "    }\n",
       "</style>\n",
       "<table border=\"1\" class=\"dataframe\">\n",
       "  <thead>\n",
       "    <tr style=\"text-align: right;\">\n",
       "      <th></th>\n",
       "      <th>id</th>\n",
       "      <th>keyword</th>\n",
       "      <th>location</th>\n",
       "      <th>text</th>\n",
       "      <th>target</th>\n",
       "      <th>cleaned_tweets</th>\n",
       "    </tr>\n",
       "  </thead>\n",
       "  <tbody>\n",
       "    <tr>\n",
       "      <th>0</th>\n",
       "      <td>1</td>\n",
       "      <td>NaN</td>\n",
       "      <td>NaN</td>\n",
       "      <td>Our Deeds are the Reason of this #earthquake M...</td>\n",
       "      <td>1.0</td>\n",
       "      <td>deeds reason earthquake may allah forgive us</td>\n",
       "    </tr>\n",
       "    <tr>\n",
       "      <th>1</th>\n",
       "      <td>4</td>\n",
       "      <td>NaN</td>\n",
       "      <td>NaN</td>\n",
       "      <td>Forest fire near La Ronge Sask. Canada</td>\n",
       "      <td>1.0</td>\n",
       "      <td>forest fire near la ronge sask canada</td>\n",
       "    </tr>\n",
       "    <tr>\n",
       "      <th>2</th>\n",
       "      <td>5</td>\n",
       "      <td>NaN</td>\n",
       "      <td>NaN</td>\n",
       "      <td>All residents asked to 'shelter in place' are ...</td>\n",
       "      <td>1.0</td>\n",
       "      <td>residents asked shelter place notified officer...</td>\n",
       "    </tr>\n",
       "    <tr>\n",
       "      <th>3</th>\n",
       "      <td>6</td>\n",
       "      <td>NaN</td>\n",
       "      <td>NaN</td>\n",
       "      <td>13,000 people receive #wildfires evacuation or...</td>\n",
       "      <td>1.0</td>\n",
       "      <td>people receive wildfires evacuation orders cal...</td>\n",
       "    </tr>\n",
       "    <tr>\n",
       "      <th>4</th>\n",
       "      <td>7</td>\n",
       "      <td>NaN</td>\n",
       "      <td>NaN</td>\n",
       "      <td>Just got sent this photo from Ruby #Alaska as ...</td>\n",
       "      <td>1.0</td>\n",
       "      <td>got sent photo ruby alaska smoke wildfires pou...</td>\n",
       "    </tr>\n",
       "    <tr>\n",
       "      <th>...</th>\n",
       "      <td>...</td>\n",
       "      <td>...</td>\n",
       "      <td>...</td>\n",
       "      <td>...</td>\n",
       "      <td>...</td>\n",
       "      <td>...</td>\n",
       "    </tr>\n",
       "    <tr>\n",
       "      <th>3258</th>\n",
       "      <td>10861</td>\n",
       "      <td>NaN</td>\n",
       "      <td>NaN</td>\n",
       "      <td>EARTHQUAKE SAFETY LOS ANGELES ÛÒ SAFETY FASTE...</td>\n",
       "      <td>NaN</td>\n",
       "      <td>earthquake safety los angeles  safety fastener...</td>\n",
       "    </tr>\n",
       "    <tr>\n",
       "      <th>3259</th>\n",
       "      <td>10865</td>\n",
       "      <td>NaN</td>\n",
       "      <td>NaN</td>\n",
       "      <td>Storm in RI worse than last hurricane. My city...</td>\n",
       "      <td>NaN</td>\n",
       "      <td>storm ri worse last hurricane cityampothers ha...</td>\n",
       "    </tr>\n",
       "    <tr>\n",
       "      <th>3260</th>\n",
       "      <td>10868</td>\n",
       "      <td>NaN</td>\n",
       "      <td>NaN</td>\n",
       "      <td>Green Line derailment in Chicago http://t.co/U...</td>\n",
       "      <td>NaN</td>\n",
       "      <td>green line derailment chicago</td>\n",
       "    </tr>\n",
       "    <tr>\n",
       "      <th>3261</th>\n",
       "      <td>10874</td>\n",
       "      <td>NaN</td>\n",
       "      <td>NaN</td>\n",
       "      <td>MEG issues Hazardous Weather Outlook (HWO) htt...</td>\n",
       "      <td>NaN</td>\n",
       "      <td>meg issues hazardous weather outlook hwo</td>\n",
       "    </tr>\n",
       "    <tr>\n",
       "      <th>3262</th>\n",
       "      <td>10875</td>\n",
       "      <td>NaN</td>\n",
       "      <td>NaN</td>\n",
       "      <td>#CityofCalgary has activated its Municipal Eme...</td>\n",
       "      <td>NaN</td>\n",
       "      <td>cityofcalgary activated municipal emergency pl...</td>\n",
       "    </tr>\n",
       "  </tbody>\n",
       "</table>\n",
       "<p>10876 rows × 6 columns</p>\n",
       "</div>"
      ],
      "text/plain": [
       "         id keyword location  \\\n",
       "0         1     NaN      NaN   \n",
       "1         4     NaN      NaN   \n",
       "2         5     NaN      NaN   \n",
       "3         6     NaN      NaN   \n",
       "4         7     NaN      NaN   \n",
       "...     ...     ...      ...   \n",
       "3258  10861     NaN      NaN   \n",
       "3259  10865     NaN      NaN   \n",
       "3260  10868     NaN      NaN   \n",
       "3261  10874     NaN      NaN   \n",
       "3262  10875     NaN      NaN   \n",
       "\n",
       "                                                   text  target  \\\n",
       "0     Our Deeds are the Reason of this #earthquake M...     1.0   \n",
       "1                Forest fire near La Ronge Sask. Canada     1.0   \n",
       "2     All residents asked to 'shelter in place' are ...     1.0   \n",
       "3     13,000 people receive #wildfires evacuation or...     1.0   \n",
       "4     Just got sent this photo from Ruby #Alaska as ...     1.0   \n",
       "...                                                 ...     ...   \n",
       "3258  EARTHQUAKE SAFETY LOS ANGELES ÛÒ SAFETY FASTE...     NaN   \n",
       "3259  Storm in RI worse than last hurricane. My city...     NaN   \n",
       "3260  Green Line derailment in Chicago http://t.co/U...     NaN   \n",
       "3261  MEG issues Hazardous Weather Outlook (HWO) htt...     NaN   \n",
       "3262  #CityofCalgary has activated its Municipal Eme...     NaN   \n",
       "\n",
       "                                         cleaned_tweets  \n",
       "0          deeds reason earthquake may allah forgive us  \n",
       "1                 forest fire near la ronge sask canada  \n",
       "2     residents asked shelter place notified officer...  \n",
       "3     people receive wildfires evacuation orders cal...  \n",
       "4     got sent photo ruby alaska smoke wildfires pou...  \n",
       "...                                                 ...  \n",
       "3258  earthquake safety los angeles  safety fastener...  \n",
       "3259  storm ri worse last hurricane cityampothers ha...  \n",
       "3260                      green line derailment chicago  \n",
       "3261           meg issues hazardous weather outlook hwo  \n",
       "3262  cityofcalgary activated municipal emergency pl...  \n",
       "\n",
       "[10876 rows x 6 columns]"
      ]
     },
     "execution_count": 71,
     "metadata": {},
     "output_type": "execute_result"
    }
   ],
   "source": [
    "df"
   ]
  },
  {
   "cell_type": "code",
   "execution_count": 72,
   "metadata": {
    "papermill": {
     "duration": 0.052879,
     "end_time": "2020-11-13T10:24:18.567040",
     "exception": false,
     "start_time": "2020-11-13T10:24:18.514161",
     "status": "completed"
    },
    "tags": []
   },
   "outputs": [
    {
     "name": "stderr",
     "output_type": "stream",
     "text": [
      "<ipython-input-72-de70b1d2b7a9>:2: SettingWithCopyWarning: \n",
      "A value is trying to be set on a copy of a slice from a DataFrame.\n",
      "Try using .loc[row_indexer,col_indexer] = value instead\n",
      "\n",
      "See the caveats in the documentation: https://pandas.pydata.org/pandas-docs/stable/user_guide/indexing.html#returning-a-view-versus-a-copy\n",
      "  train['target'] = list(train['target'].astype(int))\n"
     ]
    }
   ],
   "source": [
    "train = df[~df['target'].isna()]\n",
    "train['target'] = list(train['target'].astype(int))\n",
    "test = df[df['target'].isna()]"
   ]
  },
  {
   "cell_type": "markdown",
   "metadata": {
    "papermill": {
     "duration": 0.039076,
     "end_time": "2020-11-13T10:24:18.644376",
     "exception": false,
     "start_time": "2020-11-13T10:24:18.605300",
     "status": "completed"
    },
    "tags": []
   },
   "source": [
    "### train validation test split:"
   ]
  },
  {
   "cell_type": "code",
   "execution_count": 73,
   "metadata": {
    "papermill": {
     "duration": 0.054071,
     "end_time": "2020-11-13T10:24:18.739582",
     "exception": false,
     "start_time": "2020-11-13T10:24:18.685511",
     "status": "completed"
    },
    "tags": []
   },
   "outputs": [
    {
     "name": "stdout",
     "output_type": "stream",
     "text": [
      "Shape of train (6090, 6)\n",
      "Shape of Validation  (1523, 6)\n"
     ]
    }
   ],
   "source": [
    "# lets keep a part a validation subset that will be used by our model\n",
    "X_train, X_val, y_train, y_val = train_test_split(train, train['target'], test_size=0.2, random_state=42)\n",
    "print('Shape of train',X_train.shape)\n",
    "print(\"Shape of Validation \",X_val.shape)"
   ]
  },
  {
   "cell_type": "markdown",
   "metadata": {
    "papermill": {
     "duration": 0.038241,
     "end_time": "2020-11-13T10:24:18.817497",
     "exception": false,
     "start_time": "2020-11-13T10:24:18.779256",
     "status": "completed"
    },
    "tags": []
   },
   "source": [
    "## Text pre-processing\n",
    "\n",
    "1. Tokenization \n",
    "It consists in dividing the texts into words or smaller sub-texts, allowing us to determine the \"vocabulary\" of the dataset (set of unique tokens present in the data). Usually we use word-level representation. For our exemple we will use NLTK Tokenizer()\n",
    "2. Word indexing:\n",
    "Construct a vocablary_index mapper based on word frequency: the index would be inversely proportional to the word occurrence frequency in the overall dataset. the most frequent world would have index=1.. And every single word would get a unique\n"
   ]
  },
  {
   "cell_type": "code",
   "execution_count": 74,
   "metadata": {
    "papermill": {
     "duration": 0.49816,
     "end_time": "2020-11-13T10:24:19.354353",
     "exception": false,
     "start_time": "2020-11-13T10:24:18.856193",
     "status": "completed"
    },
    "tags": []
   },
   "outputs": [],
   "source": [
    "from keras.preprocessing import sequence\n",
    "from keras.preprocessing import text\n",
    "\n",
    "# Vectorization parameters\n",
    "# Limit on the number of features. We use the top 20K features.\n",
    "TOP_K = 20000\n",
    "\n",
    "# Limit on the length of text sequences. \n",
    "# Sequences longer than this will be truncated.\n",
    "# and less than it will be padded\n",
    "MAX_SEQUENCE_LENGTH = 50\n",
    "\n",
    "class CustomTokenizer:\n",
    "    def __init__(self, train_texts):\n",
    "        self.train_texts = train_texts\n",
    "        self.tokenizer = Tokenizer(num_words=TOP_K)\n",
    "        \n",
    "    def train_tokenize(self):\n",
    "        # Get max sequence length.\n",
    "        max_length = len(max(self.train_texts , key=len))\n",
    "        self.max_length = min(max_length, MAX_SEQUENCE_LENGTH)\n",
    "    \n",
    "        # Create vocabulary with training texts.\n",
    "        self.tokenizer.fit_on_texts(self.train_texts)\n",
    "        \n",
    "    def vectorize_input(self, tweets):\n",
    "        # Vectorize training and validation texts.\n",
    "        \n",
    "        tweets = self.tokenizer.texts_to_sequences(tweets)\n",
    "        # Fix sequence length to max value. Sequences shorter than the length are\n",
    "        # padded in the beginning and sequences longer are truncated\n",
    "        # at the beginning.\n",
    "        tweets = sequence.pad_sequences(tweets, maxlen=self.max_length, truncating='post',padding='post')\n",
    "        return tweets\n",
    "    \n",
    "tokenizer = CustomTokenizer(train_texts = X_train['cleaned_tweets'])\n",
    "# fit o the train\n",
    "tokenizer.train_tokenize()\n",
    "tokenized_train = tokenizer.vectorize_input(X_train['cleaned_tweets'])\n",
    "tokenized_val = tokenizer.vectorize_input(X_val['cleaned_tweets'])\n",
    "tokenized_test = tokenizer.vectorize_input(test['cleaned_tweets'])"
   ]
  },
  {
   "cell_type": "code",
   "execution_count": 75,
   "metadata": {},
   "outputs": [
    {
     "data": {
      "text/plain": [
       "4996    courageous honest analysis need use atomic bom...\n",
       "3263    zachzaidman thescore wld b shame golf cart bec...\n",
       "4907    tell barackobama rescind medals honor given us...\n",
       "2855    worried ca drought might affect extreme weathe...\n",
       "4716    youngheroesid lava blast amp power red panther...\n",
       "                              ...                        \n",
       "5226    eganator arent many obliteration servers alway...\n",
       "5390    panic attack bc dont enough money drugs alcoho...\n",
       "860     omron hemc automatic blood pressure monitor st...\n",
       "7603    officials say quarantine place alabama home po...\n",
       "7270    moved england five years ago today whirlwind time\n",
       "Name: cleaned_tweets, Length: 6090, dtype: object"
      ]
     },
     "execution_count": 75,
     "metadata": {},
     "output_type": "execute_result"
    }
   ],
   "source": [
    "X_train['cleaned_tweets']"
   ]
  },
  {
   "cell_type": "code",
   "execution_count": 76,
   "metadata": {},
   "outputs": [
    {
     "data": {
      "text/plain": [
       "array([[ 5424,  3591,  2210, ...,     0,     0,     0],\n",
       "       [ 5425,  5426,  5427, ...,     0,     0,     0],\n",
       "       [  482,  2746,  5429, ...,     0,     0,     0],\n",
       "       ...,\n",
       "       [14575, 14576,  1578, ...,     0,     0,     0],\n",
       "       [  456,    60,   396, ...,     0,     0,     0],\n",
       "       [ 1872,  1550,  1037, ...,     0,     0,     0]])"
      ]
     },
     "execution_count": 76,
     "metadata": {},
     "output_type": "execute_result"
    }
   ],
   "source": [
    "tokenized_train"
   ]
  },
  {
   "cell_type": "code",
   "execution_count": 77,
   "metadata": {},
   "outputs": [
    {
     "data": {
      "text/plain": [
       "(6090, 50)"
      ]
     },
     "execution_count": 77,
     "metadata": {},
     "output_type": "execute_result"
    }
   ],
   "source": [
    "tokenized_train.shape"
   ]
  },
  {
   "cell_type": "code",
   "execution_count": 78,
   "metadata": {},
   "outputs": [
    {
     "data": {
      "text/plain": [
       "(1523, 50)"
      ]
     },
     "execution_count": 78,
     "metadata": {},
     "output_type": "execute_result"
    }
   ],
   "source": [
    "tokenized_val.shape"
   ]
  },
  {
   "cell_type": "code",
   "execution_count": 79,
   "metadata": {},
   "outputs": [
    {
     "data": {
      "text/plain": [
       "(3263, 50)"
      ]
     },
     "execution_count": 79,
     "metadata": {},
     "output_type": "execute_result"
    }
   ],
   "source": [
    "tokenized_test.shape"
   ]
  },
  {
   "cell_type": "code",
   "execution_count": 80,
   "metadata": {},
   "outputs": [
    {
     "data": {
      "text/plain": [
       "array([[2091,  519,  741, 1804, 4288, 3297,    0,    0,    0,    0,    0,\n",
       "           0,    0,    0,    0,    0,    0,    0,    0,    0,    0,    0,\n",
       "           0,    0,    0,    0,    0,    0,    0,    0,    0,    0,    0,\n",
       "           0,    0,    0,    0,    0,    0,    0,    0,    0,    0,    0,\n",
       "           0,    0,    0,    0,    0,    0]])"
      ]
     },
     "execution_count": 80,
     "metadata": {},
     "output_type": "execute_result"
    }
   ],
   "source": [
    "tokenizer.vectorize_input([\"In supervised learning, each data point is labeled or associated with a category or value of interest.\"])"
   ]
  },
  {
   "cell_type": "markdown",
   "metadata": {
    "papermill": {
     "duration": 0.038332,
     "end_time": "2020-11-13T10:24:19.431430",
     "exception": false,
     "start_time": "2020-11-13T10:24:19.393098",
     "status": "completed"
    },
    "tags": []
   },
   "source": [
    "## Construct an embedding Matrix 🧱\n",
    "First of we will download Glove pre-trained embedding from the official site:"
   ]
  },
  {
   "cell_type": "code",
   "execution_count": 81,
   "metadata": {
    "papermill": {
     "duration": 929.692998,
     "end_time": "2020-11-13T10:39:49.163328",
     "exception": false,
     "start_time": "2020-11-13T10:24:19.470330",
     "status": "completed"
    },
    "tags": []
   },
   "outputs": [
    {
     "data": {
      "text/plain": [
       "'import requests\\nimport zipfile\\nURL = \"http://nlp.stanford.edu/data/glove.42B.300d.zip\"\\n\\n\\n\\ndef fetch_data(url=URL, target_file=\\'glove.zip\\', delete_zip=False):\\n    #if the dataset already exists exit\\n    if os.path.isfile(target_file):\\n        print(\"datasets already downloded :) \")\\n        return\\n\\n    #download (large) zip file\\n    #for large https request on stream mode to avoid out of memory issues\\n    #see : http://masnun.com/2016/09/18/python-using-the-requests-module-to-download-large-files-efficiently.html\\n    print(\"**************************\")\\n    print(\"  Downloading zip file\")\\n    print(\"  >_<  Please wait >_< \")\\n    print(\"**************************\")\\n    response = requests.get(url, stream=True)\\n    #read chunk by chunk\\n    handle = open(target_file, \"wb\")\\n    for chunk in tqdm.tqdm(response.iter_content(chunk_size=512)):\\n        if chunk:  \\n            handle.write(chunk)\\n    handle.close()  \\n    print(\"  Download completed ;) :\") \\n    #extract zip_file\\n    zf = zipfile.ZipFile(target_file)\\n    print(\"1. Extracting {} file\".format(target_file))\\n    zf.extractall()\\n    if delete_zip:\\n        print(\"2. Deleting {} file\".format(dataset_name+\".zip\"))\\n        os.remove(path=zip_file)\\n        \\nfetch_data()'"
      ]
     },
     "execution_count": 81,
     "metadata": {},
     "output_type": "execute_result"
    }
   ],
   "source": [
    "import tqdm\n",
    "'''import requests\n",
    "import zipfile\n",
    "URL = \"http://nlp.stanford.edu/data/glove.42B.300d.zip\"\n",
    "\n",
    "\n",
    "\n",
    "def fetch_data(url=URL, target_file='glove.zip', delete_zip=False):\n",
    "    #if the dataset already exists exit\n",
    "    if os.path.isfile(target_file):\n",
    "        print(\"datasets already downloded :) \")\n",
    "        return\n",
    "\n",
    "    #download (large) zip file\n",
    "    #for large https request on stream mode to avoid out of memory issues\n",
    "    #see : http://masnun.com/2016/09/18/python-using-the-requests-module-to-download-large-files-efficiently.html\n",
    "    print(\"**************************\")\n",
    "    print(\"  Downloading zip file\")\n",
    "    print(\"  >_<  Please wait >_< \")\n",
    "    print(\"**************************\")\n",
    "    response = requests.get(url, stream=True)\n",
    "    #read chunk by chunk\n",
    "    handle = open(target_file, \"wb\")\n",
    "    for chunk in tqdm.tqdm(response.iter_content(chunk_size=512)):\n",
    "        if chunk:  \n",
    "            handle.write(chunk)\n",
    "    handle.close()  \n",
    "    print(\"  Download completed ;) :\") \n",
    "    #extract zip_file\n",
    "    zf = zipfile.ZipFile(target_file)\n",
    "    print(\"1. Extracting {} file\".format(target_file))\n",
    "    zf.extractall()\n",
    "    if delete_zip:\n",
    "        print(\"2. Deleting {} file\".format(dataset_name+\".zip\"))\n",
    "        os.remove(path=zip_file)\n",
    "        \n",
    "fetch_data()'''"
   ]
  },
  {
   "cell_type": "markdown",
   "metadata": {
    "papermill": {
     "duration": 3.620863,
     "end_time": "2020-11-13T10:39:54.599032",
     "exception": false,
     "start_time": "2020-11-13T10:39:50.978169",
     "status": "completed"
    },
    "tags": []
   },
   "source": [
    "Then we will create an embedding matrix we will map each word index to its corresponding embedding vector:"
   ]
  },
  {
   "cell_type": "code",
   "execution_count": 82,
   "metadata": {
    "papermill": {
     "duration": 51.236249,
     "end_time": "2020-11-13T10:40:47.555196",
     "exception": false,
     "start_time": "2020-11-13T10:39:56.318947",
     "status": "completed"
    },
    "tags": []
   },
   "outputs": [
    {
     "name": "stderr",
     "output_type": "stream",
     "text": [
      "100%|███████████████████████████████████████████████████████████████████████████████████████████████████████████████████████████████████████████████████████████████████| 14579/14579 [00:00<00:00, 540761.40it/s]"
     ]
    },
    {
     "name": "stdout",
     "output_type": "stream",
     "text": [
      "(14580, 50)\n"
     ]
    },
    {
     "name": "stderr",
     "output_type": "stream",
     "text": [
      "\n"
     ]
    }
   ],
   "source": [
    "glove_file = \"G:\\spark_big_files\\glove.42B\\glove.42B.300d.txt\"\n",
    "\n",
    "\n",
    "EMBEDDING_VECTOR_LENGTH = 50 # <=200\n",
    "def construct_embedding_matrix(glove_file, word_index):\n",
    "    embedding_dict = {}\n",
    "    with open(glove_file,'rb') as f:\n",
    "        for line in f:\n",
    "            values=line.split()\n",
    "            # get the word\n",
    "            word=values[0]\n",
    "            if word in word_index.keys():\n",
    "                # get the vector\n",
    "                vector = np.asarray(values[1:], 'float32')\n",
    "                embedding_dict[word] = vector\n",
    "    ###  oov words (out of vacabulary words) will be mapped to 0 vectors\n",
    "\n",
    "    num_words=len(word_index)+1\n",
    "    #initialize it to 0\n",
    "    embedding_matrix=np.zeros((num_words, EMBEDDING_VECTOR_LENGTH))\n",
    "\n",
    "    for word,i in tqdm.tqdm(word_index.items()):\n",
    "        if i < num_words:\n",
    "            vect=embedding_dict.get(word, [])\n",
    "            if len(vect)>0:\n",
    "                embedding_matrix[i] = vect[:EMBEDDING_VECTOR_LENGTH]\n",
    "    return embedding_matrix\n",
    "\n",
    "embedding_matrix =  construct_embedding_matrix(glove_file, tokenizer.tokenizer.word_index)\n",
    "print(embedding_matrix.shape)"
   ]
  },
  {
   "cell_type": "markdown",
   "metadata": {
    "papermill": {
     "duration": 0.574382,
     "end_time": "2020-11-13T10:40:48.697059",
     "exception": false,
     "start_time": "2020-11-13T10:40:48.122677",
     "status": "completed"
    },
    "tags": []
   },
   "source": [
    "In addition to the accuracy, we will add the precision, recall and F1-score as backend metrics to binary Keras Classifier model: we have to calculate them manually, because these metrics are not supported by keras since 2.0 version."
   ]
  },
  {
   "cell_type": "code",
   "execution_count": 83,
   "metadata": {
    "papermill": {
     "duration": 0.598476,
     "end_time": "2020-11-13T10:40:49.879646",
     "exception": false,
     "start_time": "2020-11-13T10:40:49.281170",
     "status": "completed"
    },
    "tags": []
   },
   "outputs": [],
   "source": [
    "#https://datascience.stackexchange.com/questions/45165/how-to-get-accuracy-f1-precision-and-recall-for-a-keras-model\n",
    "\n",
    "from keras import backend as K\n",
    "\n",
    "def recall_m(y_true, y_pred):\n",
    "    true_positives = K.sum(K.round(K.clip(y_true * y_pred, 0, 1)))\n",
    "    possible_positives = K.sum(K.round(K.clip(y_true, 0, 1)))\n",
    "    recall = true_positives / (possible_positives + K.epsilon())\n",
    "    return recall\n",
    "\n",
    "def precision_m(y_true, y_pred):\n",
    "    true_positives = K.sum(K.round(K.clip(y_true * y_pred, 0, 1)))\n",
    "    predicted_positives = K.sum(K.round(K.clip(y_pred, 0, 1)))\n",
    "    precision = true_positives / (predicted_positives + K.epsilon())\n",
    "    return precision\n",
    "\n",
    "def f1_m(y_true, y_pred):\n",
    "    precision = precision_m(y_true, y_pred)\n",
    "    recall = recall_m(y_true, y_pred)\n",
    "    return 2*((precision*recall)/(precision+recall+K.epsilon()))"
   ]
  },
  {
   "cell_type": "markdown",
   "metadata": {
    "papermill": {
     "duration": 0.583202,
     "end_time": "2020-11-13T10:40:51.054001",
     "exception": false,
     "start_time": "2020-11-13T10:40:50.470799",
     "status": "completed"
    },
    "tags": []
   },
   "source": [
    "Lets create the model"
   ]
  },
  {
   "cell_type": "code",
   "execution_count": 84,
   "metadata": {
    "papermill": {
     "duration": 1.068191,
     "end_time": "2020-11-13T10:40:52.709053",
     "exception": false,
     "start_time": "2020-11-13T10:40:51.640862",
     "status": "completed"
    },
    "tags": []
   },
   "outputs": [],
   "source": [
    "model=Sequential()\n",
    "optimzer=Adam(clipvalue=0.5)\n",
    "\n",
    "embedding=Embedding(len(tokenizer.tokenizer.word_index)+1, EMBEDDING_VECTOR_LENGTH, embeddings_initializer=Constant(embedding_matrix),\n",
    "                   input_length=MAX_SEQUENCE_LENGTH, trainable=False)\n",
    "\n",
    "model.add(embedding)\n",
    "model.add(Dropout(0.2))\n",
    "#model.add(Dense(30, activation='relu'))#, kernel_constraint=maxnorm(3)))\n",
    "model.add(LSTM(64, dropout=0.2, recurrent_dropout=0.5))\n",
    "model.add(Dense(1, activation='sigmoid'))\n",
    "# compile the model\n",
    "model.compile(optimizer=optimzer, loss='binary_crossentropy', metrics=['acc',f1_m,precision_m, recall_m])"
   ]
  },
  {
   "cell_type": "markdown",
   "metadata": {
    "papermill": {
     "duration": 0.571152,
     "end_time": "2020-11-13T10:40:53.854530",
     "exception": false,
     "start_time": "2020-11-13T10:40:53.283378",
     "status": "completed"
    },
    "tags": []
   },
   "source": [
    "### fit the model"
   ]
  },
  {
   "cell_type": "code",
   "execution_count": 85,
   "metadata": {
    "papermill": {
     "duration": 208.445728,
     "end_time": "2020-11-13T10:44:22.872460",
     "exception": false,
     "start_time": "2020-11-13T10:40:54.426732",
     "status": "completed"
    },
    "tags": []
   },
   "outputs": [
    {
     "name": "stdout",
     "output_type": "stream",
     "text": [
      "Epoch 1/20\n",
      "191/191 - 18s - loss: 0.6860 - acc: 0.5677 - f1_m: 0.0299 - precision_m: 0.0225 - recall_m: 0.0462 - val_loss: 0.6823 - val_acc: 0.5739 - val_f1_m: 0.0000e+00 - val_precision_m: 0.0000e+00 - val_recall_m: 0.0000e+00 - 18s/epoch - 94ms/step\n",
      "Epoch 2/20\n",
      "191/191 - 5s - loss: 0.6837 - acc: 0.5695 - f1_m: 0.0000e+00 - precision_m: 0.0000e+00 - recall_m: 0.0000e+00 - val_loss: 0.6822 - val_acc: 0.5739 - val_f1_m: 0.0000e+00 - val_precision_m: 0.0000e+00 - val_recall_m: 0.0000e+00 - 5s/epoch - 25ms/step\n",
      "Epoch 3/20\n",
      "191/191 - 5s - loss: 0.6838 - acc: 0.5695 - f1_m: 0.0000e+00 - precision_m: 0.0000e+00 - recall_m: 0.0000e+00 - val_loss: 0.6823 - val_acc: 0.5739 - val_f1_m: 0.0000e+00 - val_precision_m: 0.0000e+00 - val_recall_m: 0.0000e+00 - 5s/epoch - 26ms/step\n",
      "Epoch 4/20\n",
      "191/191 - 5s - loss: 0.6836 - acc: 0.5695 - f1_m: 0.0000e+00 - precision_m: 0.0000e+00 - recall_m: 0.0000e+00 - val_loss: 0.6822 - val_acc: 0.5739 - val_f1_m: 0.0000e+00 - val_precision_m: 0.0000e+00 - val_recall_m: 0.0000e+00 - 5s/epoch - 27ms/step\n",
      "Epoch 5/20\n",
      "191/191 - 6s - loss: 0.6839 - acc: 0.5695 - f1_m: 0.0000e+00 - precision_m: 0.0000e+00 - recall_m: 0.0000e+00 - val_loss: 0.6823 - val_acc: 0.5739 - val_f1_m: 0.0000e+00 - val_precision_m: 0.0000e+00 - val_recall_m: 0.0000e+00 - 6s/epoch - 33ms/step\n",
      "Epoch 6/20\n",
      "191/191 - 6s - loss: 0.6837 - acc: 0.5695 - f1_m: 0.0000e+00 - precision_m: 0.0000e+00 - recall_m: 0.0000e+00 - val_loss: 0.6829 - val_acc: 0.5739 - val_f1_m: 0.0000e+00 - val_precision_m: 0.0000e+00 - val_recall_m: 0.0000e+00 - 6s/epoch - 30ms/step\n",
      "Epoch 7/20\n",
      "191/191 - 6s - loss: 0.6839 - acc: 0.5695 - f1_m: 0.0000e+00 - precision_m: 0.0000e+00 - recall_m: 0.0000e+00 - val_loss: 0.6824 - val_acc: 0.5739 - val_f1_m: 0.0000e+00 - val_precision_m: 0.0000e+00 - val_recall_m: 0.0000e+00 - 6s/epoch - 32ms/step\n",
      "Epoch 8/20\n",
      "191/191 - 7s - loss: 0.6836 - acc: 0.5695 - f1_m: 0.0000e+00 - precision_m: 0.0000e+00 - recall_m: 0.0000e+00 - val_loss: 0.6823 - val_acc: 0.5739 - val_f1_m: 0.0000e+00 - val_precision_m: 0.0000e+00 - val_recall_m: 0.0000e+00 - 7s/epoch - 36ms/step\n",
      "Epoch 9/20\n",
      "191/191 - 6s - loss: 0.6838 - acc: 0.5695 - f1_m: 0.0000e+00 - precision_m: 0.0000e+00 - recall_m: 0.0000e+00 - val_loss: 0.6828 - val_acc: 0.5739 - val_f1_m: 0.0000e+00 - val_precision_m: 0.0000e+00 - val_recall_m: 0.0000e+00 - 6s/epoch - 34ms/step\n",
      "Epoch 10/20\n",
      "191/191 - 6s - loss: 0.6838 - acc: 0.5695 - f1_m: 0.0000e+00 - precision_m: 0.0000e+00 - recall_m: 0.0000e+00 - val_loss: 0.6823 - val_acc: 0.5739 - val_f1_m: 0.0000e+00 - val_precision_m: 0.0000e+00 - val_recall_m: 0.0000e+00 - 6s/epoch - 31ms/step\n",
      "Epoch 11/20\n",
      "191/191 - 6s - loss: 0.6838 - acc: 0.5695 - f1_m: 0.0000e+00 - precision_m: 0.0000e+00 - recall_m: 0.0000e+00 - val_loss: 0.6823 - val_acc: 0.5739 - val_f1_m: 0.0000e+00 - val_precision_m: 0.0000e+00 - val_recall_m: 0.0000e+00 - 6s/epoch - 30ms/step\n",
      "Epoch 12/20\n",
      "191/191 - 6s - loss: 0.6837 - acc: 0.5695 - f1_m: 0.0000e+00 - precision_m: 0.0000e+00 - recall_m: 0.0000e+00 - val_loss: 0.6822 - val_acc: 0.5739 - val_f1_m: 0.0000e+00 - val_precision_m: 0.0000e+00 - val_recall_m: 0.0000e+00 - 6s/epoch - 30ms/step\n",
      "Epoch 13/20\n",
      "191/191 - 6s - loss: 0.6839 - acc: 0.5695 - f1_m: 0.0000e+00 - precision_m: 0.0000e+00 - recall_m: 0.0000e+00 - val_loss: 0.6824 - val_acc: 0.5739 - val_f1_m: 0.0000e+00 - val_precision_m: 0.0000e+00 - val_recall_m: 0.0000e+00 - 6s/epoch - 30ms/step\n",
      "Epoch 14/20\n",
      "191/191 - 6s - loss: 0.6838 - acc: 0.5695 - f1_m: 0.0000e+00 - precision_m: 0.0000e+00 - recall_m: 0.0000e+00 - val_loss: 0.6823 - val_acc: 0.5739 - val_f1_m: 0.0000e+00 - val_precision_m: 0.0000e+00 - val_recall_m: 0.0000e+00 - 6s/epoch - 30ms/step\n",
      "Epoch 15/20\n",
      "191/191 - 6s - loss: 0.6837 - acc: 0.5695 - f1_m: 0.0000e+00 - precision_m: 0.0000e+00 - recall_m: 0.0000e+00 - val_loss: 0.6823 - val_acc: 0.5739 - val_f1_m: 0.0000e+00 - val_precision_m: 0.0000e+00 - val_recall_m: 0.0000e+00 - 6s/epoch - 31ms/step\n",
      "Epoch 16/20\n",
      "191/191 - 6s - loss: 0.6834 - acc: 0.5695 - f1_m: 0.0000e+00 - precision_m: 0.0000e+00 - recall_m: 0.0000e+00 - val_loss: 0.6827 - val_acc: 0.5739 - val_f1_m: 0.0000e+00 - val_precision_m: 0.0000e+00 - val_recall_m: 0.0000e+00 - 6s/epoch - 31ms/step\n",
      "Epoch 17/20\n",
      "191/191 - 6s - loss: 0.6840 - acc: 0.5695 - f1_m: 0.0000e+00 - precision_m: 0.0000e+00 - recall_m: 0.0000e+00 - val_loss: 0.6823 - val_acc: 0.5739 - val_f1_m: 0.0000e+00 - val_precision_m: 0.0000e+00 - val_recall_m: 0.0000e+00 - 6s/epoch - 31ms/step\n",
      "Epoch 18/20\n",
      "191/191 - 6s - loss: 0.6839 - acc: 0.5695 - f1_m: 0.0000e+00 - precision_m: 0.0000e+00 - recall_m: 0.0000e+00 - val_loss: 0.6825 - val_acc: 0.5739 - val_f1_m: 0.0000e+00 - val_precision_m: 0.0000e+00 - val_recall_m: 0.0000e+00 - 6s/epoch - 30ms/step\n",
      "Epoch 19/20\n",
      "191/191 - 7s - loss: 0.6837 - acc: 0.5695 - f1_m: 0.0000e+00 - precision_m: 0.0000e+00 - recall_m: 0.0000e+00 - val_loss: 0.6822 - val_acc: 0.5739 - val_f1_m: 0.0000e+00 - val_precision_m: 0.0000e+00 - val_recall_m: 0.0000e+00 - 7s/epoch - 35ms/step\n",
      "Epoch 20/20\n",
      "191/191 - 6s - loss: 0.6837 - acc: 0.5695 - f1_m: 0.0000e+00 - precision_m: 0.0000e+00 - recall_m: 0.0000e+00 - val_loss: 0.6822 - val_acc: 0.5739 - val_f1_m: 0.0000e+00 - val_precision_m: 0.0000e+00 - val_recall_m: 0.0000e+00 - 6s/epoch - 31ms/step\n"
     ]
    }
   ],
   "source": [
    "history=model.fit(tokenized_train,y_train, \n",
    "                  batch_size=32, epochs=20, \n",
    "                  validation_data=(tokenized_val,y_val), \n",
    "                  verbose=2)"
   ]
  },
  {
   "cell_type": "markdown",
   "metadata": {
    "papermill": {
     "duration": 0.643963,
     "end_time": "2020-11-13T10:44:24.149899",
     "exception": false,
     "start_time": "2020-11-13T10:44:23.505936",
     "status": "completed"
    },
    "tags": []
   },
   "source": [
    "\n",
    "### Model evaluation"
   ]
  },
  {
   "cell_type": "code",
   "execution_count": 86,
   "metadata": {
    "papermill": {
     "duration": 1.008176,
     "end_time": "2020-11-13T10:44:25.748445",
     "exception": false,
     "start_time": "2020-11-13T10:44:24.740269",
     "status": "completed"
    },
    "tags": []
   },
   "outputs": [],
   "source": [
    "\n",
    "loss, accuracy, f1_score, precision, recall = model.evaluate(tokenized_val, y_val, verbose=0)"
   ]
  },
  {
   "cell_type": "code",
   "execution_count": 87,
   "metadata": {
    "papermill": {
     "duration": 0.602378,
     "end_time": "2020-11-13T10:44:26.945413",
     "exception": false,
     "start_time": "2020-11-13T10:44:26.343035",
     "status": "completed"
    },
    "tags": []
   },
   "outputs": [
    {
     "name": "stdout",
     "output_type": "stream",
     "text": [
      "F1 score : 0.000\n",
      "precision : 0.000\n",
      "Recall : 0.000\n"
     ]
    }
   ],
   "source": [
    "print(f'F1 score : {\"%.3f\"%f1_score}')\n",
    "print(f'precision : {\"%.3f\"%precision}')\n",
    "print(f'Recall : {\"%.3f\"%recall}')"
   ]
  },
  {
   "cell_type": "markdown",
   "metadata": {
    "papermill": {
     "duration": 0.598024,
     "end_time": "2020-11-13T10:44:28.152899",
     "exception": false,
     "start_time": "2020-11-13T10:44:27.554875",
     "status": "completed"
    },
    "tags": []
   },
   "source": [
    "### Make new predictions:"
   ]
  },
  {
   "cell_type": "code",
   "execution_count": 88,
   "metadata": {
    "papermill": {
     "duration": 1.690084,
     "end_time": "2020-11-13T10:44:30.452145",
     "exception": false,
     "start_time": "2020-11-13T10:44:28.762061",
     "status": "completed"
    },
    "tags": []
   },
   "outputs": [
    {
     "name": "stderr",
     "output_type": "stream",
     "text": [
      "<ipython-input-88-b815e98be0d2>:2: SettingWithCopyWarning: \n",
      "A value is trying to be set on a copy of a slice from a DataFrame.\n",
      "Try using .loc[row_indexer,col_indexer] = value instead\n",
      "\n",
      "See the caveats in the documentation: https://pandas.pydata.org/pandas-docs/stable/user_guide/indexing.html#returning-a-view-versus-a-copy\n",
      "  test['scores'] = model.predict(tokenized_test)\n",
      "<ipython-input-88-b815e98be0d2>:4: SettingWithCopyWarning: \n",
      "A value is trying to be set on a copy of a slice from a DataFrame.\n",
      "Try using .loc[row_indexer,col_indexer] = value instead\n",
      "\n",
      "See the caveats in the documentation: https://pandas.pydata.org/pandas-docs/stable/user_guide/indexing.html#returning-a-view-versus-a-copy\n",
      "  test['predction'] = list(np.round(test['scores']).astype(int))\n"
     ]
    }
   ],
   "source": [
    "# generate scores\n",
    "test['scores'] = model.predict(tokenized_test)\n",
    "# generate deisions\n",
    "test['predction'] = list(np.round(test['scores']).astype(int))\n",
    "test = test.drop('target', axis=1)"
   ]
  },
  {
   "cell_type": "code",
   "execution_count": 89,
   "metadata": {
    "papermill": {
     "duration": 0.623954,
     "end_time": "2020-11-13T10:44:31.682359",
     "exception": false,
     "start_time": "2020-11-13T10:44:31.058405",
     "status": "completed"
    },
    "tags": []
   },
   "outputs": [
    {
     "data": {
      "text/html": [
       "<div>\n",
       "<style scoped>\n",
       "    .dataframe tbody tr th:only-of-type {\n",
       "        vertical-align: middle;\n",
       "    }\n",
       "\n",
       "    .dataframe tbody tr th {\n",
       "        vertical-align: top;\n",
       "    }\n",
       "\n",
       "    .dataframe thead th {\n",
       "        text-align: right;\n",
       "    }\n",
       "</style>\n",
       "<table border=\"1\" class=\"dataframe\">\n",
       "  <thead>\n",
       "    <tr style=\"text-align: right;\">\n",
       "      <th></th>\n",
       "      <th>id</th>\n",
       "      <th>keyword</th>\n",
       "      <th>location</th>\n",
       "      <th>text</th>\n",
       "      <th>cleaned_tweets</th>\n",
       "      <th>scores</th>\n",
       "      <th>predction</th>\n",
       "    </tr>\n",
       "  </thead>\n",
       "  <tbody>\n",
       "    <tr>\n",
       "      <th>0</th>\n",
       "      <td>0</td>\n",
       "      <td>NaN</td>\n",
       "      <td>NaN</td>\n",
       "      <td>Just happened a terrible car crash</td>\n",
       "      <td>happened terrible car crash</td>\n",
       "      <td>0.425578</td>\n",
       "      <td>0</td>\n",
       "    </tr>\n",
       "    <tr>\n",
       "      <th>1</th>\n",
       "      <td>2</td>\n",
       "      <td>NaN</td>\n",
       "      <td>NaN</td>\n",
       "      <td>Heard about #earthquake is different cities, s...</td>\n",
       "      <td>heard earthquake different cities stay safe ev...</td>\n",
       "      <td>0.425578</td>\n",
       "      <td>0</td>\n",
       "    </tr>\n",
       "    <tr>\n",
       "      <th>2</th>\n",
       "      <td>3</td>\n",
       "      <td>NaN</td>\n",
       "      <td>NaN</td>\n",
       "      <td>there is a forest fire at spot pond, geese are...</td>\n",
       "      <td>forest fire spot pond geese fleeing across str...</td>\n",
       "      <td>0.425578</td>\n",
       "      <td>0</td>\n",
       "    </tr>\n",
       "    <tr>\n",
       "      <th>3</th>\n",
       "      <td>9</td>\n",
       "      <td>NaN</td>\n",
       "      <td>NaN</td>\n",
       "      <td>Apocalypse lighting. #Spokane #wildfires</td>\n",
       "      <td>apocalypse lighting spokane wildfires</td>\n",
       "      <td>0.425578</td>\n",
       "      <td>0</td>\n",
       "    </tr>\n",
       "    <tr>\n",
       "      <th>4</th>\n",
       "      <td>11</td>\n",
       "      <td>NaN</td>\n",
       "      <td>NaN</td>\n",
       "      <td>Typhoon Soudelor kills 28 in China and Taiwan</td>\n",
       "      <td>typhoon soudelor kills  china taiwan</td>\n",
       "      <td>0.425578</td>\n",
       "      <td>0</td>\n",
       "    </tr>\n",
       "  </tbody>\n",
       "</table>\n",
       "</div>"
      ],
      "text/plain": [
       "   id keyword location                                               text  \\\n",
       "0   0     NaN      NaN                 Just happened a terrible car crash   \n",
       "1   2     NaN      NaN  Heard about #earthquake is different cities, s...   \n",
       "2   3     NaN      NaN  there is a forest fire at spot pond, geese are...   \n",
       "3   9     NaN      NaN           Apocalypse lighting. #Spokane #wildfires   \n",
       "4  11     NaN      NaN      Typhoon Soudelor kills 28 in China and Taiwan   \n",
       "\n",
       "                                      cleaned_tweets    scores  predction  \n",
       "0                        happened terrible car crash  0.425578          0  \n",
       "1  heard earthquake different cities stay safe ev...  0.425578          0  \n",
       "2  forest fire spot pond geese fleeing across str...  0.425578          0  \n",
       "3              apocalypse lighting spokane wildfires  0.425578          0  \n",
       "4               typhoon soudelor kills  china taiwan  0.425578          0  "
      ]
     },
     "execution_count": 89,
     "metadata": {},
     "output_type": "execute_result"
    }
   ],
   "source": [
    "test.head()"
   ]
  },
  {
   "cell_type": "code",
   "execution_count": 90,
   "metadata": {
    "papermill": {
     "duration": 0.588509,
     "end_time": "2020-11-13T10:44:32.911301",
     "exception": false,
     "start_time": "2020-11-13T10:44:32.322792",
     "status": "completed"
    },
    "tags": []
   },
   "outputs": [
    {
     "data": {
      "text/plain": [
       "<bound method IndexOpsMixin.value_counts of 0       0\n",
       "1       0\n",
       "2       0\n",
       "3       0\n",
       "4       0\n",
       "       ..\n",
       "3258    0\n",
       "3259    0\n",
       "3260    0\n",
       "3261    0\n",
       "3262    0\n",
       "Name: predction, Length: 3263, dtype: int64>"
      ]
     },
     "execution_count": 90,
     "metadata": {},
     "output_type": "execute_result"
    }
   ],
   "source": [
    "test['predction'].value_counts"
   ]
  },
  {
   "cell_type": "code",
   "execution_count": null,
   "metadata": {},
   "outputs": [],
   "source": []
  }
 ],
 "metadata": {
  "kernelspec": {
   "display_name": "Python 3",
   "language": "python",
   "name": "python3"
  },
  "language_info": {
   "codemirror_mode": {
    "name": "ipython",
    "version": 3
   },
   "file_extension": ".py",
   "mimetype": "text/x-python",
   "name": "python",
   "nbconvert_exporter": "python",
   "pygments_lexer": "ipython3",
   "version": "3.8.3"
  },
  "papermill": {
   "duration": 1230.890709,
   "end_time": "2020-11-13T10:44:33.609545",
   "environment_variables": {},
   "exception": null,
   "input_path": "__notebook__.ipynb",
   "output_path": "__notebook__.ipynb",
   "parameters": {},
   "start_time": "2020-11-13T10:24:02.718836",
   "version": "2.1.0"
  }
 },
 "nbformat": 4,
 "nbformat_minor": 4
}
