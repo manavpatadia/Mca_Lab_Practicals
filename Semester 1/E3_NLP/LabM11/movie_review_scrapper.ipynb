{
 "cells": [
  {
   "cell_type": "code",
   "execution_count": 4,
   "id": "453421c9-4beb-40ba-b27f-97fa3eec33e3",
   "metadata": {},
   "outputs": [],
   "source": [
    "import requests\n",
    "import csv\n",
    "import os\n",
    "import json\n",
    "import re\n",
    "from bs4 import BeautifulSoup \n",
    "#import mechanize\n",
    "from random import choice\n",
    "import urllib"
   ]
  },
  {
   "cell_type": "code",
   "execution_count": 5,
   "id": "ba3b333c-2d20-4b03-873c-6f13c9eb575f",
   "metadata": {},
   "outputs": [],
   "source": [
    "def all_great_movies():\n",
    "    ebert_url = \"https://www.rogerebert.com/great-movies?utf8=%E2%9C%93&filters%5Btitle%5D=&sort%5Border%5D=newest&filters%5Byears%5D%5B%5D=1914&filters%5Byears%5D%5B%5D=2020&filters%5Bstar_rating%5D%5B%5D=0.0&filters%5Bstar_rating%5D%5B%5D=4.0&filters%5Bno_stars%5D=1&page={}\"\n",
    "    curr_page = 1\n",
    "    headers = {'accept': 'application/json'}\n",
    "    while True:\n",
    "        print(\"Parsing page {}\".format(curr_page))\n",
    "        data = []\n",
    "        response = requests.get(ebert_url.format(curr_page), headers=headers) \n",
    "        data_soup = BeautifulSoup(response.json()['html'], features=\"html.parser\")\n",
    "        reviews = data_soup.find_all(\"div\", class_=\"review-stack\")\n",
    "        for review in reviews:\n",
    "            title = review.find(\"h5\", class_=\"review-stack--title\")\n",
    "            title_anchor = title.find(\"a\")\n",
    "            review_link = title_anchor['href']\n",
    "            review_text = title_anchor.text\n",
    "            data.append({\n",
    "                \"review_url\": review_link,\n",
    "                \"title\": review_text\n",
    "            })\n",
    "        if data:\n",
    "            print(\"{} movies saved\".format(len(data)))\n",
    "            with open(\"data/{}.json\".format(curr_page), 'w') as f:\n",
    "                f.write(json.dumps(data))\n",
    "            curr_page += 1\n",
    "        else:\n",
    "            break"
   ]
  },
  {
   "cell_type": "code",
   "execution_count": 7,
   "id": "09f32a13-1485-4a8f-b638-0ba9c66ba132",
   "metadata": {},
   "outputs": [
    {
     "name": "stdout",
     "output_type": "stream",
     "text": [
      "Parsing page 1\n",
      "24 movies saved\n",
      "Parsing page 2\n",
      "24 movies saved\n",
      "Parsing page 3\n",
      "24 movies saved\n",
      "Parsing page 4\n",
      "24 movies saved\n",
      "Parsing page 5\n",
      "24 movies saved\n",
      "Parsing page 6\n",
      "24 movies saved\n",
      "Parsing page 7\n",
      "24 movies saved\n",
      "Parsing page 8\n",
      "24 movies saved\n",
      "Parsing page 9\n",
      "24 movies saved\n",
      "Parsing page 10\n",
      "24 movies saved\n",
      "Parsing page 11\n",
      "24 movies saved\n",
      "Parsing page 12\n",
      "24 movies saved\n",
      "Parsing page 13\n",
      "24 movies saved\n",
      "Parsing page 14\n",
      "24 movies saved\n",
      "Parsing page 15\n",
      "24 movies saved\n",
      "Parsing page 16\n",
      "1 movies saved\n",
      "Parsing page 17\n"
     ]
    }
   ],
   "source": [
    "all_great_movies()"
   ]
  },
  {
   "cell_type": "code",
   "execution_count": null,
   "id": "6c30fc72-85c7-4767-92c7-4988c54e4128",
   "metadata": {},
   "outputs": [],
   "source": []
  }
 ],
 "metadata": {
  "kernelspec": {
   "display_name": "Python 3",
   "language": "python",
   "name": "python3"
  },
  "language_info": {
   "codemirror_mode": {
    "name": "ipython",
    "version": 3
   },
   "file_extension": ".py",
   "mimetype": "text/x-python",
   "name": "python",
   "nbconvert_exporter": "python",
   "pygments_lexer": "ipython3",
   "version": "3.8.3"
  }
 },
 "nbformat": 4,
 "nbformat_minor": 5
}
