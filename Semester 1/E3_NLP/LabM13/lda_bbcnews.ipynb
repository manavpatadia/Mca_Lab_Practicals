{
 "cells": [
  {
   "cell_type": "code",
   "execution_count": 1,
   "metadata": {
    "colab": {
     "base_uri": "https://localhost:8080/"
    },
    "executionInfo": {
     "elapsed": 8006,
     "status": "ok",
     "timestamp": 1645740486132,
     "user": {
      "displayName": "Jayashree Nair Amrita",
      "photoUrl": "https://lh3.googleusercontent.com/a-/AOh14GgzYPSTna-kMk1cwmGaEmC3Cr4SYV4sgvsris4n=s64",
      "userId": "01666137879339816248"
     },
     "user_tz": -330
    },
    "id": "Mpg_ukukgT3c",
    "outputId": "c75431c8-f3a2-4a06-84c4-94c56921d28e"
   },
   "outputs": [],
   "source": [
    "#!pip install --upgrade gensim"
   ]
  },
  {
   "cell_type": "code",
   "execution_count": 2,
   "metadata": {
    "colab": {
     "base_uri": "https://localhost:8080/",
     "height": 206
    },
    "executionInfo": {
     "elapsed": 1502,
     "status": "ok",
     "timestamp": 1645740521431,
     "user": {
      "displayName": "Jayashree Nair Amrita",
      "photoUrl": "https://lh3.googleusercontent.com/a-/AOh14GgzYPSTna-kMk1cwmGaEmC3Cr4SYV4sgvsris4n=s64",
      "userId": "01666137879339816248"
     },
     "user_tz": -330
    },
    "id": "MrRWDSO1hNif",
    "outputId": "736484f2-a636-4654-dd3a-3e5c661b7267"
   },
   "outputs": [
    {
     "data": {
      "text/html": [
       "<div>\n",
       "<style scoped>\n",
       "    .dataframe tbody tr th:only-of-type {\n",
       "        vertical-align: middle;\n",
       "    }\n",
       "\n",
       "    .dataframe tbody tr th {\n",
       "        vertical-align: top;\n",
       "    }\n",
       "\n",
       "    .dataframe thead th {\n",
       "        text-align: right;\n",
       "    }\n",
       "</style>\n",
       "<table border=\"1\" class=\"dataframe\">\n",
       "  <thead>\n",
       "    <tr style=\"text-align: right;\">\n",
       "      <th></th>\n",
       "      <th>category</th>\n",
       "      <th>text</th>\n",
       "    </tr>\n",
       "  </thead>\n",
       "  <tbody>\n",
       "    <tr>\n",
       "      <th>0</th>\n",
       "      <td>tech</td>\n",
       "      <td>tv future in the hands of viewers with home th...</td>\n",
       "    </tr>\n",
       "    <tr>\n",
       "      <th>1</th>\n",
       "      <td>business</td>\n",
       "      <td>worldcom boss  left books alone  former worldc...</td>\n",
       "    </tr>\n",
       "    <tr>\n",
       "      <th>2</th>\n",
       "      <td>sport</td>\n",
       "      <td>tigers wary of farrell  gamble  leicester say ...</td>\n",
       "    </tr>\n",
       "    <tr>\n",
       "      <th>3</th>\n",
       "      <td>sport</td>\n",
       "      <td>yeading face newcastle in fa cup premiership s...</td>\n",
       "    </tr>\n",
       "    <tr>\n",
       "      <th>4</th>\n",
       "      <td>entertainment</td>\n",
       "      <td>ocean s twelve raids box office ocean s twelve...</td>\n",
       "    </tr>\n",
       "  </tbody>\n",
       "</table>\n",
       "</div>"
      ],
      "text/plain": [
       "        category                                               text\n",
       "0           tech  tv future in the hands of viewers with home th...\n",
       "1       business  worldcom boss  left books alone  former worldc...\n",
       "2          sport  tigers wary of farrell  gamble  leicester say ...\n",
       "3          sport  yeading face newcastle in fa cup premiership s...\n",
       "4  entertainment  ocean s twelve raids box office ocean s twelve..."
      ]
     },
     "execution_count": 2,
     "metadata": {},
     "output_type": "execute_result"
    }
   ],
   "source": [
    "import pandas as pd\n",
    "df = pd.read_csv('bbc-text.csv')\n",
    "df.head()"
   ]
  },
  {
   "cell_type": "code",
   "execution_count": 3,
   "metadata": {
    "colab": {
     "base_uri": "https://localhost:8080/"
    },
    "executionInfo": {
     "elapsed": 3411,
     "status": "ok",
     "timestamp": 1645740524829,
     "user": {
      "displayName": "Jayashree Nair Amrita",
      "photoUrl": "https://lh3.googleusercontent.com/a-/AOh14GgzYPSTna-kMk1cwmGaEmC3Cr4SYV4sgvsris4n=s64",
      "userId": "01666137879339816248"
     },
     "user_tz": -330
    },
    "id": "ixx_Y6y6hWZQ",
    "outputId": "f3d1efed-90e7-4fb5-9502-37a914c18bdf"
   },
   "outputs": [],
   "source": [
    "%run preprocess.ipynb"
   ]
  },
  {
   "cell_type": "code",
   "execution_count": 4,
   "metadata": {
    "colab": {
     "base_uri": "https://localhost:8080/"
    },
    "executionInfo": {
     "elapsed": 20617,
     "status": "ok",
     "timestamp": 1645740545436,
     "user": {
      "displayName": "Jayashree Nair Amrita",
      "photoUrl": "https://lh3.googleusercontent.com/a-/AOh14GgzYPSTna-kMk1cwmGaEmC3Cr4SYV4sgvsris4n=s64",
      "userId": "01666137879339816248"
     },
     "user_tz": -330
    },
    "id": "T_Ivhqefia2r",
    "outputId": "70cb852e-2881-4201-977c-4737af46cdf6"
   },
   "outputs": [
    {
     "name": "stdout",
     "output_type": "stream",
     "text": [
      "Wall time: 22.7 s\n"
     ]
    }
   ],
   "source": [
    "%%time\n",
    "df['clean_text'] = df['text'].apply(preprocess2)"
   ]
  },
  {
   "cell_type": "code",
   "execution_count": 5,
   "metadata": {
    "id": "Xqvi9w-ROlXK"
   },
   "outputs": [],
   "source": [
    "df.to_csv(\"bbc_preprocessed2.csv\")"
   ]
  },
  {
   "cell_type": "code",
   "execution_count": 6,
   "metadata": {
    "colab": {
     "base_uri": "https://localhost:8080/",
     "height": 519
    },
    "executionInfo": {
     "elapsed": 36,
     "status": "ok",
     "timestamp": 1645740547280,
     "user": {
      "displayName": "Jayashree Nair Amrita",
      "photoUrl": "https://lh3.googleusercontent.com/a-/AOh14GgzYPSTna-kMk1cwmGaEmC3Cr4SYV4sgvsris4n=s64",
      "userId": "01666137879339816248"
     },
     "user_tz": -330
    },
    "id": "bdoq86EIldI3",
    "outputId": "999450c1-de50-4f0e-a955-c287c2469e72"
   },
   "outputs": [
    {
     "data": {
      "text/html": [
       "<div>\n",
       "<style scoped>\n",
       "    .dataframe tbody tr th:only-of-type {\n",
       "        vertical-align: middle;\n",
       "    }\n",
       "\n",
       "    .dataframe tbody tr th {\n",
       "        vertical-align: top;\n",
       "    }\n",
       "\n",
       "    .dataframe thead th {\n",
       "        text-align: right;\n",
       "    }\n",
       "</style>\n",
       "<table border=\"1\" class=\"dataframe\">\n",
       "  <thead>\n",
       "    <tr style=\"text-align: right;\">\n",
       "      <th></th>\n",
       "      <th>category</th>\n",
       "      <th>text</th>\n",
       "      <th>clean_text</th>\n",
       "    </tr>\n",
       "  </thead>\n",
       "  <tbody>\n",
       "    <tr>\n",
       "      <th>0</th>\n",
       "      <td>tech</td>\n",
       "      <td>tv future in the hands of viewers with home th...</td>\n",
       "      <td>future viewer theatre system plasma digital re...</td>\n",
       "    </tr>\n",
       "    <tr>\n",
       "      <th>1</th>\n",
       "      <td>business</td>\n",
       "      <td>worldcom boss  left books alone  former worldc...</td>\n",
       "      <td>worldcom former worldcom bernie ebbers accused...</td>\n",
       "    </tr>\n",
       "    <tr>\n",
       "      <th>2</th>\n",
       "      <td>sport</td>\n",
       "      <td>tigers wary of farrell  gamble  leicester say ...</td>\n",
       "      <td>tiger farrell gamble leicester rushed making f...</td>\n",
       "    </tr>\n",
       "    <tr>\n",
       "      <th>3</th>\n",
       "      <td>sport</td>\n",
       "      <td>yeading face newcastle in fa cup premiership s...</td>\n",
       "      <td>yeading newcastle premiership newcastle united...</td>\n",
       "    </tr>\n",
       "    <tr>\n",
       "      <th>4</th>\n",
       "      <td>entertainment</td>\n",
       "      <td>ocean s twelve raids box office ocean s twelve...</td>\n",
       "      <td>twelve office twelve sequel starring george cl...</td>\n",
       "    </tr>\n",
       "    <tr>\n",
       "      <th>5</th>\n",
       "      <td>politics</td>\n",
       "      <td>howard hits back at mongrel jibe michael howar...</td>\n",
       "      <td>howard mongrel michael howard leader acting at...</td>\n",
       "    </tr>\n",
       "    <tr>\n",
       "      <th>6</th>\n",
       "      <td>politics</td>\n",
       "      <td>blair prepares to name poll date tony blair is...</td>\n",
       "      <td>prepares likely election parliament return eas...</td>\n",
       "    </tr>\n",
       "    <tr>\n",
       "      <th>7</th>\n",
       "      <td>sport</td>\n",
       "      <td>henman hopes ended in dubai third seed tim hen...</td>\n",
       "      <td>henman henman slumped straight defeat ljubicic...</td>\n",
       "    </tr>\n",
       "    <tr>\n",
       "      <th>8</th>\n",
       "      <td>sport</td>\n",
       "      <td>wilkinson fit to face edinburgh england captai...</td>\n",
       "      <td>wilkinson edinburgh england captain wilkinson ...</td>\n",
       "    </tr>\n",
       "    <tr>\n",
       "      <th>9</th>\n",
       "      <td>entertainment</td>\n",
       "      <td>last star wars  not for children  the sixth an...</td>\n",
       "      <td>child suitable child george minute revenge dar...</td>\n",
       "    </tr>\n",
       "    <tr>\n",
       "      <th>10</th>\n",
       "      <td>entertainment</td>\n",
       "      <td>berlin cheers for anti-nazi film a german movi...</td>\n",
       "      <td>berlin cheer german resistance heroine applaus...</td>\n",
       "    </tr>\n",
       "    <tr>\n",
       "      <th>11</th>\n",
       "      <td>business</td>\n",
       "      <td>virgin blue shares plummet 20% shares in austr...</td>\n",
       "      <td>virgin share plummet share australian budget a...</td>\n",
       "    </tr>\n",
       "    <tr>\n",
       "      <th>12</th>\n",
       "      <td>business</td>\n",
       "      <td>crude oil prices back above $50 cold weather a...</td>\n",
       "      <td>price weather across united state europe pushe...</td>\n",
       "    </tr>\n",
       "    <tr>\n",
       "      <th>13</th>\n",
       "      <td>politics</td>\n",
       "      <td>hague  given up  his pm ambition former conser...</td>\n",
       "      <td>ambition former conservative leader william le...</td>\n",
       "    </tr>\n",
       "    <tr>\n",
       "      <th>14</th>\n",
       "      <td>sport</td>\n",
       "      <td>moya emotional after davis cup win carlos moya...</td>\n",
       "      <td>emotional carlos described victory highlight c...</td>\n",
       "    </tr>\n",
       "  </tbody>\n",
       "</table>\n",
       "</div>"
      ],
      "text/plain": [
       "         category                                               text  \\\n",
       "0            tech  tv future in the hands of viewers with home th...   \n",
       "1        business  worldcom boss  left books alone  former worldc...   \n",
       "2           sport  tigers wary of farrell  gamble  leicester say ...   \n",
       "3           sport  yeading face newcastle in fa cup premiership s...   \n",
       "4   entertainment  ocean s twelve raids box office ocean s twelve...   \n",
       "5        politics  howard hits back at mongrel jibe michael howar...   \n",
       "6        politics  blair prepares to name poll date tony blair is...   \n",
       "7           sport  henman hopes ended in dubai third seed tim hen...   \n",
       "8           sport  wilkinson fit to face edinburgh england captai...   \n",
       "9   entertainment  last star wars  not for children  the sixth an...   \n",
       "10  entertainment  berlin cheers for anti-nazi film a german movi...   \n",
       "11       business  virgin blue shares plummet 20% shares in austr...   \n",
       "12       business  crude oil prices back above $50 cold weather a...   \n",
       "13       politics  hague  given up  his pm ambition former conser...   \n",
       "14          sport  moya emotional after davis cup win carlos moya...   \n",
       "\n",
       "                                           clean_text  \n",
       "0   future viewer theatre system plasma digital re...  \n",
       "1   worldcom former worldcom bernie ebbers accused...  \n",
       "2   tiger farrell gamble leicester rushed making f...  \n",
       "3   yeading newcastle premiership newcastle united...  \n",
       "4   twelve office twelve sequel starring george cl...  \n",
       "5   howard mongrel michael howard leader acting at...  \n",
       "6   prepares likely election parliament return eas...  \n",
       "7   henman henman slumped straight defeat ljubicic...  \n",
       "8   wilkinson edinburgh england captain wilkinson ...  \n",
       "9   child suitable child george minute revenge dar...  \n",
       "10  berlin cheer german resistance heroine applaus...  \n",
       "11  virgin share plummet share australian budget a...  \n",
       "12  price weather across united state europe pushe...  \n",
       "13  ambition former conservative leader william le...  \n",
       "14  emotional carlos described victory highlight c...  "
      ]
     },
     "execution_count": 6,
     "metadata": {},
     "output_type": "execute_result"
    }
   ],
   "source": [
    "df.head(15)"
   ]
  },
  {
   "cell_type": "code",
   "execution_count": 7,
   "metadata": {
    "colab": {
     "base_uri": "https://localhost:8080/"
    },
    "executionInfo": {
     "elapsed": 35,
     "status": "ok",
     "timestamp": 1645740547284,
     "user": {
      "displayName": "Jayashree Nair Amrita",
      "photoUrl": "https://lh3.googleusercontent.com/a-/AOh14GgzYPSTna-kMk1cwmGaEmC3Cr4SYV4sgvsris4n=s64",
      "userId": "01666137879339816248"
     },
     "user_tz": -330
    },
    "id": "Oc7DkjHBt1nJ",
    "outputId": "0ccf6ec1-bc71-4ad4-afb3-57ca8cd32d5d"
   },
   "outputs": [
    {
     "data": {
      "text/plain": [
       "(2225, 3)"
      ]
     },
     "execution_count": 7,
     "metadata": {},
     "output_type": "execute_result"
    }
   ],
   "source": [
    "df.shape"
   ]
  },
  {
   "cell_type": "code",
   "execution_count": 8,
   "metadata": {
    "id": "Hf6cNX5XtU2I"
   },
   "outputs": [],
   "source": [
    "#need corpus as list of list\n",
    "docs =[]\n",
    "for d in df.clean_text:\n",
    "    docs.append(d.split())"
   ]
  },
  {
   "cell_type": "code",
   "execution_count": 9,
   "metadata": {
    "id": "BTI-7jBDsDVr"
   },
   "outputs": [],
   "source": [
    "# Remove rare and common tokens.\n",
    "from gensim.corpora import Dictionary\n",
    "\n",
    "# Create a dictionary representation of the documents.\n",
    "dictionary = Dictionary(docs)\n",
    "\n",
    "# Filter out words that occur less than 20 documents, or more than 50% of the documents.\n",
    "dictionary.filter_extremes(no_below=20, no_above=0.80)"
   ]
  },
  {
   "cell_type": "code",
   "execution_count": 10,
   "metadata": {
    "id": "z_iqZPQjs7HF"
   },
   "outputs": [],
   "source": [
    "# Bag-of-words representation of the documents.\n",
    "corpus = [dictionary.doc2bow(doc) for doc in docs]"
   ]
  },
  {
   "cell_type": "code",
   "execution_count": 11,
   "metadata": {
    "colab": {
     "base_uri": "https://localhost:8080/"
    },
    "executionInfo": {
     "elapsed": 15,
     "status": "ok",
     "timestamp": 1645740549821,
     "user": {
      "displayName": "Jayashree Nair Amrita",
      "photoUrl": "https://lh3.googleusercontent.com/a-/AOh14GgzYPSTna-kMk1cwmGaEmC3Cr4SYV4sgvsris4n=s64",
      "userId": "01666137879339816248"
     },
     "user_tz": -330
    },
    "id": "f6ZQW9R5PEn2",
    "outputId": "053970b9-0fa2-44cf-958c-d2bae32e1458"
   },
   "outputs": [
    {
     "name": "stdout",
     "output_type": "stream",
     "text": [
      "Dictionary(2028 unique tokens: ['according', 'advert', 'advertising', 'allows', 'already']...)\n"
     ]
    }
   ],
   "source": [
    "print(dictionary)"
   ]
  },
  {
   "cell_type": "code",
   "execution_count": 12,
   "metadata": {
    "colab": {
     "base_uri": "https://localhost:8080/"
    },
    "executionInfo": {
     "elapsed": 2590,
     "status": "ok",
     "timestamp": 1645740552401,
     "user": {
      "displayName": "Jayashree Nair Amrita",
      "photoUrl": "https://lh3.googleusercontent.com/a-/AOh14GgzYPSTna-kMk1cwmGaEmC3Cr4SYV4sgvsris4n=s64",
      "userId": "01666137879339816248"
     },
     "user_tz": -330
    },
    "id": "uZWA9So5Pwlm",
    "outputId": "970837c3-48f8-4418-c21c-c15d52742ad2"
   },
   "outputs": [
    {
     "name": "stdout",
     "output_type": "stream",
     "text": [
      "[[(0, 1), (1, 1), (2, 2), (3, 1), (4, 1), (5, 1), (6, 1), (7, 1), (8, 1), (9, 1), (10, 1), (11, 3), (12, 1), (13, 2), (14, 1), (15, 1), (16, 1), (17, 1), (18, 2), (19, 1), (20, 5), (21, 2), (22, 1), (23, 1), (24, 1), (25, 3), (26, 1), (27, 1), (28, 2), (29, 4), (30, 1), (31, 1), (32, 2), (33, 1), (34, 2), (35, 1), (36, 1), (37, 1), (38, 1), (39, 1), (40, 2), (41, 2), (42, 1), (43, 1), (44, 1), (45, 1), (46, 1), (47, 1), (48, 1), (49, 2), (50, 1), (51, 2), (52, 2), (53, 1), (54, 2), (55, 1), (56, 1), (57, 1), (58, 1), (59, 1), (60, 1), (61, 1), (62, 1), (63, 2), (64, 1), (65, 3), (66, 1), (67, 1), (68, 1), (69, 1), (70, 1), (71, 1), (72, 2), (73, 1), (74, 1), (75, 1), (76, 5), (77, 1), (78, 1), (79, 7), (80, 1), (81, 1), (82, 1), (83, 1), (84, 1), (85, 1), (86, 4), (87, 1), (88, 1), (89, 1), (90, 1), (91, 1), (92, 1), (93, 1), (94, 1), (95, 1), (96, 1), (97, 3), (98, 1), (99, 1), (100, 2), (101, 2), (102, 2), (103, 1), (104, 2), (105, 1), (106, 1), (107, 1), (108, 2), (109, 1), (110, 1), (111, 5), (112, 1), (113, 1), (114, 1), (115, 1), (116, 4), (117, 1), (118, 1), (119, 1), (120, 1)], [(4, 1), (25, 1), (73, 1), (112, 2), (121, 1), (122, 5), (123, 1), (124, 2), (125, 1), (126, 1), (127, 1), (128, 1), (129, 1), (130, 1), (131, 2), (132, 1), (133, 3), (134, 1), (135, 1), (136, 1), (137, 1), (138, 1), (139, 3), (140, 2), (141, 1), (142, 1), (143, 1), (144, 1), (145, 3), (146, 1), (147, 1), (148, 1), (149, 1), (150, 1), (151, 1), (152, 1), (153, 2), (154, 2), (155, 1), (156, 2), (157, 1), (158, 1), (159, 1), (160, 1), (161, 1), (162, 1), (163, 2), (164, 1), (165, 1), (166, 1)], [(8, 1), (49, 1), (72, 1), (73, 1), (136, 1), (153, 1), (167, 1), (168, 1), (169, 1), (170, 1), (171, 1), (172, 1), (173, 1), (174, 1), (175, 1), (176, 1), (177, 1), (178, 1), (179, 1), (180, 1), (181, 2), (182, 3), (183, 3), (184, 1), (185, 1), (186, 1), (187, 1), (188, 1), (189, 1), (190, 1), (191, 1), (192, 1), (193, 1), (194, 1), (195, 1), (196, 1), (197, 1), (198, 1), (199, 1), (200, 1)], [(4, 1), (182, 3), (183, 1), (201, 2), (202, 1), (203, 1), (204, 2), (205, 1), (206, 2), (207, 1), (208, 1), (209, 1), (210, 1), (211, 2), (212, 1), (213, 1), (214, 3), (215, 1), (216, 2), (217, 2), (218, 1), (219, 1), (220, 1), (221, 3), (222, 2), (223, 1), (224, 1), (225, 1), (226, 1), (227, 3), (228, 1), (229, 1), (230, 1), (231, 1), (232, 1), (233, 1), (234, 1), (235, 2), (236, 4), (237, 2)], [(0, 1), (40, 1), (84, 1), (109, 1), (142, 1), (167, 1), (215, 1), (223, 2), (232, 1), (237, 2), (238, 1), (239, 1), (240, 1), (241, 1), (242, 1), (243, 1), (244, 1), (245, 1), (246, 1), (247, 1), (248, 1), (249, 1), (250, 1), (251, 1), (252, 1), (253, 1), (254, 1), (255, 1), (256, 3), (257, 2), (258, 2), (259, 1), (260, 1), (261, 1), (262, 2), (263, 5), (264, 3), (265, 1), (266, 1), (267, 1), (268, 1), (269, 1)]]\n"
     ]
    }
   ],
   "source": [
    "print(corpus[:5])"
   ]
  },
  {
   "cell_type": "code",
   "execution_count": 13,
   "metadata": {
    "colab": {
     "base_uri": "https://localhost:8080/"
    },
    "executionInfo": {
     "elapsed": 92,
     "status": "ok",
     "timestamp": 1645740552403,
     "user": {
      "displayName": "Jayashree Nair Amrita",
      "photoUrl": "https://lh3.googleusercontent.com/a-/AOh14GgzYPSTna-kMk1cwmGaEmC3Cr4SYV4sgvsris4n=s64",
      "userId": "01666137879339816248"
     },
     "user_tz": -330
    },
    "id": "U4SrcbhBtC6g",
    "outputId": "d1f602b0-93ae-43a7-bb21-68160e046368"
   },
   "outputs": [
    {
     "name": "stdout",
     "output_type": "stream",
     "text": [
      "Number of unique tokens: 2028\n",
      "Number of documents: 2225\n"
     ]
    }
   ],
   "source": [
    "print('Number of unique tokens: %d' % len(dictionary))\n",
    "print('Number of documents: %d' % len(corpus))"
   ]
  },
  {
   "cell_type": "code",
   "execution_count": 14,
   "metadata": {
    "colab": {
     "base_uri": "https://localhost:8080/"
    },
    "executionInfo": {
     "elapsed": 71953,
     "status": "ok",
     "timestamp": 1645740624344,
     "user": {
      "displayName": "Jayashree Nair Amrita",
      "photoUrl": "https://lh3.googleusercontent.com/a-/AOh14GgzYPSTna-kMk1cwmGaEmC3Cr4SYV4sgvsris4n=s64",
      "userId": "01666137879339816248"
     },
     "user_tz": -330
    },
    "id": "gYaT_BN1wJuI",
    "outputId": "e92e36d6-fe86-44e8-cd24-8ed5ea113989"
   },
   "outputs": [
    {
     "name": "stdout",
     "output_type": "stream",
     "text": [
      "Wall time: 1min 43s\n"
     ]
    }
   ],
   "source": [
    "%%time\n",
    "# Train LDA model.\n",
    "from gensim.models import LdaModel\n",
    "\n",
    "model = LdaModel(\n",
    "    corpus=corpus,\n",
    "    id2word=dictionary,\n",
    "    num_topics=5,\n",
    "    passes=50)"
   ]
  },
  {
   "cell_type": "code",
   "execution_count": 15,
   "metadata": {
    "id": "lUSgR_80P-Ru"
   },
   "outputs": [],
   "source": [
    "from pickle import dump\n",
    "dump(model,open(\"ldamodel.pkl\",'wb'))"
   ]
  },
  {
   "cell_type": "code",
   "execution_count": 16,
   "metadata": {
    "id": "9VRYdhrVQd_K"
   },
   "outputs": [],
   "source": [
    "from pickle import load\n",
    "model = load(open('ldamodel.pkl', 'rb'))"
   ]
  },
  {
   "cell_type": "code",
   "execution_count": 17,
   "metadata": {
    "colab": {
     "base_uri": "https://localhost:8080/"
    },
    "executionInfo": {
     "elapsed": 100,
     "status": "ok",
     "timestamp": 1645740624365,
     "user": {
      "displayName": "Jayashree Nair Amrita",
      "photoUrl": "https://lh3.googleusercontent.com/a-/AOh14GgzYPSTna-kMk1cwmGaEmC3Cr4SYV4sgvsris4n=s64",
      "userId": "01666137879339816248"
     },
     "user_tz": -330
    },
    "id": "k44V2UN8wanA",
    "outputId": "a38ff9f9-b98d-4a6e-c9a8-afddb85c37ed"
   },
   "outputs": [
    {
     "name": "stdout",
     "output_type": "stream",
     "text": [
      "[([(0.017226316, 'government'),\n",
      "   (0.015916467, 'labour'),\n",
      "   (0.015139897, 'people'),\n",
      "   (0.014762139, 'election'),\n",
      "   (0.014679633, 'minister')],\n",
      "  -0.8945996499732379),\n",
      " ([(0.023325838, 'people'),\n",
      "   (0.019686844, 'mobile'),\n",
      "   (0.016035492, 'technology'),\n",
      "   (0.011943467, 'service'),\n",
      "   (0.010295409, 'network')],\n",
      "  -1.280890209249919),\n",
      " ([(0.020250719, 'market'),\n",
      "   (0.014601627, 'growth'),\n",
      "   (0.014426746, 'economy'),\n",
      "   (0.013159131, 'dollar'),\n",
      "   (0.011827731, 'profit')],\n",
      "  -1.6414115509360225),\n",
      " ([(0.013590692, 'player'),\n",
      "   (0.011642367, 'england'),\n",
      "   (0.008016769, 'second'),\n",
      "   (0.0076094903, 'award'),\n",
      "   (0.0067853597, 'number')],\n",
      "  -1.9910380519860849),\n",
      " ([(0.023039313, 'company'),\n",
      "   (0.008952231, 'industry'),\n",
      "   (0.007996488, 'olympic'),\n",
      "   (0.0079769455, 'airline'),\n",
      "   (0.0074931243, 'shareholder')],\n",
      "  -5.281085719341737)]\n"
     ]
    }
   ],
   "source": [
    "top_topics = model.top_topics(corpus,topn=5)\n",
    "\n",
    "from pprint import pprint\n",
    "pprint(top_topics)"
   ]
  },
  {
   "cell_type": "code",
   "execution_count": 18,
   "metadata": {
    "colab": {
     "base_uri": "https://localhost:8080/"
    },
    "executionInfo": {
     "elapsed": 95,
     "status": "ok",
     "timestamp": 1645740624368,
     "user": {
      "displayName": "Jayashree Nair Amrita",
      "photoUrl": "https://lh3.googleusercontent.com/a-/AOh14GgzYPSTna-kMk1cwmGaEmC3Cr4SYV4sgvsris4n=s64",
      "userId": "01666137879339816248"
     },
     "user_tz": -330
    },
    "id": "uLho4LnX3mab",
    "outputId": "10683aa5-9941-48cc-ca73-e2e5ede9b01a"
   },
   "outputs": [
    {
     "data": {
      "text/plain": [
       "[(0,\n",
       "  '0.023*\"people\" + 0.020*\"mobile\" + 0.016*\"technology\" + 0.012*\"service\" + 0.010*\"network\" + 0.009*\"search\" + 0.009*\"computer\" + 0.009*\"information\" + 0.009*\"digital\" + 0.008*\"software\"'),\n",
       " (1,\n",
       "  '0.017*\"government\" + 0.016*\"labour\" + 0.015*\"people\" + 0.015*\"election\" + 0.015*\"minister\" + 0.010*\"public\" + 0.009*\"country\" + 0.007*\"leader\" + 0.007*\"howard\" + 0.006*\"conservative\"'),\n",
       " (2,\n",
       "  '0.014*\"player\" + 0.012*\"england\" + 0.008*\"second\" + 0.008*\"award\" + 0.007*\"number\" + 0.006*\"ireland\" + 0.006*\"british\" + 0.006*\"minute\" + 0.006*\"really\" + 0.006*\"record\"'),\n",
       " (3,\n",
       "  '0.023*\"company\" + 0.009*\"industry\" + 0.008*\"olympic\" + 0.008*\"airline\" + 0.007*\"shareholder\" + 0.007*\"holmes\" + 0.007*\"executive\" + 0.006*\"decision\" + 0.006*\"charge\" + 0.006*\"child\"'),\n",
       " (4,\n",
       "  '0.020*\"market\" + 0.015*\"growth\" + 0.014*\"economy\" + 0.013*\"dollar\" + 0.012*\"profit\" + 0.011*\"economic\" + 0.011*\"analyst\" + 0.011*\"price\" + 0.010*\"company\" + 0.010*\"figure\"')]"
      ]
     },
     "execution_count": 18,
     "metadata": {},
     "output_type": "execute_result"
    }
   ],
   "source": [
    "model.print_topics(num_words=10)"
   ]
  },
  {
   "cell_type": "code",
   "execution_count": 19,
   "metadata": {
    "colab": {
     "base_uri": "https://localhost:8080/"
    },
    "executionInfo": {
     "elapsed": 90,
     "status": "ok",
     "timestamp": 1645740624369,
     "user": {
      "displayName": "Jayashree Nair Amrita",
      "photoUrl": "https://lh3.googleusercontent.com/a-/AOh14GgzYPSTna-kMk1cwmGaEmC3Cr4SYV4sgvsris4n=s64",
      "userId": "01666137879339816248"
     },
     "user_tz": -330
    },
    "id": "mpGgCdHSw6mt",
    "outputId": "ffb67411-d8b7-4111-f494-b37c00a82d1c"
   },
   "outputs": [
    {
     "data": {
      "text/plain": [
       "5"
      ]
     },
     "execution_count": 19,
     "metadata": {},
     "output_type": "execute_result"
    }
   ],
   "source": [
    "len(top_topics)"
   ]
  },
  {
   "cell_type": "code",
   "execution_count": 20,
   "metadata": {
    "id": "hUEcVt8iz7Mg"
   },
   "outputs": [],
   "source": [
    "# Create a new corpus, made of previously unseen documents.\n",
    "other_texts = [\n",
    "    ['computer', 'time', 'mobile'],\n",
    "    ['vote', 'election', 'candidate'],\n",
    "    ['defeat', 'player', 'cup', 'england','cricket']\n",
    "]\n",
    "other_corpus = [dictionary.doc2bow(text) for text in other_texts]"
   ]
  },
  {
   "cell_type": "code",
   "execution_count": 21,
   "metadata": {
    "colab": {
     "base_uri": "https://localhost:8080/"
    },
    "executionInfo": {
     "elapsed": 86,
     "status": "ok",
     "timestamp": 1645740624372,
     "user": {
      "displayName": "Jayashree Nair Amrita",
      "photoUrl": "https://lh3.googleusercontent.com/a-/AOh14GgzYPSTna-kMk1cwmGaEmC3Cr4SYV4sgvsris4n=s64",
      "userId": "01666137879339816248"
     },
     "user_tz": -330
    },
    "id": "gwjRK6Yx10w3",
    "outputId": "3918240d-976f-46d0-a92e-e59adc41c519"
   },
   "outputs": [
    {
     "data": {
      "text/plain": [
       "[(0, 0.050210234),\n",
       " (1, 0.050039046),\n",
       " (2, 0.7997031),\n",
       " (3, 0.050001334),\n",
       " (4, 0.05004626)]"
      ]
     },
     "execution_count": 21,
     "metadata": {},
     "output_type": "execute_result"
    }
   ],
   "source": [
    "unseen_doc = other_corpus[2]\n",
    "vector = model[unseen_doc]  # get topic probability distribution for a document\n",
    "vector"
   ]
  },
  {
   "cell_type": "code",
   "execution_count": 22,
   "metadata": {
    "colab": {
     "base_uri": "https://localhost:8080/"
    },
    "executionInfo": {
     "elapsed": 83,
     "status": "ok",
     "timestamp": 1645740624373,
     "user": {
      "displayName": "Jayashree Nair Amrita",
      "photoUrl": "https://lh3.googleusercontent.com/a-/AOh14GgzYPSTna-kMk1cwmGaEmC3Cr4SYV4sgvsris4n=s64",
      "userId": "01666137879339816248"
     },
     "user_tz": -330
    },
    "id": "Vo4JV2NX0D8c",
    "outputId": "98bdb229-cef0-4c3f-9897-d2655a28dd32"
   },
   "outputs": [
    {
     "name": "stdout",
     "output_type": "stream",
     "text": [
      "[(0, 0.7333173), (1, 0.06666733), (2, 0.06666733), (3, 0.06668066), (4, 0.06666734)]\n",
      "[(0, 0.06666992), (1, 0.73294574), (2, 0.0670108), (3, 0.06667005), (4, 0.06670348)]\n",
      "[(0, 0.050210126), (1, 0.050039053), (2, 0.7997032), (3, 0.050001338), (4, 0.050046265)]\n"
     ]
    }
   ],
   "source": [
    "for d in other_corpus:\n",
    "    vector = model[d]\n",
    "    print(vector)"
   ]
  },
  {
   "cell_type": "code",
   "execution_count": 23,
   "metadata": {
    "colab": {
     "base_uri": "https://localhost:8080/"
    },
    "executionInfo": {
     "elapsed": 79,
     "status": "ok",
     "timestamp": 1645740624375,
     "user": {
      "displayName": "Jayashree Nair Amrita",
      "photoUrl": "https://lh3.googleusercontent.com/a-/AOh14GgzYPSTna-kMk1cwmGaEmC3Cr4SYV4sgvsris4n=s64",
      "userId": "01666137879339816248"
     },
     "user_tz": -330
    },
    "id": "5CpaC7CJDthR",
    "outputId": "0a27cbf1-d3fa-4bda-e6e0-b52a7d482f95"
   },
   "outputs": [
    {
     "data": {
      "text/plain": [
       "[(296, 1), (1101, 1)]"
      ]
     },
     "execution_count": 23,
     "metadata": {},
     "output_type": "execute_result"
    }
   ],
   "source": [
    "#docs[500]\n",
    "other_corpus[1]"
   ]
  },
  {
   "cell_type": "code",
   "execution_count": 24,
   "metadata": {
    "colab": {
     "base_uri": "https://localhost:8080/"
    },
    "executionInfo": {
     "elapsed": 516,
     "status": "ok",
     "timestamp": 1645741867749,
     "user": {
      "displayName": "Jayashree Nair Amrita",
      "photoUrl": "https://lh3.googleusercontent.com/a-/AOh14GgzYPSTna-kMk1cwmGaEmC3Cr4SYV4sgvsris4n=s64",
      "userId": "01666137879339816248"
     },
     "user_tz": -330
    },
    "id": "LZjwH6e9X1X9",
    "outputId": "4341b131-5d62-4365-a3ac-fb693f2e734b"
   },
   "outputs": [
    {
     "data": {
      "text/plain": [
       "[(0, 0.8213996), (3, 0.08584754), (4, 0.08998311)]"
      ]
     },
     "execution_count": 24,
     "metadata": {},
     "output_type": "execute_result"
    }
   ],
   "source": [
    "vector = model[corpus[800]]  # get topic probability distribution for a document\n",
    "vector"
   ]
  },
  {
   "cell_type": "code",
   "execution_count": 25,
   "metadata": {
    "id": "uyqwMwaBWdtE"
   },
   "outputs": [],
   "source": [
    "top = pd.DataFrame()\n",
    "top['text'] = df['text']\n",
    "top['category'] = df['category']"
   ]
  },
  {
   "cell_type": "code",
   "execution_count": 26,
   "metadata": {
    "id": "jIy8NatDXMjv"
   },
   "outputs": [],
   "source": [
    "import numpy as np"
   ]
  },
  {
   "cell_type": "code",
   "execution_count": 27,
   "metadata": {
    "id": "PXNfyyNaWoUD"
   },
   "outputs": [],
   "source": [
    "tscore=[]\n",
    "for doc in corpus:\n",
    "    vector = model[doc]\n",
    "    t = np.zeros(5,dtype=float)\n",
    "    for v in vector:\n",
    "        temp=np.around(v[1],4)\n",
    "        t[v[0]]=temp\n",
    "    tscore.append(t)\n",
    "#tscore    "
   ]
  },
  {
   "cell_type": "code",
   "execution_count": 28,
   "metadata": {
    "colab": {
     "base_uri": "https://localhost:8080/"
    },
    "executionInfo": {
     "elapsed": 74,
     "status": "ok",
     "timestamp": 1645740624383,
     "user": {
      "displayName": "Jayashree Nair Amrita",
      "photoUrl": "https://lh3.googleusercontent.com/a-/AOh14GgzYPSTna-kMk1cwmGaEmC3Cr4SYV4sgvsris4n=s64",
      "userId": "01666137879339816248"
     },
     "user_tz": -330
    },
    "id": "Rj06KnDlXYcu",
    "outputId": "858ac557-5da4-4ab2-9d4a-a428c2233d6a"
   },
   "outputs": [
    {
     "data": {
      "text/plain": [
       "5"
      ]
     },
     "execution_count": 28,
     "metadata": {},
     "output_type": "execute_result"
    }
   ],
   "source": [
    "len(tscore[3])"
   ]
  },
  {
   "cell_type": "code",
   "execution_count": 29,
   "metadata": {
    "id": "4QG8zfN3grhN"
   },
   "outputs": [],
   "source": [
    "for i in range(0,5):\n",
    "    top['t'+str(i)]= [ x[i] for x in tscore]"
   ]
  },
  {
   "cell_type": "code",
   "execution_count": 30,
   "metadata": {
    "colab": {
     "base_uri": "https://localhost:8080/",
     "height": 206
    },
    "executionInfo": {
     "elapsed": 584,
     "status": "ok",
     "timestamp": 1645742231949,
     "user": {
      "displayName": "Jayashree Nair Amrita",
      "photoUrl": "https://lh3.googleusercontent.com/a-/AOh14GgzYPSTna-kMk1cwmGaEmC3Cr4SYV4sgvsris4n=s64",
      "userId": "01666137879339816248"
     },
     "user_tz": -330
    },
    "id": "EMVOYGtRXJAe",
    "outputId": "447262e5-f960-4817-e37a-0eafc417b042"
   },
   "outputs": [
    {
     "data": {
      "text/html": [
       "<div>\n",
       "<style scoped>\n",
       "    .dataframe tbody tr th:only-of-type {\n",
       "        vertical-align: middle;\n",
       "    }\n",
       "\n",
       "    .dataframe tbody tr th {\n",
       "        vertical-align: top;\n",
       "    }\n",
       "\n",
       "    .dataframe thead th {\n",
       "        text-align: right;\n",
       "    }\n",
       "</style>\n",
       "<table border=\"1\" class=\"dataframe\">\n",
       "  <thead>\n",
       "    <tr style=\"text-align: right;\">\n",
       "      <th></th>\n",
       "      <th>text</th>\n",
       "      <th>category</th>\n",
       "      <th>t0</th>\n",
       "      <th>t1</th>\n",
       "      <th>t2</th>\n",
       "      <th>t3</th>\n",
       "      <th>t4</th>\n",
       "    </tr>\n",
       "  </thead>\n",
       "  <tbody>\n",
       "    <tr>\n",
       "      <th>524</th>\n",
       "      <td>disney backs sony dvd technology a next genera...</td>\n",
       "      <td>tech</td>\n",
       "      <td>0.8409</td>\n",
       "      <td>0.0</td>\n",
       "      <td>0.1263</td>\n",
       "      <td>0.0000</td>\n",
       "      <td>0.0275</td>\n",
       "    </tr>\n",
       "    <tr>\n",
       "      <th>2159</th>\n",
       "      <td>wal-mart is sued over rude lyrics the parents ...</td>\n",
       "      <td>entertainment</td>\n",
       "      <td>0.0000</td>\n",
       "      <td>0.0</td>\n",
       "      <td>0.0000</td>\n",
       "      <td>0.9786</td>\n",
       "      <td>0.0000</td>\n",
       "    </tr>\n",
       "    <tr>\n",
       "      <th>2103</th>\n",
       "      <td>ds aims to touch gamers the mobile gaming indu...</td>\n",
       "      <td>tech</td>\n",
       "      <td>0.7417</td>\n",
       "      <td>0.0</td>\n",
       "      <td>0.0000</td>\n",
       "      <td>0.0000</td>\n",
       "      <td>0.2539</td>\n",
       "    </tr>\n",
       "    <tr>\n",
       "      <th>474</th>\n",
       "      <td>nintendo adds media playing to ds nintendo is ...</td>\n",
       "      <td>tech</td>\n",
       "      <td>0.7213</td>\n",
       "      <td>0.0</td>\n",
       "      <td>0.0000</td>\n",
       "      <td>0.0000</td>\n",
       "      <td>0.2683</td>\n",
       "    </tr>\n",
       "    <tr>\n",
       "      <th>282</th>\n",
       "      <td>consumers  snub portable video  consumers want...</td>\n",
       "      <td>tech</td>\n",
       "      <td>0.8440</td>\n",
       "      <td>0.0</td>\n",
       "      <td>0.0000</td>\n",
       "      <td>0.0000</td>\n",
       "      <td>0.1502</td>\n",
       "    </tr>\n",
       "  </tbody>\n",
       "</table>\n",
       "</div>"
      ],
      "text/plain": [
       "                                                   text       category  \\\n",
       "524   disney backs sony dvd technology a next genera...           tech   \n",
       "2159  wal-mart is sued over rude lyrics the parents ...  entertainment   \n",
       "2103  ds aims to touch gamers the mobile gaming indu...           tech   \n",
       "474   nintendo adds media playing to ds nintendo is ...           tech   \n",
       "282   consumers  snub portable video  consumers want...           tech   \n",
       "\n",
       "          t0   t1      t2      t3      t4  \n",
       "524   0.8409  0.0  0.1263  0.0000  0.0275  \n",
       "2159  0.0000  0.0  0.0000  0.9786  0.0000  \n",
       "2103  0.7417  0.0  0.0000  0.0000  0.2539  \n",
       "474   0.7213  0.0  0.0000  0.0000  0.2683  \n",
       "282   0.8440  0.0  0.0000  0.0000  0.1502  "
      ]
     },
     "execution_count": 30,
     "metadata": {},
     "output_type": "execute_result"
    }
   ],
   "source": [
    "top.sample(5)"
   ]
  },
  {
   "cell_type": "markdown",
   "metadata": {
    "id": "Msks0G3I45Ko"
   },
   "source": [
    "#Choosing best k"
   ]
  },
  {
   "cell_type": "markdown",
   "metadata": {
    "id": "m68iVXkFBldb"
   },
   "source": [
    "https://radimrehurek.com/gensim/models/coherencemodel.html"
   ]
  },
  {
   "cell_type": "code",
   "execution_count": 31,
   "metadata": {
    "id": "xTJ-3hPDDn_d"
   },
   "outputs": [],
   "source": [
    "from gensim.models.coherencemodel import CoherenceModel"
   ]
  },
  {
   "cell_type": "code",
   "execution_count": 32,
   "metadata": {
    "id": "ffak0VuL4y9F"
   },
   "outputs": [],
   "source": [
    "def get_coherence_scores(corpus, dictionary, min, max):\n",
    "    co_scores = []\n",
    "    for i in range(min,max+1):\n",
    "        model = LdaModel(corpus=corpus, id2word=dictionary, num_topics=i,passes=10)\n",
    "        coherence_model = CoherenceModel(model=model,corpus=corpus,dictionary=dictionary,coherence='u_mass')\n",
    "        co_scores.append(coherence_model.get_coherence())\n",
    "    return co_scores"
   ]
  },
  {
   "cell_type": "code",
   "execution_count": 33,
   "metadata": {
    "colab": {
     "base_uri": "https://localhost:8080/"
    },
    "executionInfo": {
     "elapsed": 138601,
     "status": "ok",
     "timestamp": 1645740762921,
     "user": {
      "displayName": "Jayashree Nair Amrita",
      "photoUrl": "https://lh3.googleusercontent.com/a-/AOh14GgzYPSTna-kMk1cwmGaEmC3Cr4SYV4sgvsris4n=s64",
      "userId": "01666137879339816248"
     },
     "user_tz": -330
    },
    "id": "YQHgNWfw4y4M",
    "outputId": "a67e1454-01ed-47c3-e233-1a23ec801c59"
   },
   "outputs": [
    {
     "data": {
      "text/plain": [
       "[-1.838335805038572,\n",
       " -1.836370898049274,\n",
       " -1.8926113626024974,\n",
       " -1.7374939349770913,\n",
       " -2.093868432426407,\n",
       " -2.8498586840863505,\n",
       " -2.285784462314279,\n",
       " -2.313153864394497,\n",
       " -2.7172261142128407]"
      ]
     },
     "execution_count": 33,
     "metadata": {},
     "output_type": "execute_result"
    }
   ],
   "source": [
    "get_coherence_scores(corpus, dictionary, 2, 10)"
   ]
  },
  {
   "cell_type": "markdown",
   "metadata": {
    "id": "MLLLFSVMjWVU"
   },
   "source": [
    "https://pypi.org/project/pyLDAvis/"
   ]
  },
  {
   "cell_type": "code",
   "execution_count": 34,
   "metadata": {
    "colab": {
     "base_uri": "https://localhost:8080/"
    },
    "executionInfo": {
     "elapsed": 17416,
     "status": "ok",
     "timestamp": 1645740804383,
     "user": {
      "displayName": "Jayashree Nair Amrita",
      "photoUrl": "https://lh3.googleusercontent.com/a-/AOh14GgzYPSTna-kMk1cwmGaEmC3Cr4SYV4sgvsris4n=s64",
      "userId": "01666137879339816248"
     },
     "user_tz": -330
    },
    "id": "_uYfW70McEXv",
    "outputId": "c0f0e632-3c22-4e9f-b83e-9a63c2726664"
   },
   "outputs": [],
   "source": [
    "#!pip install pyldavis"
   ]
  },
  {
   "cell_type": "code",
   "execution_count": 35,
   "metadata": {
    "colab": {
     "base_uri": "https://localhost:8080/",
     "height": 992
    },
    "executionInfo": {
     "elapsed": 3500,
     "status": "ok",
     "timestamp": 1645740807870,
     "user": {
      "displayName": "Jayashree Nair Amrita",
      "photoUrl": "https://lh3.googleusercontent.com/a-/AOh14GgzYPSTna-kMk1cwmGaEmC3Cr4SYV4sgvsris4n=s64",
      "userId": "01666137879339816248"
     },
     "user_tz": -330
    },
    "id": "qvAeJb3Tb77A",
    "outputId": "bdb5dfce-990f-46c2-d11b-81ffa0fcf07f"
   },
   "outputs": [
    {
     "name": "stderr",
     "output_type": "stream",
     "text": [
      "G:\\anaconda\\lib\\site-packages\\pyLDAvis\\_prepare.py:246: FutureWarning: In a future version of pandas all arguments of DataFrame.drop except for the argument 'labels' will be keyword-only\n",
      "  default_term_info = default_term_info.sort_values(\n"
     ]
    },
    {
     "data": {
      "text/html": [
       "\n",
       "<link rel=\"stylesheet\" type=\"text/css\" href=\"https://cdn.jsdelivr.net/gh/bmabey/pyLDAvis@3.3.1/pyLDAvis/js/ldavis.v1.0.0.css\">\n",
       "\n",
       "\n",
       "<div id=\"ldavis_el752415556575134404610498184\"></div>\n",
       "<script type=\"text/javascript\">\n",
       "\n",
       "var ldavis_el752415556575134404610498184_data = {\"mdsDat\": {\"x\": [0.018569004965123655, 0.16282825257723774, 0.04056603845854851, -0.24358472293319539, 0.021621426932285255], \"y\": [-0.04256464381696767, 0.014164262402941882, -0.17575228453035663, -0.004523058649116338, 0.20867572459349873], \"topics\": [1, 2, 3, 4, 5], \"cluster\": [1, 1, 1, 1, 1], \"Freq\": [26.577601889174403, 25.73548084350782, 21.86251691072408, 14.958084861177134, 10.866315495416568]}, \"tinfo\": {\"Term\": [\"mobile\", \"company\", \"labour\", \"technology\", \"market\", \"election\", \"government\", \"minister\", \"economy\", \"growth\", \"player\", \"dollar\", \"people\", \"profit\", \"england\", \"economic\", \"price\", \"computer\", \"network\", \"digital\", \"software\", \"analyst\", \"phone\", \"award\", \"search\", \"online\", \"consumer\", \"figure\", \"information\", \"service\", \"labour\", \"tory\", \"chancellor\", \"political\", \"proposal\", \"liberal\", \"democrat\", \"immigration\", \"asylum\", \"parliament\", \"politics\", \"blunkett\", \"pension\", \"advice\", \"military\", \"argument\", \"manifesto\", \"constituency\", \"resource\", \"elected\", \"terror\", \"poverty\", \"welcomed\", \"assembly\", \"pupil\", \"climate\", \"electoral\", \"agenda\", \"pledge\", \"racist\", \"election\", \"conservative\", \"voter\", \"debate\", \"secretary\", \"education\", \"minister\", \"howard\", \"party\", \"leader\", \"government\", \"public\", \"council\", \"police\", \"cabinet\", \"general\", \"school\", \"campaign\", \"policy\", \"country\", \"people\", \"question\", \"report\", \"spokesman\", \"britain\", \"member\", \"foreign\", \"change\", \"british\", \"problem\", \"service\", \"award\", \"nomination\", \"victory\", \"chelsea\", \"arsenal\", \"singer\", \"football\", \"liverpool\", \"captain\", \"actress\", \"academy\", \"festival\", \"ceremony\", \"comedy\", \"woodward\", \"nominee\", \"honour\", \"nominated\", \"defeat\", \"robinson\", \"concert\", \"premiership\", \"oscar\", \"striker\", \"driscoll\", \"scored\", \"aviator\", \"stadium\", \"celtic\", \"newcastle\", \"winner\", \"league\", \"thomas\", \"williams\", \"england\", \"ireland\", \"injury\", \"minute\", \"player\", \"played\", \"ticket\", \"france\", \"really\", \"chance\", \"saturday\", \"career\", \"second\", \"scotland\", \"season\", \"champion\", \"single\", \"performance\", \"director\", \"manager\", \"british\", \"international\", \"record\", \"number\", \"united\", \"including\", \"return\", \"playing\", \"computer\", \"digital\", \"software\", \"phone\", \"microsoft\", \"device\", \"google\", \"machine\", \"gadget\", \"gaming\", \"broadband\", \"handset\", \"image\", \"download\", \"console\", \"mobile\", \"wireless\", \"gamers\", \"virus\", \"library\", \"portable\", \"itunes\", \"infected\", \"innovation\", \"graphic\", \"developer\", \"broadcasting\", \"handheld\", \"multimedia\", \"downloaded\", \"technology\", \"online\", \"program\", \"search\", \"camera\", \"network\", \"content\", \"internet\", \"website\", \"information\", \"version\", \"screen\", \"service\", \"people\", \"system\", \"research\", \"million\", \"number\", \"attack\", \"different\", \"company\", \"player\", \"around\", \"consumer\", \"dollar\", \"export\", \"forecast\", \"economist\", \"nintendo\", \"inflation\", \"currency\", \"output\", \"unemployment\", \"housing\", \"factory\", \"decline\", \"manufacturing\", \"banking\", \"trillion\", \"import\", \"playstation\", \"treasury\", \"carmaker\", \"expansion\", \"restructuring\", \"fiscal\", \"borrowing\", \"tourist\", \"quarterly\", \"offset\", \"revised\", \"lender\", \"sharply\", \"optimism\", \"profit\", \"price\", \"deficit\", \"growth\", \"economy\", \"retail\", \"investment\", \"analyst\", \"economic\", \"quarter\", \"earnings\", \"mortgage\", \"market\", \"revenue\", \"annual\", \"reserve\", \"strong\", \"figure\", \"budget\", \"spending\", \"expected\", \"higher\", \"december\", \"consumer\", \"increase\", \"share\", \"business\", \"however\", \"company\", \"month\", \"biggest\", \"report\", \"according\", \"january\", \"country\", \"europe\", \"record\", \"olympic\", \"airline\", \"holmes\", \"athlete\", \"lawsuit\", \"athens\", \"indoor\", \"athletics\", \"bankruptcy\", \"investigation\", \"takeover\", \"prosecutor\", \"hearing\", \"carrier\", \"distance\", \"accounting\", \"accident\", \"sprinter\", \"creditor\", \"norwich\", \"substance\", \"doping\", \"melbourne\", \"regulator\", \"filing\", \"shareholder\", \"mikhail\", \"collins\", \"deutsche\", \"hewitt\", \"construction\", \"practice\", \"russia\", \"olympics\", \"guilty\", \"parent\", \"lawyer\", \"russian\", \"company\", \"scandal\", \"charge\", \"executive\", \"industry\", \"account\", \"exchange\", \"contract\", \"agency\", \"child\", \"decision\", \"meeting\", \"financial\", \"business\", \"statement\", \"action\", \"share\", \"london\", \"former\", \"british\", \"whether\", \"market\"], \"Freq\": [816.0, 1056.0, 796.0, 675.0, 801.0, 753.0, 1018.0, 804.0, 447.0, 451.0, 899.0, 371.0, 1980.0, 346.0, 643.0, 387.0, 317.0, 356.0, 466.0, 351.0, 345.0, 362.0, 337.0, 369.0, 396.0, 325.0, 389.0, 487.0, 432.0, 786.0, 796.185715500502, 229.53981809990512, 225.433074839921, 289.6221267784342, 181.86111888005826, 173.17841639179966, 168.81780710900858, 167.27641861874085, 149.52405925667802, 148.59634240662223, 149.8021623393309, 134.53275640224166, 117.06328697126835, 103.30289132820866, 87.06832979580908, 76.64564866474427, 69.711153306933, 66.11001072209102, 66.92378660315472, 61.54289144019957, 58.728870958690706, 57.43668393454168, 58.046733409634875, 56.77149835117818, 56.64579990409169, 56.07417915507326, 54.80640971668443, 51.11180129557939, 50.56710802487127, 45.3343023457896, 738.4430459646765, 310.2237441157896, 209.1751672304137, 92.62954123004457, 309.57198733108174, 179.17332095312895, 734.315874159296, 335.2806711365161, 150.15677346913793, 363.97175951414766, 861.7080037267043, 484.6409409781951, 225.3961776724093, 199.75481256275066, 104.86362520838702, 306.8616527819507, 219.94047489994415, 287.35080795915985, 236.36996365584736, 474.7616777896053, 757.3395669245973, 190.69431009982526, 300.63665338433316, 209.86929519422753, 240.42287525287725, 211.61340846281237, 202.3554106496673, 198.51265451052288, 201.0332155598321, 195.6283628610273, 199.04354046049707, 368.5868013510871, 215.1610748892627, 198.1216288157009, 183.48813199310962, 181.23645175474383, 162.04314907139533, 162.72009895673764, 157.3870759183219, 152.13975287455364, 142.86774425506957, 136.58379976005583, 135.64759583116083, 135.1388655957938, 116.33218841797309, 116.58228488873279, 109.286451155694, 104.53413326590233, 97.66510783625013, 98.88236579417662, 94.36791360212253, 93.64491082453873, 88.13202380867388, 85.23244529520554, 80.5739868876423, 79.55149651855149, 78.354549876635, 77.71200855606035, 78.13077014985609, 77.66809280673053, 74.37591719316066, 267.6728302883501, 196.6236664405121, 97.37471578964156, 146.38197409217042, 563.9303699376106, 307.0904971513826, 223.93642051831628, 286.34755721779925, 658.3029017984261, 228.17351216051338, 126.25265920251003, 265.9488382654807, 278.2019187740513, 240.5458215601767, 176.12645846947308, 204.77167322205128, 388.31446870694356, 189.3024351041115, 189.57116249882932, 199.17096034642628, 208.14522379434982, 206.02240368742795, 260.2572939966604, 201.29294589622168, 303.64783622677453, 242.83016230446424, 270.81347175557426, 328.6677460998406, 204.62420472224727, 207.35965742677956, 198.81115344693504, 191.17218140133605, 355.3873217628322, 350.6325519555561, 344.46667631668475, 336.8442445307471, 237.15436183634517, 232.64993282655146, 202.96158365242266, 188.40274775542397, 182.2802913470995, 162.33407933368733, 151.68909618244845, 141.73310110816882, 138.09688425870607, 120.20219256627719, 113.80589417500444, 810.0805170411651, 98.91727523434184, 86.62067513861074, 81.42664489414484, 81.48241350425373, 74.68924878328676, 65.23317364712534, 61.596990329725024, 61.85228429185717, 61.427136062654036, 102.99998586588912, 60.71296540681295, 58.66627370281896, 55.47156393872856, 53.899413191891036, 659.8335007354042, 315.68194916080864, 195.70166220307667, 370.14629616956705, 258.277989948012, 423.63874988097365, 174.20630722794573, 262.78347282262484, 313.2833719937174, 354.5813259491851, 196.72458171885137, 157.24583795588046, 491.45357138515163, 959.8189956687644, 308.1843332918094, 184.21982416016965, 275.0891840587465, 321.63153341644374, 212.60642034856863, 194.95383972744386, 280.6813740124573, 240.4895948934732, 196.20493055714283, 184.46688839612355, 370.47176781849896, 154.19932619727808, 120.5359196308515, 130.8274743147386, 108.4449973416077, 92.9486447263596, 85.91127191443209, 85.23635010537164, 63.216609846721425, 62.75677495464847, 59.644828508029825, 54.5799324469417, 53.942439287989394, 50.54323614545318, 46.61372605877524, 46.328199864368806, 47.51196122193103, 47.24561475260628, 39.757541343513985, 39.84567893184221, 38.34420667373852, 34.98570636882867, 34.981412889700685, 32.137120620935086, 28.116726430273005, 27.65170986606161, 25.110296330056002, 24.648662109707267, 23.71509587403258, 21.630980472202936, 332.98858069303196, 299.1887922537245, 161.53812090878054, 411.0826791070137, 406.1592187698106, 91.92721620941529, 191.14961062633662, 301.8819245599999, 319.36935026240207, 217.70987221355284, 92.5451035728381, 73.25221418021047, 570.122742425319, 125.84221409781226, 141.94483218565273, 90.74504769983491, 206.23241271000452, 288.8496749980012, 162.55642927906086, 200.31277344608768, 257.54946489292126, 139.11964426027419, 178.5389741597768, 204.08507009245147, 175.60951040849278, 148.21531752109118, 192.36431780827021, 191.62168357265685, 293.495389842668, 170.99227017960004, 152.2963775885923, 176.22992141995266, 155.13156833709954, 148.2634044873247, 166.58689839708128, 152.86686625342807, 148.48294220175939, 163.54359657669102, 163.14390716584757, 152.43832039027188, 94.35848144809432, 87.70058804032791, 85.5695524429882, 84.23074339065927, 79.8210743478753, 68.39266953916041, 72.82892390863067, 61.22005030248017, 48.104255809264544, 40.523023482319374, 39.38726146967628, 34.04562982391828, 33.35460894624167, 30.483988893541305, 30.09939211979836, 27.832106127962078, 27.21235563977381, 26.381217757307017, 23.952981731081334, 24.119424542531924, 51.574976636635185, 14.015133762296093, 153.24883238297662, 12.987497554190623, 71.51330499439275, 97.8735349624521, 58.22505111077829, 59.19942261926331, 50.18435405400475, 112.73108977604593, 54.978393683353175, 64.26785348623365, 97.17082139810557, 70.82234363965786, 104.35073576652205, 471.19834923484393, 60.60515926725327, 125.0766526416722, 146.94810519649457, 183.09037826203135, 122.79794300686254, 99.5885766247546, 98.80744515607894, 98.12510272330394, 123.49552331271582, 129.53357813834023, 107.705582092803, 105.68828769432201, 120.81419097649514, 102.52244813623587, 110.63831076380339, 95.41714220387895, 106.31365952912556, 99.39948414352374, 103.77844887205498, 91.4824186176038, 91.78047141501509], \"Total\": [816.0, 1056.0, 796.0, 675.0, 801.0, 753.0, 1018.0, 804.0, 447.0, 451.0, 899.0, 371.0, 1980.0, 346.0, 643.0, 387.0, 317.0, 356.0, 466.0, 351.0, 345.0, 362.0, 337.0, 369.0, 396.0, 325.0, 389.0, 487.0, 432.0, 786.0, 796.9711593661709, 230.30940773716227, 226.20412601048807, 290.65754103637204, 182.64624743738275, 173.94840999311648, 169.5913062302724, 168.04548021221774, 150.29237351316937, 149.3676424631206, 150.60945252581152, 135.30143323889763, 117.83620415455796, 104.1841635819871, 87.85022769488295, 77.42341811503293, 70.4810030510781, 66.88047349772032, 67.73403297322254, 62.314310397752614, 59.50470882168857, 58.2094334894738, 58.828576049079665, 57.541985748515074, 57.416049642005206, 56.8594712334092, 55.575273953763826, 51.88554221646397, 51.34078701168576, 46.108024759429604, 753.7058814200545, 316.5848895669039, 212.77157822776715, 94.38775422617852, 322.0618038672592, 187.26134235283428, 804.871640579393, 363.1189074908427, 157.68399158690812, 402.23817925926977, 1018.7661596836647, 576.5608015109422, 255.21599419594438, 225.8200560497211, 111.24095268180675, 388.61932732538963, 263.8913338157772, 368.313264833169, 304.5222034988518, 826.6419954959257, 1980.9270975369634, 237.87057091616498, 622.3756100124506, 335.5675098160417, 471.39798682991415, 352.9779255970668, 316.04278528141714, 409.61340748176923, 641.4312337693641, 480.2328585083795, 786.7265700809671, 369.35195781585884, 215.92558834441476, 198.90171321821282, 184.2590795240116, 182.00121688279035, 162.81305405884794, 163.4936556731747, 158.15600973045727, 152.9049707282781, 143.6328980451686, 137.35032903800152, 136.41246773539828, 135.93629030506963, 117.09833876359886, 117.35275379243532, 110.05114777492189, 105.30427320956953, 98.42981290646975, 99.6585107238365, 95.13658636946576, 94.41148543055093, 88.89956863553401, 85.99692518239513, 81.33946255190754, 80.31539629156917, 79.11873633807828, 78.47678668783739, 78.89969481724349, 78.43396084583786, 75.1425664464441, 274.3241622354854, 205.21656922984963, 99.2242475353202, 152.54881837470475, 643.8601055858103, 343.6530498509783, 245.44611071203198, 323.1177333947995, 899.3914618024462, 265.5716613770486, 134.63587132975036, 328.1395756731461, 349.08184213027994, 292.74803911533667, 201.2737802102383, 242.25604578936344, 597.090732015917, 229.84509810426977, 230.36098951602327, 250.17820594390693, 271.76697727511737, 274.45455089019146, 458.57900735271005, 281.6471214829442, 641.4312337693641, 428.1968717671565, 556.7258145204235, 899.7625052920696, 328.9696293881982, 397.1870983529091, 317.9140860930584, 270.23474138133815, 356.21159877416375, 351.4481659477965, 345.28386087548125, 337.6568738363296, 237.9672393115164, 233.46716787763592, 203.78029461636115, 189.22013731094222, 183.09239765974436, 163.16442676205895, 152.50417416937773, 142.54472937600875, 138.91168811433718, 121.01883665080777, 114.62168950551236, 816.6638742201237, 99.72995864429541, 87.43486976701271, 82.23842517073328, 82.3009623224435, 75.50646003441022, 66.04540879528766, 62.41201380394588, 62.674654809481716, 62.24428300494924, 104.37614232473445, 61.540630636038564, 59.48074536100537, 56.283342292911854, 54.71561164253001, 675.9592293033966, 325.5811824823148, 203.6466060687591, 396.85183589897036, 274.381678250907, 466.11628964621656, 185.26527116632585, 296.7137830745021, 375.29572552815125, 432.212045863343, 225.60032301205874, 175.2419228558335, 786.7265700809671, 1980.9270975369634, 511.27498417324915, 249.63473976708624, 534.2552290257258, 899.7625052920696, 353.20950901656687, 322.29590609553304, 1056.3635433501322, 899.3914618024462, 424.71323645797725, 389.18347386058565, 371.27782738095215, 154.99858244030858, 121.3384639389788, 131.75553712790355, 109.29188119560087, 93.74929899651148, 86.70927318632897, 86.04790470511122, 64.02368661771807, 63.55803411543813, 60.44989113115225, 55.389728021498165, 54.744590816713156, 51.349202071243724, 47.41509246907601, 47.12770519433082, 48.33751837266637, 48.17036735198748, 40.556132533037896, 40.65731271095613, 39.14587737198536, 35.78696495973355, 35.78500964783251, 32.95994631443694, 28.921910688829726, 28.454099687632826, 25.921873130483142, 25.455261497702427, 24.51819154103487, 22.4511719136904, 346.0511241292022, 317.240522403585, 170.9535154818747, 451.01003211749753, 447.27850472447756, 98.64689015309246, 220.3897095123961, 362.63526224255685, 387.26396919862185, 262.47299713715614, 103.32612096738764, 79.89684359746265, 801.1482925536071, 148.61437906251993, 177.5606223354467, 104.7836151287271, 298.4999896933452, 487.4546759540654, 238.11458647887838, 326.4638712660107, 514.4824232585028, 210.04323811249512, 311.2070040668532, 389.18347386058565, 313.8549766074941, 244.23139308078026, 440.84427102344017, 439.8380497327528, 1056.3635433501322, 450.8812052038965, 329.597212951385, 622.3756100124506, 408.2883136927453, 332.5463317899739, 826.6419954959257, 480.81693454597865, 556.7258145204235, 164.32859116872274, 163.93151394380223, 153.22056038699668, 95.1422773164288, 88.48355487800207, 86.35423400724422, 85.01554710963048, 80.60410146934443, 69.17656552044609, 73.66747389941024, 62.004819356626996, 48.88679354832677, 41.31346235945306, 40.174933235272235, 34.84374196724645, 34.144044499147945, 31.270665678888903, 30.881287752791252, 28.62884869351556, 28.00034144971427, 27.17039896192044, 24.734836911075796, 24.920753441789692, 54.038597294481114, 14.80170727467273, 161.95120629082803, 13.775861323425588, 75.95055096218753, 105.7615519333117, 63.14749506281956, 65.9486358745659, 56.02974598192781, 134.7964587382337, 63.71671865302463, 76.58688326835266, 138.77572656317636, 93.05365108350496, 151.99920030788743, 1056.3635433501322, 76.66582267463494, 218.99006169331895, 293.4109348844528, 460.1125345839688, 242.3604536477127, 173.41573067212556, 183.94123754356372, 184.468510053076, 291.3772858795321, 394.17062587859687, 281.0568445776956, 272.89859518692265, 440.84427102344017, 278.90102379825316, 361.57332453069546, 244.23139308078026, 488.07135643057114, 394.17816754775146, 641.4312337693641, 257.40475965092475, 801.1482925536071], \"Category\": [\"Default\", \"Default\", \"Default\", \"Default\", \"Default\", \"Default\", \"Default\", \"Default\", \"Default\", \"Default\", \"Default\", \"Default\", \"Default\", \"Default\", \"Default\", \"Default\", \"Default\", \"Default\", \"Default\", \"Default\", \"Default\", \"Default\", \"Default\", \"Default\", \"Default\", \"Default\", \"Default\", \"Default\", \"Default\", \"Default\", \"Topic1\", \"Topic1\", \"Topic1\", \"Topic1\", \"Topic1\", \"Topic1\", \"Topic1\", \"Topic1\", \"Topic1\", \"Topic1\", \"Topic1\", \"Topic1\", \"Topic1\", \"Topic1\", \"Topic1\", \"Topic1\", \"Topic1\", \"Topic1\", \"Topic1\", \"Topic1\", \"Topic1\", \"Topic1\", \"Topic1\", \"Topic1\", \"Topic1\", \"Topic1\", \"Topic1\", \"Topic1\", \"Topic1\", \"Topic1\", \"Topic1\", \"Topic1\", \"Topic1\", \"Topic1\", \"Topic1\", \"Topic1\", \"Topic1\", \"Topic1\", \"Topic1\", \"Topic1\", \"Topic1\", \"Topic1\", \"Topic1\", \"Topic1\", \"Topic1\", \"Topic1\", \"Topic1\", \"Topic1\", \"Topic1\", \"Topic1\", \"Topic1\", \"Topic1\", \"Topic1\", \"Topic1\", \"Topic1\", \"Topic1\", \"Topic1\", \"Topic1\", \"Topic1\", \"Topic1\", \"Topic1\", \"Topic2\", \"Topic2\", \"Topic2\", \"Topic2\", \"Topic2\", \"Topic2\", \"Topic2\", \"Topic2\", \"Topic2\", \"Topic2\", \"Topic2\", \"Topic2\", \"Topic2\", \"Topic2\", \"Topic2\", \"Topic2\", \"Topic2\", \"Topic2\", \"Topic2\", \"Topic2\", \"Topic2\", \"Topic2\", \"Topic2\", \"Topic2\", \"Topic2\", \"Topic2\", \"Topic2\", \"Topic2\", \"Topic2\", \"Topic2\", \"Topic2\", \"Topic2\", \"Topic2\", \"Topic2\", \"Topic2\", \"Topic2\", \"Topic2\", \"Topic2\", \"Topic2\", \"Topic2\", \"Topic2\", \"Topic2\", \"Topic2\", \"Topic2\", \"Topic2\", \"Topic2\", \"Topic2\", \"Topic2\", \"Topic2\", \"Topic2\", \"Topic2\", \"Topic2\", \"Topic2\", \"Topic2\", \"Topic2\", \"Topic2\", \"Topic2\", \"Topic2\", \"Topic2\", \"Topic2\", \"Topic2\", \"Topic2\", \"Topic3\", \"Topic3\", \"Topic3\", \"Topic3\", \"Topic3\", \"Topic3\", \"Topic3\", \"Topic3\", \"Topic3\", \"Topic3\", \"Topic3\", \"Topic3\", \"Topic3\", \"Topic3\", \"Topic3\", \"Topic3\", \"Topic3\", \"Topic3\", \"Topic3\", \"Topic3\", \"Topic3\", \"Topic3\", \"Topic3\", \"Topic3\", \"Topic3\", \"Topic3\", \"Topic3\", \"Topic3\", \"Topic3\", \"Topic3\", \"Topic3\", \"Topic3\", \"Topic3\", \"Topic3\", \"Topic3\", \"Topic3\", \"Topic3\", \"Topic3\", \"Topic3\", \"Topic3\", \"Topic3\", \"Topic3\", \"Topic3\", \"Topic3\", \"Topic3\", \"Topic3\", \"Topic3\", \"Topic3\", \"Topic3\", \"Topic3\", \"Topic3\", \"Topic3\", \"Topic3\", \"Topic3\", \"Topic4\", \"Topic4\", \"Topic4\", \"Topic4\", \"Topic4\", \"Topic4\", \"Topic4\", \"Topic4\", \"Topic4\", \"Topic4\", \"Topic4\", \"Topic4\", \"Topic4\", \"Topic4\", \"Topic4\", \"Topic4\", \"Topic4\", \"Topic4\", \"Topic4\", \"Topic4\", \"Topic4\", \"Topic4\", \"Topic4\", \"Topic4\", \"Topic4\", \"Topic4\", \"Topic4\", \"Topic4\", \"Topic4\", \"Topic4\", \"Topic4\", \"Topic4\", \"Topic4\", \"Topic4\", \"Topic4\", \"Topic4\", \"Topic4\", \"Topic4\", \"Topic4\", \"Topic4\", \"Topic4\", \"Topic4\", \"Topic4\", \"Topic4\", \"Topic4\", \"Topic4\", \"Topic4\", \"Topic4\", \"Topic4\", \"Topic4\", \"Topic4\", \"Topic4\", \"Topic4\", \"Topic4\", \"Topic4\", \"Topic4\", \"Topic4\", \"Topic4\", \"Topic4\", \"Topic4\", \"Topic4\", \"Topic4\", \"Topic4\", \"Topic4\", \"Topic4\", \"Topic4\", \"Topic4\", \"Topic5\", \"Topic5\", \"Topic5\", \"Topic5\", \"Topic5\", \"Topic5\", \"Topic5\", \"Topic5\", \"Topic5\", \"Topic5\", \"Topic5\", \"Topic5\", \"Topic5\", \"Topic5\", \"Topic5\", \"Topic5\", \"Topic5\", \"Topic5\", \"Topic5\", \"Topic5\", \"Topic5\", \"Topic5\", \"Topic5\", \"Topic5\", \"Topic5\", \"Topic5\", \"Topic5\", \"Topic5\", \"Topic5\", \"Topic5\", \"Topic5\", \"Topic5\", \"Topic5\", \"Topic5\", \"Topic5\", \"Topic5\", \"Topic5\", \"Topic5\", \"Topic5\", \"Topic5\", \"Topic5\", \"Topic5\", \"Topic5\", \"Topic5\", \"Topic5\", \"Topic5\", \"Topic5\", \"Topic5\", \"Topic5\", \"Topic5\", \"Topic5\", \"Topic5\", \"Topic5\", \"Topic5\", \"Topic5\", \"Topic5\", \"Topic5\", \"Topic5\", \"Topic5\", \"Topic5\"], \"logprob\": [30.0, 29.0, 28.0, 27.0, 26.0, 25.0, 24.0, 23.0, 22.0, 21.0, 20.0, 19.0, 18.0, 17.0, 16.0, 15.0, 14.0, 13.0, 12.0, 11.0, 10.0, 9.0, 8.0, 7.0, 6.0, 5.0, 4.0, 3.0, 2.0, 1.0, -4.1404, -5.3842, -5.4022, -5.1517, -5.617, -5.6659, -5.6914, -5.7006, -5.8128, -5.819, -5.8109, -5.9184, -6.0575, -6.1826, -6.3535, -6.481, -6.5759, -6.6289, -6.6167, -6.7005, -6.7473, -6.7696, -6.759, -6.7812, -6.7834, -6.7936, -6.8164, -6.8862, -6.8969, -7.0062, -4.2157, -5.0829, -5.4771, -6.2916, -5.085, -5.6319, -4.2213, -5.0053, -5.8086, -4.9232, -4.0613, -4.6368, -5.4024, -5.5231, -6.1676, -5.0938, -5.4269, -5.1595, -5.3548, -4.6574, -4.1904, -5.5696, -5.1143, -5.4737, -5.3378, -5.4655, -5.5102, -5.5294, -5.5168, -5.544, -5.5267, -4.8784, -5.4166, -5.4992, -5.5759, -5.5882, -5.7002, -5.696, -5.7293, -5.7632, -5.8261, -5.8711, -5.878, -5.8817, -6.0316, -6.0294, -6.0941, -6.1385, -6.2065, -6.1941, -6.2408, -6.2485, -6.3092, -6.3427, -6.3989, -6.4116, -6.4268, -6.435, -6.4297, -6.4356, -6.4789, -5.1983, -5.5067, -6.2095, -5.8018, -4.4531, -5.0609, -5.3767, -5.1308, -4.2984, -5.3579, -5.9498, -5.2047, -5.1597, -5.3051, -5.6168, -5.4661, -4.8262, -5.5447, -5.5433, -5.4939, -5.4498, -5.4601, -5.2264, -5.4833, -5.0722, -5.2957, -5.1866, -4.993, -5.4669, -5.4536, -5.4957, -5.5349, -4.7517, -4.7652, -4.7829, -4.8053, -5.1562, -5.1754, -5.3119, -5.3864, -5.4194, -5.5353, -5.6031, -5.671, -5.697, -5.8358, -5.8904, -3.9278, -6.0307, -6.1634, -6.2252, -6.2246, -6.3116, -6.447, -6.5043, -6.5002, -6.5071, -5.9902, -6.5188, -6.5531, -6.6091, -6.6378, -4.133, -4.8702, -5.3483, -4.711, -5.0709, -4.5761, -5.4647, -5.0536, -4.8778, -4.754, -5.3431, -5.5671, -4.4276, -3.7582, -4.8942, -5.4088, -5.0078, -4.8515, -5.2655, -5.3522, -4.9877, -5.1423, -5.3458, -5.4075, -4.3306, -5.2072, -5.4535, -5.3715, -5.5592, -5.7134, -5.7921, -5.8, -6.0988, -6.1062, -6.157, -6.2458, -6.2575, -6.3226, -6.4035, -6.4097, -6.3844, -6.3901, -6.5626, -6.5604, -6.5988, -6.6905, -6.6906, -6.7754, -6.9091, -6.9257, -7.0221, -7.0407, -7.0793, -7.1713, -4.4373, -4.5443, -5.1607, -4.2266, -4.2387, -5.7244, -4.9924, -4.5354, -4.4791, -4.8623, -5.7177, -5.9515, -3.8996, -5.4104, -5.29, -5.7374, -4.9164, -4.5795, -5.1544, -4.9455, -4.6942, -5.3101, -5.0606, -4.9269, -5.0772, -5.2468, -4.986, -4.9899, -4.5636, -5.1038, -5.2196, -5.0736, -5.2011, -5.2464, -5.1299, -5.2158, -5.2449, -4.8288, -4.8312, -4.8991, -5.3787, -5.4519, -5.4765, -5.4923, -5.546, -5.7006, -5.6377, -5.8114, -6.0525, -6.224, -6.2524, -6.3981, -6.4186, -6.5086, -6.5213, -6.5996, -6.6222, -6.6532, -6.7497, -6.7428, -5.9828, -7.2857, -4.8938, -7.3618, -5.6559, -5.3422, -5.8615, -5.8449, -6.0101, -5.2008, -5.9189, -5.7628, -5.3494, -5.6657, -5.2781, -3.7706, -5.8215, -5.0969, -4.9358, -4.7159, -5.1153, -5.3248, -5.3327, -5.3396, -5.1096, -5.0619, -5.2464, -5.2653, -5.1316, -5.2958, -5.2196, -5.3676, -5.2594, -5.3267, -5.2836, -5.4097, -5.4064], \"loglift\": [30.0, 29.0, 28.0, 27.0, 26.0, 25.0, 24.0, 23.0, 22.0, 21.0, 20.0, 19.0, 18.0, 17.0, 16.0, 15.0, 14.0, 13.0, 12.0, 11.0, 10.0, 9.0, 8.0, 7.0, 6.0, 5.0, 4.0, 3.0, 2.0, 1.0, 1.3241, 1.3218, 1.3217, 1.3215, 1.3208, 1.3207, 1.3205, 1.3205, 1.32, 1.3199, 1.3197, 1.3194, 1.3185, 1.3166, 1.3162, 1.315, 1.3141, 1.3135, 1.3131, 1.3126, 1.312, 1.3117, 1.3117, 1.3116, 1.3116, 1.3112, 1.3112, 1.3101, 1.3099, 1.3082, 1.3046, 1.3048, 1.3081, 1.3063, 1.2855, 1.2809, 1.2334, 1.2453, 1.2762, 1.2251, 1.1577, 1.1514, 1.2009, 1.2025, 1.2661, 1.0889, 1.1429, 1.0769, 1.0718, 0.7705, 0.3636, 1.104, 0.5975, 0.8558, 0.6518, 0.8135, 0.8792, 0.6007, 0.1649, 0.427, -0.0493, 1.3552, 1.3538, 1.3534, 1.3531, 1.3531, 1.3526, 1.3526, 1.3524, 1.3523, 1.352, 1.3517, 1.3517, 1.3514, 1.3507, 1.3507, 1.3503, 1.35, 1.3495, 1.3495, 1.3492, 1.3491, 1.3486, 1.3484, 1.3478, 1.3477, 1.3476, 1.3475, 1.3475, 1.3475, 1.347, 1.3328, 1.3145, 1.3385, 1.316, 1.2247, 1.2448, 1.2656, 1.2365, 1.0452, 1.2055, 1.293, 1.1472, 1.1303, 1.1609, 1.2238, 1.1892, 0.927, 1.1632, 1.1624, 1.1293, 1.0906, 1.0705, 0.7908, 1.0214, 0.6095, 0.7901, 0.6367, 0.3502, 0.8825, 0.7073, 0.8879, 1.0112, 1.5181, 1.5181, 1.518, 1.518, 1.517, 1.5169, 1.5164, 1.5161, 1.516, 1.5153, 1.515, 1.5147, 1.5145, 1.5136, 1.5133, 1.5123, 1.5122, 1.511, 1.5105, 1.5104, 1.5095, 1.508, 1.5073, 1.5072, 1.5072, 1.5071, 1.5069, 1.5066, 1.5059, 1.5054, 1.4963, 1.4895, 1.4806, 1.4507, 1.4599, 1.4248, 1.4588, 1.399, 1.3398, 1.3224, 1.3834, 1.412, 1.0499, 0.7958, 1.0142, 1.2165, 0.8566, 0.4917, 1.0128, 1.0177, 0.195, 0.2014, 0.7481, 0.7738, 1.8977, 1.8947, 1.8933, 1.8928, 1.8921, 1.8913, 1.8907, 1.8904, 1.8872, 1.8872, 1.8865, 1.8852, 1.8852, 1.8841, 1.8829, 1.8828, 1.8827, 1.8805, 1.88, 1.8798, 1.8792, 1.8773, 1.8772, 1.8746, 1.8717, 1.8713, 1.8681, 1.8677, 1.8666, 1.8627, 1.8614, 1.8413, 1.8433, 1.8072, 1.8035, 1.8294, 1.7576, 1.7166, 1.7072, 1.7129, 1.7897, 1.8131, 1.5597, 1.7336, 1.676, 1.7561, 1.5302, 1.3766, 1.5182, 1.4115, 1.208, 1.4879, 1.3443, 1.2544, 1.3193, 1.4005, 1.0706, 1.069, 0.6192, 0.9303, 1.1279, 0.6382, 0.9322, 1.0921, 0.2981, 0.754, 0.5783, 2.2147, 2.2147, 2.2144, 2.2112, 2.2106, 2.2104, 2.2102, 2.2097, 2.2081, 2.2081, 2.2068, 2.2034, 2.2002, 2.1997, 2.1963, 2.1961, 2.194, 2.1939, 2.1913, 2.191, 2.19, 2.1874, 2.1868, 2.1728, 2.1649, 2.1643, 2.1606, 2.1593, 2.142, 2.1383, 2.1115, 2.1093, 2.0407, 2.072, 2.0441, 1.8631, 1.9465, 1.8434, 1.4122, 1.9844, 1.6594, 1.528, 1.298, 1.5396, 1.6649, 1.5981, 1.5883, 1.3611, 1.1067, 1.2603, 1.2709, 0.9251, 1.2187, 1.0353, 1.2796, 0.6954, 0.8418, 0.3981, 1.185, 0.0529]}, \"token.table\": {\"Topic\": [2, 5, 1, 3, 4, 5, 1, 3, 4, 5, 5, 1, 2, 3, 4, 5, 2, 1, 1, 4, 5, 1, 5, 3, 4, 5, 1, 2, 4, 1, 1, 2, 3, 4, 2, 1, 1, 5, 5, 5, 1, 2, 3, 2, 2, 4, 5, 1, 2, 3, 4, 5, 1, 4, 1, 2, 4, 5, 1, 2, 3, 4, 5, 3, 3, 1, 4, 1, 3, 4, 5, 1, 3, 2, 3, 1, 2, 3, 2, 2, 5, 4, 5, 2, 2, 2, 5, 1, 2, 3, 5, 1, 1, 2, 3, 4, 1, 2, 3, 5, 2, 1, 2, 3, 5, 1, 2, 5, 2, 2, 3, 4, 5, 3, 2, 1, 5, 3, 1, 1, 3, 5, 3, 4, 2, 3, 5, 1, 2, 3, 4, 5, 1, 3, 4, 1, 2, 3, 4, 5, 5, 4, 1, 4, 2, 3, 4, 5, 1, 2, 3, 4, 5, 4, 2, 2, 4, 1, 4, 5, 3, 5, 3, 1, 2, 3, 5, 3, 1, 2, 3, 4, 5, 5, 4, 5, 3, 3, 2, 1, 4, 5, 1, 4, 5, 4, 1, 4, 1, 3, 1, 1, 4, 1, 1, 2, 4, 1, 2, 3, 4, 5, 3, 4, 5, 1, 2, 3, 4, 5, 4, 1, 2, 3, 4, 5, 4, 4, 2, 1, 2, 3, 4, 5, 5, 1, 3, 4, 5, 4, 2, 4, 1, 2, 3, 4, 1, 2, 5, 2, 4, 5, 3, 3, 3, 1, 3, 4, 5, 3, 1, 4, 5, 3, 3, 4, 5, 1, 5, 3, 3, 5, 1, 5, 1, 3, 4, 5, 2, 4, 1, 2, 1, 2, 3, 4, 5, 3, 1, 4, 1, 2, 3, 4, 5, 1, 3, 4, 5, 1, 2, 3, 4, 5, 3, 4, 1, 3, 5, 2, 5, 3, 1, 2, 4, 5, 3, 5, 5, 1, 4, 5, 1, 2, 3, 4, 3, 1, 2, 3, 4, 5, 1, 5, 1, 5, 1, 2, 4, 2, 5, 4, 1, 3, 2, 1, 2, 3, 4, 5, 3, 1, 2, 3, 5, 1, 4, 3, 4, 5, 1, 2, 4, 5, 5, 1, 2, 3, 4, 5, 3, 5, 1, 1, 2, 3, 4, 5, 1, 3, 4, 2, 3, 4, 3, 5, 1, 2, 3, 4, 5, 2, 4, 3, 2, 3, 5, 2, 4, 2, 2, 2, 5, 1, 2, 3, 4, 5, 4, 5, 2, 5, 3, 4, 5, 4, 2, 4, 1, 2, 4, 5, 1, 1, 3, 1, 1, 2, 3, 4, 5, 1, 2, 4, 5, 3, 1, 2, 3, 4, 5, 2, 3, 1, 2, 3, 5, 4, 1, 1, 2, 1, 4, 5, 1, 1, 3, 1, 1, 5, 2, 2, 3, 4, 1, 2, 3, 4, 5, 3, 4, 3, 5, 1, 5, 1, 2, 3, 4, 5, 1, 2, 3, 4, 5, 4, 1, 2, 3, 1, 1, 2, 3, 4, 5, 1, 2, 3, 4, 5, 4, 5, 1, 3, 4, 5, 1, 3, 4, 2, 4, 1, 4, 4, 5, 1, 2, 3, 4, 5, 3, 4, 5, 4, 2, 1, 4, 5, 2, 3, 5, 1, 2, 1, 4, 5, 1, 2, 3, 2, 1, 2, 2, 3, 2, 3, 5, 2, 3, 4, 5, 1, 2, 3, 4, 5, 1, 4, 1, 2, 3, 4, 5, 4, 5, 4, 5, 4, 2, 2, 3, 4, 5, 3, 1, 3, 4, 1, 2, 3, 4, 5, 5, 2, 1, 2, 4, 5, 2, 1, 2, 4, 5, 5, 1, 2, 3, 5, 5, 1, 3, 1, 2, 3, 2, 3, 1, 4, 4, 4, 4, 1, 2, 4, 2, 3, 5, 2, 3, 1, 2, 2, 3, 5, 1, 1, 2, 3, 4, 5, 2, 4, 2, 3, 3, 2], \"Freq\": [0.9974493760557022, 0.9593655698942558, 0.1004192347049499, 0.43841568322404956, 0.3796336921772496, 0.07837598806239993, 0.0742695424483906, 0.12378257074731766, 0.2970781697935624, 0.5075085400640025, 0.9664935857503204, 0.34847703481317893, 0.12169039310936407, 0.19912973417895938, 0.024891216772369922, 0.30699167352589574, 0.9955936414722374, 0.9886339387746275, 0.3361007251707141, 0.13010350651769578, 0.5312559849472578, 0.9829327751308924, 0.9943176639964323, 0.14615236166567205, 0.8327927023213766, 0.022060733836327857, 0.06195067270725629, 0.13516510408855917, 0.7997268658573085, 0.9945311363752524, 0.16246256079854277, 0.27077093466423796, 0.4614878538625273, 0.10359931413240409, 0.994498845117969, 0.9905810384979795, 0.9980546350667371, 0.9958978964805073, 0.9879940090919859, 0.9925053259284308, 0.2831180855759736, 0.11324723423038945, 0.6030415222768237, 0.9939244876356376, 0.9990470936774233, 0.993199464506591, 0.982991848300154, 0.02123804366341073, 0.2578905301985589, 0.11832624326757407, 0.4611689481197759, 0.14259829316861491, 0.9977721356553156, 0.9780631707086864, 0.5091239392301324, 0.3797216046758071, 0.01697079797433775, 0.09333938885885762, 0.31336172830067155, 0.47394012638509525, 0.026503230751798088, 0.02494421717816291, 0.1621374116580589, 0.9966940303626196, 0.9912150618144305, 0.31497440416844336, 0.6845443717260836, 0.054440993288362126, 0.23591097091623586, 0.435527946306897, 0.27447334116215905, 0.9438969863944051, 0.05393697065110886, 0.05831293146829169, 0.9402960199262035, 0.7792279762989242, 0.03801112079506947, 0.17919528374818466, 0.994081482609965, 0.8462121113717971, 0.1527309664427146, 0.9862873381088579, 0.9707545690644562, 0.9944671818029079, 0.9931122858879818, 0.7954329964482129, 0.1998575367960334, 0.05123860110328633, 0.8232335243928004, 0.034159067402190886, 0.0922294819859154, 0.9946768167684429, 0.4858239412215943, 0.16356886463239606, 0.2734285498332591, 0.0781224428095026, 0.23288728084574958, 0.09132834542970572, 0.10502759724416158, 0.5708021589356608, 0.9931667979278734, 0.3946772983792084, 0.1372790603058116, 0.04461569459938877, 0.4221331104403707, 0.9848842907827782, 0.05266584572890624, 0.9479852231203123, 0.9906203727978053, 0.010413081811887222, 0.26600690810366445, 0.27736663371663234, 0.44586923030898923, 0.9965986543438415, 0.9956415744474901, 0.9792002404918562, 0.018952262719197217, 0.9945761617352319, 0.9868351186576104, 0.015163315916071365, 0.07581657958035683, 0.8946356390482105, 0.4727847207250968, 0.5241743642821726, 0.026988328511451797, 0.9391938321985225, 0.026988328511451797, 0.08698430114786328, 0.1576590458305022, 0.119603414078312, 0.09785733879134619, 0.5382153633524039, 0.8816061889414902, 0.08228324430120575, 0.035264247557659605, 0.5746139230623459, 0.15847247141298385, 0.0338719786226225, 0.20202215821349848, 0.03145255157814946, 0.9780344400067337, 0.9918200999701057, 0.985297306440271, 0.010594594692906141, 0.1445982879946145, 0.04819942933153816, 0.5751798566896887, 0.2345705560801524, 0.3551761364458434, 0.24101237830253658, 0.030443668838215147, 0.04566550325732272, 0.32980641241399744, 0.9929638935698167, 0.9933923282712773, 0.052645890168630215, 0.9476260230353438, 0.9965133458582509, 0.06618662332426697, 0.9266127265397376, 0.9868155471730983, 0.009580733467699982, 0.997998999679986, 0.08067120775742412, 0.29476018219058814, 0.6050340581806809, 0.015513693799504638, 0.9987248021437589, 0.05233558365121741, 0.5669688228881886, 0.14174220572204715, 0.10903246594003627, 0.1286583098092428, 0.9757849783172089, 0.996558298700555, 0.9702914187905258, 0.9915811729892301, 0.9869212529834215, 0.9960730282594362, 0.07742475886155645, 0.9000628217655937, 0.02903428457308367, 0.15751529925758215, 0.8237275485765362, 0.018075526144312706, 0.9942656138453589, 0.09166548261749331, 0.9077118522610313, 0.9558833539852106, 0.03738091328433785, 0.994956047884565, 0.9791617900201824, 0.019901662398784197, 0.9896487428160511, 0.0745503558670212, 0.8759666814374991, 0.0497002372446808, 0.2246177125645153, 0.13726637990053714, 0.2641337916267911, 0.3182084261330633, 0.05615442814112882, 0.06343138513078453, 0.357522352555331, 0.5766489557344048, 0.1397357600736526, 0.07498016394195993, 0.08861292102231628, 0.1976749776651671, 0.5010038227030958, 0.9838328539903968, 0.2507374288570859, 0.10884725593795978, 0.015549607991137112, 0.5014748577141718, 0.12634056492798904, 0.9935574737227475, 0.9925576188354721, 0.9969763193772115, 0.19078696869196454, 0.020514727816340273, 0.1805296047837944, 0.592875633892234, 0.01641178225307222, 0.9458368376163921, 0.043972377328584514, 0.10626657854407924, 0.46170996195013736, 0.3884226664024965, 0.9780097317383851, 0.9969805820834937, 0.9972105799925981, 0.639153967144452, 0.00949238565066018, 0.028477156951980536, 0.3227411121224461, 0.31204163529706286, 0.4338139807788435, 0.25115546255617255, 0.8106306575618839, 0.11275689597665303, 0.07313960820107224, 0.9940336263345327, 0.9950263576972035, 0.9928634765238564, 0.7899761499585685, 0.033451758793033845, 0.13380703517213538, 0.04117139543758012, 0.99617090250149, 0.8461215479199448, 0.13742113307284487, 0.01668685187313116, 0.9800096820964216, 0.07316910412184094, 0.911287933153837, 0.01330347347669835, 0.15668479363435142, 0.835652232716541, 0.991917630519127, 0.9961785372325354, 0.992412585594358, 0.06334376361280479, 0.9184845723856695, 0.2570899234141431, 0.07617479212270907, 0.6617685065660351, 0.9920339647374096, 0.9971105331218232, 0.9912200853408305, 0.9225628109394116, 0.07435580864287795, 0.12731958963992726, 0.172790871654187, 0.1045839486327974, 0.43652430733689346, 0.15914948704990908, 0.9934369229349025, 0.9937785877317412, 0.9760712899200006, 0.2215580525272, 0.5211649644673909, 0.09567279540947274, 0.12588525711772727, 0.03524787199296364, 0.277198089832432, 0.16249543197073602, 0.5607685495460694, 0.9880545718500066, 0.09562877925024267, 0.06954820309108559, 0.3651280662281993, 0.071721584437682, 0.39772878642714565, 0.9933984856627102, 0.992007417607044, 0.08560612864477793, 0.8213560991593558, 0.09254716610246262, 0.9126239537884001, 0.0855584956676625, 0.9892356039050788, 0.19383607277993725, 0.567495972114756, 0.06305510801275067, 0.1751530778131963, 0.8863760802576641, 0.11121829143917458, 0.9909393676193967, 0.004537416933905227, 0.8666466343758984, 0.12704767414934637, 0.04946849739110967, 0.8933428646512158, 0.01745946966745047, 0.040738762557384435, 0.9841713630915969, 0.03909229709444037, 0.28868157854355964, 0.12930529038930275, 0.4450507669213211, 0.09622719284785321, 0.9987814372518282, 0.9945350875801863, 0.23642274906825017, 0.7630006901748074, 0.9049364748774316, 0.07209658728419098, 0.022374802950266167, 0.9599614726009439, 0.03898320700917539, 0.9821152299793299, 0.9945477512950305, 0.9841926231998781, 0.9926906999460379, 0.2806966608364948, 0.33806532144541346, 0.09834627532957482, 0.06761306428908269, 0.21718135801947774, 0.9935517576073989, 0.035505422343205355, 0.7136589890984276, 0.09231409809233392, 0.1597744005444241, 0.9931754227344137, 0.9863988239640684, 0.17350096267065204, 0.7114787677861271, 0.11483516953740998, 0.3807059036785736, 0.10318197389419284, 0.13164596669259088, 0.38426390277837336, 0.9630527446154306, 0.6006041302480862, 0.20964483791678482, 0.05382772865430961, 0.039662536903175505, 0.09632330390771193, 0.9959354097886969, 0.9436796505706507, 0.9903218498438511, 0.05989646569927931, 0.1553564579075057, 0.5147352521031816, 0.1909199844164528, 0.0786141112303041, 0.9119466545890778, 0.006212170671587722, 0.0807582187306404, 0.8851262881649167, 0.07118148471256323, 0.0433278602598211, 0.9918401261149363, 0.007346963897147676, 0.05988273560391615, 0.1641230531366591, 0.2949779198266981, 0.379257325491469, 0.09980455933986027, 0.075096833990455, 0.9136781468838692, 0.9771985415110382, 0.0214538736837325, 0.9096442441902579, 0.06865239578794399, 0.9847946842851256, 0.9881795318968957, 0.9956333056644315, 0.9957133920462525, 0.9904485523670166, 0.9642739553190528, 0.13447993141337058, 0.36565204491734643, 0.35787221417442416, 0.10447201283352756, 0.03778774932276529, 0.9840409750223025, 0.9980004017171585, 0.12555574375329576, 0.8631957383039083, 0.9705720631356353, 0.024571444636345197, 0.006142861159086299, 0.9799043045314138, 0.988407432239226, 0.987821845183768, 0.20176439131992768, 0.043235226711413076, 0.05764696894855077, 0.6989694985011781, 0.9975386739921842, 0.9512696786174831, 0.04439258500214921, 0.9929036737006467, 0.38214430048497766, 0.08379914647358823, 0.4846215699677392, 0.014639609926108788, 0.03483217534143125, 0.04372308624899125, 0.7505796472743498, 0.2003974786412099, 0.007287181041498542, 0.9980546113903548, 0.05648193004562926, 0.8585253366935647, 0.052716468042587304, 0.0037654620030419506, 0.030123696024335605, 0.731605788964596, 0.26684709627888004, 0.01480194581774907, 0.7067929127975181, 0.14431897172305344, 0.12951702590530437, 0.9930174658520071, 0.9933622557907381, 0.8856609262197861, 0.11513592040857219, 0.7749845406622043, 0.1937461351655511, 0.02627066239532896, 0.9977377465107993, 0.9959534244657913, 0.993292493990853, 0.9792227235866758, 0.08923831283498468, 0.8923831283498468, 0.9898810686110073, 0.018913094564782486, 0.03782618912956497, 0.9425025458116606, 0.40813533794581036, 0.18324443744505772, 0.27903130247315605, 0.08745757241695937, 0.043728786208479684, 0.03467695714093291, 0.9622855606608883, 0.9624515909379934, 0.034373271104928334, 0.9964617535457206, 0.9818602636016589, 0.8411948899907923, 0.05376709606126714, 0.027750759257428197, 0.022547491896660412, 0.05550151851485639, 0.9927537745177644, 0.12191730329988305, 0.015239662912485382, 0.8305616287304532, 0.030479325824970763, 0.9681241430157037, 0.8029576725879048, 0.07987537057157168, 0.11771107242126354, 0.975968938916582, 0.02291726189818358, 0.7963748509618794, 0.1460975446009203, 0.02291726189818358, 0.01145863094909179, 0.08262595123171262, 0.48677462573465485, 0.050294057271477254, 0.26584001700637977, 0.11316162886082382, 0.03701058317818803, 0.9622751626328888, 0.48363077723109765, 0.19280961218515522, 0.2827874312048943, 0.04016866920524067, 0.10815802329912692, 0.737076899519976, 0.1522224031617342, 0.12406519839985904, 0.8684563887990133, 0.9891630109562097, 0.9707280191705346, 0.9326193644546018, 0.06082300202964794, 0.1446931797370409, 0.6259552775580683, 0.05032806251723162, 0.07863759768317441, 0.10065612503446324, 0.1480341279139949, 0.8478318235074253, 0.006728823996090677, 0.9644364770307029, 0.9880531096096743, 0.05193014761310283, 0.10386029522620566, 0.8383009543258028, 0.243422333308684, 0.06578981981315785, 0.6842141260568415, 0.12420892564290553, 0.8744308365260549, 0.11739259667499362, 0.07826173111666242, 0.7956609330194012, 0.8336764865252536, 0.1364197887041324, 0.030315508600918313, 0.9858600327829067, 0.17403025050311888, 0.8222929336272367, 0.09700875066285031, 0.8959043443569116, 0.04031731379988688, 0.9323378816223841, 0.0251983211249293, 0.8247924286103318, 0.021705063910798204, 0.05643316616807533, 0.09984329398967173, 0.06364191899563267, 0.6498174886922493, 0.18925096964490767, 0.08876372912548766, 0.008373936709951667, 0.9625481701883823, 0.03725992916858254, 0.25294684019572344, 0.0038132689476742224, 0.6241050177693478, 0.07626537895348445, 0.041945958424416445, 0.6059827040787036, 0.3889753843748435, 0.04939759439416459, 0.9447289927883978, 0.978865017831042, 0.9950062108745036, 0.765361568522859, 0.1508645399492174, 0.036796229255906684, 0.04415547510708802, 0.9962817234717373, 0.3185651128766352, 0.06738877387774975, 0.6126252170704523, 0.625805520072912, 0.07450065715153716, 0.0625805520072912, 0.07748068343759863, 0.15794139316125877, 0.9714620789182732, 0.9885969797560376, 0.4159181577042549, 0.043026016314233265, 0.1756895666164525, 0.3693066400305022, 0.9958265946041761, 0.11055276763627878, 0.12060301923957685, 0.6901172767598008, 0.07705192895861854, 0.9569237476578549, 0.3012077742254959, 0.01955894637827895, 0.6024155484509918, 0.07627989087528791, 0.9837944958625284, 0.023670066634771225, 0.9763902486843131, 0.9915181700459879, 0.9775836290970263, 0.010078181743268314, 0.9358575746236353, 0.059419528547532394, 0.9986565562379658, 0.9708753677788464, 0.9757035825897808, 0.9912455623840293, 0.9840108142501939, 0.25230292581828717, 0.6231578288282997, 0.12463156576565994, 0.08421973757096268, 0.8732257000778763, 0.039893559902034956, 0.9954665387058604, 0.9849410398100132, 0.9822740506077848, 0.014099627520685906, 0.10125348469269893, 0.8340089660214411, 0.06128500389294935, 0.9859154155220687, 0.3263342920073243, 0.14762741781283717, 0.13597262166971846, 0.03884932047706242, 0.353528816341268, 0.9570706712482103, 0.03933167142115933, 0.9769463900520122, 0.021871934105642064, 0.9926806482804336, 0.9969940731594654], \"Term\": [\"academy\", \"accident\", \"according\", \"according\", \"according\", \"according\", \"account\", \"account\", \"account\", \"account\", \"accounting\", \"action\", \"action\", \"action\", \"action\", \"action\", \"actress\", \"advice\", \"agency\", \"agency\", \"agency\", \"agenda\", \"airline\", \"analyst\", \"analyst\", \"analyst\", \"annual\", \"annual\", \"annual\", \"argument\", \"around\", \"around\", \"around\", \"around\", \"arsenal\", \"assembly\", \"asylum\", \"athens\", \"athlete\", \"athletics\", \"attack\", \"attack\", \"attack\", \"aviator\", \"award\", \"banking\", \"bankruptcy\", \"biggest\", \"biggest\", \"biggest\", \"biggest\", \"biggest\", \"blunkett\", \"borrowing\", \"britain\", \"britain\", \"britain\", \"britain\", \"british\", \"british\", \"british\", \"british\", \"british\", \"broadband\", \"broadcasting\", \"budget\", \"budget\", \"business\", \"business\", \"business\", \"business\", \"cabinet\", \"cabinet\", \"camera\", \"camera\", \"campaign\", \"campaign\", \"campaign\", \"captain\", \"career\", \"career\", \"carmaker\", \"carrier\", \"celtic\", \"ceremony\", \"champion\", \"champion\", \"chance\", \"chance\", \"chance\", \"chance\", \"chancellor\", \"change\", \"change\", \"change\", \"change\", \"charge\", \"charge\", \"charge\", \"charge\", \"chelsea\", \"child\", \"child\", \"child\", \"child\", \"climate\", \"collins\", \"collins\", \"comedy\", \"company\", \"company\", \"company\", \"company\", \"computer\", \"concert\", \"conservative\", \"conservative\", \"console\", \"constituency\", \"construction\", \"construction\", \"construction\", \"consumer\", \"consumer\", \"content\", \"content\", \"content\", \"contract\", \"contract\", \"contract\", \"contract\", \"contract\", \"council\", \"council\", \"council\", \"country\", \"country\", \"country\", \"country\", \"country\", \"creditor\", \"currency\", \"debate\", \"debate\", \"december\", \"december\", \"december\", \"december\", \"decision\", \"decision\", \"decision\", \"decision\", \"decision\", \"decline\", \"defeat\", \"deficit\", \"deficit\", \"democrat\", \"deutsche\", \"deutsche\", \"developer\", \"developer\", \"device\", \"different\", \"different\", \"different\", \"different\", \"digital\", \"director\", \"director\", \"director\", \"director\", \"director\", \"distance\", \"dollar\", \"doping\", \"download\", \"downloaded\", \"driscoll\", \"earnings\", \"earnings\", \"earnings\", \"economic\", \"economic\", \"economic\", \"economist\", \"economy\", \"economy\", \"education\", \"education\", \"elected\", \"election\", \"election\", \"electoral\", \"england\", \"england\", \"england\", \"europe\", \"europe\", \"europe\", \"europe\", \"europe\", \"exchange\", \"exchange\", \"exchange\", \"executive\", \"executive\", \"executive\", \"executive\", \"executive\", \"expansion\", \"expected\", \"expected\", \"expected\", \"expected\", \"expected\", \"export\", \"factory\", \"festival\", \"figure\", \"figure\", \"figure\", \"figure\", \"figure\", \"filing\", \"financial\", \"financial\", \"financial\", \"financial\", \"fiscal\", \"football\", \"forecast\", \"foreign\", \"foreign\", \"foreign\", \"foreign\", \"former\", \"former\", \"former\", \"france\", \"france\", \"france\", \"gadget\", \"gamers\", \"gaming\", \"general\", \"general\", \"general\", \"general\", \"google\", \"government\", \"government\", \"government\", \"graphic\", \"growth\", \"growth\", \"growth\", \"guilty\", \"guilty\", \"handheld\", \"handset\", \"hearing\", \"hewitt\", \"hewitt\", \"higher\", \"higher\", \"higher\", \"holmes\", \"honour\", \"housing\", \"howard\", \"howard\", \"however\", \"however\", \"however\", \"however\", \"however\", \"image\", \"immigration\", \"import\", \"including\", \"including\", \"including\", \"including\", \"including\", \"increase\", \"increase\", \"increase\", \"indoor\", \"industry\", \"industry\", \"industry\", \"industry\", \"industry\", \"infected\", \"inflation\", \"information\", \"information\", \"information\", \"injury\", \"injury\", \"innovation\", \"international\", \"international\", \"international\", \"international\", \"internet\", \"internet\", \"investigation\", \"investment\", \"investment\", \"investment\", \"ireland\", \"ireland\", \"ireland\", \"ireland\", \"itunes\", \"january\", \"january\", \"january\", \"january\", \"january\", \"labour\", \"lawsuit\", \"lawyer\", \"lawyer\", \"leader\", \"leader\", \"leader\", \"league\", \"league\", \"lender\", \"liberal\", \"library\", \"liverpool\", \"london\", \"london\", \"london\", \"london\", \"london\", \"machine\", \"manager\", \"manager\", \"manager\", \"manager\", \"manifesto\", \"manufacturing\", \"market\", \"market\", \"market\", \"meeting\", \"meeting\", \"meeting\", \"meeting\", \"melbourne\", \"member\", \"member\", \"member\", \"member\", \"member\", \"microsoft\", \"mikhail\", \"military\", \"million\", \"million\", \"million\", \"million\", \"million\", \"minister\", \"minister\", \"minister\", \"minute\", \"minute\", \"minute\", \"mobile\", \"mobile\", \"month\", \"month\", \"month\", \"month\", \"month\", \"mortgage\", \"mortgage\", \"multimedia\", \"network\", \"network\", \"network\", \"newcastle\", \"nintendo\", \"nominated\", \"nomination\", \"nominee\", \"norwich\", \"number\", \"number\", \"number\", \"number\", \"number\", \"offset\", \"olympic\", \"olympics\", \"olympics\", \"online\", \"online\", \"online\", \"optimism\", \"oscar\", \"output\", \"parent\", \"parent\", \"parent\", \"parent\", \"parliament\", \"party\", \"party\", \"pension\", \"people\", \"people\", \"people\", \"people\", \"people\", \"performance\", \"performance\", \"performance\", \"performance\", \"phone\", \"played\", \"played\", \"played\", \"played\", \"played\", \"player\", \"player\", \"playing\", \"playing\", \"playing\", \"playing\", \"playstation\", \"pledge\", \"police\", \"police\", \"policy\", \"policy\", \"policy\", \"political\", \"politics\", \"portable\", \"poverty\", \"practice\", \"practice\", \"premiership\", \"price\", \"price\", \"price\", \"problem\", \"problem\", \"problem\", \"problem\", \"problem\", \"profit\", \"profit\", \"program\", \"program\", \"proposal\", \"prosecutor\", \"public\", \"public\", \"public\", \"public\", \"public\", \"pupil\", \"quarter\", \"quarter\", \"quarter\", \"quarter\", \"quarterly\", \"question\", \"question\", \"question\", \"racist\", \"really\", \"really\", \"really\", \"really\", \"really\", \"record\", \"record\", \"record\", \"record\", \"record\", \"regulator\", \"regulator\", \"report\", \"report\", \"report\", \"report\", \"research\", \"research\", \"research\", \"reserve\", \"reserve\", \"resource\", \"restructuring\", \"retail\", \"retail\", \"return\", \"return\", \"return\", \"return\", \"return\", \"revenue\", \"revenue\", \"revenue\", \"revised\", \"robinson\", \"russia\", \"russia\", \"russia\", \"russian\", \"russian\", \"russian\", \"saturday\", \"saturday\", \"scandal\", \"scandal\", \"scandal\", \"school\", \"school\", \"school\", \"scored\", \"scotland\", \"scotland\", \"screen\", \"screen\", \"search\", \"search\", \"search\", \"season\", \"season\", \"season\", \"season\", \"second\", \"second\", \"second\", \"second\", \"second\", \"secretary\", \"secretary\", \"service\", \"service\", \"service\", \"service\", \"service\", \"share\", \"share\", \"shareholder\", \"shareholder\", \"sharply\", \"singer\", \"single\", \"single\", \"single\", \"single\", \"software\", \"spending\", \"spending\", \"spending\", \"spokesman\", \"spokesman\", \"spokesman\", \"spokesman\", \"spokesman\", \"sprinter\", \"stadium\", \"statement\", \"statement\", \"statement\", \"statement\", \"striker\", \"strong\", \"strong\", \"strong\", \"strong\", \"substance\", \"system\", \"system\", \"system\", \"system\", \"takeover\", \"technology\", \"technology\", \"terror\", \"thomas\", \"thomas\", \"ticket\", \"ticket\", \"tory\", \"tourist\", \"treasury\", \"trillion\", \"unemployment\", \"united\", \"united\", \"united\", \"version\", \"version\", \"version\", \"victory\", \"virus\", \"voter\", \"voter\", \"website\", \"website\", \"website\", \"welcomed\", \"whether\", \"whether\", \"whether\", \"whether\", \"whether\", \"williams\", \"williams\", \"winner\", \"winner\", \"wireless\", \"woodward\"]}, \"R\": 30, \"lambda.step\": 0.01, \"plot.opts\": {\"xlab\": \"PC1\", \"ylab\": \"PC2\"}, \"topic.order\": [2, 3, 1, 5, 4]};\n",
       "\n",
       "function LDAvis_load_lib(url, callback){\n",
       "  var s = document.createElement('script');\n",
       "  s.src = url;\n",
       "  s.async = true;\n",
       "  s.onreadystatechange = s.onload = callback;\n",
       "  s.onerror = function(){console.warn(\"failed to load library \" + url);};\n",
       "  document.getElementsByTagName(\"head\")[0].appendChild(s);\n",
       "}\n",
       "\n",
       "if(typeof(LDAvis) !== \"undefined\"){\n",
       "   // already loaded: just create the visualization\n",
       "   !function(LDAvis){\n",
       "       new LDAvis(\"#\" + \"ldavis_el752415556575134404610498184\", ldavis_el752415556575134404610498184_data);\n",
       "   }(LDAvis);\n",
       "}else if(typeof define === \"function\" && define.amd){\n",
       "   // require.js is available: use it to load d3/LDAvis\n",
       "   require.config({paths: {d3: \"https://d3js.org/d3.v5\"}});\n",
       "   require([\"d3\"], function(d3){\n",
       "      window.d3 = d3;\n",
       "      LDAvis_load_lib(\"https://cdn.jsdelivr.net/gh/bmabey/pyLDAvis@3.3.1/pyLDAvis/js/ldavis.v3.0.0.js\", function(){\n",
       "        new LDAvis(\"#\" + \"ldavis_el752415556575134404610498184\", ldavis_el752415556575134404610498184_data);\n",
       "      });\n",
       "    });\n",
       "}else{\n",
       "    // require.js not available: dynamically load d3 & LDAvis\n",
       "    LDAvis_load_lib(\"https://d3js.org/d3.v5.js\", function(){\n",
       "         LDAvis_load_lib(\"https://cdn.jsdelivr.net/gh/bmabey/pyLDAvis@3.3.1/pyLDAvis/js/ldavis.v3.0.0.js\", function(){\n",
       "                 new LDAvis(\"#\" + \"ldavis_el752415556575134404610498184\", ldavis_el752415556575134404610498184_data);\n",
       "            })\n",
       "         });\n",
       "}\n",
       "</script>"
      ],
      "text/plain": [
       "PreparedData(topic_coordinates=              x         y  topics  cluster       Freq\n",
       "topic                                                \n",
       "1      0.018569 -0.042565       1        1  26.577602\n",
       "2      0.162828  0.014164       2        1  25.735481\n",
       "0      0.040566 -0.175752       3        1  21.862517\n",
       "4     -0.243585 -0.004523       4        1  14.958085\n",
       "3      0.021621  0.208676       5        1  10.866315, topic_info=           Term         Freq        Total Category  logprob  loglift\n",
       "70       mobile   816.000000   816.000000  Default  30.0000  30.0000\n",
       "25      company  1056.000000  1056.000000  Default  29.0000  29.0000\n",
       "313      labour   796.000000   796.000000  Default  28.0000  28.0000\n",
       "111  technology   675.000000   675.000000  Default  27.0000  27.0000\n",
       "68       market   801.000000   801.000000  Default  26.0000  26.0000\n",
       "..          ...          ...          ...      ...      ...      ...\n",
       "501      london   106.313660   488.071356   Topic5  -5.2594   0.6954\n",
       "139      former    99.399484   394.178168   Topic5  -5.3267   0.8418\n",
       "391     british   103.778449   641.431234   Topic5  -5.2836   0.3981\n",
       "199     whether    91.482419   257.404760   Topic5  -5.4097   1.1850\n",
       "68       market    91.780471   801.148293   Topic5  -5.4064   0.0529\n",
       "\n",
       "[334 rows x 6 columns], token_table=      Topic      Freq       Term\n",
       "term                            \n",
       "1708      2  0.997449    academy\n",
       "609       5  0.959366   accident\n",
       "0         1  0.100419  according\n",
       "0         3  0.438416  according\n",
       "0         4  0.379634  according\n",
       "...     ...       ...        ...\n",
       "1000      4  0.039332   williams\n",
       "879       2  0.976946     winner\n",
       "879       3  0.021872     winner\n",
       "1202      3  0.992681   wireless\n",
       "1392      2  0.996994   woodward\n",
       "\n",
       "[626 rows x 3 columns], R=30, lambda_step=0.01, plot_opts={'xlab': 'PC1', 'ylab': 'PC2'}, topic_order=[2, 3, 1, 5, 4])"
      ]
     },
     "execution_count": 35,
     "metadata": {},
     "output_type": "execute_result"
    }
   ],
   "source": [
    "from pyLDAvis.gensim_models import prepare\n",
    "import pickle \n",
    "import pyLDAvis\n",
    "# Visualize the topics\n",
    "pyLDAvis.enable_notebook()\n",
    "LDAvis_prepared = prepare(model, corpus, dictionary)\n",
    "LDAvis_prepared"
   ]
  },
  {
   "cell_type": "code",
   "execution_count": 36,
   "metadata": {
    "id": "1mVqaWvQGN2b"
   },
   "outputs": [
    {
     "name": "stderr",
     "output_type": "stream",
     "text": [
      "G:\\anaconda\\lib\\site-packages\\ipykernel\\ipkernel.py:287: DeprecationWarning: `should_run_async` will not call `transform_cell` automatically in the future. Please pass the result to `transformed_cell` argument and any exception that happen during thetransform in `preprocessing_exc_tuple` in IPython 7.17 and above.\n",
      "  and should_run_async(code)\n"
     ]
    }
   ],
   "source": [
    "co_scores = [0.4610136638695459,\n",
    " 0.5012036717240692,\n",
    " 0.5251576709291084,\n",
    " 0.505374985367257,\n",
    " 0.4595908442249221,\n",
    " 0.49884820621712916,\n",
    " 0.4824706105233135,\n",
    " 0.45159554391161244,\n",
    " 0.45109461571233994]"
   ]
  },
  {
   "cell_type": "code",
   "execution_count": 37,
   "metadata": {
    "colab": {
     "base_uri": "https://localhost:8080/",
     "height": 513
    },
    "executionInfo": {
     "elapsed": 851,
     "status": "ok",
     "timestamp": 1645740808706,
     "user": {
      "displayName": "Jayashree Nair Amrita",
      "photoUrl": "https://lh3.googleusercontent.com/a-/AOh14GgzYPSTna-kMk1cwmGaEmC3Cr4SYV4sgvsris4n=s64",
      "userId": "01666137879339816248"
     },
     "user_tz": -330
    },
    "id": "QVIpN0yGFmR4",
    "outputId": "57ae1a10-192b-45ed-ba84-fb90cdf8e8b3"
   },
   "outputs": [
    {
     "name": "stderr",
     "output_type": "stream",
     "text": [
      "G:\\anaconda\\lib\\site-packages\\ipykernel\\ipkernel.py:287: DeprecationWarning: `should_run_async` will not call `transform_cell` automatically in the future. Please pass the result to `transformed_cell` argument and any exception that happen during thetransform in `preprocessing_exc_tuple` in IPython 7.17 and above.\n",
      "  and should_run_async(code)\n",
      "G:\\anaconda\\lib\\asyncio\\events.py:81: DeprecationWarning: `run_cell_async` will not call `transform_cell` automatically in the future. Please pass the result to `transformed_cell` argument and any exception that happen during thetransform in `preprocessing_exc_tuple` in IPython 7.17 and above.\n",
      "  self._context.run(self._callback, *self._args)\n"
     ]
    },
    {
     "data": {
      "image/png": "[encoded data removed]",
      "text/plain": [
       "<Figure size 720x576 with 1 Axes>"
      ]
     },
     "metadata": {
      "needs_background": "light"
     },
     "output_type": "display_data"
    }
   ],
   "source": [
    "%matplotlib inline\n",
    "import matplotlib.pyplot as plt\n",
    "x = [int(i) for i in range(2,11)]\n",
    "plt.figure(figsize=(10,8))\n",
    "plt.plot(x, co_scores)\n",
    "plt.xlabel('Number of topics')\n",
    "plt.ylabel('Coherence Value')\n",
    "plt.title('Coherence Scores by number of Topics')\n",
    "plt.show()\n"
   ]
  },
  {
   "cell_type": "code",
   "execution_count": null,
   "metadata": {},
   "outputs": [],
   "source": []
  }
 ],
 "metadata": {
  "accelerator": "GPU",
  "colab": {
   "collapsed_sections": [],
   "name": "lda_bbcnews.ipynb",
   "provenance": []
  },
  "kernelspec": {
   "display_name": "Python 3",
   "language": "python",
   "name": "python3"
  },
  "language_info": {
   "codemirror_mode": {
    "name": "ipython",
    "version": 3
   },
   "file_extension": ".py",
   "mimetype": "text/x-python",
   "name": "python",
   "nbconvert_exporter": "python",
   "pygments_lexer": "ipython3",
   "version": "3.8.3"
  }
 },
 "nbformat": 4,
 "nbformat_minor": 4
}
