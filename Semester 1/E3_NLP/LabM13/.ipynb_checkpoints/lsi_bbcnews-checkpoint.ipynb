{
 "cells": [
  {
   "cell_type": "code",
   "execution_count": 1,
   "metadata": {
    "colab": {
     "base_uri": "https://localhost:8080/"
    },
    "executionInfo": {
     "elapsed": 10391,
     "status": "ok",
     "timestamp": 1644391231916,
     "user": {
      "displayName": "Jayashree Nair Amrita",
      "photoUrl": "https://lh3.googleusercontent.com/a-/AOh14GgzYPSTna-kMk1cwmGaEmC3Cr4SYV4sgvsris4n=s64",
      "userId": "01666137879339816248"
     },
     "user_tz": -330
    },
    "id": "Mpg_ukukgT3c",
    "outputId": "da7f48a2-27e2-4157-a45c-1139f1b9c377"
   },
   "outputs": [
    {
     "name": "stdout",
     "output_type": "stream",
     "text": [
      "Requirement already satisfied: gensim in /usr/local/lib/python3.7/dist-packages (3.6.0)\n",
      "Collecting gensim\n",
      "  Downloading gensim-4.1.2-cp37-cp37m-manylinux_2_12_x86_64.manylinux2010_x86_64.whl (24.1 MB)\n",
      "\u001b[K     |████████████████████████████████| 24.1 MB 1.6 MB/s \n",
      "\u001b[?25hRequirement already satisfied: smart-open>=1.8.1 in /usr/local/lib/python3.7/dist-packages (from gensim) (5.2.1)\n",
      "Requirement already satisfied: numpy>=1.17.0 in /usr/local/lib/python3.7/dist-packages (from gensim) (1.19.5)\n",
      "Requirement already satisfied: scipy>=0.18.1 in /usr/local/lib/python3.7/dist-packages (from gensim) (1.4.1)\n",
      "Installing collected packages: gensim\n",
      "  Attempting uninstall: gensim\n",
      "    Found existing installation: gensim 3.6.0\n",
      "    Uninstalling gensim-3.6.0:\n",
      "      Successfully uninstalled gensim-3.6.0\n",
      "Successfully installed gensim-4.1.2\n"
     ]
    }
   ],
   "source": [
    "#!pip install --upgrade gensim"
   ]
  },
  {
   "cell_type": "code",
   "execution_count": 1,
   "metadata": {
    "colab": {
     "base_uri": "https://localhost:8080/",
     "height": 206
    },
    "executionInfo": {
     "elapsed": 1190,
     "status": "ok",
     "timestamp": 1644391278060,
     "user": {
      "displayName": "Jayashree Nair Amrita",
      "photoUrl": "https://lh3.googleusercontent.com/a-/AOh14GgzYPSTna-kMk1cwmGaEmC3Cr4SYV4sgvsris4n=s64",
      "userId": "01666137879339816248"
     },
     "user_tz": -330
    },
    "id": "MrRWDSO1hNif",
    "outputId": "4107d5ce-5f33-44bc-8a9d-ab46bfb27727"
   },
   "outputs": [
    {
     "data": {
      "text/html": [
       "<div>\n",
       "<style scoped>\n",
       "    .dataframe tbody tr th:only-of-type {\n",
       "        vertical-align: middle;\n",
       "    }\n",
       "\n",
       "    .dataframe tbody tr th {\n",
       "        vertical-align: top;\n",
       "    }\n",
       "\n",
       "    .dataframe thead th {\n",
       "        text-align: right;\n",
       "    }\n",
       "</style>\n",
       "<table border=\"1\" class=\"dataframe\">\n",
       "  <thead>\n",
       "    <tr style=\"text-align: right;\">\n",
       "      <th></th>\n",
       "      <th>category</th>\n",
       "      <th>text</th>\n",
       "    </tr>\n",
       "  </thead>\n",
       "  <tbody>\n",
       "    <tr>\n",
       "      <th>0</th>\n",
       "      <td>tech</td>\n",
       "      <td>tv future in the hands of viewers with home th...</td>\n",
       "    </tr>\n",
       "    <tr>\n",
       "      <th>1</th>\n",
       "      <td>business</td>\n",
       "      <td>worldcom boss  left books alone  former worldc...</td>\n",
       "    </tr>\n",
       "    <tr>\n",
       "      <th>2</th>\n",
       "      <td>sport</td>\n",
       "      <td>tigers wary of farrell  gamble  leicester say ...</td>\n",
       "    </tr>\n",
       "    <tr>\n",
       "      <th>3</th>\n",
       "      <td>sport</td>\n",
       "      <td>yeading face newcastle in fa cup premiership s...</td>\n",
       "    </tr>\n",
       "    <tr>\n",
       "      <th>4</th>\n",
       "      <td>entertainment</td>\n",
       "      <td>ocean s twelve raids box office ocean s twelve...</td>\n",
       "    </tr>\n",
       "  </tbody>\n",
       "</table>\n",
       "</div>"
      ],
      "text/plain": [
       "        category                                               text\n",
       "0           tech  tv future in the hands of viewers with home th...\n",
       "1       business  worldcom boss  left books alone  former worldc...\n",
       "2          sport  tigers wary of farrell  gamble  leicester say ...\n",
       "3          sport  yeading face newcastle in fa cup premiership s...\n",
       "4  entertainment  ocean s twelve raids box office ocean s twelve..."
      ]
     },
     "execution_count": 1,
     "metadata": {},
     "output_type": "execute_result"
    }
   ],
   "source": [
    "import pandas as pd\n",
    "df = pd.read_csv('bbc-text.csv')\n",
    "df.head()"
   ]
  },
  {
   "cell_type": "code",
   "execution_count": 2,
   "metadata": {
    "colab": {
     "base_uri": "https://localhost:8080/"
    },
    "executionInfo": {
     "elapsed": 1236,
     "status": "ok",
     "timestamp": 1644391734497,
     "user": {
      "displayName": "Jayashree Nair Amrita",
      "photoUrl": "https://lh3.googleusercontent.com/a-/AOh14GgzYPSTna-kMk1cwmGaEmC3Cr4SYV4sgvsris4n=s64",
      "userId": "01666137879339816248"
     },
     "user_tz": -330
    },
    "id": "ixx_Y6y6hWZQ",
    "outputId": "df2de65c-8206-4ec4-f2a9-8daeeeee7680"
   },
   "outputs": [],
   "source": [
    "%run preprocess.ipynb"
   ]
  },
  {
   "cell_type": "code",
   "execution_count": 3,
   "metadata": {
    "executionInfo": {
     "elapsed": 11791,
     "status": "ok",
     "timestamp": 1644391749653,
     "user": {
      "displayName": "Jayashree Nair Amrita",
      "photoUrl": "https://lh3.googleusercontent.com/a-/AOh14GgzYPSTna-kMk1cwmGaEmC3Cr4SYV4sgvsris4n=s64",
      "userId": "01666137879339816248"
     },
     "user_tz": -330
    },
    "id": "T_Ivhqefia2r"
   },
   "outputs": [],
   "source": [
    "df['clean_text'] = df['text'].apply(preprocess2)"
   ]
  },
  {
   "cell_type": "code",
   "execution_count": 4,
   "metadata": {
    "colab": {
     "base_uri": "https://localhost:8080/",
     "height": 519
    },
    "executionInfo": {
     "elapsed": 634,
     "status": "ok",
     "timestamp": 1644391758764,
     "user": {
      "displayName": "Jayashree Nair Amrita",
      "photoUrl": "https://lh3.googleusercontent.com/a-/AOh14GgzYPSTna-kMk1cwmGaEmC3Cr4SYV4sgvsris4n=s64",
      "userId": "01666137879339816248"
     },
     "user_tz": -330
    },
    "id": "bdoq86EIldI3",
    "outputId": "042be4d4-5f61-4ca5-88b1-ea591c686f59"
   },
   "outputs": [
    {
     "data": {
      "text/html": [
       "<div>\n",
       "<style scoped>\n",
       "    .dataframe tbody tr th:only-of-type {\n",
       "        vertical-align: middle;\n",
       "    }\n",
       "\n",
       "    .dataframe tbody tr th {\n",
       "        vertical-align: top;\n",
       "    }\n",
       "\n",
       "    .dataframe thead th {\n",
       "        text-align: right;\n",
       "    }\n",
       "</style>\n",
       "<table border=\"1\" class=\"dataframe\">\n",
       "  <thead>\n",
       "    <tr style=\"text-align: right;\">\n",
       "      <th></th>\n",
       "      <th>category</th>\n",
       "      <th>text</th>\n",
       "      <th>clean_text</th>\n",
       "    </tr>\n",
       "  </thead>\n",
       "  <tbody>\n",
       "    <tr>\n",
       "      <th>0</th>\n",
       "      <td>tech</td>\n",
       "      <td>tv future in the hands of viewers with home th...</td>\n",
       "      <td>future viewer theatre system plasma digital re...</td>\n",
       "    </tr>\n",
       "    <tr>\n",
       "      <th>1</th>\n",
       "      <td>business</td>\n",
       "      <td>worldcom boss  left books alone  former worldc...</td>\n",
       "      <td>worldcom former worldcom bernie ebbers accused...</td>\n",
       "    </tr>\n",
       "    <tr>\n",
       "      <th>2</th>\n",
       "      <td>sport</td>\n",
       "      <td>tigers wary of farrell  gamble  leicester say ...</td>\n",
       "      <td>tiger farrell gamble leicester rushed making f...</td>\n",
       "    </tr>\n",
       "    <tr>\n",
       "      <th>3</th>\n",
       "      <td>sport</td>\n",
       "      <td>yeading face newcastle in fa cup premiership s...</td>\n",
       "      <td>yeading newcastle premiership newcastle united...</td>\n",
       "    </tr>\n",
       "    <tr>\n",
       "      <th>4</th>\n",
       "      <td>entertainment</td>\n",
       "      <td>ocean s twelve raids box office ocean s twelve...</td>\n",
       "      <td>twelve office twelve sequel starring george cl...</td>\n",
       "    </tr>\n",
       "    <tr>\n",
       "      <th>5</th>\n",
       "      <td>politics</td>\n",
       "      <td>howard hits back at mongrel jibe michael howar...</td>\n",
       "      <td>howard mongrel michael howard leader acting at...</td>\n",
       "    </tr>\n",
       "    <tr>\n",
       "      <th>6</th>\n",
       "      <td>politics</td>\n",
       "      <td>blair prepares to name poll date tony blair is...</td>\n",
       "      <td>prepares likely election parliament return eas...</td>\n",
       "    </tr>\n",
       "    <tr>\n",
       "      <th>7</th>\n",
       "      <td>sport</td>\n",
       "      <td>henman hopes ended in dubai third seed tim hen...</td>\n",
       "      <td>henman henman slumped straight defeat ljubicic...</td>\n",
       "    </tr>\n",
       "    <tr>\n",
       "      <th>8</th>\n",
       "      <td>sport</td>\n",
       "      <td>wilkinson fit to face edinburgh england captai...</td>\n",
       "      <td>wilkinson edinburgh england captain wilkinson ...</td>\n",
       "    </tr>\n",
       "    <tr>\n",
       "      <th>9</th>\n",
       "      <td>entertainment</td>\n",
       "      <td>last star wars  not for children  the sixth an...</td>\n",
       "      <td>child suitable child george minute revenge dar...</td>\n",
       "    </tr>\n",
       "    <tr>\n",
       "      <th>10</th>\n",
       "      <td>entertainment</td>\n",
       "      <td>berlin cheers for anti-nazi film a german movi...</td>\n",
       "      <td>berlin cheer german resistance heroine applaus...</td>\n",
       "    </tr>\n",
       "    <tr>\n",
       "      <th>11</th>\n",
       "      <td>business</td>\n",
       "      <td>virgin blue shares plummet 20% shares in austr...</td>\n",
       "      <td>virgin share plummet share australian budget a...</td>\n",
       "    </tr>\n",
       "    <tr>\n",
       "      <th>12</th>\n",
       "      <td>business</td>\n",
       "      <td>crude oil prices back above $50 cold weather a...</td>\n",
       "      <td>price weather across united state europe pushe...</td>\n",
       "    </tr>\n",
       "    <tr>\n",
       "      <th>13</th>\n",
       "      <td>politics</td>\n",
       "      <td>hague  given up  his pm ambition former conser...</td>\n",
       "      <td>ambition former conservative leader william le...</td>\n",
       "    </tr>\n",
       "    <tr>\n",
       "      <th>14</th>\n",
       "      <td>sport</td>\n",
       "      <td>moya emotional after davis cup win carlos moya...</td>\n",
       "      <td>emotional carlos described victory highlight c...</td>\n",
       "    </tr>\n",
       "  </tbody>\n",
       "</table>\n",
       "</div>"
      ],
      "text/plain": [
       "         category                                               text  \\\n",
       "0            tech  tv future in the hands of viewers with home th...   \n",
       "1        business  worldcom boss  left books alone  former worldc...   \n",
       "2           sport  tigers wary of farrell  gamble  leicester say ...   \n",
       "3           sport  yeading face newcastle in fa cup premiership s...   \n",
       "4   entertainment  ocean s twelve raids box office ocean s twelve...   \n",
       "5        politics  howard hits back at mongrel jibe michael howar...   \n",
       "6        politics  blair prepares to name poll date tony blair is...   \n",
       "7           sport  henman hopes ended in dubai third seed tim hen...   \n",
       "8           sport  wilkinson fit to face edinburgh england captai...   \n",
       "9   entertainment  last star wars  not for children  the sixth an...   \n",
       "10  entertainment  berlin cheers for anti-nazi film a german movi...   \n",
       "11       business  virgin blue shares plummet 20% shares in austr...   \n",
       "12       business  crude oil prices back above $50 cold weather a...   \n",
       "13       politics  hague  given up  his pm ambition former conser...   \n",
       "14          sport  moya emotional after davis cup win carlos moya...   \n",
       "\n",
       "                                           clean_text  \n",
       "0   future viewer theatre system plasma digital re...  \n",
       "1   worldcom former worldcom bernie ebbers accused...  \n",
       "2   tiger farrell gamble leicester rushed making f...  \n",
       "3   yeading newcastle premiership newcastle united...  \n",
       "4   twelve office twelve sequel starring george cl...  \n",
       "5   howard mongrel michael howard leader acting at...  \n",
       "6   prepares likely election parliament return eas...  \n",
       "7   henman henman slumped straight defeat ljubicic...  \n",
       "8   wilkinson edinburgh england captain wilkinson ...  \n",
       "9   child suitable child george minute revenge dar...  \n",
       "10  berlin cheer german resistance heroine applaus...  \n",
       "11  virgin share plummet share australian budget a...  \n",
       "12  price weather across united state europe pushe...  \n",
       "13  ambition former conservative leader william le...  \n",
       "14  emotional carlos described victory highlight c...  "
      ]
     },
     "execution_count": 4,
     "metadata": {},
     "output_type": "execute_result"
    }
   ],
   "source": [
    "df.head(15)"
   ]
  },
  {
   "cell_type": "code",
   "execution_count": 5,
   "metadata": {
    "colab": {
     "base_uri": "https://localhost:8080/"
    },
    "executionInfo": {
     "elapsed": 502,
     "status": "ok",
     "timestamp": 1644391766548,
     "user": {
      "displayName": "Jayashree Nair Amrita",
      "photoUrl": "https://lh3.googleusercontent.com/a-/AOh14GgzYPSTna-kMk1cwmGaEmC3Cr4SYV4sgvsris4n=s64",
      "userId": "01666137879339816248"
     },
     "user_tz": -330
    },
    "id": "Oc7DkjHBt1nJ",
    "outputId": "6a35c5f4-fc92-464f-b0c1-1cdec1e0e386"
   },
   "outputs": [
    {
     "data": {
      "text/plain": [
       "(2225, 3)"
      ]
     },
     "execution_count": 5,
     "metadata": {},
     "output_type": "execute_result"
    }
   ],
   "source": [
    "df.shape"
   ]
  },
  {
   "cell_type": "code",
   "execution_count": 6,
   "metadata": {
    "executionInfo": {
     "elapsed": 390,
     "status": "ok",
     "timestamp": 1644391812893,
     "user": {
      "displayName": "Jayashree Nair Amrita",
      "photoUrl": "https://lh3.googleusercontent.com/a-/AOh14GgzYPSTna-kMk1cwmGaEmC3Cr4SYV4sgvsris4n=s64",
      "userId": "01666137879339816248"
     },
     "user_tz": -330
    },
    "id": "-xyy6lxYY1b2"
   },
   "outputs": [],
   "source": [
    "df.to_csv(\"bbc_preprocessed2.csv\")"
   ]
  },
  {
   "cell_type": "code",
   "execution_count": 7,
   "metadata": {
    "colab": {
     "base_uri": "https://localhost:8080/"
    },
    "executionInfo": {
     "elapsed": 10,
     "status": "ok",
     "timestamp": 1644391816611,
     "user": {
      "displayName": "Jayashree Nair Amrita",
      "photoUrl": "https://lh3.googleusercontent.com/a-/AOh14GgzYPSTna-kMk1cwmGaEmC3Cr4SYV4sgvsris4n=s64",
      "userId": "01666137879339816248"
     },
     "user_tz": -330
    },
    "id": "Hf6cNX5XtU2I",
    "outputId": "55cc4b07-2d89-4170-bec2-20b928d28b9f"
   },
   "outputs": [
    {
     "data": {
      "text/plain": [
       "list"
      ]
     },
     "execution_count": 7,
     "metadata": {},
     "output_type": "execute_result"
    }
   ],
   "source": [
    "docs =[]\n",
    "for d in df.clean_text:\n",
    "    docs.append(d.split())\n",
    "type(docs)"
   ]
  },
  {
   "cell_type": "code",
   "execution_count": 8,
   "metadata": {
    "executionInfo": {
     "elapsed": 1027,
     "status": "ok",
     "timestamp": 1644391824198,
     "user": {
      "displayName": "Jayashree Nair Amrita",
      "photoUrl": "https://lh3.googleusercontent.com/a-/AOh14GgzYPSTna-kMk1cwmGaEmC3Cr4SYV4sgvsris4n=s64",
      "userId": "01666137879339816248"
     },
     "user_tz": -330
    },
    "id": "BTI-7jBDsDVr"
   },
   "outputs": [],
   "source": [
    "# Remove rare and common tokens.\n",
    "from gensim.corpora import Dictionary\n",
    "\n",
    "# Create a dictionary representation of the documents.\n",
    "dictionary = Dictionary(docs)\n",
    "\n",
    "# Filter out words that occur less than 20 documents, or more than 50% of the documents.\n",
    "#dictionary.filter_extremes(no_below=20, no_above=0.5)"
   ]
  },
  {
   "cell_type": "code",
   "execution_count": 9,
   "metadata": {
    "executionInfo": {
     "elapsed": 555,
     "status": "ok",
     "timestamp": 1644391843368,
     "user": {
      "displayName": "Jayashree Nair Amrita",
      "photoUrl": "https://lh3.googleusercontent.com/a-/AOh14GgzYPSTna-kMk1cwmGaEmC3Cr4SYV4sgvsris4n=s64",
      "userId": "01666137879339816248"
     },
     "user_tz": -330
    },
    "id": "z_iqZPQjs7HF"
   },
   "outputs": [],
   "source": [
    "# Bag-of-words representation of the documents.\n",
    "corpus = [dictionary.doc2bow(doc) for doc in docs]"
   ]
  },
  {
   "cell_type": "code",
   "execution_count": 10,
   "metadata": {
    "colab": {
     "base_uri": "https://localhost:8080/"
    },
    "executionInfo": {
     "elapsed": 719,
     "status": "ok",
     "timestamp": 1644391861148,
     "user": {
      "displayName": "Jayashree Nair Amrita",
      "photoUrl": "https://lh3.googleusercontent.com/a-/AOh14GgzYPSTna-kMk1cwmGaEmC3Cr4SYV4sgvsris4n=s64",
      "userId": "01666137879339816248"
     },
     "user_tz": -330
    },
    "id": "U4SrcbhBtC6g",
    "outputId": "da4556fa-28db-4750-ab65-1218acbc4d8d"
   },
   "outputs": [
    {
     "name": "stdout",
     "output_type": "stream",
     "text": [
      "Number of unique tokens: 19000\n",
      "Number of documents: 2225\n"
     ]
    }
   ],
   "source": [
    "print('Number of unique tokens: %d' % len(dictionary))\n",
    "print('Number of documents: %d' % len(corpus))"
   ]
  },
  {
   "cell_type": "code",
   "execution_count": 11,
   "metadata": {
    "executionInfo": {
     "elapsed": 1295,
     "status": "ok",
     "timestamp": 1644391869616,
     "user": {
      "displayName": "Jayashree Nair Amrita",
      "photoUrl": "https://lh3.googleusercontent.com/a-/AOh14GgzYPSTna-kMk1cwmGaEmC3Cr4SYV4sgvsris4n=s64",
      "userId": "01666137879339816248"
     },
     "user_tz": -330
    },
    "id": "gYaT_BN1wJuI"
   },
   "outputs": [],
   "source": [
    "# Train LSI model.\n",
    "from gensim.models import LsiModel\n",
    "\n",
    "model = LsiModel(\n",
    "    corpus=corpus,\n",
    "    id2word=dictionary,\n",
    "    num_topics=5,\n",
    "    chunksize=50000,\n",
    "    )"
   ]
  },
  {
   "cell_type": "code",
   "execution_count": 12,
   "metadata": {
    "colab": {
     "base_uri": "https://localhost:8080/"
    },
    "executionInfo": {
     "elapsed": 599,
     "status": "ok",
     "timestamp": 1644391881616,
     "user": {
      "displayName": "Jayashree Nair Amrita",
      "photoUrl": "https://lh3.googleusercontent.com/a-/AOh14GgzYPSTna-kMk1cwmGaEmC3Cr4SYV4sgvsris4n=s64",
      "userId": "01666137879339816248"
     },
     "user_tz": -330
    },
    "id": "uLho4LnX3mab",
    "outputId": "9d4023c7-f4a7-4643-e792-a5e634faaf89"
   },
   "outputs": [
    {
     "data": {
      "text/plain": [
       "[(0,\n",
       "  '0.440*\"people\" + 0.242*\"government\" + 0.167*\"service\" + 0.155*\"mobile\" + 0.139*\"company\"'),\n",
       " (1,\n",
       "  '-0.402*\"mobile\" + 0.325*\"government\" + 0.277*\"labour\" + -0.248*\"technology\" + 0.219*\"election\"'),\n",
       " (2,\n",
       "  '0.348*\"people\" + -0.207*\"market\" + 0.198*\"mobile\" + -0.197*\"england\" + -0.194*\"company\"'),\n",
       " (3,\n",
       "  '-0.358*\"labour\" + -0.325*\"mobile\" + -0.322*\"election\" + 0.251*\"people\" + 0.193*\"forsyth\"'),\n",
       " (4,\n",
       "  '0.261*\"england\" + -0.242*\"company\" + 0.235*\"player\" + -0.214*\"government\" + -0.205*\"increase\"')]"
      ]
     },
     "execution_count": 12,
     "metadata": {},
     "output_type": "execute_result"
    }
   ],
   "source": [
    "model.print_topics(5,5)"
   ]
  },
  {
   "cell_type": "code",
   "execution_count": 13,
   "metadata": {
    "id": "mpGgCdHSw6mt"
   },
   "outputs": [],
   "source": [
    "#len(top_topics)"
   ]
  },
  {
   "cell_type": "code",
   "execution_count": 14,
   "metadata": {
    "colab": {
     "base_uri": "https://localhost:8080/"
    },
    "executionInfo": {
     "elapsed": 424,
     "status": "ok",
     "timestamp": 1644391886972,
     "user": {
      "displayName": "Jayashree Nair Amrita",
      "photoUrl": "https://lh3.googleusercontent.com/a-/AOh14GgzYPSTna-kMk1cwmGaEmC3Cr4SYV4sgvsris4n=s64",
      "userId": "01666137879339816248"
     },
     "user_tz": -330
    },
    "id": "hUEcVt8iz7Mg",
    "outputId": "1d6b0672-6c60-4516-bdb6-b2ff848e06b0"
   },
   "outputs": [
    {
     "data": {
      "text/plain": [
       "[[(87, 1), (1156, 1)],\n",
       " [(456, 1), (1909, 1)],\n",
       " [(240, 1), (574, 1), (886, 1), (3517, 1)]]"
      ]
     },
     "execution_count": 14,
     "metadata": {},
     "output_type": "execute_result"
    }
   ],
   "source": [
    "# Create a new corpus, made of previously unseen documents.\n",
    "other_texts = [\n",
    "    ['computer', 'time', 'mobile'],\n",
    "    ['vote', 'election', 'candidate'],\n",
    "    ['defeat', 'player', 'cup', 'england','cricket']\n",
    "]\n",
    "other_corpus = [dictionary.doc2bow(text) for text in other_texts]\n",
    "other_corpus"
   ]
  },
  {
   "cell_type": "code",
   "execution_count": 15,
   "metadata": {
    "colab": {
     "base_uri": "https://localhost:8080/"
    },
    "executionInfo": {
     "elapsed": 394,
     "status": "ok",
     "timestamp": 1644391901687,
     "user": {
      "displayName": "Jayashree Nair Amrita",
      "photoUrl": "https://lh3.googleusercontent.com/a-/AOh14GgzYPSTna-kMk1cwmGaEmC3Cr4SYV4sgvsris4n=s64",
      "userId": "01666137879339816248"
     },
     "user_tz": -330
    },
    "id": "gwjRK6Yx10w3",
    "outputId": "7d5b1c84-1b34-4979-ba37-9ff37b380fb0"
   },
   "outputs": [
    {
     "data": {
      "text/plain": [
       "[(0, 0.14586739387559824),\n",
       " (1, -0.07598636625917994),\n",
       " (2, -0.3720677280565789),\n",
       " (3, 0.06962822455517059),\n",
       " (4, 0.5387881739088838)]"
      ]
     },
     "execution_count": 15,
     "metadata": {},
     "output_type": "execute_result"
    }
   ],
   "source": [
    "unseen_doc = other_corpus[2]\n",
    "vector = model[unseen_doc]  \n",
    "vector"
   ]
  },
  {
   "cell_type": "code",
   "execution_count": 16,
   "metadata": {
    "colab": {
     "base_uri": "https://localhost:8080/"
    },
    "executionInfo": {
     "elapsed": 423,
     "status": "ok",
     "timestamp": 1644391910002,
     "user": {
      "displayName": "Jayashree Nair Amrita",
      "photoUrl": "https://lh3.googleusercontent.com/a-/AOh14GgzYPSTna-kMk1cwmGaEmC3Cr4SYV4sgvsris4n=s64",
      "userId": "01666137879339816248"
     },
     "user_tz": -330
    },
    "id": "Vo4JV2NX0D8c",
    "outputId": "d6e3b8e4-5321-4377-c546-e7af28ef3881"
   },
   "outputs": [
    {
     "name": "stdout",
     "output_type": "stream",
     "text": [
      "[(0, 0.22119918181378934), (1, -0.48110788293197204), (2, 0.19917143192519438), (3, -0.2706069059439858), (4, 0.060591677557132656)]\n",
      "[(0, 0.11970632605166896), (1, 0.23259361069197787), (2, 0.11872526001300002), (3, -0.3400566085450067), (4, 0.1408282176909585)]\n",
      "[(0, 0.14586739387559824), (1, -0.07598636625917994), (2, -0.3720677280565789), (3, 0.06962822455517059), (4, 0.5387881739088838)]\n"
     ]
    }
   ],
   "source": [
    "for d in other_corpus:\n",
    "    vector = model[d]\n",
    "    print(vector)"
   ]
  },
  {
   "cell_type": "code",
   "execution_count": 17,
   "metadata": {
    "executionInfo": {
     "elapsed": 616,
     "status": "ok",
     "timestamp": 1644391920741,
     "user": {
      "displayName": "Jayashree Nair Amrita",
      "photoUrl": "https://lh3.googleusercontent.com/a-/AOh14GgzYPSTna-kMk1cwmGaEmC3Cr4SYV4sgvsris4n=s64",
      "userId": "01666137879339816248"
     },
     "user_tz": -330
    },
    "id": "tpX-vx8UIq9N"
   },
   "outputs": [],
   "source": [
    "top = pd.DataFrame()\n",
    "top['text'] = df['text']\n",
    "top['category'] = df['category']"
   ]
  },
  {
   "cell_type": "code",
   "execution_count": 18,
   "metadata": {
    "executionInfo": {
     "elapsed": 377,
     "status": "ok",
     "timestamp": 1644391943644,
     "user": {
      "displayName": "Jayashree Nair Amrita",
      "photoUrl": "https://lh3.googleusercontent.com/a-/AOh14GgzYPSTna-kMk1cwmGaEmC3Cr4SYV4sgvsris4n=s64",
      "userId": "01666137879339816248"
     },
     "user_tz": -330
    },
    "id": "_hkx1qI3ZZvi"
   },
   "outputs": [],
   "source": [
    "import numpy as np"
   ]
  },
  {
   "cell_type": "code",
   "execution_count": 19,
   "metadata": {
    "executionInfo": {
     "elapsed": 725,
     "status": "ok",
     "timestamp": 1644391947183,
     "user": {
      "displayName": "Jayashree Nair Amrita",
      "photoUrl": "https://lh3.googleusercontent.com/a-/AOh14GgzYPSTna-kMk1cwmGaEmC3Cr4SYV4sgvsris4n=s64",
      "userId": "01666137879339816248"
     },
     "user_tz": -330
    },
    "id": "AALYshYvFuMZ"
   },
   "outputs": [],
   "source": [
    "tscore=[[],[],[],[],[]]\n",
    "for doc in corpus:\n",
    "    vector = model[doc]\n",
    "    i=0\n",
    "    for t in vector:\n",
    "        tscore[i].append(np.around(t[1],3))\n",
    "        i=i+1"
   ]
  },
  {
   "cell_type": "code",
   "execution_count": 20,
   "metadata": {
    "colab": {
     "base_uri": "https://localhost:8080/"
    },
    "executionInfo": {
     "elapsed": 583,
     "status": "ok",
     "timestamp": 1644391951428,
     "user": {
      "displayName": "Jayashree Nair Amrita",
      "photoUrl": "https://lh3.googleusercontent.com/a-/AOh14GgzYPSTna-kMk1cwmGaEmC3Cr4SYV4sgvsris4n=s64",
      "userId": "01666137879339816248"
     },
     "user_tz": -330
    },
    "id": "ijIxSO-7OsqW",
    "outputId": "a22cfc43-b366-46f3-bf7b-4ae8e4161bfc"
   },
   "outputs": [
    {
     "name": "stdout",
     "output_type": "stream",
     "text": [
      "2225\n"
     ]
    }
   ],
   "source": [
    "print(len(tscore[0]))"
   ]
  },
  {
   "cell_type": "code",
   "execution_count": 21,
   "metadata": {
    "executionInfo": {
     "elapsed": 5,
     "status": "ok",
     "timestamp": 1644391952962,
     "user": {
      "displayName": "Jayashree Nair Amrita",
      "photoUrl": "https://lh3.googleusercontent.com/a-/AOh14GgzYPSTna-kMk1cwmGaEmC3Cr4SYV4sgvsris4n=s64",
      "userId": "01666137879339816248"
     },
     "user_tz": -330
    },
    "id": "G67lxyDFNtWZ"
   },
   "outputs": [],
   "source": [
    "i=0\n",
    "for t in tscore:\n",
    "    top['t'+str(i)] = tscore[i]\n",
    "    i=i+1"
   ]
  },
  {
   "cell_type": "code",
   "execution_count": 22,
   "metadata": {
    "colab": {
     "base_uri": "https://localhost:8080/"
    },
    "executionInfo": {
     "elapsed": 360,
     "status": "ok",
     "timestamp": 1644391956027,
     "user": {
      "displayName": "Jayashree Nair Amrita",
      "photoUrl": "https://lh3.googleusercontent.com/a-/AOh14GgzYPSTna-kMk1cwmGaEmC3Cr4SYV4sgvsris4n=s64",
      "userId": "01666137879339816248"
     },
     "user_tz": -330
    },
    "id": "zTWGXSmHKRkQ",
    "outputId": "3b735c05-6858-4237-98dd-4e311476b0ec"
   },
   "outputs": [
    {
     "data": {
      "text/plain": [
       "(2225, 7)"
      ]
     },
     "execution_count": 22,
     "metadata": {},
     "output_type": "execute_result"
    }
   ],
   "source": [
    "top.shape"
   ]
  },
  {
   "cell_type": "code",
   "execution_count": 23,
   "metadata": {
    "colab": {
     "base_uri": "https://localhost:8080/",
     "height": 363
    },
    "executionInfo": {
     "elapsed": 428,
     "status": "ok",
     "timestamp": 1644392002987,
     "user": {
      "displayName": "Jayashree Nair Amrita",
      "photoUrl": "https://lh3.googleusercontent.com/a-/AOh14GgzYPSTna-kMk1cwmGaEmC3Cr4SYV4sgvsris4n=s64",
      "userId": "01666137879339816248"
     },
     "user_tz": -330
    },
    "id": "0EyTdCFTMYyT",
    "outputId": "e7db0842-45f1-4f0f-e88a-937674d54bee"
   },
   "outputs": [
    {
     "data": {
      "text/html": [
       "<div>\n",
       "<style scoped>\n",
       "    .dataframe tbody tr th:only-of-type {\n",
       "        vertical-align: middle;\n",
       "    }\n",
       "\n",
       "    .dataframe tbody tr th {\n",
       "        vertical-align: top;\n",
       "    }\n",
       "\n",
       "    .dataframe thead th {\n",
       "        text-align: right;\n",
       "    }\n",
       "</style>\n",
       "<table border=\"1\" class=\"dataframe\">\n",
       "  <thead>\n",
       "    <tr style=\"text-align: right;\">\n",
       "      <th></th>\n",
       "      <th>text</th>\n",
       "      <th>category</th>\n",
       "      <th>t0</th>\n",
       "      <th>t1</th>\n",
       "      <th>t2</th>\n",
       "      <th>t3</th>\n",
       "      <th>t4</th>\n",
       "    </tr>\n",
       "  </thead>\n",
       "  <tbody>\n",
       "    <tr>\n",
       "      <th>1489</th>\n",
       "      <td>unclear future for striker baros liverpool for...</td>\n",
       "      <td>sport</td>\n",
       "      <td>0.813</td>\n",
       "      <td>0.278</td>\n",
       "      <td>-0.900</td>\n",
       "      <td>0.009</td>\n",
       "      <td>0.883</td>\n",
       "    </tr>\n",
       "    <tr>\n",
       "      <th>1907</th>\n",
       "      <td>winn-dixie files for bankruptcy us supermarket...</td>\n",
       "      <td>business</td>\n",
       "      <td>1.655</td>\n",
       "      <td>-0.682</td>\n",
       "      <td>-1.518</td>\n",
       "      <td>-0.465</td>\n",
       "      <td>-1.153</td>\n",
       "    </tr>\n",
       "    <tr>\n",
       "      <th>1948</th>\n",
       "      <td>uk athletics agrees new kit deal uk athletics ...</td>\n",
       "      <td>sport</td>\n",
       "      <td>0.718</td>\n",
       "      <td>0.097</td>\n",
       "      <td>-0.811</td>\n",
       "      <td>0.029</td>\n",
       "      <td>0.079</td>\n",
       "    </tr>\n",
       "    <tr>\n",
       "      <th>316</th>\n",
       "      <td>takeover offer for sunderland fc bob murray  c...</td>\n",
       "      <td>business</td>\n",
       "      <td>2.229</td>\n",
       "      <td>-0.197</td>\n",
       "      <td>-2.738</td>\n",
       "      <td>-0.348</td>\n",
       "      <td>-0.620</td>\n",
       "    </tr>\n",
       "    <tr>\n",
       "      <th>983</th>\n",
       "      <td>india seeks to boost construction india has cl...</td>\n",
       "      <td>business</td>\n",
       "      <td>4.810</td>\n",
       "      <td>1.766</td>\n",
       "      <td>-2.750</td>\n",
       "      <td>0.201</td>\n",
       "      <td>-2.921</td>\n",
       "    </tr>\n",
       "    <tr>\n",
       "      <th>333</th>\n",
       "      <td>ecb holds rates amid growth fears the european...</td>\n",
       "      <td>business</td>\n",
       "      <td>2.549</td>\n",
       "      <td>0.790</td>\n",
       "      <td>-3.511</td>\n",
       "      <td>-1.893</td>\n",
       "      <td>-1.995</td>\n",
       "    </tr>\n",
       "    <tr>\n",
       "      <th>2100</th>\n",
       "      <td>us casino  tricks  face ban in uk controversia...</td>\n",
       "      <td>politics</td>\n",
       "      <td>2.511</td>\n",
       "      <td>0.136</td>\n",
       "      <td>-0.539</td>\n",
       "      <td>1.006</td>\n",
       "      <td>-0.421</td>\n",
       "    </tr>\n",
       "    <tr>\n",
       "      <th>1478</th>\n",
       "      <td>former ni minister scott dies former northern ...</td>\n",
       "      <td>politics</td>\n",
       "      <td>2.645</td>\n",
       "      <td>2.251</td>\n",
       "      <td>-1.163</td>\n",
       "      <td>-0.466</td>\n",
       "      <td>1.208</td>\n",
       "    </tr>\n",
       "    <tr>\n",
       "      <th>1311</th>\n",
       "      <td>robinson out of six nations england captain ja...</td>\n",
       "      <td>sport</td>\n",
       "      <td>1.735</td>\n",
       "      <td>0.669</td>\n",
       "      <td>-3.834</td>\n",
       "      <td>0.860</td>\n",
       "      <td>4.757</td>\n",
       "    </tr>\n",
       "    <tr>\n",
       "      <th>628</th>\n",
       "      <td>volcano drama erupts on bbc one supervolcano  ...</td>\n",
       "      <td>entertainment</td>\n",
       "      <td>1.379</td>\n",
       "      <td>-0.200</td>\n",
       "      <td>-1.363</td>\n",
       "      <td>0.334</td>\n",
       "      <td>1.204</td>\n",
       "    </tr>\n",
       "  </tbody>\n",
       "</table>\n",
       "</div>"
      ],
      "text/plain": [
       "                                                   text       category     t0  \\\n",
       "1489  unclear future for striker baros liverpool for...          sport  0.813   \n",
       "1907  winn-dixie files for bankruptcy us supermarket...       business  1.655   \n",
       "1948  uk athletics agrees new kit deal uk athletics ...          sport  0.718   \n",
       "316   takeover offer for sunderland fc bob murray  c...       business  2.229   \n",
       "983   india seeks to boost construction india has cl...       business  4.810   \n",
       "333   ecb holds rates amid growth fears the european...       business  2.549   \n",
       "2100  us casino  tricks  face ban in uk controversia...       politics  2.511   \n",
       "1478  former ni minister scott dies former northern ...       politics  2.645   \n",
       "1311  robinson out of six nations england captain ja...          sport  1.735   \n",
       "628   volcano drama erupts on bbc one supervolcano  ...  entertainment  1.379   \n",
       "\n",
       "         t1     t2     t3     t4  \n",
       "1489  0.278 -0.900  0.009  0.883  \n",
       "1907 -0.682 -1.518 -0.465 -1.153  \n",
       "1948  0.097 -0.811  0.029  0.079  \n",
       "316  -0.197 -2.738 -0.348 -0.620  \n",
       "983   1.766 -2.750  0.201 -2.921  \n",
       "333   0.790 -3.511 -1.893 -1.995  \n",
       "2100  0.136 -0.539  1.006 -0.421  \n",
       "1478  2.251 -1.163 -0.466  1.208  \n",
       "1311  0.669 -3.834  0.860  4.757  \n",
       "628  -0.200 -1.363  0.334  1.204  "
      ]
     },
     "execution_count": 23,
     "metadata": {},
     "output_type": "execute_result"
    }
   ],
   "source": [
    "top.sample(10)"
   ]
  },
  {
   "cell_type": "code",
   "execution_count": null,
   "metadata": {},
   "outputs": [],
   "source": []
  },
  {
   "cell_type": "code",
   "execution_count": null,
   "metadata": {},
   "outputs": [],
   "source": []
  }
 ],
 "metadata": {
  "accelerator": "GPU",
  "colab": {
   "name": "lsi_bbcnews.ipynb",
   "provenance": []
  },
  "kernelspec": {
   "display_name": "Python 3",
   "language": "python",
   "name": "python3"
  },
  "language_info": {
   "codemirror_mode": {
    "name": "ipython",
    "version": 3
   },
   "file_extension": ".py",
   "mimetype": "text/x-python",
   "name": "python",
   "nbconvert_exporter": "python",
   "pygments_lexer": "ipython3",
   "version": "3.8.3"
  }
 },
 "nbformat": 4,
 "nbformat_minor": 4
}
