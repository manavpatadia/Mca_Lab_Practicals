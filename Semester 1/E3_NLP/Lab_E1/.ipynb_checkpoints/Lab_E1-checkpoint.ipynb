{
 "cells": [
  {
   "cell_type": "code",
   "execution_count": 1,
   "metadata": {
    "id": "gdhEiw2kX-5p"
   },
   "outputs": [],
   "source": [
    "sentence = \"Natural language processing makes it possible for computers to understand the human language. In natural language processing, human language is separated into fragments so that the grammatical structure of sentences and the meaning of words can be analysed and understood in context. This helps computers read and understand spoken or written text in the same way as humans. I am studying Natural Language Processing at Amrita University.\""
   ]
  },
  {
   "cell_type": "code",
   "execution_count": 2,
   "metadata": {
    "colab": {
     "base_uri": "https://localhost:8080/"
    },
    "id": "v-BLZornYMfw",
    "outputId": "c8aaa9c6-4854-41e2-8c3a-9cb79428352e"
   },
   "outputs": [
    {
     "name": "stdout",
     "output_type": "stream",
     "text": [
      "Natural language processing makes it possible for computers to understand the human language. In natural language processing, human language is separated into fragments so that the grammatical structure of sentences and the meaning of words can be analysed and understood in context. This helps computers read and understand spoken or written text in the same way as humans. I am studying Natural Language Processing at Amrita University.\n"
     ]
    }
   ],
   "source": [
    "print(sentence)"
   ]
  },
  {
   "cell_type": "code",
   "execution_count": 3,
   "metadata": {
    "colab": {
     "base_uri": "https://localhost:8080/"
    },
    "id": "twOLOYFeYbKp",
    "outputId": "f927a43b-b90b-43e0-8481-f5481b004041"
   },
   "outputs": [
    {
     "name": "stdout",
     "output_type": "stream",
     "text": [
      "Word language present in the sentence\n"
     ]
    }
   ],
   "source": [
    "if(sentence.find(\"language\") >= 0):\n",
    "    print(\"Word language present in the sentence\")\n",
    "else:\n",
    "    print(\"Word language not present in the sentence\")"
   ]
  },
  {
   "cell_type": "code",
   "execution_count": 4,
   "metadata": {
    "colab": {
     "base_uri": "https://localhost:8080/"
    },
    "id": "81dDcU4lY6pi",
    "outputId": "03622115-64e8-45b6-db01-ed13b58d0a53"
   },
   "outputs": [
    {
     "name": "stdout",
     "output_type": "stream",
     "text": [
      "Index value of the word human is: 78\n"
     ]
    }
   ],
   "source": [
    "ind = sentence.index(\"human\")\n",
    "print(\"Index value of the word human is:\", ind)"
   ]
  },
  {
   "cell_type": "code",
   "execution_count": 5,
   "metadata": {
    "colab": {
     "base_uri": "https://localhost:8080/"
    },
    "id": "wSSrlf5uZOKD",
    "outputId": "a3933533-dd4d-46db-e8fc-995d7fa82f42"
   },
   "outputs": [
    {
     "name": "stdout",
     "output_type": "stream",
     "text": [
      "Index value of the word possible is: 5\n"
     ]
    }
   ],
   "source": [
    "list_words = sentence.lower().split(\" \")\n",
    "flag = False\n",
    "for i in range(len(list_words)):\n",
    "    if(list_words[i] == \"possible\"):\n",
    "        print(\"Index value of the word possible is:\", i)\n",
    "        flag = True\n",
    "if(not flag):\n",
    "    print(\"Word possible not present in the sentence\")"
   ]
  },
  {
   "cell_type": "code",
   "execution_count": 6,
   "metadata": {
    "colab": {
     "base_uri": "https://localhost:8080/"
    },
    "id": "EDZG_NyjZgSy",
    "outputId": "4af82bdf-fb78-408d-a795-aaf291d9f336"
   },
   "outputs": [
    {
     "name": "stdout",
     "output_type": "stream",
     "text": [
      "Third word of the given text is: processing\n"
     ]
    }
   ],
   "source": [
    "print(\"Third word of the given text is:\", list_words[3-1])"
   ]
  },
  {
   "cell_type": "code",
   "execution_count": 7,
   "metadata": {
    "colab": {
     "base_uri": "https://localhost:8080/"
    },
    "id": "BhQQFISKayGj",
    "outputId": "a451563b-96d6-476f-dc18-87b6cb5c2a37"
   },
   "outputs": [
    {
     "name": "stdout",
     "output_type": "stream",
     "text": [
      "Number of Lines in the given text is: 4\n",
      "Number of Words in the given text is: 67\n",
      "Number of Characters in the given text is: 372\n"
     ]
    }
   ],
   "source": [
    "print(\"Number of Lines in the given text is:\", len(sentence[:-1].split(\".\")))\n",
    "print(\"Number of Words in the given text is:\", len(list_words))\n",
    "print(\"Number of Characters in the given text is:\", len(sentence)-sentence.count(\" \"))"
   ]
  },
  {
   "cell_type": "code",
   "execution_count": 8,
   "metadata": {
    "colab": {
     "base_uri": "https://localhost:8080/"
    },
    "id": "qAlJiCYKbUVb",
    "outputId": "f90dc0e1-b048-4804-c8a6-dd8c9158bd19"
   },
   "outputs": [
    {
     "name": "stdout",
     "output_type": "stream",
     "text": [
      "50\n"
     ]
    }
   ],
   "source": [
    "vocabulary = set(list_words)\n",
    "print(len(vocabulary))"
   ]
  },
  {
   "cell_type": "code",
   "execution_count": 9,
   "metadata": {
    "colab": {
     "base_uri": "https://localhost:8080/"
    },
    "id": "8nkINnSZdYos",
    "outputId": "238ab55d-5f8f-4414-efac-300eb8fb383d"
   },
   "outputs": [
    {
     "name": "stdout",
     "output_type": "stream",
     "text": [
      "{'am': 1,\n",
      " 'amrita': 1,\n",
      " 'analysed': 1,\n",
      " 'and': 3,\n",
      " 'as': 1,\n",
      " 'at': 1,\n",
      " 'be': 1,\n",
      " 'can': 1,\n",
      " 'computers': 2,\n",
      " 'context.': 1,\n",
      " 'for': 1,\n",
      " 'fragments': 1,\n",
      " 'grammatical': 1,\n",
      " 'helps': 1,\n",
      " 'human': 2,\n",
      " 'humans.': 1,\n",
      " 'i': 1,\n",
      " 'in': 3,\n",
      " 'into': 1,\n",
      " 'is': 1,\n",
      " 'it': 1,\n",
      " 'language': 4,\n",
      " 'language.': 1,\n",
      " 'makes': 1,\n",
      " 'meaning': 1,\n",
      " 'natural': 3,\n",
      " 'of': 2,\n",
      " 'or': 1,\n",
      " 'possible': 1,\n",
      " 'processing': 2,\n",
      " 'processing,': 1,\n",
      " 'read': 1,\n",
      " 'same': 1,\n",
      " 'sentences': 1,\n",
      " 'separated': 1,\n",
      " 'so': 1,\n",
      " 'spoken': 1,\n",
      " 'structure': 1,\n",
      " 'studying': 1,\n",
      " 'text': 1,\n",
      " 'that': 1,\n",
      " 'the': 4,\n",
      " 'this': 1,\n",
      " 'to': 1,\n",
      " 'understand': 2,\n",
      " 'understood': 1,\n",
      " 'university.': 1,\n",
      " 'way': 1,\n",
      " 'words': 1,\n",
      " 'written': 1}\n"
     ]
    }
   ],
   "source": [
    "freq = []\n",
    "lst_voc = list(vocabulary)\n",
    "for i in range(len(lst_voc)):\n",
    "    c = list_words.count(lst_voc[i])\n",
    "    freq.append(c)\n",
    "z=zip(lst_voc, freq)\n",
    "dict_voc = dict(z)\n",
    "from pprint import pprint\n",
    "pprint(dict_voc)"
   ]
  }
 ],
 "metadata": {
  "colab": {
   "collapsed_sections": [],
   "name": "Lab_E1.ipynb",
   "provenance": []
  },
  "kernelspec": {
   "display_name": "Python 3",
   "language": "python",
   "name": "python3"
  },
  "language_info": {
   "codemirror_mode": {
    "name": "ipython",
    "version": 3
   },
   "file_extension": ".py",
   "mimetype": "text/x-python",
   "name": "python",
   "nbconvert_exporter": "python",
   "pygments_lexer": "ipython3",
   "version": "3.8.3"
  }
 },
 "nbformat": 4,
 "nbformat_minor": 4
}
