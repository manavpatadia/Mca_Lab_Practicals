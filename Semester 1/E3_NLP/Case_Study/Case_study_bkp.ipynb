{
 "cells": [
  {
   "cell_type": "markdown",
   "id": "8e86dc8d-59be-4fd8-b3d9-e3d594119895",
   "metadata": {},
   "source": [
    "# <font color='orange'>  <center> NLP Project: ML Algorithms on Text Data"
   ]
  },
  {
   "cell_type": "markdown",
   "id": "898910ff-2832-48ef-92ab-e26ddd0979e3",
   "metadata": {},
   "source": [
    "## <font color='orange'> Each student must extract tweets from twitter. Perform pre-processing and text representation. Apply ML algorithms for classification/clustering. <br> <br> 1. Creating Datasets <dd> a. Extract 5000 tweets with any 5 search labels of your choice. (1000 each). Eg(#cricket, #football, #basketball, #tennis, #hockey). <dd> b. Create one dataset for all the tweets extracted along with labels as second column. Shuffle the dataset. </dd> <br> <br>2. Pre-processing <dd> a. Clean the data by removing tags, user handles, numbers, and other characters. <dd> b. Stem tokens for basic vectorization <dd> c. Lemma tokens for embeddings </dd> <br> <br> 3. Text representation <dd> a. Vectorise each document in the dataset with tf-idf vectorization with n-grams (use stemmed data). <dd> b. Create document embeddings by summation of word vectors taken from any two pre-trained models. The tokens must be lemmas. </dd> <br> <br> 4. Apply machine learning techniques (any two algorithms) for classification/clustering on <dd> a. 3.a data <dd> b. 3.b data </dd> <br> <br> 5. Evaluate the results (4.a and 4.b) which outperforms. <dd> a. For clustering compare at least 10 records’ label with the clusters created. <dd> b. Present a chart as for classification:"
   ]
  },
  {
   "attachments": {
    "61d3b866-e6a7-4e77-a22d-18e42865dea4.png": {
     "image/png": "[encoded data removed]"
    }
   },
   "cell_type": "markdown",
   "id": "12369a90-87ae-49f7-ae15-6710b4dd380f",
   "metadata": {},
   "source": [
    "![image.png](attachment:61d3b866-e6a7-4e77-a22d-18e42865dea4.png)"
   ]
  },
  {
   "cell_type": "code",
   "execution_count": 1,
   "id": "206811ab-5331-47f3-a300-0bae04b0e262",
   "metadata": {},
   "outputs": [],
   "source": [
    "import twitter_info\n",
    "\n",
    "import tweepy\n",
    "from imdb import IMDb\n",
    "\n",
    "import time\n",
    "import json\n",
    "import pandas as pd\n",
    "import numpy as np\n",
    "from iteration_utilities import deepflatten\n",
    "from datetime import datetime\n",
    "import os\n",
    "import re\n",
    "import glob\n",
    "from tqdm import tqdm\n",
    "\n",
    "from nltk.tokenize import word_tokenize\n",
    "import nltk\n",
    "from nltk import pos_tag\n",
    "from nltk.corpus import stopwords\n",
    "from nltk.stem import WordNetLemmatizer\n",
    "lm = WordNetLemmatizer()\n",
    "from nltk.stem.porter import PorterStemmer\n",
    "pm = PorterStemmer()\n",
    "\n",
    "from sklearn.feature_extraction.text import TfidfVectorizer\n",
    "from sklearn.svm import SVC\n",
    "from sklearn.naive_bayes import MultinomialNB\n",
    "from sklearn.neighbors import KNeighborsClassifier\n",
    "from sklearn.decomposition import TruncatedSVD\n",
    "from sklearn.model_selection import GridSearchCV\n",
    "from sklearn.ensemble import RandomForestClassifier\n",
    "import xgboost as xgb\n",
    "#from sklearnex import patch_sklearn\n",
    "#patch_sklearn()\n",
    "\n",
    "import codecs\n",
    "from glove import Corpus, Glove\n",
    "from gensim.scripts.glove2word2vec import glove2word2vec\n",
    "from gensim.models import Word2Vec\n",
    "from gensim.models import KeyedVectors\n",
    "from gensim.models import FastText\n",
    "import tensorflow as tf\n",
    "from tensorflow.keras.preprocessing.text import Tokenizer\n",
    "from tensorflow.keras.preprocessing.sequence import pad_sequences\n",
    "from keras.preprocessing import text, sequence\n",
    "from keras import layers, models, optimizers\n",
    "\n",
    "from sklearn.model_selection import train_test_split\n",
    "from sklearn.model_selection import cross_val_score\n",
    "from sklearn.preprocessing import MinMaxScaler\n",
    "from sklearn.metrics import ConfusionMatrixDisplay, confusion_matrix\n",
    "from sklearn.metrics import plot_confusion_matrix\n",
    "from sklearn.metrics import accuracy_score\n",
    "from sklearn.metrics import classification_report\n",
    "\n",
    "from pprint import pprint\n",
    "import matplotlib.pyplot as plt\n",
    "import seaborn as sn\n",
    "\n",
    "from pickle import dump\n",
    "from pickle import load"
   ]
  },
  {
   "cell_type": "code",
   "execution_count": 44,
   "id": "df0a4065-6f2f-43d1-a282-9e04bcf5d481",
   "metadata": {},
   "outputs": [],
   "source": [
    "%run helper_functions.ipynb"
   ]
  },
  {
   "cell_type": "code",
   "execution_count": 3,
   "id": "5ca33073-4fc4-40d8-a5d8-a35c81803575",
   "metadata": {},
   "outputs": [],
   "source": [
    "consumer_key = twitter_info.API_Key\n",
    "consumer_secret = twitter_info.API_Key_Secret\n",
    "access_token = twitter_info.Access_Token\n",
    "access_token_secret = twitter_info.Access_Token_Secret\n",
    "bearer_token = twitter_info.Bearer_Token"
   ]
  },
  {
   "cell_type": "code",
   "execution_count": 4,
   "id": "b258bb86-4fda-437d-87ae-50eef3ab9969",
   "metadata": {},
   "outputs": [],
   "source": [
    "client = tweepy.Client(bearer_token = bearer_token)\n",
    "auth = tweepy.OAuthHandler(consumer_key, consumer_secret)\n",
    "auth.set_access_token(access_token, access_token_secret)\n",
    "API = tweepy.API(auth, wait_on_rate_limit=True, retry_count=5, retry_delay=180)"
   ]
  },
  {
   "cell_type": "code",
   "execution_count": 5,
   "id": "86676f46-10a8-47d8-8ec7-a3d803ba9452",
   "metadata": {},
   "outputs": [],
   "source": [
    "s = str(datetime.now())\n",
    "s = s[:16].replace(\" \", \"_\").replace(\":\",\"\")"
   ]
  },
  {
   "cell_type": "code",
   "execution_count": 6,
   "id": "519707f3-d971-46ed-adba-434582e099df",
   "metadata": {},
   "outputs": [],
   "source": [
    "class_list = ['Star Wars','Marvel Cinematic Universe','MonsterVerse','Wizarding World','DC Extended Universe']\n",
    "class_query_list = []\n",
    "class_file_name = ['input/star_wars_keywords.txt', 'input/Marvel_Cinematic_Universe_MCU_keywords.txt', \n",
    "                   'input/MonsterVerse_keywords.txt', 'input/Wizarding_World_keywords.txt', 'input/DC_Extended_Universe_keywords.txt']\n",
    "class_keyword_list = []\n",
    "for i in range(len(class_list)):\n",
    "    with open(class_file_name[i]) as f:\n",
    "        class_keyword_list.append(f.readlines())\n",
    "    class_keyword_list[i] = [key_word.strip() + ' OR ' for key_word in class_keyword_list[i]]\n",
    "    class_temp = ''.join(class_keyword_list[i])\n",
    "    class_query_list.append(class_temp[:-4])"
   ]
  },
  {
   "cell_type": "code",
   "execution_count": 7,
   "id": "a4af7016-ea47-466d-9fd5-b8804def6607",
   "metadata": {},
   "outputs": [
    {
     "name": "stdout",
     "output_type": "stream",
     "text": [
      "\n",
      " \"Star Wars\" OR \"Darth Vader\" OR \"Obi-Wan Kenobi\" OR \"Yoda\" OR \"Princess Leia\" OR \"R2-D2\" OR \"Chewbacca\" OR \"Darth Maul\" OR \"C-3PO\" OR \"Q ira\" OR \"Uncle Owen\" OR \"Admiral Ackbar\" OR \"Jabba Hut\" OR \"Skywalker\" OR \"A New Hope\" OR \"Empire Strikes Back\" OR \"Return Jedi\" OR \"Phantom Menace\" OR \"Attack Clones\" OR \"Revenge Sith\" OR \"Force Awakens\" OR \"Last Jedi\" OR \"Clone Wars\" Star Wars 372 \n",
      "\n",
      "\n",
      " \"Marvel Cinematic Universe\" OR \"MCU\" OR \"Thor\" OR \"Ant Man\" OR \"Falcon\" OR \"Hulk\" OR \"Luke Cage\" OR \"Doctor Strange\" OR \"Groot\" OR \"Punisher\" OR \"Black Widow\" OR \"Jessica Jones\" OR \"Dare devil\" OR \"Captain America\" OR \"Loki\" OR \"Black Panther\" OR \"Spider Man\" OR \"Iron Man\" OR \"Scarlet Witch\" OR \"Captain Marvel\" OR \"Hawkeye\" OR \"Star Lord\" OR \"Thanos\" OR \"Eternals\" OR \"The Avengers\" OR \"Guardians of the Galaxy\" Marvel Cinematic Universe 413 \n",
      "\n",
      "\n",
      " \"MonsterVerse\" OR \"King Kong\" OR \"Anguirus\" OR \"Godzilla\" OR \"MechaKing Ghidorah\" OR \"Mechagodzilla\" OR \"King Ghidorah\" OR \"MUTO\" OR \"Monster X\" OR \"Mothra\" OR \"Preston Packard\" OR \"Alan Jonah\" OR \"Emma Russell\" OR \"Mark Russell\" OR \"James Conrad\" OR \"Mason Weaver\" OR \"Ford Brody\" OR \"Madison Russell\" OR \"Joe Brody\" OR \"Ishiro Serizawa\" OR \"Skull Island\" OR \"King of the Monsters\" OR \"Godzilla vs Kong\" OR \"Rodan\" MonsterVerse 415 \n",
      "\n",
      "\n",
      " \"Wizarding World\" OR \"Molly Weasley\" OR \"Newt Scamander\" OR \"Draco Malfoy\" OR \"Sirius Black\" OR \"Voldemort\" OR \"Dumbledore\" OR \"Severus Snape\" OR \"Ron Weasley\" OR \"Hermione Granger\" OR \"Harry Potter\" OR \"Philosopher's Stone\" OR \"Chamber Secrets\" OR \"Prisoner Azkaban\" OR \"Goblet Fire\" OR \"Order the Phoenix\" OR \"Half-Blood Prince\" OR \"Deathly Hallows\" OR \"Fantastic Beasts\" OR \"Crimes Grindelwald\" OR \"J K Rowling\" Wizarding World 414 \n",
      "\n",
      "\n",
      " \"DC Extended Universe\" OR \"DCEU\" OR \"Flash\" OR \"Superman\" OR \"Batman\" OR \"Wonder Woman\" OR \"Aquaman\" OR \"Cyborg\" OR \"Shazam\" OR \"Harley Quinn\" OR \"Deadshot\" OR \"Bloodsport\" OR \"Peacemaker\" OR \"Zod\" OR \"Faora-Ul\" OR \"Lex Luthor\" OR \"Joker\" OR \"Man of Steel\" OR \"Dawn of Justice\" OR \"Suicide Squad\" OR \"Justice League\" OR \"Birds of Prey\" OR \"Zack Snyder\" OR \"Black Adam\" OR \"Batgirl\" OR \"Blue Beetle\" DC Extended Universe 398 \n",
      "\n"
     ]
    }
   ],
   "source": [
    "for i in range(len(class_list)):\n",
    "    print(\"\\n\", class_query_list[i], class_list[i], len(class_query_list[i]), \"\\n\")"
   ]
  },
  {
   "cell_type": "code",
   "execution_count": 8,
   "id": "83fcfa10-dd7b-4008-9a70-dc88fff2ca1c",
   "metadata": {},
   "outputs": [
    {
     "name": "stdout",
     "output_type": "stream",
     "text": [
      "['Star', 'Wars', 'Darth', 'Vader', 'Obi-Wan', 'Kenobi', 'Yoda', 'Princess', 'Leia', 'R2-D2']\n"
     ]
    }
   ],
   "source": [
    "important_key_words = []\n",
    "for i in range(len(class_list)):\n",
    "    with open(class_file_name[i]) as f:\n",
    "        lines = f.readlines()\n",
    "        lines = [l.split() for l in lines]\n",
    "        important_key_words.extend(lines)\n",
    "important_key_words = list(deepflatten(important_key_words, depth=1))\n",
    "important_key_words = [k.strip('\"') for k in important_key_words]\n",
    "print(important_key_words[:10])"
   ]
  },
  {
   "cell_type": "code",
   "execution_count": 9,
   "id": "0f9c9a2d-2dfa-44d4-bfe0-81e51f5a5df3",
   "metadata": {},
   "outputs": [
    {
     "name": "stdout",
     "output_type": "stream",
     "text": [
      "216\n",
      "199\n",
      "['star', 'war', 'darth', 'vader', 'obi-wan', 'kenobi', 'yoda', 'princess', 'leia', 'chewbacca', 'darth', 'maul', 'ira', 'uncl', 'owen', 'admir', 'ackbar', 'jabba', 'hut', 'skywalk', 'new', 'hope', 'empir', 'strike', 'back', 'return', 'jedi', 'phantom', 'menac', 'attack', 'clone', 'reveng', 'sith', 'forc', 'awaken', 'last', 'jedi', 'clone', 'war', 'marvel', 'cinemat', 'univers', 'mcu', 'thor', 'ant', 'man', 'falcon', 'hulk', 'luke', 'cage', 'doctor', 'strang', 'groot', 'punish', 'black', 'widow', 'jessica', 'jone', 'dare', 'devil', 'captain', 'america', 'loki', 'black', 'panther', 'spider', 'man', 'iron', 'man', 'scarlet', 'witch', 'captain', 'marvel', 'hawkey', 'star', 'lord', 'thano', 'etern', 'aveng', 'guardian', 'galaxi', 'monstervers', 'king', 'kong', 'anguiru', 'godzilla', 'mechak', 'ghidorah', 'mechagodzilla', 'king', 'ghidorah', 'muto', 'monster', 'mothra', 'preston', 'packard', 'alan', 'jonah', 'emma', 'russel', 'mark', 'russel', 'jame', 'conrad', 'mason', 'weaver', 'ford', 'brodi', 'madison', 'russel', 'joe', 'brodi', 'ishiro', 'serizawa', 'skull', 'island', 'king', 'monster', 'godzilla', 'kong', 'rodan', 'wizard', 'world', 'molli', 'weasley', 'newt', 'scamand', 'draco', 'malfoy', 'siriu', 'black', 'voldemort', 'dumbledor', 'severu', 'snape', 'ron', 'weasley', 'hermion', 'granger', 'harri', 'potter', 'philosoph', 'stone', 'chamber', 'secret', 'prison', 'azkaban', 'goblet', 'fire', 'order', 'phoenix', 'half-blood', 'princ', 'deathli', 'hallow', 'fantast', 'beast', 'crime', 'grindelwald', 'rowl', 'dc', 'extend', 'univers', 'dceu', 'flash', 'superman', 'batman', 'wonder', 'woman', 'aquaman', 'cyborg', 'shazam', 'harley', 'quinn', 'deadshot', 'bloodsport', 'peacemak', 'zod', 'faora-ul', 'lex', 'luthor', 'joker', 'man', 'steel', 'dawn', 'justic', 'suicid', 'squad', 'justic', 'leagu', 'bird', 'prey', 'zack', 'snyder', 'black', 'adam', 'batgirl', 'blue', 'beetl']\n"
     ]
    }
   ],
   "source": [
    "print(len(important_key_words))\n",
    "txt = \" \".join(important_key_words)\n",
    "selected_tags = []\n",
    "processed_key_words_stem = preprocess_doc(txt, stem=True, lemma=False, stop_wrds=True, selected_tags=selected_tags)\n",
    "print(len(processed_key_words_stem))\n",
    "print(processed_key_words_stem)"
   ]
  },
  {
   "cell_type": "code",
   "execution_count": 10,
   "id": "83d3117d-2ee7-4eb6-bda0-6806169e0181",
   "metadata": {},
   "outputs": [
    {
     "name": "stdout",
     "output_type": "stream",
     "text": [
      "216\n",
      "199\n",
      "['star', 'war', 'darth', 'vader', 'obi-wan', 'kenobi', 'yoda', 'princess', 'leia', 'chewbacca', 'darth', 'maul', 'ira', 'uncle', 'owen', 'admiral', 'ackbar', 'jabba', 'hut', 'skywalker', 'new', 'hope', 'empire', 'strike', 'back', 'return', 'jedi', 'phantom', 'menace', 'attack', 'clone', 'revenge', 'sith', 'force', 'awakens', 'last', 'jedi', 'clone', 'war', 'marvel', 'cinematic', 'universe', 'mcu', 'thor', 'ant', 'man', 'falcon', 'hulk', 'luke', 'cage', 'doctor', 'strange', 'groot', 'punisher', 'black', 'widow', 'jessica', 'jones', 'dare', 'devil', 'captain', 'america', 'loki', 'black', 'panther', 'spider', 'man', 'iron', 'man', 'scarlet', 'witch', 'captain', 'marvel', 'hawkeye', 'star', 'lord', 'thanos', 'eternals', 'avenger', 'guardian', 'galaxy', 'monsterverse', 'king', 'kong', 'anguirus', 'godzilla', 'mechaking', 'ghidorah', 'mechagodzilla', 'king', 'ghidorah', 'muto', 'monster', 'mothra', 'preston', 'packard', 'alan', 'jonah', 'emma', 'russell', 'mark', 'russell', 'james', 'conrad', 'mason', 'weaver', 'ford', 'brody', 'madison', 'russell', 'joe', 'brody', 'ishiro', 'serizawa', 'skull', 'island', 'king', 'monster', 'godzilla', 'kong', 'rodan', 'wizarding', 'world', 'molly', 'weasley', 'newt', 'scamander', 'draco', 'malfoy', 'sirius', 'black', 'voldemort', 'dumbledore', 'severus', 'snape', 'ron', 'weasley', 'hermione', 'granger', 'harry', 'potter', 'philosopher', 'stone', 'chamber', 'secret', 'prisoner', 'azkaban', 'goblet', 'fire', 'order', 'phoenix', 'half-blood', 'prince', 'deathly', 'hallows', 'fantastic', 'beast', 'crime', 'grindelwald', 'rowling', 'dc', 'extended', 'universe', 'dceu', 'flash', 'superman', 'batman', 'wonder', 'woman', 'aquaman', 'cyborg', 'shazam', 'harley', 'quinn', 'deadshot', 'bloodsport', 'peacemaker', 'zod', 'faora-ul', 'lex', 'luthor', 'joker', 'man', 'steel', 'dawn', 'justice', 'suicide', 'squad', 'justice', 'league', 'bird', 'prey', 'zack', 'snyder', 'black', 'adam', 'batgirl', 'blue', 'beetle']\n"
     ]
    }
   ],
   "source": [
    "print(len(important_key_words))\n",
    "txt = \" \".join(important_key_words)\n",
    "selected_tags = []\n",
    "processed_key_words_lemma = preprocess_doc(txt, stem=False, lemma=True, stop_wrds=True, selected_tags=selected_tags)\n",
    "print(len(processed_key_words_lemma))\n",
    "print(processed_key_words_lemma)"
   ]
  },
  {
   "cell_type": "code",
   "execution_count": 11,
   "id": "68fec341-45d5-460a-988e-95ef84eb6dee",
   "metadata": {},
   "outputs": [
    {
     "name": "stdout",
     "output_type": "stream",
     "text": [
      "\n",
      " \"Star Wars\" OR \"Darth Vader\" OR \"Obi-Wan Kenobi\" OR \"Yoda\" OR \"Princess Leia\" OR \"R2-D2\" OR \"Chewbacca\" OR \"Darth Maul\" OR \"C-3PO\" OR \"Q ira\" OR \"Uncle Owen\" OR \"Admiral Ackbar\" OR \"Jabba Hut\" OR \"Skywalker\" OR \"A New Hope\" OR \"Empire Strikes Back\" OR \"Return Jedi\" OR \"Phantom Menace\" OR \"Attack Clones\" OR \"Revenge Sith\" OR \"Force Awakens\" OR \"Last Jedi\" OR \"Clone Wars\" Star Wars \n",
      "\n",
      "Tweets extracted in output/tweets/ folder\n",
      "\n",
      " \"Marvel Cinematic Universe\" OR \"MCU\" OR \"Thor\" OR \"Ant Man\" OR \"Falcon\" OR \"Hulk\" OR \"Luke Cage\" OR \"Doctor Strange\" OR \"Groot\" OR \"Punisher\" OR \"Black Widow\" OR \"Jessica Jones\" OR \"Dare devil\" OR \"Captain America\" OR \"Loki\" OR \"Black Panther\" OR \"Spider Man\" OR \"Iron Man\" OR \"Scarlet Witch\" OR \"Captain Marvel\" OR \"Hawkeye\" OR \"Star Lord\" OR \"Thanos\" OR \"Eternals\" OR \"The Avengers\" OR \"Guardians of the Galaxy\" Marvel Cinematic Universe \n",
      "\n",
      "Tweets extracted in output/tweets/ folder\n",
      "\n",
      " \"MonsterVerse\" OR \"King Kong\" OR \"Anguirus\" OR \"Godzilla\" OR \"MechaKing Ghidorah\" OR \"Mechagodzilla\" OR \"King Ghidorah\" OR \"MUTO\" OR \"Monster X\" OR \"Mothra\" OR \"Preston Packard\" OR \"Alan Jonah\" OR \"Emma Russell\" OR \"Mark Russell\" OR \"James Conrad\" OR \"Mason Weaver\" OR \"Ford Brody\" OR \"Madison Russell\" OR \"Joe Brody\" OR \"Ishiro Serizawa\" OR \"Skull Island\" OR \"King of the Monsters\" OR \"Godzilla vs Kong\" OR \"Rodan\" MonsterVerse \n",
      "\n",
      "Tweets extracted in output/tweets/ folder\n",
      "\n",
      " \"Wizarding World\" OR \"Molly Weasley\" OR \"Newt Scamander\" OR \"Draco Malfoy\" OR \"Sirius Black\" OR \"Voldemort\" OR \"Dumbledore\" OR \"Severus Snape\" OR \"Ron Weasley\" OR \"Hermione Granger\" OR \"Harry Potter\" OR \"Philosopher's Stone\" OR \"Chamber Secrets\" OR \"Prisoner Azkaban\" OR \"Goblet Fire\" OR \"Order the Phoenix\" OR \"Half-Blood Prince\" OR \"Deathly Hallows\" OR \"Fantastic Beasts\" OR \"Crimes Grindelwald\" OR \"J K Rowling\" Wizarding World \n",
      "\n",
      "Tweets extracted in output/tweets/ folder\n",
      "\n",
      " \"DC Extended Universe\" OR \"DCEU\" OR \"Flash\" OR \"Superman\" OR \"Batman\" OR \"Wonder Woman\" OR \"Aquaman\" OR \"Cyborg\" OR \"Shazam\" OR \"Harley Quinn\" OR \"Deadshot\" OR \"Bloodsport\" OR \"Peacemaker\" OR \"Zod\" OR \"Faora-Ul\" OR \"Lex Luthor\" OR \"Joker\" OR \"Man of Steel\" OR \"Dawn of Justice\" OR \"Suicide Squad\" OR \"Justice League\" OR \"Birds of Prey\" OR \"Zack Snyder\" OR \"Black Adam\" OR \"Batgirl\" OR \"Blue Beetle\" DC Extended Universe \n",
      "\n",
      "Tweets extracted in output/tweets/ folder\n",
      "Wall time: 0 ns\n"
     ]
    }
   ],
   "source": [
    "%%time\n",
    "for i in range(len(class_list)):\n",
    "    print(\"\\n\", class_query_list[i], class_list[i], \"\\n\")\n",
    "    extract_tweets(class_query_list[i], class_list[i], fresh_load = False)"
   ]
  },
  {
   "cell_type": "code",
   "execution_count": 12,
   "id": "2a9c41f6-1202-412c-ab96-bc91356eedc6",
   "metadata": {},
   "outputs": [
    {
     "data": {
      "text/plain": [
       "[['DC Extended Universe',\n",
       "  'C:\\\\spark\\\\MCA\\\\Semester1\\\\E3_NLP\\\\Case_Study\\\\output\\\\tweets\\\\nlp_tweet_DC Extended Universe_2022-04-05_0332.csv'],\n",
       " ['Marvel Cinematic Universe',\n",
       "  'C:\\\\spark\\\\MCA\\\\Semester1\\\\E3_NLP\\\\Case_Study\\\\output\\\\tweets\\\\nlp_tweet_Marvel Cinematic Universe_2022-04-05_0332.csv'],\n",
       " ['MonsterVerse',\n",
       "  'C:\\\\spark\\\\MCA\\\\Semester1\\\\E3_NLP\\\\Case_Study\\\\output\\\\tweets\\\\nlp_tweet_MonsterVerse_2022-04-05_0332.csv'],\n",
       " ['Star Wars',\n",
       "  'C:\\\\spark\\\\MCA\\\\Semester1\\\\E3_NLP\\\\Case_Study\\\\output\\\\tweets\\\\nlp_tweet_Star Wars_2022-04-05_0332.csv'],\n",
       " ['Wizarding World',\n",
       "  'C:\\\\spark\\\\MCA\\\\Semester1\\\\E3_NLP\\\\Case_Study\\\\output\\\\tweets\\\\nlp_tweet_Wizarding World_2022-04-05_0332.csv']]"
      ]
     },
     "execution_count": 12,
     "metadata": {},
     "output_type": "execute_result"
    }
   ],
   "source": [
    "df_all_tweet_list = []\n",
    "class_output_files = []\n",
    "list_output_files = [os.getcwd()+\"\\\\output\\\\tweets\\\\\"+f for f in os.listdir(\"output/tweets/\")]\n",
    "def find_label(file_name):\n",
    "    for c in class_list:\n",
    "        if(file_name.find(c) >= 0):\n",
    "            return c\n",
    "    return None\n",
    "for f in list_output_files:\n",
    "    class_output_files.append([find_label(f), f])\n",
    "class_output_files"
   ]
  },
  {
   "cell_type": "code",
   "execution_count": 13,
   "id": "984c0a9e-f454-41cc-9fda-2a9418a8eb6f",
   "metadata": {},
   "outputs": [],
   "source": [
    "def get_full_text(label, file_name):\n",
    "    df_temp = pd.read_csv(file_name)\n",
    "    df_temp['label'] = label\n",
    "    return df_temp[['full_text','label']]\n",
    "class_tweet_list = []\n",
    "for val in class_output_files:\n",
    "    df_tweet_label = get_full_text(val[0], val[1])\n",
    "    class_tweet_list.append(df_tweet_label)"
   ]
  },
  {
   "cell_type": "code",
   "execution_count": 14,
   "id": "87540eea-7d24-4c93-8c46-d585b98ebc22",
   "metadata": {},
   "outputs": [
    {
     "data": {
      "text/html": [
       "<div>\n",
       "<style scoped>\n",
       "    .dataframe tbody tr th:only-of-type {\n",
       "        vertical-align: middle;\n",
       "    }\n",
       "\n",
       "    .dataframe tbody tr th {\n",
       "        vertical-align: top;\n",
       "    }\n",
       "\n",
       "    .dataframe thead th {\n",
       "        text-align: right;\n",
       "    }\n",
       "</style>\n",
       "<table border=\"1\" class=\"dataframe\">\n",
       "  <thead>\n",
       "    <tr style=\"text-align: right;\">\n",
       "      <th></th>\n",
       "      <th>full_text</th>\n",
       "      <th>label</th>\n",
       "    </tr>\n",
       "  </thead>\n",
       "  <tbody>\n",
       "    <tr>\n",
       "      <th>0</th>\n",
       "      <td>Barnes &amp;amp; Noble Pickup\\n\\nBarnes and Noble ...</td>\n",
       "      <td>DC Extended Universe</td>\n",
       "    </tr>\n",
       "    <tr>\n",
       "      <th>1</th>\n",
       "      <td>The True Crime Podcasts in the Batman universe...</td>\n",
       "      <td>DC Extended Universe</td>\n",
       "    </tr>\n",
       "    <tr>\n",
       "      <th>2</th>\n",
       "      <td>Want a free December's Dream Set!?❄🎀\\nFollow m...</td>\n",
       "      <td>DC Extended Universe</td>\n",
       "    </tr>\n",
       "    <tr>\n",
       "      <th>3</th>\n",
       "      <td>I'm about to put some of my original artwork u...</td>\n",
       "      <td>DC Extended Universe</td>\n",
       "    </tr>\n",
       "    <tr>\n",
       "      <th>4</th>\n",
       "      <td>@Darmson2 @ALMUBAR04 @MUFC_Boogie @king_polams...</td>\n",
       "      <td>DC Extended Universe</td>\n",
       "    </tr>\n",
       "    <tr>\n",
       "      <th>...</th>\n",
       "      <td>...</td>\n",
       "      <td>...</td>\n",
       "    </tr>\n",
       "    <tr>\n",
       "      <th>49795</th>\n",
       "      <td>@essteeem Harry Potter movie series</td>\n",
       "      <td>Wizarding World</td>\n",
       "    </tr>\n",
       "    <tr>\n",
       "      <th>49796</th>\n",
       "      <td>my heart aches reminiscing ot/12 era (minus vo...</td>\n",
       "      <td>Wizarding World</td>\n",
       "    </tr>\n",
       "    <tr>\n",
       "      <th>49797</th>\n",
       "      <td>@bfsnailea Harry Potter</td>\n",
       "      <td>Wizarding World</td>\n",
       "    </tr>\n",
       "    <tr>\n",
       "      <th>49798</th>\n",
       "      <td>Next. #Hogwartle 92 3/6\\n\\n⬜⬜⬜⬜⬜\\n🟩🟩⬜⬜⬜\\n🟩🟩🟩🟩🟩...</td>\n",
       "      <td>Wizarding World</td>\n",
       "    </tr>\n",
       "    <tr>\n",
       "      <th>49799</th>\n",
       "      <td>1927 HISTORY OF THE DISEASE \\n5 DAYS AGO \\nFAM...</td>\n",
       "      <td>Wizarding World</td>\n",
       "    </tr>\n",
       "  </tbody>\n",
       "</table>\n",
       "<p>49800 rows × 2 columns</p>\n",
       "</div>"
      ],
      "text/plain": [
       "                                               full_text                 label\n",
       "0      Barnes &amp; Noble Pickup\\n\\nBarnes and Noble ...  DC Extended Universe\n",
       "1      The True Crime Podcasts in the Batman universe...  DC Extended Universe\n",
       "2      Want a free December's Dream Set!?❄🎀\\nFollow m...  DC Extended Universe\n",
       "3      I'm about to put some of my original artwork u...  DC Extended Universe\n",
       "4      @Darmson2 @ALMUBAR04 @MUFC_Boogie @king_polams...  DC Extended Universe\n",
       "...                                                  ...                   ...\n",
       "49795                @essteeem Harry Potter movie series       Wizarding World\n",
       "49796  my heart aches reminiscing ot/12 era (minus vo...       Wizarding World\n",
       "49797                            @bfsnailea Harry Potter       Wizarding World\n",
       "49798  Next. #Hogwartle 92 3/6\\n\\n⬜⬜⬜⬜⬜\\n🟩🟩⬜⬜⬜\\n🟩🟩🟩🟩🟩...       Wizarding World\n",
       "49799  1927 HISTORY OF THE DISEASE \\n5 DAYS AGO \\nFAM...       Wizarding World\n",
       "\n",
       "[49800 rows x 2 columns]"
      ]
     },
     "execution_count": 14,
     "metadata": {},
     "output_type": "execute_result"
    }
   ],
   "source": [
    "final_tweet_df = pd.concat(class_tweet_list, axis=0, ignore_index=True)\n",
    "final_tweet_df.to_csv(\"output/final_output/full_tweet_list.csv\", index = False)\n",
    "final_tweet_df"
   ]
  },
  {
   "cell_type": "code",
   "execution_count": 15,
   "id": "25a2fe53-a189-4135-9ded-94c009215753",
   "metadata": {},
   "outputs": [
    {
     "data": {
      "text/html": [
       "<div>\n",
       "<style scoped>\n",
       "    .dataframe tbody tr th:only-of-type {\n",
       "        vertical-align: middle;\n",
       "    }\n",
       "\n",
       "    .dataframe tbody tr th {\n",
       "        vertical-align: top;\n",
       "    }\n",
       "\n",
       "    .dataframe thead th {\n",
       "        text-align: right;\n",
       "    }\n",
       "</style>\n",
       "<table border=\"1\" class=\"dataframe\">\n",
       "  <thead>\n",
       "    <tr style=\"text-align: right;\">\n",
       "      <th></th>\n",
       "      <th>Universe</th>\n",
       "      <th>Movie_Name</th>\n",
       "      <th>IMDB_Movie_Id</th>\n",
       "      <th>Movie_Name_Key</th>\n",
       "    </tr>\n",
       "  </thead>\n",
       "  <tbody>\n",
       "    <tr>\n",
       "      <th>0</th>\n",
       "      <td>Star Wars</td>\n",
       "      <td>A New Hope</td>\n",
       "      <td>76759</td>\n",
       "      <td>star_wars_a_new_hope</td>\n",
       "    </tr>\n",
       "    <tr>\n",
       "      <th>1</th>\n",
       "      <td>Star Wars</td>\n",
       "      <td>The Empire Strikes Back</td>\n",
       "      <td>80684</td>\n",
       "      <td>star_wars_the_empire_strikes_back</td>\n",
       "    </tr>\n",
       "    <tr>\n",
       "      <th>2</th>\n",
       "      <td>Star Wars</td>\n",
       "      <td>Return of the Jedi</td>\n",
       "      <td>86190</td>\n",
       "      <td>star_wars_episode_vi_return_of_the_jedi</td>\n",
       "    </tr>\n",
       "    <tr>\n",
       "      <th>3</th>\n",
       "      <td>Star Wars</td>\n",
       "      <td>The Phantom Menace</td>\n",
       "      <td>120915</td>\n",
       "      <td>star_wars_episode_i_the_phantom_menace</td>\n",
       "    </tr>\n",
       "    <tr>\n",
       "      <th>4</th>\n",
       "      <td>Star Wars</td>\n",
       "      <td>Attack of the Clones</td>\n",
       "      <td>121765</td>\n",
       "      <td>star_wars_episode_ii_attack_of_the_clones</td>\n",
       "    </tr>\n",
       "    <tr>\n",
       "      <th>...</th>\n",
       "      <td>...</td>\n",
       "      <td>...</td>\n",
       "      <td>...</td>\n",
       "      <td>...</td>\n",
       "    </tr>\n",
       "    <tr>\n",
       "      <th>59</th>\n",
       "      <td>Wizarding World</td>\n",
       "      <td>Harry Potter and the Half-Blood Prince</td>\n",
       "      <td>417741</td>\n",
       "      <td>harry_potter_and_the_half_blood_prince</td>\n",
       "    </tr>\n",
       "    <tr>\n",
       "      <th>60</th>\n",
       "      <td>Wizarding World</td>\n",
       "      <td>Harry Potter and the Deathly Hallows – Part 1</td>\n",
       "      <td>926084</td>\n",
       "      <td>harry_potter_and_the_deathly_hallows_part_1</td>\n",
       "    </tr>\n",
       "    <tr>\n",
       "      <th>61</th>\n",
       "      <td>Wizarding World</td>\n",
       "      <td>Harry Potter and the Deathly Hallows – Part 2</td>\n",
       "      <td>1201607</td>\n",
       "      <td>harry_potter_and_the_deathly_hallows_part_2</td>\n",
       "    </tr>\n",
       "    <tr>\n",
       "      <th>62</th>\n",
       "      <td>Wizarding World</td>\n",
       "      <td>Fantastic Beasts and Where to Find Them</td>\n",
       "      <td>3183660</td>\n",
       "      <td>fantastic_beasts_and_where_to_find_them</td>\n",
       "    </tr>\n",
       "    <tr>\n",
       "      <th>63</th>\n",
       "      <td>Wizarding World</td>\n",
       "      <td>Fantastic Beasts: The Crimes of Grindelwald</td>\n",
       "      <td>4123430</td>\n",
       "      <td>fantastic_beasts_the_crimes_of_grindelwald</td>\n",
       "    </tr>\n",
       "  </tbody>\n",
       "</table>\n",
       "<p>64 rows × 4 columns</p>\n",
       "</div>"
      ],
      "text/plain": [
       "           Universe                                     Movie_Name  \\\n",
       "0         Star Wars                                     A New Hope   \n",
       "1         Star Wars                        The Empire Strikes Back   \n",
       "2         Star Wars                             Return of the Jedi   \n",
       "3         Star Wars                             The Phantom Menace   \n",
       "4         Star Wars                           Attack of the Clones   \n",
       "..              ...                                            ...   \n",
       "59  Wizarding World         Harry Potter and the Half-Blood Prince   \n",
       "60  Wizarding World  Harry Potter and the Deathly Hallows – Part 1   \n",
       "61  Wizarding World  Harry Potter and the Deathly Hallows – Part 2   \n",
       "62  Wizarding World        Fantastic Beasts and Where to Find Them   \n",
       "63  Wizarding World    Fantastic Beasts: The Crimes of Grindelwald   \n",
       "\n",
       "    IMDB_Movie_Id                               Movie_Name_Key  \n",
       "0           76759                         star_wars_a_new_hope  \n",
       "1           80684            star_wars_the_empire_strikes_back  \n",
       "2           86190      star_wars_episode_vi_return_of_the_jedi  \n",
       "3          120915       star_wars_episode_i_the_phantom_menace  \n",
       "4          121765    star_wars_episode_ii_attack_of_the_clones  \n",
       "..            ...                                          ...  \n",
       "59         417741       harry_potter_and_the_half_blood_prince  \n",
       "60         926084  harry_potter_and_the_deathly_hallows_part_1  \n",
       "61        1201607  harry_potter_and_the_deathly_hallows_part_2  \n",
       "62        3183660      fantastic_beasts_and_where_to_find_them  \n",
       "63        4123430   fantastic_beasts_the_crimes_of_grindelwald  \n",
       "\n",
       "[64 rows x 4 columns]"
      ]
     },
     "execution_count": 15,
     "metadata": {},
     "output_type": "execute_result"
    }
   ],
   "source": [
    "df_movies_id = pd.read_csv(\"input/imdb_movie_list.csv\")\n",
    "df_movies_id"
   ]
  },
  {
   "cell_type": "code",
   "execution_count": 16,
   "id": "f99b1c7d-88b9-43fe-b5fa-3d403bf215b0",
   "metadata": {},
   "outputs": [
    {
     "name": "stdout",
     "output_type": "stream",
     "text": [
      "Extracted IMDB reviews to output/final_output/full_imdb_review_list.csv\n"
     ]
    }
   ],
   "source": [
    "fresh_load=False\n",
    "extract_imdb_reviews(df_movies_id, fresh_load)"
   ]
  },
  {
   "cell_type": "code",
   "execution_count": 17,
   "id": "264af28b-e9d4-4762-b511-f503f7ee8b30",
   "metadata": {},
   "outputs": [
    {
     "data": {
      "text/html": [
       "<div>\n",
       "<style scoped>\n",
       "    .dataframe tbody tr th:only-of-type {\n",
       "        vertical-align: middle;\n",
       "    }\n",
       "\n",
       "    .dataframe tbody tr th {\n",
       "        vertical-align: top;\n",
       "    }\n",
       "\n",
       "    .dataframe thead th {\n",
       "        text-align: right;\n",
       "    }\n",
       "</style>\n",
       "<table border=\"1\" class=\"dataframe\">\n",
       "  <thead>\n",
       "    <tr style=\"text-align: right;\">\n",
       "      <th></th>\n",
       "      <th>full_text</th>\n",
       "      <th>label</th>\n",
       "    </tr>\n",
       "  </thead>\n",
       "  <tbody>\n",
       "    <tr>\n",
       "      <th>0</th>\n",
       "      <td>Henry Cavil is my Superman. He's the best Supe...</td>\n",
       "      <td>DC Extended Universe</td>\n",
       "    </tr>\n",
       "    <tr>\n",
       "      <th>1</th>\n",
       "      <td>A QUICK \" DVD-REVIEW \" .HENRY CAVILL ⭐ CARRIES...</td>\n",
       "      <td>DC Extended Universe</td>\n",
       "    </tr>\n",
       "    <tr>\n",
       "      <th>2</th>\n",
       "      <td>Hands down the best Superman movie out there. ...</td>\n",
       "      <td>DC Extended Universe</td>\n",
       "    </tr>\n",
       "    <tr>\n",
       "      <th>3</th>\n",
       "      <td>At first I was very nervous at the prospect of...</td>\n",
       "      <td>DC Extended Universe</td>\n",
       "    </tr>\n",
       "    <tr>\n",
       "      <th>4</th>\n",
       "      <td>So we are looking at essentially a remake of S...</td>\n",
       "      <td>DC Extended Universe</td>\n",
       "    </tr>\n",
       "  </tbody>\n",
       "</table>\n",
       "</div>"
      ],
      "text/plain": [
       "                                           full_text                 label\n",
       "0  Henry Cavil is my Superman. He's the best Supe...  DC Extended Universe\n",
       "1  A QUICK \" DVD-REVIEW \" .HENRY CAVILL ⭐ CARRIES...  DC Extended Universe\n",
       "2  Hands down the best Superman movie out there. ...  DC Extended Universe\n",
       "3  At first I was very nervous at the prospect of...  DC Extended Universe\n",
       "4  So we are looking at essentially a remake of S...  DC Extended Universe"
      ]
     },
     "execution_count": 17,
     "metadata": {},
     "output_type": "execute_result"
    }
   ],
   "source": [
    "final_imdb_df = pd.read_csv(\"output/final_output/full_imdb_review_list.csv\")\n",
    "final_imdb_df.head()"
   ]
  },
  {
   "cell_type": "code",
   "execution_count": 18,
   "id": "653cd604-5215-4c70-b59d-bf90bd75a473",
   "metadata": {},
   "outputs": [],
   "source": [
    "final_input_df = pd.concat([final_imdb_df,final_tweet_df], axis=0, ignore_index=True)\n",
    "final_input_df = final_input_df.sample(frac=1, random_state=42).reset_index(drop=True)    ## Shuffling Dataframe\n",
    "final_input_df.to_csv(\"output/final_output/final_input_df.csv\", index = False)"
   ]
  },
  {
   "cell_type": "code",
   "execution_count": 19,
   "id": "cd10c7f2-2cd2-4fca-b687-dcdb81218376",
   "metadata": {},
   "outputs": [
    {
     "data": {
      "text/html": [
       "<div>\n",
       "<style scoped>\n",
       "    .dataframe tbody tr th:only-of-type {\n",
       "        vertical-align: middle;\n",
       "    }\n",
       "\n",
       "    .dataframe tbody tr th {\n",
       "        vertical-align: top;\n",
       "    }\n",
       "\n",
       "    .dataframe thead th {\n",
       "        text-align: right;\n",
       "    }\n",
       "</style>\n",
       "<table border=\"1\" class=\"dataframe\">\n",
       "  <thead>\n",
       "    <tr style=\"text-align: right;\">\n",
       "      <th></th>\n",
       "      <th>full_text</th>\n",
       "      <th>label</th>\n",
       "    </tr>\n",
       "  </thead>\n",
       "  <tbody>\n",
       "    <tr>\n",
       "      <th>0</th>\n",
       "      <td>‘#GuardiansoftheGalaxy 3’ Star #KarenGillan Sa...</td>\n",
       "      <td>Marvel Cinematic Universe</td>\n",
       "    </tr>\n",
       "    <tr>\n",
       "      <th>1</th>\n",
       "      <td>My friend recommend me a few shows and I have ...</td>\n",
       "      <td>DC Extended Universe</td>\n",
       "    </tr>\n",
       "    <tr>\n",
       "      <th>2</th>\n",
       "      <td>@Papa__Drago Godzilla would win easily but jus...</td>\n",
       "      <td>MonsterVerse</td>\n",
       "    </tr>\n",
       "    <tr>\n",
       "      <th>3</th>\n",
       "      <td>Batman &amp;amp; Robin...It's so camp https://t.co...</td>\n",
       "      <td>DC Extended Universe</td>\n",
       "    </tr>\n",
       "    <tr>\n",
       "      <th>4</th>\n",
       "      <td>why is huge ant man moving so slow</td>\n",
       "      <td>Marvel Cinematic Universe</td>\n",
       "    </tr>\n",
       "    <tr>\n",
       "      <th>...</th>\n",
       "      <td>...</td>\n",
       "      <td>...</td>\n",
       "    </tr>\n",
       "    <tr>\n",
       "      <th>51457</th>\n",
       "      <td>@tortoisethatwon @aightmoe @Sarcasm_bender End...</td>\n",
       "      <td>DC Extended Universe</td>\n",
       "    </tr>\n",
       "    <tr>\n",
       "      <th>51458</th>\n",
       "      <td>@iHrtProngs SIRIUS BLACK DOES NOT HAVE A BAD H...</td>\n",
       "      <td>Wizarding World</td>\n",
       "    </tr>\n",
       "    <tr>\n",
       "      <th>51459</th>\n",
       "      <td>@aNorthernGarden @fiona_skywalker Agreed. She ...</td>\n",
       "      <td>Star Wars</td>\n",
       "    </tr>\n",
       "    <tr>\n",
       "      <th>51460</th>\n",
       "      <td>And so my long Marvel-watching journey comes t...</td>\n",
       "      <td>Marvel Cinematic Universe</td>\n",
       "    </tr>\n",
       "    <tr>\n",
       "      <th>51461</th>\n",
       "      <td>@mumbichilopa_jr Contact @DzaddyX  for more in...</td>\n",
       "      <td>Marvel Cinematic Universe</td>\n",
       "    </tr>\n",
       "  </tbody>\n",
       "</table>\n",
       "<p>51462 rows × 2 columns</p>\n",
       "</div>"
      ],
      "text/plain": [
       "                                               full_text  \\\n",
       "0      ‘#GuardiansoftheGalaxy 3’ Star #KarenGillan Sa...   \n",
       "1      My friend recommend me a few shows and I have ...   \n",
       "2      @Papa__Drago Godzilla would win easily but jus...   \n",
       "3      Batman &amp; Robin...It's so camp https://t.co...   \n",
       "4                     why is huge ant man moving so slow   \n",
       "...                                                  ...   \n",
       "51457  @tortoisethatwon @aightmoe @Sarcasm_bender End...   \n",
       "51458  @iHrtProngs SIRIUS BLACK DOES NOT HAVE A BAD H...   \n",
       "51459  @aNorthernGarden @fiona_skywalker Agreed. She ...   \n",
       "51460  And so my long Marvel-watching journey comes t...   \n",
       "51461  @mumbichilopa_jr Contact @DzaddyX  for more in...   \n",
       "\n",
       "                           label  \n",
       "0      Marvel Cinematic Universe  \n",
       "1           DC Extended Universe  \n",
       "2                   MonsterVerse  \n",
       "3           DC Extended Universe  \n",
       "4      Marvel Cinematic Universe  \n",
       "...                          ...  \n",
       "51457       DC Extended Universe  \n",
       "51458            Wizarding World  \n",
       "51459                  Star Wars  \n",
       "51460  Marvel Cinematic Universe  \n",
       "51461  Marvel Cinematic Universe  \n",
       "\n",
       "[51462 rows x 2 columns]"
      ]
     },
     "execution_count": 19,
     "metadata": {},
     "output_type": "execute_result"
    }
   ],
   "source": [
    "final_input_df = pd.read_csv(\"output/final_output/final_input_df.csv\")\n",
    "final_input_df"
   ]
  },
  {
   "cell_type": "code",
   "execution_count": 20,
   "id": "073dc7e4-3f33-4edb-a55b-ca508e76b0e7",
   "metadata": {},
   "outputs": [],
   "source": [
    "tags = nltk.data.load('help/tagsets/upenn_tagset.pickle')\n",
    "#nltk.help.upenn_tagset()\n",
    "#selected_tags = ['NN','NNP','NNPS','NNS','JJ','JJR','JJS']\n",
    "selected_tags = ['NN','NNP','NNPS','NNS']"
   ]
  },
  {
   "cell_type": "code",
   "execution_count": 21,
   "id": "3db82782-437c-4539-a658-c1e2c9f500be",
   "metadata": {},
   "outputs": [
    {
     "name": "stdout",
     "output_type": "stream",
     "text": [
      "[('@', 'NN'), ('Papa__Drago', 'NNP'), ('Godzilla', 'NNP'), ('would', 'MD'), ('win', 'VB'), ('easily', 'RB'), ('but', 'CC'), ('just', 'RB'), ('seeing', 'VBG'), ('him', 'PRP'), ('tear', 'VB'), ('through', 'IN'), ('hundreds', 'NNS'), ('of', 'IN'), ('titans', 'NNS'), ('WOULD', 'NNP'), ('BE', 'NNP'), ('SO', 'NNP'), ('FREAKING', 'NNP'), ('COOL', 'NNP'), ('!', '.'), ('OMG', 'NN')]\n",
      "@Papa__Drago Godzilla would win easily but just seeing him tear through hundreds of titans WOULD BE SO FREAKING COOL! OMG\n",
      "['papa', 'drago', 'godzilla', 'titan', 'omg']\n"
     ]
    }
   ],
   "source": [
    "sample_text = final_input_df['full_text'][2]\n",
    "print(pos_tag(word_tokenize(sample_text)))\n",
    "print(sample_text)\n",
    "sample_text = preprocess_doc(sample_text, False, True, True, selected_tags)\n",
    "print(sample_text)"
   ]
  },
  {
   "cell_type": "code",
   "execution_count": 22,
   "id": "55d9df6d-9d1a-4526-9a47-b9db7ebbd051",
   "metadata": {},
   "outputs": [
    {
     "name": "stdout",
     "output_type": "stream",
     "text": [
      "Stems and Lemma extracted to output/final_output/final_input_cleaned_stem_lemma.csv\n"
     ]
    }
   ],
   "source": [
    "extract_stems_lemma(selected_tags, final_input_df, fresh_load= False)"
   ]
  },
  {
   "cell_type": "code",
   "execution_count": 23,
   "id": "07dfc1ae-19c3-466a-8c86-c6813e3aee69",
   "metadata": {},
   "outputs": [],
   "source": [
    "final_input_df = pd.read_csv(\"output/final_output/final_input_cleaned_stem_lemma.csv\")"
   ]
  },
  {
   "cell_type": "code",
   "execution_count": 24,
   "id": "0b5d9ca9-ce97-4e60-bceb-5de6ccf2a39e",
   "metadata": {},
   "outputs": [
    {
     "data": {
      "text/html": [
       "<div>\n",
       "<style scoped>\n",
       "    .dataframe tbody tr th:only-of-type {\n",
       "        vertical-align: middle;\n",
       "    }\n",
       "\n",
       "    .dataframe tbody tr th {\n",
       "        vertical-align: top;\n",
       "    }\n",
       "\n",
       "    .dataframe thead th {\n",
       "        text-align: right;\n",
       "    }\n",
       "</style>\n",
       "<table border=\"1\" class=\"dataframe\">\n",
       "  <thead>\n",
       "    <tr style=\"text-align: right;\">\n",
       "      <th></th>\n",
       "      <th>full_text</th>\n",
       "      <th>label</th>\n",
       "      <th>stem_cleaned_tokens</th>\n",
       "      <th>lemma_cleaned_tokens</th>\n",
       "      <th>label_id</th>\n",
       "    </tr>\n",
       "  </thead>\n",
       "  <tbody>\n",
       "    <tr>\n",
       "      <th>0</th>\n",
       "      <td>‘#GuardiansoftheGalaxy 3’ Star #KarenGillan Sa...</td>\n",
       "      <td>Marvel Cinematic Universe</td>\n",
       "      <td>['guardiansofthegalaxi', 'star', 'karengillan'...</td>\n",
       "      <td>['guardiansofthegalaxy', 'star', 'karengillan'...</td>\n",
       "      <td>1</td>\n",
       "    </tr>\n",
       "    <tr>\n",
       "      <th>1</th>\n",
       "      <td>My friend recommend me a few shows and I have ...</td>\n",
       "      <td>DC Extended Universe</td>\n",
       "      <td>['friend', 'show', 'idea', 'flash', 'guy', 'sh...</td>\n",
       "      <td>['friend', 'show', 'idea', 'flash', 'guy', 'sh...</td>\n",
       "      <td>0</td>\n",
       "    </tr>\n",
       "    <tr>\n",
       "      <th>2</th>\n",
       "      <td>@Papa__Drago Godzilla would win easily but jus...</td>\n",
       "      <td>MonsterVerse</td>\n",
       "      <td>['papa', 'drago', 'godzilla', 'hundr', 'titan'...</td>\n",
       "      <td>['papa', 'drago', 'godzilla', 'titan', 'omg']</td>\n",
       "      <td>2</td>\n",
       "    </tr>\n",
       "    <tr>\n",
       "      <th>3</th>\n",
       "      <td>Batman &amp;amp; Robin...It's so camp https://t.co...</td>\n",
       "      <td>DC Extended Universe</td>\n",
       "      <td>['batman', 'robin', 'camp']</td>\n",
       "      <td>['batman', 'robin', 'camp']</td>\n",
       "      <td>0</td>\n",
       "    </tr>\n",
       "    <tr>\n",
       "      <th>4</th>\n",
       "      <td>why is huge ant man moving so slow</td>\n",
       "      <td>Marvel Cinematic Universe</td>\n",
       "      <td>['ant', 'man', 'move']</td>\n",
       "      <td>['ant', 'man']</td>\n",
       "      <td>1</td>\n",
       "    </tr>\n",
       "    <tr>\n",
       "      <th>...</th>\n",
       "      <td>...</td>\n",
       "      <td>...</td>\n",
       "      <td>...</td>\n",
       "      <td>...</td>\n",
       "      <td>...</td>\n",
       "    </tr>\n",
       "    <tr>\n",
       "      <th>51457</th>\n",
       "      <td>@tortoisethatwon @aightmoe @Sarcasm_bender End...</td>\n",
       "      <td>DC Extended Universe</td>\n",
       "      <td>['tortoisethatwon', 'aightmo', 'sarcasm', 'ben...</td>\n",
       "      <td>['tortoisethatwon', 'aightmoe', 'sarcasm', 'be...</td>\n",
       "      <td>0</td>\n",
       "    </tr>\n",
       "    <tr>\n",
       "      <th>51458</th>\n",
       "      <td>@iHrtProngs SIRIUS BLACK DOES NOT HAVE A BAD H...</td>\n",
       "      <td>Wizarding World</td>\n",
       "      <td>['hair', 'day']</td>\n",
       "      <td>['ihrtprongs', 'hair', 'day']</td>\n",
       "      <td>4</td>\n",
       "    </tr>\n",
       "    <tr>\n",
       "      <th>51459</th>\n",
       "      <td>@aNorthernGarden @fiona_skywalker Agreed. She ...</td>\n",
       "      <td>Star Wars</td>\n",
       "      <td>['fiona', 'skywalk', 'liter', 'ask', 'comment'...</td>\n",
       "      <td>['fiona', 'skywalker', 'input', 'earns', 'hous...</td>\n",
       "      <td>3</td>\n",
       "    </tr>\n",
       "    <tr>\n",
       "      <th>51460</th>\n",
       "      <td>And so my long Marvel-watching journey comes t...</td>\n",
       "      <td>Marvel Cinematic Universe</td>\n",
       "      <td>['marvel-watch', 'journey', 'caught', 'endless...</td>\n",
       "      <td>['journey', 'end', 'franchise', 'eon', 'rest',...</td>\n",
       "      <td>1</td>\n",
       "    </tr>\n",
       "    <tr>\n",
       "      <th>51461</th>\n",
       "      <td>@mumbichilopa_jr Contact @DzaddyX  for more in...</td>\n",
       "      <td>Marvel Cinematic Universe</td>\n",
       "      <td>['mumbichilopa', 'contact', 'dzaddyx', 'inform']</td>\n",
       "      <td>['mumbichilopa', 'contact', 'dzaddyx', 'inform...</td>\n",
       "      <td>1</td>\n",
       "    </tr>\n",
       "  </tbody>\n",
       "</table>\n",
       "<p>51462 rows × 5 columns</p>\n",
       "</div>"
      ],
      "text/plain": [
       "                                               full_text  \\\n",
       "0      ‘#GuardiansoftheGalaxy 3’ Star #KarenGillan Sa...   \n",
       "1      My friend recommend me a few shows and I have ...   \n",
       "2      @Papa__Drago Godzilla would win easily but jus...   \n",
       "3      Batman &amp; Robin...It's so camp https://t.co...   \n",
       "4                     why is huge ant man moving so slow   \n",
       "...                                                  ...   \n",
       "51457  @tortoisethatwon @aightmoe @Sarcasm_bender End...   \n",
       "51458  @iHrtProngs SIRIUS BLACK DOES NOT HAVE A BAD H...   \n",
       "51459  @aNorthernGarden @fiona_skywalker Agreed. She ...   \n",
       "51460  And so my long Marvel-watching journey comes t...   \n",
       "51461  @mumbichilopa_jr Contact @DzaddyX  for more in...   \n",
       "\n",
       "                           label  \\\n",
       "0      Marvel Cinematic Universe   \n",
       "1           DC Extended Universe   \n",
       "2                   MonsterVerse   \n",
       "3           DC Extended Universe   \n",
       "4      Marvel Cinematic Universe   \n",
       "...                          ...   \n",
       "51457       DC Extended Universe   \n",
       "51458            Wizarding World   \n",
       "51459                  Star Wars   \n",
       "51460  Marvel Cinematic Universe   \n",
       "51461  Marvel Cinematic Universe   \n",
       "\n",
       "                                     stem_cleaned_tokens  \\\n",
       "0      ['guardiansofthegalaxi', 'star', 'karengillan'...   \n",
       "1      ['friend', 'show', 'idea', 'flash', 'guy', 'sh...   \n",
       "2      ['papa', 'drago', 'godzilla', 'hundr', 'titan'...   \n",
       "3                            ['batman', 'robin', 'camp']   \n",
       "4                                 ['ant', 'man', 'move']   \n",
       "...                                                  ...   \n",
       "51457  ['tortoisethatwon', 'aightmo', 'sarcasm', 'ben...   \n",
       "51458                                    ['hair', 'day']   \n",
       "51459  ['fiona', 'skywalk', 'liter', 'ask', 'comment'...   \n",
       "51460  ['marvel-watch', 'journey', 'caught', 'endless...   \n",
       "51461   ['mumbichilopa', 'contact', 'dzaddyx', 'inform']   \n",
       "\n",
       "                                    lemma_cleaned_tokens  label_id  \n",
       "0      ['guardiansofthegalaxy', 'star', 'karengillan'...         1  \n",
       "1      ['friend', 'show', 'idea', 'flash', 'guy', 'sh...         0  \n",
       "2          ['papa', 'drago', 'godzilla', 'titan', 'omg']         2  \n",
       "3                            ['batman', 'robin', 'camp']         0  \n",
       "4                                         ['ant', 'man']         1  \n",
       "...                                                  ...       ...  \n",
       "51457  ['tortoisethatwon', 'aightmoe', 'sarcasm', 'be...         0  \n",
       "51458                      ['ihrtprongs', 'hair', 'day']         4  \n",
       "51459  ['fiona', 'skywalker', 'input', 'earns', 'hous...         3  \n",
       "51460  ['journey', 'end', 'franchise', 'eon', 'rest',...         1  \n",
       "51461  ['mumbichilopa', 'contact', 'dzaddyx', 'inform...         1  \n",
       "\n",
       "[51462 rows x 5 columns]"
      ]
     },
     "execution_count": 24,
     "metadata": {},
     "output_type": "execute_result"
    }
   ],
   "source": [
    "final_input_df['label_id'] = final_input_df['label'].astype(\"category\").cat.codes\n",
    "final_input_df"
   ]
  },
  {
   "cell_type": "code",
   "execution_count": 25,
   "id": "7be38e19-a1e6-41c7-a5d2-9f3f8f2aaf93",
   "metadata": {},
   "outputs": [
    {
     "data": {
      "text/html": [
       "<div>\n",
       "<style scoped>\n",
       "    .dataframe tbody tr th:only-of-type {\n",
       "        vertical-align: middle;\n",
       "    }\n",
       "\n",
       "    .dataframe tbody tr th {\n",
       "        vertical-align: top;\n",
       "    }\n",
       "\n",
       "    .dataframe thead th {\n",
       "        text-align: right;\n",
       "    }\n",
       "</style>\n",
       "<table border=\"1\" class=\"dataframe\">\n",
       "  <thead>\n",
       "    <tr style=\"text-align: right;\">\n",
       "      <th></th>\n",
       "      <th>stem_cleaned_tokens</th>\n",
       "      <th>label</th>\n",
       "      <th>label_id</th>\n",
       "    </tr>\n",
       "  </thead>\n",
       "  <tbody>\n",
       "    <tr>\n",
       "      <th>0</th>\n",
       "      <td>['guardiansofthegalaxi', 'star', 'karengillan'...</td>\n",
       "      <td>Marvel Cinematic Universe</td>\n",
       "      <td>1</td>\n",
       "    </tr>\n",
       "    <tr>\n",
       "      <th>1</th>\n",
       "      <td>['friend', 'show', 'idea', 'flash', 'guy', 'sh...</td>\n",
       "      <td>DC Extended Universe</td>\n",
       "      <td>0</td>\n",
       "    </tr>\n",
       "    <tr>\n",
       "      <th>2</th>\n",
       "      <td>['papa', 'drago', 'godzilla', 'hundr', 'titan'...</td>\n",
       "      <td>MonsterVerse</td>\n",
       "      <td>2</td>\n",
       "    </tr>\n",
       "    <tr>\n",
       "      <th>3</th>\n",
       "      <td>['batman', 'robin', 'camp']</td>\n",
       "      <td>DC Extended Universe</td>\n",
       "      <td>0</td>\n",
       "    </tr>\n",
       "    <tr>\n",
       "      <th>4</th>\n",
       "      <td>['ant', 'man', 'move']</td>\n",
       "      <td>Marvel Cinematic Universe</td>\n",
       "      <td>1</td>\n",
       "    </tr>\n",
       "  </tbody>\n",
       "</table>\n",
       "</div>"
      ],
      "text/plain": [
       "                                 stem_cleaned_tokens  \\\n",
       "0  ['guardiansofthegalaxi', 'star', 'karengillan'...   \n",
       "1  ['friend', 'show', 'idea', 'flash', 'guy', 'sh...   \n",
       "2  ['papa', 'drago', 'godzilla', 'hundr', 'titan'...   \n",
       "3                        ['batman', 'robin', 'camp']   \n",
       "4                             ['ant', 'man', 'move']   \n",
       "\n",
       "                       label  label_id  \n",
       "0  Marvel Cinematic Universe         1  \n",
       "1       DC Extended Universe         0  \n",
       "2               MonsterVerse         2  \n",
       "3       DC Extended Universe         0  \n",
       "4  Marvel Cinematic Universe         1  "
      ]
     },
     "execution_count": 25,
     "metadata": {},
     "output_type": "execute_result"
    }
   ],
   "source": [
    "df_vectorization = final_input_df[['stem_cleaned_tokens', 'label', 'label_id']]\n",
    "df_vectorization.head()"
   ]
  },
  {
   "cell_type": "code",
   "execution_count": 26,
   "id": "d4689d7e-82fd-46cd-a7cc-2289a19dbf85",
   "metadata": {},
   "outputs": [
    {
     "name": "stdout",
     "output_type": "stream",
     "text": [
      "{0: 'DC Extended Universe', 1: 'Marvel Cinematic Universe', 2: 'MonsterVerse', 3: 'Star Wars', 4: 'Wizarding World'}\n"
     ]
    }
   ],
   "source": [
    "dfvg = df_vectorization.groupby(['label', 'label_id'])\n",
    "classes = {}\n",
    "for d in dfvg:\n",
    "    classes[d[0][1]] = d[0][0]\n",
    "print(classes)"
   ]
  },
  {
   "cell_type": "code",
   "execution_count": 27,
   "id": "27cf4264-30ab-4fa2-a29b-d53635d120bf",
   "metadata": {},
   "outputs": [
    {
     "data": {
      "text/html": [
       "<div>\n",
       "<style scoped>\n",
       "    .dataframe tbody tr th:only-of-type {\n",
       "        vertical-align: middle;\n",
       "    }\n",
       "\n",
       "    .dataframe tbody tr th {\n",
       "        vertical-align: top;\n",
       "    }\n",
       "\n",
       "    .dataframe thead th {\n",
       "        text-align: right;\n",
       "    }\n",
       "</style>\n",
       "<table border=\"1\" class=\"dataframe\">\n",
       "  <thead>\n",
       "    <tr style=\"text-align: right;\">\n",
       "      <th></th>\n",
       "      <th>lemma_cleaned_tokens</th>\n",
       "      <th>label</th>\n",
       "      <th>label_id</th>\n",
       "    </tr>\n",
       "  </thead>\n",
       "  <tbody>\n",
       "    <tr>\n",
       "      <th>0</th>\n",
       "      <td>['guardiansofthegalaxy', 'star', 'karengillan'...</td>\n",
       "      <td>Marvel Cinematic Universe</td>\n",
       "      <td>1</td>\n",
       "    </tr>\n",
       "    <tr>\n",
       "      <th>1</th>\n",
       "      <td>['friend', 'show', 'idea', 'flash', 'guy', 'sh...</td>\n",
       "      <td>DC Extended Universe</td>\n",
       "      <td>0</td>\n",
       "    </tr>\n",
       "    <tr>\n",
       "      <th>2</th>\n",
       "      <td>['papa', 'drago', 'godzilla', 'titan', 'omg']</td>\n",
       "      <td>MonsterVerse</td>\n",
       "      <td>2</td>\n",
       "    </tr>\n",
       "    <tr>\n",
       "      <th>3</th>\n",
       "      <td>['batman', 'robin', 'camp']</td>\n",
       "      <td>DC Extended Universe</td>\n",
       "      <td>0</td>\n",
       "    </tr>\n",
       "    <tr>\n",
       "      <th>4</th>\n",
       "      <td>['ant', 'man']</td>\n",
       "      <td>Marvel Cinematic Universe</td>\n",
       "      <td>1</td>\n",
       "    </tr>\n",
       "  </tbody>\n",
       "</table>\n",
       "</div>"
      ],
      "text/plain": [
       "                                lemma_cleaned_tokens  \\\n",
       "0  ['guardiansofthegalaxy', 'star', 'karengillan'...   \n",
       "1  ['friend', 'show', 'idea', 'flash', 'guy', 'sh...   \n",
       "2      ['papa', 'drago', 'godzilla', 'titan', 'omg']   \n",
       "3                        ['batman', 'robin', 'camp']   \n",
       "4                                     ['ant', 'man']   \n",
       "\n",
       "                       label  label_id  \n",
       "0  Marvel Cinematic Universe         1  \n",
       "1       DC Extended Universe         0  \n",
       "2               MonsterVerse         2  \n",
       "3       DC Extended Universe         0  \n",
       "4  Marvel Cinematic Universe         1  "
      ]
     },
     "execution_count": 27,
     "metadata": {},
     "output_type": "execute_result"
    }
   ],
   "source": [
    "df_embedding = final_input_df[['lemma_cleaned_tokens', 'label', 'label_id']]\n",
    "df_embedding.head()"
   ]
  },
  {
   "cell_type": "code",
   "execution_count": 28,
   "id": "2f852f1d-5630-4bd8-9db9-6c50d3c89ec9",
   "metadata": {},
   "outputs": [
    {
     "data": {
      "text/plain": [
       "51462"
      ]
     },
     "execution_count": 28,
     "metadata": {},
     "output_type": "execute_result"
    }
   ],
   "source": [
    "len(df_embedding)"
   ]
  },
  {
   "cell_type": "code",
   "execution_count": 29,
   "id": "ddad8a8a-169c-4001-b327-aa5531054b84",
   "metadata": {},
   "outputs": [
    {
     "name": "stdout",
     "output_type": "stream",
     "text": [
      "Wall time: 6.87 s\n"
     ]
    }
   ],
   "source": [
    "%%time\n",
    "list_stemmed_data = []\n",
    "list_embedding_data = []\n",
    "for i in df_vectorization.index:\n",
    "    exec(\"lst = \" + df_vectorization['stem_cleaned_tokens'][i])\n",
    "    lst = clean_tokens(lst)\n",
    "    list_stemmed_data.append(\" \".join(lst))\n",
    "    exec(\"lst2 = \" + df_embedding['lemma_cleaned_tokens'][i])\n",
    "    lst2 = clean_tokens(lst2)\n",
    "    list_embedding_data.append(\" \".join(lst2))"
   ]
  },
  {
   "cell_type": "markdown",
   "id": "e0c915bb-ea29-4fb7-8ec7-e59e08285337",
   "metadata": {},
   "source": [
    "# <font color='orange'>  <center> Basic Vectorization"
   ]
  },
  {
   "cell_type": "code",
   "execution_count": 30,
   "id": "66bf2bdd-2d44-45ed-9329-923616e94917",
   "metadata": {},
   "outputs": [
    {
     "name": "stdout",
     "output_type": "stream",
     "text": [
      "Wall time: 2.35 s\n"
     ]
    }
   ],
   "source": [
    "%%time\n",
    "tf_idf_vectorizer = TfidfVectorizer(ngram_range = (1,3), analyzer='word', min_df=2)\n",
    "vectorized_text=tf_idf_vectorizer.fit_transform(list_stemmed_data)"
   ]
  },
  {
   "cell_type": "code",
   "execution_count": 31,
   "id": "14cb9510-b25d-40be-acaa-e5943155ef23",
   "metadata": {},
   "outputs": [
    {
     "data": {
      "text/plain": [
       "array(['abaddon', 'abaga', 'abaga eniolamaf', ..., 'zuri whitak',\n",
       "       'zxshadowacexz', 'zypisfi'], dtype=object)"
      ]
     },
     "execution_count": 31,
     "metadata": {},
     "output_type": "execute_result"
    }
   ],
   "source": [
    "tf_idf_vectors = tf_idf_vectorizer.get_feature_names_out()\n",
    "tf_idf_vectors"
   ]
  },
  {
   "cell_type": "code",
   "execution_count": 32,
   "id": "7000d4bc-ae95-4828-9cb8-840de0ed673c",
   "metadata": {},
   "outputs": [
    {
     "data": {
      "text/plain": [
       "84351"
      ]
     },
     "execution_count": 32,
     "metadata": {},
     "output_type": "execute_result"
    }
   ],
   "source": [
    "len(tf_idf_vectors)"
   ]
  },
  {
   "cell_type": "code",
   "execution_count": 33,
   "id": "b641ecb1-c860-444b-a937-aa876d67b80a",
   "metadata": {},
   "outputs": [],
   "source": [
    "dump(tf_idf_vectorizer,open('models/tfidf_stem_vector.pkl', 'wb'))"
   ]
  },
  {
   "cell_type": "code",
   "execution_count": 34,
   "id": "a1f673f3-3757-48e5-8730-deb99d52bf23",
   "metadata": {},
   "outputs": [],
   "source": [
    "tf_idf_vectorizer = load(open('models/tfidf_stem_vector.pkl', 'rb'))"
   ]
  },
  {
   "cell_type": "code",
   "execution_count": 35,
   "id": "8a3c0d79-7f1d-45cb-b338-64b8877e3164",
   "metadata": {},
   "outputs": [
    {
     "name": "stdout",
     "output_type": "stream",
     "text": [
      "(51462, 84351)\n",
      "51462\n",
      "Wall time: 36.9 ms\n"
     ]
    }
   ],
   "source": [
    "%%time\n",
    "X_sv=vectorized_text\n",
    "y_sv=list(df_vectorization['label_id'])\n",
    "print(X_sv.shape)\n",
    "print(len(y_sv))\n",
    "X_train_sv, X_test_sv, y_train_sv, y_test_sv = train_test_split(X_sv, y_sv, test_size = 0.3, shuffle = True, stratify = y_sv, random_state = 3)"
   ]
  },
  {
   "cell_type": "markdown",
   "id": "d7a653f5-280f-4616-90c5-8638eabc91dd",
   "metadata": {},
   "source": [
    "# <font color='orange'>  <center> TFIDF Multinomial Naive Bayes model"
   ]
  },
  {
   "cell_type": "code",
   "execution_count": 36,
   "id": "59d2b7cc-1fcf-4d1a-858d-7592335952ee",
   "metadata": {},
   "outputs": [
    {
     "name": "stdout",
     "output_type": "stream",
     "text": [
      "------------------------------------------------------------------------------------------------------------------------\n",
      "Train Accuracy Score of TFIDF Multinomial Naive Bayes model created using stemmed tf_idf vector is:\n",
      " 0.9618299419815118\n",
      "------------------------------------------------------------------------------------------------------------------------\n",
      "Test Accuracy Score of TFIDF Multinomial Naive Bayes model created using stemmed tf_idf vector is:\n",
      " 0.9154090290821945\n",
      "------------------------------------------------------------------------------------------------------------------------\n",
      "Confusion Matrix:\n",
      "[[2682  232   55   52   35]\n",
      " [ 127 2918   39   73   54]\n",
      " [  92  133 2725   45   36]\n",
      " [  40   82   25 2878   38]\n",
      " [  32   68   17   31 2930]]\n"
     ]
    },
    {
     "data": {
      "image/png": "[encoded data removed]",
      "text/plain": [
       "<Figure size 432x288 with 2 Axes>"
      ]
     },
     "metadata": {
      "needs_background": "light"
     },
     "output_type": "display_data"
    },
    {
     "name": "stdout",
     "output_type": "stream",
     "text": [
      "{0: 'DC Extended Universe', 1: 'Marvel Cinematic Universe', 2: 'MonsterVerse', 3: 'Star Wars', 4: 'Wizarding World'}\n",
      "------------------------------------------------------------------------------------------------------------------------\n",
      "('              precision    recall  f1-score   support\\n'\n",
      " '\\n'\n",
      " '           0       0.90      0.88      0.89      3056\\n'\n",
      " '           1       0.85      0.91      0.88      3211\\n'\n",
      " '           2       0.95      0.90      0.92      3031\\n'\n",
      " '           3       0.93      0.94      0.94      3063\\n'\n",
      " '           4       0.95      0.95      0.95      3078\\n'\n",
      " '\\n'\n",
      " '    accuracy                           0.92     15439\\n'\n",
      " '   macro avg       0.92      0.92      0.92     15439\\n'\n",
      " 'weighted avg       0.92      0.92      0.92     15439\\n')\n",
      "Wall time: 414 ms\n"
     ]
    }
   ],
   "source": [
    "%%time\n",
    "tfidf_mnb_model = MultinomialNB()\n",
    "tfidf_mnb_model, score_tfidf_mnb = evaluate_model(X_train_sv, y_train_sv, X_test_sv, y_test_sv, classes, \n",
    "                                         tfidf_mnb_model, \"TFIDF Multinomial Naive Bayes\", \"tfidf_mnb_model.pkl\", fresh_load=True)"
   ]
  },
  {
   "cell_type": "code",
   "execution_count": 37,
   "id": "77b1d2be-7f32-4d6a-a13b-f3b463ca539c",
   "metadata": {},
   "outputs": [
    {
     "name": "stdout",
     "output_type": "stream",
     "text": [
      "Cross validation over 10 folds:  0.9140825871092986\n"
     ]
    },
    {
     "data": {
      "text/plain": [
       "array([1, 2, 0, ..., 2, 0, 0])"
      ]
     },
     "execution_count": 37,
     "metadata": {},
     "output_type": "execute_result"
    }
   ],
   "source": [
    "get_cross_val(tfidf_mnb_model, X_train_sv, y_train_sv, X_test_sv, y_test_sv)"
   ]
  },
  {
   "cell_type": "code",
   "execution_count": 38,
   "id": "c5608b66-454d-4579-9bde-74d3a9b18386",
   "metadata": {},
   "outputs": [],
   "source": [
    "tf_idf_vectorizer = load(open('models/tfidf_stem_vector.pkl', 'rb'))\n",
    "tfidf_mnb_model = load(open('models/tfidf_mnb_model.pkl', 'rb'))"
   ]
  },
  {
   "cell_type": "code",
   "execution_count": 39,
   "id": "f4a633a7-29af-47bc-a112-6b47f475145f",
   "metadata": {},
   "outputs": [],
   "source": [
    "output_file_name = \"input/rottentomatoes_reviews_final.csv\"\n",
    "df_rottentomatoes_reviews = pd.read_csv(output_file_name)"
   ]
  },
  {
   "cell_type": "code",
   "execution_count": 40,
   "id": "02596f55-8f19-4fc1-8620-d6056cdb7595",
   "metadata": {},
   "outputs": [
    {
     "data": {
      "text/html": [
       "<div>\n",
       "<style scoped>\n",
       "    .dataframe tbody tr th:only-of-type {\n",
       "        vertical-align: middle;\n",
       "    }\n",
       "\n",
       "    .dataframe tbody tr th {\n",
       "        vertical-align: top;\n",
       "    }\n",
       "\n",
       "    .dataframe thead th {\n",
       "        text-align: right;\n",
       "    }\n",
       "</style>\n",
       "<table border=\"1\" class=\"dataframe\">\n",
       "  <thead>\n",
       "    <tr style=\"text-align: right;\">\n",
       "      <th></th>\n",
       "      <th>review</th>\n",
       "      <th>label_name</th>\n",
       "    </tr>\n",
       "  </thead>\n",
       "  <tbody>\n",
       "    <tr>\n",
       "      <th>0</th>\n",
       "      <td>2019's Godzilla: King of the Monsters, does pr...</td>\n",
       "      <td>MonsterVerse</td>\n",
       "    </tr>\n",
       "    <tr>\n",
       "      <th>1</th>\n",
       "      <td>Shazam!, it's wonderful. It's a very well-dire...</td>\n",
       "      <td>DC Extended Universe</td>\n",
       "    </tr>\n",
       "    <tr>\n",
       "      <th>2</th>\n",
       "      <td>The crimes of Grindelwald is a very good film ...</td>\n",
       "      <td>Wizarding World</td>\n",
       "    </tr>\n",
       "    <tr>\n",
       "      <th>3</th>\n",
       "      <td>An entertaining film with a great villain and ...</td>\n",
       "      <td>Marvel Cinematic Universe</td>\n",
       "    </tr>\n",
       "    <tr>\n",
       "      <th>4</th>\n",
       "      <td>Captain America: Civil War goes a darker direc...</td>\n",
       "      <td>Marvel Cinematic Universe</td>\n",
       "    </tr>\n",
       "    <tr>\n",
       "      <th>...</th>\n",
       "      <td>...</td>\n",
       "      <td>...</td>\n",
       "    </tr>\n",
       "    <tr>\n",
       "      <th>260</th>\n",
       "      <td>Shazam is fun and entertaining! It succeeds in...</td>\n",
       "      <td>DC Extended Universe</td>\n",
       "    </tr>\n",
       "    <tr>\n",
       "      <th>261</th>\n",
       "      <td>Godzilla: King of the Monsters was the first M...</td>\n",
       "      <td>MonsterVerse</td>\n",
       "    </tr>\n",
       "    <tr>\n",
       "      <th>262</th>\n",
       "      <td>Not quite top tier MCU, but very close. This i...</td>\n",
       "      <td>Marvel Cinematic Universe</td>\n",
       "    </tr>\n",
       "    <tr>\n",
       "      <th>263</th>\n",
       "      <td>There are a lot of mixed feeling about this mo...</td>\n",
       "      <td>Marvel Cinematic Universe</td>\n",
       "    </tr>\n",
       "    <tr>\n",
       "      <th>264</th>\n",
       "      <td>Skull Island is more Donkey Kong than King Kon...</td>\n",
       "      <td>MonsterVerse</td>\n",
       "    </tr>\n",
       "  </tbody>\n",
       "</table>\n",
       "<p>265 rows × 2 columns</p>\n",
       "</div>"
      ],
      "text/plain": [
       "                                                review  \\\n",
       "0    2019's Godzilla: King of the Monsters, does pr...   \n",
       "1    Shazam!, it's wonderful. It's a very well-dire...   \n",
       "2    The crimes of Grindelwald is a very good film ...   \n",
       "3    An entertaining film with a great villain and ...   \n",
       "4    Captain America: Civil War goes a darker direc...   \n",
       "..                                                 ...   \n",
       "260  Shazam is fun and entertaining! It succeeds in...   \n",
       "261  Godzilla: King of the Monsters was the first M...   \n",
       "262  Not quite top tier MCU, but very close. This i...   \n",
       "263  There are a lot of mixed feeling about this mo...   \n",
       "264  Skull Island is more Donkey Kong than King Kon...   \n",
       "\n",
       "                    label_name  \n",
       "0                 MonsterVerse  \n",
       "1         DC Extended Universe  \n",
       "2              Wizarding World  \n",
       "3    Marvel Cinematic Universe  \n",
       "4    Marvel Cinematic Universe  \n",
       "..                         ...  \n",
       "260       DC Extended Universe  \n",
       "261               MonsterVerse  \n",
       "262  Marvel Cinematic Universe  \n",
       "263  Marvel Cinematic Universe  \n",
       "264               MonsterVerse  \n",
       "\n",
       "[265 rows x 2 columns]"
      ]
     },
     "execution_count": 40,
     "metadata": {},
     "output_type": "execute_result"
    }
   ],
   "source": [
    "df_rottentomatoes_reviews[[\"review\", \"label_name\"]]"
   ]
  },
  {
   "cell_type": "code",
   "execution_count": 41,
   "id": "9c1c11f7-c547-430d-a0b3-c8ecb635b8f4",
   "metadata": {},
   "outputs": [
    {
     "name": "stdout",
     "output_type": "stream",
     "text": [
      "Wall time: 11.2 s\n"
     ]
    }
   ],
   "source": [
    "%%time\n",
    "classes = {0: 'DC Extended Universe', 1: 'Marvel Cinematic Universe', 2: 'MonsterVerse', 3: 'Star Wars', 4: 'Wizarding World'}\n",
    "valid_tfidf_vec_list = []\n",
    "for i in df_rottentomatoes_reviews.index:\n",
    "    validation_text = df_rottentomatoes_reviews[\"review\"][i]\n",
    "    validation_text = preprocess_doc(validation_text, stem = True, lemma = False, stop_wrds = True, selected_tags = selected_tags)\n",
    "    vec = tf_idf_vectorizer.transform(validation_text)\n",
    "    valid_tfidf_vec_list.append(vec)"
   ]
  },
  {
   "cell_type": "code",
   "execution_count": 45,
   "id": "17cd3dfe-7d3d-4c51-9982-6a2078e6515c",
   "metadata": {},
   "outputs": [
    {
     "name": "stdout",
     "output_type": "stream",
     "text": [
      "Validation Accuracy Score of TFIDF Multinomial Naive Bayes Model created using stemmed tf_idf vector is:\n",
      " 0.7433962264150943\n",
      "Wall time: 476 ms\n"
     ]
    }
   ],
   "source": [
    "%%time\n",
    "val_acc_scr_tfidf_mnb, df_rottentomatoes_reviews = validate_model(tfidf_mnb_model, \"TFIDF Multinomial Naive Bayes\", \"tfidf_MNB\", df_rottentomatoes_reviews, valid_tfidf_vec_list)"
   ]
  },
  {
   "cell_type": "code",
   "execution_count": 46,
   "id": "56f878c1-4c60-44be-944e-e55d6c8b4fd6",
   "metadata": {},
   "outputs": [
    {
     "data": {
      "text/html": [
       "<div>\n",
       "<style scoped>\n",
       "    .dataframe tbody tr th:only-of-type {\n",
       "        vertical-align: middle;\n",
       "    }\n",
       "\n",
       "    .dataframe tbody tr th {\n",
       "        vertical-align: top;\n",
       "    }\n",
       "\n",
       "    .dataframe thead th {\n",
       "        text-align: right;\n",
       "    }\n",
       "</style>\n",
       "<table border=\"1\" class=\"dataframe\">\n",
       "  <thead>\n",
       "    <tr style=\"text-align: right;\">\n",
       "      <th></th>\n",
       "      <th>review</th>\n",
       "      <th>movie_name</th>\n",
       "      <th>label_name</th>\n",
       "      <th>predicted_label_MNB</th>\n",
       "      <th>y_true</th>\n",
       "      <th>y_pred_MNB</th>\n",
       "      <th>predicted_label_tfidf_rfc</th>\n",
       "      <th>y_pred_tfidf_rfc</th>\n",
       "      <th>predicted_label_tfidf_MNB</th>\n",
       "      <th>y_pred_tfidf_MNB</th>\n",
       "    </tr>\n",
       "  </thead>\n",
       "  <tbody>\n",
       "    <tr>\n",
       "      <th>0</th>\n",
       "      <td>2019's Godzilla: King of the Monsters, does pr...</td>\n",
       "      <td>godzilla_king_of_the_monsters_2019</td>\n",
       "      <td>MonsterVerse</td>\n",
       "      <td>MonsterVerse</td>\n",
       "      <td>2</td>\n",
       "      <td>2</td>\n",
       "      <td>MonsterVerse</td>\n",
       "      <td>2</td>\n",
       "      <td>MonsterVerse</td>\n",
       "      <td>2</td>\n",
       "    </tr>\n",
       "    <tr>\n",
       "      <th>1</th>\n",
       "      <td>Shazam!, it's wonderful. It's a very well-dire...</td>\n",
       "      <td>shazam</td>\n",
       "      <td>DC Extended Universe</td>\n",
       "      <td>DC Extended Universe</td>\n",
       "      <td>0</td>\n",
       "      <td>0</td>\n",
       "      <td>DC Extended Universe</td>\n",
       "      <td>0</td>\n",
       "      <td>Marvel Cinematic Universe</td>\n",
       "      <td>1</td>\n",
       "    </tr>\n",
       "    <tr>\n",
       "      <th>2</th>\n",
       "      <td>The crimes of Grindelwald is a very good film ...</td>\n",
       "      <td>fantastic_beasts_the_crimes_of_grindelwald</td>\n",
       "      <td>Wizarding World</td>\n",
       "      <td>Wizarding World</td>\n",
       "      <td>4</td>\n",
       "      <td>4</td>\n",
       "      <td>MonsterVerse</td>\n",
       "      <td>2</td>\n",
       "      <td>DC Extended Universe</td>\n",
       "      <td>0</td>\n",
       "    </tr>\n",
       "    <tr>\n",
       "      <th>3</th>\n",
       "      <td>An entertaining film with a great villain and ...</td>\n",
       "      <td>spider_man_homecoming</td>\n",
       "      <td>Marvel Cinematic Universe</td>\n",
       "      <td>Marvel Cinematic Universe</td>\n",
       "      <td>1</td>\n",
       "      <td>1</td>\n",
       "      <td>Marvel Cinematic Universe</td>\n",
       "      <td>1</td>\n",
       "      <td>Marvel Cinematic Universe</td>\n",
       "      <td>1</td>\n",
       "    </tr>\n",
       "    <tr>\n",
       "      <th>4</th>\n",
       "      <td>Captain America: Civil War goes a darker direc...</td>\n",
       "      <td>captain_america_civil_war</td>\n",
       "      <td>Marvel Cinematic Universe</td>\n",
       "      <td>Marvel Cinematic Universe</td>\n",
       "      <td>1</td>\n",
       "      <td>1</td>\n",
       "      <td>Marvel Cinematic Universe</td>\n",
       "      <td>1</td>\n",
       "      <td>Marvel Cinematic Universe</td>\n",
       "      <td>1</td>\n",
       "    </tr>\n",
       "    <tr>\n",
       "      <th>...</th>\n",
       "      <td>...</td>\n",
       "      <td>...</td>\n",
       "      <td>...</td>\n",
       "      <td>...</td>\n",
       "      <td>...</td>\n",
       "      <td>...</td>\n",
       "      <td>...</td>\n",
       "      <td>...</td>\n",
       "      <td>...</td>\n",
       "      <td>...</td>\n",
       "    </tr>\n",
       "    <tr>\n",
       "      <th>260</th>\n",
       "      <td>Shazam is fun and entertaining! It succeeds in...</td>\n",
       "      <td>shazam</td>\n",
       "      <td>DC Extended Universe</td>\n",
       "      <td>DC Extended Universe</td>\n",
       "      <td>0</td>\n",
       "      <td>0</td>\n",
       "      <td>DC Extended Universe</td>\n",
       "      <td>0</td>\n",
       "      <td>DC Extended Universe</td>\n",
       "      <td>0</td>\n",
       "    </tr>\n",
       "    <tr>\n",
       "      <th>261</th>\n",
       "      <td>Godzilla: King of the Monsters was the first M...</td>\n",
       "      <td>godzilla_king_of_the_monsters_2019</td>\n",
       "      <td>MonsterVerse</td>\n",
       "      <td>MonsterVerse</td>\n",
       "      <td>2</td>\n",
       "      <td>2</td>\n",
       "      <td>MonsterVerse</td>\n",
       "      <td>2</td>\n",
       "      <td>MonsterVerse</td>\n",
       "      <td>2</td>\n",
       "    </tr>\n",
       "    <tr>\n",
       "      <th>262</th>\n",
       "      <td>Not quite top tier MCU, but very close. This i...</td>\n",
       "      <td>avengers_infinity_war</td>\n",
       "      <td>Marvel Cinematic Universe</td>\n",
       "      <td>Marvel Cinematic Universe</td>\n",
       "      <td>1</td>\n",
       "      <td>1</td>\n",
       "      <td>DC Extended Universe</td>\n",
       "      <td>0</td>\n",
       "      <td>Marvel Cinematic Universe</td>\n",
       "      <td>1</td>\n",
       "    </tr>\n",
       "    <tr>\n",
       "      <th>263</th>\n",
       "      <td>There are a lot of mixed feeling about this mo...</td>\n",
       "      <td>thor_the_dark_world</td>\n",
       "      <td>Marvel Cinematic Universe</td>\n",
       "      <td>Marvel Cinematic Universe</td>\n",
       "      <td>1</td>\n",
       "      <td>1</td>\n",
       "      <td>DC Extended Universe</td>\n",
       "      <td>0</td>\n",
       "      <td>Marvel Cinematic Universe</td>\n",
       "      <td>1</td>\n",
       "    </tr>\n",
       "    <tr>\n",
       "      <th>264</th>\n",
       "      <td>Skull Island is more Donkey Kong than King Kon...</td>\n",
       "      <td>kong_skull_island</td>\n",
       "      <td>MonsterVerse</td>\n",
       "      <td>MonsterVerse</td>\n",
       "      <td>2</td>\n",
       "      <td>2</td>\n",
       "      <td>Marvel Cinematic Universe</td>\n",
       "      <td>1</td>\n",
       "      <td>MonsterVerse</td>\n",
       "      <td>2</td>\n",
       "    </tr>\n",
       "  </tbody>\n",
       "</table>\n",
       "<p>265 rows × 10 columns</p>\n",
       "</div>"
      ],
      "text/plain": [
       "                                                review  \\\n",
       "0    2019's Godzilla: King of the Monsters, does pr...   \n",
       "1    Shazam!, it's wonderful. It's a very well-dire...   \n",
       "2    The crimes of Grindelwald is a very good film ...   \n",
       "3    An entertaining film with a great villain and ...   \n",
       "4    Captain America: Civil War goes a darker direc...   \n",
       "..                                                 ...   \n",
       "260  Shazam is fun and entertaining! It succeeds in...   \n",
       "261  Godzilla: King of the Monsters was the first M...   \n",
       "262  Not quite top tier MCU, but very close. This i...   \n",
       "263  There are a lot of mixed feeling about this mo...   \n",
       "264  Skull Island is more Donkey Kong than King Kon...   \n",
       "\n",
       "                                     movie_name                 label_name  \\\n",
       "0            godzilla_king_of_the_monsters_2019               MonsterVerse   \n",
       "1                                        shazam       DC Extended Universe   \n",
       "2    fantastic_beasts_the_crimes_of_grindelwald            Wizarding World   \n",
       "3                         spider_man_homecoming  Marvel Cinematic Universe   \n",
       "4                     captain_america_civil_war  Marvel Cinematic Universe   \n",
       "..                                          ...                        ...   \n",
       "260                                      shazam       DC Extended Universe   \n",
       "261          godzilla_king_of_the_monsters_2019               MonsterVerse   \n",
       "262                       avengers_infinity_war  Marvel Cinematic Universe   \n",
       "263                         thor_the_dark_world  Marvel Cinematic Universe   \n",
       "264                           kong_skull_island               MonsterVerse   \n",
       "\n",
       "           predicted_label_MNB  y_true  y_pred_MNB  predicted_label_tfidf_rfc  \\\n",
       "0                 MonsterVerse       2           2               MonsterVerse   \n",
       "1         DC Extended Universe       0           0       DC Extended Universe   \n",
       "2              Wizarding World       4           4               MonsterVerse   \n",
       "3    Marvel Cinematic Universe       1           1  Marvel Cinematic Universe   \n",
       "4    Marvel Cinematic Universe       1           1  Marvel Cinematic Universe   \n",
       "..                         ...     ...         ...                        ...   \n",
       "260       DC Extended Universe       0           0       DC Extended Universe   \n",
       "261               MonsterVerse       2           2               MonsterVerse   \n",
       "262  Marvel Cinematic Universe       1           1       DC Extended Universe   \n",
       "263  Marvel Cinematic Universe       1           1       DC Extended Universe   \n",
       "264               MonsterVerse       2           2  Marvel Cinematic Universe   \n",
       "\n",
       "     y_pred_tfidf_rfc  predicted_label_tfidf_MNB  y_pred_tfidf_MNB  \n",
       "0                   2               MonsterVerse                 2  \n",
       "1                   0  Marvel Cinematic Universe                 1  \n",
       "2                   2       DC Extended Universe                 0  \n",
       "3                   1  Marvel Cinematic Universe                 1  \n",
       "4                   1  Marvel Cinematic Universe                 1  \n",
       "..                ...                        ...               ...  \n",
       "260                 0       DC Extended Universe                 0  \n",
       "261                 2               MonsterVerse                 2  \n",
       "262                 0  Marvel Cinematic Universe                 1  \n",
       "263                 0  Marvel Cinematic Universe                 1  \n",
       "264                 1               MonsterVerse                 2  \n",
       "\n",
       "[265 rows x 10 columns]"
      ]
     },
     "execution_count": 46,
     "metadata": {},
     "output_type": "execute_result"
    }
   ],
   "source": [
    "df_rottentomatoes_reviews.to_csv(\"output/final_output/df_rottentomatoes_reviews_predicted\"+s+\".csv\", index = False)\n",
    "df_rottentomatoes_reviews"
   ]
  },
  {
   "cell_type": "markdown",
   "id": "79c27438-980e-48a1-9d65-1563745ca50b",
   "metadata": {},
   "source": [
    "# <font color='orange'>  <center> TFIDF Support Vector Classifier"
   ]
  },
  {
   "cell_type": "code",
   "execution_count": 47,
   "id": "79549012-42fe-4b75-ad8e-24d64ca7b5bc",
   "metadata": {},
   "outputs": [
    {
     "name": "stdout",
     "output_type": "stream",
     "text": [
      "Train Accuracy Score of TFIDF Support Vector Classifier model created using stemmed tf_idf vector is:\n",
      " 0.9895344640923854\n",
      "------------------------------------------------------------------------------------------------------------------------\n",
      "Test Accuracy Score of TFIDF Support Vector Classifier model created using stemmed tf_idf vector is:\n",
      " 0.9172226180452102\n",
      "------------------------------------------------------------------------------------------------------------------------\n",
      "Confusion Matrix:\n",
      "[[2753  262   15   15   11]\n",
      " [ 171 2983   16   29   12]\n",
      " [ 132  183 2696   14    6]\n",
      " [  72  126   10 2838   17]\n",
      " [  50  102   10   25 2891]]\n"
     ]
    },
    {
     "data": {
      "image/png": "[encoded data removed]",
      "text/plain": [
       "<Figure size 432x288 with 2 Axes>"
      ]
     },
     "metadata": {
      "needs_background": "light"
     },
     "output_type": "display_data"
    },
    {
     "name": "stdout",
     "output_type": "stream",
     "text": [
      "{0: 'DC Extended Universe', 1: 'Marvel Cinematic Universe', 2: 'MonsterVerse', 3: 'Star Wars', 4: 'Wizarding World'}\n",
      "------------------------------------------------------------------------------------------------------------------------\n",
      "('              precision    recall  f1-score   support\\n'\n",
      " '\\n'\n",
      " '           0       0.87      0.90      0.88      3056\\n'\n",
      " '           1       0.82      0.93      0.87      3211\\n'\n",
      " '           2       0.98      0.89      0.93      3031\\n'\n",
      " '           3       0.97      0.93      0.95      3063\\n'\n",
      " '           4       0.98      0.94      0.96      3078\\n'\n",
      " '\\n'\n",
      " '    accuracy                           0.92     15439\\n'\n",
      " '   macro avg       0.92      0.92      0.92     15439\\n'\n",
      " 'weighted avg       0.92      0.92      0.92     15439\\n')\n",
      "Wall time: 2min 21s\n"
     ]
    }
   ],
   "source": [
    "%%time\n",
    "tfidf_svc_model = SVC()\n",
    "tfidf_svc_model, score_tfidf_svc = evaluate_model(X_train_sv, y_train_sv, X_test_sv, y_test_sv, classes, \n",
    "                                         tfidf_svc_model, \"TFIDF Support Vector Classifier\", \"tfidf_svc_model.pkl\", fresh_load=False)"
   ]
  },
  {
   "cell_type": "code",
   "execution_count": 48,
   "id": "3af9158b-db92-4523-a6e8-d846e7beb24d",
   "metadata": {},
   "outputs": [],
   "source": [
    "tf_idf_vectorizer = load(open('models/tfidf_stem_vector.pkl', 'rb'))\n",
    "tfidf_svc_model = load(open('models/tfidf_svc_model.pkl', 'rb'))"
   ]
  },
  {
   "cell_type": "code",
   "execution_count": 49,
   "id": "58b8002a-345c-4ded-99a4-3a705e4183fb",
   "metadata": {},
   "outputs": [],
   "source": [
    "list_f = sorted(glob.glob(\"output/final_output/df_rottentomatoes_reviews_predicted*\"), key=os.path.getmtime)\n",
    "output_file_name = list_f[0]\n",
    "df_rottentomatoes_reviews = pd.read_csv(output_file_name)"
   ]
  },
  {
   "cell_type": "code",
   "execution_count": 50,
   "id": "2a00b143-82dc-4229-bc65-6764cf2538e8",
   "metadata": {},
   "outputs": [
    {
     "name": "stdout",
     "output_type": "stream",
     "text": [
      "Validation Accuracy Score of TFIDF Support Vector Classifier Model created using stemmed tf_idf vector is:\n",
      " 0.6490566037735849\n",
      "Wall time: 16.4 s\n"
     ]
    }
   ],
   "source": [
    "%%time\n",
    "val_acc_scr_tfidf_svc, df_rottentomatoes_reviews = validate_model(tfidf_svc_model, \"TFIDF Support Vector Classifier\", \"tfidf_svc\", df_rottentomatoes_reviews, valid_tfidf_vec_list)"
   ]
  },
  {
   "cell_type": "code",
   "execution_count": 51,
   "id": "4ac7e952-fd2c-48ec-9a43-8fe84f429e43",
   "metadata": {},
   "outputs": [
    {
     "data": {
      "text/html": [
       "<div>\n",
       "<style scoped>\n",
       "    .dataframe tbody tr th:only-of-type {\n",
       "        vertical-align: middle;\n",
       "    }\n",
       "\n",
       "    .dataframe tbody tr th {\n",
       "        vertical-align: top;\n",
       "    }\n",
       "\n",
       "    .dataframe thead th {\n",
       "        text-align: right;\n",
       "    }\n",
       "</style>\n",
       "<table border=\"1\" class=\"dataframe\">\n",
       "  <thead>\n",
       "    <tr style=\"text-align: right;\">\n",
       "      <th></th>\n",
       "      <th>review</th>\n",
       "      <th>movie_name</th>\n",
       "      <th>label_name</th>\n",
       "      <th>predicted_label_MNB</th>\n",
       "      <th>y_true</th>\n",
       "      <th>y_pred_MNB</th>\n",
       "      <th>predicted_label_svc</th>\n",
       "      <th>y_pred_svc</th>\n",
       "      <th>predicted_label_knn</th>\n",
       "      <th>y_pred_knn</th>\n",
       "      <th>predicted_label_we_rfc</th>\n",
       "      <th>y_pred_we_rfc</th>\n",
       "      <th>predicted_label_we_mnb</th>\n",
       "      <th>y_pred_we_mnb</th>\n",
       "      <th>predicted_label_tfidf_knn</th>\n",
       "      <th>y_pred_tfidf_knn</th>\n",
       "      <th>predicted_label_tfidf_svc</th>\n",
       "      <th>y_pred_tfidf_svc</th>\n",
       "    </tr>\n",
       "  </thead>\n",
       "  <tbody>\n",
       "    <tr>\n",
       "      <th>0</th>\n",
       "      <td>2019's Godzilla: King of the Monsters, does pr...</td>\n",
       "      <td>godzilla_king_of_the_monsters_2019</td>\n",
       "      <td>MonsterVerse</td>\n",
       "      <td>MonsterVerse</td>\n",
       "      <td>2</td>\n",
       "      <td>2</td>\n",
       "      <td>MonsterVerse</td>\n",
       "      <td>2</td>\n",
       "      <td>MonsterVerse</td>\n",
       "      <td>2</td>\n",
       "      <td>MonsterVerse</td>\n",
       "      <td>2</td>\n",
       "      <td>Marvel Cinematic Universe</td>\n",
       "      <td>1</td>\n",
       "      <td>MonsterVerse</td>\n",
       "      <td>2</td>\n",
       "      <td>MonsterVerse</td>\n",
       "      <td>2</td>\n",
       "    </tr>\n",
       "    <tr>\n",
       "      <th>1</th>\n",
       "      <td>Shazam!, it's wonderful. It's a very well-dire...</td>\n",
       "      <td>shazam</td>\n",
       "      <td>DC Extended Universe</td>\n",
       "      <td>DC Extended Universe</td>\n",
       "      <td>0</td>\n",
       "      <td>0</td>\n",
       "      <td>DC Extended Universe</td>\n",
       "      <td>0</td>\n",
       "      <td>DC Extended Universe</td>\n",
       "      <td>0</td>\n",
       "      <td>DC Extended Universe</td>\n",
       "      <td>0</td>\n",
       "      <td>Wizarding World</td>\n",
       "      <td>4</td>\n",
       "      <td>DC Extended Universe</td>\n",
       "      <td>0</td>\n",
       "      <td>Marvel Cinematic Universe</td>\n",
       "      <td>1</td>\n",
       "    </tr>\n",
       "    <tr>\n",
       "      <th>2</th>\n",
       "      <td>The crimes of Grindelwald is a very good film ...</td>\n",
       "      <td>fantastic_beasts_the_crimes_of_grindelwald</td>\n",
       "      <td>Wizarding World</td>\n",
       "      <td>Wizarding World</td>\n",
       "      <td>4</td>\n",
       "      <td>4</td>\n",
       "      <td>DC Extended Universe</td>\n",
       "      <td>0</td>\n",
       "      <td>Marvel Cinematic Universe</td>\n",
       "      <td>1</td>\n",
       "      <td>MonsterVerse</td>\n",
       "      <td>2</td>\n",
       "      <td>Marvel Cinematic Universe</td>\n",
       "      <td>1</td>\n",
       "      <td>MonsterVerse</td>\n",
       "      <td>2</td>\n",
       "      <td>DC Extended Universe</td>\n",
       "      <td>0</td>\n",
       "    </tr>\n",
       "    <tr>\n",
       "      <th>3</th>\n",
       "      <td>An entertaining film with a great villain and ...</td>\n",
       "      <td>spider_man_homecoming</td>\n",
       "      <td>Marvel Cinematic Universe</td>\n",
       "      <td>Marvel Cinematic Universe</td>\n",
       "      <td>1</td>\n",
       "      <td>1</td>\n",
       "      <td>Marvel Cinematic Universe</td>\n",
       "      <td>1</td>\n",
       "      <td>Marvel Cinematic Universe</td>\n",
       "      <td>1</td>\n",
       "      <td>Marvel Cinematic Universe</td>\n",
       "      <td>1</td>\n",
       "      <td>Star Wars</td>\n",
       "      <td>3</td>\n",
       "      <td>MonsterVerse</td>\n",
       "      <td>2</td>\n",
       "      <td>Marvel Cinematic Universe</td>\n",
       "      <td>1</td>\n",
       "    </tr>\n",
       "    <tr>\n",
       "      <th>4</th>\n",
       "      <td>Captain America: Civil War goes a darker direc...</td>\n",
       "      <td>captain_america_civil_war</td>\n",
       "      <td>Marvel Cinematic Universe</td>\n",
       "      <td>Marvel Cinematic Universe</td>\n",
       "      <td>1</td>\n",
       "      <td>1</td>\n",
       "      <td>Marvel Cinematic Universe</td>\n",
       "      <td>1</td>\n",
       "      <td>Marvel Cinematic Universe</td>\n",
       "      <td>1</td>\n",
       "      <td>Marvel Cinematic Universe</td>\n",
       "      <td>1</td>\n",
       "      <td>Star Wars</td>\n",
       "      <td>3</td>\n",
       "      <td>Marvel Cinematic Universe</td>\n",
       "      <td>1</td>\n",
       "      <td>Marvel Cinematic Universe</td>\n",
       "      <td>1</td>\n",
       "    </tr>\n",
       "    <tr>\n",
       "      <th>...</th>\n",
       "      <td>...</td>\n",
       "      <td>...</td>\n",
       "      <td>...</td>\n",
       "      <td>...</td>\n",
       "      <td>...</td>\n",
       "      <td>...</td>\n",
       "      <td>...</td>\n",
       "      <td>...</td>\n",
       "      <td>...</td>\n",
       "      <td>...</td>\n",
       "      <td>...</td>\n",
       "      <td>...</td>\n",
       "      <td>...</td>\n",
       "      <td>...</td>\n",
       "      <td>...</td>\n",
       "      <td>...</td>\n",
       "      <td>...</td>\n",
       "      <td>...</td>\n",
       "    </tr>\n",
       "    <tr>\n",
       "      <th>260</th>\n",
       "      <td>Shazam is fun and entertaining! It succeeds in...</td>\n",
       "      <td>shazam</td>\n",
       "      <td>DC Extended Universe</td>\n",
       "      <td>DC Extended Universe</td>\n",
       "      <td>0</td>\n",
       "      <td>0</td>\n",
       "      <td>DC Extended Universe</td>\n",
       "      <td>0</td>\n",
       "      <td>DC Extended Universe</td>\n",
       "      <td>0</td>\n",
       "      <td>DC Extended Universe</td>\n",
       "      <td>0</td>\n",
       "      <td>Marvel Cinematic Universe</td>\n",
       "      <td>1</td>\n",
       "      <td>DC Extended Universe</td>\n",
       "      <td>0</td>\n",
       "      <td>DC Extended Universe</td>\n",
       "      <td>0</td>\n",
       "    </tr>\n",
       "    <tr>\n",
       "      <th>261</th>\n",
       "      <td>Godzilla: King of the Monsters was the first M...</td>\n",
       "      <td>godzilla_king_of_the_monsters_2019</td>\n",
       "      <td>MonsterVerse</td>\n",
       "      <td>MonsterVerse</td>\n",
       "      <td>2</td>\n",
       "      <td>2</td>\n",
       "      <td>MonsterVerse</td>\n",
       "      <td>2</td>\n",
       "      <td>MonsterVerse</td>\n",
       "      <td>2</td>\n",
       "      <td>MonsterVerse</td>\n",
       "      <td>2</td>\n",
       "      <td>Marvel Cinematic Universe</td>\n",
       "      <td>1</td>\n",
       "      <td>MonsterVerse</td>\n",
       "      <td>2</td>\n",
       "      <td>MonsterVerse</td>\n",
       "      <td>2</td>\n",
       "    </tr>\n",
       "    <tr>\n",
       "      <th>262</th>\n",
       "      <td>Not quite top tier MCU, but very close. This i...</td>\n",
       "      <td>avengers_infinity_war</td>\n",
       "      <td>Marvel Cinematic Universe</td>\n",
       "      <td>Marvel Cinematic Universe</td>\n",
       "      <td>1</td>\n",
       "      <td>1</td>\n",
       "      <td>Marvel Cinematic Universe</td>\n",
       "      <td>1</td>\n",
       "      <td>DC Extended Universe</td>\n",
       "      <td>0</td>\n",
       "      <td>Star Wars</td>\n",
       "      <td>3</td>\n",
       "      <td>MonsterVerse</td>\n",
       "      <td>2</td>\n",
       "      <td>Marvel Cinematic Universe</td>\n",
       "      <td>1</td>\n",
       "      <td>Marvel Cinematic Universe</td>\n",
       "      <td>1</td>\n",
       "    </tr>\n",
       "    <tr>\n",
       "      <th>263</th>\n",
       "      <td>There are a lot of mixed feeling about this mo...</td>\n",
       "      <td>thor_the_dark_world</td>\n",
       "      <td>Marvel Cinematic Universe</td>\n",
       "      <td>Marvel Cinematic Universe</td>\n",
       "      <td>1</td>\n",
       "      <td>1</td>\n",
       "      <td>Marvel Cinematic Universe</td>\n",
       "      <td>1</td>\n",
       "      <td>DC Extended Universe</td>\n",
       "      <td>0</td>\n",
       "      <td>DC Extended Universe</td>\n",
       "      <td>0</td>\n",
       "      <td>Star Wars</td>\n",
       "      <td>3</td>\n",
       "      <td>Marvel Cinematic Universe</td>\n",
       "      <td>1</td>\n",
       "      <td>Marvel Cinematic Universe</td>\n",
       "      <td>1</td>\n",
       "    </tr>\n",
       "    <tr>\n",
       "      <th>264</th>\n",
       "      <td>Skull Island is more Donkey Kong than King Kon...</td>\n",
       "      <td>kong_skull_island</td>\n",
       "      <td>MonsterVerse</td>\n",
       "      <td>MonsterVerse</td>\n",
       "      <td>2</td>\n",
       "      <td>2</td>\n",
       "      <td>MonsterVerse</td>\n",
       "      <td>2</td>\n",
       "      <td>DC Extended Universe</td>\n",
       "      <td>0</td>\n",
       "      <td>Marvel Cinematic Universe</td>\n",
       "      <td>1</td>\n",
       "      <td>Marvel Cinematic Universe</td>\n",
       "      <td>1</td>\n",
       "      <td>DC Extended Universe</td>\n",
       "      <td>0</td>\n",
       "      <td>Marvel Cinematic Universe</td>\n",
       "      <td>1</td>\n",
       "    </tr>\n",
       "  </tbody>\n",
       "</table>\n",
       "<p>265 rows × 18 columns</p>\n",
       "</div>"
      ],
      "text/plain": [
       "                                                review  \\\n",
       "0    2019's Godzilla: King of the Monsters, does pr...   \n",
       "1    Shazam!, it's wonderful. It's a very well-dire...   \n",
       "2    The crimes of Grindelwald is a very good film ...   \n",
       "3    An entertaining film with a great villain and ...   \n",
       "4    Captain America: Civil War goes a darker direc...   \n",
       "..                                                 ...   \n",
       "260  Shazam is fun and entertaining! It succeeds in...   \n",
       "261  Godzilla: King of the Monsters was the first M...   \n",
       "262  Not quite top tier MCU, but very close. This i...   \n",
       "263  There are a lot of mixed feeling about this mo...   \n",
       "264  Skull Island is more Donkey Kong than King Kon...   \n",
       "\n",
       "                                     movie_name                 label_name  \\\n",
       "0            godzilla_king_of_the_monsters_2019               MonsterVerse   \n",
       "1                                        shazam       DC Extended Universe   \n",
       "2    fantastic_beasts_the_crimes_of_grindelwald            Wizarding World   \n",
       "3                         spider_man_homecoming  Marvel Cinematic Universe   \n",
       "4                     captain_america_civil_war  Marvel Cinematic Universe   \n",
       "..                                          ...                        ...   \n",
       "260                                      shazam       DC Extended Universe   \n",
       "261          godzilla_king_of_the_monsters_2019               MonsterVerse   \n",
       "262                       avengers_infinity_war  Marvel Cinematic Universe   \n",
       "263                         thor_the_dark_world  Marvel Cinematic Universe   \n",
       "264                           kong_skull_island               MonsterVerse   \n",
       "\n",
       "           predicted_label_MNB  y_true  y_pred_MNB        predicted_label_svc  \\\n",
       "0                 MonsterVerse       2           2               MonsterVerse   \n",
       "1         DC Extended Universe       0           0       DC Extended Universe   \n",
       "2              Wizarding World       4           4       DC Extended Universe   \n",
       "3    Marvel Cinematic Universe       1           1  Marvel Cinematic Universe   \n",
       "4    Marvel Cinematic Universe       1           1  Marvel Cinematic Universe   \n",
       "..                         ...     ...         ...                        ...   \n",
       "260       DC Extended Universe       0           0       DC Extended Universe   \n",
       "261               MonsterVerse       2           2               MonsterVerse   \n",
       "262  Marvel Cinematic Universe       1           1  Marvel Cinematic Universe   \n",
       "263  Marvel Cinematic Universe       1           1  Marvel Cinematic Universe   \n",
       "264               MonsterVerse       2           2               MonsterVerse   \n",
       "\n",
       "     y_pred_svc        predicted_label_knn  y_pred_knn  \\\n",
       "0             2               MonsterVerse           2   \n",
       "1             0       DC Extended Universe           0   \n",
       "2             0  Marvel Cinematic Universe           1   \n",
       "3             1  Marvel Cinematic Universe           1   \n",
       "4             1  Marvel Cinematic Universe           1   \n",
       "..          ...                        ...         ...   \n",
       "260           0       DC Extended Universe           0   \n",
       "261           2               MonsterVerse           2   \n",
       "262           1       DC Extended Universe           0   \n",
       "263           1       DC Extended Universe           0   \n",
       "264           2       DC Extended Universe           0   \n",
       "\n",
       "        predicted_label_we_rfc  y_pred_we_rfc     predicted_label_we_mnb  \\\n",
       "0                 MonsterVerse              2  Marvel Cinematic Universe   \n",
       "1         DC Extended Universe              0            Wizarding World   \n",
       "2                 MonsterVerse              2  Marvel Cinematic Universe   \n",
       "3    Marvel Cinematic Universe              1                  Star Wars   \n",
       "4    Marvel Cinematic Universe              1                  Star Wars   \n",
       "..                         ...            ...                        ...   \n",
       "260       DC Extended Universe              0  Marvel Cinematic Universe   \n",
       "261               MonsterVerse              2  Marvel Cinematic Universe   \n",
       "262                  Star Wars              3               MonsterVerse   \n",
       "263       DC Extended Universe              0                  Star Wars   \n",
       "264  Marvel Cinematic Universe              1  Marvel Cinematic Universe   \n",
       "\n",
       "     y_pred_we_mnb  predicted_label_tfidf_knn  y_pred_tfidf_knn  \\\n",
       "0                1               MonsterVerse                 2   \n",
       "1                4       DC Extended Universe                 0   \n",
       "2                1               MonsterVerse                 2   \n",
       "3                3               MonsterVerse                 2   \n",
       "4                3  Marvel Cinematic Universe                 1   \n",
       "..             ...                        ...               ...   \n",
       "260              1       DC Extended Universe                 0   \n",
       "261              1               MonsterVerse                 2   \n",
       "262              2  Marvel Cinematic Universe                 1   \n",
       "263              3  Marvel Cinematic Universe                 1   \n",
       "264              1       DC Extended Universe                 0   \n",
       "\n",
       "     predicted_label_tfidf_svc  y_pred_tfidf_svc  \n",
       "0                 MonsterVerse                 2  \n",
       "1    Marvel Cinematic Universe                 1  \n",
       "2         DC Extended Universe                 0  \n",
       "3    Marvel Cinematic Universe                 1  \n",
       "4    Marvel Cinematic Universe                 1  \n",
       "..                         ...               ...  \n",
       "260       DC Extended Universe                 0  \n",
       "261               MonsterVerse                 2  \n",
       "262  Marvel Cinematic Universe                 1  \n",
       "263  Marvel Cinematic Universe                 1  \n",
       "264  Marvel Cinematic Universe                 1  \n",
       "\n",
       "[265 rows x 18 columns]"
      ]
     },
     "execution_count": 51,
     "metadata": {},
     "output_type": "execute_result"
    }
   ],
   "source": [
    "df_rottentomatoes_reviews.to_csv(output_file_name, index = False)\n",
    "df_rottentomatoes_reviews"
   ]
  },
  {
   "cell_type": "markdown",
   "id": "90f0371b-1465-4078-ab98-c2c6eb8a5b7d",
   "metadata": {},
   "source": [
    "# <font color='orange'>  <center> TFIDF KNN Classifier"
   ]
  },
  {
   "cell_type": "code",
   "execution_count": 52,
   "id": "df241f30-5fa6-470d-adea-825626d1efd7",
   "metadata": {},
   "outputs": [
    {
     "name": "stdout",
     "output_type": "stream",
     "text": [
      "------------------------------------------------------------------------------------------------------------------------\n",
      "Train Accuracy Score of TFIDF K-Nearest Neighbor(KNN) model created using stemmed tf_idf vector is:\n",
      " 0.6454765011242817\n",
      "------------------------------------------------------------------------------------------------------------------------\n",
      "Test Accuracy Score of TFIDF K-Nearest Neighbor(KNN) model created using stemmed tf_idf vector is:\n",
      " 0.4653798821167174\n",
      "------------------------------------------------------------------------------------------------------------------------\n",
      "Confusion Matrix:\n",
      "[[1759  708  387   67  135]\n",
      " [ 905 1724  396   68  118]\n",
      " [ 857  779 1235   48  112]\n",
      " [ 712  627  369 1248  107]\n",
      " [ 720  680  397   62 1219]]\n"
     ]
    },
    {
     "data": {
      "image/png": "[encoded data removed]",
      "text/plain": [
       "<Figure size 432x288 with 2 Axes>"
      ]
     },
     "metadata": {
      "needs_background": "light"
     },
     "output_type": "display_data"
    },
    {
     "name": "stdout",
     "output_type": "stream",
     "text": [
      "{0: 'DC Extended Universe', 1: 'Marvel Cinematic Universe', 2: 'MonsterVerse', 3: 'Star Wars', 4: 'Wizarding World'}\n",
      "------------------------------------------------------------------------------------------------------------------------\n",
      "('              precision    recall  f1-score   support\\n'\n",
      " '\\n'\n",
      " '           0       0.36      0.58      0.44      3056\\n'\n",
      " '           1       0.38      0.54      0.45      3211\\n'\n",
      " '           2       0.44      0.41      0.42      3031\\n'\n",
      " '           3       0.84      0.41      0.55      3063\\n'\n",
      " '           4       0.72      0.40      0.51      3078\\n'\n",
      " '\\n'\n",
      " '    accuracy                           0.47     15439\\n'\n",
      " '   macro avg       0.55      0.46      0.47     15439\\n'\n",
      " 'weighted avg       0.55      0.47      0.47     15439\\n')\n",
      "Wall time: 56.4 s\n"
     ]
    }
   ],
   "source": [
    "%%time\n",
    "tfidf_knn_model = KNeighborsClassifier(5)\n",
    "tfidf_knn_model, score_tfidf_knn = evaluate_model(X_train_sv, y_train_sv, X_test_sv, y_test_sv, classes, \n",
    "                                         tfidf_knn_model, \"TFIDF K-Nearest Neighbor(KNN)\", \"tfidf_knn_model.pkl\", fresh_load=True)"
   ]
  },
  {
   "cell_type": "code",
   "execution_count": 53,
   "id": "6c6e08e5-ad70-46e5-acb3-d4b323c4c8cc",
   "metadata": {},
   "outputs": [],
   "source": [
    "tf_idf_vectorizer = load(open('models/tfidf_stem_vector.pkl', 'rb'))\n",
    "tfidf_knn_model = load(open('models/tfidf_knn_model.pkl', 'rb'))"
   ]
  },
  {
   "cell_type": "code",
   "execution_count": 54,
   "id": "bff4a64a-6f2c-4a86-9609-6382e55591c5",
   "metadata": {},
   "outputs": [],
   "source": [
    "list_f = sorted(glob.glob(\"output/final_output/df_rottentomatoes_reviews_predicted*\"), key=os.path.getmtime)\n",
    "output_file_name = list_f[0]\n",
    "df_rottentomatoes_reviews = pd.read_csv(output_file_name)"
   ]
  },
  {
   "cell_type": "code",
   "execution_count": 55,
   "id": "5570b976-c36d-436e-8b7c-d12bc47aa36f",
   "metadata": {},
   "outputs": [
    {
     "name": "stdout",
     "output_type": "stream",
     "text": [
      "Validation Accuracy Score of TFIDF K-Nearest Neighbor(KNN) Model created using stemmed tf_idf vector is:\n",
      " 0.5471698113207547\n",
      "Wall time: 13.2 s\n"
     ]
    }
   ],
   "source": [
    "%%time\n",
    "val_acc_scr_tfidf_knn, df_rottentomatoes_reviews = validate_model(tfidf_knn_model, \"TFIDF K-Nearest Neighbor(KNN)\", \"tfidf_knn\", df_rottentomatoes_reviews, valid_tfidf_vec_list)"
   ]
  },
  {
   "cell_type": "code",
   "execution_count": 56,
   "id": "6c29bf7a-8390-4e5d-9d78-4e373cb26fc6",
   "metadata": {},
   "outputs": [],
   "source": [
    "#%%time\n",
    "#get_cross_val(tfidf_knn_model, X_train_sv, y_train_sv, X_test_sv, y_test_sv)"
   ]
  },
  {
   "cell_type": "code",
   "execution_count": 57,
   "id": "21183262-d073-4f7d-b738-b9df8babad9f",
   "metadata": {},
   "outputs": [
    {
     "data": {
      "text/html": [
       "<div>\n",
       "<style scoped>\n",
       "    .dataframe tbody tr th:only-of-type {\n",
       "        vertical-align: middle;\n",
       "    }\n",
       "\n",
       "    .dataframe tbody tr th {\n",
       "        vertical-align: top;\n",
       "    }\n",
       "\n",
       "    .dataframe thead th {\n",
       "        text-align: right;\n",
       "    }\n",
       "</style>\n",
       "<table border=\"1\" class=\"dataframe\">\n",
       "  <thead>\n",
       "    <tr style=\"text-align: right;\">\n",
       "      <th></th>\n",
       "      <th>review</th>\n",
       "      <th>movie_name</th>\n",
       "      <th>label_name</th>\n",
       "      <th>predicted_label_MNB</th>\n",
       "      <th>y_true</th>\n",
       "      <th>y_pred_MNB</th>\n",
       "      <th>predicted_label_tfidf_rfc</th>\n",
       "      <th>y_pred_tfidf_rfc</th>\n",
       "      <th>predicted_label_tfidf_MNB</th>\n",
       "      <th>y_pred_tfidf_MNB</th>\n",
       "      <th>predicted_label_tfidf_knn</th>\n",
       "      <th>y_pred_tfidf_knn</th>\n",
       "    </tr>\n",
       "  </thead>\n",
       "  <tbody>\n",
       "    <tr>\n",
       "      <th>0</th>\n",
       "      <td>2019's Godzilla: King of the Monsters, does pr...</td>\n",
       "      <td>godzilla_king_of_the_monsters_2019</td>\n",
       "      <td>MonsterVerse</td>\n",
       "      <td>MonsterVerse</td>\n",
       "      <td>2</td>\n",
       "      <td>2</td>\n",
       "      <td>MonsterVerse</td>\n",
       "      <td>2</td>\n",
       "      <td>MonsterVerse</td>\n",
       "      <td>2</td>\n",
       "      <td>MonsterVerse</td>\n",
       "      <td>2</td>\n",
       "    </tr>\n",
       "    <tr>\n",
       "      <th>1</th>\n",
       "      <td>Shazam!, it's wonderful. It's a very well-dire...</td>\n",
       "      <td>shazam</td>\n",
       "      <td>DC Extended Universe</td>\n",
       "      <td>DC Extended Universe</td>\n",
       "      <td>0</td>\n",
       "      <td>0</td>\n",
       "      <td>DC Extended Universe</td>\n",
       "      <td>0</td>\n",
       "      <td>DC Extended Universe</td>\n",
       "      <td>0</td>\n",
       "      <td>Marvel Cinematic Universe</td>\n",
       "      <td>1</td>\n",
       "    </tr>\n",
       "    <tr>\n",
       "      <th>2</th>\n",
       "      <td>The crimes of Grindelwald is a very good film ...</td>\n",
       "      <td>fantastic_beasts_the_crimes_of_grindelwald</td>\n",
       "      <td>Wizarding World</td>\n",
       "      <td>Wizarding World</td>\n",
       "      <td>4</td>\n",
       "      <td>4</td>\n",
       "      <td>MonsterVerse</td>\n",
       "      <td>2</td>\n",
       "      <td>Wizarding World</td>\n",
       "      <td>4</td>\n",
       "      <td>DC Extended Universe</td>\n",
       "      <td>0</td>\n",
       "    </tr>\n",
       "    <tr>\n",
       "      <th>3</th>\n",
       "      <td>An entertaining film with a great villain and ...</td>\n",
       "      <td>spider_man_homecoming</td>\n",
       "      <td>Marvel Cinematic Universe</td>\n",
       "      <td>Marvel Cinematic Universe</td>\n",
       "      <td>1</td>\n",
       "      <td>1</td>\n",
       "      <td>Marvel Cinematic Universe</td>\n",
       "      <td>1</td>\n",
       "      <td>Marvel Cinematic Universe</td>\n",
       "      <td>1</td>\n",
       "      <td>Marvel Cinematic Universe</td>\n",
       "      <td>1</td>\n",
       "    </tr>\n",
       "    <tr>\n",
       "      <th>4</th>\n",
       "      <td>Captain America: Civil War goes a darker direc...</td>\n",
       "      <td>captain_america_civil_war</td>\n",
       "      <td>Marvel Cinematic Universe</td>\n",
       "      <td>Marvel Cinematic Universe</td>\n",
       "      <td>1</td>\n",
       "      <td>1</td>\n",
       "      <td>Marvel Cinematic Universe</td>\n",
       "      <td>1</td>\n",
       "      <td>Marvel Cinematic Universe</td>\n",
       "      <td>1</td>\n",
       "      <td>Marvel Cinematic Universe</td>\n",
       "      <td>1</td>\n",
       "    </tr>\n",
       "    <tr>\n",
       "      <th>...</th>\n",
       "      <td>...</td>\n",
       "      <td>...</td>\n",
       "      <td>...</td>\n",
       "      <td>...</td>\n",
       "      <td>...</td>\n",
       "      <td>...</td>\n",
       "      <td>...</td>\n",
       "      <td>...</td>\n",
       "      <td>...</td>\n",
       "      <td>...</td>\n",
       "      <td>...</td>\n",
       "      <td>...</td>\n",
       "    </tr>\n",
       "    <tr>\n",
       "      <th>260</th>\n",
       "      <td>Shazam is fun and entertaining! It succeeds in...</td>\n",
       "      <td>shazam</td>\n",
       "      <td>DC Extended Universe</td>\n",
       "      <td>DC Extended Universe</td>\n",
       "      <td>0</td>\n",
       "      <td>0</td>\n",
       "      <td>DC Extended Universe</td>\n",
       "      <td>0</td>\n",
       "      <td>DC Extended Universe</td>\n",
       "      <td>0</td>\n",
       "      <td>DC Extended Universe</td>\n",
       "      <td>0</td>\n",
       "    </tr>\n",
       "    <tr>\n",
       "      <th>261</th>\n",
       "      <td>Godzilla: King of the Monsters was the first M...</td>\n",
       "      <td>godzilla_king_of_the_monsters_2019</td>\n",
       "      <td>MonsterVerse</td>\n",
       "      <td>MonsterVerse</td>\n",
       "      <td>2</td>\n",
       "      <td>2</td>\n",
       "      <td>MonsterVerse</td>\n",
       "      <td>2</td>\n",
       "      <td>MonsterVerse</td>\n",
       "      <td>2</td>\n",
       "      <td>MonsterVerse</td>\n",
       "      <td>2</td>\n",
       "    </tr>\n",
       "    <tr>\n",
       "      <th>262</th>\n",
       "      <td>Not quite top tier MCU, but very close. This i...</td>\n",
       "      <td>avengers_infinity_war</td>\n",
       "      <td>Marvel Cinematic Universe</td>\n",
       "      <td>Marvel Cinematic Universe</td>\n",
       "      <td>1</td>\n",
       "      <td>1</td>\n",
       "      <td>Marvel Cinematic Universe</td>\n",
       "      <td>1</td>\n",
       "      <td>Marvel Cinematic Universe</td>\n",
       "      <td>1</td>\n",
       "      <td>Marvel Cinematic Universe</td>\n",
       "      <td>1</td>\n",
       "    </tr>\n",
       "    <tr>\n",
       "      <th>263</th>\n",
       "      <td>There are a lot of mixed feeling about this mo...</td>\n",
       "      <td>thor_the_dark_world</td>\n",
       "      <td>Marvel Cinematic Universe</td>\n",
       "      <td>Marvel Cinematic Universe</td>\n",
       "      <td>1</td>\n",
       "      <td>1</td>\n",
       "      <td>Marvel Cinematic Universe</td>\n",
       "      <td>1</td>\n",
       "      <td>Marvel Cinematic Universe</td>\n",
       "      <td>1</td>\n",
       "      <td>DC Extended Universe</td>\n",
       "      <td>0</td>\n",
       "    </tr>\n",
       "    <tr>\n",
       "      <th>264</th>\n",
       "      <td>Skull Island is more Donkey Kong than King Kon...</td>\n",
       "      <td>kong_skull_island</td>\n",
       "      <td>MonsterVerse</td>\n",
       "      <td>MonsterVerse</td>\n",
       "      <td>2</td>\n",
       "      <td>2</td>\n",
       "      <td>Marvel Cinematic Universe</td>\n",
       "      <td>1</td>\n",
       "      <td>MonsterVerse</td>\n",
       "      <td>2</td>\n",
       "      <td>MonsterVerse</td>\n",
       "      <td>2</td>\n",
       "    </tr>\n",
       "  </tbody>\n",
       "</table>\n",
       "<p>265 rows × 12 columns</p>\n",
       "</div>"
      ],
      "text/plain": [
       "                                                review  \\\n",
       "0    2019's Godzilla: King of the Monsters, does pr...   \n",
       "1    Shazam!, it's wonderful. It's a very well-dire...   \n",
       "2    The crimes of Grindelwald is a very good film ...   \n",
       "3    An entertaining film with a great villain and ...   \n",
       "4    Captain America: Civil War goes a darker direc...   \n",
       "..                                                 ...   \n",
       "260  Shazam is fun and entertaining! It succeeds in...   \n",
       "261  Godzilla: King of the Monsters was the first M...   \n",
       "262  Not quite top tier MCU, but very close. This i...   \n",
       "263  There are a lot of mixed feeling about this mo...   \n",
       "264  Skull Island is more Donkey Kong than King Kon...   \n",
       "\n",
       "                                     movie_name                 label_name  \\\n",
       "0            godzilla_king_of_the_monsters_2019               MonsterVerse   \n",
       "1                                        shazam       DC Extended Universe   \n",
       "2    fantastic_beasts_the_crimes_of_grindelwald            Wizarding World   \n",
       "3                         spider_man_homecoming  Marvel Cinematic Universe   \n",
       "4                     captain_america_civil_war  Marvel Cinematic Universe   \n",
       "..                                          ...                        ...   \n",
       "260                                      shazam       DC Extended Universe   \n",
       "261          godzilla_king_of_the_monsters_2019               MonsterVerse   \n",
       "262                       avengers_infinity_war  Marvel Cinematic Universe   \n",
       "263                         thor_the_dark_world  Marvel Cinematic Universe   \n",
       "264                           kong_skull_island               MonsterVerse   \n",
       "\n",
       "           predicted_label_MNB  y_true  y_pred_MNB  predicted_label_tfidf_rfc  \\\n",
       "0                 MonsterVerse       2           2               MonsterVerse   \n",
       "1         DC Extended Universe       0           0       DC Extended Universe   \n",
       "2              Wizarding World       4           4               MonsterVerse   \n",
       "3    Marvel Cinematic Universe       1           1  Marvel Cinematic Universe   \n",
       "4    Marvel Cinematic Universe       1           1  Marvel Cinematic Universe   \n",
       "..                         ...     ...         ...                        ...   \n",
       "260       DC Extended Universe       0           0       DC Extended Universe   \n",
       "261               MonsterVerse       2           2               MonsterVerse   \n",
       "262  Marvel Cinematic Universe       1           1  Marvel Cinematic Universe   \n",
       "263  Marvel Cinematic Universe       1           1  Marvel Cinematic Universe   \n",
       "264               MonsterVerse       2           2  Marvel Cinematic Universe   \n",
       "\n",
       "     y_pred_tfidf_rfc  predicted_label_tfidf_MNB  y_pred_tfidf_MNB  \\\n",
       "0                   2               MonsterVerse                 2   \n",
       "1                   0       DC Extended Universe                 0   \n",
       "2                   2            Wizarding World                 4   \n",
       "3                   1  Marvel Cinematic Universe                 1   \n",
       "4                   1  Marvel Cinematic Universe                 1   \n",
       "..                ...                        ...               ...   \n",
       "260                 0       DC Extended Universe                 0   \n",
       "261                 2               MonsterVerse                 2   \n",
       "262                 1  Marvel Cinematic Universe                 1   \n",
       "263                 1  Marvel Cinematic Universe                 1   \n",
       "264                 1               MonsterVerse                 2   \n",
       "\n",
       "     predicted_label_tfidf_knn  y_pred_tfidf_knn  \n",
       "0                 MonsterVerse                 2  \n",
       "1    Marvel Cinematic Universe                 1  \n",
       "2         DC Extended Universe                 0  \n",
       "3    Marvel Cinematic Universe                 1  \n",
       "4    Marvel Cinematic Universe                 1  \n",
       "..                         ...               ...  \n",
       "260       DC Extended Universe                 0  \n",
       "261               MonsterVerse                 2  \n",
       "262  Marvel Cinematic Universe                 1  \n",
       "263       DC Extended Universe                 0  \n",
       "264               MonsterVerse                 2  \n",
       "\n",
       "[265 rows x 12 columns]"
      ]
     },
     "execution_count": 57,
     "metadata": {},
     "output_type": "execute_result"
    }
   ],
   "source": [
    "df_rottentomatoes_reviews.to_csv(output_file_name, index = False)\n",
    "df_rottentomatoes_reviews"
   ]
  },
  {
   "cell_type": "markdown",
   "id": "ee65d1f3-8be8-4db6-a276-9188100b9920",
   "metadata": {},
   "source": [
    "# <font color='orange'>  <center> TFIDF Random Forest Classifier"
   ]
  },
  {
   "cell_type": "code",
   "execution_count": 58,
   "id": "343274de-3334-4dc0-b70e-4ca6bf286229",
   "metadata": {},
   "outputs": [
    {
     "name": "stdout",
     "output_type": "stream",
     "text": [
      "------------------------------------------------------------------------------------------------------------------------\n",
      "Train Accuracy Score of TFIDF Random Forest Classifier model created using stemmed tf_idf vector is:\n",
      " 0.9923382283541071\n",
      "------------------------------------------------------------------------------------------------------------------------\n",
      "Test Accuracy Score of TFIDF Random Forest Classifier model created using stemmed tf_idf vector is:\n",
      " 0.9182589545955049\n",
      "------------------------------------------------------------------------------------------------------------------------\n",
      "Confusion Matrix:\n",
      "[[2714  247   47   19   29]\n",
      " [ 161 2918   61   50   21]\n",
      " [  88  159 2743   25   16]\n",
      " [  55   83   29 2878   18]\n",
      " [  35   74   19   26 2924]]\n"
     ]
    },
    {
     "data": {
      "image/png": "[encoded data removed]",
      "text/plain": [
       "<Figure size 432x288 with 2 Axes>"
      ]
     },
     "metadata": {
      "needs_background": "light"
     },
     "output_type": "display_data"
    },
    {
     "name": "stdout",
     "output_type": "stream",
     "text": [
      "{0: 'DC Extended Universe', 1: 'Marvel Cinematic Universe', 2: 'MonsterVerse', 3: 'Star Wars', 4: 'Wizarding World'}\n",
      "------------------------------------------------------------------------------------------------------------------------\n",
      "('              precision    recall  f1-score   support\\n'\n",
      " '\\n'\n",
      " '           0       0.89      0.89      0.89      3056\\n'\n",
      " '           1       0.84      0.91      0.87      3211\\n'\n",
      " '           2       0.95      0.90      0.93      3031\\n'\n",
      " '           3       0.96      0.94      0.95      3063\\n'\n",
      " '           4       0.97      0.95      0.96      3078\\n'\n",
      " '\\n'\n",
      " '    accuracy                           0.92     15439\\n'\n",
      " '   macro avg       0.92      0.92      0.92     15439\\n'\n",
      " 'weighted avg       0.92      0.92      0.92     15439\\n')\n",
      "Wall time: 1min 45s\n"
     ]
    }
   ],
   "source": [
    "%%time\n",
    "tfidf_rndm_frst_model = RandomForestClassifier(n_estimators=50)\n",
    "tfidf_rndm_frst_model, score_tfidf_rfc = evaluate_model(X_train_sv, y_train_sv, X_test_sv, y_test_sv, classes, \n",
    "                                         tfidf_rndm_frst_model, \"TFIDF Random Forest Classifier\", \"tfidf_rndm_frst_model.pkl\", fresh_load=True)"
   ]
  },
  {
   "cell_type": "code",
   "execution_count": 59,
   "id": "72484eb9-c3e0-4343-9c1e-d329edf4db2c",
   "metadata": {},
   "outputs": [],
   "source": [
    "tf_idf_vectorizer = load(open('models/tfidf_stem_vector.pkl', 'rb'))\n",
    "tfidf_rndm_frst_model = load(open('models/tfidf_rndm_frst_model.pkl', 'rb'))"
   ]
  },
  {
   "cell_type": "code",
   "execution_count": 60,
   "id": "a30d7787-a1f5-4615-a78c-0a33a978fa6f",
   "metadata": {},
   "outputs": [],
   "source": [
    "list_f = sorted(glob.glob(\"output/final_output/df_rottentomatoes_reviews_predicted*\"), key=os.path.getmtime)\n",
    "output_file_name = list_f[0]\n",
    "df_rottentomatoes_reviews = pd.read_csv(output_file_name)"
   ]
  },
  {
   "cell_type": "code",
   "execution_count": 61,
   "id": "43651805-8f8c-4264-bd3d-13008ef7dfb4",
   "metadata": {},
   "outputs": [
    {
     "name": "stdout",
     "output_type": "stream",
     "text": [
      "Validation Accuracy Score of TFIDF Random Forest Classifier Model created using stemmed tf_idf vector is:\n",
      " 0.5471698113207547\n",
      "Wall time: 4.4 s\n"
     ]
    }
   ],
   "source": [
    "%%time\n",
    "val_acc_scr_tfidf_rfc, df_rottentomatoes_reviews = validate_model(tfidf_rndm_frst_model, \"TFIDF Random Forest Classifier\", \"tfidf_rfc\", df_rottentomatoes_reviews, valid_tfidf_vec_list)"
   ]
  },
  {
   "cell_type": "code",
   "execution_count": 62,
   "id": "e44ee45a-c625-4c8d-ba51-d4ee296b6e41",
   "metadata": {},
   "outputs": [],
   "source": [
    "#%%time\n",
    "#get_cross_val(tfidf_rndm_frst_model, X_train_sv, y_train_sv, X_test_sv, y_test_sv)"
   ]
  },
  {
   "cell_type": "code",
   "execution_count": 63,
   "id": "8ba466ef-0de3-4553-968b-e79ca7b80e5c",
   "metadata": {},
   "outputs": [
    {
     "data": {
      "text/html": [
       "<div>\n",
       "<style scoped>\n",
       "    .dataframe tbody tr th:only-of-type {\n",
       "        vertical-align: middle;\n",
       "    }\n",
       "\n",
       "    .dataframe tbody tr th {\n",
       "        vertical-align: top;\n",
       "    }\n",
       "\n",
       "    .dataframe thead th {\n",
       "        text-align: right;\n",
       "    }\n",
       "</style>\n",
       "<table border=\"1\" class=\"dataframe\">\n",
       "  <thead>\n",
       "    <tr style=\"text-align: right;\">\n",
       "      <th></th>\n",
       "      <th>review</th>\n",
       "      <th>movie_name</th>\n",
       "      <th>label_name</th>\n",
       "      <th>predicted_label_MNB</th>\n",
       "      <th>y_true</th>\n",
       "      <th>y_pred_MNB</th>\n",
       "      <th>predicted_label_tfidf_svc</th>\n",
       "      <th>y_pred_tfidf_svc</th>\n",
       "      <th>predicted_label_tfidf_xgb</th>\n",
       "      <th>y_pred_tfidf_xgb</th>\n",
       "      <th>predicted_label_tfidf_rfc</th>\n",
       "      <th>y_pred_tfidf_rfc</th>\n",
       "    </tr>\n",
       "  </thead>\n",
       "  <tbody>\n",
       "    <tr>\n",
       "      <th>0</th>\n",
       "      <td>2019's Godzilla: King of the Monsters, does pr...</td>\n",
       "      <td>godzilla_king_of_the_monsters_2019</td>\n",
       "      <td>MonsterVerse</td>\n",
       "      <td>MonsterVerse</td>\n",
       "      <td>2</td>\n",
       "      <td>2</td>\n",
       "      <td>MonsterVerse</td>\n",
       "      <td>2</td>\n",
       "      <td>MonsterVerse</td>\n",
       "      <td>2</td>\n",
       "      <td>MonsterVerse</td>\n",
       "      <td>2</td>\n",
       "    </tr>\n",
       "    <tr>\n",
       "      <th>1</th>\n",
       "      <td>Shazam!, it's wonderful. It's a very well-dire...</td>\n",
       "      <td>shazam</td>\n",
       "      <td>DC Extended Universe</td>\n",
       "      <td>DC Extended Universe</td>\n",
       "      <td>0</td>\n",
       "      <td>0</td>\n",
       "      <td>DC Extended Universe</td>\n",
       "      <td>0</td>\n",
       "      <td>DC Extended Universe</td>\n",
       "      <td>0</td>\n",
       "      <td>Marvel Cinematic Universe</td>\n",
       "      <td>1</td>\n",
       "    </tr>\n",
       "    <tr>\n",
       "      <th>2</th>\n",
       "      <td>The crimes of Grindelwald is a very good film ...</td>\n",
       "      <td>fantastic_beasts_the_crimes_of_grindelwald</td>\n",
       "      <td>Wizarding World</td>\n",
       "      <td>Wizarding World</td>\n",
       "      <td>4</td>\n",
       "      <td>4</td>\n",
       "      <td>DC Extended Universe</td>\n",
       "      <td>0</td>\n",
       "      <td>Marvel Cinematic Universe</td>\n",
       "      <td>1</td>\n",
       "      <td>MonsterVerse</td>\n",
       "      <td>2</td>\n",
       "    </tr>\n",
       "    <tr>\n",
       "      <th>3</th>\n",
       "      <td>An entertaining film with a great villain and ...</td>\n",
       "      <td>spider_man_homecoming</td>\n",
       "      <td>Marvel Cinematic Universe</td>\n",
       "      <td>Marvel Cinematic Universe</td>\n",
       "      <td>1</td>\n",
       "      <td>1</td>\n",
       "      <td>Marvel Cinematic Universe</td>\n",
       "      <td>1</td>\n",
       "      <td>Marvel Cinematic Universe</td>\n",
       "      <td>1</td>\n",
       "      <td>Marvel Cinematic Universe</td>\n",
       "      <td>1</td>\n",
       "    </tr>\n",
       "    <tr>\n",
       "      <th>4</th>\n",
       "      <td>Captain America: Civil War goes a darker direc...</td>\n",
       "      <td>captain_america_civil_war</td>\n",
       "      <td>Marvel Cinematic Universe</td>\n",
       "      <td>Marvel Cinematic Universe</td>\n",
       "      <td>1</td>\n",
       "      <td>1</td>\n",
       "      <td>Marvel Cinematic Universe</td>\n",
       "      <td>1</td>\n",
       "      <td>Marvel Cinematic Universe</td>\n",
       "      <td>1</td>\n",
       "      <td>Marvel Cinematic Universe</td>\n",
       "      <td>1</td>\n",
       "    </tr>\n",
       "    <tr>\n",
       "      <th>...</th>\n",
       "      <td>...</td>\n",
       "      <td>...</td>\n",
       "      <td>...</td>\n",
       "      <td>...</td>\n",
       "      <td>...</td>\n",
       "      <td>...</td>\n",
       "      <td>...</td>\n",
       "      <td>...</td>\n",
       "      <td>...</td>\n",
       "      <td>...</td>\n",
       "      <td>...</td>\n",
       "      <td>...</td>\n",
       "    </tr>\n",
       "    <tr>\n",
       "      <th>260</th>\n",
       "      <td>Shazam is fun and entertaining! It succeeds in...</td>\n",
       "      <td>shazam</td>\n",
       "      <td>DC Extended Universe</td>\n",
       "      <td>DC Extended Universe</td>\n",
       "      <td>0</td>\n",
       "      <td>0</td>\n",
       "      <td>DC Extended Universe</td>\n",
       "      <td>0</td>\n",
       "      <td>DC Extended Universe</td>\n",
       "      <td>0</td>\n",
       "      <td>DC Extended Universe</td>\n",
       "      <td>0</td>\n",
       "    </tr>\n",
       "    <tr>\n",
       "      <th>261</th>\n",
       "      <td>Godzilla: King of the Monsters was the first M...</td>\n",
       "      <td>godzilla_king_of_the_monsters_2019</td>\n",
       "      <td>MonsterVerse</td>\n",
       "      <td>MonsterVerse</td>\n",
       "      <td>2</td>\n",
       "      <td>2</td>\n",
       "      <td>MonsterVerse</td>\n",
       "      <td>2</td>\n",
       "      <td>MonsterVerse</td>\n",
       "      <td>2</td>\n",
       "      <td>MonsterVerse</td>\n",
       "      <td>2</td>\n",
       "    </tr>\n",
       "    <tr>\n",
       "      <th>262</th>\n",
       "      <td>Not quite top tier MCU, but very close. This i...</td>\n",
       "      <td>avengers_infinity_war</td>\n",
       "      <td>Marvel Cinematic Universe</td>\n",
       "      <td>Marvel Cinematic Universe</td>\n",
       "      <td>1</td>\n",
       "      <td>1</td>\n",
       "      <td>Marvel Cinematic Universe</td>\n",
       "      <td>1</td>\n",
       "      <td>Marvel Cinematic Universe</td>\n",
       "      <td>1</td>\n",
       "      <td>Marvel Cinematic Universe</td>\n",
       "      <td>1</td>\n",
       "    </tr>\n",
       "    <tr>\n",
       "      <th>263</th>\n",
       "      <td>There are a lot of mixed feeling about this mo...</td>\n",
       "      <td>thor_the_dark_world</td>\n",
       "      <td>Marvel Cinematic Universe</td>\n",
       "      <td>Marvel Cinematic Universe</td>\n",
       "      <td>1</td>\n",
       "      <td>1</td>\n",
       "      <td>Marvel Cinematic Universe</td>\n",
       "      <td>1</td>\n",
       "      <td>Marvel Cinematic Universe</td>\n",
       "      <td>1</td>\n",
       "      <td>Marvel Cinematic Universe</td>\n",
       "      <td>1</td>\n",
       "    </tr>\n",
       "    <tr>\n",
       "      <th>264</th>\n",
       "      <td>Skull Island is more Donkey Kong than King Kon...</td>\n",
       "      <td>kong_skull_island</td>\n",
       "      <td>MonsterVerse</td>\n",
       "      <td>MonsterVerse</td>\n",
       "      <td>2</td>\n",
       "      <td>2</td>\n",
       "      <td>MonsterVerse</td>\n",
       "      <td>2</td>\n",
       "      <td>Marvel Cinematic Universe</td>\n",
       "      <td>1</td>\n",
       "      <td>Marvel Cinematic Universe</td>\n",
       "      <td>1</td>\n",
       "    </tr>\n",
       "  </tbody>\n",
       "</table>\n",
       "<p>265 rows × 12 columns</p>\n",
       "</div>"
      ],
      "text/plain": [
       "                                                review  \\\n",
       "0    2019's Godzilla: King of the Monsters, does pr...   \n",
       "1    Shazam!, it's wonderful. It's a very well-dire...   \n",
       "2    The crimes of Grindelwald is a very good film ...   \n",
       "3    An entertaining film with a great villain and ...   \n",
       "4    Captain America: Civil War goes a darker direc...   \n",
       "..                                                 ...   \n",
       "260  Shazam is fun and entertaining! It succeeds in...   \n",
       "261  Godzilla: King of the Monsters was the first M...   \n",
       "262  Not quite top tier MCU, but very close. This i...   \n",
       "263  There are a lot of mixed feeling about this mo...   \n",
       "264  Skull Island is more Donkey Kong than King Kon...   \n",
       "\n",
       "                                     movie_name                 label_name  \\\n",
       "0            godzilla_king_of_the_monsters_2019               MonsterVerse   \n",
       "1                                        shazam       DC Extended Universe   \n",
       "2    fantastic_beasts_the_crimes_of_grindelwald            Wizarding World   \n",
       "3                         spider_man_homecoming  Marvel Cinematic Universe   \n",
       "4                     captain_america_civil_war  Marvel Cinematic Universe   \n",
       "..                                          ...                        ...   \n",
       "260                                      shazam       DC Extended Universe   \n",
       "261          godzilla_king_of_the_monsters_2019               MonsterVerse   \n",
       "262                       avengers_infinity_war  Marvel Cinematic Universe   \n",
       "263                         thor_the_dark_world  Marvel Cinematic Universe   \n",
       "264                           kong_skull_island               MonsterVerse   \n",
       "\n",
       "           predicted_label_MNB  y_true  y_pred_MNB  predicted_label_tfidf_svc  \\\n",
       "0                 MonsterVerse       2           2               MonsterVerse   \n",
       "1         DC Extended Universe       0           0       DC Extended Universe   \n",
       "2              Wizarding World       4           4       DC Extended Universe   \n",
       "3    Marvel Cinematic Universe       1           1  Marvel Cinematic Universe   \n",
       "4    Marvel Cinematic Universe       1           1  Marvel Cinematic Universe   \n",
       "..                         ...     ...         ...                        ...   \n",
       "260       DC Extended Universe       0           0       DC Extended Universe   \n",
       "261               MonsterVerse       2           2               MonsterVerse   \n",
       "262  Marvel Cinematic Universe       1           1  Marvel Cinematic Universe   \n",
       "263  Marvel Cinematic Universe       1           1  Marvel Cinematic Universe   \n",
       "264               MonsterVerse       2           2               MonsterVerse   \n",
       "\n",
       "     y_pred_tfidf_svc  predicted_label_tfidf_xgb  y_pred_tfidf_xgb  \\\n",
       "0                   2               MonsterVerse                 2   \n",
       "1                   0       DC Extended Universe                 0   \n",
       "2                   0  Marvel Cinematic Universe                 1   \n",
       "3                   1  Marvel Cinematic Universe                 1   \n",
       "4                   1  Marvel Cinematic Universe                 1   \n",
       "..                ...                        ...               ...   \n",
       "260                 0       DC Extended Universe                 0   \n",
       "261                 2               MonsterVerse                 2   \n",
       "262                 1  Marvel Cinematic Universe                 1   \n",
       "263                 1  Marvel Cinematic Universe                 1   \n",
       "264                 2  Marvel Cinematic Universe                 1   \n",
       "\n",
       "     predicted_label_tfidf_rfc  y_pred_tfidf_rfc  \n",
       "0                 MonsterVerse                 2  \n",
       "1    Marvel Cinematic Universe                 1  \n",
       "2                 MonsterVerse                 2  \n",
       "3    Marvel Cinematic Universe                 1  \n",
       "4    Marvel Cinematic Universe                 1  \n",
       "..                         ...               ...  \n",
       "260       DC Extended Universe                 0  \n",
       "261               MonsterVerse                 2  \n",
       "262  Marvel Cinematic Universe                 1  \n",
       "263  Marvel Cinematic Universe                 1  \n",
       "264  Marvel Cinematic Universe                 1  \n",
       "\n",
       "[265 rows x 12 columns]"
      ]
     },
     "execution_count": 63,
     "metadata": {},
     "output_type": "execute_result"
    }
   ],
   "source": [
    "df_rottentomatoes_reviews.to_csv(output_file_name, index = False)\n",
    "df_rottentomatoes_reviews"
   ]
  },
  {
   "cell_type": "markdown",
   "id": "7808e96f-c78a-4fae-909b-2c25bbe20dc6",
   "metadata": {},
   "source": [
    "# <font color='orange'>  <center> TFIDF XG-Boost Classifier"
   ]
  },
  {
   "cell_type": "code",
   "execution_count": 64,
   "id": "4f068354-4da6-4c47-9990-a5ebbbcb4dfc",
   "metadata": {},
   "outputs": [
    {
     "name": "stdout",
     "output_type": "stream",
     "text": [
      "------------------------------------------------------------------------------------------------------------------------\n",
      "Train Accuracy Score of TFIDF XGB Classifier model created using stemmed tf_idf vector is:\n",
      " 0.9103905837936873\n",
      "------------------------------------------------------------------------------------------------------------------------\n",
      "Test Accuracy Score of TFIDF XGB Classifier model created using stemmed tf_idf vector is:\n",
      " 0.9050456635792473\n",
      "------------------------------------------------------------------------------------------------------------------------\n",
      "Confusion Matrix:\n",
      "[[2507  509    5   17   18]\n",
      " [  42 3115    9   36    9]\n",
      " [   9  374 2625   12   11]\n",
      " [   5  197    1 2845   15]\n",
      " [   8  167    1   21 2881]]\n"
     ]
    },
    {
     "data": {
      "image/png": "[encoded data removed]",
      "text/plain": [
       "<Figure size 432x288 with 2 Axes>"
      ]
     },
     "metadata": {
      "needs_background": "light"
     },
     "output_type": "display_data"
    },
    {
     "name": "stdout",
     "output_type": "stream",
     "text": [
      "{0: 'DC Extended Universe', 1: 'Marvel Cinematic Universe', 2: 'MonsterVerse', 3: 'Star Wars', 4: 'Wizarding World'}\n",
      "------------------------------------------------------------------------------------------------------------------------\n",
      "('              precision    recall  f1-score   support\\n'\n",
      " '\\n'\n",
      " '           0       0.98      0.82      0.89      3056\\n'\n",
      " '           1       0.71      0.97      0.82      3211\\n'\n",
      " '           2       0.99      0.87      0.93      3031\\n'\n",
      " '           3       0.97      0.93      0.95      3063\\n'\n",
      " '           4       0.98      0.94      0.96      3078\\n'\n",
      " '\\n'\n",
      " '    accuracy                           0.91     15439\\n'\n",
      " '   macro avg       0.93      0.90      0.91     15439\\n'\n",
      " 'weighted avg       0.93      0.91      0.91     15439\\n')\n",
      "Wall time: 35.2 s\n"
     ]
    }
   ],
   "source": [
    "%%time\n",
    "tfidf_xgb_model = xgb.XGBClassifier(\n",
    "        learning_rate=0.1,\n",
    "        max_depth=7,\n",
    "        n_estimators=80,\n",
    "        use_label_encoder=False,\n",
    "        eval_metric='auc')\n",
    "tfidf_xgb_model, score_tfidf_xgb = evaluate_model(X_train_sv, y_train_sv, X_test_sv, y_test_sv, classes, \n",
    "                                         tfidf_xgb_model, \"TFIDF XGB Classifier\", \"tfidf_xgb_model.pkl\", fresh_load=True)"
   ]
  },
  {
   "cell_type": "code",
   "execution_count": 65,
   "id": "9590ae72-fa7f-4e12-a821-df3df967b94b",
   "metadata": {},
   "outputs": [],
   "source": [
    "tf_idf_vectorizer = load(open('models/tfidf_stem_vector.pkl', 'rb'))\n",
    "tfidf_xgb_model = load(open('models/tfidf_xgb_model.pkl', 'rb'))"
   ]
  },
  {
   "cell_type": "code",
   "execution_count": 66,
   "id": "af13c56d-677e-465c-bf29-b5860ae868ee",
   "metadata": {},
   "outputs": [],
   "source": [
    "list_f = sorted(glob.glob(\"output/final_output/df_rottentomatoes_reviews_predicted*\"), key=os.path.getmtime)\n",
    "output_file_name = list_f[0]\n",
    "df_rottentomatoes_reviews = pd.read_csv(output_file_name)"
   ]
  },
  {
   "cell_type": "code",
   "execution_count": 67,
   "id": "912e8df4-8dd7-43b6-912e-71e6cc02c4bc",
   "metadata": {},
   "outputs": [
    {
     "name": "stdout",
     "output_type": "stream",
     "text": [
      "Validation Accuracy Score of TFIDF XGB Classifier Model created using stemmed tf_idf vector is:\n",
      " 0.7320754716981132\n",
      "Wall time: 8.04 s\n"
     ]
    }
   ],
   "source": [
    "%%time\n",
    "val_acc_scr_tfidf_xgb, df_rottentomatoes_reviews = validate_model(tfidf_xgb_model, \"TFIDF XGB Classifier\", \"tfidf_xgb\", df_rottentomatoes_reviews, valid_tfidf_vec_list)"
   ]
  },
  {
   "cell_type": "code",
   "execution_count": 68,
   "id": "88eb45a5-7e8d-4004-b9ed-9d4106607a59",
   "metadata": {},
   "outputs": [],
   "source": [
    "#%%time\n",
    "#get_cross_val(tfidf_xgb_model, X_train_sv, y_train_sv, X_test_sv, y_test_sv)"
   ]
  },
  {
   "cell_type": "code",
   "execution_count": 69,
   "id": "0d6f8c80-d048-4410-a499-932f1be99bf2",
   "metadata": {},
   "outputs": [
    {
     "data": {
      "text/html": [
       "<div>\n",
       "<style scoped>\n",
       "    .dataframe tbody tr th:only-of-type {\n",
       "        vertical-align: middle;\n",
       "    }\n",
       "\n",
       "    .dataframe tbody tr th {\n",
       "        vertical-align: top;\n",
       "    }\n",
       "\n",
       "    .dataframe thead th {\n",
       "        text-align: right;\n",
       "    }\n",
       "</style>\n",
       "<table border=\"1\" class=\"dataframe\">\n",
       "  <thead>\n",
       "    <tr style=\"text-align: right;\">\n",
       "      <th></th>\n",
       "      <th>review</th>\n",
       "      <th>movie_name</th>\n",
       "      <th>label_name</th>\n",
       "      <th>predicted_label_MNB</th>\n",
       "      <th>y_true</th>\n",
       "      <th>y_pred_MNB</th>\n",
       "      <th>predicted_label_tfidf_xgb</th>\n",
       "      <th>y_pred_tfidf_xgb</th>\n",
       "      <th>predicted_label_tfidf_knn</th>\n",
       "      <th>y_pred_tfidf_knn</th>\n",
       "      <th>predicted_label_we_mnb</th>\n",
       "      <th>y_pred_we_mnb</th>\n",
       "    </tr>\n",
       "  </thead>\n",
       "  <tbody>\n",
       "    <tr>\n",
       "      <th>0</th>\n",
       "      <td>2019's Godzilla: King of the Monsters, does pr...</td>\n",
       "      <td>godzilla_king_of_the_monsters_2019</td>\n",
       "      <td>MonsterVerse</td>\n",
       "      <td>MonsterVerse</td>\n",
       "      <td>2</td>\n",
       "      <td>2</td>\n",
       "      <td>MonsterVerse</td>\n",
       "      <td>2</td>\n",
       "      <td>MonsterVerse</td>\n",
       "      <td>2</td>\n",
       "      <td>Marvel Cinematic Universe</td>\n",
       "      <td>1</td>\n",
       "    </tr>\n",
       "    <tr>\n",
       "      <th>1</th>\n",
       "      <td>Shazam!, it's wonderful. It's a very well-dire...</td>\n",
       "      <td>shazam</td>\n",
       "      <td>DC Extended Universe</td>\n",
       "      <td>DC Extended Universe</td>\n",
       "      <td>0</td>\n",
       "      <td>0</td>\n",
       "      <td>Marvel Cinematic Universe</td>\n",
       "      <td>1</td>\n",
       "      <td>DC Extended Universe</td>\n",
       "      <td>0</td>\n",
       "      <td>MonsterVerse</td>\n",
       "      <td>2</td>\n",
       "    </tr>\n",
       "    <tr>\n",
       "      <th>2</th>\n",
       "      <td>The crimes of Grindelwald is a very good film ...</td>\n",
       "      <td>fantastic_beasts_the_crimes_of_grindelwald</td>\n",
       "      <td>Wizarding World</td>\n",
       "      <td>Wizarding World</td>\n",
       "      <td>4</td>\n",
       "      <td>4</td>\n",
       "      <td>Marvel Cinematic Universe</td>\n",
       "      <td>1</td>\n",
       "      <td>Marvel Cinematic Universe</td>\n",
       "      <td>1</td>\n",
       "      <td>Marvel Cinematic Universe</td>\n",
       "      <td>1</td>\n",
       "    </tr>\n",
       "    <tr>\n",
       "      <th>3</th>\n",
       "      <td>An entertaining film with a great villain and ...</td>\n",
       "      <td>spider_man_homecoming</td>\n",
       "      <td>Marvel Cinematic Universe</td>\n",
       "      <td>Marvel Cinematic Universe</td>\n",
       "      <td>1</td>\n",
       "      <td>1</td>\n",
       "      <td>Marvel Cinematic Universe</td>\n",
       "      <td>1</td>\n",
       "      <td>MonsterVerse</td>\n",
       "      <td>2</td>\n",
       "      <td>Star Wars</td>\n",
       "      <td>3</td>\n",
       "    </tr>\n",
       "    <tr>\n",
       "      <th>4</th>\n",
       "      <td>Captain America: Civil War goes a darker direc...</td>\n",
       "      <td>captain_america_civil_war</td>\n",
       "      <td>Marvel Cinematic Universe</td>\n",
       "      <td>Marvel Cinematic Universe</td>\n",
       "      <td>1</td>\n",
       "      <td>1</td>\n",
       "      <td>Marvel Cinematic Universe</td>\n",
       "      <td>1</td>\n",
       "      <td>Marvel Cinematic Universe</td>\n",
       "      <td>1</td>\n",
       "      <td>Marvel Cinematic Universe</td>\n",
       "      <td>1</td>\n",
       "    </tr>\n",
       "    <tr>\n",
       "      <th>...</th>\n",
       "      <td>...</td>\n",
       "      <td>...</td>\n",
       "      <td>...</td>\n",
       "      <td>...</td>\n",
       "      <td>...</td>\n",
       "      <td>...</td>\n",
       "      <td>...</td>\n",
       "      <td>...</td>\n",
       "      <td>...</td>\n",
       "      <td>...</td>\n",
       "      <td>...</td>\n",
       "      <td>...</td>\n",
       "    </tr>\n",
       "    <tr>\n",
       "      <th>260</th>\n",
       "      <td>Shazam is fun and entertaining! It succeeds in...</td>\n",
       "      <td>shazam</td>\n",
       "      <td>DC Extended Universe</td>\n",
       "      <td>DC Extended Universe</td>\n",
       "      <td>0</td>\n",
       "      <td>0</td>\n",
       "      <td>DC Extended Universe</td>\n",
       "      <td>0</td>\n",
       "      <td>DC Extended Universe</td>\n",
       "      <td>0</td>\n",
       "      <td>Marvel Cinematic Universe</td>\n",
       "      <td>1</td>\n",
       "    </tr>\n",
       "    <tr>\n",
       "      <th>261</th>\n",
       "      <td>Godzilla: King of the Monsters was the first M...</td>\n",
       "      <td>godzilla_king_of_the_monsters_2019</td>\n",
       "      <td>MonsterVerse</td>\n",
       "      <td>MonsterVerse</td>\n",
       "      <td>2</td>\n",
       "      <td>2</td>\n",
       "      <td>MonsterVerse</td>\n",
       "      <td>2</td>\n",
       "      <td>MonsterVerse</td>\n",
       "      <td>2</td>\n",
       "      <td>Marvel Cinematic Universe</td>\n",
       "      <td>1</td>\n",
       "    </tr>\n",
       "    <tr>\n",
       "      <th>262</th>\n",
       "      <td>Not quite top tier MCU, but very close. This i...</td>\n",
       "      <td>avengers_infinity_war</td>\n",
       "      <td>Marvel Cinematic Universe</td>\n",
       "      <td>Marvel Cinematic Universe</td>\n",
       "      <td>1</td>\n",
       "      <td>1</td>\n",
       "      <td>Marvel Cinematic Universe</td>\n",
       "      <td>1</td>\n",
       "      <td>Marvel Cinematic Universe</td>\n",
       "      <td>1</td>\n",
       "      <td>Wizarding World</td>\n",
       "      <td>4</td>\n",
       "    </tr>\n",
       "    <tr>\n",
       "      <th>263</th>\n",
       "      <td>There are a lot of mixed feeling about this mo...</td>\n",
       "      <td>thor_the_dark_world</td>\n",
       "      <td>Marvel Cinematic Universe</td>\n",
       "      <td>Marvel Cinematic Universe</td>\n",
       "      <td>1</td>\n",
       "      <td>1</td>\n",
       "      <td>Marvel Cinematic Universe</td>\n",
       "      <td>1</td>\n",
       "      <td>DC Extended Universe</td>\n",
       "      <td>0</td>\n",
       "      <td>MonsterVerse</td>\n",
       "      <td>2</td>\n",
       "    </tr>\n",
       "    <tr>\n",
       "      <th>264</th>\n",
       "      <td>Skull Island is more Donkey Kong than King Kon...</td>\n",
       "      <td>kong_skull_island</td>\n",
       "      <td>MonsterVerse</td>\n",
       "      <td>MonsterVerse</td>\n",
       "      <td>2</td>\n",
       "      <td>2</td>\n",
       "      <td>Marvel Cinematic Universe</td>\n",
       "      <td>1</td>\n",
       "      <td>Marvel Cinematic Universe</td>\n",
       "      <td>1</td>\n",
       "      <td>Marvel Cinematic Universe</td>\n",
       "      <td>1</td>\n",
       "    </tr>\n",
       "  </tbody>\n",
       "</table>\n",
       "<p>265 rows × 12 columns</p>\n",
       "</div>"
      ],
      "text/plain": [
       "                                                review  \\\n",
       "0    2019's Godzilla: King of the Monsters, does pr...   \n",
       "1    Shazam!, it's wonderful. It's a very well-dire...   \n",
       "2    The crimes of Grindelwald is a very good film ...   \n",
       "3    An entertaining film with a great villain and ...   \n",
       "4    Captain America: Civil War goes a darker direc...   \n",
       "..                                                 ...   \n",
       "260  Shazam is fun and entertaining! It succeeds in...   \n",
       "261  Godzilla: King of the Monsters was the first M...   \n",
       "262  Not quite top tier MCU, but very close. This i...   \n",
       "263  There are a lot of mixed feeling about this mo...   \n",
       "264  Skull Island is more Donkey Kong than King Kon...   \n",
       "\n",
       "                                     movie_name                 label_name  \\\n",
       "0            godzilla_king_of_the_monsters_2019               MonsterVerse   \n",
       "1                                        shazam       DC Extended Universe   \n",
       "2    fantastic_beasts_the_crimes_of_grindelwald            Wizarding World   \n",
       "3                         spider_man_homecoming  Marvel Cinematic Universe   \n",
       "4                     captain_america_civil_war  Marvel Cinematic Universe   \n",
       "..                                          ...                        ...   \n",
       "260                                      shazam       DC Extended Universe   \n",
       "261          godzilla_king_of_the_monsters_2019               MonsterVerse   \n",
       "262                       avengers_infinity_war  Marvel Cinematic Universe   \n",
       "263                         thor_the_dark_world  Marvel Cinematic Universe   \n",
       "264                           kong_skull_island               MonsterVerse   \n",
       "\n",
       "           predicted_label_MNB  y_true  y_pred_MNB  predicted_label_tfidf_xgb  \\\n",
       "0                 MonsterVerse       2           2               MonsterVerse   \n",
       "1         DC Extended Universe       0           0  Marvel Cinematic Universe   \n",
       "2              Wizarding World       4           4  Marvel Cinematic Universe   \n",
       "3    Marvel Cinematic Universe       1           1  Marvel Cinematic Universe   \n",
       "4    Marvel Cinematic Universe       1           1  Marvel Cinematic Universe   \n",
       "..                         ...     ...         ...                        ...   \n",
       "260       DC Extended Universe       0           0       DC Extended Universe   \n",
       "261               MonsterVerse       2           2               MonsterVerse   \n",
       "262  Marvel Cinematic Universe       1           1  Marvel Cinematic Universe   \n",
       "263  Marvel Cinematic Universe       1           1  Marvel Cinematic Universe   \n",
       "264               MonsterVerse       2           2  Marvel Cinematic Universe   \n",
       "\n",
       "     y_pred_tfidf_xgb  predicted_label_tfidf_knn  y_pred_tfidf_knn  \\\n",
       "0                   2               MonsterVerse                 2   \n",
       "1                   1       DC Extended Universe                 0   \n",
       "2                   1  Marvel Cinematic Universe                 1   \n",
       "3                   1               MonsterVerse                 2   \n",
       "4                   1  Marvel Cinematic Universe                 1   \n",
       "..                ...                        ...               ...   \n",
       "260                 0       DC Extended Universe                 0   \n",
       "261                 2               MonsterVerse                 2   \n",
       "262                 1  Marvel Cinematic Universe                 1   \n",
       "263                 1       DC Extended Universe                 0   \n",
       "264                 1  Marvel Cinematic Universe                 1   \n",
       "\n",
       "        predicted_label_we_mnb  y_pred_we_mnb  \n",
       "0    Marvel Cinematic Universe              1  \n",
       "1                 MonsterVerse              2  \n",
       "2    Marvel Cinematic Universe              1  \n",
       "3                    Star Wars              3  \n",
       "4    Marvel Cinematic Universe              1  \n",
       "..                         ...            ...  \n",
       "260  Marvel Cinematic Universe              1  \n",
       "261  Marvel Cinematic Universe              1  \n",
       "262            Wizarding World              4  \n",
       "263               MonsterVerse              2  \n",
       "264  Marvel Cinematic Universe              1  \n",
       "\n",
       "[265 rows x 12 columns]"
      ]
     },
     "execution_count": 69,
     "metadata": {},
     "output_type": "execute_result"
    }
   ],
   "source": [
    "df_rottentomatoes_reviews.to_csv(output_file_name, index = False)\n",
    "df_rottentomatoes_reviews"
   ]
  },
  {
   "cell_type": "code",
   "execution_count": 70,
   "id": "fd531a8e-a552-4de6-ac37-29d4e1a93508",
   "metadata": {},
   "outputs": [],
   "source": [
    "score_tfidf_mnb.append(val_acc_scr_tfidf_mnb)\n",
    "score_tfidf_svc.append(val_acc_scr_tfidf_svc)\n",
    "score_tfidf_knn.append(val_acc_scr_tfidf_knn)\n",
    "score_tfidf_rfc.append(val_acc_scr_tfidf_rfc)\n",
    "score_tfidf_xgb.append(val_acc_scr_tfidf_xgb)\n",
    "score = score_tfidf_mnb\n",
    "score.extend(score_tfidf_svc)\n",
    "score.extend(score_tfidf_knn)\n",
    "score.extend(score_tfidf_rfc)\n",
    "score.extend(score_tfidf_xgb)\n",
    "score = [score]"
   ]
  },
  {
   "cell_type": "code",
   "execution_count": 107,
   "id": "35c32b59-3b8b-4470-b6a2-bc120dfc3c12",
   "metadata": {},
   "outputs": [
    {
     "data": {
      "text/html": [
       "<div>\n",
       "<style scoped>\n",
       "    .dataframe tbody tr th:only-of-type {\n",
       "        vertical-align: middle;\n",
       "    }\n",
       "\n",
       "    .dataframe tbody tr th {\n",
       "        vertical-align: top;\n",
       "    }\n",
       "\n",
       "    .dataframe thead tr th {\n",
       "        text-align: left;\n",
       "    }\n",
       "</style>\n",
       "<table border=\"1\" class=\"dataframe\">\n",
       "  <thead>\n",
       "    <tr>\n",
       "      <th></th>\n",
       "      <th colspan=\"3\" halign=\"left\">MNB Accuracy</th>\n",
       "      <th colspan=\"3\" halign=\"left\">SVC Accuracy</th>\n",
       "      <th colspan=\"3\" halign=\"left\">KNN Accuracy</th>\n",
       "      <th colspan=\"3\" halign=\"left\">RFC Accuracy</th>\n",
       "      <th colspan=\"3\" halign=\"left\">XGB Accuracy</th>\n",
       "    </tr>\n",
       "    <tr>\n",
       "      <th></th>\n",
       "      <th>Train</th>\n",
       "      <th>Test</th>\n",
       "      <th>Validate</th>\n",
       "      <th>Train</th>\n",
       "      <th>Test</th>\n",
       "      <th>Validate</th>\n",
       "      <th>Train</th>\n",
       "      <th>Test</th>\n",
       "      <th>Validate</th>\n",
       "      <th>Train</th>\n",
       "      <th>Test</th>\n",
       "      <th>Validate</th>\n",
       "      <th>Train</th>\n",
       "      <th>Test</th>\n",
       "      <th>Validate</th>\n",
       "    </tr>\n",
       "  </thead>\n",
       "  <tbody>\n",
       "    <tr>\n",
       "      <th>Basic Vectorisation</th>\n",
       "      <td>96.18%</td>\n",
       "      <td>91.54%</td>\n",
       "      <td>74.34%</td>\n",
       "      <td>98.95%</td>\n",
       "      <td>91.72%</td>\n",
       "      <td>64.91%</td>\n",
       "      <td>64.55%</td>\n",
       "      <td>46.54%</td>\n",
       "      <td>54.72%</td>\n",
       "      <td>99.23%</td>\n",
       "      <td>91.83%</td>\n",
       "      <td>54.72%</td>\n",
       "      <td>91.04%</td>\n",
       "      <td>90.50%</td>\n",
       "      <td>73.21%</td>\n",
       "    </tr>\n",
       "  </tbody>\n",
       "</table>\n",
       "</div>"
      ],
      "text/plain": [
       "                    MNB Accuracy                  SVC Accuracy          \\\n",
       "                           Train    Test Validate        Train    Test   \n",
       "Basic Vectorisation       96.18%  91.54%   74.34%       98.95%  91.72%   \n",
       "\n",
       "                             KNN Accuracy                  RFC Accuracy  \\\n",
       "                    Validate        Train    Test Validate        Train   \n",
       "Basic Vectorisation   64.91%       64.55%  46.54%   54.72%       99.23%   \n",
       "\n",
       "                                     XGB Accuracy                   \n",
       "                       Test Validate        Train    Test Validate  \n",
       "Basic Vectorisation  91.83%   54.72%       91.04%  90.50%   73.21%  "
      ]
     },
     "execution_count": 107,
     "metadata": {},
     "output_type": "execute_result"
    }
   ],
   "source": [
    "df_score = pd.DataFrame(score)\n",
    "df_score.columns = pd.MultiIndex.from_product([['MNB Accuracy', 'SVC Accuracy', 'KNN Accuracy', 'RFC Accuracy', 'XGB Accuracy'], ['Train','Test','Validate']])\n",
    "df_score = df_score.set_index([['Basic Vectorisation']])\n",
    "df_score[df_score.columns] = df_score[df_score.columns].applymap(lambda x: x*100)\n",
    "df_score[df_score.columns] = df_score[df_score.columns].applymap(\"{0:.2f}%\".format)\n",
    "df_score"
   ]
  },
  {
   "cell_type": "markdown",
   "id": "7ea3bff7-ac0b-451a-a513-29c025a7e049",
   "metadata": {},
   "source": [
    "# <font color='orange'>  <center> Document Embeddings"
   ]
  },
  {
   "cell_type": "code",
   "execution_count": 72,
   "id": "f34cf45d-02d2-41b7-9f3a-2ff3219618fb",
   "metadata": {},
   "outputs": [
    {
     "data": {
      "text/html": [
       "<div>\n",
       "<style scoped>\n",
       "    .dataframe tbody tr th:only-of-type {\n",
       "        vertical-align: middle;\n",
       "    }\n",
       "\n",
       "    .dataframe tbody tr th {\n",
       "        vertical-align: top;\n",
       "    }\n",
       "\n",
       "    .dataframe thead th {\n",
       "        text-align: right;\n",
       "    }\n",
       "</style>\n",
       "<table border=\"1\" class=\"dataframe\">\n",
       "  <thead>\n",
       "    <tr style=\"text-align: right;\">\n",
       "      <th></th>\n",
       "      <th>lemma_cleaned_tokens</th>\n",
       "      <th>label</th>\n",
       "      <th>label_id</th>\n",
       "    </tr>\n",
       "  </thead>\n",
       "  <tbody>\n",
       "    <tr>\n",
       "      <th>0</th>\n",
       "      <td>['guardiansofthegalaxy', 'star', 'karengillan'...</td>\n",
       "      <td>Marvel Cinematic Universe</td>\n",
       "      <td>1</td>\n",
       "    </tr>\n",
       "    <tr>\n",
       "      <th>1</th>\n",
       "      <td>['friend', 'show', 'idea', 'flash', 'guy', 'sh...</td>\n",
       "      <td>DC Extended Universe</td>\n",
       "      <td>0</td>\n",
       "    </tr>\n",
       "    <tr>\n",
       "      <th>2</th>\n",
       "      <td>['papa', 'drago', 'godzilla', 'titan', 'omg']</td>\n",
       "      <td>MonsterVerse</td>\n",
       "      <td>2</td>\n",
       "    </tr>\n",
       "    <tr>\n",
       "      <th>3</th>\n",
       "      <td>['batman', 'robin', 'camp']</td>\n",
       "      <td>DC Extended Universe</td>\n",
       "      <td>0</td>\n",
       "    </tr>\n",
       "    <tr>\n",
       "      <th>4</th>\n",
       "      <td>['ant', 'man']</td>\n",
       "      <td>Marvel Cinematic Universe</td>\n",
       "      <td>1</td>\n",
       "    </tr>\n",
       "  </tbody>\n",
       "</table>\n",
       "</div>"
      ],
      "text/plain": [
       "                                lemma_cleaned_tokens  \\\n",
       "0  ['guardiansofthegalaxy', 'star', 'karengillan'...   \n",
       "1  ['friend', 'show', 'idea', 'flash', 'guy', 'sh...   \n",
       "2      ['papa', 'drago', 'godzilla', 'titan', 'omg']   \n",
       "3                        ['batman', 'robin', 'camp']   \n",
       "4                                     ['ant', 'man']   \n",
       "\n",
       "                       label  label_id  \n",
       "0  Marvel Cinematic Universe         1  \n",
       "1       DC Extended Universe         0  \n",
       "2               MonsterVerse         2  \n",
       "3       DC Extended Universe         0  \n",
       "4  Marvel Cinematic Universe         1  "
      ]
     },
     "execution_count": 72,
     "metadata": {},
     "output_type": "execute_result"
    }
   ],
   "source": [
    "df_embedding.head()"
   ]
  },
  {
   "cell_type": "code",
   "execution_count": 73,
   "id": "96cc68bc-ea4a-4837-9b38-2754b00dad3e",
   "metadata": {},
   "outputs": [
    {
     "name": "stdout",
     "output_type": "stream",
     "text": [
      "['guardiansofthegalaxy star karengillan lot line marvel threequel', 'friend show idea flash guy show watch vote hour pick smt', 'papa drago godzilla titan omg', 'batman robin camp', 'ant man']\n"
     ]
    }
   ],
   "source": [
    "print(list_embedding_data[:5])"
   ]
  },
  {
   "cell_type": "code",
   "execution_count": 74,
   "id": "691a3dd5-01fb-4ba0-9b8d-bd51dba0c70d",
   "metadata": {},
   "outputs": [],
   "source": [
    "w2v_list = [l.split() for l in list_embedding_data]\n",
    "w2v_model = Word2Vec(w2v_list,\n",
    "                     vector_size=100,\n",
    "                     window=5,\n",
    "                     min_count=2,\n",
    "                     sg=1)"
   ]
  },
  {
   "cell_type": "code",
   "execution_count": 75,
   "id": "a862f8b6-f4f1-4bd8-8b5c-2ee65e62e325",
   "metadata": {},
   "outputs": [
    {
     "name": "stdout",
     "output_type": "stream",
     "text": [
      "star\t==>  war, legostarwarstheskywalkersaga, nibellion, legostarwars, merchandise, zealand, legostarwarsgame, dlc, battlefront, lswgame, \n",
      "\n",
      "vader\t==>  darth, maul, emperor, lightsaber, saber, prowse, anakin, kylo, apprentice, obi, \n",
      "\n",
      "flash\t==>  food, cyborg, price, texas, filmchallenge, superman, drive, coupon, rainfall, mpd, \n",
      "\n",
      "batman\t==>  riddler, catwoman, robin, reef, thebatman, gotham, pattinson, dceu, arkham, dccomics, \n",
      "\n",
      "ironman\t==>  tonystark, rdj, titanic, happybirthdayrobertdowneyjr, robertdowneyjr, revnant, happybirthdayrdj, chaplin, pollos, celebrates, \n",
      "\n",
      "thanos\t==>  verybadllama, infinity, gauntlet, snap, smtireland, population, stone, avenger, imjoker, reality, \n",
      "\n",
      "harry\t==>  potter, sorteiopromodebooks, harrypotter, rowling, goblet, mugglenet, chamber, dobby, sirius, mcyt, \n",
      "\n",
      "godzilla\t==>  kaiju, toho, mechagodzilla, monsterverse, gamera, mothra, ghidorah, anguirus, mecha, samgoji, \n",
      "\n",
      "kong\t==>  gorilla, ape, bundy, godzillavskong, king, island, universalpics, babar, kohli, monsterverse, \n",
      "\n",
      "king\t==>  kong, bundy, gorilla, ape, kohli, machism, godzillavskong, joystick, hall, babar, \n",
      "\n"
     ]
    }
   ],
   "source": [
    "words = ['star','vader','flash','batman','ironman','thanos','harry','godzilla','kong','king']\n",
    "for i in range(len(words)):\n",
    "    print(words[i], end=\"\\t==>  \")\n",
    "    similar = w2v_model.wv.most_similar(words[i], topn = 10)\n",
    "    for j in range(len(similar)):\n",
    "        print(similar[j][0],end =\", \")\n",
    "    print(\"\\n\")"
   ]
  },
  {
   "cell_type": "code",
   "execution_count": 76,
   "id": "85ad7ef9-b3e7-44c4-ae50-2e893bf3ed4e",
   "metadata": {},
   "outputs": [],
   "source": [
    "dump(w2v_model, open(\"models/w2v_lemma_embedding.model\", 'wb'))"
   ]
  },
  {
   "cell_type": "code",
   "execution_count": 77,
   "id": "fd75b74e-ca10-4385-b51d-86e7072cabb1",
   "metadata": {},
   "outputs": [],
   "source": [
    "w2v_model = Word2Vec.load(\"models/w2v_lemma_embedding.model\")"
   ]
  },
  {
   "cell_type": "code",
   "execution_count": 78,
   "id": "e97afee0-cf8b-4446-ba7d-fe3ab43b6e1f",
   "metadata": {},
   "outputs": [],
   "source": [
    "X_emb = list_embedding_data\n",
    "y_emb = df_embedding.label_id\n",
    "X_train_emb, X_test_emb, y_train_emb, y_test_emb = train_test_split(X_emb, y_emb, test_size = 0.3, shuffle = True, stratify = y_emb, random_state = 3)"
   ]
  },
  {
   "cell_type": "code",
   "execution_count": 79,
   "id": "abf654c7-794b-4f5c-8524-501ded433247",
   "metadata": {},
   "outputs": [
    {
     "name": "stdout",
     "output_type": "stream",
     "text": [
      "Wall time: 0 ns\n"
     ]
    }
   ],
   "source": [
    "%%time\n",
    "# load the pre-trained word-embedding vectors \n",
    "path = \"G:\\spark_big_files\\\\\"\n",
    "glove_file = path + 'glove.42B\\glove.42B.300d.txt'\n",
    "word_vec_file = path + 'wiki-news-300d-1M\\wiki-news-300d-1M.vec'"
   ]
  },
  {
   "cell_type": "code",
   "execution_count": 80,
   "id": "2763bb3a-afb2-44b0-bfaa-b9a7d294cb1b",
   "metadata": {},
   "outputs": [],
   "source": [
    "X_emb = pd.Series(list_embedding_data)\n",
    "y_emb = df_embedding['label_id']\n",
    "X_train_emb, X_test_emb, y_train_emb, y_test_emb = train_test_split(X_emb, y_emb, test_size = 0.3, shuffle = True, stratify = y_emb, random_state = 3)\n",
    "train_emb = pd.concat([X_train_emb, y_train_emb], axis = 1)\n",
    "test_emb = pd.concat([X_test_emb, y_test_emb], axis = 1)\n",
    "train_emb.columns = ['full_text', 'label_id']\n",
    "test_emb.columns = ['full_text', 'label_id']"
   ]
  },
  {
   "cell_type": "code",
   "execution_count": 81,
   "id": "40e96bad-c9e8-4db3-8344-312cce1f00ab",
   "metadata": {},
   "outputs": [
    {
     "data": {
      "text/html": [
       "<div>\n",
       "<style scoped>\n",
       "    .dataframe tbody tr th:only-of-type {\n",
       "        vertical-align: middle;\n",
       "    }\n",
       "\n",
       "    .dataframe tbody tr th {\n",
       "        vertical-align: top;\n",
       "    }\n",
       "\n",
       "    .dataframe thead th {\n",
       "        text-align: right;\n",
       "    }\n",
       "</style>\n",
       "<table border=\"1\" class=\"dataframe\">\n",
       "  <thead>\n",
       "    <tr style=\"text-align: right;\">\n",
       "      <th></th>\n",
       "      <th>full_text</th>\n",
       "      <th>label_id</th>\n",
       "    </tr>\n",
       "  </thead>\n",
       "  <tbody>\n",
       "    <tr>\n",
       "      <th>15264</th>\n",
       "      <td>art raptorx joschuaknuppe image rex island scute</td>\n",
       "      <td>2</td>\n",
       "    </tr>\n",
       "    <tr>\n",
       "      <th>27836</th>\n",
       "      <td>fav godzilla</td>\n",
       "      <td>2</td>\n",
       "    </tr>\n",
       "    <tr>\n",
       "      <th>35958</th>\n",
       "      <td>creamycumshotz batman riddler</td>\n",
       "      <td>0</td>\n",
       "    </tr>\n",
       "    <tr>\n",
       "      <th>51126</th>\n",
       "      <td>johnxuandou wow series potter queer inclusivit...</td>\n",
       "      <td>4</td>\n",
       "    </tr>\n",
       "    <tr>\n",
       "      <th>14670</th>\n",
       "      <td>shitfuckers war gansters</td>\n",
       "      <td>3</td>\n",
       "    </tr>\n",
       "    <tr>\n",
       "      <th>...</th>\n",
       "      <td>...</td>\n",
       "      <td>...</td>\n",
       "    </tr>\n",
       "    <tr>\n",
       "      <th>31348</th>\n",
       "      <td>mcu marvel fan fun drama</td>\n",
       "      <td>1</td>\n",
       "    </tr>\n",
       "    <tr>\n",
       "      <th>28404</th>\n",
       "      <td>hack stay camera woman georgia mcdonalds film ...</td>\n",
       "      <td>3</td>\n",
       "    </tr>\n",
       "    <tr>\n",
       "      <th>4636</th>\n",
       "      <td>part memesmonday heard darth jar jar iron star...</td>\n",
       "      <td>3</td>\n",
       "    </tr>\n",
       "    <tr>\n",
       "      <th>25655</th>\n",
       "      <td>number people wandavision hawkeye anyone moon ...</td>\n",
       "      <td>1</td>\n",
       "    </tr>\n",
       "    <tr>\n",
       "      <th>20086</th>\n",
       "      <td>spring bob flambeur rififi persuasion man harp...</td>\n",
       "      <td>2</td>\n",
       "    </tr>\n",
       "  </tbody>\n",
       "</table>\n",
       "<p>36023 rows × 2 columns</p>\n",
       "</div>"
      ],
      "text/plain": [
       "                                               full_text  label_id\n",
       "15264   art raptorx joschuaknuppe image rex island scute         2\n",
       "27836                                       fav godzilla         2\n",
       "35958                      creamycumshotz batman riddler         0\n",
       "51126  johnxuandou wow series potter queer inclusivit...         4\n",
       "14670                           shitfuckers war gansters         3\n",
       "...                                                  ...       ...\n",
       "31348                           mcu marvel fan fun drama         1\n",
       "28404  hack stay camera woman georgia mcdonalds film ...         3\n",
       "4636   part memesmonday heard darth jar jar iron star...         3\n",
       "25655  number people wandavision hawkeye anyone moon ...         1\n",
       "20086  spring bob flambeur rififi persuasion man harp...         2\n",
       "\n",
       "[36023 rows x 2 columns]"
      ]
     },
     "execution_count": 81,
     "metadata": {},
     "output_type": "execute_result"
    }
   ],
   "source": [
    "train_emb"
   ]
  },
  {
   "cell_type": "code",
   "execution_count": 82,
   "id": "1a27ac38-c7f4-4319-b831-6f266b5c697c",
   "metadata": {},
   "outputs": [
    {
     "name": "stdout",
     "output_type": "stream",
     "text": [
      "Loading word vectors...\n",
      "Found 1917494 word vectors.\n",
      "Numer of samples with no words found: 255 / 36023\n",
      "Numer of samples with no words found: 106 / 15439\n",
      "Wall time: 2min 48s\n"
     ]
    }
   ],
   "source": [
    "%%time\n",
    "glove_vectorizer = GloveVectorizer()\n",
    "\n",
    "Xtrain_emb_glv = glove_vectorizer.fit_transform(train_emb.full_text)\n",
    "Ytrain_emb_glv = train_emb.label_id\n",
    "\n",
    "Xtest_emb_glv = glove_vectorizer.transform(test_emb.full_text)\n",
    "Ytest_emb_glv = test_emb.label_id"
   ]
  },
  {
   "cell_type": "code",
   "execution_count": 83,
   "id": "455ba81f-c0c9-4c4a-a7e9-b2f376df2b18",
   "metadata": {},
   "outputs": [],
   "source": [
    "list_f = sorted(glob.glob(\"output/final_output/df_rottentomatoes_reviews_predicted*\"), key=os.path.getmtime)\n",
    "output_file_name = list_f[0]\n",
    "df_rottentomatoes_reviews = pd.read_csv(output_file_name)"
   ]
  },
  {
   "cell_type": "code",
   "execution_count": 84,
   "id": "ce1c3a0f-5f2f-4d56-a459-4cc38362541f",
   "metadata": {},
   "outputs": [
    {
     "name": "stdout",
     "output_type": "stream",
     "text": [
      "Wall time: 10.2 s\n"
     ]
    },
    {
     "data": {
      "text/plain": [
       "0    godzilla monster thing people love see child g...\n",
       "1    movie horror maestro comedy script way movie o...\n",
       "dtype: object"
      ]
     },
     "execution_count": 84,
     "metadata": {},
     "output_type": "execute_result"
    }
   ],
   "source": [
    "%%time\n",
    "X_valid_emb_glv = []\n",
    "classes = {0: 'DC Extended Universe', 1: 'Marvel Cinematic Universe', 2: 'MonsterVerse', 3: 'Star Wars', 4: 'Wizarding World'}\n",
    "for i in df_rottentomatoes_reviews.index:\n",
    "    validation_text = df_rottentomatoes_reviews[\"review\"][i]\n",
    "    validation_text = preprocess_doc(validation_text, stem = False, lemma = True, stop_wrds = True, selected_tags = selected_tags)\n",
    "    X_valid_emb_glv.append(validation_text)\n",
    "X_valid_emb_glv = [\" \".join(l) for l in X_valid_emb_glv]\n",
    "X_valid_emb_glv = pd.Series(X_valid_emb_glv)\n",
    "X_valid_emb_glv[:2]"
   ]
  },
  {
   "cell_type": "code",
   "execution_count": 85,
   "id": "a0517b9d-b951-4a9b-ad54-fd3d7a9efada",
   "metadata": {},
   "outputs": [
    {
     "name": "stdout",
     "output_type": "stream",
     "text": [
      "Numer of samples with no words found: 0 / 265\n"
     ]
    }
   ],
   "source": [
    "X_valid_emb_gv = glove_vectorizer.transform(X_valid_emb_glv)\n",
    "Y_valid_emb_gv = df_rottentomatoes_reviews['y_true']"
   ]
  },
  {
   "cell_type": "markdown",
   "id": "ca2fa27f-9fbd-4561-8f66-e9bd657aed3f",
   "metadata": {},
   "source": [
    "# <font color='orange'>  <center> Word Embedding Multinomial Naive Bayes model"
   ]
  },
  {
   "cell_type": "code",
   "execution_count": 86,
   "id": "5a9a9a2c-a9ef-4da4-a792-3ed961a4ca4f",
   "metadata": {},
   "outputs": [
    {
     "name": "stdout",
     "output_type": "stream",
     "text": [
      "Wall time: 136 ms\n"
     ]
    }
   ],
   "source": [
    "%%time\n",
    "min_max_scaler = MinMaxScaler()\n",
    "Xtrain_emb_glv_scaled = min_max_scaler.fit_transform(Xtrain_emb_glv)\n",
    "Xtest_emb_glv_scaled = min_max_scaler.transform(Xtest_emb_glv)"
   ]
  },
  {
   "cell_type": "code",
   "execution_count": 87,
   "id": "1cd6c188-1636-4459-b2f5-7973182affd0",
   "metadata": {},
   "outputs": [
    {
     "name": "stdout",
     "output_type": "stream",
     "text": [
      "------------------------------------------------------------------------------------------------------------------------\n",
      "Train Accuracy Score of Word Embedding Multinomial Naive Bayes model created using stemmed tf_idf vector is:\n",
      " 0.7277850262332399\n",
      "------------------------------------------------------------------------------------------------------------------------\n",
      "Test Accuracy Score of Word Embedding Multinomial Naive Bayes model created using stemmed tf_idf vector is:\n",
      " 0.7369648293283244\n",
      "------------------------------------------------------------------------------------------------------------------------\n",
      "Confusion Matrix:\n",
      "[[1700 1293   26   25   12]\n",
      " [ 114 3035    5   48    9]\n",
      " [  82  825 2099   16    9]\n",
      " [  54  568    7 2424   10]\n",
      " [  62  836   27   33 2120]]\n"
     ]
    },
    {
     "data": {
      "image/png": "[encoded data removed]",
      "text/plain": [
       "<Figure size 432x288 with 2 Axes>"
      ]
     },
     "metadata": {
      "needs_background": "light"
     },
     "output_type": "display_data"
    },
    {
     "name": "stdout",
     "output_type": "stream",
     "text": [
      "{0: 'DC Extended Universe', 1: 'Marvel Cinematic Universe', 2: 'MonsterVerse', 3: 'Star Wars', 4: 'Wizarding World'}\n",
      "------------------------------------------------------------------------------------------------------------------------\n",
      "('              precision    recall  f1-score   support\\n'\n",
      " '\\n'\n",
      " '           0       0.84      0.56      0.67      3056\\n'\n",
      " '           1       0.46      0.95      0.62      3211\\n'\n",
      " '           2       0.97      0.69      0.81      3031\\n'\n",
      " '           3       0.95      0.79      0.86      3063\\n'\n",
      " '           4       0.98      0.69      0.81      3078\\n'\n",
      " '\\n'\n",
      " '    accuracy                           0.74     15439\\n'\n",
      " '   macro avg       0.84      0.73      0.75     15439\\n'\n",
      " 'weighted avg       0.84      0.74      0.75     15439\\n')\n",
      "Wall time: 602 ms\n"
     ]
    }
   ],
   "source": [
    "%%time\n",
    "we_multi_naive_bayes_model = MultinomialNB()\n",
    "we_multi_naive_bayes_model, score_we_mnb = evaluate_model(Xtrain_emb_glv_scaled, Ytrain_emb_glv, Xtest_emb_glv_scaled, Ytest_emb_glv, classes, \n",
    "                                         we_multi_naive_bayes_model, \"Word Embedding Multinomial Naive Bayes\", \"we_multi_naive_bayes_model.pkl\", fresh_load=True)"
   ]
  },
  {
   "cell_type": "code",
   "execution_count": 88,
   "id": "66b196c5-d226-4426-985c-ff762134fb15",
   "metadata": {},
   "outputs": [
    {
     "name": "stdout",
     "output_type": "stream",
     "text": [
      "Validation Accuracy Score of Word embedded Multinomial Naive Bayes Model Model created using lemmatized word embedding vector is:\n",
      " 0.7132075471698113\n",
      "Wall time: 4.98 ms\n"
     ]
    }
   ],
   "source": [
    "%%time\n",
    "val_acc_scr_we_mnb, df_rottentomatoes_reviews = validate_wrd_emb_model(we_multi_naive_bayes_model, \"Word embedded Multinomial Naive Bayes Model\", \"we_mnb\", \n",
    "                                                                df_rottentomatoes_reviews, min_max_scaler.transform(X_valid_emb_gv))"
   ]
  },
  {
   "cell_type": "code",
   "execution_count": 89,
   "id": "b9d21fa9-41fc-4431-9c80-96f9bd7dee30",
   "metadata": {},
   "outputs": [],
   "source": [
    "df_rottentomatoes_reviews.to_csv(output_file_name, index = False)"
   ]
  },
  {
   "cell_type": "markdown",
   "id": "28d60ebb-5572-4ff5-8c1f-ca7cc2764027",
   "metadata": {},
   "source": [
    "# <font color='orange'>  <center> Word Embedding Support Vector Classifier"
   ]
  },
  {
   "cell_type": "code",
   "execution_count": 90,
   "id": "e6997f01-b23b-4eb4-9020-a18c257cb9d1",
   "metadata": {},
   "outputs": [
    {
     "name": "stdout",
     "output_type": "stream",
     "text": [
      "------------------------------------------------------------------------------------------------------------------------\n",
      "Train Accuracy Score of Word Embedding Support Vector Classifier model created using stemmed tf_idf vector is:\n",
      " 0.9091691419370957\n",
      "------------------------------------------------------------------------------------------------------------------------\n",
      "Test Accuracy Score of Word Embedding Support Vector Classifier model created using stemmed tf_idf vector is:\n",
      " 0.8792667918906665\n",
      "------------------------------------------------------------------------------------------------------------------------\n",
      "Confusion Matrix:\n",
      "[[2619  284   78   30   45]\n",
      " [ 263 2758   71   62   57]\n",
      " [ 182  191 2605   20   33]\n",
      " [  86   84   29 2834   30]\n",
      " [ 143  118   26   32 2759]]\n"
     ]
    },
    {
     "data": {
      "image/png": "[encoded data removed]",
      "text/plain": [
       "<Figure size 432x288 with 2 Axes>"
      ]
     },
     "metadata": {
      "needs_background": "light"
     },
     "output_type": "display_data"
    },
    {
     "name": "stdout",
     "output_type": "stream",
     "text": [
      "{0: 'DC Extended Universe', 1: 'Marvel Cinematic Universe', 2: 'MonsterVerse', 3: 'Star Wars', 4: 'Wizarding World'}\n",
      "------------------------------------------------------------------------------------------------------------------------\n",
      "('              precision    recall  f1-score   support\\n'\n",
      " '\\n'\n",
      " '           0       0.80      0.86      0.83      3056\\n'\n",
      " '           1       0.80      0.86      0.83      3211\\n'\n",
      " '           2       0.93      0.86      0.89      3031\\n'\n",
      " '           3       0.95      0.93      0.94      3063\\n'\n",
      " '           4       0.94      0.90      0.92      3078\\n'\n",
      " '\\n'\n",
      " '    accuracy                           0.88     15439\\n'\n",
      " '   macro avg       0.88      0.88      0.88     15439\\n'\n",
      " 'weighted avg       0.88      0.88      0.88     15439\\n')\n",
      "Wall time: 7min 3s\n"
     ]
    }
   ],
   "source": [
    "%%time\n",
    "wrd_emb_svc_model = SVC(kernel='rbf')\n",
    "wrd_emb_svc_model, score_we_svc = evaluate_model(Xtrain_emb_glv, Ytrain_emb_glv, Xtest_emb_glv, Ytest_emb_glv, classes, \n",
    "                                         wrd_emb_svc_model, \"Word Embedding Support Vector Classifier\", \"wrd_emb_svc_model.pkl\", fresh_load=True)"
   ]
  },
  {
   "cell_type": "code",
   "execution_count": 91,
   "id": "2c14049d-2042-4535-a97d-0b341859985b",
   "metadata": {},
   "outputs": [
    {
     "name": "stdout",
     "output_type": "stream",
     "text": [
      "Validation Accuracy Score of Word Embedding Support Vector Classifier Model created using lemmatized word embedding vector is:\n",
      " 0.8943396226415095\n",
      "Wall time: 1.91 s\n"
     ]
    }
   ],
   "source": [
    "%%time\n",
    "val_acc_scr_we_svc, df_rottentomatoes_reviews = validate_wrd_emb_model(wrd_emb_svc_model, \"Word Embedding Support Vector Classifier\", \"we_svc\", \n",
    "                                                                df_rottentomatoes_reviews, X_valid_emb_gv)"
   ]
  },
  {
   "cell_type": "code",
   "execution_count": 92,
   "id": "73a5b3b0-c6ad-4a0a-91c3-113154acd031",
   "metadata": {},
   "outputs": [],
   "source": [
    "df_rottentomatoes_reviews.to_csv(output_file_name, index = False)"
   ]
  },
  {
   "cell_type": "markdown",
   "id": "dcc7e334-3400-4e63-9246-fdb037a668f1",
   "metadata": {},
   "source": [
    "# <font color='orange'>  <center> Word Embedding K-Nearest Neighbor(KNN)"
   ]
  },
  {
   "cell_type": "code",
   "execution_count": 93,
   "id": "cfd4dc2b-9033-47c0-993e-48035d8d3818",
   "metadata": {},
   "outputs": [
    {
     "name": "stdout",
     "output_type": "stream",
     "text": [
      "------------------------------------------------------------------------------------------------------------------------\n",
      "Train Accuracy Score of Word Embedding K-Nearest Neighbor(KNN) model created using stemmed tf_idf vector is:\n",
      " 0.876717652610832\n",
      "------------------------------------------------------------------------------------------------------------------------\n",
      "Test Accuracy Score of Word Embedding K-Nearest Neighbor(KNN) model created using stemmed tf_idf vector is:\n",
      " 0.8194831271455405\n",
      "------------------------------------------------------------------------------------------------------------------------\n",
      "Confusion Matrix:\n",
      "[[2320  468  110   85   73]\n",
      " [ 359 2566  103  110   73]\n",
      " [ 220  268 2430   68   45]\n",
      " [  96  140   44 2751   32]\n",
      " [ 190  165   65   73 2585]]\n"
     ]
    },
    {
     "data": {
      "image/png": "[encoded data removed]",
      "text/plain": [
       "<Figure size 432x288 with 2 Axes>"
      ]
     },
     "metadata": {
      "needs_background": "light"
     },
     "output_type": "display_data"
    },
    {
     "name": "stdout",
     "output_type": "stream",
     "text": [
      "{0: 'DC Extended Universe', 1: 'Marvel Cinematic Universe', 2: 'MonsterVerse', 3: 'Star Wars', 4: 'Wizarding World'}\n",
      "------------------------------------------------------------------------------------------------------------------------\n",
      "('              precision    recall  f1-score   support\\n'\n",
      " '\\n'\n",
      " '           0       0.73      0.76      0.74      3056\\n'\n",
      " '           1       0.71      0.80      0.75      3211\\n'\n",
      " '           2       0.88      0.80      0.84      3031\\n'\n",
      " '           3       0.89      0.90      0.89      3063\\n'\n",
      " '           4       0.92      0.84      0.88      3078\\n'\n",
      " '\\n'\n",
      " '    accuracy                           0.82     15439\\n'\n",
      " '   macro avg       0.83      0.82      0.82     15439\\n'\n",
      " 'weighted avg       0.83      0.82      0.82     15439\\n')\n",
      "Wall time: 1min 57s\n"
     ]
    }
   ],
   "source": [
    "%%time\n",
    "wrd_emb_knn_model = KNeighborsClassifier(5)\n",
    "wrd_emb_knn_model, score_we_knn = evaluate_model(Xtrain_emb_glv, Ytrain_emb_glv, Xtest_emb_glv, Ytest_emb_glv, classes, \n",
    "                                         wrd_emb_knn_model, \"Word Embedding K-Nearest Neighbor(KNN)\", \"wrd_emb_knn_model.pkl\", fresh_load=True)"
   ]
  },
  {
   "cell_type": "code",
   "execution_count": 94,
   "id": "2a520d95-a963-4043-bc45-57a412099ae4",
   "metadata": {},
   "outputs": [
    {
     "name": "stdout",
     "output_type": "stream",
     "text": [
      "Validation Accuracy Score of Word Embedding K-Nearest Neighbor(KNN) Model created using lemmatized word embedding vector is:\n",
      " 0.7320754716981132\n",
      "Wall time: 506 ms\n"
     ]
    }
   ],
   "source": [
    "%%time\n",
    "val_acc_scr_we_knn, df_rottentomatoes_reviews = validate_wrd_emb_model(wrd_emb_knn_model, \"Word Embedding K-Nearest Neighbor(KNN)\", \"we_knn\", \n",
    "                                                                df_rottentomatoes_reviews, X_valid_emb_gv)"
   ]
  },
  {
   "cell_type": "code",
   "execution_count": 95,
   "id": "ea40623f-bd10-4006-a5b9-55244614283a",
   "metadata": {},
   "outputs": [],
   "source": [
    "df_rottentomatoes_reviews.to_csv(output_file_name, index = False)"
   ]
  },
  {
   "cell_type": "markdown",
   "id": "cb309bd1-9d93-48b4-864e-46b250f0bbba",
   "metadata": {},
   "source": [
    "# <font color='orange'>  <center> Word Embedding Random Forest Classifier"
   ]
  },
  {
   "cell_type": "code",
   "execution_count": 96,
   "id": "b1830f70-debf-454f-a977-1eba3395cdfa",
   "metadata": {},
   "outputs": [
    {
     "name": "stdout",
     "output_type": "stream",
     "text": [
      "------------------------------------------------------------------------------------------------------------------------\n",
      "Train Accuracy Score of Word Embedding Random Forest Classifier model created using stemmed tf_idf vector is:\n",
      " 0.9869527801682259\n",
      "------------------------------------------------------------------------------------------------------------------------\n",
      "Test Accuracy Score of Word Embedding Random Forest Classifier model created using stemmed tf_idf vector is:\n",
      " 0.8527754388237581\n",
      "------------------------------------------------------------------------------------------------------------------------\n",
      "Confusion Matrix:\n",
      "[[2545  388   47   30   46]\n",
      " [ 284 2764   57   56   50]\n",
      " [ 225  270 2489   23   24]\n",
      " [ 121  151   14 2749   28]\n",
      " [ 183  202   38   36 2619]]\n"
     ]
    },
    {
     "data": {
      "image/png": "[encoded data removed]",
      "text/plain": [
       "<Figure size 432x288 with 2 Axes>"
      ]
     },
     "metadata": {
      "needs_background": "light"
     },
     "output_type": "display_data"
    },
    {
     "name": "stdout",
     "output_type": "stream",
     "text": [
      "{0: 'DC Extended Universe', 1: 'Marvel Cinematic Universe', 2: 'MonsterVerse', 3: 'Star Wars', 4: 'Wizarding World'}\n",
      "------------------------------------------------------------------------------------------------------------------------\n",
      "('              precision    recall  f1-score   support\\n'\n",
      " '\\n'\n",
      " '           0       0.76      0.83      0.79      3056\\n'\n",
      " '           1       0.73      0.86      0.79      3211\\n'\n",
      " '           2       0.94      0.82      0.88      3031\\n'\n",
      " '           3       0.95      0.90      0.92      3063\\n'\n",
      " '           4       0.95      0.85      0.90      3078\\n'\n",
      " '\\n'\n",
      " '    accuracy                           0.85     15439\\n'\n",
      " '   macro avg       0.87      0.85      0.86     15439\\n'\n",
      " 'weighted avg       0.86      0.85      0.86     15439\\n')\n",
      "Wall time: 4min 21s\n"
     ]
    }
   ],
   "source": [
    "%%time\n",
    "wrd_emb_rndm_frst_model = RandomForestClassifier(n_estimators=200)\n",
    "wrd_emb_rndm_frst_model, score_we_rfc = evaluate_model(Xtrain_emb_glv, Ytrain_emb_glv, Xtest_emb_glv, Ytest_emb_glv, classes, \n",
    "                                         wrd_emb_rndm_frst_model, \"Word Embedding Random Forest Classifier\", \"wrd_emb_rndm_frst_model.pkl\", fresh_load=True)"
   ]
  },
  {
   "cell_type": "code",
   "execution_count": 97,
   "id": "81b67d3d-c0a7-4462-8702-15710c7eefc7",
   "metadata": {},
   "outputs": [
    {
     "name": "stdout",
     "output_type": "stream",
     "text": [
      "Validation Accuracy Score of Word Embedding Random Forest Classifier Model created using lemmatized word embedding vector is:\n",
      " 0.8452830188679246\n",
      "Wall time: 78.2 ms\n"
     ]
    }
   ],
   "source": [
    "%%time\n",
    "val_acc_scr_we_rfc, df_rottentomatoes_reviews = validate_wrd_emb_model(wrd_emb_rndm_frst_model, \"Word Embedding Random Forest Classifier\", \"we_rfc\", \n",
    "                                                                df_rottentomatoes_reviews, X_valid_emb_gv)"
   ]
  },
  {
   "cell_type": "code",
   "execution_count": 98,
   "id": "5773ed10-bc54-435d-8da0-d87f7c75b4f3",
   "metadata": {},
   "outputs": [],
   "source": [
    "df_rottentomatoes_reviews.to_csv(output_file_name, index = False)"
   ]
  },
  {
   "cell_type": "markdown",
   "id": "c135547b-e072-47e2-af69-72c0866df438",
   "metadata": {},
   "source": [
    "# <font color='orange'>  <center> Word Embedding XGB Classifier"
   ]
  },
  {
   "cell_type": "code",
   "execution_count": 99,
   "id": "110f3d07-517e-4e35-83bf-3dc150cc5f62",
   "metadata": {},
   "outputs": [
    {
     "name": "stdout",
     "output_type": "stream",
     "text": [
      "------------------------------------------------------------------------------------------------------------------------\n",
      "Train Accuracy Score of Word Embedding XGB Classifier model created using stemmed tf_idf vector is:\n",
      " 0.9843710962440663\n",
      "------------------------------------------------------------------------------------------------------------------------\n",
      "Test Accuracy Score of Word Embedding XGB Classifier model created using stemmed tf_idf vector is:\n",
      " 0.8635274305330656\n",
      "------------------------------------------------------------------------------------------------------------------------\n",
      "Confusion Matrix:\n",
      "[[2540  323   97   32   64]\n",
      " [ 278 2726   89   55   63]\n",
      " [ 185  198 2572   33   43]\n",
      " [  96  105   32 2790   40]\n",
      " [ 143  154   42   35 2704]]\n"
     ]
    },
    {
     "data": {
      "image/png": "[encoded data removed]",
      "text/plain": [
       "<Figure size 432x288 with 2 Axes>"
      ]
     },
     "metadata": {
      "needs_background": "light"
     },
     "output_type": "display_data"
    },
    {
     "name": "stdout",
     "output_type": "stream",
     "text": [
      "{0: 'DC Extended Universe', 1: 'Marvel Cinematic Universe', 2: 'MonsterVerse', 3: 'Star Wars', 4: 'Wizarding World'}\n",
      "------------------------------------------------------------------------------------------------------------------------\n",
      "('              precision    recall  f1-score   support\\n'\n",
      " '\\n'\n",
      " '           0       0.78      0.83      0.81      3056\\n'\n",
      " '           1       0.78      0.85      0.81      3211\\n'\n",
      " '           2       0.91      0.85      0.88      3031\\n'\n",
      " '           3       0.95      0.91      0.93      3063\\n'\n",
      " '           4       0.93      0.88      0.90      3078\\n'\n",
      " '\\n'\n",
      " '    accuracy                           0.86     15439\\n'\n",
      " '   macro avg       0.87      0.86      0.87     15439\\n'\n",
      " 'weighted avg       0.87      0.86      0.86     15439\\n')\n",
      "Wall time: 8min 17s\n"
     ]
    }
   ],
   "source": [
    "%%time\n",
    "we_xgb_model = xgb.XGBClassifier(\n",
    "        learning_rate=0.1,\n",
    "        max_depth=7,\n",
    "        n_estimators=80,\n",
    "        use_label_encoder=False,\n",
    "        eval_metric='auc')\n",
    "we_xgb_model, score_we_xgb = evaluate_model(Xtrain_emb_glv, Ytrain_emb_glv, Xtest_emb_glv, Ytest_emb_glv, classes, \n",
    "                                         we_xgb_model, \"Word Embedding XGB Classifier\", \"we_xgb_model.pkl\", fresh_load=True)"
   ]
  },
  {
   "cell_type": "code",
   "execution_count": 100,
   "id": "32619020-04fc-46cd-ab7a-540b32a3e13f",
   "metadata": {},
   "outputs": [
    {
     "name": "stdout",
     "output_type": "stream",
     "text": [
      "Validation Accuracy Score of Word Embedding XGB Classifier Model created using lemmatized word embedding vector is:\n",
      " 0.8566037735849057\n",
      "Wall time: 9.53 ms\n"
     ]
    }
   ],
   "source": [
    "%%time\n",
    "val_acc_scr_we_xgb, df_rottentomatoes_reviews = validate_wrd_emb_model(we_xgb_model, \"Word Embedding XGB Classifier\", \"we_xgb\", \n",
    "                                                                df_rottentomatoes_reviews, X_valid_emb_gv)"
   ]
  },
  {
   "cell_type": "code",
   "execution_count": 101,
   "id": "37229c58-07fd-4576-9f4e-bb495c6d4b12",
   "metadata": {},
   "outputs": [],
   "source": [
    "df_rottentomatoes_reviews.to_csv(output_file_name, index = False)"
   ]
  },
  {
   "cell_type": "code",
   "execution_count": 102,
   "id": "80dc50fd-7b1d-4b57-9759-042c3ab03945",
   "metadata": {},
   "outputs": [],
   "source": [
    "score_we_mnb.append(val_acc_scr_we_mnb)\n",
    "score_we_svc.append(val_acc_scr_we_svc)\n",
    "score_we_knn.append(val_acc_scr_we_knn)\n",
    "score_we_rfc.append(val_acc_scr_we_rfc)\n",
    "score_we_xgb.append(val_acc_scr_we_xgb)\n",
    "score_we = score_we_mnb\n",
    "score_we.extend(score_we_svc)\n",
    "score_we.extend(score_we_knn)\n",
    "score_we.extend(score_we_rfc)\n",
    "score_we.extend(score_we_xgb)\n",
    "score_we = [score_we]"
   ]
  },
  {
   "cell_type": "code",
   "execution_count": 103,
   "id": "2f7ba67d-9db9-4ea7-97d3-4cd8b6d2f51e",
   "metadata": {},
   "outputs": [
    {
     "data": {
      "text/plain": [
       "15"
      ]
     },
     "execution_count": 103,
     "metadata": {},
     "output_type": "execute_result"
    }
   ],
   "source": [
    "len(score_we[0])"
   ]
  },
  {
   "cell_type": "code",
   "execution_count": 109,
   "id": "a1c20f29-666b-4fc1-883a-62f79fe9faa5",
   "metadata": {},
   "outputs": [
    {
     "data": {
      "text/html": [
       "<div>\n",
       "<style scoped>\n",
       "    .dataframe tbody tr th:only-of-type {\n",
       "        vertical-align: middle;\n",
       "    }\n",
       "\n",
       "    .dataframe tbody tr th {\n",
       "        vertical-align: top;\n",
       "    }\n",
       "\n",
       "    .dataframe thead tr th {\n",
       "        text-align: left;\n",
       "    }\n",
       "</style>\n",
       "<table border=\"1\" class=\"dataframe\">\n",
       "  <thead>\n",
       "    <tr>\n",
       "      <th></th>\n",
       "      <th colspan=\"3\" halign=\"left\">MNB Accuracy</th>\n",
       "      <th colspan=\"3\" halign=\"left\">SVC Accuracy</th>\n",
       "      <th colspan=\"3\" halign=\"left\">KNN Accuracy</th>\n",
       "      <th colspan=\"3\" halign=\"left\">RFC Accuracy</th>\n",
       "      <th colspan=\"3\" halign=\"left\">XGB Accuracy</th>\n",
       "    </tr>\n",
       "    <tr>\n",
       "      <th></th>\n",
       "      <th>Train</th>\n",
       "      <th>Test</th>\n",
       "      <th>Validate</th>\n",
       "      <th>Train</th>\n",
       "      <th>Test</th>\n",
       "      <th>Validate</th>\n",
       "      <th>Train</th>\n",
       "      <th>Test</th>\n",
       "      <th>Validate</th>\n",
       "      <th>Train</th>\n",
       "      <th>Test</th>\n",
       "      <th>Validate</th>\n",
       "      <th>Train</th>\n",
       "      <th>Test</th>\n",
       "      <th>Validate</th>\n",
       "    </tr>\n",
       "  </thead>\n",
       "  <tbody>\n",
       "    <tr>\n",
       "      <th>Word Embedding</th>\n",
       "      <td>72.78%</td>\n",
       "      <td>73.70%</td>\n",
       "      <td>71.32%</td>\n",
       "      <td>90.92%</td>\n",
       "      <td>87.93%</td>\n",
       "      <td>89.43%</td>\n",
       "      <td>87.67%</td>\n",
       "      <td>81.95%</td>\n",
       "      <td>73.21%</td>\n",
       "      <td>98.70%</td>\n",
       "      <td>85.28%</td>\n",
       "      <td>84.53%</td>\n",
       "      <td>98.44%</td>\n",
       "      <td>86.35%</td>\n",
       "      <td>85.66%</td>\n",
       "    </tr>\n",
       "  </tbody>\n",
       "</table>\n",
       "</div>"
      ],
      "text/plain": [
       "               MNB Accuracy                  SVC Accuracy                   \\\n",
       "                      Train    Test Validate        Train    Test Validate   \n",
       "Word Embedding       72.78%  73.70%   71.32%       90.92%  87.93%   89.43%   \n",
       "\n",
       "               KNN Accuracy                  RFC Accuracy                   \\\n",
       "                      Train    Test Validate        Train    Test Validate   \n",
       "Word Embedding       87.67%  81.95%   73.21%       98.70%  85.28%   84.53%   \n",
       "\n",
       "               XGB Accuracy                   \n",
       "                      Train    Test Validate  \n",
       "Word Embedding       98.44%  86.35%   85.66%  "
      ]
     },
     "execution_count": 109,
     "metadata": {},
     "output_type": "execute_result"
    }
   ],
   "source": [
    "df_score_we = pd.DataFrame(score_we)\n",
    "df_score_we.columns = pd.MultiIndex.from_product([['MNB Accuracy', 'SVC Accuracy', 'KNN Accuracy', 'RFC Accuracy', 'XGB Accuracy'], ['Train','Test','Validate']])\n",
    "df_score_we = df_score_we.set_index([['Word Embedding']])\n",
    "df_score_we[df_score_we.columns] = df_score_we[df_score_we.columns].applymap(lambda x: x*100)\n",
    "df_score_we[df_score_we.columns] = df_score_we[df_score_we.columns].applymap(\"{0:.2f}%\".format)\n",
    "df_score_we"
   ]
  },
  {
   "cell_type": "code",
   "execution_count": 110,
   "id": "58b5a8a9-cf70-4690-89ae-9a1dc45ba2b7",
   "metadata": {},
   "outputs": [
    {
     "data": {
      "text/html": [
       "<div>\n",
       "<style scoped>\n",
       "    .dataframe tbody tr th:only-of-type {\n",
       "        vertical-align: middle;\n",
       "    }\n",
       "\n",
       "    .dataframe tbody tr th {\n",
       "        vertical-align: top;\n",
       "    }\n",
       "\n",
       "    .dataframe thead tr th {\n",
       "        text-align: left;\n",
       "    }\n",
       "</style>\n",
       "<table border=\"1\" class=\"dataframe\">\n",
       "  <thead>\n",
       "    <tr>\n",
       "      <th></th>\n",
       "      <th colspan=\"3\" halign=\"left\">MNB Accuracy</th>\n",
       "      <th colspan=\"3\" halign=\"left\">SVC Accuracy</th>\n",
       "      <th colspan=\"3\" halign=\"left\">KNN Accuracy</th>\n",
       "      <th colspan=\"3\" halign=\"left\">RFC Accuracy</th>\n",
       "      <th colspan=\"3\" halign=\"left\">XGB Accuracy</th>\n",
       "    </tr>\n",
       "    <tr>\n",
       "      <th></th>\n",
       "      <th>Train</th>\n",
       "      <th>Test</th>\n",
       "      <th>Validate</th>\n",
       "      <th>Train</th>\n",
       "      <th>Test</th>\n",
       "      <th>Validate</th>\n",
       "      <th>Train</th>\n",
       "      <th>Test</th>\n",
       "      <th>Validate</th>\n",
       "      <th>Train</th>\n",
       "      <th>Test</th>\n",
       "      <th>Validate</th>\n",
       "      <th>Train</th>\n",
       "      <th>Test</th>\n",
       "      <th>Validate</th>\n",
       "    </tr>\n",
       "  </thead>\n",
       "  <tbody>\n",
       "    <tr>\n",
       "      <th>Basic Vectorisation</th>\n",
       "      <td>96.18%</td>\n",
       "      <td>91.54%</td>\n",
       "      <td>74.34%</td>\n",
       "      <td>98.95%</td>\n",
       "      <td>91.72%</td>\n",
       "      <td>64.91%</td>\n",
       "      <td>64.55%</td>\n",
       "      <td>46.54%</td>\n",
       "      <td>54.72%</td>\n",
       "      <td>99.23%</td>\n",
       "      <td>91.83%</td>\n",
       "      <td>54.72%</td>\n",
       "      <td>91.04%</td>\n",
       "      <td>90.50%</td>\n",
       "      <td>73.21%</td>\n",
       "    </tr>\n",
       "    <tr>\n",
       "      <th>Word Embedding</th>\n",
       "      <td>72.78%</td>\n",
       "      <td>73.70%</td>\n",
       "      <td>71.32%</td>\n",
       "      <td>90.92%</td>\n",
       "      <td>87.93%</td>\n",
       "      <td>89.43%</td>\n",
       "      <td>87.67%</td>\n",
       "      <td>81.95%</td>\n",
       "      <td>73.21%</td>\n",
       "      <td>98.70%</td>\n",
       "      <td>85.28%</td>\n",
       "      <td>84.53%</td>\n",
       "      <td>98.44%</td>\n",
       "      <td>86.35%</td>\n",
       "      <td>85.66%</td>\n",
       "    </tr>\n",
       "  </tbody>\n",
       "</table>\n",
       "</div>"
      ],
      "text/plain": [
       "                    MNB Accuracy                  SVC Accuracy          \\\n",
       "                           Train    Test Validate        Train    Test   \n",
       "Basic Vectorisation       96.18%  91.54%   74.34%       98.95%  91.72%   \n",
       "Word Embedding            72.78%  73.70%   71.32%       90.92%  87.93%   \n",
       "\n",
       "                             KNN Accuracy                  RFC Accuracy  \\\n",
       "                    Validate        Train    Test Validate        Train   \n",
       "Basic Vectorisation   64.91%       64.55%  46.54%   54.72%       99.23%   \n",
       "Word Embedding        89.43%       87.67%  81.95%   73.21%       98.70%   \n",
       "\n",
       "                                     XGB Accuracy                   \n",
       "                       Test Validate        Train    Test Validate  \n",
       "Basic Vectorisation  91.83%   54.72%       91.04%  90.50%   73.21%  \n",
       "Word Embedding       85.28%   84.53%       98.44%  86.35%   85.66%  "
      ]
     },
     "execution_count": 110,
     "metadata": {},
     "output_type": "execute_result"
    }
   ],
   "source": [
    "final_accuracy_df = pd.concat([df_score, df_score_we])\n",
    "final_accuracy_df"
   ]
  },
  {
   "cell_type": "code",
   "execution_count": 111,
   "id": "446e076a-3b6e-43e1-bd25-41d38286be4b",
   "metadata": {},
   "outputs": [],
   "source": [
    "final_accuracy_df.to_csv(\"output/final_accuracy_nouns.csv\")"
   ]
  },
  {
   "cell_type": "code",
   "execution_count": null,
   "id": "2c704026-6f08-4328-a0af-823e13850cf2",
   "metadata": {},
   "outputs": [],
   "source": []
  },
  {
   "cell_type": "code",
   "execution_count": null,
   "id": "242e23f5-2f06-4063-b9ab-e67d293183ef",
   "metadata": {},
   "outputs": [],
   "source": []
  },
  {
   "cell_type": "code",
   "execution_count": null,
   "id": "dc72f84e-1b2a-4c69-8131-761ec26461d5",
   "metadata": {},
   "outputs": [],
   "source": []
  },
  {
   "cell_type": "code",
   "execution_count": null,
   "id": "78254b5c-192c-4ad9-89ac-73aba7a1f3ed",
   "metadata": {},
   "outputs": [],
   "source": []
  },
  {
   "cell_type": "code",
   "execution_count": null,
   "id": "ee2cf031-654e-4ae4-a337-143ff34b4006",
   "metadata": {},
   "outputs": [],
   "source": []
  }
 ],
 "metadata": {
  "kernelspec": {
   "display_name": "Python 3",
   "language": "python",
   "name": "python3"
  },
  "language_info": {
   "codemirror_mode": {
    "name": "ipython",
    "version": 3
   },
   "file_extension": ".py",
   "mimetype": "text/x-python",
   "name": "python",
   "nbconvert_exporter": "python",
   "pygments_lexer": "ipython3",
   "version": "3.8.3"
  }
 },
 "nbformat": 4,
 "nbformat_minor": 5
}
