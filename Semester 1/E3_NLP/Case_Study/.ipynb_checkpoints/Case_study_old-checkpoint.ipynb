{
 "cells": [
  {
   "cell_type": "markdown",
   "id": "8e86dc8d-59be-4fd8-b3d9-e3d594119895",
   "metadata": {},
   "source": [
    "# <font color='orange'>  <center> NLP Project: ML Algorithms on Text Data"
   ]
  },
  {
   "cell_type": "markdown",
   "id": "898910ff-2832-48ef-92ab-e26ddd0979e3",
   "metadata": {},
   "source": [
    "## <font color='orange'> Each student must extract tweets from twitter. Perform pre-processing and text representation. Apply ML algorithms for classification/clustering. <br> <br> 1. Creating Datasets <dd> a. Extract 5000 tweets with any 5 search labels of your choice. (1000 each). Eg(#cricket, #football, #basketball, #tennis, #hockey). <dd> b. Create one dataset for all the tweets extracted along with labels as second column. Shuffle the dataset. </dd> <br> <br>2. Pre-processing <dd> a. Clean the data by removing tags, user handles, numbers, and other characters. <dd> b. Stem tokens for basic vectorization <dd> c. Lemma tokens for embeddings </dd> <br> <br> 3. Text representation <dd> a. Vectorise each document in the dataset with tf-idf vectorization with n-grams (use stemmed data). <dd> b. Create document embeddings by summation of word vectors taken from any two pre-trained models. The tokens must be lemmas. </dd> <br> <br> 4. Apply machine learning techniques (any two algorithms) for classification/clustering on <dd> a. 3.a data <dd> b. 3.b data </dd> <br> <br> 5. Evaluate the results (4.a and 4.b) which outperforms. <dd> a. For clustering compare at least 10 records’ label with the clusters created. <dd> b. Present a chart as for classification:"
   ]
  },
  {
   "attachments": {
    "61d3b866-e6a7-4e77-a22d-18e42865dea4.png": {
     "image/png": "[encoded data removed]"
    }
   },
   "cell_type": "markdown",
   "id": "12369a90-87ae-49f7-ae15-6710b4dd380f",
   "metadata": {},
   "source": [
    "![image.png](attachment:61d3b866-e6a7-4e77-a22d-18e42865dea4.png)"
   ]
  },
  {
   "cell_type": "code",
   "execution_count": 1,
   "id": "206811ab-5331-47f3-a300-0bae04b0e262",
   "metadata": {},
   "outputs": [],
   "source": [
    "import twitter_info\n",
    "import tweepy\n",
    "import time\n",
    "import json\n",
    "import pandas as pd\n",
    "from datetime import datetime"
   ]
  },
  {
   "cell_type": "code",
   "execution_count": 2,
   "id": "5ca33073-4fc4-40d8-a5d8-a35c81803575",
   "metadata": {},
   "outputs": [],
   "source": [
    "consumer_key = twitter_info.API_Key\n",
    "consumer_secret = twitter_info.API_Key_Secret\n",
    "access_token = twitter_info.Access_Token\n",
    "access_token_secret = twitter_info.Access_Token_Secret\n",
    "bearer_token = twitter_info.Bearer_Token"
   ]
  },
  {
   "cell_type": "code",
   "execution_count": 3,
   "id": "b258bb86-4fda-437d-87ae-50eef3ab9969",
   "metadata": {},
   "outputs": [],
   "source": [
    "client = tweepy.Client(bearer_token = bearer_token)\n",
    "auth = tweepy.OAuthHandler(consumer_key, consumer_secret)\n",
    "auth.set_access_token(access_token, access_token_secret)\n",
    "API = tweepy.API(auth, wait_on_rate_limit=True)"
   ]
  },
  {
   "cell_type": "code",
   "execution_count": 4,
   "id": "803105eb-f2f0-4ff2-9f1e-32bcb65b9430",
   "metadata": {},
   "outputs": [],
   "source": [
    "def get_response(query):\n",
    "    try:\n",
    "        r = tweepy.Cursor(API.search_tweets, q=query, tweet_mode=\"extended\").items()\n",
    "    except tweepy.TweepError as e:\n",
    "        print(\"Exception Caught: \", e)\n",
    "        print(\"Reason: \", e.reason)\n",
    "        print(\"Sleeping for 16 minutes\")\n",
    "        time.sleep(960)\n",
    "        r = tweepy.Cursor(API.search_tweets, q=query, tweet_mode=\"extended\").items()\n",
    "    return r"
   ]
  },
  {
   "cell_type": "code",
   "execution_count": 5,
   "id": "86676f46-10a8-47d8-8ec7-a3d803ba9452",
   "metadata": {},
   "outputs": [],
   "source": [
    "s = str(datetime.now())\n",
    "s = s[:16].replace(\" \", \"_\").replace(\":\",\"\")"
   ]
  },
  {
   "cell_type": "code",
   "execution_count": 6,
   "id": "ea530174-b17a-4ff9-9e47-c5a8aa83ac5b",
   "metadata": {},
   "outputs": [],
   "source": [
    "def process_response(class_name, class_file_name):\n",
    "    global tweets_response_list, df\n",
    "    tweets_response_list = []\n",
    "    count = 1\n",
    "    query = class_name + \" lang:en -filter:retweets\"\n",
    "    for response in get_response(query):\n",
    "        hashtags = [h['text'] for h in response.entities['hashtags']]\n",
    "        tweets_response_list.append([response.id_str, response.full_text, response.user.name, response.user.screen_name, response.user.location, \n",
    "                                     response.user.created_at, response._json['retweet_count'], response._json['favorite_count'], hashtags])\n",
    "        df = pd.DataFrame(tweets_response_list, columns = ['id_str', 'full_text', 'user_name', 'user_screen_name', 'user_location', \n",
    "                                                           'created_at', 'retweet_count', 'favorite_count', 'hashtags'])    \n",
    "        count = count + 1\n",
    "        if(len(tweets_response_list) % 100 == 0):\n",
    "            print(count, end =\" \")\n",
    "            df.to_csv(\"output/nlp_tweet_\"+class_file_name+\"_\"+s+\".csv\", index = False)"
   ]
  },
  {
   "cell_type": "code",
   "execution_count": 22,
   "id": "519707f3-d971-46ed-adba-434582e099df",
   "metadata": {},
   "outputs": [
    {
     "name": "stdout",
     "output_type": "stream",
     "text": [
      "Star Wars OR #StarWars OR #DarthVader OR #LukeSkywalker OR #Obi-WanKenobi OR #HanSolo OR #Yoda OR #PrincessLeia OR #R2-D2 OR #Chewbacca OR #DarthMaul OR #C-3PO\n",
      "MarvelCinematicUniverse OR #MCU OR #Thor OR #AntMan OR #Falcon OR #Hulk OR #LukeCage OR #DoctorStrange OR #Groot OR #Punisher OR #BlackWidow OR #JessicaJones OR #Daredevil OR #CaptainAmerica OR #Loki OR #BlackPanther OR #SpiderMan OR #IronMan OR #ScarletWitch OR #CaptainMarvel OR #Hawkeye OR #StarLord OR #Thanos OR #DeadPool OR #XMen OR #Eternals\n",
      "MonsterVerse OR King AND Kong OR Anguirus OR Godzilla OR Mecha AND King AND Ghidorah OR Mecha AND godzilla OR King AND Ghidorah OR MUTO OR MonsterX OR Mothra OR Preston AND Packard OR Alan AND Jonah OR Emma AND Russell OR Mark AND Russell OR James AND Conrad OR Mason AND Weaver OR Ford AND Brody OR Madison AND Russell OR Joe AND Brody OR Ishiro AND Serizawa\n"
     ]
    }
   ],
   "source": [
    "class_list = ['Star Wars','Marvel Cinematic Universe MCU','MonsterVerse','Wizarding World','DC Extended Universe']\n",
    "star_wars_keyword_list = []\n",
    "with open('input/star_wars_keywords.txt') as f:\n",
    "    star_wars_keyword_list = f.readlines()\n",
    "star_wars_keyword_list = [key_word.strip() + ' OR ' for key_word in star_wars_keyword_list]\n",
    "class_1 = ''.join(star_wars_keyword_list)\n",
    "class_1 = class_1[:-4]\n",
    "print(class_1)\n",
    "\n",
    "with open('input/Marvel_Cinematic_Universe_MCU_keywords.txt') as f:\n",
    "    marvel_keyword_list = f.readlines()\n",
    "marvel_keyword_list = [key_word.strip() + ' OR ' for key_word in marvel_keyword_list]\n",
    "class_2 = ''.join(marvel_keyword_list)\n",
    "class_2 = class_2[:-4]\n",
    "print(class_2)\n",
    "\n",
    "with open('input/MonsterVerse_keywords.txt') as f:\n",
    "    MonsterVerse_keyword_list = f.readlines()\n",
    "MonsterVerse_keyword_list = [key_word.strip() + ' OR ' for key_word in MonsterVerse_keyword_list]\n",
    "class_3 = ''.join(MonsterVerse_keyword_list)\n",
    "class_3 = class_3[:-4]\n",
    "print(class_3)"
   ]
  },
  {
   "cell_type": "code",
   "execution_count": 23,
   "id": "68fec341-45d5-460a-988e-95ef84eb6dee",
   "metadata": {},
   "outputs": [],
   "source": [
    "process_response(class_3, class_list[2])"
   ]
  },
  {
   "cell_type": "code",
   "execution_count": 24,
   "id": "3b9157a7-5aad-4ef1-bc3b-2d6a76ce53ad",
   "metadata": {},
   "outputs": [],
   "source": [
    "df = pd.DataFrame(tweets_response_list, columns = ['id_str', 'full_text', 'user_name', 'user_screen_name', 'user_location', \n",
    "                                                           'created_at', 'retweet_count', 'favorite_count', 'hashtags'])"
   ]
  },
  {
   "cell_type": "code",
   "execution_count": 25,
   "id": "4569fa9d-7ddd-4930-b3e7-019ad8d67507",
   "metadata": {},
   "outputs": [
    {
     "data": {
      "text/html": [
       "<div>\n",
       "<style scoped>\n",
       "    .dataframe tbody tr th:only-of-type {\n",
       "        vertical-align: middle;\n",
       "    }\n",
       "\n",
       "    .dataframe tbody tr th {\n",
       "        vertical-align: top;\n",
       "    }\n",
       "\n",
       "    .dataframe thead th {\n",
       "        text-align: right;\n",
       "    }\n",
       "</style>\n",
       "<table border=\"1\" class=\"dataframe\">\n",
       "  <thead>\n",
       "    <tr style=\"text-align: right;\">\n",
       "      <th></th>\n",
       "      <th>id_str</th>\n",
       "      <th>full_text</th>\n",
       "      <th>user_name</th>\n",
       "      <th>user_screen_name</th>\n",
       "      <th>user_location</th>\n",
       "      <th>created_at</th>\n",
       "      <th>retweet_count</th>\n",
       "      <th>favorite_count</th>\n",
       "      <th>hashtags</th>\n",
       "    </tr>\n",
       "  </thead>\n",
       "  <tbody>\n",
       "  </tbody>\n",
       "</table>\n",
       "</div>"
      ],
      "text/plain": [
       "Empty DataFrame\n",
       "Columns: [id_str, full_text, user_name, user_screen_name, user_location, created_at, retweet_count, favorite_count, hashtags]\n",
       "Index: []"
      ]
     },
     "execution_count": 25,
     "metadata": {},
     "output_type": "execute_result"
    }
   ],
   "source": [
    "df"
   ]
  },
  {
   "cell_type": "code",
   "execution_count": 11,
   "id": "385cf0bf-9582-47da-9459-ee570ab254e7",
   "metadata": {},
   "outputs": [
    {
     "data": {
      "text/plain": [
       "19261"
      ]
     },
     "execution_count": 11,
     "metadata": {},
     "output_type": "execute_result"
    }
   ],
   "source": [
    "len(df['full_text'].unique())"
   ]
  },
  {
   "cell_type": "code",
   "execution_count": 35,
   "id": "62046fdf-06f9-4ef1-adec-505ae58a1d10",
   "metadata": {},
   "outputs": [],
   "source": [
    "def process_page(page):\n",
    "    global tweets_response_list, df, count\n",
    "    for response in page:\n",
    "        hashtags = [h['text'] for h in response.entities['hashtags']]\n",
    "        tweets_response_list.append([response.id_str, response.full_text, response.user.name, response.user.screen_name, response.user.location, \n",
    "                                     response.user.created_at, response._json['retweet_count'], response._json['favorite_count'], hashtags])\n",
    "        df = pd.DataFrame(tweets_response_list, columns = ['id_str', 'full_text', 'user_name', 'user_screen_name', 'user_location', \n",
    "                                                           'created_at', 'retweet_count', 'favorite_count', 'hashtags'])    \n",
    "        count = count + 1\n",
    "        if(len(tweets_response_list) % 100 == 0):\n",
    "            print(count, end =\" \")\n",
    "            df.to_csv(\"output/nlp_tweet_MCU_\"+s+\".csv\", index = False)"
   ]
  },
  {
   "cell_type": "code",
   "execution_count": 36,
   "id": "3e25b10f-39b3-42fd-91db-801732b01179",
   "metadata": {},
   "outputs": [
    {
     "name": "stdout",
     "output_type": "stream",
     "text": [
      "100 200 300 400 500 600 700 800 900 1000 1100 1200 1300 1400 1500 1600 1700 1800 1900 2000 2100 2200 2300 2400 2500 2600 2700 2800 2900 3000 3100 3200 3300 3400 3500 3600 3700 3800 3900 4000 4100 4200 4300 4400 4500 4600 4700 4800 4900 5000 5100 5200 5300 5400 5500 5600 5700 5800 5900 6000 6100 6200 6300 6400 6500 6600 6700 6800 6900 7000 7100 7200 7300 7400 7500 7600 7700 7800 7900 8000 8100 8200 8300 8400 8500 8600 8700 8800 8900 9000 9100 9200 9300 9400 9500 9600 9700 9800 9900 10000 10100 10200 10300 10400 10500 10600 10700 10800 10900 11000 11100 11200 11300 11400 11500 11600 11700 11800 11900 12000 12100 12200 12300 12400 12500 12600 12700 12800 12900 13000 13100 13200 13300 13400 13500 13600 13700 13800 13900 14000 14100 14200 14300 14400 14500 14600 14700 14800 14900 15000 15100 15200 15300 15400 15500 15600 15700 15800 15900 16000 16100 16200 16300 16400 16500 16600 16700 16800 16900 17000 17100 17200 17300 17400 17500 17600 17700 17800 17900 18000 18100 18200 18300 18400 18500 18600 18700 18800 18900 19000 19100 19200 19300 19400 19500 19600 19700 19800 19900 20000 20100 20200 20300 20400 20500 20600 20700 20800 20900 21000 "
     ]
    }
   ],
   "source": [
    "page_list = []\n",
    "global tweets_response_list, df, count\n",
    "count = 0\n",
    "tweets_response_list = []\n",
    "for page in tweepy.Cursor(API.search_tweets, q=class_2 + \" lang:en -filter:retweets\", count=100, tweet_mode='extended').pages(500):\n",
    "    page_list.append(page)\n",
    "    process_page(page)"
   ]
  },
  {
   "cell_type": "code",
   "execution_count": 30,
   "id": "5fd724c7-5675-4509-9bd0-9b62e58ad34b",
   "metadata": {},
   "outputs": [
    {
     "data": {
      "text/plain": [
       "100"
      ]
     },
     "execution_count": 30,
     "metadata": {},
     "output_type": "execute_result"
    }
   ],
   "source": [
    "len(page_list[0])"
   ]
  },
  {
   "cell_type": "code",
   "execution_count": 34,
   "id": "0f88833f-780b-49ae-8866-adf027c8fa0d",
   "metadata": {},
   "outputs": [
    {
     "data": {
      "text/html": [
       "<div>\n",
       "<style scoped>\n",
       "    .dataframe tbody tr th:only-of-type {\n",
       "        vertical-align: middle;\n",
       "    }\n",
       "\n",
       "    .dataframe tbody tr th {\n",
       "        vertical-align: top;\n",
       "    }\n",
       "\n",
       "    .dataframe thead th {\n",
       "        text-align: right;\n",
       "    }\n",
       "</style>\n",
       "<table border=\"1\" class=\"dataframe\">\n",
       "  <thead>\n",
       "    <tr style=\"text-align: right;\">\n",
       "      <th></th>\n",
       "      <th>id_str</th>\n",
       "      <th>full_text</th>\n",
       "      <th>user_name</th>\n",
       "      <th>user_screen_name</th>\n",
       "      <th>user_location</th>\n",
       "      <th>created_at</th>\n",
       "      <th>retweet_count</th>\n",
       "      <th>favorite_count</th>\n",
       "      <th>hashtags</th>\n",
       "    </tr>\n",
       "  </thead>\n",
       "  <tbody>\n",
       "    <tr>\n",
       "      <th>0</th>\n",
       "      <td>1507794528903876620</td>\n",
       "      <td>Marvel’s Newest Project Introduces MCU’s Green...</td>\n",
       "      <td>Inside the Magic</td>\n",
       "      <td>InsideTheMagic</td>\n",
       "      <td>Theme Parks... and beyond.</td>\n",
       "      <td>2008-03-26 18:22:40+00:00</td>\n",
       "      <td>0</td>\n",
       "      <td>0</td>\n",
       "      <td>[Nova, GreenLantern, MCU, MarvelStudios, RyanR...</td>\n",
       "    </tr>\n",
       "    <tr>\n",
       "      <th>1</th>\n",
       "      <td>1507794526219427843</td>\n",
       "      <td>Astrid Bloom commission\\n\\n#xmen #astridbloom ...</td>\n",
       "      <td>Sergei Titov (Commissions are closed)</td>\n",
       "      <td>ArtSergeiTitov</td>\n",
       "      <td>Tbilisi, Georgia</td>\n",
       "      <td>2014-11-05 15:04:56+00:00</td>\n",
       "      <td>0</td>\n",
       "      <td>0</td>\n",
       "      <td>[xmen, astridbloom, emmafrost, marvel, art, co...</td>\n",
       "    </tr>\n",
       "    <tr>\n",
       "      <th>2</th>\n",
       "      <td>1507794490727219204</td>\n",
       "      <td>Obsessed with this art by @LoreDeFelici, so sk...</td>\n",
       "      <td>NovaMCU</td>\n",
       "      <td>NovaMCU</td>\n",
       "      <td></td>\n",
       "      <td>2018-12-18 19:48:56+00:00</td>\n",
       "      <td>0</td>\n",
       "      <td>0</td>\n",
       "      <td>[SpiderMan]</td>\n",
       "    </tr>\n",
       "    <tr>\n",
       "      <th>3</th>\n",
       "      <td>1507794359307091973</td>\n",
       "      <td>Two Stages of Sleep. #loki #cat https://t.co/y...</td>\n",
       "      <td>Chris Konrath 💙</td>\n",
       "      <td>chriskonrath</td>\n",
       "      <td>Lincoln, England</td>\n",
       "      <td>2010-02-14 11:51:02+00:00</td>\n",
       "      <td>0</td>\n",
       "      <td>0</td>\n",
       "      <td>[loki, cat]</td>\n",
       "    </tr>\n",
       "    <tr>\n",
       "      <th>4</th>\n",
       "      <td>1507794310858637313</td>\n",
       "      <td>Welcome To Organic @Spotify #Music Promotion S...</td>\n",
       "      <td>Rajib Hasan</td>\n",
       "      <td>RajibHa77770218</td>\n",
       "      <td>Sylhet, Bangladesh</td>\n",
       "      <td>2022-02-27 08:52:37+00:00</td>\n",
       "      <td>0</td>\n",
       "      <td>0</td>\n",
       "      <td>[Music, Spotify, Wizkid, BTSJIMIN, posiciónalo...</td>\n",
       "    </tr>\n",
       "    <tr>\n",
       "      <th>...</th>\n",
       "      <td>...</td>\n",
       "      <td>...</td>\n",
       "      <td>...</td>\n",
       "      <td>...</td>\n",
       "      <td>...</td>\n",
       "      <td>...</td>\n",
       "      <td>...</td>\n",
       "      <td>...</td>\n",
       "      <td>...</td>\n",
       "    </tr>\n",
       "    <tr>\n",
       "      <th>995</th>\n",
       "      <td>1507653038474944519</td>\n",
       "      <td>Quality #comicbooks!! #CGC graded #comics &amp;amp...</td>\n",
       "      <td>Langsyne Comics</td>\n",
       "      <td>langsyneC</td>\n",
       "      <td>Florida, USA</td>\n",
       "      <td>2019-09-21 13:56:29+00:00</td>\n",
       "      <td>1</td>\n",
       "      <td>0</td>\n",
       "      <td>[comicbooks, CGC, comics, Marvel, dccomics, Ma...</td>\n",
       "    </tr>\n",
       "    <tr>\n",
       "      <th>996</th>\n",
       "      <td>1507652796178477060</td>\n",
       "      <td>This is perfect. \\n\\nThere hasn't been a momen...</td>\n",
       "      <td>The Coastal  Bend Spider-man</td>\n",
       "      <td>CB_Spidey</td>\n",
       "      <td>Texas, USA</td>\n",
       "      <td>2018-06-14 04:30:29+00:00</td>\n",
       "      <td>0</td>\n",
       "      <td>1</td>\n",
       "      <td>[spiderman]</td>\n",
       "    </tr>\n",
       "    <tr>\n",
       "      <th>997</th>\n",
       "      <td>1507652699869020167</td>\n",
       "      <td>Who did it better? \\n#RRRMovie #NTR𓃵 \\n@tarak9...</td>\n",
       "      <td>KALUS SHELBY</td>\n",
       "      <td>THOMASMIKEALSON</td>\n",
       "      <td>India</td>\n",
       "      <td>2020-10-19 10:06:48+00:00</td>\n",
       "      <td>0</td>\n",
       "      <td>0</td>\n",
       "      <td>[RRRMovie, NTR𓃵, KomaramBheemudo, KomaramBheem...</td>\n",
       "    </tr>\n",
       "    <tr>\n",
       "      <th>998</th>\n",
       "      <td>1507651962757656585</td>\n",
       "      <td>In the Age of Apocalypse, the government team ...</td>\n",
       "      <td>Charlie E/N</td>\n",
       "      <td>charlie_en</td>\n",
       "      <td>South East, England</td>\n",
       "      <td>2010-06-22 17:44:29+00:00</td>\n",
       "      <td>0</td>\n",
       "      <td>2</td>\n",
       "      <td>[dailyxmen, xmen]</td>\n",
       "    </tr>\n",
       "    <tr>\n",
       "      <th>999</th>\n",
       "      <td>1507651852774563842</td>\n",
       "      <td>@_AlexHirsch I must know… is Tad Strange relat...</td>\n",
       "      <td>13.arts_ COMMISSIONS OPEN ON KO-FI</td>\n",
       "      <td>13arts1</td>\n",
       "      <td>Orlando, FL</td>\n",
       "      <td>2021-07-04 03:31:27+00:00</td>\n",
       "      <td>0</td>\n",
       "      <td>0</td>\n",
       "      <td>[GravityFalls, Marvel, DoctorStrange]</td>\n",
       "    </tr>\n",
       "  </tbody>\n",
       "</table>\n",
       "<p>1000 rows × 9 columns</p>\n",
       "</div>"
      ],
      "text/plain": [
       "                  id_str                                          full_text  \\\n",
       "0    1507794528903876620  Marvel’s Newest Project Introduces MCU’s Green...   \n",
       "1    1507794526219427843  Astrid Bloom commission\\n\\n#xmen #astridbloom ...   \n",
       "2    1507794490727219204  Obsessed with this art by @LoreDeFelici, so sk...   \n",
       "3    1507794359307091973  Two Stages of Sleep. #loki #cat https://t.co/y...   \n",
       "4    1507794310858637313  Welcome To Organic @Spotify #Music Promotion S...   \n",
       "..                   ...                                                ...   \n",
       "995  1507653038474944519  Quality #comicbooks!! #CGC graded #comics &amp...   \n",
       "996  1507652796178477060  This is perfect. \\n\\nThere hasn't been a momen...   \n",
       "997  1507652699869020167  Who did it better? \\n#RRRMovie #NTR𓃵 \\n@tarak9...   \n",
       "998  1507651962757656585  In the Age of Apocalypse, the government team ...   \n",
       "999  1507651852774563842  @_AlexHirsch I must know… is Tad Strange relat...   \n",
       "\n",
       "                                 user_name user_screen_name  \\\n",
       "0                         Inside the Magic   InsideTheMagic   \n",
       "1    Sergei Titov (Commissions are closed)   ArtSergeiTitov   \n",
       "2                                  NovaMCU          NovaMCU   \n",
       "3                          Chris Konrath 💙     chriskonrath   \n",
       "4                              Rajib Hasan  RajibHa77770218   \n",
       "..                                     ...              ...   \n",
       "995                        Langsyne Comics        langsyneC   \n",
       "996           The Coastal  Bend Spider-man        CB_Spidey   \n",
       "997                           KALUS SHELBY  THOMASMIKEALSON   \n",
       "998                            Charlie E/N       charlie_en   \n",
       "999     13.arts_ COMMISSIONS OPEN ON KO-FI          13arts1   \n",
       "\n",
       "                  user_location                created_at  retweet_count  \\\n",
       "0    Theme Parks... and beyond. 2008-03-26 18:22:40+00:00              0   \n",
       "1              Tbilisi, Georgia 2014-11-05 15:04:56+00:00              0   \n",
       "2                               2018-12-18 19:48:56+00:00              0   \n",
       "3              Lincoln, England 2010-02-14 11:51:02+00:00              0   \n",
       "4            Sylhet, Bangladesh 2022-02-27 08:52:37+00:00              0   \n",
       "..                          ...                       ...            ...   \n",
       "995                Florida, USA 2019-09-21 13:56:29+00:00              1   \n",
       "996                  Texas, USA 2018-06-14 04:30:29+00:00              0   \n",
       "997                       India 2020-10-19 10:06:48+00:00              0   \n",
       "998         South East, England 2010-06-22 17:44:29+00:00              0   \n",
       "999                 Orlando, FL 2021-07-04 03:31:27+00:00              0   \n",
       "\n",
       "     favorite_count                                           hashtags  \n",
       "0                 0  [Nova, GreenLantern, MCU, MarvelStudios, RyanR...  \n",
       "1                 0  [xmen, astridbloom, emmafrost, marvel, art, co...  \n",
       "2                 0                                        [SpiderMan]  \n",
       "3                 0                                        [loki, cat]  \n",
       "4                 0  [Music, Spotify, Wizkid, BTSJIMIN, posiciónalo...  \n",
       "..              ...                                                ...  \n",
       "995               0  [comicbooks, CGC, comics, Marvel, dccomics, Ma...  \n",
       "996               1                                        [spiderman]  \n",
       "997               0  [RRRMovie, NTR𓃵, KomaramBheemudo, KomaramBheem...  \n",
       "998               2                                  [dailyxmen, xmen]  \n",
       "999               0              [GravityFalls, Marvel, DoctorStrange]  \n",
       "\n",
       "[1000 rows x 9 columns]"
      ]
     },
     "execution_count": 34,
     "metadata": {},
     "output_type": "execute_result"
    }
   ],
   "source": [
    "df"
   ]
  },
  {
   "cell_type": "code",
   "execution_count": null,
   "id": "3089287d-3323-43db-8b87-3029f4a4921e",
   "metadata": {},
   "outputs": [],
   "source": []
  }
 ],
 "metadata": {
  "kernelspec": {
   "display_name": "Python 3",
   "language": "python",
   "name": "python3"
  },
  "language_info": {
   "codemirror_mode": {
    "name": "ipython",
    "version": 3
   },
   "file_extension": ".py",
   "mimetype": "text/x-python",
   "name": "python",
   "nbconvert_exporter": "python",
   "pygments_lexer": "ipython3",
   "version": "3.8.3"
  }
 },
 "nbformat": 4,
 "nbformat_minor": 5
}
