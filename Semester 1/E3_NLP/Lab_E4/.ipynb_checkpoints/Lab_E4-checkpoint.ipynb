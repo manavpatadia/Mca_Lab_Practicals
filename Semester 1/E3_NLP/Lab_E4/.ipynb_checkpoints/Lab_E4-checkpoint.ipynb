{
 "cells": [
  {
   "cell_type": "markdown",
   "metadata": {},
   "source": [
    "#### Google Colab Link: https://colab.research.google.com/drive/1KKxJVdkO439aFkDLUCs7KuNmyurh0I9f?usp=sharing"
   ]
  },
  {
   "cell_type": "markdown",
   "metadata": {
    "id": "NjMnLskAg-fP"
   },
   "source": [
    "# <font color='orange'>  <center> LAB E4 Regular Expression"
   ]
  },
  {
   "cell_type": "markdown",
   "metadata": {
    "id": "bSCUsOEDhMqy"
   },
   "source": [
    "## <font color='orange'> 1. Import the necessary libraries."
   ]
  },
  {
   "cell_type": "code",
   "execution_count": 1,
   "metadata": {
    "colab": {
     "base_uri": "https://localhost:8080/"
    },
    "id": "HCfMM_bZgrxs",
    "outputId": "05dc8fcc-3576-4347-aaa0-fc0c0a48815c"
   },
   "outputs": [],
   "source": [
    "import re"
   ]
  },
  {
   "cell_type": "markdown",
   "metadata": {
    "id": "GU6aqQyuh79z"
   },
   "source": [
    "## <font color='orange'> 2. Load the text in labE4.txt to a variable text."
   ]
  },
  {
   "cell_type": "code",
   "execution_count": 2,
   "metadata": {
    "colab": {
     "base_uri": "https://localhost:8080/",
     "height": 122
    },
    "id": "Hpd8pBWuiDB1",
    "outputId": "7643de79-6986-411c-f73c-e154d87bbac2"
   },
   "outputs": [],
   "source": [
    "text = \"\"\n",
    "data_path = \"C:\\spark\\MCA\\Semester1\\E3_NLP\\input\\lab_e4\\LabE4.txt\"\n",
    "with open(data_path) as f:\n",
    "    text = f.read()"
   ]
  },
  {
   "cell_type": "markdown",
   "metadata": {
    "id": "DVkKPigXjNB0"
   },
   "source": [
    "## <font color='orange'> 3. Apply regular expression and clean the data."
   ]
  },
  {
   "cell_type": "code",
   "execution_count": 3,
   "metadata": {
    "colab": {
     "base_uri": "https://localhost:8080/",
     "height": 122
    },
    "id": "ZH32FgJfvG1T",
    "outputId": "1eb42503-29e8-43aa-ffeb-10404320f698"
   },
   "outputs": [],
   "source": [
    "text = re.sub(r\"\\n\\n\", r\"\\n\", text)\n",
    "text = re.sub(r\"-\", \"_\", text)"
   ]
  },
  {
   "cell_type": "code",
   "execution_count": 4,
   "metadata": {
    "id": "Ha6wlz3_jSyL"
   },
   "outputs": [],
   "source": [
    "pattern = '^([^0-9][^*_*][^\\\\nNOTE*][^\\\\nWEBVTT*][^\\\\n*][^0-9*][^*\\\\nNOTE*]*)'\n",
    "list_valid_txt = re.findall(pattern, text, re.MULTILINE)"
   ]
  },
  {
   "cell_type": "code",
   "execution_count": 5,
   "metadata": {
    "colab": {
     "base_uri": "https://localhost:8080/",
     "height": 122
    },
    "id": "gSvn2L24D2dt",
    "outputId": "42e10317-bed6-4fef-c4fb-358833c07fad"
   },
   "outputs": [],
   "source": [
    "vtxt = \"\"\n",
    "for i in list_valid_txt:\n",
    "    vtxt = vtxt + i + \" \" \n",
    "vtxt = vtxt.strip()"
   ]
  },
  {
   "cell_type": "code",
   "execution_count": 6,
   "metadata": {
    "id": "2HTIE5j1HWUi"
   },
   "outputs": [],
   "source": [
    "vtxt = re.sub(\"\\s\\S*_\\S*\\s\", \" \", vtxt)"
   ]
  },
  {
   "cell_type": "code",
   "execution_count": 7,
   "metadata": {
    "colab": {
     "base_uri": "https://localhost:8080/"
    },
    "id": "AMTeItJdKacN",
    "outputId": "8ebf2cb9-3c55-469e-f5c1-409360f0e0dd"
   },
   "outputs": [
    {
     "name": "stdout",
     "output_type": "stream",
     "text": [
      "Final Cleaned text = \n",
      " Hello and welcome back. In the previous video we have seen in jargon the key terms and so on. In this video we are going to look into NLP data versus  What are the different categories of NLP data and the data itself? There are two categories which is structured and unstructured, so we'll be looking into all these topics in this meeting. Let us see the data in a day. There are a lot of data that is generated in a day, so there are around 500 millions of reads, So all of which which is relevant to natural language processing. Let's see. What is data in LP? So what is data? Data that stores language data quality data. Basically there are two categories. One is the textual data and the speech data. In this course we will be only building with textual data alone. So here is an example of a text data because there is some text here and you have the banking data. There are a lot of columns. There are a lot of words in each of these columns, so you can consider this to be a text data. Everything is organized  And let's see another example. So here we have a news article on coronavirus so. When compared with the previous slide, which is the banking data, what differences did you see? Yes, well, it's not organized. There is no specific format. You have just some heading and followed by some text, some random text and so on. So you have a data which is organized and you have a data that is not organized. What about this? Yes here also. Even though you don't see any kind of organization, but you can have like this, is this has a special meaning or hash tag and so on. So this can also be considered as an unstructured or unorganized data. What about this? This is the news classification data set, though it seems to be a kind of organized, but you look into each of the. Who's in this column? You find that they are all unorganized, so these are all news. Is different news that are there and they categories. OK, so this is even though this is a tabular data. This is also unstructured data. So. So we have two categories. One is the structured data and the other is unstructured data in structured data fixed dimension, just as the banking data set that we saw, everything is organized usually in tables or in a key value pair like Jason. Object JS And it is simple to process because we know well in hand what are we different? Frozen columns that are there in the daytime so. It is processed directly and there is no need for intermediate representations. Brothers in unstructured data. There is no specific dimension, so it's very hard and it is not organized and also there is no specific order thus making processing very complex and it needs lot of intermediate representation which we will have to study. How to learn. Converting the unstructured into some kind of structured format. So here is a task for you. There are there are. These are the resources. I'll text data or some kind of data so you have to think you have to just categorize them, whether structure or unstructured. Yes, so we have news article. Yes, this is unstructured. You have visuals from the CC Yes it is also unstructured. What about the data here? Yes, there is some format, so it can be considered as. A structured data? What about this? This is a visual or this is the audio, so it is also unstructured. What about this being Jason object? He was a Barracuda is not just so they are in key value pairs or disease structure data. What about meets and the post and the social media. Yes, you can write anything and the length can be. There is no fixed dimension so this is also what about this web page? so webpage where there is some organization without H by the body tag or baby Dev Dag. And maybe there is some format, but if you go into each of the tags you can find lot of unstructured data. So you can consider this to be a single structure because overall it is structured. But when you go into it there you find lot of unstructured ones. So when you see the comparison of the structured versus unstructured, you can see the explosion of unstructured a lot. You can see there are lot of data that is being generated every year and the ratio in which structured and unstructured is very much. So you have lot of unstructured data when compared to structured data. So a lot of processing and a lot of work has to be done when we're dealing with unstructured data. So in this video we have seen what is data and that we'll be focusing only on the text data and most of the text data. You can have their unstructured, so unstructured means there is no specific formula. We can take the example of the news article, so most of the data is unstructured when compared with the structured data and next we will start with another pipeline and energy. I put this thank you.\n"
     ]
    }
   ],
   "source": [
    "print(\"Final Cleaned text = \\n\", vtxt)"
   ]
  },
  {
   "cell_type": "code",
   "execution_count": 8,
   "metadata": {
    "colab": {
     "base_uri": "https://localhost:8080/",
     "height": 122
    },
    "id": "XUTrXtQzKpO2",
    "outputId": "4b4553eb-43ca-4662-e8f4-d3eae4f10b0c"
   },
   "outputs": [],
   "source": [
    "text = \"\"\n",
    "with open(data_path) as f:\n",
    "    text = f.read()"
   ]
  },
  {
   "cell_type": "code",
   "execution_count": 9,
   "metadata": {
    "id": "z5qiuShrK2HX"
   },
   "outputs": [],
   "source": [
    "def match_pattern(pattern, text, question_pattern):\n",
    "    m = re.search(pattern, text, re.MULTILINE)\n",
    "    print(m)\n",
    "    if(m):\n",
    "        print(\"Match Found for pattern: \", question_pattern)\n",
    "    else:\n",
    "        print(\"No match found for pattern: \", question_pattern)"
   ]
  },
  {
   "cell_type": "code",
   "execution_count": 10,
   "metadata": {
    "colab": {
     "base_uri": "https://localhost:8080/"
    },
    "id": "eSs3tT4lMr6e",
    "outputId": "be6c8e14-1c08-4d90-d7fd-222c297a562a"
   },
   "outputs": [
    {
     "name": "stdout",
     "output_type": "stream",
     "text": [
      "None\n",
      "No match found for pattern:  MM-DD-YYYY\n"
     ]
    }
   ],
   "source": [
    "match_pattern(\"[0-9]{2}\\-[0-9]{2}\\-[0-9]{4}\", text, \"MM-DD-YYYY\")"
   ]
  },
  {
   "cell_type": "code",
   "execution_count": 11,
   "metadata": {
    "colab": {
     "base_uri": "https://localhost:8080/"
    },
    "id": "vskEY8unM85v",
    "outputId": "b5c58d2c-adb7-4e9c-ea29-7b96baf2a3cb"
   },
   "outputs": [
    {
     "name": "stdout",
     "output_type": "stream",
     "text": [
      "<re.Match object; span=(23, 31), match='00:06:54'>\n",
      "Match Found for pattern:  HH:MM:SS\n"
     ]
    }
   ],
   "source": [
    "match_pattern(\"[0-9]{2}:[0-9]{2}\\:[0-9]{2}\", text, \"HH:MM:SS\")"
   ]
  },
  {
   "cell_type": "code",
   "execution_count": 12,
   "metadata": {
    "colab": {
     "base_uri": "https://localhost:8080/"
    },
    "id": "TIVS17u9NIr9",
    "outputId": "c5f1e725-f965-4d6c-b713-c5d9544a6771"
   },
   "outputs": [
    {
     "name": "stdout",
     "output_type": "stream",
     "text": [
      "<re.Match object; span=(0, 10), match='00:06:54 P'>\n",
      "Match Found for pattern:  HH:MM:SS AM or HH:MM:SS PM\n"
     ]
    }
   ],
   "source": [
    "match_pattern(\"[0-9]{2}:[0-9]{2}\\:[0-9]{2} [AM|PM]\", \"00:06:54 PM\", \"HH:MM:SS AM or HH:MM:SS PM\")"
   ]
  },
  {
   "cell_type": "code",
   "execution_count": 13,
   "metadata": {
    "colab": {
     "base_uri": "https://localhost:8080/"
    },
    "id": "XjRseQs1OFw1",
    "outputId": "06a77a12-59c4-4ee7-9651-d7c759ad1070"
   },
   "outputs": [
    {
     "name": "stdout",
     "output_type": "stream",
     "text": [
      "<re.Match object; span=(0, 9), match='Mr. Manav'>\n",
      "Match Found for pattern:  Mr. .... or Ms. .... or Mrs. ....\n"
     ]
    }
   ],
   "source": [
    "match_pattern(\"^M(r.|s.|rs.) [A-Za-z]*\", \"Mr. Manav\", \"Mr. .... or Ms. .... or Mrs. ....\")"
   ]
  },
  {
   "cell_type": "code",
   "execution_count": 14,
   "metadata": {
    "colab": {
     "base_uri": "https://localhost:8080/"
    },
    "id": "Y68PJ7f1RPkD",
    "outputId": "2c3d601f-8479-4f18-fc83-1e70a93c3186"
   },
   "outputs": [
    {
     "name": "stdout",
     "output_type": "stream",
     "text": [
      "<re.Match object; span=(0, 18), match='AA.SC.P2MCA2107423'>\n",
      "Match Found for pattern:  Enrollment Number: AA.SC.P2MCA2107423\n"
     ]
    }
   ],
   "source": [
    "match_pattern(\"^AA.SC.P2MCA[0-9]{7}$\", \"AA.SC.P2MCA2107423\", \"Enrollment Number: AA.SC.P2MCA2107423\")"
   ]
  },
  {
   "cell_type": "code",
   "execution_count": 15,
   "metadata": {
    "colab": {
     "base_uri": "https://localhost:8080/"
    },
    "id": "RHFC6eqRTsTC",
    "outputId": "ea48fb2c-9cce-4623-e289-91abb874ed76"
   },
   "outputs": [
    {
     "name": "stdout",
     "output_type": "stream",
     "text": [
      "<re.Match object; span=(0, 12), match='022-12345678'>\n",
      "Match Found for pattern:  Indian Landline Number: 0476-2802017 or 022-12345678\n"
     ]
    }
   ],
   "source": [
    "match_pattern(\"^([0-9]{4}-[0-9]{7}|[0-9]{3}-[0-9]{8})\", \"022-12345678\", \"Indian Landline Number: 0476-2802017 or 022-12345678\")"
   ]
  },
  {
   "cell_type": "code",
   "execution_count": 16,
   "metadata": {
    "colab": {
     "base_uri": "https://localhost:8080/"
    },
    "id": "menSuDTRUnC5",
    "outputId": "93af4471-db7a-48c7-d4f5-94fa3f574751"
   },
   "outputs": [
    {
     "name": "stdout",
     "output_type": "stream",
     "text": [
      "<re.Match object; span=(0, 14), match='+12-3456789000'>\n",
      "Match Found for pattern:  Any Mobile Numbers: +91-1234567890. +12-3456789000\n"
     ]
    }
   ],
   "source": [
    "match_pattern(\"^\\+[0-9]{2}-[0-9]{10}\", \"+12-3456789000\", \"Any Mobile Numbers: +91-1234567890. +12-3456789000\")"
   ]
  },
  {
   "cell_type": "code",
   "execution_count": 17,
   "metadata": {
    "colab": {
     "base_uri": "https://localhost:8080/"
    },
    "id": "jwfYkztpVKN5",
    "outputId": "b303cf8c-3c19-43e7-bcd0-c2c4ad83d7ca"
   },
   "outputs": [
    {
     "name": "stdout",
     "output_type": "stream",
     "text": [
      "<re.Match object; span=(0, 7), match='700 135'>\n",
      "Match Found for pattern:  Indian Postal Pin code: 690 525\n"
     ]
    }
   ],
   "source": [
    "match_pattern(\"^[0-9]{3} [0-9]{3}\", \"700 135\", \"Indian Postal Pin code: 690 525\")"
   ]
  },
  {
   "cell_type": "code",
   "execution_count": 18,
   "metadata": {
    "colab": {
     "base_uri": "https://localhost:8080/"
    },
    "id": "G3tPSx7IVg3B",
    "outputId": "2655a267-2e70-4248-a6aa-47ddfb6e6954"
   },
   "outputs": [
    {
     "data": {
      "text/plain": [
       "['WEBVTT\\n\\nNOTE duration:\"00:06:54\"\\n\\nNOTE recognizability:0',\n",
       " '.',\n",
       " '684\\n\\nNOTE language:en-us\\n\\nNOTE Confidence: 0',\n",
       " '.',\n",
       " '62458827231579\\n\\n76f86f8d-0f62-433a-a8d4-7b7088fc7070\\n00:00:07',\n",
       " '.',\n",
       " '110 --> 00:00:08',\n",
       " '.',\n",
       " '730\\nHello and welcome back',\n",
       " '.',\n",
       " '\\n\\nNOTE Confidence: 0',\n",
       " '.',\n",
       " '62458827231579\\n\\n3973772b-485a-4b33-8be2-f9f90b42089e\\n00:00:08',\n",
       " '.',\n",
       " '730 --> 00:00:11']"
      ]
     },
     "execution_count": 18,
     "metadata": {},
     "output_type": "execute_result"
    }
   ],
   "source": [
    "#\"Tokenize a sentence (?!.)\"\n",
    "list_tkn = re.split(\"(\\?|\\!|\\.)\", text)\n",
    "list_tkn[:15]"
   ]
  },
  {
   "cell_type": "code",
   "execution_count": 19,
   "metadata": {
    "colab": {
     "base_uri": "https://localhost:8080/"
    },
    "id": "i7QWbTn1Weyq",
    "outputId": "16f06e92-b8d4-4f1e-dd35-464c12bd4c1c"
   },
   "outputs": [
    {
     "name": "stdout",
     "output_type": "stream",
     "text": [
      "<re.Match object; span=(8, 12), match='3557'>\n",
      "Match Found for pattern:  finding any 4 digit in a text\n"
     ]
    }
   ],
   "source": [
    "match_pattern(\"[0-9]{4}\", \"700 135 3557\", \"finding any 4 digit in a text\")"
   ]
  },
  {
   "cell_type": "code",
   "execution_count": 20,
   "metadata": {
    "colab": {
     "base_uri": "https://localhost:8080/"
    },
    "id": "w3_ZcDT2XJVi",
    "outputId": "47202962-0dc3-45c8-afb7-8e9738561a20"
   },
   "outputs": [
    {
     "name": "stdout",
     "output_type": "stream",
     "text": [
      "<re.Match object; span=(0, 19), match='7008-1358-3557-9754'>\n",
      "Match Found for pattern:  Card Number :(OOOO-OOOO-OOOO-OOOO)\n"
     ]
    }
   ],
   "source": [
    "match_pattern(\"^[0-9]{4}-[0-9]{4}-[0-9]{4}-[0-9]{4}$\", \"7008-1358-3557-9754\", \"Card Number :(OOOO-OOOO-OOOO-OOOO)\")"
   ]
  },
  {
   "cell_type": "code",
   "execution_count": 21,
   "metadata": {
    "colab": {
     "base_uri": "https://localhost:8080/"
    },
    "id": "W-W_eRIWXiZi",
    "outputId": "99768962-1e45-4632-c5ab-58a077e89e5c"
   },
   "outputs": [
    {
     "name": "stdout",
     "output_type": "stream",
     "text": [
      "<re.Match object; span=(0, 12), match='@stardust_df'>\n",
      "Match Found for pattern:  Twitter User : (@username)\n"
     ]
    }
   ],
   "source": [
    "match_pattern(\"^@[A-z0-9_]{5,15}$\", \"@stardust_df\", \"Twitter User : (@username)\")"
   ]
  },
  {
   "cell_type": "code",
   "execution_count": 22,
   "metadata": {
    "colab": {
     "base_uri": "https://localhost:8080/"
    },
    "id": "ihBbtlH_YR0G",
    "outputId": "5c057d22-e3d3-4807-c8a1-9faff20b02a2"
   },
   "outputs": [
    {
     "name": "stdout",
     "output_type": "stream",
     "text": [
      "<re.Match object; span=(0, 13), match='192.168.4.164'>\n",
      "Match Found for pattern:  IP Address\n"
     ]
    }
   ],
   "source": [
    "ipv4 = '''^(25[0-5]|2[0-4][0-9]|[0-1]?[0-9][0-9]?)\\.(\n",
    "            25[0-5]|2[0-4][0-9]|[0-1]?[0-9][0-9]?)\\.(\n",
    "            25[0-5]|2[0-4][0-9]|[0-1]?[0-9][0-9]?)\\.(\n",
    "            25[0-5]|2[0-4][0-9]|[0-1]?[0-9][0-9]?)$'''\n",
    "match_pattern(ipv4, \"192.168.4.164\", \"IP Address\")"
   ]
  },
  {
   "cell_type": "code",
   "execution_count": 23,
   "metadata": {
    "colab": {
     "base_uri": "https://localhost:8080/"
    },
    "id": "wvc_FMTuY-8g",
    "outputId": "141a53cf-e785-4525-ebbf-e986af7f181b"
   },
   "outputs": [
    {
     "name": "stdout",
     "output_type": "stream",
     "text": [
      "<re.Match object; span=(0, 24), match='2001:db8:3:4::192.0.2.33'>\n",
      "Match Found for pattern:  IPv6 Address\n"
     ]
    }
   ],
   "source": [
    "ipv6 = '''(([0-9a-fA-F]{1,4}:){7,7}[0-9a-fA-F]{1,4}|\n",
    "        ([0-9a-fA-F]{1,4}:){1,7}:|([0-9a-fA-F]{1,4}:)\n",
    "        {1,6}:[0-9a-fA-F]{1,4}|([0-9a-fA-F]{1,4}:){1\n",
    "        ,5}(:[0-9a-fA-F]{1,4}){1,2}|([0-9a-fA-F]{1,4}\n",
    "        :){1,4}(:[0-9a-fA-F]{1,4}){1,3}|([0-9a-fA-F]{\n",
    "        1,4}:){1,3}(:[0-9a-fA-F]{1,4}){1,4}|([0-9a-fA\n",
    "        -F]{1,4}:){1,2}(:[0-9a-fA-F]{1,4}){1,5}|[0-9a\n",
    "        -fA-F]{1,4}:((:[0-9a-fA-F]{1,4}){1,6})|:((:[0\n",
    "        -9a-fA-F]{1,4}){1,7}|:)|fe80:(:[0-9a-fA-F]{0,\n",
    "        4}){0,4}%[0-9a-zA-Z]{1,}|::(ffff(:0{1,4}){0,1}\n",
    "        :){0,1}((25[0-5]|(2[0-4]|1{0,1}[0-9]){0,1}[0-9\n",
    "        ])\\.){3,3}(25[0-5]|(2[0-4]|1{0,1}[0-9]){0,1}[0\n",
    "        -9])|([0-9a-fA-F]{1,4}:){1,4}:((25[0-5]|(2[0-4]\n",
    "        |1{0,1}[0-9]){0,1}[0-9])\\.){3,3}(25[0-5]|(2[0-4]\n",
    "        |1{0,1}[0-9]){0,1}[0-9]))'''\n",
    "match_pattern(ipv6, \"2001:db8:3:4::192.0.2.33\", \"IPv6 Address\")"
   ]
  }
 ],
 "metadata": {
  "colab": {
   "collapsed_sections": [],
   "name": "Lab_E4.ipynb",
   "provenance": []
  },
  "kernelspec": {
   "display_name": "Python 3",
   "language": "python",
   "name": "python3"
  },
  "language_info": {
   "codemirror_mode": {
    "name": "ipython",
    "version": 3
   },
   "file_extension": ".py",
   "mimetype": "text/x-python",
   "name": "python",
   "nbconvert_exporter": "python",
   "pygments_lexer": "ipython3",
   "version": "3.8.3"
  }
 },
 "nbformat": 4,
 "nbformat_minor": 4
}
