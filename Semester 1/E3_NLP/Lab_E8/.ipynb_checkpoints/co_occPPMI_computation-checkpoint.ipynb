{
 "cells": [
  {
   "cell_type": "code",
   "execution_count": 1,
   "metadata": {
    "id": "N_aP2fK43asW"
   },
   "outputs": [],
   "source": [
    "import numpy as np"
   ]
  },
  {
   "cell_type": "markdown",
   "metadata": {
    "id": "AAq16WlAlkUV"
   },
   "source": [
    "#Co-occurence Matrix"
   ]
  },
  {
   "cell_type": "code",
   "execution_count": 2,
   "metadata": {
    "id": "khjx6lOVsZ4I"
   },
   "outputs": [],
   "source": [
    "def co_occurence(corpus, vocab, window_size=4):\n",
    "    flag = 1\n",
    "    num_words = len(vocab)\n",
    "    M = np.zeros((num_words, num_words),dtype=int)\n",
    "    for line in corpus:\n",
    "        flag = 1\n",
    "        for i in range(len(line)):\n",
    "            target = line[i]\n",
    "            if(target not in vocab):\n",
    "                flag = 0\n",
    "                continue\n",
    "            target_index = vocab[target]\n",
    "            left = max(i - window_size, 0)\n",
    "            right = min(i + window_size, len(line) - 1)\n",
    "        if(flag == 0):\n",
    "            continue\n",
    "        for j in range(left, i):\n",
    "            window_word = line[j]\n",
    "            M[target_index][vocab[window_word]] += 1\n",
    "            M[vocab[window_word]][target_index] += 1\n",
    "    return M\n",
    "#https://www.cnblogs.com/shiyublog/p/11136940.html\n",
    "\n",
    "# you may code the matrix creation or may use the above function"
   ]
  },
  {
   "cell_type": "code",
   "execution_count": 3,
   "metadata": {
    "colab": {
     "base_uri": "https://localhost:8080/"
    },
    "id": "LNjZL3aMzgGB",
    "outputId": "ce4a5d41-6281-487b-c5b7-9aa680cb28c8"
   },
   "outputs": [],
   "source": [
    "#pip install -U scikit-learn"
   ]
  },
  {
   "cell_type": "code",
   "execution_count": 4,
   "metadata": {
    "id": "Vg9KqfEF0Ejc"
   },
   "outputs": [],
   "source": [
    "from sklearn.feature_extraction.text import CountVectorizer"
   ]
  },
  {
   "cell_type": "code",
   "execution_count": 5,
   "metadata": {
    "id": "oBSQ5mQwMCmD"
   },
   "outputs": [],
   "source": [
    "corpus = [ 'She eats banana',\n",
    "         'She eats cookies',\n",
    "         'She likes banana', \n",
    "         'She likes cookies',\n",
    "         'He eats cookies', \n",
    "         'He eats banana',\n",
    "         'He likes cookies', \n",
    "         'He likes banana',\n",
    "         'She likes NLP',\n",
    "         'He likes NLP',\n",
    "         ]"
   ]
  },
  {
   "cell_type": "code",
   "execution_count": 6,
   "metadata": {
    "id": "VWSfgf9sMCmG"
   },
   "outputs": [],
   "source": [
    "import nltk\n",
    "from nltk.tokenize import sent_tokenize"
   ]
  },
  {
   "cell_type": "code",
   "execution_count": 7,
   "metadata": {
    "id": "CLOdlWTIzqna"
   },
   "outputs": [
    {
     "data": {
      "text/plain": [
       "{'she': 6, 'eats': 2, 'banana': 0, 'cookies': 1, 'likes': 4, 'he': 3, 'nlp': 5}"
      ]
     },
     "execution_count": 7,
     "metadata": {},
     "output_type": "execute_result"
    }
   ],
   "source": [
    "BoWvectorizer = CountVectorizer(analyzer=\"word\", token_pattern='[a-zA-Z]+')\n",
    "#BoWvectorizer = CountVectorizer(stop_words= 'english') \n",
    "# fit() function will learn a vocabulary from one or more documents.\n",
    "BoWvectorizer.fit(corpus)\n",
    "# transform() function will transform one or more documents to vectors\n",
    "vector = BoWvectorizer.transform(corpus)\n",
    "\n",
    "BoWvectorizer.vocabulary_"
   ]
  },
  {
   "cell_type": "code",
   "execution_count": 8,
   "metadata": {
    "colab": {
     "base_uri": "https://localhost:8080/"
    },
    "id": "w-kxplG_6RXx",
    "outputId": "276be271-0824-4d42-a237-76ff914aaa39"
   },
   "outputs": [
    {
     "data": {
      "text/plain": [
       "7"
      ]
     },
     "execution_count": 8,
     "metadata": {},
     "output_type": "execute_result"
    }
   ],
   "source": [
    "words = BoWvectorizer.get_feature_names()\n",
    "len(words)"
   ]
  },
  {
   "cell_type": "code",
   "execution_count": 9,
   "metadata": {
    "id": "cTgXc-3Y03kU"
   },
   "outputs": [],
   "source": [
    "#corpus should be sent as list of list of tokens\n",
    "c1 = []\n",
    "i=0\n",
    "for doc in corpus:\n",
    "    t=[]\n",
    "    for w in doc.split():\n",
    "        if w.lower() in words:\n",
    "              t.append(w.lower())\n",
    "    c1.append(t)"
   ]
  },
  {
   "cell_type": "code",
   "execution_count": 10,
   "metadata": {},
   "outputs": [
    {
     "name": "stdout",
     "output_type": "stream",
     "text": [
      "[['she', 'eats', 'banana'], ['she', 'eats', 'cookies'], ['she', 'likes', 'banana'], ['she', 'likes', 'cookies'], ['he', 'eats', 'cookies'], ['he', 'eats', 'banana'], ['he', 'likes', 'cookies'], ['he', 'likes', 'banana'], ['she', 'likes', 'nlp'], ['he', 'likes', 'nlp']]\n",
      "{'she': 6, 'eats': 2, 'banana': 0, 'cookies': 1, 'likes': 4, 'he': 3, 'nlp': 5}\n"
     ]
    }
   ],
   "source": [
    "print(c1)\n",
    "print(BoWvectorizer.vocabulary_)"
   ]
  },
  {
   "cell_type": "code",
   "execution_count": 11,
   "metadata": {
    "colab": {
     "base_uri": "https://localhost:8080/"
    },
    "id": "sjmAuUjU0zrX",
    "outputId": "0069454d-6bc4-4370-f867-da02f605b691"
   },
   "outputs": [
    {
     "data": {
      "text/plain": [
       "array([[0, 0, 2, 2, 2, 0, 2],\n",
       "       [0, 0, 2, 2, 2, 0, 2],\n",
       "       [2, 2, 0, 0, 0, 0, 0],\n",
       "       [2, 2, 0, 0, 0, 1, 0],\n",
       "       [2, 2, 0, 0, 0, 2, 0],\n",
       "       [0, 0, 0, 1, 2, 0, 1],\n",
       "       [2, 2, 0, 0, 0, 1, 0]])"
      ]
     },
     "execution_count": 11,
     "metadata": {},
     "output_type": "execute_result"
    }
   ],
   "source": [
    "coMat = co_occurence(c1, BoWvectorizer.vocabulary_,4)\n",
    "coMat"
   ]
  },
  {
   "cell_type": "markdown",
   "metadata": {
    "id": "rzRzPkP9uyc1"
   },
   "source": [
    "#PPMI computation"
   ]
  },
  {
   "attachments": {
    "1c3eae18-ea05-4fea-9df3-14fe6cf0ed88.png": {
     "image/png": "[encoded data removed]"
    }
   },
   "cell_type": "markdown",
   "metadata": {},
   "source": [
    "## Pointwise Mutual Information Matrices\n",
    "The pointwise mutual information (PMI) for a (word, context) pair in our corpus is defined as the probability of their co-occurrence divided by the probabilities of them appearing individually,\n",
    "![image.png](attachment:1c3eae18-ea05-4fea-9df3-14fe6cf0ed88.png)\n",
    " \n",
    "where  fi,j  is the word-word count matrix we defined above. In addition we can define the positive pointwise mutual information as,\n",
    "\n",
    "ppmi(w,c)=max[ pmi( w, c ), 0 ]"
   ]
  },
  {
   "cell_type": "code",
   "execution_count": 12,
   "metadata": {},
   "outputs": [
    {
     "data": {
      "text/html": [
       "<div>\n",
       "<style scoped>\n",
       "    .dataframe tbody tr th:only-of-type {\n",
       "        vertical-align: middle;\n",
       "    }\n",
       "\n",
       "    .dataframe tbody tr th {\n",
       "        vertical-align: top;\n",
       "    }\n",
       "\n",
       "    .dataframe thead th {\n",
       "        text-align: right;\n",
       "    }\n",
       "</style>\n",
       "<table border=\"1\" class=\"dataframe\">\n",
       "  <thead>\n",
       "    <tr style=\"text-align: right;\">\n",
       "      <th></th>\n",
       "      <th>she</th>\n",
       "      <th>eats</th>\n",
       "      <th>banana</th>\n",
       "      <th>cookies</th>\n",
       "      <th>likes</th>\n",
       "      <th>he</th>\n",
       "      <th>nlp</th>\n",
       "    </tr>\n",
       "  </thead>\n",
       "  <tbody>\n",
       "    <tr>\n",
       "      <th>0</th>\n",
       "      <td>0</td>\n",
       "      <td>0</td>\n",
       "      <td>2</td>\n",
       "      <td>2</td>\n",
       "      <td>2</td>\n",
       "      <td>0</td>\n",
       "      <td>2</td>\n",
       "    </tr>\n",
       "    <tr>\n",
       "      <th>1</th>\n",
       "      <td>0</td>\n",
       "      <td>0</td>\n",
       "      <td>2</td>\n",
       "      <td>2</td>\n",
       "      <td>2</td>\n",
       "      <td>0</td>\n",
       "      <td>2</td>\n",
       "    </tr>\n",
       "    <tr>\n",
       "      <th>2</th>\n",
       "      <td>2</td>\n",
       "      <td>2</td>\n",
       "      <td>0</td>\n",
       "      <td>0</td>\n",
       "      <td>0</td>\n",
       "      <td>0</td>\n",
       "      <td>0</td>\n",
       "    </tr>\n",
       "    <tr>\n",
       "      <th>3</th>\n",
       "      <td>2</td>\n",
       "      <td>2</td>\n",
       "      <td>0</td>\n",
       "      <td>0</td>\n",
       "      <td>0</td>\n",
       "      <td>1</td>\n",
       "      <td>0</td>\n",
       "    </tr>\n",
       "    <tr>\n",
       "      <th>4</th>\n",
       "      <td>2</td>\n",
       "      <td>2</td>\n",
       "      <td>0</td>\n",
       "      <td>0</td>\n",
       "      <td>0</td>\n",
       "      <td>2</td>\n",
       "      <td>0</td>\n",
       "    </tr>\n",
       "    <tr>\n",
       "      <th>5</th>\n",
       "      <td>0</td>\n",
       "      <td>0</td>\n",
       "      <td>0</td>\n",
       "      <td>1</td>\n",
       "      <td>2</td>\n",
       "      <td>0</td>\n",
       "      <td>1</td>\n",
       "    </tr>\n",
       "    <tr>\n",
       "      <th>6</th>\n",
       "      <td>2</td>\n",
       "      <td>2</td>\n",
       "      <td>0</td>\n",
       "      <td>0</td>\n",
       "      <td>0</td>\n",
       "      <td>1</td>\n",
       "      <td>0</td>\n",
       "    </tr>\n",
       "  </tbody>\n",
       "</table>\n",
       "</div>"
      ],
      "text/plain": [
       "   she  eats  banana  cookies  likes  he  nlp\n",
       "0    0     0       2        2      2   0    2\n",
       "1    0     0       2        2      2   0    2\n",
       "2    2     2       0        0      0   0    0\n",
       "3    2     2       0        0      0   1    0\n",
       "4    2     2       0        0      0   2    0\n",
       "5    0     0       0        1      2   0    1\n",
       "6    2     2       0        0      0   1    0"
      ]
     },
     "execution_count": 12,
     "metadata": {},
     "output_type": "execute_result"
    }
   ],
   "source": [
    "import pandas as pd\n",
    "df = pd.DataFrame(coMat, columns = list(BoWvectorizer.vocabulary_.keys()))\n",
    "df"
   ]
  },
  {
   "cell_type": "code",
   "execution_count": 13,
   "metadata": {},
   "outputs": [],
   "source": [
    "def pmi(df, positive=True):\n",
    "    col_totals = df.sum(axis=0)\n",
    "    total = col_totals.sum()\n",
    "    row_totals = df.sum(axis=1)\n",
    "    expected = np.outer(row_totals, col_totals) / total\n",
    "    df = df / expected\n",
    "    # Silence distracting warnings about log(0):\n",
    "    with np.errstate(divide='ignore'):\n",
    "        df = np.log(df)\n",
    "    df[np.isinf(df)] = 0.0  # log(0) = 0\n",
    "    if positive:\n",
    "        df[df < 0] = 0.0\n",
    "    return df"
   ]
  },
  {
   "cell_type": "code",
   "execution_count": 22,
   "metadata": {},
   "outputs": [
    {
     "data": {
      "text/html": [
       "<div>\n",
       "<style scoped>\n",
       "    .dataframe tbody tr th:only-of-type {\n",
       "        vertical-align: middle;\n",
       "    }\n",
       "\n",
       "    .dataframe tbody tr th {\n",
       "        vertical-align: top;\n",
       "    }\n",
       "\n",
       "    .dataframe thead th {\n",
       "        text-align: right;\n",
       "    }\n",
       "</style>\n",
       "<table border=\"1\" class=\"dataframe\">\n",
       "  <thead>\n",
       "    <tr style=\"text-align: right;\">\n",
       "      <th></th>\n",
       "      <th>she</th>\n",
       "      <th>eats</th>\n",
       "      <th>banana</th>\n",
       "      <th>cookies</th>\n",
       "      <th>likes</th>\n",
       "      <th>he</th>\n",
       "      <th>nlp</th>\n",
       "    </tr>\n",
       "  </thead>\n",
       "  <tbody>\n",
       "    <tr>\n",
       "      <th>0</th>\n",
       "      <td>0.000000</td>\n",
       "      <td>0.000000</td>\n",
       "      <td>0.916291</td>\n",
       "      <td>0.693147</td>\n",
       "      <td>0.510826</td>\n",
       "      <td>0.000000</td>\n",
       "      <td>0.693147</td>\n",
       "    </tr>\n",
       "    <tr>\n",
       "      <th>1</th>\n",
       "      <td>0.000000</td>\n",
       "      <td>0.000000</td>\n",
       "      <td>0.916291</td>\n",
       "      <td>0.693147</td>\n",
       "      <td>0.510826</td>\n",
       "      <td>0.000000</td>\n",
       "      <td>0.693147</td>\n",
       "    </tr>\n",
       "    <tr>\n",
       "      <th>2</th>\n",
       "      <td>0.916291</td>\n",
       "      <td>0.916291</td>\n",
       "      <td>0.000000</td>\n",
       "      <td>0.000000</td>\n",
       "      <td>0.000000</td>\n",
       "      <td>0.000000</td>\n",
       "      <td>0.000000</td>\n",
       "    </tr>\n",
       "    <tr>\n",
       "      <th>3</th>\n",
       "      <td>0.693147</td>\n",
       "      <td>0.693147</td>\n",
       "      <td>0.000000</td>\n",
       "      <td>0.000000</td>\n",
       "      <td>0.000000</td>\n",
       "      <td>0.693147</td>\n",
       "      <td>0.000000</td>\n",
       "    </tr>\n",
       "    <tr>\n",
       "      <th>4</th>\n",
       "      <td>0.510826</td>\n",
       "      <td>0.510826</td>\n",
       "      <td>0.000000</td>\n",
       "      <td>0.000000</td>\n",
       "      <td>0.000000</td>\n",
       "      <td>1.203973</td>\n",
       "      <td>0.000000</td>\n",
       "    </tr>\n",
       "    <tr>\n",
       "      <th>5</th>\n",
       "      <td>0.000000</td>\n",
       "      <td>0.000000</td>\n",
       "      <td>0.000000</td>\n",
       "      <td>0.693147</td>\n",
       "      <td>1.203973</td>\n",
       "      <td>0.000000</td>\n",
       "      <td>0.693147</td>\n",
       "    </tr>\n",
       "    <tr>\n",
       "      <th>6</th>\n",
       "      <td>0.693147</td>\n",
       "      <td>0.693147</td>\n",
       "      <td>0.000000</td>\n",
       "      <td>0.000000</td>\n",
       "      <td>0.000000</td>\n",
       "      <td>0.693147</td>\n",
       "      <td>0.000000</td>\n",
       "    </tr>\n",
       "  </tbody>\n",
       "</table>\n",
       "</div>"
      ],
      "text/plain": [
       "        she      eats    banana   cookies     likes        he       nlp\n",
       "0  0.000000  0.000000  0.916291  0.693147  0.510826  0.000000  0.693147\n",
       "1  0.000000  0.000000  0.916291  0.693147  0.510826  0.000000  0.693147\n",
       "2  0.916291  0.916291  0.000000  0.000000  0.000000  0.000000  0.000000\n",
       "3  0.693147  0.693147  0.000000  0.000000  0.000000  0.693147  0.000000\n",
       "4  0.510826  0.510826  0.000000  0.000000  0.000000  1.203973  0.000000\n",
       "5  0.000000  0.000000  0.000000  0.693147  1.203973  0.000000  0.693147\n",
       "6  0.693147  0.693147  0.000000  0.000000  0.000000  0.693147  0.000000"
      ]
     },
     "execution_count": 22,
     "metadata": {},
     "output_type": "execute_result"
    }
   ],
   "source": [
    "PPMI = pmi(df, positive=True)\n",
    "PPMI"
   ]
  },
  {
   "cell_type": "code",
   "execution_count": 23,
   "metadata": {
    "id": "_bw5eNFqmK3k"
   },
   "outputs": [
    {
     "data": {
      "text/plain": [
       "'import math\\nw = \"banana\"\\nc = \"cookies\"\\nvocab_w_c = {w:0,c:1}\\nprint(vocab_w_c)\\ncount_w_c = co_occurence(c1, vocab_w_c, 4)\\ncount_w = co_occurence(c1, {w:0}, 4)\\ncount_c = co_occurence(c1, {c:0}, 4)\\nT= len(c1)\\nprint(count_w_c)\\nprint(count_w)\\nprint(count_c)\\n#df = \\nPMI = math.log2(count_w_c / (count_w * count_c))\\nPPMI = max([PMI, 0])'"
      ]
     },
     "execution_count": 23,
     "metadata": {},
     "output_type": "execute_result"
    }
   ],
   "source": [
    "'''import math\n",
    "w = \"banana\"\n",
    "c = \"cookies\"\n",
    "vocab_w_c = {w:0,c:1}\n",
    "print(vocab_w_c)\n",
    "count_w_c = co_occurence(c1, vocab_w_c, 4)\n",
    "count_w = co_occurence(c1, {w:0}, 4)\n",
    "count_c = co_occurence(c1, {c:0}, 4)\n",
    "T= len(c1)\n",
    "print(count_w_c)\n",
    "print(count_w)\n",
    "print(count_c)\n",
    "#df = \n",
    "PMI = math.log2(count_w_c / (count_w * count_c))\n",
    "PPMI = max([PMI, 0])'''"
   ]
  },
  {
   "cell_type": "markdown",
   "metadata": {
    "id": "4hauaJn3u5kJ"
   },
   "source": [
    "#Save results"
   ]
  },
  {
   "cell_type": "code",
   "execution_count": 24,
   "metadata": {
    "id": "WBJ0egYt7PhA"
   },
   "outputs": [],
   "source": [
    "import pandas as pd"
   ]
  },
  {
   "cell_type": "code",
   "execution_count": 25,
   "metadata": {
    "id": "PHNO5QWt7B7n"
   },
   "outputs": [],
   "source": [
    "df2= pd.DataFrame(data=PPMI, columns = words)\n",
    "df2.insert(0, \"words\", words, True)\n",
    "df2.to_csv('n2.csv')"
   ]
  },
  {
   "cell_type": "markdown",
   "metadata": {
    "id": "fYfCaTOEImj4"
   },
   "source": [
    "#Dimensionality Reduction using SVD\n"
   ]
  },
  {
   "cell_type": "code",
   "execution_count": 26,
   "metadata": {
    "id": "vme-18D1IueQ"
   },
   "outputs": [],
   "source": [
    "from sklearn.decomposition import TruncatedSVD\n",
    "svd = TruncatedSVD(2)"
   ]
  },
  {
   "cell_type": "code",
   "execution_count": 27,
   "metadata": {
    "id": "W8BTvLljI8PP"
   },
   "outputs": [],
   "source": [
    "transformed = svd.fit_transform(PPMI)"
   ]
  },
  {
   "cell_type": "code",
   "execution_count": 28,
   "metadata": {
    "id": "tLszOHL8nXPF"
   },
   "outputs": [
    {
     "name": "stdout",
     "output_type": "stream",
     "text": [
      "banana [2.95371678e-16 1.38580978e+00]\n",
      "cookies [2.95371678e-16 1.38580978e+00]\n",
      "eats [ 1.06802751e+00 -2.39177416e-16]\n",
      "he [ 1.20045711e+00 -2.49133796e-16]\n",
      "likes [ 1.27722108e+00 -2.51806101e-16]\n",
      "nlp [2.8240955e-16 1.3465636e+00]\n",
      "she [ 1.20045711e+00 -2.49133796e-16]\n"
     ]
    }
   ],
   "source": [
    "for i in range(len(transformed)):\n",
    "    print(words[i], transformed[i])"
   ]
  },
  {
   "cell_type": "code",
   "execution_count": 29,
   "metadata": {
    "id": "o5ppPkmtnZ01"
   },
   "outputs": [
    {
     "data": {
      "text/html": [
       "<div>\n",
       "<style scoped>\n",
       "    .dataframe tbody tr th:only-of-type {\n",
       "        vertical-align: middle;\n",
       "    }\n",
       "\n",
       "    .dataframe tbody tr th {\n",
       "        vertical-align: top;\n",
       "    }\n",
       "\n",
       "    .dataframe thead th {\n",
       "        text-align: right;\n",
       "    }\n",
       "</style>\n",
       "<table border=\"1\" class=\"dataframe\">\n",
       "  <thead>\n",
       "    <tr style=\"text-align: right;\">\n",
       "      <th></th>\n",
       "      <th>words</th>\n",
       "      <th>0</th>\n",
       "      <th>1</th>\n",
       "    </tr>\n",
       "  </thead>\n",
       "  <tbody>\n",
       "    <tr>\n",
       "      <th>0</th>\n",
       "      <td>banana</td>\n",
       "      <td>2.953717e-16</td>\n",
       "      <td>1.385810e+00</td>\n",
       "    </tr>\n",
       "    <tr>\n",
       "      <th>1</th>\n",
       "      <td>cookies</td>\n",
       "      <td>2.953717e-16</td>\n",
       "      <td>1.385810e+00</td>\n",
       "    </tr>\n",
       "    <tr>\n",
       "      <th>2</th>\n",
       "      <td>eats</td>\n",
       "      <td>1.068028e+00</td>\n",
       "      <td>-2.391774e-16</td>\n",
       "    </tr>\n",
       "    <tr>\n",
       "      <th>3</th>\n",
       "      <td>he</td>\n",
       "      <td>1.200457e+00</td>\n",
       "      <td>-2.491338e-16</td>\n",
       "    </tr>\n",
       "    <tr>\n",
       "      <th>4</th>\n",
       "      <td>likes</td>\n",
       "      <td>1.277221e+00</td>\n",
       "      <td>-2.518061e-16</td>\n",
       "    </tr>\n",
       "    <tr>\n",
       "      <th>5</th>\n",
       "      <td>nlp</td>\n",
       "      <td>2.824095e-16</td>\n",
       "      <td>1.346564e+00</td>\n",
       "    </tr>\n",
       "    <tr>\n",
       "      <th>6</th>\n",
       "      <td>she</td>\n",
       "      <td>1.200457e+00</td>\n",
       "      <td>-2.491338e-16</td>\n",
       "    </tr>\n",
       "  </tbody>\n",
       "</table>\n",
       "</div>"
      ],
      "text/plain": [
       "     words             0             1\n",
       "0   banana  2.953717e-16  1.385810e+00\n",
       "1  cookies  2.953717e-16  1.385810e+00\n",
       "2     eats  1.068028e+00 -2.391774e-16\n",
       "3       he  1.200457e+00 -2.491338e-16\n",
       "4    likes  1.277221e+00 -2.518061e-16\n",
       "5      nlp  2.824095e-16  1.346564e+00\n",
       "6      she  1.200457e+00 -2.491338e-16"
      ]
     },
     "execution_count": 29,
     "metadata": {},
     "output_type": "execute_result"
    }
   ],
   "source": [
    "df3= pd.DataFrame(data=transformed)\n",
    "df3.insert(0, \"words\", words, True)\n",
    "df3"
   ]
  },
  {
   "cell_type": "code",
   "execution_count": 30,
   "metadata": {
    "id": "xkw737jHMCmi"
   },
   "outputs": [],
   "source": [
    "df3.to_csv('embeddings.csv')"
   ]
  },
  {
   "cell_type": "markdown",
   "metadata": {
    "id": "OeldLQJxRbJW"
   },
   "source": [
    "Natural Language Processing - Lab Manual\n",
    "![image.png](data:image/png;base64,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)"
   ]
  },
  {
   "cell_type": "markdown",
   "metadata": {
    "id": "lhoPt09JPbaf"
   },
   "source": [
    "#s"
   ]
  },
  {
   "cell_type": "code",
   "execution_count": 31,
   "metadata": {
    "id": "oEsMVJgkMCmj"
   },
   "outputs": [],
   "source": [
    "R2 = np.dot(transformed, transformed.T)"
   ]
  },
  {
   "cell_type": "raw",
   "metadata": {
    "id": "ssN3krlLMCmk"
   },
   "source": [
    "R"
   ]
  },
  {
   "cell_type": "code",
   "execution_count": 32,
   "metadata": {
    "colab": {
     "base_uri": "https://localhost:8080/"
    },
    "id": "1taZjU4JMCmk",
    "outputId": "d888113d-9451-471b-e216-3556492575bd"
   },
   "outputs": [
    {
     "data": {
      "text/plain": [
       "array([[ 1.92046874e+00,  1.92046874e+00, -1.59893234e-17,\n",
       "         9.32898129e-18,  2.82995757e-17,  1.86608100e+00,\n",
       "         9.32898129e-18],\n",
       "       [ 1.92046874e+00,  1.92046874e+00, -1.59893234e-17,\n",
       "         9.32898129e-18,  2.82995757e-17,  1.86608100e+00,\n",
       "         9.32898129e-18],\n",
       "       [-1.59893234e-17, -1.59893234e-17,  1.14068277e+00,\n",
       "         1.28212123e+00,  1.36410725e+00, -2.04464339e-17,\n",
       "         1.28212123e+00],\n",
       "       [ 9.32898129e-18,  9.32898129e-18,  1.28212123e+00,\n",
       "         1.44109728e+00,  1.53324913e+00,  3.54605115e-18,\n",
       "         1.44109728e+00],\n",
       "       [ 2.82995757e-17,  2.82995757e-17,  1.36410725e+00,\n",
       "         1.53324913e+00,  1.63129368e+00,  2.16264990e-17,\n",
       "         1.53324913e+00],\n",
       "       [ 1.86608100e+00,  1.86608100e+00, -2.04464339e-17,\n",
       "         3.54605115e-18,  2.16264990e-17,  1.81323353e+00,\n",
       "         3.54605115e-18],\n",
       "       [ 9.32898129e-18,  9.32898129e-18,  1.28212123e+00,\n",
       "         1.44109728e+00,  1.53324913e+00,  3.54605115e-18,\n",
       "         1.44109728e+00]])"
      ]
     },
     "execution_count": 32,
     "metadata": {},
     "output_type": "execute_result"
    }
   ],
   "source": [
    "R2"
   ]
  },
  {
   "cell_type": "code",
   "execution_count": 33,
   "metadata": {
    "id": "zGwg3KwuMCml"
   },
   "outputs": [],
   "source": [
    "df4 = pd.DataFrame(data=R2, columns =words )\n",
    "df4.insert(0, \"words\", words, True)"
   ]
  },
  {
   "cell_type": "code",
   "execution_count": 34,
   "metadata": {
    "colab": {
     "base_uri": "https://localhost:8080/",
     "height": 1000
    },
    "id": "yizgBbCVMCmm",
    "outputId": "a8384992-0e9d-4d88-c556-d4d553f6fe4e"
   },
   "outputs": [
    {
     "data": {
      "text/html": [
       "<div>\n",
       "<style scoped>\n",
       "    .dataframe tbody tr th:only-of-type {\n",
       "        vertical-align: middle;\n",
       "    }\n",
       "\n",
       "    .dataframe tbody tr th {\n",
       "        vertical-align: top;\n",
       "    }\n",
       "\n",
       "    .dataframe thead th {\n",
       "        text-align: right;\n",
       "    }\n",
       "</style>\n",
       "<table border=\"1\" class=\"dataframe\">\n",
       "  <thead>\n",
       "    <tr style=\"text-align: right;\">\n",
       "      <th></th>\n",
       "      <th>words</th>\n",
       "      <th>banana</th>\n",
       "      <th>cookies</th>\n",
       "      <th>eats</th>\n",
       "      <th>he</th>\n",
       "      <th>likes</th>\n",
       "      <th>nlp</th>\n",
       "      <th>she</th>\n",
       "    </tr>\n",
       "  </thead>\n",
       "  <tbody>\n",
       "    <tr>\n",
       "      <th>0</th>\n",
       "      <td>banana</td>\n",
       "      <td>1.920469e+00</td>\n",
       "      <td>1.920469e+00</td>\n",
       "      <td>-1.598932e-17</td>\n",
       "      <td>9.328981e-18</td>\n",
       "      <td>2.829958e-17</td>\n",
       "      <td>1.866081e+00</td>\n",
       "      <td>9.328981e-18</td>\n",
       "    </tr>\n",
       "    <tr>\n",
       "      <th>1</th>\n",
       "      <td>cookies</td>\n",
       "      <td>1.920469e+00</td>\n",
       "      <td>1.920469e+00</td>\n",
       "      <td>-1.598932e-17</td>\n",
       "      <td>9.328981e-18</td>\n",
       "      <td>2.829958e-17</td>\n",
       "      <td>1.866081e+00</td>\n",
       "      <td>9.328981e-18</td>\n",
       "    </tr>\n",
       "    <tr>\n",
       "      <th>2</th>\n",
       "      <td>eats</td>\n",
       "      <td>-1.598932e-17</td>\n",
       "      <td>-1.598932e-17</td>\n",
       "      <td>1.140683e+00</td>\n",
       "      <td>1.282121e+00</td>\n",
       "      <td>1.364107e+00</td>\n",
       "      <td>-2.044643e-17</td>\n",
       "      <td>1.282121e+00</td>\n",
       "    </tr>\n",
       "    <tr>\n",
       "      <th>3</th>\n",
       "      <td>he</td>\n",
       "      <td>9.328981e-18</td>\n",
       "      <td>9.328981e-18</td>\n",
       "      <td>1.282121e+00</td>\n",
       "      <td>1.441097e+00</td>\n",
       "      <td>1.533249e+00</td>\n",
       "      <td>3.546051e-18</td>\n",
       "      <td>1.441097e+00</td>\n",
       "    </tr>\n",
       "    <tr>\n",
       "      <th>4</th>\n",
       "      <td>likes</td>\n",
       "      <td>2.829958e-17</td>\n",
       "      <td>2.829958e-17</td>\n",
       "      <td>1.364107e+00</td>\n",
       "      <td>1.533249e+00</td>\n",
       "      <td>1.631294e+00</td>\n",
       "      <td>2.162650e-17</td>\n",
       "      <td>1.533249e+00</td>\n",
       "    </tr>\n",
       "    <tr>\n",
       "      <th>5</th>\n",
       "      <td>nlp</td>\n",
       "      <td>1.866081e+00</td>\n",
       "      <td>1.866081e+00</td>\n",
       "      <td>-2.044643e-17</td>\n",
       "      <td>3.546051e-18</td>\n",
       "      <td>2.162650e-17</td>\n",
       "      <td>1.813234e+00</td>\n",
       "      <td>3.546051e-18</td>\n",
       "    </tr>\n",
       "    <tr>\n",
       "      <th>6</th>\n",
       "      <td>she</td>\n",
       "      <td>9.328981e-18</td>\n",
       "      <td>9.328981e-18</td>\n",
       "      <td>1.282121e+00</td>\n",
       "      <td>1.441097e+00</td>\n",
       "      <td>1.533249e+00</td>\n",
       "      <td>3.546051e-18</td>\n",
       "      <td>1.441097e+00</td>\n",
       "    </tr>\n",
       "  </tbody>\n",
       "</table>\n",
       "</div>"
      ],
      "text/plain": [
       "     words        banana       cookies          eats            he  \\\n",
       "0   banana  1.920469e+00  1.920469e+00 -1.598932e-17  9.328981e-18   \n",
       "1  cookies  1.920469e+00  1.920469e+00 -1.598932e-17  9.328981e-18   \n",
       "2     eats -1.598932e-17 -1.598932e-17  1.140683e+00  1.282121e+00   \n",
       "3       he  9.328981e-18  9.328981e-18  1.282121e+00  1.441097e+00   \n",
       "4    likes  2.829958e-17  2.829958e-17  1.364107e+00  1.533249e+00   \n",
       "5      nlp  1.866081e+00  1.866081e+00 -2.044643e-17  3.546051e-18   \n",
       "6      she  9.328981e-18  9.328981e-18  1.282121e+00  1.441097e+00   \n",
       "\n",
       "          likes           nlp           she  \n",
       "0  2.829958e-17  1.866081e+00  9.328981e-18  \n",
       "1  2.829958e-17  1.866081e+00  9.328981e-18  \n",
       "2  1.364107e+00 -2.044643e-17  1.282121e+00  \n",
       "3  1.533249e+00  3.546051e-18  1.441097e+00  \n",
       "4  1.631294e+00  2.162650e-17  1.533249e+00  \n",
       "5  2.162650e-17  1.813234e+00  3.546051e-18  \n",
       "6  1.533249e+00  3.546051e-18  1.441097e+00  "
      ]
     },
     "execution_count": 34,
     "metadata": {},
     "output_type": "execute_result"
    }
   ],
   "source": [
    "df4"
   ]
  },
  {
   "cell_type": "code",
   "execution_count": 35,
   "metadata": {
    "id": "DTDWqGlgMCmm"
   },
   "outputs": [],
   "source": [
    "from sklearn.metrics.pairwise import paired_cosine_distances,cosine_similarity"
   ]
  },
  {
   "cell_type": "code",
   "execution_count": 36,
   "metadata": {
    "colab": {
     "base_uri": "https://localhost:8080/"
    },
    "id": "91Zaij50MCmn",
    "outputId": "725e6348-274e-4fc6-9f2b-5eb6a0f9f6ab"
   },
   "outputs": [
    {
     "data": {
      "text/plain": [
       "array([0.00000000e+00, 0.00000000e+00, 0.00000000e+00, 0.00000000e+00,\n",
       "       1.84889275e-32, 1.23259516e-32, 0.00000000e+00])"
      ]
     },
     "execution_count": 36,
     "metadata": {},
     "output_type": "execute_result"
    }
   ],
   "source": [
    "paired_cosine_distances(R2,R2.T)"
   ]
  },
  {
   "cell_type": "code",
   "execution_count": 37,
   "metadata": {
    "id": "ipBlRWglMCmn"
   },
   "outputs": [],
   "source": [
    "Sim = cosine_similarity(R2,R2.T)"
   ]
  },
  {
   "cell_type": "code",
   "execution_count": 38,
   "metadata": {
    "id": "SgrGYa3FMCmn"
   },
   "outputs": [],
   "source": [
    "df5 = pd.DataFrame(data=Sim, columns = words )\n",
    "df5.insert(0, \"words\", words, True)"
   ]
  },
  {
   "cell_type": "code",
   "execution_count": 39,
   "metadata": {
    "colab": {
     "base_uri": "https://localhost:8080/",
     "height": 1000
    },
    "id": "AOEsoC_3MCmp",
    "outputId": "cdbd5e05-eec7-4930-8064-489132669445"
   },
   "outputs": [
    {
     "data": {
      "text/html": [
       "<div>\n",
       "<style scoped>\n",
       "    .dataframe tbody tr th:only-of-type {\n",
       "        vertical-align: middle;\n",
       "    }\n",
       "\n",
       "    .dataframe tbody tr th {\n",
       "        vertical-align: top;\n",
       "    }\n",
       "\n",
       "    .dataframe thead th {\n",
       "        text-align: right;\n",
       "    }\n",
       "</style>\n",
       "<table border=\"1\" class=\"dataframe\">\n",
       "  <thead>\n",
       "    <tr style=\"text-align: right;\">\n",
       "      <th></th>\n",
       "      <th>words</th>\n",
       "      <th>banana</th>\n",
       "      <th>cookies</th>\n",
       "      <th>eats</th>\n",
       "      <th>he</th>\n",
       "      <th>likes</th>\n",
       "      <th>nlp</th>\n",
       "      <th>she</th>\n",
       "    </tr>\n",
       "  </thead>\n",
       "  <tbody>\n",
       "    <tr>\n",
       "      <th>0</th>\n",
       "      <td>banana</td>\n",
       "      <td>1.000000e+00</td>\n",
       "      <td>1.000000e+00</td>\n",
       "      <td>-6.605852e-18</td>\n",
       "      <td>9.804829e-18</td>\n",
       "      <td>2.018573e-17</td>\n",
       "      <td>1.000000e+00</td>\n",
       "      <td>9.804829e-18</td>\n",
       "    </tr>\n",
       "    <tr>\n",
       "      <th>1</th>\n",
       "      <td>cookies</td>\n",
       "      <td>1.000000e+00</td>\n",
       "      <td>1.000000e+00</td>\n",
       "      <td>-6.605852e-18</td>\n",
       "      <td>9.804829e-18</td>\n",
       "      <td>2.018573e-17</td>\n",
       "      <td>1.000000e+00</td>\n",
       "      <td>9.804829e-18</td>\n",
       "    </tr>\n",
       "    <tr>\n",
       "      <th>2</th>\n",
       "      <td>eats</td>\n",
       "      <td>-6.605852e-18</td>\n",
       "      <td>-6.605852e-18</td>\n",
       "      <td>1.000000e+00</td>\n",
       "      <td>1.000000e+00</td>\n",
       "      <td>1.000000e+00</td>\n",
       "      <td>-1.001987e-17</td>\n",
       "      <td>1.000000e+00</td>\n",
       "    </tr>\n",
       "    <tr>\n",
       "      <th>3</th>\n",
       "      <td>he</td>\n",
       "      <td>9.804829e-18</td>\n",
       "      <td>9.804829e-18</td>\n",
       "      <td>1.000000e+00</td>\n",
       "      <td>1.000000e+00</td>\n",
       "      <td>1.000000e+00</td>\n",
       "      <td>6.390810e-18</td>\n",
       "      <td>1.000000e+00</td>\n",
       "    </tr>\n",
       "    <tr>\n",
       "      <th>4</th>\n",
       "      <td>likes</td>\n",
       "      <td>2.018573e-17</td>\n",
       "      <td>2.018573e-17</td>\n",
       "      <td>1.000000e+00</td>\n",
       "      <td>1.000000e+00</td>\n",
       "      <td>1.000000e+00</td>\n",
       "      <td>1.677171e-17</td>\n",
       "      <td>1.000000e+00</td>\n",
       "    </tr>\n",
       "    <tr>\n",
       "      <th>5</th>\n",
       "      <td>nlp</td>\n",
       "      <td>1.000000e+00</td>\n",
       "      <td>1.000000e+00</td>\n",
       "      <td>-1.001987e-17</td>\n",
       "      <td>6.390810e-18</td>\n",
       "      <td>1.677171e-17</td>\n",
       "      <td>1.000000e+00</td>\n",
       "      <td>6.390810e-18</td>\n",
       "    </tr>\n",
       "    <tr>\n",
       "      <th>6</th>\n",
       "      <td>she</td>\n",
       "      <td>9.804829e-18</td>\n",
       "      <td>9.804829e-18</td>\n",
       "      <td>1.000000e+00</td>\n",
       "      <td>1.000000e+00</td>\n",
       "      <td>1.000000e+00</td>\n",
       "      <td>6.390810e-18</td>\n",
       "      <td>1.000000e+00</td>\n",
       "    </tr>\n",
       "  </tbody>\n",
       "</table>\n",
       "</div>"
      ],
      "text/plain": [
       "     words        banana       cookies          eats            he  \\\n",
       "0   banana  1.000000e+00  1.000000e+00 -6.605852e-18  9.804829e-18   \n",
       "1  cookies  1.000000e+00  1.000000e+00 -6.605852e-18  9.804829e-18   \n",
       "2     eats -6.605852e-18 -6.605852e-18  1.000000e+00  1.000000e+00   \n",
       "3       he  9.804829e-18  9.804829e-18  1.000000e+00  1.000000e+00   \n",
       "4    likes  2.018573e-17  2.018573e-17  1.000000e+00  1.000000e+00   \n",
       "5      nlp  1.000000e+00  1.000000e+00 -1.001987e-17  6.390810e-18   \n",
       "6      she  9.804829e-18  9.804829e-18  1.000000e+00  1.000000e+00   \n",
       "\n",
       "          likes           nlp           she  \n",
       "0  2.018573e-17  1.000000e+00  9.804829e-18  \n",
       "1  2.018573e-17  1.000000e+00  9.804829e-18  \n",
       "2  1.000000e+00 -1.001987e-17  1.000000e+00  \n",
       "3  1.000000e+00  6.390810e-18  1.000000e+00  \n",
       "4  1.000000e+00  1.677171e-17  1.000000e+00  \n",
       "5  1.677171e-17  1.000000e+00  6.390810e-18  \n",
       "6  1.000000e+00  6.390810e-18  1.000000e+00  "
      ]
     },
     "execution_count": 39,
     "metadata": {},
     "output_type": "execute_result"
    }
   ],
   "source": [
    "df5"
   ]
  },
  {
   "cell_type": "code",
   "execution_count": null,
   "metadata": {},
   "outputs": [],
   "source": []
  }
 ],
 "metadata": {
  "colab": {
   "collapsed_sections": [],
   "name": "co_occPPMI_computation.ipynb",
   "provenance": []
  },
  "kernelspec": {
   "display_name": "Python 3",
   "language": "python",
   "name": "python3"
  },
  "language_info": {
   "codemirror_mode": {
    "name": "ipython",
    "version": 3
   },
   "file_extension": ".py",
   "mimetype": "text/x-python",
   "name": "python",
   "nbconvert_exporter": "python",
   "pygments_lexer": "ipython3",
   "version": "3.8.3"
  }
 },
 "nbformat": 4,
 "nbformat_minor": 4
}
