{
 "cells": [
  {
   "cell_type": "markdown",
   "metadata": {
    "id": "hxrP0Xftjlzr"
   },
   "source": [
    "# GloVe\n",
    "You may find an implemention of GloVe here:\n",
    "\n",
    "https://pypi.org/project/glove-python-binary/ - must be used in the Python 3.5 and above\n",
    "\n",
    "https://github.com/maciejkula/glove-python\n",
    "\n",
    "\n",
    "Ref:\n",
    "\n",
    "https://medium.com/analytics-vidhya/word-vectorization-using-glove-76919685ee0b"
   ]
  },
  {
   "cell_type": "code",
   "execution_count": null,
   "metadata": {
    "colab": {
     "base_uri": "https://localhost:8080/"
    },
    "id": "LaoUD2eBhZjW",
    "outputId": "18a89df3-e094-4e21-9955-d3c0444cdb8a"
   },
   "outputs": [
    {
     "name": "stdout",
     "output_type": "stream",
     "text": [
      "Requirement already satisfied: glove-python-binary in /usr/local/lib/python3.7/dist-packages (0.2.0)\n",
      "Requirement already satisfied: numpy in /usr/local/lib/python3.7/dist-packages (from glove-python-binary) (1.19.5)\n",
      "Requirement already satisfied: scipy in /usr/local/lib/python3.7/dist-packages (from glove-python-binary) (1.4.1)\n"
     ]
    }
   ],
   "source": [
    "!pip install glove-python-binary"
   ]
  },
  {
   "cell_type": "markdown",
   "metadata": {
    "id": "n9jlAfN1rbUy"
   },
   "source": [
    "#There two major tasks in GloVe\n",
    "\n",
    "*   creating a co-occurrence matrix from the corpus, \n",
    "*   using it to produce the embeddings\n",
    "\n",
    "#These are achieved by two classes:\n",
    "\n",
    "1.   Corpus :  Given a corpus, it constructs vocabulary and co-occurrence matrix\n",
    "\n",
    "2.   Glove : trains the embeddings\n",
    "\n"
   ]
  },
  {
   "cell_type": "code",
   "execution_count": null,
   "metadata": {
    "id": "wh456IjlyYJ4"
   },
   "outputs": [],
   "source": [
    "from glove import Corpus, Glove"
   ]
  },
  {
   "cell_type": "markdown",
   "metadata": {
    "id": "dSvTvyY9PCEZ"
   },
   "source": [
    "#Pre-processing Functions"
   ]
  },
  {
   "cell_type": "code",
   "execution_count": null,
   "metadata": {
    "colab": {
     "base_uri": "https://localhost:8080/"
    },
    "id": "f4SbSvN7lgHb",
    "outputId": "44c536f0-cf07-4210-dc94-ad5813c32295"
   },
   "outputs": [
    {
     "name": "stdout",
     "output_type": "stream",
     "text": [
      "[nltk_data] Downloading package punkt to /root/nltk_data...\n",
      "[nltk_data]   Unzipping tokenizers/punkt.zip.\n"
     ]
    }
   ],
   "source": [
    "%run /content/gdrive/MyDrive/NLP2022/Text_Representation/preprocess.ipynb"
   ]
  },
  {
   "cell_type": "markdown",
   "metadata": {
    "id": "KgPrgX83PJWa"
   },
   "source": [
    "#Load Corpus"
   ]
  },
  {
   "cell_type": "code",
   "execution_count": null,
   "metadata": {
    "id": "5pYh3Zm5t2Oi"
   },
   "outputs": [],
   "source": [
    "path = r'/content/gdrive/MyDrive/NLP2022/Text_Representation'"
   ]
  },
  {
   "cell_type": "code",
   "execution_count": null,
   "metadata": {
    "id": "8q0p7rHUnxMq"
   },
   "outputs": [],
   "source": [
    "#The Mahabharata corpus is taken form the following website:\n",
    "#https://www.sacred-texts.com/hin/maha/ \n",
    "data=[]\n",
    "n=19 #18 Texts of Mahabharatha\n",
    "for i in range(1,n):\n",
    "    path1=path + \"/mb/maha\"+str(i) + '.txt'\n",
    "    #print(path)\n",
    "    file = open(path1)\n",
    "    lines = file.read()\n",
    "    doc = preprocess(lines)\n",
    "    data.append(doc)"
   ]
  },
  {
   "cell_type": "code",
   "execution_count": null,
   "metadata": {
    "colab": {
     "base_uri": "https://localhost:8080/"
    },
    "id": "VM11Fvln-nQM",
    "outputId": "84b87c1d-87fa-4687-f663-3786ef48ddf2"
   },
   "outputs": [
    {
     "data": {
      "text/plain": [
       "18"
      ]
     },
     "execution_count": 8,
     "metadata": {},
     "output_type": "execute_result"
    }
   ],
   "source": [
    "len(data)"
   ]
  },
  {
   "cell_type": "code",
   "execution_count": null,
   "metadata": {
    "colab": {
     "base_uri": "https://localhost:8080/"
    },
    "id": "Pw1GTCYUlg8G",
    "outputId": "e0758207-e293-43c5-e54d-36a872d386d4"
   },
   "outputs": [
    {
     "name": "stdout",
     "output_type": "stream",
     "text": [
      "124015\n",
      "['section', 'cciii', 'viduragamana', 'parva', 'continued', 'vaisampayana', 'said', 'dhritarashtra', 'replied', 'saying', 'i', 'desire', 'to', 'do', 'exactly', 'what', 'you', 'would', 'recommend']\n"
     ]
    }
   ],
   "source": [
    "sent= []\n",
    "text =[]\n",
    "for doc in data:\n",
    "    for s in doc:\n",
    "        sent.append(s.split()) \n",
    "        text.append(s)\n",
    "        \n",
    "print(len(sent))\n",
    "print(sent[10000])"
   ]
  },
  {
   "cell_type": "code",
   "execution_count": null,
   "metadata": {
    "colab": {
     "base_uri": "https://localhost:8080/"
    },
    "id": "s2bwEGA__kwc",
    "outputId": "c8fce1e3-4b2a-42ea-e4ac-85f906165b8c"
   },
   "outputs": [
    {
     "data": {
      "text/plain": [
       "list"
      ]
     },
     "execution_count": 10,
     "metadata": {},
     "output_type": "execute_result"
    }
   ],
   "source": [
    "type(text)"
   ]
  },
  {
   "cell_type": "code",
   "execution_count": null,
   "metadata": {
    "id": "4UIbvJLL_Pkn"
   },
   "outputs": [],
   "source": [
    "import pandas as pd\n",
    "df = pd.DataFrame(text,columns=[\"text\"])"
   ]
  },
  {
   "cell_type": "code",
   "execution_count": null,
   "metadata": {
    "colab": {
     "base_uri": "https://localhost:8080/",
     "height": 423
    },
    "id": "kHa2zAZTAk0X",
    "outputId": "44b1cf15-7837-4ec4-b303-b7c09caa832f"
   },
   "outputs": [
    {
     "data": {
      "text/html": [
       "\n",
       "  <div id=\"df-91325c51-96d9-45ac-b040-e3d6d016433d\">\n",
       "    <div class=\"colab-df-container\">\n",
       "      <div>\n",
       "<style scoped>\n",
       "    .dataframe tbody tr th:only-of-type {\n",
       "        vertical-align: middle;\n",
       "    }\n",
       "\n",
       "    .dataframe tbody tr th {\n",
       "        vertical-align: top;\n",
       "    }\n",
       "\n",
       "    .dataframe thead th {\n",
       "        text-align: right;\n",
       "    }\n",
       "</style>\n",
       "<table border=\"1\" class=\"dataframe\">\n",
       "  <thead>\n",
       "    <tr style=\"text-align: right;\">\n",
       "      <th></th>\n",
       "      <th>text</th>\n",
       "    </tr>\n",
       "  </thead>\n",
       "  <tbody>\n",
       "    <tr>\n",
       "      <th>0</th>\n",
       "      <td>the mahabharataofkrishna dwaipayana vyasabooka...</td>\n",
       "    </tr>\n",
       "    <tr>\n",
       "      <th>1</th>\n",
       "      <td>proofed at distributed proofing  juliet suther...</td>\n",
       "    </tr>\n",
       "    <tr>\n",
       "      <th>2</th>\n",
       "      <td>additional proofing and formatting at sacred t...</td>\n",
       "    </tr>\n",
       "    <tr>\n",
       "      <th>3</th>\n",
       "      <td>that being so  his chief duty is to represent ...</td>\n",
       "    </tr>\n",
       "    <tr>\n",
       "      <th>4</th>\n",
       "      <td>in regard to translations from the sanskrit  n...</td>\n",
       "    </tr>\n",
       "    <tr>\n",
       "      <th>...</th>\n",
       "      <td>...</td>\n",
       "    </tr>\n",
       "    <tr>\n",
       "      <th>124010</th>\n",
       "      <td>after concluding a recitation of the bharata  ...</td>\n",
       "    </tr>\n",
       "    <tr>\n",
       "      <th>124011</th>\n",
       "      <td>i have thus  o chief of men  told everything ...</td>\n",
       "    </tr>\n",
       "    <tr>\n",
       "      <th>124012</th>\n",
       "      <td>he that listens with devotion to this bharata ...</td>\n",
       "    </tr>\n",
       "    <tr>\n",
       "      <th>124013</th>\n",
       "      <td>destroying all his sins like the maker of day ...</td>\n",
       "    </tr>\n",
       "    <tr>\n",
       "      <th>124014</th>\n",
       "      <td>the end of the svargarohanika parvathe eighte...</td>\n",
       "    </tr>\n",
       "  </tbody>\n",
       "</table>\n",
       "<p>124015 rows × 1 columns</p>\n",
       "</div>\n",
       "      <button class=\"colab-df-convert\" onclick=\"convertToInteractive('df-91325c51-96d9-45ac-b040-e3d6d016433d')\"\n",
       "              title=\"Convert this dataframe to an interactive table.\"\n",
       "              style=\"display:none;\">\n",
       "        \n",
       "  <svg xmlns=\"http://www.w3.org/2000/svg\" height=\"24px\"viewBox=\"0 0 24 24\"\n",
       "       width=\"24px\">\n",
       "    <path d=\"M0 0h24v24H0V0z\" fill=\"none\"/>\n",
       "    <path d=\"M18.56 5.44l.94 2.06.94-2.06 2.06-.94-2.06-.94-.94-2.06-.94 2.06-2.06.94zm-11 1L8.5 8.5l.94-2.06 2.06-.94-2.06-.94L8.5 2.5l-.94 2.06-2.06.94zm10 10l.94 2.06.94-2.06 2.06-.94-2.06-.94-.94-2.06-.94 2.06-2.06.94z\"/><path d=\"M17.41 7.96l-1.37-1.37c-.4-.4-.92-.59-1.43-.59-.52 0-1.04.2-1.43.59L10.3 9.45l-7.72 7.72c-.78.78-.78 2.05 0 2.83L4 21.41c.39.39.9.59 1.41.59.51 0 1.02-.2 1.41-.59l7.78-7.78 2.81-2.81c.8-.78.8-2.07 0-2.86zM5.41 20L4 18.59l7.72-7.72 1.47 1.35L5.41 20z\"/>\n",
       "  </svg>\n",
       "      </button>\n",
       "      \n",
       "  <style>\n",
       "    .colab-df-container {\n",
       "      display:flex;\n",
       "      flex-wrap:wrap;\n",
       "      gap: 12px;\n",
       "    }\n",
       "\n",
       "    .colab-df-convert {\n",
       "      background-color: #E8F0FE;\n",
       "      border: none;\n",
       "      border-radius: 50%;\n",
       "      cursor: pointer;\n",
       "      display: none;\n",
       "      fill: #1967D2;\n",
       "      height: 32px;\n",
       "      padding: 0 0 0 0;\n",
       "      width: 32px;\n",
       "    }\n",
       "\n",
       "    .colab-df-convert:hover {\n",
       "      background-color: #E2EBFA;\n",
       "      box-shadow: 0px 1px 2px rgba(60, 64, 67, 0.3), 0px 1px 3px 1px rgba(60, 64, 67, 0.15);\n",
       "      fill: #174EA6;\n",
       "    }\n",
       "\n",
       "    [theme=dark] .colab-df-convert {\n",
       "      background-color: #3B4455;\n",
       "      fill: #D2E3FC;\n",
       "    }\n",
       "\n",
       "    [theme=dark] .colab-df-convert:hover {\n",
       "      background-color: #434B5C;\n",
       "      box-shadow: 0px 1px 3px 1px rgba(0, 0, 0, 0.15);\n",
       "      filter: drop-shadow(0px 1px 2px rgba(0, 0, 0, 0.3));\n",
       "      fill: #FFFFFF;\n",
       "    }\n",
       "  </style>\n",
       "\n",
       "      <script>\n",
       "        const buttonEl =\n",
       "          document.querySelector('#df-91325c51-96d9-45ac-b040-e3d6d016433d button.colab-df-convert');\n",
       "        buttonEl.style.display =\n",
       "          google.colab.kernel.accessAllowed ? 'block' : 'none';\n",
       "\n",
       "        async function convertToInteractive(key) {\n",
       "          const element = document.querySelector('#df-91325c51-96d9-45ac-b040-e3d6d016433d');\n",
       "          const dataTable =\n",
       "            await google.colab.kernel.invokeFunction('convertToInteractive',\n",
       "                                                     [key], {});\n",
       "          if (!dataTable) return;\n",
       "\n",
       "          const docLinkHtml = 'Like what you see? Visit the ' +\n",
       "            '<a target=\"_blank\" href=https://colab.research.google.com/notebooks/data_table.ipynb>data table notebook</a>'\n",
       "            + ' to learn more about interactive tables.';\n",
       "          element.innerHTML = '';\n",
       "          dataTable['output_type'] = 'display_data';\n",
       "          await google.colab.output.renderOutput(dataTable, element);\n",
       "          const docLink = document.createElement('div');\n",
       "          docLink.innerHTML = docLinkHtml;\n",
       "          element.appendChild(docLink);\n",
       "        }\n",
       "      </script>\n",
       "    </div>\n",
       "  </div>\n",
       "  "
      ],
      "text/plain": [
       "                                                     text\n",
       "0       the mahabharataofkrishna dwaipayana vyasabooka...\n",
       "1       proofed at distributed proofing  juliet suther...\n",
       "2       additional proofing and formatting at sacred t...\n",
       "3       that being so  his chief duty is to represent ...\n",
       "4       in regard to translations from the sanskrit  n...\n",
       "...                                                   ...\n",
       "124010  after concluding a recitation of the bharata  ...\n",
       "124011   i have thus  o chief of men  told everything ...\n",
       "124012  he that listens with devotion to this bharata ...\n",
       "124013  destroying all his sins like the maker of day ...\n",
       "124014   the end of the svargarohanika parvathe eighte...\n",
       "\n",
       "[124015 rows x 1 columns]"
      ]
     },
     "execution_count": 12,
     "metadata": {},
     "output_type": "execute_result"
    }
   ],
   "source": [
    "df"
   ]
  },
  {
   "cell_type": "code",
   "execution_count": null,
   "metadata": {
    "id": "x8j4a4ApAwqc"
   },
   "outputs": [],
   "source": [
    "df.to_csv(\"preprocessedMB.csv\")"
   ]
  },
  {
   "cell_type": "markdown",
   "metadata": {
    "id": "zx7q5ni-PUS7"
   },
   "source": [
    "#Create the GloVe Model"
   ]
  },
  {
   "cell_type": "markdown",
   "metadata": {
    "id": "oMpjn-q-xQ8Q"
   },
   "source": [
    "The corpus.fit() takes two arguments:\n",
    "\n",
    "1.   lines — text after pre-processing\n",
    "2.   window — context window"
   ]
  },
  {
   "cell_type": "code",
   "execution_count": null,
   "metadata": {
    "id": "b2TasH1ZhjYf"
   },
   "outputs": [],
   "source": [
    "corpus = Corpus() #Corpus Object\n",
    "\n",
    "#create the co-occurrence matrix for text data with respect to a context window\n",
    "corpus.fit(sent, window=10)\n",
    "\n",
    "##corpus --> co-occ Mat\n"
   ]
  },
  {
   "cell_type": "markdown",
   "metadata": {
    "id": "c3MTghTIyA0l"
   },
   "source": [
    "The Glove() constructor takes \n",
    "\n",
    "1.   no_of_components — size of the word vectors that are created\n",
    "2.   learning_rate - machine learning parameter - learning rate\n"
   ]
  },
  {
   "cell_type": "code",
   "execution_count": null,
   "metadata": {
    "id": "0cOmO4gFw7dr"
   },
   "outputs": [],
   "source": [
    "#Golve object\n",
    "glove = Glove(no_components=25) #size of vectors"
   ]
  },
  {
   "cell_type": "markdown",
   "metadata": {
    "id": "dFelg3MpzO-_"
   },
   "source": [
    "The glove.fit() takes:\n",
    "\n",
    "1.   cooccurence_matrix: the matrix of word-word co-occurrences\n",
    "2.   epochs: number of times the dataset is processed\n",
    "3. no_of_threads: number of threads for parallel processing\n",
    "\n",
    "\n",
    "\n",
    "\n",
    "\n"
   ]
  },
  {
   "cell_type": "code",
   "execution_count": null,
   "metadata": {
    "colab": {
     "base_uri": "https://localhost:8080/"
    },
    "id": "mThpLOJ6zPfh",
    "outputId": "8100e776-e365-4cc4-deca-161147bdef96"
   },
   "outputs": [
    {
     "data": {
      "text/plain": [
       "81.33157062530518"
      ]
     },
     "execution_count": 23,
     "metadata": {},
     "output_type": "execute_result"
    }
   ],
   "source": [
    "#only once\n",
    "import time\n",
    "start = time.time()\n",
    "glove.fit(corpus.matrix, epochs=50, no_threads=4)## co-occ --> word embeddings\n",
    "glove.add_dictionary(corpus.dictionary)\n",
    "glove.save('glove.model')\n",
    "end = time.time()\n",
    "end-start"
   ]
  },
  {
   "cell_type": "code",
   "execution_count": null,
   "metadata": {
    "colab": {
     "base_uri": "https://localhost:8080/"
    },
    "id": "WgUS7Dh-ibJa",
    "outputId": "80910d49-c882-4ac1-d6aa-bb71678e4822"
   },
   "outputs": [
    {
     "data": {
      "text/plain": [
       "32138"
      ]
     },
     "execution_count": 18,
     "metadata": {},
     "output_type": "execute_result"
    }
   ],
   "source": [
    "len(corpus.dictionary)"
   ]
  },
  {
   "cell_type": "code",
   "execution_count": null,
   "metadata": {
    "colab": {
     "base_uri": "https://localhost:8080/"
    },
    "id": "NCS9J5YSiigV",
    "outputId": "3f1207f3-016b-4ed1-d88c-48fd42b7f6b7"
   },
   "outputs": [
    {
     "data": {
      "text/plain": [
       "array([-2.91807084e-01, -3.32005124e-01,  6.31997769e-01,  3.15874387e-01,\n",
       "       -4.37353848e-01,  4.29821910e-01,  2.06571078e-01, -4.75993005e-01,\n",
       "        1.26553917e-01,  3.15851696e-01, -1.14847048e-01, -3.36544164e-01,\n",
       "        3.74548087e-01, -4.00699518e-01,  3.25098067e-01,  1.77077153e-01,\n",
       "        3.27180602e-01, -1.06984117e-01,  8.65871184e-02, -3.92025700e-01,\n",
       "       -3.34928644e-01,  3.06306652e-01,  2.10976822e-01,  3.01185689e-01,\n",
       "       -3.56836091e-01,  3.19020071e-01,  2.49654421e-01,  7.08883638e-05,\n",
       "        4.45357491e-01,  2.19307910e-01])"
      ]
     },
     "execution_count": 24,
     "metadata": {},
     "output_type": "execute_result"
    }
   ],
   "source": [
    "glove.word_vectors[glove.dictionary['krishna']]"
   ]
  },
  {
   "cell_type": "code",
   "execution_count": null,
   "metadata": {
    "colab": {
     "base_uri": "https://localhost:8080/"
    },
    "id": "lI4DLoOmmle2",
    "outputId": "70eecf97-ffe0-4a4d-d884-1ece1e38f86a"
   },
   "outputs": [
    {
     "data": {
      "text/plain": [
       "[('monarch', 0.919001331817927),\n",
       " ('yudhishthira', 0.9077564337658728),\n",
       " ('duryodhana', 0.9036964223178245),\n",
       " ('then', 0.8693812108159769)]"
      ]
     },
     "execution_count": 38,
     "metadata": {},
     "output_type": "execute_result"
    }
   ],
   "source": [
    "glove.most_similar('king')"
   ]
  },
  {
   "cell_type": "code",
   "execution_count": null,
   "metadata": {
    "id": "UPdkHYx3Swkk"
   },
   "outputs": [],
   "source": [
    "D = {word: glove.word_vectors[glove.dictionary[word]] for word in glove.dictionary.keys()}"
   ]
  },
  {
   "cell_type": "code",
   "execution_count": null,
   "metadata": {
    "id": "4SPIO6yxpfuj"
   },
   "outputs": [],
   "source": [
    "#D"
   ]
  },
  {
   "cell_type": "code",
   "execution_count": null,
   "metadata": {
    "colab": {
     "base_uri": "https://localhost:8080/"
    },
    "id": "Fw2pXpVSS2YY",
    "outputId": "8b5fdd31-ad99-408a-9774-0f70fde45f47"
   },
   "outputs": [
    {
     "data": {
      "text/plain": [
       "array([-0.20000414, -0.15423234,  0.37347789,  0.33541933, -0.39752285,\n",
       "        0.38975892,  0.43145379, -0.62951984,  0.0075359 ,  0.54347898,\n",
       "       -0.32503328, -0.14352344,  0.25301757, -0.27988916,  0.35260083,\n",
       "        0.34029142,  0.32079188, -0.11034939, -0.17756282, -0.19393753,\n",
       "       -0.50417504,  0.13132983,  0.39275059,  0.6866579 , -0.2537895 ,\n",
       "        0.73260225,  0.29672534,  0.27533914,  0.44794031,  0.1618586 ])"
      ]
     },
     "execution_count": 28,
     "metadata": {},
     "output_type": "execute_result"
    }
   ],
   "source": [
    "D['arjuna']"
   ]
  },
  {
   "cell_type": "code",
   "execution_count": null,
   "metadata": {
    "id": "sK3KdQGzvmdx"
   },
   "outputs": [],
   "source": [
    "import pandas as pd\n",
    "df = pd.DataFrame(D)"
   ]
  },
  {
   "cell_type": "code",
   "execution_count": null,
   "metadata": {
    "id": "uNKJAjr4wGA9"
   },
   "outputs": [],
   "source": [
    "df = df.transpose()"
   ]
  },
  {
   "cell_type": "code",
   "execution_count": null,
   "metadata": {
    "colab": {
     "base_uri": "https://localhost:8080/",
     "height": 740
    },
    "id": "8h4rP0hswPPE",
    "outputId": "42bec3b0-8b54-42aa-8208-7237e3cf6888"
   },
   "outputs": [
    {
     "data": {
      "text/html": [
       "\n",
       "  <div id=\"df-ab893d45-f6fe-4318-b921-d836e98a6fda\">\n",
       "    <div class=\"colab-df-container\">\n",
       "      <div>\n",
       "<style scoped>\n",
       "    .dataframe tbody tr th:only-of-type {\n",
       "        vertical-align: middle;\n",
       "    }\n",
       "\n",
       "    .dataframe tbody tr th {\n",
       "        vertical-align: top;\n",
       "    }\n",
       "\n",
       "    .dataframe thead th {\n",
       "        text-align: right;\n",
       "    }\n",
       "</style>\n",
       "<table border=\"1\" class=\"dataframe\">\n",
       "  <thead>\n",
       "    <tr style=\"text-align: right;\">\n",
       "      <th></th>\n",
       "      <th>0</th>\n",
       "      <th>1</th>\n",
       "      <th>2</th>\n",
       "      <th>3</th>\n",
       "      <th>4</th>\n",
       "      <th>5</th>\n",
       "      <th>6</th>\n",
       "      <th>7</th>\n",
       "      <th>8</th>\n",
       "      <th>9</th>\n",
       "      <th>10</th>\n",
       "      <th>11</th>\n",
       "      <th>12</th>\n",
       "      <th>13</th>\n",
       "      <th>14</th>\n",
       "      <th>15</th>\n",
       "      <th>16</th>\n",
       "      <th>17</th>\n",
       "      <th>18</th>\n",
       "      <th>19</th>\n",
       "      <th>20</th>\n",
       "      <th>21</th>\n",
       "      <th>22</th>\n",
       "      <th>23</th>\n",
       "      <th>24</th>\n",
       "      <th>25</th>\n",
       "      <th>26</th>\n",
       "      <th>27</th>\n",
       "      <th>28</th>\n",
       "      <th>29</th>\n",
       "    </tr>\n",
       "  </thead>\n",
       "  <tbody>\n",
       "    <tr>\n",
       "      <th>yuvaraja</th>\n",
       "      <td>-0.090175</td>\n",
       "      <td>0.173788</td>\n",
       "      <td>-0.060620</td>\n",
       "      <td>-0.087723</td>\n",
       "      <td>0.042508</td>\n",
       "      <td>-0.110741</td>\n",
       "      <td>-0.148258</td>\n",
       "      <td>0.072733</td>\n",
       "      <td>-0.112113</td>\n",
       "      <td>-0.027217</td>\n",
       "      <td>0.168409</td>\n",
       "      <td>0.060113</td>\n",
       "      <td>0.035432</td>\n",
       "      <td>0.003615</td>\n",
       "      <td>-0.099589</td>\n",
       "      <td>-0.098474</td>\n",
       "      <td>-0.125295</td>\n",
       "      <td>0.099536</td>\n",
       "      <td>-0.117080</td>\n",
       "      <td>0.092391</td>\n",
       "      <td>0.178871</td>\n",
       "      <td>0.025299</td>\n",
       "      <td>-0.091153</td>\n",
       "      <td>-0.027803</td>\n",
       "      <td>0.041369</td>\n",
       "      <td>-0.206632</td>\n",
       "      <td>-0.075993</td>\n",
       "      <td>-0.092921</td>\n",
       "      <td>-0.112651</td>\n",
       "      <td>-0.085806</td>\n",
       "    </tr>\n",
       "    <tr>\n",
       "      <th>devah</th>\n",
       "      <td>-0.148272</td>\n",
       "      <td>0.094555</td>\n",
       "      <td>-0.034239</td>\n",
       "      <td>-0.088128</td>\n",
       "      <td>0.059334</td>\n",
       "      <td>-0.093166</td>\n",
       "      <td>-0.070045</td>\n",
       "      <td>0.051504</td>\n",
       "      <td>-0.142437</td>\n",
       "      <td>-0.002115</td>\n",
       "      <td>0.099959</td>\n",
       "      <td>0.087284</td>\n",
       "      <td>0.053985</td>\n",
       "      <td>0.016580</td>\n",
       "      <td>-0.123098</td>\n",
       "      <td>-0.086289</td>\n",
       "      <td>-0.119443</td>\n",
       "      <td>0.106606</td>\n",
       "      <td>-0.160906</td>\n",
       "      <td>0.077136</td>\n",
       "      <td>0.107124</td>\n",
       "      <td>0.049420</td>\n",
       "      <td>0.069180</td>\n",
       "      <td>-0.027654</td>\n",
       "      <td>0.024024</td>\n",
       "      <td>-0.083068</td>\n",
       "      <td>-0.033574</td>\n",
       "      <td>-0.113328</td>\n",
       "      <td>-0.123192</td>\n",
       "      <td>-0.072658</td>\n",
       "    </tr>\n",
       "    <tr>\n",
       "      <th>inclinations</th>\n",
       "      <td>0.132576</td>\n",
       "      <td>0.091669</td>\n",
       "      <td>-0.088153</td>\n",
       "      <td>0.130952</td>\n",
       "      <td>-0.041467</td>\n",
       "      <td>-0.001004</td>\n",
       "      <td>-0.168067</td>\n",
       "      <td>0.108301</td>\n",
       "      <td>-0.075147</td>\n",
       "      <td>-0.123997</td>\n",
       "      <td>0.119734</td>\n",
       "      <td>-0.101322</td>\n",
       "      <td>-0.243224</td>\n",
       "      <td>-0.199557</td>\n",
       "      <td>-0.128331</td>\n",
       "      <td>0.069724</td>\n",
       "      <td>-0.053246</td>\n",
       "      <td>-0.001616</td>\n",
       "      <td>0.043575</td>\n",
       "      <td>-0.069553</td>\n",
       "      <td>0.006491</td>\n",
       "      <td>0.166651</td>\n",
       "      <td>0.068408</td>\n",
       "      <td>-0.050124</td>\n",
       "      <td>-0.204322</td>\n",
       "      <td>-0.209814</td>\n",
       "      <td>0.086402</td>\n",
       "      <td>0.216513</td>\n",
       "      <td>0.038111</td>\n",
       "      <td>-0.035231</td>\n",
       "    </tr>\n",
       "    <tr>\n",
       "      <th>yajus</th>\n",
       "      <td>0.074357</td>\n",
       "      <td>0.207149</td>\n",
       "      <td>0.054827</td>\n",
       "      <td>-0.288221</td>\n",
       "      <td>0.059290</td>\n",
       "      <td>0.008097</td>\n",
       "      <td>-0.057913</td>\n",
       "      <td>0.036143</td>\n",
       "      <td>-0.097000</td>\n",
       "      <td>-0.091508</td>\n",
       "      <td>0.120186</td>\n",
       "      <td>-0.013024</td>\n",
       "      <td>0.375026</td>\n",
       "      <td>0.216188</td>\n",
       "      <td>0.076051</td>\n",
       "      <td>0.029874</td>\n",
       "      <td>-0.054954</td>\n",
       "      <td>-0.046785</td>\n",
       "      <td>-0.153614</td>\n",
       "      <td>0.001973</td>\n",
       "      <td>0.050956</td>\n",
       "      <td>0.253311</td>\n",
       "      <td>0.042961</td>\n",
       "      <td>-0.244153</td>\n",
       "      <td>0.081546</td>\n",
       "      <td>-0.147467</td>\n",
       "      <td>-0.227786</td>\n",
       "      <td>0.172118</td>\n",
       "      <td>-0.001505</td>\n",
       "      <td>-0.003467</td>\n",
       "    </tr>\n",
       "    <tr>\n",
       "      <th>carefulness</th>\n",
       "      <td>0.082717</td>\n",
       "      <td>0.017598</td>\n",
       "      <td>-0.059997</td>\n",
       "      <td>0.076102</td>\n",
       "      <td>0.081508</td>\n",
       "      <td>-0.128355</td>\n",
       "      <td>-0.158020</td>\n",
       "      <td>0.131366</td>\n",
       "      <td>-0.218814</td>\n",
       "      <td>-0.081270</td>\n",
       "      <td>0.158615</td>\n",
       "      <td>0.113827</td>\n",
       "      <td>0.071927</td>\n",
       "      <td>0.170103</td>\n",
       "      <td>-0.160403</td>\n",
       "      <td>-0.204639</td>\n",
       "      <td>-0.180102</td>\n",
       "      <td>0.186638</td>\n",
       "      <td>-0.147061</td>\n",
       "      <td>0.163140</td>\n",
       "      <td>0.205324</td>\n",
       "      <td>-0.093402</td>\n",
       "      <td>0.017638</td>\n",
       "      <td>0.058605</td>\n",
       "      <td>0.091549</td>\n",
       "      <td>-0.084055</td>\n",
       "      <td>-0.103020</td>\n",
       "      <td>-0.002785</td>\n",
       "      <td>-0.225888</td>\n",
       "      <td>-0.086627</td>\n",
       "    </tr>\n",
       "    <tr>\n",
       "      <th>dharmarayana</th>\n",
       "      <td>-0.059540</td>\n",
       "      <td>0.093488</td>\n",
       "      <td>-0.083270</td>\n",
       "      <td>-0.046643</td>\n",
       "      <td>0.096761</td>\n",
       "      <td>-0.128482</td>\n",
       "      <td>-0.132529</td>\n",
       "      <td>0.139134</td>\n",
       "      <td>-0.059030</td>\n",
       "      <td>-0.038529</td>\n",
       "      <td>0.105993</td>\n",
       "      <td>0.084021</td>\n",
       "      <td>-0.000304</td>\n",
       "      <td>0.011583</td>\n",
       "      <td>-0.115119</td>\n",
       "      <td>-0.119034</td>\n",
       "      <td>-0.129980</td>\n",
       "      <td>0.139830</td>\n",
       "      <td>-0.081319</td>\n",
       "      <td>0.103443</td>\n",
       "      <td>0.136812</td>\n",
       "      <td>0.018951</td>\n",
       "      <td>-0.015566</td>\n",
       "      <td>0.039744</td>\n",
       "      <td>0.044977</td>\n",
       "      <td>-0.099056</td>\n",
       "      <td>-0.033423</td>\n",
       "      <td>-0.044085</td>\n",
       "      <td>-0.132494</td>\n",
       "      <td>-0.093020</td>\n",
       "    </tr>\n",
       "    <tr>\n",
       "      <th>dhatu</th>\n",
       "      <td>-0.101304</td>\n",
       "      <td>0.040685</td>\n",
       "      <td>-0.082835</td>\n",
       "      <td>0.046168</td>\n",
       "      <td>0.101298</td>\n",
       "      <td>-0.132230</td>\n",
       "      <td>-0.096962</td>\n",
       "      <td>0.114962</td>\n",
       "      <td>-0.059808</td>\n",
       "      <td>0.029630</td>\n",
       "      <td>0.051836</td>\n",
       "      <td>0.108415</td>\n",
       "      <td>0.045431</td>\n",
       "      <td>-0.036280</td>\n",
       "      <td>-0.108607</td>\n",
       "      <td>-0.122019</td>\n",
       "      <td>-0.118801</td>\n",
       "      <td>0.117372</td>\n",
       "      <td>-0.092043</td>\n",
       "      <td>0.136140</td>\n",
       "      <td>0.132405</td>\n",
       "      <td>-0.010769</td>\n",
       "      <td>0.006021</td>\n",
       "      <td>0.067204</td>\n",
       "      <td>0.089360</td>\n",
       "      <td>-0.068971</td>\n",
       "      <td>-0.017847</td>\n",
       "      <td>-0.102586</td>\n",
       "      <td>-0.146375</td>\n",
       "      <td>-0.113471</td>\n",
       "    </tr>\n",
       "    <tr>\n",
       "      <th>corroborated</th>\n",
       "      <td>-0.080390</td>\n",
       "      <td>0.085070</td>\n",
       "      <td>-0.126881</td>\n",
       "      <td>-0.072137</td>\n",
       "      <td>0.111810</td>\n",
       "      <td>-0.132046</td>\n",
       "      <td>-0.130534</td>\n",
       "      <td>0.132503</td>\n",
       "      <td>-0.130037</td>\n",
       "      <td>-0.019299</td>\n",
       "      <td>0.089463</td>\n",
       "      <td>0.122312</td>\n",
       "      <td>0.056974</td>\n",
       "      <td>0.048796</td>\n",
       "      <td>-0.113326</td>\n",
       "      <td>-0.141167</td>\n",
       "      <td>-0.131897</td>\n",
       "      <td>0.108509</td>\n",
       "      <td>-0.181657</td>\n",
       "      <td>0.163493</td>\n",
       "      <td>0.158380</td>\n",
       "      <td>-0.028679</td>\n",
       "      <td>-0.046763</td>\n",
       "      <td>-0.004251</td>\n",
       "      <td>0.059727</td>\n",
       "      <td>-0.137927</td>\n",
       "      <td>-0.059150</td>\n",
       "      <td>-0.126832</td>\n",
       "      <td>-0.164884</td>\n",
       "      <td>-0.100149</td>\n",
       "    </tr>\n",
       "    <tr>\n",
       "      <th>confident</th>\n",
       "      <td>0.204229</td>\n",
       "      <td>-0.020032</td>\n",
       "      <td>0.029914</td>\n",
       "      <td>-0.048278</td>\n",
       "      <td>0.052110</td>\n",
       "      <td>-0.089547</td>\n",
       "      <td>-0.056434</td>\n",
       "      <td>0.143117</td>\n",
       "      <td>-0.008825</td>\n",
       "      <td>-0.104845</td>\n",
       "      <td>0.096173</td>\n",
       "      <td>0.090288</td>\n",
       "      <td>-0.045591</td>\n",
       "      <td>0.022414</td>\n",
       "      <td>-0.003666</td>\n",
       "      <td>-0.120635</td>\n",
       "      <td>-0.142906</td>\n",
       "      <td>0.093067</td>\n",
       "      <td>-0.114709</td>\n",
       "      <td>0.125198</td>\n",
       "      <td>0.085968</td>\n",
       "      <td>0.127019</td>\n",
       "      <td>-0.022304</td>\n",
       "      <td>-0.237611</td>\n",
       "      <td>0.208408</td>\n",
       "      <td>-0.111387</td>\n",
       "      <td>0.016275</td>\n",
       "      <td>0.042068</td>\n",
       "      <td>-0.107131</td>\n",
       "      <td>-0.161583</td>\n",
       "    </tr>\n",
       "    <tr>\n",
       "      <th>mrityu</th>\n",
       "      <td>-0.033972</td>\n",
       "      <td>-0.198969</td>\n",
       "      <td>0.236953</td>\n",
       "      <td>-0.396861</td>\n",
       "      <td>-0.162922</td>\n",
       "      <td>0.095630</td>\n",
       "      <td>-0.264257</td>\n",
       "      <td>-0.043606</td>\n",
       "      <td>-0.238580</td>\n",
       "      <td>-0.192751</td>\n",
       "      <td>0.250104</td>\n",
       "      <td>-0.071270</td>\n",
       "      <td>0.363494</td>\n",
       "      <td>-0.198736</td>\n",
       "      <td>-0.163597</td>\n",
       "      <td>0.012363</td>\n",
       "      <td>-0.039439</td>\n",
       "      <td>0.089712</td>\n",
       "      <td>-0.213322</td>\n",
       "      <td>-0.171284</td>\n",
       "      <td>0.015213</td>\n",
       "      <td>0.390443</td>\n",
       "      <td>0.180253</td>\n",
       "      <td>-0.198672</td>\n",
       "      <td>0.109253</td>\n",
       "      <td>0.245038</td>\n",
       "      <td>-0.036233</td>\n",
       "      <td>-0.137464</td>\n",
       "      <td>0.070058</td>\n",
       "      <td>0.091131</td>\n",
       "    </tr>\n",
       "    <tr>\n",
       "      <th>deeply</th>\n",
       "      <td>0.146707</td>\n",
       "      <td>-0.434195</td>\n",
       "      <td>-0.264746</td>\n",
       "      <td>0.327314</td>\n",
       "      <td>-0.238245</td>\n",
       "      <td>0.200610</td>\n",
       "      <td>0.064186</td>\n",
       "      <td>-0.042918</td>\n",
       "      <td>-0.219561</td>\n",
       "      <td>0.415040</td>\n",
       "      <td>-0.204862</td>\n",
       "      <td>0.414731</td>\n",
       "      <td>0.297013</td>\n",
       "      <td>0.220982</td>\n",
       "      <td>0.283486</td>\n",
       "      <td>0.250000</td>\n",
       "      <td>0.020194</td>\n",
       "      <td>-0.343295</td>\n",
       "      <td>-0.586708</td>\n",
       "      <td>0.102464</td>\n",
       "      <td>-0.028597</td>\n",
       "      <td>0.141232</td>\n",
       "      <td>0.336423</td>\n",
       "      <td>0.577783</td>\n",
       "      <td>-0.474488</td>\n",
       "      <td>0.498555</td>\n",
       "      <td>-0.404919</td>\n",
       "      <td>0.322212</td>\n",
       "      <td>0.054392</td>\n",
       "      <td>0.231160</td>\n",
       "    </tr>\n",
       "    <tr>\n",
       "      <th>valaki</th>\n",
       "      <td>-0.133726</td>\n",
       "      <td>0.081335</td>\n",
       "      <td>-0.113498</td>\n",
       "      <td>0.049302</td>\n",
       "      <td>0.049417</td>\n",
       "      <td>-0.101830</td>\n",
       "      <td>-0.036524</td>\n",
       "      <td>0.075110</td>\n",
       "      <td>0.004210</td>\n",
       "      <td>0.055058</td>\n",
       "      <td>0.031271</td>\n",
       "      <td>0.068528</td>\n",
       "      <td>-0.020923</td>\n",
       "      <td>0.012401</td>\n",
       "      <td>-0.046082</td>\n",
       "      <td>-0.068882</td>\n",
       "      <td>-0.076771</td>\n",
       "      <td>0.076742</td>\n",
       "      <td>-0.046530</td>\n",
       "      <td>0.112374</td>\n",
       "      <td>0.068563</td>\n",
       "      <td>-0.016820</td>\n",
       "      <td>-0.046138</td>\n",
       "      <td>-0.042151</td>\n",
       "      <td>0.073736</td>\n",
       "      <td>-0.118236</td>\n",
       "      <td>0.009280</td>\n",
       "      <td>-0.106073</td>\n",
       "      <td>-0.107110</td>\n",
       "      <td>-0.061200</td>\n",
       "    </tr>\n",
       "    <tr>\n",
       "      <th>pushavat</th>\n",
       "      <td>-0.013986</td>\n",
       "      <td>0.017156</td>\n",
       "      <td>0.006439</td>\n",
       "      <td>0.000125</td>\n",
       "      <td>-0.010169</td>\n",
       "      <td>0.010484</td>\n",
       "      <td>0.013459</td>\n",
       "      <td>-0.020394</td>\n",
       "      <td>-0.009888</td>\n",
       "      <td>0.001899</td>\n",
       "      <td>0.001436</td>\n",
       "      <td>-0.007632</td>\n",
       "      <td>-0.036801</td>\n",
       "      <td>-0.012967</td>\n",
       "      <td>0.019361</td>\n",
       "      <td>0.014970</td>\n",
       "      <td>0.001715</td>\n",
       "      <td>0.003255</td>\n",
       "      <td>-0.011662</td>\n",
       "      <td>0.000733</td>\n",
       "      <td>-0.017213</td>\n",
       "      <td>-0.021806</td>\n",
       "      <td>0.013704</td>\n",
       "      <td>0.020173</td>\n",
       "      <td>-0.003632</td>\n",
       "      <td>0.002112</td>\n",
       "      <td>-0.019900</td>\n",
       "      <td>-0.039209</td>\n",
       "      <td>-0.009526</td>\n",
       "      <td>-0.009865</td>\n",
       "    </tr>\n",
       "    <tr>\n",
       "      <th>malignant</th>\n",
       "      <td>-0.071069</td>\n",
       "      <td>0.136731</td>\n",
       "      <td>-0.189264</td>\n",
       "      <td>0.020814</td>\n",
       "      <td>0.076528</td>\n",
       "      <td>-0.192065</td>\n",
       "      <td>-0.121352</td>\n",
       "      <td>0.171545</td>\n",
       "      <td>-0.112973</td>\n",
       "      <td>0.029657</td>\n",
       "      <td>0.091405</td>\n",
       "      <td>0.108318</td>\n",
       "      <td>0.084426</td>\n",
       "      <td>0.166593</td>\n",
       "      <td>-0.195141</td>\n",
       "      <td>-0.181423</td>\n",
       "      <td>-0.171072</td>\n",
       "      <td>0.153039</td>\n",
       "      <td>-0.099514</td>\n",
       "      <td>0.200591</td>\n",
       "      <td>0.170743</td>\n",
       "      <td>-0.079553</td>\n",
       "      <td>-0.012907</td>\n",
       "      <td>-0.081220</td>\n",
       "      <td>0.112351</td>\n",
       "      <td>-0.153131</td>\n",
       "      <td>-0.077221</td>\n",
       "      <td>-0.091514</td>\n",
       "      <td>-0.208239</td>\n",
       "      <td>-0.105800</td>\n",
       "    </tr>\n",
       "    <tr>\n",
       "      <th>diadems</th>\n",
       "      <td>0.167021</td>\n",
       "      <td>-0.144268</td>\n",
       "      <td>0.195749</td>\n",
       "      <td>-0.250236</td>\n",
       "      <td>0.030473</td>\n",
       "      <td>0.030370</td>\n",
       "      <td>0.005403</td>\n",
       "      <td>0.062755</td>\n",
       "      <td>-0.096393</td>\n",
       "      <td>-0.168061</td>\n",
       "      <td>0.211265</td>\n",
       "      <td>0.049726</td>\n",
       "      <td>0.083334</td>\n",
       "      <td>-0.158925</td>\n",
       "      <td>-0.046572</td>\n",
       "      <td>0.008048</td>\n",
       "      <td>-0.048125</td>\n",
       "      <td>0.100137</td>\n",
       "      <td>0.032910</td>\n",
       "      <td>-0.068882</td>\n",
       "      <td>0.001970</td>\n",
       "      <td>-0.072993</td>\n",
       "      <td>0.140165</td>\n",
       "      <td>0.235211</td>\n",
       "      <td>-0.131408</td>\n",
       "      <td>0.075009</td>\n",
       "      <td>-0.051555</td>\n",
       "      <td>0.082794</td>\n",
       "      <td>-0.005566</td>\n",
       "      <td>-0.030592</td>\n",
       "    </tr>\n",
       "    <tr>\n",
       "      <th>secrecy</th>\n",
       "      <td>-0.145728</td>\n",
       "      <td>-0.018110</td>\n",
       "      <td>0.030426</td>\n",
       "      <td>0.157927</td>\n",
       "      <td>0.063601</td>\n",
       "      <td>-0.166495</td>\n",
       "      <td>-0.091284</td>\n",
       "      <td>0.107240</td>\n",
       "      <td>-0.001328</td>\n",
       "      <td>-0.006323</td>\n",
       "      <td>-0.087792</td>\n",
       "      <td>-0.029644</td>\n",
       "      <td>-0.008104</td>\n",
       "      <td>0.314029</td>\n",
       "      <td>-0.082282</td>\n",
       "      <td>-0.238740</td>\n",
       "      <td>-0.075890</td>\n",
       "      <td>-0.040949</td>\n",
       "      <td>-0.246103</td>\n",
       "      <td>0.130908</td>\n",
       "      <td>0.096157</td>\n",
       "      <td>-0.033392</td>\n",
       "      <td>-0.223235</td>\n",
       "      <td>-0.098605</td>\n",
       "      <td>-0.036055</td>\n",
       "      <td>-0.018690</td>\n",
       "      <td>0.178496</td>\n",
       "      <td>0.184186</td>\n",
       "      <td>-0.236174</td>\n",
       "      <td>0.139983</td>\n",
       "    </tr>\n",
       "    <tr>\n",
       "      <th>feed</th>\n",
       "      <td>-0.261270</td>\n",
       "      <td>-0.072375</td>\n",
       "      <td>-0.330115</td>\n",
       "      <td>-0.250039</td>\n",
       "      <td>0.124547</td>\n",
       "      <td>0.044031</td>\n",
       "      <td>0.020585</td>\n",
       "      <td>-0.110376</td>\n",
       "      <td>-0.137863</td>\n",
       "      <td>-0.202094</td>\n",
       "      <td>-0.004348</td>\n",
       "      <td>0.090365</td>\n",
       "      <td>0.071950</td>\n",
       "      <td>-0.137775</td>\n",
       "      <td>-0.148367</td>\n",
       "      <td>0.099952</td>\n",
       "      <td>0.068113</td>\n",
       "      <td>-0.012549</td>\n",
       "      <td>0.281564</td>\n",
       "      <td>-0.067619</td>\n",
       "      <td>-0.004406</td>\n",
       "      <td>-0.192454</td>\n",
       "      <td>-0.032976</td>\n",
       "      <td>0.144631</td>\n",
       "      <td>-0.161782</td>\n",
       "      <td>-0.057949</td>\n",
       "      <td>0.075303</td>\n",
       "      <td>0.093250</td>\n",
       "      <td>0.045568</td>\n",
       "      <td>-0.005896</td>\n",
       "    </tr>\n",
       "    <tr>\n",
       "      <th>utsedha</th>\n",
       "      <td>-0.059764</td>\n",
       "      <td>0.040364</td>\n",
       "      <td>-0.100317</td>\n",
       "      <td>0.013993</td>\n",
       "      <td>0.090277</td>\n",
       "      <td>-0.174955</td>\n",
       "      <td>-0.166367</td>\n",
       "      <td>0.177990</td>\n",
       "      <td>-0.101292</td>\n",
       "      <td>-0.014258</td>\n",
       "      <td>0.150403</td>\n",
       "      <td>0.162133</td>\n",
       "      <td>-0.001386</td>\n",
       "      <td>-0.015789</td>\n",
       "      <td>-0.154603</td>\n",
       "      <td>-0.151310</td>\n",
       "      <td>-0.161035</td>\n",
       "      <td>0.211157</td>\n",
       "      <td>-0.069024</td>\n",
       "      <td>0.161673</td>\n",
       "      <td>0.166121</td>\n",
       "      <td>-0.028854</td>\n",
       "      <td>0.071686</td>\n",
       "      <td>0.068446</td>\n",
       "      <td>0.023601</td>\n",
       "      <td>-0.084528</td>\n",
       "      <td>-0.031834</td>\n",
       "      <td>-0.030722</td>\n",
       "      <td>-0.184900</td>\n",
       "      <td>-0.177584</td>\n",
       "    </tr>\n",
       "    <tr>\n",
       "      <th>avoidance</th>\n",
       "      <td>0.163043</td>\n",
       "      <td>0.076668</td>\n",
       "      <td>-0.027600</td>\n",
       "      <td>0.071532</td>\n",
       "      <td>0.039982</td>\n",
       "      <td>-0.070014</td>\n",
       "      <td>-0.124459</td>\n",
       "      <td>0.114464</td>\n",
       "      <td>0.128335</td>\n",
       "      <td>-0.213617</td>\n",
       "      <td>0.098281</td>\n",
       "      <td>0.048626</td>\n",
       "      <td>0.180411</td>\n",
       "      <td>-0.012773</td>\n",
       "      <td>0.035759</td>\n",
       "      <td>-0.016885</td>\n",
       "      <td>-0.077333</td>\n",
       "      <td>0.075991</td>\n",
       "      <td>0.021005</td>\n",
       "      <td>0.048036</td>\n",
       "      <td>0.015186</td>\n",
       "      <td>0.062623</td>\n",
       "      <td>-0.042574</td>\n",
       "      <td>-0.203034</td>\n",
       "      <td>0.123655</td>\n",
       "      <td>-0.038725</td>\n",
       "      <td>-0.022617</td>\n",
       "      <td>0.128959</td>\n",
       "      <td>-0.027935</td>\n",
       "      <td>-0.095696</td>\n",
       "    </tr>\n",
       "    <tr>\n",
       "      <th>take</th>\n",
       "      <td>-0.647091</td>\n",
       "      <td>-0.201388</td>\n",
       "      <td>0.272477</td>\n",
       "      <td>-0.435722</td>\n",
       "      <td>0.051965</td>\n",
       "      <td>0.453687</td>\n",
       "      <td>0.290495</td>\n",
       "      <td>-0.395401</td>\n",
       "      <td>0.549219</td>\n",
       "      <td>-0.430082</td>\n",
       "      <td>-0.434590</td>\n",
       "      <td>-0.391115</td>\n",
       "      <td>-0.661450</td>\n",
       "      <td>-0.456041</td>\n",
       "      <td>-0.129765</td>\n",
       "      <td>-0.202800</td>\n",
       "      <td>0.554433</td>\n",
       "      <td>-0.464653</td>\n",
       "      <td>0.576670</td>\n",
       "      <td>-0.290311</td>\n",
       "      <td>-0.207020</td>\n",
       "      <td>-0.220044</td>\n",
       "      <td>0.549721</td>\n",
       "      <td>0.120647</td>\n",
       "      <td>0.648215</td>\n",
       "      <td>-0.100517</td>\n",
       "      <td>0.202190</td>\n",
       "      <td>-0.151416</td>\n",
       "      <td>0.429079</td>\n",
       "      <td>0.567878</td>\n",
       "    </tr>\n",
       "  </tbody>\n",
       "</table>\n",
       "</div>\n",
       "      <button class=\"colab-df-convert\" onclick=\"convertToInteractive('df-ab893d45-f6fe-4318-b921-d836e98a6fda')\"\n",
       "              title=\"Convert this dataframe to an interactive table.\"\n",
       "              style=\"display:none;\">\n",
       "        \n",
       "  <svg xmlns=\"http://www.w3.org/2000/svg\" height=\"24px\"viewBox=\"0 0 24 24\"\n",
       "       width=\"24px\">\n",
       "    <path d=\"M0 0h24v24H0V0z\" fill=\"none\"/>\n",
       "    <path d=\"M18.56 5.44l.94 2.06.94-2.06 2.06-.94-2.06-.94-.94-2.06-.94 2.06-2.06.94zm-11 1L8.5 8.5l.94-2.06 2.06-.94-2.06-.94L8.5 2.5l-.94 2.06-2.06.94zm10 10l.94 2.06.94-2.06 2.06-.94-2.06-.94-.94-2.06-.94 2.06-2.06.94z\"/><path d=\"M17.41 7.96l-1.37-1.37c-.4-.4-.92-.59-1.43-.59-.52 0-1.04.2-1.43.59L10.3 9.45l-7.72 7.72c-.78.78-.78 2.05 0 2.83L4 21.41c.39.39.9.59 1.41.59.51 0 1.02-.2 1.41-.59l7.78-7.78 2.81-2.81c.8-.78.8-2.07 0-2.86zM5.41 20L4 18.59l7.72-7.72 1.47 1.35L5.41 20z\"/>\n",
       "  </svg>\n",
       "      </button>\n",
       "      \n",
       "  <style>\n",
       "    .colab-df-container {\n",
       "      display:flex;\n",
       "      flex-wrap:wrap;\n",
       "      gap: 12px;\n",
       "    }\n",
       "\n",
       "    .colab-df-convert {\n",
       "      background-color: #E8F0FE;\n",
       "      border: none;\n",
       "      border-radius: 50%;\n",
       "      cursor: pointer;\n",
       "      display: none;\n",
       "      fill: #1967D2;\n",
       "      height: 32px;\n",
       "      padding: 0 0 0 0;\n",
       "      width: 32px;\n",
       "    }\n",
       "\n",
       "    .colab-df-convert:hover {\n",
       "      background-color: #E2EBFA;\n",
       "      box-shadow: 0px 1px 2px rgba(60, 64, 67, 0.3), 0px 1px 3px 1px rgba(60, 64, 67, 0.15);\n",
       "      fill: #174EA6;\n",
       "    }\n",
       "\n",
       "    [theme=dark] .colab-df-convert {\n",
       "      background-color: #3B4455;\n",
       "      fill: #D2E3FC;\n",
       "    }\n",
       "\n",
       "    [theme=dark] .colab-df-convert:hover {\n",
       "      background-color: #434B5C;\n",
       "      box-shadow: 0px 1px 3px 1px rgba(0, 0, 0, 0.15);\n",
       "      filter: drop-shadow(0px 1px 2px rgba(0, 0, 0, 0.3));\n",
       "      fill: #FFFFFF;\n",
       "    }\n",
       "  </style>\n",
       "\n",
       "      <script>\n",
       "        const buttonEl =\n",
       "          document.querySelector('#df-ab893d45-f6fe-4318-b921-d836e98a6fda button.colab-df-convert');\n",
       "        buttonEl.style.display =\n",
       "          google.colab.kernel.accessAllowed ? 'block' : 'none';\n",
       "\n",
       "        async function convertToInteractive(key) {\n",
       "          const element = document.querySelector('#df-ab893d45-f6fe-4318-b921-d836e98a6fda');\n",
       "          const dataTable =\n",
       "            await google.colab.kernel.invokeFunction('convertToInteractive',\n",
       "                                                     [key], {});\n",
       "          if (!dataTable) return;\n",
       "\n",
       "          const docLinkHtml = 'Like what you see? Visit the ' +\n",
       "            '<a target=\"_blank\" href=https://colab.research.google.com/notebooks/data_table.ipynb>data table notebook</a>'\n",
       "            + ' to learn more about interactive tables.';\n",
       "          element.innerHTML = '';\n",
       "          dataTable['output_type'] = 'display_data';\n",
       "          await google.colab.output.renderOutput(dataTable, element);\n",
       "          const docLink = document.createElement('div');\n",
       "          docLink.innerHTML = docLinkHtml;\n",
       "          element.appendChild(docLink);\n",
       "        }\n",
       "      </script>\n",
       "    </div>\n",
       "  </div>\n",
       "  "
      ],
      "text/plain": [
       "                    0         1         2   ...        27        28        29\n",
       "yuvaraja     -0.090175  0.173788 -0.060620  ... -0.092921 -0.112651 -0.085806\n",
       "devah        -0.148272  0.094555 -0.034239  ... -0.113328 -0.123192 -0.072658\n",
       "inclinations  0.132576  0.091669 -0.088153  ...  0.216513  0.038111 -0.035231\n",
       "yajus         0.074357  0.207149  0.054827  ...  0.172118 -0.001505 -0.003467\n",
       "carefulness   0.082717  0.017598 -0.059997  ... -0.002785 -0.225888 -0.086627\n",
       "dharmarayana -0.059540  0.093488 -0.083270  ... -0.044085 -0.132494 -0.093020\n",
       "dhatu        -0.101304  0.040685 -0.082835  ... -0.102586 -0.146375 -0.113471\n",
       "corroborated -0.080390  0.085070 -0.126881  ... -0.126832 -0.164884 -0.100149\n",
       "confident     0.204229 -0.020032  0.029914  ...  0.042068 -0.107131 -0.161583\n",
       "mrityu       -0.033972 -0.198969  0.236953  ... -0.137464  0.070058  0.091131\n",
       "deeply        0.146707 -0.434195 -0.264746  ...  0.322212  0.054392  0.231160\n",
       "valaki       -0.133726  0.081335 -0.113498  ... -0.106073 -0.107110 -0.061200\n",
       "pushavat     -0.013986  0.017156  0.006439  ... -0.039209 -0.009526 -0.009865\n",
       "malignant    -0.071069  0.136731 -0.189264  ... -0.091514 -0.208239 -0.105800\n",
       "diadems       0.167021 -0.144268  0.195749  ...  0.082794 -0.005566 -0.030592\n",
       "secrecy      -0.145728 -0.018110  0.030426  ...  0.184186 -0.236174  0.139983\n",
       "feed         -0.261270 -0.072375 -0.330115  ...  0.093250  0.045568 -0.005896\n",
       "utsedha      -0.059764  0.040364 -0.100317  ... -0.030722 -0.184900 -0.177584\n",
       "avoidance     0.163043  0.076668 -0.027600  ...  0.128959 -0.027935 -0.095696\n",
       "take         -0.647091 -0.201388  0.272477  ... -0.151416  0.429079  0.567878\n",
       "\n",
       "[20 rows x 30 columns]"
      ]
     },
     "execution_count": 31,
     "metadata": {},
     "output_type": "execute_result"
    }
   ],
   "source": [
    "df.sample(20)"
   ]
  },
  {
   "cell_type": "code",
   "execution_count": null,
   "metadata": {
    "id": "5NkqOdiOwZGG"
   },
   "outputs": [],
   "source": [
    "df.to_csv('mb_golve.csv')"
   ]
  },
  {
   "cell_type": "markdown",
   "metadata": {
    "id": "MKfwjyBRTIlN"
   },
   "source": [
    "Save the dictionary to file and follow the same process as used in pre-trained model"
   ]
  }
 ],
 "metadata": {
  "accelerator": "GPU",
  "colab": {
   "collapsed_sections": [],
   "name": "GloVe_MB_Corpus.ipynb",
   "provenance": []
  },
  "kernelspec": {
   "display_name": "Python 3",
   "language": "python",
   "name": "python3"
  },
  "language_info": {
   "codemirror_mode": {
    "name": "ipython",
    "version": 3
   },
   "file_extension": ".py",
   "mimetype": "text/x-python",
   "name": "python",
   "nbconvert_exporter": "python",
   "pygments_lexer": "ipython3",
   "version": "3.8.3"
  }
 },
 "nbformat": 4,
 "nbformat_minor": 4
}
