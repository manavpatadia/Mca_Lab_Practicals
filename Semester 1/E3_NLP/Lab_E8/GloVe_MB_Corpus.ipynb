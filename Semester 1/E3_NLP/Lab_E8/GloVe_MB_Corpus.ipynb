{
 "cells": [
  {
   "cell_type": "markdown",
   "metadata": {
    "id": "hxrP0Xftjlzr"
   },
   "source": [
    "# GloVe\n",
    "You may find an implemention of GloVe here:\n",
    "\n",
    "https://pypi.org/project/glove-python-binary/ - must be used in the Python 3.5 and above\n",
    "\n",
    "https://github.com/maciejkula/glove-python\n",
    "\n",
    "\n",
    "Ref:\n",
    "\n",
    "https://medium.com/analytics-vidhya/word-vectorization-using-glove-76919685ee0b"
   ]
  },
  {
   "cell_type": "code",
   "execution_count": 1,
   "metadata": {
    "colab": {
     "base_uri": "https://localhost:8080/"
    },
    "id": "LaoUD2eBhZjW",
    "outputId": "18a89df3-e094-4e21-9955-d3c0444cdb8a"
   },
   "outputs": [],
   "source": [
    "#pip install glove-python-binary"
   ]
  },
  {
   "cell_type": "markdown",
   "metadata": {
    "id": "n9jlAfN1rbUy"
   },
   "source": [
    "#There two major tasks in GloVe\n",
    "\n",
    "*   creating a co-occurrence matrix from the corpus, \n",
    "*   using it to produce the embeddings\n",
    "\n",
    "#These are achieved by two classes:\n",
    "\n",
    "1.   Corpus :  Given a corpus, it constructs vocabulary and co-occurrence matrix\n",
    "\n",
    "2.   Glove : trains the embeddings\n",
    "\n"
   ]
  },
  {
   "cell_type": "code",
   "execution_count": 2,
   "metadata": {
    "id": "wh456IjlyYJ4"
   },
   "outputs": [],
   "source": [
    "from glove import Corpus, Glove\n",
    "import re\n",
    "import glob\n",
    "from nltk.tokenize import sent_tokenize\n",
    "import string"
   ]
  },
  {
   "cell_type": "markdown",
   "metadata": {
    "id": "dSvTvyY9PCEZ"
   },
   "source": [
    "#Pre-processing Functions"
   ]
  },
  {
   "cell_type": "code",
   "execution_count": 3,
   "metadata": {
    "colab": {
     "base_uri": "https://localhost:8080/"
    },
    "id": "f4SbSvN7lgHb",
    "outputId": "44c536f0-cf07-4210-dc94-ad5813c32295"
   },
   "outputs": [],
   "source": [
    "#%run /content/gdrive/MyDrive/NLP2022/Text_Representation/preprocess.ipynb"
   ]
  },
  {
   "cell_type": "code",
   "execution_count": 4,
   "metadata": {},
   "outputs": [],
   "source": [
    "def preprocess(lines):\n",
    "    lines = lines.lower()\n",
    "    lines = lines.replace('\\n',' ')\n",
    "    lines = lines.replace(\"-\",\" \")\n",
    "    p = string.punctuation.replace(\".\",\"\")\n",
    "    lines = lines.translate(str.maketrans('', '', p))\n",
    "    lines = sent_tokenize(lines)\n",
    "    lines = list(filter(None, lines))\n",
    "    return lines"
   ]
  },
  {
   "cell_type": "markdown",
   "metadata": {
    "id": "KgPrgX83PJWa"
   },
   "source": [
    "#Load Corpus"
   ]
  },
  {
   "cell_type": "code",
   "execution_count": 5,
   "metadata": {
    "id": "5pYh3Zm5t2Oi"
   },
   "outputs": [
    {
     "data": {
      "text/plain": [
       "['C:\\\\spark\\\\MCA\\\\Semester1\\\\E3_NLP\\\\Lab_E8\\\\mahabharat_english\\\\maha01.txt',\n",
       " 'C:\\\\spark\\\\MCA\\\\Semester1\\\\E3_NLP\\\\Lab_E8\\\\mahabharat_english\\\\maha02.txt',\n",
       " 'C:\\\\spark\\\\MCA\\\\Semester1\\\\E3_NLP\\\\Lab_E8\\\\mahabharat_english\\\\maha03.txt',\n",
       " 'C:\\\\spark\\\\MCA\\\\Semester1\\\\E3_NLP\\\\Lab_E8\\\\mahabharat_english\\\\maha04.txt',\n",
       " 'C:\\\\spark\\\\MCA\\\\Semester1\\\\E3_NLP\\\\Lab_E8\\\\mahabharat_english\\\\maha05.txt',\n",
       " 'C:\\\\spark\\\\MCA\\\\Semester1\\\\E3_NLP\\\\Lab_E8\\\\mahabharat_english\\\\maha06.txt',\n",
       " 'C:\\\\spark\\\\MCA\\\\Semester1\\\\E3_NLP\\\\Lab_E8\\\\mahabharat_english\\\\maha07.txt',\n",
       " 'C:\\\\spark\\\\MCA\\\\Semester1\\\\E3_NLP\\\\Lab_E8\\\\mahabharat_english\\\\maha08.txt',\n",
       " 'C:\\\\spark\\\\MCA\\\\Semester1\\\\E3_NLP\\\\Lab_E8\\\\mahabharat_english\\\\maha09.txt',\n",
       " 'C:\\\\spark\\\\MCA\\\\Semester1\\\\E3_NLP\\\\Lab_E8\\\\mahabharat_english\\\\maha10.txt',\n",
       " 'C:\\\\spark\\\\MCA\\\\Semester1\\\\E3_NLP\\\\Lab_E8\\\\mahabharat_english\\\\maha11.txt',\n",
       " 'C:\\\\spark\\\\MCA\\\\Semester1\\\\E3_NLP\\\\Lab_E8\\\\mahabharat_english\\\\maha12.txt',\n",
       " 'C:\\\\spark\\\\MCA\\\\Semester1\\\\E3_NLP\\\\Lab_E8\\\\mahabharat_english\\\\maha13.txt',\n",
       " 'C:\\\\spark\\\\MCA\\\\Semester1\\\\E3_NLP\\\\Lab_E8\\\\mahabharat_english\\\\maha14.txt',\n",
       " 'C:\\\\spark\\\\MCA\\\\Semester1\\\\E3_NLP\\\\Lab_E8\\\\mahabharat_english\\\\maha15.txt',\n",
       " 'C:\\\\spark\\\\MCA\\\\Semester1\\\\E3_NLP\\\\Lab_E8\\\\mahabharat_english\\\\maha16.txt',\n",
       " 'C:\\\\spark\\\\MCA\\\\Semester1\\\\E3_NLP\\\\Lab_E8\\\\mahabharat_english\\\\maha17.txt',\n",
       " 'C:\\\\spark\\\\MCA\\\\Semester1\\\\E3_NLP\\\\Lab_E8\\\\mahabharat_english\\\\maha18.txt']"
      ]
     },
     "execution_count": 5,
     "metadata": {},
     "output_type": "execute_result"
    }
   ],
   "source": [
    "path = r'C:\\spark\\MCA\\Semester1\\E3_NLP\\Lab_E8\\mahabharat_english\\\\*'\n",
    "list_file = glob.glob(path)\n",
    "list_file"
   ]
  },
  {
   "cell_type": "code",
   "execution_count": 6,
   "metadata": {
    "id": "8q0p7rHUnxMq"
   },
   "outputs": [],
   "source": [
    "#The Mahabharata corpus is taken form the following website:\n",
    "#https://www.sacred-texts.com/hin/maha/ \n",
    "data=[]\n",
    "n=19 #18 Texts of Mahabharatha\n",
    "for file_path in list_file:\n",
    "    file = open(file_path)\n",
    "    lines = file.read()\n",
    "    doc = lines\n",
    "    doc = preprocess(lines)\n",
    "    data.append(doc)"
   ]
  },
  {
   "cell_type": "code",
   "execution_count": 7,
   "metadata": {
    "colab": {
     "base_uri": "https://localhost:8080/"
    },
    "id": "VM11Fvln-nQM",
    "outputId": "84b87c1d-87fa-4687-f663-3786ef48ddf2"
   },
   "outputs": [
    {
     "data": {
      "text/plain": [
       "18"
      ]
     },
     "execution_count": 7,
     "metadata": {},
     "output_type": "execute_result"
    }
   ],
   "source": [
    "len(data)"
   ]
  },
  {
   "cell_type": "code",
   "execution_count": 8,
   "metadata": {
    "colab": {
     "base_uri": "https://localhost:8080/"
    },
    "id": "Pw1GTCYUlg8G",
    "outputId": "e0758207-e293-43c5-e54d-36a872d386d4"
   },
   "outputs": [],
   "source": [
    "sent= []\n",
    "text =[]\n",
    "for doc in data:\n",
    "    for s in doc:\n",
    "        sent.append(s.split()) \n",
    "        text.append(s)"
   ]
  },
  {
   "cell_type": "code",
   "execution_count": 9,
   "metadata": {},
   "outputs": [
    {
     "name": "stdout",
     "output_type": "stream",
     "text": [
      "114760\n",
      "['prativindhya', 'by', 'yudhishthira', 'sutasoma', 'by', 'vrikodara', 'srutakarman', 'by', 'arjuna', 'satanika', 'by', 'nakula', 'and', 'srutasena', 'by', 'sahadeva', 'these', 'were', 'the', 'five', 'heroes', 'and', 'great', 'warriors', 'that', 'panchali', 'brought', 'forth', 'like', 'aditi', 'bringing', 'forth', 'the', 'adityas.']\n"
     ]
    }
   ],
   "source": [
    "print(len(sent))\n",
    "print(sent[10000])"
   ]
  },
  {
   "cell_type": "code",
   "execution_count": 10,
   "metadata": {
    "colab": {
     "base_uri": "https://localhost:8080/"
    },
    "id": "s2bwEGA__kwc",
    "outputId": "c8fce1e3-4b2a-42ea-e4ac-85f906165b8c"
   },
   "outputs": [
    {
     "data": {
      "text/plain": [
       "list"
      ]
     },
     "execution_count": 10,
     "metadata": {},
     "output_type": "execute_result"
    }
   ],
   "source": [
    "type(text)"
   ]
  },
  {
   "cell_type": "code",
   "execution_count": 11,
   "metadata": {
    "id": "4UIbvJLL_Pkn"
   },
   "outputs": [],
   "source": [
    "import pandas as pd\n",
    "df = pd.DataFrame(text,columns=[\"text\"])"
   ]
  },
  {
   "cell_type": "code",
   "execution_count": 12,
   "metadata": {
    "colab": {
     "base_uri": "https://localhost:8080/",
     "height": 423
    },
    "id": "kHa2zAZTAk0X",
    "outputId": "44b1cf15-7837-4ec4-b303-b7c09caa832f"
   },
   "outputs": [
    {
     "data": {
      "text/html": [
       "<div>\n",
       "<style scoped>\n",
       "    .dataframe tbody tr th:only-of-type {\n",
       "        vertical-align: middle;\n",
       "    }\n",
       "\n",
       "    .dataframe tbody tr th {\n",
       "        vertical-align: top;\n",
       "    }\n",
       "\n",
       "    .dataframe thead th {\n",
       "        text-align: right;\n",
       "    }\n",
       "</style>\n",
       "<table border=\"1\" class=\"dataframe\">\n",
       "  <thead>\n",
       "    <tr style=\"text-align: right;\">\n",
       "      <th></th>\n",
       "      <th>text</th>\n",
       "    </tr>\n",
       "  </thead>\n",
       "  <tbody>\n",
       "    <tr>\n",
       "      <th>0</th>\n",
       "      <td>the mahabharata  of  krishna dwaipayana vy...</td>\n",
       "    </tr>\n",
       "    <tr>\n",
       "      <th>1</th>\n",
       "      <td>additional proofing and formatting at sacred t...</td>\n",
       "    </tr>\n",
       "    <tr>\n",
       "      <th>2</th>\n",
       "      <td>translators preface  the object of a translato...</td>\n",
       "    </tr>\n",
       "    <tr>\n",
       "      <th>3</th>\n",
       "      <td>that being so his chief duty is to represent s...</td>\n",
       "    </tr>\n",
       "    <tr>\n",
       "      <th>4</th>\n",
       "      <td>in regard to translations from the sanskrit no...</td>\n",
       "    </tr>\n",
       "    <tr>\n",
       "      <th>...</th>\n",
       "      <td>...</td>\n",
       "    </tr>\n",
       "    <tr>\n",
       "      <th>114755</th>\n",
       "      <td>after concluding a recitation of the bharata o...</td>\n",
       "    </tr>\n",
       "    <tr>\n",
       "      <th>114756</th>\n",
       "      <td>i have thus o chief of men told everything in ...</td>\n",
       "    </tr>\n",
       "    <tr>\n",
       "      <th>114757</th>\n",
       "      <td>he that listens with devotion to this bharata ...</td>\n",
       "    </tr>\n",
       "    <tr>\n",
       "      <th>114758</th>\n",
       "      <td>destroying all his sins like the maker of day ...</td>\n",
       "    </tr>\n",
       "    <tr>\n",
       "      <th>114759</th>\n",
       "      <td>the end of the svargarohanika parva  the eight...</td>\n",
       "    </tr>\n",
       "  </tbody>\n",
       "</table>\n",
       "<p>114760 rows × 1 columns</p>\n",
       "</div>"
      ],
      "text/plain": [
       "                                                     text\n",
       "0           the mahabharata  of  krishna dwaipayana vy...\n",
       "1       additional proofing and formatting at sacred t...\n",
       "2       translators preface  the object of a translato...\n",
       "3       that being so his chief duty is to represent s...\n",
       "4       in regard to translations from the sanskrit no...\n",
       "...                                                   ...\n",
       "114755  after concluding a recitation of the bharata o...\n",
       "114756  i have thus o chief of men told everything in ...\n",
       "114757  he that listens with devotion to this bharata ...\n",
       "114758  destroying all his sins like the maker of day ...\n",
       "114759  the end of the svargarohanika parva  the eight...\n",
       "\n",
       "[114760 rows x 1 columns]"
      ]
     },
     "execution_count": 12,
     "metadata": {},
     "output_type": "execute_result"
    }
   ],
   "source": [
    "df"
   ]
  },
  {
   "cell_type": "code",
   "execution_count": 13,
   "metadata": {},
   "outputs": [
    {
     "name": "stdout",
     "output_type": "stream",
     "text": [
      "<class 'pandas.core.frame.DataFrame'>\n",
      "RangeIndex: 114760 entries, 0 to 114759\n",
      "Data columns (total 1 columns):\n",
      " #   Column  Non-Null Count   Dtype \n",
      "---  ------  --------------   ----- \n",
      " 0   text    114760 non-null  object\n",
      "dtypes: object(1)\n",
      "memory usage: 896.7+ KB\n"
     ]
    }
   ],
   "source": [
    "df.info()"
   ]
  },
  {
   "cell_type": "code",
   "execution_count": 14,
   "metadata": {
    "id": "x8j4a4ApAwqc"
   },
   "outputs": [],
   "source": [
    "df.to_csv(\"preprocessedMB.csv\")"
   ]
  },
  {
   "cell_type": "markdown",
   "metadata": {
    "id": "zx7q5ni-PUS7"
   },
   "source": [
    "#Create the GloVe Model"
   ]
  },
  {
   "cell_type": "markdown",
   "metadata": {
    "id": "oMpjn-q-xQ8Q"
   },
   "source": [
    "The corpus.fit() takes two arguments:\n",
    "\n",
    "1.   lines — text after pre-processing\n",
    "2.   window — context window"
   ]
  },
  {
   "cell_type": "code",
   "execution_count": 15,
   "metadata": {
    "id": "b2TasH1ZhjYf"
   },
   "outputs": [],
   "source": [
    "corpus = Corpus() #Corpus Object\n",
    "\n",
    "#create the co-occurrence matrix for text data with respect to a context window\n",
    "corpus.fit(sent, window=10)\n",
    "\n",
    "##corpus --> co-occ Mat\n"
   ]
  },
  {
   "cell_type": "markdown",
   "metadata": {
    "id": "c3MTghTIyA0l"
   },
   "source": [
    "The Glove() constructor takes \n",
    "\n",
    "1.   no_of_components — size of the word vectors that are created\n",
    "2.   learning_rate - machine learning parameter - learning rate\n"
   ]
  },
  {
   "cell_type": "code",
   "execution_count": 16,
   "metadata": {
    "id": "0cOmO4gFw7dr"
   },
   "outputs": [],
   "source": [
    "#Golve object\n",
    "glove = Glove(no_components=25) #size of vectors"
   ]
  },
  {
   "cell_type": "markdown",
   "metadata": {
    "id": "dFelg3MpzO-_"
   },
   "source": [
    "The glove.fit() takes:\n",
    "\n",
    "1.   cooccurence_matrix: the matrix of word-word co-occurrences\n",
    "2.   epochs: number of times the dataset is processed\n",
    "3. no_of_threads: number of threads for parallel processing\n",
    "\n",
    "\n",
    "\n",
    "\n",
    "\n"
   ]
  },
  {
   "cell_type": "code",
   "execution_count": 17,
   "metadata": {
    "colab": {
     "base_uri": "https://localhost:8080/"
    },
    "id": "mThpLOJ6zPfh",
    "outputId": "8100e776-e365-4cc4-deca-161147bdef96"
   },
   "outputs": [
    {
     "data": {
      "text/plain": [
       "94.24503970146179"
      ]
     },
     "execution_count": 17,
     "metadata": {},
     "output_type": "execute_result"
    }
   ],
   "source": [
    "#only once\n",
    "import time\n",
    "start = time.time()\n",
    "glove.fit(corpus.matrix, epochs=50, no_threads=4)## co-occ --> word embeddings\n",
    "glove.add_dictionary(corpus.dictionary)\n",
    "glove.save('glove.model')\n",
    "end = time.time()\n",
    "end-start"
   ]
  },
  {
   "cell_type": "code",
   "execution_count": 18,
   "metadata": {
    "colab": {
     "base_uri": "https://localhost:8080/"
    },
    "id": "WgUS7Dh-ibJa",
    "outputId": "80910d49-c882-4ac1-d6aa-bb71678e4822"
   },
   "outputs": [
    {
     "data": {
      "text/plain": [
       "46791"
      ]
     },
     "execution_count": 18,
     "metadata": {},
     "output_type": "execute_result"
    }
   ],
   "source": [
    "len(corpus.dictionary)"
   ]
  },
  {
   "cell_type": "code",
   "execution_count": 19,
   "metadata": {
    "colab": {
     "base_uri": "https://localhost:8080/"
    },
    "id": "NCS9J5YSiigV",
    "outputId": "3f1207f3-016b-4ed1-d88c-48fd42b7f6b7"
   },
   "outputs": [
    {
     "data": {
      "text/plain": [
       "array([ 0.4778509 ,  0.14773281,  0.39837043, -0.3770924 , -0.28766537,\n",
       "       -0.17131281, -0.41354778, -0.40933758,  0.47970575, -0.30716545,\n",
       "        0.49147569, -0.53670212, -0.31391455, -0.35042678, -0.3389083 ,\n",
       "       -0.28259091,  0.45590131, -0.12468991, -0.317167  ,  0.24706167,\n",
       "        0.51958547, -0.14584829, -0.50549949, -0.18544229,  0.40084348])"
      ]
     },
     "execution_count": 19,
     "metadata": {},
     "output_type": "execute_result"
    }
   ],
   "source": [
    "glove.word_vectors[glove.dictionary['krishna']]"
   ]
  },
  {
   "cell_type": "code",
   "execution_count": 20,
   "metadata": {
    "colab": {
     "base_uri": "https://localhost:8080/"
    },
    "id": "lI4DLoOmmle2",
    "outputId": "70eecf97-ffe0-4a4d-d884-1ece1e38f86a"
   },
   "outputs": [
    {
     "data": {
      "text/plain": [
       "[('monarch', 0.9555552304184208),\n",
       " ('duryodhana', 0.9433193661788369),\n",
       " ('yudhishthira', 0.9222028845148091),\n",
       " ('bharata', 0.903510897698654)]"
      ]
     },
     "execution_count": 20,
     "metadata": {},
     "output_type": "execute_result"
    }
   ],
   "source": [
    "glove.most_similar('king')"
   ]
  },
  {
   "cell_type": "code",
   "execution_count": 21,
   "metadata": {
    "id": "UPdkHYx3Swkk"
   },
   "outputs": [],
   "source": [
    "D = {word: glove.word_vectors[glove.dictionary[word]] for word in glove.dictionary.keys()}"
   ]
  },
  {
   "cell_type": "code",
   "execution_count": 22,
   "metadata": {
    "id": "4SPIO6yxpfuj"
   },
   "outputs": [],
   "source": [
    "#D"
   ]
  },
  {
   "cell_type": "code",
   "execution_count": 23,
   "metadata": {
    "colab": {
     "base_uri": "https://localhost:8080/"
    },
    "id": "Fw2pXpVSS2YY",
    "outputId": "8b5fdd31-ad99-408a-9774-0f70fde45f47"
   },
   "outputs": [
    {
     "data": {
      "text/plain": [
       "array([ 0.57699267,  0.36621157,  0.55405507, -0.56335129, -0.0650611 ,\n",
       "        0.10685475, -0.81364381, -0.46516488,  0.30973729, -0.09798152,\n",
       "        0.54853518, -0.39354963, -0.20064745, -0.40925738, -0.36333385,\n",
       "       -0.15747619,  0.34456326, -0.00810636, -0.36407946,  0.4957972 ,\n",
       "        0.50644452, -0.11737984, -0.25802467,  0.33445719,  0.42122452])"
      ]
     },
     "execution_count": 23,
     "metadata": {},
     "output_type": "execute_result"
    }
   ],
   "source": [
    "D['arjuna']"
   ]
  },
  {
   "cell_type": "code",
   "execution_count": 24,
   "metadata": {
    "id": "sK3KdQGzvmdx"
   },
   "outputs": [],
   "source": [
    "import pandas as pd\n",
    "df = pd.DataFrame(D)"
   ]
  },
  {
   "cell_type": "code",
   "execution_count": 25,
   "metadata": {
    "id": "uNKJAjr4wGA9"
   },
   "outputs": [],
   "source": [
    "df = df.transpose()"
   ]
  },
  {
   "cell_type": "code",
   "execution_count": 26,
   "metadata": {
    "colab": {
     "base_uri": "https://localhost:8080/",
     "height": 740
    },
    "id": "8h4rP0hswPPE",
    "outputId": "42bec3b0-8b54-42aa-8208-7237e3cf6888"
   },
   "outputs": [
    {
     "data": {
      "text/html": [
       "<div>\n",
       "<style scoped>\n",
       "    .dataframe tbody tr th:only-of-type {\n",
       "        vertical-align: middle;\n",
       "    }\n",
       "\n",
       "    .dataframe tbody tr th {\n",
       "        vertical-align: top;\n",
       "    }\n",
       "\n",
       "    .dataframe thead th {\n",
       "        text-align: right;\n",
       "    }\n",
       "</style>\n",
       "<table border=\"1\" class=\"dataframe\">\n",
       "  <thead>\n",
       "    <tr style=\"text-align: right;\">\n",
       "      <th></th>\n",
       "      <th>0</th>\n",
       "      <th>1</th>\n",
       "      <th>2</th>\n",
       "      <th>3</th>\n",
       "      <th>4</th>\n",
       "      <th>5</th>\n",
       "      <th>6</th>\n",
       "      <th>7</th>\n",
       "      <th>8</th>\n",
       "      <th>9</th>\n",
       "      <th>...</th>\n",
       "      <th>15</th>\n",
       "      <th>16</th>\n",
       "      <th>17</th>\n",
       "      <th>18</th>\n",
       "      <th>19</th>\n",
       "      <th>20</th>\n",
       "      <th>21</th>\n",
       "      <th>22</th>\n",
       "      <th>23</th>\n",
       "      <th>24</th>\n",
       "    </tr>\n",
       "  </thead>\n",
       "  <tbody>\n",
       "    <tr>\n",
       "      <th>yavana</th>\n",
       "      <td>-0.044939</td>\n",
       "      <td>-0.095258</td>\n",
       "      <td>-0.097646</td>\n",
       "      <td>0.180051</td>\n",
       "      <td>0.155797</td>\n",
       "      <td>-0.285886</td>\n",
       "      <td>0.059299</td>\n",
       "      <td>0.037465</td>\n",
       "      <td>-0.097905</td>\n",
       "      <td>0.029441</td>\n",
       "      <td>...</td>\n",
       "      <td>0.160152</td>\n",
       "      <td>-0.062681</td>\n",
       "      <td>0.117120</td>\n",
       "      <td>0.064040</td>\n",
       "      <td>-0.063518</td>\n",
       "      <td>0.027999</td>\n",
       "      <td>0.211050</td>\n",
       "      <td>-0.068955</td>\n",
       "      <td>0.048399</td>\n",
       "      <td>-0.102791</td>\n",
       "    </tr>\n",
       "    <tr>\n",
       "      <th>exquisite</th>\n",
       "      <td>0.015490</td>\n",
       "      <td>-0.183916</td>\n",
       "      <td>0.122078</td>\n",
       "      <td>0.182846</td>\n",
       "      <td>-0.101313</td>\n",
       "      <td>-0.044686</td>\n",
       "      <td>0.161934</td>\n",
       "      <td>0.073581</td>\n",
       "      <td>-0.185812</td>\n",
       "      <td>0.103931</td>\n",
       "      <td>...</td>\n",
       "      <td>0.200986</td>\n",
       "      <td>-0.018348</td>\n",
       "      <td>0.254180</td>\n",
       "      <td>0.063273</td>\n",
       "      <td>-0.041993</td>\n",
       "      <td>0.055287</td>\n",
       "      <td>-0.043401</td>\n",
       "      <td>-0.003465</td>\n",
       "      <td>0.192534</td>\n",
       "      <td>-0.074508</td>\n",
       "    </tr>\n",
       "    <tr>\n",
       "      <th>pratisrotas</th>\n",
       "      <td>-0.098649</td>\n",
       "      <td>-0.110395</td>\n",
       "      <td>0.056684</td>\n",
       "      <td>0.071223</td>\n",
       "      <td>0.065958</td>\n",
       "      <td>-0.041973</td>\n",
       "      <td>-0.008777</td>\n",
       "      <td>0.153775</td>\n",
       "      <td>-0.054653</td>\n",
       "      <td>0.132646</td>\n",
       "      <td>...</td>\n",
       "      <td>0.042309</td>\n",
       "      <td>-0.102647</td>\n",
       "      <td>0.056865</td>\n",
       "      <td>0.154739</td>\n",
       "      <td>-0.124225</td>\n",
       "      <td>-0.100677</td>\n",
       "      <td>-0.025158</td>\n",
       "      <td>0.035445</td>\n",
       "      <td>0.066316</td>\n",
       "      <td>-0.118231</td>\n",
       "    </tr>\n",
       "    <tr>\n",
       "      <th>dlxviii</th>\n",
       "      <td>-0.121528</td>\n",
       "      <td>-0.103558</td>\n",
       "      <td>0.021556</td>\n",
       "      <td>0.148777</td>\n",
       "      <td>0.088002</td>\n",
       "      <td>-0.046783</td>\n",
       "      <td>-0.112970</td>\n",
       "      <td>0.161060</td>\n",
       "      <td>-0.034530</td>\n",
       "      <td>0.165765</td>\n",
       "      <td>...</td>\n",
       "      <td>-0.043224</td>\n",
       "      <td>-0.087877</td>\n",
       "      <td>0.079167</td>\n",
       "      <td>0.172218</td>\n",
       "      <td>-0.117246</td>\n",
       "      <td>-0.105481</td>\n",
       "      <td>-0.099671</td>\n",
       "      <td>0.021953</td>\n",
       "      <td>0.013451</td>\n",
       "      <td>-0.124036</td>\n",
       "    </tr>\n",
       "    <tr>\n",
       "      <th>abandoning</th>\n",
       "      <td>0.044545</td>\n",
       "      <td>0.167809</td>\n",
       "      <td>-0.262169</td>\n",
       "      <td>-0.176397</td>\n",
       "      <td>0.061550</td>\n",
       "      <td>-0.158869</td>\n",
       "      <td>-0.174720</td>\n",
       "      <td>-0.247173</td>\n",
       "      <td>0.126836</td>\n",
       "      <td>-0.296499</td>\n",
       "      <td>...</td>\n",
       "      <td>-0.032308</td>\n",
       "      <td>0.075540</td>\n",
       "      <td>0.095868</td>\n",
       "      <td>-0.246085</td>\n",
       "      <td>0.372745</td>\n",
       "      <td>0.087675</td>\n",
       "      <td>-0.103422</td>\n",
       "      <td>-0.135601</td>\n",
       "      <td>0.175592</td>\n",
       "      <td>0.288789</td>\n",
       "    </tr>\n",
       "    <tr>\n",
       "      <th>thirsty</th>\n",
       "      <td>-0.041761</td>\n",
       "      <td>0.065411</td>\n",
       "      <td>0.354773</td>\n",
       "      <td>-0.024130</td>\n",
       "      <td>-0.004028</td>\n",
       "      <td>0.020350</td>\n",
       "      <td>0.389434</td>\n",
       "      <td>-0.065159</td>\n",
       "      <td>0.099365</td>\n",
       "      <td>0.099425</td>\n",
       "      <td>...</td>\n",
       "      <td>0.151063</td>\n",
       "      <td>0.155451</td>\n",
       "      <td>0.116534</td>\n",
       "      <td>-0.082610</td>\n",
       "      <td>0.020003</td>\n",
       "      <td>0.081936</td>\n",
       "      <td>-0.147600</td>\n",
       "      <td>-0.141729</td>\n",
       "      <td>-0.067208</td>\n",
       "      <td>0.133219</td>\n",
       "    </tr>\n",
       "    <tr>\n",
       "      <th>1661.</th>\n",
       "      <td>-0.012340</td>\n",
       "      <td>-0.042875</td>\n",
       "      <td>0.020202</td>\n",
       "      <td>0.023086</td>\n",
       "      <td>0.016774</td>\n",
       "      <td>-0.040143</td>\n",
       "      <td>0.019340</td>\n",
       "      <td>0.027904</td>\n",
       "      <td>-0.000577</td>\n",
       "      <td>0.029923</td>\n",
       "      <td>...</td>\n",
       "      <td>-0.004301</td>\n",
       "      <td>-0.006840</td>\n",
       "      <td>0.017760</td>\n",
       "      <td>0.038821</td>\n",
       "      <td>-0.006405</td>\n",
       "      <td>-0.040565</td>\n",
       "      <td>0.040636</td>\n",
       "      <td>-0.000530</td>\n",
       "      <td>0.065142</td>\n",
       "      <td>-0.007408</td>\n",
       "    </tr>\n",
       "    <tr>\n",
       "      <th>karambhas</th>\n",
       "      <td>-0.092690</td>\n",
       "      <td>-0.078799</td>\n",
       "      <td>0.077762</td>\n",
       "      <td>0.117036</td>\n",
       "      <td>0.090188</td>\n",
       "      <td>0.012267</td>\n",
       "      <td>-0.082311</td>\n",
       "      <td>0.085237</td>\n",
       "      <td>-0.097816</td>\n",
       "      <td>0.098873</td>\n",
       "      <td>...</td>\n",
       "      <td>0.016286</td>\n",
       "      <td>-0.100723</td>\n",
       "      <td>-0.056833</td>\n",
       "      <td>0.097675</td>\n",
       "      <td>-0.118214</td>\n",
       "      <td>-0.087055</td>\n",
       "      <td>-0.062048</td>\n",
       "      <td>-0.013202</td>\n",
       "      <td>0.006834</td>\n",
       "      <td>-0.074448</td>\n",
       "    </tr>\n",
       "    <tr>\n",
       "      <th>yogis</th>\n",
       "      <td>-0.068003</td>\n",
       "      <td>-0.070920</td>\n",
       "      <td>-0.040563</td>\n",
       "      <td>0.052159</td>\n",
       "      <td>0.038820</td>\n",
       "      <td>0.019839</td>\n",
       "      <td>0.074766</td>\n",
       "      <td>0.139045</td>\n",
       "      <td>-0.030791</td>\n",
       "      <td>0.117465</td>\n",
       "      <td>...</td>\n",
       "      <td>-0.029618</td>\n",
       "      <td>-0.031111</td>\n",
       "      <td>0.092946</td>\n",
       "      <td>0.119906</td>\n",
       "      <td>-0.085155</td>\n",
       "      <td>-0.097439</td>\n",
       "      <td>0.101397</td>\n",
       "      <td>0.040428</td>\n",
       "      <td>-0.051095</td>\n",
       "      <td>-0.157071</td>\n",
       "    </tr>\n",
       "    <tr>\n",
       "      <th>hereto</th>\n",
       "      <td>-0.106055</td>\n",
       "      <td>-0.070734</td>\n",
       "      <td>0.065577</td>\n",
       "      <td>0.132028</td>\n",
       "      <td>0.065903</td>\n",
       "      <td>-0.005411</td>\n",
       "      <td>-0.161460</td>\n",
       "      <td>0.196275</td>\n",
       "      <td>-0.074539</td>\n",
       "      <td>0.088667</td>\n",
       "      <td>...</td>\n",
       "      <td>-0.024514</td>\n",
       "      <td>-0.092012</td>\n",
       "      <td>-0.032896</td>\n",
       "      <td>0.196904</td>\n",
       "      <td>-0.150236</td>\n",
       "      <td>-0.066463</td>\n",
       "      <td>-0.052547</td>\n",
       "      <td>0.002552</td>\n",
       "      <td>-0.061027</td>\n",
       "      <td>-0.174543</td>\n",
       "    </tr>\n",
       "    <tr>\n",
       "      <th>clenching</th>\n",
       "      <td>-0.161375</td>\n",
       "      <td>-0.108246</td>\n",
       "      <td>-0.006997</td>\n",
       "      <td>0.122960</td>\n",
       "      <td>0.119866</td>\n",
       "      <td>-0.028375</td>\n",
       "      <td>-0.029784</td>\n",
       "      <td>0.146397</td>\n",
       "      <td>-0.076502</td>\n",
       "      <td>0.143654</td>\n",
       "      <td>...</td>\n",
       "      <td>-0.068227</td>\n",
       "      <td>-0.137518</td>\n",
       "      <td>-0.011639</td>\n",
       "      <td>0.144569</td>\n",
       "      <td>-0.134157</td>\n",
       "      <td>-0.111545</td>\n",
       "      <td>-0.059945</td>\n",
       "      <td>0.032782</td>\n",
       "      <td>-0.018971</td>\n",
       "      <td>-0.132316</td>\n",
       "    </tr>\n",
       "    <tr>\n",
       "      <th>simultaneity</th>\n",
       "      <td>-0.102594</td>\n",
       "      <td>-0.120223</td>\n",
       "      <td>0.079542</td>\n",
       "      <td>0.127986</td>\n",
       "      <td>0.062655</td>\n",
       "      <td>-0.061393</td>\n",
       "      <td>-0.041015</td>\n",
       "      <td>0.152042</td>\n",
       "      <td>-0.070686</td>\n",
       "      <td>0.136233</td>\n",
       "      <td>...</td>\n",
       "      <td>0.026966</td>\n",
       "      <td>-0.093334</td>\n",
       "      <td>0.037286</td>\n",
       "      <td>0.122365</td>\n",
       "      <td>-0.150215</td>\n",
       "      <td>-0.086264</td>\n",
       "      <td>-0.047834</td>\n",
       "      <td>0.006858</td>\n",
       "      <td>-0.036416</td>\n",
       "      <td>-0.127707</td>\n",
       "    </tr>\n",
       "    <tr>\n",
       "      <th>substitute</th>\n",
       "      <td>-0.008959</td>\n",
       "      <td>0.203360</td>\n",
       "      <td>0.083398</td>\n",
       "      <td>-0.105984</td>\n",
       "      <td>-0.035531</td>\n",
       "      <td>-0.148312</td>\n",
       "      <td>0.297606</td>\n",
       "      <td>0.130342</td>\n",
       "      <td>0.187074</td>\n",
       "      <td>0.026637</td>\n",
       "      <td>...</td>\n",
       "      <td>-0.064728</td>\n",
       "      <td>0.134046</td>\n",
       "      <td>-0.146325</td>\n",
       "      <td>0.180041</td>\n",
       "      <td>-0.183043</td>\n",
       "      <td>-0.049156</td>\n",
       "      <td>-0.028279</td>\n",
       "      <td>0.258618</td>\n",
       "      <td>0.042683</td>\n",
       "      <td>-0.011846</td>\n",
       "    </tr>\n",
       "    <tr>\n",
       "      <th>modifications</th>\n",
       "      <td>-0.028619</td>\n",
       "      <td>0.004375</td>\n",
       "      <td>-0.276346</td>\n",
       "      <td>-0.069238</td>\n",
       "      <td>0.113540</td>\n",
       "      <td>0.019650</td>\n",
       "      <td>0.262365</td>\n",
       "      <td>0.013518</td>\n",
       "      <td>0.035425</td>\n",
       "      <td>-0.152358</td>\n",
       "      <td>...</td>\n",
       "      <td>0.074786</td>\n",
       "      <td>0.036561</td>\n",
       "      <td>0.194029</td>\n",
       "      <td>0.087859</td>\n",
       "      <td>0.142388</td>\n",
       "      <td>0.210287</td>\n",
       "      <td>0.084427</td>\n",
       "      <td>-0.018201</td>\n",
       "      <td>-0.093700</td>\n",
       "      <td>-0.039589</td>\n",
       "    </tr>\n",
       "    <tr>\n",
       "      <th>command.99</th>\n",
       "      <td>-0.145577</td>\n",
       "      <td>-0.114101</td>\n",
       "      <td>0.072441</td>\n",
       "      <td>0.127043</td>\n",
       "      <td>0.094914</td>\n",
       "      <td>0.018214</td>\n",
       "      <td>-0.126297</td>\n",
       "      <td>0.200819</td>\n",
       "      <td>-0.095980</td>\n",
       "      <td>0.108411</td>\n",
       "      <td>...</td>\n",
       "      <td>0.040883</td>\n",
       "      <td>-0.147759</td>\n",
       "      <td>-0.081663</td>\n",
       "      <td>0.175809</td>\n",
       "      <td>-0.179862</td>\n",
       "      <td>-0.103892</td>\n",
       "      <td>-0.083027</td>\n",
       "      <td>0.041758</td>\n",
       "      <td>-0.062513</td>\n",
       "      <td>-0.146248</td>\n",
       "    </tr>\n",
       "    <tr>\n",
       "      <th>creations.</th>\n",
       "      <td>-0.109143</td>\n",
       "      <td>-0.092902</td>\n",
       "      <td>0.071428</td>\n",
       "      <td>0.119144</td>\n",
       "      <td>0.099010</td>\n",
       "      <td>-0.034895</td>\n",
       "      <td>-0.027126</td>\n",
       "      <td>0.137142</td>\n",
       "      <td>-0.075449</td>\n",
       "      <td>0.113209</td>\n",
       "      <td>...</td>\n",
       "      <td>0.066475</td>\n",
       "      <td>-0.106676</td>\n",
       "      <td>0.051732</td>\n",
       "      <td>0.156502</td>\n",
       "      <td>-0.141626</td>\n",
       "      <td>-0.063374</td>\n",
       "      <td>0.065279</td>\n",
       "      <td>0.066100</td>\n",
       "      <td>-0.035157</td>\n",
       "      <td>-0.158180</td>\n",
       "    </tr>\n",
       "    <tr>\n",
       "      <th>1460.</th>\n",
       "      <td>-0.094995</td>\n",
       "      <td>-0.070279</td>\n",
       "      <td>0.066090</td>\n",
       "      <td>0.084880</td>\n",
       "      <td>0.052210</td>\n",
       "      <td>0.017494</td>\n",
       "      <td>-0.074641</td>\n",
       "      <td>0.108001</td>\n",
       "      <td>-0.067689</td>\n",
       "      <td>0.093782</td>\n",
       "      <td>...</td>\n",
       "      <td>-0.004407</td>\n",
       "      <td>-0.078786</td>\n",
       "      <td>-0.000902</td>\n",
       "      <td>0.093746</td>\n",
       "      <td>-0.108641</td>\n",
       "      <td>-0.069503</td>\n",
       "      <td>-0.098819</td>\n",
       "      <td>-0.015907</td>\n",
       "      <td>-0.024712</td>\n",
       "      <td>-0.113366</td>\n",
       "    </tr>\n",
       "    <tr>\n",
       "      <th>fall.1686</th>\n",
       "      <td>-0.096402</td>\n",
       "      <td>-0.085492</td>\n",
       "      <td>0.086875</td>\n",
       "      <td>0.075898</td>\n",
       "      <td>0.075720</td>\n",
       "      <td>-0.057442</td>\n",
       "      <td>0.032559</td>\n",
       "      <td>0.088519</td>\n",
       "      <td>-0.027268</td>\n",
       "      <td>0.089496</td>\n",
       "      <td>...</td>\n",
       "      <td>0.050593</td>\n",
       "      <td>-0.080766</td>\n",
       "      <td>0.079765</td>\n",
       "      <td>0.119520</td>\n",
       "      <td>-0.080242</td>\n",
       "      <td>-0.059337</td>\n",
       "      <td>0.141315</td>\n",
       "      <td>0.050399</td>\n",
       "      <td>0.024161</td>\n",
       "      <td>-0.110299</td>\n",
       "    </tr>\n",
       "    <tr>\n",
       "      <th>anadara</th>\n",
       "      <td>-0.019724</td>\n",
       "      <td>-0.012677</td>\n",
       "      <td>-0.001629</td>\n",
       "      <td>0.021183</td>\n",
       "      <td>0.010837</td>\n",
       "      <td>0.011889</td>\n",
       "      <td>-0.030629</td>\n",
       "      <td>0.066962</td>\n",
       "      <td>0.035860</td>\n",
       "      <td>-0.007896</td>\n",
       "      <td>...</td>\n",
       "      <td>-0.014851</td>\n",
       "      <td>-0.015006</td>\n",
       "      <td>-0.016097</td>\n",
       "      <td>0.063511</td>\n",
       "      <td>-0.017388</td>\n",
       "      <td>0.001573</td>\n",
       "      <td>0.024174</td>\n",
       "      <td>0.038337</td>\n",
       "      <td>-0.010984</td>\n",
       "      <td>-0.052863</td>\n",
       "    </tr>\n",
       "    <tr>\n",
       "      <th>lethargy</th>\n",
       "      <td>-0.128561</td>\n",
       "      <td>-0.143241</td>\n",
       "      <td>0.127834</td>\n",
       "      <td>0.149079</td>\n",
       "      <td>0.138668</td>\n",
       "      <td>-0.035084</td>\n",
       "      <td>0.017063</td>\n",
       "      <td>0.144646</td>\n",
       "      <td>-0.172593</td>\n",
       "      <td>0.135286</td>\n",
       "      <td>...</td>\n",
       "      <td>0.080168</td>\n",
       "      <td>-0.168433</td>\n",
       "      <td>0.037021</td>\n",
       "      <td>0.147300</td>\n",
       "      <td>-0.135660</td>\n",
       "      <td>-0.080200</td>\n",
       "      <td>0.061777</td>\n",
       "      <td>0.034012</td>\n",
       "      <td>0.064602</td>\n",
       "      <td>-0.148746</td>\n",
       "    </tr>\n",
       "  </tbody>\n",
       "</table>\n",
       "<p>20 rows × 25 columns</p>\n",
       "</div>"
      ],
      "text/plain": [
       "                     0         1         2         3         4         5   \\\n",
       "yavana        -0.044939 -0.095258 -0.097646  0.180051  0.155797 -0.285886   \n",
       "exquisite      0.015490 -0.183916  0.122078  0.182846 -0.101313 -0.044686   \n",
       "pratisrotas   -0.098649 -0.110395  0.056684  0.071223  0.065958 -0.041973   \n",
       "dlxviii       -0.121528 -0.103558  0.021556  0.148777  0.088002 -0.046783   \n",
       "abandoning     0.044545  0.167809 -0.262169 -0.176397  0.061550 -0.158869   \n",
       "thirsty       -0.041761  0.065411  0.354773 -0.024130 -0.004028  0.020350   \n",
       "1661.         -0.012340 -0.042875  0.020202  0.023086  0.016774 -0.040143   \n",
       "karambhas     -0.092690 -0.078799  0.077762  0.117036  0.090188  0.012267   \n",
       "yogis         -0.068003 -0.070920 -0.040563  0.052159  0.038820  0.019839   \n",
       "hereto        -0.106055 -0.070734  0.065577  0.132028  0.065903 -0.005411   \n",
       "clenching     -0.161375 -0.108246 -0.006997  0.122960  0.119866 -0.028375   \n",
       "simultaneity  -0.102594 -0.120223  0.079542  0.127986  0.062655 -0.061393   \n",
       "substitute    -0.008959  0.203360  0.083398 -0.105984 -0.035531 -0.148312   \n",
       "modifications -0.028619  0.004375 -0.276346 -0.069238  0.113540  0.019650   \n",
       "command.99    -0.145577 -0.114101  0.072441  0.127043  0.094914  0.018214   \n",
       "creations.    -0.109143 -0.092902  0.071428  0.119144  0.099010 -0.034895   \n",
       "1460.         -0.094995 -0.070279  0.066090  0.084880  0.052210  0.017494   \n",
       "fall.1686     -0.096402 -0.085492  0.086875  0.075898  0.075720 -0.057442   \n",
       "anadara       -0.019724 -0.012677 -0.001629  0.021183  0.010837  0.011889   \n",
       "lethargy      -0.128561 -0.143241  0.127834  0.149079  0.138668 -0.035084   \n",
       "\n",
       "                     6         7         8         9   ...        15  \\\n",
       "yavana         0.059299  0.037465 -0.097905  0.029441  ...  0.160152   \n",
       "exquisite      0.161934  0.073581 -0.185812  0.103931  ...  0.200986   \n",
       "pratisrotas   -0.008777  0.153775 -0.054653  0.132646  ...  0.042309   \n",
       "dlxviii       -0.112970  0.161060 -0.034530  0.165765  ... -0.043224   \n",
       "abandoning    -0.174720 -0.247173  0.126836 -0.296499  ... -0.032308   \n",
       "thirsty        0.389434 -0.065159  0.099365  0.099425  ...  0.151063   \n",
       "1661.          0.019340  0.027904 -0.000577  0.029923  ... -0.004301   \n",
       "karambhas     -0.082311  0.085237 -0.097816  0.098873  ...  0.016286   \n",
       "yogis          0.074766  0.139045 -0.030791  0.117465  ... -0.029618   \n",
       "hereto        -0.161460  0.196275 -0.074539  0.088667  ... -0.024514   \n",
       "clenching     -0.029784  0.146397 -0.076502  0.143654  ... -0.068227   \n",
       "simultaneity  -0.041015  0.152042 -0.070686  0.136233  ...  0.026966   \n",
       "substitute     0.297606  0.130342  0.187074  0.026637  ... -0.064728   \n",
       "modifications  0.262365  0.013518  0.035425 -0.152358  ...  0.074786   \n",
       "command.99    -0.126297  0.200819 -0.095980  0.108411  ...  0.040883   \n",
       "creations.    -0.027126  0.137142 -0.075449  0.113209  ...  0.066475   \n",
       "1460.         -0.074641  0.108001 -0.067689  0.093782  ... -0.004407   \n",
       "fall.1686      0.032559  0.088519 -0.027268  0.089496  ...  0.050593   \n",
       "anadara       -0.030629  0.066962  0.035860 -0.007896  ... -0.014851   \n",
       "lethargy       0.017063  0.144646 -0.172593  0.135286  ...  0.080168   \n",
       "\n",
       "                     16        17        18        19        20        21  \\\n",
       "yavana        -0.062681  0.117120  0.064040 -0.063518  0.027999  0.211050   \n",
       "exquisite     -0.018348  0.254180  0.063273 -0.041993  0.055287 -0.043401   \n",
       "pratisrotas   -0.102647  0.056865  0.154739 -0.124225 -0.100677 -0.025158   \n",
       "dlxviii       -0.087877  0.079167  0.172218 -0.117246 -0.105481 -0.099671   \n",
       "abandoning     0.075540  0.095868 -0.246085  0.372745  0.087675 -0.103422   \n",
       "thirsty        0.155451  0.116534 -0.082610  0.020003  0.081936 -0.147600   \n",
       "1661.         -0.006840  0.017760  0.038821 -0.006405 -0.040565  0.040636   \n",
       "karambhas     -0.100723 -0.056833  0.097675 -0.118214 -0.087055 -0.062048   \n",
       "yogis         -0.031111  0.092946  0.119906 -0.085155 -0.097439  0.101397   \n",
       "hereto        -0.092012 -0.032896  0.196904 -0.150236 -0.066463 -0.052547   \n",
       "clenching     -0.137518 -0.011639  0.144569 -0.134157 -0.111545 -0.059945   \n",
       "simultaneity  -0.093334  0.037286  0.122365 -0.150215 -0.086264 -0.047834   \n",
       "substitute     0.134046 -0.146325  0.180041 -0.183043 -0.049156 -0.028279   \n",
       "modifications  0.036561  0.194029  0.087859  0.142388  0.210287  0.084427   \n",
       "command.99    -0.147759 -0.081663  0.175809 -0.179862 -0.103892 -0.083027   \n",
       "creations.    -0.106676  0.051732  0.156502 -0.141626 -0.063374  0.065279   \n",
       "1460.         -0.078786 -0.000902  0.093746 -0.108641 -0.069503 -0.098819   \n",
       "fall.1686     -0.080766  0.079765  0.119520 -0.080242 -0.059337  0.141315   \n",
       "anadara       -0.015006 -0.016097  0.063511 -0.017388  0.001573  0.024174   \n",
       "lethargy      -0.168433  0.037021  0.147300 -0.135660 -0.080200  0.061777   \n",
       "\n",
       "                     22        23        24  \n",
       "yavana        -0.068955  0.048399 -0.102791  \n",
       "exquisite     -0.003465  0.192534 -0.074508  \n",
       "pratisrotas    0.035445  0.066316 -0.118231  \n",
       "dlxviii        0.021953  0.013451 -0.124036  \n",
       "abandoning    -0.135601  0.175592  0.288789  \n",
       "thirsty       -0.141729 -0.067208  0.133219  \n",
       "1661.         -0.000530  0.065142 -0.007408  \n",
       "karambhas     -0.013202  0.006834 -0.074448  \n",
       "yogis          0.040428 -0.051095 -0.157071  \n",
       "hereto         0.002552 -0.061027 -0.174543  \n",
       "clenching      0.032782 -0.018971 -0.132316  \n",
       "simultaneity   0.006858 -0.036416 -0.127707  \n",
       "substitute     0.258618  0.042683 -0.011846  \n",
       "modifications -0.018201 -0.093700 -0.039589  \n",
       "command.99     0.041758 -0.062513 -0.146248  \n",
       "creations.     0.066100 -0.035157 -0.158180  \n",
       "1460.         -0.015907 -0.024712 -0.113366  \n",
       "fall.1686      0.050399  0.024161 -0.110299  \n",
       "anadara        0.038337 -0.010984 -0.052863  \n",
       "lethargy       0.034012  0.064602 -0.148746  \n",
       "\n",
       "[20 rows x 25 columns]"
      ]
     },
     "execution_count": 26,
     "metadata": {},
     "output_type": "execute_result"
    }
   ],
   "source": [
    "df.sample(20)"
   ]
  },
  {
   "cell_type": "code",
   "execution_count": 27,
   "metadata": {
    "id": "5NkqOdiOwZGG"
   },
   "outputs": [],
   "source": [
    "df.to_csv('mb_golve.csv')"
   ]
  },
  {
   "cell_type": "markdown",
   "metadata": {
    "id": "MKfwjyBRTIlN"
   },
   "source": [
    "Save the dictionary to file and follow the same process as used in pre-trained model"
   ]
  }
 ],
 "metadata": {
  "accelerator": "GPU",
  "colab": {
   "collapsed_sections": [],
   "name": "GloVe_MB_Corpus.ipynb",
   "provenance": []
  },
  "kernelspec": {
   "display_name": "Python 3",
   "language": "python",
   "name": "python3"
  },
  "language_info": {
   "codemirror_mode": {
    "name": "ipython",
    "version": 3
   },
   "file_extension": ".py",
   "mimetype": "text/x-python",
   "name": "python",
   "nbconvert_exporter": "python",
   "pygments_lexer": "ipython3",
   "version": "3.8.3"
  }
 },
 "nbformat": 4,
 "nbformat_minor": 4
}
