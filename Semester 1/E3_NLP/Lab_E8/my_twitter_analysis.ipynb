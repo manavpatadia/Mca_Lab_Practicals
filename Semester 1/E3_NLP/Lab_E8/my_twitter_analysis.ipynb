{
 "cells": [
  {
   "cell_type": "code",
   "execution_count": 1,
   "id": "cad626ae",
   "metadata": {},
   "outputs": [],
   "source": [
    "import twitter_info\n",
    "import tweepy\n",
    "import time\n",
    "import json\n",
    "import pandas as pd\n",
    "from datetime import datetime"
   ]
  },
  {
   "cell_type": "code",
   "execution_count": 2,
   "id": "1f876666",
   "metadata": {},
   "outputs": [],
   "source": [
    "consumer_key = twitter_info.API_Key\n",
    "consumer_secret = twitter_info.API_Key_Secret\n",
    "access_token = twitter_info.Access_Token\n",
    "access_token_secret = twitter_info.Access_Token_Secret\n",
    "bearer_token = twitter_info.Bearer_Token"
   ]
  },
  {
   "cell_type": "code",
   "execution_count": 3,
   "id": "1d4d65c0",
   "metadata": {},
   "outputs": [],
   "source": [
    "client = tweepy.Client(bearer_token = bearer_token)\n",
    "auth = tweepy.OAuthHandler(consumer_key, consumer_secret)\n",
    "auth.set_access_token(access_token, access_token_secret)\n",
    "API = tweepy.API(auth)"
   ]
  },
  {
   "cell_type": "code",
   "execution_count": 4,
   "id": "ea48f21e",
   "metadata": {},
   "outputs": [],
   "source": [
    "#getting all last 7 days tweet\n",
    "tweet_list = []\n",
    "nextToken = \"\"\n",
    "while(True):\n",
    "    if(nextToken == \"\"):\n",
    "        tweets = client.search_recent_tweets(\"nlp lang:en -is:retweet\", max_results = 100)\n",
    "    else:\n",
    "        tweets = client.search_recent_tweets(\"nlp lang:en -is:retweet\", max_results = 100, next_token = nextToken)\n",
    "    if(len(tweets) > 3):\n",
    "        if(tweets[3].__contains__('next_token')):\n",
    "            nextToken = tweets[3]['next_token']\n",
    "            tweets_text = [t.text for t in tweets.data]\n",
    "            tweet_list.extend(tweets_text)\n",
    "            time.sleep(1)\n",
    "        else:\n",
    "            break\n",
    "    else:\n",
    "        break"
   ]
  },
  {
   "cell_type": "code",
   "execution_count": 5,
   "id": "952d5a44-4c70-41a6-9770-d20090f57884",
   "metadata": {},
   "outputs": [
    {
     "data": {
      "text/plain": [
       "5181"
      ]
     },
     "execution_count": 5,
     "metadata": {},
     "output_type": "execute_result"
    }
   ],
   "source": [
    "len(tweet_list)"
   ]
  },
  {
   "cell_type": "code",
   "execution_count": 10,
   "id": "c50613e2-a935-42ee-9010-42b6bad9c9ba",
   "metadata": {},
   "outputs": [
    {
     "data": {
      "text/plain": [
       "['\"Towards Afrocentric NLP for African Languages: Where We Are and Where We Can Go\",\\nIfe Adebara, Muhammad Abdul-Mage…\\nhttps://t.co/5PtwrKXBRA',\n",
       " '@reframing40proj do you know where the word reframing came from? I think it was NLP',\n",
       " \"When well-designed and properly implemented, #NLP engines can drive the speed and accuracy of medical coding, leading to better patient outcomes. To learn more about the benefits of NLP coding tools, read our Co-CEO, Sishir Reddy's recent article on @RWW. https://t.co/r6RLjJfkx1 https://t.co/Gb9jEQJNPK\",\n",
       " 'PKI for DevOps and DevOps for PKI?\\n\\nRead here to know about both: https://t.co/VeJFwheMXa \\n\\n#MachineLearning #NLP #Analytics #AI #DevOps #IoT #IIoT #Serverless #DataScience #Coding #BigData',\n",
       " 'yeah I work on nlp (got 100% in a class called “python for linguists” three years ago)']"
      ]
     },
     "execution_count": 10,
     "metadata": {},
     "output_type": "execute_result"
    }
   ],
   "source": [
    "tweet_list[:5]"
   ]
  },
  {
   "cell_type": "code",
   "execution_count": 15,
   "id": "b6775f81",
   "metadata": {},
   "outputs": [],
   "source": [
    "public_tweets = API.search_tweets(q=\"nlp lang:en -is:retweet\", count=5000, tweet_mode=\"extended\")"
   ]
  },
  {
   "cell_type": "code",
   "execution_count": 16,
   "id": "f4d8ae06-e3e0-4e26-ab1d-7f090f7ca424",
   "metadata": {},
   "outputs": [
    {
     "data": {
      "text/plain": [
       "91"
      ]
     },
     "execution_count": 16,
     "metadata": {},
     "output_type": "execute_result"
    }
   ],
   "source": [
    "len(public_tweets)"
   ]
  },
  {
   "cell_type": "code",
   "execution_count": 17,
   "id": "3913bf74-7dcf-4e05-a21b-4e5b88384451",
   "metadata": {},
   "outputs": [],
   "source": [
    "#public_tweets[0]"
   ]
  },
  {
   "cell_type": "code",
   "execution_count": 18,
   "id": "897ab7c9-453e-49e2-a0e7-88d877e067f4",
   "metadata": {},
   "outputs": [
    {
     "data": {
      "text/plain": [
       "tweepy.models.Status"
      ]
     },
     "execution_count": 18,
     "metadata": {},
     "output_type": "execute_result"
    }
   ],
   "source": [
    "type(public_tweets[20])"
   ]
  },
  {
   "cell_type": "code",
   "execution_count": 19,
   "id": "6c46a8d8-4ca4-485f-a524-eefbff34b728",
   "metadata": {},
   "outputs": [],
   "source": [
    "tweets_response = []\n",
    "tweet_dict = None\n",
    "for response in public_tweets:\n",
    "    hashtags = [h['text'] for h in response.entities['hashtags']]\n",
    "    tweets_response.append([response.full_text, response.user.name, response.user.screen_name, response.user.location, \n",
    "                            response.user.created_at, response._json['retweet_count'], response._json['favorite_count'], hashtags])\n",
    "    tweet_dict = response._json"
   ]
  },
  {
   "cell_type": "code",
   "execution_count": 21,
   "id": "d710d87c-fb61-477d-9d1f-713d54d96502",
   "metadata": {},
   "outputs": [
    {
     "data": {
      "text/plain": [
       "['RT @Paula_Piccard: Will artificial intelligence tell us how animals communicate?\\n\\nhttps://t.co/Zh6hdtDAcy\\n\\n#MachineLearning\\xa0#AI\\xa0#Python\\xa0#Da…',\n",
       " 'Bob',\n",
       " 'Bob_gamedev',\n",
       " '',\n",
       " datetime.datetime(2020, 11, 12, 22, 30, 42, tzinfo=datetime.timezone.utc),\n",
       " 12,\n",
       " 0,\n",
       " ['MachineLearning', 'AI', 'Python']]"
      ]
     },
     "execution_count": 21,
     "metadata": {},
     "output_type": "execute_result"
    }
   ],
   "source": [
    "tweets_response[-1]"
   ]
  },
  {
   "cell_type": "code",
   "execution_count": 10,
   "id": "ad61cd06-994c-4cd0-9845-3dee5e87696b",
   "metadata": {},
   "outputs": [
    {
     "data": {
      "text/plain": [
       "{'created_at': 'Thu Mar 24 13:25:09 +0000 2022',\n",
       " 'id': 1506985473478217728,\n",
       " 'id_str': '1506985473478217728',\n",
       " 'full_text': 'RT @proxem: Learn how Dassault Systèmes can generate value and actionable insights from your multilingual &amp; multisource data with the AI-po…',\n",
       " 'truncated': False,\n",
       " 'display_text_range': [0, 144],\n",
       " 'entities': {'hashtags': [],\n",
       "  'symbols': [],\n",
       "  'user_mentions': [{'screen_name': 'proxem',\n",
       "    'name': 'Proxem',\n",
       "    'id': 80933705,\n",
       "    'id_str': '80933705',\n",
       "    'indices': [3, 10]}],\n",
       "  'urls': []},\n",
       " 'metadata': {'iso_language_code': 'en', 'result_type': 'recent'},\n",
       " 'source': '<a href=\"https://mobile.twitter.com\" rel=\"nofollow\">Twitter Web App</a>',\n",
       " 'in_reply_to_status_id': None,\n",
       " 'in_reply_to_status_id_str': None,\n",
       " 'in_reply_to_user_id': None,\n",
       " 'in_reply_to_user_id_str': None,\n",
       " 'in_reply_to_screen_name': None,\n",
       " 'user': {'id': 839509671652245505,\n",
       "  'id_str': '839509671652245505',\n",
       "  'name': 'Kelly Stone',\n",
       "  'screen_name': 'KellyVStone',\n",
       "  'location': 'Paris, France',\n",
       "  'description': '',\n",
       "  'url': 'https://t.co/FpTiGAHFzZ',\n",
       "  'entities': {'url': {'urls': [{'url': 'https://t.co/FpTiGAHFzZ',\n",
       "      'expanded_url': 'http://www.proxem.com',\n",
       "      'display_url': 'proxem.com',\n",
       "      'indices': [0, 23]}]},\n",
       "   'description': {'urls': []}},\n",
       "  'protected': False,\n",
       "  'followers_count': 24,\n",
       "  'friends_count': 123,\n",
       "  'listed_count': 2,\n",
       "  'created_at': 'Wed Mar 08 16:14:37 +0000 2017',\n",
       "  'favourites_count': 252,\n",
       "  'utc_offset': None,\n",
       "  'time_zone': None,\n",
       "  'geo_enabled': False,\n",
       "  'verified': False,\n",
       "  'statuses_count': 373,\n",
       "  'lang': None,\n",
       "  'contributors_enabled': False,\n",
       "  'is_translator': False,\n",
       "  'is_translation_enabled': False,\n",
       "  'profile_background_color': '000000',\n",
       "  'profile_background_image_url': 'http://abs.twimg.com/images/themes/theme1/bg.png',\n",
       "  'profile_background_image_url_https': 'https://abs.twimg.com/images/themes/theme1/bg.png',\n",
       "  'profile_background_tile': False,\n",
       "  'profile_image_url': 'http://pbs.twimg.com/profile_images/1002212355407843329/2dXIw-P1_normal.jpg',\n",
       "  'profile_image_url_https': 'https://pbs.twimg.com/profile_images/1002212355407843329/2dXIw-P1_normal.jpg',\n",
       "  'profile_banner_url': 'https://pbs.twimg.com/profile_banners/839509671652245505/1527780813',\n",
       "  'profile_link_color': '981CEB',\n",
       "  'profile_sidebar_border_color': '000000',\n",
       "  'profile_sidebar_fill_color': '000000',\n",
       "  'profile_text_color': '000000',\n",
       "  'profile_use_background_image': False,\n",
       "  'has_extended_profile': False,\n",
       "  'default_profile': False,\n",
       "  'default_profile_image': False,\n",
       "  'following': False,\n",
       "  'follow_request_sent': False,\n",
       "  'notifications': False,\n",
       "  'translator_type': 'none',\n",
       "  'withheld_in_countries': []},\n",
       " 'geo': None,\n",
       " 'coordinates': None,\n",
       " 'place': None,\n",
       " 'contributors': None,\n",
       " 'retweeted_status': {'created_at': 'Tue Feb 15 07:21:30 +0000 2022',\n",
       "  'id': 1493485604293730305,\n",
       "  'id_str': '1493485604293730305',\n",
       "  'full_text': 'Learn how Dassault Systèmes can generate value and actionable insights from your multilingual &amp; multisource data with the AI-powered of Proxem Studio Text Analytics. Sign up for the Webinar presented by @KellyVStone on March 1➡️ https://t.co/nO1EceLQ5N \\n\\n#3DS #AI #NETVIBES #NLP https://t.co/FSU1KHAYvV',\n",
       "  'truncated': False,\n",
       "  'display_text_range': [0, 282],\n",
       "  'entities': {'hashtags': [{'text': '3DS', 'indices': [259, 263]},\n",
       "    {'text': 'AI', 'indices': [264, 267]},\n",
       "    {'text': 'NETVIBES', 'indices': [268, 277]},\n",
       "    {'text': 'NLP', 'indices': [278, 282]}],\n",
       "   'symbols': [],\n",
       "   'user_mentions': [{'screen_name': 'KellyVStone',\n",
       "     'name': 'Kelly Stone',\n",
       "     'id': 839509671652245505,\n",
       "     'id_str': '839509671652245505',\n",
       "     'indices': [207, 219]}],\n",
       "   'urls': [{'url': 'https://t.co/nO1EceLQ5N',\n",
       "     'expanded_url': 'https://events.3ds.com/ai-powered-text-analytics',\n",
       "     'display_url': 'events.3ds.com/ai-powered-tex…',\n",
       "     'indices': [233, 256]}],\n",
       "   'media': [{'id': 1493485429399642112,\n",
       "     'id_str': '1493485429399642112',\n",
       "     'indices': [283, 306],\n",
       "     'media_url': 'http://pbs.twimg.com/media/FLntFdCWYAAqgFI.jpg',\n",
       "     'media_url_https': 'https://pbs.twimg.com/media/FLntFdCWYAAqgFI.jpg',\n",
       "     'url': 'https://t.co/FSU1KHAYvV',\n",
       "     'display_url': 'pic.twitter.com/FSU1KHAYvV',\n",
       "     'expanded_url': 'https://twitter.com/proxem/status/1493485604293730305/photo/1',\n",
       "     'type': 'photo',\n",
       "     'sizes': {'thumb': {'w': 150, 'h': 150, 'resize': 'crop'},\n",
       "      'small': {'w': 680, 'h': 340, 'resize': 'fit'},\n",
       "      'large': {'w': 1280, 'h': 640, 'resize': 'fit'},\n",
       "      'medium': {'w': 1200, 'h': 600, 'resize': 'fit'}}}]},\n",
       "  'extended_entities': {'media': [{'id': 1493485429399642112,\n",
       "     'id_str': '1493485429399642112',\n",
       "     'indices': [283, 306],\n",
       "     'media_url': 'http://pbs.twimg.com/media/FLntFdCWYAAqgFI.jpg',\n",
       "     'media_url_https': 'https://pbs.twimg.com/media/FLntFdCWYAAqgFI.jpg',\n",
       "     'url': 'https://t.co/FSU1KHAYvV',\n",
       "     'display_url': 'pic.twitter.com/FSU1KHAYvV',\n",
       "     'expanded_url': 'https://twitter.com/proxem/status/1493485604293730305/photo/1',\n",
       "     'type': 'photo',\n",
       "     'sizes': {'thumb': {'w': 150, 'h': 150, 'resize': 'crop'},\n",
       "      'small': {'w': 680, 'h': 340, 'resize': 'fit'},\n",
       "      'large': {'w': 1280, 'h': 640, 'resize': 'fit'},\n",
       "      'medium': {'w': 1200, 'h': 600, 'resize': 'fit'}}}]},\n",
       "  'metadata': {'iso_language_code': 'en', 'result_type': 'recent'},\n",
       "  'source': '<a href=\"https://mobile.twitter.com\" rel=\"nofollow\">Twitter Web App</a>',\n",
       "  'in_reply_to_status_id': None,\n",
       "  'in_reply_to_status_id_str': None,\n",
       "  'in_reply_to_user_id': None,\n",
       "  'in_reply_to_user_id_str': None,\n",
       "  'in_reply_to_screen_name': None,\n",
       "  'user': {'id': 80933705,\n",
       "   'id_str': '80933705',\n",
       "   'name': 'Proxem',\n",
       "   'screen_name': 'proxem',\n",
       "   'location': 'Paris, France',\n",
       "   'description': '#PROXEM Joins Dassault Systèmes - #NETVIBES, which provides PROXEM STUDIO, the NLP and AI-powered Text Analytics Platform, to improve Experiences.',\n",
       "   'url': 'https://t.co/ib1i0oN6Z4',\n",
       "   'entities': {'url': {'urls': [{'url': 'https://t.co/ib1i0oN6Z4',\n",
       "       'expanded_url': 'https://www.3ds.com/products-services/netvibes/products/proxem/',\n",
       "       'display_url': '3ds.com/products-servi…',\n",
       "       'indices': [0, 23]}]},\n",
       "    'description': {'urls': []}},\n",
       "   'protected': False,\n",
       "   'followers_count': 1162,\n",
       "   'friends_count': 517,\n",
       "   'listed_count': 111,\n",
       "   'created_at': 'Thu Oct 08 20:20:21 +0000 2009',\n",
       "   'favourites_count': 1248,\n",
       "   'utc_offset': None,\n",
       "   'time_zone': None,\n",
       "   'geo_enabled': True,\n",
       "   'verified': False,\n",
       "   'statuses_count': 2772,\n",
       "   'lang': None,\n",
       "   'contributors_enabled': False,\n",
       "   'is_translator': False,\n",
       "   'is_translation_enabled': False,\n",
       "   'profile_background_color': '800507',\n",
       "   'profile_background_image_url': 'http://abs.twimg.com/images/themes/theme1/bg.png',\n",
       "   'profile_background_image_url_https': 'https://abs.twimg.com/images/themes/theme1/bg.png',\n",
       "   'profile_background_tile': False,\n",
       "   'profile_image_url': 'http://pbs.twimg.com/profile_images/806082204761726980/Mv1TFIct_normal.jpg',\n",
       "   'profile_image_url_https': 'https://pbs.twimg.com/profile_images/806082204761726980/Mv1TFIct_normal.jpg',\n",
       "   'profile_banner_url': 'https://pbs.twimg.com/profile_banners/80933705/1538570707',\n",
       "   'profile_link_color': '3D3379',\n",
       "   'profile_sidebar_border_color': 'FFFFFF',\n",
       "   'profile_sidebar_fill_color': 'DDEEF6',\n",
       "   'profile_text_color': '333333',\n",
       "   'profile_use_background_image': True,\n",
       "   'has_extended_profile': False,\n",
       "   'default_profile': False,\n",
       "   'default_profile_image': False,\n",
       "   'following': False,\n",
       "   'follow_request_sent': False,\n",
       "   'notifications': False,\n",
       "   'translator_type': 'none',\n",
       "   'withheld_in_countries': []},\n",
       "  'geo': None,\n",
       "  'coordinates': None,\n",
       "  'place': None,\n",
       "  'contributors': None,\n",
       "  'is_quote_status': False,\n",
       "  'retweet_count': 2,\n",
       "  'favorite_count': 1,\n",
       "  'favorited': False,\n",
       "  'retweeted': False,\n",
       "  'possibly_sensitive': False,\n",
       "  'lang': 'en'},\n",
       " 'is_quote_status': False,\n",
       " 'retweet_count': 2,\n",
       " 'favorite_count': 0,\n",
       " 'favorited': False,\n",
       " 'retweeted': False,\n",
       " 'lang': 'en'}"
      ]
     },
     "execution_count": 10,
     "metadata": {},
     "output_type": "execute_result"
    }
   ],
   "source": [
    "tweet_dict"
   ]
  },
  {
   "cell_type": "code",
   "execution_count": 13,
   "id": "6d6e5d89-52a5-4125-8ff2-ed0ebf75482c",
   "metadata": {},
   "outputs": [
    {
     "data": {
      "text/plain": [
       "dict_keys(['created_at', 'id', 'id_str', 'full_text', 'truncated', 'display_text_range', 'entities', 'metadata', 'source', 'in_reply_to_status_id', 'in_reply_to_status_id_str', 'in_reply_to_user_id', 'in_reply_to_user_id_str', 'in_reply_to_screen_name', 'user', 'geo', 'coordinates', 'place', 'contributors', 'retweeted_status', 'is_quote_status', 'retweet_count', 'favorite_count', 'favorited', 'retweeted', 'possibly_sensitive', 'lang'])"
      ]
     },
     "execution_count": 13,
     "metadata": {},
     "output_type": "execute_result"
    }
   ],
   "source": [
    "tweet_dict.keys()"
   ]
  },
  {
   "cell_type": "code",
   "execution_count": 38,
   "id": "d62aaecb-c914-4b95-a5ab-4b252394df84",
   "metadata": {},
   "outputs": [],
   "source": [
    "def process_response():\n",
    "    global tweets_response_list\n",
    "    tweets_response_list = []\n",
    "    count = 1\n",
    "    query = \"nlp lang:en -is:retweet\"\n",
    "    for response in tweepy.Cursor(API.search_tweets, q=query, tweet_mode=\"extended\").items():\n",
    "        hashtags = [h['text'] for h in response.entities['hashtags']]\n",
    "        tweets_response_list.append([response.id_str, response.full_text, response.user.name, response.user.screen_name, response.user.location, \n",
    "                                     response.user.created_at, response._json['retweet_count'], response._json['favorite_count'], hashtags])\n",
    "        count = count + 1\n",
    "        if(len(tweets_response_list) % 100 == 0):\n",
    "            print(count, end =\" \")\n",
    "        if(len(tweets_response_list) % 2500 == 0):\n",
    "            print(\"Sleeping for 16 minutes\")\n",
    "            time.sleep(960)"
   ]
  },
  {
   "cell_type": "code",
   "execution_count": 39,
   "id": "4d64e0e0-bafe-42fc-9fdb-f88dcd770908",
   "metadata": {},
   "outputs": [
    {
     "name": "stdout",
     "output_type": "stream",
     "text": [
      "101 201 301 401 501 601 701 801 901 1001 1101 1201 1301 1401 1501 1601 1701 1801 1901 2001 2101 2201 2301 2401 2501 Sleeping for 15 minutes\n",
      "2601 2701 2801 2901 3001 3101 3201 3301 3401 3501 3601 3701 3801 3901 4001 4101 4201 4301 4401 4501 4601 4701 4801 4901 5001 Sleeping for 15 minutes\n",
      "5101 5201 5301 5401 5501 5601 5701 5801 5901 6001 6101 6201 6301 6401 6501 6601 6701 6801 6901 7001 7101 7201 7301 7401 7501 Sleeping for 15 minutes\n",
      "7601 7701 7801 7901 8001 8101 8201 8301 8401 8501 8601 8701 8801 8901 9001 9101 9201 9301 9401 9501 9601 9701 9801 9901 10001 Sleeping for 15 minutes\n"
     ]
    },
    {
     "ename": "KeyboardInterrupt",
     "evalue": "",
     "output_type": "error",
     "traceback": [
      "\u001b[1;31m---------------------------------------------------------------------------\u001b[0m",
      "\u001b[1;31mKeyboardInterrupt\u001b[0m                         Traceback (most recent call last)",
      "\u001b[1;32m<ipython-input-39-479bf4e714f2>\u001b[0m in \u001b[0;36m<module>\u001b[1;34m\u001b[0m\n\u001b[0;32m      1\u001b[0m \u001b[1;32mtry\u001b[0m\u001b[1;33m:\u001b[0m\u001b[1;33m\u001b[0m\u001b[1;33m\u001b[0m\u001b[0m\n\u001b[1;32m----> 2\u001b[1;33m     \u001b[0mprocess_response\u001b[0m\u001b[1;33m(\u001b[0m\u001b[1;33m)\u001b[0m\u001b[1;33m\u001b[0m\u001b[1;33m\u001b[0m\u001b[0m\n\u001b[0m\u001b[0;32m      3\u001b[0m \u001b[1;32mexcept\u001b[0m \u001b[0mException\u001b[0m \u001b[1;32mas\u001b[0m \u001b[0me\u001b[0m\u001b[1;33m:\u001b[0m\u001b[1;33m\u001b[0m\u001b[1;33m\u001b[0m\u001b[0m\n\u001b[0;32m      4\u001b[0m     \u001b[0mprint\u001b[0m\u001b[1;33m(\u001b[0m\u001b[0me\u001b[0m\u001b[1;33m)\u001b[0m\u001b[1;33m\u001b[0m\u001b[1;33m\u001b[0m\u001b[0m\n",
      "\u001b[1;32m<ipython-input-38-3684d85426d0>\u001b[0m in \u001b[0;36mprocess_response\u001b[1;34m()\u001b[0m\n\u001b[0;32m     13\u001b[0m         \u001b[1;32mif\u001b[0m\u001b[1;33m(\u001b[0m\u001b[0mlen\u001b[0m\u001b[1;33m(\u001b[0m\u001b[0mtweets_response_list\u001b[0m\u001b[1;33m)\u001b[0m \u001b[1;33m%\u001b[0m \u001b[1;36m2500\u001b[0m \u001b[1;33m==\u001b[0m \u001b[1;36m0\u001b[0m\u001b[1;33m)\u001b[0m\u001b[1;33m:\u001b[0m\u001b[1;33m\u001b[0m\u001b[1;33m\u001b[0m\u001b[0m\n\u001b[0;32m     14\u001b[0m             \u001b[0mprint\u001b[0m\u001b[1;33m(\u001b[0m\u001b[1;34m\"Sleeping for 15 minutes\"\u001b[0m\u001b[1;33m)\u001b[0m\u001b[1;33m\u001b[0m\u001b[1;33m\u001b[0m\u001b[0m\n\u001b[1;32m---> 15\u001b[1;33m             \u001b[0mtime\u001b[0m\u001b[1;33m.\u001b[0m\u001b[0msleep\u001b[0m\u001b[1;33m(\u001b[0m\u001b[1;36m900\u001b[0m\u001b[1;33m)\u001b[0m\u001b[1;33m\u001b[0m\u001b[1;33m\u001b[0m\u001b[0m\n\u001b[0m",
      "\u001b[1;31mKeyboardInterrupt\u001b[0m: "
     ]
    }
   ],
   "source": [
    "try:\n",
    "    process_response()\n",
    "except Exception as e:\n",
    "    print(e)"
   ]
  },
  {
   "cell_type": "code",
   "execution_count": 33,
   "id": "b566a9b8-297f-4068-808d-5752310598fb",
   "metadata": {},
   "outputs": [],
   "source": [
    "df = pd.DataFrame(tweets_response_list, columns = ['id_str', 'full_text', 'user_name', 'user_screen_name', 'created_at', 'retweet_count', 'favorite_count', 'hashtags'])"
   ]
  },
  {
   "cell_type": "code",
   "execution_count": 37,
   "id": "13e88533-8416-4623-9cb1-15e4693dbe9f",
   "metadata": {},
   "outputs": [
    {
     "data": {
      "text/plain": [
       "850"
      ]
     },
     "execution_count": 37,
     "metadata": {},
     "output_type": "execute_result"
    }
   ],
   "source": [
    "len(df['user_name'].unique())"
   ]
  },
  {
   "cell_type": "code",
   "execution_count": 28,
   "id": "47139864-a89d-4ecd-81a5-635ba4c307f5",
   "metadata": {},
   "outputs": [],
   "source": [
    "s = str(datetime.now())\n",
    "s = s[:16].replace(\" \", \"_\").replace(\":\",\"\")\n",
    "df.to_csv(\"output/nlp_tweet_\"+s+\".csv\")"
   ]
  },
  {
   "cell_type": "code",
   "execution_count": 27,
   "id": "f9bf3a79-68f7-4db6-82c1-86878ff2956e",
   "metadata": {},
   "outputs": [
    {
     "name": "stdout",
     "output_type": "stream",
     "text": [
      "2022-03-18_0317\n"
     ]
    }
   ],
   "source": []
  },
  {
   "cell_type": "code",
   "execution_count": null,
   "id": "5e9fbe9c-ae11-4c64-81a6-0f44a9f880f3",
   "metadata": {},
   "outputs": [],
   "source": []
  }
 ],
 "metadata": {
  "kernelspec": {
   "display_name": "Python 3",
   "language": "python",
   "name": "python3"
  },
  "language_info": {
   "codemirror_mode": {
    "name": "ipython",
    "version": 3
   },
   "file_extension": ".py",
   "mimetype": "text/x-python",
   "name": "python",
   "nbconvert_exporter": "python",
   "pygments_lexer": "ipython3",
   "version": "3.8.3"
  }
 },
 "nbformat": 4,
 "nbformat_minor": 5
}
